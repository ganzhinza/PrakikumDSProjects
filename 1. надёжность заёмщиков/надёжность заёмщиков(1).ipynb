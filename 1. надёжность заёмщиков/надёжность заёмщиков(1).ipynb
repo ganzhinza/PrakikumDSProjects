{
 "cells": [
  {
   "cell_type": "markdown",
   "metadata": {},
   "source": [
    "# Исследование надёжности заёмщиков\n",
    "\n",
    "Заказчик — кредитный отдел банка. Нужно разобраться, влияет ли семейное положение и количество детей клиента на факт погашения кредита в срок. Входные данные от банка — статистика о платёжеспособности клиентов.\n",
    "\n",
    "Результаты исследования будут учтены при построении модели **кредитного скоринга** — специальной системы, которая оценивает способность потенциального заёмщика вернуть кредит банку."
   ]
  },
  {
   "cell_type": "markdown",
   "metadata": {},
   "source": [
    "## Шаг 1. Откройте файл с данными и изучите общую информацию"
   ]
  },
  {
   "cell_type": "code",
   "execution_count": 1,
   "metadata": {},
   "outputs": [
    {
     "name": "stdout",
     "output_type": "stream",
     "text": [
      "<class 'pandas.core.frame.DataFrame'>\n",
      "RangeIndex: 21525 entries, 0 to 21524\n",
      "Data columns (total 12 columns):\n",
      "children            21525 non-null int64\n",
      "days_employed       19351 non-null float64\n",
      "dob_years           21525 non-null int64\n",
      "education           21525 non-null object\n",
      "education_id        21525 non-null int64\n",
      "family_status       21525 non-null object\n",
      "family_status_id    21525 non-null int64\n",
      "gender              21525 non-null object\n",
      "income_type         21525 non-null object\n",
      "debt                21525 non-null int64\n",
      "total_income        19351 non-null float64\n",
      "purpose             21525 non-null object\n",
      "dtypes: float64(2), int64(5), object(5)\n",
      "memory usage: 2.0+ MB\n"
     ]
    }
   ],
   "source": [
    "import pandas as pd\n",
    "data = pd.read_csv('/datasets/data.csv')\n",
    "data.info()"
   ]
  },
  {
   "cell_type": "markdown",
   "metadata": {},
   "source": [
    "*Есть незаополненные данные в столбцах 'days_imployed' и 'total_income'. Если между этими пропусками есть связь, то скорее всего это не случайные пропуски*"
   ]
  },
  {
   "cell_type": "code",
   "execution_count": 2,
   "metadata": {},
   "outputs": [
    {
     "data": {
      "text/html": [
       "<div>\n",
       "<style scoped>\n",
       "    .dataframe tbody tr th:only-of-type {\n",
       "        vertical-align: middle;\n",
       "    }\n",
       "\n",
       "    .dataframe tbody tr th {\n",
       "        vertical-align: top;\n",
       "    }\n",
       "\n",
       "    .dataframe thead th {\n",
       "        text-align: right;\n",
       "    }\n",
       "</style>\n",
       "<table border=\"1\" class=\"dataframe\">\n",
       "  <thead>\n",
       "    <tr style=\"text-align: right;\">\n",
       "      <th></th>\n",
       "      <th>children</th>\n",
       "      <th>days_employed</th>\n",
       "      <th>dob_years</th>\n",
       "      <th>education</th>\n",
       "      <th>education_id</th>\n",
       "      <th>family_status</th>\n",
       "      <th>family_status_id</th>\n",
       "      <th>gender</th>\n",
       "      <th>income_type</th>\n",
       "      <th>debt</th>\n",
       "      <th>total_income</th>\n",
       "      <th>purpose</th>\n",
       "    </tr>\n",
       "  </thead>\n",
       "  <tbody>\n",
       "    <tr>\n",
       "      <td>12</td>\n",
       "      <td>0</td>\n",
       "      <td>NaN</td>\n",
       "      <td>65</td>\n",
       "      <td>среднее</td>\n",
       "      <td>1</td>\n",
       "      <td>гражданский брак</td>\n",
       "      <td>1</td>\n",
       "      <td>M</td>\n",
       "      <td>пенсионер</td>\n",
       "      <td>0</td>\n",
       "      <td>NaN</td>\n",
       "      <td>сыграть свадьбу</td>\n",
       "    </tr>\n",
       "    <tr>\n",
       "      <td>26</td>\n",
       "      <td>0</td>\n",
       "      <td>NaN</td>\n",
       "      <td>41</td>\n",
       "      <td>среднее</td>\n",
       "      <td>1</td>\n",
       "      <td>женат / замужем</td>\n",
       "      <td>0</td>\n",
       "      <td>M</td>\n",
       "      <td>госслужащий</td>\n",
       "      <td>0</td>\n",
       "      <td>NaN</td>\n",
       "      <td>образование</td>\n",
       "    </tr>\n",
       "    <tr>\n",
       "      <td>29</td>\n",
       "      <td>0</td>\n",
       "      <td>NaN</td>\n",
       "      <td>63</td>\n",
       "      <td>среднее</td>\n",
       "      <td>1</td>\n",
       "      <td>Не женат / не замужем</td>\n",
       "      <td>4</td>\n",
       "      <td>F</td>\n",
       "      <td>пенсионер</td>\n",
       "      <td>0</td>\n",
       "      <td>NaN</td>\n",
       "      <td>строительство жилой недвижимости</td>\n",
       "    </tr>\n",
       "    <tr>\n",
       "      <td>41</td>\n",
       "      <td>0</td>\n",
       "      <td>NaN</td>\n",
       "      <td>50</td>\n",
       "      <td>среднее</td>\n",
       "      <td>1</td>\n",
       "      <td>женат / замужем</td>\n",
       "      <td>0</td>\n",
       "      <td>F</td>\n",
       "      <td>госслужащий</td>\n",
       "      <td>0</td>\n",
       "      <td>NaN</td>\n",
       "      <td>сделка с подержанным автомобилем</td>\n",
       "    </tr>\n",
       "    <tr>\n",
       "      <td>55</td>\n",
       "      <td>0</td>\n",
       "      <td>NaN</td>\n",
       "      <td>54</td>\n",
       "      <td>среднее</td>\n",
       "      <td>1</td>\n",
       "      <td>гражданский брак</td>\n",
       "      <td>1</td>\n",
       "      <td>F</td>\n",
       "      <td>пенсионер</td>\n",
       "      <td>1</td>\n",
       "      <td>NaN</td>\n",
       "      <td>сыграть свадьбу</td>\n",
       "    </tr>\n",
       "    <tr>\n",
       "      <td>...</td>\n",
       "      <td>...</td>\n",
       "      <td>...</td>\n",
       "      <td>...</td>\n",
       "      <td>...</td>\n",
       "      <td>...</td>\n",
       "      <td>...</td>\n",
       "      <td>...</td>\n",
       "      <td>...</td>\n",
       "      <td>...</td>\n",
       "      <td>...</td>\n",
       "      <td>...</td>\n",
       "      <td>...</td>\n",
       "    </tr>\n",
       "    <tr>\n",
       "      <td>21489</td>\n",
       "      <td>2</td>\n",
       "      <td>NaN</td>\n",
       "      <td>47</td>\n",
       "      <td>Среднее</td>\n",
       "      <td>1</td>\n",
       "      <td>женат / замужем</td>\n",
       "      <td>0</td>\n",
       "      <td>M</td>\n",
       "      <td>компаньон</td>\n",
       "      <td>0</td>\n",
       "      <td>NaN</td>\n",
       "      <td>сделка с автомобилем</td>\n",
       "    </tr>\n",
       "    <tr>\n",
       "      <td>21495</td>\n",
       "      <td>1</td>\n",
       "      <td>NaN</td>\n",
       "      <td>50</td>\n",
       "      <td>среднее</td>\n",
       "      <td>1</td>\n",
       "      <td>гражданский брак</td>\n",
       "      <td>1</td>\n",
       "      <td>F</td>\n",
       "      <td>сотрудник</td>\n",
       "      <td>0</td>\n",
       "      <td>NaN</td>\n",
       "      <td>свадьба</td>\n",
       "    </tr>\n",
       "    <tr>\n",
       "      <td>21497</td>\n",
       "      <td>0</td>\n",
       "      <td>NaN</td>\n",
       "      <td>48</td>\n",
       "      <td>ВЫСШЕЕ</td>\n",
       "      <td>0</td>\n",
       "      <td>женат / замужем</td>\n",
       "      <td>0</td>\n",
       "      <td>F</td>\n",
       "      <td>компаньон</td>\n",
       "      <td>0</td>\n",
       "      <td>NaN</td>\n",
       "      <td>строительство недвижимости</td>\n",
       "    </tr>\n",
       "    <tr>\n",
       "      <td>21502</td>\n",
       "      <td>1</td>\n",
       "      <td>NaN</td>\n",
       "      <td>42</td>\n",
       "      <td>среднее</td>\n",
       "      <td>1</td>\n",
       "      <td>женат / замужем</td>\n",
       "      <td>0</td>\n",
       "      <td>F</td>\n",
       "      <td>сотрудник</td>\n",
       "      <td>0</td>\n",
       "      <td>NaN</td>\n",
       "      <td>строительство жилой недвижимости</td>\n",
       "    </tr>\n",
       "    <tr>\n",
       "      <td>21510</td>\n",
       "      <td>2</td>\n",
       "      <td>NaN</td>\n",
       "      <td>28</td>\n",
       "      <td>среднее</td>\n",
       "      <td>1</td>\n",
       "      <td>женат / замужем</td>\n",
       "      <td>0</td>\n",
       "      <td>F</td>\n",
       "      <td>сотрудник</td>\n",
       "      <td>0</td>\n",
       "      <td>NaN</td>\n",
       "      <td>приобретение автомобиля</td>\n",
       "    </tr>\n",
       "  </tbody>\n",
       "</table>\n",
       "<p>2174 rows × 12 columns</p>\n",
       "</div>"
      ],
      "text/plain": [
       "       children  days_employed  dob_years education  education_id  \\\n",
       "12            0            NaN         65   среднее             1   \n",
       "26            0            NaN         41   среднее             1   \n",
       "29            0            NaN         63   среднее             1   \n",
       "41            0            NaN         50   среднее             1   \n",
       "55            0            NaN         54   среднее             1   \n",
       "...         ...            ...        ...       ...           ...   \n",
       "21489         2            NaN         47   Среднее             1   \n",
       "21495         1            NaN         50   среднее             1   \n",
       "21497         0            NaN         48    ВЫСШЕЕ             0   \n",
       "21502         1            NaN         42   среднее             1   \n",
       "21510         2            NaN         28   среднее             1   \n",
       "\n",
       "               family_status  family_status_id gender  income_type  debt  \\\n",
       "12          гражданский брак                 1      M    пенсионер     0   \n",
       "26           женат / замужем                 0      M  госслужащий     0   \n",
       "29     Не женат / не замужем                 4      F    пенсионер     0   \n",
       "41           женат / замужем                 0      F  госслужащий     0   \n",
       "55          гражданский брак                 1      F    пенсионер     1   \n",
       "...                      ...               ...    ...          ...   ...   \n",
       "21489        женат / замужем                 0      M    компаньон     0   \n",
       "21495       гражданский брак                 1      F    сотрудник     0   \n",
       "21497        женат / замужем                 0      F    компаньон     0   \n",
       "21502        женат / замужем                 0      F    сотрудник     0   \n",
       "21510        женат / замужем                 0      F    сотрудник     0   \n",
       "\n",
       "       total_income                           purpose  \n",
       "12              NaN                   сыграть свадьбу  \n",
       "26              NaN                       образование  \n",
       "29              NaN  строительство жилой недвижимости  \n",
       "41              NaN  сделка с подержанным автомобилем  \n",
       "55              NaN                   сыграть свадьбу  \n",
       "...             ...                               ...  \n",
       "21489           NaN              сделка с автомобилем  \n",
       "21495           NaN                           свадьба  \n",
       "21497           NaN        строительство недвижимости  \n",
       "21502           NaN  строительство жилой недвижимости  \n",
       "21510           NaN           приобретение автомобиля  \n",
       "\n",
       "[2174 rows x 12 columns]"
      ]
     },
     "execution_count": 2,
     "metadata": {},
     "output_type": "execute_result"
    }
   ],
   "source": [
    "bool_series = pd.isnull(data['days_employed'])\n",
    "data[bool_series]"
   ]
  },
  {
   "cell_type": "markdown",
   "metadata": {},
   "source": [
    "**Вывод**"
   ]
  },
  {
   "cell_type": "markdown",
   "metadata": {},
   "source": [
    "Да, в таблице, если не заполнено поле 'days_employed', то и поле 'total_income' имеет значение NaN. Предположим, что это люди недостаточно проработавшие на своём месте работы, чтобы получить справку о доходах. "
   ]
  },
  {
   "cell_type": "markdown",
   "metadata": {},
   "source": [
    "## Шаг 2. Предобработка данных"
   ]
  },
  {
   "cell_type": "markdown",
   "metadata": {},
   "source": [
    "### Обработка пропусков"
   ]
  },
  {
   "cell_type": "code",
   "execution_count": 3,
   "metadata": {},
   "outputs": [],
   "source": [
    "jobs = data['income_type'].unique()"
   ]
  },
  {
   "cell_type": "code",
   "execution_count": 4,
   "metadata": {},
   "outputs": [
    {
     "data": {
      "text/plain": [
       "{'сотрудник': 142594.39684740017,\n",
       " 'пенсионер': 118514.48641164352,\n",
       " 'компаньон': 172357.95096577113,\n",
       " 'госслужащий': 150447.9352830068,\n",
       " 'безработный': 131339.7516762103,\n",
       " 'предприниматель': 499163.1449470857,\n",
       " 'студент': 98201.62531401133,\n",
       " 'в декрете': 53829.13072905995}"
      ]
     },
     "execution_count": 4,
     "metadata": {},
     "output_type": "execute_result"
    }
   ],
   "source": [
    "jobs_median = {}\n",
    "for job in jobs:\n",
    "    jobs_median[job] = data[data['income_type'] == job]['total_income'].median()\n",
    "jobs_median"
   ]
  },
  {
   "cell_type": "code",
   "execution_count": 5,
   "metadata": {},
   "outputs": [],
   "source": [
    "for job in jobs_median:\n",
    "    data.loc[data['income_type'] == job, 'total_income'] = jobs_median[job]"
   ]
  },
  {
   "cell_type": "markdown",
   "metadata": {},
   "source": [
    "**Вывод**"
   ]
  },
  {
   "cell_type": "markdown",
   "metadata": {},
   "source": [
    "Пропусков больше 10%, поэтому заполним пропуски медианными значениями по месту работы, чтобы эти пропуски не сильно смещали зароботную плату работников. Также заполним нулями количество отработанных дней, так как нам не нужен стаж работы для проверки наших гипотез."
   ]
  },
  {
   "cell_type": "code",
   "execution_count": 6,
   "metadata": {},
   "outputs": [
    {
     "data": {
      "text/plain": [
       "{'сотрудник': 142594.39684740017,\n",
       " 'пенсионер': 118514.48641164352,\n",
       " 'компаньон': 172357.95096577113,\n",
       " 'госслужащий': 150447.9352830068,\n",
       " 'безработный': 131339.7516762103,\n",
       " 'предприниматель': 499163.1449470857,\n",
       " 'студент': 98201.62531401133,\n",
       " 'в декрете': 53829.13072905995}"
      ]
     },
     "execution_count": 6,
     "metadata": {},
     "output_type": "execute_result"
    }
   ],
   "source": [
    "employed_median = {}\n",
    "for job in jobs:\n",
    "    employed_median[job] = data[data['income_type'] == job]['days_employed'].median()\n",
    "jobs_median"
   ]
  },
  {
   "cell_type": "code",
   "execution_count": 7,
   "metadata": {},
   "outputs": [],
   "source": [
    "for job in employed_median:\n",
    "    data.loc[data['income_type'] == job, 'days_employed'] = employed_median[job]"
   ]
  },
  {
   "cell_type": "code",
   "execution_count": 8,
   "metadata": {},
   "outputs": [],
   "source": [
    "years_employed = []\n",
    "for job in jobs_median:\n",
    "    data.loc[data['income_type'] == job, 'total_income'] = jobs_median[job]\n",
    "for i in range(len(data)):\n",
    "    if data.loc[i, 'days_employed'] >= 0:\n",
    "        years_employed.append(data.loc[i, 'days_employed'] / 365 / 24)\n",
    "    else:\n",
    "        years_employed.append(abs((data.loc[i, 'days_employed'] / 365)))   \n",
    "data['years_employed'] = years_employed"
   ]
  },
  {
   "cell_type": "code",
   "execution_count": 9,
   "metadata": {},
   "outputs": [
    {
     "data": {
      "text/plain": [
       "array([42, 36, 33, 32, 53, 27, 43, 50, 35, 41, 40, 65, 54, 56, 26, 48, 24,\n",
       "       21, 57, 67, 28, 63, 62, 47, 34, 68, 25, 31, 30, 20, 49, 37, 45, 61,\n",
       "       64, 44, 52, 46, 23, 38, 39, 51,  0, 59, 29, 60, 55, 58, 71, 22, 73,\n",
       "       66, 69, 19, 72, 70, 74, 75])"
      ]
     },
     "execution_count": 9,
     "metadata": {},
     "output_type": "execute_result"
    }
   ],
   "source": [
    "family_status = data['family_status'].unique()\n",
    "data['dob_years'].unique()"
   ]
  },
  {
   "cell_type": "code",
   "execution_count": 10,
   "metadata": {},
   "outputs": [],
   "source": [
    "average_dob = {}\n",
    "for status in family_status:\n",
    "    average_dob[status] = data[data['family_status'] == status]['dob_years'].median()\n",
    "for i in range(len(data)):\n",
    "    for status in average_dob:\n",
    "        if (data.loc[i, 'family_status'] == status) and (data.loc[i, 'dob_years'] == 0):\n",
    "            data.loc[i, 'dob_years'] = average_dob[status]"
   ]
  },
  {
   "cell_type": "code",
   "execution_count": 11,
   "metadata": {},
   "outputs": [
    {
     "data": {
      "text/plain": [
       "array(['F', 'M', 'XNA'], dtype=object)"
      ]
     },
     "execution_count": 11,
     "metadata": {},
     "output_type": "execute_result"
    }
   ],
   "source": [
    "data['gender'].unique()"
   ]
  },
  {
   "cell_type": "code",
   "execution_count": 12,
   "metadata": {},
   "outputs": [
    {
     "data": {
      "text/html": [
       "<div>\n",
       "<style scoped>\n",
       "    .dataframe tbody tr th:only-of-type {\n",
       "        vertical-align: middle;\n",
       "    }\n",
       "\n",
       "    .dataframe tbody tr th {\n",
       "        vertical-align: top;\n",
       "    }\n",
       "\n",
       "    .dataframe thead th {\n",
       "        text-align: right;\n",
       "    }\n",
       "</style>\n",
       "<table border=\"1\" class=\"dataframe\">\n",
       "  <thead>\n",
       "    <tr style=\"text-align: right;\">\n",
       "      <th></th>\n",
       "      <th>children</th>\n",
       "      <th>days_employed</th>\n",
       "      <th>dob_years</th>\n",
       "      <th>education</th>\n",
       "      <th>education_id</th>\n",
       "      <th>family_status</th>\n",
       "      <th>family_status_id</th>\n",
       "      <th>gender</th>\n",
       "      <th>income_type</th>\n",
       "      <th>debt</th>\n",
       "      <th>total_income</th>\n",
       "      <th>purpose</th>\n",
       "      <th>years_employed</th>\n",
       "    </tr>\n",
       "  </thead>\n",
       "  <tbody>\n",
       "    <tr>\n",
       "      <td>10701</td>\n",
       "      <td>0</td>\n",
       "      <td>-1547.382223</td>\n",
       "      <td>24.0</td>\n",
       "      <td>неоконченное высшее</td>\n",
       "      <td>2</td>\n",
       "      <td>гражданский брак</td>\n",
       "      <td>1</td>\n",
       "      <td>XNA</td>\n",
       "      <td>компаньон</td>\n",
       "      <td>0</td>\n",
       "      <td>172357.950966</td>\n",
       "      <td>покупка недвижимости</td>\n",
       "      <td>4.239403</td>\n",
       "    </tr>\n",
       "  </tbody>\n",
       "</table>\n",
       "</div>"
      ],
      "text/plain": [
       "       children  days_employed  dob_years            education  education_id  \\\n",
       "10701         0   -1547.382223       24.0  неоконченное высшее             2   \n",
       "\n",
       "          family_status  family_status_id gender income_type  debt  \\\n",
       "10701  гражданский брак                 1    XNA   компаньон     0   \n",
       "\n",
       "        total_income               purpose  years_employed  \n",
       "10701  172357.950966  покупка недвижимости        4.239403  "
      ]
     },
     "execution_count": 12,
     "metadata": {},
     "output_type": "execute_result"
    }
   ],
   "source": [
    "data[data['gender'] == 'XNA']"
   ]
  },
  {
   "cell_type": "code",
   "execution_count": 13,
   "metadata": {},
   "outputs": [],
   "source": [
    "data = data.drop(index = [10701])"
   ]
  },
  {
   "cell_type": "markdown",
   "metadata": {},
   "source": [
    "### Замена типа данных"
   ]
  },
  {
   "cell_type": "code",
   "execution_count": 14,
   "metadata": {},
   "outputs": [],
   "source": [
    "data['days_employed'] = data['days_employed'].astype(int)\n",
    "data['total_income'] = data['total_income'].astype(int)"
   ]
  },
  {
   "cell_type": "markdown",
   "metadata": {},
   "source": [
    "**Вывод**"
   ]
  },
  {
   "cell_type": "markdown",
   "metadata": {},
   "source": [
    "Поменяем типы данных для столбцов 'days_employed' и 'total_income' для более простых вычислений, а также количество дней бывает только целым."
   ]
  },
  {
   "cell_type": "markdown",
   "metadata": {},
   "source": [
    "### Обработка дубликатов"
   ]
  },
  {
   "cell_type": "code",
   "execution_count": 15,
   "metadata": {},
   "outputs": [],
   "source": [
    "data['education'] = data['education'].str.lower()\n",
    "data['family_status'] = data['family_status'].str.lower()\n",
    "data['gender'] = data['gender'].str.lower()\n",
    "data['income_type'] = data['income_type'].str.lower()\n",
    "data['purpose'] = data['purpose'].str.lower()\n",
    "data = data.drop_duplicates().reset_index(drop = True)"
   ]
  },
  {
   "cell_type": "markdown",
   "metadata": {},
   "source": [
    "**Вывод**"
   ]
  },
  {
   "cell_type": "markdown",
   "metadata": {},
   "source": [
    "Удаляем все полные дубликаты и переводим все строки в нижний регистр для отслеживания дубликатов, отличающихся только регистром. Как оказалось у нас целых 3642 строки являются полными дубликатами. Используется метод drop_duplicates() без параметров, что приводит к уничтожению всех полностью дублирующихся строк. Дубликаты могли появится из за нескольких запросов на получение кредита от одного и того-же человека, а также возможно, что эта создана из нескольких таблиц с пересекающимися данными, так как дубликатов очень много."
   ]
  },
  {
   "cell_type": "markdown",
   "metadata": {},
   "source": [
    "### Лемматизация"
   ]
  },
  {
   "cell_type": "code",
   "execution_count": 16,
   "metadata": {},
   "outputs": [
    {
     "data": {
      "text/plain": [
       "['покупка',\n",
       " 'жилье',\n",
       " 'приобретение',\n",
       " 'автомобиль',\n",
       " 'дополнительный',\n",
       " 'образование',\n",
       " 'сыграть',\n",
       " 'свадьба',\n",
       " 'операция',\n",
       " 'проведение',\n",
       " 'для',\n",
       " 'семья',\n",
       " 'недвижимость',\n",
       " 'коммерческий',\n",
       " 'жилой',\n",
       " 'строительство',\n",
       " 'собственный',\n",
       " 'подержать',\n",
       " 'свой',\n",
       " 'заниматься',\n",
       " 'сделка',\n",
       " 'подержанный',\n",
       " 'получение',\n",
       " 'высокий',\n",
       " 'профильный',\n",
       " 'сдача',\n",
       " 'ремонт']"
      ]
     },
     "execution_count": 16,
     "metadata": {},
     "output_type": "execute_result"
    }
   ],
   "source": [
    "from pymystem3 import Mystem\n",
    "from collections import Counter\n",
    "m = Mystem()\n",
    "purposes = data['purpose'].unique()\n",
    "purposes_lemmas_column = []\n",
    "purposes_lemmas = []\n",
    "for i in range(len(purposes)):\n",
    "    purposes_lemmas_column.append(m.lemmatize(purposes[i]))\n",
    "#Далее создаём список лемм, с условием уникальности этих лемм\n",
    "for lemmas in purposes_lemmas_column: \n",
    "    for lemma in lemmas:\n",
    "        if (lemma not in purposes_lemmas) and (len(lemma) > 2):\n",
    "            purposes_lemmas.append(lemma)\n",
    "purposes_lemmas"
   ]
  },
  {
   "cell_type": "markdown",
   "metadata": {},
   "source": [
    "Мы получили небольшой список лемм, которые используются при формулировке цели. Здесь мы уже в ручную можем разделить какие леммы отвечают за какие-то категории, а какие нет. А также разделить леммы на категегории по цели креитов, к которым они относятся, так например леммы 'жилье' и 'недвижимость' относятся к одной категории - операции с жильём."
   ]
  },
  {
   "cell_type": "code",
   "execution_count": 17,
   "metadata": {},
   "outputs": [],
   "source": [
    "#Создаём список нужных нам целей\n",
    "purposes_lemmas_res = {'house':[purposes_lemmas[1],purposes_lemmas[12]], \n",
    "                       'education': [purposes_lemmas[5]],\n",
    "                      'car_loan': [purposes_lemmas[3]],\n",
    "                      'wedding': [purposes_lemmas[7]]}\n",
    "\n",
    "lemmas_temp = []\n",
    "#Создаём лемматизированный столбец, для дальнейшей категоризации\n",
    "for i in range(len(data)):\n",
    "    lemmas_temp.append(m.lemmatize(data.loc[i, 'purpose']))\n",
    "lemmas_purpose = []\n",
    "#Находим ключевые леммы и если находим лемму из списка, соответствующего категории добавляем категорию в столбец\n",
    "for lemmas in lemmas_temp:\n",
    "    for lemma in lemmas:\n",
    "        for purposes in purposes_lemmas_res:\n",
    "            for purpose in purposes_lemmas_res[purposes]:\n",
    "                if lemma == purpose:\n",
    "                    lemmas_purpose.append(purposes)\n",
    "                    break\n",
    "#На выходе получили столбец, который даёт нам цель кредита в удобной для обработки форме\n",
    "data['lemma_purpose'] = lemmas_purpose"
   ]
  },
  {
   "cell_type": "markdown",
   "metadata": {},
   "source": [
    "**Вывод**"
   ]
  },
  {
   "cell_type": "markdown",
   "metadata": {},
   "source": [
    "При помощи лемматизации мы нашли 4 основных цели получения кредита и леммы для них, а также добавили столбец в изначальную таблицу с этими целями, что сводит последующую категоризацию данных к простой логической индексации."
   ]
  },
  {
   "cell_type": "markdown",
   "metadata": {},
   "source": [
    "### Категоризация данных"
   ]
  },
  {
   "cell_type": "markdown",
   "metadata": {},
   "source": [
    "Для начала найдём средний \"индекс задолженности\", чтобы знать, как часто люди не отдают кредиты вовремя в среднем. "
   ]
  },
  {
   "cell_type": "code",
   "execution_count": 18,
   "metadata": {},
   "outputs": [
    {
     "data": {
      "text/plain": [
       "0.09523542914730418"
      ]
     },
     "execution_count": 18,
     "metadata": {},
     "output_type": "execute_result"
    }
   ],
   "source": [
    "average_index = data['debt'].mean()\n",
    "average_index"
   ]
  },
  {
   "cell_type": "markdown",
   "metadata": {},
   "source": [
    "Далее при помощи логической индексации и метода mean() найдём также индексы для разных категорий людей."
   ]
  },
  {
   "cell_type": "code",
   "execution_count": 19,
   "metadata": {},
   "outputs": [
    {
     "name": "stdout",
     "output_type": "stream",
     "text": [
      "С детьми: 0.1000754716981132\n",
      "Без детей: 0.09238163047347811\n"
     ]
    }
   ],
   "source": [
    "with_child_index = data[data['children'] != 0]['debt'].mean()\n",
    "without_child_index = data[data['children'] == 0]['debt'].mean()\n",
    "print('С детьми:', with_child_index)\n",
    "print('Без детей:', without_child_index)"
   ]
  },
  {
   "cell_type": "code",
   "execution_count": 20,
   "metadata": {},
   "outputs": [
    {
     "data": {
      "text/plain": [
       "{'женат / замужем': 0.0917625681405209,\n",
       " 'гражданский брак': 0.11338345864661654,\n",
       " 'вдовец / вдова': 0.07482185273159145,\n",
       " 'в разводе': 0.0738488271068636,\n",
       " 'не женат / не замужем': 0.1012514220705347}"
      ]
     },
     "execution_count": 20,
     "metadata": {},
     "output_type": "execute_result"
    }
   ],
   "source": [
    "family_status = {}\n",
    "keys = data['family_status'].unique()\n",
    "family_status[keys[0]] = data[data['family_status'] == keys[0]]['debt'].mean()\n",
    "family_status[keys[1]] = data[data['family_status'] == keys[1]]['debt'].mean()\n",
    "family_status[keys[2]] = data[data['family_status'] == keys[2]]['debt'].mean()\n",
    "family_status[keys[3]] = data[data['family_status'] == keys[3]]['debt'].mean()\n",
    "family_status[keys[4]] = data[data['family_status'] == keys[4]]['debt'].mean()\n",
    "family_status"
   ]
  },
  {
   "cell_type": "code",
   "execution_count": 21,
   "metadata": {},
   "outputs": [
    {
     "data": {
      "text/plain": [
       "142594.0"
      ]
     },
     "execution_count": 21,
     "metadata": {},
     "output_type": "execute_result"
    }
   ],
   "source": [
    "average_income = data['total_income'].median()\n",
    "average_income"
   ]
  },
  {
   "cell_type": "code",
   "execution_count": 22,
   "metadata": {},
   "outputs": [
    {
     "data": {
      "text/plain": [
       "count     17861.000000\n",
       "mean     147162.310453\n",
       "std       17855.216847\n",
       "min       53829.000000\n",
       "25%      142594.000000\n",
       "50%      142594.000000\n",
       "75%      172357.000000\n",
       "max      499163.000000\n",
       "Name: total_income, dtype: float64"
      ]
     },
     "execution_count": 22,
     "metadata": {},
     "output_type": "execute_result"
    }
   ],
   "source": [
    "income_index = {}\n",
    "data['total_income'].describe()"
   ]
  },
  {
   "cell_type": "code",
   "execution_count": 23,
   "metadata": {},
   "outputs": [
    {
     "data": {
      "text/plain": [
       "{Interval(53828.999, 142594.0, closed='right'): 0.10491637100861632,\n",
       " Interval(150447.0, 172357.0, closed='right'): 0.08075340982896731,\n",
       " Interval(142594.0, 150447.0, closed='right'): 0.06134094151212553,\n",
       " Interval(172357.0, 499163.0, closed='right'): 0.0}"
      ]
     },
     "execution_count": 23,
     "metadata": {},
     "output_type": "execute_result"
    }
   ],
   "source": [
    "data['income_index'] = pd.qcut(data['total_income'], q = 6, duplicates = 'drop') \n",
    "income_type = data['income_index'].unique()\n",
    "income_type_index = {}\n",
    "for income in income_type:\n",
    "    income_type_index[income] = data[data['income_index'] == income]['debt'].mean()\n",
    "income_type_index    "
   ]
  },
  {
   "cell_type": "code",
   "execution_count": 24,
   "metadata": {},
   "outputs": [
    {
     "data": {
      "text/plain": [
       "{'house': 0.08430136076999668,\n",
       " 'education': 0.10338983050847457,\n",
       " 'car_loan': 0.10657718120805369,\n",
       " 'wedding': 0.11303789338471419}"
      ]
     },
     "execution_count": 24,
     "metadata": {},
     "output_type": "execute_result"
    }
   ],
   "source": [
    "purpose_index = {}\n",
    "for purpose in purposes_lemmas_res:\n",
    "    purpose_index[purpose] = data[data['lemma_purpose'] == purpose]['debt'].mean()\n",
    "purpose_index"
   ]
  },
  {
   "cell_type": "markdown",
   "metadata": {},
   "source": [
    "Тут мы воспользовались уже созданным словарём лемм для нахождения \"индекса задолженности\" по разным целям кредитов."
   ]
  },
  {
   "cell_type": "markdown",
   "metadata": {},
   "source": [
    "**Вывод**"
   ]
  },
  {
   "cell_type": "markdown",
   "metadata": {},
   "source": [
    "Как такового вывода здесь нет, так как он и является ответом на вопросы из шага 3. Возможно нужно было сделать отдельно категоризацию, а на третьем шаге применять метод mean(), но это странно."
   ]
  },
  {
   "cell_type": "markdown",
   "metadata": {},
   "source": [
    "## Шаг 3. Ответьте на вопросы"
   ]
  },
  {
   "cell_type": "code",
   "execution_count": 25,
   "metadata": {},
   "outputs": [
    {
     "data": {
      "text/plain": [
       "0.09523542914730418"
      ]
     },
     "execution_count": 25,
     "metadata": {},
     "output_type": "execute_result"
    }
   ],
   "source": [
    "average_index"
   ]
  },
  {
   "cell_type": "markdown",
   "metadata": {},
   "source": [
    "- Есть ли зависимость между наличием детей и возвратом кредита в срок?"
   ]
  },
  {
   "cell_type": "code",
   "execution_count": 26,
   "metadata": {},
   "outputs": [
    {
     "name": "stdout",
     "output_type": "stream",
     "text": [
      "С детьми: 0.1000754716981132\n",
      "Без детей: 0.09238163047347811\n"
     ]
    }
   ],
   "source": [
    "print('С детьми:', with_child_index)\n",
    "print('Без детей:', without_child_index)"
   ]
  },
  {
   "cell_type": "markdown",
   "metadata": {},
   "source": [
    "**Вывод**"
   ]
  },
  {
   "cell_type": "markdown",
   "metadata": {},
   "source": [
    "Наличие детей повышает шанс задолженности более чем на 2,6%"
   ]
  },
  {
   "cell_type": "markdown",
   "metadata": {},
   "source": [
    "- Есть ли зависимость между семейным положением и возвратом кредита в срок?"
   ]
  },
  {
   "cell_type": "code",
   "execution_count": 27,
   "metadata": {},
   "outputs": [
    {
     "name": "stdout",
     "output_type": "stream",
     "text": [
      "не женат / не замужем: 0.1012514220705347\n",
      "гражданский брак: 0.11338345864661654\n",
      "женат / замужем: 0.0917625681405209\n",
      "в разводе: 0.0738488271068636\n",
      "вдовец / вдова: 0.07482185273159145\n"
     ]
    }
   ],
   "source": [
    "print('не женат / не замужем:', family_status['не женат / не замужем'])\n",
    "print('гражданский брак:', family_status['гражданский брак'])\n",
    "print('женат / замужем:', family_status['женат / замужем'])\n",
    "print('в разводе:', family_status['в разводе'])\n",
    "print('вдовец / вдова:', family_status['вдовец / вдова'])"
   ]
  },
  {
   "cell_type": "markdown",
   "metadata": {},
   "source": [
    "**Вывод**"
   ]
  },
  {
   "cell_type": "markdown",
   "metadata": {},
   "source": [
    "Как мы видим семейное положение влияет на наш индекс. С каждым пройденным этапом в жизни люди всё реже не отдают кредит."
   ]
  },
  {
   "cell_type": "markdown",
   "metadata": {},
   "source": [
    "- Есть ли зависимость между уровнем дохода и возвратом кредита в срок?"
   ]
  },
  {
   "cell_type": "code",
   "execution_count": 28,
   "metadata": {},
   "outputs": [
    {
     "data": {
      "text/plain": [
       "{Interval(53828.999, 142594.0, closed='right'): 0.10491637100861632,\n",
       " Interval(150447.0, 172357.0, closed='right'): 0.08075340982896731,\n",
       " Interval(142594.0, 150447.0, closed='right'): 0.06134094151212553,\n",
       " Interval(172357.0, 499163.0, closed='right'): 0.0}"
      ]
     },
     "execution_count": 28,
     "metadata": {},
     "output_type": "execute_result"
    }
   ],
   "source": [
    "income_type_index\n",
    "#Сорри, что не запарился с нормальной выдачей интервалов :)"
   ]
  },
  {
   "cell_type": "markdown",
   "metadata": {},
   "source": [
    "**Вывод**"
   ]
  },
  {
   "cell_type": "markdown",
   "metadata": {},
   "source": [
    "Самыми большими должниками являются самые бедные граждане, далее идёт резкое снижение индекса, люди берущие кредит и имеющие средний доход довольно редко имеют задолженности, однако люди с доходом выше среднего чаще имеют задолженности, возможно это связанно с тем, что они берут кредиты на улучшение своего материального положения, что не всегда исполняется по графику, что и создаёт задолженности. Богатые же люди практически не имеют задолженностей, так как у них уже есть средства для отдачи кредитов."
   ]
  },
  {
   "cell_type": "markdown",
   "metadata": {},
   "source": [
    "- Как разные цели кредита влияют на его возврат в срок?"
   ]
  },
  {
   "cell_type": "code",
   "execution_count": 29,
   "metadata": {},
   "outputs": [
    {
     "name": "stdout",
     "output_type": "stream",
     "text": [
      "Недвижимость: 0.08430136076999668\n",
      "Образование: 0.10338983050847457\n",
      "Автомобильный кредит: 0.10657718120805369\n",
      "Свадьба: 0.11303789338471419\n"
     ]
    }
   ],
   "source": [
    "purpose_index\n",
    "print('Недвижимость:', purpose_index['house'])\n",
    "print('Образование:', purpose_index['education'])\n",
    "print('Автомобильный кредит:', purpose_index['car_loan'])\n",
    "print('Свадьба:', purpose_index['wedding'])"
   ]
  },
  {
   "cell_type": "markdown",
   "metadata": {},
   "source": [
    "**Вывод**"
   ]
  },
  {
   "cell_type": "markdown",
   "metadata": {},
   "source": [
    "Кредиты на недвижимость и свадьбы отдаются чаще, чем кредиты на образование и автомобили."
   ]
  },
  {
   "cell_type": "markdown",
   "metadata": {},
   "source": [
    "## Шаг 4. Общий вывод"
   ]
  },
  {
   "cell_type": "markdown",
   "metadata": {},
   "source": [
    "В среднем люди довольно редко не отдают кредиты(8% случаев), также вне зависимости от целей, наличия детей или семейного положения люди не отдают кредит в 6-10% случаев. Самым надёжным критерием для банка является высокий доход клиента, так как он практически гарантирует возврат кредита в срок. Остальные критерии не могут точно оценить платёжеспособность клиента, решение об одобрении или отказе от кредита стоит нужно давать на основе суммарного вклада разных критериев."
   ]
  }
 ],
 "metadata": {
  "ExecuteTimeLog": [
   {
    "duration": 823,
    "start_time": "2021-07-31T07:23:48.008Z"
   },
   {
    "duration": 827,
    "start_time": "2021-07-31T07:26:41.323Z"
   },
   {
    "duration": 97,
    "start_time": "2021-07-31T09:09:08.961Z"
   },
   {
    "duration": 97,
    "start_time": "2021-07-31T09:11:17.140Z"
   },
   {
    "duration": 72,
    "start_time": "2021-07-31T09:11:57.370Z"
   },
   {
    "duration": 88,
    "start_time": "2021-07-31T09:14:50.119Z"
   },
   {
    "duration": 409,
    "start_time": "2021-07-31T09:14:58.481Z"
   },
   {
    "duration": 7173,
    "start_time": "2021-07-31T09:15:07.021Z"
   },
   {
    "duration": 361,
    "start_time": "2021-07-31T09:16:54.439Z"
   },
   {
    "duration": 34,
    "start_time": "2021-07-31T09:18:25.127Z"
   },
   {
    "duration": 291,
    "start_time": "2021-07-31T09:21:55.891Z"
   },
   {
    "duration": 32,
    "start_time": "2021-07-31T09:22:46.649Z"
   },
   {
    "duration": 42,
    "start_time": "2021-07-31T09:24:24.449Z"
   },
   {
    "duration": 93,
    "start_time": "2021-07-31T09:25:28.601Z"
   },
   {
    "duration": 103,
    "start_time": "2021-07-31T09:25:48.397Z"
   },
   {
    "duration": 918,
    "start_time": "2021-07-31T09:30:43.785Z"
   },
   {
    "duration": 44,
    "start_time": "2021-07-31T09:30:48.175Z"
   },
   {
    "duration": 40,
    "start_time": "2021-07-31T09:41:43.763Z"
   },
   {
    "duration": 35,
    "start_time": "2021-07-31T09:43:15.604Z"
   },
   {
    "duration": 409,
    "start_time": "2021-07-31T10:11:31.692Z"
   },
   {
    "duration": 16,
    "start_time": "2021-07-31T10:11:45.126Z"
   },
   {
    "duration": 32,
    "start_time": "2021-07-31T10:12:27.317Z"
   },
   {
    "duration": 369,
    "start_time": "2021-07-31T12:24:04.862Z"
   },
   {
    "duration": 1298,
    "start_time": "2021-07-31T12:25:29.640Z"
   },
   {
    "duration": 41,
    "start_time": "2021-07-31T12:25:32.540Z"
   },
   {
    "duration": 8,
    "start_time": "2021-07-31T12:25:36.940Z"
   },
   {
    "duration": 582,
    "start_time": "2021-07-31T12:38:06.628Z"
   },
   {
    "duration": 774,
    "start_time": "2021-07-31T12:39:07.544Z"
   },
   {
    "duration": 50,
    "start_time": "2021-07-31T12:39:11.045Z"
   },
   {
    "duration": 5,
    "start_time": "2021-07-31T12:39:16.832Z"
   },
   {
    "duration": 32,
    "start_time": "2021-07-31T12:39:31.494Z"
   },
   {
    "duration": 28,
    "start_time": "2021-07-31T15:27:13.542Z"
   },
   {
    "duration": 41,
    "start_time": "2021-07-31T15:27:51.470Z"
   },
   {
    "duration": 60,
    "start_time": "2021-07-31T15:28:41.390Z"
   },
   {
    "duration": 92,
    "start_time": "2021-07-31T15:29:51.607Z"
   },
   {
    "duration": 62,
    "start_time": "2021-07-31T16:16:13.390Z"
   },
   {
    "duration": 6,
    "start_time": "2021-07-31T16:25:12.057Z"
   },
   {
    "duration": 326,
    "start_time": "2021-07-31T16:44:28.375Z"
   },
   {
    "duration": 13,
    "start_time": "2021-07-31T16:44:44.022Z"
   },
   {
    "duration": 55,
    "start_time": "2021-07-31T16:44:50.652Z"
   },
   {
    "duration": 21,
    "start_time": "2021-07-31T16:46:46.462Z"
   },
   {
    "duration": 75,
    "start_time": "2021-07-31T16:49:23.981Z"
   },
   {
    "duration": 7476,
    "start_time": "2021-07-31T16:50:14.681Z"
   },
   {
    "duration": 58,
    "start_time": "2021-07-31T16:50:38.801Z"
   },
   {
    "duration": 94,
    "start_time": "2021-07-31T16:52:46.600Z"
   },
   {
    "duration": 97,
    "start_time": "2021-07-31T16:54:25.371Z"
   },
   {
    "duration": 125,
    "start_time": "2021-07-31T16:54:49.682Z"
   },
   {
    "duration": 144,
    "start_time": "2021-07-31T16:55:26.588Z"
   },
   {
    "duration": 280,
    "start_time": "2021-08-01T09:05:56.544Z"
   },
   {
    "duration": 612,
    "start_time": "2021-08-01T09:06:26.861Z"
   },
   {
    "duration": 28,
    "start_time": "2021-08-01T09:06:30.221Z"
   },
   {
    "duration": 5,
    "start_time": "2021-08-01T09:06:33.421Z"
   },
   {
    "duration": 24,
    "start_time": "2021-08-01T09:06:35.288Z"
   },
   {
    "duration": 39,
    "start_time": "2021-08-01T09:06:37.261Z"
   },
   {
    "duration": 4,
    "start_time": "2021-08-01T09:06:40.408Z"
   },
   {
    "duration": 77,
    "start_time": "2021-08-01T09:06:45.886Z"
   },
   {
    "duration": 319,
    "start_time": "2021-08-01T09:06:49.839Z"
   },
   {
    "duration": 585,
    "start_time": "2021-08-01T09:07:27.918Z"
   },
   {
    "duration": 30,
    "start_time": "2021-08-01T09:44:26.828Z"
   },
   {
    "duration": 894,
    "start_time": "2021-08-01T09:47:02.611Z"
   },
   {
    "duration": 353,
    "start_time": "2021-08-01T11:15:00.226Z"
   },
   {
    "duration": 642,
    "start_time": "2021-08-01T11:22:05.200Z"
   },
   {
    "duration": 924,
    "start_time": "2021-08-01T11:33:27.802Z"
   },
   {
    "duration": 922,
    "start_time": "2021-08-01T11:35:27.562Z"
   },
   {
    "duration": 945,
    "start_time": "2021-08-01T11:35:55.781Z"
   },
   {
    "duration": 797,
    "start_time": "2021-08-01T11:36:18.892Z"
   },
   {
    "duration": 676,
    "start_time": "2021-08-01T11:38:55.567Z"
   },
   {
    "duration": 676,
    "start_time": "2021-08-01T11:39:25.204Z"
   },
   {
    "duration": 644,
    "start_time": "2021-08-01T11:39:47.116Z"
   },
   {
    "duration": 24,
    "start_time": "2021-08-01T11:39:51.861Z"
   },
   {
    "duration": 4,
    "start_time": "2021-08-01T11:39:56.179Z"
   },
   {
    "duration": 21,
    "start_time": "2021-08-01T11:39:58.369Z"
   },
   {
    "duration": 45,
    "start_time": "2021-08-01T11:40:01.943Z"
   },
   {
    "duration": 6,
    "start_time": "2021-08-01T11:40:05.475Z"
   },
   {
    "duration": 81,
    "start_time": "2021-08-01T11:40:08.740Z"
   },
   {
    "duration": 692,
    "start_time": "2021-08-01T11:40:13.025Z"
   },
   {
    "duration": 675,
    "start_time": "2021-08-01T11:40:37.696Z"
   },
   {
    "duration": 668,
    "start_time": "2021-08-01T11:40:55.159Z"
   },
   {
    "duration": 663,
    "start_time": "2021-08-01T11:42:35.268Z"
   },
   {
    "duration": 671,
    "start_time": "2021-08-01T11:51:40.289Z"
   },
   {
    "duration": 637,
    "start_time": "2021-08-01T12:00:16.605Z"
   },
   {
    "duration": 648,
    "start_time": "2021-08-01T12:00:25.959Z"
   },
   {
    "duration": 636,
    "start_time": "2021-08-01T12:00:41.083Z"
   },
   {
    "duration": 652,
    "start_time": "2021-08-01T12:00:55.138Z"
   },
   {
    "duration": 641,
    "start_time": "2021-08-01T12:02:58.679Z"
   },
   {
    "duration": 312,
    "start_time": "2021-08-01T12:04:18.346Z"
   },
   {
    "duration": 252,
    "start_time": "2021-08-01T12:04:32.861Z"
   },
   {
    "duration": 5,
    "start_time": "2021-08-01T12:04:44.306Z"
   },
   {
    "duration": 5,
    "start_time": "2021-08-01T12:05:04.859Z"
   },
   {
    "duration": 333,
    "start_time": "2021-08-01T15:40:27.875Z"
   },
   {
    "duration": 959,
    "start_time": "2021-08-01T15:51:59.391Z"
   },
   {
    "duration": 78,
    "start_time": "2021-08-01T15:53:04.146Z"
   },
   {
    "duration": 68,
    "start_time": "2021-08-01T15:53:07.863Z"
   },
   {
    "duration": 6,
    "start_time": "2021-08-01T15:53:13.182Z"
   },
   {
    "duration": 353,
    "start_time": "2021-08-01T15:53:16.570Z"
   },
   {
    "duration": 34,
    "start_time": "2021-08-01T15:53:27.048Z"
   },
   {
    "duration": 63,
    "start_time": "2021-08-01T15:53:28.800Z"
   },
   {
    "duration": 7,
    "start_time": "2021-08-01T15:53:33.237Z"
   },
   {
    "duration": 125,
    "start_time": "2021-08-01T15:53:36.105Z"
   },
   {
    "duration": 1132,
    "start_time": "2021-08-01T15:53:40.799Z"
   },
   {
    "duration": 9,
    "start_time": "2021-08-01T15:53:44.413Z"
   },
   {
    "duration": 6,
    "start_time": "2021-08-01T15:53:47.424Z"
   },
   {
    "duration": 7,
    "start_time": "2021-08-01T15:53:56.162Z"
   },
   {
    "duration": 1765,
    "start_time": "2021-08-01T15:56:32.342Z"
   },
   {
    "duration": 15,
    "start_time": "2021-08-01T15:56:48.371Z"
   },
   {
    "duration": 22,
    "start_time": "2021-08-01T15:58:16.763Z"
   },
   {
    "duration": 1382,
    "start_time": "2021-08-01T16:03:39.064Z"
   },
   {
    "duration": 35,
    "start_time": "2021-08-01T16:08:24.310Z"
   },
   {
    "duration": 15,
    "start_time": "2021-08-01T16:12:48.364Z"
   },
   {
    "duration": 1804,
    "start_time": "2021-08-01T16:19:22.128Z"
   },
   {
    "duration": 79,
    "start_time": "2021-08-01T16:21:42.443Z"
   },
   {
    "duration": 101,
    "start_time": "2021-08-01T16:21:56.498Z"
   },
   {
    "duration": 1854,
    "start_time": "2021-08-01T16:22:13.511Z"
   },
   {
    "duration": 272,
    "start_time": "2021-08-01T16:23:18.471Z"
   },
   {
    "duration": 1724,
    "start_time": "2021-08-01T16:24:54.024Z"
   },
   {
    "duration": 11,
    "start_time": "2021-08-01T16:26:08.171Z"
   },
   {
    "duration": 9,
    "start_time": "2021-08-01T16:26:24.390Z"
   },
   {
    "duration": 277,
    "start_time": "2021-08-01T16:26:47.281Z"
   },
   {
    "duration": 70,
    "start_time": "2021-08-01T16:29:09.710Z"
   },
   {
    "duration": 11,
    "start_time": "2021-08-01T16:29:31.910Z"
   },
   {
    "duration": 68,
    "start_time": "2021-08-01T16:30:02.831Z"
   },
   {
    "duration": 24,
    "start_time": "2021-08-01T16:30:11.380Z"
   },
   {
    "duration": 300,
    "start_time": "2021-08-01T18:33:26.987Z"
   },
   {
    "duration": 250,
    "start_time": "2021-08-01T18:34:27.171Z"
   },
   {
    "duration": 260,
    "start_time": "2021-08-01T18:38:09.475Z"
   },
   {
    "duration": 4582,
    "start_time": "2021-08-01T18:40:39.914Z"
   },
   {
    "duration": 89,
    "start_time": "2021-08-01T18:41:34.656Z"
   },
   {
    "duration": 82,
    "start_time": "2021-08-01T18:42:52.993Z"
   },
   {
    "duration": 254,
    "start_time": "2021-08-01T18:43:14.415Z"
   },
   {
    "duration": 4671,
    "start_time": "2021-08-01T18:44:21.333Z"
   },
   {
    "duration": 4464,
    "start_time": "2021-08-01T18:47:02.085Z"
   },
   {
    "duration": 11116,
    "start_time": "2021-08-01T19:02:55.877Z"
   },
   {
    "duration": 10836,
    "start_time": "2021-08-01T19:09:43.267Z"
   },
   {
    "duration": 11361,
    "start_time": "2021-08-01T19:11:46.132Z"
   },
   {
    "duration": 83,
    "start_time": "2021-08-01T19:22:37.560Z"
   },
   {
    "duration": 4573,
    "start_time": "2021-08-01T19:22:50.816Z"
   },
   {
    "duration": 4390,
    "start_time": "2021-08-01T19:26:07.643Z"
   },
   {
    "duration": 4709,
    "start_time": "2021-08-01T19:27:10.958Z"
   },
   {
    "duration": 4609,
    "start_time": "2021-08-01T19:28:32.428Z"
   },
   {
    "duration": 80,
    "start_time": "2021-08-01T19:29:16.946Z"
   },
   {
    "duration": 4520,
    "start_time": "2021-08-01T19:29:26.690Z"
   },
   {
    "duration": 4467,
    "start_time": "2021-08-01T20:01:56.560Z"
   },
   {
    "duration": 4549,
    "start_time": "2021-08-01T20:02:49.965Z"
   },
   {
    "duration": 4491,
    "start_time": "2021-08-01T20:04:03.878Z"
   },
   {
    "duration": 4489,
    "start_time": "2021-08-01T20:04:39.080Z"
   },
   {
    "duration": 4538,
    "start_time": "2021-08-01T20:05:29.786Z"
   },
   {
    "duration": 816,
    "start_time": "2021-08-01T20:06:09.774Z"
   },
   {
    "duration": 45,
    "start_time": "2021-08-01T20:06:10.592Z"
   },
   {
    "duration": 28,
    "start_time": "2021-08-01T20:06:10.640Z"
   },
   {
    "duration": 40,
    "start_time": "2021-08-01T20:06:10.671Z"
   },
   {
    "duration": 83,
    "start_time": "2021-08-01T20:06:10.713Z"
   },
   {
    "duration": 6,
    "start_time": "2021-08-01T20:06:10.798Z"
   },
   {
    "duration": 145,
    "start_time": "2021-08-01T20:06:10.806Z"
   },
   {
    "duration": 978,
    "start_time": "2021-08-01T20:06:10.955Z"
   },
   {
    "duration": 7,
    "start_time": "2021-08-01T20:06:11.936Z"
   },
   {
    "duration": 23,
    "start_time": "2021-08-01T20:06:11.945Z"
   },
   {
    "duration": 20,
    "start_time": "2021-08-01T20:06:11.971Z"
   },
   {
    "duration": 32,
    "start_time": "2021-08-01T20:06:11.993Z"
   },
   {
    "duration": 6,
    "start_time": "2021-08-01T20:06:12.028Z"
   },
   {
    "duration": 19,
    "start_time": "2021-08-01T20:06:12.068Z"
   },
   {
    "duration": 4604,
    "start_time": "2021-08-01T20:06:23.042Z"
   },
   {
    "duration": 289,
    "start_time": "2021-08-01T20:13:41.198Z"
   },
   {
    "duration": 231,
    "start_time": "2021-08-01T20:13:59.545Z"
   },
   {
    "duration": 835,
    "start_time": "2021-08-01T20:14:45.880Z"
   },
   {
    "duration": 55,
    "start_time": "2021-08-01T20:14:46.718Z"
   },
   {
    "duration": 6,
    "start_time": "2021-08-01T20:14:46.776Z"
   },
   {
    "duration": 38,
    "start_time": "2021-08-01T20:14:46.784Z"
   },
   {
    "duration": 87,
    "start_time": "2021-08-01T20:14:46.824Z"
   },
   {
    "duration": 6,
    "start_time": "2021-08-01T20:14:46.914Z"
   },
   {
    "duration": 145,
    "start_time": "2021-08-01T20:14:46.923Z"
   },
   {
    "duration": 973,
    "start_time": "2021-08-01T20:14:47.070Z"
   },
   {
    "duration": 4403,
    "start_time": "2021-08-01T20:14:48.047Z"
   },
   {
    "duration": 6,
    "start_time": "2021-08-01T20:14:52.452Z"
   },
   {
    "duration": 28,
    "start_time": "2021-08-01T20:14:52.467Z"
   },
   {
    "duration": 33,
    "start_time": "2021-08-01T20:14:52.497Z"
   },
   {
    "duration": 6,
    "start_time": "2021-08-01T20:14:52.532Z"
   },
   {
    "duration": 19,
    "start_time": "2021-08-01T20:14:52.568Z"
   },
   {
    "duration": 23,
    "start_time": "2021-08-01T20:14:52.590Z"
   },
   {
    "duration": 6,
    "start_time": "2021-08-01T20:32:03.945Z"
   },
   {
    "duration": 4,
    "start_time": "2021-08-01T20:32:54.565Z"
   },
   {
    "duration": 6,
    "start_time": "2021-08-01T20:34:37.362Z"
   },
   {
    "duration": 7,
    "start_time": "2021-08-01T20:41:12.176Z"
   },
   {
    "duration": 7,
    "start_time": "2021-08-01T20:41:30.646Z"
   },
   {
    "duration": 5,
    "start_time": "2021-08-01T20:43:36.215Z"
   },
   {
    "duration": 5,
    "start_time": "2021-08-01T20:45:50.184Z"
   },
   {
    "duration": 6,
    "start_time": "2021-08-01T20:47:11.234Z"
   },
   {
    "duration": 265,
    "start_time": "2021-08-02T09:16:25.194Z"
   },
   {
    "duration": 604,
    "start_time": "2021-08-02T09:16:36.702Z"
   },
   {
    "duration": 24,
    "start_time": "2021-08-02T09:16:37.308Z"
   },
   {
    "duration": 3,
    "start_time": "2021-08-02T09:16:37.334Z"
   },
   {
    "duration": 24,
    "start_time": "2021-08-02T09:16:37.338Z"
   },
   {
    "duration": 50,
    "start_time": "2021-08-02T09:16:37.364Z"
   },
   {
    "duration": 4,
    "start_time": "2021-08-02T09:16:37.416Z"
   },
   {
    "duration": 80,
    "start_time": "2021-08-02T09:16:37.421Z"
   },
   {
    "duration": 603,
    "start_time": "2021-08-02T09:16:37.503Z"
   },
   {
    "duration": 3105,
    "start_time": "2021-08-02T09:16:38.108Z"
   },
   {
    "duration": 4,
    "start_time": "2021-08-02T09:16:41.215Z"
   },
   {
    "duration": 20,
    "start_time": "2021-08-02T09:16:41.221Z"
   },
   {
    "duration": 21,
    "start_time": "2021-08-02T09:16:41.243Z"
   },
   {
    "duration": 27,
    "start_time": "2021-08-02T09:16:41.265Z"
   },
   {
    "duration": 30,
    "start_time": "2021-08-02T09:16:41.293Z"
   },
   {
    "duration": 17,
    "start_time": "2021-08-02T09:16:41.325Z"
   },
   {
    "duration": 5,
    "start_time": "2021-08-02T09:16:41.344Z"
   },
   {
    "duration": 5,
    "start_time": "2021-08-02T09:16:41.350Z"
   },
   {
    "duration": 7,
    "start_time": "2021-08-02T09:16:41.357Z"
   },
   {
    "duration": 26,
    "start_time": "2021-08-02T09:16:41.366Z"
   },
   {
    "duration": 3,
    "start_time": "2021-08-02T09:16:41.394Z"
   },
   {
    "duration": 283,
    "start_time": "2021-08-02T09:32:14.268Z"
   },
   {
    "duration": 288,
    "start_time": "2021-08-02T09:40:15.415Z"
   },
   {
    "duration": 12,
    "start_time": "2021-08-02T09:40:27.686Z"
   },
   {
    "duration": 505,
    "start_time": "2021-08-02T09:45:23.682Z"
   },
   {
    "duration": 10,
    "start_time": "2021-08-02T09:50:54.892Z"
   },
   {
    "duration": 220,
    "start_time": "2021-08-02T10:07:38.522Z"
   },
   {
    "duration": 15,
    "start_time": "2021-08-02T10:07:47.513Z"
   },
   {
    "duration": 600,
    "start_time": "2021-08-02T10:08:41.695Z"
   },
   {
    "duration": 23,
    "start_time": "2021-08-02T10:08:42.297Z"
   },
   {
    "duration": 3,
    "start_time": "2021-08-02T10:08:42.322Z"
   },
   {
    "duration": 26,
    "start_time": "2021-08-02T10:08:42.327Z"
   },
   {
    "duration": 52,
    "start_time": "2021-08-02T10:08:42.354Z"
   },
   {
    "duration": 4,
    "start_time": "2021-08-02T10:08:42.407Z"
   },
   {
    "duration": 85,
    "start_time": "2021-08-02T10:08:42.413Z"
   },
   {
    "duration": 859,
    "start_time": "2021-08-02T10:08:42.499Z"
   },
   {
    "duration": 3205,
    "start_time": "2021-08-02T10:08:43.362Z"
   },
   {
    "duration": 5,
    "start_time": "2021-08-02T10:08:46.569Z"
   },
   {
    "duration": 31,
    "start_time": "2021-08-02T10:08:46.576Z"
   },
   {
    "duration": 22,
    "start_time": "2021-08-02T10:08:46.609Z"
   },
   {
    "duration": 5,
    "start_time": "2021-08-02T10:08:46.632Z"
   },
   {
    "duration": 10,
    "start_time": "2021-08-02T10:08:46.639Z"
   },
   {
    "duration": 16,
    "start_time": "2021-08-02T10:08:46.650Z"
   },
   {
    "duration": 44,
    "start_time": "2021-08-02T10:08:46.667Z"
   },
   {
    "duration": 4,
    "start_time": "2021-08-02T10:08:46.712Z"
   },
   {
    "duration": 5,
    "start_time": "2021-08-02T10:08:46.717Z"
   },
   {
    "duration": 7,
    "start_time": "2021-08-02T10:08:46.724Z"
   },
   {
    "duration": 315,
    "start_time": "2021-08-02T10:08:46.732Z"
   },
   {
    "duration": -1343,
    "start_time": "2021-08-02T10:08:48.392Z"
   },
   {
    "duration": 642,
    "start_time": "2021-08-02T10:10:33.070Z"
   },
   {
    "duration": 24,
    "start_time": "2021-08-02T10:10:33.714Z"
   },
   {
    "duration": 4,
    "start_time": "2021-08-02T10:10:33.739Z"
   },
   {
    "duration": 23,
    "start_time": "2021-08-02T10:10:33.744Z"
   },
   {
    "duration": 54,
    "start_time": "2021-08-02T10:10:33.769Z"
   },
   {
    "duration": 4,
    "start_time": "2021-08-02T10:10:33.824Z"
   },
   {
    "duration": 75,
    "start_time": "2021-08-02T10:10:33.830Z"
   },
   {
    "duration": 628,
    "start_time": "2021-08-02T10:10:33.907Z"
   },
   {
    "duration": 2923,
    "start_time": "2021-08-02T10:10:34.538Z"
   },
   {
    "duration": 5,
    "start_time": "2021-08-02T10:10:37.463Z"
   },
   {
    "duration": 23,
    "start_time": "2021-08-02T10:10:37.470Z"
   },
   {
    "duration": 20,
    "start_time": "2021-08-02T10:10:37.495Z"
   },
   {
    "duration": 5,
    "start_time": "2021-08-02T10:10:37.517Z"
   },
   {
    "duration": 8,
    "start_time": "2021-08-02T10:10:37.523Z"
   },
   {
    "duration": 11,
    "start_time": "2021-08-02T10:10:37.533Z"
   },
   {
    "duration": 47,
    "start_time": "2021-08-02T10:10:37.545Z"
   },
   {
    "duration": 4,
    "start_time": "2021-08-02T10:10:37.593Z"
   },
   {
    "duration": 6,
    "start_time": "2021-08-02T10:10:37.598Z"
   },
   {
    "duration": 8,
    "start_time": "2021-08-02T10:10:37.605Z"
   },
   {
    "duration": 283,
    "start_time": "2021-08-02T10:10:37.614Z"
   },
   {
    "duration": -1384,
    "start_time": "2021-08-02T10:10:39.283Z"
   },
   {
    "duration": 8,
    "start_time": "2021-08-02T10:15:02.920Z"
   },
   {
    "duration": 24,
    "start_time": "2021-08-02T10:15:16.000Z"
   },
   {
    "duration": 5630,
    "start_time": "2021-08-02T10:21:47.004Z"
   },
   {
    "duration": 18,
    "start_time": "2021-08-02T10:22:24.237Z"
   },
   {
    "duration": 20,
    "start_time": "2021-08-02T10:26:15.045Z"
   },
   {
    "duration": 20,
    "start_time": "2021-08-02T10:26:20.438Z"
   },
   {
    "duration": 23,
    "start_time": "2021-08-02T10:27:38.135Z"
   },
   {
    "duration": 21,
    "start_time": "2021-08-02T10:27:48.157Z"
   },
   {
    "duration": 26,
    "start_time": "2021-08-02T10:28:04.648Z"
   },
   {
    "duration": 22,
    "start_time": "2021-08-02T10:28:12.327Z"
   },
   {
    "duration": 32,
    "start_time": "2021-08-02T10:28:18.487Z"
   },
   {
    "duration": 21,
    "start_time": "2021-08-02T10:29:03.000Z"
   },
   {
    "duration": 18,
    "start_time": "2021-08-02T10:31:33.030Z"
   },
   {
    "duration": 21,
    "start_time": "2021-08-02T10:31:35.675Z"
   },
   {
    "duration": 76,
    "start_time": "2021-08-02T10:38:29.877Z"
   },
   {
    "duration": 20,
    "start_time": "2021-08-02T10:52:03.327Z"
   },
   {
    "duration": 78,
    "start_time": "2021-08-02T10:53:26.397Z"
   },
   {
    "duration": 7,
    "start_time": "2021-08-02T10:53:30.205Z"
   },
   {
    "duration": 6,
    "start_time": "2021-08-02T10:54:16.366Z"
   },
   {
    "duration": 20,
    "start_time": "2021-08-02T11:08:55.947Z"
   },
   {
    "duration": 33,
    "start_time": "2021-08-02T11:09:30.795Z"
   },
   {
    "duration": 236,
    "start_time": "2021-08-02T11:17:15.626Z"
   },
   {
    "duration": 6762,
    "start_time": "2021-08-02T11:17:22.759Z"
   },
   {
    "duration": 6,
    "start_time": "2021-08-02T11:18:26.964Z"
   },
   {
    "duration": 8,
    "start_time": "2021-08-02T11:50:48.508Z"
   },
   {
    "duration": 7,
    "start_time": "2021-08-02T11:51:34.266Z"
   },
   {
    "duration": 7,
    "start_time": "2021-08-02T11:54:55.071Z"
   },
   {
    "duration": 643,
    "start_time": "2021-08-02T11:55:25.923Z"
   },
   {
    "duration": 26,
    "start_time": "2021-08-02T11:55:26.568Z"
   },
   {
    "duration": 7,
    "start_time": "2021-08-02T11:55:26.596Z"
   },
   {
    "duration": 32,
    "start_time": "2021-08-02T11:55:26.608Z"
   },
   {
    "duration": 70,
    "start_time": "2021-08-02T11:55:26.642Z"
   },
   {
    "duration": 5,
    "start_time": "2021-08-02T11:55:26.716Z"
   },
   {
    "duration": 334,
    "start_time": "2021-08-02T11:55:26.723Z"
   },
   {
    "duration": -2153,
    "start_time": "2021-08-02T11:55:29.212Z"
   },
   {
    "duration": -2159,
    "start_time": "2021-08-02T11:55:29.219Z"
   },
   {
    "duration": -2246,
    "start_time": "2021-08-02T11:55:29.307Z"
   },
   {
    "duration": -2271,
    "start_time": "2021-08-02T11:55:29.333Z"
   },
   {
    "duration": -2277,
    "start_time": "2021-08-02T11:55:29.340Z"
   },
   {
    "duration": -2281,
    "start_time": "2021-08-02T11:55:29.345Z"
   },
   {
    "duration": -2286,
    "start_time": "2021-08-02T11:55:29.351Z"
   },
   {
    "duration": -2292,
    "start_time": "2021-08-02T11:55:29.358Z"
   },
   {
    "duration": -2297,
    "start_time": "2021-08-02T11:55:29.364Z"
   },
   {
    "duration": -2302,
    "start_time": "2021-08-02T11:55:29.370Z"
   },
   {
    "duration": -2305,
    "start_time": "2021-08-02T11:55:29.374Z"
   },
   {
    "duration": -2310,
    "start_time": "2021-08-02T11:55:29.380Z"
   },
   {
    "duration": -2317,
    "start_time": "2021-08-02T11:55:29.387Z"
   },
   {
    "duration": -2319,
    "start_time": "2021-08-02T11:55:29.391Z"
   },
   {
    "duration": -2354,
    "start_time": "2021-08-02T11:55:29.427Z"
   },
   {
    "duration": -2365,
    "start_time": "2021-08-02T11:55:29.438Z"
   },
   {
    "duration": -2368,
    "start_time": "2021-08-02T11:55:29.442Z"
   },
   {
    "duration": -2375,
    "start_time": "2021-08-02T11:55:29.450Z"
   },
   {
    "duration": -2378,
    "start_time": "2021-08-02T11:55:29.454Z"
   },
   {
    "duration": 4,
    "start_time": "2021-08-02T11:58:03.303Z"
   },
   {
    "duration": 8241,
    "start_time": "2021-08-02T11:58:06.584Z"
   },
   {
    "duration": 621,
    "start_time": "2021-08-02T11:58:31.397Z"
   },
   {
    "duration": 25,
    "start_time": "2021-08-02T11:58:32.021Z"
   },
   {
    "duration": 3,
    "start_time": "2021-08-02T11:58:32.048Z"
   },
   {
    "duration": 24,
    "start_time": "2021-08-02T11:58:32.053Z"
   },
   {
    "duration": 47,
    "start_time": "2021-08-02T11:58:32.079Z"
   },
   {
    "duration": 5,
    "start_time": "2021-08-02T11:58:32.128Z"
   },
   {
    "duration": 8259,
    "start_time": "2021-08-02T11:58:32.134Z"
   },
   {
    "duration": 5,
    "start_time": "2021-08-02T11:58:40.395Z"
   },
   {
    "duration": 7,
    "start_time": "2021-08-02T11:58:40.402Z"
   },
   {
    "duration": 8,
    "start_time": "2021-08-02T11:58:40.410Z"
   },
   {
    "duration": 4,
    "start_time": "2021-08-02T11:58:40.419Z"
   },
   {
    "duration": 89,
    "start_time": "2021-08-02T11:58:40.424Z"
   },
   {
    "duration": 617,
    "start_time": "2021-08-02T11:58:40.515Z"
   },
   {
    "duration": 1097,
    "start_time": "2021-08-02T11:58:41.134Z"
   },
   {
    "duration": 5,
    "start_time": "2021-08-02T11:58:42.233Z"
   },
   {
    "duration": 22,
    "start_time": "2021-08-02T11:58:42.240Z"
   },
   {
    "duration": 34,
    "start_time": "2021-08-02T11:58:42.264Z"
   },
   {
    "duration": 5,
    "start_time": "2021-08-02T11:58:42.300Z"
   },
   {
    "duration": 10,
    "start_time": "2021-08-02T11:58:42.307Z"
   },
   {
    "duration": 18,
    "start_time": "2021-08-02T11:58:42.318Z"
   },
   {
    "duration": 11,
    "start_time": "2021-08-02T11:58:42.337Z"
   },
   {
    "duration": 3,
    "start_time": "2021-08-02T11:58:42.350Z"
   },
   {
    "duration": 38,
    "start_time": "2021-08-02T11:58:42.356Z"
   },
   {
    "duration": 6,
    "start_time": "2021-08-02T11:58:42.395Z"
   },
   {
    "duration": 294,
    "start_time": "2021-08-02T11:58:42.403Z"
   },
   {
    "duration": -2367,
    "start_time": "2021-08-02T11:58:45.066Z"
   },
   {
    "duration": 641,
    "start_time": "2021-08-02T11:59:57.719Z"
   },
   {
    "duration": 27,
    "start_time": "2021-08-02T11:59:58.363Z"
   },
   {
    "duration": 5,
    "start_time": "2021-08-02T11:59:58.392Z"
   },
   {
    "duration": 23,
    "start_time": "2021-08-02T11:59:58.398Z"
   },
   {
    "duration": 38,
    "start_time": "2021-08-02T11:59:58.423Z"
   },
   {
    "duration": 4,
    "start_time": "2021-08-02T11:59:58.462Z"
   },
   {
    "duration": 8919,
    "start_time": "2021-08-02T11:59:58.468Z"
   },
   {
    "duration": 5,
    "start_time": "2021-08-02T12:00:07.390Z"
   },
   {
    "duration": 18,
    "start_time": "2021-08-02T12:00:07.401Z"
   },
   {
    "duration": 27,
    "start_time": "2021-08-02T12:00:07.421Z"
   },
   {
    "duration": 6,
    "start_time": "2021-08-02T12:00:07.450Z"
   },
   {
    "duration": 74,
    "start_time": "2021-08-02T12:00:07.457Z"
   },
   {
    "duration": 737,
    "start_time": "2021-08-02T12:00:07.532Z"
   },
   {
    "duration": 968,
    "start_time": "2021-08-02T12:00:08.271Z"
   },
   {
    "duration": 5,
    "start_time": "2021-08-02T12:00:09.240Z"
   },
   {
    "duration": 14,
    "start_time": "2021-08-02T12:00:09.246Z"
   },
   {
    "duration": 15,
    "start_time": "2021-08-02T12:00:09.261Z"
   },
   {
    "duration": 20,
    "start_time": "2021-08-02T12:00:09.277Z"
   },
   {
    "duration": 13,
    "start_time": "2021-08-02T12:00:09.302Z"
   },
   {
    "duration": 17,
    "start_time": "2021-08-02T12:00:09.316Z"
   },
   {
    "duration": 11,
    "start_time": "2021-08-02T12:00:09.334Z"
   },
   {
    "duration": 8,
    "start_time": "2021-08-02T12:00:09.347Z"
   },
   {
    "duration": 7,
    "start_time": "2021-08-02T12:00:09.357Z"
   },
   {
    "duration": 26,
    "start_time": "2021-08-02T12:00:09.366Z"
   },
   {
    "duration": 314,
    "start_time": "2021-08-02T12:00:09.394Z"
   },
   {
    "duration": -3614,
    "start_time": "2021-08-02T12:00:13.323Z"
   },
   {
    "duration": 607,
    "start_time": "2021-08-02T12:00:53.499Z"
   },
   {
    "duration": 23,
    "start_time": "2021-08-02T12:00:54.108Z"
   },
   {
    "duration": 3,
    "start_time": "2021-08-02T12:00:54.133Z"
   },
   {
    "duration": 22,
    "start_time": "2021-08-02T12:00:54.138Z"
   },
   {
    "duration": 50,
    "start_time": "2021-08-02T12:00:54.162Z"
   },
   {
    "duration": 4,
    "start_time": "2021-08-02T12:00:54.213Z"
   },
   {
    "duration": 8466,
    "start_time": "2021-08-02T12:00:54.218Z"
   },
   {
    "duration": 7,
    "start_time": "2021-08-02T12:01:02.686Z"
   },
   {
    "duration": 7,
    "start_time": "2021-08-02T12:01:02.695Z"
   },
   {
    "duration": 8,
    "start_time": "2021-08-02T12:01:02.703Z"
   },
   {
    "duration": 4,
    "start_time": "2021-08-02T12:01:02.713Z"
   },
   {
    "duration": 83,
    "start_time": "2021-08-02T12:01:02.718Z"
   },
   {
    "duration": 609,
    "start_time": "2021-08-02T12:01:02.803Z"
   },
   {
    "duration": 919,
    "start_time": "2021-08-02T12:01:03.414Z"
   },
   {
    "duration": 5,
    "start_time": "2021-08-02T12:01:04.335Z"
   },
   {
    "duration": 12,
    "start_time": "2021-08-02T12:01:04.342Z"
   },
   {
    "duration": 36,
    "start_time": "2021-08-02T12:01:04.356Z"
   },
   {
    "duration": 5,
    "start_time": "2021-08-02T12:01:04.394Z"
   },
   {
    "duration": 11,
    "start_time": "2021-08-02T12:01:04.400Z"
   },
   {
    "duration": 16,
    "start_time": "2021-08-02T12:01:04.412Z"
   },
   {
    "duration": 10,
    "start_time": "2021-08-02T12:01:04.430Z"
   },
   {
    "duration": 3,
    "start_time": "2021-08-02T12:01:04.442Z"
   },
   {
    "duration": 6,
    "start_time": "2021-08-02T12:01:04.448Z"
   },
   {
    "duration": 37,
    "start_time": "2021-08-02T12:01:04.455Z"
   },
   {
    "duration": 279,
    "start_time": "2021-08-02T12:01:04.494Z"
   },
   {
    "duration": -2151,
    "start_time": "2021-08-02T12:01:06.925Z"
   },
   {
    "duration": 190,
    "start_time": "2021-08-02T12:02:32.584Z"
   },
   {
    "duration": 625,
    "start_time": "2021-08-02T12:06:32.090Z"
   },
   {
    "duration": 25,
    "start_time": "2021-08-02T12:06:32.717Z"
   },
   {
    "duration": 3,
    "start_time": "2021-08-02T12:06:32.744Z"
   },
   {
    "duration": 22,
    "start_time": "2021-08-02T12:06:32.749Z"
   },
   {
    "duration": 61,
    "start_time": "2021-08-02T12:06:32.773Z"
   },
   {
    "duration": 5,
    "start_time": "2021-08-02T12:06:32.836Z"
   },
   {
    "duration": 819,
    "start_time": "2021-08-02T12:06:32.843Z"
   },
   {
    "duration": 5,
    "start_time": "2021-08-02T12:06:33.664Z"
   },
   {
    "duration": 22,
    "start_time": "2021-08-02T12:06:33.670Z"
   },
   {
    "duration": 11,
    "start_time": "2021-08-02T12:06:33.694Z"
   },
   {
    "duration": 8,
    "start_time": "2021-08-02T12:06:33.707Z"
   },
   {
    "duration": 65,
    "start_time": "2021-08-02T12:06:33.716Z"
   },
   {
    "duration": 639,
    "start_time": "2021-08-02T12:06:33.794Z"
   },
   {
    "duration": 2864,
    "start_time": "2021-08-02T12:06:34.435Z"
   },
   {
    "duration": 5,
    "start_time": "2021-08-02T12:06:37.301Z"
   },
   {
    "duration": 17,
    "start_time": "2021-08-02T12:06:37.308Z"
   },
   {
    "duration": 19,
    "start_time": "2021-08-02T12:06:37.326Z"
   },
   {
    "duration": 5,
    "start_time": "2021-08-02T12:06:37.347Z"
   },
   {
    "duration": 12,
    "start_time": "2021-08-02T12:06:37.353Z"
   },
   {
    "duration": 24,
    "start_time": "2021-08-02T12:06:37.395Z"
   },
   {
    "duration": 16,
    "start_time": "2021-08-02T12:06:37.420Z"
   },
   {
    "duration": 3,
    "start_time": "2021-08-02T12:06:37.438Z"
   },
   {
    "duration": 3,
    "start_time": "2021-08-02T12:06:37.444Z"
   },
   {
    "duration": 4,
    "start_time": "2021-08-02T12:06:37.449Z"
   },
   {
    "duration": 283,
    "start_time": "2021-08-02T12:06:37.455Z"
   },
   {
    "duration": -2172,
    "start_time": "2021-08-02T12:06:39.911Z"
   },
   {
    "duration": 79,
    "start_time": "2021-08-02T12:09:07.809Z"
   },
   {
    "duration": 10,
    "start_time": "2021-08-02T15:13:12.363Z"
   },
   {
    "duration": 8,
    "start_time": "2021-08-02T15:14:04.436Z"
   },
   {
    "duration": 626,
    "start_time": "2021-08-02T15:14:50.118Z"
   },
   {
    "duration": 24,
    "start_time": "2021-08-02T15:14:50.746Z"
   },
   {
    "duration": 3,
    "start_time": "2021-08-02T15:14:50.772Z"
   },
   {
    "duration": 33,
    "start_time": "2021-08-02T15:14:50.777Z"
   },
   {
    "duration": 38,
    "start_time": "2021-08-02T15:14:50.812Z"
   },
   {
    "duration": 8,
    "start_time": "2021-08-02T15:14:50.852Z"
   },
   {
    "duration": 5,
    "start_time": "2021-08-02T15:14:50.862Z"
   },
   {
    "duration": 892,
    "start_time": "2021-08-02T15:14:50.869Z"
   },
   {
    "duration": 5,
    "start_time": "2021-08-02T15:14:51.764Z"
   },
   {
    "duration": 23,
    "start_time": "2021-08-02T15:14:51.771Z"
   },
   {
    "duration": 19,
    "start_time": "2021-08-02T15:14:51.796Z"
   },
   {
    "duration": 18,
    "start_time": "2021-08-02T15:14:51.817Z"
   },
   {
    "duration": 76,
    "start_time": "2021-08-02T15:14:51.837Z"
   },
   {
    "duration": 613,
    "start_time": "2021-08-02T15:14:51.915Z"
   },
   {
    "duration": 2678,
    "start_time": "2021-08-02T15:14:52.530Z"
   },
   {
    "duration": 5,
    "start_time": "2021-08-02T15:14:55.209Z"
   },
   {
    "duration": 20,
    "start_time": "2021-08-02T15:14:55.215Z"
   },
   {
    "duration": 21,
    "start_time": "2021-08-02T15:14:55.237Z"
   },
   {
    "duration": 5,
    "start_time": "2021-08-02T15:14:55.259Z"
   },
   {
    "duration": 29,
    "start_time": "2021-08-02T15:14:55.265Z"
   },
   {
    "duration": 23,
    "start_time": "2021-08-02T15:14:55.297Z"
   },
   {
    "duration": 16,
    "start_time": "2021-08-02T15:14:55.322Z"
   },
   {
    "duration": 4,
    "start_time": "2021-08-02T15:14:55.340Z"
   },
   {
    "duration": 8,
    "start_time": "2021-08-02T15:14:55.345Z"
   },
   {
    "duration": 8,
    "start_time": "2021-08-02T15:14:55.355Z"
   },
   {
    "duration": 306,
    "start_time": "2021-08-02T15:14:55.364Z"
   },
   {
    "duration": -2105,
    "start_time": "2021-08-02T15:14:57.777Z"
   },
   {
    "duration": 5,
    "start_time": "2021-08-02T15:15:22.298Z"
   },
   {
    "duration": 9,
    "start_time": "2021-08-02T15:15:31.720Z"
   },
   {
    "duration": 68,
    "start_time": "2021-08-02T15:16:04.420Z"
   },
   {
    "duration": 5,
    "start_time": "2021-08-02T15:18:48.554Z"
   },
   {
    "duration": 7,
    "start_time": "2021-08-02T15:19:53.855Z"
   },
   {
    "duration": 7,
    "start_time": "2021-08-02T15:20:48.789Z"
   },
   {
    "duration": 584,
    "start_time": "2021-08-02T15:21:53.519Z"
   },
   {
    "duration": 25,
    "start_time": "2021-08-02T15:21:54.105Z"
   },
   {
    "duration": 3,
    "start_time": "2021-08-02T15:21:54.132Z"
   },
   {
    "duration": 39,
    "start_time": "2021-08-02T15:21:54.137Z"
   },
   {
    "duration": 37,
    "start_time": "2021-08-02T15:21:54.178Z"
   },
   {
    "duration": 7,
    "start_time": "2021-08-02T15:21:54.217Z"
   },
   {
    "duration": 37,
    "start_time": "2021-08-02T15:21:54.225Z"
   },
   {
    "duration": 905,
    "start_time": "2021-08-02T15:21:54.264Z"
   },
   {
    "duration": 5,
    "start_time": "2021-08-02T15:21:55.171Z"
   },
   {
    "duration": 38,
    "start_time": "2021-08-02T15:21:55.178Z"
   },
   {
    "duration": 32,
    "start_time": "2021-08-02T15:21:55.218Z"
   },
   {
    "duration": 21,
    "start_time": "2021-08-02T15:21:55.252Z"
   },
   {
    "duration": 90,
    "start_time": "2021-08-02T15:21:55.275Z"
   },
   {
    "duration": 627,
    "start_time": "2021-08-02T15:21:55.367Z"
   },
   {
    "duration": 2794,
    "start_time": "2021-08-02T15:21:55.996Z"
   },
   {
    "duration": 6,
    "start_time": "2021-08-02T15:21:58.792Z"
   },
   {
    "duration": 17,
    "start_time": "2021-08-02T15:21:58.800Z"
   },
   {
    "duration": 24,
    "start_time": "2021-08-02T15:21:58.820Z"
   },
   {
    "duration": 26,
    "start_time": "2021-08-02T15:21:58.846Z"
   },
   {
    "duration": 24,
    "start_time": "2021-08-02T15:21:58.875Z"
   },
   {
    "duration": 25,
    "start_time": "2021-08-02T15:21:58.901Z"
   },
   {
    "duration": 20,
    "start_time": "2021-08-02T15:21:58.928Z"
   },
   {
    "duration": 4,
    "start_time": "2021-08-02T15:21:58.952Z"
   },
   {
    "duration": 36,
    "start_time": "2021-08-02T15:21:58.958Z"
   },
   {
    "duration": 10,
    "start_time": "2021-08-02T15:21:58.996Z"
   },
   {
    "duration": 297,
    "start_time": "2021-08-02T15:21:59.008Z"
   },
   {
    "duration": -2105,
    "start_time": "2021-08-02T15:22:01.412Z"
   },
   {
    "duration": 8,
    "start_time": "2021-08-02T15:22:19.278Z"
   },
   {
    "duration": 8,
    "start_time": "2021-08-02T15:22:31.472Z"
   },
   {
    "duration": 7,
    "start_time": "2021-08-02T15:22:49.638Z"
   },
   {
    "duration": 8,
    "start_time": "2021-08-02T15:22:58.973Z"
   },
   {
    "duration": 8,
    "start_time": "2021-08-02T15:23:54.454Z"
   },
   {
    "duration": 8,
    "start_time": "2021-08-02T15:24:51.231Z"
   },
   {
    "duration": 8,
    "start_time": "2021-08-02T15:25:00.490Z"
   },
   {
    "duration": 8,
    "start_time": "2021-08-02T15:25:16.890Z"
   },
   {
    "duration": 5,
    "start_time": "2021-08-02T15:26:59.859Z"
   },
   {
    "duration": 8,
    "start_time": "2021-08-02T15:27:06.996Z"
   },
   {
    "duration": 7,
    "start_time": "2021-08-02T15:27:15.334Z"
   },
   {
    "duration": 214,
    "start_time": "2021-08-02T15:27:45.857Z"
   },
   {
    "duration": 7,
    "start_time": "2021-08-02T15:27:51.888Z"
   },
   {
    "duration": 54,
    "start_time": "2021-08-02T15:28:55.179Z"
   },
   {
    "duration": 8,
    "start_time": "2021-08-02T15:29:04.324Z"
   },
   {
    "duration": 632,
    "start_time": "2021-08-02T15:29:42.276Z"
   },
   {
    "duration": 25,
    "start_time": "2021-08-02T15:29:45.092Z"
   },
   {
    "duration": 4,
    "start_time": "2021-08-02T15:29:51.163Z"
   },
   {
    "duration": 23,
    "start_time": "2021-08-02T15:29:53.775Z"
   },
   {
    "duration": 23,
    "start_time": "2021-08-02T15:30:51.576Z"
   },
   {
    "duration": 8,
    "start_time": "2021-08-02T15:30:56.837Z"
   },
   {
    "duration": 4,
    "start_time": "2021-08-02T15:40:36.511Z"
   },
   {
    "duration": 278,
    "start_time": "2021-08-02T15:40:51.632Z"
   },
   {
    "duration": 235,
    "start_time": "2021-08-02T15:41:15.250Z"
   },
   {
    "duration": 244,
    "start_time": "2021-08-02T15:42:09.935Z"
   },
   {
    "duration": 210,
    "start_time": "2021-08-02T15:43:44.191Z"
   },
   {
    "duration": 225,
    "start_time": "2021-08-02T15:44:34.495Z"
   },
   {
    "duration": 221,
    "start_time": "2021-08-02T15:45:28.705Z"
   },
   {
    "duration": 309,
    "start_time": "2021-08-02T15:45:44.363Z"
   },
   {
    "duration": 254,
    "start_time": "2021-08-02T15:46:53.449Z"
   },
   {
    "duration": 87,
    "start_time": "2021-08-02T15:48:04.738Z"
   },
   {
    "duration": 561,
    "start_time": "2021-08-02T15:48:29.207Z"
   },
   {
    "duration": 9,
    "start_time": "2021-08-02T15:50:10.860Z"
   },
   {
    "duration": 8,
    "start_time": "2021-08-02T15:50:23.011Z"
   },
   {
    "duration": 9,
    "start_time": "2021-08-02T15:50:36.951Z"
   },
   {
    "duration": 576,
    "start_time": "2021-08-02T15:50:53.048Z"
   },
   {
    "duration": 343,
    "start_time": "2021-08-02T15:52:31.228Z"
   },
   {
    "duration": 567,
    "start_time": "2021-08-02T15:53:13.027Z"
   },
   {
    "duration": 25,
    "start_time": "2021-08-02T15:53:16.983Z"
   },
   {
    "duration": 4,
    "start_time": "2021-08-02T15:53:21.114Z"
   },
   {
    "duration": 22,
    "start_time": "2021-08-02T15:53:23.774Z"
   },
   {
    "duration": 22,
    "start_time": "2021-08-02T15:53:28.290Z"
   },
   {
    "duration": 9,
    "start_time": "2021-08-02T15:53:34.945Z"
   },
   {
    "duration": 329,
    "start_time": "2021-08-02T15:53:37.628Z"
   },
   {
    "duration": 82,
    "start_time": "2021-08-02T15:54:05.862Z"
   },
   {
    "duration": 246,
    "start_time": "2021-08-02T15:54:15.455Z"
   },
   {
    "duration": 281,
    "start_time": "2021-08-02T15:54:48.570Z"
   },
   {
    "duration": 20,
    "start_time": "2021-08-02T15:55:45.896Z"
   },
   {
    "duration": 604,
    "start_time": "2021-08-02T15:56:29.354Z"
   },
   {
    "duration": 23,
    "start_time": "2021-08-02T15:56:29.959Z"
   },
   {
    "duration": 3,
    "start_time": "2021-08-02T15:56:29.984Z"
   },
   {
    "duration": 20,
    "start_time": "2021-08-02T15:56:29.991Z"
   },
   {
    "duration": 21,
    "start_time": "2021-08-02T15:56:30.013Z"
   },
   {
    "duration": 10,
    "start_time": "2021-08-02T15:56:30.036Z"
   },
   {
    "duration": 278,
    "start_time": "2021-08-02T15:56:30.047Z"
   },
   {
    "duration": 5,
    "start_time": "2021-08-02T15:56:30.327Z"
   },
   {
    "duration": 831,
    "start_time": "2021-08-02T15:56:30.334Z"
   },
   {
    "duration": 5,
    "start_time": "2021-08-02T15:56:31.167Z"
   },
   {
    "duration": 29,
    "start_time": "2021-08-02T15:56:31.174Z"
   },
   {
    "duration": 7,
    "start_time": "2021-08-02T15:56:31.205Z"
   },
   {
    "duration": 301,
    "start_time": "2021-08-02T15:56:31.214Z"
   },
   {
    "duration": -2177,
    "start_time": "2021-08-02T15:56:33.694Z"
   },
   {
    "duration": -2181,
    "start_time": "2021-08-02T15:56:33.700Z"
   },
   {
    "duration": -2187,
    "start_time": "2021-08-02T15:56:33.707Z"
   },
   {
    "duration": -2202,
    "start_time": "2021-08-02T15:56:33.723Z"
   },
   {
    "duration": -2206,
    "start_time": "2021-08-02T15:56:33.728Z"
   },
   {
    "duration": -2210,
    "start_time": "2021-08-02T15:56:33.733Z"
   },
   {
    "duration": -2213,
    "start_time": "2021-08-02T15:56:33.737Z"
   },
   {
    "duration": -2217,
    "start_time": "2021-08-02T15:56:33.742Z"
   },
   {
    "duration": -2231,
    "start_time": "2021-08-02T15:56:33.757Z"
   },
   {
    "duration": -2236,
    "start_time": "2021-08-02T15:56:33.763Z"
   },
   {
    "duration": -2238,
    "start_time": "2021-08-02T15:56:33.766Z"
   },
   {
    "duration": -2242,
    "start_time": "2021-08-02T15:56:33.771Z"
   },
   {
    "duration": -2247,
    "start_time": "2021-08-02T15:56:33.776Z"
   },
   {
    "duration": -2260,
    "start_time": "2021-08-02T15:56:33.790Z"
   },
   {
    "duration": -2264,
    "start_time": "2021-08-02T15:56:33.795Z"
   },
   {
    "duration": 600,
    "start_time": "2021-08-02T15:58:27.726Z"
   },
   {
    "duration": 24,
    "start_time": "2021-08-02T15:58:28.328Z"
   },
   {
    "duration": 3,
    "start_time": "2021-08-02T15:58:28.354Z"
   },
   {
    "duration": 34,
    "start_time": "2021-08-02T15:58:28.358Z"
   },
   {
    "duration": 20,
    "start_time": "2021-08-02T15:58:28.393Z"
   },
   {
    "duration": 9,
    "start_time": "2021-08-02T15:58:28.415Z"
   },
   {
    "duration": 2,
    "start_time": "2021-08-02T15:58:28.425Z"
   },
   {
    "duration": 9,
    "start_time": "2021-08-02T15:58:28.429Z"
   },
   {
    "duration": 751,
    "start_time": "2021-08-02T15:58:28.440Z"
   },
   {
    "duration": 4,
    "start_time": "2021-08-02T15:58:29.193Z"
   },
   {
    "duration": 19,
    "start_time": "2021-08-02T15:58:29.198Z"
   },
   {
    "duration": 19,
    "start_time": "2021-08-02T15:58:29.218Z"
   },
   {
    "duration": 293,
    "start_time": "2021-08-02T15:58:29.238Z"
   },
   {
    "duration": -2077,
    "start_time": "2021-08-02T15:58:31.610Z"
   },
   {
    "duration": -2084,
    "start_time": "2021-08-02T15:58:31.618Z"
   },
   {
    "duration": -2088,
    "start_time": "2021-08-02T15:58:31.623Z"
   },
   {
    "duration": -2094,
    "start_time": "2021-08-02T15:58:31.629Z"
   },
   {
    "duration": -2114,
    "start_time": "2021-08-02T15:58:31.650Z"
   },
   {
    "duration": -2119,
    "start_time": "2021-08-02T15:58:31.656Z"
   },
   {
    "duration": -2123,
    "start_time": "2021-08-02T15:58:31.661Z"
   },
   {
    "duration": -2127,
    "start_time": "2021-08-02T15:58:31.666Z"
   },
   {
    "duration": -2131,
    "start_time": "2021-08-02T15:58:31.671Z"
   },
   {
    "duration": -2136,
    "start_time": "2021-08-02T15:58:31.677Z"
   },
   {
    "duration": -2140,
    "start_time": "2021-08-02T15:58:31.681Z"
   },
   {
    "duration": -2144,
    "start_time": "2021-08-02T15:58:31.686Z"
   },
   {
    "duration": -2147,
    "start_time": "2021-08-02T15:58:31.690Z"
   },
   {
    "duration": -2151,
    "start_time": "2021-08-02T15:58:31.695Z"
   },
   {
    "duration": -2156,
    "start_time": "2021-08-02T15:58:31.701Z"
   },
   {
    "duration": 6274,
    "start_time": "2021-08-02T16:01:59.381Z"
   },
   {
    "duration": 644,
    "start_time": "2021-08-02T16:02:44.681Z"
   },
   {
    "duration": 25,
    "start_time": "2021-08-02T16:02:47.312Z"
   },
   {
    "duration": 3,
    "start_time": "2021-08-02T16:02:53.487Z"
   },
   {
    "duration": 36,
    "start_time": "2021-08-02T16:02:56.309Z"
   },
   {
    "duration": 35,
    "start_time": "2021-08-02T16:03:00.084Z"
   },
   {
    "duration": 40,
    "start_time": "2021-08-02T16:03:11.628Z"
   },
   {
    "duration": 10,
    "start_time": "2021-08-02T16:06:21.514Z"
   },
   {
    "duration": 22,
    "start_time": "2021-08-02T16:08:16.373Z"
   },
   {
    "duration": 23,
    "start_time": "2021-08-02T16:09:43.211Z"
   },
   {
    "duration": 269,
    "start_time": "2021-08-02T16:09:51.216Z"
   },
   {
    "duration": 640,
    "start_time": "2021-08-02T16:10:05.085Z"
   },
   {
    "duration": 26,
    "start_time": "2021-08-02T16:10:05.727Z"
   },
   {
    "duration": 3,
    "start_time": "2021-08-02T16:10:05.755Z"
   },
   {
    "duration": 42,
    "start_time": "2021-08-02T16:10:05.760Z"
   },
   {
    "duration": 22,
    "start_time": "2021-08-02T16:10:05.804Z"
   },
   {
    "duration": 22,
    "start_time": "2021-08-02T16:10:05.827Z"
   },
   {
    "duration": 41,
    "start_time": "2021-08-02T16:10:05.851Z"
   },
   {
    "duration": 279,
    "start_time": "2021-08-02T16:10:05.895Z"
   },
   {
    "duration": 5,
    "start_time": "2021-08-02T16:10:06.176Z"
   },
   {
    "duration": 770,
    "start_time": "2021-08-02T16:10:06.182Z"
   },
   {
    "duration": 4,
    "start_time": "2021-08-02T16:10:06.954Z"
   },
   {
    "duration": 26,
    "start_time": "2021-08-02T16:10:06.960Z"
   },
   {
    "duration": 12,
    "start_time": "2021-08-02T16:10:06.987Z"
   },
   {
    "duration": 15,
    "start_time": "2021-08-02T16:10:07.001Z"
   },
   {
    "duration": 76,
    "start_time": "2021-08-02T16:10:07.017Z"
   },
   {
    "duration": 609,
    "start_time": "2021-08-02T16:10:07.094Z"
   },
   {
    "duration": 2774,
    "start_time": "2021-08-02T16:10:07.706Z"
   },
   {
    "duration": 4,
    "start_time": "2021-08-02T16:10:10.482Z"
   },
   {
    "duration": 20,
    "start_time": "2021-08-02T16:10:10.487Z"
   },
   {
    "duration": 31,
    "start_time": "2021-08-02T16:10:10.509Z"
   },
   {
    "duration": 6,
    "start_time": "2021-08-02T16:10:10.542Z"
   },
   {
    "duration": 12,
    "start_time": "2021-08-02T16:10:10.550Z"
   },
   {
    "duration": 57,
    "start_time": "2021-08-02T16:10:10.566Z"
   },
   {
    "duration": 25,
    "start_time": "2021-08-02T16:10:10.625Z"
   },
   {
    "duration": 5,
    "start_time": "2021-08-02T16:10:10.652Z"
   },
   {
    "duration": 5,
    "start_time": "2021-08-02T16:10:10.659Z"
   },
   {
    "duration": 31,
    "start_time": "2021-08-02T16:10:10.665Z"
   },
   {
    "duration": 354,
    "start_time": "2021-08-02T16:10:10.698Z"
   },
   {
    "duration": -2234,
    "start_time": "2021-08-02T16:10:13.287Z"
   },
   {
    "duration": 4,
    "start_time": "2021-08-02T16:38:34.666Z"
   },
   {
    "duration": 79,
    "start_time": "2021-08-02T16:51:40.743Z"
   },
   {
    "duration": 4,
    "start_time": "2021-08-02T16:53:12.544Z"
   },
   {
    "duration": 674,
    "start_time": "2021-08-02T16:53:25.672Z"
   },
   {
    "duration": 25,
    "start_time": "2021-08-02T16:53:26.347Z"
   },
   {
    "duration": 3,
    "start_time": "2021-08-02T16:53:26.374Z"
   },
   {
    "duration": 20,
    "start_time": "2021-08-02T16:53:26.391Z"
   },
   {
    "duration": 21,
    "start_time": "2021-08-02T16:53:26.413Z"
   },
   {
    "duration": 20,
    "start_time": "2021-08-02T16:53:26.435Z"
   },
   {
    "duration": 44,
    "start_time": "2021-08-02T16:53:26.457Z"
   },
   {
    "duration": 273,
    "start_time": "2021-08-02T16:53:26.503Z"
   },
   {
    "duration": 14,
    "start_time": "2021-08-02T16:53:26.778Z"
   },
   {
    "duration": 750,
    "start_time": "2021-08-02T16:53:26.794Z"
   },
   {
    "duration": 6,
    "start_time": "2021-08-02T16:53:27.545Z"
   },
   {
    "duration": 13,
    "start_time": "2021-08-02T16:53:27.553Z"
   },
   {
    "duration": 6,
    "start_time": "2021-08-02T16:53:27.567Z"
   },
   {
    "duration": 5,
    "start_time": "2021-08-02T16:53:27.590Z"
   },
   {
    "duration": 71,
    "start_time": "2021-08-02T16:53:27.596Z"
   },
   {
    "duration": 603,
    "start_time": "2021-08-02T16:53:27.669Z"
   },
   {
    "duration": 2512,
    "start_time": "2021-08-02T16:53:28.274Z"
   },
   {
    "duration": 6,
    "start_time": "2021-08-02T16:53:30.787Z"
   },
   {
    "duration": 28,
    "start_time": "2021-08-02T16:53:30.795Z"
   },
   {
    "duration": 33,
    "start_time": "2021-08-02T16:53:30.825Z"
   },
   {
    "duration": 8,
    "start_time": "2021-08-02T16:53:30.859Z"
   },
   {
    "duration": 22,
    "start_time": "2021-08-02T16:53:30.868Z"
   },
   {
    "duration": 43,
    "start_time": "2021-08-02T16:53:30.893Z"
   },
   {
    "duration": 14,
    "start_time": "2021-08-02T16:53:30.938Z"
   },
   {
    "duration": 23,
    "start_time": "2021-08-02T16:53:30.954Z"
   },
   {
    "duration": 27,
    "start_time": "2021-08-02T16:53:30.978Z"
   },
   {
    "duration": 25,
    "start_time": "2021-08-02T16:53:31.006Z"
   },
   {
    "duration": 28,
    "start_time": "2021-08-02T16:53:31.032Z"
   },
   {
    "duration": 29,
    "start_time": "2021-08-02T16:53:31.061Z"
   }
  ],
  "kernelspec": {
   "display_name": "Python 3 (ipykernel)",
   "language": "python",
   "name": "python3"
  },
  "language_info": {
   "codemirror_mode": {
    "name": "ipython",
    "version": 3
   },
   "file_extension": ".py",
   "mimetype": "text/x-python",
   "name": "python",
   "nbconvert_exporter": "python",
   "pygments_lexer": "ipython3",
   "version": "3.9.7"
  },
  "toc": {
   "base_numbering": 1,
   "nav_menu": {},
   "number_sections": true,
   "sideBar": true,
   "skip_h1_title": true,
   "title_cell": "Table of Contents",
   "title_sidebar": "Contents",
   "toc_cell": false,
   "toc_position": {},
   "toc_section_display": true,
   "toc_window_display": false
  }
 },
 "nbformat": 4,
 "nbformat_minor": 4
}
