{
 "cells": [
  {
   "cell_type": "markdown",
   "metadata": {
    "toc": true
   },
   "source": [
    "<h1>Содержание<span class=\"tocSkip\"></span></h1>\n",
    "<div class=\"toc\"><ul class=\"toc-item\"><li><span><a href=\"#Загрузка-данных\" data-toc-modified-id=\"Загрузка-данных-1\"><span class=\"toc-item-num\">1&nbsp;&nbsp;</span>Загрузка данных</a></span></li><li><span><a href=\"#Умножение-матриц\" data-toc-modified-id=\"Умножение-матриц-2\"><span class=\"toc-item-num\">2&nbsp;&nbsp;</span>Умножение матриц</a></span></li><li><span><a href=\"#Алгоритм-преобразования\" data-toc-modified-id=\"Алгоритм-преобразования-3\"><span class=\"toc-item-num\">3&nbsp;&nbsp;</span>Алгоритм преобразования</a></span></li><li><span><a href=\"#Проверка-алгоритма\" data-toc-modified-id=\"Проверка-алгоритма-4\"><span class=\"toc-item-num\">4&nbsp;&nbsp;</span>Проверка алгоритма</a></span></li><li><span><a href=\"#Чек-лист-проверки\" data-toc-modified-id=\"Чек-лист-проверки-5\"><span class=\"toc-item-num\">5&nbsp;&nbsp;</span>Чек-лист проверки</a></span></li></ul></div>"
   ]
  },
  {
   "cell_type": "markdown",
   "metadata": {},
   "source": [
    "# Защита персональных данных клиентов"
   ]
  },
  {
   "cell_type": "markdown",
   "metadata": {},
   "source": [
    "Вам нужно защитить данные клиентов страховой компании «Хоть потоп». Разработайте такой метод преобразования данных, чтобы по ним было сложно восстановить персональную информацию. Обоснуйте корректность его работы.\n",
    "\n",
    "Нужно защитить данные, чтобы при преобразовании качество моделей машинного обучения не ухудшилось. Подбирать наилучшую модель не требуется."
   ]
  },
  {
   "cell_type": "markdown",
   "metadata": {},
   "source": [
    "## Загрузка данных"
   ]
  },
  {
   "cell_type": "code",
   "execution_count": 1,
   "metadata": {},
   "outputs": [],
   "source": [
    "import pandas as pd\n",
    "from sklearn.linear_model import LinearRegression\n",
    "from sklearn.model_selection import train_test_split\n",
    "from sklearn.metrics import accuracy_score\n",
    "from sklearn.metrics import r2_score\n",
    "import numpy as np"
   ]
  },
  {
   "cell_type": "code",
   "execution_count": 2,
   "metadata": {},
   "outputs": [
    {
     "data": {
      "text/html": [
       "<div>\n",
       "<style scoped>\n",
       "    .dataframe tbody tr th:only-of-type {\n",
       "        vertical-align: middle;\n",
       "    }\n",
       "\n",
       "    .dataframe tbody tr th {\n",
       "        vertical-align: top;\n",
       "    }\n",
       "\n",
       "    .dataframe thead th {\n",
       "        text-align: right;\n",
       "    }\n",
       "</style>\n",
       "<table border=\"1\" class=\"dataframe\">\n",
       "  <thead>\n",
       "    <tr style=\"text-align: right;\">\n",
       "      <th></th>\n",
       "      <th>Пол</th>\n",
       "      <th>Возраст</th>\n",
       "      <th>Зарплата</th>\n",
       "      <th>Члены семьи</th>\n",
       "      <th>Страховые выплаты</th>\n",
       "    </tr>\n",
       "  </thead>\n",
       "  <tbody>\n",
       "    <tr>\n",
       "      <td>0</td>\n",
       "      <td>1</td>\n",
       "      <td>41.0</td>\n",
       "      <td>49600.0</td>\n",
       "      <td>1</td>\n",
       "      <td>0</td>\n",
       "    </tr>\n",
       "    <tr>\n",
       "      <td>1</td>\n",
       "      <td>0</td>\n",
       "      <td>46.0</td>\n",
       "      <td>38000.0</td>\n",
       "      <td>1</td>\n",
       "      <td>1</td>\n",
       "    </tr>\n",
       "    <tr>\n",
       "      <td>2</td>\n",
       "      <td>0</td>\n",
       "      <td>29.0</td>\n",
       "      <td>21000.0</td>\n",
       "      <td>0</td>\n",
       "      <td>0</td>\n",
       "    </tr>\n",
       "    <tr>\n",
       "      <td>3</td>\n",
       "      <td>0</td>\n",
       "      <td>21.0</td>\n",
       "      <td>41700.0</td>\n",
       "      <td>2</td>\n",
       "      <td>0</td>\n",
       "    </tr>\n",
       "    <tr>\n",
       "      <td>4</td>\n",
       "      <td>1</td>\n",
       "      <td>28.0</td>\n",
       "      <td>26100.0</td>\n",
       "      <td>0</td>\n",
       "      <td>0</td>\n",
       "    </tr>\n",
       "  </tbody>\n",
       "</table>\n",
       "</div>"
      ],
      "text/plain": [
       "   Пол  Возраст  Зарплата  Члены семьи  Страховые выплаты\n",
       "0    1     41.0   49600.0            1                  0\n",
       "1    0     46.0   38000.0            1                  1\n",
       "2    0     29.0   21000.0            0                  0\n",
       "3    0     21.0   41700.0            2                  0\n",
       "4    1     28.0   26100.0            0                  0"
      ]
     },
     "execution_count": 2,
     "metadata": {},
     "output_type": "execute_result"
    }
   ],
   "source": [
    "data = pd.read_csv(\"/datasets/insurance.csv\")\n",
    "data.head()"
   ]
  },
  {
   "cell_type": "code",
   "execution_count": 3,
   "metadata": {},
   "outputs": [
    {
     "name": "stdout",
     "output_type": "stream",
     "text": [
      "<class 'pandas.core.frame.DataFrame'>\n",
      "RangeIndex: 5000 entries, 0 to 4999\n",
      "Data columns (total 5 columns):\n",
      "Пол                  5000 non-null int64\n",
      "Возраст              5000 non-null float64\n",
      "Зарплата             5000 non-null float64\n",
      "Члены семьи          5000 non-null int64\n",
      "Страховые выплаты    5000 non-null int64\n",
      "dtypes: float64(2), int64(3)\n",
      "memory usage: 195.4 KB\n"
     ]
    }
   ],
   "source": [
    "data.info()"
   ]
  },
  {
   "cell_type": "code",
   "execution_count": 4,
   "metadata": {},
   "outputs": [
    {
     "data": {
      "text/html": [
       "<div>\n",
       "<style scoped>\n",
       "    .dataframe tbody tr th:only-of-type {\n",
       "        vertical-align: middle;\n",
       "    }\n",
       "\n",
       "    .dataframe tbody tr th {\n",
       "        vertical-align: top;\n",
       "    }\n",
       "\n",
       "    .dataframe thead th {\n",
       "        text-align: right;\n",
       "    }\n",
       "</style>\n",
       "<table border=\"1\" class=\"dataframe\">\n",
       "  <thead>\n",
       "    <tr style=\"text-align: right;\">\n",
       "      <th></th>\n",
       "      <th>Пол</th>\n",
       "      <th>Возраст</th>\n",
       "      <th>Зарплата</th>\n",
       "      <th>Члены семьи</th>\n",
       "      <th>Страховые выплаты</th>\n",
       "    </tr>\n",
       "  </thead>\n",
       "  <tbody>\n",
       "    <tr>\n",
       "      <td>count</td>\n",
       "      <td>5000.000000</td>\n",
       "      <td>5000.000000</td>\n",
       "      <td>5000.000000</td>\n",
       "      <td>5000.000000</td>\n",
       "      <td>5000.000000</td>\n",
       "    </tr>\n",
       "    <tr>\n",
       "      <td>mean</td>\n",
       "      <td>0.499000</td>\n",
       "      <td>30.952800</td>\n",
       "      <td>39916.360000</td>\n",
       "      <td>1.194200</td>\n",
       "      <td>0.148000</td>\n",
       "    </tr>\n",
       "    <tr>\n",
       "      <td>std</td>\n",
       "      <td>0.500049</td>\n",
       "      <td>8.440807</td>\n",
       "      <td>9900.083569</td>\n",
       "      <td>1.091387</td>\n",
       "      <td>0.463183</td>\n",
       "    </tr>\n",
       "    <tr>\n",
       "      <td>min</td>\n",
       "      <td>0.000000</td>\n",
       "      <td>18.000000</td>\n",
       "      <td>5300.000000</td>\n",
       "      <td>0.000000</td>\n",
       "      <td>0.000000</td>\n",
       "    </tr>\n",
       "    <tr>\n",
       "      <td>25%</td>\n",
       "      <td>0.000000</td>\n",
       "      <td>24.000000</td>\n",
       "      <td>33300.000000</td>\n",
       "      <td>0.000000</td>\n",
       "      <td>0.000000</td>\n",
       "    </tr>\n",
       "    <tr>\n",
       "      <td>50%</td>\n",
       "      <td>0.000000</td>\n",
       "      <td>30.000000</td>\n",
       "      <td>40200.000000</td>\n",
       "      <td>1.000000</td>\n",
       "      <td>0.000000</td>\n",
       "    </tr>\n",
       "    <tr>\n",
       "      <td>75%</td>\n",
       "      <td>1.000000</td>\n",
       "      <td>37.000000</td>\n",
       "      <td>46600.000000</td>\n",
       "      <td>2.000000</td>\n",
       "      <td>0.000000</td>\n",
       "    </tr>\n",
       "    <tr>\n",
       "      <td>max</td>\n",
       "      <td>1.000000</td>\n",
       "      <td>65.000000</td>\n",
       "      <td>79000.000000</td>\n",
       "      <td>6.000000</td>\n",
       "      <td>5.000000</td>\n",
       "    </tr>\n",
       "  </tbody>\n",
       "</table>\n",
       "</div>"
      ],
      "text/plain": [
       "               Пол      Возраст      Зарплата  Члены семьи  Страховые выплаты\n",
       "count  5000.000000  5000.000000   5000.000000  5000.000000        5000.000000\n",
       "mean      0.499000    30.952800  39916.360000     1.194200           0.148000\n",
       "std       0.500049     8.440807   9900.083569     1.091387           0.463183\n",
       "min       0.000000    18.000000   5300.000000     0.000000           0.000000\n",
       "25%       0.000000    24.000000  33300.000000     0.000000           0.000000\n",
       "50%       0.000000    30.000000  40200.000000     1.000000           0.000000\n",
       "75%       1.000000    37.000000  46600.000000     2.000000           0.000000\n",
       "max       1.000000    65.000000  79000.000000     6.000000           5.000000"
      ]
     },
     "execution_count": 4,
     "metadata": {},
     "output_type": "execute_result"
    }
   ],
   "source": [
    "data.describe()"
   ]
  },
  {
   "cell_type": "markdown",
   "metadata": {},
   "source": [
    "Данные выглядят нормально. Есть значения float, где должно быть int, но так даже лучше в нашей ситуации, так как нам всё-равно домнажать на float матрицу."
   ]
  },
  {
   "cell_type": "markdown",
   "metadata": {},
   "source": [
    "## Умножение матриц"
   ]
  },
  {
   "cell_type": "markdown",
   "metadata": {},
   "source": [
    "В этом задании вы можете записывать формулы в *Jupyter Notebook.*\n",
    "\n",
    "Чтобы записать формулу внутри текста, окружите её символами доллара \\\\$; если снаружи —  двойными символами \\\\$\\\\$. Эти формулы записываются на языке вёрстки *LaTeX.* \n",
    "\n",
    "Для примера мы записали формулы линейной регрессии. Можете их скопировать и отредактировать, чтобы решить задачу.\n",
    "\n",
    "Работать в *LaTeX* необязательно."
   ]
  },
  {
   "cell_type": "markdown",
   "metadata": {},
   "source": [
    "Обозначения:\n",
    "\n",
    "- $X$ — матрица признаков (нулевой столбец состоит из единиц)\n",
    "\n",
    "- $y$ — вектор целевого признака\n",
    "\n",
    "- $P$ — матрица, на которую умножаются признаки\n",
    "\n",
    "- $w$ — вектор весов линейной регрессии (нулевой элемент равен сдвигу)"
   ]
  },
  {
   "cell_type": "markdown",
   "metadata": {},
   "source": [
    "Предсказания:\n",
    "\n",
    "$$\n",
    "a = Xw\n",
    "$$\n",
    "\n",
    "Задача обучения:\n",
    "\n",
    "$$\n",
    "w = \\arg\\min_w MSE(Xw, y)\n",
    "$$\n",
    "\n",
    "Формула обучения:\n",
    "\n",
    "$$\n",
    "w = (X^T X)^{-1} X^T y\n",
    "$$"
   ]
  },
  {
   "cell_type": "markdown",
   "metadata": {},
   "source": [
    "**Ответ:** нет"
   ]
  },
  {
   "cell_type": "markdown",
   "metadata": {},
   "source": [
    "**Обоснование:** запишем формулу предсказания, подставив w: \n",
    "$$\n",
    "1) a_1 = X(X^T X)^{-1} X^T y\n",
    "$$\n",
    "Дальше если домножить матрицу X на другую обратимую матрицу, то получим:\n",
    "$$\n",
    "2) a_2 = XP((XP)^T XP)^{-1} (XP)^T y\n",
    "$$\n",
    "Дальше будем работать с выражением 2) и докажем, что оно эквивалентно выражению 1):\n",
    "$$\n",
    "a_2 = XP((XP)^T XP)^{-1} (XP)^T y = XP((P^TX^TX)P)^{-1}(XP)^Ty = XPP^{-1}(P^T(X^TX))^{-1}P^TX^T y= XPP^{-1}(X^TX)(P^T)^{-1}P^TX^T y\n",
    "$$\n",
    "Сокращаем P-шки и получаем:\n",
    "$$\n",
    "a_2 = XPP^{-1}(X^TX)(P^T)^{-1}P^TX^T y = X(X^TX)X^T y = a_1\n",
    "$$"
   ]
  },
  {
   "cell_type": "code",
   "execution_count": 5,
   "metadata": {},
   "outputs": [],
   "source": [
    "features = data.drop(\"Страховые выплаты\", axis = True)\n",
    "features = features.values\n",
    "\n",
    "target = data[\"Страховые выплаты\"]\n",
    "train_features, test_features, train_target, test_target = train_test_split(features, target, test_size = .25, random_state = 1)"
   ]
  },
  {
   "cell_type": "code",
   "execution_count": 6,
   "metadata": {},
   "outputs": [],
   "source": [
    "def check(train_features, test_features, train_target, test_target):\n",
    "    model = LinearRegression()\n",
    "    \n",
    "    model.fit(train_features, train_target)\n",
    "    predicted = model.predict(test_features)\n",
    "    print(\"R2 score before encyption:\",r2_score(test_target, predicted))\n",
    "\n",
    "    P = np.random.uniform(size = (4,4))\n",
    "    try:\n",
    "        np.linalg.inv(P)\n",
    "    except LinAlgError:\n",
    "        return 0,0,0\n",
    "    train_features_encrypted = train_features @ P\n",
    "    test_features_encrypted = test_features @ P\n",
    "\n",
    "    model.fit(train_features_encrypted, train_target)\n",
    "    predicted = model.predict(test_features_encrypted)\n",
    "    print(\"R2 score after encyption:\",r2_score(test_target, predicted))\n",
    "    return train_features_encrypted, test_features_encrypted, P"
   ]
  },
  {
   "cell_type": "code",
   "execution_count": 7,
   "metadata": {},
   "outputs": [
    {
     "name": "stdout",
     "output_type": "stream",
     "text": [
      "R2 score before encyption: 0.3237732279242751\n",
      "R2 score after encyption: 0.3237732279258819\n"
     ]
    }
   ],
   "source": [
    "res = check(train_features, test_features, train_target, test_target)"
   ]
  },
  {
   "cell_type": "markdown",
   "metadata": {},
   "source": [
    "## Алгоритм преобразования"
   ]
  },
  {
   "cell_type": "markdown",
   "metadata": {},
   "source": [
    "**Алгоритм**\n",
    "\n",
    "1. Создаём случайную матрицу P, со случайными значениями из однородного распределения с интервалом от 0 до единицы.\n",
    "2. Проверяем получившуюся матрицу на обратимость, если обратима - идём дальше, иначе - пункт 1.(В нашем случае при получении в return 0,0,0 вызываем функцию снова)\n",
    "2. Сохраняем матрицу P.\n",
    "3. Домножаем матрицу признаков на матрицу P.\n",
    "4. Сохраняем преобразованную матрицу."
   ]
  },
  {
   "cell_type": "markdown",
   "metadata": {},
   "source": [
    "**Обоснование**\n",
    "\n",
    "Получившаяся матрица будет обратимой с вероятностью 0.999999... поэтому можем не делать проверку на обратимость. Также матрица задана случайно, поэтому не будет явных(всё-таки генераторов случайных чисел пока нет. Пользуемся генераторами псевдослучайных) закономерностей, которые помогли бы дешифровать матрицу обратно. Итого: по получившейся матрице нельзя найти закономерности, что делает задачу дешифровки без ключа практически невыполнимой. Даже если злоумышленник будет знать, что данные зашифрованны(что тоже нужно узнать), то легче пойти и найти человека с ключом, чем искать при перемножении каких матриц получится искомая, не зная ничего про эти матрицы, кроме количества столбцов в одной, и столбцов и строк в другой."
   ]
  },
  {
   "cell_type": "markdown",
   "metadata": {},
   "source": [
    "## Проверка алгоритма"
   ]
  },
  {
   "cell_type": "code",
   "execution_count": 8,
   "metadata": {},
   "outputs": [
    {
     "name": "stdout",
     "output_type": "stream",
     "text": [
      "R2 score before encyption: 0.3237732279242751\n",
      "R2 score after encyption: 0.32377322792472685\n"
     ]
    }
   ],
   "source": [
    "res = check(train_features, test_features, train_target, test_target)"
   ]
  },
  {
   "cell_type": "markdown",
   "metadata": {},
   "source": [
    "Тот же самый пример из пункта 2. Да, есть различие в метриках, но оно порядка 10^(-10), что скорее погрешность вычислений, а не реальная разница."
   ]
  }
 ],
 "metadata": {
  "ExecuteTimeLog": [
   {
    "duration": 729,
    "start_time": "2021-11-23T12:45:35.512Z"
   },
   {
    "duration": 23,
    "start_time": "2021-11-23T12:46:09.440Z"
   },
   {
    "duration": 658,
    "start_time": "2021-11-23T12:46:16.737Z"
   },
   {
    "duration": 9,
    "start_time": "2021-11-23T12:46:24.696Z"
   },
   {
    "duration": 35,
    "start_time": "2021-11-23T12:46:33.870Z"
   },
   {
    "duration": 755,
    "start_time": "2021-11-23T13:34:56.297Z"
   },
   {
    "duration": 307,
    "start_time": "2021-11-23T13:35:15.140Z"
   },
   {
    "duration": 377,
    "start_time": "2021-11-23T13:36:52.584Z"
   },
   {
    "duration": 5,
    "start_time": "2021-11-23T13:37:09.481Z"
   },
   {
    "duration": 5,
    "start_time": "2021-11-23T13:37:35.453Z"
   },
   {
    "duration": 5,
    "start_time": "2021-11-23T13:38:30.572Z"
   },
   {
    "duration": 10,
    "start_time": "2021-11-23T13:40:02.150Z"
   },
   {
    "duration": 4,
    "start_time": "2021-11-23T13:42:25.463Z"
   },
   {
    "duration": 419,
    "start_time": "2021-11-23T13:42:49.081Z"
   },
   {
    "duration": 464,
    "start_time": "2021-11-23T13:43:34.702Z"
   },
   {
    "duration": 319,
    "start_time": "2021-11-23T13:44:35.247Z"
   },
   {
    "duration": 10,
    "start_time": "2021-11-23T13:44:39.132Z"
   },
   {
    "duration": 125,
    "start_time": "2021-11-23T13:44:55.561Z"
   },
   {
    "duration": 98,
    "start_time": "2021-11-23T13:45:28.208Z"
   },
   {
    "duration": 878,
    "start_time": "2021-11-23T13:48:43.488Z"
   },
   {
    "duration": 417,
    "start_time": "2021-11-23T13:48:59.593Z"
   },
   {
    "duration": 1117,
    "start_time": "2021-11-23T13:49:09.271Z"
   },
   {
    "duration": 200,
    "start_time": "2021-11-23T14:13:21.801Z"
   },
   {
    "duration": 996,
    "start_time": "2021-11-23T14:13:27.090Z"
   },
   {
    "duration": 8609,
    "start_time": "2021-11-23T14:13:35.277Z"
   },
   {
    "duration": 37252,
    "start_time": "2021-11-23T14:14:29.632Z"
   },
   {
    "duration": 5,
    "start_time": "2021-11-23T14:18:04.240Z"
   },
   {
    "duration": 5,
    "start_time": "2021-11-23T14:18:35.475Z"
   },
   {
    "duration": 189,
    "start_time": "2021-11-23T14:19:00.206Z"
   },
   {
    "duration": 157,
    "start_time": "2021-11-23T14:19:05.113Z"
   },
   {
    "duration": 240,
    "start_time": "2021-11-23T14:19:11.316Z"
   },
   {
    "duration": 177,
    "start_time": "2021-11-23T14:21:09.535Z"
   },
   {
    "duration": 185,
    "start_time": "2021-11-23T14:21:21.407Z"
   },
   {
    "duration": 170,
    "start_time": "2021-11-23T14:21:25.815Z"
   },
   {
    "duration": 270,
    "start_time": "2021-11-23T14:22:14.232Z"
   },
   {
    "duration": 181,
    "start_time": "2021-11-23T14:22:16.486Z"
   },
   {
    "duration": 178,
    "start_time": "2021-11-23T14:22:18.849Z"
   },
   {
    "duration": 188,
    "start_time": "2021-11-23T14:24:01.066Z"
   },
   {
    "duration": 178,
    "start_time": "2021-11-23T14:24:10.293Z"
   },
   {
    "duration": 180,
    "start_time": "2021-11-23T14:24:13.550Z"
   },
   {
    "duration": 195,
    "start_time": "2021-11-23T14:24:20.146Z"
   },
   {
    "duration": 1119,
    "start_time": "2021-11-23T14:24:28.071Z"
   },
   {
    "duration": 973,
    "start_time": "2021-11-23T14:24:35.214Z"
   },
   {
    "duration": 1029,
    "start_time": "2021-11-23T14:24:39.456Z"
   },
   {
    "duration": 371,
    "start_time": "2021-11-23T14:29:31.690Z"
   },
   {
    "duration": 386,
    "start_time": "2021-11-23T14:29:40.476Z"
   },
   {
    "duration": 342,
    "start_time": "2021-11-23T14:29:45.711Z"
   },
   {
    "duration": 430,
    "start_time": "2021-11-23T14:29:48.427Z"
   },
   {
    "duration": 554,
    "start_time": "2021-11-23T14:29:51.446Z"
   },
   {
    "duration": 440,
    "start_time": "2021-11-23T14:29:56.251Z"
   },
   {
    "duration": 440,
    "start_time": "2021-11-23T14:29:58.854Z"
   },
   {
    "duration": 365,
    "start_time": "2021-11-23T14:30:02.397Z"
   },
   {
    "duration": 380,
    "start_time": "2021-11-23T14:30:05.777Z"
   },
   {
    "duration": 402,
    "start_time": "2021-11-23T14:30:08.457Z"
   },
   {
    "duration": 9134,
    "start_time": "2021-11-23T14:30:36.153Z"
   },
   {
    "duration": 780,
    "start_time": "2021-11-23T14:32:21.349Z"
   },
   {
    "duration": 5020,
    "start_time": "2021-11-23T14:32:36.164Z"
   },
   {
    "duration": 5235,
    "start_time": "2021-11-23T14:33:06.048Z"
   },
   {
    "duration": 4681,
    "start_time": "2021-11-23T14:33:16.509Z"
   },
   {
    "duration": 5067,
    "start_time": "2021-11-23T14:33:22.217Z"
   },
   {
    "duration": 3248,
    "start_time": "2021-11-23T14:33:28.041Z"
   },
   {
    "duration": 5035,
    "start_time": "2021-11-23T14:33:32.257Z"
   },
   {
    "duration": 4638,
    "start_time": "2021-11-23T14:34:15.144Z"
   },
   {
    "duration": 4089,
    "start_time": "2021-11-23T14:34:27.495Z"
   },
   {
    "duration": 7177,
    "start_time": "2021-11-23T14:34:36.515Z"
   },
   {
    "duration": 527,
    "start_time": "2021-11-23T14:35:03.999Z"
   },
   {
    "duration": 489,
    "start_time": "2021-11-23T14:35:13.062Z"
   },
   {
    "duration": 240,
    "start_time": "2021-11-23T14:35:26.752Z"
   },
   {
    "duration": 32242,
    "start_time": "2021-11-23T14:35:42.599Z"
   },
   {
    "duration": 4684,
    "start_time": "2021-11-23T14:51:27.004Z"
   },
   {
    "duration": 2807,
    "start_time": "2021-11-23T14:52:51.386Z"
   },
   {
    "duration": 2250,
    "start_time": "2021-11-23T14:53:30.440Z"
   },
   {
    "duration": 4413,
    "start_time": "2021-11-23T14:54:30.073Z"
   },
   {
    "duration": 3372,
    "start_time": "2021-11-23T14:54:37.714Z"
   },
   {
    "duration": 4384,
    "start_time": "2021-11-23T14:55:09.501Z"
   },
   {
    "duration": 2181,
    "start_time": "2021-11-23T14:55:16.517Z"
   },
   {
    "duration": 2607,
    "start_time": "2021-11-23T14:56:43.778Z"
   },
   {
    "duration": 12,
    "start_time": "2021-11-23T14:57:07.084Z"
   },
   {
    "duration": 23,
    "start_time": "2021-11-23T14:57:17.667Z"
   },
   {
    "duration": 26,
    "start_time": "2021-11-23T14:58:01.026Z"
   },
   {
    "duration": 22,
    "start_time": "2021-11-23T14:58:07.910Z"
   },
   {
    "duration": 12,
    "start_time": "2021-11-23T14:58:24.815Z"
   },
   {
    "duration": 3034,
    "start_time": "2021-11-23T14:58:52.150Z"
   },
   {
    "duration": 5920,
    "start_time": "2021-11-23T14:59:21.863Z"
   },
   {
    "duration": 6586,
    "start_time": "2021-11-23T15:00:27.197Z"
   },
   {
    "duration": 6003,
    "start_time": "2021-11-23T15:00:37.382Z"
   },
   {
    "duration": 9404,
    "start_time": "2021-11-23T15:00:45.088Z"
   },
   {
    "duration": 6826,
    "start_time": "2021-11-23T15:55:56.580Z"
   },
   {
    "duration": 6378,
    "start_time": "2021-11-23T15:56:21.616Z"
   },
   {
    "duration": 5487,
    "start_time": "2021-11-23T15:59:50.800Z"
   },
   {
    "duration": 5170,
    "start_time": "2021-11-23T16:00:02.036Z"
   },
   {
    "duration": 4230,
    "start_time": "2021-11-23T16:00:26.754Z"
   },
   {
    "duration": 6221,
    "start_time": "2021-11-23T16:01:53.761Z"
   },
   {
    "duration": 1948,
    "start_time": "2021-11-23T16:04:07.235Z"
   },
   {
    "duration": 5043,
    "start_time": "2021-11-23T16:06:28.056Z"
   },
   {
    "duration": 3358,
    "start_time": "2021-11-23T16:06:45.224Z"
   },
   {
    "duration": 2988,
    "start_time": "2021-11-23T16:09:06.095Z"
   },
   {
    "duration": 3532,
    "start_time": "2021-11-23T16:10:29.750Z"
   },
   {
    "duration": 1813,
    "start_time": "2021-11-23T16:13:23.879Z"
   },
   {
    "duration": 5308,
    "start_time": "2021-11-23T16:13:48.379Z"
   },
   {
    "duration": 4247,
    "start_time": "2021-11-23T16:14:04.138Z"
   },
   {
    "duration": 1365,
    "start_time": "2021-11-23T16:15:20.086Z"
   },
   {
    "duration": 37,
    "start_time": "2021-11-23T16:15:21.454Z"
   },
   {
    "duration": 11,
    "start_time": "2021-11-23T16:15:21.494Z"
   },
   {
    "duration": 35,
    "start_time": "2021-11-23T16:15:21.508Z"
   },
   {
    "duration": 5145,
    "start_time": "2021-11-23T16:15:21.546Z"
   },
   {
    "duration": 3506,
    "start_time": "2021-11-23T16:15:26.782Z"
   },
   {
    "duration": 8493,
    "start_time": "2021-11-23T16:15:30.292Z"
   },
   {
    "duration": 3754,
    "start_time": "2021-11-23T16:16:33.729Z"
   },
   {
    "duration": 8,
    "start_time": "2021-11-23T16:17:09.307Z"
   },
   {
    "duration": 4508,
    "start_time": "2021-11-23T16:18:25.278Z"
   },
   {
    "duration": 2791,
    "start_time": "2021-11-23T16:18:34.697Z"
   },
   {
    "duration": 2854,
    "start_time": "2021-11-23T16:18:44.139Z"
   },
   {
    "duration": 1181,
    "start_time": "2021-11-23T16:18:49.315Z"
   },
   {
    "duration": 1799,
    "start_time": "2021-11-23T16:19:02.285Z"
   },
   {
    "duration": 7,
    "start_time": "2021-11-23T16:19:21.566Z"
   },
   {
    "duration": 6342,
    "start_time": "2021-11-23T16:19:22.448Z"
   },
   {
    "duration": 133,
    "start_time": "2021-11-23T16:19:44.616Z"
   },
   {
    "duration": 8,
    "start_time": "2021-11-23T16:19:48.672Z"
   },
   {
    "duration": 144,
    "start_time": "2021-11-23T16:19:49.418Z"
   },
   {
    "duration": 92,
    "start_time": "2021-11-23T16:21:22.392Z"
   },
   {
    "duration": 92,
    "start_time": "2021-11-23T16:21:29.804Z"
   },
   {
    "duration": 7,
    "start_time": "2021-11-23T16:21:43.314Z"
   },
   {
    "duration": 163,
    "start_time": "2021-11-23T16:21:43.752Z"
   },
   {
    "duration": 1370,
    "start_time": "2021-11-23T16:22:34.928Z"
   },
   {
    "duration": 36,
    "start_time": "2021-11-23T16:22:36.301Z"
   },
   {
    "duration": 10,
    "start_time": "2021-11-23T16:22:36.341Z"
   },
   {
    "duration": 58,
    "start_time": "2021-11-23T16:22:36.353Z"
   },
   {
    "duration": 8,
    "start_time": "2021-11-23T16:22:36.413Z"
   },
   {
    "duration": 193,
    "start_time": "2021-11-23T16:22:36.424Z"
   },
   {
    "duration": 7566,
    "start_time": "2021-11-23T16:22:36.619Z"
   },
   {
    "duration": 7093,
    "start_time": "2021-11-23T16:22:44.189Z"
   },
   {
    "duration": 133,
    "start_time": "2021-11-23T16:22:51.290Z"
   },
   {
    "duration": 1388,
    "start_time": "2021-11-23T16:23:00.218Z"
   },
   {
    "duration": 37,
    "start_time": "2021-11-23T16:23:01.609Z"
   },
   {
    "duration": 9,
    "start_time": "2021-11-23T16:23:01.648Z"
   },
   {
    "duration": 55,
    "start_time": "2021-11-23T16:23:01.660Z"
   },
   {
    "duration": 12,
    "start_time": "2021-11-23T16:23:01.718Z"
   },
   {
    "duration": 198,
    "start_time": "2021-11-23T16:23:01.734Z"
   },
   {
    "duration": 3847,
    "start_time": "2021-11-23T16:23:01.935Z"
   },
   {
    "duration": 4697,
    "start_time": "2021-11-23T16:23:05.788Z"
   },
   {
    "duration": 103,
    "start_time": "2021-11-23T16:26:58.731Z"
   },
   {
    "duration": 96,
    "start_time": "2021-11-23T16:27:01.004Z"
   },
   {
    "duration": 101,
    "start_time": "2021-11-23T16:27:03.748Z"
   },
   {
    "duration": 115,
    "start_time": "2021-11-23T16:27:06.718Z"
   },
   {
    "duration": 104,
    "start_time": "2021-11-23T16:27:09.360Z"
   },
   {
    "duration": 4,
    "start_time": "2021-11-23T16:29:02.943Z"
   },
   {
    "duration": 46,
    "start_time": "2021-11-23T16:29:14.306Z"
   },
   {
    "duration": 16,
    "start_time": "2021-11-23T16:29:27.624Z"
   },
   {
    "duration": 15,
    "start_time": "2021-11-23T16:29:41.957Z"
   },
   {
    "duration": 14,
    "start_time": "2021-11-23T16:30:36.741Z"
   },
   {
    "duration": 14,
    "start_time": "2021-11-23T16:31:14.704Z"
   },
   {
    "duration": 1453,
    "start_time": "2021-11-23T16:31:32.616Z"
   },
   {
    "duration": 23,
    "start_time": "2021-11-23T16:31:45.394Z"
   },
   {
    "duration": 19,
    "start_time": "2021-11-23T16:32:09.896Z"
   },
   {
    "duration": 19,
    "start_time": "2021-11-23T16:32:23.538Z"
   },
   {
    "duration": 18,
    "start_time": "2021-11-23T16:32:52.855Z"
   },
   {
    "duration": 18,
    "start_time": "2021-11-23T16:32:56.181Z"
   },
   {
    "duration": 20,
    "start_time": "2021-11-23T16:32:58.317Z"
   },
   {
    "duration": 18,
    "start_time": "2021-11-23T16:33:07.860Z"
   },
   {
    "duration": 1789,
    "start_time": "2021-11-23T16:33:16.844Z"
   },
   {
    "duration": 47,
    "start_time": "2021-11-23T16:33:18.636Z"
   },
   {
    "duration": 12,
    "start_time": "2021-11-23T16:33:18.687Z"
   },
   {
    "duration": 47,
    "start_time": "2021-11-23T16:33:18.702Z"
   },
   {
    "duration": 43,
    "start_time": "2021-11-23T16:33:18.752Z"
   },
   {
    "duration": 16,
    "start_time": "2021-11-23T16:33:18.798Z"
   },
   {
    "duration": 68,
    "start_time": "2021-11-23T16:33:18.816Z"
   },
   {
    "duration": 22,
    "start_time": "2021-11-23T16:33:32.568Z"
   },
   {
    "duration": 17,
    "start_time": "2021-11-23T16:33:35.849Z"
   },
   {
    "duration": 18,
    "start_time": "2021-11-23T16:33:37.583Z"
   },
   {
    "duration": 19,
    "start_time": "2021-11-23T16:33:39.647Z"
   },
   {
    "duration": 18,
    "start_time": "2021-11-23T16:33:55.707Z"
   },
   {
    "duration": 17,
    "start_time": "2021-11-23T16:35:31.211Z"
   },
   {
    "duration": 15,
    "start_time": "2021-11-23T16:37:18.318Z"
   },
   {
    "duration": 5,
    "start_time": "2021-11-23T16:39:41.665Z"
   },
   {
    "duration": 13,
    "start_time": "2021-11-23T16:39:50.395Z"
   },
   {
    "duration": 10,
    "start_time": "2021-11-23T16:40:13.232Z"
   },
   {
    "duration": 9,
    "start_time": "2021-11-23T16:40:22.298Z"
   },
   {
    "duration": 10,
    "start_time": "2021-11-23T16:41:03.246Z"
   },
   {
    "duration": 9,
    "start_time": "2021-11-23T16:41:08.005Z"
   },
   {
    "duration": 9,
    "start_time": "2021-11-23T16:41:16.561Z"
   },
   {
    "duration": 9,
    "start_time": "2021-11-23T16:41:23.746Z"
   },
   {
    "duration": 9,
    "start_time": "2021-11-23T16:41:27.292Z"
   },
   {
    "duration": 9,
    "start_time": "2021-11-23T16:41:29.634Z"
   },
   {
    "duration": 9,
    "start_time": "2021-11-23T16:41:33.019Z"
   },
   {
    "duration": 8,
    "start_time": "2021-11-23T16:41:35.006Z"
   },
   {
    "duration": 9,
    "start_time": "2021-11-23T16:41:37.113Z"
   },
   {
    "duration": 9,
    "start_time": "2021-11-23T16:41:40.486Z"
   },
   {
    "duration": 10,
    "start_time": "2021-11-23T16:41:45.558Z"
   },
   {
    "duration": 9,
    "start_time": "2021-11-23T16:41:49.329Z"
   },
   {
    "duration": 8,
    "start_time": "2021-11-23T16:41:52.422Z"
   },
   {
    "duration": 10,
    "start_time": "2021-11-23T16:43:54.431Z"
   },
   {
    "duration": 11,
    "start_time": "2021-11-23T16:43:55.136Z"
   },
   {
    "duration": 10,
    "start_time": "2021-11-23T16:43:56.562Z"
   },
   {
    "duration": 6,
    "start_time": "2021-11-23T16:44:35.309Z"
   },
   {
    "duration": 9,
    "start_time": "2021-11-23T16:44:35.653Z"
   },
   {
    "duration": 9,
    "start_time": "2021-11-23T16:44:40.288Z"
   },
   {
    "duration": 8,
    "start_time": "2021-11-23T16:46:58.548Z"
   },
   {
    "duration": 6,
    "start_time": "2021-11-23T16:46:58.877Z"
   },
   {
    "duration": 10,
    "start_time": "2021-11-23T16:46:59.278Z"
   },
   {
    "duration": 10,
    "start_time": "2021-11-23T16:47:01.884Z"
   },
   {
    "duration": 1423,
    "start_time": "2021-11-23T16:47:10.484Z"
   },
   {
    "duration": 36,
    "start_time": "2021-11-23T16:47:11.909Z"
   },
   {
    "duration": 8,
    "start_time": "2021-11-23T16:47:11.948Z"
   },
   {
    "duration": 49,
    "start_time": "2021-11-23T16:47:11.959Z"
   },
   {
    "duration": 8,
    "start_time": "2021-11-23T16:47:12.010Z"
   },
   {
    "duration": 7,
    "start_time": "2021-11-23T16:47:12.020Z"
   },
   {
    "duration": 23,
    "start_time": "2021-11-23T16:47:12.030Z"
   },
   {
    "duration": 31,
    "start_time": "2021-11-23T16:47:12.056Z"
   },
   {
    "duration": 1062,
    "start_time": "2021-11-23T17:31:46.256Z"
   },
   {
    "duration": 30,
    "start_time": "2021-11-23T17:31:47.320Z"
   },
   {
    "duration": 7,
    "start_time": "2021-11-23T17:31:47.352Z"
   },
   {
    "duration": 32,
    "start_time": "2021-11-23T17:31:47.360Z"
   },
   {
    "duration": 6,
    "start_time": "2021-11-23T17:34:23.556Z"
   },
   {
    "duration": 4,
    "start_time": "2021-11-23T17:34:23.760Z"
   },
   {
    "duration": 8,
    "start_time": "2021-11-23T17:34:23.935Z"
   },
   {
    "duration": 277,
    "start_time": "2021-11-23T21:31:15.953Z"
   },
   {
    "duration": 4,
    "start_time": "2021-11-23T21:42:07.999Z"
   },
   {
    "duration": 963,
    "start_time": "2021-11-23T21:42:13.122Z"
   },
   {
    "duration": 31,
    "start_time": "2021-11-23T21:42:14.087Z"
   },
   {
    "duration": 6,
    "start_time": "2021-11-23T21:42:14.123Z"
   },
   {
    "duration": 22,
    "start_time": "2021-11-23T21:42:14.131Z"
   },
   {
    "duration": 5,
    "start_time": "2021-11-23T21:42:14.154Z"
   },
   {
    "duration": 5,
    "start_time": "2021-11-23T21:42:14.161Z"
   },
   {
    "duration": 27,
    "start_time": "2021-11-23T21:42:14.168Z"
   },
   {
    "duration": 7,
    "start_time": "2021-11-23T21:42:14.197Z"
   },
   {
    "duration": 312,
    "start_time": "2021-11-23T21:44:15.522Z"
   },
   {
    "duration": 4,
    "start_time": "2021-11-23T21:44:19.627Z"
   },
   {
    "duration": 3,
    "start_time": "2021-11-23T21:44:28.680Z"
   },
   {
    "duration": 4,
    "start_time": "2021-11-23T21:44:33.638Z"
   }
  ],
  "kernelspec": {
   "display_name": "Python 3 (ipykernel)",
   "language": "python",
   "name": "python3"
  },
  "language_info": {
   "codemirror_mode": {
    "name": "ipython",
    "version": 3
   },
   "file_extension": ".py",
   "mimetype": "text/x-python",
   "name": "python",
   "nbconvert_exporter": "python",
   "pygments_lexer": "ipython3",
   "version": "3.9.7"
  },
  "toc": {
   "base_numbering": 1,
   "nav_menu": {},
   "number_sections": true,
   "sideBar": true,
   "skip_h1_title": true,
   "title_cell": "Содержание",
   "title_sidebar": "Contents",
   "toc_cell": true,
   "toc_position": {},
   "toc_section_display": true,
   "toc_window_display": true
  }
 },
 "nbformat": 4,
 "nbformat_minor": 4
}
