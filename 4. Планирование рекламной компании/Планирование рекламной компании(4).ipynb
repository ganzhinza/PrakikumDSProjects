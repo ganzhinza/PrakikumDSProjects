{
 "cells": [
  {
   "cell_type": "markdown",
   "metadata": {
    "toc": true
   },
   "source": [
    "<h1>Table of Contents<span class=\"tocSkip\"></span></h1>\n",
    "<div class=\"toc\"><ul class=\"toc-item\"><li><span><a href=\"#Изучение-данных\" data-toc-modified-id=\"Изучение-данных-1\"><span class=\"toc-item-num\">1&nbsp;&nbsp;</span>Изучение данных</a></span></li><li><span><a href=\"#Предобработка-данных\" data-toc-modified-id=\"Предобработка-данных-2\"><span class=\"toc-item-num\">2&nbsp;&nbsp;</span>Предобработка данных</a></span><ul class=\"toc-item\"><li><span><a href=\"#Переименование-названий-столбцов\" data-toc-modified-id=\"Переименование-названий-столбцов-2.1\"><span class=\"toc-item-num\">2.1&nbsp;&nbsp;</span>Переименование названий столбцов</a></span></li><li><span><a href=\"#Обработка-пропусков\" data-toc-modified-id=\"Обработка-пропусков-2.2\"><span class=\"toc-item-num\">2.2&nbsp;&nbsp;</span>Обработка пропусков</a></span></li><li><span><a href=\"#Преобразование-типов-данных\" data-toc-modified-id=\"Преобразование-типов-данных-2.3\"><span class=\"toc-item-num\">2.3&nbsp;&nbsp;</span>Преобразование типов данных</a></span></li><li><span><a href=\"#Проверка-дубликатов\" data-toc-modified-id=\"Проверка-дубликатов-2.4\"><span class=\"toc-item-num\">2.4&nbsp;&nbsp;</span>Проверка дубликатов</a></span></li><li><span><a href=\"#Подсчёт-суммарных-продаж\" data-toc-modified-id=\"Подсчёт-суммарных-продаж-2.5\"><span class=\"toc-item-num\">2.5&nbsp;&nbsp;</span>Подсчёт суммарных продаж</a></span></li></ul></li><li><span><a href=\"#Исследование-динамики-выпуска-игр\" data-toc-modified-id=\"Исследование-динамики-выпуска-игр-3\"><span class=\"toc-item-num\">3&nbsp;&nbsp;</span>Исследование динамики выпуска игр</a></span><ul class=\"toc-item\"><li><span><a href=\"#Динамика-выпуска-игр\" data-toc-modified-id=\"Динамика-выпуска-игр-3.1\"><span class=\"toc-item-num\">3.1&nbsp;&nbsp;</span>Динамика выпуска игр</a></span></li><li><span><a href=\"#Динамика-выпуска-игр-по-платформам\" data-toc-modified-id=\"Динамика-выпуска-игр-по-платформам-3.2\"><span class=\"toc-item-num\">3.2&nbsp;&nbsp;</span>Динамика выпуска игр по платформам</a></span></li><li><span><a href=\"#Исследование-динамики-актуальных-платформ\" data-toc-modified-id=\"Исследование-динамики-актуальных-платформ-3.3\"><span class=\"toc-item-num\">3.3&nbsp;&nbsp;</span>Исследование динамики актуальных платформ</a></span></li><li><span><a href=\"#Исследование-разброса-продаж\" data-toc-modified-id=\"Исследование-разброса-продаж-3.4\"><span class=\"toc-item-num\">3.4&nbsp;&nbsp;</span>Исследование разброса продаж</a></span></li><li><span><a href=\"#Исследование-корреляции-между-отзывами-пользователей-и-критиков-с-продажами-на-базе-платформы-ps4\" data-toc-modified-id=\"Исследование-корреляции-между-отзывами-пользователей-и-критиков-с-продажами-на-базе-платформы-ps4-3.5\"><span class=\"toc-item-num\">3.5&nbsp;&nbsp;</span>Исследование корреляции между отзывами пользователей и критиков с продажами на базе платформы ps4</a></span></li><li><span><a href=\"#Изучение-игр-по-жанрам\" data-toc-modified-id=\"Изучение-игр-по-жанрам-3.6\"><span class=\"toc-item-num\">3.6&nbsp;&nbsp;</span>Изучение игр по жанрам</a></span></li></ul></li><li><span><a href=\"#Портрет-пользователя\" data-toc-modified-id=\"Портрет-пользователя-4\"><span class=\"toc-item-num\">4&nbsp;&nbsp;</span>Портрет пользователя</a></span></li><li><span><a href=\"#Гипотезы\" data-toc-modified-id=\"Гипотезы-5\"><span class=\"toc-item-num\">5&nbsp;&nbsp;</span>Гипотезы</a></span><ul class=\"toc-item\"><li><span><a href=\"#Средние-пользовательские-рейтинги-платформ-Xbox-One-и-PC-одинаковые.\" data-toc-modified-id=\"Средние-пользовательские-рейтинги-платформ-Xbox-One-и-PC-одинаковые.-5.1\"><span class=\"toc-item-num\">5.1&nbsp;&nbsp;</span>Средние пользовательские рейтинги платформ Xbox One и PC одинаковые.</a></span></li><li><span><a href=\"#Средние-пользовательские-рейтинги-жанров-Action-и-Sports-одинаковые.\" data-toc-modified-id=\"Средние-пользовательские-рейтинги-жанров-Action-и-Sports-одинаковые.-5.2\"><span class=\"toc-item-num\">5.2&nbsp;&nbsp;</span>Средние пользовательские рейтинги жанров Action и Sports одинаковые.</a></span></li></ul></li><li><span><a href=\"#Общий-вывод\" data-toc-modified-id=\"Общий-вывод-6\"><span class=\"toc-item-num\">6&nbsp;&nbsp;</span>Общий вывод</a></span></li></ul></div>"
   ]
  },
  {
   "cell_type": "markdown",
   "metadata": {},
   "source": [
    "# Планирование рекламной компании"
   ]
  },
  {
   "cell_type": "markdown",
   "metadata": {},
   "source": [
    "Из открытых источников доступны исторические данные о продажах игр, оценки пользователей и экспертов, жанры и платформы (например, Xbox или PlayStation). Нужно выявить определяющие успешность игры закономерности. Это позволит сделать ставку на потенциально популярный продукт и спланировать рекламные кампании."
   ]
  },
  {
   "cell_type": "markdown",
   "metadata": {},
   "source": [
    "## Изучение данных"
   ]
  },
  {
   "cell_type": "code",
   "execution_count": 1,
   "metadata": {},
   "outputs": [],
   "source": [
    "import pandas as pd\n",
    "import matplotlib.pyplot as plt\n",
    "import math\n",
    "import numpy as np\n",
    "from scipy import stats as st"
   ]
  },
  {
   "cell_type": "code",
   "execution_count": 2,
   "metadata": {
    "scrolled": true
   },
   "outputs": [
    {
     "data": {
      "text/html": [
       "<div>\n",
       "<style scoped>\n",
       "    .dataframe tbody tr th:only-of-type {\n",
       "        vertical-align: middle;\n",
       "    }\n",
       "\n",
       "    .dataframe tbody tr th {\n",
       "        vertical-align: top;\n",
       "    }\n",
       "\n",
       "    .dataframe thead th {\n",
       "        text-align: right;\n",
       "    }\n",
       "</style>\n",
       "<table border=\"1\" class=\"dataframe\">\n",
       "  <thead>\n",
       "    <tr style=\"text-align: right;\">\n",
       "      <th></th>\n",
       "      <th>Name</th>\n",
       "      <th>Platform</th>\n",
       "      <th>Year_of_Release</th>\n",
       "      <th>Genre</th>\n",
       "      <th>NA_sales</th>\n",
       "      <th>EU_sales</th>\n",
       "      <th>JP_sales</th>\n",
       "      <th>Other_sales</th>\n",
       "      <th>Critic_Score</th>\n",
       "      <th>User_Score</th>\n",
       "      <th>Rating</th>\n",
       "    </tr>\n",
       "  </thead>\n",
       "  <tbody>\n",
       "    <tr>\n",
       "      <td>0</td>\n",
       "      <td>Wii Sports</td>\n",
       "      <td>Wii</td>\n",
       "      <td>2006.0</td>\n",
       "      <td>Sports</td>\n",
       "      <td>41.36</td>\n",
       "      <td>28.96</td>\n",
       "      <td>3.77</td>\n",
       "      <td>8.45</td>\n",
       "      <td>76.0</td>\n",
       "      <td>8</td>\n",
       "      <td>E</td>\n",
       "    </tr>\n",
       "    <tr>\n",
       "      <td>1</td>\n",
       "      <td>Super Mario Bros.</td>\n",
       "      <td>NES</td>\n",
       "      <td>1985.0</td>\n",
       "      <td>Platform</td>\n",
       "      <td>29.08</td>\n",
       "      <td>3.58</td>\n",
       "      <td>6.81</td>\n",
       "      <td>0.77</td>\n",
       "      <td>NaN</td>\n",
       "      <td>NaN</td>\n",
       "      <td>NaN</td>\n",
       "    </tr>\n",
       "    <tr>\n",
       "      <td>2</td>\n",
       "      <td>Mario Kart Wii</td>\n",
       "      <td>Wii</td>\n",
       "      <td>2008.0</td>\n",
       "      <td>Racing</td>\n",
       "      <td>15.68</td>\n",
       "      <td>12.76</td>\n",
       "      <td>3.79</td>\n",
       "      <td>3.29</td>\n",
       "      <td>82.0</td>\n",
       "      <td>8.3</td>\n",
       "      <td>E</td>\n",
       "    </tr>\n",
       "    <tr>\n",
       "      <td>3</td>\n",
       "      <td>Wii Sports Resort</td>\n",
       "      <td>Wii</td>\n",
       "      <td>2009.0</td>\n",
       "      <td>Sports</td>\n",
       "      <td>15.61</td>\n",
       "      <td>10.93</td>\n",
       "      <td>3.28</td>\n",
       "      <td>2.95</td>\n",
       "      <td>80.0</td>\n",
       "      <td>8</td>\n",
       "      <td>E</td>\n",
       "    </tr>\n",
       "    <tr>\n",
       "      <td>4</td>\n",
       "      <td>Pokemon Red/Pokemon Blue</td>\n",
       "      <td>GB</td>\n",
       "      <td>1996.0</td>\n",
       "      <td>Role-Playing</td>\n",
       "      <td>11.27</td>\n",
       "      <td>8.89</td>\n",
       "      <td>10.22</td>\n",
       "      <td>1.00</td>\n",
       "      <td>NaN</td>\n",
       "      <td>NaN</td>\n",
       "      <td>NaN</td>\n",
       "    </tr>\n",
       "    <tr>\n",
       "      <td>5</td>\n",
       "      <td>Tetris</td>\n",
       "      <td>GB</td>\n",
       "      <td>1989.0</td>\n",
       "      <td>Puzzle</td>\n",
       "      <td>23.20</td>\n",
       "      <td>2.26</td>\n",
       "      <td>4.22</td>\n",
       "      <td>0.58</td>\n",
       "      <td>NaN</td>\n",
       "      <td>NaN</td>\n",
       "      <td>NaN</td>\n",
       "    </tr>\n",
       "    <tr>\n",
       "      <td>6</td>\n",
       "      <td>New Super Mario Bros.</td>\n",
       "      <td>DS</td>\n",
       "      <td>2006.0</td>\n",
       "      <td>Platform</td>\n",
       "      <td>11.28</td>\n",
       "      <td>9.14</td>\n",
       "      <td>6.50</td>\n",
       "      <td>2.88</td>\n",
       "      <td>89.0</td>\n",
       "      <td>8.5</td>\n",
       "      <td>E</td>\n",
       "    </tr>\n",
       "    <tr>\n",
       "      <td>7</td>\n",
       "      <td>Wii Play</td>\n",
       "      <td>Wii</td>\n",
       "      <td>2006.0</td>\n",
       "      <td>Misc</td>\n",
       "      <td>13.96</td>\n",
       "      <td>9.18</td>\n",
       "      <td>2.93</td>\n",
       "      <td>2.84</td>\n",
       "      <td>58.0</td>\n",
       "      <td>6.6</td>\n",
       "      <td>E</td>\n",
       "    </tr>\n",
       "    <tr>\n",
       "      <td>8</td>\n",
       "      <td>New Super Mario Bros. Wii</td>\n",
       "      <td>Wii</td>\n",
       "      <td>2009.0</td>\n",
       "      <td>Platform</td>\n",
       "      <td>14.44</td>\n",
       "      <td>6.94</td>\n",
       "      <td>4.70</td>\n",
       "      <td>2.24</td>\n",
       "      <td>87.0</td>\n",
       "      <td>8.4</td>\n",
       "      <td>E</td>\n",
       "    </tr>\n",
       "    <tr>\n",
       "      <td>9</td>\n",
       "      <td>Duck Hunt</td>\n",
       "      <td>NES</td>\n",
       "      <td>1984.0</td>\n",
       "      <td>Shooter</td>\n",
       "      <td>26.93</td>\n",
       "      <td>0.63</td>\n",
       "      <td>0.28</td>\n",
       "      <td>0.47</td>\n",
       "      <td>NaN</td>\n",
       "      <td>NaN</td>\n",
       "      <td>NaN</td>\n",
       "    </tr>\n",
       "  </tbody>\n",
       "</table>\n",
       "</div>"
      ],
      "text/plain": [
       "                        Name Platform  Year_of_Release         Genre  \\\n",
       "0                 Wii Sports      Wii           2006.0        Sports   \n",
       "1          Super Mario Bros.      NES           1985.0      Platform   \n",
       "2             Mario Kart Wii      Wii           2008.0        Racing   \n",
       "3          Wii Sports Resort      Wii           2009.0        Sports   \n",
       "4   Pokemon Red/Pokemon Blue       GB           1996.0  Role-Playing   \n",
       "5                     Tetris       GB           1989.0        Puzzle   \n",
       "6      New Super Mario Bros.       DS           2006.0      Platform   \n",
       "7                   Wii Play      Wii           2006.0          Misc   \n",
       "8  New Super Mario Bros. Wii      Wii           2009.0      Platform   \n",
       "9                  Duck Hunt      NES           1984.0       Shooter   \n",
       "\n",
       "   NA_sales  EU_sales  JP_sales  Other_sales  Critic_Score User_Score Rating  \n",
       "0     41.36     28.96      3.77         8.45          76.0          8      E  \n",
       "1     29.08      3.58      6.81         0.77           NaN        NaN    NaN  \n",
       "2     15.68     12.76      3.79         3.29          82.0        8.3      E  \n",
       "3     15.61     10.93      3.28         2.95          80.0          8      E  \n",
       "4     11.27      8.89     10.22         1.00           NaN        NaN    NaN  \n",
       "5     23.20      2.26      4.22         0.58           NaN        NaN    NaN  \n",
       "6     11.28      9.14      6.50         2.88          89.0        8.5      E  \n",
       "7     13.96      9.18      2.93         2.84          58.0        6.6      E  \n",
       "8     14.44      6.94      4.70         2.24          87.0        8.4      E  \n",
       "9     26.93      0.63      0.28         0.47           NaN        NaN    NaN  "
      ]
     },
     "execution_count": 2,
     "metadata": {},
     "output_type": "execute_result"
    }
   ],
   "source": [
    "data = pd.read_csv(\"/datasets/games.csv\")\n",
    "data.head(10)"
   ]
  },
  {
   "cell_type": "code",
   "execution_count": 3,
   "metadata": {},
   "outputs": [
    {
     "name": "stdout",
     "output_type": "stream",
     "text": [
      "<class 'pandas.core.frame.DataFrame'>\n",
      "RangeIndex: 16715 entries, 0 to 16714\n",
      "Data columns (total 11 columns):\n",
      "Name               16713 non-null object\n",
      "Platform           16715 non-null object\n",
      "Year_of_Release    16446 non-null float64\n",
      "Genre              16713 non-null object\n",
      "NA_sales           16715 non-null float64\n",
      "EU_sales           16715 non-null float64\n",
      "JP_sales           16715 non-null float64\n",
      "Other_sales        16715 non-null float64\n",
      "Critic_Score       8137 non-null float64\n",
      "User_Score         10014 non-null object\n",
      "Rating             9949 non-null object\n",
      "dtypes: float64(6), object(5)\n",
      "memory usage: 1.4+ MB\n"
     ]
    }
   ],
   "source": [
    "data.info()"
   ]
  },
  {
   "cell_type": "code",
   "execution_count": 4,
   "metadata": {},
   "outputs": [
    {
     "data": {
      "text/html": [
       "<div>\n",
       "<style scoped>\n",
       "    .dataframe tbody tr th:only-of-type {\n",
       "        vertical-align: middle;\n",
       "    }\n",
       "\n",
       "    .dataframe tbody tr th {\n",
       "        vertical-align: top;\n",
       "    }\n",
       "\n",
       "    .dataframe thead th {\n",
       "        text-align: right;\n",
       "    }\n",
       "</style>\n",
       "<table border=\"1\" class=\"dataframe\">\n",
       "  <thead>\n",
       "    <tr style=\"text-align: right;\">\n",
       "      <th></th>\n",
       "      <th>Year_of_Release</th>\n",
       "      <th>NA_sales</th>\n",
       "      <th>EU_sales</th>\n",
       "      <th>JP_sales</th>\n",
       "      <th>Other_sales</th>\n",
       "      <th>Critic_Score</th>\n",
       "    </tr>\n",
       "  </thead>\n",
       "  <tbody>\n",
       "    <tr>\n",
       "      <td>count</td>\n",
       "      <td>16446.000000</td>\n",
       "      <td>16715.000000</td>\n",
       "      <td>16715.000000</td>\n",
       "      <td>16715.000000</td>\n",
       "      <td>16715.000000</td>\n",
       "      <td>8137.000000</td>\n",
       "    </tr>\n",
       "    <tr>\n",
       "      <td>mean</td>\n",
       "      <td>2006.484616</td>\n",
       "      <td>0.263377</td>\n",
       "      <td>0.145060</td>\n",
       "      <td>0.077617</td>\n",
       "      <td>0.047342</td>\n",
       "      <td>68.967679</td>\n",
       "    </tr>\n",
       "    <tr>\n",
       "      <td>std</td>\n",
       "      <td>5.877050</td>\n",
       "      <td>0.813604</td>\n",
       "      <td>0.503339</td>\n",
       "      <td>0.308853</td>\n",
       "      <td>0.186731</td>\n",
       "      <td>13.938165</td>\n",
       "    </tr>\n",
       "    <tr>\n",
       "      <td>min</td>\n",
       "      <td>1980.000000</td>\n",
       "      <td>0.000000</td>\n",
       "      <td>0.000000</td>\n",
       "      <td>0.000000</td>\n",
       "      <td>0.000000</td>\n",
       "      <td>13.000000</td>\n",
       "    </tr>\n",
       "    <tr>\n",
       "      <td>25%</td>\n",
       "      <td>2003.000000</td>\n",
       "      <td>0.000000</td>\n",
       "      <td>0.000000</td>\n",
       "      <td>0.000000</td>\n",
       "      <td>0.000000</td>\n",
       "      <td>60.000000</td>\n",
       "    </tr>\n",
       "    <tr>\n",
       "      <td>50%</td>\n",
       "      <td>2007.000000</td>\n",
       "      <td>0.080000</td>\n",
       "      <td>0.020000</td>\n",
       "      <td>0.000000</td>\n",
       "      <td>0.010000</td>\n",
       "      <td>71.000000</td>\n",
       "    </tr>\n",
       "    <tr>\n",
       "      <td>75%</td>\n",
       "      <td>2010.000000</td>\n",
       "      <td>0.240000</td>\n",
       "      <td>0.110000</td>\n",
       "      <td>0.040000</td>\n",
       "      <td>0.030000</td>\n",
       "      <td>79.000000</td>\n",
       "    </tr>\n",
       "    <tr>\n",
       "      <td>max</td>\n",
       "      <td>2016.000000</td>\n",
       "      <td>41.360000</td>\n",
       "      <td>28.960000</td>\n",
       "      <td>10.220000</td>\n",
       "      <td>10.570000</td>\n",
       "      <td>98.000000</td>\n",
       "    </tr>\n",
       "  </tbody>\n",
       "</table>\n",
       "</div>"
      ],
      "text/plain": [
       "       Year_of_Release      NA_sales      EU_sales      JP_sales  \\\n",
       "count     16446.000000  16715.000000  16715.000000  16715.000000   \n",
       "mean       2006.484616      0.263377      0.145060      0.077617   \n",
       "std           5.877050      0.813604      0.503339      0.308853   \n",
       "min        1980.000000      0.000000      0.000000      0.000000   \n",
       "25%        2003.000000      0.000000      0.000000      0.000000   \n",
       "50%        2007.000000      0.080000      0.020000      0.000000   \n",
       "75%        2010.000000      0.240000      0.110000      0.040000   \n",
       "max        2016.000000     41.360000     28.960000     10.220000   \n",
       "\n",
       "        Other_sales  Critic_Score  \n",
       "count  16715.000000   8137.000000  \n",
       "mean       0.047342     68.967679  \n",
       "std        0.186731     13.938165  \n",
       "min        0.000000     13.000000  \n",
       "25%        0.000000     60.000000  \n",
       "50%        0.010000     71.000000  \n",
       "75%        0.030000     79.000000  \n",
       "max       10.570000     98.000000  "
      ]
     },
     "execution_count": 4,
     "metadata": {},
     "output_type": "execute_result"
    }
   ],
   "source": [
    "data.describe()"
   ]
  },
  {
   "cell_type": "markdown",
   "metadata": {},
   "source": [
    "***Вывод***"
   ]
  },
  {
   "cell_type": "markdown",
   "metadata": {},
   "source": [
    "На первый взгляд явных аномалий в значениях нет. Нужно исправить тип данных в столбцах \"Year_of_Release\" и \"User_Score\" с float и object на int и float соотвтственно. Также есть много пропусков в столбцах с оценками, но не у каждой игры обязательно есть оценка все оценки. Работаем с тем, что есть. Также есть пропуски в именах игр и годах издания, а также в жанрах игр. Это надо тоже обработать. Также нужно привести в стандартный вид названия столбцов."
   ]
  },
  {
   "cell_type": "markdown",
   "metadata": {},
   "source": [
    "## Предобработка данных"
   ]
  },
  {
   "cell_type": "markdown",
   "metadata": {},
   "source": [
    "### Переименование названий столбцов"
   ]
  },
  {
   "cell_type": "code",
   "execution_count": 5,
   "metadata": {},
   "outputs": [
    {
     "data": {
      "text/html": [
       "<div>\n",
       "<style scoped>\n",
       "    .dataframe tbody tr th:only-of-type {\n",
       "        vertical-align: middle;\n",
       "    }\n",
       "\n",
       "    .dataframe tbody tr th {\n",
       "        vertical-align: top;\n",
       "    }\n",
       "\n",
       "    .dataframe thead th {\n",
       "        text-align: right;\n",
       "    }\n",
       "</style>\n",
       "<table border=\"1\" class=\"dataframe\">\n",
       "  <thead>\n",
       "    <tr style=\"text-align: right;\">\n",
       "      <th></th>\n",
       "      <th>name</th>\n",
       "      <th>platform</th>\n",
       "      <th>year_of_release</th>\n",
       "      <th>genre</th>\n",
       "      <th>na_sales</th>\n",
       "      <th>eu_sales</th>\n",
       "      <th>jp_sales</th>\n",
       "      <th>other_sales</th>\n",
       "      <th>critic_score</th>\n",
       "      <th>user_score</th>\n",
       "      <th>rating</th>\n",
       "    </tr>\n",
       "  </thead>\n",
       "  <tbody>\n",
       "    <tr>\n",
       "      <td>0</td>\n",
       "      <td>Wii Sports</td>\n",
       "      <td>Wii</td>\n",
       "      <td>2006.0</td>\n",
       "      <td>Sports</td>\n",
       "      <td>41.36</td>\n",
       "      <td>28.96</td>\n",
       "      <td>3.77</td>\n",
       "      <td>8.45</td>\n",
       "      <td>76.0</td>\n",
       "      <td>8</td>\n",
       "      <td>E</td>\n",
       "    </tr>\n",
       "  </tbody>\n",
       "</table>\n",
       "</div>"
      ],
      "text/plain": [
       "         name platform  year_of_release   genre  na_sales  eu_sales  jp_sales  \\\n",
       "0  Wii Sports      Wii           2006.0  Sports     41.36     28.96      3.77   \n",
       "\n",
       "   other_sales  critic_score user_score rating  \n",
       "0         8.45          76.0          8      E  "
      ]
     },
     "execution_count": 5,
     "metadata": {},
     "output_type": "execute_result"
    }
   ],
   "source": [
    "columns = data.columns\n",
    "data.columns = columns.str.lower()\n",
    "data.head(1)"
   ]
  },
  {
   "cell_type": "markdown",
   "metadata": {},
   "source": [
    "Привели названия столбцов к нижнему регистру."
   ]
  },
  {
   "cell_type": "markdown",
   "metadata": {},
   "source": [
    "### Обработка пропусков"
   ]
  },
  {
   "cell_type": "code",
   "execution_count": 6,
   "metadata": {},
   "outputs": [
    {
     "name": "stdout",
     "output_type": "stream",
     "text": [
      "<class 'pandas.core.frame.DataFrame'>\n",
      "Int64Index: 16444 entries, 0 to 16714\n",
      "Data columns (total 11 columns):\n",
      "name               16444 non-null object\n",
      "platform           16444 non-null object\n",
      "year_of_release    16444 non-null float64\n",
      "genre              16444 non-null object\n",
      "na_sales           16444 non-null float64\n",
      "eu_sales           16444 non-null float64\n",
      "jp_sales           16444 non-null float64\n",
      "other_sales        16444 non-null float64\n",
      "critic_score       7983 non-null float64\n",
      "user_score         9839 non-null object\n",
      "rating             9768 non-null object\n",
      "dtypes: float64(6), object(5)\n",
      "memory usage: 1.5+ MB\n"
     ]
    }
   ],
   "source": [
    "data = data.loc[~((data['name'].isna()) | (data['year_of_release'].isna()) | (data['genre'].isna()))]\n",
    "data.info()"
   ]
  },
  {
   "cell_type": "markdown",
   "metadata": {},
   "source": [
    "***Вывод***"
   ]
  },
  {
   "cell_type": "markdown",
   "metadata": {},
   "source": [
    "Удалили строки с пропусками в столбцах 'genre', 'name', 'year_of_release'. Так как их нельзя адекватно заменить и их меньше 1.5%, то такое действие не сделает выборку не репрезентативной. Пропуски в строчках с рейтингами оставим как есть, так как скорее всего у игр просто нет оценки, которая пропущена.    "
   ]
  },
  {
   "cell_type": "markdown",
   "metadata": {},
   "source": [
    "### Преобразование типов данных"
   ]
  },
  {
   "cell_type": "code",
   "execution_count": 7,
   "metadata": {},
   "outputs": [
    {
     "data": {
      "text/plain": [
       "array(['8', nan, '8.3', '8.5', '6.6', '8.4', '8.6', '7.7', '6.3', '7.4',\n",
       "       '8.2', '9', '7.9', '8.1', '8.7', '7.1', '3.4', '5.3', '4.8', '3.2',\n",
       "       '8.9', '6.4', '7.8', '7.5', '2.6', '7.2', '9.2', '7', '7.3', '4.3',\n",
       "       '7.6', '5.7', '5', '9.1', '6.5', 'tbd', '8.8', '6.9', '9.4', '6.8',\n",
       "       '6.1', '6.7', '5.4', '4', '4.9', '4.5', '9.3', '6.2', '4.2', '6',\n",
       "       '3.7', '4.1', '5.8', '5.6', '5.5', '4.4', '4.6', '5.9', '3.9',\n",
       "       '3.1', '2.9', '5.2', '3.3', '4.7', '5.1', '3.5', '2.5', '1.9', '3',\n",
       "       '2.7', '2.2', '2', '9.5', '2.1', '3.6', '2.8', '1.8', '3.8', '0',\n",
       "       '1.6', '9.6', '2.4', '1.7', '1.1', '0.3', '1.5', '0.7', '1.2',\n",
       "       '2.3', '0.5', '1.3', '0.2', '0.6', '1.4', '0.9', '1', '9.7'],\n",
       "      dtype=object)"
      ]
     },
     "execution_count": 7,
     "metadata": {},
     "output_type": "execute_result"
    }
   ],
   "source": [
    "data['user_score'].unique()"
   ]
  },
  {
   "cell_type": "code",
   "execution_count": 8,
   "metadata": {},
   "outputs": [
    {
     "data": {
      "text/html": [
       "<div>\n",
       "<style scoped>\n",
       "    .dataframe tbody tr th:only-of-type {\n",
       "        vertical-align: middle;\n",
       "    }\n",
       "\n",
       "    .dataframe tbody tr th {\n",
       "        vertical-align: top;\n",
       "    }\n",
       "\n",
       "    .dataframe thead th {\n",
       "        text-align: right;\n",
       "    }\n",
       "</style>\n",
       "<table border=\"1\" class=\"dataframe\">\n",
       "  <thead>\n",
       "    <tr style=\"text-align: right;\">\n",
       "      <th></th>\n",
       "      <th>name</th>\n",
       "      <th>platform</th>\n",
       "      <th>year_of_release</th>\n",
       "      <th>genre</th>\n",
       "      <th>na_sales</th>\n",
       "      <th>eu_sales</th>\n",
       "      <th>jp_sales</th>\n",
       "      <th>other_sales</th>\n",
       "      <th>critic_score</th>\n",
       "      <th>user_score</th>\n",
       "      <th>rating</th>\n",
       "    </tr>\n",
       "  </thead>\n",
       "  <tbody>\n",
       "    <tr>\n",
       "      <td>119</td>\n",
       "      <td>Zumba Fitness</td>\n",
       "      <td>Wii</td>\n",
       "      <td>2010.0</td>\n",
       "      <td>Sports</td>\n",
       "      <td>3.45</td>\n",
       "      <td>2.59</td>\n",
       "      <td>0.0</td>\n",
       "      <td>0.66</td>\n",
       "      <td>NaN</td>\n",
       "      <td>tbd</td>\n",
       "      <td>E</td>\n",
       "    </tr>\n",
       "    <tr>\n",
       "      <td>301</td>\n",
       "      <td>Namco Museum: 50th Anniversary</td>\n",
       "      <td>PS2</td>\n",
       "      <td>2005.0</td>\n",
       "      <td>Misc</td>\n",
       "      <td>2.08</td>\n",
       "      <td>1.35</td>\n",
       "      <td>0.0</td>\n",
       "      <td>0.54</td>\n",
       "      <td>61.0</td>\n",
       "      <td>tbd</td>\n",
       "      <td>E10+</td>\n",
       "    </tr>\n",
       "    <tr>\n",
       "      <td>520</td>\n",
       "      <td>Zumba Fitness 2</td>\n",
       "      <td>Wii</td>\n",
       "      <td>2011.0</td>\n",
       "      <td>Sports</td>\n",
       "      <td>1.51</td>\n",
       "      <td>1.03</td>\n",
       "      <td>0.0</td>\n",
       "      <td>0.27</td>\n",
       "      <td>NaN</td>\n",
       "      <td>tbd</td>\n",
       "      <td>T</td>\n",
       "    </tr>\n",
       "    <tr>\n",
       "      <td>645</td>\n",
       "      <td>uDraw Studio</td>\n",
       "      <td>Wii</td>\n",
       "      <td>2010.0</td>\n",
       "      <td>Misc</td>\n",
       "      <td>1.65</td>\n",
       "      <td>0.57</td>\n",
       "      <td>0.0</td>\n",
       "      <td>0.20</td>\n",
       "      <td>71.0</td>\n",
       "      <td>tbd</td>\n",
       "      <td>E</td>\n",
       "    </tr>\n",
       "    <tr>\n",
       "      <td>718</td>\n",
       "      <td>Just Dance Kids</td>\n",
       "      <td>Wii</td>\n",
       "      <td>2010.0</td>\n",
       "      <td>Misc</td>\n",
       "      <td>1.52</td>\n",
       "      <td>0.54</td>\n",
       "      <td>0.0</td>\n",
       "      <td>0.18</td>\n",
       "      <td>NaN</td>\n",
       "      <td>tbd</td>\n",
       "      <td>E</td>\n",
       "    </tr>\n",
       "    <tr>\n",
       "      <td>...</td>\n",
       "      <td>...</td>\n",
       "      <td>...</td>\n",
       "      <td>...</td>\n",
       "      <td>...</td>\n",
       "      <td>...</td>\n",
       "      <td>...</td>\n",
       "      <td>...</td>\n",
       "      <td>...</td>\n",
       "      <td>...</td>\n",
       "      <td>...</td>\n",
       "      <td>...</td>\n",
       "    </tr>\n",
       "    <tr>\n",
       "      <td>16695</td>\n",
       "      <td>Planet Monsters</td>\n",
       "      <td>GBA</td>\n",
       "      <td>2001.0</td>\n",
       "      <td>Action</td>\n",
       "      <td>0.01</td>\n",
       "      <td>0.00</td>\n",
       "      <td>0.0</td>\n",
       "      <td>0.00</td>\n",
       "      <td>67.0</td>\n",
       "      <td>tbd</td>\n",
       "      <td>E</td>\n",
       "    </tr>\n",
       "    <tr>\n",
       "      <td>16697</td>\n",
       "      <td>Bust-A-Move 3000</td>\n",
       "      <td>GC</td>\n",
       "      <td>2003.0</td>\n",
       "      <td>Puzzle</td>\n",
       "      <td>0.01</td>\n",
       "      <td>0.00</td>\n",
       "      <td>0.0</td>\n",
       "      <td>0.00</td>\n",
       "      <td>53.0</td>\n",
       "      <td>tbd</td>\n",
       "      <td>E</td>\n",
       "    </tr>\n",
       "    <tr>\n",
       "      <td>16698</td>\n",
       "      <td>Mega Brain Boost</td>\n",
       "      <td>DS</td>\n",
       "      <td>2008.0</td>\n",
       "      <td>Puzzle</td>\n",
       "      <td>0.01</td>\n",
       "      <td>0.00</td>\n",
       "      <td>0.0</td>\n",
       "      <td>0.00</td>\n",
       "      <td>48.0</td>\n",
       "      <td>tbd</td>\n",
       "      <td>E</td>\n",
       "    </tr>\n",
       "    <tr>\n",
       "      <td>16704</td>\n",
       "      <td>Plushees</td>\n",
       "      <td>DS</td>\n",
       "      <td>2008.0</td>\n",
       "      <td>Simulation</td>\n",
       "      <td>0.01</td>\n",
       "      <td>0.00</td>\n",
       "      <td>0.0</td>\n",
       "      <td>0.00</td>\n",
       "      <td>NaN</td>\n",
       "      <td>tbd</td>\n",
       "      <td>E</td>\n",
       "    </tr>\n",
       "    <tr>\n",
       "      <td>16706</td>\n",
       "      <td>Men in Black II: Alien Escape</td>\n",
       "      <td>GC</td>\n",
       "      <td>2003.0</td>\n",
       "      <td>Shooter</td>\n",
       "      <td>0.01</td>\n",
       "      <td>0.00</td>\n",
       "      <td>0.0</td>\n",
       "      <td>0.00</td>\n",
       "      <td>NaN</td>\n",
       "      <td>tbd</td>\n",
       "      <td>T</td>\n",
       "    </tr>\n",
       "  </tbody>\n",
       "</table>\n",
       "<p>2376 rows × 11 columns</p>\n",
       "</div>"
      ],
      "text/plain": [
       "                                 name platform  year_of_release       genre  \\\n",
       "119                     Zumba Fitness      Wii           2010.0      Sports   \n",
       "301    Namco Museum: 50th Anniversary      PS2           2005.0        Misc   \n",
       "520                   Zumba Fitness 2      Wii           2011.0      Sports   \n",
       "645                      uDraw Studio      Wii           2010.0        Misc   \n",
       "718                   Just Dance Kids      Wii           2010.0        Misc   \n",
       "...                               ...      ...              ...         ...   \n",
       "16695                 Planet Monsters      GBA           2001.0      Action   \n",
       "16697                Bust-A-Move 3000       GC           2003.0      Puzzle   \n",
       "16698                Mega Brain Boost       DS           2008.0      Puzzle   \n",
       "16704                        Plushees       DS           2008.0  Simulation   \n",
       "16706   Men in Black II: Alien Escape       GC           2003.0     Shooter   \n",
       "\n",
       "       na_sales  eu_sales  jp_sales  other_sales  critic_score user_score  \\\n",
       "119        3.45      2.59       0.0         0.66           NaN        tbd   \n",
       "301        2.08      1.35       0.0         0.54          61.0        tbd   \n",
       "520        1.51      1.03       0.0         0.27           NaN        tbd   \n",
       "645        1.65      0.57       0.0         0.20          71.0        tbd   \n",
       "718        1.52      0.54       0.0         0.18           NaN        tbd   \n",
       "...         ...       ...       ...          ...           ...        ...   \n",
       "16695      0.01      0.00       0.0         0.00          67.0        tbd   \n",
       "16697      0.01      0.00       0.0         0.00          53.0        tbd   \n",
       "16698      0.01      0.00       0.0         0.00          48.0        tbd   \n",
       "16704      0.01      0.00       0.0         0.00           NaN        tbd   \n",
       "16706      0.01      0.00       0.0         0.00           NaN        tbd   \n",
       "\n",
       "      rating  \n",
       "119        E  \n",
       "301     E10+  \n",
       "520        T  \n",
       "645        E  \n",
       "718        E  \n",
       "...      ...  \n",
       "16695      E  \n",
       "16697      E  \n",
       "16698      E  \n",
       "16704      E  \n",
       "16706      T  \n",
       "\n",
       "[2376 rows x 11 columns]"
      ]
     },
     "execution_count": 8,
     "metadata": {},
     "output_type": "execute_result"
    }
   ],
   "source": [
    "data[data['user_score'] == 'tbd']"
   ]
  },
  {
   "cell_type": "code",
   "execution_count": 9,
   "metadata": {},
   "outputs": [],
   "source": [
    "data.loc[data['user_score'] == 'tbd', 'user_score'] = np.nan"
   ]
  },
  {
   "cell_type": "markdown",
   "metadata": {},
   "source": [
    "При приведении столбца 'user_score' к типу данных float обнаружилось значение 'tbd'. Проверив, что это не единичный случай поняли, что это скорее всего не ошибка. Погуглив 'tbd' понимаем, что это 'to be determined'. По сути это тот же nan, но по другому обозначенный. Поэтому заменяем это значение на nan."
   ]
  },
  {
   "cell_type": "code",
   "execution_count": 10,
   "metadata": {},
   "outputs": [],
   "source": [
    "data['user_score'] = pd.to_numeric(data['user_score'])"
   ]
  },
  {
   "cell_type": "code",
   "execution_count": 11,
   "metadata": {},
   "outputs": [
    {
     "name": "stdout",
     "output_type": "stream",
     "text": [
      "<class 'pandas.core.frame.DataFrame'>\n",
      "Int64Index: 16444 entries, 0 to 16714\n",
      "Data columns (total 11 columns):\n",
      "name               16444 non-null object\n",
      "platform           16444 non-null object\n",
      "year_of_release    16444 non-null float64\n",
      "genre              16444 non-null object\n",
      "na_sales           16444 non-null float64\n",
      "eu_sales           16444 non-null float64\n",
      "jp_sales           16444 non-null float64\n",
      "other_sales        16444 non-null float64\n",
      "critic_score       7983 non-null float64\n",
      "user_score         7463 non-null float64\n",
      "rating             9768 non-null object\n",
      "dtypes: float64(7), object(4)\n",
      "memory usage: 1.5+ MB\n"
     ]
    }
   ],
   "source": [
    "data.info()"
   ]
  },
  {
   "cell_type": "code",
   "execution_count": 12,
   "metadata": {},
   "outputs": [],
   "source": [
    "data['year_of_release'] = data['year_of_release'].astype(int)"
   ]
  },
  {
   "cell_type": "markdown",
   "metadata": {},
   "source": [
    "***Вывод***"
   ]
  },
  {
   "cell_type": "markdown",
   "metadata": {},
   "source": [
    "Привели данные к нужным типам. Теперь у нас нет строчных обозначений для рейтинга, который определяется как число, и года теперь только целые."
   ]
  },
  {
   "cell_type": "markdown",
   "metadata": {},
   "source": [
    "### Проверка дубликатов"
   ]
  },
  {
   "cell_type": "code",
   "execution_count": 13,
   "metadata": {},
   "outputs": [
    {
     "data": {
      "text/html": [
       "<div>\n",
       "<style scoped>\n",
       "    .dataframe tbody tr th:only-of-type {\n",
       "        vertical-align: middle;\n",
       "    }\n",
       "\n",
       "    .dataframe tbody tr th {\n",
       "        vertical-align: top;\n",
       "    }\n",
       "\n",
       "    .dataframe thead th {\n",
       "        text-align: right;\n",
       "    }\n",
       "</style>\n",
       "<table border=\"1\" class=\"dataframe\">\n",
       "  <thead>\n",
       "    <tr style=\"text-align: right;\">\n",
       "      <th></th>\n",
       "      <th>name</th>\n",
       "      <th>platform</th>\n",
       "      <th>year_of_release</th>\n",
       "      <th>genre</th>\n",
       "      <th>na_sales</th>\n",
       "      <th>eu_sales</th>\n",
       "      <th>jp_sales</th>\n",
       "      <th>other_sales</th>\n",
       "      <th>critic_score</th>\n",
       "      <th>user_score</th>\n",
       "      <th>rating</th>\n",
       "    </tr>\n",
       "  </thead>\n",
       "  <tbody>\n",
       "    <tr>\n",
       "      <td>0</td>\n",
       "      <td>wii sports</td>\n",
       "      <td>wii</td>\n",
       "      <td>2006</td>\n",
       "      <td>sports</td>\n",
       "      <td>41.36</td>\n",
       "      <td>28.96</td>\n",
       "      <td>3.77</td>\n",
       "      <td>8.45</td>\n",
       "      <td>76.0</td>\n",
       "      <td>8.0</td>\n",
       "      <td>E</td>\n",
       "    </tr>\n",
       "    <tr>\n",
       "      <td>1</td>\n",
       "      <td>super mario bros.</td>\n",
       "      <td>nes</td>\n",
       "      <td>1985</td>\n",
       "      <td>platform</td>\n",
       "      <td>29.08</td>\n",
       "      <td>3.58</td>\n",
       "      <td>6.81</td>\n",
       "      <td>0.77</td>\n",
       "      <td>NaN</td>\n",
       "      <td>NaN</td>\n",
       "      <td>NaN</td>\n",
       "    </tr>\n",
       "    <tr>\n",
       "      <td>2</td>\n",
       "      <td>mario kart wii</td>\n",
       "      <td>wii</td>\n",
       "      <td>2008</td>\n",
       "      <td>racing</td>\n",
       "      <td>15.68</td>\n",
       "      <td>12.76</td>\n",
       "      <td>3.79</td>\n",
       "      <td>3.29</td>\n",
       "      <td>82.0</td>\n",
       "      <td>8.3</td>\n",
       "      <td>E</td>\n",
       "    </tr>\n",
       "    <tr>\n",
       "      <td>3</td>\n",
       "      <td>wii sports resort</td>\n",
       "      <td>wii</td>\n",
       "      <td>2009</td>\n",
       "      <td>sports</td>\n",
       "      <td>15.61</td>\n",
       "      <td>10.93</td>\n",
       "      <td>3.28</td>\n",
       "      <td>2.95</td>\n",
       "      <td>80.0</td>\n",
       "      <td>8.0</td>\n",
       "      <td>E</td>\n",
       "    </tr>\n",
       "    <tr>\n",
       "      <td>4</td>\n",
       "      <td>pokemon red/pokemon blue</td>\n",
       "      <td>gb</td>\n",
       "      <td>1996</td>\n",
       "      <td>role-playing</td>\n",
       "      <td>11.27</td>\n",
       "      <td>8.89</td>\n",
       "      <td>10.22</td>\n",
       "      <td>1.00</td>\n",
       "      <td>NaN</td>\n",
       "      <td>NaN</td>\n",
       "      <td>NaN</td>\n",
       "    </tr>\n",
       "    <tr>\n",
       "      <td>5</td>\n",
       "      <td>tetris</td>\n",
       "      <td>gb</td>\n",
       "      <td>1989</td>\n",
       "      <td>puzzle</td>\n",
       "      <td>23.20</td>\n",
       "      <td>2.26</td>\n",
       "      <td>4.22</td>\n",
       "      <td>0.58</td>\n",
       "      <td>NaN</td>\n",
       "      <td>NaN</td>\n",
       "      <td>NaN</td>\n",
       "    </tr>\n",
       "    <tr>\n",
       "      <td>6</td>\n",
       "      <td>new super mario bros.</td>\n",
       "      <td>ds</td>\n",
       "      <td>2006</td>\n",
       "      <td>platform</td>\n",
       "      <td>11.28</td>\n",
       "      <td>9.14</td>\n",
       "      <td>6.50</td>\n",
       "      <td>2.88</td>\n",
       "      <td>89.0</td>\n",
       "      <td>8.5</td>\n",
       "      <td>E</td>\n",
       "    </tr>\n",
       "    <tr>\n",
       "      <td>7</td>\n",
       "      <td>wii play</td>\n",
       "      <td>wii</td>\n",
       "      <td>2006</td>\n",
       "      <td>misc</td>\n",
       "      <td>13.96</td>\n",
       "      <td>9.18</td>\n",
       "      <td>2.93</td>\n",
       "      <td>2.84</td>\n",
       "      <td>58.0</td>\n",
       "      <td>6.6</td>\n",
       "      <td>E</td>\n",
       "    </tr>\n",
       "    <tr>\n",
       "      <td>8</td>\n",
       "      <td>new super mario bros. wii</td>\n",
       "      <td>wii</td>\n",
       "      <td>2009</td>\n",
       "      <td>platform</td>\n",
       "      <td>14.44</td>\n",
       "      <td>6.94</td>\n",
       "      <td>4.70</td>\n",
       "      <td>2.24</td>\n",
       "      <td>87.0</td>\n",
       "      <td>8.4</td>\n",
       "      <td>E</td>\n",
       "    </tr>\n",
       "    <tr>\n",
       "      <td>9</td>\n",
       "      <td>duck hunt</td>\n",
       "      <td>nes</td>\n",
       "      <td>1984</td>\n",
       "      <td>shooter</td>\n",
       "      <td>26.93</td>\n",
       "      <td>0.63</td>\n",
       "      <td>0.28</td>\n",
       "      <td>0.47</td>\n",
       "      <td>NaN</td>\n",
       "      <td>NaN</td>\n",
       "      <td>NaN</td>\n",
       "    </tr>\n",
       "  </tbody>\n",
       "</table>\n",
       "</div>"
      ],
      "text/plain": [
       "                        name platform  year_of_release         genre  \\\n",
       "0                 wii sports      wii             2006        sports   \n",
       "1          super mario bros.      nes             1985      platform   \n",
       "2             mario kart wii      wii             2008        racing   \n",
       "3          wii sports resort      wii             2009        sports   \n",
       "4   pokemon red/pokemon blue       gb             1996  role-playing   \n",
       "5                     tetris       gb             1989        puzzle   \n",
       "6      new super mario bros.       ds             2006      platform   \n",
       "7                   wii play      wii             2006          misc   \n",
       "8  new super mario bros. wii      wii             2009      platform   \n",
       "9                  duck hunt      nes             1984       shooter   \n",
       "\n",
       "   na_sales  eu_sales  jp_sales  other_sales  critic_score  user_score rating  \n",
       "0     41.36     28.96      3.77         8.45          76.0         8.0      E  \n",
       "1     29.08      3.58      6.81         0.77           NaN         NaN    NaN  \n",
       "2     15.68     12.76      3.79         3.29          82.0         8.3      E  \n",
       "3     15.61     10.93      3.28         2.95          80.0         8.0      E  \n",
       "4     11.27      8.89     10.22         1.00           NaN         NaN    NaN  \n",
       "5     23.20      2.26      4.22         0.58           NaN         NaN    NaN  \n",
       "6     11.28      9.14      6.50         2.88          89.0         8.5      E  \n",
       "7     13.96      9.18      2.93         2.84          58.0         6.6      E  \n",
       "8     14.44      6.94      4.70         2.24          87.0         8.4      E  \n",
       "9     26.93      0.63      0.28         0.47           NaN         NaN    NaN  "
      ]
     },
     "execution_count": 13,
     "metadata": {},
     "output_type": "execute_result"
    }
   ],
   "source": [
    "data['name'] = data['name'].str.lower()\n",
    "data['genre'] = data['genre'].str.lower()\n",
    "data['platform'] = data['platform'].str.lower()\n",
    "data.head(10)"
   ]
  },
  {
   "cell_type": "code",
   "execution_count": 14,
   "metadata": {},
   "outputs": [
    {
     "data": {
      "text/plain": [
       "0"
      ]
     },
     "execution_count": 14,
     "metadata": {},
     "output_type": "execute_result"
    }
   ],
   "source": [
    "data.duplicated().sum()"
   ]
  },
  {
   "cell_type": "markdown",
   "metadata": {},
   "source": [
    "***Вывод***"
   ]
  },
  {
   "cell_type": "markdown",
   "metadata": {},
   "source": [
    "Дубликатов не обнаружено. "
   ]
  },
  {
   "cell_type": "markdown",
   "metadata": {},
   "source": [
    "### Подсчёт суммарных продаж"
   ]
  },
  {
   "cell_type": "code",
   "execution_count": 15,
   "metadata": {},
   "outputs": [
    {
     "data": {
      "text/html": [
       "<div>\n",
       "<style scoped>\n",
       "    .dataframe tbody tr th:only-of-type {\n",
       "        vertical-align: middle;\n",
       "    }\n",
       "\n",
       "    .dataframe tbody tr th {\n",
       "        vertical-align: top;\n",
       "    }\n",
       "\n",
       "    .dataframe thead th {\n",
       "        text-align: right;\n",
       "    }\n",
       "</style>\n",
       "<table border=\"1\" class=\"dataframe\">\n",
       "  <thead>\n",
       "    <tr style=\"text-align: right;\">\n",
       "      <th></th>\n",
       "      <th>name</th>\n",
       "      <th>platform</th>\n",
       "      <th>year_of_release</th>\n",
       "      <th>genre</th>\n",
       "      <th>na_sales</th>\n",
       "      <th>eu_sales</th>\n",
       "      <th>jp_sales</th>\n",
       "      <th>other_sales</th>\n",
       "      <th>critic_score</th>\n",
       "      <th>user_score</th>\n",
       "      <th>rating</th>\n",
       "      <th>global_sales</th>\n",
       "    </tr>\n",
       "  </thead>\n",
       "  <tbody>\n",
       "    <tr>\n",
       "      <td>0</td>\n",
       "      <td>wii sports</td>\n",
       "      <td>wii</td>\n",
       "      <td>2006</td>\n",
       "      <td>sports</td>\n",
       "      <td>41.36</td>\n",
       "      <td>28.96</td>\n",
       "      <td>3.77</td>\n",
       "      <td>8.45</td>\n",
       "      <td>76.0</td>\n",
       "      <td>8.0</td>\n",
       "      <td>E</td>\n",
       "      <td>82.54</td>\n",
       "    </tr>\n",
       "    <tr>\n",
       "      <td>1</td>\n",
       "      <td>super mario bros.</td>\n",
       "      <td>nes</td>\n",
       "      <td>1985</td>\n",
       "      <td>platform</td>\n",
       "      <td>29.08</td>\n",
       "      <td>3.58</td>\n",
       "      <td>6.81</td>\n",
       "      <td>0.77</td>\n",
       "      <td>NaN</td>\n",
       "      <td>NaN</td>\n",
       "      <td>NaN</td>\n",
       "      <td>40.24</td>\n",
       "    </tr>\n",
       "    <tr>\n",
       "      <td>2</td>\n",
       "      <td>mario kart wii</td>\n",
       "      <td>wii</td>\n",
       "      <td>2008</td>\n",
       "      <td>racing</td>\n",
       "      <td>15.68</td>\n",
       "      <td>12.76</td>\n",
       "      <td>3.79</td>\n",
       "      <td>3.29</td>\n",
       "      <td>82.0</td>\n",
       "      <td>8.3</td>\n",
       "      <td>E</td>\n",
       "      <td>35.52</td>\n",
       "    </tr>\n",
       "    <tr>\n",
       "      <td>3</td>\n",
       "      <td>wii sports resort</td>\n",
       "      <td>wii</td>\n",
       "      <td>2009</td>\n",
       "      <td>sports</td>\n",
       "      <td>15.61</td>\n",
       "      <td>10.93</td>\n",
       "      <td>3.28</td>\n",
       "      <td>2.95</td>\n",
       "      <td>80.0</td>\n",
       "      <td>8.0</td>\n",
       "      <td>E</td>\n",
       "      <td>32.77</td>\n",
       "    </tr>\n",
       "    <tr>\n",
       "      <td>4</td>\n",
       "      <td>pokemon red/pokemon blue</td>\n",
       "      <td>gb</td>\n",
       "      <td>1996</td>\n",
       "      <td>role-playing</td>\n",
       "      <td>11.27</td>\n",
       "      <td>8.89</td>\n",
       "      <td>10.22</td>\n",
       "      <td>1.00</td>\n",
       "      <td>NaN</td>\n",
       "      <td>NaN</td>\n",
       "      <td>NaN</td>\n",
       "      <td>31.38</td>\n",
       "    </tr>\n",
       "    <tr>\n",
       "      <td>5</td>\n",
       "      <td>tetris</td>\n",
       "      <td>gb</td>\n",
       "      <td>1989</td>\n",
       "      <td>puzzle</td>\n",
       "      <td>23.20</td>\n",
       "      <td>2.26</td>\n",
       "      <td>4.22</td>\n",
       "      <td>0.58</td>\n",
       "      <td>NaN</td>\n",
       "      <td>NaN</td>\n",
       "      <td>NaN</td>\n",
       "      <td>30.26</td>\n",
       "    </tr>\n",
       "    <tr>\n",
       "      <td>6</td>\n",
       "      <td>new super mario bros.</td>\n",
       "      <td>ds</td>\n",
       "      <td>2006</td>\n",
       "      <td>platform</td>\n",
       "      <td>11.28</td>\n",
       "      <td>9.14</td>\n",
       "      <td>6.50</td>\n",
       "      <td>2.88</td>\n",
       "      <td>89.0</td>\n",
       "      <td>8.5</td>\n",
       "      <td>E</td>\n",
       "      <td>29.80</td>\n",
       "    </tr>\n",
       "    <tr>\n",
       "      <td>7</td>\n",
       "      <td>wii play</td>\n",
       "      <td>wii</td>\n",
       "      <td>2006</td>\n",
       "      <td>misc</td>\n",
       "      <td>13.96</td>\n",
       "      <td>9.18</td>\n",
       "      <td>2.93</td>\n",
       "      <td>2.84</td>\n",
       "      <td>58.0</td>\n",
       "      <td>6.6</td>\n",
       "      <td>E</td>\n",
       "      <td>28.91</td>\n",
       "    </tr>\n",
       "    <tr>\n",
       "      <td>8</td>\n",
       "      <td>new super mario bros. wii</td>\n",
       "      <td>wii</td>\n",
       "      <td>2009</td>\n",
       "      <td>platform</td>\n",
       "      <td>14.44</td>\n",
       "      <td>6.94</td>\n",
       "      <td>4.70</td>\n",
       "      <td>2.24</td>\n",
       "      <td>87.0</td>\n",
       "      <td>8.4</td>\n",
       "      <td>E</td>\n",
       "      <td>28.32</td>\n",
       "    </tr>\n",
       "    <tr>\n",
       "      <td>9</td>\n",
       "      <td>duck hunt</td>\n",
       "      <td>nes</td>\n",
       "      <td>1984</td>\n",
       "      <td>shooter</td>\n",
       "      <td>26.93</td>\n",
       "      <td>0.63</td>\n",
       "      <td>0.28</td>\n",
       "      <td>0.47</td>\n",
       "      <td>NaN</td>\n",
       "      <td>NaN</td>\n",
       "      <td>NaN</td>\n",
       "      <td>28.31</td>\n",
       "    </tr>\n",
       "  </tbody>\n",
       "</table>\n",
       "</div>"
      ],
      "text/plain": [
       "                        name platform  year_of_release         genre  \\\n",
       "0                 wii sports      wii             2006        sports   \n",
       "1          super mario bros.      nes             1985      platform   \n",
       "2             mario kart wii      wii             2008        racing   \n",
       "3          wii sports resort      wii             2009        sports   \n",
       "4   pokemon red/pokemon blue       gb             1996  role-playing   \n",
       "5                     tetris       gb             1989        puzzle   \n",
       "6      new super mario bros.       ds             2006      platform   \n",
       "7                   wii play      wii             2006          misc   \n",
       "8  new super mario bros. wii      wii             2009      platform   \n",
       "9                  duck hunt      nes             1984       shooter   \n",
       "\n",
       "   na_sales  eu_sales  jp_sales  other_sales  critic_score  user_score rating  \\\n",
       "0     41.36     28.96      3.77         8.45          76.0         8.0      E   \n",
       "1     29.08      3.58      6.81         0.77           NaN         NaN    NaN   \n",
       "2     15.68     12.76      3.79         3.29          82.0         8.3      E   \n",
       "3     15.61     10.93      3.28         2.95          80.0         8.0      E   \n",
       "4     11.27      8.89     10.22         1.00           NaN         NaN    NaN   \n",
       "5     23.20      2.26      4.22         0.58           NaN         NaN    NaN   \n",
       "6     11.28      9.14      6.50         2.88          89.0         8.5      E   \n",
       "7     13.96      9.18      2.93         2.84          58.0         6.6      E   \n",
       "8     14.44      6.94      4.70         2.24          87.0         8.4      E   \n",
       "9     26.93      0.63      0.28         0.47           NaN         NaN    NaN   \n",
       "\n",
       "   global_sales  \n",
       "0         82.54  \n",
       "1         40.24  \n",
       "2         35.52  \n",
       "3         32.77  \n",
       "4         31.38  \n",
       "5         30.26  \n",
       "6         29.80  \n",
       "7         28.91  \n",
       "8         28.32  \n",
       "9         28.31  "
      ]
     },
     "execution_count": 15,
     "metadata": {},
     "output_type": "execute_result"
    }
   ],
   "source": [
    "data['global_sales'] = data['na_sales'] + data['eu_sales'] + data['jp_sales'] + data['other_sales']\n",
    "data.head(10)"
   ]
  },
  {
   "cell_type": "markdown",
   "metadata": {},
   "source": [
    "Добавили столбец с суммарными проажами для каждой игры."
   ]
  },
  {
   "cell_type": "markdown",
   "metadata": {},
   "source": [
    "## Исследование динамики выпуска игр"
   ]
  },
  {
   "cell_type": "markdown",
   "metadata": {},
   "source": [
    "### Динамика выпуска игр"
   ]
  },
  {
   "cell_type": "code",
   "execution_count": 16,
   "metadata": {},
   "outputs": [
    {
     "data": {
      "text/plain": [
       "Text(0, 0.5, 'Игр')"
      ]
     },
     "execution_count": 16,
     "metadata": {},
     "output_type": "execute_result"
    },
    {
     "data": {
      "image/png": "[encoded data removed]",
      "text/plain": [
       "<Figure size 432x288 with 1 Axes>"
      ]
     },
     "metadata": {
      "needs_background": "light"
     },
     "output_type": "display_data"
    }
   ],
   "source": [
    "data.groupby(by = 'year_of_release')['name'].count().plot(title = 'Количество выпущенных игр')\n",
    "plt.xlabel('Год')\n",
    "plt.ylabel('Игр')"
   ]
  },
  {
   "cell_type": "markdown",
   "metadata": {},
   "source": [
    "***Вывод***"
   ]
  },
  {
   "cell_type": "markdown",
   "metadata": {},
   "source": [
    "До примерно 1993 года игропром развивался очень слабо, после этого года и до 2010 виден бырный рост и пик примерно в 2010 году скорее всего в это время люди обратили внимание на индустрию игр и она начала покрывать спрос, а так как было непонятно, что нужно игроку, то делали всего и побольше. После 2010 идёт спад, который может говорить о том, что нашлись какие-то алгоритмы создания \"хорошей\"(прибыльной) игры. Также к спаду могло привести пресщение людей играми из за чего сделать то, что действительно удивит и заинтересует игрока стало сложнее. Также технологии разработки игр становятся всё сложнее и сложнее. Если раньше это был тетрис, который может написать один человек, то сейчас это многомиллионные проекты."
   ]
  },
  {
   "cell_type": "markdown",
   "metadata": {},
   "source": [
    "### Динамика выпуска игр по платформам"
   ]
  },
  {
   "cell_type": "code",
   "execution_count": 19,
   "metadata": {
    "scrolled": true
   },
   "outputs": [
    {
     "data": {
      "text/html": [
       "<div>\n",
       "<style scoped>\n",
       "    .dataframe tbody tr th:only-of-type {\n",
       "        vertical-align: middle;\n",
       "    }\n",
       "\n",
       "    .dataframe tbody tr th {\n",
       "        vertical-align: top;\n",
       "    }\n",
       "\n",
       "    .dataframe thead th {\n",
       "        text-align: right;\n",
       "    }\n",
       "</style>\n",
       "<table border=\"1\" class=\"dataframe\">\n",
       "  <thead>\n",
       "    <tr style=\"text-align: right;\">\n",
       "      <th></th>\n",
       "      <th>max</th>\n",
       "      <th>min</th>\n",
       "      <th>life</th>\n",
       "    </tr>\n",
       "    <tr>\n",
       "      <th>platform</th>\n",
       "      <th></th>\n",
       "      <th></th>\n",
       "      <th></th>\n",
       "    </tr>\n",
       "  </thead>\n",
       "  <tbody>\n",
       "    <tr>\n",
       "      <td>2600</td>\n",
       "      <td>1989</td>\n",
       "      <td>1980</td>\n",
       "      <td>10</td>\n",
       "    </tr>\n",
       "    <tr>\n",
       "      <td>3do</td>\n",
       "      <td>1995</td>\n",
       "      <td>1994</td>\n",
       "      <td>2</td>\n",
       "    </tr>\n",
       "    <tr>\n",
       "      <td>3ds</td>\n",
       "      <td>2016</td>\n",
       "      <td>2011</td>\n",
       "      <td>6</td>\n",
       "    </tr>\n",
       "    <tr>\n",
       "      <td>dc</td>\n",
       "      <td>2008</td>\n",
       "      <td>1998</td>\n",
       "      <td>11</td>\n",
       "    </tr>\n",
       "    <tr>\n",
       "      <td>ds</td>\n",
       "      <td>2013</td>\n",
       "      <td>1985</td>\n",
       "      <td>29</td>\n",
       "    </tr>\n",
       "    <tr>\n",
       "      <td>gb</td>\n",
       "      <td>2001</td>\n",
       "      <td>1988</td>\n",
       "      <td>14</td>\n",
       "    </tr>\n",
       "    <tr>\n",
       "      <td>gba</td>\n",
       "      <td>2007</td>\n",
       "      <td>2000</td>\n",
       "      <td>8</td>\n",
       "    </tr>\n",
       "    <tr>\n",
       "      <td>gc</td>\n",
       "      <td>2007</td>\n",
       "      <td>2001</td>\n",
       "      <td>7</td>\n",
       "    </tr>\n",
       "    <tr>\n",
       "      <td>gen</td>\n",
       "      <td>1994</td>\n",
       "      <td>1990</td>\n",
       "      <td>5</td>\n",
       "    </tr>\n",
       "    <tr>\n",
       "      <td>gg</td>\n",
       "      <td>1992</td>\n",
       "      <td>1992</td>\n",
       "      <td>1</td>\n",
       "    </tr>\n",
       "    <tr>\n",
       "      <td>n64</td>\n",
       "      <td>2002</td>\n",
       "      <td>1996</td>\n",
       "      <td>7</td>\n",
       "    </tr>\n",
       "    <tr>\n",
       "      <td>nes</td>\n",
       "      <td>1994</td>\n",
       "      <td>1983</td>\n",
       "      <td>12</td>\n",
       "    </tr>\n",
       "    <tr>\n",
       "      <td>ng</td>\n",
       "      <td>1996</td>\n",
       "      <td>1993</td>\n",
       "      <td>4</td>\n",
       "    </tr>\n",
       "    <tr>\n",
       "      <td>pc</td>\n",
       "      <td>2016</td>\n",
       "      <td>1985</td>\n",
       "      <td>32</td>\n",
       "    </tr>\n",
       "    <tr>\n",
       "      <td>pcfx</td>\n",
       "      <td>1996</td>\n",
       "      <td>1996</td>\n",
       "      <td>1</td>\n",
       "    </tr>\n",
       "    <tr>\n",
       "      <td>ps</td>\n",
       "      <td>2003</td>\n",
       "      <td>1994</td>\n",
       "      <td>10</td>\n",
       "    </tr>\n",
       "    <tr>\n",
       "      <td>ps2</td>\n",
       "      <td>2011</td>\n",
       "      <td>2000</td>\n",
       "      <td>12</td>\n",
       "    </tr>\n",
       "    <tr>\n",
       "      <td>ps3</td>\n",
       "      <td>2016</td>\n",
       "      <td>2006</td>\n",
       "      <td>11</td>\n",
       "    </tr>\n",
       "    <tr>\n",
       "      <td>ps4</td>\n",
       "      <td>2016</td>\n",
       "      <td>2013</td>\n",
       "      <td>4</td>\n",
       "    </tr>\n",
       "    <tr>\n",
       "      <td>psp</td>\n",
       "      <td>2015</td>\n",
       "      <td>2004</td>\n",
       "      <td>12</td>\n",
       "    </tr>\n",
       "    <tr>\n",
       "      <td>psv</td>\n",
       "      <td>2016</td>\n",
       "      <td>2011</td>\n",
       "      <td>6</td>\n",
       "    </tr>\n",
       "    <tr>\n",
       "      <td>sat</td>\n",
       "      <td>1999</td>\n",
       "      <td>1994</td>\n",
       "      <td>6</td>\n",
       "    </tr>\n",
       "    <tr>\n",
       "      <td>scd</td>\n",
       "      <td>1994</td>\n",
       "      <td>1993</td>\n",
       "      <td>2</td>\n",
       "    </tr>\n",
       "    <tr>\n",
       "      <td>snes</td>\n",
       "      <td>1999</td>\n",
       "      <td>1990</td>\n",
       "      <td>10</td>\n",
       "    </tr>\n",
       "    <tr>\n",
       "      <td>tg16</td>\n",
       "      <td>1995</td>\n",
       "      <td>1995</td>\n",
       "      <td>1</td>\n",
       "    </tr>\n",
       "    <tr>\n",
       "      <td>wii</td>\n",
       "      <td>2016</td>\n",
       "      <td>2006</td>\n",
       "      <td>11</td>\n",
       "    </tr>\n",
       "    <tr>\n",
       "      <td>wiiu</td>\n",
       "      <td>2016</td>\n",
       "      <td>2012</td>\n",
       "      <td>5</td>\n",
       "    </tr>\n",
       "    <tr>\n",
       "      <td>ws</td>\n",
       "      <td>2001</td>\n",
       "      <td>1999</td>\n",
       "      <td>3</td>\n",
       "    </tr>\n",
       "    <tr>\n",
       "      <td>x360</td>\n",
       "      <td>2016</td>\n",
       "      <td>2005</td>\n",
       "      <td>12</td>\n",
       "    </tr>\n",
       "    <tr>\n",
       "      <td>xb</td>\n",
       "      <td>2008</td>\n",
       "      <td>2000</td>\n",
       "      <td>9</td>\n",
       "    </tr>\n",
       "    <tr>\n",
       "      <td>xone</td>\n",
       "      <td>2016</td>\n",
       "      <td>2013</td>\n",
       "      <td>4</td>\n",
       "    </tr>\n",
       "  </tbody>\n",
       "</table>\n",
       "</div>"
      ],
      "text/plain": [
       "           max   min  life\n",
       "platform                  \n",
       "2600      1989  1980    10\n",
       "3do       1995  1994     2\n",
       "3ds       2016  2011     6\n",
       "dc        2008  1998    11\n",
       "ds        2013  1985    29\n",
       "gb        2001  1988    14\n",
       "gba       2007  2000     8\n",
       "gc        2007  2001     7\n",
       "gen       1994  1990     5\n",
       "gg        1992  1992     1\n",
       "n64       2002  1996     7\n",
       "nes       1994  1983    12\n",
       "ng        1996  1993     4\n",
       "pc        2016  1985    32\n",
       "pcfx      1996  1996     1\n",
       "ps        2003  1994    10\n",
       "ps2       2011  2000    12\n",
       "ps3       2016  2006    11\n",
       "ps4       2016  2013     4\n",
       "psp       2015  2004    12\n",
       "psv       2016  2011     6\n",
       "sat       1999  1994     6\n",
       "scd       1994  1993     2\n",
       "snes      1999  1990    10\n",
       "tg16      1995  1995     1\n",
       "wii       2016  2006    11\n",
       "wiiu      2016  2012     5\n",
       "ws        2001  1999     3\n",
       "x360      2016  2005    12\n",
       "xb        2008  2000     9\n",
       "xone      2016  2013     4"
      ]
     },
     "execution_count": 19,
     "metadata": {},
     "output_type": "execute_result"
    }
   ],
   "source": [
    "life_cycle = data.pivot_table(index = ['platform', 'year_of_release'], values = 'global_sales').reset_index()\n",
    "life_len = life_cycle.groupby(by = ['platform'])['year_of_release'].agg(['max', 'min'])\n",
    "life_len.columns = ['max', 'min']\n",
    "life_len['life'] = life_len['max'] - life_len['min'] + 1\n",
    "life_len"
   ]
  },
  {
   "cell_type": "markdown",
   "metadata": {},
   "source": [
    "Нашли цикл жизни всех консолей."
   ]
  },
  {
   "cell_type": "code",
   "execution_count": 20,
   "metadata": {},
   "outputs": [],
   "source": [
    "platforms_sales_total = data.pivot_table(index = ['platform'], values = 'global_sales').reset_index()\n",
    "sales_median = platforms_sales_total['global_sales'].median()\n",
    "popular_platforms = platforms_sales_total.query(\"global_sales > @sales_median\").reset_index()\n",
    "popular_platforms = popular_platforms.merge(life_len, on = 'platform')\n",
    "popular_platforms\n",
    "actual_period = popular_platforms['life'].median()"
   ]
  },
  {
   "cell_type": "code",
   "execution_count": 21,
   "metadata": {},
   "outputs": [
    {
     "name": "stdout",
     "output_type": "stream",
     "text": [
      "10.0\n"
     ]
    }
   ],
   "source": [
    "print(actual_period)"
   ]
  },
  {
   "cell_type": "markdown",
   "metadata": {},
   "source": [
    "***Вывод***"
   ]
  },
  {
   "cell_type": "markdown",
   "metadata": {},
   "source": [
    "Средний цикл жизни консолей, годовые продажи которых выше среднего 10 лет. Этот период и будем считать актуальным."
   ]
  },
  {
   "cell_type": "markdown",
   "metadata": {},
   "source": [
    "### Исследование динамики актуальных платформ"
   ]
  },
  {
   "cell_type": "markdown",
   "metadata": {},
   "source": [
    "Выбираем 2008 год, так как в [2008, 2017] - 10 лет."
   ]
  },
  {
   "cell_type": "code",
   "execution_count": 22,
   "metadata": {},
   "outputs": [
    {
     "data": {
      "text/html": [
       "<div>\n",
       "<style scoped>\n",
       "    .dataframe tbody tr th:only-of-type {\n",
       "        vertical-align: middle;\n",
       "    }\n",
       "\n",
       "    .dataframe tbody tr th {\n",
       "        vertical-align: top;\n",
       "    }\n",
       "\n",
       "    .dataframe thead th {\n",
       "        text-align: right;\n",
       "    }\n",
       "</style>\n",
       "<table border=\"1\" class=\"dataframe\">\n",
       "  <thead>\n",
       "    <tr style=\"text-align: right;\">\n",
       "      <th></th>\n",
       "      <th>platform</th>\n",
       "      <th>year_of_release</th>\n",
       "      <th>games</th>\n",
       "    </tr>\n",
       "  </thead>\n",
       "  <tbody>\n",
       "    <tr>\n",
       "      <td>4</td>\n",
       "      <td>3ds</td>\n",
       "      <td>2015</td>\n",
       "      <td>86</td>\n",
       "    </tr>\n",
       "    <tr>\n",
       "      <td>5</td>\n",
       "      <td>3ds</td>\n",
       "      <td>2016</td>\n",
       "      <td>46</td>\n",
       "    </tr>\n",
       "    <tr>\n",
       "      <td>20</td>\n",
       "      <td>pc</td>\n",
       "      <td>2015</td>\n",
       "      <td>50</td>\n",
       "    </tr>\n",
       "    <tr>\n",
       "      <td>21</td>\n",
       "      <td>pc</td>\n",
       "      <td>2016</td>\n",
       "      <td>54</td>\n",
       "    </tr>\n",
       "    <tr>\n",
       "      <td>33</td>\n",
       "      <td>ps3</td>\n",
       "      <td>2015</td>\n",
       "      <td>73</td>\n",
       "    </tr>\n",
       "    <tr>\n",
       "      <td>34</td>\n",
       "      <td>ps3</td>\n",
       "      <td>2016</td>\n",
       "      <td>38</td>\n",
       "    </tr>\n",
       "    <tr>\n",
       "      <td>37</td>\n",
       "      <td>ps4</td>\n",
       "      <td>2015</td>\n",
       "      <td>137</td>\n",
       "    </tr>\n",
       "    <tr>\n",
       "      <td>38</td>\n",
       "      <td>ps4</td>\n",
       "      <td>2016</td>\n",
       "      <td>164</td>\n",
       "    </tr>\n",
       "    <tr>\n",
       "      <td>46</td>\n",
       "      <td>psp</td>\n",
       "      <td>2015</td>\n",
       "      <td>3</td>\n",
       "    </tr>\n",
       "    <tr>\n",
       "      <td>51</td>\n",
       "      <td>psv</td>\n",
       "      <td>2015</td>\n",
       "      <td>110</td>\n",
       "    </tr>\n",
       "    <tr>\n",
       "      <td>52</td>\n",
       "      <td>psv</td>\n",
       "      <td>2016</td>\n",
       "      <td>85</td>\n",
       "    </tr>\n",
       "    <tr>\n",
       "      <td>60</td>\n",
       "      <td>wii</td>\n",
       "      <td>2015</td>\n",
       "      <td>4</td>\n",
       "    </tr>\n",
       "    <tr>\n",
       "      <td>61</td>\n",
       "      <td>wii</td>\n",
       "      <td>2016</td>\n",
       "      <td>1</td>\n",
       "    </tr>\n",
       "    <tr>\n",
       "      <td>65</td>\n",
       "      <td>wiiu</td>\n",
       "      <td>2015</td>\n",
       "      <td>28</td>\n",
       "    </tr>\n",
       "    <tr>\n",
       "      <td>66</td>\n",
       "      <td>wiiu</td>\n",
       "      <td>2016</td>\n",
       "      <td>14</td>\n",
       "    </tr>\n",
       "    <tr>\n",
       "      <td>74</td>\n",
       "      <td>x360</td>\n",
       "      <td>2015</td>\n",
       "      <td>35</td>\n",
       "    </tr>\n",
       "    <tr>\n",
       "      <td>75</td>\n",
       "      <td>x360</td>\n",
       "      <td>2016</td>\n",
       "      <td>13</td>\n",
       "    </tr>\n",
       "    <tr>\n",
       "      <td>79</td>\n",
       "      <td>xone</td>\n",
       "      <td>2015</td>\n",
       "      <td>80</td>\n",
       "    </tr>\n",
       "    <tr>\n",
       "      <td>80</td>\n",
       "      <td>xone</td>\n",
       "      <td>2016</td>\n",
       "      <td>87</td>\n",
       "    </tr>\n",
       "  </tbody>\n",
       "</table>\n",
       "</div>"
      ],
      "text/plain": [
       "   platform  year_of_release  games\n",
       "4       3ds             2015     86\n",
       "5       3ds             2016     46\n",
       "20       pc             2015     50\n",
       "21       pc             2016     54\n",
       "33      ps3             2015     73\n",
       "34      ps3             2016     38\n",
       "37      ps4             2015    137\n",
       "38      ps4             2016    164\n",
       "46      psp             2015      3\n",
       "51      psv             2015    110\n",
       "52      psv             2016     85\n",
       "60      wii             2015      4\n",
       "61      wii             2016      1\n",
       "65     wiiu             2015     28\n",
       "66     wiiu             2016     14\n",
       "74     x360             2015     35\n",
       "75     x360             2016     13\n",
       "79     xone             2015     80\n",
       "80     xone             2016     87"
      ]
     },
     "execution_count": 22,
     "metadata": {},
     "output_type": "execute_result"
    }
   ],
   "source": [
    "actual_data = data.query(\"year_of_release >= 2008\")\n",
    "actual_platforms = actual_data.pivot_table(index = ['platform', 'year_of_release'], values = 'name', aggfunc = 'count').reset_index()\n",
    "actual_platforms.columns = ['platform', 'year_of_release', 'games']\n",
    "actual_platforms = actual_platforms.query('year_of_release >= 2015')\n",
    "actual_platforms"
   ]
  },
  {
   "cell_type": "markdown",
   "metadata": {},
   "source": [
    "***Вывод***"
   ]
  },
  {
   "cell_type": "markdown",
   "metadata": {},
   "source": [
    "Получили удобную сводную таблицу по актуальным платформам. Можно заметить, что платформа после выпуска обычно набирает новые игры, а потом разработчики теряют интерес к этим платформам. Исключением является лишь pc, так как по сути это не совсем обычная платформа. Компьютер можно модифицировать вместе с потребностями игр. В следующем году потенциально прибыльными платформами могут быть: \"pc\", \"ps4\", \"xone\" - пока имеют растущий тренд, а также для \"psv\" хоть и понемногу уменьается количество выпускаемых игр, но она всё-ещё довольно популярна, так что нужно к ней также присмотреться скорее всего на 2017 год она тоже потенциально прибыльна."
   ]
  },
  {
   "cell_type": "markdown",
   "metadata": {},
   "source": [
    "### Исследование разброса продаж"
   ]
  },
  {
   "cell_type": "code",
   "execution_count": 23,
   "metadata": {},
   "outputs": [
    {
     "data": {
      "image/png": "[encoded data removed]",
      "text/plain": [
       "<Figure size 432x288 with 1 Axes>"
      ]
     },
     "metadata": {
      "needs_background": "light"
     },
     "output_type": "display_data"
    },
    {
     "data": {
      "image/png": "[encoded data removed]",
      "text/plain": [
       "<Figure size 432x288 with 1 Axes>"
      ]
     },
     "metadata": {
      "needs_background": "light"
     },
     "output_type": "display_data"
    },
    {
     "name": "stdout",
     "output_type": "stream",
     "text": [
      "Всего игр: 8130\n",
      "Выбросы 844\n"
     ]
    },
    {
     "data": {
      "image/png": "[encoded data removed]",
      "text/plain": [
       "<Figure size 432x288 with 1 Axes>"
      ]
     },
     "metadata": {
      "needs_background": "light"
     },
     "output_type": "display_data"
    },
    {
     "data": {
      "image/png": "[encoded data removed]",
      "text/plain": [
       "<Figure size 432x288 with 1 Axes>"
      ]
     },
     "metadata": {
      "needs_background": "light"
     },
     "output_type": "display_data"
    },
    {
     "data": {
      "image/png": "[encoded data removed]",
      "text/plain": [
       "<Figure size 432x288 with 1 Axes>"
      ]
     },
     "metadata": {
      "needs_background": "light"
     },
     "output_type": "display_data"
    },
    {
     "data": {
      "image/png": "[encoded data removed]",
      "text/plain": [
       "<Figure size 432x288 with 1 Axes>"
      ]
     },
     "metadata": {
      "needs_background": "light"
     },
     "output_type": "display_data"
    },
    {
     "data": {
      "image/png": "[encoded data removed]",
      "text/plain": [
       "<Figure size 432x288 with 1 Axes>"
      ]
     },
     "metadata": {
      "needs_background": "light"
     },
     "output_type": "display_data"
    },
    {
     "data": {
      "image/png": "[encoded data removed]",
      "text/plain": [
       "<Figure size 432x288 with 1 Axes>"
      ]
     },
     "metadata": {
      "needs_background": "light"
     },
     "output_type": "display_data"
    },
    {
     "data": {
      "image/png": "[encoded data removed]",
      "text/plain": [
       "<Figure size 432x288 with 1 Axes>"
      ]
     },
     "metadata": {
      "needs_background": "light"
     },
     "output_type": "display_data"
    },
    {
     "data": {
      "image/png": "[encoded data removed]",
      "text/plain": [
       "<Figure size 432x288 with 1 Axes>"
      ]
     },
     "metadata": {
      "needs_background": "light"
     },
     "output_type": "display_data"
    },
    {
     "data": {
      "image/png": "[encoded data removed]",
      "text/plain": [
       "<Figure size 432x288 with 1 Axes>"
      ]
     },
     "metadata": {
      "needs_background": "light"
     },
     "output_type": "display_data"
    },
    {
     "data": {
      "image/png": "[encoded data removed]",
      "text/plain": [
       "<Figure size 432x288 with 1 Axes>"
      ]
     },
     "metadata": {
      "needs_background": "light"
     },
     "output_type": "display_data"
    },
    {
     "data": {
      "image/png": "[encoded data removed]",
      "text/plain": [
       "<Figure size 432x288 with 1 Axes>"
      ]
     },
     "metadata": {
      "needs_background": "light"
     },
     "output_type": "display_data"
    },
    {
     "data": {
      "image/png": "[encoded data removed]",
      "text/plain": [
       "<Figure size 432x288 with 1 Axes>"
      ]
     },
     "metadata": {
      "needs_background": "light"
     },
     "output_type": "display_data"
    },
    {
     "data": {
      "image/png": "[encoded data removed]",
      "text/plain": [
       "<Figure size 432x288 with 1 Axes>"
      ]
     },
     "metadata": {
      "needs_background": "light"
     },
     "output_type": "display_data"
    },
    {
     "data": {
      "image/png": "[encoded data removed]",
      "text/plain": [
       "<Figure size 432x288 with 1 Axes>"
      ]
     },
     "metadata": {
      "needs_background": "light"
     },
     "output_type": "display_data"
    }
   ],
   "source": [
    "platform_data = {}\n",
    "for platform in actual_data['platform'].unique():\n",
    "    platform_data[platform] = actual_data.query(\"platform == @platform\")\n",
    "plt.boxplot(actual_data['global_sales'])\n",
    "plt.title('Полный ящик с \"усами\"')\n",
    "plt.show()\n",
    "plt.boxplot(actual_data['global_sales'])\n",
    "plt.ylim(0, 3)\n",
    "plt.title('Более наглядная версия ящика с \"усами\"')\n",
    "plt.show()\n",
    "print(\"Всего игр:\",actual_data['name'].count())\n",
    "print(\"Выбросы\",actual_data.query(\"global_sales > 1\")['name'].count())\n",
    "for platform in platform_data:\n",
    "    plt.boxplot(platform_data[platform]['global_sales'])\n",
    "    plt.ylim(0, 2)\n",
    "    plt.title(platform)\n",
    "    plt.show()\n"
   ]
  },
  {
   "cell_type": "markdown",
   "metadata": {},
   "source": [
    "***Вывод***"
   ]
  },
  {
   "cell_type": "markdown",
   "metadata": {},
   "source": [
    "Исходя из графика \"Ящик с усами\" мы видим, что если продано больше миллиона копий, то игру можно считать популярной. Однако таких \"выбросов\" почти 11,7%, Это говорит нам, что у игр довольно большой разброс по количеству проданных копий. По сути эта выборка из всех игр, которая не учитывает многих факторов. Например, почти каждый первый AAA проект будет являтся выбросом. Поэтому эта выборка может дать нам представление об игропроме в целом, сделать выводы об тенденциях рынка, но для разработчика она бесполезна:). На отдельных графиках видно, что ящики у портативных консолей в среднем меньше, чем у стационарных. Выделяется только pc, но это и не консоль."
   ]
  },
  {
   "cell_type": "markdown",
   "metadata": {},
   "source": [
    "Выбрали ps4, так как она имеет наибольшее количество игр, вышедших недавно."
   ]
  },
  {
   "cell_type": "code",
   "execution_count": 24,
   "metadata": {},
   "outputs": [],
   "source": [
    "def plots_and_corrs(users_data, critics_data):\n",
    "    users_data.plot(x = 'user_score', y = 'global_sales', kind = 'scatter', ylim = (0,1))\n",
    "    plt.xlabel('Оценка пользователей')\n",
    "    plt.ylabel('Продажи')\n",
    "    critics_data.plot(x = 'critic_score', y = 'global_sales', kind = 'scatter', ylim = (0,1))\n",
    "    plt.xlabel('Оценка критиков')\n",
    "    plt.ylabel('Продажи')\n",
    "    print(\"Корреляция оценок пользователей и продаж:\", users_data['user_score'].corr(users_data['global_sales']))\n",
    "    print(\"Корреляция оценок критиков и продаж:\", critics_data['critic_score'].corr(critics_data['global_sales']))"
   ]
  },
  {
   "cell_type": "code",
   "execution_count": 25,
   "metadata": {},
   "outputs": [
    {
     "name": "stdout",
     "output_type": "stream",
     "text": [
      "Корреляция оценок пользователей и продаж: -0.011796543700490903\n",
      "Корреляция оценок критиков и продаж: 0.30703188435294787\n"
     ]
    },
    {
     "data": {
      "image/png": "[encoded data removed]",
      "text/plain": [
       "<Figure size 432x288 with 1 Axes>"
      ]
     },
     "metadata": {
      "needs_background": "light"
     },
     "output_type": "display_data"
    },
    {
     "data": {
      "image/png": "[encoded data removed]",
      "text/plain": [
       "<Figure size 432x288 with 1 Axes>"
      ]
     },
     "metadata": {
      "needs_background": "light"
     },
     "output_type": "display_data"
    }
   ],
   "source": [
    "ps4_data = actual_data.query(\"platform == 'ps4'\")\n",
    "ps4_users_data = ps4_data.loc[~(ps4_data['user_score'].isna()) & (ps4_data['global_sales'] < 1)]\n",
    "ps4_critics_data = ps4_data.loc[~(ps4_data['critic_score'].isna()) & (ps4_data['global_sales'] < 1)]\n",
    "plots_and_corrs(ps4_users_data, ps4_critics_data)"
   ]
  },
  {
   "cell_type": "code",
   "execution_count": 26,
   "metadata": {},
   "outputs": [
    {
     "name": "stdout",
     "output_type": "stream",
     "text": [
      "Корреляция оценок пользователей и продаж: 0.10577634834415192\n",
      "Корреляция оценок критиков и продаж: 0.2863718435354566\n"
     ]
    },
    {
     "data": {
      "image/png": "[encoded data removed]",
      "text/plain": [
       "<Figure size 432x288 with 1 Axes>"
      ]
     },
     "metadata": {
      "needs_background": "light"
     },
     "output_type": "display_data"
    },
    {
     "data": {
      "image/png": "[encoded data removed]",
      "text/plain": [
       "<Figure size 432x288 with 1 Axes>"
      ]
     },
     "metadata": {
      "needs_background": "light"
     },
     "output_type": "display_data"
    }
   ],
   "source": [
    "users_data = actual_data.loc[~(actual_data['user_score'].isna()) & (actual_data['global_sales'] < 1)]\n",
    "critics_data = actual_data.loc[~(actual_data['critic_score'].isna()) & (actual_data['global_sales'] < 1)]\n",
    "plots_and_corrs(users_data, critics_data)"
   ]
  },
  {
   "cell_type": "markdown",
   "metadata": {},
   "source": [
    "***Вывод***"
   ]
  },
  {
   "cell_type": "markdown",
   "metadata": {},
   "source": [
    "Мы получили интересный вывод: оценки покупателей игр практически никак не коррелируют с продажами игр. Возможно тут есть более сложная зависимость, но явно не прямая пропорциональность. С отзывами критиков ситуация лучше. Мы обнаружили зависимость между оценками кртитков и продажами, хоть и не слишком сильную. Скорее всего мы получили такие выводы, так как при выборе игры мы смотрим на обзоры критиков, а не отзывы простых игроков. Также посмотрев на общую картину мы можем сказать, что выводы по поводу ps4 можно распространить на игровы платформы в целом."
   ]
  },
  {
   "cell_type": "markdown",
   "metadata": {},
   "source": [
    "### Изучение игр по жанрам"
   ]
  },
  {
   "cell_type": "code",
   "execution_count": 27,
   "metadata": {},
   "outputs": [
    {
     "data": {
      "text/html": [
       "<div>\n",
       "<style scoped>\n",
       "    .dataframe tbody tr th:only-of-type {\n",
       "        vertical-align: middle;\n",
       "    }\n",
       "\n",
       "    .dataframe tbody tr th {\n",
       "        vertical-align: top;\n",
       "    }\n",
       "\n",
       "    .dataframe thead th {\n",
       "        text-align: right;\n",
       "    }\n",
       "</style>\n",
       "<table border=\"1\" class=\"dataframe\">\n",
       "  <thead>\n",
       "    <tr style=\"text-align: right;\">\n",
       "      <th></th>\n",
       "      <th>count</th>\n",
       "      <th>median</th>\n",
       "    </tr>\n",
       "    <tr>\n",
       "      <th>genre</th>\n",
       "      <th></th>\n",
       "      <th></th>\n",
       "    </tr>\n",
       "  </thead>\n",
       "  <tbody>\n",
       "    <tr>\n",
       "      <td>shooter</td>\n",
       "      <td>583</td>\n",
       "      <td>0.340</td>\n",
       "    </tr>\n",
       "    <tr>\n",
       "      <td>platform</td>\n",
       "      <td>244</td>\n",
       "      <td>0.240</td>\n",
       "    </tr>\n",
       "    <tr>\n",
       "      <td>sports</td>\n",
       "      <td>958</td>\n",
       "      <td>0.200</td>\n",
       "    </tr>\n",
       "    <tr>\n",
       "      <td>fighting</td>\n",
       "      <td>308</td>\n",
       "      <td>0.185</td>\n",
       "    </tr>\n",
       "    <tr>\n",
       "      <td>racing</td>\n",
       "      <td>403</td>\n",
       "      <td>0.170</td>\n",
       "    </tr>\n",
       "    <tr>\n",
       "      <td>action</td>\n",
       "      <td>1988</td>\n",
       "      <td>0.160</td>\n",
       "    </tr>\n",
       "    <tr>\n",
       "      <td>role-playing</td>\n",
       "      <td>783</td>\n",
       "      <td>0.160</td>\n",
       "    </tr>\n",
       "    <tr>\n",
       "      <td>misc</td>\n",
       "      <td>994</td>\n",
       "      <td>0.140</td>\n",
       "    </tr>\n",
       "    <tr>\n",
       "      <td>simulation</td>\n",
       "      <td>459</td>\n",
       "      <td>0.120</td>\n",
       "    </tr>\n",
       "    <tr>\n",
       "      <td>puzzle</td>\n",
       "      <td>257</td>\n",
       "      <td>0.090</td>\n",
       "    </tr>\n",
       "    <tr>\n",
       "      <td>strategy</td>\n",
       "      <td>284</td>\n",
       "      <td>0.080</td>\n",
       "    </tr>\n",
       "    <tr>\n",
       "      <td>adventure</td>\n",
       "      <td>869</td>\n",
       "      <td>0.040</td>\n",
       "    </tr>\n",
       "  </tbody>\n",
       "</table>\n",
       "</div>"
      ],
      "text/plain": [
       "              count  median\n",
       "genre                      \n",
       "shooter         583   0.340\n",
       "platform        244   0.240\n",
       "sports          958   0.200\n",
       "fighting        308   0.185\n",
       "racing          403   0.170\n",
       "action         1988   0.160\n",
       "role-playing    783   0.160\n",
       "misc            994   0.140\n",
       "simulation      459   0.120\n",
       "puzzle          257   0.090\n",
       "strategy        284   0.080\n",
       "adventure       869   0.040"
      ]
     },
     "execution_count": 27,
     "metadata": {},
     "output_type": "execute_result"
    }
   ],
   "source": [
    "genre = actual_data.groupby(by = 'genre')['global_sales'].agg(['count', 'median'])\n",
    "genre.sort_values(by = 'median', ascending = False)"
   ]
  },
  {
   "cell_type": "markdown",
   "metadata": {},
   "source": [
    "***Вывод***"
   ]
  },
  {
   "cell_type": "markdown",
   "metadata": {},
   "source": [
    "Как оказалось наиболее продаваемые игры - шутеры, хотя их доля на рынке не выше остальных игр. Возможно это связанно со сложностью производства шутеров. Также хоть и не так сильно, как шутеры выделяются игры про спорт и платформеры. И если спортивные игры тоже не удивляют своим количеством на рынке, то платформеры на 4-ом месте с конца по количеству выпущенных игр. Возможно игроделам стоит получше присмотреться к этому жанру:). А мы же возьмём на заметку, что ключей от шутеров нужно почти в четыре раза больше чем обычно, а с спортивными играми и платформерами в два. Хуже всего продаются игры с пазлами и приключенческие игры, количество игр в жанре пазлы самое маленькое из остальных жанров, возможно этот жанр доживает своё время. Приключенческие игры возможно простые в создании, а поэтому ими часто занимаются инди разработчики. Поэтому эти игры могут продаваться плохо, так как они не обладают достаточными ресурсами для рекламы и не всегда могут всё проработать до мелочей. Также на основном фоне в худшую сторону выделяются стратегии. Скорее всего это связанно с трендом на ускорение игр. Людям просто некогда тратить огромное количество времени на одну партию"
   ]
  },
  {
   "cell_type": "markdown",
   "metadata": {},
   "source": [
    "## Портрет пользователя"
   ]
  },
  {
   "cell_type": "code",
   "execution_count": 83,
   "metadata": {},
   "outputs": [],
   "source": [
    "#фнукция строит и распечатывает портрет пользователя по региону и датафрейму\n",
    "def user_portrait(data, region):\n",
    "    print(data.groupby(by = 'platform')[region].sum().sort_values(ascending = False).head(5))\n",
    "    data.groupby(by = 'platform')[region].sum().sort_values(ascending = False).head(5).plot(kind = \"bar\")\n",
    "    plt.xlabel('Платформа')\n",
    "    plt.ylabel('Продажи млн. копий')\n",
    "    plt.show()\n",
    "    print(data.groupby(by = 'genre')[region].sum().sort_values(ascending = False).head(5))\n",
    "    data.groupby(by = 'genre')[region].sum().sort_values(ascending = False).head(5).plot(kind = \"bar\")\n",
    "    plt.xlabel('Жанр')\n",
    "    plt.ylabel('Продажи млн. копий')\n",
    "    plt.show()\n",
    "    print(data.loc[~(actual_data['rating'].isna())].groupby(by = 'rating')[region].sum().sort_values(ascending = False).head(5))\n",
    "    rating_data = data \n",
    "    rating_data.loc[rating_data['rating'].isna(), 'rating'] = \"RP\"     \n",
    "    rating_data.groupby(by = 'rating')[region].sum().sort_values(ascending = False).head(5).plot(kind = \"bar\")\n",
    "    plt.xlabel('Рейтинг ESRB')\n",
    "    plt.ylabel('Продажи млн. копий')\n",
    "    plt.show()"
   ]
  },
  {
   "cell_type": "code",
   "execution_count": 84,
   "metadata": {},
   "outputs": [
    {
     "name": "stdout",
     "output_type": "stream",
     "text": [
      "Портрет североамериканского пользователя:\n",
      "platform\n",
      "x360    490.69\n",
      "ps3     349.13\n",
      "wii     332.87\n",
      "ds      198.73\n",
      "ps4     108.74\n",
      "Name: na_sales, dtype: float64\n"
     ]
    },
    {
     "data": {
      "image/png": "[encoded data removed]",
      "text/plain": [
       "<Figure size 432x288 with 1 Axes>"
      ]
     },
     "metadata": {
      "needs_background": "light"
     },
     "output_type": "display_data"
    },
    {
     "name": "stdout",
     "output_type": "stream",
     "text": [
      "genre\n",
      "action          433.74\n",
      "shooter         311.26\n",
      "sports          276.27\n",
      "misc            211.61\n",
      "role-playing    155.81\n",
      "Name: na_sales, dtype: float64\n"
     ]
    },
    {
     "data": {
      "image/png": "[encoded data removed]",
      "text/plain": [
       "<Figure size 432x288 with 1 Axes>"
      ]
     },
     "metadata": {
      "needs_background": "light"
     },
     "output_type": "display_data"
    },
    {
     "name": "stdout",
     "output_type": "stream",
     "text": [
      "rating\n",
      "E       536.93\n",
      "M       502.60\n",
      "T       303.41\n",
      "E10+    251.88\n",
      "RP      218.51\n",
      "Name: na_sales, dtype: float64\n"
     ]
    },
    {
     "data": {
      "image/png": "[encoded data removed]",
      "text/plain": [
       "<Figure size 432x288 with 1 Axes>"
      ]
     },
     "metadata": {
      "needs_background": "light"
     },
     "output_type": "display_data"
    }
   ],
   "source": [
    "print('Портрет североамериканского пользователя:')\n",
    "user_portrait(actual_data, 'na_sales')"
   ]
  },
  {
   "cell_type": "code",
   "execution_count": 85,
   "metadata": {},
   "outputs": [
    {
     "name": "stdout",
     "output_type": "stream",
     "text": [
      "Портрет европейского пользователя:\n",
      "platform\n",
      "ps3     293.73\n",
      "x360    234.88\n",
      "wii     170.74\n",
      "ps4     141.09\n",
      "pc       92.17\n",
      "Name: eu_sales, dtype: float64\n"
     ]
    },
    {
     "data": {
      "image/png": "[encoded data removed]",
      "text/plain": [
       "<Figure size 432x288 with 1 Axes>"
      ]
     },
     "metadata": {
      "needs_background": "light"
     },
     "output_type": "display_data"
    },
    {
     "name": "stdout",
     "output_type": "stream",
     "text": [
      "genre\n",
      "action          310.59\n",
      "shooter         208.35\n",
      "sports          185.19\n",
      "misc            107.00\n",
      "role-playing     94.46\n",
      "Name: eu_sales, dtype: float64\n"
     ]
    },
    {
     "data": {
      "image/png": "[encoded data removed]",
      "text/plain": [
       "<Figure size 432x288 with 1 Axes>"
      ]
     },
     "metadata": {
      "needs_background": "light"
     },
     "output_type": "display_data"
    },
    {
     "name": "stdout",
     "output_type": "stream",
     "text": [
      "rating\n",
      "M       362.65\n",
      "E       326.61\n",
      "RP      188.88\n",
      "T       187.62\n",
      "E10+    144.53\n",
      "Name: eu_sales, dtype: float64\n"
     ]
    },
    {
     "data": {
      "image/png": "[encoded data removed]",
      "text/plain": [
       "<Figure size 432x288 with 1 Axes>"
      ]
     },
     "metadata": {
      "needs_background": "light"
     },
     "output_type": "display_data"
    }
   ],
   "source": [
    "print('Портрет европейского пользователя:')\n",
    "user_portrait(actual_data, 'eu_sales')"
   ]
  },
  {
   "cell_type": "code",
   "execution_count": 86,
   "metadata": {},
   "outputs": [
    {
     "name": "stdout",
     "output_type": "stream",
     "text": [
      "Портрет японского пользователя:\n",
      "platform\n",
      "3ds    100.62\n",
      "ds      76.12\n",
      "ps3     74.11\n",
      "psp     60.46\n",
      "wii     47.01\n",
      "Name: jp_sales, dtype: float64\n"
     ]
    },
    {
     "data": {
      "image/png": "[encoded data removed]",
      "text/plain": [
       "<Figure size 432x288 with 1 Axes>"
      ]
     },
     "metadata": {
      "needs_background": "light"
     },
     "output_type": "display_data"
    },
    {
     "name": "stdout",
     "output_type": "stream",
     "text": [
      "genre\n",
      "role-playing    138.12\n",
      "action           90.16\n",
      "misc             37.33\n",
      "sports           30.69\n",
      "adventure        23.36\n",
      "Name: jp_sales, dtype: float64\n"
     ]
    },
    {
     "data": {
      "image/png": "[encoded data removed]",
      "text/plain": [
       "<Figure size 432x288 with 1 Axes>"
      ]
     },
     "metadata": {
      "needs_background": "light"
     },
     "output_type": "display_data"
    },
    {
     "name": "stdout",
     "output_type": "stream",
     "text": [
      "rating\n",
      "RP      220.60\n",
      "E        77.17\n",
      "T        64.51\n",
      "M        39.33\n",
      "E10+     25.67\n",
      "Name: jp_sales, dtype: float64\n"
     ]
    },
    {
     "data": {
      "image/png": "[encoded data removed]",
      "text/plain": [
       "<Figure size 432x288 with 1 Axes>"
      ]
     },
     "metadata": {
      "needs_background": "light"
     },
     "output_type": "display_data"
    }
   ],
   "source": [
    "print('Портрет японского пользователя:')\n",
    "user_portrait(actual_data, 'jp_sales')"
   ]
  },
  {
   "cell_type": "markdown",
   "metadata": {},
   "source": [
    "***Вывод***"
   ]
  },
  {
   "cell_type": "markdown",
   "metadata": {},
   "source": [
    "В Северной Америке и Европе в целом очень похожий портрет пользователя. Он абсолютно идентичен по рейтингу ESRB, кроме столбца RP, однако это можно объяснить тем, что ESRB - выдаёт рейтиги компьютерным играм в США и Канаде, поэтому в Европе люди возможно меньше играют в Американские игры, различие в предпочитаемых жарах только в последнем месте, что также не сильно отличает европейца от североамериканца. В популярных платформах тоже находится сходство, только в Европе x360 на 3-ем месте, а в Северной Америке на первом. Скорее всего это связанно с тем, что x360 - Американская консоль, что и делает её столь популярной в Америке, а в Европе возможно из за таможенных сборов или из за отсутствия должной рекламы со стороны x360 более популярны консоли от компании ps. Портрет японского пользователя сильно отличается от североамериканского и европейского. Самая популярная у них консоль - 3ds, возможно это связано с любовью японцев к переносимым устройствам или большому кредиту доверия к компании Nintendo. Дальше идут уже намного менее популярная в Японии ps3, сразу после неё psv - тоже переноное устройство. Скорее всего японский рынок направлен на переносные девайсы, так как ps4 продаётся намного хуже, чем ps3. Рейтинг ESRB - просто решил измениться полностью. Практически одинаково популярны игры с рейтингом \"E\", \"T\", \"M\". А \"E10+\" самый непопулярный, зато игры с рейтингом \"RP\" тут имеют наибольшую популярность, что и логично, ведь в Японии еть довольно сильная игровая индустрия, а ESRB сертефицирует игры в США и Канаде. Для того, чтобы узнать, чем именно не понравился Японцам этот рейтинг стоит провести отдельное исследование. Также 3 из 5 жанров у японцев отличаются от остальных, но даже те, которые одинаковы не на тех-же местах, что и у остальных. Вывод прост - анализировать рынки Северной Америки с Европой нужно отдельно от Японских. Скорее всего предпочтения в жанрах и рейтинге японского зрителя так сильно отличается из за различия культур. "
   ]
  },
  {
   "cell_type": "markdown",
   "metadata": {},
   "source": [
    "## Гипотезы"
   ]
  },
  {
   "cell_type": "code",
   "execution_count": 32,
   "metadata": {},
   "outputs": [],
   "source": [
    "def hypothesis_testing(data1, data2, alpha):\n",
    "    result = st.ttest_ind(data1['user_score'], data2['user_score'])\n",
    "    print('p-значение:', result.pvalue)\n",
    "    if (result.pvalue < alpha):\n",
    "        print(\"Отвергаем нулевую гипотезу\")\n",
    "    else:\n",
    "        print(\"Не получилось отвергнуть нулевую гипотезу\")"
   ]
  },
  {
   "cell_type": "markdown",
   "metadata": {},
   "source": [
    "### Средние пользовательские рейтинги платформ Xbox One и PC одинаковые."
   ]
  },
  {
   "cell_type": "markdown",
   "metadata": {},
   "source": [
    "Нулевая гипотеза: cредние пользовательские рейтинги платформ Xbox One и PC одинаковые.\n",
    "Альтернативная гипотеза: Средние пользовательские рейтинги платформ Xbox One и PC различные."
   ]
  },
  {
   "cell_type": "code",
   "execution_count": 33,
   "metadata": {},
   "outputs": [
    {
     "name": "stdout",
     "output_type": "stream",
     "text": [
      "p-значение: 0.1295458611061516\n",
      "Не получилось отвергнуть нулевую гипотезу\n"
     ]
    }
   ],
   "source": [
    "hyphothesis_data = actual_data.loc[~(actual_data['user_score'].isna())] \n",
    "pc_data = hyphothesis_data.query(\"platform == 'pc'\")\n",
    "xone_data = hyphothesis_data.query(\"platform == 'xone'\")\n",
    "hypothesis_testing(pc_data, xone_data, 0.05)"
   ]
  },
  {
   "cell_type": "markdown",
   "metadata": {},
   "source": [
    "***Вывод***"
   ]
  },
  {
   "cell_type": "markdown",
   "metadata": {},
   "source": [
    "Рейтинги игр скорее всего не зависят от консоли, на которую они выходят."
   ]
  },
  {
   "cell_type": "markdown",
   "metadata": {},
   "source": [
    "### Средние пользовательские рейтинги жанров Action и Sports одинаковые."
   ]
  },
  {
   "cell_type": "markdown",
   "metadata": {},
   "source": [
    "Нулевая гипотеза: средние пользовательские рейтинги жанров Action и Sports одинковые.\n",
    "Альтернативная гипотеза: средние пользовательские рейтинги жанров Action и Sports разные."
   ]
  },
  {
   "cell_type": "code",
   "execution_count": 34,
   "metadata": {},
   "outputs": [
    {
     "name": "stdout",
     "output_type": "stream",
     "text": [
      "p-значение: 1.9150743334562065e-15\n",
      "Отвергаем нулевую гипотезу\n"
     ]
    }
   ],
   "source": [
    "action_data = hyphothesis_data.query(\"genre == 'action'\")\n",
    "sports_data = hyphothesis_data.query(\"genre == 'sports'\")\n",
    "hypothesis_testing(action_data, sports_data, .05)"
   ]
  },
  {
   "cell_type": "code",
   "execution_count": 35,
   "metadata": {},
   "outputs": [
    {
     "name": "stdout",
     "output_type": "stream",
     "text": [
      "6.854444444444444\n",
      "6.215863453815261\n"
     ]
    }
   ],
   "source": [
    "print(action_data['user_score'].mean())\n",
    "print(sports_data['user_score'].mean())"
   ]
  },
  {
   "cell_type": "markdown",
   "metadata": {},
   "source": [
    "***Вывод***"
   ]
  },
  {
   "cell_type": "markdown",
   "metadata": {},
   "source": [
    "Рейтинг игр в жанре Action в среднем выше, чем рейтинг игр в жанре Sports."
   ]
  },
  {
   "cell_type": "markdown",
   "metadata": {},
   "source": [
    "## Общий вывод"
   ]
  },
  {
   "cell_type": "markdown",
   "metadata": {},
   "source": [
    "Общий вывод будем делать по Американскому и Европейскому рынкам, там прослеживается логика. Итого, \"игра мечты\" выгдядит так: выйдет на ps4, ps3 или xone в жанре шутер с рейтингом \"M\" и великолепными отзывами экспертов. А если более развёрнуто, то: жанр игры Action, Shooter, Sports, Platformer - хороший знак(здесь и далее списки в порядке уменьшения \"хорошести\"), перспективные платформы: ps4, xone, pc. Также рейтинг \"M\" повышает шанс на высокие продажи. Плюсом к этому есть не очень сильная, но всё-таки корреляция с мнениями экспертов. Если несколько из этих факторов совпадут, то к игре стоит присмотреться более детально, так как она потенциально новый \"бестселлер\"."
   ]
  }
 ],
 "metadata": {
  "ExecuteTimeLog": [
   {
    "duration": 994,
    "start_time": "2021-09-08T12:32:45.272Z"
   },
   {
    "duration": 270,
    "start_time": "2021-09-08T12:33:32.564Z"
   },
   {
    "duration": 54,
    "start_time": "2021-09-08T12:33:42.223Z"
   },
   {
    "duration": 46,
    "start_time": "2021-09-08T12:34:36.667Z"
   },
   {
    "duration": 11,
    "start_time": "2021-09-08T12:34:45.343Z"
   },
   {
    "duration": 30,
    "start_time": "2021-09-08T12:34:52.761Z"
   },
   {
    "duration": 3,
    "start_time": "2021-09-08T13:03:11.494Z"
   },
   {
    "duration": 4,
    "start_time": "2021-09-08T13:03:16.891Z"
   },
   {
    "duration": 184,
    "start_time": "2021-09-08T13:04:26.963Z"
   },
   {
    "duration": 180,
    "start_time": "2021-09-08T13:04:41.846Z"
   },
   {
    "duration": 192,
    "start_time": "2021-09-08T13:06:41.457Z"
   },
   {
    "duration": 4,
    "start_time": "2021-09-08T13:06:52.198Z"
   },
   {
    "duration": 2,
    "start_time": "2021-09-08T13:07:11.610Z"
   },
   {
    "duration": 20,
    "start_time": "2021-09-08T13:07:22.539Z"
   },
   {
    "duration": 12,
    "start_time": "2021-09-08T13:07:30.640Z"
   },
   {
    "duration": 2103,
    "start_time": "2021-09-08T13:12:03.265Z"
   },
   {
    "duration": 6,
    "start_time": "2021-09-08T13:12:35.256Z"
   },
   {
    "duration": 20,
    "start_time": "2021-09-08T13:13:48.090Z"
   },
   {
    "duration": 10,
    "start_time": "2021-09-08T13:14:49.361Z"
   },
   {
    "duration": 5,
    "start_time": "2021-09-08T13:14:57.635Z"
   },
   {
    "duration": 8,
    "start_time": "2021-09-08T13:15:53.289Z"
   },
   {
    "duration": 6,
    "start_time": "2021-09-08T13:16:51.620Z"
   },
   {
    "duration": 7,
    "start_time": "2021-09-08T13:25:38.247Z"
   },
   {
    "duration": 9,
    "start_time": "2021-09-08T13:25:46.872Z"
   },
   {
    "duration": 977,
    "start_time": "2021-09-08T13:26:37.682Z"
   },
   {
    "duration": 48,
    "start_time": "2021-09-08T13:26:38.661Z"
   },
   {
    "duration": 9,
    "start_time": "2021-09-08T13:26:38.711Z"
   },
   {
    "duration": 28,
    "start_time": "2021-09-08T13:26:38.722Z"
   },
   {
    "duration": 34,
    "start_time": "2021-09-08T13:26:38.751Z"
   },
   {
    "duration": 5,
    "start_time": "2021-09-08T13:26:38.786Z"
   },
   {
    "duration": 21,
    "start_time": "2021-09-08T13:26:38.793Z"
   },
   {
    "duration": 10,
    "start_time": "2021-09-08T13:26:38.816Z"
   },
   {
    "duration": 5,
    "start_time": "2021-09-08T13:26:38.828Z"
   },
   {
    "duration": 9,
    "start_time": "2021-09-08T13:26:38.835Z"
   },
   {
    "duration": 8,
    "start_time": "2021-09-08T13:26:38.845Z"
   },
   {
    "duration": 952,
    "start_time": "2021-09-08T13:27:21.509Z"
   },
   {
    "duration": 51,
    "start_time": "2021-09-08T13:27:22.463Z"
   },
   {
    "duration": 8,
    "start_time": "2021-09-08T13:27:22.516Z"
   },
   {
    "duration": 32,
    "start_time": "2021-09-08T13:27:22.526Z"
   },
   {
    "duration": 26,
    "start_time": "2021-09-08T13:27:22.559Z"
   },
   {
    "duration": 18,
    "start_time": "2021-09-08T13:27:22.586Z"
   },
   {
    "duration": 27,
    "start_time": "2021-09-08T13:27:22.606Z"
   },
   {
    "duration": 6,
    "start_time": "2021-09-08T13:27:22.635Z"
   },
   {
    "duration": 1924,
    "start_time": "2021-09-08T13:27:22.642Z"
   },
   {
    "duration": -268,
    "start_time": "2021-09-08T13:27:24.836Z"
   },
   {
    "duration": -272,
    "start_time": "2021-09-08T13:27:24.841Z"
   },
   {
    "duration": 7,
    "start_time": "2021-09-08T13:28:09.535Z"
   },
   {
    "duration": 6,
    "start_time": "2021-09-08T13:28:33.376Z"
   },
   {
    "duration": 925,
    "start_time": "2021-09-08T13:28:44.448Z"
   },
   {
    "duration": 50,
    "start_time": "2021-09-08T13:28:45.375Z"
   },
   {
    "duration": 10,
    "start_time": "2021-09-08T13:28:45.429Z"
   },
   {
    "duration": 29,
    "start_time": "2021-09-08T13:28:45.440Z"
   },
   {
    "duration": 22,
    "start_time": "2021-09-08T13:28:45.471Z"
   },
   {
    "duration": 13,
    "start_time": "2021-09-08T13:28:45.494Z"
   },
   {
    "duration": 23,
    "start_time": "2021-09-08T13:28:45.509Z"
   },
   {
    "duration": 5,
    "start_time": "2021-09-08T13:28:45.534Z"
   },
   {
    "duration": 8,
    "start_time": "2021-09-08T13:28:45.541Z"
   },
   {
    "duration": 9,
    "start_time": "2021-09-08T13:28:45.551Z"
   },
   {
    "duration": 29,
    "start_time": "2021-09-08T13:28:45.561Z"
   },
   {
    "duration": 4,
    "start_time": "2021-09-08T13:35:32.865Z"
   },
   {
    "duration": 16,
    "start_time": "2021-09-08T13:37:34.931Z"
   },
   {
    "duration": 25,
    "start_time": "2021-09-08T13:38:01.152Z"
   },
   {
    "duration": 9,
    "start_time": "2021-09-08T13:44:30.996Z"
   },
   {
    "duration": 14,
    "start_time": "2021-09-08T13:51:06.840Z"
   },
   {
    "duration": 14,
    "start_time": "2021-09-08T13:54:21.777Z"
   },
   {
    "duration": 32,
    "start_time": "2021-09-08T13:56:12.834Z"
   },
   {
    "duration": 5,
    "start_time": "2021-09-08T13:58:09.738Z"
   },
   {
    "duration": 15,
    "start_time": "2021-09-08T13:58:21.778Z"
   },
   {
    "duration": 59,
    "start_time": "2021-09-08T14:04:19.401Z"
   },
   {
    "duration": 255,
    "start_time": "2021-09-08T14:05:52.791Z"
   },
   {
    "duration": 187,
    "start_time": "2021-09-08T14:05:57.192Z"
   },
   {
    "duration": 192,
    "start_time": "2021-09-08T14:06:11.144Z"
   },
   {
    "duration": 180,
    "start_time": "2021-09-08T14:06:33.059Z"
   },
   {
    "duration": 181,
    "start_time": "2021-09-08T14:07:54.060Z"
   },
   {
    "duration": 358,
    "start_time": "2021-09-08T14:08:43.076Z"
   },
   {
    "duration": 178,
    "start_time": "2021-09-08T14:08:49.842Z"
   },
   {
    "duration": 20,
    "start_time": "2021-09-08T14:33:11.065Z"
   },
   {
    "duration": 13,
    "start_time": "2021-09-08T14:36:39.423Z"
   },
   {
    "duration": 20,
    "start_time": "2021-09-08T14:36:58.695Z"
   },
   {
    "duration": 20,
    "start_time": "2021-09-08T14:38:29.535Z"
   },
   {
    "duration": 17,
    "start_time": "2021-09-08T14:39:49.024Z"
   },
   {
    "duration": 56,
    "start_time": "2021-09-08T14:43:05.626Z"
   },
   {
    "duration": 8,
    "start_time": "2021-09-08T14:43:12.478Z"
   },
   {
    "duration": 7,
    "start_time": "2021-09-08T14:43:33.222Z"
   },
   {
    "duration": 7,
    "start_time": "2021-09-08T14:43:52.585Z"
   },
   {
    "duration": 3,
    "start_time": "2021-09-08T14:45:33.415Z"
   },
   {
    "duration": 194,
    "start_time": "2021-09-08T14:45:54.919Z"
   },
   {
    "duration": 22,
    "start_time": "2021-09-08T14:46:01.480Z"
   },
   {
    "duration": 31,
    "start_time": "2021-09-08T14:46:17.985Z"
   },
   {
    "duration": 30,
    "start_time": "2021-09-08T14:46:21.978Z"
   },
   {
    "duration": 34,
    "start_time": "2021-09-08T14:46:30.057Z"
   },
   {
    "duration": 33,
    "start_time": "2021-09-08T14:46:35.084Z"
   },
   {
    "duration": 33,
    "start_time": "2021-09-08T14:46:49.128Z"
   },
   {
    "duration": 43,
    "start_time": "2021-09-08T14:47:17.168Z"
   },
   {
    "duration": 46,
    "start_time": "2021-09-08T14:47:35.171Z"
   },
   {
    "duration": 43,
    "start_time": "2021-09-08T14:47:43.779Z"
   },
   {
    "duration": 3,
    "start_time": "2021-09-08T14:49:52.205Z"
   },
   {
    "duration": 4,
    "start_time": "2021-09-08T14:50:00.600Z"
   },
   {
    "duration": 43,
    "start_time": "2021-09-08T14:50:05.644Z"
   },
   {
    "duration": 3,
    "start_time": "2021-09-08T14:50:14.024Z"
   },
   {
    "duration": 43,
    "start_time": "2021-09-08T14:50:14.908Z"
   },
   {
    "duration": 4,
    "start_time": "2021-09-08T14:50:31.846Z"
   },
   {
    "duration": 44,
    "start_time": "2021-09-08T14:50:34.059Z"
   },
   {
    "duration": 56,
    "start_time": "2021-09-08T14:50:47.770Z"
   },
   {
    "duration": 6,
    "start_time": "2021-09-08T15:00:51.329Z"
   },
   {
    "duration": 14,
    "start_time": "2021-09-08T15:04:24.314Z"
   },
   {
    "duration": 20,
    "start_time": "2021-09-08T15:04:34.348Z"
   },
   {
    "duration": 782,
    "start_time": "2021-09-08T15:11:02.022Z"
   },
   {
    "duration": 12,
    "start_time": "2021-09-08T15:11:10.512Z"
   },
   {
    "duration": 19,
    "start_time": "2021-09-08T15:11:21.533Z"
   },
   {
    "duration": 170,
    "start_time": "2021-09-08T15:11:32.253Z"
   },
   {
    "duration": 20,
    "start_time": "2021-09-08T15:15:02.983Z"
   },
   {
    "duration": 19,
    "start_time": "2021-09-08T15:16:10.135Z"
   },
   {
    "duration": 22,
    "start_time": "2021-09-08T15:16:20.201Z"
   },
   {
    "duration": 930,
    "start_time": "2021-09-08T15:45:10.525Z"
   },
   {
    "duration": 50,
    "start_time": "2021-09-08T15:45:11.457Z"
   },
   {
    "duration": 10,
    "start_time": "2021-09-08T15:45:11.510Z"
   },
   {
    "duration": 26,
    "start_time": "2021-09-08T15:45:11.523Z"
   },
   {
    "duration": 10,
    "start_time": "2021-09-08T15:45:11.551Z"
   },
   {
    "duration": 34,
    "start_time": "2021-09-08T15:45:11.562Z"
   },
   {
    "duration": 4,
    "start_time": "2021-09-08T15:45:11.598Z"
   },
   {
    "duration": 24,
    "start_time": "2021-09-08T15:45:11.604Z"
   },
   {
    "duration": 10,
    "start_time": "2021-09-08T15:45:11.630Z"
   },
   {
    "duration": 13,
    "start_time": "2021-09-08T15:45:11.642Z"
   },
   {
    "duration": 28,
    "start_time": "2021-09-08T15:45:11.657Z"
   },
   {
    "duration": 4,
    "start_time": "2021-09-08T15:45:11.686Z"
   },
   {
    "duration": 30,
    "start_time": "2021-09-08T15:45:11.691Z"
   },
   {
    "duration": 14,
    "start_time": "2021-09-08T15:45:11.723Z"
   },
   {
    "duration": 16,
    "start_time": "2021-09-08T15:45:11.739Z"
   },
   {
    "duration": 211,
    "start_time": "2021-09-08T15:45:11.757Z"
   },
   {
    "duration": 3,
    "start_time": "2021-09-08T15:45:11.969Z"
   },
   {
    "duration": 59,
    "start_time": "2021-09-08T15:45:11.974Z"
   },
   {
    "duration": 18,
    "start_time": "2021-09-08T15:45:12.034Z"
   },
   {
    "duration": 4,
    "start_time": "2021-09-08T15:45:12.054Z"
   },
   {
    "duration": 257,
    "start_time": "2021-09-08T15:45:23.143Z"
   },
   {
    "duration": 281,
    "start_time": "2021-09-08T15:46:19.993Z"
   },
   {
    "duration": 315,
    "start_time": "2021-09-08T15:46:41.780Z"
   },
   {
    "duration": 333,
    "start_time": "2021-09-08T15:46:52.203Z"
   },
   {
    "duration": 349,
    "start_time": "2021-09-08T15:47:53.062Z"
   },
   {
    "duration": 122,
    "start_time": "2021-09-08T15:48:41.657Z"
   },
   {
    "duration": 195,
    "start_time": "2021-09-08T15:49:26.237Z"
   },
   {
    "duration": 128,
    "start_time": "2021-09-08T15:49:37.284Z"
   },
   {
    "duration": 121,
    "start_time": "2021-09-08T15:49:44.355Z"
   },
   {
    "duration": 119,
    "start_time": "2021-09-08T15:49:59.589Z"
   },
   {
    "duration": 118,
    "start_time": "2021-09-08T15:50:10.857Z"
   },
   {
    "duration": 121,
    "start_time": "2021-09-08T15:50:20.963Z"
   },
   {
    "duration": 132,
    "start_time": "2021-09-08T15:50:53.046Z"
   },
   {
    "duration": 240,
    "start_time": "2021-09-08T15:51:07.527Z"
   },
   {
    "duration": 239,
    "start_time": "2021-09-08T15:53:22.738Z"
   },
   {
    "duration": 253,
    "start_time": "2021-09-08T15:54:25.193Z"
   },
   {
    "duration": 318,
    "start_time": "2021-09-08T15:54:33.794Z"
   },
   {
    "duration": 244,
    "start_time": "2021-09-08T15:55:09.142Z"
   },
   {
    "duration": 223,
    "start_time": "2021-09-08T15:56:58.720Z"
   },
   {
    "duration": 224,
    "start_time": "2021-09-08T15:57:07.798Z"
   },
   {
    "duration": 226,
    "start_time": "2021-09-08T15:57:14.623Z"
   },
   {
    "duration": 62,
    "start_time": "2021-09-08T15:57:19.414Z"
   },
   {
    "duration": 234,
    "start_time": "2021-09-08T15:57:25.102Z"
   },
   {
    "duration": 365,
    "start_time": "2021-09-08T15:57:30.634Z"
   },
   {
    "duration": 227,
    "start_time": "2021-09-08T15:57:37.991Z"
   },
   {
    "duration": 224,
    "start_time": "2021-09-08T15:57:43.571Z"
   },
   {
    "duration": 238,
    "start_time": "2021-09-08T15:57:49.385Z"
   },
   {
    "duration": 6,
    "start_time": "2021-09-08T19:03:35.026Z"
   },
   {
    "duration": 20,
    "start_time": "2021-09-08T19:03:43.403Z"
   },
   {
    "duration": 7,
    "start_time": "2021-09-08T19:07:30.571Z"
   },
   {
    "duration": 367,
    "start_time": "2021-09-08T19:09:08.043Z"
   },
   {
    "duration": 377,
    "start_time": "2021-09-08T19:09:20.685Z"
   },
   {
    "duration": 499,
    "start_time": "2021-09-08T19:09:47.054Z"
   },
   {
    "duration": 638,
    "start_time": "2021-09-08T19:11:10.414Z"
   },
   {
    "duration": 476,
    "start_time": "2021-09-08T19:13:43.869Z"
   },
   {
    "duration": 491,
    "start_time": "2021-09-08T19:15:38.634Z"
   },
   {
    "duration": 496,
    "start_time": "2021-09-08T19:17:40.118Z"
   },
   {
    "duration": 188,
    "start_time": "2021-09-08T19:26:32.052Z"
   },
   {
    "duration": 5,
    "start_time": "2021-09-08T19:26:33.959Z"
   },
   {
    "duration": 226,
    "start_time": "2021-09-08T19:26:35.762Z"
   },
   {
    "duration": 533,
    "start_time": "2021-09-08T19:26:50.714Z"
   },
   {
    "duration": 543,
    "start_time": "2021-09-08T19:28:41.388Z"
   },
   {
    "duration": 465,
    "start_time": "2021-09-08T19:29:33.777Z"
   },
   {
    "duration": 501,
    "start_time": "2021-09-08T19:29:40.474Z"
   },
   {
    "duration": 4,
    "start_time": "2021-09-08T19:29:48.106Z"
   },
   {
    "duration": 511,
    "start_time": "2021-09-08T19:29:50.620Z"
   },
   {
    "duration": 513,
    "start_time": "2021-09-08T19:29:55.612Z"
   },
   {
    "duration": 195,
    "start_time": "2021-09-08T19:36:04.145Z"
   },
   {
    "duration": 12,
    "start_time": "2021-09-08T19:39:18.004Z"
   },
   {
    "duration": 12,
    "start_time": "2021-09-08T19:41:58.568Z"
   },
   {
    "duration": 184,
    "start_time": "2021-09-08T19:42:29.001Z"
   },
   {
    "duration": 13,
    "start_time": "2021-09-08T19:42:38.935Z"
   },
   {
    "duration": 13,
    "start_time": "2021-09-08T19:43:00.334Z"
   },
   {
    "duration": 11,
    "start_time": "2021-09-08T19:51:56.424Z"
   },
   {
    "duration": 19,
    "start_time": "2021-09-08T20:19:34.992Z"
   },
   {
    "duration": 59,
    "start_time": "2021-09-08T20:26:35.715Z"
   },
   {
    "duration": 4,
    "start_time": "2021-09-08T20:26:48.188Z"
   },
   {
    "duration": 363,
    "start_time": "2021-09-08T20:27:41.561Z"
   },
   {
    "duration": 4,
    "start_time": "2021-09-08T20:28:57.438Z"
   },
   {
    "duration": 14,
    "start_time": "2021-09-08T20:29:00.159Z"
   },
   {
    "duration": 4,
    "start_time": "2021-09-08T20:29:43.644Z"
   },
   {
    "duration": 18,
    "start_time": "2021-09-08T20:29:48.664Z"
   },
   {
    "duration": 18,
    "start_time": "2021-09-08T20:31:37.614Z"
   },
   {
    "duration": 9,
    "start_time": "2021-09-08T20:32:24.100Z"
   },
   {
    "duration": 9,
    "start_time": "2021-09-08T20:32:26.709Z"
   },
   {
    "duration": 9,
    "start_time": "2021-09-08T20:32:27.266Z"
   },
   {
    "duration": 3,
    "start_time": "2021-09-08T20:41:10.781Z"
   },
   {
    "duration": 13,
    "start_time": "2021-09-08T20:41:11.858Z"
   },
   {
    "duration": 4,
    "start_time": "2021-09-08T20:41:46.367Z"
   },
   {
    "duration": 12,
    "start_time": "2021-09-08T20:41:46.823Z"
   },
   {
    "duration": 12,
    "start_time": "2021-09-08T20:41:48.355Z"
   },
   {
    "duration": 12,
    "start_time": "2021-09-08T20:41:48.675Z"
   },
   {
    "duration": 8,
    "start_time": "2021-09-08T21:37:05.861Z"
   },
   {
    "duration": 9,
    "start_time": "2021-09-08T21:43:14.602Z"
   },
   {
    "duration": 4,
    "start_time": "2021-09-08T21:44:18.260Z"
   },
   {
    "duration": 235,
    "start_time": "2021-09-08T21:44:22.212Z"
   },
   {
    "duration": 15,
    "start_time": "2021-09-08T21:44:28.887Z"
   },
   {
    "duration": 11,
    "start_time": "2021-09-08T21:45:14.632Z"
   },
   {
    "duration": 10,
    "start_time": "2021-09-08T21:46:04.052Z"
   },
   {
    "duration": 11,
    "start_time": "2021-09-08T21:46:28.792Z"
   },
   {
    "duration": 192,
    "start_time": "2021-09-08T21:54:21.198Z"
   },
   {
    "duration": 176,
    "start_time": "2021-09-08T21:54:28.578Z"
   },
   {
    "duration": 11,
    "start_time": "2021-09-08T21:54:37.871Z"
   },
   {
    "duration": 183,
    "start_time": "2021-09-08T21:54:40.235Z"
   },
   {
    "duration": 9,
    "start_time": "2021-09-08T21:54:57.086Z"
   },
   {
    "duration": 9,
    "start_time": "2021-09-08T21:55:21.203Z"
   },
   {
    "duration": 4,
    "start_time": "2021-09-08T21:56:21.227Z"
   },
   {
    "duration": 952,
    "start_time": "2021-09-08T22:15:38.008Z"
   },
   {
    "duration": 48,
    "start_time": "2021-09-08T22:15:38.961Z"
   },
   {
    "duration": 10,
    "start_time": "2021-09-08T22:15:39.010Z"
   },
   {
    "duration": 27,
    "start_time": "2021-09-08T22:15:39.022Z"
   },
   {
    "duration": 11,
    "start_time": "2021-09-08T22:15:39.050Z"
   },
   {
    "duration": 34,
    "start_time": "2021-09-08T22:15:39.062Z"
   },
   {
    "duration": 5,
    "start_time": "2021-09-08T22:15:39.097Z"
   },
   {
    "duration": 21,
    "start_time": "2021-09-08T22:15:39.104Z"
   },
   {
    "duration": 6,
    "start_time": "2021-09-08T22:15:39.126Z"
   },
   {
    "duration": 8,
    "start_time": "2021-09-08T22:15:39.134Z"
   },
   {
    "duration": 41,
    "start_time": "2021-09-08T22:15:39.144Z"
   },
   {
    "duration": 4,
    "start_time": "2021-09-08T22:15:39.186Z"
   },
   {
    "duration": 32,
    "start_time": "2021-09-08T22:15:39.191Z"
   },
   {
    "duration": 13,
    "start_time": "2021-09-08T22:15:39.225Z"
   },
   {
    "duration": 16,
    "start_time": "2021-09-08T22:15:39.240Z"
   },
   {
    "duration": 213,
    "start_time": "2021-09-08T22:15:39.258Z"
   },
   {
    "duration": 11,
    "start_time": "2021-09-08T22:15:39.473Z"
   },
   {
    "duration": 59,
    "start_time": "2021-09-08T22:15:39.486Z"
   },
   {
    "duration": 18,
    "start_time": "2021-09-08T22:15:39.547Z"
   },
   {
    "duration": 253,
    "start_time": "2021-09-08T22:15:39.567Z"
   },
   {
    "duration": 4,
    "start_time": "2021-09-08T22:15:39.822Z"
   },
   {
    "duration": 517,
    "start_time": "2021-09-08T22:15:39.827Z"
   },
   {
    "duration": 494,
    "start_time": "2021-09-08T22:15:40.347Z"
   },
   {
    "duration": 12,
    "start_time": "2021-09-08T22:15:40.842Z"
   },
   {
    "duration": 7,
    "start_time": "2021-09-08T22:15:40.856Z"
   },
   {
    "duration": 29,
    "start_time": "2021-09-08T22:15:40.865Z"
   },
   {
    "duration": 11,
    "start_time": "2021-09-08T22:15:40.896Z"
   },
   {
    "duration": 10,
    "start_time": "2021-09-08T22:15:40.909Z"
   },
   {
    "duration": 3,
    "start_time": "2021-09-08T22:15:40.920Z"
   },
   {
    "duration": 13,
    "start_time": "2021-09-08T22:15:40.925Z"
   },
   {
    "duration": 15,
    "start_time": "2021-09-08T22:15:40.940Z"
   },
   {
    "duration": 29,
    "start_time": "2021-09-08T22:15:40.957Z"
   },
   {
    "duration": 64,
    "start_time": "2021-09-08T22:23:01.971Z"
   },
   {
    "duration": 250,
    "start_time": "2021-09-08T22:23:11.204Z"
   },
   {
    "duration": 4529,
    "start_time": "2021-09-08T22:23:19.613Z"
   },
   {
    "duration": 246,
    "start_time": "2021-09-08T22:23:31.930Z"
   },
   {
    "duration": 3121,
    "start_time": "2021-09-08T22:26:01.757Z"
   },
   {
    "duration": 323,
    "start_time": "2021-09-08T22:26:53.851Z"
   },
   {
    "duration": 1717,
    "start_time": "2021-09-08T22:28:49.579Z"
   },
   {
    "duration": 418,
    "start_time": "2021-09-08T22:29:35.949Z"
   },
   {
    "duration": 206,
    "start_time": "2021-09-08T22:29:54.259Z"
   },
   {
    "duration": 1032,
    "start_time": "2021-09-08T22:30:25.593Z"
   },
   {
    "duration": 68,
    "start_time": "2021-09-08T22:30:55.143Z"
   },
   {
    "duration": 1693,
    "start_time": "2021-09-08T22:31:37.611Z"
   },
   {
    "duration": 1736,
    "start_time": "2021-09-08T22:32:31.484Z"
   },
   {
    "duration": 493,
    "start_time": "2021-09-08T22:36:10.294Z"
   },
   {
    "duration": 1817,
    "start_time": "2021-09-08T22:36:54.107Z"
   },
   {
    "duration": 973,
    "start_time": "2021-09-08T22:40:42.488Z"
   },
   {
    "duration": 49,
    "start_time": "2021-09-08T22:40:43.464Z"
   },
   {
    "duration": 10,
    "start_time": "2021-09-08T22:40:43.515Z"
   },
   {
    "duration": 28,
    "start_time": "2021-09-08T22:40:43.526Z"
   },
   {
    "duration": 31,
    "start_time": "2021-09-08T22:40:43.555Z"
   },
   {
    "duration": 17,
    "start_time": "2021-09-08T22:40:43.587Z"
   },
   {
    "duration": 5,
    "start_time": "2021-09-08T22:40:43.605Z"
   },
   {
    "duration": 19,
    "start_time": "2021-09-08T22:40:43.611Z"
   },
   {
    "duration": 5,
    "start_time": "2021-09-08T22:40:43.633Z"
   },
   {
    "duration": 10,
    "start_time": "2021-09-08T22:40:43.640Z"
   },
   {
    "duration": 35,
    "start_time": "2021-09-08T22:40:43.651Z"
   },
   {
    "duration": 4,
    "start_time": "2021-09-08T22:40:43.687Z"
   },
   {
    "duration": 30,
    "start_time": "2021-09-08T22:40:43.692Z"
   },
   {
    "duration": 14,
    "start_time": "2021-09-08T22:40:43.724Z"
   },
   {
    "duration": 16,
    "start_time": "2021-09-08T22:40:43.739Z"
   },
   {
    "duration": 218,
    "start_time": "2021-09-08T22:40:43.756Z"
   },
   {
    "duration": 9,
    "start_time": "2021-09-08T22:40:43.976Z"
   },
   {
    "duration": 56,
    "start_time": "2021-09-08T22:40:43.986Z"
   },
   {
    "duration": 19,
    "start_time": "2021-09-08T22:40:44.043Z"
   },
   {
    "duration": 1782,
    "start_time": "2021-09-08T22:40:44.064Z"
   },
   {
    "duration": 4,
    "start_time": "2021-09-08T22:40:45.847Z"
   },
   {
    "duration": 586,
    "start_time": "2021-09-08T22:40:45.853Z"
   },
   {
    "duration": 499,
    "start_time": "2021-09-08T22:40:46.441Z"
   },
   {
    "duration": 11,
    "start_time": "2021-09-08T22:40:46.942Z"
   },
   {
    "duration": 5,
    "start_time": "2021-09-08T22:40:46.954Z"
   },
   {
    "duration": 27,
    "start_time": "2021-09-08T22:40:46.961Z"
   },
   {
    "duration": 11,
    "start_time": "2021-09-08T22:40:46.990Z"
   },
   {
    "duration": 12,
    "start_time": "2021-09-08T22:40:47.003Z"
   },
   {
    "duration": 3,
    "start_time": "2021-09-08T22:40:47.016Z"
   },
   {
    "duration": 11,
    "start_time": "2021-09-08T22:40:47.021Z"
   },
   {
    "duration": 7,
    "start_time": "2021-09-08T22:40:47.033Z"
   },
   {
    "duration": 4,
    "start_time": "2021-09-08T22:40:47.042Z"
   },
   {
    "duration": 1838,
    "start_time": "2021-09-08T22:42:22.684Z"
   },
   {
    "duration": 971,
    "start_time": "2021-09-08T22:42:33.286Z"
   },
   {
    "duration": 50,
    "start_time": "2021-09-08T22:42:34.259Z"
   },
   {
    "duration": 10,
    "start_time": "2021-09-08T22:42:34.311Z"
   },
   {
    "duration": 28,
    "start_time": "2021-09-08T22:42:34.323Z"
   },
   {
    "duration": 10,
    "start_time": "2021-09-08T22:42:34.353Z"
   },
   {
    "duration": 13,
    "start_time": "2021-09-08T22:42:34.385Z"
   },
   {
    "duration": 5,
    "start_time": "2021-09-08T22:42:34.399Z"
   },
   {
    "duration": 19,
    "start_time": "2021-09-08T22:42:34.405Z"
   },
   {
    "duration": 5,
    "start_time": "2021-09-08T22:42:34.427Z"
   },
   {
    "duration": 8,
    "start_time": "2021-09-08T22:42:34.434Z"
   },
   {
    "duration": 14,
    "start_time": "2021-09-08T22:42:34.443Z"
   },
   {
    "duration": 4,
    "start_time": "2021-09-08T22:42:34.485Z"
   },
   {
    "duration": 30,
    "start_time": "2021-09-08T22:42:34.491Z"
   },
   {
    "duration": 15,
    "start_time": "2021-09-08T22:42:34.523Z"
   },
   {
    "duration": 16,
    "start_time": "2021-09-08T22:42:34.540Z"
   },
   {
    "duration": 194,
    "start_time": "2021-09-08T22:42:34.585Z"
   },
   {
    "duration": 4,
    "start_time": "2021-09-08T22:42:34.784Z"
   },
   {
    "duration": 55,
    "start_time": "2021-09-08T22:42:34.790Z"
   },
   {
    "duration": 38,
    "start_time": "2021-09-08T22:42:34.847Z"
   },
   {
    "duration": 1797,
    "start_time": "2021-09-08T22:42:34.887Z"
   },
   {
    "duration": 3,
    "start_time": "2021-09-08T22:42:36.686Z"
   },
   {
    "duration": 530,
    "start_time": "2021-09-08T22:42:36.691Z"
   },
   {
    "duration": 514,
    "start_time": "2021-09-08T22:42:37.222Z"
   },
   {
    "duration": 11,
    "start_time": "2021-09-08T22:42:37.737Z"
   },
   {
    "duration": 5,
    "start_time": "2021-09-08T22:42:37.749Z"
   },
   {
    "duration": 29,
    "start_time": "2021-09-08T22:42:37.756Z"
   },
   {
    "duration": 12,
    "start_time": "2021-09-08T22:42:37.788Z"
   },
   {
    "duration": 11,
    "start_time": "2021-09-08T22:42:37.801Z"
   },
   {
    "duration": 3,
    "start_time": "2021-09-08T22:42:37.813Z"
   },
   {
    "duration": 13,
    "start_time": "2021-09-08T22:42:37.817Z"
   },
   {
    "duration": 7,
    "start_time": "2021-09-08T22:42:37.832Z"
   },
   {
    "duration": 6,
    "start_time": "2021-09-08T22:42:37.840Z"
   },
   {
    "duration": 1111,
    "start_time": "2021-09-09T05:28:43.578Z"
   },
   {
    "duration": 60,
    "start_time": "2021-09-09T05:28:44.692Z"
   },
   {
    "duration": 13,
    "start_time": "2021-09-09T05:28:44.754Z"
   },
   {
    "duration": 38,
    "start_time": "2021-09-09T05:28:44.769Z"
   },
   {
    "duration": 13,
    "start_time": "2021-09-09T05:28:44.809Z"
   },
   {
    "duration": 19,
    "start_time": "2021-09-09T05:28:44.824Z"
   },
   {
    "duration": 7,
    "start_time": "2021-09-09T05:28:44.845Z"
   },
   {
    "duration": 50,
    "start_time": "2021-09-09T05:28:44.855Z"
   },
   {
    "duration": 7,
    "start_time": "2021-09-09T05:28:44.908Z"
   },
   {
    "duration": 10,
    "start_time": "2021-09-09T05:28:44.917Z"
   },
   {
    "duration": 15,
    "start_time": "2021-09-09T05:28:44.928Z"
   },
   {
    "duration": 3,
    "start_time": "2021-09-09T05:28:44.945Z"
   },
   {
    "duration": 55,
    "start_time": "2021-09-09T05:28:44.949Z"
   },
   {
    "duration": 17,
    "start_time": "2021-09-09T05:28:45.006Z"
   },
   {
    "duration": 23,
    "start_time": "2021-09-09T05:28:45.025Z"
   },
   {
    "duration": 195,
    "start_time": "2021-09-09T05:28:45.050Z"
   },
   {
    "duration": 4,
    "start_time": "2021-09-09T05:28:45.247Z"
   },
   {
    "duration": 73,
    "start_time": "2021-09-09T05:28:45.252Z"
   },
   {
    "duration": 20,
    "start_time": "2021-09-09T05:28:45.327Z"
   },
   {
    "duration": 1867,
    "start_time": "2021-09-09T05:28:45.349Z"
   },
   {
    "duration": 5,
    "start_time": "2021-09-09T05:28:47.218Z"
   },
   {
    "duration": 523,
    "start_time": "2021-09-09T05:28:47.224Z"
   },
   {
    "duration": 656,
    "start_time": "2021-09-09T05:28:47.752Z"
   },
   {
    "duration": 12,
    "start_time": "2021-09-09T05:28:48.410Z"
   },
   {
    "duration": 8,
    "start_time": "2021-09-09T05:28:48.423Z"
   },
   {
    "duration": 15,
    "start_time": "2021-09-09T05:28:48.433Z"
   },
   {
    "duration": 12,
    "start_time": "2021-09-09T05:28:48.450Z"
   },
   {
    "duration": 34,
    "start_time": "2021-09-09T05:28:48.463Z"
   },
   {
    "duration": 3,
    "start_time": "2021-09-09T05:28:48.499Z"
   },
   {
    "duration": 19,
    "start_time": "2021-09-09T05:28:48.504Z"
   },
   {
    "duration": 8,
    "start_time": "2021-09-09T05:28:48.525Z"
   },
   {
    "duration": 5,
    "start_time": "2021-09-09T05:28:48.535Z"
   },
   {
    "duration": 436,
    "start_time": "2021-09-09T10:30:53.300Z"
   },
   {
    "duration": 1198,
    "start_time": "2021-09-09T10:31:05.288Z"
   },
   {
    "duration": 55,
    "start_time": "2021-09-09T10:31:06.488Z"
   },
   {
    "duration": 11,
    "start_time": "2021-09-09T10:31:06.546Z"
   },
   {
    "duration": 42,
    "start_time": "2021-09-09T10:31:06.559Z"
   },
   {
    "duration": 13,
    "start_time": "2021-09-09T10:31:06.603Z"
   },
   {
    "duration": 26,
    "start_time": "2021-09-09T10:31:06.617Z"
   },
   {
    "duration": 17,
    "start_time": "2021-09-09T10:31:06.644Z"
   },
   {
    "duration": 42,
    "start_time": "2021-09-09T10:31:06.662Z"
   },
   {
    "duration": 6,
    "start_time": "2021-09-09T10:31:06.707Z"
   },
   {
    "duration": 11,
    "start_time": "2021-09-09T10:31:06.716Z"
   },
   {
    "duration": 18,
    "start_time": "2021-09-09T10:31:06.729Z"
   },
   {
    "duration": 4,
    "start_time": "2021-09-09T10:31:06.750Z"
   },
   {
    "duration": 70,
    "start_time": "2021-09-09T10:31:06.756Z"
   },
   {
    "duration": 24,
    "start_time": "2021-09-09T10:31:06.828Z"
   },
   {
    "duration": 47,
    "start_time": "2021-09-09T10:31:06.855Z"
   },
   {
    "duration": 335,
    "start_time": "2021-09-09T10:31:06.904Z"
   },
   {
    "duration": 5,
    "start_time": "2021-09-09T10:31:07.241Z"
   },
   {
    "duration": 93,
    "start_time": "2021-09-09T10:31:07.248Z"
   },
   {
    "duration": 40,
    "start_time": "2021-09-09T10:31:07.343Z"
   },
   {
    "duration": 495,
    "start_time": "2021-09-09T10:31:07.386Z"
   },
   {
    "duration": -1346,
    "start_time": "2021-09-09T10:31:09.229Z"
   },
   {
    "duration": -1348,
    "start_time": "2021-09-09T10:31:09.232Z"
   },
   {
    "duration": -1356,
    "start_time": "2021-09-09T10:31:09.242Z"
   },
   {
    "duration": -1359,
    "start_time": "2021-09-09T10:31:09.245Z"
   },
   {
    "duration": -1363,
    "start_time": "2021-09-09T10:31:09.250Z"
   },
   {
    "duration": -1364,
    "start_time": "2021-09-09T10:31:09.252Z"
   },
   {
    "duration": -1365,
    "start_time": "2021-09-09T10:31:09.254Z"
   },
   {
    "duration": -1367,
    "start_time": "2021-09-09T10:31:09.257Z"
   },
   {
    "duration": -1369,
    "start_time": "2021-09-09T10:31:09.259Z"
   },
   {
    "duration": -1370,
    "start_time": "2021-09-09T10:31:09.261Z"
   },
   {
    "duration": -1371,
    "start_time": "2021-09-09T10:31:09.263Z"
   },
   {
    "duration": -1372,
    "start_time": "2021-09-09T10:31:09.265Z"
   },
   {
    "duration": 367,
    "start_time": "2021-09-09T10:31:39.359Z"
   },
   {
    "duration": 479,
    "start_time": "2021-09-09T10:31:50.717Z"
   },
   {
    "duration": 794,
    "start_time": "2021-09-09T10:32:05.292Z"
   },
   {
    "duration": 2145,
    "start_time": "2021-09-09T10:32:21.425Z"
   },
   {
    "duration": 2011,
    "start_time": "2021-09-09T10:32:50.842Z"
   },
   {
    "duration": 23,
    "start_time": "2021-09-09T10:44:39.357Z"
   },
   {
    "duration": 19,
    "start_time": "2021-09-09T10:46:39.067Z"
   },
   {
    "duration": 24,
    "start_time": "2021-09-09T10:46:45.974Z"
   },
   {
    "duration": 22,
    "start_time": "2021-09-09T10:47:02.952Z"
   },
   {
    "duration": 19,
    "start_time": "2021-09-09T10:47:43.347Z"
   },
   {
    "duration": 23,
    "start_time": "2021-09-09T10:50:01.880Z"
   },
   {
    "duration": 25,
    "start_time": "2021-09-09T10:50:25.119Z"
   },
   {
    "duration": 490,
    "start_time": "2021-09-09T10:51:34.421Z"
   },
   {
    "duration": 22,
    "start_time": "2021-09-09T10:52:15.518Z"
   },
   {
    "duration": 9701,
    "start_time": "2021-09-09T10:54:55.490Z"
   },
   {
    "duration": 1490,
    "start_time": "2021-09-09T10:55:41.062Z"
   },
   {
    "duration": 23,
    "start_time": "2021-09-09T10:56:07.326Z"
   },
   {
    "duration": 19,
    "start_time": "2021-09-09T10:56:27.859Z"
   },
   {
    "duration": 19,
    "start_time": "2021-09-09T10:56:34.057Z"
   },
   {
    "duration": 27,
    "start_time": "2021-09-09T10:56:45.713Z"
   },
   {
    "duration": 27,
    "start_time": "2021-09-09T10:57:29.703Z"
   },
   {
    "duration": 22,
    "start_time": "2021-09-09T10:57:55.892Z"
   },
   {
    "duration": 1484,
    "start_time": "2021-09-09T10:58:39.184Z"
   },
   {
    "duration": 19,
    "start_time": "2021-09-09T10:58:51.096Z"
   },
   {
    "duration": 24,
    "start_time": "2021-09-09T10:59:03.209Z"
   },
   {
    "duration": 26,
    "start_time": "2021-09-09T10:59:16.966Z"
   },
   {
    "duration": 31,
    "start_time": "2021-09-09T11:03:19.424Z"
   },
   {
    "duration": 24,
    "start_time": "2021-09-09T11:04:18.547Z"
   },
   {
    "duration": 25,
    "start_time": "2021-09-09T11:06:05.982Z"
   },
   {
    "duration": 344,
    "start_time": "2021-09-09T11:09:06.140Z"
   },
   {
    "duration": 6,
    "start_time": "2021-09-09T11:09:13.653Z"
   },
   {
    "duration": 13,
    "start_time": "2021-09-09T11:09:21.760Z"
   },
   {
    "duration": 25,
    "start_time": "2021-09-09T11:10:53.751Z"
   },
   {
    "duration": 34,
    "start_time": "2021-09-09T11:12:59.886Z"
   },
   {
    "duration": 12,
    "start_time": "2021-09-09T11:13:28.196Z"
   },
   {
    "duration": 12,
    "start_time": "2021-09-09T11:13:38.424Z"
   },
   {
    "duration": 730,
    "start_time": "2021-09-09T11:16:52.270Z"
   },
   {
    "duration": 20,
    "start_time": "2021-09-09T11:17:02.257Z"
   },
   {
    "duration": 16,
    "start_time": "2021-09-09T11:17:21.583Z"
   },
   {
    "duration": 10,
    "start_time": "2021-09-09T11:18:21.446Z"
   },
   {
    "duration": 4,
    "start_time": "2021-09-09T11:18:38.585Z"
   },
   {
    "duration": 9,
    "start_time": "2021-09-09T11:18:57.116Z"
   },
   {
    "duration": 16,
    "start_time": "2021-09-09T11:19:10.066Z"
   },
   {
    "duration": 32,
    "start_time": "2021-09-09T11:19:58.915Z"
   },
   {
    "duration": 17,
    "start_time": "2021-09-09T11:20:03.249Z"
   },
   {
    "duration": 10,
    "start_time": "2021-09-09T11:20:14.193Z"
   },
   {
    "duration": 3,
    "start_time": "2021-09-09T11:20:16.605Z"
   },
   {
    "duration": 33,
    "start_time": "2021-09-09T11:21:04.907Z"
   },
   {
    "duration": 10,
    "start_time": "2021-09-09T11:21:10.194Z"
   },
   {
    "duration": 3,
    "start_time": "2021-09-09T11:21:11.198Z"
   },
   {
    "duration": 9,
    "start_time": "2021-09-09T11:21:54.307Z"
   },
   {
    "duration": 3,
    "start_time": "2021-09-09T11:21:55.243Z"
   },
   {
    "duration": 10,
    "start_time": "2021-09-09T11:22:00.344Z"
   },
   {
    "duration": 31,
    "start_time": "2021-09-09T11:22:06.561Z"
   },
   {
    "duration": 13,
    "start_time": "2021-09-09T11:22:11.819Z"
   },
   {
    "duration": 3,
    "start_time": "2021-09-09T11:22:12.571Z"
   },
   {
    "duration": 32,
    "start_time": "2021-09-09T11:24:14.421Z"
   },
   {
    "duration": 33,
    "start_time": "2021-09-09T11:25:12.681Z"
   },
   {
    "duration": 12,
    "start_time": "2021-09-09T11:25:13.254Z"
   },
   {
    "duration": 3,
    "start_time": "2021-09-09T11:25:14.808Z"
   },
   {
    "duration": 2934,
    "start_time": "2021-09-09T11:34:18.773Z"
   },
   {
    "duration": 26,
    "start_time": "2021-09-09T11:35:09.666Z"
   },
   {
    "duration": 26,
    "start_time": "2021-09-09T11:35:27.083Z"
   },
   {
    "duration": 25,
    "start_time": "2021-09-09T11:36:14.025Z"
   },
   {
    "duration": 23,
    "start_time": "2021-09-09T11:36:26.920Z"
   },
   {
    "duration": 1178,
    "start_time": "2021-09-09T18:39:33.387Z"
   },
   {
    "duration": 51,
    "start_time": "2021-09-09T18:39:34.567Z"
   },
   {
    "duration": 10,
    "start_time": "2021-09-09T18:39:34.622Z"
   },
   {
    "duration": 44,
    "start_time": "2021-09-09T18:39:34.634Z"
   },
   {
    "duration": 11,
    "start_time": "2021-09-09T18:39:34.679Z"
   },
   {
    "duration": 24,
    "start_time": "2021-09-09T18:39:34.692Z"
   },
   {
    "duration": 5,
    "start_time": "2021-09-09T18:39:34.720Z"
   },
   {
    "duration": 21,
    "start_time": "2021-09-09T18:39:34.727Z"
   },
   {
    "duration": 30,
    "start_time": "2021-09-09T18:39:34.750Z"
   },
   {
    "duration": 14,
    "start_time": "2021-09-09T18:39:34.782Z"
   },
   {
    "duration": 16,
    "start_time": "2021-09-09T18:39:34.798Z"
   },
   {
    "duration": 4,
    "start_time": "2021-09-09T18:39:34.815Z"
   },
   {
    "duration": 30,
    "start_time": "2021-09-09T18:39:34.820Z"
   },
   {
    "duration": 31,
    "start_time": "2021-09-09T18:39:34.852Z"
   },
   {
    "duration": 16,
    "start_time": "2021-09-09T18:39:34.885Z"
   },
   {
    "duration": 199,
    "start_time": "2021-09-09T18:39:34.903Z"
   },
   {
    "duration": 3,
    "start_time": "2021-09-09T18:39:35.104Z"
   },
   {
    "duration": 68,
    "start_time": "2021-09-09T18:39:35.109Z"
   },
   {
    "duration": 22,
    "start_time": "2021-09-09T18:39:35.179Z"
   },
   {
    "duration": 15,
    "start_time": "2021-09-09T18:39:35.203Z"
   },
   {
    "duration": 3,
    "start_time": "2021-09-09T18:39:35.219Z"
   },
   {
    "duration": 26,
    "start_time": "2021-09-09T18:39:35.225Z"
   },
   {
    "duration": 2064,
    "start_time": "2021-09-09T18:39:35.276Z"
   },
   {
    "duration": 4,
    "start_time": "2021-09-09T18:39:37.341Z"
   },
   {
    "duration": 588,
    "start_time": "2021-09-09T18:39:37.347Z"
   },
   {
    "duration": 523,
    "start_time": "2021-09-09T18:39:37.937Z"
   },
   {
    "duration": 16,
    "start_time": "2021-09-09T18:39:38.461Z"
   },
   {
    "duration": 3,
    "start_time": "2021-09-09T18:39:38.479Z"
   },
   {
    "duration": 19,
    "start_time": "2021-09-09T18:39:38.484Z"
   },
   {
    "duration": 13,
    "start_time": "2021-09-09T18:39:38.505Z"
   },
   {
    "duration": 13,
    "start_time": "2021-09-09T18:39:38.519Z"
   },
   {
    "duration": 4,
    "start_time": "2021-09-09T18:39:38.534Z"
   },
   {
    "duration": 45,
    "start_time": "2021-09-09T18:39:38.540Z"
   },
   {
    "duration": 9,
    "start_time": "2021-09-09T18:39:38.587Z"
   },
   {
    "duration": 9,
    "start_time": "2021-09-09T18:39:38.597Z"
   },
   {
    "duration": 4,
    "start_time": "2021-09-09T18:42:46.211Z"
   },
   {
    "duration": 1237,
    "start_time": "2021-09-09T18:42:47.359Z"
   },
   {
    "duration": 4,
    "start_time": "2021-09-09T18:43:32.716Z"
   },
   {
    "duration": 200,
    "start_time": "2021-09-09T18:43:33.905Z"
   },
   {
    "duration": 5,
    "start_time": "2021-09-09T18:45:25.288Z"
   },
   {
    "duration": 214,
    "start_time": "2021-09-09T18:45:26.793Z"
   },
   {
    "duration": 4,
    "start_time": "2021-09-09T18:45:53.443Z"
   },
   {
    "duration": 162,
    "start_time": "2021-09-09T18:45:54.989Z"
   },
   {
    "duration": 168,
    "start_time": "2021-09-09T18:45:56.512Z"
   },
   {
    "duration": 174,
    "start_time": "2021-09-09T18:45:57.977Z"
   },
   {
    "duration": 4,
    "start_time": "2021-09-09T18:46:48.372Z"
   },
   {
    "duration": 387,
    "start_time": "2021-09-09T18:46:48.740Z"
   },
   {
    "duration": 398,
    "start_time": "2021-09-09T18:46:51.308Z"
   },
   {
    "duration": 488,
    "start_time": "2021-09-09T18:46:52.869Z"
   },
   {
    "duration": 5,
    "start_time": "2021-09-09T18:49:02.032Z"
   },
   {
    "duration": 5,
    "start_time": "2021-09-09T18:49:26.110Z"
   },
   {
    "duration": 412,
    "start_time": "2021-09-09T18:49:27.284Z"
   },
   {
    "duration": 425,
    "start_time": "2021-09-09T18:49:33.366Z"
   },
   {
    "duration": 442,
    "start_time": "2021-09-09T18:49:33.793Z"
   },
   {
    "duration": 6,
    "start_time": "2021-09-09T18:51:15.530Z"
   },
   {
    "duration": 508,
    "start_time": "2021-09-09T18:51:18.049Z"
   },
   {
    "duration": 456,
    "start_time": "2021-09-09T18:51:18.565Z"
   },
   {
    "duration": 460,
    "start_time": "2021-09-09T18:51:19.023Z"
   },
   {
    "duration": 7,
    "start_time": "2021-09-09T19:28:59.038Z"
   },
   {
    "duration": 427,
    "start_time": "2021-09-09T19:28:59.326Z"
   },
   {
    "duration": 6,
    "start_time": "2021-09-09T19:29:19.382Z"
   },
   {
    "duration": 507,
    "start_time": "2021-09-09T19:29:20.601Z"
   },
   {
    "duration": 6,
    "start_time": "2021-09-09T19:30:06.725Z"
   },
   {
    "duration": 434,
    "start_time": "2021-09-09T19:30:07.330Z"
   },
   {
    "duration": 6,
    "start_time": "2021-09-09T19:30:48.435Z"
   },
   {
    "duration": 437,
    "start_time": "2021-09-09T19:30:48.974Z"
   },
   {
    "duration": 7,
    "start_time": "2021-09-09T19:30:58.022Z"
   },
   {
    "duration": 427,
    "start_time": "2021-09-09T19:30:59.418Z"
   },
   {
    "duration": 7,
    "start_time": "2021-09-09T19:33:18.115Z"
   },
   {
    "duration": 517,
    "start_time": "2021-09-09T19:33:18.715Z"
   },
   {
    "duration": 452,
    "start_time": "2021-09-09T19:34:41.534Z"
   },
   {
    "duration": 472,
    "start_time": "2021-09-09T19:34:41.988Z"
   },
   {
    "duration": 6,
    "start_time": "2021-09-09T19:38:07.708Z"
   },
   {
    "duration": 1076,
    "start_time": "2021-09-09T19:38:07.894Z"
   },
   {
    "duration": -27,
    "start_time": "2021-09-09T19:38:08.999Z"
   },
   {
    "duration": -29,
    "start_time": "2021-09-09T19:38:09.002Z"
   },
   {
    "duration": 7,
    "start_time": "2021-09-09T19:39:25.891Z"
   },
   {
    "duration": 533,
    "start_time": "2021-09-09T19:39:26.102Z"
   },
   {
    "duration": 461,
    "start_time": "2021-09-09T19:39:26.637Z"
   },
   {
    "duration": 460,
    "start_time": "2021-09-09T19:39:27.100Z"
   },
   {
    "duration": 7,
    "start_time": "2021-09-09T19:44:45.538Z"
   },
   {
    "duration": 461,
    "start_time": "2021-09-09T19:44:46.869Z"
   },
   {
    "duration": 552,
    "start_time": "2021-09-09T19:44:48.298Z"
   },
   {
    "duration": 471,
    "start_time": "2021-09-09T19:44:49.159Z"
   },
   {
    "duration": 7,
    "start_time": "2021-09-09T19:46:16.369Z"
   },
   {
    "duration": 466,
    "start_time": "2021-09-09T19:46:16.834Z"
   },
   {
    "duration": 472,
    "start_time": "2021-09-09T19:46:17.680Z"
   },
   {
    "duration": 573,
    "start_time": "2021-09-09T19:46:18.154Z"
   }
  ],
  "kernelspec": {
   "display_name": "Python 3 (ipykernel)",
   "language": "python",
   "name": "python3"
  },
  "language_info": {
   "codemirror_mode": {
    "name": "ipython",
    "version": 3
   },
   "file_extension": ".py",
   "mimetype": "text/x-python",
   "name": "python",
   "nbconvert_exporter": "python",
   "pygments_lexer": "ipython3",
   "version": "3.9.7"
  },
  "toc": {
   "base_numbering": 1,
   "nav_menu": {},
   "number_sections": true,
   "sideBar": true,
   "skip_h1_title": true,
   "title_cell": "Table of Contents",
   "title_sidebar": "Contents",
   "toc_cell": true,
   "toc_position": {
    "height": "calc(100% - 180px)",
    "left": "10px",
    "top": "150px",
    "width": "366.391px"
   },
   "toc_section_display": true,
   "toc_window_display": false
  }
 },
 "nbformat": 4,
 "nbformat_minor": 4
}
