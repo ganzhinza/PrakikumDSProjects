{
 "cells": [
  {
   "cell_type": "markdown",
   "metadata": {
    "toc": true
   },
   "source": [
    "<h1>Содержание<span class=\"tocSkip\"></span></h1>\n",
    "<div class=\"toc\"><ul class=\"toc-item\"><li><ul class=\"toc-item\"><li><ul class=\"toc-item\"><li><1.Подготовка</a></span></li><li><span><a href=\"#Анализ\" data-toc-modified-id=\"Анализ-2\"><span class=\"toc-item-num\">2&nbsp;&nbsp;</span>Анализ</a></span><ul class=\"toc-item\"><li><span><a href=\"#Визуализация-ряда\" data-toc-modified-id=\"Визуализация-ряда-2.1\"><span class=\"toc-item-num\">2.1&nbsp;&nbsp;</span>Визуализация ряда</a></span></li><li><span><a href=\"#Функция-для-добавления-признаков.\" data-toc-modified-id=\"Функция-для-добавления-признаков.-2.2\"><span class=\"toc-item-num\">2.2&nbsp;&nbsp;</span>Функция для добавления признаков.</a></span></li></ul></li><li><span><a href=\"#Обучение\" data-toc-modified-id=\"Обучение-3\"><span class=\"toc-item-num\">3&nbsp;&nbsp;</span>Обучение</a></span><ul class=\"toc-item\"><li><span><a href=\"#Функция-для-разбиения-на-выборки\" data-toc-modified-id=\"Функция-для-разбиения-на-выборки-3.1\"><span class=\"toc-item-num\">3.1&nbsp;&nbsp;</span>Функция для разбиения на выборки</a></span></li><li><span><a href=\"#Поиск-лучшей-модели\" data-toc-modified-id=\"Поиск-лучшей-модели-3.2\"><span class=\"toc-item-num\">3.2&nbsp;&nbsp;</span>Поиск лучшей модели</a></span><ul class=\"toc-item\"><li><span><a href=\"#Модель-линейной-регрессии\" data-toc-modified-id=\"Модель-линейной-регрессии-3.2.1\"><span class=\"toc-item-num\">3.2.1&nbsp;&nbsp;</span>Модель линейной регрессии</a></span></li></ul></li><li><span><a href=\"#Сильно-уменьшенный-перебор-для-основания-коментария-выше\" data-toc-modified-id=\"Сильно-уменьшенный-перебор-для-основания-коментария-выше-3.3\"><span class=\"toc-item-num\">3.3&nbsp;&nbsp;</span>Сильно уменьшенный перебор для основания коментария выше</a></span><ul class=\"toc-item\"><li><span><a href=\"#Дерево-решений\" data-toc-modified-id=\"Дерево-решений-3.3.1\"><span class=\"toc-item-num\">3.3.1&nbsp;&nbsp;</span>Дерево решений</a></span></li></ul></li><li><span><a href=\"#Модель-случайного-леса\" data-toc-modified-id=\"Модель-случайного-леса-3.4\"><span class=\"toc-item-num\">3.4&nbsp;&nbsp;</span>Модель случайного леса</a></span><ul class=\"toc-item\"><li><span><a href=\"#Тяжёлая-артилерия(бустинг)\" data-toc-modified-id=\"Тяжёлая-артилерия(бустинг)-3.4.1\"><span class=\"toc-item-num\">3.4.1&nbsp;&nbsp;</span>Тяжёлая артилерия(бустинг)</a></span></li></ul></li></ul></li><li><span><a href=\"#Тестирование\" data-toc-modified-id=\"Тестирование-4\"><span class=\"toc-item-num\">4&nbsp;&nbsp;</span>Тестирование</a></span><ul class=\"toc-item\"><li><span><a href=\"#Проверка-модели-на-адекватность\" data-toc-modified-id=\"Проверка-модели-на-адекватность-4.1\"><span class=\"toc-item-num\">4.1&nbsp;&nbsp;</span>Проверка модели на адекватность</a></span></li></ul></li><li><span><a href=\"#Чек-лист-проверки\" data-toc-modified-id=\"Чек-лист-проверки-5\"><span class=\"toc-item-num\">5&nbsp;&nbsp;</span>Чек-лист проверки</a></span></li></ul></div>"
   ]
  },
  {
   "cell_type": "markdown",
   "metadata": {},
   "source": [
    "#  Прогнозирование заказов такси"
   ]
  },
  {
   "cell_type": "markdown",
   "metadata": {},
   "source": [
    "Компания «Чётенькое такси» собрала исторические данные о заказах такси в аэропортах. Чтобы привлекать больше водителей в период пиковой нагрузки, нужно спрогнозировать количество заказов такси на следующий час. Постройте модель для такого предсказания.\n",
    "\n",
    "Значение метрики *RMSE* на тестовой выборке должно быть не больше 48.\n",
    "\n",
    "Вам нужно:\n",
    "\n",
    "1. Загрузить данные и выполнить их ресемплирование по одному часу.\n",
    "2. Проанализировать данные.\n",
    "3. Обучить разные модели с различными гиперпараметрами. Сделать тестовую выборку размером 10% от исходных данных.\n",
    "4. Проверить данные на тестовой выборке и сделать выводы.\n",
    "\n",
    "\n",
    "Данные лежат в файле `taxi.csv`. Количество заказов находится в столбце `num_orders` (от англ. *number of orders*, «число заказов»)."
   ]
  },
  {
   "cell_type": "markdown",
   "metadata": {},
   "source": [
    "## Подготовка"
   ]
  },
  {
   "cell_type": "code",
   "execution_count": 129,
   "metadata": {},
   "outputs": [],
   "source": [
    "import pandas as pd\n",
    "from sklearn.linear_model import LinearRegression\n",
    "from sklearn.model_selection import train_test_split\n",
    "from sklearn.linear_model import LinearRegression\n",
    "from sklearn.metrics import mean_squared_error\n",
    "from sklearn.dummy import DummyRegressor\n",
    "from sklearn.tree import DecisionTreeRegressor\n",
    "from sklearn.ensemble import RandomForestRegressor\n",
    "import matplotlib.pyplot as plt\n",
    "from lightgbm import LGBMRegressor\n",
    "import lightgbm as lgbm"
   ]
  },
  {
   "cell_type": "code",
   "execution_count": 130,
   "metadata": {},
   "outputs": [
    {
     "data": {
      "text/html": [
       "<div>\n",
       "<style scoped>\n",
       "    .dataframe tbody tr th:only-of-type {\n",
       "        vertical-align: middle;\n",
       "    }\n",
       "\n",
       "    .dataframe tbody tr th {\n",
       "        vertical-align: top;\n",
       "    }\n",
       "\n",
       "    .dataframe thead th {\n",
       "        text-align: right;\n",
       "    }\n",
       "</style>\n",
       "<table border=\"1\" class=\"dataframe\">\n",
       "  <thead>\n",
       "    <tr style=\"text-align: right;\">\n",
       "      <th></th>\n",
       "      <th>datetime</th>\n",
       "      <th>num_orders</th>\n",
       "    </tr>\n",
       "  </thead>\n",
       "  <tbody>\n",
       "    <tr>\n",
       "      <td>0</td>\n",
       "      <td>2018-03-01 00:00:00</td>\n",
       "      <td>9</td>\n",
       "    </tr>\n",
       "    <tr>\n",
       "      <td>1</td>\n",
       "      <td>2018-03-01 00:10:00</td>\n",
       "      <td>14</td>\n",
       "    </tr>\n",
       "    <tr>\n",
       "      <td>2</td>\n",
       "      <td>2018-03-01 00:20:00</td>\n",
       "      <td>28</td>\n",
       "    </tr>\n",
       "    <tr>\n",
       "      <td>3</td>\n",
       "      <td>2018-03-01 00:30:00</td>\n",
       "      <td>20</td>\n",
       "    </tr>\n",
       "    <tr>\n",
       "      <td>4</td>\n",
       "      <td>2018-03-01 00:40:00</td>\n",
       "      <td>32</td>\n",
       "    </tr>\n",
       "  </tbody>\n",
       "</table>\n",
       "</div>"
      ],
      "text/plain": [
       "              datetime  num_orders\n",
       "0  2018-03-01 00:00:00           9\n",
       "1  2018-03-01 00:10:00          14\n",
       "2  2018-03-01 00:20:00          28\n",
       "3  2018-03-01 00:30:00          20\n",
       "4  2018-03-01 00:40:00          32"
      ]
     },
     "execution_count": 130,
     "metadata": {},
     "output_type": "execute_result"
    }
   ],
   "source": [
    "data = pd.read_csv(\"/datasets/taxi.csv\")\n",
    "data.head()"
   ]
  },
  {
   "cell_type": "code",
   "execution_count": 131,
   "metadata": {},
   "outputs": [
    {
     "name": "stdout",
     "output_type": "stream",
     "text": [
      "<class 'pandas.core.frame.DataFrame'>\n",
      "RangeIndex: 26496 entries, 0 to 26495\n",
      "Data columns (total 2 columns):\n",
      "datetime      26496 non-null object\n",
      "num_orders    26496 non-null int64\n",
      "dtypes: int64(1), object(1)\n",
      "memory usage: 414.1+ KB\n"
     ]
    }
   ],
   "source": [
    "data.info()"
   ]
  },
  {
   "cell_type": "code",
   "execution_count": 132,
   "metadata": {},
   "outputs": [],
   "source": [
    "data['datetime'] = pd.to_datetime(data['datetime'])"
   ]
  },
  {
   "cell_type": "markdown",
   "metadata": {},
   "source": [
    "Сразу заменим индексный столбец на столбец datetime."
   ]
  },
  {
   "cell_type": "code",
   "execution_count": 133,
   "metadata": {},
   "outputs": [
    {
     "data": {
      "text/html": [
       "<div>\n",
       "<style scoped>\n",
       "    .dataframe tbody tr th:only-of-type {\n",
       "        vertical-align: middle;\n",
       "    }\n",
       "\n",
       "    .dataframe tbody tr th {\n",
       "        vertical-align: top;\n",
       "    }\n",
       "\n",
       "    .dataframe thead th {\n",
       "        text-align: right;\n",
       "    }\n",
       "</style>\n",
       "<table border=\"1\" class=\"dataframe\">\n",
       "  <thead>\n",
       "    <tr style=\"text-align: right;\">\n",
       "      <th></th>\n",
       "      <th>num_orders</th>\n",
       "    </tr>\n",
       "    <tr>\n",
       "      <th>datetime</th>\n",
       "      <th></th>\n",
       "    </tr>\n",
       "  </thead>\n",
       "  <tbody>\n",
       "    <tr>\n",
       "      <td>2018-03-01 00:00:00</td>\n",
       "      <td>9</td>\n",
       "    </tr>\n",
       "    <tr>\n",
       "      <td>2018-03-01 00:10:00</td>\n",
       "      <td>14</td>\n",
       "    </tr>\n",
       "    <tr>\n",
       "      <td>2018-03-01 00:20:00</td>\n",
       "      <td>28</td>\n",
       "    </tr>\n",
       "    <tr>\n",
       "      <td>2018-03-01 00:30:00</td>\n",
       "      <td>20</td>\n",
       "    </tr>\n",
       "    <tr>\n",
       "      <td>2018-03-01 00:40:00</td>\n",
       "      <td>32</td>\n",
       "    </tr>\n",
       "  </tbody>\n",
       "</table>\n",
       "</div>"
      ],
      "text/plain": [
       "                     num_orders\n",
       "datetime                       \n",
       "2018-03-01 00:00:00           9\n",
       "2018-03-01 00:10:00          14\n",
       "2018-03-01 00:20:00          28\n",
       "2018-03-01 00:30:00          20\n",
       "2018-03-01 00:40:00          32"
      ]
     },
     "execution_count": 133,
     "metadata": {},
     "output_type": "execute_result"
    }
   ],
   "source": [
    "data = data.set_index('datetime')\n",
    "data.head()"
   ]
  },
  {
   "cell_type": "markdown",
   "metadata": {},
   "source": [
    "Сделаем ресемплирование до промежутка в один час."
   ]
  },
  {
   "cell_type": "code",
   "execution_count": 134,
   "metadata": {},
   "outputs": [],
   "source": [
    "data = data.resample(\"1H\").sum()"
   ]
  },
  {
   "cell_type": "code",
   "execution_count": 135,
   "metadata": {},
   "outputs": [
    {
     "data": {
      "text/html": [
       "<div>\n",
       "<style scoped>\n",
       "    .dataframe tbody tr th:only-of-type {\n",
       "        vertical-align: middle;\n",
       "    }\n",
       "\n",
       "    .dataframe tbody tr th {\n",
       "        vertical-align: top;\n",
       "    }\n",
       "\n",
       "    .dataframe thead th {\n",
       "        text-align: right;\n",
       "    }\n",
       "</style>\n",
       "<table border=\"1\" class=\"dataframe\">\n",
       "  <thead>\n",
       "    <tr style=\"text-align: right;\">\n",
       "      <th></th>\n",
       "      <th>num_orders</th>\n",
       "    </tr>\n",
       "  </thead>\n",
       "  <tbody>\n",
       "    <tr>\n",
       "      <td>count</td>\n",
       "      <td>4416.000000</td>\n",
       "    </tr>\n",
       "    <tr>\n",
       "      <td>mean</td>\n",
       "      <td>84.422781</td>\n",
       "    </tr>\n",
       "    <tr>\n",
       "      <td>std</td>\n",
       "      <td>45.023853</td>\n",
       "    </tr>\n",
       "    <tr>\n",
       "      <td>min</td>\n",
       "      <td>0.000000</td>\n",
       "    </tr>\n",
       "    <tr>\n",
       "      <td>25%</td>\n",
       "      <td>54.000000</td>\n",
       "    </tr>\n",
       "    <tr>\n",
       "      <td>50%</td>\n",
       "      <td>78.000000</td>\n",
       "    </tr>\n",
       "    <tr>\n",
       "      <td>75%</td>\n",
       "      <td>107.000000</td>\n",
       "    </tr>\n",
       "    <tr>\n",
       "      <td>max</td>\n",
       "      <td>462.000000</td>\n",
       "    </tr>\n",
       "  </tbody>\n",
       "</table>\n",
       "</div>"
      ],
      "text/plain": [
       "        num_orders\n",
       "count  4416.000000\n",
       "mean     84.422781\n",
       "std      45.023853\n",
       "min       0.000000\n",
       "25%      54.000000\n",
       "50%      78.000000\n",
       "75%     107.000000\n",
       "max     462.000000"
      ]
     },
     "execution_count": 135,
     "metadata": {},
     "output_type": "execute_result"
    }
   ],
   "source": [
    "data.describe()"
   ]
  },
  {
   "cell_type": "markdown",
   "metadata": {},
   "source": [
    "У нас интервал в один час, 462 заказа могут показаться большим количеством, но всё-таки вполне реальным в праздники. Поэтому будем считать, что данные без аномалий."
   ]
  },
  {
   "cell_type": "code",
   "execution_count": 136,
   "metadata": {},
   "outputs": [
    {
     "data": {
      "text/html": [
       "<div>\n",
       "<style scoped>\n",
       "    .dataframe tbody tr th:only-of-type {\n",
       "        vertical-align: middle;\n",
       "    }\n",
       "\n",
       "    .dataframe tbody tr th {\n",
       "        vertical-align: top;\n",
       "    }\n",
       "\n",
       "    .dataframe thead th {\n",
       "        text-align: right;\n",
       "    }\n",
       "</style>\n",
       "<table border=\"1\" class=\"dataframe\">\n",
       "  <thead>\n",
       "    <tr style=\"text-align: right;\">\n",
       "      <th></th>\n",
       "      <th>num_orders</th>\n",
       "    </tr>\n",
       "    <tr>\n",
       "      <th>datetime</th>\n",
       "      <th></th>\n",
       "    </tr>\n",
       "  </thead>\n",
       "  <tbody>\n",
       "    <tr>\n",
       "      <td>2018-03-01 00:00:00</td>\n",
       "      <td>124</td>\n",
       "    </tr>\n",
       "    <tr>\n",
       "      <td>2018-03-01 01:00:00</td>\n",
       "      <td>85</td>\n",
       "    </tr>\n",
       "    <tr>\n",
       "      <td>2018-03-01 02:00:00</td>\n",
       "      <td>71</td>\n",
       "    </tr>\n",
       "    <tr>\n",
       "      <td>2018-03-01 03:00:00</td>\n",
       "      <td>66</td>\n",
       "    </tr>\n",
       "    <tr>\n",
       "      <td>2018-03-01 04:00:00</td>\n",
       "      <td>43</td>\n",
       "    </tr>\n",
       "  </tbody>\n",
       "</table>\n",
       "</div>"
      ],
      "text/plain": [
       "                     num_orders\n",
       "datetime                       \n",
       "2018-03-01 00:00:00         124\n",
       "2018-03-01 01:00:00          85\n",
       "2018-03-01 02:00:00          71\n",
       "2018-03-01 03:00:00          66\n",
       "2018-03-01 04:00:00          43"
      ]
     },
     "execution_count": 136,
     "metadata": {},
     "output_type": "execute_result"
    }
   ],
   "source": [
    "data.head()"
   ]
  },
  {
   "cell_type": "markdown",
   "metadata": {},
   "source": [
    "## Анализ"
   ]
  },
  {
   "cell_type": "code",
   "execution_count": 137,
   "metadata": {},
   "outputs": [
    {
     "data": {
      "text/plain": [
       "True"
      ]
     },
     "execution_count": 137,
     "metadata": {},
     "output_type": "execute_result"
    }
   ],
   "source": [
    "data.index.is_monotonic"
   ]
  },
  {
   "cell_type": "markdown",
   "metadata": {},
   "source": [
    "Данные расположенны в хронологическом порядке. Тут всё хорошо."
   ]
  },
  {
   "cell_type": "markdown",
   "metadata": {},
   "source": [
    "### Визуализация ряда"
   ]
  },
  {
   "cell_type": "code",
   "execution_count": 138,
   "metadata": {},
   "outputs": [
    {
     "data": {
      "text/plain": [
       "<matplotlib.axes._subplots.AxesSubplot at 0x7fbc48670fd0>"
      ]
     },
     "execution_count": 138,
     "metadata": {},
     "output_type": "execute_result"
    },
    {
     "data": {
      "image/png": "[encoded data removed]",
      "text/plain": [
       "<Figure size 432x288 with 1 Axes>"
      ]
     },
     "metadata": {
      "needs_background": "light"
     },
     "output_type": "display_data"
    }
   ],
   "source": [
    "data['2018-03-1':'2018-03-5'].plot(ax = plt.gca())"
   ]
  },
  {
   "cell_type": "markdown",
   "metadata": {},
   "source": [
    "Посмотрели на дневной фрейм. Виден восходящий тренд между 6 утра и 12 ночи, а потом ниспадающий тренд. По сути это сезонность зависящая от времени суток."
   ]
  },
  {
   "cell_type": "code",
   "execution_count": 139,
   "metadata": {},
   "outputs": [
    {
     "data": {
      "text/plain": [
       "<matplotlib.axes._subplots.AxesSubplot at 0x7fbc48619650>"
      ]
     },
     "execution_count": 139,
     "metadata": {},
     "output_type": "execute_result"
    },
    {
     "data": {
      "image/png": "[encoded data removed]",
      "text/plain": [
       "<Figure size 432x288 with 1 Axes>"
      ]
     },
     "metadata": {
      "needs_background": "light"
     },
     "output_type": "display_data"
    }
   ],
   "source": [
    "days_data = data.resample(\"1D\").sum()\n",
    "days_data.plot(ax = plt.gca())"
   ]
  },
  {
   "cell_type": "markdown",
   "metadata": {},
   "source": [
    "Тут выполнили ресемплирование для того, чтобы на график можно было адекватно посмотреть(снизу график без ресемплирования). По графику виден явный восходящий тренд. Что также может помешать при прогнозировании."
   ]
  },
  {
   "cell_type": "code",
   "execution_count": 140,
   "metadata": {},
   "outputs": [
    {
     "data": {
      "text/plain": [
       "<matplotlib.axes._subplots.AxesSubplot at 0x7fbc485835d0>"
      ]
     },
     "execution_count": 140,
     "metadata": {},
     "output_type": "execute_result"
    },
    {
     "data": {
      "image/png": "[encoded data removed]",
      "text/plain": [
       "<Figure size 432x288 with 1 Axes>"
      ]
     },
     "metadata": {
      "needs_background": "light"
     },
     "output_type": "display_data"
    }
   ],
   "source": [
    "data.plot(ax = plt.gca())"
   ]
  },
  {
   "cell_type": "markdown",
   "metadata": {},
   "source": [
    "### Функция для добавления признаков."
   ]
  },
  {
   "cell_type": "code",
   "execution_count": 141,
   "metadata": {},
   "outputs": [],
   "source": [
    "def make_features(data, max_lag, rolling_mean_size):\n",
    "    new_data = data.copy()\n",
    "    new_data['year'] = new_data.index.year\n",
    "    new_data['month'] = new_data.index.month\n",
    "    new_data['day'] = new_data.index.day\n",
    "    new_data['dayofweek'] = new_data.index.dayofweek\n",
    "    \n",
    "    for lag in range(1, max_lag + 1):\n",
    "        new_data['lag_{}'.format(lag)] = new_data['num_orders'].shift(lag)\n",
    "\n",
    "    new_data['rolling_mean'] = new_data['num_orders'].shift().rolling(rolling_mean_size).mean()\n",
    "    return new_data"
   ]
  },
  {
   "cell_type": "markdown",
   "metadata": {},
   "source": [
    "## Обучение"
   ]
  },
  {
   "cell_type": "markdown",
   "metadata": {},
   "source": [
    "### Функция для разбиения на выборки"
   ]
  },
  {
   "cell_type": "code",
   "execution_count": 142,
   "metadata": {},
   "outputs": [],
   "source": [
    "def new_data(data):\n",
    "    train, valid_and_test = train_test_split(data, shuffle=False, test_size=0.2)\n",
    "    train = train.dropna()\n",
    "    train_features = train.drop('num_orders', axis = 1)\n",
    "    train_target = train['num_orders']\n",
    "    valid, test = train_test_split(valid_and_test, shuffle=False, test_size=0.5)\n",
    "    valid_features = valid.drop('num_orders', axis = 1) \n",
    "    valid_target = valid['num_orders']\n",
    "    test_features = test.drop('num_orders', axis = 1)\n",
    "    test_target = test['num_orders']\n",
    "    return train_features, train_target, valid_features, valid_target, test_features, test_target"
   ]
  },
  {
   "cell_type": "markdown",
   "metadata": {},
   "source": [
    "### Поиск лучшей модели"
   ]
  },
  {
   "cell_type": "markdown",
   "metadata": {},
   "source": [
    "#### Модель линейной регрессии"
   ]
  },
  {
   "cell_type": "code",
   "execution_count": 143,
   "metadata": {},
   "outputs": [
    {
     "name": "stdout",
     "output_type": "stream",
     "text": [
      "147 150 29.42016463095804\n",
      "147 151 29.418540022410195\n",
      "147 152 29.41507098096111\n",
      "147 155 29.40613519105224\n",
      "147 156 29.392459088035647\n",
      "147 157 29.384647451427444\n",
      "147 160 29.361551027373054\n",
      "147 161 29.35552028127185\n",
      "147 162 29.353213495866797\n",
      "147 164 29.34215499727397\n",
      "147 165 29.303075757824097\n",
      "147 166 29.273654240275256\n",
      "147 167 29.258613420256573\n",
      "147 168 29.06105712055934\n",
      "147 169 29.02300656227638\n",
      "147\n",
      "148 169 29.02286880333264\n",
      "148 170 29.0149126670316\n",
      "148 171 29.014171550042473\n",
      "148\n",
      "149 169 28.972278554144122\n",
      "149 170 28.96657032132262\n",
      "149\n"
     ]
    }
   ],
   "source": [
    "best_score = 100\n",
    "for max_lag in range(147,150):\n",
    "    for rolling_mean_size in range(150, 250):\n",
    "        modified_data = make_features(data, max_lag, rolling_mean_size)\n",
    "        train_features, train_target, valid_features, valid_target, test_features, test_target = new_data(modified_data)      \n",
    "        model = LinearRegression()\n",
    "        model.fit(train_features, train_target)\n",
    "        valid_predict = model.predict(valid_features)\n",
    "        valid_score = mean_squared_error(valid_target, valid_predict)**0.5\n",
    "        if best_score > valid_score:\n",
    "            print(max_lag,rolling_mean_size, valid_score)\n",
    "            best_score = valid_score\n",
    "            best_model = model\n",
    "    print(max_lag)"
   ]
  },
  {
   "cell_type": "markdown",
   "metadata": {},
   "source": [
    "***Вывод***"
   ]
  },
  {
   "cell_type": "markdown",
   "metadata": {},
   "source": [
    "Перебрав модели, лучшая модель получает метрику rmse равную 28.96... При знании модели о последних 149 измерениях и среднем скользящем из 170 значений. Будем искать оптимальные значения с этим набором признаков."
   ]
  },
  {
   "cell_type": "markdown",
   "metadata": {},
   "source": [
    "#### Дерево решений"
   ]
  },
  {
   "cell_type": "code",
   "execution_count": 144,
   "metadata": {},
   "outputs": [
    {
     "name": "stdout",
     "output_type": "stream",
     "text": [
      "RMSE лучшей модели дерева решений и её глубина: 35.98960600467101 5\n"
     ]
    }
   ],
   "source": [
    "modified_data = make_features(data, max_lag, rolling_mean_size)\n",
    "train_features, train_target, valid_features, valid_target, test_features, test_target = new_data(modified_data)\n",
    "\n",
    "best_tree_model = None\n",
    "best_tree_result = 1000\n",
    "for depth in range(1,20):\n",
    "    model = DecisionTreeRegressor(max_depth = depth, random_state = 12345)\n",
    "    model.fit(train_features, train_target)\n",
    "    predicted_valid = model.predict(valid_features)\n",
    "    result = mean_squared_error(valid_target, predicted_valid) ** .5\n",
    "    if result < best_tree_result:\n",
    "        best_tree_model = model\n",
    "        best_tree_result = result\n",
    "        best_depth = depth\n",
    "\n",
    "print(\"RMSE лучшей модели дерева решений и её глубина:\", best_tree_result, best_depth)"
   ]
  },
  {
   "cell_type": "markdown",
   "metadata": {},
   "source": [
    "Дерево решений справилось хуже."
   ]
  },
  {
   "cell_type": "markdown",
   "metadata": {},
   "source": [
    "### Модель случайного леса"
   ]
  },
  {
   "cell_type": "code",
   "execution_count": 145,
   "metadata": {},
   "outputs": [
    {
     "name": "stdout",
     "output_type": "stream",
     "text": [
      "RMSE лучшей модели случайного леса: 32.19611178494249\n"
     ]
    }
   ],
   "source": [
    "best_forest_model = None\n",
    "best_forest_result = 1000\n",
    "for est in range(1, 21):\n",
    "    model = RandomForestRegressor(random_state = 12345, n_estimators = est) \n",
    "    model.fit(train_features, train_target)\n",
    "    predicted_valid = model.predict(valid_features)\n",
    "    result = mean_squared_error(valid_target, predicted_valid) **.5\n",
    "    if result < best_forest_result:\n",
    "        best_forest_model = model\n",
    "        best_forest_result = result\n",
    "        best_est = est\n",
    "print(\"RMSE лучшей модели случайного леса:\", best_forest_result)"
   ]
  },
  {
   "cell_type": "markdown",
   "metadata": {},
   "source": [
    "Модель случайного леса лучше дерева решений, однако всё-ещё хуже линейной регрессии."
   ]
  },
  {
   "cell_type": "markdown",
   "metadata": {},
   "source": [
    "#### Тяжёлая артилерия(бустинг)"
   ]
  },
  {
   "cell_type": "code",
   "execution_count": 146,
   "metadata": {},
   "outputs": [],
   "source": [
    "def boost(params, features_train, features_valid, target_train, target_valid):\n",
    "    train_data = lgbm.Dataset(features_train, target_train)\n",
    "    valid_data = lgbm.Dataset(features_valid, target_valid)\n",
    "    \n",
    "    model = lgbm.train(params, train_data, valid_sets = valid_data, verbose_eval = params['verbose_eval'])\n",
    "\n",
    "    predicted_valid = model.predict(features_valid)\n",
    "    score = mean_squared_error(target_valid, y_pred = predicted_valid) ** 0.5\n",
    "    print(score)\n",
    "    return model"
   ]
  },
  {
   "cell_type": "code",
   "execution_count": 147,
   "metadata": {},
   "outputs": [],
   "source": [
    "params = {\n",
    "    \"num_leaves\": 220,\n",
    "    \"num_iterations\" : 250,\n",
    "    \"metric\" : \"rmse\",\n",
    "    \"learning_rate\" : .03,\n",
    "    \"seed\" : 12345,\n",
    "    \"verbose_eval\" : True\n",
    "}"
   ]
  },
  {
   "cell_type": "code",
   "execution_count": 148,
   "metadata": {},
   "outputs": [
    {
     "name": "stderr",
     "output_type": "stream",
     "text": [
      "/opt/conda/lib/python3.7/site-packages/lightgbm/engine.py:148: UserWarning: Found `num_iterations` in params. Will use it instead of argument\n",
      "  warnings.warn(\"Found `{}` in params. Will use it instead of argument\".format(alias))\n"
     ]
    },
    {
     "name": "stdout",
     "output_type": "stream",
     "text": [
      "[1]\tvalid_0's rmse: 56.3664\n",
      "[2]\tvalid_0's rmse: 55.4625\n",
      "[3]\tvalid_0's rmse: 54.6022\n",
      "[4]\tvalid_0's rmse: 53.7551\n",
      "[5]\tvalid_0's rmse: 52.9675\n",
      "[6]\tvalid_0's rmse: 52.1698\n",
      "[7]\tvalid_0's rmse: 51.4093\n",
      "[8]\tvalid_0's rmse: 50.7132\n",
      "[9]\tvalid_0's rmse: 49.9946\n",
      "[10]\tvalid_0's rmse: 49.3157\n",
      "[11]\tvalid_0's rmse: 48.6981\n",
      "[12]\tvalid_0's rmse: 48.0978\n",
      "[13]\tvalid_0's rmse: 47.4778\n",
      "[14]\tvalid_0's rmse: 46.9757\n",
      "[15]\tvalid_0's rmse: 46.4483\n",
      "[16]\tvalid_0's rmse: 45.9541\n",
      "[17]\tvalid_0's rmse: 45.445\n",
      "[18]\tvalid_0's rmse: 44.9825\n",
      "[19]\tvalid_0's rmse: 44.4786\n",
      "[20]\tvalid_0's rmse: 44.0512\n",
      "[21]\tvalid_0's rmse: 43.6026\n",
      "[22]\tvalid_0's rmse: 43.1712\n",
      "[23]\tvalid_0's rmse: 42.7299\n",
      "[24]\tvalid_0's rmse: 42.3311\n",
      "[25]\tvalid_0's rmse: 41.91\n",
      "[26]\tvalid_0's rmse: 41.5117\n",
      "[27]\tvalid_0's rmse: 41.1678\n",
      "[28]\tvalid_0's rmse: 40.7701\n",
      "[29]\tvalid_0's rmse: 40.4422\n",
      "[30]\tvalid_0's rmse: 40.1471\n",
      "[31]\tvalid_0's rmse: 39.8022\n",
      "[32]\tvalid_0's rmse: 39.5013\n",
      "[33]\tvalid_0's rmse: 39.197\n",
      "[34]\tvalid_0's rmse: 38.8798\n",
      "[35]\tvalid_0's rmse: 38.5886\n",
      "[36]\tvalid_0's rmse: 38.3264\n",
      "[37]\tvalid_0's rmse: 38.0966\n",
      "[38]\tvalid_0's rmse: 37.8383\n",
      "[39]\tvalid_0's rmse: 37.5882\n",
      "[40]\tvalid_0's rmse: 37.3351\n",
      "[41]\tvalid_0's rmse: 37.1524\n",
      "[42]\tvalid_0's rmse: 36.9333\n",
      "[43]\tvalid_0's rmse: 36.7331\n",
      "[44]\tvalid_0's rmse: 36.5035\n",
      "[45]\tvalid_0's rmse: 36.3664\n",
      "[46]\tvalid_0's rmse: 36.1777\n",
      "[47]\tvalid_0's rmse: 36.0084\n",
      "[48]\tvalid_0's rmse: 35.8304\n",
      "[49]\tvalid_0's rmse: 35.7079\n",
      "[50]\tvalid_0's rmse: 35.5676\n",
      "[51]\tvalid_0's rmse: 35.4402\n",
      "[52]\tvalid_0's rmse: 35.2684\n",
      "[53]\tvalid_0's rmse: 35.1442\n",
      "[54]\tvalid_0's rmse: 35.0062\n",
      "[55]\tvalid_0's rmse: 34.8821\n",
      "[56]\tvalid_0's rmse: 34.7537\n",
      "[57]\tvalid_0's rmse: 34.6518\n",
      "[58]\tvalid_0's rmse: 34.5441\n",
      "[59]\tvalid_0's rmse: 34.4389\n",
      "[60]\tvalid_0's rmse: 34.3657\n",
      "[61]\tvalid_0's rmse: 34.2915\n",
      "[62]\tvalid_0's rmse: 34.2025\n",
      "[63]\tvalid_0's rmse: 34.1187\n",
      "[64]\tvalid_0's rmse: 34.0153\n",
      "[65]\tvalid_0's rmse: 33.9131\n",
      "[66]\tvalid_0's rmse: 33.8037\n",
      "[67]\tvalid_0's rmse: 33.6954\n",
      "[68]\tvalid_0's rmse: 33.6206\n",
      "[69]\tvalid_0's rmse: 33.5345\n",
      "[70]\tvalid_0's rmse: 33.4262\n",
      "[71]\tvalid_0's rmse: 33.3605\n",
      "[72]\tvalid_0's rmse: 33.2867\n",
      "[73]\tvalid_0's rmse: 33.2134\n",
      "[74]\tvalid_0's rmse: 33.1445\n",
      "[75]\tvalid_0's rmse: 33.0905\n",
      "[76]\tvalid_0's rmse: 33.0333\n",
      "[77]\tvalid_0's rmse: 32.9628\n",
      "[78]\tvalid_0's rmse: 32.9155\n",
      "[79]\tvalid_0's rmse: 32.8462\n",
      "[80]\tvalid_0's rmse: 32.7857\n",
      "[81]\tvalid_0's rmse: 32.7473\n",
      "[82]\tvalid_0's rmse: 32.694\n",
      "[83]\tvalid_0's rmse: 32.654\n",
      "[84]\tvalid_0's rmse: 32.6065\n",
      "[85]\tvalid_0's rmse: 32.5396\n",
      "[86]\tvalid_0's rmse: 32.5033\n",
      "[87]\tvalid_0's rmse: 32.4576\n",
      "[88]\tvalid_0's rmse: 32.397\n",
      "[89]\tvalid_0's rmse: 32.3574\n",
      "[90]\tvalid_0's rmse: 32.3089\n",
      "[91]\tvalid_0's rmse: 32.2814\n",
      "[92]\tvalid_0's rmse: 32.2396\n",
      "[93]\tvalid_0's rmse: 32.1952\n",
      "[94]\tvalid_0's rmse: 32.1407\n",
      "[95]\tvalid_0's rmse: 32.1009\n",
      "[96]\tvalid_0's rmse: 32.0753\n",
      "[97]\tvalid_0's rmse: 32.0331\n",
      "[98]\tvalid_0's rmse: 31.986\n",
      "[99]\tvalid_0's rmse: 31.9477\n",
      "[100]\tvalid_0's rmse: 31.9136\n",
      "[101]\tvalid_0's rmse: 31.8806\n",
      "[102]\tvalid_0's rmse: 31.8466\n",
      "[103]\tvalid_0's rmse: 31.816\n",
      "[104]\tvalid_0's rmse: 31.7738\n",
      "[105]\tvalid_0's rmse: 31.7485\n",
      "[106]\tvalid_0's rmse: 31.7268\n",
      "[107]\tvalid_0's rmse: 31.7094\n",
      "[108]\tvalid_0's rmse: 31.6821\n",
      "[109]\tvalid_0's rmse: 31.6581\n",
      "[110]\tvalid_0's rmse: 31.6342\n",
      "[111]\tvalid_0's rmse: 31.6295\n",
      "[112]\tvalid_0's rmse: 31.6056\n",
      "[113]\tvalid_0's rmse: 31.5796\n",
      "[114]\tvalid_0's rmse: 31.5624\n",
      "[115]\tvalid_0's rmse: 31.5521\n",
      "[116]\tvalid_0's rmse: 31.5271\n",
      "[117]\tvalid_0's rmse: 31.5053\n",
      "[118]\tvalid_0's rmse: 31.4827\n",
      "[119]\tvalid_0's rmse: 31.4648\n",
      "[120]\tvalid_0's rmse: 31.4554\n",
      "[121]\tvalid_0's rmse: 31.432\n",
      "[122]\tvalid_0's rmse: 31.4097\n",
      "[123]\tvalid_0's rmse: 31.3782\n",
      "[124]\tvalid_0's rmse: 31.3651\n",
      "[125]\tvalid_0's rmse: 31.3409\n",
      "[126]\tvalid_0's rmse: 31.3293\n",
      "[127]\tvalid_0's rmse: 31.3136\n",
      "[128]\tvalid_0's rmse: 31.2858\n",
      "[129]\tvalid_0's rmse: 31.2632\n",
      "[130]\tvalid_0's rmse: 31.2421\n",
      "[131]\tvalid_0's rmse: 31.2154\n",
      "[132]\tvalid_0's rmse: 31.2029\n",
      "[133]\tvalid_0's rmse: 31.1873\n",
      "[134]\tvalid_0's rmse: 31.1843\n",
      "[135]\tvalid_0's rmse: 31.1589\n",
      "[136]\tvalid_0's rmse: 31.1498\n",
      "[137]\tvalid_0's rmse: 31.1361\n",
      "[138]\tvalid_0's rmse: 31.1172\n",
      "[139]\tvalid_0's rmse: 31.1079\n",
      "[140]\tvalid_0's rmse: 31.0963\n",
      "[141]\tvalid_0's rmse: 31.085\n",
      "[142]\tvalid_0's rmse: 31.059\n",
      "[143]\tvalid_0's rmse: 31.0479\n",
      "[144]\tvalid_0's rmse: 31.0455\n",
      "[145]\tvalid_0's rmse: 31.023\n",
      "[146]\tvalid_0's rmse: 31.0209\n",
      "[147]\tvalid_0's rmse: 31.0146\n",
      "[148]\tvalid_0's rmse: 31.0002\n",
      "[149]\tvalid_0's rmse: 30.991\n",
      "[150]\tvalid_0's rmse: 30.9917\n",
      "[151]\tvalid_0's rmse: 30.9795\n",
      "[152]\tvalid_0's rmse: 30.9794\n",
      "[153]\tvalid_0's rmse: 30.9745\n",
      "[154]\tvalid_0's rmse: 30.9752\n",
      "[155]\tvalid_0's rmse: 30.9626\n",
      "[156]\tvalid_0's rmse: 30.944\n",
      "[157]\tvalid_0's rmse: 30.9435\n",
      "[158]\tvalid_0's rmse: 30.9309\n",
      "[159]\tvalid_0's rmse: 30.9169\n",
      "[160]\tvalid_0's rmse: 30.9139\n",
      "[161]\tvalid_0's rmse: 30.911\n",
      "[162]\tvalid_0's rmse: 30.9013\n",
      "[163]\tvalid_0's rmse: 30.8925\n",
      "[164]\tvalid_0's rmse: 30.883\n",
      "[165]\tvalid_0's rmse: 30.881\n",
      "[166]\tvalid_0's rmse: 30.8668\n",
      "[167]\tvalid_0's rmse: 30.8589\n",
      "[168]\tvalid_0's rmse: 30.8611\n",
      "[169]\tvalid_0's rmse: 30.8539\n",
      "[170]\tvalid_0's rmse: 30.8489\n",
      "[171]\tvalid_0's rmse: 30.8409\n",
      "[172]\tvalid_0's rmse: 30.8421\n",
      "[173]\tvalid_0's rmse: 30.8332\n",
      "[174]\tvalid_0's rmse: 30.8319\n",
      "[175]\tvalid_0's rmse: 30.8265\n",
      "[176]\tvalid_0's rmse: 30.8233\n",
      "[177]\tvalid_0's rmse: 30.8168\n",
      "[178]\tvalid_0's rmse: 30.8061\n",
      "[179]\tvalid_0's rmse: 30.7931\n",
      "[180]\tvalid_0's rmse: 30.7938\n",
      "[181]\tvalid_0's rmse: 30.786\n",
      "[182]\tvalid_0's rmse: 30.7818\n",
      "[183]\tvalid_0's rmse: 30.7654\n",
      "[184]\tvalid_0's rmse: 30.7508\n",
      "[185]\tvalid_0's rmse: 30.7421\n",
      "[186]\tvalid_0's rmse: 30.7377\n",
      "[187]\tvalid_0's rmse: 30.7334\n",
      "[188]\tvalid_0's rmse: 30.7322\n",
      "[189]\tvalid_0's rmse: 30.7258\n",
      "[190]\tvalid_0's rmse: 30.7207\n",
      "[191]\tvalid_0's rmse: 30.7178\n",
      "[192]\tvalid_0's rmse: 30.7126\n",
      "[193]\tvalid_0's rmse: 30.706\n",
      "[194]\tvalid_0's rmse: 30.7064\n",
      "[195]\tvalid_0's rmse: 30.7026\n",
      "[196]\tvalid_0's rmse: 30.6969\n",
      "[197]\tvalid_0's rmse: 30.7002\n",
      "[198]\tvalid_0's rmse: 30.6969\n",
      "[199]\tvalid_0's rmse: 30.6967\n",
      "[200]\tvalid_0's rmse: 30.6977\n",
      "[201]\tvalid_0's rmse: 30.6957\n",
      "[202]\tvalid_0's rmse: 30.6884\n",
      "[203]\tvalid_0's rmse: 30.6834\n",
      "[204]\tvalid_0's rmse: 30.6784\n",
      "[205]\tvalid_0's rmse: 30.6773\n",
      "[206]\tvalid_0's rmse: 30.6746\n",
      "[207]\tvalid_0's rmse: 30.6718\n",
      "[208]\tvalid_0's rmse: 30.6684\n",
      "[209]\tvalid_0's rmse: 30.6653\n",
      "[210]\tvalid_0's rmse: 30.6631\n",
      "[211]\tvalid_0's rmse: 30.6632\n",
      "[212]\tvalid_0's rmse: 30.6646\n",
      "[213]\tvalid_0's rmse: 30.6597\n",
      "[214]\tvalid_0's rmse: 30.6578\n",
      "[215]\tvalid_0's rmse: 30.6553\n",
      "[216]\tvalid_0's rmse: 30.6572\n",
      "[217]\tvalid_0's rmse: 30.648\n",
      "[218]\tvalid_0's rmse: 30.6405\n",
      "[219]\tvalid_0's rmse: 30.6421\n",
      "[220]\tvalid_0's rmse: 30.6382\n",
      "[221]\tvalid_0's rmse: 30.6392\n",
      "[222]\tvalid_0's rmse: 30.6382\n",
      "[223]\tvalid_0's rmse: 30.6392\n",
      "[224]\tvalid_0's rmse: 30.6371\n",
      "[225]\tvalid_0's rmse: 30.6324\n",
      "[226]\tvalid_0's rmse: 30.6306\n",
      "[227]\tvalid_0's rmse: 30.6288\n",
      "[228]\tvalid_0's rmse: 30.6254\n",
      "[229]\tvalid_0's rmse: 30.6265\n",
      "[230]\tvalid_0's rmse: 30.6239\n",
      "[231]\tvalid_0's rmse: 30.6202\n",
      "[232]\tvalid_0's rmse: 30.6195\n",
      "[233]\tvalid_0's rmse: 30.6164\n",
      "[234]\tvalid_0's rmse: 30.6155\n",
      "[235]\tvalid_0's rmse: 30.6097\n",
      "[236]\tvalid_0's rmse: 30.6008\n",
      "[237]\tvalid_0's rmse: 30.6036\n",
      "[238]\tvalid_0's rmse: 30.5998\n",
      "[239]\tvalid_0's rmse: 30.5972\n",
      "[240]\tvalid_0's rmse: 30.5929\n",
      "[241]\tvalid_0's rmse: 30.589\n",
      "[242]\tvalid_0's rmse: 30.5878\n",
      "[243]\tvalid_0's rmse: 30.5856\n",
      "[244]\tvalid_0's rmse: 30.5905\n",
      "[245]\tvalid_0's rmse: 30.5859\n",
      "[246]\tvalid_0's rmse: 30.5852\n",
      "[247]\tvalid_0's rmse: 30.5869\n",
      "[248]\tvalid_0's rmse: 30.5895\n",
      "[249]\tvalid_0's rmse: 30.5875\n",
      "[250]\tvalid_0's rmse: 30.5864\n",
      "30.586410607235763\n"
     ]
    }
   ],
   "source": [
    "model = boost(params, train_features, valid_features, train_target, valid_target)"
   ]
  },
  {
   "cell_type": "markdown",
   "metadata": {},
   "source": [
    "Бустинг также не смог нам помочь победить линейную регрессию. Такой результат у деревьев и градиентного бустинга, который также использует деревья, можно списать на само устройство модели дерева. Оно не выходит за границы максимального и минимального значения, которые есть в тренировочных данных, а у нас восходящий тренд, который постепенно уходит от коридора, описанного тренировочными данными. "
   ]
  },
  {
   "cell_type": "markdown",
   "metadata": {},
   "source": [
    "## Тестирование"
   ]
  },
  {
   "cell_type": "code",
   "execution_count": 149,
   "metadata": {},
   "outputs": [
    {
     "name": "stdout",
     "output_type": "stream",
     "text": [
      "39.61655017532594\n"
     ]
    }
   ],
   "source": [
    "modified_data = make_features(data, 149, 170)\n",
    "train_features, train_target, valid_features, valid_target, test_features, test_target = new_data(modified_data) \n",
    "pre_test_features = train_features.append(valid_features, ignore_index = True)\n",
    "pre_test_target = train_target.append(valid_target, ignore_index = True)\n",
    "\n",
    "best_model.fit(pre_test_features, pre_test_target)\n",
    "test_predict = best_model.predict(test_features)\n",
    "test_score = mean_squared_error(test_target, test_predict)**0.5\n",
    "print(test_score)"
   ]
  },
  {
   "cell_type": "code",
   "execution_count": 170,
   "metadata": {},
   "outputs": [
    {
     "data": {
      "image/png": "[encoded data removed]",
      "text/plain": [
       "<Figure size 936x360 with 1 Axes>"
      ]
     },
     "metadata": {
      "needs_background": "light"
     },
     "output_type": "display_data"
    }
   ],
   "source": [
    "plt.figure(figsize = (13,5))\n",
    "plt.ylabel('Количество заказов такси')\n",
    "plt.plot(test_target, label = \"Целевой признак\")\n",
    "plt.plot(pd.DataFrame(test_predict, test_target.index), label = \"Предсказание\")\n",
    "plt.legend()\n",
    "plt.show()"
   ]
  },
  {
   "cell_type": "markdown",
   "metadata": {},
   "source": [
    "***Вывод***"
   ]
  },
  {
   "cell_type": "markdown",
   "metadata": {},
   "source": [
    "Наша модель получила требуемое значение rmse в 48 и даже превысила его. На тестовой выборке значение метрики значительно ухудшилось. Это может быть связанно с переобучением, хотя такое плохое значение rmse наблюдалось только в начале перебора, что может говорить о том, что дальше мог пойти тренд, который менее предсказуем, чем тот, который попал в тренировочную выборку. Также можно заметить, что наше предсказание плохо работает с выбросами, где и получаются самые большие ошибки"
   ]
  },
  {
   "cell_type": "markdown",
   "metadata": {},
   "source": [
    "### Проверка модели на адекватность"
   ]
  },
  {
   "cell_type": "code",
   "execution_count": 171,
   "metadata": {},
   "outputs": [
    {
     "name": "stdout",
     "output_type": "stream",
     "text": [
      "86.9386181592115\n"
     ]
    }
   ],
   "source": [
    "dummy_regr = DummyRegressor(strategy=\"mean\")\n",
    "dummy_regr.fit(train_features, train_target)\n",
    "dummy_predict = dummy_regr.predict(test_features)\n",
    "dummy_result = mean_squared_error(test_target, dummy_predict) ** 0.5\n",
    "print(dummy_result)"
   ]
  },
  {
   "cell_type": "markdown",
   "metadata": {},
   "source": [
    "Наша модель явно адекватнее, чем простое тыкание наугад."
   ]
  }
 ],
 "metadata": {
  "ExecuteTimeLog": [
   {
    "duration": 594,
    "start_time": "2021-12-29T16:38:03.166Z"
   },
   {
    "duration": 2318,
    "start_time": "2021-12-29T16:38:21.280Z"
   },
   {
    "duration": 33,
    "start_time": "2021-12-29T16:38:42.412Z"
   },
   {
    "duration": 41,
    "start_time": "2021-12-29T16:38:49.455Z"
   },
   {
    "duration": 5,
    "start_time": "2021-12-29T16:40:45.161Z"
   },
   {
    "duration": 297,
    "start_time": "2021-12-29T16:40:59.880Z"
   },
   {
    "duration": 12,
    "start_time": "2021-12-29T16:41:19.110Z"
   },
   {
    "duration": 759,
    "start_time": "2021-12-29T16:41:35.739Z"
   },
   {
    "duration": 52,
    "start_time": "2021-12-29T16:41:36.500Z"
   },
   {
    "duration": 9,
    "start_time": "2021-12-29T16:41:36.555Z"
   },
   {
    "duration": 22,
    "start_time": "2021-12-29T16:41:36.567Z"
   },
   {
    "duration": 6,
    "start_time": "2021-12-29T16:41:36.591Z"
   },
   {
    "duration": 6,
    "start_time": "2021-12-29T16:45:06.469Z"
   },
   {
    "duration": 5,
    "start_time": "2021-12-29T16:45:17.314Z"
   },
   {
    "duration": 605,
    "start_time": "2021-12-29T16:47:14.266Z"
   },
   {
    "duration": 41,
    "start_time": "2021-12-29T16:47:14.873Z"
   },
   {
    "duration": 8,
    "start_time": "2021-12-29T16:47:14.918Z"
   },
   {
    "duration": 23,
    "start_time": "2021-12-29T16:47:14.927Z"
   },
   {
    "duration": 14,
    "start_time": "2021-12-29T16:47:14.952Z"
   },
   {
    "duration": 14,
    "start_time": "2021-12-29T16:47:14.968Z"
   },
   {
    "duration": 9,
    "start_time": "2021-12-29T16:47:14.985Z"
   },
   {
    "duration": 37,
    "start_time": "2021-12-29T16:48:30.325Z"
   },
   {
    "duration": 7,
    "start_time": "2021-12-29T16:48:35.712Z"
   },
   {
    "duration": 14,
    "start_time": "2021-12-29T16:49:56.312Z"
   },
   {
    "duration": 14,
    "start_time": "2021-12-29T16:49:58.151Z"
   },
   {
    "duration": 10,
    "start_time": "2021-12-29T16:50:02.041Z"
   },
   {
    "duration": 4,
    "start_time": "2021-12-29T16:50:57.276Z"
   },
   {
    "duration": 362,
    "start_time": "2021-12-29T16:51:06.736Z"
   },
   {
    "duration": 612,
    "start_time": "2021-12-29T16:51:20.389Z"
   },
   {
    "duration": 42,
    "start_time": "2021-12-29T16:51:21.003Z"
   },
   {
    "duration": 7,
    "start_time": "2021-12-29T16:51:21.047Z"
   },
   {
    "duration": 9,
    "start_time": "2021-12-29T16:51:21.061Z"
   },
   {
    "duration": 15,
    "start_time": "2021-12-29T16:51:21.072Z"
   },
   {
    "duration": 7,
    "start_time": "2021-12-29T16:51:21.089Z"
   },
   {
    "duration": 9,
    "start_time": "2021-12-29T16:51:21.098Z"
   },
   {
    "duration": 6,
    "start_time": "2021-12-29T16:51:21.109Z"
   },
   {
    "duration": 6,
    "start_time": "2021-12-29T17:47:36.214Z"
   },
   {
    "duration": 361,
    "start_time": "2021-12-29T17:47:37.333Z"
   },
   {
    "duration": 273,
    "start_time": "2021-12-29T17:47:51.248Z"
   },
   {
    "duration": 311,
    "start_time": "2021-12-29T17:47:51.812Z"
   },
   {
    "duration": 588,
    "start_time": "2021-12-29T17:48:33.589Z"
   },
   {
    "duration": 42,
    "start_time": "2021-12-29T17:48:34.179Z"
   },
   {
    "duration": 6,
    "start_time": "2021-12-29T17:48:34.224Z"
   },
   {
    "duration": 10,
    "start_time": "2021-12-29T17:48:34.232Z"
   },
   {
    "duration": 345,
    "start_time": "2021-12-29T17:48:34.244Z"
   },
   {
    "duration": -595,
    "start_time": "2021-12-29T17:48:35.186Z"
   },
   {
    "duration": -603,
    "start_time": "2021-12-29T17:48:35.195Z"
   },
   {
    "duration": -603,
    "start_time": "2021-12-29T17:48:35.196Z"
   },
   {
    "duration": -604,
    "start_time": "2021-12-29T17:48:35.198Z"
   },
   {
    "duration": -604,
    "start_time": "2021-12-29T17:48:35.199Z"
   },
   {
    "duration": 796,
    "start_time": "2021-12-29T17:49:13.136Z"
   },
   {
    "duration": 42,
    "start_time": "2021-12-29T17:49:13.935Z"
   },
   {
    "duration": 7,
    "start_time": "2021-12-29T17:49:13.979Z"
   },
   {
    "duration": 9,
    "start_time": "2021-12-29T17:49:13.988Z"
   },
   {
    "duration": 12,
    "start_time": "2021-12-29T17:49:13.999Z"
   },
   {
    "duration": 12,
    "start_time": "2021-12-29T17:49:14.013Z"
   },
   {
    "duration": 12,
    "start_time": "2021-12-29T17:49:14.027Z"
   },
   {
    "duration": 24,
    "start_time": "2021-12-29T17:49:14.041Z"
   },
   {
    "duration": 10,
    "start_time": "2021-12-29T17:49:14.067Z"
   },
   {
    "duration": 7,
    "start_time": "2021-12-29T17:49:14.079Z"
   },
   {
    "duration": 14,
    "start_time": "2021-12-29T17:58:43.255Z"
   },
   {
    "duration": 499,
    "start_time": "2021-12-29T17:58:57.067Z"
   },
   {
    "duration": 458,
    "start_time": "2021-12-29T18:00:08.348Z"
   },
   {
    "duration": 3,
    "start_time": "2021-12-29T18:01:24.448Z"
   },
   {
    "duration": 271,
    "start_time": "2021-12-29T18:01:29.387Z"
   },
   {
    "duration": 20,
    "start_time": "2021-12-29T18:02:18.703Z"
   },
   {
    "duration": 4,
    "start_time": "2021-12-29T18:02:44.319Z"
   },
   {
    "duration": 6,
    "start_time": "2021-12-29T18:03:45.270Z"
   },
   {
    "duration": 8,
    "start_time": "2021-12-29T18:03:52.500Z"
   },
   {
    "duration": 16,
    "start_time": "2021-12-29T18:03:53.154Z"
   },
   {
    "duration": 7,
    "start_time": "2021-12-29T18:03:54.107Z"
   },
   {
    "duration": 15,
    "start_time": "2021-12-29T18:04:00.662Z"
   },
   {
    "duration": 18,
    "start_time": "2021-12-29T18:04:01.267Z"
   },
   {
    "duration": 7,
    "start_time": "2021-12-29T18:04:02.102Z"
   },
   {
    "duration": 1093,
    "start_time": "2021-12-29T18:04:22.602Z"
   },
   {
    "duration": 42,
    "start_time": "2021-12-29T18:04:23.697Z"
   },
   {
    "duration": 18,
    "start_time": "2021-12-29T18:04:23.743Z"
   },
   {
    "duration": 10,
    "start_time": "2021-12-29T18:04:23.763Z"
   },
   {
    "duration": 7,
    "start_time": "2021-12-29T18:04:23.775Z"
   },
   {
    "duration": 14,
    "start_time": "2021-12-29T18:04:23.784Z"
   },
   {
    "duration": 12,
    "start_time": "2021-12-29T18:04:23.801Z"
   },
   {
    "duration": 9,
    "start_time": "2021-12-29T18:04:23.815Z"
   },
   {
    "duration": 36,
    "start_time": "2021-12-29T18:04:23.826Z"
   },
   {
    "duration": 5,
    "start_time": "2021-12-29T18:04:23.864Z"
   },
   {
    "duration": 28,
    "start_time": "2021-12-29T18:04:23.871Z"
   },
   {
    "duration": 65,
    "start_time": "2021-12-29T18:04:23.901Z"
   },
   {
    "duration": 7,
    "start_time": "2021-12-29T18:04:23.968Z"
   },
   {
    "duration": 9,
    "start_time": "2021-12-29T18:04:51.944Z"
   },
   {
    "duration": 20,
    "start_time": "2021-12-29T18:04:52.544Z"
   },
   {
    "duration": 6,
    "start_time": "2021-12-29T18:04:53.786Z"
   },
   {
    "duration": 9,
    "start_time": "2021-12-29T18:05:03.340Z"
   },
   {
    "duration": 16,
    "start_time": "2021-12-29T18:05:03.922Z"
   },
   {
    "duration": 8,
    "start_time": "2021-12-29T18:05:04.681Z"
   },
   {
    "duration": 14,
    "start_time": "2021-12-29T18:05:09.361Z"
   },
   {
    "duration": 21,
    "start_time": "2021-12-29T18:05:10.193Z"
   },
   {
    "duration": 8,
    "start_time": "2021-12-29T18:05:11.097Z"
   },
   {
    "duration": 14,
    "start_time": "2021-12-29T18:05:16.190Z"
   },
   {
    "duration": 16,
    "start_time": "2021-12-29T18:05:17.485Z"
   },
   {
    "duration": 7,
    "start_time": "2021-12-29T18:05:17.505Z"
   },
   {
    "duration": 6,
    "start_time": "2021-12-29T18:05:21.981Z"
   },
   {
    "duration": 10,
    "start_time": "2021-12-29T18:05:22.159Z"
   },
   {
    "duration": 18,
    "start_time": "2021-12-29T18:05:22.420Z"
   },
   {
    "duration": 8,
    "start_time": "2021-12-29T18:05:22.669Z"
   },
   {
    "duration": 14,
    "start_time": "2021-12-29T18:05:35.360Z"
   },
   {
    "duration": 19,
    "start_time": "2021-12-29T18:05:35.845Z"
   },
   {
    "duration": 6,
    "start_time": "2021-12-29T18:05:37.238Z"
   },
   {
    "duration": 9,
    "start_time": "2021-12-29T18:05:39.596Z"
   },
   {
    "duration": 16,
    "start_time": "2021-12-29T18:05:40.125Z"
   },
   {
    "duration": 5,
    "start_time": "2021-12-29T18:05:40.950Z"
   },
   {
    "duration": 10,
    "start_time": "2021-12-29T18:05:46.781Z"
   },
   {
    "duration": 18,
    "start_time": "2021-12-29T18:05:47.374Z"
   },
   {
    "duration": 6,
    "start_time": "2021-12-29T18:05:48.381Z"
   },
   {
    "duration": 9,
    "start_time": "2021-12-29T18:05:55.412Z"
   },
   {
    "duration": 17,
    "start_time": "2021-12-29T18:05:56.047Z"
   },
   {
    "duration": 5,
    "start_time": "2021-12-29T18:05:56.833Z"
   },
   {
    "duration": 15,
    "start_time": "2021-12-29T18:06:01.166Z"
   },
   {
    "duration": 17,
    "start_time": "2021-12-29T18:06:01.722Z"
   },
   {
    "duration": 6,
    "start_time": "2021-12-29T18:06:02.413Z"
   },
   {
    "duration": 11,
    "start_time": "2021-12-29T18:06:06.078Z"
   },
   {
    "duration": 15,
    "start_time": "2021-12-29T18:06:06.559Z"
   },
   {
    "duration": 7,
    "start_time": "2021-12-29T18:06:07.163Z"
   },
   {
    "duration": 9,
    "start_time": "2021-12-29T18:06:12.644Z"
   },
   {
    "duration": 15,
    "start_time": "2021-12-29T18:06:13.159Z"
   },
   {
    "duration": 5,
    "start_time": "2021-12-29T18:06:13.774Z"
   },
   {
    "duration": 10,
    "start_time": "2021-12-29T18:06:16.642Z"
   },
   {
    "duration": 14,
    "start_time": "2021-12-29T18:06:17.099Z"
   },
   {
    "duration": 5,
    "start_time": "2021-12-29T18:06:17.691Z"
   },
   {
    "duration": 14,
    "start_time": "2021-12-29T18:06:22.527Z"
   },
   {
    "duration": 17,
    "start_time": "2021-12-29T18:06:22.884Z"
   },
   {
    "duration": 5,
    "start_time": "2021-12-29T18:06:23.414Z"
   },
   {
    "duration": 9,
    "start_time": "2021-12-29T18:06:26.611Z"
   },
   {
    "duration": 16,
    "start_time": "2021-12-29T18:06:27.030Z"
   },
   {
    "duration": 6,
    "start_time": "2021-12-29T18:06:27.617Z"
   },
   {
    "duration": 10,
    "start_time": "2021-12-29T18:06:30.152Z"
   },
   {
    "duration": 16,
    "start_time": "2021-12-29T18:06:30.493Z"
   },
   {
    "duration": 7,
    "start_time": "2021-12-29T18:06:31.324Z"
   },
   {
    "duration": 11,
    "start_time": "2021-12-29T18:06:34.059Z"
   },
   {
    "duration": 18,
    "start_time": "2021-12-29T18:06:34.401Z"
   },
   {
    "duration": 5,
    "start_time": "2021-12-29T18:06:34.949Z"
   },
   {
    "duration": 9,
    "start_time": "2021-12-29T18:06:37.632Z"
   },
   {
    "duration": 15,
    "start_time": "2021-12-29T18:06:37.948Z"
   },
   {
    "duration": 7,
    "start_time": "2021-12-29T18:06:38.562Z"
   },
   {
    "duration": 14,
    "start_time": "2021-12-29T18:06:41.106Z"
   },
   {
    "duration": 21,
    "start_time": "2021-12-29T18:06:41.443Z"
   },
   {
    "duration": 7,
    "start_time": "2021-12-29T18:06:42.080Z"
   },
   {
    "duration": 12,
    "start_time": "2021-12-29T18:06:46.190Z"
   },
   {
    "duration": 20,
    "start_time": "2021-12-29T18:06:46.500Z"
   },
   {
    "duration": 5,
    "start_time": "2021-12-29T18:06:47.100Z"
   },
   {
    "duration": 10,
    "start_time": "2021-12-29T18:06:51.073Z"
   },
   {
    "duration": 14,
    "start_time": "2021-12-29T18:06:51.396Z"
   },
   {
    "duration": 5,
    "start_time": "2021-12-29T18:06:52.010Z"
   },
   {
    "duration": 9,
    "start_time": "2021-12-29T18:06:56.592Z"
   },
   {
    "duration": 14,
    "start_time": "2021-12-29T18:06:56.947Z"
   },
   {
    "duration": 6,
    "start_time": "2021-12-29T18:06:57.640Z"
   },
   {
    "duration": -594,
    "start_time": "2021-12-29T18:10:58.318Z"
   },
   {
    "duration": 3918473,
    "start_time": "2021-12-29T18:11:00.677Z"
   },
   {
    "duration": -577,
    "start_time": "2021-12-29T19:16:19.729Z"
   },
   {
    "duration": 75,
    "start_time": "2021-12-29T19:16:24.295Z"
   },
   {
    "duration": 15,
    "start_time": "2021-12-29T19:17:28.775Z"
   },
   {
    "duration": 5,
    "start_time": "2021-12-29T19:24:47.189Z"
   },
   {
    "duration": 1588,
    "start_time": "2021-12-29T19:27:57.199Z"
   },
   {
    "duration": 52,
    "start_time": "2021-12-29T19:27:58.789Z"
   },
   {
    "duration": 9,
    "start_time": "2021-12-29T19:27:58.844Z"
   },
   {
    "duration": 15,
    "start_time": "2021-12-29T19:27:58.855Z"
   },
   {
    "duration": 9,
    "start_time": "2021-12-29T19:27:58.871Z"
   },
   {
    "duration": 10,
    "start_time": "2021-12-29T19:27:58.882Z"
   },
   {
    "duration": 11,
    "start_time": "2021-12-29T19:27:58.894Z"
   },
   {
    "duration": 8,
    "start_time": "2021-12-29T19:27:58.908Z"
   },
   {
    "duration": 9,
    "start_time": "2021-12-29T19:27:58.917Z"
   },
   {
    "duration": 4,
    "start_time": "2021-12-29T19:27:58.961Z"
   },
   {
    "duration": 9,
    "start_time": "2021-12-29T19:27:58.967Z"
   },
   {
    "duration": 401,
    "start_time": "2021-12-29T19:27:58.978Z"
   },
   {
    "duration": -586,
    "start_time": "2021-12-29T19:27:59.967Z"
   },
   {
    "duration": 1142,
    "start_time": "2021-12-29T19:28:25.137Z"
   },
   {
    "duration": 41,
    "start_time": "2021-12-29T19:28:26.281Z"
   },
   {
    "duration": 7,
    "start_time": "2021-12-29T19:28:26.324Z"
   },
   {
    "duration": 16,
    "start_time": "2021-12-29T19:28:26.333Z"
   },
   {
    "duration": 15,
    "start_time": "2021-12-29T19:28:26.351Z"
   },
   {
    "duration": 11,
    "start_time": "2021-12-29T19:28:26.368Z"
   },
   {
    "duration": 14,
    "start_time": "2021-12-29T19:28:26.381Z"
   },
   {
    "duration": 10,
    "start_time": "2021-12-29T19:28:26.396Z"
   },
   {
    "duration": 7,
    "start_time": "2021-12-29T19:28:26.408Z"
   },
   {
    "duration": 7,
    "start_time": "2021-12-29T19:28:26.417Z"
   },
   {
    "duration": 7,
    "start_time": "2021-12-29T19:28:26.426Z"
   },
   {
    "duration": 404,
    "start_time": "2021-12-29T19:28:26.435Z"
   },
   {
    "duration": -576,
    "start_time": "2021-12-29T19:28:27.418Z"
   },
   {
    "duration": 1107,
    "start_time": "2021-12-29T19:28:39.673Z"
   },
   {
    "duration": 41,
    "start_time": "2021-12-29T19:28:40.782Z"
   },
   {
    "duration": 8,
    "start_time": "2021-12-29T19:28:40.827Z"
   },
   {
    "duration": 30,
    "start_time": "2021-12-29T19:28:40.836Z"
   },
   {
    "duration": 17,
    "start_time": "2021-12-29T19:28:40.868Z"
   },
   {
    "duration": 22,
    "start_time": "2021-12-29T19:28:40.886Z"
   },
   {
    "duration": 27,
    "start_time": "2021-12-29T19:28:40.910Z"
   },
   {
    "duration": 18,
    "start_time": "2021-12-29T19:28:40.939Z"
   },
   {
    "duration": 10,
    "start_time": "2021-12-29T19:28:40.959Z"
   },
   {
    "duration": 29,
    "start_time": "2021-12-29T19:28:40.970Z"
   },
   {
    "duration": 18,
    "start_time": "2021-12-29T19:28:41.001Z"
   },
   {
    "duration": 324529,
    "start_time": "2021-12-29T19:28:41.020Z"
   },
   {
    "duration": -591,
    "start_time": "2021-12-29T19:34:06.142Z"
   },
   {
    "duration": 4,
    "start_time": "2021-12-29T19:34:32.526Z"
   },
   {
    "duration": 1046,
    "start_time": "2021-12-29T19:43:22.861Z"
   },
   {
    "duration": 40,
    "start_time": "2021-12-29T19:43:23.909Z"
   },
   {
    "duration": 9,
    "start_time": "2021-12-29T19:43:23.951Z"
   },
   {
    "duration": 26,
    "start_time": "2021-12-29T19:43:23.962Z"
   },
   {
    "duration": 8,
    "start_time": "2021-12-29T19:43:23.990Z"
   },
   {
    "duration": 15,
    "start_time": "2021-12-29T19:43:24.000Z"
   },
   {
    "duration": 32,
    "start_time": "2021-12-29T19:43:24.017Z"
   },
   {
    "duration": 13,
    "start_time": "2021-12-29T19:43:24.051Z"
   },
   {
    "duration": 23,
    "start_time": "2021-12-29T19:43:24.066Z"
   },
   {
    "duration": 15,
    "start_time": "2021-12-29T19:43:24.091Z"
   },
   {
    "duration": 39,
    "start_time": "2021-12-29T19:43:24.107Z"
   },
   {
    "duration": 17032190,
    "start_time": "2021-12-29T19:43:24.148Z"
   },
   {
    "duration": -491,
    "start_time": "2021-12-30T00:27:16.831Z"
   },
   {
    "duration": 1085,
    "start_time": "2021-12-30T00:27:33.600Z"
   },
   {
    "duration": 41,
    "start_time": "2021-12-30T00:27:34.687Z"
   },
   {
    "duration": 7,
    "start_time": "2021-12-30T00:27:34.733Z"
   },
   {
    "duration": 23,
    "start_time": "2021-12-30T00:27:34.741Z"
   },
   {
    "duration": 9,
    "start_time": "2021-12-30T00:27:34.766Z"
   },
   {
    "duration": 10,
    "start_time": "2021-12-30T00:27:34.777Z"
   },
   {
    "duration": 13,
    "start_time": "2021-12-30T00:27:34.789Z"
   },
   {
    "duration": 12,
    "start_time": "2021-12-30T00:27:34.805Z"
   },
   {
    "duration": 15,
    "start_time": "2021-12-30T00:27:34.819Z"
   },
   {
    "duration": 25,
    "start_time": "2021-12-30T00:27:34.836Z"
   },
   {
    "duration": 4,
    "start_time": "2021-12-30T00:27:34.863Z"
   },
   {
    "duration": 10857898,
    "start_time": "2021-12-30T00:27:34.869Z"
   },
   {
    "duration": 94,
    "start_time": "2021-12-30T03:28:32.770Z"
   },
   {
    "duration": 5,
    "start_time": "2021-12-30T03:55:11.079Z"
   },
   {
    "duration": 323,
    "start_time": "2021-12-30T03:56:08.568Z"
   },
   {
    "duration": 5,
    "start_time": "2021-12-30T03:57:02.381Z"
   },
   {
    "duration": 106,
    "start_time": "2021-12-30T04:00:18.461Z"
   },
   {
    "duration": 52,
    "start_time": "2021-12-30T04:00:59.488Z"
   },
   {
    "duration": 4,
    "start_time": "2021-12-30T14:06:15.614Z"
   },
   {
    "duration": 3,
    "start_time": "2021-12-30T16:25:49.253Z"
   },
   {
    "duration": 38,
    "start_time": "2021-12-30T16:25:49.785Z"
   },
   {
    "duration": 8,
    "start_time": "2021-12-30T16:25:50.219Z"
   },
   {
    "duration": 10,
    "start_time": "2021-12-30T16:25:50.694Z"
   },
   {
    "duration": 9,
    "start_time": "2021-12-30T16:25:52.422Z"
   },
   {
    "duration": 10,
    "start_time": "2021-12-30T16:25:54.134Z"
   },
   {
    "duration": 17,
    "start_time": "2021-12-30T16:25:54.243Z"
   },
   {
    "duration": 9,
    "start_time": "2021-12-30T16:25:55.872Z"
   },
   {
    "duration": 5,
    "start_time": "2021-12-30T16:25:58.144Z"
   },
   {
    "duration": 6,
    "start_time": "2021-12-30T16:25:59.668Z"
   },
   {
    "duration": 4,
    "start_time": "2021-12-30T16:26:04.703Z"
   },
   {
    "duration": -259,
    "start_time": "2021-12-30T16:27:11.387Z"
   },
   {
    "duration": 66674,
    "start_time": "2021-12-30T16:27:12.294Z"
   },
   {
    "duration": 137075,
    "start_time": "2021-12-30T16:28:20.290Z"
   },
   {
    "duration": 18,
    "start_time": "2021-12-30T16:36:41.496Z"
   },
   {
    "duration": 376,
    "start_time": "2021-12-30T16:45:13.903Z"
   },
   {
    "duration": 295,
    "start_time": "2021-12-30T16:45:25.067Z"
   },
   {
    "duration": 399,
    "start_time": "2021-12-30T16:46:18.136Z"
   },
   {
    "duration": 1548,
    "start_time": "2021-12-30T16:46:32.372Z"
   },
   {
    "duration": 1641,
    "start_time": "2021-12-30T16:46:48.453Z"
   },
   {
    "duration": 4764,
    "start_time": "2021-12-30T16:47:29.375Z"
   },
   {
    "duration": 5119,
    "start_time": "2021-12-30T16:47:45.497Z"
   },
   {
    "duration": 4791,
    "start_time": "2021-12-30T16:47:54.386Z"
   },
   {
    "duration": 4715,
    "start_time": "2021-12-30T16:48:38.410Z"
   },
   {
    "duration": 515,
    "start_time": "2021-12-30T16:51:49.731Z"
   },
   {
    "duration": 10,
    "start_time": "2021-12-30T16:52:37.743Z"
   },
   {
    "duration": 12481,
    "start_time": "2021-12-30T16:52:43.085Z"
   },
   {
    "duration": 12588,
    "start_time": "2021-12-30T16:53:23.578Z"
   },
   {
    "duration": 48045,
    "start_time": "2021-12-30T16:53:45.688Z"
   },
   {
    "duration": 251,
    "start_time": "2021-12-30T16:58:58.594Z"
   },
   {
    "duration": 80,
    "start_time": "2021-12-30T16:59:17.855Z"
   },
   {
    "duration": 6508,
    "start_time": "2021-12-30T16:59:22.701Z"
   },
   {
    "duration": 3,
    "start_time": "2021-12-30T16:59:45.386Z"
   },
   {
    "duration": 33,
    "start_time": "2021-12-30T16:59:45.906Z"
   },
   {
    "duration": 7,
    "start_time": "2021-12-30T16:59:46.516Z"
   },
   {
    "duration": 10,
    "start_time": "2021-12-30T16:59:47.085Z"
   },
   {
    "duration": 8,
    "start_time": "2021-12-30T16:59:48.811Z"
   },
   {
    "duration": 9,
    "start_time": "2021-12-30T16:59:49.312Z"
   },
   {
    "duration": 14,
    "start_time": "2021-12-30T16:59:49.727Z"
   },
   {
    "duration": 7,
    "start_time": "2021-12-30T16:59:51.926Z"
   },
   {
    "duration": 4,
    "start_time": "2021-12-30T16:59:54.688Z"
   },
   {
    "duration": 252,
    "start_time": "2021-12-30T16:59:56.099Z"
   },
   {
    "duration": 262,
    "start_time": "2021-12-30T17:01:10.298Z"
   },
   {
    "duration": 266,
    "start_time": "2021-12-30T17:01:27.856Z"
   },
   {
    "duration": 397,
    "start_time": "2021-12-30T17:01:38.010Z"
   },
   {
    "duration": 396,
    "start_time": "2021-12-30T17:01:41.046Z"
   },
   {
    "duration": 392,
    "start_time": "2021-12-30T17:02:01.335Z"
   },
   {
    "duration": 190,
    "start_time": "2021-12-30T17:02:32.859Z"
   },
   {
    "duration": 510,
    "start_time": "2021-12-30T17:03:09.212Z"
   },
   {
    "duration": 348,
    "start_time": "2021-12-30T17:04:15.341Z"
   },
   {
    "duration": 3140,
    "start_time": "2021-12-30T17:04:40.663Z"
   },
   {
    "duration": 250,
    "start_time": "2021-12-30T17:04:45.252Z"
   },
   {
    "duration": 278,
    "start_time": "2021-12-30T17:05:01.529Z"
   },
   {
    "duration": 269,
    "start_time": "2021-12-30T17:05:44.809Z"
   },
   {
    "duration": 172,
    "start_time": "2021-12-30T17:07:57.266Z"
   },
   {
    "duration": 273,
    "start_time": "2021-12-30T17:11:01.118Z"
   },
   {
    "duration": 16,
    "start_time": "2021-12-30T17:12:09.604Z"
   },
   {
    "duration": 5,
    "start_time": "2021-12-30T17:18:42.612Z"
   },
   {
    "duration": 4,
    "start_time": "2021-12-30T17:19:42.404Z"
   },
   {
    "duration": 3,
    "start_time": "2021-12-30T17:19:53.113Z"
   },
   {
    "duration": 512,
    "start_time": "2021-12-30T17:20:48.871Z"
   },
   {
    "duration": 4,
    "start_time": "2021-12-30T17:21:10.483Z"
   },
   {
    "duration": 4,
    "start_time": "2021-12-30T17:21:15.856Z"
   },
   {
    "duration": 3,
    "start_time": "2021-12-30T17:21:16.021Z"
   },
   {
    "duration": 9384,
    "start_time": "2021-12-30T17:21:16.282Z"
   },
   {
    "duration": 86,
    "start_time": "2021-12-30T17:22:16.156Z"
   },
   {
    "duration": 8768,
    "start_time": "2021-12-30T17:22:16.695Z"
   },
   {
    "duration": 3,
    "start_time": "2021-12-30T17:22:25.465Z"
   },
   {
    "duration": 71986,
    "start_time": "2021-12-30T17:22:28.002Z"
   },
   {
    "duration": 3,
    "start_time": "2021-12-30T17:23:48.378Z"
   },
   {
    "duration": 29284,
    "start_time": "2021-12-30T17:23:48.684Z"
   },
   {
    "duration": 3,
    "start_time": "2021-12-30T17:24:25.118Z"
   },
   {
    "duration": 27294,
    "start_time": "2021-12-30T17:24:25.969Z"
   },
   {
    "duration": 3,
    "start_time": "2021-12-30T17:25:04.016Z"
   },
   {
    "duration": 48168,
    "start_time": "2021-12-30T17:25:05.796Z"
   },
   {
    "duration": 127,
    "start_time": "2021-12-30T17:45:03.489Z"
   },
   {
    "duration": 55,
    "start_time": "2021-12-30T17:45:27.797Z"
   },
   {
    "duration": 56,
    "start_time": "2021-12-30T17:45:37.334Z"
   },
   {
    "duration": 56,
    "start_time": "2021-12-30T17:46:18.496Z"
   },
   {
    "duration": 56,
    "start_time": "2021-12-30T17:47:03.376Z"
   },
   {
    "duration": 4,
    "start_time": "2021-12-30T17:47:58.793Z"
   },
   {
    "duration": 34,
    "start_time": "2021-12-30T17:47:59.084Z"
   },
   {
    "duration": 9,
    "start_time": "2021-12-30T17:47:59.185Z"
   },
   {
    "duration": 11,
    "start_time": "2021-12-30T17:47:59.313Z"
   },
   {
    "duration": 9,
    "start_time": "2021-12-30T17:47:59.543Z"
   },
   {
    "duration": 10,
    "start_time": "2021-12-30T17:48:00.250Z"
   },
   {
    "duration": 13,
    "start_time": "2021-12-30T17:48:00.509Z"
   },
   {
    "duration": 7,
    "start_time": "2021-12-30T17:48:00.912Z"
   },
   {
    "duration": 5,
    "start_time": "2021-12-30T17:48:01.507Z"
   },
   {
    "duration": 182,
    "start_time": "2021-12-30T17:48:02.420Z"
   },
   {
    "duration": 271,
    "start_time": "2021-12-30T17:48:02.797Z"
   },
   {
    "duration": 330,
    "start_time": "2021-12-30T17:48:04.788Z"
   },
   {
    "duration": 4,
    "start_time": "2021-12-30T17:48:05.119Z"
   },
   {
    "duration": 4,
    "start_time": "2021-12-30T17:48:07.788Z"
   },
   {
    "duration": -228,
    "start_time": "2021-12-30T17:48:28.882Z"
   },
   {
    "duration": 140400,
    "start_time": "2021-12-30T17:48:30.163Z"
   },
   {
    "duration": 58,
    "start_time": "2021-12-30T17:51:09.388Z"
   },
   {
    "duration": 4706,
    "start_time": "2021-12-30T17:51:31.060Z"
   },
   {
    "duration": 56,
    "start_time": "2021-12-30T17:51:42.702Z"
   },
   {
    "duration": 48908,
    "start_time": "2021-12-30T17:51:50.131Z"
   },
   {
    "duration": 52,
    "start_time": "2021-12-30T17:52:50.917Z"
   },
   {
    "duration": 3,
    "start_time": "2021-12-30T17:52:59.481Z"
   },
   {
    "duration": 4,
    "start_time": "2021-12-30T17:53:00.091Z"
   },
   {
    "duration": 55,
    "start_time": "2021-12-30T17:53:05.408Z"
   },
   {
    "duration": 42285,
    "start_time": "2021-12-30T17:53:08.984Z"
   },
   {
    "duration": 56,
    "start_time": "2021-12-30T17:53:58.738Z"
   },
   {
    "duration": 446,
    "start_time": "2021-12-30T17:59:01.118Z"
   },
   {
    "duration": 10733,
    "start_time": "2021-12-30T17:59:58.484Z"
   },
   {
    "duration": 5,
    "start_time": "2021-12-30T18:02:07.713Z"
   },
   {
    "duration": 4,
    "start_time": "2021-12-30T18:02:13.911Z"
   },
   {
    "duration": 33,
    "start_time": "2021-12-30T18:02:14.122Z"
   },
   {
    "duration": 10,
    "start_time": "2021-12-30T18:02:14.604Z"
   },
   {
    "duration": 9,
    "start_time": "2021-12-30T18:02:14.634Z"
   },
   {
    "duration": 8,
    "start_time": "2021-12-30T18:02:14.698Z"
   },
   {
    "duration": 9,
    "start_time": "2021-12-30T18:02:15.244Z"
   },
   {
    "duration": 13,
    "start_time": "2021-12-30T18:02:15.616Z"
   },
   {
    "duration": 7,
    "start_time": "2021-12-30T18:02:16.165Z"
   },
   {
    "duration": 5,
    "start_time": "2021-12-30T18:02:17.421Z"
   },
   {
    "duration": 204,
    "start_time": "2021-12-30T18:02:18.781Z"
   },
   {
    "duration": 257,
    "start_time": "2021-12-30T18:02:19.331Z"
   },
   {
    "duration": 262,
    "start_time": "2021-12-30T18:02:20.483Z"
   },
   {
    "duration": 5,
    "start_time": "2021-12-30T18:02:21.974Z"
   },
   {
    "duration": 4,
    "start_time": "2021-12-30T18:02:24.062Z"
   },
   {
    "duration": 147576,
    "start_time": "2021-12-30T18:02:32.290Z"
   },
   {
    "duration": 5024,
    "start_time": "2021-12-30T18:04:59.869Z"
   },
   {
    "duration": 47857,
    "start_time": "2021-12-30T18:05:04.896Z"
   },
   {
    "duration": 4,
    "start_time": "2021-12-30T18:05:52.760Z"
   },
   {
    "duration": 7,
    "start_time": "2021-12-30T18:05:52.766Z"
   },
   {
    "duration": 47787,
    "start_time": "2021-12-30T18:05:52.774Z"
   },
   {
    "duration": 400,
    "start_time": "2021-12-30T18:06:40.563Z"
   },
   {
    "duration": 488,
    "start_time": "2021-12-30T18:17:09.201Z"
   },
   {
    "duration": 465,
    "start_time": "2021-12-30T18:17:59.143Z"
   },
   {
    "duration": 235,
    "start_time": "2021-12-30T18:18:21.099Z"
   },
   {
    "duration": 245,
    "start_time": "2021-12-30T18:24:07.432Z"
   },
   {
    "duration": 244,
    "start_time": "2021-12-30T18:26:32.409Z"
   },
   {
    "duration": 246,
    "start_time": "2021-12-30T18:26:50.964Z"
   },
   {
    "duration": 250,
    "start_time": "2021-12-30T18:27:31.752Z"
   },
   {
    "duration": 252,
    "start_time": "2021-12-30T18:27:39.479Z"
   },
   {
    "duration": 239,
    "start_time": "2021-12-30T18:28:49.993Z"
   },
   {
    "duration": 251,
    "start_time": "2021-12-30T18:29:12.868Z"
   },
   {
    "duration": 485,
    "start_time": "2021-12-30T18:31:10.276Z"
   },
   {
    "duration": 470,
    "start_time": "2021-12-30T18:32:32.015Z"
   },
   {
    "duration": 510,
    "start_time": "2021-12-30T18:33:30.867Z"
   },
   {
    "duration": 415,
    "start_time": "2021-12-30T18:34:08.790Z"
   },
   {
    "duration": 405,
    "start_time": "2021-12-30T18:36:25.668Z"
   },
   {
    "duration": 208,
    "start_time": "2021-12-30T18:36:44.959Z"
   },
   {
    "duration": 269,
    "start_time": "2021-12-30T18:37:35.920Z"
   },
   {
    "duration": 303,
    "start_time": "2021-12-30T18:38:06.540Z"
   },
   {
    "duration": 290,
    "start_time": "2021-12-30T18:39:04.774Z"
   },
   {
    "duration": 275,
    "start_time": "2021-12-30T18:39:18.006Z"
   },
   {
    "duration": 254,
    "start_time": "2021-12-30T18:39:25.129Z"
   },
   {
    "duration": 5,
    "start_time": "2021-12-30T18:40:57.498Z"
   }
  ],
  "kernelspec": {
   "display_name": "Python 3 (ipykernel)",
   "language": "python",
   "name": "python3"
  },
  "language_info": {
   "codemirror_mode": {
    "name": "ipython",
    "version": 3
   },
   "file_extension": ".py",
   "mimetype": "text/x-python",
   "name": "python",
   "nbconvert_exporter": "python",
   "pygments_lexer": "ipython3",
   "version": "3.9.7"
  },
  "toc": {
   "base_numbering": 1,
   "nav_menu": {},
   "number_sections": true,
   "sideBar": true,
   "skip_h1_title": true,
   "title_cell": "Содержание",
   "title_sidebar": "Contents",
   "toc_cell": true,
   "toc_position": {},
   "toc_section_display": true,
   "toc_window_display": false
  }
 },
 "nbformat": 4,
 "nbformat_minor": 4
}
