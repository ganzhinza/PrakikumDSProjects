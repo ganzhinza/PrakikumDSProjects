{
 "cells": [
  {
   "cell_type": "markdown",
   "metadata": {
    "toc": true
   },
   "source": [
    "<h1>Table of Contents<span class=\"tocSkip\"></span></h1>\n",
    "<div class=\"toc\"><ul class=\"toc-item\"><li><span><a href=\"#Изучение-данных-из-файлов\" data-toc-modified-id=\"Изучение-данных-из-файлов-1\"><span class=\"toc-item-num\">1&nbsp;&nbsp;</span>Изучение данных из файлов</a></span></li><li><span><a href=\"#Предобработка-данных\" data-toc-modified-id=\"Предобработка-данных-2\"><span class=\"toc-item-num\">2&nbsp;&nbsp;</span>Предобработка данных</a></span><ul class=\"toc-item\"><li><span><a href=\"#Обработка-дубликатов\" data-toc-modified-id=\"Обработка-дубликатов-2.1\"><span class=\"toc-item-num\">2.1&nbsp;&nbsp;</span>Обработка дубликатов</a></span></li><li><span><a href=\"#Изменение-типов-данных\" data-toc-modified-id=\"Изменение-типов-данных-2.2\"><span class=\"toc-item-num\">2.2&nbsp;&nbsp;</span>Изменение типов данных</a></span></li><li><span><a href=\"#Подготовка-данных\" data-toc-modified-id=\"Подготовка-данных-2.3\"><span class=\"toc-item-num\">2.3&nbsp;&nbsp;</span>Подготовка данных</a></span></li></ul></li><li><span><a href=\"#Подсчёт-выручки\" data-toc-modified-id=\"Подсчёт-выручки-3\"><span class=\"toc-item-num\">3&nbsp;&nbsp;</span>Подсчёт выручки</a></span></li><li><span><a href=\"#Анализ-данных\" data-toc-modified-id=\"Анализ-данных-4\"><span class=\"toc-item-num\">4&nbsp;&nbsp;</span>Анализ данных</a></span><ul class=\"toc-item\"><li><span><a href=\"#Анализ-тарифа-&quot;Смарт&quot;\" data-toc-modified-id=\"Анализ-тарифа-&quot;Смарт&quot;-4.1\"><span class=\"toc-item-num\">4.1&nbsp;&nbsp;</span>Анализ тарифа \"Смарт\"</a></span></li><li><span><a href=\"#Анализ-тарифа-&quot;Ультра&quot;\" data-toc-modified-id=\"Анализ-тарифа-&quot;Ультра&quot;-4.2\"><span class=\"toc-item-num\">4.2&nbsp;&nbsp;</span>Анализ тарифа \"Ультра\"</a></span></li></ul></li><li><span><a href=\"#Построение-и-проверка-гипотез\" data-toc-modified-id=\"Построение-и-проверка-гипотез-5\"><span class=\"toc-item-num\">5&nbsp;&nbsp;</span>Построение и проверка гипотез</a></span><ul class=\"toc-item\"><li><span><a href=\"#Проверка-гипотезы:-&quot;Пользователи-тарифа-&quot;Смарт&quot;-приносят-в-меньше-выручки,-чем-пользователи-тарифа-&quot;Ультра&quot;&quot;\" data-toc-modified-id=\"Проверка-гипотезы:-&quot;Пользователи-тарифа-&quot;Смарт&quot;-приносят-в-меньше-выручки,-чем-пользователи-тарифа-&quot;Ультра&quot;&quot;-5.1\"><span class=\"toc-item-num\">5.1&nbsp;&nbsp;</span>Проверка гипотезы: \"Пользователи тарифа \"Смарт\" приносят в меньше выручки, чем пользователи тарифа \"Ультра\"\"</a></span></li><li><span><a href=\"#Проверка-гипотезы:-&quot;Средняя-выручка-пользователи-из-Москвы-отличается-от-выручки-пользователей-из-других-регионов&quot;\" data-toc-modified-id=\"Проверка-гипотезы:-&quot;Средняя-выручка-пользователи-из-Москвы-отличается-от-выручки-пользователей-из-других-регионов&quot;-5.2\"><span class=\"toc-item-num\">5.2&nbsp;&nbsp;</span>Проверка гипотезы: \"Средняя выручка пользователи из Москвы отличается от выручки пользователей из других регионов\"</a></span></li></ul></li><li><span><a href=\"#Сравнение-динамики-суммарной-месячной-выручки\" data-toc-modified-id=\"Сравнение-динамики-суммарной-месячной-выручки-6\"><span class=\"toc-item-num\">6&nbsp;&nbsp;</span>Сравнение динамики суммарной месячной выручки</a></span></li><li><span><a href=\"#Общий-вывод\" data-toc-modified-id=\"Общий-вывод-7\"><span class=\"toc-item-num\">7&nbsp;&nbsp;</span>Общий вывод</a></span></li></ul></div>"
   ]
  },
  {
   "cell_type": "markdown",
   "metadata": {},
   "source": [
    "# Определение перспективного тарифа для телеком компании\n",
    "Чтобы скорректировать рекламный бюджет, коммерческий департамент хочет понять, какой тариф приносит больше денег.\n",
    "Наша задача состоит в том, чтобы сделать предварительный анализ тарифов на небольшой выборке клиентов. У нас есть выборка из 500 пользователей «Мегалайна»: кто они, откуда, каким тарифом пользуются, сколько звонков и сообщений каждый отправил за 2018 год. Нужно проанализировать поведение клиентов и сделать вывод — какой тариф лучше."
   ]
  },
  {
   "cell_type": "markdown",
   "metadata": {},
   "source": [
    "## Изучение данных из файлов"
   ]
  },
  {
   "cell_type": "code",
   "execution_count": 1,
   "metadata": {},
   "outputs": [],
   "source": [
    "import pandas as pd\n",
    "import matplotlib.pyplot as plt\n",
    "import math\n",
    "import numpy as np\n",
    "from scipy import stats as st"
   ]
  },
  {
   "cell_type": "code",
   "execution_count": 2,
   "metadata": {},
   "outputs": [
    {
     "data": {
      "text/html": [
       "<div>\n",
       "<style scoped>\n",
       "    .dataframe tbody tr th:only-of-type {\n",
       "        vertical-align: middle;\n",
       "    }\n",
       "\n",
       "    .dataframe tbody tr th {\n",
       "        vertical-align: top;\n",
       "    }\n",
       "\n",
       "    .dataframe thead th {\n",
       "        text-align: right;\n",
       "    }\n",
       "</style>\n",
       "<table border=\"1\" class=\"dataframe\">\n",
       "  <thead>\n",
       "    <tr style=\"text-align: right;\">\n",
       "      <th></th>\n",
       "      <th>id</th>\n",
       "      <th>call_date</th>\n",
       "      <th>duration</th>\n",
       "      <th>user_id</th>\n",
       "    </tr>\n",
       "  </thead>\n",
       "  <tbody>\n",
       "    <tr>\n",
       "      <td>0</td>\n",
       "      <td>1000_0</td>\n",
       "      <td>2018-07-25</td>\n",
       "      <td>0.00</td>\n",
       "      <td>1000</td>\n",
       "    </tr>\n",
       "    <tr>\n",
       "      <td>1</td>\n",
       "      <td>1000_1</td>\n",
       "      <td>2018-08-17</td>\n",
       "      <td>0.00</td>\n",
       "      <td>1000</td>\n",
       "    </tr>\n",
       "    <tr>\n",
       "      <td>2</td>\n",
       "      <td>1000_2</td>\n",
       "      <td>2018-06-11</td>\n",
       "      <td>2.85</td>\n",
       "      <td>1000</td>\n",
       "    </tr>\n",
       "    <tr>\n",
       "      <td>3</td>\n",
       "      <td>1000_3</td>\n",
       "      <td>2018-09-21</td>\n",
       "      <td>13.80</td>\n",
       "      <td>1000</td>\n",
       "    </tr>\n",
       "    <tr>\n",
       "      <td>4</td>\n",
       "      <td>1000_4</td>\n",
       "      <td>2018-12-15</td>\n",
       "      <td>5.18</td>\n",
       "      <td>1000</td>\n",
       "    </tr>\n",
       "    <tr>\n",
       "      <td>5</td>\n",
       "      <td>1000_5</td>\n",
       "      <td>2018-11-02</td>\n",
       "      <td>0.00</td>\n",
       "      <td>1000</td>\n",
       "    </tr>\n",
       "    <tr>\n",
       "      <td>6</td>\n",
       "      <td>1000_6</td>\n",
       "      <td>2018-10-18</td>\n",
       "      <td>0.00</td>\n",
       "      <td>1000</td>\n",
       "    </tr>\n",
       "    <tr>\n",
       "      <td>7</td>\n",
       "      <td>1000_7</td>\n",
       "      <td>2018-08-22</td>\n",
       "      <td>18.31</td>\n",
       "      <td>1000</td>\n",
       "    </tr>\n",
       "    <tr>\n",
       "      <td>8</td>\n",
       "      <td>1000_8</td>\n",
       "      <td>2018-09-15</td>\n",
       "      <td>18.44</td>\n",
       "      <td>1000</td>\n",
       "    </tr>\n",
       "    <tr>\n",
       "      <td>9</td>\n",
       "      <td>1000_9</td>\n",
       "      <td>2018-08-15</td>\n",
       "      <td>0.00</td>\n",
       "      <td>1000</td>\n",
       "    </tr>\n",
       "  </tbody>\n",
       "</table>\n",
       "</div>"
      ],
      "text/plain": [
       "       id   call_date  duration  user_id\n",
       "0  1000_0  2018-07-25      0.00     1000\n",
       "1  1000_1  2018-08-17      0.00     1000\n",
       "2  1000_2  2018-06-11      2.85     1000\n",
       "3  1000_3  2018-09-21     13.80     1000\n",
       "4  1000_4  2018-12-15      5.18     1000\n",
       "5  1000_5  2018-11-02      0.00     1000\n",
       "6  1000_6  2018-10-18      0.00     1000\n",
       "7  1000_7  2018-08-22     18.31     1000\n",
       "8  1000_8  2018-09-15     18.44     1000\n",
       "9  1000_9  2018-08-15      0.00     1000"
      ]
     },
     "execution_count": 2,
     "metadata": {},
     "output_type": "execute_result"
    }
   ],
   "source": [
    "calls = pd.read_csv(\"/datasets/calls.csv\")\n",
    "calls.head(10)"
   ]
  },
  {
   "cell_type": "code",
   "execution_count": 3,
   "metadata": {},
   "outputs": [
    {
     "name": "stdout",
     "output_type": "stream",
     "text": [
      "<class 'pandas.core.frame.DataFrame'>\n",
      "RangeIndex: 202607 entries, 0 to 202606\n",
      "Data columns (total 4 columns):\n",
      "id           202607 non-null object\n",
      "call_date    202607 non-null object\n",
      "duration     202607 non-null float64\n",
      "user_id      202607 non-null int64\n",
      "dtypes: float64(1), int64(1), object(2)\n",
      "memory usage: 6.2+ MB\n"
     ]
    }
   ],
   "source": [
    "calls.info()"
   ]
  },
  {
   "cell_type": "code",
   "execution_count": 4,
   "metadata": {},
   "outputs": [
    {
     "data": {
      "text/html": [
       "<div>\n",
       "<style scoped>\n",
       "    .dataframe tbody tr th:only-of-type {\n",
       "        vertical-align: middle;\n",
       "    }\n",
       "\n",
       "    .dataframe tbody tr th {\n",
       "        vertical-align: top;\n",
       "    }\n",
       "\n",
       "    .dataframe thead th {\n",
       "        text-align: right;\n",
       "    }\n",
       "</style>\n",
       "<table border=\"1\" class=\"dataframe\">\n",
       "  <thead>\n",
       "    <tr style=\"text-align: right;\">\n",
       "      <th></th>\n",
       "      <th>duration</th>\n",
       "      <th>user_id</th>\n",
       "    </tr>\n",
       "  </thead>\n",
       "  <tbody>\n",
       "    <tr>\n",
       "      <td>count</td>\n",
       "      <td>202607.000000</td>\n",
       "      <td>202607.000000</td>\n",
       "    </tr>\n",
       "    <tr>\n",
       "      <td>mean</td>\n",
       "      <td>6.755887</td>\n",
       "      <td>1253.940619</td>\n",
       "    </tr>\n",
       "    <tr>\n",
       "      <td>std</td>\n",
       "      <td>5.843365</td>\n",
       "      <td>144.722751</td>\n",
       "    </tr>\n",
       "    <tr>\n",
       "      <td>min</td>\n",
       "      <td>0.000000</td>\n",
       "      <td>1000.000000</td>\n",
       "    </tr>\n",
       "    <tr>\n",
       "      <td>25%</td>\n",
       "      <td>1.300000</td>\n",
       "      <td>1126.000000</td>\n",
       "    </tr>\n",
       "    <tr>\n",
       "      <td>50%</td>\n",
       "      <td>6.000000</td>\n",
       "      <td>1260.000000</td>\n",
       "    </tr>\n",
       "    <tr>\n",
       "      <td>75%</td>\n",
       "      <td>10.700000</td>\n",
       "      <td>1379.000000</td>\n",
       "    </tr>\n",
       "    <tr>\n",
       "      <td>max</td>\n",
       "      <td>38.000000</td>\n",
       "      <td>1499.000000</td>\n",
       "    </tr>\n",
       "  </tbody>\n",
       "</table>\n",
       "</div>"
      ],
      "text/plain": [
       "            duration        user_id\n",
       "count  202607.000000  202607.000000\n",
       "mean        6.755887    1253.940619\n",
       "std         5.843365     144.722751\n",
       "min         0.000000    1000.000000\n",
       "25%         1.300000    1126.000000\n",
       "50%         6.000000    1260.000000\n",
       "75%        10.700000    1379.000000\n",
       "max        38.000000    1499.000000"
      ]
     },
     "execution_count": 4,
     "metadata": {},
     "output_type": "execute_result"
    }
   ],
   "source": [
    "calls.describe()"
   ]
  },
  {
   "cell_type": "code",
   "execution_count": 5,
   "metadata": {},
   "outputs": [
    {
     "data": {
      "text/html": [
       "<div>\n",
       "<style scoped>\n",
       "    .dataframe tbody tr th:only-of-type {\n",
       "        vertical-align: middle;\n",
       "    }\n",
       "\n",
       "    .dataframe tbody tr th {\n",
       "        vertical-align: top;\n",
       "    }\n",
       "\n",
       "    .dataframe thead th {\n",
       "        text-align: right;\n",
       "    }\n",
       "</style>\n",
       "<table border=\"1\" class=\"dataframe\">\n",
       "  <thead>\n",
       "    <tr style=\"text-align: right;\">\n",
       "      <th></th>\n",
       "      <th>id</th>\n",
       "      <th>mb_used</th>\n",
       "      <th>session_date</th>\n",
       "      <th>user_id</th>\n",
       "    </tr>\n",
       "  </thead>\n",
       "  <tbody>\n",
       "    <tr>\n",
       "      <td>0</td>\n",
       "      <td>1000_0</td>\n",
       "      <td>112.95</td>\n",
       "      <td>2018-11-25</td>\n",
       "      <td>1000</td>\n",
       "    </tr>\n",
       "    <tr>\n",
       "      <td>1</td>\n",
       "      <td>1000_1</td>\n",
       "      <td>1052.81</td>\n",
       "      <td>2018-09-07</td>\n",
       "      <td>1000</td>\n",
       "    </tr>\n",
       "    <tr>\n",
       "      <td>2</td>\n",
       "      <td>1000_2</td>\n",
       "      <td>1197.26</td>\n",
       "      <td>2018-06-25</td>\n",
       "      <td>1000</td>\n",
       "    </tr>\n",
       "    <tr>\n",
       "      <td>3</td>\n",
       "      <td>1000_3</td>\n",
       "      <td>550.27</td>\n",
       "      <td>2018-08-22</td>\n",
       "      <td>1000</td>\n",
       "    </tr>\n",
       "    <tr>\n",
       "      <td>4</td>\n",
       "      <td>1000_4</td>\n",
       "      <td>302.56</td>\n",
       "      <td>2018-09-24</td>\n",
       "      <td>1000</td>\n",
       "    </tr>\n",
       "    <tr>\n",
       "      <td>5</td>\n",
       "      <td>1000_5</td>\n",
       "      <td>399.97</td>\n",
       "      <td>2018-10-02</td>\n",
       "      <td>1000</td>\n",
       "    </tr>\n",
       "    <tr>\n",
       "      <td>6</td>\n",
       "      <td>1000_6</td>\n",
       "      <td>540.08</td>\n",
       "      <td>2018-09-07</td>\n",
       "      <td>1000</td>\n",
       "    </tr>\n",
       "    <tr>\n",
       "      <td>7</td>\n",
       "      <td>1000_7</td>\n",
       "      <td>415.70</td>\n",
       "      <td>2018-07-11</td>\n",
       "      <td>1000</td>\n",
       "    </tr>\n",
       "    <tr>\n",
       "      <td>8</td>\n",
       "      <td>1000_8</td>\n",
       "      <td>505.40</td>\n",
       "      <td>2018-10-08</td>\n",
       "      <td>1000</td>\n",
       "    </tr>\n",
       "    <tr>\n",
       "      <td>9</td>\n",
       "      <td>1000_9</td>\n",
       "      <td>345.54</td>\n",
       "      <td>2018-09-03</td>\n",
       "      <td>1000</td>\n",
       "    </tr>\n",
       "  </tbody>\n",
       "</table>\n",
       "</div>"
      ],
      "text/plain": [
       "       id  mb_used session_date  user_id\n",
       "0  1000_0   112.95   2018-11-25     1000\n",
       "1  1000_1  1052.81   2018-09-07     1000\n",
       "2  1000_2  1197.26   2018-06-25     1000\n",
       "3  1000_3   550.27   2018-08-22     1000\n",
       "4  1000_4   302.56   2018-09-24     1000\n",
       "5  1000_5   399.97   2018-10-02     1000\n",
       "6  1000_6   540.08   2018-09-07     1000\n",
       "7  1000_7   415.70   2018-07-11     1000\n",
       "8  1000_8   505.40   2018-10-08     1000\n",
       "9  1000_9   345.54   2018-09-03     1000"
      ]
     },
     "execution_count": 5,
     "metadata": {},
     "output_type": "execute_result"
    }
   ],
   "source": [
    "internet_sessions = pd.read_csv(\"/datasets/internet.csv\", index_col = 0)\n",
    "internet_sessions.head(10)"
   ]
  },
  {
   "cell_type": "code",
   "execution_count": 6,
   "metadata": {},
   "outputs": [
    {
     "name": "stdout",
     "output_type": "stream",
     "text": [
      "<class 'pandas.core.frame.DataFrame'>\n",
      "Int64Index: 149396 entries, 0 to 149395\n",
      "Data columns (total 4 columns):\n",
      "id              149396 non-null object\n",
      "mb_used         149396 non-null float64\n",
      "session_date    149396 non-null object\n",
      "user_id         149396 non-null int64\n",
      "dtypes: float64(1), int64(1), object(2)\n",
      "memory usage: 5.7+ MB\n"
     ]
    }
   ],
   "source": [
    "internet_sessions.info()"
   ]
  },
  {
   "cell_type": "code",
   "execution_count": 7,
   "metadata": {},
   "outputs": [
    {
     "data": {
      "text/html": [
       "<div>\n",
       "<style scoped>\n",
       "    .dataframe tbody tr th:only-of-type {\n",
       "        vertical-align: middle;\n",
       "    }\n",
       "\n",
       "    .dataframe tbody tr th {\n",
       "        vertical-align: top;\n",
       "    }\n",
       "\n",
       "    .dataframe thead th {\n",
       "        text-align: right;\n",
       "    }\n",
       "</style>\n",
       "<table border=\"1\" class=\"dataframe\">\n",
       "  <thead>\n",
       "    <tr style=\"text-align: right;\">\n",
       "      <th></th>\n",
       "      <th>mb_used</th>\n",
       "      <th>user_id</th>\n",
       "    </tr>\n",
       "  </thead>\n",
       "  <tbody>\n",
       "    <tr>\n",
       "      <td>count</td>\n",
       "      <td>149396.000000</td>\n",
       "      <td>149396.000000</td>\n",
       "    </tr>\n",
       "    <tr>\n",
       "      <td>mean</td>\n",
       "      <td>370.192426</td>\n",
       "      <td>1252.099842</td>\n",
       "    </tr>\n",
       "    <tr>\n",
       "      <td>std</td>\n",
       "      <td>278.300951</td>\n",
       "      <td>144.050823</td>\n",
       "    </tr>\n",
       "    <tr>\n",
       "      <td>min</td>\n",
       "      <td>0.000000</td>\n",
       "      <td>1000.000000</td>\n",
       "    </tr>\n",
       "    <tr>\n",
       "      <td>25%</td>\n",
       "      <td>138.187500</td>\n",
       "      <td>1130.000000</td>\n",
       "    </tr>\n",
       "    <tr>\n",
       "      <td>50%</td>\n",
       "      <td>348.015000</td>\n",
       "      <td>1251.000000</td>\n",
       "    </tr>\n",
       "    <tr>\n",
       "      <td>75%</td>\n",
       "      <td>559.552500</td>\n",
       "      <td>1380.000000</td>\n",
       "    </tr>\n",
       "    <tr>\n",
       "      <td>max</td>\n",
       "      <td>1724.830000</td>\n",
       "      <td>1499.000000</td>\n",
       "    </tr>\n",
       "  </tbody>\n",
       "</table>\n",
       "</div>"
      ],
      "text/plain": [
       "             mb_used        user_id\n",
       "count  149396.000000  149396.000000\n",
       "mean      370.192426    1252.099842\n",
       "std       278.300951     144.050823\n",
       "min         0.000000    1000.000000\n",
       "25%       138.187500    1130.000000\n",
       "50%       348.015000    1251.000000\n",
       "75%       559.552500    1380.000000\n",
       "max      1724.830000    1499.000000"
      ]
     },
     "execution_count": 7,
     "metadata": {},
     "output_type": "execute_result"
    }
   ],
   "source": [
    "internet_sessions.describe()"
   ]
  },
  {
   "cell_type": "code",
   "execution_count": 8,
   "metadata": {},
   "outputs": [
    {
     "data": {
      "text/html": [
       "<div>\n",
       "<style scoped>\n",
       "    .dataframe tbody tr th:only-of-type {\n",
       "        vertical-align: middle;\n",
       "    }\n",
       "\n",
       "    .dataframe tbody tr th {\n",
       "        vertical-align: top;\n",
       "    }\n",
       "\n",
       "    .dataframe thead th {\n",
       "        text-align: right;\n",
       "    }\n",
       "</style>\n",
       "<table border=\"1\" class=\"dataframe\">\n",
       "  <thead>\n",
       "    <tr style=\"text-align: right;\">\n",
       "      <th></th>\n",
       "      <th>id</th>\n",
       "      <th>message_date</th>\n",
       "      <th>user_id</th>\n",
       "    </tr>\n",
       "  </thead>\n",
       "  <tbody>\n",
       "    <tr>\n",
       "      <td>0</td>\n",
       "      <td>1000_0</td>\n",
       "      <td>2018-06-27</td>\n",
       "      <td>1000</td>\n",
       "    </tr>\n",
       "    <tr>\n",
       "      <td>1</td>\n",
       "      <td>1000_1</td>\n",
       "      <td>2018-10-08</td>\n",
       "      <td>1000</td>\n",
       "    </tr>\n",
       "    <tr>\n",
       "      <td>2</td>\n",
       "      <td>1000_2</td>\n",
       "      <td>2018-08-04</td>\n",
       "      <td>1000</td>\n",
       "    </tr>\n",
       "    <tr>\n",
       "      <td>3</td>\n",
       "      <td>1000_3</td>\n",
       "      <td>2018-06-16</td>\n",
       "      <td>1000</td>\n",
       "    </tr>\n",
       "    <tr>\n",
       "      <td>4</td>\n",
       "      <td>1000_4</td>\n",
       "      <td>2018-12-05</td>\n",
       "      <td>1000</td>\n",
       "    </tr>\n",
       "    <tr>\n",
       "      <td>5</td>\n",
       "      <td>1000_5</td>\n",
       "      <td>2018-06-20</td>\n",
       "      <td>1000</td>\n",
       "    </tr>\n",
       "    <tr>\n",
       "      <td>6</td>\n",
       "      <td>1000_6</td>\n",
       "      <td>2018-11-19</td>\n",
       "      <td>1000</td>\n",
       "    </tr>\n",
       "    <tr>\n",
       "      <td>7</td>\n",
       "      <td>1000_7</td>\n",
       "      <td>2018-10-29</td>\n",
       "      <td>1000</td>\n",
       "    </tr>\n",
       "    <tr>\n",
       "      <td>8</td>\n",
       "      <td>1000_8</td>\n",
       "      <td>2018-06-25</td>\n",
       "      <td>1000</td>\n",
       "    </tr>\n",
       "    <tr>\n",
       "      <td>9</td>\n",
       "      <td>1000_9</td>\n",
       "      <td>2018-12-18</td>\n",
       "      <td>1000</td>\n",
       "    </tr>\n",
       "  </tbody>\n",
       "</table>\n",
       "</div>"
      ],
      "text/plain": [
       "       id message_date  user_id\n",
       "0  1000_0   2018-06-27     1000\n",
       "1  1000_1   2018-10-08     1000\n",
       "2  1000_2   2018-08-04     1000\n",
       "3  1000_3   2018-06-16     1000\n",
       "4  1000_4   2018-12-05     1000\n",
       "5  1000_5   2018-06-20     1000\n",
       "6  1000_6   2018-11-19     1000\n",
       "7  1000_7   2018-10-29     1000\n",
       "8  1000_8   2018-06-25     1000\n",
       "9  1000_9   2018-12-18     1000"
      ]
     },
     "execution_count": 8,
     "metadata": {},
     "output_type": "execute_result"
    }
   ],
   "source": [
    "messages = pd.read_csv(\"/datasets/messages.csv\")\n",
    "messages.head(10)"
   ]
  },
  {
   "cell_type": "code",
   "execution_count": 9,
   "metadata": {},
   "outputs": [
    {
     "name": "stdout",
     "output_type": "stream",
     "text": [
      "<class 'pandas.core.frame.DataFrame'>\n",
      "RangeIndex: 123036 entries, 0 to 123035\n",
      "Data columns (total 3 columns):\n",
      "id              123036 non-null object\n",
      "message_date    123036 non-null object\n",
      "user_id         123036 non-null int64\n",
      "dtypes: int64(1), object(2)\n",
      "memory usage: 2.8+ MB\n"
     ]
    }
   ],
   "source": [
    "messages.info()"
   ]
  },
  {
   "cell_type": "code",
   "execution_count": 10,
   "metadata": {},
   "outputs": [
    {
     "data": {
      "text/html": [
       "<div>\n",
       "<style scoped>\n",
       "    .dataframe tbody tr th:only-of-type {\n",
       "        vertical-align: middle;\n",
       "    }\n",
       "\n",
       "    .dataframe tbody tr th {\n",
       "        vertical-align: top;\n",
       "    }\n",
       "\n",
       "    .dataframe thead th {\n",
       "        text-align: right;\n",
       "    }\n",
       "</style>\n",
       "<table border=\"1\" class=\"dataframe\">\n",
       "  <thead>\n",
       "    <tr style=\"text-align: right;\">\n",
       "      <th></th>\n",
       "      <th>messages_included</th>\n",
       "      <th>mb_per_month_included</th>\n",
       "      <th>minutes_included</th>\n",
       "      <th>rub_monthly_fee</th>\n",
       "      <th>rub_per_gb</th>\n",
       "      <th>rub_per_message</th>\n",
       "      <th>rub_per_minute</th>\n",
       "      <th>tariff_name</th>\n",
       "    </tr>\n",
       "  </thead>\n",
       "  <tbody>\n",
       "    <tr>\n",
       "      <td>0</td>\n",
       "      <td>50</td>\n",
       "      <td>15360</td>\n",
       "      <td>500</td>\n",
       "      <td>550</td>\n",
       "      <td>200</td>\n",
       "      <td>3</td>\n",
       "      <td>3</td>\n",
       "      <td>smart</td>\n",
       "    </tr>\n",
       "    <tr>\n",
       "      <td>1</td>\n",
       "      <td>1000</td>\n",
       "      <td>30720</td>\n",
       "      <td>3000</td>\n",
       "      <td>1950</td>\n",
       "      <td>150</td>\n",
       "      <td>1</td>\n",
       "      <td>1</td>\n",
       "      <td>ultra</td>\n",
       "    </tr>\n",
       "  </tbody>\n",
       "</table>\n",
       "</div>"
      ],
      "text/plain": [
       "   messages_included  mb_per_month_included  minutes_included  \\\n",
       "0                 50                  15360               500   \n",
       "1               1000                  30720              3000   \n",
       "\n",
       "   rub_monthly_fee  rub_per_gb  rub_per_message  rub_per_minute tariff_name  \n",
       "0              550         200                3               3       smart  \n",
       "1             1950         150                1               1       ultra  "
      ]
     },
     "execution_count": 10,
     "metadata": {},
     "output_type": "execute_result"
    }
   ],
   "source": [
    "tariffs = pd.read_csv(\"/datasets/tariffs.csv\")\n",
    "tariffs"
   ]
  },
  {
   "cell_type": "code",
   "execution_count": 11,
   "metadata": {},
   "outputs": [
    {
     "data": {
      "text/html": [
       "<div>\n",
       "<style scoped>\n",
       "    .dataframe tbody tr th:only-of-type {\n",
       "        vertical-align: middle;\n",
       "    }\n",
       "\n",
       "    .dataframe tbody tr th {\n",
       "        vertical-align: top;\n",
       "    }\n",
       "\n",
       "    .dataframe thead th {\n",
       "        text-align: right;\n",
       "    }\n",
       "</style>\n",
       "<table border=\"1\" class=\"dataframe\">\n",
       "  <thead>\n",
       "    <tr style=\"text-align: right;\">\n",
       "      <th></th>\n",
       "      <th>user_id</th>\n",
       "      <th>age</th>\n",
       "      <th>churn_date</th>\n",
       "      <th>city</th>\n",
       "      <th>first_name</th>\n",
       "      <th>last_name</th>\n",
       "      <th>reg_date</th>\n",
       "      <th>tariff</th>\n",
       "    </tr>\n",
       "  </thead>\n",
       "  <tbody>\n",
       "    <tr>\n",
       "      <td>0</td>\n",
       "      <td>1000</td>\n",
       "      <td>52</td>\n",
       "      <td>NaN</td>\n",
       "      <td>Краснодар</td>\n",
       "      <td>Рафаил</td>\n",
       "      <td>Верещагин</td>\n",
       "      <td>2018-05-25</td>\n",
       "      <td>ultra</td>\n",
       "    </tr>\n",
       "    <tr>\n",
       "      <td>1</td>\n",
       "      <td>1001</td>\n",
       "      <td>41</td>\n",
       "      <td>NaN</td>\n",
       "      <td>Москва</td>\n",
       "      <td>Иван</td>\n",
       "      <td>Ежов</td>\n",
       "      <td>2018-11-01</td>\n",
       "      <td>smart</td>\n",
       "    </tr>\n",
       "    <tr>\n",
       "      <td>2</td>\n",
       "      <td>1002</td>\n",
       "      <td>59</td>\n",
       "      <td>NaN</td>\n",
       "      <td>Стерлитамак</td>\n",
       "      <td>Евгений</td>\n",
       "      <td>Абрамович</td>\n",
       "      <td>2018-06-17</td>\n",
       "      <td>smart</td>\n",
       "    </tr>\n",
       "    <tr>\n",
       "      <td>3</td>\n",
       "      <td>1003</td>\n",
       "      <td>23</td>\n",
       "      <td>NaN</td>\n",
       "      <td>Москва</td>\n",
       "      <td>Белла</td>\n",
       "      <td>Белякова</td>\n",
       "      <td>2018-08-17</td>\n",
       "      <td>ultra</td>\n",
       "    </tr>\n",
       "    <tr>\n",
       "      <td>4</td>\n",
       "      <td>1004</td>\n",
       "      <td>68</td>\n",
       "      <td>NaN</td>\n",
       "      <td>Новокузнецк</td>\n",
       "      <td>Татьяна</td>\n",
       "      <td>Авдеенко</td>\n",
       "      <td>2018-05-14</td>\n",
       "      <td>ultra</td>\n",
       "    </tr>\n",
       "    <tr>\n",
       "      <td>5</td>\n",
       "      <td>1005</td>\n",
       "      <td>67</td>\n",
       "      <td>NaN</td>\n",
       "      <td>Набережные Челны</td>\n",
       "      <td>Афанасий</td>\n",
       "      <td>Горлов</td>\n",
       "      <td>2018-01-25</td>\n",
       "      <td>smart</td>\n",
       "    </tr>\n",
       "    <tr>\n",
       "      <td>6</td>\n",
       "      <td>1006</td>\n",
       "      <td>21</td>\n",
       "      <td>NaN</td>\n",
       "      <td>Ульяновск</td>\n",
       "      <td>Леонид</td>\n",
       "      <td>Ермолаев</td>\n",
       "      <td>2018-02-26</td>\n",
       "      <td>smart</td>\n",
       "    </tr>\n",
       "    <tr>\n",
       "      <td>7</td>\n",
       "      <td>1007</td>\n",
       "      <td>65</td>\n",
       "      <td>NaN</td>\n",
       "      <td>Москва</td>\n",
       "      <td>Юна</td>\n",
       "      <td>Березина</td>\n",
       "      <td>2018-04-19</td>\n",
       "      <td>smart</td>\n",
       "    </tr>\n",
       "    <tr>\n",
       "      <td>8</td>\n",
       "      <td>1008</td>\n",
       "      <td>63</td>\n",
       "      <td>NaN</td>\n",
       "      <td>Челябинск</td>\n",
       "      <td>Рустэм</td>\n",
       "      <td>Пономарёв</td>\n",
       "      <td>2018-12-19</td>\n",
       "      <td>smart</td>\n",
       "    </tr>\n",
       "    <tr>\n",
       "      <td>9</td>\n",
       "      <td>1009</td>\n",
       "      <td>24</td>\n",
       "      <td>NaN</td>\n",
       "      <td>Пермь</td>\n",
       "      <td>Василиса</td>\n",
       "      <td>Блинова</td>\n",
       "      <td>2018-03-22</td>\n",
       "      <td>smart</td>\n",
       "    </tr>\n",
       "  </tbody>\n",
       "</table>\n",
       "</div>"
      ],
      "text/plain": [
       "   user_id  age churn_date              city first_name  last_name  \\\n",
       "0     1000   52        NaN         Краснодар     Рафаил  Верещагин   \n",
       "1     1001   41        NaN            Москва       Иван       Ежов   \n",
       "2     1002   59        NaN       Стерлитамак    Евгений  Абрамович   \n",
       "3     1003   23        NaN            Москва      Белла   Белякова   \n",
       "4     1004   68        NaN       Новокузнецк    Татьяна   Авдеенко   \n",
       "5     1005   67        NaN  Набережные Челны   Афанасий     Горлов   \n",
       "6     1006   21        NaN         Ульяновск     Леонид   Ермолаев   \n",
       "7     1007   65        NaN            Москва        Юна   Березина   \n",
       "8     1008   63        NaN         Челябинск     Рустэм  Пономарёв   \n",
       "9     1009   24        NaN             Пермь   Василиса    Блинова   \n",
       "\n",
       "     reg_date tariff  \n",
       "0  2018-05-25  ultra  \n",
       "1  2018-11-01  smart  \n",
       "2  2018-06-17  smart  \n",
       "3  2018-08-17  ultra  \n",
       "4  2018-05-14  ultra  \n",
       "5  2018-01-25  smart  \n",
       "6  2018-02-26  smart  \n",
       "7  2018-04-19  smart  \n",
       "8  2018-12-19  smart  \n",
       "9  2018-03-22  smart  "
      ]
     },
     "execution_count": 11,
     "metadata": {},
     "output_type": "execute_result"
    }
   ],
   "source": [
    "users = pd.read_csv(\"/datasets/users.csv\")\n",
    "users.head(10)"
   ]
  },
  {
   "cell_type": "code",
   "execution_count": 12,
   "metadata": {},
   "outputs": [
    {
     "name": "stdout",
     "output_type": "stream",
     "text": [
      "<class 'pandas.core.frame.DataFrame'>\n",
      "RangeIndex: 500 entries, 0 to 499\n",
      "Data columns (total 8 columns):\n",
      "user_id       500 non-null int64\n",
      "age           500 non-null int64\n",
      "churn_date    38 non-null object\n",
      "city          500 non-null object\n",
      "first_name    500 non-null object\n",
      "last_name     500 non-null object\n",
      "reg_date      500 non-null object\n",
      "tariff        500 non-null object\n",
      "dtypes: int64(2), object(6)\n",
      "memory usage: 31.4+ KB\n"
     ]
    }
   ],
   "source": [
    "users.info()"
   ]
  },
  {
   "cell_type": "markdown",
   "metadata": {},
   "source": [
    "**Вывод**"
   ]
  },
  {
   "cell_type": "markdown",
   "metadata": {},
   "source": [
    "Данные в таблицах выглядят на первый взгляд очень хорошо. Нету явных, необъяснимых пропусков. Изменить тип данных можно только в столбцах duration и mb_used в таблицах calls и internet_sessions на int, так как нас не интересуют части мегабайта или минуты, которые потратил клиент, однако так как у нас нет адекватного метода округления вверх, то при округлении вниз и прибавлении единицы мы получим искажение данных, так как есть значения с нулевой дробной частью, поэтому и эти столбцы оставим в покое. Единственное, что смущает - столбец \"unnamed: 0\", но его можно удалить, так как он дублирует индекс таблицы \"internet_sessions\". Также исходя из метрик describe() мы видим, что каких-то аномальных значений тоже не наблюдается."
   ]
  },
  {
   "cell_type": "markdown",
   "metadata": {},
   "source": [
    "## Предобработка данных"
   ]
  },
  {
   "cell_type": "markdown",
   "metadata": {},
   "source": [
    "### Обработка дубликатов"
   ]
  },
  {
   "cell_type": "code",
   "execution_count": 13,
   "metadata": {},
   "outputs": [
    {
     "name": "stdout",
     "output_type": "stream",
     "text": [
      "0\n",
      "0\n",
      "0\n"
     ]
    }
   ],
   "source": [
    "print(calls.duplicated().sum())\n",
    "print(internet_sessions.duplicated().sum())\n",
    "print(messages.duplicated().sum())"
   ]
  },
  {
   "cell_type": "markdown",
   "metadata": {},
   "source": [
    "Как оказалось и дубликатов тоже нет."
   ]
  },
  {
   "cell_type": "markdown",
   "metadata": {},
   "source": [
    "### Изменение типов данных"
   ]
  },
  {
   "cell_type": "code",
   "execution_count": 14,
   "metadata": {},
   "outputs": [
    {
     "name": "stdout",
     "output_type": "stream",
     "text": [
      "datetime64[ns]\n",
      "datetime64[ns]\n",
      "datetime64[ns]\n"
     ]
    },
    {
     "data": {
      "text/html": [
       "<div>\n",
       "<style scoped>\n",
       "    .dataframe tbody tr th:only-of-type {\n",
       "        vertical-align: middle;\n",
       "    }\n",
       "\n",
       "    .dataframe tbody tr th {\n",
       "        vertical-align: top;\n",
       "    }\n",
       "\n",
       "    .dataframe thead th {\n",
       "        text-align: right;\n",
       "    }\n",
       "</style>\n",
       "<table border=\"1\" class=\"dataframe\">\n",
       "  <thead>\n",
       "    <tr style=\"text-align: right;\">\n",
       "      <th></th>\n",
       "      <th>id</th>\n",
       "      <th>mb_used</th>\n",
       "      <th>session_date</th>\n",
       "      <th>user_id</th>\n",
       "    </tr>\n",
       "  </thead>\n",
       "  <tbody>\n",
       "    <tr>\n",
       "      <td>0</td>\n",
       "      <td>1000_0</td>\n",
       "      <td>112.95</td>\n",
       "      <td>2018-11-25</td>\n",
       "      <td>1000</td>\n",
       "    </tr>\n",
       "    <tr>\n",
       "      <td>1</td>\n",
       "      <td>1000_1</td>\n",
       "      <td>1052.81</td>\n",
       "      <td>2018-09-07</td>\n",
       "      <td>1000</td>\n",
       "    </tr>\n",
       "    <tr>\n",
       "      <td>2</td>\n",
       "      <td>1000_2</td>\n",
       "      <td>1197.26</td>\n",
       "      <td>2018-06-25</td>\n",
       "      <td>1000</td>\n",
       "    </tr>\n",
       "    <tr>\n",
       "      <td>3</td>\n",
       "      <td>1000_3</td>\n",
       "      <td>550.27</td>\n",
       "      <td>2018-08-22</td>\n",
       "      <td>1000</td>\n",
       "    </tr>\n",
       "    <tr>\n",
       "      <td>4</td>\n",
       "      <td>1000_4</td>\n",
       "      <td>302.56</td>\n",
       "      <td>2018-09-24</td>\n",
       "      <td>1000</td>\n",
       "    </tr>\n",
       "    <tr>\n",
       "      <td>...</td>\n",
       "      <td>...</td>\n",
       "      <td>...</td>\n",
       "      <td>...</td>\n",
       "      <td>...</td>\n",
       "    </tr>\n",
       "    <tr>\n",
       "      <td>149391</td>\n",
       "      <td>1499_152</td>\n",
       "      <td>318.90</td>\n",
       "      <td>2018-10-03</td>\n",
       "      <td>1499</td>\n",
       "    </tr>\n",
       "    <tr>\n",
       "      <td>149392</td>\n",
       "      <td>1499_153</td>\n",
       "      <td>490.13</td>\n",
       "      <td>2018-12-14</td>\n",
       "      <td>1499</td>\n",
       "    </tr>\n",
       "    <tr>\n",
       "      <td>149393</td>\n",
       "      <td>1499_154</td>\n",
       "      <td>0.00</td>\n",
       "      <td>2018-10-27</td>\n",
       "      <td>1499</td>\n",
       "    </tr>\n",
       "    <tr>\n",
       "      <td>149394</td>\n",
       "      <td>1499_155</td>\n",
       "      <td>1246.32</td>\n",
       "      <td>2018-11-26</td>\n",
       "      <td>1499</td>\n",
       "    </tr>\n",
       "    <tr>\n",
       "      <td>149395</td>\n",
       "      <td>1499_156</td>\n",
       "      <td>544.37</td>\n",
       "      <td>2018-10-26</td>\n",
       "      <td>1499</td>\n",
       "    </tr>\n",
       "  </tbody>\n",
       "</table>\n",
       "<p>149396 rows × 4 columns</p>\n",
       "</div>"
      ],
      "text/plain": [
       "              id  mb_used session_date  user_id\n",
       "0         1000_0   112.95   2018-11-25     1000\n",
       "1         1000_1  1052.81   2018-09-07     1000\n",
       "2         1000_2  1197.26   2018-06-25     1000\n",
       "3         1000_3   550.27   2018-08-22     1000\n",
       "4         1000_4   302.56   2018-09-24     1000\n",
       "...          ...      ...          ...      ...\n",
       "149391  1499_152   318.90   2018-10-03     1499\n",
       "149392  1499_153   490.13   2018-12-14     1499\n",
       "149393  1499_154     0.00   2018-10-27     1499\n",
       "149394  1499_155  1246.32   2018-11-26     1499\n",
       "149395  1499_156   544.37   2018-10-26     1499\n",
       "\n",
       "[149396 rows x 4 columns]"
      ]
     },
     "execution_count": 14,
     "metadata": {},
     "output_type": "execute_result"
    }
   ],
   "source": [
    "calls['call_date'] = pd.to_datetime(calls['call_date'], format ='%Y-%m-%d')\n",
    "internet_sessions['session_date'] = pd.to_datetime(internet_sessions['session_date'], format ='%Y-%m-%d')\n",
    "messages['message_date'] = pd.to_datetime(messages['message_date'], format = '%Y-%m-%d')\n",
    "print(calls['call_date'].dtype)\n",
    "print(internet_sessions['session_date'].dtype)\n",
    "print(messages['message_date'].dtype)\n",
    "internet_sessions"
   ]
  },
  {
   "cell_type": "markdown",
   "metadata": {},
   "source": [
    "Изменили тип данных даты на собственно тип 'datetime'."
   ]
  },
  {
   "cell_type": "markdown",
   "metadata": {},
   "source": [
    "***Проверка нулей в интернет сессиях***"
   ]
  },
  {
   "cell_type": "code",
   "execution_count": 15,
   "metadata": {},
   "outputs": [
    {
     "data": {
      "text/plain": [
       "19598"
      ]
     },
     "execution_count": 15,
     "metadata": {},
     "output_type": "execute_result"
    }
   ],
   "source": [
    "zero_sessions = internet_sessions.query(\"mb_used == 0\")['id'].count()\n",
    "zero_sessions"
   ]
  },
  {
   "cell_type": "markdown",
   "metadata": {},
   "source": [
    "**Вывод**"
   ]
  },
  {
   "cell_type": "markdown",
   "metadata": {},
   "source": [
    "Интернет-сессий с нулевой продолжительностью достаточно много (примерно 2/15) обычно оперотор не учитывает сессии, когда клиент заходит на сайт оператора. Дальше мы покажем, что в тарифе \"Смарт\" пользователям обычно нехватает интернет трафика, это даёт нам основания полагать, что эти клиенты достаточно часто заходят на сайты оператора. Значит это не ошибочные сессии и их надо оставить."
   ]
  },
  {
   "cell_type": "markdown",
   "metadata": {},
   "source": [
    "### Подготовка данных"
   ]
  },
  {
   "cell_type": "code",
   "execution_count": 16,
   "metadata": {},
   "outputs": [
    {
     "data": {
      "text/html": [
       "<div>\n",
       "<style scoped>\n",
       "    .dataframe tbody tr th:only-of-type {\n",
       "        vertical-align: middle;\n",
       "    }\n",
       "\n",
       "    .dataframe tbody tr th {\n",
       "        vertical-align: top;\n",
       "    }\n",
       "\n",
       "    .dataframe thead th {\n",
       "        text-align: right;\n",
       "    }\n",
       "</style>\n",
       "<table border=\"1\" class=\"dataframe\">\n",
       "  <thead>\n",
       "    <tr style=\"text-align: right;\">\n",
       "      <th></th>\n",
       "      <th>id</th>\n",
       "      <th>call_date</th>\n",
       "      <th>duration</th>\n",
       "      <th>user_id</th>\n",
       "      <th>month</th>\n",
       "    </tr>\n",
       "  </thead>\n",
       "  <tbody>\n",
       "    <tr>\n",
       "      <td>0</td>\n",
       "      <td>1000_0</td>\n",
       "      <td>2018-07-25</td>\n",
       "      <td>0.0</td>\n",
       "      <td>1000</td>\n",
       "      <td>7</td>\n",
       "    </tr>\n",
       "    <tr>\n",
       "      <td>1</td>\n",
       "      <td>1000_1</td>\n",
       "      <td>2018-08-17</td>\n",
       "      <td>0.0</td>\n",
       "      <td>1000</td>\n",
       "      <td>8</td>\n",
       "    </tr>\n",
       "    <tr>\n",
       "      <td>2</td>\n",
       "      <td>1000_2</td>\n",
       "      <td>2018-06-11</td>\n",
       "      <td>3.0</td>\n",
       "      <td>1000</td>\n",
       "      <td>6</td>\n",
       "    </tr>\n",
       "    <tr>\n",
       "      <td>3</td>\n",
       "      <td>1000_3</td>\n",
       "      <td>2018-09-21</td>\n",
       "      <td>14.0</td>\n",
       "      <td>1000</td>\n",
       "      <td>9</td>\n",
       "    </tr>\n",
       "    <tr>\n",
       "      <td>4</td>\n",
       "      <td>1000_4</td>\n",
       "      <td>2018-12-15</td>\n",
       "      <td>6.0</td>\n",
       "      <td>1000</td>\n",
       "      <td>12</td>\n",
       "    </tr>\n",
       "    <tr>\n",
       "      <td>5</td>\n",
       "      <td>1000_5</td>\n",
       "      <td>2018-11-02</td>\n",
       "      <td>0.0</td>\n",
       "      <td>1000</td>\n",
       "      <td>11</td>\n",
       "    </tr>\n",
       "    <tr>\n",
       "      <td>6</td>\n",
       "      <td>1000_6</td>\n",
       "      <td>2018-10-18</td>\n",
       "      <td>0.0</td>\n",
       "      <td>1000</td>\n",
       "      <td>10</td>\n",
       "    </tr>\n",
       "    <tr>\n",
       "      <td>7</td>\n",
       "      <td>1000_7</td>\n",
       "      <td>2018-08-22</td>\n",
       "      <td>19.0</td>\n",
       "      <td>1000</td>\n",
       "      <td>8</td>\n",
       "    </tr>\n",
       "    <tr>\n",
       "      <td>8</td>\n",
       "      <td>1000_8</td>\n",
       "      <td>2018-09-15</td>\n",
       "      <td>19.0</td>\n",
       "      <td>1000</td>\n",
       "      <td>9</td>\n",
       "    </tr>\n",
       "    <tr>\n",
       "      <td>9</td>\n",
       "      <td>1000_9</td>\n",
       "      <td>2018-08-15</td>\n",
       "      <td>0.0</td>\n",
       "      <td>1000</td>\n",
       "      <td>8</td>\n",
       "    </tr>\n",
       "  </tbody>\n",
       "</table>\n",
       "</div>"
      ],
      "text/plain": [
       "       id  call_date  duration  user_id  month\n",
       "0  1000_0 2018-07-25       0.0     1000      7\n",
       "1  1000_1 2018-08-17       0.0     1000      8\n",
       "2  1000_2 2018-06-11       3.0     1000      6\n",
       "3  1000_3 2018-09-21      14.0     1000      9\n",
       "4  1000_4 2018-12-15       6.0     1000     12\n",
       "5  1000_5 2018-11-02       0.0     1000     11\n",
       "6  1000_6 2018-10-18       0.0     1000     10\n",
       "7  1000_7 2018-08-22      19.0     1000      8\n",
       "8  1000_8 2018-09-15      19.0     1000      9\n",
       "9  1000_9 2018-08-15       0.0     1000      8"
      ]
     },
     "execution_count": 16,
     "metadata": {},
     "output_type": "execute_result"
    }
   ],
   "source": [
    "calls['month'] = calls['call_date'].dt.month\n",
    "internet_sessions['month'] = internet_sessions['session_date'].dt.month\n",
    "messages['month'] = messages['message_date'].dt.month\n",
    "calls['duration'] = np.ceil(calls['duration'])\n",
    "calls.head(10)"
   ]
  },
  {
   "cell_type": "markdown",
   "metadata": {},
   "source": [
    "Создали столбцы для группировки по месяцам."
   ]
  },
  {
   "cell_type": "code",
   "execution_count": 17,
   "metadata": {},
   "outputs": [
    {
     "data": {
      "text/html": [
       "<div>\n",
       "<style scoped>\n",
       "    .dataframe tbody tr th:only-of-type {\n",
       "        vertical-align: middle;\n",
       "    }\n",
       "\n",
       "    .dataframe tbody tr th {\n",
       "        vertical-align: top;\n",
       "    }\n",
       "\n",
       "    .dataframe thead th {\n",
       "        text-align: right;\n",
       "    }\n",
       "</style>\n",
       "<table border=\"1\" class=\"dataframe\">\n",
       "  <thead>\n",
       "    <tr style=\"text-align: right;\">\n",
       "      <th></th>\n",
       "      <th>user_id</th>\n",
       "      <th>month</th>\n",
       "      <th>calls_count</th>\n",
       "      <th>calls_duration</th>\n",
       "      <th>gb_used</th>\n",
       "      <th>messages_count</th>\n",
       "      <th>city</th>\n",
       "      <th>tariff</th>\n",
       "      <th>messages_included</th>\n",
       "      <th>mb_per_month_included</th>\n",
       "      <th>minutes_included</th>\n",
       "      <th>rub_monthly_fee</th>\n",
       "      <th>rub_per_gb</th>\n",
       "      <th>rub_per_message</th>\n",
       "      <th>rub_per_minute</th>\n",
       "      <th>tariff_name</th>\n",
       "    </tr>\n",
       "  </thead>\n",
       "  <tbody>\n",
       "    <tr>\n",
       "      <td>0</td>\n",
       "      <td>1000</td>\n",
       "      <td>5</td>\n",
       "      <td>22.0</td>\n",
       "      <td>159.0</td>\n",
       "      <td>3.0</td>\n",
       "      <td>22.0</td>\n",
       "      <td>Краснодар</td>\n",
       "      <td>ultra</td>\n",
       "      <td>1000</td>\n",
       "      <td>30720</td>\n",
       "      <td>3000</td>\n",
       "      <td>1950</td>\n",
       "      <td>150</td>\n",
       "      <td>1</td>\n",
       "      <td>1</td>\n",
       "      <td>ultra</td>\n",
       "    </tr>\n",
       "    <tr>\n",
       "      <td>1</td>\n",
       "      <td>1000</td>\n",
       "      <td>6</td>\n",
       "      <td>43.0</td>\n",
       "      <td>172.0</td>\n",
       "      <td>23.0</td>\n",
       "      <td>60.0</td>\n",
       "      <td>Краснодар</td>\n",
       "      <td>ultra</td>\n",
       "      <td>1000</td>\n",
       "      <td>30720</td>\n",
       "      <td>3000</td>\n",
       "      <td>1950</td>\n",
       "      <td>150</td>\n",
       "      <td>1</td>\n",
       "      <td>1</td>\n",
       "      <td>ultra</td>\n",
       "    </tr>\n",
       "    <tr>\n",
       "      <td>2</td>\n",
       "      <td>1000</td>\n",
       "      <td>7</td>\n",
       "      <td>47.0</td>\n",
       "      <td>340.0</td>\n",
       "      <td>14.0</td>\n",
       "      <td>75.0</td>\n",
       "      <td>Краснодар</td>\n",
       "      <td>ultra</td>\n",
       "      <td>1000</td>\n",
       "      <td>30720</td>\n",
       "      <td>3000</td>\n",
       "      <td>1950</td>\n",
       "      <td>150</td>\n",
       "      <td>1</td>\n",
       "      <td>1</td>\n",
       "      <td>ultra</td>\n",
       "    </tr>\n",
       "    <tr>\n",
       "      <td>3</td>\n",
       "      <td>1000</td>\n",
       "      <td>8</td>\n",
       "      <td>52.0</td>\n",
       "      <td>408.0</td>\n",
       "      <td>14.0</td>\n",
       "      <td>81.0</td>\n",
       "      <td>Краснодар</td>\n",
       "      <td>ultra</td>\n",
       "      <td>1000</td>\n",
       "      <td>30720</td>\n",
       "      <td>3000</td>\n",
       "      <td>1950</td>\n",
       "      <td>150</td>\n",
       "      <td>1</td>\n",
       "      <td>1</td>\n",
       "      <td>ultra</td>\n",
       "    </tr>\n",
       "    <tr>\n",
       "      <td>4</td>\n",
       "      <td>1000</td>\n",
       "      <td>9</td>\n",
       "      <td>58.0</td>\n",
       "      <td>466.0</td>\n",
       "      <td>15.0</td>\n",
       "      <td>57.0</td>\n",
       "      <td>Краснодар</td>\n",
       "      <td>ultra</td>\n",
       "      <td>1000</td>\n",
       "      <td>30720</td>\n",
       "      <td>3000</td>\n",
       "      <td>1950</td>\n",
       "      <td>150</td>\n",
       "      <td>1</td>\n",
       "      <td>1</td>\n",
       "      <td>ultra</td>\n",
       "    </tr>\n",
       "    <tr>\n",
       "      <td>5</td>\n",
       "      <td>1000</td>\n",
       "      <td>10</td>\n",
       "      <td>57.0</td>\n",
       "      <td>350.0</td>\n",
       "      <td>15.0</td>\n",
       "      <td>73.0</td>\n",
       "      <td>Краснодар</td>\n",
       "      <td>ultra</td>\n",
       "      <td>1000</td>\n",
       "      <td>30720</td>\n",
       "      <td>3000</td>\n",
       "      <td>1950</td>\n",
       "      <td>150</td>\n",
       "      <td>1</td>\n",
       "      <td>1</td>\n",
       "      <td>ultra</td>\n",
       "    </tr>\n",
       "    <tr>\n",
       "      <td>6</td>\n",
       "      <td>1000</td>\n",
       "      <td>11</td>\n",
       "      <td>43.0</td>\n",
       "      <td>338.0</td>\n",
       "      <td>15.0</td>\n",
       "      <td>58.0</td>\n",
       "      <td>Краснодар</td>\n",
       "      <td>ultra</td>\n",
       "      <td>1000</td>\n",
       "      <td>30720</td>\n",
       "      <td>3000</td>\n",
       "      <td>1950</td>\n",
       "      <td>150</td>\n",
       "      <td>1</td>\n",
       "      <td>1</td>\n",
       "      <td>ultra</td>\n",
       "    </tr>\n",
       "    <tr>\n",
       "      <td>7</td>\n",
       "      <td>1000</td>\n",
       "      <td>12</td>\n",
       "      <td>46.0</td>\n",
       "      <td>333.0</td>\n",
       "      <td>10.0</td>\n",
       "      <td>70.0</td>\n",
       "      <td>Краснодар</td>\n",
       "      <td>ultra</td>\n",
       "      <td>1000</td>\n",
       "      <td>30720</td>\n",
       "      <td>3000</td>\n",
       "      <td>1950</td>\n",
       "      <td>150</td>\n",
       "      <td>1</td>\n",
       "      <td>1</td>\n",
       "      <td>ultra</td>\n",
       "    </tr>\n",
       "    <tr>\n",
       "      <td>8</td>\n",
       "      <td>1001</td>\n",
       "      <td>11</td>\n",
       "      <td>59.0</td>\n",
       "      <td>430.0</td>\n",
       "      <td>18.0</td>\n",
       "      <td>0.0</td>\n",
       "      <td>Москва</td>\n",
       "      <td>smart</td>\n",
       "      <td>50</td>\n",
       "      <td>15360</td>\n",
       "      <td>500</td>\n",
       "      <td>550</td>\n",
       "      <td>200</td>\n",
       "      <td>3</td>\n",
       "      <td>3</td>\n",
       "      <td>smart</td>\n",
       "    </tr>\n",
       "    <tr>\n",
       "      <td>9</td>\n",
       "      <td>1001</td>\n",
       "      <td>12</td>\n",
       "      <td>63.0</td>\n",
       "      <td>414.0</td>\n",
       "      <td>14.0</td>\n",
       "      <td>0.0</td>\n",
       "      <td>Москва</td>\n",
       "      <td>smart</td>\n",
       "      <td>50</td>\n",
       "      <td>15360</td>\n",
       "      <td>500</td>\n",
       "      <td>550</td>\n",
       "      <td>200</td>\n",
       "      <td>3</td>\n",
       "      <td>3</td>\n",
       "      <td>smart</td>\n",
       "    </tr>\n",
       "  </tbody>\n",
       "</table>\n",
       "</div>"
      ],
      "text/plain": [
       "   user_id  month  calls_count  calls_duration  gb_used  messages_count  \\\n",
       "0     1000      5         22.0           159.0      3.0            22.0   \n",
       "1     1000      6         43.0           172.0     23.0            60.0   \n",
       "2     1000      7         47.0           340.0     14.0            75.0   \n",
       "3     1000      8         52.0           408.0     14.0            81.0   \n",
       "4     1000      9         58.0           466.0     15.0            57.0   \n",
       "5     1000     10         57.0           350.0     15.0            73.0   \n",
       "6     1000     11         43.0           338.0     15.0            58.0   \n",
       "7     1000     12         46.0           333.0     10.0            70.0   \n",
       "8     1001     11         59.0           430.0     18.0             0.0   \n",
       "9     1001     12         63.0           414.0     14.0             0.0   \n",
       "\n",
       "        city tariff  messages_included  mb_per_month_included  \\\n",
       "0  Краснодар  ultra               1000                  30720   \n",
       "1  Краснодар  ultra               1000                  30720   \n",
       "2  Краснодар  ultra               1000                  30720   \n",
       "3  Краснодар  ultra               1000                  30720   \n",
       "4  Краснодар  ultra               1000                  30720   \n",
       "5  Краснодар  ultra               1000                  30720   \n",
       "6  Краснодар  ultra               1000                  30720   \n",
       "7  Краснодар  ultra               1000                  30720   \n",
       "8     Москва  smart                 50                  15360   \n",
       "9     Москва  smart                 50                  15360   \n",
       "\n",
       "   minutes_included  rub_monthly_fee  rub_per_gb  rub_per_message  \\\n",
       "0              3000             1950         150                1   \n",
       "1              3000             1950         150                1   \n",
       "2              3000             1950         150                1   \n",
       "3              3000             1950         150                1   \n",
       "4              3000             1950         150                1   \n",
       "5              3000             1950         150                1   \n",
       "6              3000             1950         150                1   \n",
       "7              3000             1950         150                1   \n",
       "8               500              550         200                3   \n",
       "9               500              550         200                3   \n",
       "\n",
       "   rub_per_minute tariff_name  \n",
       "0               1       ultra  \n",
       "1               1       ultra  \n",
       "2               1       ultra  \n",
       "3               1       ultra  \n",
       "4               1       ultra  \n",
       "5               1       ultra  \n",
       "6               1       ultra  \n",
       "7               1       ultra  \n",
       "8               3       smart  \n",
       "9               3       smart  "
      ]
     },
     "execution_count": 17,
     "metadata": {},
     "output_type": "execute_result"
    }
   ],
   "source": [
    "calls_pivot_table = calls.pivot_table(index = ['user_id', 'month'], values = 'duration', aggfunc = ['count','sum'])\n",
    "internet_sessions_pivot_table = internet_sessions.pivot_table(index = ['user_id', 'month'], values = 'mb_used', aggfunc = ['sum'])\n",
    "messages_pivot_table = messages.pivot_table(index = ['user_id', 'month'], values = 'message_date', aggfunc = ['count'])\n",
    "users_pivot_table = calls_pivot_table.join([internet_sessions_pivot_table, messages_pivot_table], how = 'outer')\n",
    "users_pivot_table.columns = ['calls_count', 'calls_duration', 'gb_used', 'messages_count']\n",
    "users_pivot_table['gb_used'] = np.ceil(users_pivot_table['gb_used'] / 1024) \n",
    "users_pivot_table = users_pivot_table.fillna(0)\n",
    "users_pivot_table = users_pivot_table.reset_index()\n",
    "users_pivot_table = users_pivot_table.merge(users[['city', 'tariff', 'user_id']], how = 'left', on = 'user_id')\n",
    "users_pivot_table = users_pivot_table.merge(tariffs, how = 'left', left_on = 'tariff', right_on = 'tariff_name')\n",
    "users_pivot_table.head(10)"
   ]
  },
  {
   "cell_type": "markdown",
   "metadata": {},
   "source": [
    "Создали таблицу с данными, которые позволят нам работать с итоговыми данными по месяцам для каждого пользователя.(Создали три сводные таблицы, соеденили их, переименовали столбцы и заполнили нулями пропущенные значения, так как скорее всего они означают, что клиент просто не пользовался данной услугой в этом месяце."
   ]
  },
  {
   "cell_type": "markdown",
   "metadata": {},
   "source": [
    "## Подсчёт выручки"
   ]
  },
  {
   "cell_type": "code",
   "execution_count": 18,
   "metadata": {},
   "outputs": [],
   "source": [
    "#Функция возвращающая 0, если число отрицательное и само число, если число положительно или равно нулю\n",
    "def positive_value(value):\n",
    "    if value < 0: return 0\n",
    "    return value"
   ]
  },
  {
   "cell_type": "code",
   "execution_count": 19,
   "metadata": {},
   "outputs": [],
   "source": [
    "def calculation_of_revenue(row):\n",
    "    revenue = row['rub_monthly_fee']\n",
    "    minutes = row['calls_duration']\n",
    "    gb_used = row['gb_used']\n",
    "    messages = row['messages_count']\n",
    "    minutes_included = row['minutes_included']\n",
    "    gb_included = row['mb_per_month_included'] / 1024\n",
    "    messages_included = row['messages_included']\n",
    "    rub_per_minute = row['rub_per_minute']\n",
    "    rub_per_gb = row['rub_per_gb']\n",
    "    rub_per_message = row['rub_per_message']\n",
    "    if minutes > minutes_included:\n",
    "        revenue += (minutes - minutes_included) * rub_per_minute\n",
    "    if gb_used > gb_included:\n",
    "        revenue += (gb_used - gb_included) * rub_per_gb\n",
    "    if messages > messages_included:\n",
    "        revenue += (messages - messages_included) * rub_per_message\n",
    "    return revenue"
   ]
  },
  {
   "cell_type": "code",
   "execution_count": 20,
   "metadata": {},
   "outputs": [
    {
     "data": {
      "text/html": [
       "<div>\n",
       "<style scoped>\n",
       "    .dataframe tbody tr th:only-of-type {\n",
       "        vertical-align: middle;\n",
       "    }\n",
       "\n",
       "    .dataframe tbody tr th {\n",
       "        vertical-align: top;\n",
       "    }\n",
       "\n",
       "    .dataframe thead th {\n",
       "        text-align: right;\n",
       "    }\n",
       "</style>\n",
       "<table border=\"1\" class=\"dataframe\">\n",
       "  <thead>\n",
       "    <tr style=\"text-align: right;\">\n",
       "      <th></th>\n",
       "      <th>user_id</th>\n",
       "      <th>month</th>\n",
       "      <th>calls_count</th>\n",
       "      <th>calls_duration</th>\n",
       "      <th>gb_used</th>\n",
       "      <th>messages_count</th>\n",
       "      <th>city</th>\n",
       "      <th>tariff</th>\n",
       "      <th>messages_included</th>\n",
       "      <th>mb_per_month_included</th>\n",
       "      <th>minutes_included</th>\n",
       "      <th>rub_monthly_fee</th>\n",
       "      <th>rub_per_gb</th>\n",
       "      <th>rub_per_message</th>\n",
       "      <th>rub_per_minute</th>\n",
       "      <th>tariff_name</th>\n",
       "      <th>revenue</th>\n",
       "    </tr>\n",
       "  </thead>\n",
       "  <tbody>\n",
       "    <tr>\n",
       "      <td>0</td>\n",
       "      <td>1000</td>\n",
       "      <td>5</td>\n",
       "      <td>22.0</td>\n",
       "      <td>159.0</td>\n",
       "      <td>3.0</td>\n",
       "      <td>22.0</td>\n",
       "      <td>Краснодар</td>\n",
       "      <td>ultra</td>\n",
       "      <td>1000</td>\n",
       "      <td>30720</td>\n",
       "      <td>3000</td>\n",
       "      <td>1950</td>\n",
       "      <td>150</td>\n",
       "      <td>1</td>\n",
       "      <td>1</td>\n",
       "      <td>ultra</td>\n",
       "      <td>1950.0</td>\n",
       "    </tr>\n",
       "    <tr>\n",
       "      <td>1</td>\n",
       "      <td>1000</td>\n",
       "      <td>6</td>\n",
       "      <td>43.0</td>\n",
       "      <td>172.0</td>\n",
       "      <td>23.0</td>\n",
       "      <td>60.0</td>\n",
       "      <td>Краснодар</td>\n",
       "      <td>ultra</td>\n",
       "      <td>1000</td>\n",
       "      <td>30720</td>\n",
       "      <td>3000</td>\n",
       "      <td>1950</td>\n",
       "      <td>150</td>\n",
       "      <td>1</td>\n",
       "      <td>1</td>\n",
       "      <td>ultra</td>\n",
       "      <td>1950.0</td>\n",
       "    </tr>\n",
       "    <tr>\n",
       "      <td>2</td>\n",
       "      <td>1000</td>\n",
       "      <td>7</td>\n",
       "      <td>47.0</td>\n",
       "      <td>340.0</td>\n",
       "      <td>14.0</td>\n",
       "      <td>75.0</td>\n",
       "      <td>Краснодар</td>\n",
       "      <td>ultra</td>\n",
       "      <td>1000</td>\n",
       "      <td>30720</td>\n",
       "      <td>3000</td>\n",
       "      <td>1950</td>\n",
       "      <td>150</td>\n",
       "      <td>1</td>\n",
       "      <td>1</td>\n",
       "      <td>ultra</td>\n",
       "      <td>1950.0</td>\n",
       "    </tr>\n",
       "    <tr>\n",
       "      <td>3</td>\n",
       "      <td>1000</td>\n",
       "      <td>8</td>\n",
       "      <td>52.0</td>\n",
       "      <td>408.0</td>\n",
       "      <td>14.0</td>\n",
       "      <td>81.0</td>\n",
       "      <td>Краснодар</td>\n",
       "      <td>ultra</td>\n",
       "      <td>1000</td>\n",
       "      <td>30720</td>\n",
       "      <td>3000</td>\n",
       "      <td>1950</td>\n",
       "      <td>150</td>\n",
       "      <td>1</td>\n",
       "      <td>1</td>\n",
       "      <td>ultra</td>\n",
       "      <td>1950.0</td>\n",
       "    </tr>\n",
       "    <tr>\n",
       "      <td>4</td>\n",
       "      <td>1000</td>\n",
       "      <td>9</td>\n",
       "      <td>58.0</td>\n",
       "      <td>466.0</td>\n",
       "      <td>15.0</td>\n",
       "      <td>57.0</td>\n",
       "      <td>Краснодар</td>\n",
       "      <td>ultra</td>\n",
       "      <td>1000</td>\n",
       "      <td>30720</td>\n",
       "      <td>3000</td>\n",
       "      <td>1950</td>\n",
       "      <td>150</td>\n",
       "      <td>1</td>\n",
       "      <td>1</td>\n",
       "      <td>ultra</td>\n",
       "      <td>1950.0</td>\n",
       "    </tr>\n",
       "    <tr>\n",
       "      <td>5</td>\n",
       "      <td>1000</td>\n",
       "      <td>10</td>\n",
       "      <td>57.0</td>\n",
       "      <td>350.0</td>\n",
       "      <td>15.0</td>\n",
       "      <td>73.0</td>\n",
       "      <td>Краснодар</td>\n",
       "      <td>ultra</td>\n",
       "      <td>1000</td>\n",
       "      <td>30720</td>\n",
       "      <td>3000</td>\n",
       "      <td>1950</td>\n",
       "      <td>150</td>\n",
       "      <td>1</td>\n",
       "      <td>1</td>\n",
       "      <td>ultra</td>\n",
       "      <td>1950.0</td>\n",
       "    </tr>\n",
       "    <tr>\n",
       "      <td>6</td>\n",
       "      <td>1000</td>\n",
       "      <td>11</td>\n",
       "      <td>43.0</td>\n",
       "      <td>338.0</td>\n",
       "      <td>15.0</td>\n",
       "      <td>58.0</td>\n",
       "      <td>Краснодар</td>\n",
       "      <td>ultra</td>\n",
       "      <td>1000</td>\n",
       "      <td>30720</td>\n",
       "      <td>3000</td>\n",
       "      <td>1950</td>\n",
       "      <td>150</td>\n",
       "      <td>1</td>\n",
       "      <td>1</td>\n",
       "      <td>ultra</td>\n",
       "      <td>1950.0</td>\n",
       "    </tr>\n",
       "    <tr>\n",
       "      <td>7</td>\n",
       "      <td>1000</td>\n",
       "      <td>12</td>\n",
       "      <td>46.0</td>\n",
       "      <td>333.0</td>\n",
       "      <td>10.0</td>\n",
       "      <td>70.0</td>\n",
       "      <td>Краснодар</td>\n",
       "      <td>ultra</td>\n",
       "      <td>1000</td>\n",
       "      <td>30720</td>\n",
       "      <td>3000</td>\n",
       "      <td>1950</td>\n",
       "      <td>150</td>\n",
       "      <td>1</td>\n",
       "      <td>1</td>\n",
       "      <td>ultra</td>\n",
       "      <td>1950.0</td>\n",
       "    </tr>\n",
       "    <tr>\n",
       "      <td>8</td>\n",
       "      <td>1001</td>\n",
       "      <td>11</td>\n",
       "      <td>59.0</td>\n",
       "      <td>430.0</td>\n",
       "      <td>18.0</td>\n",
       "      <td>0.0</td>\n",
       "      <td>Москва</td>\n",
       "      <td>smart</td>\n",
       "      <td>50</td>\n",
       "      <td>15360</td>\n",
       "      <td>500</td>\n",
       "      <td>550</td>\n",
       "      <td>200</td>\n",
       "      <td>3</td>\n",
       "      <td>3</td>\n",
       "      <td>smart</td>\n",
       "      <td>1150.0</td>\n",
       "    </tr>\n",
       "    <tr>\n",
       "      <td>9</td>\n",
       "      <td>1001</td>\n",
       "      <td>12</td>\n",
       "      <td>63.0</td>\n",
       "      <td>414.0</td>\n",
       "      <td>14.0</td>\n",
       "      <td>0.0</td>\n",
       "      <td>Москва</td>\n",
       "      <td>smart</td>\n",
       "      <td>50</td>\n",
       "      <td>15360</td>\n",
       "      <td>500</td>\n",
       "      <td>550</td>\n",
       "      <td>200</td>\n",
       "      <td>3</td>\n",
       "      <td>3</td>\n",
       "      <td>smart</td>\n",
       "      <td>550.0</td>\n",
       "    </tr>\n",
       "  </tbody>\n",
       "</table>\n",
       "</div>"
      ],
      "text/plain": [
       "   user_id  month  calls_count  calls_duration  gb_used  messages_count  \\\n",
       "0     1000      5         22.0           159.0      3.0            22.0   \n",
       "1     1000      6         43.0           172.0     23.0            60.0   \n",
       "2     1000      7         47.0           340.0     14.0            75.0   \n",
       "3     1000      8         52.0           408.0     14.0            81.0   \n",
       "4     1000      9         58.0           466.0     15.0            57.0   \n",
       "5     1000     10         57.0           350.0     15.0            73.0   \n",
       "6     1000     11         43.0           338.0     15.0            58.0   \n",
       "7     1000     12         46.0           333.0     10.0            70.0   \n",
       "8     1001     11         59.0           430.0     18.0             0.0   \n",
       "9     1001     12         63.0           414.0     14.0             0.0   \n",
       "\n",
       "        city tariff  messages_included  mb_per_month_included  \\\n",
       "0  Краснодар  ultra               1000                  30720   \n",
       "1  Краснодар  ultra               1000                  30720   \n",
       "2  Краснодар  ultra               1000                  30720   \n",
       "3  Краснодар  ultra               1000                  30720   \n",
       "4  Краснодар  ultra               1000                  30720   \n",
       "5  Краснодар  ultra               1000                  30720   \n",
       "6  Краснодар  ultra               1000                  30720   \n",
       "7  Краснодар  ultra               1000                  30720   \n",
       "8     Москва  smart                 50                  15360   \n",
       "9     Москва  smart                 50                  15360   \n",
       "\n",
       "   minutes_included  rub_monthly_fee  rub_per_gb  rub_per_message  \\\n",
       "0              3000             1950         150                1   \n",
       "1              3000             1950         150                1   \n",
       "2              3000             1950         150                1   \n",
       "3              3000             1950         150                1   \n",
       "4              3000             1950         150                1   \n",
       "5              3000             1950         150                1   \n",
       "6              3000             1950         150                1   \n",
       "7              3000             1950         150                1   \n",
       "8               500              550         200                3   \n",
       "9               500              550         200                3   \n",
       "\n",
       "   rub_per_minute tariff_name  revenue  \n",
       "0               1       ultra   1950.0  \n",
       "1               1       ultra   1950.0  \n",
       "2               1       ultra   1950.0  \n",
       "3               1       ultra   1950.0  \n",
       "4               1       ultra   1950.0  \n",
       "5               1       ultra   1950.0  \n",
       "6               1       ultra   1950.0  \n",
       "7               1       ultra   1950.0  \n",
       "8               3       smart   1150.0  \n",
       "9               3       smart    550.0  "
      ]
     },
     "execution_count": 20,
     "metadata": {},
     "output_type": "execute_result"
    }
   ],
   "source": [
    "users_pivot_table['revenue'] = users_pivot_table.apply(calculation_of_revenue, axis = 1)\n",
    "users_pivot_table.head(10)"
   ]
  },
  {
   "cell_type": "markdown",
   "metadata": {},
   "source": [
    "Почситали выручку с каждого клиента в каждый месяц."
   ]
  },
  {
   "cell_type": "code",
   "execution_count": 21,
   "metadata": {},
   "outputs": [
    {
     "data": {
      "text/html": [
       "<div>\n",
       "<style scoped>\n",
       "    .dataframe tbody tr th:only-of-type {\n",
       "        vertical-align: middle;\n",
       "    }\n",
       "\n",
       "    .dataframe tbody tr th {\n",
       "        vertical-align: top;\n",
       "    }\n",
       "\n",
       "    .dataframe thead th {\n",
       "        text-align: right;\n",
       "    }\n",
       "</style>\n",
       "<table border=\"1\" class=\"dataframe\">\n",
       "  <thead>\n",
       "    <tr style=\"text-align: right;\">\n",
       "      <th></th>\n",
       "      <th>user_id</th>\n",
       "      <th>month</th>\n",
       "      <th>calls_count</th>\n",
       "      <th>calls_duration</th>\n",
       "      <th>gb_used</th>\n",
       "      <th>messages_count</th>\n",
       "      <th>messages_included</th>\n",
       "      <th>mb_per_month_included</th>\n",
       "      <th>minutes_included</th>\n",
       "      <th>rub_monthly_fee</th>\n",
       "      <th>rub_per_gb</th>\n",
       "      <th>rub_per_message</th>\n",
       "      <th>rub_per_minute</th>\n",
       "      <th>revenue</th>\n",
       "    </tr>\n",
       "  </thead>\n",
       "  <tbody>\n",
       "    <tr>\n",
       "      <td>count</td>\n",
       "      <td>3214.000000</td>\n",
       "      <td>3214.000000</td>\n",
       "      <td>3214.000000</td>\n",
       "      <td>3214.000000</td>\n",
       "      <td>3214.000000</td>\n",
       "      <td>3214.000000</td>\n",
       "      <td>3214.000000</td>\n",
       "      <td>3214.000000</td>\n",
       "      <td>3214.000000</td>\n",
       "      <td>3214.000000</td>\n",
       "      <td>3214.000000</td>\n",
       "      <td>3214.000000</td>\n",
       "      <td>3214.000000</td>\n",
       "      <td>3214.000000</td>\n",
       "    </tr>\n",
       "    <tr>\n",
       "      <td>mean</td>\n",
       "      <td>1251.590230</td>\n",
       "      <td>8.317362</td>\n",
       "      <td>63.038892</td>\n",
       "      <td>451.244866</td>\n",
       "      <td>17.299004</td>\n",
       "      <td>38.281269</td>\n",
       "      <td>341.148102</td>\n",
       "      <td>20067.405103</td>\n",
       "      <td>1266.179216</td>\n",
       "      <td>979.060361</td>\n",
       "      <td>184.676416</td>\n",
       "      <td>2.387057</td>\n",
       "      <td>2.387057</td>\n",
       "      <td>1529.076229</td>\n",
       "    </tr>\n",
       "    <tr>\n",
       "      <td>std</td>\n",
       "      <td>144.659172</td>\n",
       "      <td>2.905413</td>\n",
       "      <td>33.236368</td>\n",
       "      <td>241.909978</td>\n",
       "      <td>7.400584</td>\n",
       "      <td>36.148326</td>\n",
       "      <td>438.044726</td>\n",
       "      <td>7082.491569</td>\n",
       "      <td>1152.749279</td>\n",
       "      <td>645.539596</td>\n",
       "      <td>23.054986</td>\n",
       "      <td>0.922199</td>\n",
       "      <td>0.922199</td>\n",
       "      <td>798.251091</td>\n",
       "    </tr>\n",
       "    <tr>\n",
       "      <td>min</td>\n",
       "      <td>1000.000000</td>\n",
       "      <td>1.000000</td>\n",
       "      <td>0.000000</td>\n",
       "      <td>0.000000</td>\n",
       "      <td>0.000000</td>\n",
       "      <td>0.000000</td>\n",
       "      <td>50.000000</td>\n",
       "      <td>15360.000000</td>\n",
       "      <td>500.000000</td>\n",
       "      <td>550.000000</td>\n",
       "      <td>150.000000</td>\n",
       "      <td>1.000000</td>\n",
       "      <td>1.000000</td>\n",
       "      <td>550.000000</td>\n",
       "    </tr>\n",
       "    <tr>\n",
       "      <td>25%</td>\n",
       "      <td>1125.000000</td>\n",
       "      <td>6.000000</td>\n",
       "      <td>40.000000</td>\n",
       "      <td>282.000000</td>\n",
       "      <td>13.000000</td>\n",
       "      <td>9.000000</td>\n",
       "      <td>50.000000</td>\n",
       "      <td>15360.000000</td>\n",
       "      <td>500.000000</td>\n",
       "      <td>550.000000</td>\n",
       "      <td>150.000000</td>\n",
       "      <td>1.000000</td>\n",
       "      <td>1.000000</td>\n",
       "      <td>750.000000</td>\n",
       "    </tr>\n",
       "    <tr>\n",
       "      <td>50%</td>\n",
       "      <td>1253.000000</td>\n",
       "      <td>9.000000</td>\n",
       "      <td>62.000000</td>\n",
       "      <td>443.000000</td>\n",
       "      <td>17.000000</td>\n",
       "      <td>30.000000</td>\n",
       "      <td>50.000000</td>\n",
       "      <td>15360.000000</td>\n",
       "      <td>500.000000</td>\n",
       "      <td>550.000000</td>\n",
       "      <td>200.000000</td>\n",
       "      <td>3.000000</td>\n",
       "      <td>3.000000</td>\n",
       "      <td>1653.500000</td>\n",
       "    </tr>\n",
       "    <tr>\n",
       "      <td>75%</td>\n",
       "      <td>1378.750000</td>\n",
       "      <td>11.000000</td>\n",
       "      <td>82.000000</td>\n",
       "      <td>589.000000</td>\n",
       "      <td>21.000000</td>\n",
       "      <td>57.000000</td>\n",
       "      <td>1000.000000</td>\n",
       "      <td>30720.000000</td>\n",
       "      <td>3000.000000</td>\n",
       "      <td>1950.000000</td>\n",
       "      <td>200.000000</td>\n",
       "      <td>3.000000</td>\n",
       "      <td>3.000000</td>\n",
       "      <td>1950.000000</td>\n",
       "    </tr>\n",
       "    <tr>\n",
       "      <td>max</td>\n",
       "      <td>1499.000000</td>\n",
       "      <td>12.000000</td>\n",
       "      <td>244.000000</td>\n",
       "      <td>1673.000000</td>\n",
       "      <td>49.000000</td>\n",
       "      <td>224.000000</td>\n",
       "      <td>1000.000000</td>\n",
       "      <td>30720.000000</td>\n",
       "      <td>3000.000000</td>\n",
       "      <td>1950.000000</td>\n",
       "      <td>200.000000</td>\n",
       "      <td>3.000000</td>\n",
       "      <td>3.000000</td>\n",
       "      <td>6770.000000</td>\n",
       "    </tr>\n",
       "  </tbody>\n",
       "</table>\n",
       "</div>"
      ],
      "text/plain": [
       "           user_id        month  calls_count  calls_duration      gb_used  \\\n",
       "count  3214.000000  3214.000000  3214.000000     3214.000000  3214.000000   \n",
       "mean   1251.590230     8.317362    63.038892      451.244866    17.299004   \n",
       "std     144.659172     2.905413    33.236368      241.909978     7.400584   \n",
       "min    1000.000000     1.000000     0.000000        0.000000     0.000000   \n",
       "25%    1125.000000     6.000000    40.000000      282.000000    13.000000   \n",
       "50%    1253.000000     9.000000    62.000000      443.000000    17.000000   \n",
       "75%    1378.750000    11.000000    82.000000      589.000000    21.000000   \n",
       "max    1499.000000    12.000000   244.000000     1673.000000    49.000000   \n",
       "\n",
       "       messages_count  messages_included  mb_per_month_included  \\\n",
       "count     3214.000000        3214.000000            3214.000000   \n",
       "mean        38.281269         341.148102           20067.405103   \n",
       "std         36.148326         438.044726            7082.491569   \n",
       "min          0.000000          50.000000           15360.000000   \n",
       "25%          9.000000          50.000000           15360.000000   \n",
       "50%         30.000000          50.000000           15360.000000   \n",
       "75%         57.000000        1000.000000           30720.000000   \n",
       "max        224.000000        1000.000000           30720.000000   \n",
       "\n",
       "       minutes_included  rub_monthly_fee   rub_per_gb  rub_per_message  \\\n",
       "count       3214.000000      3214.000000  3214.000000      3214.000000   \n",
       "mean        1266.179216       979.060361   184.676416         2.387057   \n",
       "std         1152.749279       645.539596    23.054986         0.922199   \n",
       "min          500.000000       550.000000   150.000000         1.000000   \n",
       "25%          500.000000       550.000000   150.000000         1.000000   \n",
       "50%          500.000000       550.000000   200.000000         3.000000   \n",
       "75%         3000.000000      1950.000000   200.000000         3.000000   \n",
       "max         3000.000000      1950.000000   200.000000         3.000000   \n",
       "\n",
       "       rub_per_minute      revenue  \n",
       "count     3214.000000  3214.000000  \n",
       "mean         2.387057  1529.076229  \n",
       "std          0.922199   798.251091  \n",
       "min          1.000000   550.000000  \n",
       "25%          1.000000   750.000000  \n",
       "50%          3.000000  1653.500000  \n",
       "75%          3.000000  1950.000000  \n",
       "max          3.000000  6770.000000  "
      ]
     },
     "execution_count": 21,
     "metadata": {},
     "output_type": "execute_result"
    }
   ],
   "source": [
    "users_pivot_table.describe()"
   ]
  },
  {
   "cell_type": "markdown",
   "metadata": {},
   "source": [
    "**Вывод**"
   ]
  },
  {
   "cell_type": "markdown",
   "metadata": {},
   "source": [
    "Из метрик describe() видим, что есть человек, который в одном из месяцов заплатил больше 6000 рублей. Однако нет ни одного месяца, чтобы кто-то потратил сообщений, трафика или минут разговора больше, чем включено в тариф \"Ультра\". Это значит, что есть люди, для которых переход на тариф ультра может сэкономить достаточно большую сумму."
   ]
  },
  {
   "cell_type": "markdown",
   "metadata": {},
   "source": [
    "## Анализ данных"
   ]
  },
  {
   "cell_type": "code",
   "execution_count": 22,
   "metadata": {},
   "outputs": [],
   "source": [
    "smart_users = users_pivot_table.query(\"tariff == 'smart'\")\n",
    "ultra_users = users_pivot_table.query(\"tariff == 'ultra'\")"
   ]
  },
  {
   "cell_type": "markdown",
   "metadata": {},
   "source": [
    "Деление клиентов по тарифам."
   ]
  },
  {
   "cell_type": "markdown",
   "metadata": {},
   "source": [
    "### Анализ тарифа \"Смарт\" "
   ]
  },
  {
   "cell_type": "code",
   "execution_count": 23,
   "metadata": {
    "scrolled": true
   },
   "outputs": [
    {
     "data": {
      "text/html": [
       "<div>\n",
       "<style scoped>\n",
       "    .dataframe tbody tr th:only-of-type {\n",
       "        vertical-align: middle;\n",
       "    }\n",
       "\n",
       "    .dataframe tbody tr th {\n",
       "        vertical-align: top;\n",
       "    }\n",
       "\n",
       "    .dataframe thead th {\n",
       "        text-align: right;\n",
       "    }\n",
       "</style>\n",
       "<table border=\"1\" class=\"dataframe\">\n",
       "  <thead>\n",
       "    <tr style=\"text-align: right;\">\n",
       "      <th></th>\n",
       "      <th>user_id</th>\n",
       "      <th>month</th>\n",
       "      <th>calls_count</th>\n",
       "      <th>calls_duration</th>\n",
       "      <th>gb_used</th>\n",
       "      <th>messages_count</th>\n",
       "      <th>messages_included</th>\n",
       "      <th>mb_per_month_included</th>\n",
       "      <th>minutes_included</th>\n",
       "      <th>rub_monthly_fee</th>\n",
       "      <th>rub_per_gb</th>\n",
       "      <th>rub_per_message</th>\n",
       "      <th>rub_per_minute</th>\n",
       "      <th>revenue</th>\n",
       "    </tr>\n",
       "  </thead>\n",
       "  <tbody>\n",
       "    <tr>\n",
       "      <td>count</td>\n",
       "      <td>2229.000000</td>\n",
       "      <td>2229.000000</td>\n",
       "      <td>2229.000000</td>\n",
       "      <td>2229.000000</td>\n",
       "      <td>2229.000000</td>\n",
       "      <td>2229.000000</td>\n",
       "      <td>2229.0</td>\n",
       "      <td>2229.0</td>\n",
       "      <td>2229.0</td>\n",
       "      <td>2229.0</td>\n",
       "      <td>2229.0</td>\n",
       "      <td>2229.0</td>\n",
       "      <td>2229.0</td>\n",
       "      <td>2229.000000</td>\n",
       "    </tr>\n",
       "    <tr>\n",
       "      <td>mean</td>\n",
       "      <td>1246.506505</td>\n",
       "      <td>8.346792</td>\n",
       "      <td>58.463437</td>\n",
       "      <td>417.934948</td>\n",
       "      <td>16.328847</td>\n",
       "      <td>33.384029</td>\n",
       "      <td>50.0</td>\n",
       "      <td>15360.0</td>\n",
       "      <td>500.0</td>\n",
       "      <td>550.0</td>\n",
       "      <td>200.0</td>\n",
       "      <td>3.0</td>\n",
       "      <td>3.0</td>\n",
       "      <td>1289.973531</td>\n",
       "    </tr>\n",
       "    <tr>\n",
       "      <td>std</td>\n",
       "      <td>146.119496</td>\n",
       "      <td>2.920316</td>\n",
       "      <td>25.939858</td>\n",
       "      <td>190.313730</td>\n",
       "      <td>5.747061</td>\n",
       "      <td>28.227876</td>\n",
       "      <td>0.0</td>\n",
       "      <td>0.0</td>\n",
       "      <td>0.0</td>\n",
       "      <td>0.0</td>\n",
       "      <td>0.0</td>\n",
       "      <td>0.0</td>\n",
       "      <td>0.0</td>\n",
       "      <td>818.404367</td>\n",
       "    </tr>\n",
       "    <tr>\n",
       "      <td>min</td>\n",
       "      <td>1001.000000</td>\n",
       "      <td>1.000000</td>\n",
       "      <td>0.000000</td>\n",
       "      <td>0.000000</td>\n",
       "      <td>0.000000</td>\n",
       "      <td>0.000000</td>\n",
       "      <td>50.0</td>\n",
       "      <td>15360.0</td>\n",
       "      <td>500.0</td>\n",
       "      <td>550.0</td>\n",
       "      <td>200.0</td>\n",
       "      <td>3.0</td>\n",
       "      <td>3.0</td>\n",
       "      <td>550.000000</td>\n",
       "    </tr>\n",
       "    <tr>\n",
       "      <td>25%</td>\n",
       "      <td>1121.000000</td>\n",
       "      <td>6.000000</td>\n",
       "      <td>40.000000</td>\n",
       "      <td>282.000000</td>\n",
       "      <td>13.000000</td>\n",
       "      <td>10.000000</td>\n",
       "      <td>50.0</td>\n",
       "      <td>15360.0</td>\n",
       "      <td>500.0</td>\n",
       "      <td>550.0</td>\n",
       "      <td>200.0</td>\n",
       "      <td>3.0</td>\n",
       "      <td>3.0</td>\n",
       "      <td>550.000000</td>\n",
       "    </tr>\n",
       "    <tr>\n",
       "      <td>50%</td>\n",
       "      <td>1239.000000</td>\n",
       "      <td>9.000000</td>\n",
       "      <td>60.000000</td>\n",
       "      <td>422.000000</td>\n",
       "      <td>17.000000</td>\n",
       "      <td>28.000000</td>\n",
       "      <td>50.0</td>\n",
       "      <td>15360.0</td>\n",
       "      <td>500.0</td>\n",
       "      <td>550.0</td>\n",
       "      <td>200.0</td>\n",
       "      <td>3.0</td>\n",
       "      <td>3.0</td>\n",
       "      <td>1023.000000</td>\n",
       "    </tr>\n",
       "    <tr>\n",
       "      <td>75%</td>\n",
       "      <td>1376.000000</td>\n",
       "      <td>11.000000</td>\n",
       "      <td>76.000000</td>\n",
       "      <td>545.000000</td>\n",
       "      <td>20.000000</td>\n",
       "      <td>51.000000</td>\n",
       "      <td>50.0</td>\n",
       "      <td>15360.0</td>\n",
       "      <td>500.0</td>\n",
       "      <td>550.0</td>\n",
       "      <td>200.0</td>\n",
       "      <td>3.0</td>\n",
       "      <td>3.0</td>\n",
       "      <td>1750.000000</td>\n",
       "    </tr>\n",
       "    <tr>\n",
       "      <td>max</td>\n",
       "      <td>1499.000000</td>\n",
       "      <td>12.000000</td>\n",
       "      <td>198.000000</td>\n",
       "      <td>1435.000000</td>\n",
       "      <td>38.000000</td>\n",
       "      <td>143.000000</td>\n",
       "      <td>50.0</td>\n",
       "      <td>15360.0</td>\n",
       "      <td>500.0</td>\n",
       "      <td>550.0</td>\n",
       "      <td>200.0</td>\n",
       "      <td>3.0</td>\n",
       "      <td>3.0</td>\n",
       "      <td>6770.000000</td>\n",
       "    </tr>\n",
       "  </tbody>\n",
       "</table>\n",
       "</div>"
      ],
      "text/plain": [
       "           user_id        month  calls_count  calls_duration      gb_used  \\\n",
       "count  2229.000000  2229.000000  2229.000000     2229.000000  2229.000000   \n",
       "mean   1246.506505     8.346792    58.463437      417.934948    16.328847   \n",
       "std     146.119496     2.920316    25.939858      190.313730     5.747061   \n",
       "min    1001.000000     1.000000     0.000000        0.000000     0.000000   \n",
       "25%    1121.000000     6.000000    40.000000      282.000000    13.000000   \n",
       "50%    1239.000000     9.000000    60.000000      422.000000    17.000000   \n",
       "75%    1376.000000    11.000000    76.000000      545.000000    20.000000   \n",
       "max    1499.000000    12.000000   198.000000     1435.000000    38.000000   \n",
       "\n",
       "       messages_count  messages_included  mb_per_month_included  \\\n",
       "count     2229.000000             2229.0                 2229.0   \n",
       "mean        33.384029               50.0                15360.0   \n",
       "std         28.227876                0.0                    0.0   \n",
       "min          0.000000               50.0                15360.0   \n",
       "25%         10.000000               50.0                15360.0   \n",
       "50%         28.000000               50.0                15360.0   \n",
       "75%         51.000000               50.0                15360.0   \n",
       "max        143.000000               50.0                15360.0   \n",
       "\n",
       "       minutes_included  rub_monthly_fee  rub_per_gb  rub_per_message  \\\n",
       "count            2229.0           2229.0      2229.0           2229.0   \n",
       "mean              500.0            550.0       200.0              3.0   \n",
       "std                 0.0              0.0         0.0              0.0   \n",
       "min               500.0            550.0       200.0              3.0   \n",
       "25%               500.0            550.0       200.0              3.0   \n",
       "50%               500.0            550.0       200.0              3.0   \n",
       "75%               500.0            550.0       200.0              3.0   \n",
       "max               500.0            550.0       200.0              3.0   \n",
       "\n",
       "       rub_per_minute      revenue  \n",
       "count          2229.0  2229.000000  \n",
       "mean              3.0  1289.973531  \n",
       "std               0.0   818.404367  \n",
       "min               3.0   550.000000  \n",
       "25%               3.0   550.000000  \n",
       "50%               3.0  1023.000000  \n",
       "75%               3.0  1750.000000  \n",
       "max               3.0  6770.000000  "
      ]
     },
     "execution_count": 23,
     "metadata": {},
     "output_type": "execute_result"
    }
   ],
   "source": [
    "smart_users.describe()"
   ]
  },
  {
   "cell_type": "code",
   "execution_count": 24,
   "metadata": {},
   "outputs": [
    {
     "data": {
      "text/plain": [
       "Text(0, 0.5, 'Количество месячных затрат клиентами.')"
      ]
     },
     "execution_count": 24,
     "metadata": {},
     "output_type": "execute_result"
    },
    {
     "data": {
      "image/png": "[encoded data removed]",
      "text/plain": [
       "<Figure size 432x288 with 1 Axes>"
      ]
     },
     "metadata": {
      "needs_background": "light"
     },
     "output_type": "display_data"
    },
    {
     "data": {
      "image/png": "[encoded data removed]",
      "text/plain": [
       "<Figure size 432x288 with 1 Axes>"
      ]
     },
     "metadata": {
      "needs_background": "light"
     },
     "output_type": "display_data"
    },
    {
     "data": {
      "image/png": "[encoded data removed]",
      "text/plain": [
       "<Figure size 432x288 with 1 Axes>"
      ]
     },
     "metadata": {
      "needs_background": "light"
     },
     "output_type": "display_data"
    }
   ],
   "source": [
    "smart_users.plot(title = 'Суммарная длительность звонков клиентов тарифа \"Смарт\"', kind = 'hist', y = 'calls_duration', bins = 25, xlim = (0, 1500))\n",
    "plt.xlabel(\"Минут\")\n",
    "plt.ylabel(\"Количество месячных затрат клиентами.\")\n",
    "smart_users.plot(title = 'Количество использованного трафика клиентов тарифа \"Смарт\"', kind = 'hist', y = 'gb_used', bins = 25, xlim = (0, 49))\n",
    "plt.xlabel(\"Гигабайт\")\n",
    "plt.ylabel(\"Количество месячных затрат клиентами.\")\n",
    "smart_users.plot(title = 'Количество отправленных сообщений клиентов тарифа \"Смарт\"', kind = 'hist', y = 'messages_count', bins = 25, xlim = (0, 200))\n",
    "plt.xlabel(\"Сообщений\")\n",
    "plt.ylabel(\"Количество месячных затрат клиентами.\")"
   ]
  },
  {
   "cell_type": "markdown",
   "metadata": {},
   "source": [
    "### Анализ тарифа \"Ультра\" "
   ]
  },
  {
   "cell_type": "code",
   "execution_count": 25,
   "metadata": {},
   "outputs": [
    {
     "data": {
      "text/html": [
       "<div>\n",
       "<style scoped>\n",
       "    .dataframe tbody tr th:only-of-type {\n",
       "        vertical-align: middle;\n",
       "    }\n",
       "\n",
       "    .dataframe tbody tr th {\n",
       "        vertical-align: top;\n",
       "    }\n",
       "\n",
       "    .dataframe thead th {\n",
       "        text-align: right;\n",
       "    }\n",
       "</style>\n",
       "<table border=\"1\" class=\"dataframe\">\n",
       "  <thead>\n",
       "    <tr style=\"text-align: right;\">\n",
       "      <th></th>\n",
       "      <th>user_id</th>\n",
       "      <th>month</th>\n",
       "      <th>calls_count</th>\n",
       "      <th>calls_duration</th>\n",
       "      <th>gb_used</th>\n",
       "      <th>messages_count</th>\n",
       "      <th>messages_included</th>\n",
       "      <th>mb_per_month_included</th>\n",
       "      <th>minutes_included</th>\n",
       "      <th>rub_monthly_fee</th>\n",
       "      <th>rub_per_gb</th>\n",
       "      <th>rub_per_message</th>\n",
       "      <th>rub_per_minute</th>\n",
       "      <th>revenue</th>\n",
       "    </tr>\n",
       "  </thead>\n",
       "  <tbody>\n",
       "    <tr>\n",
       "      <td>count</td>\n",
       "      <td>985.000000</td>\n",
       "      <td>985.000000</td>\n",
       "      <td>985.000000</td>\n",
       "      <td>985.000000</td>\n",
       "      <td>985.000000</td>\n",
       "      <td>985.000000</td>\n",
       "      <td>985.0</td>\n",
       "      <td>985.0</td>\n",
       "      <td>985.0</td>\n",
       "      <td>985.0</td>\n",
       "      <td>985.0</td>\n",
       "      <td>985.0</td>\n",
       "      <td>985.0</td>\n",
       "      <td>985.000000</td>\n",
       "    </tr>\n",
       "    <tr>\n",
       "      <td>mean</td>\n",
       "      <td>1263.094416</td>\n",
       "      <td>8.250761</td>\n",
       "      <td>73.392893</td>\n",
       "      <td>526.623350</td>\n",
       "      <td>19.494416</td>\n",
       "      <td>49.363452</td>\n",
       "      <td>1000.0</td>\n",
       "      <td>30720.0</td>\n",
       "      <td>3000.0</td>\n",
       "      <td>1950.0</td>\n",
       "      <td>150.0</td>\n",
       "      <td>1.0</td>\n",
       "      <td>1.0</td>\n",
       "      <td>2070.152284</td>\n",
       "    </tr>\n",
       "    <tr>\n",
       "      <td>std</td>\n",
       "      <td>140.694908</td>\n",
       "      <td>2.871762</td>\n",
       "      <td>43.916853</td>\n",
       "      <td>317.606098</td>\n",
       "      <td>9.853511</td>\n",
       "      <td>47.804457</td>\n",
       "      <td>0.0</td>\n",
       "      <td>0.0</td>\n",
       "      <td>0.0</td>\n",
       "      <td>0.0</td>\n",
       "      <td>0.0</td>\n",
       "      <td>0.0</td>\n",
       "      <td>0.0</td>\n",
       "      <td>376.187114</td>\n",
       "    </tr>\n",
       "    <tr>\n",
       "      <td>min</td>\n",
       "      <td>1000.000000</td>\n",
       "      <td>1.000000</td>\n",
       "      <td>0.000000</td>\n",
       "      <td>0.000000</td>\n",
       "      <td>0.000000</td>\n",
       "      <td>0.000000</td>\n",
       "      <td>1000.0</td>\n",
       "      <td>30720.0</td>\n",
       "      <td>3000.0</td>\n",
       "      <td>1950.0</td>\n",
       "      <td>150.0</td>\n",
       "      <td>1.0</td>\n",
       "      <td>1.0</td>\n",
       "      <td>1950.000000</td>\n",
       "    </tr>\n",
       "    <tr>\n",
       "      <td>25%</td>\n",
       "      <td>1143.000000</td>\n",
       "      <td>6.000000</td>\n",
       "      <td>41.000000</td>\n",
       "      <td>284.000000</td>\n",
       "      <td>12.000000</td>\n",
       "      <td>6.000000</td>\n",
       "      <td>1000.0</td>\n",
       "      <td>30720.0</td>\n",
       "      <td>3000.0</td>\n",
       "      <td>1950.0</td>\n",
       "      <td>150.0</td>\n",
       "      <td>1.0</td>\n",
       "      <td>1.0</td>\n",
       "      <td>1950.000000</td>\n",
       "    </tr>\n",
       "    <tr>\n",
       "      <td>50%</td>\n",
       "      <td>1277.000000</td>\n",
       "      <td>9.000000</td>\n",
       "      <td>74.000000</td>\n",
       "      <td>518.000000</td>\n",
       "      <td>19.000000</td>\n",
       "      <td>38.000000</td>\n",
       "      <td>1000.0</td>\n",
       "      <td>30720.0</td>\n",
       "      <td>3000.0</td>\n",
       "      <td>1950.0</td>\n",
       "      <td>150.0</td>\n",
       "      <td>1.0</td>\n",
       "      <td>1.0</td>\n",
       "      <td>1950.000000</td>\n",
       "    </tr>\n",
       "    <tr>\n",
       "      <td>75%</td>\n",
       "      <td>1381.000000</td>\n",
       "      <td>11.000000</td>\n",
       "      <td>104.000000</td>\n",
       "      <td>752.000000</td>\n",
       "      <td>27.000000</td>\n",
       "      <td>79.000000</td>\n",
       "      <td>1000.0</td>\n",
       "      <td>30720.0</td>\n",
       "      <td>3000.0</td>\n",
       "      <td>1950.0</td>\n",
       "      <td>150.0</td>\n",
       "      <td>1.0</td>\n",
       "      <td>1.0</td>\n",
       "      <td>1950.000000</td>\n",
       "    </tr>\n",
       "    <tr>\n",
       "      <td>max</td>\n",
       "      <td>1495.000000</td>\n",
       "      <td>12.000000</td>\n",
       "      <td>244.000000</td>\n",
       "      <td>1673.000000</td>\n",
       "      <td>49.000000</td>\n",
       "      <td>224.000000</td>\n",
       "      <td>1000.0</td>\n",
       "      <td>30720.0</td>\n",
       "      <td>3000.0</td>\n",
       "      <td>1950.0</td>\n",
       "      <td>150.0</td>\n",
       "      <td>1.0</td>\n",
       "      <td>1.0</td>\n",
       "      <td>4800.000000</td>\n",
       "    </tr>\n",
       "  </tbody>\n",
       "</table>\n",
       "</div>"
      ],
      "text/plain": [
       "           user_id       month  calls_count  calls_duration     gb_used  \\\n",
       "count   985.000000  985.000000   985.000000      985.000000  985.000000   \n",
       "mean   1263.094416    8.250761    73.392893      526.623350   19.494416   \n",
       "std     140.694908    2.871762    43.916853      317.606098    9.853511   \n",
       "min    1000.000000    1.000000     0.000000        0.000000    0.000000   \n",
       "25%    1143.000000    6.000000    41.000000      284.000000   12.000000   \n",
       "50%    1277.000000    9.000000    74.000000      518.000000   19.000000   \n",
       "75%    1381.000000   11.000000   104.000000      752.000000   27.000000   \n",
       "max    1495.000000   12.000000   244.000000     1673.000000   49.000000   \n",
       "\n",
       "       messages_count  messages_included  mb_per_month_included  \\\n",
       "count      985.000000              985.0                  985.0   \n",
       "mean        49.363452             1000.0                30720.0   \n",
       "std         47.804457                0.0                    0.0   \n",
       "min          0.000000             1000.0                30720.0   \n",
       "25%          6.000000             1000.0                30720.0   \n",
       "50%         38.000000             1000.0                30720.0   \n",
       "75%         79.000000             1000.0                30720.0   \n",
       "max        224.000000             1000.0                30720.0   \n",
       "\n",
       "       minutes_included  rub_monthly_fee  rub_per_gb  rub_per_message  \\\n",
       "count             985.0            985.0       985.0            985.0   \n",
       "mean             3000.0           1950.0       150.0              1.0   \n",
       "std                 0.0              0.0         0.0              0.0   \n",
       "min              3000.0           1950.0       150.0              1.0   \n",
       "25%              3000.0           1950.0       150.0              1.0   \n",
       "50%              3000.0           1950.0       150.0              1.0   \n",
       "75%              3000.0           1950.0       150.0              1.0   \n",
       "max              3000.0           1950.0       150.0              1.0   \n",
       "\n",
       "       rub_per_minute      revenue  \n",
       "count           985.0   985.000000  \n",
       "mean              1.0  2070.152284  \n",
       "std               0.0   376.187114  \n",
       "min               1.0  1950.000000  \n",
       "25%               1.0  1950.000000  \n",
       "50%               1.0  1950.000000  \n",
       "75%               1.0  1950.000000  \n",
       "max               1.0  4800.000000  "
      ]
     },
     "execution_count": 25,
     "metadata": {},
     "output_type": "execute_result"
    }
   ],
   "source": [
    "ultra_users.describe()"
   ]
  },
  {
   "cell_type": "code",
   "execution_count": 26,
   "metadata": {},
   "outputs": [
    {
     "data": {
      "text/plain": [
       "Text(0, 0.5, 'Количество месячных затрат клиентами.')"
      ]
     },
     "execution_count": 26,
     "metadata": {},
     "output_type": "execute_result"
    },
    {
     "data": {
      "image/png": "[encoded data removed]",
      "text/plain": [
       "<Figure size 432x288 with 1 Axes>"
      ]
     },
     "metadata": {
      "needs_background": "light"
     },
     "output_type": "display_data"
    },
    {
     "data": {
      "image/png": "[encoded data removed]",
      "text/plain": [
       "<Figure size 432x288 with 1 Axes>"
      ]
     },
     "metadata": {
      "needs_background": "light"
     },
     "output_type": "display_data"
    },
    {
     "data": {
      "image/png": "[encoded data removed]",
      "text/plain": [
       "<Figure size 432x288 with 1 Axes>"
      ]
     },
     "metadata": {
      "needs_background": "light"
     },
     "output_type": "display_data"
    }
   ],
   "source": [
    "ultra_users.plot(title = 'Суммарная длительность звонков', kind = 'hist', y = 'calls_duration', bins = 25, xlim = (0,1500))\n",
    "plt.xlabel(\"Минут\")\n",
    "plt.ylabel(\"Количество месячных затрат клиентами.\")\n",
    "ultra_users.plot(title = 'Количество использованного трафика', kind = 'hist', y = 'gb_used', bins = 25, xlim = (0,50))\n",
    "plt.xlabel(\"Гигабайт\")\n",
    "plt.ylabel(\"Количество месячных затрат клиентами.\")\n",
    "ultra_users.plot(title = 'Количество отправленных сообщений', kind = 'hist', y = 'messages_count', bins = 25, xlim = (0, 200))\n",
    "plt.xlabel(\"Сообщений\")\n",
    "plt.ylabel(\"Количество месячных затрат клиентами.\")"
   ]
  },
  {
   "cell_type": "markdown",
   "metadata": {},
   "source": [
    "Исходя из этих графиков видно, что скорее всего пользователи тарифа смарт используют больше трафика, звонков и смс. Также заметно, что Очень большое количество клиентов практически не использует смс сообщения. Это может навести нас на мысль, что многим практически не нужны смс, а это повод подумать над созданием тарифа учитывающего эту особенность потребителей."
   ]
  },
  {
   "cell_type": "code",
   "execution_count": 27,
   "metadata": {},
   "outputs": [],
   "source": [
    "#Используем ddof = 1, так как работаем с выборкой, а не со всей совокупностью.\n",
    "#Тут собираем среднее, дисперсию и стандартное отклонение в словарь.\n",
    "def get_stat(DataFrame):\n",
    "    stat = {}\n",
    "    stat['calls_mean'] = DataFrame['calls_duration'].mean()\n",
    "    stat['gb_mean'] = DataFrame['gb_used'].mean()\n",
    "    stat['messages_mean'] = DataFrame['messages_count'].mean()\n",
    "    stat['calls_var'] = np.var(DataFrame['calls_duration'], ddof = 1)\n",
    "    stat['gb_var'] = np.var(DataFrame['gb_used'], ddof = 1)\n",
    "    stat['messages_var'] = np.var(DataFrame['messages_count'], ddof = 1)\n",
    "    stat['calls_std'] = np.std(DataFrame['calls_duration'], ddof = 1)\n",
    "    stat['gb_std'] = np.std(DataFrame['gb_used'], ddof = 1)\n",
    "    stat['messages_std'] = np.std(DataFrame['messages_count'], ddof = 1)\n",
    "    return stat"
   ]
  },
  {
   "cell_type": "code",
   "execution_count": 28,
   "metadata": {},
   "outputs": [
    {
     "data": {
      "text/plain": [
       "{'calls_mean': 417.9349484073576,\n",
       " 'gb_mean': 16.328847016599372,\n",
       " 'messages_mean': 33.384028712427096,\n",
       " 'calls_var': 36219.31578434428,\n",
       " 'gb_var': 33.02870517811161,\n",
       " 'messages_var': 796.8129584480083,\n",
       " 'calls_std': 190.31372988921288,\n",
       " 'gb_std': 5.7470605685090534,\n",
       " 'messages_std': 28.22787555676141}"
      ]
     },
     "execution_count": 28,
     "metadata": {},
     "output_type": "execute_result"
    }
   ],
   "source": [
    "smart_stat = get_stat(smart_users)\n",
    "ultra_stat = get_stat(ultra_users)\n",
    "smart_stat"
   ]
  },
  {
   "cell_type": "code",
   "execution_count": 29,
   "metadata": {
    "scrolled": true
   },
   "outputs": [
    {
     "data": {
      "text/plain": [
       "{'calls_mean': 526.6233502538071,\n",
       " 'gb_mean': 19.494416243654822,\n",
       " 'messages_mean': 49.36345177664975,\n",
       " 'calls_var': 100873.63339730098,\n",
       " 'gb_var': 97.09168626965459,\n",
       " 'messages_var': 2285.266142544674,\n",
       " 'calls_std': 317.6060978591264,\n",
       " 'gb_std': 9.853511367510293,\n",
       " 'messages_std': 47.80445735017472}"
      ]
     },
     "execution_count": 29,
     "metadata": {},
     "output_type": "execute_result"
    }
   ],
   "source": [
    "ultra_stat"
   ]
  },
  {
   "cell_type": "code",
   "execution_count": 30,
   "metadata": {},
   "outputs": [],
   "source": [
    "def three_sigm(mean, std):\n",
    "    print(\"Значения находятся между:\", round(positive_value(mean-3*std), 2), \"и\", round((mean+3*std), 2))"
   ]
  },
  {
   "cell_type": "code",
   "execution_count": 31,
   "metadata": {},
   "outputs": [],
   "source": [
    "def three_sigm_stat(dictionary):\n",
    "    print('Для звонков:')\n",
    "    three_sigm(dictionary['calls_mean'],dictionary['calls_std'])\n",
    "    print('Для использованного трафика:')\n",
    "    three_sigm(dictionary['gb_mean'],dictionary['gb_std'])\n",
    "    print('Для количества сообщений:')\n",
    "    three_sigm(dictionary['messages_mean'],dictionary['messages_std'])"
   ]
  },
  {
   "cell_type": "code",
   "execution_count": 32,
   "metadata": {},
   "outputs": [
    {
     "name": "stdout",
     "output_type": "stream",
     "text": [
      "Для пользователей тарифа ультра:\n",
      "Для звонков:\n",
      "Значения находятся между: 0 и 1479.44\n",
      "Для использованного трафика:\n",
      "Значения находятся между: 0 и 49.05\n",
      "Для количества сообщений:\n",
      "Значения находятся между: 0 и 192.78\n",
      "Для пользователей тарифа смарт:\n",
      "Для звонков:\n",
      "Значения находятся между: 0 и 988.88\n",
      "Для использованного трафика:\n",
      "Значения находятся между: 0 и 33.57\n",
      "Для количества сообщений:\n",
      "Значения находятся между: 0 и 118.07\n"
     ]
    }
   ],
   "source": [
    "print(\"Для пользователей тарифа ультра:\")\n",
    "three_sigm_stat(ultra_stat)\n",
    "print(\"Для пользователей тарифа смарт:\")\n",
    "three_sigm_stat(smart_stat)\n",
    "    "
   ]
  },
  {
   "cell_type": "code",
   "execution_count": 33,
   "metadata": {},
   "outputs": [
    {
     "name": "stdout",
     "output_type": "stream",
     "text": [
      "Суммарная выручка за клиентов тарифа \"Смарт:\" 2875351.000599\n",
      "Суммарная выручка за клиентов тарифа \"Ультра:\" 2039099.9997399999\n"
     ]
    }
   ],
   "source": [
    "print('Суммарная выручка за клиентов тарифа \"Смарт:\"', 2229 * 1289.973531)\n",
    "print('Суммарная выручка за клиентов тарифа \"Ультра:\"', 985 * 2070.152284)"
   ]
  },
  {
   "cell_type": "markdown",
   "metadata": {},
   "source": [
    "***Вывод:***"
   ]
  },
  {
   "cell_type": "markdown",
   "metadata": {},
   "source": [
    "Теперь мы знаем, что клиенты пользующиеся тарифом ультра в среднем используют больше трафика, сообщений и звонков, чем пользователи тарифа смарт. Также графики количества сообщений и потребления интернет-трафика имеют биномиальное распределение, а график сообщений распределение Пуассона. Это даёт нам определённую уверенность, что данные верны. Также мы посчитали дисперсию и стандартное отклонение, по которым можем сказать, что по правилу трёх сигм пользователям тарифа ультра не нужно больше, чем 1500 минут разговора в 99% случаев. Интернет трафик нужен и его практически столько, сколько надо. Сообщений таже не нужно больше 200. Это говорит нам о том, что этот тариф можно и нужно переработать для клиентов, так как им не нужны лишние смс и звонки. С тарифом смарт ситация обратная им нехватает трафика, звонков и смс. Это говорит нам о том, что тариф \"Ультра\" даёт людям слишком много всего, а тариф \"Смарт слишком мало\". Возможно компании стоит задуматься о создании тарифа, который будет чем-то средним между тарифами \"Смарт\" и \"Ультра\". Также мы выяснили, что в среднем пользователи тарифа \"Ультра\" тратят больше денег, однако суммарная выручка с пользователей тарифа \"Смарт\" больше примерно на 40%."
   ]
  },
  {
   "cell_type": "markdown",
   "metadata": {},
   "source": [
    "## Построение и проверка гипотез"
   ]
  },
  {
   "cell_type": "markdown",
   "metadata": {},
   "source": [
    "### Проверка гипотезы: \"Пользователи тарифа \"Смарт\" приносят в меньше выручки, чем пользователи тарифа \"Ультра\"\""
   ]
  },
  {
   "cell_type": "markdown",
   "metadata": {},
   "source": [
    "Нулевая гипотеза - пользователи обоих тарифов платят одинаковое количество денег в месяц. Критерий - ежемесячный платёж, так как нас не интересует в данный момент, как именно клиенты тратят свои деньги. Нас интересует, сколько они тратят."
   ]
  },
  {
   "cell_type": "markdown",
   "metadata": {},
   "source": [
    "Альтернативная гипотеза: пользователи разных тарифов приносят разное количество выручки в месяц."
   ]
  },
  {
   "cell_type": "code",
   "execution_count": 34,
   "metadata": {},
   "outputs": [
    {
     "name": "stdout",
     "output_type": "stream",
     "text": [
      "p-значение: 1.4229814360764067e-160\n",
      "Отвергаем нулевую гипотезу\n"
     ]
    }
   ],
   "source": [
    "alpha = .05\n",
    "result = st.ttest_ind(smart_users['revenue'], ultra_users['revenue'])\n",
    "print('p-значение:', result.pvalue)\n",
    "if (result.pvalue < alpha):\n",
    "    print(\"Отвергаем нулевую гипотезу\")\n",
    "else:\n",
    "    print(\"Не получилось отвергнуть нулевую гипотезу\")"
   ]
  },
  {
   "cell_type": "markdown",
   "metadata": {},
   "source": [
    "***Вывод:***"
   ]
  },
  {
   "cell_type": "markdown",
   "metadata": {},
   "source": [
    "Мы отвергли нулевую гипотезу. Это даёт нам знать, что пользователи разных тарифов платят разные суммы в месяц. А так как средняя месячная оплата у пользователей тарифа \"Ультра\" выше, то можем сказать, что выручка от пользователей тарифа \"Ультра\" выше. Что довольно логично."
   ]
  },
  {
   "cell_type": "markdown",
   "metadata": {},
   "source": [
    "### Проверка гипотезы: \"Средняя выручка пользователи из Москвы отличается от выручки пользователей из других регионов\""
   ]
  },
  {
   "cell_type": "markdown",
   "metadata": {},
   "source": [
    "Нулевая гипотеза - пользователи из Москвы платят столько, сколько и все остальные. Критерий остаётся аналогичным."
   ]
  },
  {
   "cell_type": "markdown",
   "metadata": {},
   "source": [
    "Альтернативная гипотеза: выручка пользователя из Москвы отличается от выручк пользователей других регионов."
   ]
  },
  {
   "cell_type": "code",
   "execution_count": 35,
   "metadata": {},
   "outputs": [
    {
     "name": "stdout",
     "output_type": "stream",
     "text": [
      "p-значение: 0.5440152911670224\n",
      "Не получилось отвергнуть нулевую гипотезу\n"
     ]
    }
   ],
   "source": [
    "Moscow_users = users_pivot_table.query(\"city == 'Москва'\")\n",
    "Other_users = users_pivot_table.query(\"city != 'Москва'\") \n",
    "result = st.ttest_ind(Moscow_users['revenue'], Other_users['revenue'])\n",
    "print('p-значение:', result.pvalue)\n",
    "if (result.pvalue < alpha):\n",
    "    print(\"Отвергаем нулевую гипотезу\")\n",
    "else:\n",
    "    print(\"Не получилось отвергнуть нулевую гипотезу\")"
   ]
  },
  {
   "cell_type": "code",
   "execution_count": 36,
   "metadata": {},
   "outputs": [
    {
     "name": "stdout",
     "output_type": "stream",
     "text": [
      "1546.7135842880523\n",
      "1524.9362274298885\n"
     ]
    }
   ],
   "source": [
    "print(Moscow_users['revenue'].mean())\n",
    "print(Other_users['revenue'].mean())"
   ]
  },
  {
   "cell_type": "markdown",
   "metadata": {},
   "source": [
    "***Вывод***"
   ]
  },
  {
   "cell_type": "markdown",
   "metadata": {},
   "source": [
    "В этот раз у нас не получилось отвергнуть нулевую гипотезу, а если посмотреть на pvalue, то мы видим, что оно большое - 0.54, поэтому делаем вывод, что скорее всего пользователи из Москвы в среднем платять столько же, сколько и остальные клиенты."
   ]
  },
  {
   "cell_type": "markdown",
   "metadata": {},
   "source": [
    "## Сравнение динамики суммарной месячной выручки"
   ]
  },
  {
   "cell_type": "code",
   "execution_count": 37,
   "metadata": {},
   "outputs": [
    {
     "data": {
      "image/png": "[encoded data removed]",
      "text/plain": [
       "<Figure size 432x288 with 1 Axes>"
      ]
     },
     "metadata": {
      "needs_background": "light"
     },
     "output_type": "display_data"
    },
    {
     "data": {
      "image/png": "[encoded data removed]",
      "text/plain": [
       "<Figure size 432x288 with 1 Axes>"
      ]
     },
     "metadata": {
      "needs_background": "light"
     },
     "output_type": "display_data"
    }
   ],
   "source": [
    "smart_users.groupby(by = 'month')['revenue'].sum().plot(title = 'Тариф \"Смарт\"', ylim = (0, 550000))\n",
    "plt.xlabel('Месяц')\n",
    "plt.ylabel('выручка руб.')\n",
    "plt.show()\n",
    "ultra_users.groupby(by = 'month')['revenue'].sum().plot(title = 'Тариф \"Ультра\"', ylim = (0, 550000))\n",
    "plt.xlabel('Месяц')\n",
    "plt.ylabel('выручка руб.')\n",
    "plt.show()"
   ]
  },
  {
   "cell_type": "markdown",
   "metadata": {},
   "source": [
    "\n",
    "## Общий вывод"
   ]
  },
  {
   "cell_type": "markdown",
   "metadata": {},
   "source": [
    "Исходя из нашей выборки мы узнали следующее: ежемесячный платёж не зависит от того проживает клиент в Москве или нет; пользователи тарифа \"Ультра\" платят в среднем больше, чем пользователи тарифа \"Смарт\". В среднем клиентам, у которых тариф \"Смарт\" не хватает встроенных пакетов, однако не настолько, чтобы переходить на тариф \"Ультра\", ни один клиент не использовал пакеты тарифа \"Ультра\" полностью. Это надвигает на мысль, что нужен промежуточный тариф, в средней ценовой категории. Также мы заметили, что многие люди вообще не пользуются смс, это тоже стоит учитывать при создании новых тарифов или изменении старых. Проверив годовую динамику суммарной выручки тарифов \"Смарт\" и \"Ультра\" мы выяснили, что пользователи тарифа \"Смарт\" не только принесли большую сумммарную выручку, но и динамика этой выручки выглядит гораздо лучше. Если график динамики тарифа \"Ультра\" похож на график x^(1/2), то график тарифа \"Смарт\" похож на график x^2. Поэтому мы видим, что люди предпочитают этот тариф и скорее всего вложение в его рекламу принесёт большие выручки, так как судя по динамике этот тариф более перспективный. "
   ]
  }
 ],
 "metadata": {
  "ExecuteTimeLog": [
   {
    "duration": 1251,
    "start_time": "2021-09-01T19:18:13.181Z"
   },
   {
    "duration": 3401,
    "start_time": "2021-09-01T19:18:56.249Z"
   },
   {
    "duration": 177,
    "start_time": "2021-09-01T19:19:31.502Z"
   },
   {
    "duration": 118,
    "start_time": "2021-09-01T19:20:53.429Z"
   },
   {
    "duration": 18,
    "start_time": "2021-09-01T19:29:30.109Z"
   },
   {
    "duration": 26,
    "start_time": "2021-09-01T19:29:38.761Z"
   },
   {
    "duration": 44,
    "start_time": "2021-09-01T19:30:17.996Z"
   },
   {
    "duration": 414,
    "start_time": "2021-09-01T19:31:19.748Z"
   },
   {
    "duration": 229,
    "start_time": "2021-09-01T19:31:28.449Z"
   },
   {
    "duration": 26,
    "start_time": "2021-09-01T19:31:30.249Z"
   },
   {
    "duration": 36,
    "start_time": "2021-09-01T19:31:38.901Z"
   },
   {
    "duration": 195,
    "start_time": "2021-09-01T19:32:14.749Z"
   },
   {
    "duration": 23,
    "start_time": "2021-09-01T19:32:26.429Z"
   },
   {
    "duration": 39,
    "start_time": "2021-09-01T19:32:39.909Z"
   },
   {
    "duration": 120,
    "start_time": "2021-09-01T19:32:59.530Z"
   },
   {
    "duration": 19,
    "start_time": "2021-09-01T19:33:01.810Z"
   },
   {
    "duration": 21,
    "start_time": "2021-09-01T19:33:16.609Z"
   },
   {
    "duration": 9,
    "start_time": "2021-09-01T19:34:04.889Z"
   },
   {
    "duration": 543,
    "start_time": "2021-09-01T20:22:14.676Z"
   },
   {
    "duration": 68,
    "start_time": "2021-09-01T20:23:27.796Z"
   },
   {
    "duration": 1265,
    "start_time": "2021-09-01T20:27:14.223Z"
   },
   {
    "duration": 27,
    "start_time": "2021-09-01T20:27:15.491Z"
   },
   {
    "duration": 63,
    "start_time": "2021-09-01T20:27:15.521Z"
   },
   {
    "duration": 209,
    "start_time": "2021-09-01T20:27:15.587Z"
   },
   {
    "duration": 22,
    "start_time": "2021-09-01T20:27:15.799Z"
   },
   {
    "duration": 65,
    "start_time": "2021-09-01T20:27:15.823Z"
   },
   {
    "duration": 140,
    "start_time": "2021-09-01T20:27:15.891Z"
   },
   {
    "duration": 31,
    "start_time": "2021-09-01T20:27:16.033Z"
   },
   {
    "duration": 26,
    "start_time": "2021-09-01T20:27:16.070Z"
   },
   {
    "duration": 45,
    "start_time": "2021-09-01T20:27:16.098Z"
   },
   {
    "duration": 20,
    "start_time": "2021-09-01T20:27:16.145Z"
   },
   {
    "duration": 362,
    "start_time": "2021-09-01T20:27:16.169Z"
   },
   {
    "duration": 79,
    "start_time": "2021-09-01T20:27:16.534Z"
   },
   {
    "duration": 139,
    "start_time": "2021-09-01T20:27:16.616Z"
   },
   {
    "duration": 487,
    "start_time": "2021-09-01T20:27:45.923Z"
   },
   {
    "duration": 464,
    "start_time": "2021-09-01T20:30:18.667Z"
   },
   {
    "duration": 7,
    "start_time": "2021-09-01T20:30:37.366Z"
   },
   {
    "duration": 15,
    "start_time": "2021-09-01T20:31:44.759Z"
   },
   {
    "duration": 37,
    "start_time": "2021-09-01T20:31:54.711Z"
   },
   {
    "duration": 136,
    "start_time": "2021-09-01T20:45:26.057Z"
   },
   {
    "duration": 31,
    "start_time": "2021-09-01T20:45:36.716Z"
   },
   {
    "duration": 22,
    "start_time": "2021-09-01T20:45:50.145Z"
   },
   {
    "duration": 2527,
    "start_time": "2021-09-02T12:32:42.194Z"
   },
   {
    "duration": 925,
    "start_time": "2021-09-02T12:32:58.584Z"
   },
   {
    "duration": 21,
    "start_time": "2021-09-02T12:32:59.512Z"
   },
   {
    "duration": 50,
    "start_time": "2021-09-02T12:32:59.536Z"
   },
   {
    "duration": 137,
    "start_time": "2021-09-02T12:32:59.588Z"
   },
   {
    "duration": 17,
    "start_time": "2021-09-02T12:32:59.726Z"
   },
   {
    "duration": 42,
    "start_time": "2021-09-02T12:32:59.744Z"
   },
   {
    "duration": 87,
    "start_time": "2021-09-02T12:32:59.787Z"
   },
   {
    "duration": 20,
    "start_time": "2021-09-02T12:32:59.877Z"
   },
   {
    "duration": 24,
    "start_time": "2021-09-02T12:32:59.899Z"
   },
   {
    "duration": 58,
    "start_time": "2021-09-02T12:32:59.924Z"
   },
   {
    "duration": 6,
    "start_time": "2021-09-02T12:32:59.984Z"
   },
   {
    "duration": 243,
    "start_time": "2021-09-02T12:32:59.991Z"
   },
   {
    "duration": 58,
    "start_time": "2021-09-02T12:33:00.235Z"
   },
   {
    "duration": 37,
    "start_time": "2021-09-02T12:33:00.294Z"
   },
   {
    "duration": 1062,
    "start_time": "2021-09-02T12:35:49.255Z"
   },
   {
    "duration": 2292,
    "start_time": "2021-09-02T12:36:21.940Z"
   },
   {
    "duration": 1305,
    "start_time": "2021-09-02T12:36:54.677Z"
   },
   {
    "duration": 20,
    "start_time": "2021-09-02T12:36:55.984Z"
   },
   {
    "duration": 31,
    "start_time": "2021-09-02T12:36:56.006Z"
   },
   {
    "duration": 141,
    "start_time": "2021-09-02T12:36:56.039Z"
   },
   {
    "duration": 17,
    "start_time": "2021-09-02T12:36:56.182Z"
   },
   {
    "duration": 41,
    "start_time": "2021-09-02T12:36:56.201Z"
   },
   {
    "duration": 98,
    "start_time": "2021-09-02T12:36:56.244Z"
   },
   {
    "duration": 14,
    "start_time": "2021-09-02T12:36:56.344Z"
   },
   {
    "duration": 29,
    "start_time": "2021-09-02T12:36:56.360Z"
   },
   {
    "duration": 66,
    "start_time": "2021-09-02T12:36:56.391Z"
   },
   {
    "duration": 8,
    "start_time": "2021-09-02T12:36:56.458Z"
   },
   {
    "duration": 218,
    "start_time": "2021-09-02T12:36:56.468Z"
   },
   {
    "duration": 42,
    "start_time": "2021-09-02T12:36:56.688Z"
   },
   {
    "duration": 22,
    "start_time": "2021-09-02T12:36:56.732Z"
   },
   {
    "duration": 951,
    "start_time": "2021-09-02T12:37:15.844Z"
   },
   {
    "duration": 21,
    "start_time": "2021-09-02T12:37:16.797Z"
   },
   {
    "duration": 26,
    "start_time": "2021-09-02T12:37:16.820Z"
   },
   {
    "duration": 150,
    "start_time": "2021-09-02T12:37:16.848Z"
   },
   {
    "duration": 17,
    "start_time": "2021-09-02T12:37:16.999Z"
   },
   {
    "duration": 33,
    "start_time": "2021-09-02T12:37:17.018Z"
   },
   {
    "duration": 107,
    "start_time": "2021-09-02T12:37:17.053Z"
   },
   {
    "duration": 27,
    "start_time": "2021-09-02T12:37:17.162Z"
   },
   {
    "duration": 32,
    "start_time": "2021-09-02T12:37:17.192Z"
   },
   {
    "duration": 56,
    "start_time": "2021-09-02T12:37:17.227Z"
   },
   {
    "duration": 9,
    "start_time": "2021-09-02T12:37:17.285Z"
   },
   {
    "duration": 236,
    "start_time": "2021-09-02T12:37:17.295Z"
   },
   {
    "duration": 61,
    "start_time": "2021-09-02T12:37:17.532Z"
   },
   {
    "duration": 28,
    "start_time": "2021-09-02T12:37:17.595Z"
   },
   {
    "duration": 520,
    "start_time": "2021-09-02T19:29:14.321Z"
   },
   {
    "duration": 1043,
    "start_time": "2021-09-02T19:30:02.100Z"
   },
   {
    "duration": 30,
    "start_time": "2021-09-02T19:30:03.146Z"
   },
   {
    "duration": 38,
    "start_time": "2021-09-02T19:30:03.179Z"
   },
   {
    "duration": 186,
    "start_time": "2021-09-02T19:30:03.219Z"
   },
   {
    "duration": 21,
    "start_time": "2021-09-02T19:30:03.408Z"
   },
   {
    "duration": 54,
    "start_time": "2021-09-02T19:30:03.432Z"
   },
   {
    "duration": 131,
    "start_time": "2021-09-02T19:30:03.488Z"
   },
   {
    "duration": 18,
    "start_time": "2021-09-02T19:30:03.622Z"
   },
   {
    "duration": 28,
    "start_time": "2021-09-02T19:30:03.655Z"
   },
   {
    "duration": 60,
    "start_time": "2021-09-02T19:30:03.685Z"
   },
   {
    "duration": 9,
    "start_time": "2021-09-02T19:30:03.747Z"
   },
   {
    "duration": 353,
    "start_time": "2021-09-02T19:30:03.759Z"
   },
   {
    "duration": 73,
    "start_time": "2021-09-02T19:30:04.115Z"
   },
   {
    "duration": 53,
    "start_time": "2021-09-02T19:30:04.191Z"
   },
   {
    "duration": 33,
    "start_time": "2021-09-02T19:30:04.255Z"
   },
   {
    "duration": 48,
    "start_time": "2021-09-02T19:36:37.944Z"
   },
   {
    "duration": 64,
    "start_time": "2021-09-02T19:38:52.823Z"
   },
   {
    "duration": 65,
    "start_time": "2021-09-02T19:39:24.355Z"
   },
   {
    "duration": 478,
    "start_time": "2021-09-02T19:42:00.122Z"
   },
   {
    "duration": 364,
    "start_time": "2021-09-02T19:42:07.555Z"
   },
   {
    "duration": 31,
    "start_time": "2021-09-02T19:43:47.037Z"
   },
   {
    "duration": 66,
    "start_time": "2021-09-02T19:45:17.556Z"
   },
   {
    "duration": 77,
    "start_time": "2021-09-02T19:45:21.995Z"
   },
   {
    "duration": 401,
    "start_time": "2021-09-02T19:53:54.978Z"
   },
   {
    "duration": 39,
    "start_time": "2021-09-02T19:54:17.310Z"
   },
   {
    "duration": 47,
    "start_time": "2021-09-02T19:54:38.911Z"
   },
   {
    "duration": 455,
    "start_time": "2021-09-02T19:55:12.070Z"
   },
   {
    "duration": 105,
    "start_time": "2021-09-02T19:55:39.438Z"
   },
   {
    "duration": 84,
    "start_time": "2021-09-02T20:20:08.617Z"
   },
   {
    "duration": 85,
    "start_time": "2021-09-02T20:20:24.099Z"
   },
   {
    "duration": 110,
    "start_time": "2021-09-02T20:25:42.744Z"
   },
   {
    "duration": 162,
    "start_time": "2021-09-02T20:25:53.005Z"
   },
   {
    "duration": 146,
    "start_time": "2021-09-02T20:27:19.533Z"
   },
   {
    "duration": 163,
    "start_time": "2021-09-02T20:27:42.652Z"
   },
   {
    "duration": 121,
    "start_time": "2021-09-02T20:28:01.539Z"
   },
   {
    "duration": 121,
    "start_time": "2021-09-02T20:29:22.568Z"
   },
   {
    "duration": 126,
    "start_time": "2021-09-02T20:29:32.440Z"
   },
   {
    "duration": 456,
    "start_time": "2021-09-02T20:39:15.736Z"
   },
   {
    "duration": 509,
    "start_time": "2021-09-02T20:39:29.364Z"
   },
   {
    "duration": 132,
    "start_time": "2021-09-02T20:39:42.897Z"
   },
   {
    "duration": 200,
    "start_time": "2021-09-02T20:40:39.239Z"
   },
   {
    "duration": 147,
    "start_time": "2021-09-02T20:40:55.436Z"
   },
   {
    "duration": 152,
    "start_time": "2021-09-02T20:41:26.678Z"
   },
   {
    "duration": 144,
    "start_time": "2021-09-02T20:41:37.305Z"
   },
   {
    "duration": 179,
    "start_time": "2021-09-02T20:42:10.605Z"
   },
   {
    "duration": 163,
    "start_time": "2021-09-02T20:42:21.260Z"
   },
   {
    "duration": 133,
    "start_time": "2021-09-02T20:44:53.583Z"
   },
   {
    "duration": 153,
    "start_time": "2021-09-02T20:45:05.768Z"
   },
   {
    "duration": 152,
    "start_time": "2021-09-02T20:45:46.478Z"
   },
   {
    "duration": 206,
    "start_time": "2021-09-02T20:46:02.058Z"
   },
   {
    "duration": 155,
    "start_time": "2021-09-02T20:46:16.456Z"
   },
   {
    "duration": 149,
    "start_time": "2021-09-02T20:46:56.169Z"
   },
   {
    "duration": 163,
    "start_time": "2021-09-02T20:48:50.002Z"
   },
   {
    "duration": 340,
    "start_time": "2021-09-03T10:02:40.485Z"
   },
   {
    "duration": 1116,
    "start_time": "2021-09-03T10:02:55.562Z"
   },
   {
    "duration": 27,
    "start_time": "2021-09-03T10:02:56.681Z"
   },
   {
    "duration": 67,
    "start_time": "2021-09-03T10:02:56.711Z"
   },
   {
    "duration": 190,
    "start_time": "2021-09-03T10:02:56.781Z"
   },
   {
    "duration": 22,
    "start_time": "2021-09-03T10:02:56.974Z"
   },
   {
    "duration": 72,
    "start_time": "2021-09-03T10:02:56.998Z"
   },
   {
    "duration": 132,
    "start_time": "2021-09-03T10:02:57.072Z"
   },
   {
    "duration": 18,
    "start_time": "2021-09-03T10:02:57.207Z"
   },
   {
    "duration": 44,
    "start_time": "2021-09-03T10:02:57.228Z"
   },
   {
    "duration": 51,
    "start_time": "2021-09-03T10:02:57.274Z"
   },
   {
    "duration": 8,
    "start_time": "2021-09-03T10:02:57.328Z"
   },
   {
    "duration": 346,
    "start_time": "2021-09-03T10:02:57.339Z"
   },
   {
    "duration": 73,
    "start_time": "2021-09-03T10:02:57.688Z"
   },
   {
    "duration": 152,
    "start_time": "2021-09-03T10:02:57.767Z"
   },
   {
    "duration": 62,
    "start_time": "2021-09-03T10:02:57.922Z"
   },
   {
    "duration": 94,
    "start_time": "2021-09-03T10:02:57.986Z"
   },
   {
    "duration": 224,
    "start_time": "2021-09-03T10:02:58.082Z"
   },
   {
    "duration": 385,
    "start_time": "2021-09-03T10:02:58.309Z"
   },
   {
    "duration": 23,
    "start_time": "2021-09-03T10:03:43.182Z"
   },
   {
    "duration": 6,
    "start_time": "2021-09-03T10:03:56.134Z"
   },
   {
    "duration": 8,
    "start_time": "2021-09-03T10:04:25.184Z"
   },
   {
    "duration": 579,
    "start_time": "2021-09-03T10:04:45.123Z"
   },
   {
    "duration": 578,
    "start_time": "2021-09-03T10:04:59.383Z"
   },
   {
    "duration": 26,
    "start_time": "2021-09-03T10:05:12.054Z"
   },
   {
    "duration": 271,
    "start_time": "2021-09-03T10:09:38.001Z"
   },
   {
    "duration": 281,
    "start_time": "2021-09-03T10:15:09.542Z"
   },
   {
    "duration": 749,
    "start_time": "2021-09-03T10:15:43.102Z"
   },
   {
    "duration": 792,
    "start_time": "2021-09-03T10:16:00.249Z"
   },
   {
    "duration": 6970,
    "start_time": "2021-09-03T10:19:33.861Z"
   },
   {
    "duration": 287,
    "start_time": "2021-09-03T10:20:20.555Z"
   },
   {
    "duration": 6527,
    "start_time": "2021-09-03T10:26:31.102Z"
   },
   {
    "duration": 5350,
    "start_time": "2021-09-03T10:26:58.490Z"
   },
   {
    "duration": 4,
    "start_time": "2021-09-03T10:34:09.081Z"
   },
   {
    "duration": 138,
    "start_time": "2021-09-03T10:38:41.262Z"
   },
   {
    "duration": 83,
    "start_time": "2021-09-03T10:47:51.848Z"
   },
   {
    "duration": 303,
    "start_time": "2021-09-03T10:51:01.880Z"
   },
   {
    "duration": 297,
    "start_time": "2021-09-03T10:52:33.508Z"
   },
   {
    "duration": 1101,
    "start_time": "2021-09-03T10:53:17.027Z"
   },
   {
    "duration": 39,
    "start_time": "2021-09-03T10:53:18.130Z"
   },
   {
    "duration": 42,
    "start_time": "2021-09-03T10:53:18.172Z"
   },
   {
    "duration": 200,
    "start_time": "2021-09-03T10:53:18.216Z"
   },
   {
    "duration": 36,
    "start_time": "2021-09-03T10:53:18.418Z"
   },
   {
    "duration": 40,
    "start_time": "2021-09-03T10:53:18.458Z"
   },
   {
    "duration": 150,
    "start_time": "2021-09-03T10:53:18.501Z"
   },
   {
    "duration": 20,
    "start_time": "2021-09-03T10:53:18.658Z"
   },
   {
    "duration": 26,
    "start_time": "2021-09-03T10:53:18.681Z"
   },
   {
    "duration": 53,
    "start_time": "2021-09-03T10:53:18.710Z"
   },
   {
    "duration": 9,
    "start_time": "2021-09-03T10:53:18.765Z"
   },
   {
    "duration": 367,
    "start_time": "2021-09-03T10:53:18.776Z"
   },
   {
    "duration": 60,
    "start_time": "2021-09-03T10:53:19.146Z"
   },
   {
    "duration": 151,
    "start_time": "2021-09-03T10:53:19.208Z"
   },
   {
    "duration": 42,
    "start_time": "2021-09-03T10:53:19.362Z"
   },
   {
    "duration": 108,
    "start_time": "2021-09-03T10:53:19.406Z"
   },
   {
    "duration": 213,
    "start_time": "2021-09-03T10:53:19.517Z"
   },
   {
    "duration": 4,
    "start_time": "2021-09-03T10:53:19.732Z"
   },
   {
    "duration": 7645,
    "start_time": "2021-09-03T10:53:19.738Z"
   },
   {
    "duration": 146,
    "start_time": "2021-09-03T10:58:56.431Z"
   },
   {
    "duration": 7228,
    "start_time": "2021-09-03T11:00:42.153Z"
   },
   {
    "duration": 7341,
    "start_time": "2021-09-03T11:01:25.361Z"
   },
   {
    "duration": 6538,
    "start_time": "2021-09-03T11:02:02.815Z"
   },
   {
    "duration": 20,
    "start_time": "2021-09-03T11:06:49.171Z"
   },
   {
    "duration": 101,
    "start_time": "2021-09-03T11:11:03.237Z"
   },
   {
    "duration": 7554,
    "start_time": "2021-09-03T11:11:21.646Z"
   },
   {
    "duration": 6920,
    "start_time": "2021-09-03T11:12:00.495Z"
   },
   {
    "duration": 257,
    "start_time": "2021-09-03T11:14:07.426Z"
   },
   {
    "duration": 1107,
    "start_time": "2021-09-03T11:14:44.947Z"
   },
   {
    "duration": 27,
    "start_time": "2021-09-03T11:14:46.056Z"
   },
   {
    "duration": 48,
    "start_time": "2021-09-03T11:14:46.086Z"
   },
   {
    "duration": 207,
    "start_time": "2021-09-03T11:14:46.137Z"
   },
   {
    "duration": 22,
    "start_time": "2021-09-03T11:14:46.355Z"
   },
   {
    "duration": 47,
    "start_time": "2021-09-03T11:14:46.379Z"
   },
   {
    "duration": 138,
    "start_time": "2021-09-03T11:14:46.429Z"
   },
   {
    "duration": 19,
    "start_time": "2021-09-03T11:14:46.571Z"
   },
   {
    "duration": 44,
    "start_time": "2021-09-03T11:14:46.594Z"
   },
   {
    "duration": 81,
    "start_time": "2021-09-03T11:14:46.640Z"
   },
   {
    "duration": 11,
    "start_time": "2021-09-03T11:14:46.724Z"
   },
   {
    "duration": 337,
    "start_time": "2021-09-03T11:14:46.738Z"
   },
   {
    "duration": 78,
    "start_time": "2021-09-03T11:14:47.077Z"
   },
   {
    "duration": 148,
    "start_time": "2021-09-03T11:14:47.158Z"
   },
   {
    "duration": 61,
    "start_time": "2021-09-03T11:14:47.309Z"
   },
   {
    "duration": 100,
    "start_time": "2021-09-03T11:14:47.373Z"
   },
   {
    "duration": 214,
    "start_time": "2021-09-03T11:14:47.476Z"
   },
   {
    "duration": 4,
    "start_time": "2021-09-03T11:14:47.692Z"
   },
   {
    "duration": 34,
    "start_time": "2021-09-03T11:14:47.698Z"
   },
   {
    "duration": 7577,
    "start_time": "2021-09-03T11:14:47.735Z"
   },
   {
    "duration": 7350,
    "start_time": "2021-09-03T11:16:25.285Z"
   },
   {
    "duration": 1131,
    "start_time": "2021-09-03T11:32:13.154Z"
   },
   {
    "duration": 29,
    "start_time": "2021-09-03T11:32:14.287Z"
   },
   {
    "duration": 67,
    "start_time": "2021-09-03T11:32:14.319Z"
   },
   {
    "duration": 202,
    "start_time": "2021-09-03T11:32:14.388Z"
   },
   {
    "duration": 24,
    "start_time": "2021-09-03T11:32:14.593Z"
   },
   {
    "duration": 68,
    "start_time": "2021-09-03T11:32:14.619Z"
   },
   {
    "duration": 148,
    "start_time": "2021-09-03T11:32:14.691Z"
   },
   {
    "duration": 28,
    "start_time": "2021-09-03T11:32:14.844Z"
   },
   {
    "duration": 32,
    "start_time": "2021-09-03T11:32:14.875Z"
   },
   {
    "duration": 46,
    "start_time": "2021-09-03T11:32:14.909Z"
   },
   {
    "duration": 8,
    "start_time": "2021-09-03T11:32:14.958Z"
   },
   {
    "duration": 386,
    "start_time": "2021-09-03T11:32:14.968Z"
   },
   {
    "duration": 61,
    "start_time": "2021-09-03T11:32:15.356Z"
   },
   {
    "duration": 154,
    "start_time": "2021-09-03T11:32:15.419Z"
   },
   {
    "duration": 41,
    "start_time": "2021-09-03T11:32:15.576Z"
   },
   {
    "duration": 106,
    "start_time": "2021-09-03T11:32:15.620Z"
   },
   {
    "duration": 224,
    "start_time": "2021-09-03T11:32:15.729Z"
   },
   {
    "duration": 4,
    "start_time": "2021-09-03T11:32:15.955Z"
   },
   {
    "duration": 7931,
    "start_time": "2021-09-03T11:32:15.962Z"
   },
   {
    "duration": 42,
    "start_time": "2021-09-03T11:34:35.921Z"
   },
   {
    "duration": 7295,
    "start_time": "2021-09-03T11:37:55.154Z"
   },
   {
    "duration": 8079,
    "start_time": "2021-09-03T11:45:58.106Z"
   },
   {
    "duration": 7407,
    "start_time": "2021-09-03T11:46:40.735Z"
   },
   {
    "duration": 71,
    "start_time": "2021-09-03T11:46:54.614Z"
   },
   {
    "duration": 7768,
    "start_time": "2021-09-03T11:47:17.855Z"
   },
   {
    "duration": 1041,
    "start_time": "2021-09-03T11:47:32.950Z"
   },
   {
    "duration": 26,
    "start_time": "2021-09-03T11:47:33.994Z"
   },
   {
    "duration": 64,
    "start_time": "2021-09-03T11:47:34.023Z"
   },
   {
    "duration": 191,
    "start_time": "2021-09-03T11:47:34.089Z"
   },
   {
    "duration": 22,
    "start_time": "2021-09-03T11:47:34.282Z"
   },
   {
    "duration": 62,
    "start_time": "2021-09-03T11:47:34.307Z"
   },
   {
    "duration": 131,
    "start_time": "2021-09-03T11:47:34.371Z"
   },
   {
    "duration": 19,
    "start_time": "2021-09-03T11:47:34.505Z"
   },
   {
    "duration": 53,
    "start_time": "2021-09-03T11:47:34.527Z"
   },
   {
    "duration": 77,
    "start_time": "2021-09-03T11:47:34.583Z"
   },
   {
    "duration": 14,
    "start_time": "2021-09-03T11:47:34.663Z"
   },
   {
    "duration": 343,
    "start_time": "2021-09-03T11:47:34.680Z"
   },
   {
    "duration": 71,
    "start_time": "2021-09-03T11:47:35.025Z"
   },
   {
    "duration": 154,
    "start_time": "2021-09-03T11:47:35.098Z"
   },
   {
    "duration": 42,
    "start_time": "2021-09-03T11:47:35.255Z"
   },
   {
    "duration": 105,
    "start_time": "2021-09-03T11:47:35.299Z"
   },
   {
    "duration": 208,
    "start_time": "2021-09-03T11:47:35.406Z"
   },
   {
    "duration": 3,
    "start_time": "2021-09-03T11:47:35.617Z"
   },
   {
    "duration": 7803,
    "start_time": "2021-09-03T11:47:35.622Z"
   },
   {
    "duration": 61,
    "start_time": "2021-09-03T11:47:43.428Z"
   },
   {
    "duration": 442,
    "start_time": "2021-09-03T12:49:54.160Z"
   },
   {
    "duration": 11,
    "start_time": "2021-09-03T12:50:27.978Z"
   },
   {
    "duration": 49,
    "start_time": "2021-09-03T12:53:15.318Z"
   },
   {
    "duration": 47,
    "start_time": "2021-09-03T12:53:26.670Z"
   },
   {
    "duration": 556,
    "start_time": "2021-09-03T12:57:54.628Z"
   },
   {
    "duration": 548,
    "start_time": "2021-09-03T12:58:08.087Z"
   },
   {
    "duration": 1259,
    "start_time": "2021-09-03T12:58:38.880Z"
   },
   {
    "duration": 296,
    "start_time": "2021-09-03T13:03:42.551Z"
   },
   {
    "duration": 1956,
    "start_time": "2021-09-03T13:05:13.838Z"
   },
   {
    "duration": 1678,
    "start_time": "2021-09-03T13:05:24.399Z"
   },
   {
    "duration": 1782,
    "start_time": "2021-09-03T13:05:58.821Z"
   },
   {
    "duration": 1623,
    "start_time": "2021-09-03T13:07:02.307Z"
   },
   {
    "duration": 7,
    "start_time": "2021-09-03T13:21:23.854Z"
   },
   {
    "duration": 9,
    "start_time": "2021-09-03T13:24:56.290Z"
   },
   {
    "duration": 526,
    "start_time": "2021-09-03T13:25:27.901Z"
   },
   {
    "duration": 1086,
    "start_time": "2021-09-03T13:26:13.460Z"
   },
   {
    "duration": 27,
    "start_time": "2021-09-03T13:26:14.549Z"
   },
   {
    "duration": 75,
    "start_time": "2021-09-03T13:26:14.581Z"
   },
   {
    "duration": 200,
    "start_time": "2021-09-03T13:26:14.659Z"
   },
   {
    "duration": 24,
    "start_time": "2021-09-03T13:26:14.861Z"
   },
   {
    "duration": 70,
    "start_time": "2021-09-03T13:26:14.888Z"
   },
   {
    "duration": 139,
    "start_time": "2021-09-03T13:26:14.960Z"
   },
   {
    "duration": 20,
    "start_time": "2021-09-03T13:26:15.102Z"
   },
   {
    "duration": 55,
    "start_time": "2021-09-03T13:26:15.128Z"
   },
   {
    "duration": 53,
    "start_time": "2021-09-03T13:26:15.187Z"
   },
   {
    "duration": 9,
    "start_time": "2021-09-03T13:26:15.243Z"
   },
   {
    "duration": 356,
    "start_time": "2021-09-03T13:26:15.254Z"
   },
   {
    "duration": 73,
    "start_time": "2021-09-03T13:26:15.612Z"
   },
   {
    "duration": 140,
    "start_time": "2021-09-03T13:26:15.688Z"
   },
   {
    "duration": 48,
    "start_time": "2021-09-03T13:26:15.831Z"
   },
   {
    "duration": 96,
    "start_time": "2021-09-03T13:26:15.881Z"
   },
   {
    "duration": 220,
    "start_time": "2021-09-03T13:26:15.980Z"
   },
   {
    "duration": 3,
    "start_time": "2021-09-03T13:26:16.203Z"
   },
   {
    "duration": 7553,
    "start_time": "2021-09-03T13:26:16.209Z"
   },
   {
    "duration": 47,
    "start_time": "2021-09-03T13:26:23.764Z"
   },
   {
    "duration": 10,
    "start_time": "2021-09-03T13:26:23.814Z"
   },
   {
    "duration": 48,
    "start_time": "2021-09-03T13:26:23.855Z"
   },
   {
    "duration": 1606,
    "start_time": "2021-09-03T13:26:23.905Z"
   },
   {
    "duration": 62,
    "start_time": "2021-09-03T13:26:25.513Z"
   },
   {
    "duration": 1513,
    "start_time": "2021-09-03T13:26:25.578Z"
   },
   {
    "duration": 7,
    "start_time": "2021-09-03T13:26:27.094Z"
   },
   {
    "duration": 33,
    "start_time": "2021-09-03T13:26:27.105Z"
   },
   {
    "duration": 12,
    "start_time": "2021-09-03T13:27:28.388Z"
   },
   {
    "duration": 4,
    "start_time": "2021-09-03T13:27:30.719Z"
   },
   {
    "duration": 12,
    "start_time": "2021-09-03T13:27:44.971Z"
   },
   {
    "duration": 10,
    "start_time": "2021-09-03T13:27:57.299Z"
   },
   {
    "duration": 12,
    "start_time": "2021-09-03T13:28:03.971Z"
   },
   {
    "duration": 5,
    "start_time": "2021-09-03T13:28:06.399Z"
   },
   {
    "duration": 5,
    "start_time": "2021-09-04T14:32:32.557Z"
   },
   {
    "duration": 1152,
    "start_time": "2021-09-04T14:34:28.005Z"
   },
   {
    "duration": 28,
    "start_time": "2021-09-04T14:34:29.159Z"
   },
   {
    "duration": 60,
    "start_time": "2021-09-04T14:34:29.191Z"
   },
   {
    "duration": 210,
    "start_time": "2021-09-04T14:34:29.253Z"
   },
   {
    "duration": 23,
    "start_time": "2021-09-04T14:34:29.466Z"
   },
   {
    "duration": 59,
    "start_time": "2021-09-04T14:34:29.492Z"
   },
   {
    "duration": 149,
    "start_time": "2021-09-04T14:34:29.553Z"
   },
   {
    "duration": 23,
    "start_time": "2021-09-04T14:34:29.705Z"
   },
   {
    "duration": 28,
    "start_time": "2021-09-04T14:34:29.732Z"
   },
   {
    "duration": 75,
    "start_time": "2021-09-04T14:34:29.763Z"
   },
   {
    "duration": 9,
    "start_time": "2021-09-04T14:34:29.840Z"
   },
   {
    "duration": 487,
    "start_time": "2021-09-04T14:34:29.851Z"
   },
   {
    "duration": 61,
    "start_time": "2021-09-04T14:34:30.340Z"
   },
   {
    "duration": 147,
    "start_time": "2021-09-04T14:34:30.416Z"
   },
   {
    "duration": 53,
    "start_time": "2021-09-04T14:34:30.565Z"
   },
   {
    "duration": 98,
    "start_time": "2021-09-04T14:34:30.620Z"
   },
   {
    "duration": 231,
    "start_time": "2021-09-04T14:34:30.721Z"
   },
   {
    "duration": 4,
    "start_time": "2021-09-04T14:34:30.955Z"
   },
   {
    "duration": 7914,
    "start_time": "2021-09-04T14:34:30.962Z"
   },
   {
    "duration": 62,
    "start_time": "2021-09-04T14:34:38.878Z"
   },
   {
    "duration": 9,
    "start_time": "2021-09-04T14:34:38.943Z"
   },
   {
    "duration": 67,
    "start_time": "2021-09-04T14:34:38.954Z"
   },
   {
    "duration": 1590,
    "start_time": "2021-09-04T14:34:39.023Z"
   },
   {
    "duration": 46,
    "start_time": "2021-09-04T14:34:40.617Z"
   },
   {
    "duration": 1558,
    "start_time": "2021-09-04T14:34:40.665Z"
   },
   {
    "duration": 7,
    "start_time": "2021-09-04T14:34:42.225Z"
   },
   {
    "duration": 11,
    "start_time": "2021-09-04T14:34:42.237Z"
   },
   {
    "duration": 5,
    "start_time": "2021-09-04T14:34:42.251Z"
   },
   {
    "duration": 6,
    "start_time": "2021-09-04T14:34:42.258Z"
   },
   {
    "duration": 54,
    "start_time": "2021-09-04T14:34:42.266Z"
   },
   {
    "duration": 15,
    "start_time": "2021-09-04T14:34:42.322Z"
   },
   {
    "duration": 4,
    "start_time": "2021-09-04T14:35:50.200Z"
   },
   {
    "duration": 5,
    "start_time": "2021-09-04T14:35:52.072Z"
   },
   {
    "duration": 8,
    "start_time": "2021-09-04T14:35:54.043Z"
   },
   {
    "duration": 7,
    "start_time": "2021-09-04T14:47:34.303Z"
   },
   {
    "duration": 12,
    "start_time": "2021-09-04T14:47:36.272Z"
   },
   {
    "duration": 5,
    "start_time": "2021-09-04T14:47:37.985Z"
   },
   {
    "duration": 4,
    "start_time": "2021-09-04T14:47:40.564Z"
   },
   {
    "duration": 4,
    "start_time": "2021-09-04T14:47:40.802Z"
   },
   {
    "duration": 9,
    "start_time": "2021-09-04T14:47:41.085Z"
   },
   {
    "duration": 1704,
    "start_time": "2021-09-04T23:19:26.847Z"
   },
   {
    "duration": 42,
    "start_time": "2021-09-04T23:19:28.554Z"
   },
   {
    "duration": 35,
    "start_time": "2021-09-04T23:19:28.599Z"
   },
   {
    "duration": 226,
    "start_time": "2021-09-04T23:19:28.637Z"
   },
   {
    "duration": 32,
    "start_time": "2021-09-04T23:19:28.866Z"
   },
   {
    "duration": 90,
    "start_time": "2021-09-04T23:19:28.901Z"
   },
   {
    "duration": 143,
    "start_time": "2021-09-04T23:19:28.994Z"
   },
   {
    "duration": 35,
    "start_time": "2021-09-04T23:19:29.143Z"
   },
   {
    "duration": 25,
    "start_time": "2021-09-04T23:19:29.182Z"
   },
   {
    "duration": 44,
    "start_time": "2021-09-04T23:19:29.209Z"
   },
   {
    "duration": 20,
    "start_time": "2021-09-04T23:19:29.255Z"
   },
   {
    "duration": 381,
    "start_time": "2021-09-04T23:19:29.278Z"
   },
   {
    "duration": 71,
    "start_time": "2021-09-04T23:19:29.661Z"
   },
   {
    "duration": 185,
    "start_time": "2021-09-04T23:19:29.735Z"
   },
   {
    "duration": 64,
    "start_time": "2021-09-04T23:19:29.923Z"
   },
   {
    "duration": 101,
    "start_time": "2021-09-04T23:19:29.991Z"
   },
   {
    "duration": 203,
    "start_time": "2021-09-04T23:19:30.095Z"
   },
   {
    "duration": 5,
    "start_time": "2021-09-04T23:19:30.301Z"
   },
   {
    "duration": 8341,
    "start_time": "2021-09-04T23:19:30.309Z"
   },
   {
    "duration": 60,
    "start_time": "2021-09-04T23:19:38.652Z"
   },
   {
    "duration": 11,
    "start_time": "2021-09-04T23:19:38.714Z"
   },
   {
    "duration": 82,
    "start_time": "2021-09-04T23:19:38.727Z"
   },
   {
    "duration": 1709,
    "start_time": "2021-09-04T23:19:38.814Z"
   },
   {
    "duration": 73,
    "start_time": "2021-09-04T23:19:40.526Z"
   },
   {
    "duration": 1928,
    "start_time": "2021-09-04T23:19:40.602Z"
   },
   {
    "duration": 7,
    "start_time": "2021-09-04T23:19:42.532Z"
   },
   {
    "duration": 36,
    "start_time": "2021-09-04T23:19:42.542Z"
   },
   {
    "duration": 7,
    "start_time": "2021-09-04T23:19:42.581Z"
   },
   {
    "duration": 6,
    "start_time": "2021-09-04T23:19:42.591Z"
   },
   {
    "duration": 8,
    "start_time": "2021-09-04T23:19:42.600Z"
   },
   {
    "duration": 70,
    "start_time": "2021-09-04T23:19:42.610Z"
   },
   {
    "duration": 408,
    "start_time": "2021-09-04T23:19:42.683Z"
   },
   {
    "duration": 11,
    "start_time": "2021-09-04T23:19:54.764Z"
   },
   {
    "duration": 1519,
    "start_time": "2021-09-04T23:35:50.522Z"
   },
   {
    "duration": 36,
    "start_time": "2021-09-04T23:35:52.043Z"
   },
   {
    "duration": 36,
    "start_time": "2021-09-04T23:35:52.081Z"
   },
   {
    "duration": 207,
    "start_time": "2021-09-04T23:35:52.119Z"
   },
   {
    "duration": 43,
    "start_time": "2021-09-04T23:35:52.329Z"
   },
   {
    "duration": 39,
    "start_time": "2021-09-04T23:35:52.375Z"
   },
   {
    "duration": 140,
    "start_time": "2021-09-04T23:35:52.416Z"
   },
   {
    "duration": 18,
    "start_time": "2021-09-04T23:35:52.567Z"
   },
   {
    "duration": 24,
    "start_time": "2021-09-04T23:35:52.589Z"
   },
   {
    "duration": 41,
    "start_time": "2021-09-04T23:35:52.615Z"
   },
   {
    "duration": 9,
    "start_time": "2021-09-04T23:35:52.666Z"
   },
   {
    "duration": 368,
    "start_time": "2021-09-04T23:35:52.677Z"
   },
   {
    "duration": 67,
    "start_time": "2021-09-04T23:35:53.048Z"
   },
   {
    "duration": 149,
    "start_time": "2021-09-04T23:35:53.118Z"
   },
   {
    "duration": 40,
    "start_time": "2021-09-04T23:35:53.269Z"
   },
   {
    "duration": 110,
    "start_time": "2021-09-04T23:35:53.312Z"
   },
   {
    "duration": 192,
    "start_time": "2021-09-04T23:35:53.426Z"
   },
   {
    "duration": 5,
    "start_time": "2021-09-04T23:35:53.621Z"
   },
   {
    "duration": 9034,
    "start_time": "2021-09-04T23:35:53.629Z"
   },
   {
    "duration": -48,
    "start_time": "2021-09-04T23:36:02.715Z"
   },
   {
    "duration": -46,
    "start_time": "2021-09-04T23:36:02.716Z"
   },
   {
    "duration": -46,
    "start_time": "2021-09-04T23:36:02.718Z"
   },
   {
    "duration": -45,
    "start_time": "2021-09-04T23:36:02.719Z"
   },
   {
    "duration": -44,
    "start_time": "2021-09-04T23:36:02.721Z"
   },
   {
    "duration": -44,
    "start_time": "2021-09-04T23:36:02.723Z"
   },
   {
    "duration": -43,
    "start_time": "2021-09-04T23:36:02.724Z"
   },
   {
    "duration": -42,
    "start_time": "2021-09-04T23:36:02.725Z"
   },
   {
    "duration": -42,
    "start_time": "2021-09-04T23:36:02.727Z"
   },
   {
    "duration": -42,
    "start_time": "2021-09-04T23:36:02.729Z"
   },
   {
    "duration": -42,
    "start_time": "2021-09-04T23:36:02.731Z"
   },
   {
    "duration": -41,
    "start_time": "2021-09-04T23:36:02.733Z"
   },
   {
    "duration": -61,
    "start_time": "2021-09-04T23:36:02.755Z"
   },
   {
    "duration": -62,
    "start_time": "2021-09-04T23:36:02.758Z"
   },
   {
    "duration": 11964,
    "start_time": "2021-09-04T23:38:43.392Z"
   },
   {
    "duration": 13652,
    "start_time": "2021-09-04T23:39:54.982Z"
   },
   {
    "duration": 16327,
    "start_time": "2021-09-04T23:42:22.876Z"
   },
   {
    "duration": 10456,
    "start_time": "2021-09-04T23:43:35.087Z"
   },
   {
    "duration": 6328,
    "start_time": "2021-09-04T23:44:11.076Z"
   },
   {
    "duration": 9656,
    "start_time": "2021-09-04T23:45:20.861Z"
   },
   {
    "duration": 1606,
    "start_time": "2021-09-04T23:48:19.237Z"
   },
   {
    "duration": 36,
    "start_time": "2021-09-04T23:48:20.846Z"
   },
   {
    "duration": 36,
    "start_time": "2021-09-04T23:48:20.885Z"
   },
   {
    "duration": 208,
    "start_time": "2021-09-04T23:48:20.924Z"
   },
   {
    "duration": 36,
    "start_time": "2021-09-04T23:48:21.134Z"
   },
   {
    "duration": 38,
    "start_time": "2021-09-04T23:48:21.172Z"
   },
   {
    "duration": 149,
    "start_time": "2021-09-04T23:48:21.213Z"
   },
   {
    "duration": 19,
    "start_time": "2021-09-04T23:48:21.365Z"
   },
   {
    "duration": 25,
    "start_time": "2021-09-04T23:48:21.387Z"
   },
   {
    "duration": 56,
    "start_time": "2021-09-04T23:48:21.414Z"
   },
   {
    "duration": 9,
    "start_time": "2021-09-04T23:48:21.472Z"
   },
   {
    "duration": 365,
    "start_time": "2021-09-04T23:48:21.484Z"
   },
   {
    "duration": 67,
    "start_time": "2021-09-04T23:48:21.852Z"
   },
   {
    "duration": 145,
    "start_time": "2021-09-04T23:48:21.922Z"
   },
   {
    "duration": 40,
    "start_time": "2021-09-04T23:48:22.069Z"
   },
   {
    "duration": 110,
    "start_time": "2021-09-04T23:48:22.112Z"
   },
   {
    "duration": 188,
    "start_time": "2021-09-04T23:48:22.225Z"
   },
   {
    "duration": 5,
    "start_time": "2021-09-04T23:48:22.416Z"
   },
   {
    "duration": 348,
    "start_time": "2021-09-04T23:48:22.424Z"
   },
   {
    "duration": -55,
    "start_time": "2021-09-04T23:48:22.831Z"
   },
   {
    "duration": -55,
    "start_time": "2021-09-04T23:48:22.833Z"
   },
   {
    "duration": -54,
    "start_time": "2021-09-04T23:48:22.835Z"
   },
   {
    "duration": -53,
    "start_time": "2021-09-04T23:48:22.836Z"
   },
   {
    "duration": -53,
    "start_time": "2021-09-04T23:48:22.838Z"
   },
   {
    "duration": -52,
    "start_time": "2021-09-04T23:48:22.839Z"
   },
   {
    "duration": -51,
    "start_time": "2021-09-04T23:48:22.840Z"
   },
   {
    "duration": -51,
    "start_time": "2021-09-04T23:48:22.842Z"
   },
   {
    "duration": -50,
    "start_time": "2021-09-04T23:48:22.843Z"
   },
   {
    "duration": -58,
    "start_time": "2021-09-04T23:48:22.853Z"
   },
   {
    "duration": -59,
    "start_time": "2021-09-04T23:48:22.856Z"
   },
   {
    "duration": -59,
    "start_time": "2021-09-04T23:48:22.858Z"
   },
   {
    "duration": -71,
    "start_time": "2021-09-04T23:48:22.872Z"
   },
   {
    "duration": -71,
    "start_time": "2021-09-04T23:48:22.874Z"
   },
   {
    "duration": 304,
    "start_time": "2021-09-04T23:49:20.921Z"
   },
   {
    "duration": 9257,
    "start_time": "2021-09-04T23:49:59.956Z"
   },
   {
    "duration": 268,
    "start_time": "2021-09-04T23:51:18.526Z"
   },
   {
    "duration": 1603,
    "start_time": "2021-09-04T23:51:29.656Z"
   },
   {
    "duration": 29,
    "start_time": "2021-09-04T23:51:31.262Z"
   },
   {
    "duration": 53,
    "start_time": "2021-09-04T23:51:31.294Z"
   },
   {
    "duration": 220,
    "start_time": "2021-09-04T23:51:31.350Z"
   },
   {
    "duration": 24,
    "start_time": "2021-09-04T23:51:31.574Z"
   },
   {
    "duration": 85,
    "start_time": "2021-09-04T23:51:31.600Z"
   },
   {
    "duration": 139,
    "start_time": "2021-09-04T23:51:31.689Z"
   },
   {
    "duration": 37,
    "start_time": "2021-09-04T23:51:31.830Z"
   },
   {
    "duration": 28,
    "start_time": "2021-09-04T23:51:31.872Z"
   },
   {
    "duration": 54,
    "start_time": "2021-09-04T23:51:31.903Z"
   },
   {
    "duration": 9,
    "start_time": "2021-09-04T23:51:31.959Z"
   },
   {
    "duration": 361,
    "start_time": "2021-09-04T23:51:31.971Z"
   },
   {
    "duration": 69,
    "start_time": "2021-09-04T23:51:32.335Z"
   },
   {
    "duration": 152,
    "start_time": "2021-09-04T23:51:32.406Z"
   },
   {
    "duration": 40,
    "start_time": "2021-09-04T23:51:32.560Z"
   },
   {
    "duration": 105,
    "start_time": "2021-09-04T23:51:32.603Z"
   },
   {
    "duration": 179,
    "start_time": "2021-09-04T23:51:32.711Z"
   },
   {
    "duration": 3,
    "start_time": "2021-09-04T23:51:32.892Z"
   },
   {
    "duration": 9294,
    "start_time": "2021-09-04T23:51:32.898Z"
   },
   {
    "duration": 46,
    "start_time": "2021-09-04T23:51:42.194Z"
   },
   {
    "duration": 31,
    "start_time": "2021-09-04T23:51:42.243Z"
   },
   {
    "duration": 48,
    "start_time": "2021-09-04T23:51:42.276Z"
   },
   {
    "duration": 1603,
    "start_time": "2021-09-04T23:51:42.326Z"
   },
   {
    "duration": 67,
    "start_time": "2021-09-04T23:51:43.931Z"
   },
   {
    "duration": 1677,
    "start_time": "2021-09-04T23:51:44.000Z"
   },
   {
    "duration": 7,
    "start_time": "2021-09-04T23:51:45.680Z"
   },
   {
    "duration": 20,
    "start_time": "2021-09-04T23:51:45.692Z"
   },
   {
    "duration": 8,
    "start_time": "2021-09-04T23:51:45.714Z"
   },
   {
    "duration": 43,
    "start_time": "2021-09-04T23:51:45.724Z"
   },
   {
    "duration": 18,
    "start_time": "2021-09-04T23:51:45.770Z"
   },
   {
    "duration": 25,
    "start_time": "2021-09-04T23:51:45.790Z"
   },
   {
    "duration": 401,
    "start_time": "2021-09-04T23:51:45.817Z"
   },
   {
    "duration": -6,
    "start_time": "2021-09-04T23:51:46.227Z"
   },
   {
    "duration": 10,
    "start_time": "2021-09-04T23:53:04.866Z"
   },
   {
    "duration": 14,
    "start_time": "2021-09-04T23:53:07.906Z"
   },
   {
    "duration": 6,
    "start_time": "2021-09-04T23:54:33.855Z"
   },
   {
    "duration": 14,
    "start_time": "2021-09-04T23:55:57.796Z"
   },
   {
    "duration": 2650,
    "start_time": "2021-09-05T16:06:24.997Z"
   },
   {
    "duration": 31,
    "start_time": "2021-09-05T16:06:27.651Z"
   },
   {
    "duration": 61,
    "start_time": "2021-09-05T16:06:27.686Z"
   },
   {
    "duration": 952,
    "start_time": "2021-09-05T16:06:27.749Z"
   },
   {
    "duration": 24,
    "start_time": "2021-09-05T16:06:28.704Z"
   },
   {
    "duration": 40,
    "start_time": "2021-09-05T16:06:28.731Z"
   },
   {
    "duration": 153,
    "start_time": "2021-09-05T16:06:28.774Z"
   },
   {
    "duration": 18,
    "start_time": "2021-09-05T16:06:28.933Z"
   },
   {
    "duration": 47,
    "start_time": "2021-09-05T16:06:28.954Z"
   },
   {
    "duration": 61,
    "start_time": "2021-09-05T16:06:29.004Z"
   },
   {
    "duration": 9,
    "start_time": "2021-09-05T16:06:29.067Z"
   },
   {
    "duration": 351,
    "start_time": "2021-09-05T16:06:29.078Z"
   },
   {
    "duration": 63,
    "start_time": "2021-09-05T16:06:29.431Z"
   },
   {
    "duration": 155,
    "start_time": "2021-09-05T16:06:29.497Z"
   },
   {
    "duration": 43,
    "start_time": "2021-09-05T16:06:29.654Z"
   },
   {
    "duration": 92,
    "start_time": "2021-09-05T16:06:29.700Z"
   },
   {
    "duration": 180,
    "start_time": "2021-09-05T16:06:29.795Z"
   },
   {
    "duration": 3,
    "start_time": "2021-09-05T16:06:29.978Z"
   },
   {
    "duration": 9398,
    "start_time": "2021-09-05T16:06:29.984Z"
   },
   {
    "duration": 62,
    "start_time": "2021-09-05T16:06:39.385Z"
   },
   {
    "duration": 12,
    "start_time": "2021-09-05T16:06:39.450Z"
   },
   {
    "duration": 73,
    "start_time": "2021-09-05T16:06:39.465Z"
   },
   {
    "duration": 1630,
    "start_time": "2021-09-05T16:06:39.542Z"
   },
   {
    "duration": 65,
    "start_time": "2021-09-05T16:06:41.175Z"
   },
   {
    "duration": 1585,
    "start_time": "2021-09-05T16:06:41.243Z"
   },
   {
    "duration": 6,
    "start_time": "2021-09-05T16:06:42.831Z"
   },
   {
    "duration": 19,
    "start_time": "2021-09-05T16:06:42.840Z"
   },
   {
    "duration": 7,
    "start_time": "2021-09-05T16:06:42.861Z"
   },
   {
    "duration": 11,
    "start_time": "2021-09-05T16:06:42.870Z"
   },
   {
    "duration": 13,
    "start_time": "2021-09-05T16:06:42.883Z"
   },
   {
    "duration": 7,
    "start_time": "2021-09-05T16:06:42.917Z"
   },
   {
    "duration": 8,
    "start_time": "2021-09-05T16:06:42.927Z"
   },
   {
    "duration": 25,
    "start_time": "2021-09-05T16:06:42.937Z"
   },
   {
    "duration": 16,
    "start_time": "2021-09-05T16:06:42.965Z"
   },
   {
    "duration": 1078,
    "start_time": "2021-09-06T06:28:25.247Z"
   },
   {
    "duration": 3,
    "start_time": "2021-09-06T06:28:55.514Z"
   },
   {
    "duration": 20,
    "start_time": "2021-09-06T06:28:55.538Z"
   },
   {
    "duration": 24,
    "start_time": "2021-09-06T06:28:55.560Z"
   },
   {
    "duration": 130,
    "start_time": "2021-09-06T06:28:55.586Z"
   },
   {
    "duration": 16,
    "start_time": "2021-09-06T06:28:55.717Z"
   },
   {
    "duration": 27,
    "start_time": "2021-09-06T06:28:55.734Z"
   },
   {
    "duration": 99,
    "start_time": "2021-09-06T06:28:55.763Z"
   },
   {
    "duration": 20,
    "start_time": "2021-09-06T06:28:55.864Z"
   },
   {
    "duration": 20,
    "start_time": "2021-09-06T06:28:55.886Z"
   },
   {
    "duration": 78,
    "start_time": "2021-09-06T06:28:55.908Z"
   },
   {
    "duration": 5,
    "start_time": "2021-09-06T06:28:55.988Z"
   },
   {
    "duration": 219,
    "start_time": "2021-09-06T06:28:55.995Z"
   },
   {
    "duration": 42,
    "start_time": "2021-09-06T06:28:56.216Z"
   },
   {
    "duration": 99,
    "start_time": "2021-09-06T06:28:56.260Z"
   },
   {
    "duration": 32,
    "start_time": "2021-09-06T06:28:56.361Z"
   },
   {
    "duration": 51,
    "start_time": "2021-09-06T06:28:56.395Z"
   },
   {
    "duration": 121,
    "start_time": "2021-09-06T06:28:56.447Z"
   },
   {
    "duration": 3,
    "start_time": "2021-09-06T06:28:56.569Z"
   },
   {
    "duration": 4614,
    "start_time": "2021-09-06T06:28:56.584Z"
   },
   {
    "duration": 29,
    "start_time": "2021-09-06T06:29:01.199Z"
   },
   {
    "duration": 6,
    "start_time": "2021-09-06T06:29:01.230Z"
   },
   {
    "duration": 48,
    "start_time": "2021-09-06T06:29:01.238Z"
   },
   {
    "duration": 1020,
    "start_time": "2021-09-06T06:29:01.287Z"
   },
   {
    "duration": 31,
    "start_time": "2021-09-06T06:29:02.309Z"
   },
   {
    "duration": 1013,
    "start_time": "2021-09-06T06:29:02.341Z"
   },
   {
    "duration": 4,
    "start_time": "2021-09-06T06:29:03.356Z"
   },
   {
    "duration": 20,
    "start_time": "2021-09-06T06:29:03.362Z"
   },
   {
    "duration": 10,
    "start_time": "2021-09-06T06:29:03.386Z"
   },
   {
    "duration": 10,
    "start_time": "2021-09-06T06:29:03.398Z"
   },
   {
    "duration": 13,
    "start_time": "2021-09-06T06:29:03.409Z"
   },
   {
    "duration": 14,
    "start_time": "2021-09-06T06:29:03.424Z"
   },
   {
    "duration": 21,
    "start_time": "2021-09-06T06:29:03.440Z"
   },
   {
    "duration": 20,
    "start_time": "2021-09-06T06:29:03.462Z"
   },
   {
    "duration": 13,
    "start_time": "2021-09-06T06:29:03.483Z"
   },
   {
    "duration": 3,
    "start_time": "2021-09-06T06:29:24.366Z"
   },
   {
    "duration": 142,
    "start_time": "2021-09-06T06:29:27.094Z"
   },
   {
    "duration": 20,
    "start_time": "2021-09-06T06:29:33.874Z"
   },
   {
    "duration": 26,
    "start_time": "2021-09-06T06:29:36.587Z"
   },
   {
    "duration": 125,
    "start_time": "2021-09-06T06:29:42.414Z"
   },
   {
    "duration": 16,
    "start_time": "2021-09-06T06:29:45.635Z"
   },
   {
    "duration": 27,
    "start_time": "2021-09-06T06:29:48.335Z"
   },
   {
    "duration": 87,
    "start_time": "2021-09-06T06:29:54.354Z"
   },
   {
    "duration": 15,
    "start_time": "2021-09-06T06:29:57.634Z"
   },
   {
    "duration": 22,
    "start_time": "2021-09-06T06:30:04.195Z"
   },
   {
    "duration": 20,
    "start_time": "2021-09-06T06:30:09.382Z"
   },
   {
    "duration": 20,
    "start_time": "2021-09-06T06:30:17.827Z"
   },
   {
    "duration": 54,
    "start_time": "2021-09-06T06:30:26.066Z"
   },
   {
    "duration": 7,
    "start_time": "2021-09-06T06:30:31.607Z"
   },
   {
    "duration": 244,
    "start_time": "2021-09-06T06:33:46.744Z"
   },
   {
    "duration": 161,
    "start_time": "2021-09-06T06:34:05.406Z"
   },
   {
    "duration": 69,
    "start_time": "2021-09-06T06:36:14.451Z"
   },
   {
    "duration": 177,
    "start_time": "2021-09-06T06:38:16.786Z"
   },
   {
    "duration": 140,
    "start_time": "2021-09-06T06:38:50.197Z"
   },
   {
    "duration": 956,
    "start_time": "2021-09-06T06:39:04.801Z"
   },
   {
    "duration": 166,
    "start_time": "2021-09-06T06:39:05.759Z"
   },
   {
    "duration": 19,
    "start_time": "2021-09-06T06:39:05.927Z"
   },
   {
    "duration": 42,
    "start_time": "2021-09-06T06:39:05.947Z"
   },
   {
    "duration": 141,
    "start_time": "2021-09-06T06:39:05.991Z"
   },
   {
    "duration": 15,
    "start_time": "2021-09-06T06:39:06.134Z"
   },
   {
    "duration": 36,
    "start_time": "2021-09-06T06:39:06.150Z"
   },
   {
    "duration": 89,
    "start_time": "2021-09-06T06:39:06.188Z"
   },
   {
    "duration": 13,
    "start_time": "2021-09-06T06:39:06.279Z"
   },
   {
    "duration": 21,
    "start_time": "2021-09-06T06:39:06.294Z"
   },
   {
    "duration": 50,
    "start_time": "2021-09-06T06:39:06.317Z"
   },
   {
    "duration": 5,
    "start_time": "2021-09-06T06:39:06.369Z"
   },
   {
    "duration": 174,
    "start_time": "2021-09-06T06:39:06.375Z"
   },
   {
    "duration": 63,
    "start_time": "2021-09-06T06:39:06.550Z"
   },
   {
    "duration": 244,
    "start_time": "2021-09-06T06:39:06.615Z"
   },
   {
    "duration": 1101,
    "start_time": "2021-09-06T06:39:05.760Z"
   },
   {
    "duration": 1088,
    "start_time": "2021-09-06T06:39:05.774Z"
   },
   {
    "duration": 1083,
    "start_time": "2021-09-06T06:39:05.780Z"
   },
   {
    "duration": 1079,
    "start_time": "2021-09-06T06:39:05.784Z"
   },
   {
    "duration": 1075,
    "start_time": "2021-09-06T06:39:05.789Z"
   },
   {
    "duration": 1072,
    "start_time": "2021-09-06T06:39:05.793Z"
   },
   {
    "duration": 1068,
    "start_time": "2021-09-06T06:39:05.798Z"
   },
   {
    "duration": 1065,
    "start_time": "2021-09-06T06:39:05.802Z"
   },
   {
    "duration": 1062,
    "start_time": "2021-09-06T06:39:05.805Z"
   },
   {
    "duration": 1060,
    "start_time": "2021-09-06T06:39:05.808Z"
   },
   {
    "duration": 1056,
    "start_time": "2021-09-06T06:39:05.813Z"
   },
   {
    "duration": 1013,
    "start_time": "2021-09-06T06:39:05.857Z"
   },
   {
    "duration": 1009,
    "start_time": "2021-09-06T06:39:05.861Z"
   },
   {
    "duration": 1004,
    "start_time": "2021-09-06T06:39:05.867Z"
   },
   {
    "duration": 1001,
    "start_time": "2021-09-06T06:39:05.871Z"
   },
   {
    "duration": 999,
    "start_time": "2021-09-06T06:39:05.874Z"
   },
   {
    "duration": 994,
    "start_time": "2021-09-06T06:39:05.880Z"
   },
   {
    "duration": 991,
    "start_time": "2021-09-06T06:39:05.884Z"
   },
   {
    "duration": 989,
    "start_time": "2021-09-06T06:39:05.887Z"
   },
   {
    "duration": 22,
    "start_time": "2021-09-06T06:39:45.697Z"
   },
   {
    "duration": 22,
    "start_time": "2021-09-06T06:49:30.673Z"
   },
   {
    "duration": 199,
    "start_time": "2021-09-06T06:49:43.173Z"
   },
   {
    "duration": 275,
    "start_time": "2021-09-06T06:49:53.632Z"
   },
   {
    "duration": 210,
    "start_time": "2021-09-06T06:50:02.022Z"
   },
   {
    "duration": 179,
    "start_time": "2021-09-06T06:50:36.453Z"
   },
   {
    "duration": 909,
    "start_time": "2021-09-06T06:50:49.949Z"
   },
   {
    "duration": 152,
    "start_time": "2021-09-06T06:50:50.860Z"
   },
   {
    "duration": 19,
    "start_time": "2021-09-06T06:50:51.013Z"
   },
   {
    "duration": 25,
    "start_time": "2021-09-06T06:50:51.034Z"
   },
   {
    "duration": 142,
    "start_time": "2021-09-06T06:50:51.060Z"
   },
   {
    "duration": 16,
    "start_time": "2021-09-06T06:50:51.204Z"
   },
   {
    "duration": 23,
    "start_time": "2021-09-06T06:50:51.222Z"
   },
   {
    "duration": 107,
    "start_time": "2021-09-06T06:50:51.246Z"
   },
   {
    "duration": 14,
    "start_time": "2021-09-06T06:50:51.356Z"
   },
   {
    "duration": 31,
    "start_time": "2021-09-06T06:50:51.372Z"
   },
   {
    "duration": 44,
    "start_time": "2021-09-06T06:50:51.405Z"
   },
   {
    "duration": 6,
    "start_time": "2021-09-06T06:50:51.451Z"
   },
   {
    "duration": 179,
    "start_time": "2021-09-06T06:50:51.459Z"
   },
   {
    "duration": 67,
    "start_time": "2021-09-06T06:50:51.640Z"
   },
   {
    "duration": 24,
    "start_time": "2021-09-06T06:50:51.709Z"
   },
   {
    "duration": 72,
    "start_time": "2021-09-06T06:50:51.734Z"
   },
   {
    "duration": 124,
    "start_time": "2021-09-06T06:50:51.808Z"
   },
   {
    "duration": 2,
    "start_time": "2021-09-06T06:50:51.934Z"
   },
   {
    "duration": 4697,
    "start_time": "2021-09-06T06:50:51.938Z"
   },
   {
    "duration": 31,
    "start_time": "2021-09-06T06:50:56.637Z"
   },
   {
    "duration": 19,
    "start_time": "2021-09-06T06:50:56.670Z"
   },
   {
    "duration": 32,
    "start_time": "2021-09-06T06:50:56.691Z"
   },
   {
    "duration": 951,
    "start_time": "2021-09-06T06:50:56.724Z"
   },
   {
    "duration": 36,
    "start_time": "2021-09-06T06:50:57.677Z"
   },
   {
    "duration": 964,
    "start_time": "2021-09-06T06:50:57.714Z"
   },
   {
    "duration": 8,
    "start_time": "2021-09-06T06:50:58.679Z"
   },
   {
    "duration": 9,
    "start_time": "2021-09-06T06:50:58.690Z"
   },
   {
    "duration": 3,
    "start_time": "2021-09-06T06:50:58.701Z"
   },
   {
    "duration": 4,
    "start_time": "2021-09-06T06:50:58.706Z"
   },
   {
    "duration": 5,
    "start_time": "2021-09-06T06:50:58.711Z"
   },
   {
    "duration": 8,
    "start_time": "2021-09-06T06:50:58.718Z"
   },
   {
    "duration": 7,
    "start_time": "2021-09-06T06:50:58.728Z"
   },
   {
    "duration": 10,
    "start_time": "2021-09-06T06:50:58.737Z"
   },
   {
    "duration": 36,
    "start_time": "2021-09-06T06:50:58.749Z"
   },
   {
    "duration": 12,
    "start_time": "2021-09-06T06:52:01.730Z"
   },
   {
    "duration": 53,
    "start_time": "2021-09-06T06:58:42.348Z"
   },
   {
    "duration": 249,
    "start_time": "2021-09-06T07:01:47.590Z"
   },
   {
    "duration": 4492,
    "start_time": "2021-09-06T07:02:38.461Z"
   },
   {
    "duration": 5083,
    "start_time": "2021-09-06T07:02:53.548Z"
   },
   {
    "duration": 17,
    "start_time": "2021-09-06T07:03:42.041Z"
   },
   {
    "duration": 16,
    "start_time": "2021-09-06T07:04:11.241Z"
   },
   {
    "duration": 28,
    "start_time": "2021-09-06T07:04:44.620Z"
   },
   {
    "duration": 56,
    "start_time": "2021-09-06T07:14:15.849Z"
   },
   {
    "duration": 2719,
    "start_time": "2021-09-06T07:17:11.832Z"
   },
   {
    "duration": 1008,
    "start_time": "2021-09-06T07:17:14.554Z"
   },
   {
    "duration": 28,
    "start_time": "2021-09-06T07:17:15.565Z"
   },
   {
    "duration": 27,
    "start_time": "2021-09-06T07:17:15.595Z"
   },
   {
    "duration": 148,
    "start_time": "2021-09-06T07:17:15.623Z"
   },
   {
    "duration": 25,
    "start_time": "2021-09-06T07:17:15.773Z"
   },
   {
    "duration": 25,
    "start_time": "2021-09-06T07:17:15.799Z"
   },
   {
    "duration": 109,
    "start_time": "2021-09-06T07:17:15.827Z"
   },
   {
    "duration": 13,
    "start_time": "2021-09-06T07:17:15.939Z"
   },
   {
    "duration": 25,
    "start_time": "2021-09-06T07:17:15.954Z"
   },
   {
    "duration": 108,
    "start_time": "2021-09-06T07:17:15.981Z"
   },
   {
    "duration": 6,
    "start_time": "2021-09-06T07:17:16.091Z"
   },
   {
    "duration": 195,
    "start_time": "2021-09-06T07:17:16.099Z"
   },
   {
    "duration": 76,
    "start_time": "2021-09-06T07:17:16.296Z"
   },
   {
    "duration": 16,
    "start_time": "2021-09-06T07:17:16.385Z"
   },
   {
    "duration": 59,
    "start_time": "2021-09-06T07:17:16.403Z"
   },
   {
    "duration": 148,
    "start_time": "2021-09-06T07:17:16.463Z"
   },
   {
    "duration": 3,
    "start_time": "2021-09-06T07:17:16.613Z"
   },
   {
    "duration": 4891,
    "start_time": "2021-09-06T07:17:16.618Z"
   },
   {
    "duration": 40,
    "start_time": "2021-09-06T07:17:21.512Z"
   },
   {
    "duration": 7,
    "start_time": "2021-09-06T07:17:21.554Z"
   },
   {
    "duration": 49,
    "start_time": "2021-09-06T07:17:21.563Z"
   },
   {
    "duration": 1102,
    "start_time": "2021-09-06T07:17:21.615Z"
   },
   {
    "duration": 33,
    "start_time": "2021-09-06T07:17:22.719Z"
   },
   {
    "duration": 1105,
    "start_time": "2021-09-06T07:17:22.754Z"
   },
   {
    "duration": 5,
    "start_time": "2021-09-06T07:17:23.861Z"
   },
   {
    "duration": 21,
    "start_time": "2021-09-06T07:17:23.868Z"
   },
   {
    "duration": 4,
    "start_time": "2021-09-06T07:17:23.891Z"
   },
   {
    "duration": 13,
    "start_time": "2021-09-06T07:17:23.897Z"
   },
   {
    "duration": 11,
    "start_time": "2021-09-06T07:17:23.911Z"
   },
   {
    "duration": 11,
    "start_time": "2021-09-06T07:17:23.924Z"
   },
   {
    "duration": 19,
    "start_time": "2021-09-06T07:17:23.936Z"
   },
   {
    "duration": 26,
    "start_time": "2021-09-06T07:17:23.957Z"
   },
   {
    "duration": 15,
    "start_time": "2021-09-06T07:17:23.985Z"
   },
   {
    "duration": 317,
    "start_time": "2021-09-06T07:22:29.300Z"
   },
   {
    "duration": 115,
    "start_time": "2021-09-06T07:24:08.561Z"
   },
   {
    "duration": 255,
    "start_time": "2021-09-06T07:26:02.448Z"
   },
   {
    "duration": 111,
    "start_time": "2021-09-06T07:35:57.334Z"
   },
   {
    "duration": 175,
    "start_time": "2021-09-06T07:36:07.677Z"
   },
   {
    "duration": 455,
    "start_time": "2021-09-06T07:36:16.783Z"
   },
   {
    "duration": 111,
    "start_time": "2021-09-06T07:36:21.993Z"
   },
   {
    "duration": 114,
    "start_time": "2021-09-06T07:38:19.028Z"
   },
   {
    "duration": 115,
    "start_time": "2021-09-06T07:38:24.973Z"
   },
   {
    "duration": 8578,
    "start_time": "2021-09-06T07:40:41.253Z"
   },
   {
    "duration": 112,
    "start_time": "2021-09-06T07:42:31.452Z"
   },
   {
    "duration": 162,
    "start_time": "2021-09-06T07:42:39.740Z"
   },
   {
    "duration": 1036,
    "start_time": "2021-09-06T07:43:16.018Z"
   },
   {
    "duration": 161,
    "start_time": "2021-09-06T07:43:17.056Z"
   },
   {
    "duration": 19,
    "start_time": "2021-09-06T07:43:17.220Z"
   },
   {
    "duration": 44,
    "start_time": "2021-09-06T07:43:17.242Z"
   },
   {
    "duration": 149,
    "start_time": "2021-09-06T07:43:17.287Z"
   },
   {
    "duration": 16,
    "start_time": "2021-09-06T07:43:17.437Z"
   },
   {
    "duration": 33,
    "start_time": "2021-09-06T07:43:17.455Z"
   },
   {
    "duration": 95,
    "start_time": "2021-09-06T07:43:17.491Z"
   },
   {
    "duration": 13,
    "start_time": "2021-09-06T07:43:17.588Z"
   },
   {
    "duration": 28,
    "start_time": "2021-09-06T07:43:17.603Z"
   },
   {
    "duration": 118,
    "start_time": "2021-09-06T07:43:17.632Z"
   },
   {
    "duration": 6,
    "start_time": "2021-09-06T07:43:17.752Z"
   },
   {
    "duration": 169,
    "start_time": "2021-09-06T07:43:17.759Z"
   },
   {
    "duration": 8560,
    "start_time": "2021-09-06T07:43:17.930Z"
   },
   {
    "duration": -95,
    "start_time": "2021-09-06T07:43:26.588Z"
   },
   {
    "duration": -98,
    "start_time": "2021-09-06T07:43:26.592Z"
   },
   {
    "duration": -104,
    "start_time": "2021-09-06T07:43:26.599Z"
   },
   {
    "duration": -116,
    "start_time": "2021-09-06T07:43:26.612Z"
   },
   {
    "duration": -129,
    "start_time": "2021-09-06T07:43:26.626Z"
   },
   {
    "duration": -150,
    "start_time": "2021-09-06T07:43:26.647Z"
   },
   {
    "duration": -569,
    "start_time": "2021-09-06T07:43:27.067Z"
   },
   {
    "duration": -579,
    "start_time": "2021-09-06T07:43:27.078Z"
   },
   {
    "duration": -587,
    "start_time": "2021-09-06T07:43:27.087Z"
   },
   {
    "duration": -590,
    "start_time": "2021-09-06T07:43:27.091Z"
   },
   {
    "duration": -597,
    "start_time": "2021-09-06T07:43:27.099Z"
   },
   {
    "duration": -608,
    "start_time": "2021-09-06T07:43:27.111Z"
   },
   {
    "duration": -616,
    "start_time": "2021-09-06T07:43:27.120Z"
   },
   {
    "duration": -619,
    "start_time": "2021-09-06T07:43:27.124Z"
   },
   {
    "duration": -622,
    "start_time": "2021-09-06T07:43:27.128Z"
   },
   {
    "duration": -631,
    "start_time": "2021-09-06T07:43:27.137Z"
   },
   {
    "duration": -633,
    "start_time": "2021-09-06T07:43:27.140Z"
   },
   {
    "duration": -636,
    "start_time": "2021-09-06T07:43:27.144Z"
   },
   {
    "duration": -645,
    "start_time": "2021-09-06T07:43:27.153Z"
   },
   {
    "duration": -648,
    "start_time": "2021-09-06T07:43:27.158Z"
   },
   {
    "duration": 24,
    "start_time": "2021-09-06T07:44:00.658Z"
   },
   {
    "duration": 12,
    "start_time": "2021-09-06T07:44:04.698Z"
   },
   {
    "duration": 58,
    "start_time": "2021-09-06T07:44:08.270Z"
   },
   {
    "duration": 1047,
    "start_time": "2021-09-06T07:56:03.906Z"
   },
   {
    "duration": 176,
    "start_time": "2021-09-06T07:56:04.955Z"
   },
   {
    "duration": 20,
    "start_time": "2021-09-06T07:56:05.133Z"
   },
   {
    "duration": 39,
    "start_time": "2021-09-06T07:56:05.155Z"
   },
   {
    "duration": 150,
    "start_time": "2021-09-06T07:56:05.196Z"
   },
   {
    "duration": 16,
    "start_time": "2021-09-06T07:56:05.347Z"
   },
   {
    "duration": 37,
    "start_time": "2021-09-06T07:56:05.364Z"
   },
   {
    "duration": 98,
    "start_time": "2021-09-06T07:56:05.403Z"
   },
   {
    "duration": 13,
    "start_time": "2021-09-06T07:56:05.503Z"
   },
   {
    "duration": 28,
    "start_time": "2021-09-06T07:56:05.518Z"
   },
   {
    "duration": 84,
    "start_time": "2021-09-06T07:56:05.547Z"
   },
   {
    "duration": 6,
    "start_time": "2021-09-06T07:56:05.633Z"
   },
   {
    "duration": 180,
    "start_time": "2021-09-06T07:56:05.641Z"
   },
   {
    "duration": 73,
    "start_time": "2021-09-06T07:56:05.822Z"
   },
   {
    "duration": 14,
    "start_time": "2021-09-06T07:56:05.896Z"
   },
   {
    "duration": 74,
    "start_time": "2021-09-06T07:56:05.911Z"
   },
   {
    "duration": 122,
    "start_time": "2021-09-06T07:56:05.987Z"
   },
   {
    "duration": 3,
    "start_time": "2021-09-06T07:56:06.110Z"
   },
   {
    "duration": 494,
    "start_time": "2021-09-06T07:56:06.114Z"
   },
   {
    "duration": -29,
    "start_time": "2021-09-06T07:56:06.639Z"
   },
   {
    "duration": -33,
    "start_time": "2021-09-06T07:56:06.644Z"
   },
   {
    "duration": -35,
    "start_time": "2021-09-06T07:56:06.647Z"
   },
   {
    "duration": -39,
    "start_time": "2021-09-06T07:56:06.651Z"
   },
   {
    "duration": -42,
    "start_time": "2021-09-06T07:56:06.655Z"
   },
   {
    "duration": -45,
    "start_time": "2021-09-06T07:56:06.659Z"
   },
   {
    "duration": -79,
    "start_time": "2021-09-06T07:56:06.694Z"
   },
   {
    "duration": -82,
    "start_time": "2021-09-06T07:56:06.698Z"
   },
   {
    "duration": -84,
    "start_time": "2021-09-06T07:56:06.701Z"
   },
   {
    "duration": -87,
    "start_time": "2021-09-06T07:56:06.705Z"
   },
   {
    "duration": -89,
    "start_time": "2021-09-06T07:56:06.708Z"
   },
   {
    "duration": -91,
    "start_time": "2021-09-06T07:56:06.711Z"
   },
   {
    "duration": -95,
    "start_time": "2021-09-06T07:56:06.715Z"
   },
   {
    "duration": -98,
    "start_time": "2021-09-06T07:56:06.719Z"
   },
   {
    "duration": -100,
    "start_time": "2021-09-06T07:56:06.722Z"
   },
   {
    "duration": 1350,
    "start_time": "2021-09-06T07:57:59.412Z"
   },
   {
    "duration": 171,
    "start_time": "2021-09-06T07:58:00.764Z"
   },
   {
    "duration": 20,
    "start_time": "2021-09-06T07:58:00.936Z"
   },
   {
    "duration": 43,
    "start_time": "2021-09-06T07:58:00.958Z"
   },
   {
    "duration": 155,
    "start_time": "2021-09-06T07:58:01.003Z"
   },
   {
    "duration": 26,
    "start_time": "2021-09-06T07:58:01.159Z"
   },
   {
    "duration": 23,
    "start_time": "2021-09-06T07:58:01.186Z"
   },
   {
    "duration": 105,
    "start_time": "2021-09-06T07:58:01.211Z"
   },
   {
    "duration": 13,
    "start_time": "2021-09-06T07:58:01.318Z"
   },
   {
    "duration": 31,
    "start_time": "2021-09-06T07:58:01.334Z"
   },
   {
    "duration": 99,
    "start_time": "2021-09-06T07:58:01.367Z"
   },
   {
    "duration": 13,
    "start_time": "2021-09-06T07:58:01.468Z"
   },
   {
    "duration": 202,
    "start_time": "2021-09-06T07:58:01.483Z"
   },
   {
    "duration": 68,
    "start_time": "2021-09-06T07:58:01.687Z"
   },
   {
    "duration": 34,
    "start_time": "2021-09-06T07:58:01.757Z"
   },
   {
    "duration": 59,
    "start_time": "2021-09-06T07:58:01.794Z"
   },
   {
    "duration": 146,
    "start_time": "2021-09-06T07:58:01.855Z"
   },
   {
    "duration": 3,
    "start_time": "2021-09-06T07:58:02.003Z"
   },
   {
    "duration": 4965,
    "start_time": "2021-09-06T07:58:02.008Z"
   },
   {
    "duration": 32,
    "start_time": "2021-09-06T07:58:06.975Z"
   },
   {
    "duration": 7,
    "start_time": "2021-09-06T07:58:07.009Z"
   },
   {
    "duration": 26,
    "start_time": "2021-09-06T07:58:07.018Z"
   },
   {
    "duration": 961,
    "start_time": "2021-09-06T07:58:07.046Z"
   },
   {
    "duration": 28,
    "start_time": "2021-09-06T07:58:08.009Z"
   },
   {
    "duration": 984,
    "start_time": "2021-09-06T07:58:08.039Z"
   },
   {
    "duration": 5,
    "start_time": "2021-09-06T07:58:09.025Z"
   },
   {
    "duration": 20,
    "start_time": "2021-09-06T07:58:09.034Z"
   },
   {
    "duration": 8,
    "start_time": "2021-09-06T07:58:09.055Z"
   },
   {
    "duration": 6,
    "start_time": "2021-09-06T07:58:09.064Z"
   },
   {
    "duration": 13,
    "start_time": "2021-09-06T07:58:09.072Z"
   },
   {
    "duration": 9,
    "start_time": "2021-09-06T07:58:09.086Z"
   },
   {
    "duration": 16,
    "start_time": "2021-09-06T07:58:09.096Z"
   },
   {
    "duration": 18,
    "start_time": "2021-09-06T07:58:09.114Z"
   },
   {
    "duration": 10,
    "start_time": "2021-09-06T07:58:09.134Z"
   },
   {
    "duration": 5775,
    "start_time": "2021-09-06T08:03:02.408Z"
   },
   {
    "duration": 3076,
    "start_time": "2021-09-06T08:03:52.920Z"
   },
   {
    "duration": 5388,
    "start_time": "2021-09-06T08:05:19.024Z"
   },
   {
    "duration": 58,
    "start_time": "2021-09-06T08:05:52.089Z"
   },
   {
    "duration": 112,
    "start_time": "2021-09-06T08:07:01.421Z"
   },
   {
    "duration": 6354,
    "start_time": "2021-09-06T08:07:20.762Z"
   },
   {
    "duration": 6212,
    "start_time": "2021-09-06T08:08:35.668Z"
   },
   {
    "duration": 5322,
    "start_time": "2021-09-06T08:11:24.594Z"
   },
   {
    "duration": 489,
    "start_time": "2021-09-06T08:11:58.935Z"
   },
   {
    "duration": 126,
    "start_time": "2021-09-06T08:12:10.335Z"
   },
   {
    "duration": 5516,
    "start_time": "2021-09-06T08:14:24.094Z"
   },
   {
    "duration": 141,
    "start_time": "2021-09-06T08:15:03.235Z"
   },
   {
    "duration": 121,
    "start_time": "2021-09-06T08:18:11.276Z"
   },
   {
    "duration": 1396,
    "start_time": "2021-09-06T08:23:03.657Z"
   },
   {
    "duration": 166,
    "start_time": "2021-09-06T08:23:05.054Z"
   },
   {
    "duration": 20,
    "start_time": "2021-09-06T08:23:05.222Z"
   },
   {
    "duration": 47,
    "start_time": "2021-09-06T08:23:05.244Z"
   },
   {
    "duration": 150,
    "start_time": "2021-09-06T08:23:05.293Z"
   },
   {
    "duration": 17,
    "start_time": "2021-09-06T08:23:05.444Z"
   },
   {
    "duration": 36,
    "start_time": "2021-09-06T08:23:05.464Z"
   },
   {
    "duration": 99,
    "start_time": "2021-09-06T08:23:05.503Z"
   },
   {
    "duration": 14,
    "start_time": "2021-09-06T08:23:05.604Z"
   },
   {
    "duration": 29,
    "start_time": "2021-09-06T08:23:05.620Z"
   },
   {
    "duration": 66,
    "start_time": "2021-09-06T08:23:05.651Z"
   },
   {
    "duration": 7,
    "start_time": "2021-09-06T08:23:05.719Z"
   },
   {
    "duration": 177,
    "start_time": "2021-09-06T08:23:05.728Z"
   },
   {
    "duration": 79,
    "start_time": "2021-09-06T08:23:05.907Z"
   },
   {
    "duration": 14,
    "start_time": "2021-09-06T08:23:05.988Z"
   },
   {
    "duration": 56,
    "start_time": "2021-09-06T08:23:06.004Z"
   },
   {
    "duration": 150,
    "start_time": "2021-09-06T08:23:06.062Z"
   },
   {
    "duration": 3,
    "start_time": "2021-09-06T08:23:06.214Z"
   },
   {
    "duration": 4970,
    "start_time": "2021-09-06T08:23:06.218Z"
   },
   {
    "duration": -63,
    "start_time": "2021-09-06T08:23:11.254Z"
   },
   {
    "duration": -71,
    "start_time": "2021-09-06T08:23:11.263Z"
   },
   {
    "duration": -82,
    "start_time": "2021-09-06T08:23:11.276Z"
   },
   {
    "duration": -92,
    "start_time": "2021-09-06T08:23:11.287Z"
   },
   {
    "duration": -96,
    "start_time": "2021-09-06T08:23:11.293Z"
   },
   {
    "duration": -100,
    "start_time": "2021-09-06T08:23:11.298Z"
   },
   {
    "duration": -101,
    "start_time": "2021-09-06T08:23:11.301Z"
   },
   {
    "duration": -106,
    "start_time": "2021-09-06T08:23:11.307Z"
   },
   {
    "duration": -109,
    "start_time": "2021-09-06T08:23:11.312Z"
   },
   {
    "duration": -113,
    "start_time": "2021-09-06T08:23:11.317Z"
   },
   {
    "duration": -114,
    "start_time": "2021-09-06T08:23:11.320Z"
   },
   {
    "duration": -118,
    "start_time": "2021-09-06T08:23:11.325Z"
   },
   {
    "duration": -119,
    "start_time": "2021-09-06T08:23:11.328Z"
   },
   {
    "duration": -122,
    "start_time": "2021-09-06T08:23:11.332Z"
   },
   {
    "duration": -124,
    "start_time": "2021-09-06T08:23:11.335Z"
   },
   {
    "duration": 4197,
    "start_time": "2021-09-06T08:23:26.629Z"
   },
   {
    "duration": 4079,
    "start_time": "2021-09-06T08:26:52.069Z"
   },
   {
    "duration": 28,
    "start_time": "2021-09-06T08:27:05.919Z"
   },
   {
    "duration": 8,
    "start_time": "2021-09-06T08:31:27.322Z"
   },
   {
    "duration": 28,
    "start_time": "2021-09-06T08:31:34.136Z"
   },
   {
    "duration": 739,
    "start_time": "2021-09-06T08:34:23.558Z"
   },
   {
    "duration": -108,
    "start_time": "2021-09-06T08:35:58.678Z"
   },
   {
    "duration": 239,
    "start_time": "2021-09-06T08:36:07.619Z"
   },
   {
    "duration": 26828,
    "start_time": "2021-09-06T08:36:21.048Z"
   },
   {
    "duration": 1094,
    "start_time": "2021-09-06T08:37:34.919Z"
   },
   {
    "duration": 1150,
    "start_time": "2021-09-06T08:37:54.268Z"
   },
   {
    "duration": 866,
    "start_time": "2021-09-06T08:38:06.959Z"
   },
   {
    "duration": 1283,
    "start_time": "2021-09-06T08:38:23.331Z"
   },
   {
    "duration": 986,
    "start_time": "2021-09-06T08:41:45.959Z"
   },
   {
    "duration": 971,
    "start_time": "2021-09-06T08:42:07.040Z"
   },
   {
    "duration": 680,
    "start_time": "2021-09-06T08:43:18.627Z"
   },
   {
    "duration": 29,
    "start_time": "2021-09-06T08:43:23.157Z"
   },
   {
    "duration": 898,
    "start_time": "2021-09-06T08:43:25.333Z"
   },
   {
    "duration": 774,
    "start_time": "2021-09-06T08:43:39.359Z"
   },
   {
    "duration": 710,
    "start_time": "2021-09-06T08:44:24.478Z"
   },
   {
    "duration": 684,
    "start_time": "2021-09-06T08:44:39.795Z"
   },
   {
    "duration": 694,
    "start_time": "2021-09-06T08:44:50.635Z"
   },
   {
    "duration": 778,
    "start_time": "2021-09-06T08:44:56.390Z"
   },
   {
    "duration": 682,
    "start_time": "2021-09-06T08:45:03.589Z"
   },
   {
    "duration": 707,
    "start_time": "2021-09-06T08:45:23.654Z"
   },
   {
    "duration": 809,
    "start_time": "2021-09-06T08:45:30.745Z"
   },
   {
    "duration": 701,
    "start_time": "2021-09-06T08:46:05.734Z"
   },
   {
    "duration": 689,
    "start_time": "2021-09-06T08:46:47.867Z"
   },
   {
    "duration": 1268,
    "start_time": "2021-09-06T08:50:30.389Z"
   },
   {
    "duration": 168,
    "start_time": "2021-09-06T08:50:31.659Z"
   },
   {
    "duration": 21,
    "start_time": "2021-09-06T08:50:31.829Z"
   },
   {
    "duration": 39,
    "start_time": "2021-09-06T08:50:31.853Z"
   },
   {
    "duration": 150,
    "start_time": "2021-09-06T08:50:31.894Z"
   },
   {
    "duration": 18,
    "start_time": "2021-09-06T08:50:32.046Z"
   },
   {
    "duration": 36,
    "start_time": "2021-09-06T08:50:32.065Z"
   },
   {
    "duration": 101,
    "start_time": "2021-09-06T08:50:32.103Z"
   },
   {
    "duration": 13,
    "start_time": "2021-09-06T08:50:32.206Z"
   },
   {
    "duration": 31,
    "start_time": "2021-09-06T08:50:32.221Z"
   },
   {
    "duration": 118,
    "start_time": "2021-09-06T08:50:32.254Z"
   },
   {
    "duration": 6,
    "start_time": "2021-09-06T08:50:32.374Z"
   },
   {
    "duration": 181,
    "start_time": "2021-09-06T08:50:32.381Z"
   },
   {
    "duration": 67,
    "start_time": "2021-09-06T08:50:32.564Z"
   },
   {
    "duration": 12,
    "start_time": "2021-09-06T08:50:32.633Z"
   },
   {
    "duration": 73,
    "start_time": "2021-09-06T08:50:32.647Z"
   },
   {
    "duration": 127,
    "start_time": "2021-09-06T08:50:32.721Z"
   },
   {
    "duration": 3,
    "start_time": "2021-09-06T08:50:32.850Z"
   },
   {
    "duration": 4039,
    "start_time": "2021-09-06T08:50:32.854Z"
   },
   {
    "duration": 25,
    "start_time": "2021-09-06T08:50:36.895Z"
   },
   {
    "duration": 6,
    "start_time": "2021-09-06T08:50:36.922Z"
   },
   {
    "duration": 28,
    "start_time": "2021-09-06T08:50:36.930Z"
   },
   {
    "duration": 693,
    "start_time": "2021-09-06T08:50:36.961Z"
   },
   {
    "duration": 34,
    "start_time": "2021-09-06T08:50:37.656Z"
   },
   {
    "duration": 681,
    "start_time": "2021-09-06T08:50:37.692Z"
   },
   {
    "duration": 10,
    "start_time": "2021-09-06T08:50:38.375Z"
   },
   {
    "duration": 15,
    "start_time": "2021-09-06T08:50:38.386Z"
   },
   {
    "duration": 3,
    "start_time": "2021-09-06T08:50:38.403Z"
   },
   {
    "duration": 5,
    "start_time": "2021-09-06T08:50:38.407Z"
   },
   {
    "duration": 8,
    "start_time": "2021-09-06T08:50:38.413Z"
   },
   {
    "duration": 77,
    "start_time": "2021-09-06T08:50:38.423Z"
   },
   {
    "duration": 10,
    "start_time": "2021-09-06T08:50:38.502Z"
   },
   {
    "duration": 10,
    "start_time": "2021-09-06T08:50:38.514Z"
   },
   {
    "duration": 4,
    "start_time": "2021-09-06T08:50:38.525Z"
   },
   {
    "duration": 4,
    "start_time": "2021-09-06T08:51:50.708Z"
   },
   {
    "duration": 3,
    "start_time": "2021-09-06T08:51:58.486Z"
   },
   {
    "duration": 4,
    "start_time": "2021-09-06T08:52:02.567Z"
   },
   {
    "duration": 6,
    "start_time": "2021-09-06T08:52:04.877Z"
   },
   {
    "duration": 3,
    "start_time": "2021-09-06T08:53:39.724Z"
   },
   {
    "duration": 402,
    "start_time": "2021-09-06T08:53:44.963Z"
   },
   {
    "duration": 3,
    "start_time": "2021-09-06T08:53:54.432Z"
   },
   {
    "duration": 3,
    "start_time": "2021-09-06T08:53:56.885Z"
   },
   {
    "duration": 6,
    "start_time": "2021-09-06T08:54:00.231Z"
   },
   {
    "duration": 4,
    "start_time": "2021-09-06T09:03:00.297Z"
   },
   {
    "duration": 1457,
    "start_time": "2021-09-06T14:00:03.277Z"
   },
   {
    "duration": 248,
    "start_time": "2021-09-06T14:00:04.736Z"
   },
   {
    "duration": 28,
    "start_time": "2021-09-06T14:00:04.987Z"
   },
   {
    "duration": 60,
    "start_time": "2021-09-06T14:00:05.018Z"
   },
   {
    "duration": 210,
    "start_time": "2021-09-06T14:00:05.081Z"
   },
   {
    "duration": 23,
    "start_time": "2021-09-06T14:00:05.294Z"
   },
   {
    "duration": 57,
    "start_time": "2021-09-06T14:00:05.320Z"
   },
   {
    "duration": 138,
    "start_time": "2021-09-06T14:00:05.380Z"
   },
   {
    "duration": 19,
    "start_time": "2021-09-06T14:00:05.521Z"
   },
   {
    "duration": 43,
    "start_time": "2021-09-06T14:00:05.543Z"
   },
   {
    "duration": 88,
    "start_time": "2021-09-06T14:00:05.589Z"
   },
   {
    "duration": 8,
    "start_time": "2021-09-06T14:00:05.680Z"
   },
   {
    "duration": 287,
    "start_time": "2021-09-06T14:00:05.690Z"
   },
   {
    "duration": 121,
    "start_time": "2021-09-06T14:00:05.980Z"
   },
   {
    "duration": 19,
    "start_time": "2021-09-06T14:00:06.103Z"
   },
   {
    "duration": 105,
    "start_time": "2021-09-06T14:00:06.124Z"
   },
   {
    "duration": 210,
    "start_time": "2021-09-06T14:00:06.231Z"
   },
   {
    "duration": 4,
    "start_time": "2021-09-06T14:00:06.444Z"
   },
   {
    "duration": 8125,
    "start_time": "2021-09-06T14:00:06.457Z"
   },
   {
    "duration": 43,
    "start_time": "2021-09-06T14:00:14.585Z"
   },
   {
    "duration": 37,
    "start_time": "2021-09-06T14:00:14.631Z"
   },
   {
    "duration": 45,
    "start_time": "2021-09-06T14:00:14.671Z"
   },
   {
    "duration": 1179,
    "start_time": "2021-09-06T14:00:14.721Z"
   },
   {
    "duration": 58,
    "start_time": "2021-09-06T14:00:15.903Z"
   },
   {
    "duration": 1203,
    "start_time": "2021-09-06T14:00:15.965Z"
   },
   {
    "duration": 8,
    "start_time": "2021-09-06T14:00:17.173Z"
   },
   {
    "duration": 25,
    "start_time": "2021-09-06T14:00:17.184Z"
   },
   {
    "duration": 6,
    "start_time": "2021-09-06T14:00:17.212Z"
   },
   {
    "duration": 14,
    "start_time": "2021-09-06T14:00:17.220Z"
   },
   {
    "duration": 6,
    "start_time": "2021-09-06T14:00:17.255Z"
   },
   {
    "duration": 103,
    "start_time": "2021-09-06T14:00:17.263Z"
   },
   {
    "duration": 11,
    "start_time": "2021-09-06T14:00:17.370Z"
   },
   {
    "duration": 16,
    "start_time": "2021-09-06T14:00:17.383Z"
   },
   {
    "duration": 21,
    "start_time": "2021-09-06T14:00:17.402Z"
   },
   {
    "duration": 35,
    "start_time": "2021-09-06T14:00:17.426Z"
   },
   {
    "duration": 987,
    "start_time": "2021-09-06T14:12:39.106Z"
   },
   {
    "duration": 391,
    "start_time": "2021-09-06T14:13:40.615Z"
   },
   {
    "duration": 1224,
    "start_time": "2021-09-06T14:16:34.535Z"
   },
   {
    "duration": 230,
    "start_time": "2021-09-06T15:02:01.097Z"
   },
   {
    "duration": 1020,
    "start_time": "2021-09-06T15:02:19.635Z"
   },
   {
    "duration": 157,
    "start_time": "2021-09-06T15:02:20.657Z"
   },
   {
    "duration": 19,
    "start_time": "2021-09-06T15:02:20.816Z"
   },
   {
    "duration": 25,
    "start_time": "2021-09-06T15:02:20.837Z"
   },
   {
    "duration": 154,
    "start_time": "2021-09-06T15:02:20.864Z"
   },
   {
    "duration": 16,
    "start_time": "2021-09-06T15:02:21.019Z"
   },
   {
    "duration": 34,
    "start_time": "2021-09-06T15:02:21.036Z"
   },
   {
    "duration": 91,
    "start_time": "2021-09-06T15:02:21.072Z"
   },
   {
    "duration": 22,
    "start_time": "2021-09-06T15:02:21.165Z"
   },
   {
    "duration": 21,
    "start_time": "2021-09-06T15:02:21.189Z"
   },
   {
    "duration": 49,
    "start_time": "2021-09-06T15:02:21.212Z"
   },
   {
    "duration": 6,
    "start_time": "2021-09-06T15:02:21.263Z"
   },
   {
    "duration": 182,
    "start_time": "2021-09-06T15:02:21.271Z"
   },
   {
    "duration": 78,
    "start_time": "2021-09-06T15:02:21.455Z"
   },
   {
    "duration": 14,
    "start_time": "2021-09-06T15:02:21.535Z"
   },
   {
    "duration": 77,
    "start_time": "2021-09-06T15:02:21.551Z"
   },
   {
    "duration": 138,
    "start_time": "2021-09-06T15:02:21.630Z"
   },
   {
    "duration": 3,
    "start_time": "2021-09-06T15:02:21.770Z"
   },
   {
    "duration": 4112,
    "start_time": "2021-09-06T15:02:21.775Z"
   },
   {
    "duration": 29,
    "start_time": "2021-09-06T15:02:25.889Z"
   },
   {
    "duration": 8,
    "start_time": "2021-09-06T15:02:25.920Z"
   },
   {
    "duration": 32,
    "start_time": "2021-09-06T15:02:25.930Z"
   },
   {
    "duration": 513,
    "start_time": "2021-09-06T15:02:25.987Z"
   },
   {
    "duration": 62,
    "start_time": "2021-09-06T15:02:26.441Z"
   },
   {
    "duration": 58,
    "start_time": "2021-09-06T15:02:26.447Z"
   },
   {
    "duration": 54,
    "start_time": "2021-09-06T15:02:26.453Z"
   },
   {
    "duration": 43,
    "start_time": "2021-09-06T15:02:26.465Z"
   },
   {
    "duration": 39,
    "start_time": "2021-09-06T15:02:26.471Z"
   },
   {
    "duration": 34,
    "start_time": "2021-09-06T15:02:26.477Z"
   },
   {
    "duration": 32,
    "start_time": "2021-09-06T15:02:26.481Z"
   },
   {
    "duration": 29,
    "start_time": "2021-09-06T15:02:26.486Z"
   },
   {
    "duration": 26,
    "start_time": "2021-09-06T15:02:26.490Z"
   },
   {
    "duration": 23,
    "start_time": "2021-09-06T15:02:26.495Z"
   },
   {
    "duration": 20,
    "start_time": "2021-09-06T15:02:26.499Z"
   },
   {
    "duration": 16,
    "start_time": "2021-09-06T15:02:26.505Z"
   },
   {
    "duration": 729,
    "start_time": "2021-09-06T15:03:04.563Z"
   },
   {
    "duration": 690,
    "start_time": "2021-09-06T15:04:43.082Z"
   },
   {
    "duration": 753,
    "start_time": "2021-09-06T15:06:37.663Z"
   },
   {
    "duration": 711,
    "start_time": "2021-09-06T15:07:24.783Z"
   },
   {
    "duration": 8,
    "start_time": "2021-09-06T15:29:41.040Z"
   },
   {
    "duration": 4,
    "start_time": "2021-09-06T15:33:36.974Z"
   },
   {
    "duration": 5946,
    "start_time": "2021-09-06T15:35:26.429Z"
   },
   {
    "duration": 5,
    "start_time": "2021-09-06T15:44:23.043Z"
   },
   {
    "duration": 385,
    "start_time": "2021-09-06T15:44:28.035Z"
   },
   {
    "duration": 5,
    "start_time": "2021-09-06T15:45:38.883Z"
   },
   {
    "duration": 5,
    "start_time": "2021-09-06T15:46:01.148Z"
   },
   {
    "duration": 382,
    "start_time": "2021-09-06T15:46:05.994Z"
   },
   {
    "duration": 321,
    "start_time": "2021-09-06T15:57:18.252Z"
   },
   {
    "duration": 196,
    "start_time": "2021-09-06T15:58:58.132Z"
   },
   {
    "duration": 946,
    "start_time": "2021-09-06T16:01:15.418Z"
   },
   {
    "duration": 156,
    "start_time": "2021-09-06T16:01:16.366Z"
   },
   {
    "duration": 19,
    "start_time": "2021-09-06T16:01:16.524Z"
   },
   {
    "duration": 39,
    "start_time": "2021-09-06T16:01:16.545Z"
   },
   {
    "duration": 140,
    "start_time": "2021-09-06T16:01:16.586Z"
   },
   {
    "duration": 15,
    "start_time": "2021-09-06T16:01:16.728Z"
   },
   {
    "duration": 22,
    "start_time": "2021-09-06T16:01:16.745Z"
   },
   {
    "duration": 95,
    "start_time": "2021-09-06T16:01:16.769Z"
   },
   {
    "duration": 23,
    "start_time": "2021-09-06T16:01:16.866Z"
   },
   {
    "duration": 19,
    "start_time": "2021-09-06T16:01:16.891Z"
   },
   {
    "duration": 60,
    "start_time": "2021-09-06T16:01:16.912Z"
   },
   {
    "duration": 5,
    "start_time": "2021-09-06T16:01:16.974Z"
   },
   {
    "duration": 191,
    "start_time": "2021-09-06T16:01:16.981Z"
   },
   {
    "duration": 73,
    "start_time": "2021-09-06T16:01:17.173Z"
   },
   {
    "duration": 13,
    "start_time": "2021-09-06T16:01:17.248Z"
   },
   {
    "duration": 72,
    "start_time": "2021-09-06T16:01:17.262Z"
   },
   {
    "duration": 7,
    "start_time": "2021-09-06T16:01:17.335Z"
   },
   {
    "duration": 149,
    "start_time": "2021-09-06T16:01:17.343Z"
   },
   {
    "duration": 3,
    "start_time": "2021-09-06T16:01:17.493Z"
   },
   {
    "duration": 1496,
    "start_time": "2021-09-06T16:01:17.497Z"
   },
   {
    "duration": 312,
    "start_time": "2021-09-06T16:01:18.684Z"
   },
   {
    "duration": 298,
    "start_time": "2021-09-06T16:01:18.699Z"
   },
   {
    "duration": 294,
    "start_time": "2021-09-06T16:01:18.703Z"
   },
   {
    "duration": 292,
    "start_time": "2021-09-06T16:01:18.706Z"
   },
   {
    "duration": 288,
    "start_time": "2021-09-06T16:01:18.711Z"
   },
   {
    "duration": 282,
    "start_time": "2021-09-06T16:01:18.718Z"
   },
   {
    "duration": 279,
    "start_time": "2021-09-06T16:01:18.722Z"
   },
   {
    "duration": 275,
    "start_time": "2021-09-06T16:01:18.727Z"
   },
   {
    "duration": 263,
    "start_time": "2021-09-06T16:01:18.740Z"
   },
   {
    "duration": 258,
    "start_time": "2021-09-06T16:01:18.746Z"
   },
   {
    "duration": 253,
    "start_time": "2021-09-06T16:01:18.751Z"
   },
   {
    "duration": 249,
    "start_time": "2021-09-06T16:01:18.756Z"
   },
   {
    "duration": 245,
    "start_time": "2021-09-06T16:01:18.761Z"
   },
   {
    "duration": 242,
    "start_time": "2021-09-06T16:01:18.765Z"
   },
   {
    "duration": 239,
    "start_time": "2021-09-06T16:01:18.769Z"
   },
   {
    "duration": 236,
    "start_time": "2021-09-06T16:01:18.773Z"
   },
   {
    "duration": 232,
    "start_time": "2021-09-06T16:01:18.778Z"
   },
   {
    "duration": 228,
    "start_time": "2021-09-06T16:01:18.782Z"
   },
   {
    "duration": 4,
    "start_time": "2021-09-06T16:01:41.422Z"
   },
   {
    "duration": 5852,
    "start_time": "2021-09-06T16:01:45.773Z"
   },
   {
    "duration": 121,
    "start_time": "2021-09-06T16:02:48.414Z"
   },
   {
    "duration": 6,
    "start_time": "2021-09-06T16:04:07.197Z"
   },
   {
    "duration": 5269,
    "start_time": "2021-09-06T16:05:51.871Z"
   },
   {
    "duration": 5152,
    "start_time": "2021-09-06T16:06:45.041Z"
   },
   {
    "duration": 6,
    "start_time": "2021-09-06T16:07:43.941Z"
   },
   {
    "duration": 198,
    "start_time": "2021-09-06T16:07:48.665Z"
   },
   {
    "duration": 378,
    "start_time": "2021-09-06T16:08:01.330Z"
   },
   {
    "duration": 205,
    "start_time": "2021-09-06T16:08:09.214Z"
   },
   {
    "duration": 202,
    "start_time": "2021-09-06T16:08:26.452Z"
   },
   {
    "duration": 950,
    "start_time": "2021-09-06T16:09:26.219Z"
   },
   {
    "duration": 160,
    "start_time": "2021-09-06T16:09:27.171Z"
   },
   {
    "duration": 20,
    "start_time": "2021-09-06T16:09:27.333Z"
   },
   {
    "duration": 42,
    "start_time": "2021-09-06T16:09:27.355Z"
   },
   {
    "duration": 141,
    "start_time": "2021-09-06T16:09:27.399Z"
   },
   {
    "duration": 16,
    "start_time": "2021-09-06T16:09:27.541Z"
   },
   {
    "duration": 37,
    "start_time": "2021-09-06T16:09:27.559Z"
   },
   {
    "duration": 94,
    "start_time": "2021-09-06T16:09:27.598Z"
   },
   {
    "duration": 13,
    "start_time": "2021-09-06T16:09:27.695Z"
   },
   {
    "duration": 26,
    "start_time": "2021-09-06T16:09:27.710Z"
   },
   {
    "duration": 56,
    "start_time": "2021-09-06T16:09:27.738Z"
   },
   {
    "duration": 5,
    "start_time": "2021-09-06T16:09:27.796Z"
   },
   {
    "duration": 189,
    "start_time": "2021-09-06T16:09:27.803Z"
   },
   {
    "duration": 73,
    "start_time": "2021-09-06T16:09:27.994Z"
   },
   {
    "duration": 25,
    "start_time": "2021-09-06T16:09:28.068Z"
   },
   {
    "duration": 57,
    "start_time": "2021-09-06T16:09:28.095Z"
   },
   {
    "duration": 143,
    "start_time": "2021-09-06T16:09:28.154Z"
   },
   {
    "duration": 2,
    "start_time": "2021-09-06T16:09:28.299Z"
   },
   {
    "duration": 5,
    "start_time": "2021-09-06T16:09:28.303Z"
   },
   {
    "duration": 217,
    "start_time": "2021-09-06T16:09:28.310Z"
   },
   {
    "duration": 41,
    "start_time": "2021-09-06T16:09:28.529Z"
   },
   {
    "duration": 19,
    "start_time": "2021-09-06T16:09:28.571Z"
   },
   {
    "duration": 44,
    "start_time": "2021-09-06T16:09:28.592Z"
   },
   {
    "duration": 724,
    "start_time": "2021-09-06T16:09:28.638Z"
   },
   {
    "duration": 46,
    "start_time": "2021-09-06T16:09:29.364Z"
   },
   {
    "duration": 694,
    "start_time": "2021-09-06T16:09:29.411Z"
   },
   {
    "duration": 4,
    "start_time": "2021-09-06T16:09:30.108Z"
   },
   {
    "duration": 18,
    "start_time": "2021-09-06T16:09:30.114Z"
   },
   {
    "duration": 5,
    "start_time": "2021-09-06T16:09:30.134Z"
   },
   {
    "duration": 5,
    "start_time": "2021-09-06T16:09:30.141Z"
   },
   {
    "duration": 6,
    "start_time": "2021-09-06T16:09:30.147Z"
   },
   {
    "duration": 84,
    "start_time": "2021-09-06T16:09:30.155Z"
   },
   {
    "duration": 6,
    "start_time": "2021-09-06T16:09:30.241Z"
   },
   {
    "duration": 4718,
    "start_time": "2021-09-06T16:09:30.248Z"
   },
   {
    "duration": 258,
    "start_time": "2021-09-06T16:09:34.710Z"
   },
   {
    "duration": 253,
    "start_time": "2021-09-06T16:09:34.716Z"
   },
   {
    "duration": 955,
    "start_time": "2021-09-06T16:10:38.504Z"
   },
   {
    "duration": 162,
    "start_time": "2021-09-06T16:10:39.460Z"
   },
   {
    "duration": 19,
    "start_time": "2021-09-06T16:10:39.624Z"
   },
   {
    "duration": 41,
    "start_time": "2021-09-06T16:10:39.645Z"
   },
   {
    "duration": 140,
    "start_time": "2021-09-06T16:10:39.687Z"
   },
   {
    "duration": 16,
    "start_time": "2021-09-06T16:10:39.829Z"
   },
   {
    "duration": 23,
    "start_time": "2021-09-06T16:10:39.847Z"
   },
   {
    "duration": 91,
    "start_time": "2021-09-06T16:10:39.884Z"
   },
   {
    "duration": 13,
    "start_time": "2021-09-06T16:10:39.976Z"
   },
   {
    "duration": 33,
    "start_time": "2021-09-06T16:10:39.991Z"
   },
   {
    "duration": 31,
    "start_time": "2021-09-06T16:10:40.026Z"
   },
   {
    "duration": 12,
    "start_time": "2021-09-06T16:10:40.059Z"
   },
   {
    "duration": 186,
    "start_time": "2021-09-06T16:10:40.072Z"
   },
   {
    "duration": 73,
    "start_time": "2021-09-06T16:10:40.260Z"
   },
   {
    "duration": 13,
    "start_time": "2021-09-06T16:10:40.334Z"
   },
   {
    "duration": 73,
    "start_time": "2021-09-06T16:10:40.348Z"
   },
   {
    "duration": 132,
    "start_time": "2021-09-06T16:10:40.423Z"
   },
   {
    "duration": 2,
    "start_time": "2021-09-06T16:10:40.557Z"
   },
   {
    "duration": 6,
    "start_time": "2021-09-06T16:10:40.560Z"
   },
   {
    "duration": 218,
    "start_time": "2021-09-06T16:10:40.567Z"
   },
   {
    "duration": 44,
    "start_time": "2021-09-06T16:10:40.787Z"
   },
   {
    "duration": 7,
    "start_time": "2021-09-06T16:10:40.833Z"
   },
   {
    "duration": 65,
    "start_time": "2021-09-06T16:10:40.842Z"
   },
   {
    "duration": 741,
    "start_time": "2021-09-06T16:10:40.909Z"
   },
   {
    "duration": 56,
    "start_time": "2021-09-06T16:10:41.652Z"
   },
   {
    "duration": 724,
    "start_time": "2021-09-06T16:10:41.710Z"
   },
   {
    "duration": 5,
    "start_time": "2021-09-06T16:10:42.436Z"
   },
   {
    "duration": 14,
    "start_time": "2021-09-06T16:10:42.442Z"
   },
   {
    "duration": 4,
    "start_time": "2021-09-06T16:10:42.457Z"
   },
   {
    "duration": 6,
    "start_time": "2021-09-06T16:10:42.462Z"
   },
   {
    "duration": 4,
    "start_time": "2021-09-06T16:10:42.485Z"
   },
   {
    "duration": 75,
    "start_time": "2021-09-06T16:10:42.491Z"
   },
   {
    "duration": 17,
    "start_time": "2021-09-06T16:10:42.569Z"
   },
   {
    "duration": 7,
    "start_time": "2021-09-06T16:10:42.588Z"
   },
   {
    "duration": 11,
    "start_time": "2021-09-06T16:10:42.596Z"
   },
   {
    "duration": 3,
    "start_time": "2021-09-06T16:10:42.609Z"
   },
   {
    "duration": 693,
    "start_time": "2021-09-06T16:20:53.949Z"
   },
   {
    "duration": 8,
    "start_time": "2021-09-06T16:29:02.803Z"
   },
   {
    "duration": 181,
    "start_time": "2021-09-06T16:31:26.382Z"
   },
   {
    "duration": 160,
    "start_time": "2021-09-06T16:32:08.028Z"
   },
   {
    "duration": 175,
    "start_time": "2021-09-06T16:32:11.710Z"
   },
   {
    "duration": 164,
    "start_time": "2021-09-06T16:33:58.370Z"
   },
   {
    "duration": 184,
    "start_time": "2021-09-06T16:35:11.442Z"
   },
   {
    "duration": 414,
    "start_time": "2021-09-06T16:35:59.450Z"
   },
   {
    "duration": 64,
    "start_time": "2021-09-06T16:36:25.794Z"
   },
   {
    "duration": 334,
    "start_time": "2021-09-06T16:36:31.510Z"
   },
   {
    "duration": 403,
    "start_time": "2021-09-06T16:37:09.130Z"
   },
   {
    "duration": 323,
    "start_time": "2021-09-06T16:37:27.550Z"
   },
   {
    "duration": 331,
    "start_time": "2021-09-06T16:37:42.086Z"
   },
   {
    "duration": 328,
    "start_time": "2021-09-06T16:38:35.158Z"
   },
   {
    "duration": 971,
    "start_time": "2021-09-06T16:46:16.738Z"
   },
   {
    "duration": 162,
    "start_time": "2021-09-06T16:46:17.711Z"
   },
   {
    "duration": 22,
    "start_time": "2021-09-06T16:46:17.875Z"
   },
   {
    "duration": 27,
    "start_time": "2021-09-06T16:46:17.899Z"
   },
   {
    "duration": 160,
    "start_time": "2021-09-06T16:46:17.928Z"
   },
   {
    "duration": 17,
    "start_time": "2021-09-06T16:46:18.090Z"
   },
   {
    "duration": 23,
    "start_time": "2021-09-06T16:46:18.109Z"
   },
   {
    "duration": 105,
    "start_time": "2021-09-06T16:46:18.134Z"
   },
   {
    "duration": 15,
    "start_time": "2021-09-06T16:46:18.242Z"
   },
   {
    "duration": 33,
    "start_time": "2021-09-06T16:46:18.260Z"
   },
   {
    "duration": 39,
    "start_time": "2021-09-06T16:46:18.294Z"
   },
   {
    "duration": 7,
    "start_time": "2021-09-06T16:46:18.335Z"
   },
   {
    "duration": 188,
    "start_time": "2021-09-06T16:46:18.344Z"
   },
   {
    "duration": 78,
    "start_time": "2021-09-06T16:46:18.534Z"
   },
   {
    "duration": 13,
    "start_time": "2021-09-06T16:46:18.614Z"
   },
   {
    "duration": 76,
    "start_time": "2021-09-06T16:46:18.628Z"
   },
   {
    "duration": 137,
    "start_time": "2021-09-06T16:46:18.706Z"
   },
   {
    "duration": 2,
    "start_time": "2021-09-06T16:46:18.845Z"
   },
   {
    "duration": 5,
    "start_time": "2021-09-06T16:46:18.849Z"
   },
   {
    "duration": 236,
    "start_time": "2021-09-06T16:46:18.856Z"
   },
   {
    "duration": 43,
    "start_time": "2021-09-06T16:46:19.093Z"
   },
   {
    "duration": 6,
    "start_time": "2021-09-06T16:46:19.137Z"
   },
   {
    "duration": 60,
    "start_time": "2021-09-06T16:46:19.145Z"
   },
   {
    "duration": 694,
    "start_time": "2021-09-06T16:46:19.207Z"
   },
   {
    "duration": 45,
    "start_time": "2021-09-06T16:46:19.903Z"
   },
   {
    "duration": 723,
    "start_time": "2021-09-06T16:46:19.949Z"
   },
   {
    "duration": 10,
    "start_time": "2021-09-06T16:46:20.675Z"
   },
   {
    "duration": 24,
    "start_time": "2021-09-06T16:46:20.686Z"
   },
   {
    "duration": 13,
    "start_time": "2021-09-06T16:46:20.712Z"
   },
   {
    "duration": 18,
    "start_time": "2021-09-06T16:46:20.726Z"
   },
   {
    "duration": 23,
    "start_time": "2021-09-06T16:46:20.745Z"
   },
   {
    "duration": 28,
    "start_time": "2021-09-06T16:46:20.770Z"
   },
   {
    "duration": 9,
    "start_time": "2021-09-06T16:46:20.800Z"
   },
   {
    "duration": 27,
    "start_time": "2021-09-06T16:46:20.810Z"
   },
   {
    "duration": 84,
    "start_time": "2021-09-06T16:46:20.838Z"
   },
   {
    "duration": 10,
    "start_time": "2021-09-06T16:46:20.924Z"
   },
   {
    "duration": 333,
    "start_time": "2021-09-06T16:46:20.936Z"
   }
  ],
  "kernelspec": {
   "display_name": "Python 3 (ipykernel)",
   "language": "python",
   "name": "python3"
  },
  "language_info": {
   "codemirror_mode": {
    "name": "ipython",
    "version": 3
   },
   "file_extension": ".py",
   "mimetype": "text/x-python",
   "name": "python",
   "nbconvert_exporter": "python",
   "pygments_lexer": "ipython3",
   "version": "3.9.7"
  },
  "toc": {
   "base_numbering": 1,
   "nav_menu": {
    "height": "327px",
    "width": "646px"
   },
   "number_sections": true,
   "sideBar": true,
   "skip_h1_title": true,
   "title_cell": "Table of Contents",
   "title_sidebar": "Contents",
   "toc_cell": true,
   "toc_position": {},
   "toc_section_display": true,
   "toc_window_display": true
  }
 },
 "nbformat": 4,
 "nbformat_minor": 4
}
