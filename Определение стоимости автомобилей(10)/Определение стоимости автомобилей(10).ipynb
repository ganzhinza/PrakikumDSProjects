{
 "cells": [
  {
   "cell_type": "markdown",
   "metadata": {},
   "source": [
    "# Определение стоимости автомобилей"
   ]
  },
  {
   "cell_type": "markdown",
   "metadata": {},
   "source": [
    "Сервис по продаже автомобилей с пробегом «Не бит, не крашен» разрабатывает приложение для привлечения новых клиентов. В нём можно быстро узнать рыночную стоимость своего автомобиля. В вашем распоряжении исторические данные: технические характеристики, комплектации и цены автомобилей. Вам нужно построить модель для определения стоимости. \n",
    "\n",
    "Заказчику важны:\n",
    "\n",
    "- качество предсказания;\n",
    "- скорость предсказания;\n",
    "- время обучения."
   ]
  },
  {
   "cell_type": "markdown",
   "metadata": {},
   "source": [
    "## Подготовка данных"
   ]
  },
  {
   "cell_type": "code",
   "execution_count": 1,
   "metadata": {},
   "outputs": [],
   "source": [
    "import pandas as pd\n",
    "import numpy as np\n",
    "from sklearn.linear_model import LinearRegression\n",
    "from sklearn.ensemble import RandomForestRegressor\n",
    "from sklearn.preprocessing import StandardScaler\n",
    "from sklearn.model_selection import train_test_split\n",
    "from sklearn.metrics import mean_squared_error\n",
    "import lightgbm as lgbm\n",
    "from lightgbm import LGBMRegressor\n",
    "from sklearn.dummy import DummyRegressor\n",
    "from sklearn.preprocessing import OrdinalEncoder\n",
    "from sklearn.model_selection import cross_val_score\n",
    "from sklearn.metrics import make_scorer\n",
    "from sklearn.model_selection import GridSearchCV\n",
    "from sklearn.model_selection import ShuffleSplit\n",
    "import time"
   ]
  },
  {
   "cell_type": "code",
   "execution_count": 2,
   "metadata": {},
   "outputs": [],
   "source": [
    "np.random.seed(12345)"
   ]
  },
  {
   "cell_type": "markdown",
   "metadata": {},
   "source": [
    "### Загрузка данных и их первичный анализ"
   ]
  },
  {
   "cell_type": "code",
   "execution_count": 3,
   "metadata": {},
   "outputs": [
    {
     "data": {
      "text/html": [
       "<div>\n",
       "<style scoped>\n",
       "    .dataframe tbody tr th:only-of-type {\n",
       "        vertical-align: middle;\n",
       "    }\n",
       "\n",
       "    .dataframe tbody tr th {\n",
       "        vertical-align: top;\n",
       "    }\n",
       "\n",
       "    .dataframe thead th {\n",
       "        text-align: right;\n",
       "    }\n",
       "</style>\n",
       "<table border=\"1\" class=\"dataframe\">\n",
       "  <thead>\n",
       "    <tr style=\"text-align: right;\">\n",
       "      <th></th>\n",
       "      <th>DateCrawled</th>\n",
       "      <th>Price</th>\n",
       "      <th>VehicleType</th>\n",
       "      <th>RegistrationYear</th>\n",
       "      <th>Gearbox</th>\n",
       "      <th>Power</th>\n",
       "      <th>Model</th>\n",
       "      <th>Kilometer</th>\n",
       "      <th>RegistrationMonth</th>\n",
       "      <th>FuelType</th>\n",
       "      <th>Brand</th>\n",
       "      <th>NotRepaired</th>\n",
       "      <th>DateCreated</th>\n",
       "      <th>NumberOfPictures</th>\n",
       "      <th>PostalCode</th>\n",
       "      <th>LastSeen</th>\n",
       "    </tr>\n",
       "  </thead>\n",
       "  <tbody>\n",
       "    <tr>\n",
       "      <td>0</td>\n",
       "      <td>2016-03-24 11:52:17</td>\n",
       "      <td>480</td>\n",
       "      <td>NaN</td>\n",
       "      <td>1993</td>\n",
       "      <td>manual</td>\n",
       "      <td>0</td>\n",
       "      <td>golf</td>\n",
       "      <td>150000</td>\n",
       "      <td>0</td>\n",
       "      <td>petrol</td>\n",
       "      <td>volkswagen</td>\n",
       "      <td>NaN</td>\n",
       "      <td>2016-03-24 00:00:00</td>\n",
       "      <td>0</td>\n",
       "      <td>70435</td>\n",
       "      <td>2016-04-07 03:16:57</td>\n",
       "    </tr>\n",
       "    <tr>\n",
       "      <td>1</td>\n",
       "      <td>2016-03-24 10:58:45</td>\n",
       "      <td>18300</td>\n",
       "      <td>coupe</td>\n",
       "      <td>2011</td>\n",
       "      <td>manual</td>\n",
       "      <td>190</td>\n",
       "      <td>NaN</td>\n",
       "      <td>125000</td>\n",
       "      <td>5</td>\n",
       "      <td>gasoline</td>\n",
       "      <td>audi</td>\n",
       "      <td>yes</td>\n",
       "      <td>2016-03-24 00:00:00</td>\n",
       "      <td>0</td>\n",
       "      <td>66954</td>\n",
       "      <td>2016-04-07 01:46:50</td>\n",
       "    </tr>\n",
       "    <tr>\n",
       "      <td>2</td>\n",
       "      <td>2016-03-14 12:52:21</td>\n",
       "      <td>9800</td>\n",
       "      <td>suv</td>\n",
       "      <td>2004</td>\n",
       "      <td>auto</td>\n",
       "      <td>163</td>\n",
       "      <td>grand</td>\n",
       "      <td>125000</td>\n",
       "      <td>8</td>\n",
       "      <td>gasoline</td>\n",
       "      <td>jeep</td>\n",
       "      <td>NaN</td>\n",
       "      <td>2016-03-14 00:00:00</td>\n",
       "      <td>0</td>\n",
       "      <td>90480</td>\n",
       "      <td>2016-04-05 12:47:46</td>\n",
       "    </tr>\n",
       "    <tr>\n",
       "      <td>3</td>\n",
       "      <td>2016-03-17 16:54:04</td>\n",
       "      <td>1500</td>\n",
       "      <td>small</td>\n",
       "      <td>2001</td>\n",
       "      <td>manual</td>\n",
       "      <td>75</td>\n",
       "      <td>golf</td>\n",
       "      <td>150000</td>\n",
       "      <td>6</td>\n",
       "      <td>petrol</td>\n",
       "      <td>volkswagen</td>\n",
       "      <td>no</td>\n",
       "      <td>2016-03-17 00:00:00</td>\n",
       "      <td>0</td>\n",
       "      <td>91074</td>\n",
       "      <td>2016-03-17 17:40:17</td>\n",
       "    </tr>\n",
       "    <tr>\n",
       "      <td>4</td>\n",
       "      <td>2016-03-31 17:25:20</td>\n",
       "      <td>3600</td>\n",
       "      <td>small</td>\n",
       "      <td>2008</td>\n",
       "      <td>manual</td>\n",
       "      <td>69</td>\n",
       "      <td>fabia</td>\n",
       "      <td>90000</td>\n",
       "      <td>7</td>\n",
       "      <td>gasoline</td>\n",
       "      <td>skoda</td>\n",
       "      <td>no</td>\n",
       "      <td>2016-03-31 00:00:00</td>\n",
       "      <td>0</td>\n",
       "      <td>60437</td>\n",
       "      <td>2016-04-06 10:17:21</td>\n",
       "    </tr>\n",
       "  </tbody>\n",
       "</table>\n",
       "</div>"
      ],
      "text/plain": [
       "           DateCrawled  Price VehicleType  RegistrationYear Gearbox  Power  \\\n",
       "0  2016-03-24 11:52:17    480         NaN              1993  manual      0   \n",
       "1  2016-03-24 10:58:45  18300       coupe              2011  manual    190   \n",
       "2  2016-03-14 12:52:21   9800         suv              2004    auto    163   \n",
       "3  2016-03-17 16:54:04   1500       small              2001  manual     75   \n",
       "4  2016-03-31 17:25:20   3600       small              2008  manual     69   \n",
       "\n",
       "   Model  Kilometer  RegistrationMonth  FuelType       Brand NotRepaired  \\\n",
       "0   golf     150000                  0    petrol  volkswagen         NaN   \n",
       "1    NaN     125000                  5  gasoline        audi         yes   \n",
       "2  grand     125000                  8  gasoline        jeep         NaN   \n",
       "3   golf     150000                  6    petrol  volkswagen          no   \n",
       "4  fabia      90000                  7  gasoline       skoda          no   \n",
       "\n",
       "           DateCreated  NumberOfPictures  PostalCode             LastSeen  \n",
       "0  2016-03-24 00:00:00                 0       70435  2016-04-07 03:16:57  \n",
       "1  2016-03-24 00:00:00                 0       66954  2016-04-07 01:46:50  \n",
       "2  2016-03-14 00:00:00                 0       90480  2016-04-05 12:47:46  \n",
       "3  2016-03-17 00:00:00                 0       91074  2016-03-17 17:40:17  \n",
       "4  2016-03-31 00:00:00                 0       60437  2016-04-06 10:17:21  "
      ]
     },
     "execution_count": 3,
     "metadata": {},
     "output_type": "execute_result"
    }
   ],
   "source": [
    "data = pd.read_csv('/datasets/autos.csv')\n",
    "data.head()"
   ]
  },
  {
   "cell_type": "code",
   "execution_count": 4,
   "metadata": {},
   "outputs": [
    {
     "name": "stdout",
     "output_type": "stream",
     "text": [
      "<class 'pandas.core.frame.DataFrame'>\n",
      "RangeIndex: 354369 entries, 0 to 354368\n",
      "Data columns (total 16 columns):\n",
      "DateCrawled          354369 non-null object\n",
      "Price                354369 non-null int64\n",
      "VehicleType          316879 non-null object\n",
      "RegistrationYear     354369 non-null int64\n",
      "Gearbox              334536 non-null object\n",
      "Power                354369 non-null int64\n",
      "Model                334664 non-null object\n",
      "Kilometer            354369 non-null int64\n",
      "RegistrationMonth    354369 non-null int64\n",
      "FuelType             321474 non-null object\n",
      "Brand                354369 non-null object\n",
      "NotRepaired          283215 non-null object\n",
      "DateCreated          354369 non-null object\n",
      "NumberOfPictures     354369 non-null int64\n",
      "PostalCode           354369 non-null int64\n",
      "LastSeen             354369 non-null object\n",
      "dtypes: int64(7), object(9)\n",
      "memory usage: 43.3+ MB\n"
     ]
    }
   ],
   "source": [
    "data.info()"
   ]
  },
  {
   "cell_type": "code",
   "execution_count": 5,
   "metadata": {},
   "outputs": [
    {
     "data": {
      "text/html": [
       "<div>\n",
       "<style scoped>\n",
       "    .dataframe tbody tr th:only-of-type {\n",
       "        vertical-align: middle;\n",
       "    }\n",
       "\n",
       "    .dataframe tbody tr th {\n",
       "        vertical-align: top;\n",
       "    }\n",
       "\n",
       "    .dataframe thead th {\n",
       "        text-align: right;\n",
       "    }\n",
       "</style>\n",
       "<table border=\"1\" class=\"dataframe\">\n",
       "  <thead>\n",
       "    <tr style=\"text-align: right;\">\n",
       "      <th></th>\n",
       "      <th>Price</th>\n",
       "      <th>RegistrationYear</th>\n",
       "      <th>Power</th>\n",
       "      <th>Kilometer</th>\n",
       "      <th>RegistrationMonth</th>\n",
       "      <th>NumberOfPictures</th>\n",
       "      <th>PostalCode</th>\n",
       "    </tr>\n",
       "  </thead>\n",
       "  <tbody>\n",
       "    <tr>\n",
       "      <td>count</td>\n",
       "      <td>354369.000000</td>\n",
       "      <td>354369.000000</td>\n",
       "      <td>354369.000000</td>\n",
       "      <td>354369.000000</td>\n",
       "      <td>354369.000000</td>\n",
       "      <td>354369.0</td>\n",
       "      <td>354369.000000</td>\n",
       "    </tr>\n",
       "    <tr>\n",
       "      <td>mean</td>\n",
       "      <td>4416.656776</td>\n",
       "      <td>2004.234448</td>\n",
       "      <td>110.094337</td>\n",
       "      <td>128211.172535</td>\n",
       "      <td>5.714645</td>\n",
       "      <td>0.0</td>\n",
       "      <td>50508.689087</td>\n",
       "    </tr>\n",
       "    <tr>\n",
       "      <td>std</td>\n",
       "      <td>4514.158514</td>\n",
       "      <td>90.227958</td>\n",
       "      <td>189.850405</td>\n",
       "      <td>37905.341530</td>\n",
       "      <td>3.726421</td>\n",
       "      <td>0.0</td>\n",
       "      <td>25783.096248</td>\n",
       "    </tr>\n",
       "    <tr>\n",
       "      <td>min</td>\n",
       "      <td>0.000000</td>\n",
       "      <td>1000.000000</td>\n",
       "      <td>0.000000</td>\n",
       "      <td>5000.000000</td>\n",
       "      <td>0.000000</td>\n",
       "      <td>0.0</td>\n",
       "      <td>1067.000000</td>\n",
       "    </tr>\n",
       "    <tr>\n",
       "      <td>25%</td>\n",
       "      <td>1050.000000</td>\n",
       "      <td>1999.000000</td>\n",
       "      <td>69.000000</td>\n",
       "      <td>125000.000000</td>\n",
       "      <td>3.000000</td>\n",
       "      <td>0.0</td>\n",
       "      <td>30165.000000</td>\n",
       "    </tr>\n",
       "    <tr>\n",
       "      <td>50%</td>\n",
       "      <td>2700.000000</td>\n",
       "      <td>2003.000000</td>\n",
       "      <td>105.000000</td>\n",
       "      <td>150000.000000</td>\n",
       "      <td>6.000000</td>\n",
       "      <td>0.0</td>\n",
       "      <td>49413.000000</td>\n",
       "    </tr>\n",
       "    <tr>\n",
       "      <td>75%</td>\n",
       "      <td>6400.000000</td>\n",
       "      <td>2008.000000</td>\n",
       "      <td>143.000000</td>\n",
       "      <td>150000.000000</td>\n",
       "      <td>9.000000</td>\n",
       "      <td>0.0</td>\n",
       "      <td>71083.000000</td>\n",
       "    </tr>\n",
       "    <tr>\n",
       "      <td>max</td>\n",
       "      <td>20000.000000</td>\n",
       "      <td>9999.000000</td>\n",
       "      <td>20000.000000</td>\n",
       "      <td>150000.000000</td>\n",
       "      <td>12.000000</td>\n",
       "      <td>0.0</td>\n",
       "      <td>99998.000000</td>\n",
       "    </tr>\n",
       "  </tbody>\n",
       "</table>\n",
       "</div>"
      ],
      "text/plain": [
       "               Price  RegistrationYear          Power      Kilometer  \\\n",
       "count  354369.000000     354369.000000  354369.000000  354369.000000   \n",
       "mean     4416.656776       2004.234448     110.094337  128211.172535   \n",
       "std      4514.158514         90.227958     189.850405   37905.341530   \n",
       "min         0.000000       1000.000000       0.000000    5000.000000   \n",
       "25%      1050.000000       1999.000000      69.000000  125000.000000   \n",
       "50%      2700.000000       2003.000000     105.000000  150000.000000   \n",
       "75%      6400.000000       2008.000000     143.000000  150000.000000   \n",
       "max     20000.000000       9999.000000   20000.000000  150000.000000   \n",
       "\n",
       "       RegistrationMonth  NumberOfPictures     PostalCode  \n",
       "count      354369.000000          354369.0  354369.000000  \n",
       "mean            5.714645               0.0   50508.689087  \n",
       "std             3.726421               0.0   25783.096248  \n",
       "min             0.000000               0.0    1067.000000  \n",
       "25%             3.000000               0.0   30165.000000  \n",
       "50%             6.000000               0.0   49413.000000  \n",
       "75%             9.000000               0.0   71083.000000  \n",
       "max            12.000000               0.0   99998.000000  "
      ]
     },
     "execution_count": 5,
     "metadata": {},
     "output_type": "execute_result"
    }
   ],
   "source": [
    "data.describe()"
   ]
  },
  {
   "cell_type": "markdown",
   "metadata": {},
   "source": [
    "***Вывод***"
   ]
  },
  {
   "cell_type": "markdown",
   "metadata": {},
   "source": [
    "Посмотрев на данные уже можно делать выводы об их качестве. Столбцы \"DateCrawled\", \"DateCreated\" и \"LastSeen\" нужно перевести в тип DateTime. В столбцах \"VehicleType\", \"FuelType\", \"GearBox\" \"NotRepaired\", \"Model\" есть заметное количество пропусков, с которыми нужно будет как-то обойтись. Также видны аномалии в столбцах \"RegistrationYear\", \"Power\"(Слишком большие и слишком маленькие значения), \"RegistrationMonth\"(нулевого месяца не бывает)."
   ]
  },
  {
   "cell_type": "markdown",
   "metadata": {},
   "source": [
    "### Удаление неиформативных строк"
   ]
  },
  {
   "cell_type": "code",
   "execution_count": 6,
   "metadata": {},
   "outputs": [
    {
     "name": "stdout",
     "output_type": "stream",
     "text": [
      "<class 'pandas.core.frame.DataFrame'>\n",
      "Int64Index: 352132 entries, 0 to 354368\n",
      "Data columns (total 16 columns):\n",
      "DateCrawled          352132 non-null object\n",
      "Price                352132 non-null int64\n",
      "VehicleType          316879 non-null object\n",
      "RegistrationYear     352132 non-null int64\n",
      "Gearbox              334536 non-null object\n",
      "Power                352132 non-null int64\n",
      "Model                334664 non-null object\n",
      "Kilometer            352132 non-null int64\n",
      "RegistrationMonth    352132 non-null int64\n",
      "FuelType             321474 non-null object\n",
      "Brand                352132 non-null object\n",
      "NotRepaired          283215 non-null object\n",
      "DateCreated          352132 non-null object\n",
      "NumberOfPictures     352132 non-null int64\n",
      "PostalCode           352132 non-null int64\n",
      "LastSeen             352132 non-null object\n",
      "dtypes: int64(7), object(9)\n",
      "memory usage: 45.7+ MB\n"
     ]
    }
   ],
   "source": [
    "data = data.query(\"VehicleType == VehicleType | Gearbox == Gearbox | Model == Model | FuelType == FuelType | NotRepaired == NotRepaired\")\n",
    "data.info()"
   ]
  },
  {
   "cell_type": "markdown",
   "metadata": {},
   "source": [
    "Строчки, в которых 5 пропусков выглядят очень подозрительно, поэтому мы их удалим. Избавились от 0.5% мусора:)"
   ]
  },
  {
   "cell_type": "markdown",
   "metadata": {},
   "source": [
    "### Работа с аномалиями"
   ]
  },
  {
   "cell_type": "markdown",
   "metadata": {},
   "source": [
    "Все значения выглядят нормально, за исключением столбцов \"RegistrationYear\", \"Power\", \"RegistrationMonth\""
   ]
  },
  {
   "cell_type": "code",
   "execution_count": 7,
   "metadata": {},
   "outputs": [
    {
     "data": {
      "image/png": "[encoded data removed]",
      "text/plain": [
       "<Figure size 432x288 with 1 Axes>"
      ]
     },
     "metadata": {
      "needs_background": "light"
     },
     "output_type": "display_data"
    }
   ],
   "source": [
    "data = data.query(\"RegistrationYear < 2021 and RegistrationYear > 1900\")\n",
    "data[['RegistrationYear']].boxplot()\n",
    "data = data.query(\"RegistrationYear > 1985\")"
   ]
  },
  {
   "cell_type": "code",
   "execution_count": 8,
   "metadata": {},
   "outputs": [
    {
     "data": {
      "text/plain": [
       "<matplotlib.axes._subplots.AxesSubplot at 0x7f737086e490>"
      ]
     },
     "execution_count": 8,
     "metadata": {},
     "output_type": "execute_result"
    },
    {
     "data": {
      "image/png": "[encoded data removed]",
      "text/plain": [
       "<Figure size 432x288 with 1 Axes>"
      ]
     },
     "metadata": {
      "needs_background": "light"
     },
     "output_type": "display_data"
    }
   ],
   "source": [
    "data[['RegistrationYear']].boxplot()"
   ]
  },
  {
   "cell_type": "markdown",
   "metadata": {},
   "source": [
    "2021 выставили, так как машина не может быть зарегестрированна в будующем, а 1985 - по графику ящик с усами."
   ]
  },
  {
   "cell_type": "code",
   "execution_count": 9,
   "metadata": {},
   "outputs": [
    {
     "name": "stdout",
     "output_type": "stream",
     "text": [
      "<class 'pandas.core.frame.DataFrame'>\n",
      "Int64Index: 345805 entries, 0 to 354368\n",
      "Data columns (total 16 columns):\n",
      "DateCrawled          345805 non-null object\n",
      "Price                345805 non-null int64\n",
      "VehicleType          311459 non-null object\n",
      "RegistrationYear     345805 non-null int64\n",
      "Gearbox              329322 non-null object\n",
      "Power                345805 non-null int64\n",
      "Model                329445 non-null object\n",
      "Kilometer            345805 non-null int64\n",
      "RegistrationMonth    345805 non-null int64\n",
      "FuelType             316352 non-null object\n",
      "Brand                345805 non-null object\n",
      "NotRepaired          278984 non-null object\n",
      "DateCreated          345805 non-null object\n",
      "NumberOfPictures     345805 non-null int64\n",
      "PostalCode           345805 non-null int64\n",
      "LastSeen             345805 non-null object\n",
      "dtypes: int64(7), object(9)\n",
      "memory usage: 44.9+ MB\n"
     ]
    },
    {
     "data": {
      "image/png": "[encoded data removed]",
      "text/plain": [
       "<Figure size 432x288 with 1 Axes>"
      ]
     },
     "metadata": {
      "needs_background": "light"
     },
     "output_type": "display_data"
    }
   ],
   "source": [
    "data = data.query(\"Power < 900\")\n",
    "data[['Power']].boxplot()\n",
    "data.info()"
   ]
  },
  {
   "cell_type": "markdown",
   "metadata": {},
   "source": [
    "Тут мы воспользуемся не ящиком с усами, а гуглом. Учитывая максимальную стоимость машин в нашей выборке мощность скорее всего не превышает 900 лошадиных сил, так как машины с большим количеством лошадиных сил имеют цену в 1000 000 $ и более, что скорее всего не продаётся за 200 000 евро.\n",
    "\n",
    "Ссылка на топ самых мощных машин(Да он от 2018 года, но с boxplot мы уберём машины с мощностью выше, чем примерно 250, что явно не соответствует истине л.с.): https://zen.yandex.ru/media/auto_now/10-avto-s-samym-bolshim-kolvom-loshadinyh-sil-5b7c3fe9c88f9700a9bb620"
   ]
  },
  {
   "cell_type": "code",
   "execution_count": 10,
   "metadata": {},
   "outputs": [
    {
     "data": {
      "text/plain": [
       "0     34067\n",
       "3     33754\n",
       "6     30958\n",
       "4     28770\n",
       "5     28657\n",
       "7     26498\n",
       "10    25821\n",
       "12    24044\n",
       "11    23949\n",
       "9     23480\n",
       "1     22572\n",
       "8     22339\n",
       "2     20896\n",
       "Name: RegistrationMonth, dtype: int64"
      ]
     },
     "execution_count": 10,
     "metadata": {},
     "output_type": "execute_result"
    }
   ],
   "source": [
    "data[\"RegistrationMonth\"].value_counts()"
   ]
  },
  {
   "cell_type": "markdown",
   "metadata": {},
   "source": [
    "### Работа с пропусками"
   ]
  },
  {
   "cell_type": "markdown",
   "metadata": {},
   "source": [
    "#### NotRepaired"
   ]
  },
  {
   "cell_type": "code",
   "execution_count": 11,
   "metadata": {},
   "outputs": [
    {
     "data": {
      "text/plain": [
       "no     243549\n",
       "yes     35435\n",
       "Name: NotRepaired, dtype: int64"
      ]
     },
     "execution_count": 11,
     "metadata": {},
     "output_type": "execute_result"
    }
   ],
   "source": [
    "data['NotRepaired'].value_counts()"
   ]
  },
  {
   "cell_type": "markdown",
   "metadata": {},
   "source": [
    "Заполним пропуски значением \"no\", так как это явных плюс при продаже и скорее люди пропустят это поле, если ответ может отпугнуть покупателя, чем если ответ его привлечёт. Также обычно б/у машины хоть как-то, да ремонтировались."
   ]
  },
  {
   "cell_type": "code",
   "execution_count": 12,
   "metadata": {},
   "outputs": [
    {
     "data": {
      "text/plain": [
       "no     310370\n",
       "yes     35435\n",
       "Name: NotRepaired, dtype: int64"
      ]
     },
     "execution_count": 12,
     "metadata": {},
     "output_type": "execute_result"
    }
   ],
   "source": [
    "data['NotRepaired'] = data['NotRepaired'].fillna('no') \n",
    "data['NotRepaired'].value_counts()"
   ]
  },
  {
   "cell_type": "markdown",
   "metadata": {},
   "source": [
    "#### VehicleType"
   ]
  },
  {
   "cell_type": "code",
   "execution_count": 13,
   "metadata": {},
   "outputs": [
    {
     "data": {
      "text/plain": [
       "sedan          89473\n",
       "small          79252\n",
       "wagon          64868\n",
       "bus            28487\n",
       "convertible    19499\n",
       "coupe          15181\n",
       "suv            11677\n",
       "other           3022\n",
       "Name: VehicleType, dtype: int64"
      ]
     },
     "execution_count": 13,
     "metadata": {},
     "output_type": "execute_result"
    }
   ],
   "source": [
    "data.VehicleType.value_counts()"
   ]
  },
  {
   "cell_type": "markdown",
   "metadata": {},
   "source": [
    "Как мы видим у нас есть значение other, которое очень подходит для целей заполнения пропусков. По сути это и есть не указанный тип кузова. Так и заполним пропуски."
   ]
  },
  {
   "cell_type": "code",
   "execution_count": 14,
   "metadata": {},
   "outputs": [
    {
     "data": {
      "text/plain": [
       "array(['other', 'coupe', 'suv', 'small', 'sedan', 'convertible', 'bus',\n",
       "       'wagon'], dtype=object)"
      ]
     },
     "execution_count": 14,
     "metadata": {},
     "output_type": "execute_result"
    }
   ],
   "source": [
    "data['VehicleType'] = data[\"VehicleType\"].fillna(\"other\")\n",
    "data[\"VehicleType\"].unique()"
   ]
  },
  {
   "cell_type": "markdown",
   "metadata": {},
   "source": [
    "#### GearBox"
   ]
  },
  {
   "cell_type": "code",
   "execution_count": 15,
   "metadata": {},
   "outputs": [
    {
     "data": {
      "text/plain": [
       "Gearbox\n",
       "auto      6821.951149\n",
       "manual    3956.042897\n",
       "Name: Price, dtype: float64"
      ]
     },
     "execution_count": 15,
     "metadata": {},
     "output_type": "execute_result"
    }
   ],
   "source": [
    "data.groupby(by = \"Gearbox\")['Price'].mean()"
   ]
  },
  {
   "cell_type": "code",
   "execution_count": 16,
   "metadata": {},
   "outputs": [],
   "source": [
    "data.loc[data[\"Price\"] < (3956 + 6821) / 2, \"Gearbox\"] = data.loc[data[\"Price\"] < (3956 + 6821) / 2, \"Gearbox\"].fillna(\"manual\")\n",
    "data.loc[data[\"Price\"] > (3956 + 6821) / 2, \"Gearbox\"] = data.loc[data[\"Price\"] > (3956 + 6821) / 2, \"Gearbox\"].fillna(\"auto\")"
   ]
  },
  {
   "cell_type": "code",
   "execution_count": 17,
   "metadata": {},
   "outputs": [
    {
     "data": {
      "text/plain": [
       "Gearbox\n",
       "auto      6884.567428\n",
       "manual    3822.470871\n",
       "Name: Price, dtype: float64"
      ]
     },
     "execution_count": 17,
     "metadata": {},
     "output_type": "execute_result"
    }
   ],
   "source": [
    "data.groupby(by = \"Gearbox\")['Price'].mean()"
   ]
  },
  {
   "cell_type": "markdown",
   "metadata": {},
   "source": [
    "Заполнили пропуски в зависимости от цены. Обычно машина с автоматической коробкой передач дороже, чем с механикой. После проверили изменение средних цен. Оно изменилось не сильно. Поэтому будем считать, что заполнили пропуски болле менее нормально."
   ]
  },
  {
   "cell_type": "markdown",
   "metadata": {},
   "source": [
    "#### Model"
   ]
  },
  {
   "cell_type": "code",
   "execution_count": 18,
   "metadata": {},
   "outputs": [
    {
     "data": {
      "text/plain": [
       "array(['golf', nan, 'grand', 'fabia', '3er', '2_reihe', 'c_max',\n",
       "       '3_reihe', 'passat', 'navara', 'polo', 'twingo', 'a_klasse',\n",
       "       'scirocco', '5er', 'meriva', 'arosa', 'other', 'c4', 'civic',\n",
       "       'punto', 'e_klasse', 'clio', 'kadett', 'kangoo', 'corsa', 'one',\n",
       "       'fortwo', '1er', 'b_klasse', 'signum', 'astra', 'a8', 'jetta',\n",
       "       'fiesta', 'c_klasse', 'micra', 'vito', 'sprinter', '156', 'escort',\n",
       "       'forester', 'xc_reihe', 'scenic', 'a4', 'ka', 'a1', 'insignia',\n",
       "       'transporter', 'combo', 'focus', 'tt', 'a6', 'jazz', 'omega',\n",
       "       'slk', '7er', '80', '147', 'z_reihe', 'sportage', 'sorento', 'v40',\n",
       "       'ibiza', 'mustang', 'eos', 'touran', 'getz', 'a3', 'almera',\n",
       "       'megane', 'lupo', 'r19', 'zafira', 'mondeo', 'cordoba', 'colt',\n",
       "       'impreza', 'vectra', 'berlingo', 'tiguan', 'i_reihe', 'espace',\n",
       "       'sharan', '6_reihe', 'panda', 'up', 'seicento', 'ceed', '5_reihe',\n",
       "       'yeti', 'octavia', 'mii', 'rx_reihe', 'modus', 'fox', 'matiz',\n",
       "       'beetle', 'c1', 'rio', 'touareg', 'logan', 'caddy', 'spider',\n",
       "       'cuore', 's_max', 'a2', 'galaxy', 'c3', 'viano', 's_klasse',\n",
       "       '1_reihe', 'avensis', 'roomster', 'santa', 'cooper', 'leon',\n",
       "       '4_reihe', 'a5', '500', 'laguna', 'ptcruiser', 'clk', 'primera',\n",
       "       'x_reihe', 'exeo', '159', 'transit', 'juke', 'qashqai', 'carisma',\n",
       "       'accord', 'corolla', 'lanos', 'phaeton', 'verso', 'swift', 'rav',\n",
       "       'picanto', 'boxster', 'kalos', 'superb', 'stilo', 'alhambra',\n",
       "       'mx_reihe', 'roadster', 'ypsilon', 'cayenne', 'galant', 'justy',\n",
       "       '90', 'sirion', 'crossfire', 'agila', 'duster', 'cr_reihe', 'v50',\n",
       "       'c_reihe', 'v_klasse', 'm_klasse', 'yaris', 'c5', 'aygo', 'cc',\n",
       "       'carnival', 'fusion', '911', 'bora', 'forfour', 'm_reihe', '100',\n",
       "       'cl', 'tigra', '300c', 'spark', 'v70', 'kuga', 'x_type', 'ducato',\n",
       "       's_type', 'x_trail', 'toledo', 'altea', 'voyager', 'calibra',\n",
       "       'bravo', 'antara', 'tucson', 'citigo', 'jimny', 'wrangler',\n",
       "       'lybra', 'q7', 'lancer', 'captiva', 'sl', 'c2', 'discovery',\n",
       "       'freelander', 'sandero', 'note', '900', 'cherokee', 'clubman',\n",
       "       'samara', 'defender', '601', 'cx_reihe', 'legacy', 'pajero',\n",
       "       'auris', 'niva', 's60', 'nubira', 'vivaro', 'g_klasse', 'lodgy',\n",
       "       '850', 'range_rover', 'q3', 'glk', 'charade', 'croma', 'outlander',\n",
       "       'kaefer', 'doblo', 'musa', 'move', '9000', 'v60', '145', '6er',\n",
       "       'aveo', 'b_max', '200', 'range_rover_sport', 'terios',\n",
       "       'rangerover', 'q5', 'range_rover_evoque', 'materia', 'delta', 'gl',\n",
       "       'kalina', 'amarok', 'elefantino', 'i3', 'serie_2', 'kappa'],\n",
       "      dtype=object)"
      ]
     },
     "execution_count": 18,
     "metadata": {},
     "output_type": "execute_result"
    }
   ],
   "source": [
    "data[\"Model\"].unique()"
   ]
  },
  {
   "cell_type": "markdown",
   "metadata": {},
   "source": [
    "Заполнять модель гиблое дело, так как их слишком много и разгадать куда что поставить - ещё один проект. Поэтому остаётся только удалить или поставить заглушку, как в случае с other. У нас довольно большая выборка и тут пропусков 5%, поэтому всё-таки удалим."
   ]
  },
  {
   "cell_type": "code",
   "execution_count": 19,
   "metadata": {},
   "outputs": [],
   "source": [
    "data = data.loc[~data[\"Model\"].isna()]"
   ]
  },
  {
   "cell_type": "markdown",
   "metadata": {},
   "source": [
    "#### FuelType"
   ]
  },
  {
   "cell_type": "code",
   "execution_count": 20,
   "metadata": {},
   "outputs": [
    {
     "data": {
      "text/plain": [
       "petrol      203459\n",
       "gasoline     95393\n",
       "lpg           4920\n",
       "cng            539\n",
       "hybrid         207\n",
       "other          106\n",
       "electric        65\n",
       "Name: FuelType, dtype: int64"
      ]
     },
     "execution_count": 20,
     "metadata": {},
     "output_type": "execute_result"
    }
   ],
   "source": [
    "data[\"FuelType\"].value_counts()"
   ]
  },
  {
   "cell_type": "markdown",
   "metadata": {},
   "source": [
    "Тут у нас всё-таки 25 тысяч пропусков, что слабо стыкуется со значением 'other'. Всё-таки 7% машин, которые не ездят ни на  бензине, ни на газе, ни на элестричестве это странно, скорее всего это также машины на бензине, так как машин на газу и лектричестве до сих пор мало, а раньше было ещё меньше, поскольку у нас машины б/у, то скорее всего они на бензине. Также заметим, что у нас есть значения petrol и gasoline, что является по сути бензином, только - в Англии, а второе в Америке. Поэтому их нужно объеденить."
   ]
  },
  {
   "cell_type": "code",
   "execution_count": 21,
   "metadata": {},
   "outputs": [],
   "source": [
    "data.loc[data[\"FuelType\"] == 'gasoline', \"FuelType\"] = 'petrol'\n",
    "data[\"FuelType\"] = data[\"FuelType\"].fillna('petrol')"
   ]
  },
  {
   "cell_type": "code",
   "execution_count": 22,
   "metadata": {},
   "outputs": [
    {
     "data": {
      "text/plain": [
       "petrol      323608\n",
       "lpg           4920\n",
       "cng            539\n",
       "hybrid         207\n",
       "other          106\n",
       "electric        65\n",
       "Name: FuelType, dtype: int64"
      ]
     },
     "execution_count": 22,
     "metadata": {},
     "output_type": "execute_result"
    }
   ],
   "source": [
    "data[\"FuelType\"].value_counts()"
   ]
  },
  {
   "cell_type": "code",
   "execution_count": 23,
   "metadata": {
    "scrolled": true
   },
   "outputs": [
    {
     "name": "stdout",
     "output_type": "stream",
     "text": [
      "<class 'pandas.core.frame.DataFrame'>\n",
      "Int64Index: 329445 entries, 0 to 354368\n",
      "Data columns (total 16 columns):\n",
      "DateCrawled          329445 non-null object\n",
      "Price                329445 non-null int64\n",
      "VehicleType          329445 non-null object\n",
      "RegistrationYear     329445 non-null int64\n",
      "Gearbox              329445 non-null object\n",
      "Power                329445 non-null int64\n",
      "Model                329445 non-null object\n",
      "Kilometer            329445 non-null int64\n",
      "RegistrationMonth    329445 non-null int64\n",
      "FuelType             329445 non-null object\n",
      "Brand                329445 non-null object\n",
      "NotRepaired          329445 non-null object\n",
      "DateCreated          329445 non-null object\n",
      "NumberOfPictures     329445 non-null int64\n",
      "PostalCode           329445 non-null int64\n",
      "LastSeen             329445 non-null object\n",
      "dtypes: int64(7), object(9)\n",
      "memory usage: 42.7+ MB\n"
     ]
    }
   ],
   "source": [
    "data.info()"
   ]
  },
  {
   "cell_type": "markdown",
   "metadata": {},
   "source": [
    "***Вывод***"
   ]
  },
  {
   "cell_type": "markdown",
   "metadata": {},
   "source": [
    "Мы заполнили большинство пропусков в данных, однако некоторые строки всё-таки пришлось удалить(где столбец \"Model\" == NaN), на этапе заполнения мы потеряли меньше 5% выборки, что говорит нам о том, что выборка всё-ещё репрезентативна. Также мы везде как-то логически обосновывали свои вставки, что позволяет нам надется, что данные не сильно изменились."
   ]
  },
  {
   "cell_type": "markdown",
   "metadata": {},
   "source": [
    "### Проверка корреляций"
   ]
  },
  {
   "cell_type": "code",
   "execution_count": 24,
   "metadata": {},
   "outputs": [
    {
     "data": {
      "image/png": "[encoded data removed]",
      "text/plain": [
       "<Figure size 864x864 with 36 Axes>"
      ]
     },
     "metadata": {
      "needs_background": "light"
     },
     "output_type": "display_data"
    }
   ],
   "source": [
    "pd.plotting.scatter_matrix(data[['Price', 'RegistrationYear', 'Power', 'Kilometer', 'RegistrationMonth', 'PostalCode']], figsize = (12,12))\n",
    "pass"
   ]
  },
  {
   "cell_type": "code",
   "execution_count": 25,
   "metadata": {
    "scrolled": true
   },
   "outputs": [
    {
     "data": {
      "text/html": [
       "<div>\n",
       "<style scoped>\n",
       "    .dataframe tbody tr th:only-of-type {\n",
       "        vertical-align: middle;\n",
       "    }\n",
       "\n",
       "    .dataframe tbody tr th {\n",
       "        vertical-align: top;\n",
       "    }\n",
       "\n",
       "    .dataframe thead th {\n",
       "        text-align: right;\n",
       "    }\n",
       "</style>\n",
       "<table border=\"1\" class=\"dataframe\">\n",
       "  <thead>\n",
       "    <tr style=\"text-align: right;\">\n",
       "      <th></th>\n",
       "      <th>Price</th>\n",
       "      <th>RegistrationYear</th>\n",
       "      <th>Power</th>\n",
       "      <th>Kilometer</th>\n",
       "      <th>RegistrationMonth</th>\n",
       "      <th>NumberOfPictures</th>\n",
       "      <th>PostalCode</th>\n",
       "    </tr>\n",
       "  </thead>\n",
       "  <tbody>\n",
       "    <tr>\n",
       "      <td>Price</td>\n",
       "      <td>1.000000</td>\n",
       "      <td>0.488320</td>\n",
       "      <td>0.491278</td>\n",
       "      <td>-0.361701</td>\n",
       "      <td>0.098792</td>\n",
       "      <td>NaN</td>\n",
       "      <td>0.073921</td>\n",
       "    </tr>\n",
       "    <tr>\n",
       "      <td>RegistrationYear</td>\n",
       "      <td>0.488320</td>\n",
       "      <td>1.000000</td>\n",
       "      <td>0.089262</td>\n",
       "      <td>-0.309844</td>\n",
       "      <td>0.022261</td>\n",
       "      <td>NaN</td>\n",
       "      <td>0.024518</td>\n",
       "    </tr>\n",
       "    <tr>\n",
       "      <td>Power</td>\n",
       "      <td>0.491278</td>\n",
       "      <td>0.089262</td>\n",
       "      <td>1.000000</td>\n",
       "      <td>0.062012</td>\n",
       "      <td>0.107811</td>\n",
       "      <td>NaN</td>\n",
       "      <td>0.073025</td>\n",
       "    </tr>\n",
       "    <tr>\n",
       "      <td>Kilometer</td>\n",
       "      <td>-0.361701</td>\n",
       "      <td>-0.309844</td>\n",
       "      <td>0.062012</td>\n",
       "      <td>1.000000</td>\n",
       "      <td>-0.008227</td>\n",
       "      <td>NaN</td>\n",
       "      <td>-0.011972</td>\n",
       "    </tr>\n",
       "    <tr>\n",
       "      <td>RegistrationMonth</td>\n",
       "      <td>0.098792</td>\n",
       "      <td>0.022261</td>\n",
       "      <td>0.107811</td>\n",
       "      <td>-0.008227</td>\n",
       "      <td>1.000000</td>\n",
       "      <td>NaN</td>\n",
       "      <td>0.010849</td>\n",
       "    </tr>\n",
       "    <tr>\n",
       "      <td>NumberOfPictures</td>\n",
       "      <td>NaN</td>\n",
       "      <td>NaN</td>\n",
       "      <td>NaN</td>\n",
       "      <td>NaN</td>\n",
       "      <td>NaN</td>\n",
       "      <td>NaN</td>\n",
       "      <td>NaN</td>\n",
       "    </tr>\n",
       "    <tr>\n",
       "      <td>PostalCode</td>\n",
       "      <td>0.073921</td>\n",
       "      <td>0.024518</td>\n",
       "      <td>0.073025</td>\n",
       "      <td>-0.011972</td>\n",
       "      <td>0.010849</td>\n",
       "      <td>NaN</td>\n",
       "      <td>1.000000</td>\n",
       "    </tr>\n",
       "  </tbody>\n",
       "</table>\n",
       "</div>"
      ],
      "text/plain": [
       "                      Price  RegistrationYear     Power  Kilometer  \\\n",
       "Price              1.000000          0.488320  0.491278  -0.361701   \n",
       "RegistrationYear   0.488320          1.000000  0.089262  -0.309844   \n",
       "Power              0.491278          0.089262  1.000000   0.062012   \n",
       "Kilometer         -0.361701         -0.309844  0.062012   1.000000   \n",
       "RegistrationMonth  0.098792          0.022261  0.107811  -0.008227   \n",
       "NumberOfPictures        NaN               NaN       NaN        NaN   \n",
       "PostalCode         0.073921          0.024518  0.073025  -0.011972   \n",
       "\n",
       "                   RegistrationMonth  NumberOfPictures  PostalCode  \n",
       "Price                       0.098792               NaN    0.073921  \n",
       "RegistrationYear            0.022261               NaN    0.024518  \n",
       "Power                       0.107811               NaN    0.073025  \n",
       "Kilometer                  -0.008227               NaN   -0.011972  \n",
       "RegistrationMonth           1.000000               NaN    0.010849  \n",
       "NumberOfPictures                 NaN               NaN         NaN  \n",
       "PostalCode                  0.010849               NaN    1.000000  "
      ]
     },
     "execution_count": 25,
     "metadata": {},
     "output_type": "execute_result"
    }
   ],
   "source": [
    "data.corr()"
   ]
  },
  {
   "cell_type": "markdown",
   "metadata": {},
   "source": [
    "***Вывод***"
   ]
  },
  {
   "cell_type": "markdown",
   "metadata": {},
   "source": [
    "Есть заметные корреляции между некоторыми признаками, однако недостаточные, чтобы отказаться от любого признака. Хотя корреляции с количеством фото выглядят подозрительно. Посмотрим на этот столбец поближе."
   ]
  },
  {
   "cell_type": "code",
   "execution_count": 26,
   "metadata": {},
   "outputs": [
    {
     "data": {
      "text/plain": [
       "array([0])"
      ]
     },
     "execution_count": 26,
     "metadata": {},
     "output_type": "execute_result"
    }
   ],
   "source": [
    "data['NumberOfPictures'].unique()"
   ]
  },
  {
   "cell_type": "markdown",
   "metadata": {},
   "source": [
    "Как мы видим это константный стобец, что говорит нам о его бесполезности. Удалим его."
   ]
  },
  {
   "cell_type": "code",
   "execution_count": 27,
   "metadata": {
    "scrolled": true
   },
   "outputs": [
    {
     "data": {
      "text/html": [
       "<div>\n",
       "<style scoped>\n",
       "    .dataframe tbody tr th:only-of-type {\n",
       "        vertical-align: middle;\n",
       "    }\n",
       "\n",
       "    .dataframe tbody tr th {\n",
       "        vertical-align: top;\n",
       "    }\n",
       "\n",
       "    .dataframe thead th {\n",
       "        text-align: right;\n",
       "    }\n",
       "</style>\n",
       "<table border=\"1\" class=\"dataframe\">\n",
       "  <thead>\n",
       "    <tr style=\"text-align: right;\">\n",
       "      <th></th>\n",
       "      <th>DateCrawled</th>\n",
       "      <th>Price</th>\n",
       "      <th>VehicleType</th>\n",
       "      <th>RegistrationYear</th>\n",
       "      <th>Gearbox</th>\n",
       "      <th>Power</th>\n",
       "      <th>Model</th>\n",
       "      <th>Kilometer</th>\n",
       "      <th>RegistrationMonth</th>\n",
       "      <th>FuelType</th>\n",
       "      <th>Brand</th>\n",
       "      <th>NotRepaired</th>\n",
       "      <th>DateCreated</th>\n",
       "      <th>PostalCode</th>\n",
       "      <th>LastSeen</th>\n",
       "    </tr>\n",
       "  </thead>\n",
       "  <tbody>\n",
       "    <tr>\n",
       "      <td>0</td>\n",
       "      <td>2016-03-24 11:52:17</td>\n",
       "      <td>480</td>\n",
       "      <td>other</td>\n",
       "      <td>1993</td>\n",
       "      <td>manual</td>\n",
       "      <td>0</td>\n",
       "      <td>golf</td>\n",
       "      <td>150000</td>\n",
       "      <td>0</td>\n",
       "      <td>petrol</td>\n",
       "      <td>volkswagen</td>\n",
       "      <td>no</td>\n",
       "      <td>2016-03-24 00:00:00</td>\n",
       "      <td>70435</td>\n",
       "      <td>2016-04-07 03:16:57</td>\n",
       "    </tr>\n",
       "    <tr>\n",
       "      <td>2</td>\n",
       "      <td>2016-03-14 12:52:21</td>\n",
       "      <td>9800</td>\n",
       "      <td>suv</td>\n",
       "      <td>2004</td>\n",
       "      <td>auto</td>\n",
       "      <td>163</td>\n",
       "      <td>grand</td>\n",
       "      <td>125000</td>\n",
       "      <td>8</td>\n",
       "      <td>petrol</td>\n",
       "      <td>jeep</td>\n",
       "      <td>no</td>\n",
       "      <td>2016-03-14 00:00:00</td>\n",
       "      <td>90480</td>\n",
       "      <td>2016-04-05 12:47:46</td>\n",
       "    </tr>\n",
       "    <tr>\n",
       "      <td>3</td>\n",
       "      <td>2016-03-17 16:54:04</td>\n",
       "      <td>1500</td>\n",
       "      <td>small</td>\n",
       "      <td>2001</td>\n",
       "      <td>manual</td>\n",
       "      <td>75</td>\n",
       "      <td>golf</td>\n",
       "      <td>150000</td>\n",
       "      <td>6</td>\n",
       "      <td>petrol</td>\n",
       "      <td>volkswagen</td>\n",
       "      <td>no</td>\n",
       "      <td>2016-03-17 00:00:00</td>\n",
       "      <td>91074</td>\n",
       "      <td>2016-03-17 17:40:17</td>\n",
       "    </tr>\n",
       "    <tr>\n",
       "      <td>4</td>\n",
       "      <td>2016-03-31 17:25:20</td>\n",
       "      <td>3600</td>\n",
       "      <td>small</td>\n",
       "      <td>2008</td>\n",
       "      <td>manual</td>\n",
       "      <td>69</td>\n",
       "      <td>fabia</td>\n",
       "      <td>90000</td>\n",
       "      <td>7</td>\n",
       "      <td>petrol</td>\n",
       "      <td>skoda</td>\n",
       "      <td>no</td>\n",
       "      <td>2016-03-31 00:00:00</td>\n",
       "      <td>60437</td>\n",
       "      <td>2016-04-06 10:17:21</td>\n",
       "    </tr>\n",
       "    <tr>\n",
       "      <td>5</td>\n",
       "      <td>2016-04-04 17:36:23</td>\n",
       "      <td>650</td>\n",
       "      <td>sedan</td>\n",
       "      <td>1995</td>\n",
       "      <td>manual</td>\n",
       "      <td>102</td>\n",
       "      <td>3er</td>\n",
       "      <td>150000</td>\n",
       "      <td>10</td>\n",
       "      <td>petrol</td>\n",
       "      <td>bmw</td>\n",
       "      <td>yes</td>\n",
       "      <td>2016-04-04 00:00:00</td>\n",
       "      <td>33775</td>\n",
       "      <td>2016-04-06 19:17:07</td>\n",
       "    </tr>\n",
       "  </tbody>\n",
       "</table>\n",
       "</div>"
      ],
      "text/plain": [
       "           DateCrawled  Price VehicleType  RegistrationYear Gearbox  Power  \\\n",
       "0  2016-03-24 11:52:17    480       other              1993  manual      0   \n",
       "2  2016-03-14 12:52:21   9800         suv              2004    auto    163   \n",
       "3  2016-03-17 16:54:04   1500       small              2001  manual     75   \n",
       "4  2016-03-31 17:25:20   3600       small              2008  manual     69   \n",
       "5  2016-04-04 17:36:23    650       sedan              1995  manual    102   \n",
       "\n",
       "   Model  Kilometer  RegistrationMonth FuelType       Brand NotRepaired  \\\n",
       "0   golf     150000                  0   petrol  volkswagen          no   \n",
       "2  grand     125000                  8   petrol        jeep          no   \n",
       "3   golf     150000                  6   petrol  volkswagen          no   \n",
       "4  fabia      90000                  7   petrol       skoda          no   \n",
       "5    3er     150000                 10   petrol         bmw         yes   \n",
       "\n",
       "           DateCreated  PostalCode             LastSeen  \n",
       "0  2016-03-24 00:00:00       70435  2016-04-07 03:16:57  \n",
       "2  2016-03-14 00:00:00       90480  2016-04-05 12:47:46  \n",
       "3  2016-03-17 00:00:00       91074  2016-03-17 17:40:17  \n",
       "4  2016-03-31 00:00:00       60437  2016-04-06 10:17:21  \n",
       "5  2016-04-04 00:00:00       33775  2016-04-06 19:17:07  "
      ]
     },
     "execution_count": 27,
     "metadata": {},
     "output_type": "execute_result"
    }
   ],
   "source": [
    "data = data.drop('NumberOfPictures', axis = 1)\n",
    "data.head()"
   ]
  },
  {
   "cell_type": "markdown",
   "metadata": {},
   "source": [
    "### Приведение типов переменных"
   ]
  },
  {
   "cell_type": "code",
   "execution_count": 28,
   "metadata": {},
   "outputs": [],
   "source": [
    "data[\"DateCrawled\"] = pd.to_datetime(data[\"DateCrawled\"])\n",
    "data.loc[data[\"NotRepaired\"] == 'yes', \"NotRepaired\"] = 1\n",
    "data.loc[data[\"NotRepaired\"] == 'no', \"NotRepaired\"] = 0\n",
    "data[\"NotRepaired\"] = data[\"NotRepaired\"].astype(int) \n",
    "data[\"DateCreated\"] = pd.to_datetime(data[\"DateCreated\"])\n",
    "data[\"LastSeen\"] = pd.to_datetime(data[\"LastSeen\"])"
   ]
  },
  {
   "cell_type": "code",
   "execution_count": 29,
   "metadata": {},
   "outputs": [
    {
     "name": "stdout",
     "output_type": "stream",
     "text": [
      "<class 'pandas.core.frame.DataFrame'>\n",
      "Int64Index: 329445 entries, 0 to 354368\n",
      "Data columns (total 15 columns):\n",
      "DateCrawled          329445 non-null datetime64[ns]\n",
      "Price                329445 non-null int64\n",
      "VehicleType          329445 non-null object\n",
      "RegistrationYear     329445 non-null int64\n",
      "Gearbox              329445 non-null object\n",
      "Power                329445 non-null int64\n",
      "Model                329445 non-null object\n",
      "Kilometer            329445 non-null int64\n",
      "RegistrationMonth    329445 non-null int64\n",
      "FuelType             329445 non-null object\n",
      "Brand                329445 non-null object\n",
      "NotRepaired          329445 non-null int64\n",
      "DateCreated          329445 non-null datetime64[ns]\n",
      "PostalCode           329445 non-null int64\n",
      "LastSeen             329445 non-null datetime64[ns]\n",
      "dtypes: datetime64[ns](3), int64(7), object(5)\n",
      "memory usage: 40.2+ MB\n"
     ]
    }
   ],
   "source": [
    "data.info()"
   ]
  },
  {
   "cell_type": "markdown",
   "metadata": {},
   "source": [
    "### Дроп столбцов DateCrawled и LastSeen, как дублирующих счётчиков. Приведение столбца DateCreated  в тип int"
   ]
  },
  {
   "cell_type": "code",
   "execution_count": 30,
   "metadata": {},
   "outputs": [],
   "source": [
    "data = data.drop(\"DateCrawled\", axis = 1)\n",
    "data = data.drop(\"LastSeen\", axis = 1)\n",
    "data[\"DateCreated\"] = data[\"DateCreated\"].astype(int) // 10**11"
   ]
  },
  {
   "cell_type": "markdown",
   "metadata": {},
   "source": [
    "Алгоритм случайного леса не работает со столбцами datetime, поэтому приведём в int."
   ]
  },
  {
   "cell_type": "markdown",
   "metadata": {},
   "source": [
    "### OHE, масштабирование данных и разбиение на выборки"
   ]
  },
  {
   "cell_type": "code",
   "execution_count": 31,
   "metadata": {
    "scrolled": true
   },
   "outputs": [],
   "source": [
    "for_transformation = ['VehicleType', 'Gearbox', 'Model', 'FuelType', 'Brand']\n",
    "data = data.reset_index(drop = True)\n",
    "data_ohe = pd.get_dummies(data, columns = for_transformation, drop_first = True)\n",
    "data_ohe.head()\n",
    "\n",
    "\n",
    "encoder = OrdinalEncoder()\n",
    "data_ordinal = data\n",
    "data_ordinal[for_transformation] = pd.DataFrame(encoder.fit_transform(data_ordinal[for_transformation]), columns = for_transformation)"
   ]
  },
  {
   "cell_type": "code",
   "execution_count": 32,
   "metadata": {},
   "outputs": [
    {
     "name": "stdout",
     "output_type": "stream",
     "text": [
      "Размеры обучающей выборки: 263556 263556\n",
      "Размеры тестовой выборки: 65889 65889\n"
     ]
    }
   ],
   "source": [
    "target = data_ohe['Price']\n",
    "features = data_ohe.drop('Price', axis = 1)\n",
    "features_train_and_valid_ohe, features_test_ohe, target_train_and_valid_ohe, target_test_ohe = train_test_split(\n",
    "    features, target, test_size=0.2,  random_state=12345)  \n",
    "print(\"Размеры обучающей выборки:\", len(features_train_and_valid_ohe), len(target_train_and_valid_ohe))\n",
    "print(\"Размеры тестовой выборки:\", len(features_test_ohe), len(target_test_ohe))\n",
    "\n",
    "features_train_and_valid_ordinal = data_ordinal.iloc[features_train_and_valid_ohe.index].drop(\"Price\", axis = 1)\n",
    "target_train_and_valid_ordinal = data_ordinal.iloc[target_train_and_valid_ohe.index][\"Price\"]\n",
    "\n",
    "features_test_ordinal = data_ordinal.iloc[features_test_ohe.index]\n",
    "target_test_ordinal = data_ordinal.iloc[target_test_ohe.index]"
   ]
  },
  {
   "cell_type": "code",
   "execution_count": 33,
   "metadata": {},
   "outputs": [
    {
     "name": "stderr",
     "output_type": "stream",
     "text": [
      "/opt/conda/lib/python3.7/site-packages/pandas/core/indexing.py:494: SettingWithCopyWarning: \n",
      "A value is trying to be set on a copy of a slice from a DataFrame.\n",
      "Try using .loc[row_indexer,col_indexer] = value instead\n",
      "\n",
      "See the caveats in the documentation: http://pandas.pydata.org/pandas-docs/stable/user_guide/indexing.html#returning-a-view-versus-a-copy\n",
      "  self.obj[item] = s\n",
      "/opt/conda/lib/python3.7/site-packages/pandas/core/indexing.py:494: SettingWithCopyWarning: \n",
      "A value is trying to be set on a copy of a slice from a DataFrame.\n",
      "Try using .loc[row_indexer,col_indexer] = value instead\n",
      "\n",
      "See the caveats in the documentation: http://pandas.pydata.org/pandas-docs/stable/user_guide/indexing.html#returning-a-view-versus-a-copy\n",
      "  self.obj[item] = s\n",
      "/opt/conda/lib/python3.7/site-packages/pandas/core/indexing.py:494: SettingWithCopyWarning: \n",
      "A value is trying to be set on a copy of a slice from a DataFrame.\n",
      "Try using .loc[row_indexer,col_indexer] = value instead\n",
      "\n",
      "See the caveats in the documentation: http://pandas.pydata.org/pandas-docs/stable/user_guide/indexing.html#returning-a-view-versus-a-copy\n",
      "  self.obj[item] = s\n"
     ]
    }
   ],
   "source": [
    "numeric = [\"RegistrationYear\", \"Power\", \"Kilometer\", \"RegistrationMonth\", \"PostalCode\"]\n",
    "\n",
    "scaler = StandardScaler()\n",
    "scaler.fit(features_train_and_valid_ohe[numeric])\n",
    "\n",
    "features_train_and_valid_ohe.loc[:, numeric] = scaler.transform(features_train_and_valid_ohe.loc[:, numeric])\n",
    "features_test_ohe.loc[:, numeric] = scaler.transform(features_test_ohe.loc[:, numeric])\n",
    "\n",
    "features_train_and_valid_ordinal.loc[:, numeric] = scaler.transform(features_train_and_valid_ordinal.loc[:, numeric])\n",
    "features_test_ordinal.loc[:, numeric] = scaler.transform(features_test_ordinal.loc[:, numeric])"
   ]
  },
  {
   "cell_type": "markdown",
   "metadata": {},
   "source": [
    "## Обучение моделей"
   ]
  },
  {
   "cell_type": "markdown",
   "metadata": {},
   "source": [
    "### Модель случайного леса и линейной регрессии"
   ]
  },
  {
   "cell_type": "code",
   "execution_count": 34,
   "metadata": {},
   "outputs": [],
   "source": [
    "def rmse(predict, target):\n",
    "    return mean_squared_error(target, predict) ** .5\n",
    "    \n",
    "score = make_scorer(rmse, greater_is_better = False)"
   ]
  },
  {
   "cell_type": "code",
   "execution_count": 35,
   "metadata": {},
   "outputs": [
    {
     "name": "stdout",
     "output_type": "stream",
     "text": [
      "-1761.3188685620235\n"
     ]
    }
   ],
   "source": [
    "results = pd.DataFrame(columns = [\"rmse\", \"time\"])\n",
    "best_model = None\n",
    "best_result = 10000\n",
    "best_forest_model = None\n",
    "best_forest_result = 10000\n",
    "\n",
    "\n",
    "model = RandomForestRegressor(random_state=12345, n_estimators = 10)\n",
    "\n",
    "start_time = time.time()\n",
    "scores = cross_val_score(model, features_train_and_valid_ordinal, target_train_and_valid_ordinal, scoring = score, cv = 3)\n",
    "end_time = (time.time() - start_time) / 3\n",
    "\n",
    "final_score =  scores.mean()\n",
    "new_row = pd.Series(data = {\"rmse\": int(-final_score), \"time\": end_time}, name = \"RandForest\")\n",
    "results = results.append(new_row, ignore_index = False)\n",
    "\n",
    "print(final_score)"
   ]
  },
  {
   "cell_type": "code",
   "execution_count": 36,
   "metadata": {},
   "outputs": [
    {
     "name": "stdout",
     "output_type": "stream",
     "text": [
      "-3080.2024992288316\n"
     ]
    }
   ],
   "source": [
    "model = LinearRegression()\n",
    "\n",
    "start_time = time.time()\n",
    "scores = cross_val_score(model, features_train_and_valid_ordinal, target_train_and_valid_ordinal, scoring = score, cv = 3)\n",
    "end_time = (time.time() - start_time) / 3\n",
    "\n",
    "final_score =  scores.mean()\n",
    "new_row = pd.Series(data = {\"rmse\": int(-final_score), \"time\": end_time}, name = \"LinearReg\")\n",
    "results = results.append(new_row, ignore_index = False)\n",
    "\n",
    "print(final_score)"
   ]
  },
  {
   "cell_type": "markdown",
   "metadata": {},
   "source": [
    "Проверили стандартные модели, чтобы сравнить их с градиентным бустингом."
   ]
  },
  {
   "cell_type": "markdown",
   "metadata": {},
   "source": [
    "### LightGBM"
   ]
  },
  {
   "cell_type": "markdown",
   "metadata": {},
   "source": [
    "#### Создание выборок для бустинга и приведение категориальных признаков к типу 'category',  масштабирование"
   ]
  },
  {
   "cell_type": "code",
   "execution_count": 37,
   "metadata": {},
   "outputs": [
    {
     "name": "stderr",
     "output_type": "stream",
     "text": [
      "/opt/conda/lib/python3.7/site-packages/ipykernel_launcher.py:19: SettingWithCopyWarning: \n",
      "A value is trying to be set on a copy of a slice from a DataFrame.\n",
      "Try using .loc[row_indexer,col_indexer] = value instead\n",
      "\n",
      "See the caveats in the documentation: http://pandas.pydata.org/pandas-docs/stable/user_guide/indexing.html#returning-a-view-versus-a-copy\n",
      "/opt/conda/lib/python3.7/site-packages/pandas/core/indexing.py:494: SettingWithCopyWarning: \n",
      "A value is trying to be set on a copy of a slice from a DataFrame.\n",
      "Try using .loc[row_indexer,col_indexer] = value instead\n",
      "\n",
      "See the caveats in the documentation: http://pandas.pydata.org/pandas-docs/stable/user_guide/indexing.html#returning-a-view-versus-a-copy\n",
      "  self.obj[item] = s\n",
      "/opt/conda/lib/python3.7/site-packages/ipykernel_launcher.py:20: SettingWithCopyWarning: \n",
      "A value is trying to be set on a copy of a slice from a DataFrame.\n",
      "Try using .loc[row_indexer,col_indexer] = value instead\n",
      "\n",
      "See the caveats in the documentation: http://pandas.pydata.org/pandas-docs/stable/user_guide/indexing.html#returning-a-view-versus-a-copy\n",
      "/opt/conda/lib/python3.7/site-packages/pandas/core/indexing.py:494: SettingWithCopyWarning: \n",
      "A value is trying to be set on a copy of a slice from a DataFrame.\n",
      "Try using .loc[row_indexer,col_indexer] = value instead\n",
      "\n",
      "See the caveats in the documentation: http://pandas.pydata.org/pandas-docs/stable/user_guide/indexing.html#returning-a-view-versus-a-copy\n",
      "  self.obj[item] = s\n"
     ]
    }
   ],
   "source": [
    "data['VehicleType'] = data['VehicleType'].astype('category') \n",
    "data['Gearbox'] = data['Gearbox'].astype('category')\n",
    "data['Model'] = data['Model'].astype('category')\n",
    "data['FuelType'] = data['FuelType'].astype('category')\n",
    "data['Brand'] = data['Brand'].astype('category')\n",
    "\n",
    "\n",
    "features_train_and_valid = data.iloc[features_train_and_valid_ohe.index].drop(\"Price\", axis = 1)\n",
    "target_train_and_valid = data.iloc[target_train_and_valid_ohe.index][\"Price\"]\n",
    "\n",
    "features_train, features_valid, target_train, target_valid = train_test_split(\n",
    "    features_train_and_valid, target_train_and_valid, test_size=0.25,  random_state = 12345) \n",
    "\n",
    "features_test = data.iloc[features_test_ohe.index].drop(\"Price\", axis = 1)\n",
    "target_test = data.iloc[target_test_ohe.index][\"Price\"]\n",
    "\n",
    "scaler.fit(features_train[numeric])\n",
    "\n",
    "features_train[numeric] = scaler.transform(features_train[numeric])\n",
    "features_valid[numeric] = scaler.transform(features_valid[numeric])\n",
    "features_test[numeric] = scaler.transform(features_test[numeric])"
   ]
  },
  {
   "cell_type": "markdown",
   "metadata": {},
   "source": [
    "#### Бустинг без параметров"
   ]
  },
  {
   "cell_type": "code",
   "execution_count": 38,
   "metadata": {},
   "outputs": [
    {
     "name": "stdout",
     "output_type": "stream",
     "text": [
      "1694.5866936560333\n",
      "CPU times: user 26.7 s, sys: 217 ms, total: 26.9 s\n",
      "Wall time: 27.2 s\n"
     ]
    }
   ],
   "source": [
    "%%time\n",
    "model = LGBMRegressor()\n",
    "\n",
    "start_time = time.time()\n",
    "model.fit(features_train, target_train)\n",
    "predicted_valid = model.predict(features_valid)\n",
    "score = mean_squared_error(y_true = target_valid, y_pred = predicted_valid) ** 0.5\n",
    "end_time = time.time() - start_time\n",
    "new_row = pd.Series(data = {\"rmse\": int(score), \"time\": end_time}, name = \"NoParamsBoost\")\n",
    "results = results.append(new_row, ignore_index = False)\n",
    "\n",
    "print(score)"
   ]
  },
  {
   "cell_type": "markdown",
   "metadata": {},
   "source": [
    "Если просто запустить градиентный бустинг без параметров, то метод случайного леса лучше."
   ]
  },
  {
   "cell_type": "markdown",
   "metadata": {},
   "source": [
    "### Бустинг с подбором параметров"
   ]
  },
  {
   "cell_type": "markdown",
   "metadata": {},
   "source": [
    "Функция для бустинга с заданными параметрами"
   ]
  },
  {
   "cell_type": "code",
   "execution_count": 39,
   "metadata": {},
   "outputs": [],
   "source": [
    "def boost(params, features_train, features_valid, target_train, target_valid, results, name):\n",
    "    train_data = lgbm.Dataset(features_train, target_train)\n",
    "    valid_data = lgbm.Dataset(features_valid, target_valid)\n",
    "    \n",
    "    start_time = time.time()\n",
    "    model = lgbm.train(params, train_data, valid_sets = valid_data, verbose_eval = params['verbose_eval'])\n",
    "\n",
    "    predicted_valid = model.predict(features_valid)\n",
    "    score = mean_squared_error(target_valid, y_pred = predicted_valid) ** 0.5\n",
    "    end_time = time.time() - start_time\n",
    "    new_row = pd.Series(data = {\"rmse\": int(score), \"time\": end_time}, name = name)\n",
    "    results = results.append(new_row, ignore_index = False)\n",
    "\n",
    "    print(score)\n",
    "    return model, results"
   ]
  },
  {
   "cell_type": "markdown",
   "metadata": {},
   "source": [
    "#### Бустинг с увеличенным количеством итераций"
   ]
  },
  {
   "cell_type": "code",
   "execution_count": 40,
   "metadata": {},
   "outputs": [],
   "source": [
    "params = {\n",
    "    \"num_iterations\" : 150,\n",
    "    \"metric\" : \"rmse\",\n",
    "    \"learning_rate\" : .1,\n",
    "    \"seed\" : 12345,\n",
    "    \"verbose_eval\" : True\n",
    "}"
   ]
  },
  {
   "cell_type": "code",
   "execution_count": 41,
   "metadata": {},
   "outputs": [
    {
     "name": "stderr",
     "output_type": "stream",
     "text": [
      "/opt/conda/lib/python3.7/site-packages/lightgbm/engine.py:148: UserWarning: Found `num_iterations` in params. Will use it instead of argument\n",
      "  warnings.warn(\"Found `{}` in params. Will use it instead of argument\".format(alias))\n"
     ]
    },
    {
     "name": "stdout",
     "output_type": "stream",
     "text": [
      "[1]\tvalid_0's rmse: 4170.48\n",
      "[2]\tvalid_0's rmse: 3882.75\n",
      "[3]\tvalid_0's rmse: 3634.23\n",
      "[4]\tvalid_0's rmse: 3409.94\n",
      "[5]\tvalid_0's rmse: 3212.62\n",
      "[6]\tvalid_0's rmse: 3037.52\n",
      "[7]\tvalid_0's rmse: 2886.72\n",
      "[8]\tvalid_0's rmse: 2752.86\n",
      "[9]\tvalid_0's rmse: 2637.04\n",
      "[10]\tvalid_0's rmse: 2529.53\n",
      "[11]\tvalid_0's rmse: 2438.03\n",
      "[12]\tvalid_0's rmse: 2355.71\n",
      "[13]\tvalid_0's rmse: 2285.09\n",
      "[14]\tvalid_0's rmse: 2224.27\n",
      "[15]\tvalid_0's rmse: 2170.13\n",
      "[16]\tvalid_0's rmse: 2123.12\n",
      "[17]\tvalid_0's rmse: 2082.78\n",
      "[18]\tvalid_0's rmse: 2045.72\n",
      "[19]\tvalid_0's rmse: 2013.11\n",
      "[20]\tvalid_0's rmse: 1984.83\n",
      "[21]\tvalid_0's rmse: 1959.74\n",
      "[22]\tvalid_0's rmse: 1936.55\n",
      "[23]\tvalid_0's rmse: 1915.74\n",
      "[24]\tvalid_0's rmse: 1897.54\n",
      "[25]\tvalid_0's rmse: 1881.4\n",
      "[26]\tvalid_0's rmse: 1867.78\n",
      "[27]\tvalid_0's rmse: 1855.85\n",
      "[28]\tvalid_0's rmse: 1845.12\n",
      "[29]\tvalid_0's rmse: 1832.85\n",
      "[30]\tvalid_0's rmse: 1823.28\n",
      "[31]\tvalid_0's rmse: 1815.2\n",
      "[32]\tvalid_0's rmse: 1806.79\n",
      "[33]\tvalid_0's rmse: 1799.73\n",
      "[34]\tvalid_0's rmse: 1793.24\n",
      "[35]\tvalid_0's rmse: 1786.85\n",
      "[36]\tvalid_0's rmse: 1782.13\n",
      "[37]\tvalid_0's rmse: 1776.94\n",
      "[38]\tvalid_0's rmse: 1772.09\n",
      "[39]\tvalid_0's rmse: 1767.4\n",
      "[40]\tvalid_0's rmse: 1763.67\n",
      "[41]\tvalid_0's rmse: 1760.1\n",
      "[42]\tvalid_0's rmse: 1756.44\n",
      "[43]\tvalid_0's rmse: 1753.9\n",
      "[44]\tvalid_0's rmse: 1751.84\n",
      "[45]\tvalid_0's rmse: 1749.83\n",
      "[46]\tvalid_0's rmse: 1747.55\n",
      "[47]\tvalid_0's rmse: 1745.6\n",
      "[48]\tvalid_0's rmse: 1744.08\n",
      "[49]\tvalid_0's rmse: 1742\n",
      "[50]\tvalid_0's rmse: 1739.93\n",
      "[51]\tvalid_0's rmse: 1738.5\n",
      "[52]\tvalid_0's rmse: 1737.39\n",
      "[53]\tvalid_0's rmse: 1735.63\n",
      "[54]\tvalid_0's rmse: 1734.22\n",
      "[55]\tvalid_0's rmse: 1733.19\n",
      "[56]\tvalid_0's rmse: 1732.3\n",
      "[57]\tvalid_0's rmse: 1730.65\n",
      "[58]\tvalid_0's rmse: 1729.16\n",
      "[59]\tvalid_0's rmse: 1728.53\n",
      "[60]\tvalid_0's rmse: 1727.1\n",
      "[61]\tvalid_0's rmse: 1726.24\n",
      "[62]\tvalid_0's rmse: 1724.81\n",
      "[63]\tvalid_0's rmse: 1723.3\n",
      "[64]\tvalid_0's rmse: 1721.83\n",
      "[65]\tvalid_0's rmse: 1720.33\n",
      "[66]\tvalid_0's rmse: 1718.95\n",
      "[67]\tvalid_0's rmse: 1718.01\n",
      "[68]\tvalid_0's rmse: 1717.58\n",
      "[69]\tvalid_0's rmse: 1716.65\n",
      "[70]\tvalid_0's rmse: 1715.54\n",
      "[71]\tvalid_0's rmse: 1715.13\n",
      "[72]\tvalid_0's rmse: 1714.55\n",
      "[73]\tvalid_0's rmse: 1713.85\n",
      "[74]\tvalid_0's rmse: 1712.78\n",
      "[75]\tvalid_0's rmse: 1712.28\n",
      "[76]\tvalid_0's rmse: 1711.5\n",
      "[77]\tvalid_0's rmse: 1709.95\n",
      "[78]\tvalid_0's rmse: 1709.16\n",
      "[79]\tvalid_0's rmse: 1708.77\n",
      "[80]\tvalid_0's rmse: 1707.69\n",
      "[81]\tvalid_0's rmse: 1707.59\n",
      "[82]\tvalid_0's rmse: 1706.63\n",
      "[83]\tvalid_0's rmse: 1705.59\n",
      "[84]\tvalid_0's rmse: 1704.22\n",
      "[85]\tvalid_0's rmse: 1703.71\n",
      "[86]\tvalid_0's rmse: 1702.96\n",
      "[87]\tvalid_0's rmse: 1702.1\n",
      "[88]\tvalid_0's rmse: 1701.51\n",
      "[89]\tvalid_0's rmse: 1701\n",
      "[90]\tvalid_0's rmse: 1700.5\n",
      "[91]\tvalid_0's rmse: 1699.86\n",
      "[92]\tvalid_0's rmse: 1699.52\n",
      "[93]\tvalid_0's rmse: 1698.8\n",
      "[94]\tvalid_0's rmse: 1698.26\n",
      "[95]\tvalid_0's rmse: 1697.8\n",
      "[96]\tvalid_0's rmse: 1697.14\n",
      "[97]\tvalid_0's rmse: 1696.92\n",
      "[98]\tvalid_0's rmse: 1695.97\n",
      "[99]\tvalid_0's rmse: 1695.13\n",
      "[100]\tvalid_0's rmse: 1694.59\n",
      "[101]\tvalid_0's rmse: 1694.13\n",
      "[102]\tvalid_0's rmse: 1693.75\n",
      "[103]\tvalid_0's rmse: 1693.14\n",
      "[104]\tvalid_0's rmse: 1692.77\n",
      "[105]\tvalid_0's rmse: 1692.57\n",
      "[106]\tvalid_0's rmse: 1692.21\n",
      "[107]\tvalid_0's rmse: 1691.73\n",
      "[108]\tvalid_0's rmse: 1690.49\n",
      "[109]\tvalid_0's rmse: 1690.02\n",
      "[110]\tvalid_0's rmse: 1689.3\n",
      "[111]\tvalid_0's rmse: 1689.11\n",
      "[112]\tvalid_0's rmse: 1688.7\n",
      "[113]\tvalid_0's rmse: 1687.64\n",
      "[114]\tvalid_0's rmse: 1687.52\n",
      "[115]\tvalid_0's rmse: 1687.22\n",
      "[116]\tvalid_0's rmse: 1687.08\n",
      "[117]\tvalid_0's rmse: 1686.92\n",
      "[118]\tvalid_0's rmse: 1686.65\n",
      "[119]\tvalid_0's rmse: 1686.37\n",
      "[120]\tvalid_0's rmse: 1685.88\n",
      "[121]\tvalid_0's rmse: 1685.04\n",
      "[122]\tvalid_0's rmse: 1684.96\n",
      "[123]\tvalid_0's rmse: 1684.27\n",
      "[124]\tvalid_0's rmse: 1683.55\n",
      "[125]\tvalid_0's rmse: 1683.36\n",
      "[126]\tvalid_0's rmse: 1682.55\n",
      "[127]\tvalid_0's rmse: 1682.56\n",
      "[128]\tvalid_0's rmse: 1682.12\n",
      "[129]\tvalid_0's rmse: 1681.9\n",
      "[130]\tvalid_0's rmse: 1681.75\n",
      "[131]\tvalid_0's rmse: 1681.61\n",
      "[132]\tvalid_0's rmse: 1681.28\n",
      "[133]\tvalid_0's rmse: 1680.97\n",
      "[134]\tvalid_0's rmse: 1680.79\n",
      "[135]\tvalid_0's rmse: 1680.72\n",
      "[136]\tvalid_0's rmse: 1680.6\n",
      "[137]\tvalid_0's rmse: 1679.99\n",
      "[138]\tvalid_0's rmse: 1679.52\n",
      "[139]\tvalid_0's rmse: 1679.33\n",
      "[140]\tvalid_0's rmse: 1679.03\n",
      "[141]\tvalid_0's rmse: 1678.56\n",
      "[142]\tvalid_0's rmse: 1678.36\n",
      "[143]\tvalid_0's rmse: 1678.14\n",
      "[144]\tvalid_0's rmse: 1677.4\n",
      "[145]\tvalid_0's rmse: 1677.02\n",
      "[146]\tvalid_0's rmse: 1676.85\n",
      "[147]\tvalid_0's rmse: 1676.37\n",
      "[148]\tvalid_0's rmse: 1675.56\n",
      "[149]\tvalid_0's rmse: 1675.45\n",
      "[150]\tvalid_0's rmse: 1675.4\n",
      "1675.4024786532232\n",
      "CPU times: user 53.6 s, sys: 383 ms, total: 54 s\n",
      "Wall time: 54.9 s\n"
     ]
    }
   ],
   "source": [
    "%%time\n",
    "model, results = boost(params, features_train, features_valid, target_train, target_valid, results, \"BoostNumIter150\")"
   ]
  },
  {
   "cell_type": "markdown",
   "metadata": {},
   "source": [
    "Можно сделать вывод, что стандартных 100 итераций оказалось недостаточно, однако модель стала медленно обучаться на последних итерациях. Скорее всего стандартный learning rate оптимален, но давайте попробуем его уменьшить и увеличить число итераций."
   ]
  },
  {
   "cell_type": "markdown",
   "metadata": {},
   "source": [
    "#### Бустинг с уменьшенным learning rate и 1500 итераций"
   ]
  },
  {
   "cell_type": "code",
   "execution_count": 42,
   "metadata": {},
   "outputs": [],
   "source": [
    "params = {\n",
    "    \"num_iterations\" : 1500,\n",
    "    \"metric\" : \"rmse\",\n",
    "    \"learning_rate\" : .01,\n",
    "    \"seed\" : 12345,\n",
    "    \"verbose_eval\" : True\n",
    "}"
   ]
  },
  {
   "cell_type": "code",
   "execution_count": 43,
   "metadata": {
    "scrolled": true
   },
   "outputs": [
    {
     "name": "stderr",
     "output_type": "stream",
     "text": [
      "/opt/conda/lib/python3.7/site-packages/lightgbm/engine.py:148: UserWarning: Found `num_iterations` in params. Will use it instead of argument\n",
      "  warnings.warn(\"Found `{}` in params. Will use it instead of argument\".format(alias))\n"
     ]
    },
    {
     "name": "stdout",
     "output_type": "stream",
     "text": [
      "[1]\tvalid_0's rmse: 4461.53\n",
      "[2]\tvalid_0's rmse: 4429.07\n",
      "[3]\tvalid_0's rmse: 4397.02\n",
      "[4]\tvalid_0's rmse: 4365.38\n",
      "[5]\tvalid_0's rmse: 4333.94\n",
      "[6]\tvalid_0's rmse: 4303.03\n",
      "[7]\tvalid_0's rmse: 4272.33\n",
      "[8]\tvalid_0's rmse: 4242.13\n",
      "[9]\tvalid_0's rmse: 4212.15\n",
      "[10]\tvalid_0's rmse: 4182.67\n",
      "[11]\tvalid_0's rmse: 4153.4\n",
      "[12]\tvalid_0's rmse: 4124.28\n",
      "[13]\tvalid_0's rmse: 4095.87\n",
      "[14]\tvalid_0's rmse: 4067.53\n",
      "[15]\tvalid_0's rmse: 4039.57\n",
      "[16]\tvalid_0's rmse: 4011.86\n",
      "[17]\tvalid_0's rmse: 3984.46\n",
      "[18]\tvalid_0's rmse: 3957.68\n",
      "[19]\tvalid_0's rmse: 3930.98\n",
      "[20]\tvalid_0's rmse: 3904.52\n",
      "[21]\tvalid_0's rmse: 3878.95\n",
      "[22]\tvalid_0's rmse: 3853.31\n",
      "[23]\tvalid_0's rmse: 3828.34\n",
      "[24]\tvalid_0's rmse: 3803.44\n",
      "[25]\tvalid_0's rmse: 3778.79\n",
      "[26]\tvalid_0's rmse: 3754.68\n",
      "[27]\tvalid_0's rmse: 3730.29\n",
      "[28]\tvalid_0's rmse: 3706.84\n",
      "[29]\tvalid_0's rmse: 3683.17\n",
      "[30]\tvalid_0's rmse: 3659.82\n",
      "[31]\tvalid_0's rmse: 3637.22\n",
      "[32]\tvalid_0's rmse: 3614.42\n",
      "[33]\tvalid_0's rmse: 3592.31\n",
      "[34]\tvalid_0's rmse: 3570.12\n",
      "[35]\tvalid_0's rmse: 3548.43\n",
      "[36]\tvalid_0's rmse: 3526.62\n",
      "[37]\tvalid_0's rmse: 3505.27\n",
      "[38]\tvalid_0's rmse: 3484.54\n",
      "[39]\tvalid_0's rmse: 3463.62\n",
      "[40]\tvalid_0's rmse: 3442.81\n",
      "[41]\tvalid_0's rmse: 3422.43\n",
      "[42]\tvalid_0's rmse: 3402.31\n",
      "[43]\tvalid_0's rmse: 3382.4\n",
      "[44]\tvalid_0's rmse: 3362.81\n",
      "[45]\tvalid_0's rmse: 3343.63\n",
      "[46]\tvalid_0's rmse: 3324.43\n",
      "[47]\tvalid_0's rmse: 3305.53\n",
      "[48]\tvalid_0's rmse: 3286.64\n",
      "[49]\tvalid_0's rmse: 3268.23\n",
      "[50]\tvalid_0's rmse: 3249.84\n",
      "[51]\tvalid_0's rmse: 3231.94\n",
      "[52]\tvalid_0's rmse: 3213.98\n",
      "[53]\tvalid_0's rmse: 3196.6\n",
      "[54]\tvalid_0's rmse: 3179.06\n",
      "[55]\tvalid_0's rmse: 3161.87\n",
      "[56]\tvalid_0's rmse: 3144.82\n",
      "[57]\tvalid_0's rmse: 3128.12\n",
      "[58]\tvalid_0's rmse: 3111.69\n",
      "[59]\tvalid_0's rmse: 3095.05\n",
      "[60]\tvalid_0's rmse: 3078.76\n",
      "[61]\tvalid_0's rmse: 3062.72\n",
      "[62]\tvalid_0's rmse: 3046.89\n",
      "[63]\tvalid_0's rmse: 3031.3\n",
      "[64]\tvalid_0's rmse: 3015.77\n",
      "[65]\tvalid_0's rmse: 3000.66\n",
      "[66]\tvalid_0's rmse: 2985.36\n",
      "[67]\tvalid_0's rmse: 2970.65\n",
      "[68]\tvalid_0's rmse: 2956.15\n",
      "[69]\tvalid_0's rmse: 2941.8\n",
      "[70]\tvalid_0's rmse: 2927.38\n",
      "[71]\tvalid_0's rmse: 2913.27\n",
      "[72]\tvalid_0's rmse: 2899.36\n",
      "[73]\tvalid_0's rmse: 2885.31\n",
      "[74]\tvalid_0's rmse: 2871.88\n",
      "[75]\tvalid_0's rmse: 2858.2\n",
      "[76]\tvalid_0's rmse: 2844.8\n",
      "[77]\tvalid_0's rmse: 2831.82\n",
      "[78]\tvalid_0's rmse: 2818.65\n",
      "[79]\tvalid_0's rmse: 2806.14\n",
      "[80]\tvalid_0's rmse: 2793.36\n",
      "[81]\tvalid_0's rmse: 2781.03\n",
      "[82]\tvalid_0's rmse: 2768.35\n",
      "[83]\tvalid_0's rmse: 2755.81\n",
      "[84]\tvalid_0's rmse: 2743.95\n",
      "[85]\tvalid_0's rmse: 2731.78\n",
      "[86]\tvalid_0's rmse: 2719.8\n",
      "[87]\tvalid_0's rmse: 2707.93\n",
      "[88]\tvalid_0's rmse: 2696.27\n",
      "[89]\tvalid_0's rmse: 2684.91\n",
      "[90]\tvalid_0's rmse: 2673.57\n",
      "[91]\tvalid_0's rmse: 2662.43\n",
      "[92]\tvalid_0's rmse: 2651.6\n",
      "[93]\tvalid_0's rmse: 2640.7\n",
      "[94]\tvalid_0's rmse: 2629.98\n",
      "[95]\tvalid_0's rmse: 2619.51\n",
      "[96]\tvalid_0's rmse: 2609\n",
      "[97]\tvalid_0's rmse: 2598.46\n",
      "[98]\tvalid_0's rmse: 2588.08\n",
      "[99]\tvalid_0's rmse: 2578.01\n",
      "[100]\tvalid_0's rmse: 2568.14\n",
      "[101]\tvalid_0's rmse: 2558.11\n",
      "[102]\tvalid_0's rmse: 2548.31\n",
      "[103]\tvalid_0's rmse: 2538.74\n",
      "[104]\tvalid_0's rmse: 2529.26\n",
      "[105]\tvalid_0's rmse: 2519.79\n",
      "[106]\tvalid_0's rmse: 2510.38\n",
      "[107]\tvalid_0's rmse: 2501.17\n",
      "[108]\tvalid_0's rmse: 2492.14\n",
      "[109]\tvalid_0's rmse: 2483.1\n",
      "[110]\tvalid_0's rmse: 2474.26\n",
      "[111]\tvalid_0's rmse: 2465.46\n",
      "[112]\tvalid_0's rmse: 2456.83\n",
      "[113]\tvalid_0's rmse: 2448.18\n",
      "[114]\tvalid_0's rmse: 2439.79\n",
      "[115]\tvalid_0's rmse: 2431.51\n",
      "[116]\tvalid_0's rmse: 2423.29\n",
      "[117]\tvalid_0's rmse: 2415.23\n",
      "[118]\tvalid_0's rmse: 2407.29\n",
      "[119]\tvalid_0's rmse: 2399.38\n",
      "[120]\tvalid_0's rmse: 2391.66\n",
      "[121]\tvalid_0's rmse: 2383.94\n",
      "[122]\tvalid_0's rmse: 2376.35\n",
      "[123]\tvalid_0's rmse: 2368.9\n",
      "[124]\tvalid_0's rmse: 2361.41\n",
      "[125]\tvalid_0's rmse: 2354.14\n",
      "[126]\tvalid_0's rmse: 2346.94\n",
      "[127]\tvalid_0's rmse: 2339.88\n",
      "[128]\tvalid_0's rmse: 2332.78\n",
      "[129]\tvalid_0's rmse: 2325.9\n",
      "[130]\tvalid_0's rmse: 2318.94\n",
      "[131]\tvalid_0's rmse: 2312.2\n",
      "[132]\tvalid_0's rmse: 2305.42\n",
      "[133]\tvalid_0's rmse: 2298.83\n",
      "[134]\tvalid_0's rmse: 2292.4\n",
      "[135]\tvalid_0's rmse: 2286.01\n",
      "[136]\tvalid_0's rmse: 2279.59\n",
      "[137]\tvalid_0's rmse: 2273.26\n",
      "[138]\tvalid_0's rmse: 2266.99\n",
      "[139]\tvalid_0's rmse: 2260.82\n",
      "[140]\tvalid_0's rmse: 2254.72\n",
      "[141]\tvalid_0's rmse: 2248.72\n",
      "[142]\tvalid_0's rmse: 2242.75\n",
      "[143]\tvalid_0's rmse: 2236.9\n",
      "[144]\tvalid_0's rmse: 2231.13\n",
      "[145]\tvalid_0's rmse: 2225.49\n",
      "[146]\tvalid_0's rmse: 2219.93\n",
      "[147]\tvalid_0's rmse: 2214.38\n",
      "[148]\tvalid_0's rmse: 2208.81\n",
      "[149]\tvalid_0's rmse: 2203.46\n",
      "[150]\tvalid_0's rmse: 2198.11\n",
      "[151]\tvalid_0's rmse: 2192.88\n",
      "[152]\tvalid_0's rmse: 2187.65\n",
      "[153]\tvalid_0's rmse: 2182.52\n",
      "[154]\tvalid_0's rmse: 2177.55\n",
      "[155]\tvalid_0's rmse: 2172.59\n",
      "[156]\tvalid_0's rmse: 2167.7\n",
      "[157]\tvalid_0's rmse: 2162.89\n",
      "[158]\tvalid_0's rmse: 2158.11\n",
      "[159]\tvalid_0's rmse: 2153.15\n",
      "[160]\tvalid_0's rmse: 2148.48\n",
      "[161]\tvalid_0's rmse: 2143.86\n",
      "[162]\tvalid_0's rmse: 2139.16\n",
      "[163]\tvalid_0's rmse: 2134.72\n",
      "[164]\tvalid_0's rmse: 2130.29\n",
      "[165]\tvalid_0's rmse: 2126.05\n",
      "[166]\tvalid_0's rmse: 2121.71\n",
      "[167]\tvalid_0's rmse: 2117.48\n",
      "[168]\tvalid_0's rmse: 2113.26\n",
      "[169]\tvalid_0's rmse: 2109.14\n",
      "[170]\tvalid_0's rmse: 2105.09\n",
      "[171]\tvalid_0's rmse: 2101.06\n",
      "[172]\tvalid_0's rmse: 2096.94\n",
      "[173]\tvalid_0's rmse: 2092.96\n",
      "[174]\tvalid_0's rmse: 2089.04\n",
      "[175]\tvalid_0's rmse: 2085.13\n",
      "[176]\tvalid_0's rmse: 2081.19\n",
      "[177]\tvalid_0's rmse: 2077.37\n",
      "[178]\tvalid_0's rmse: 2073.72\n",
      "[179]\tvalid_0's rmse: 2069.95\n",
      "[180]\tvalid_0's rmse: 2066.33\n",
      "[181]\tvalid_0's rmse: 2062.73\n",
      "[182]\tvalid_0's rmse: 2059.06\n",
      "[183]\tvalid_0's rmse: 2055.59\n",
      "[184]\tvalid_0's rmse: 2052.12\n",
      "[185]\tvalid_0's rmse: 2048.52\n",
      "[186]\tvalid_0's rmse: 2045.12\n",
      "[187]\tvalid_0's rmse: 2041.67\n",
      "[188]\tvalid_0's rmse: 2038.3\n",
      "[189]\tvalid_0's rmse: 2035.05\n",
      "[190]\tvalid_0's rmse: 2031.75\n",
      "[191]\tvalid_0's rmse: 2028.54\n",
      "[192]\tvalid_0's rmse: 2025.36\n",
      "[193]\tvalid_0's rmse: 2022.19\n",
      "[194]\tvalid_0's rmse: 2019.02\n",
      "[195]\tvalid_0's rmse: 2016.01\n",
      "[196]\tvalid_0's rmse: 2012.99\n",
      "[197]\tvalid_0's rmse: 2009.91\n",
      "[198]\tvalid_0's rmse: 2007.04\n",
      "[199]\tvalid_0's rmse: 2004.04\n",
      "[200]\tvalid_0's rmse: 2001.1\n",
      "[201]\tvalid_0's rmse: 1998.21\n",
      "[202]\tvalid_0's rmse: 1995.31\n",
      "[203]\tvalid_0's rmse: 1992.59\n",
      "[204]\tvalid_0's rmse: 1989.76\n",
      "[205]\tvalid_0's rmse: 1986.99\n",
      "[206]\tvalid_0's rmse: 1984.17\n",
      "[207]\tvalid_0's rmse: 1981.55\n",
      "[208]\tvalid_0's rmse: 1978.83\n",
      "[209]\tvalid_0's rmse: 1976.34\n",
      "[210]\tvalid_0's rmse: 1973.67\n",
      "[211]\tvalid_0's rmse: 1971.16\n",
      "[212]\tvalid_0's rmse: 1968.59\n",
      "[213]\tvalid_0's rmse: 1966.04\n",
      "[214]\tvalid_0's rmse: 1963.73\n",
      "[215]\tvalid_0's rmse: 1961.16\n",
      "[216]\tvalid_0's rmse: 1958.7\n",
      "[217]\tvalid_0's rmse: 1956.29\n",
      "[218]\tvalid_0's rmse: 1953.98\n",
      "[219]\tvalid_0's rmse: 1951.64\n",
      "[220]\tvalid_0's rmse: 1949.32\n",
      "[221]\tvalid_0's rmse: 1947.05\n",
      "[222]\tvalid_0's rmse: 1944.88\n",
      "[223]\tvalid_0's rmse: 1942.66\n",
      "[224]\tvalid_0's rmse: 1940.34\n",
      "[225]\tvalid_0's rmse: 1938.17\n",
      "[226]\tvalid_0's rmse: 1936.02\n",
      "[227]\tvalid_0's rmse: 1933.79\n",
      "[228]\tvalid_0's rmse: 1931.6\n",
      "[229]\tvalid_0's rmse: 1929.49\n",
      "[230]\tvalid_0's rmse: 1927.43\n",
      "[231]\tvalid_0's rmse: 1925.4\n",
      "[232]\tvalid_0's rmse: 1923.32\n",
      "[233]\tvalid_0's rmse: 1921.37\n",
      "[234]\tvalid_0's rmse: 1919.36\n",
      "[235]\tvalid_0's rmse: 1917.37\n",
      "[236]\tvalid_0's rmse: 1915.41\n",
      "[237]\tvalid_0's rmse: 1913.53\n",
      "[238]\tvalid_0's rmse: 1911.67\n",
      "[239]\tvalid_0's rmse: 1909.88\n",
      "[240]\tvalid_0's rmse: 1907.99\n",
      "[241]\tvalid_0's rmse: 1906.23\n",
      "[242]\tvalid_0's rmse: 1904.46\n",
      "[243]\tvalid_0's rmse: 1902.72\n",
      "[244]\tvalid_0's rmse: 1901.01\n",
      "[245]\tvalid_0's rmse: 1899.33\n",
      "[246]\tvalid_0's rmse: 1897.64\n",
      "[247]\tvalid_0's rmse: 1895.95\n",
      "[248]\tvalid_0's rmse: 1894.24\n",
      "[249]\tvalid_0's rmse: 1892.5\n",
      "[250]\tvalid_0's rmse: 1890.86\n",
      "[251]\tvalid_0's rmse: 1889.29\n",
      "[252]\tvalid_0's rmse: 1887.69\n",
      "[253]\tvalid_0's rmse: 1886.14\n",
      "[254]\tvalid_0's rmse: 1884.66\n",
      "[255]\tvalid_0's rmse: 1883.12\n",
      "[256]\tvalid_0's rmse: 1881.62\n",
      "[257]\tvalid_0's rmse: 1880.11\n",
      "[258]\tvalid_0's rmse: 1878.71\n",
      "[259]\tvalid_0's rmse: 1877.27\n",
      "[260]\tvalid_0's rmse: 1875.81\n",
      "[261]\tvalid_0's rmse: 1874.43\n",
      "[262]\tvalid_0's rmse: 1873\n",
      "[263]\tvalid_0's rmse: 1871.54\n",
      "[264]\tvalid_0's rmse: 1870.23\n",
      "[265]\tvalid_0's rmse: 1868.84\n",
      "[266]\tvalid_0's rmse: 1867.55\n",
      "[267]\tvalid_0's rmse: 1866.11\n",
      "[268]\tvalid_0's rmse: 1864.76\n",
      "[269]\tvalid_0's rmse: 1863.48\n",
      "[270]\tvalid_0's rmse: 1862.11\n",
      "[271]\tvalid_0's rmse: 1860.92\n",
      "[272]\tvalid_0's rmse: 1859.65\n",
      "[273]\tvalid_0's rmse: 1858.45\n",
      "[274]\tvalid_0's rmse: 1857.15\n",
      "[275]\tvalid_0's rmse: 1855.91\n",
      "[276]\tvalid_0's rmse: 1854.7\n",
      "[277]\tvalid_0's rmse: 1853.54\n",
      "[278]\tvalid_0's rmse: 1852.38\n",
      "[279]\tvalid_0's rmse: 1851.23\n",
      "[280]\tvalid_0's rmse: 1849.99\n",
      "[281]\tvalid_0's rmse: 1848.8\n",
      "[282]\tvalid_0's rmse: 1847.73\n",
      "[283]\tvalid_0's rmse: 1846.59\n",
      "[284]\tvalid_0's rmse: 1845.42\n",
      "[285]\tvalid_0's rmse: 1844.24\n",
      "[286]\tvalid_0's rmse: 1843.14\n",
      "[287]\tvalid_0's rmse: 1842.11\n",
      "[288]\tvalid_0's rmse: 1841.01\n",
      "[289]\tvalid_0's rmse: 1839.95\n",
      "[290]\tvalid_0's rmse: 1838.92\n",
      "[291]\tvalid_0's rmse: 1837.89\n",
      "[292]\tvalid_0's rmse: 1836.66\n",
      "[293]\tvalid_0's rmse: 1835.62\n",
      "[294]\tvalid_0's rmse: 1834.66\n",
      "[295]\tvalid_0's rmse: 1833.64\n",
      "[296]\tvalid_0's rmse: 1832.46\n",
      "[297]\tvalid_0's rmse: 1831.52\n",
      "[298]\tvalid_0's rmse: 1830.53\n",
      "[299]\tvalid_0's rmse: 1829.54\n",
      "[300]\tvalid_0's rmse: 1828.41\n",
      "[301]\tvalid_0's rmse: 1827.48\n",
      "[302]\tvalid_0's rmse: 1826.53\n",
      "[303]\tvalid_0's rmse: 1825.62\n",
      "[304]\tvalid_0's rmse: 1824.7\n",
      "[305]\tvalid_0's rmse: 1823.8\n",
      "[306]\tvalid_0's rmse: 1822.91\n",
      "[307]\tvalid_0's rmse: 1821.93\n",
      "[308]\tvalid_0's rmse: 1821.06\n",
      "[309]\tvalid_0's rmse: 1820.04\n",
      "[310]\tvalid_0's rmse: 1819.14\n",
      "[311]\tvalid_0's rmse: 1818.27\n",
      "[312]\tvalid_0's rmse: 1817.37\n",
      "[313]\tvalid_0's rmse: 1816.57\n",
      "[314]\tvalid_0's rmse: 1815.54\n",
      "[315]\tvalid_0's rmse: 1814.58\n",
      "[316]\tvalid_0's rmse: 1813.76\n",
      "[317]\tvalid_0's rmse: 1812.92\n",
      "[318]\tvalid_0's rmse: 1812.13\n",
      "[319]\tvalid_0's rmse: 1811.14\n",
      "[320]\tvalid_0's rmse: 1810.36\n",
      "[321]\tvalid_0's rmse: 1809.48\n",
      "[322]\tvalid_0's rmse: 1808.7\n",
      "[323]\tvalid_0's rmse: 1807.76\n",
      "[324]\tvalid_0's rmse: 1806.97\n",
      "[325]\tvalid_0's rmse: 1806.16\n",
      "[326]\tvalid_0's rmse: 1805.41\n",
      "[327]\tvalid_0's rmse: 1804.62\n",
      "[328]\tvalid_0's rmse: 1803.75\n",
      "[329]\tvalid_0's rmse: 1803.02\n",
      "[330]\tvalid_0's rmse: 1802.25\n",
      "[331]\tvalid_0's rmse: 1801.55\n",
      "[332]\tvalid_0's rmse: 1800.81\n",
      "[333]\tvalid_0's rmse: 1800.04\n",
      "[334]\tvalid_0's rmse: 1799.3\n",
      "[335]\tvalid_0's rmse: 1798.67\n",
      "[336]\tvalid_0's rmse: 1797.97\n",
      "[337]\tvalid_0's rmse: 1797.28\n",
      "[338]\tvalid_0's rmse: 1796.62\n",
      "[339]\tvalid_0's rmse: 1795.94\n",
      "[340]\tvalid_0's rmse: 1795.1\n",
      "[341]\tvalid_0's rmse: 1794.43\n",
      "[342]\tvalid_0's rmse: 1793.78\n",
      "[343]\tvalid_0's rmse: 1793.08\n",
      "[344]\tvalid_0's rmse: 1792.5\n",
      "[345]\tvalid_0's rmse: 1791.86\n",
      "[346]\tvalid_0's rmse: 1791.1\n",
      "[347]\tvalid_0's rmse: 1790.51\n",
      "[348]\tvalid_0's rmse: 1789.9\n",
      "[349]\tvalid_0's rmse: 1789.29\n",
      "[350]\tvalid_0's rmse: 1788.7\n",
      "[351]\tvalid_0's rmse: 1787.99\n",
      "[352]\tvalid_0's rmse: 1787.4\n",
      "[353]\tvalid_0's rmse: 1786.82\n",
      "[354]\tvalid_0's rmse: 1786.33\n",
      "[355]\tvalid_0's rmse: 1785.71\n",
      "[356]\tvalid_0's rmse: 1785.01\n",
      "[357]\tvalid_0's rmse: 1784.54\n",
      "[358]\tvalid_0's rmse: 1784\n",
      "[359]\tvalid_0's rmse: 1783.31\n",
      "[360]\tvalid_0's rmse: 1782.66\n",
      "[361]\tvalid_0's rmse: 1782.12\n",
      "[362]\tvalid_0's rmse: 1781.56\n",
      "[363]\tvalid_0's rmse: 1781\n",
      "[364]\tvalid_0's rmse: 1780.38\n",
      "[365]\tvalid_0's rmse: 1779.88\n",
      "[366]\tvalid_0's rmse: 1779.37\n",
      "[367]\tvalid_0's rmse: 1778.72\n",
      "[368]\tvalid_0's rmse: 1778.13\n",
      "[369]\tvalid_0's rmse: 1777.66\n",
      "[370]\tvalid_0's rmse: 1777.05\n",
      "[371]\tvalid_0's rmse: 1776.57\n",
      "[372]\tvalid_0's rmse: 1776.12\n",
      "[373]\tvalid_0's rmse: 1775.52\n",
      "[374]\tvalid_0's rmse: 1774.95\n",
      "[375]\tvalid_0's rmse: 1774.53\n",
      "[376]\tvalid_0's rmse: 1774.05\n",
      "[377]\tvalid_0's rmse: 1773.52\n",
      "[378]\tvalid_0's rmse: 1772.96\n",
      "[379]\tvalid_0's rmse: 1772.46\n",
      "[380]\tvalid_0's rmse: 1771.97\n",
      "[381]\tvalid_0's rmse: 1771.55\n",
      "[382]\tvalid_0's rmse: 1771.06\n",
      "[383]\tvalid_0's rmse: 1770.59\n",
      "[384]\tvalid_0's rmse: 1770.17\n",
      "[385]\tvalid_0's rmse: 1769.68\n",
      "[386]\tvalid_0's rmse: 1769.25\n",
      "[387]\tvalid_0's rmse: 1768.79\n",
      "[388]\tvalid_0's rmse: 1768.37\n",
      "[389]\tvalid_0's rmse: 1767.97\n",
      "[390]\tvalid_0's rmse: 1767.45\n",
      "[391]\tvalid_0's rmse: 1767.06\n",
      "[392]\tvalid_0's rmse: 1766.55\n",
      "[393]\tvalid_0's rmse: 1766.17\n",
      "[394]\tvalid_0's rmse: 1765.72\n",
      "[395]\tvalid_0's rmse: 1765.27\n",
      "[396]\tvalid_0's rmse: 1764.91\n",
      "[397]\tvalid_0's rmse: 1764.47\n",
      "[398]\tvalid_0's rmse: 1764.04\n",
      "[399]\tvalid_0's rmse: 1763.61\n",
      "[400]\tvalid_0's rmse: 1763.26\n",
      "[401]\tvalid_0's rmse: 1762.82\n",
      "[402]\tvalid_0's rmse: 1762.47\n",
      "[403]\tvalid_0's rmse: 1762.03\n",
      "[404]\tvalid_0's rmse: 1761.61\n",
      "[405]\tvalid_0's rmse: 1761.24\n",
      "[406]\tvalid_0's rmse: 1760.82\n",
      "[407]\tvalid_0's rmse: 1760.42\n",
      "[408]\tvalid_0's rmse: 1760.08\n",
      "[409]\tvalid_0's rmse: 1759.69\n",
      "[410]\tvalid_0's rmse: 1759.28\n",
      "[411]\tvalid_0's rmse: 1758.85\n",
      "[412]\tvalid_0's rmse: 1758.45\n",
      "[413]\tvalid_0's rmse: 1758.15\n",
      "[414]\tvalid_0's rmse: 1757.77\n",
      "[415]\tvalid_0's rmse: 1757.46\n",
      "[416]\tvalid_0's rmse: 1757.09\n",
      "[417]\tvalid_0's rmse: 1756.79\n",
      "[418]\tvalid_0's rmse: 1756.4\n",
      "[419]\tvalid_0's rmse: 1756.01\n",
      "[420]\tvalid_0's rmse: 1755.6\n",
      "[421]\tvalid_0's rmse: 1755.26\n",
      "[422]\tvalid_0's rmse: 1754.98\n",
      "[423]\tvalid_0's rmse: 1754.63\n",
      "[424]\tvalid_0's rmse: 1754.26\n",
      "[425]\tvalid_0's rmse: 1753.97\n",
      "[426]\tvalid_0's rmse: 1753.67\n",
      "[427]\tvalid_0's rmse: 1753.3\n",
      "[428]\tvalid_0's rmse: 1753.01\n",
      "[429]\tvalid_0's rmse: 1752.62\n",
      "[430]\tvalid_0's rmse: 1752.25\n",
      "[431]\tvalid_0's rmse: 1751.89\n",
      "[432]\tvalid_0's rmse: 1751.47\n",
      "[433]\tvalid_0's rmse: 1751.21\n",
      "[434]\tvalid_0's rmse: 1750.88\n",
      "[435]\tvalid_0's rmse: 1750.53\n",
      "[436]\tvalid_0's rmse: 1750.24\n",
      "[437]\tvalid_0's rmse: 1749.99\n",
      "[438]\tvalid_0's rmse: 1749.7\n",
      "[439]\tvalid_0's rmse: 1749.45\n",
      "[440]\tvalid_0's rmse: 1749.2\n",
      "[441]\tvalid_0's rmse: 1748.87\n",
      "[442]\tvalid_0's rmse: 1748.66\n",
      "[443]\tvalid_0's rmse: 1748.39\n",
      "[444]\tvalid_0's rmse: 1748.15\n",
      "[445]\tvalid_0's rmse: 1747.9\n",
      "[446]\tvalid_0's rmse: 1747.58\n",
      "[447]\tvalid_0's rmse: 1747.33\n",
      "[448]\tvalid_0's rmse: 1747.04\n",
      "[449]\tvalid_0's rmse: 1746.83\n",
      "[450]\tvalid_0's rmse: 1746.52\n",
      "[451]\tvalid_0's rmse: 1746.27\n",
      "[452]\tvalid_0's rmse: 1746.06\n",
      "[453]\tvalid_0's rmse: 1745.86\n",
      "[454]\tvalid_0's rmse: 1745.61\n",
      "[455]\tvalid_0's rmse: 1745.4\n",
      "[456]\tvalid_0's rmse: 1745.1\n",
      "[457]\tvalid_0's rmse: 1744.87\n",
      "[458]\tvalid_0's rmse: 1744.66\n",
      "[459]\tvalid_0's rmse: 1744.39\n",
      "[460]\tvalid_0's rmse: 1744.2\n",
      "[461]\tvalid_0's rmse: 1743.97\n",
      "[462]\tvalid_0's rmse: 1743.77\n",
      "[463]\tvalid_0's rmse: 1743.57\n",
      "[464]\tvalid_0's rmse: 1743.38\n",
      "[465]\tvalid_0's rmse: 1743.1\n",
      "[466]\tvalid_0's rmse: 1742.9\n",
      "[467]\tvalid_0's rmse: 1742.72\n",
      "[468]\tvalid_0's rmse: 1742.54\n",
      "[469]\tvalid_0's rmse: 1742.28\n",
      "[470]\tvalid_0's rmse: 1742.02\n",
      "[471]\tvalid_0's rmse: 1741.81\n",
      "[472]\tvalid_0's rmse: 1741.55\n",
      "[473]\tvalid_0's rmse: 1741.32\n",
      "[474]\tvalid_0's rmse: 1741.15\n",
      "[475]\tvalid_0's rmse: 1740.95\n",
      "[476]\tvalid_0's rmse: 1740.7\n",
      "[477]\tvalid_0's rmse: 1740.48\n",
      "[478]\tvalid_0's rmse: 1740.23\n",
      "[479]\tvalid_0's rmse: 1740.01\n",
      "[480]\tvalid_0's rmse: 1739.79\n",
      "[481]\tvalid_0's rmse: 1739.63\n",
      "[482]\tvalid_0's rmse: 1739.41\n",
      "[483]\tvalid_0's rmse: 1739.22\n",
      "[484]\tvalid_0's rmse: 1738.98\n",
      "[485]\tvalid_0's rmse: 1738.8\n",
      "[486]\tvalid_0's rmse: 1738.62\n",
      "[487]\tvalid_0's rmse: 1738.43\n",
      "[488]\tvalid_0's rmse: 1738.23\n",
      "[489]\tvalid_0's rmse: 1738.01\n",
      "[490]\tvalid_0's rmse: 1737.79\n",
      "[491]\tvalid_0's rmse: 1737.61\n",
      "[492]\tvalid_0's rmse: 1737.38\n",
      "[493]\tvalid_0's rmse: 1737.19\n",
      "[494]\tvalid_0's rmse: 1737.01\n",
      "[495]\tvalid_0's rmse: 1736.86\n",
      "[496]\tvalid_0's rmse: 1736.7\n",
      "[497]\tvalid_0's rmse: 1736.47\n",
      "[498]\tvalid_0's rmse: 1736.34\n",
      "[499]\tvalid_0's rmse: 1736.16\n",
      "[500]\tvalid_0's rmse: 1735.98\n",
      "[501]\tvalid_0's rmse: 1735.78\n",
      "[502]\tvalid_0's rmse: 1735.65\n",
      "[503]\tvalid_0's rmse: 1735.48\n",
      "[504]\tvalid_0's rmse: 1735.32\n",
      "[505]\tvalid_0's rmse: 1735.11\n",
      "[506]\tvalid_0's rmse: 1734.95\n",
      "[507]\tvalid_0's rmse: 1734.79\n",
      "[508]\tvalid_0's rmse: 1734.69\n",
      "[509]\tvalid_0's rmse: 1734.54\n",
      "[510]\tvalid_0's rmse: 1734.42\n",
      "[511]\tvalid_0's rmse: 1734.23\n",
      "[512]\tvalid_0's rmse: 1734.12\n",
      "[513]\tvalid_0's rmse: 1733.96\n",
      "[514]\tvalid_0's rmse: 1733.82\n",
      "[515]\tvalid_0's rmse: 1733.72\n",
      "[516]\tvalid_0's rmse: 1733.57\n",
      "[517]\tvalid_0's rmse: 1733.38\n",
      "[518]\tvalid_0's rmse: 1733.19\n",
      "[519]\tvalid_0's rmse: 1733.05\n",
      "[520]\tvalid_0's rmse: 1732.96\n",
      "[521]\tvalid_0's rmse: 1732.78\n",
      "[522]\tvalid_0's rmse: 1732.57\n",
      "[523]\tvalid_0's rmse: 1732.44\n",
      "[524]\tvalid_0's rmse: 1732.26\n",
      "[525]\tvalid_0's rmse: 1732.05\n",
      "[526]\tvalid_0's rmse: 1731.95\n",
      "[527]\tvalid_0's rmse: 1731.75\n",
      "[528]\tvalid_0's rmse: 1731.56\n",
      "[529]\tvalid_0's rmse: 1731.47\n",
      "[530]\tvalid_0's rmse: 1731.26\n",
      "[531]\tvalid_0's rmse: 1731.12\n",
      "[532]\tvalid_0's rmse: 1731.02\n",
      "[533]\tvalid_0's rmse: 1730.9\n",
      "[534]\tvalid_0's rmse: 1730.73\n",
      "[535]\tvalid_0's rmse: 1730.62\n",
      "[536]\tvalid_0's rmse: 1730.44\n",
      "[537]\tvalid_0's rmse: 1730.26\n",
      "[538]\tvalid_0's rmse: 1730.17\n",
      "[539]\tvalid_0's rmse: 1729.99\n",
      "[540]\tvalid_0's rmse: 1729.91\n",
      "[541]\tvalid_0's rmse: 1729.77\n",
      "[542]\tvalid_0's rmse: 1729.6\n",
      "[543]\tvalid_0's rmse: 1729.42\n",
      "[544]\tvalid_0's rmse: 1729.31\n",
      "[545]\tvalid_0's rmse: 1729.22\n",
      "[546]\tvalid_0's rmse: 1729.04\n",
      "[547]\tvalid_0's rmse: 1728.87\n",
      "[548]\tvalid_0's rmse: 1728.78\n",
      "[549]\tvalid_0's rmse: 1728.69\n",
      "[550]\tvalid_0's rmse: 1728.55\n",
      "[551]\tvalid_0's rmse: 1728.38\n",
      "[552]\tvalid_0's rmse: 1728.23\n",
      "[553]\tvalid_0's rmse: 1728.13\n",
      "[554]\tvalid_0's rmse: 1727.97\n",
      "[555]\tvalid_0's rmse: 1727.8\n",
      "[556]\tvalid_0's rmse: 1727.71\n",
      "[557]\tvalid_0's rmse: 1727.62\n",
      "[558]\tvalid_0's rmse: 1727.52\n",
      "[559]\tvalid_0's rmse: 1727.37\n",
      "[560]\tvalid_0's rmse: 1727.21\n",
      "[561]\tvalid_0's rmse: 1727.05\n",
      "[562]\tvalid_0's rmse: 1726.91\n",
      "[563]\tvalid_0's rmse: 1726.8\n",
      "[564]\tvalid_0's rmse: 1726.61\n",
      "[565]\tvalid_0's rmse: 1726.51\n",
      "[566]\tvalid_0's rmse: 1726.36\n",
      "[567]\tvalid_0's rmse: 1726.27\n",
      "[568]\tvalid_0's rmse: 1726.14\n",
      "[569]\tvalid_0's rmse: 1726.04\n",
      "[570]\tvalid_0's rmse: 1725.96\n",
      "[571]\tvalid_0's rmse: 1725.82\n",
      "[572]\tvalid_0's rmse: 1725.67\n",
      "[573]\tvalid_0's rmse: 1725.52\n",
      "[574]\tvalid_0's rmse: 1725.46\n",
      "[575]\tvalid_0's rmse: 1725.32\n",
      "[576]\tvalid_0's rmse: 1725.16\n",
      "[577]\tvalid_0's rmse: 1725.09\n",
      "[578]\tvalid_0's rmse: 1724.96\n",
      "[579]\tvalid_0's rmse: 1724.86\n",
      "[580]\tvalid_0's rmse: 1724.74\n",
      "[581]\tvalid_0's rmse: 1724.62\n",
      "[582]\tvalid_0's rmse: 1724.55\n",
      "[583]\tvalid_0's rmse: 1724.41\n",
      "[584]\tvalid_0's rmse: 1724.28\n",
      "[585]\tvalid_0's rmse: 1724.07\n",
      "[586]\tvalid_0's rmse: 1723.93\n",
      "[587]\tvalid_0's rmse: 1723.86\n",
      "[588]\tvalid_0's rmse: 1723.78\n",
      "[589]\tvalid_0's rmse: 1723.67\n",
      "[590]\tvalid_0's rmse: 1723.51\n",
      "[591]\tvalid_0's rmse: 1723.43\n",
      "[592]\tvalid_0's rmse: 1723.23\n",
      "[593]\tvalid_0's rmse: 1723.07\n",
      "[594]\tvalid_0's rmse: 1722.95\n",
      "[595]\tvalid_0's rmse: 1722.82\n",
      "[596]\tvalid_0's rmse: 1722.69\n",
      "[597]\tvalid_0's rmse: 1722.59\n",
      "[598]\tvalid_0's rmse: 1722.42\n",
      "[599]\tvalid_0's rmse: 1722.33\n",
      "[600]\tvalid_0's rmse: 1722.17\n",
      "[601]\tvalid_0's rmse: 1722.11\n",
      "[602]\tvalid_0's rmse: 1721.96\n",
      "[603]\tvalid_0's rmse: 1721.89\n",
      "[604]\tvalid_0's rmse: 1721.69\n",
      "[605]\tvalid_0's rmse: 1721.59\n",
      "[606]\tvalid_0's rmse: 1721.51\n",
      "[607]\tvalid_0's rmse: 1721.45\n",
      "[608]\tvalid_0's rmse: 1721.29\n",
      "[609]\tvalid_0's rmse: 1721.14\n",
      "[610]\tvalid_0's rmse: 1721.04\n",
      "[611]\tvalid_0's rmse: 1720.95\n",
      "[612]\tvalid_0's rmse: 1720.78\n",
      "[613]\tvalid_0's rmse: 1720.71\n",
      "[614]\tvalid_0's rmse: 1720.6\n",
      "[615]\tvalid_0's rmse: 1720.51\n",
      "[616]\tvalid_0's rmse: 1720.34\n",
      "[617]\tvalid_0's rmse: 1720.27\n",
      "[618]\tvalid_0's rmse: 1720.17\n",
      "[619]\tvalid_0's rmse: 1720\n",
      "[620]\tvalid_0's rmse: 1719.87\n",
      "[621]\tvalid_0's rmse: 1719.81\n",
      "[622]\tvalid_0's rmse: 1719.71\n",
      "[623]\tvalid_0's rmse: 1719.53\n",
      "[624]\tvalid_0's rmse: 1719.46\n",
      "[625]\tvalid_0's rmse: 1719.33\n",
      "[626]\tvalid_0's rmse: 1719.18\n",
      "[627]\tvalid_0's rmse: 1719.11\n",
      "[628]\tvalid_0's rmse: 1718.97\n",
      "[629]\tvalid_0's rmse: 1718.84\n",
      "[630]\tvalid_0's rmse: 1718.68\n",
      "[631]\tvalid_0's rmse: 1718.61\n",
      "[632]\tvalid_0's rmse: 1718.49\n",
      "[633]\tvalid_0's rmse: 1718.44\n",
      "[634]\tvalid_0's rmse: 1718.29\n",
      "[635]\tvalid_0's rmse: 1718.22\n",
      "[636]\tvalid_0's rmse: 1718.13\n",
      "[637]\tvalid_0's rmse: 1718.01\n",
      "[638]\tvalid_0's rmse: 1717.93\n",
      "[639]\tvalid_0's rmse: 1717.86\n",
      "[640]\tvalid_0's rmse: 1717.71\n",
      "[641]\tvalid_0's rmse: 1717.57\n",
      "[642]\tvalid_0's rmse: 1717.45\n",
      "[643]\tvalid_0's rmse: 1717.37\n",
      "[644]\tvalid_0's rmse: 1717.31\n",
      "[645]\tvalid_0's rmse: 1717.19\n",
      "[646]\tvalid_0's rmse: 1717.04\n",
      "[647]\tvalid_0's rmse: 1716.91\n",
      "[648]\tvalid_0's rmse: 1716.86\n",
      "[649]\tvalid_0's rmse: 1716.73\n",
      "[650]\tvalid_0's rmse: 1716.56\n",
      "[651]\tvalid_0's rmse: 1716.44\n",
      "[652]\tvalid_0's rmse: 1716.39\n",
      "[653]\tvalid_0's rmse: 1716.23\n",
      "[654]\tvalid_0's rmse: 1716.19\n",
      "[655]\tvalid_0's rmse: 1716.08\n",
      "[656]\tvalid_0's rmse: 1715.97\n",
      "[657]\tvalid_0's rmse: 1715.89\n",
      "[658]\tvalid_0's rmse: 1715.75\n",
      "[659]\tvalid_0's rmse: 1715.61\n",
      "[660]\tvalid_0's rmse: 1715.56\n",
      "[661]\tvalid_0's rmse: 1715.49\n",
      "[662]\tvalid_0's rmse: 1715.36\n",
      "[663]\tvalid_0's rmse: 1715.22\n",
      "[664]\tvalid_0's rmse: 1715.09\n",
      "[665]\tvalid_0's rmse: 1715.01\n",
      "[666]\tvalid_0's rmse: 1714.88\n",
      "[667]\tvalid_0's rmse: 1714.81\n",
      "[668]\tvalid_0's rmse: 1714.71\n",
      "[669]\tvalid_0's rmse: 1714.61\n",
      "[670]\tvalid_0's rmse: 1714.53\n",
      "[671]\tvalid_0's rmse: 1714.38\n",
      "[672]\tvalid_0's rmse: 1714.29\n",
      "[673]\tvalid_0's rmse: 1714.2\n",
      "[674]\tvalid_0's rmse: 1714.17\n",
      "[675]\tvalid_0's rmse: 1714.07\n",
      "[676]\tvalid_0's rmse: 1713.96\n",
      "[677]\tvalid_0's rmse: 1713.87\n",
      "[678]\tvalid_0's rmse: 1713.77\n",
      "[679]\tvalid_0's rmse: 1713.67\n",
      "[680]\tvalid_0's rmse: 1713.61\n",
      "[681]\tvalid_0's rmse: 1713.5\n",
      "[682]\tvalid_0's rmse: 1713.39\n",
      "[683]\tvalid_0's rmse: 1713.32\n",
      "[684]\tvalid_0's rmse: 1713.24\n",
      "[685]\tvalid_0's rmse: 1713.14\n",
      "[686]\tvalid_0's rmse: 1713.06\n",
      "[687]\tvalid_0's rmse: 1712.94\n",
      "[688]\tvalid_0's rmse: 1712.82\n",
      "[689]\tvalid_0's rmse: 1712.75\n",
      "[690]\tvalid_0's rmse: 1712.69\n",
      "[691]\tvalid_0's rmse: 1712.58\n",
      "[692]\tvalid_0's rmse: 1712.46\n",
      "[693]\tvalid_0's rmse: 1712.4\n",
      "[694]\tvalid_0's rmse: 1712.27\n",
      "[695]\tvalid_0's rmse: 1712.24\n",
      "[696]\tvalid_0's rmse: 1712.12\n",
      "[697]\tvalid_0's rmse: 1712.05\n",
      "[698]\tvalid_0's rmse: 1711.92\n",
      "[699]\tvalid_0's rmse: 1711.84\n",
      "[700]\tvalid_0's rmse: 1711.69\n",
      "[701]\tvalid_0's rmse: 1711.58\n",
      "[702]\tvalid_0's rmse: 1711.53\n",
      "[703]\tvalid_0's rmse: 1711.43\n",
      "[704]\tvalid_0's rmse: 1711.32\n",
      "[705]\tvalid_0's rmse: 1711.25\n",
      "[706]\tvalid_0's rmse: 1711.22\n",
      "[707]\tvalid_0's rmse: 1711.09\n",
      "[708]\tvalid_0's rmse: 1711\n",
      "[709]\tvalid_0's rmse: 1710.92\n",
      "[710]\tvalid_0's rmse: 1710.83\n",
      "[711]\tvalid_0's rmse: 1710.7\n",
      "[712]\tvalid_0's rmse: 1710.58\n",
      "[713]\tvalid_0's rmse: 1710.54\n",
      "[714]\tvalid_0's rmse: 1710.44\n",
      "[715]\tvalid_0's rmse: 1710.34\n",
      "[716]\tvalid_0's rmse: 1710.22\n",
      "[717]\tvalid_0's rmse: 1710.13\n",
      "[718]\tvalid_0's rmse: 1710.08\n",
      "[719]\tvalid_0's rmse: 1710.01\n",
      "[720]\tvalid_0's rmse: 1709.93\n",
      "[721]\tvalid_0's rmse: 1709.8\n",
      "[722]\tvalid_0's rmse: 1709.7\n",
      "[723]\tvalid_0's rmse: 1709.55\n",
      "[724]\tvalid_0's rmse: 1709.47\n",
      "[725]\tvalid_0's rmse: 1709.43\n",
      "[726]\tvalid_0's rmse: 1709.29\n",
      "[727]\tvalid_0's rmse: 1709.22\n",
      "[728]\tvalid_0's rmse: 1709.16\n",
      "[729]\tvalid_0's rmse: 1709.05\n",
      "[730]\tvalid_0's rmse: 1708.9\n",
      "[731]\tvalid_0's rmse: 1708.78\n",
      "[732]\tvalid_0's rmse: 1708.64\n",
      "[733]\tvalid_0's rmse: 1708.58\n",
      "[734]\tvalid_0's rmse: 1708.51\n",
      "[735]\tvalid_0's rmse: 1708.4\n",
      "[736]\tvalid_0's rmse: 1708.36\n",
      "[737]\tvalid_0's rmse: 1708.32\n",
      "[738]\tvalid_0's rmse: 1708.24\n",
      "[739]\tvalid_0's rmse: 1708.18\n",
      "[740]\tvalid_0's rmse: 1708.05\n",
      "[741]\tvalid_0's rmse: 1707.92\n",
      "[742]\tvalid_0's rmse: 1707.88\n",
      "[743]\tvalid_0's rmse: 1707.8\n",
      "[744]\tvalid_0's rmse: 1707.74\n",
      "[745]\tvalid_0's rmse: 1707.68\n",
      "[746]\tvalid_0's rmse: 1707.5\n",
      "[747]\tvalid_0's rmse: 1707.45\n",
      "[748]\tvalid_0's rmse: 1707.33\n",
      "[749]\tvalid_0's rmse: 1707.2\n",
      "[750]\tvalid_0's rmse: 1707.13\n",
      "[751]\tvalid_0's rmse: 1707.06\n",
      "[752]\tvalid_0's rmse: 1707\n",
      "[753]\tvalid_0's rmse: 1706.95\n",
      "[754]\tvalid_0's rmse: 1706.87\n",
      "[755]\tvalid_0's rmse: 1706.69\n",
      "[756]\tvalid_0's rmse: 1706.63\n",
      "[757]\tvalid_0's rmse: 1706.52\n",
      "[758]\tvalid_0's rmse: 1706.4\n",
      "[759]\tvalid_0's rmse: 1706.35\n",
      "[760]\tvalid_0's rmse: 1706.28\n",
      "[761]\tvalid_0's rmse: 1706.24\n",
      "[762]\tvalid_0's rmse: 1706.08\n",
      "[763]\tvalid_0's rmse: 1705.98\n",
      "[764]\tvalid_0's rmse: 1705.93\n",
      "[765]\tvalid_0's rmse: 1705.89\n",
      "[766]\tvalid_0's rmse: 1705.79\n",
      "[767]\tvalid_0's rmse: 1705.72\n",
      "[768]\tvalid_0's rmse: 1705.6\n",
      "[769]\tvalid_0's rmse: 1705.5\n",
      "[770]\tvalid_0's rmse: 1705.39\n",
      "[771]\tvalid_0's rmse: 1705.33\n",
      "[772]\tvalid_0's rmse: 1705.22\n",
      "[773]\tvalid_0's rmse: 1705.18\n",
      "[774]\tvalid_0's rmse: 1705.07\n",
      "[775]\tvalid_0's rmse: 1705.05\n",
      "[776]\tvalid_0's rmse: 1704.96\n",
      "[777]\tvalid_0's rmse: 1704.8\n",
      "[778]\tvalid_0's rmse: 1704.76\n",
      "[779]\tvalid_0's rmse: 1704.65\n",
      "[780]\tvalid_0's rmse: 1704.61\n",
      "[781]\tvalid_0's rmse: 1704.51\n",
      "[782]\tvalid_0's rmse: 1704.46\n",
      "[783]\tvalid_0's rmse: 1704.36\n",
      "[784]\tvalid_0's rmse: 1704.3\n",
      "[785]\tvalid_0's rmse: 1704.24\n",
      "[786]\tvalid_0's rmse: 1704.15\n",
      "[787]\tvalid_0's rmse: 1704.01\n",
      "[788]\tvalid_0's rmse: 1703.94\n",
      "[789]\tvalid_0's rmse: 1703.83\n",
      "[790]\tvalid_0's rmse: 1703.75\n",
      "[791]\tvalid_0's rmse: 1703.71\n",
      "[792]\tvalid_0's rmse: 1703.66\n",
      "[793]\tvalid_0's rmse: 1703.56\n",
      "[794]\tvalid_0's rmse: 1703.45\n",
      "[795]\tvalid_0's rmse: 1703.38\n",
      "[796]\tvalid_0's rmse: 1703.33\n",
      "[797]\tvalid_0's rmse: 1703.24\n",
      "[798]\tvalid_0's rmse: 1703.19\n",
      "[799]\tvalid_0's rmse: 1703.11\n",
      "[800]\tvalid_0's rmse: 1703.03\n",
      "[801]\tvalid_0's rmse: 1702.98\n",
      "[802]\tvalid_0's rmse: 1702.95\n",
      "[803]\tvalid_0's rmse: 1702.85\n",
      "[804]\tvalid_0's rmse: 1702.77\n",
      "[805]\tvalid_0's rmse: 1702.73\n",
      "[806]\tvalid_0's rmse: 1702.63\n",
      "[807]\tvalid_0's rmse: 1702.58\n",
      "[808]\tvalid_0's rmse: 1702.54\n",
      "[809]\tvalid_0's rmse: 1702.51\n",
      "[810]\tvalid_0's rmse: 1702.42\n",
      "[811]\tvalid_0's rmse: 1702.36\n",
      "[812]\tvalid_0's rmse: 1702.28\n",
      "[813]\tvalid_0's rmse: 1702.21\n",
      "[814]\tvalid_0's rmse: 1702.16\n",
      "[815]\tvalid_0's rmse: 1702.11\n",
      "[816]\tvalid_0's rmse: 1702\n",
      "[817]\tvalid_0's rmse: 1701.92\n",
      "[818]\tvalid_0's rmse: 1701.84\n",
      "[819]\tvalid_0's rmse: 1701.83\n",
      "[820]\tvalid_0's rmse: 1701.73\n",
      "[821]\tvalid_0's rmse: 1701.69\n",
      "[822]\tvalid_0's rmse: 1701.66\n",
      "[823]\tvalid_0's rmse: 1701.59\n",
      "[824]\tvalid_0's rmse: 1701.51\n",
      "[825]\tvalid_0's rmse: 1701.44\n",
      "[826]\tvalid_0's rmse: 1701.33\n",
      "[827]\tvalid_0's rmse: 1701.25\n",
      "[828]\tvalid_0's rmse: 1701.15\n",
      "[829]\tvalid_0's rmse: 1701.12\n",
      "[830]\tvalid_0's rmse: 1701.04\n",
      "[831]\tvalid_0's rmse: 1700.99\n",
      "[832]\tvalid_0's rmse: 1700.87\n",
      "[833]\tvalid_0's rmse: 1700.82\n",
      "[834]\tvalid_0's rmse: 1700.79\n",
      "[835]\tvalid_0's rmse: 1700.68\n",
      "[836]\tvalid_0's rmse: 1700.58\n",
      "[837]\tvalid_0's rmse: 1700.52\n",
      "[838]\tvalid_0's rmse: 1700.46\n",
      "[839]\tvalid_0's rmse: 1700.37\n",
      "[840]\tvalid_0's rmse: 1700.27\n",
      "[841]\tvalid_0's rmse: 1700.25\n",
      "[842]\tvalid_0's rmse: 1700.18\n",
      "[843]\tvalid_0's rmse: 1700.08\n",
      "[844]\tvalid_0's rmse: 1700.05\n",
      "[845]\tvalid_0's rmse: 1699.91\n",
      "[846]\tvalid_0's rmse: 1699.8\n",
      "[847]\tvalid_0's rmse: 1699.73\n",
      "[848]\tvalid_0's rmse: 1699.68\n",
      "[849]\tvalid_0's rmse: 1699.56\n",
      "[850]\tvalid_0's rmse: 1699.53\n",
      "[851]\tvalid_0's rmse: 1699.44\n",
      "[852]\tvalid_0's rmse: 1699.41\n",
      "[853]\tvalid_0's rmse: 1699.27\n",
      "[854]\tvalid_0's rmse: 1699.21\n",
      "[855]\tvalid_0's rmse: 1699.13\n",
      "[856]\tvalid_0's rmse: 1699.08\n",
      "[857]\tvalid_0's rmse: 1699.03\n",
      "[858]\tvalid_0's rmse: 1698.98\n",
      "[859]\tvalid_0's rmse: 1698.93\n",
      "[860]\tvalid_0's rmse: 1698.85\n",
      "[861]\tvalid_0's rmse: 1698.77\n",
      "[862]\tvalid_0's rmse: 1698.68\n",
      "[863]\tvalid_0's rmse: 1698.61\n",
      "[864]\tvalid_0's rmse: 1698.58\n",
      "[865]\tvalid_0's rmse: 1698.54\n",
      "[866]\tvalid_0's rmse: 1698.44\n",
      "[867]\tvalid_0's rmse: 1698.39\n",
      "[868]\tvalid_0's rmse: 1698.36\n",
      "[869]\tvalid_0's rmse: 1698.28\n",
      "[870]\tvalid_0's rmse: 1698.21\n",
      "[871]\tvalid_0's rmse: 1698.12\n",
      "[872]\tvalid_0's rmse: 1698.11\n",
      "[873]\tvalid_0's rmse: 1698.07\n",
      "[874]\tvalid_0's rmse: 1697.97\n",
      "[875]\tvalid_0's rmse: 1697.94\n",
      "[876]\tvalid_0's rmse: 1697.79\n",
      "[877]\tvalid_0's rmse: 1697.69\n",
      "[878]\tvalid_0's rmse: 1697.63\n",
      "[879]\tvalid_0's rmse: 1697.55\n",
      "[880]\tvalid_0's rmse: 1697.5\n",
      "[881]\tvalid_0's rmse: 1697.46\n",
      "[882]\tvalid_0's rmse: 1697.42\n",
      "[883]\tvalid_0's rmse: 1697.32\n",
      "[884]\tvalid_0's rmse: 1697.21\n",
      "[885]\tvalid_0's rmse: 1697.18\n",
      "[886]\tvalid_0's rmse: 1697.15\n",
      "[887]\tvalid_0's rmse: 1697.1\n",
      "[888]\tvalid_0's rmse: 1697.03\n",
      "[889]\tvalid_0's rmse: 1696.97\n",
      "[890]\tvalid_0's rmse: 1696.88\n",
      "[891]\tvalid_0's rmse: 1696.79\n",
      "[892]\tvalid_0's rmse: 1696.72\n",
      "[893]\tvalid_0's rmse: 1696.64\n",
      "[894]\tvalid_0's rmse: 1696.58\n",
      "[895]\tvalid_0's rmse: 1696.5\n",
      "[896]\tvalid_0's rmse: 1696.45\n",
      "[897]\tvalid_0's rmse: 1696.38\n",
      "[898]\tvalid_0's rmse: 1696.37\n",
      "[899]\tvalid_0's rmse: 1696.3\n",
      "[900]\tvalid_0's rmse: 1696.26\n",
      "[901]\tvalid_0's rmse: 1696.18\n",
      "[902]\tvalid_0's rmse: 1696.13\n",
      "[903]\tvalid_0's rmse: 1696.07\n",
      "[904]\tvalid_0's rmse: 1696\n",
      "[905]\tvalid_0's rmse: 1695.96\n",
      "[906]\tvalid_0's rmse: 1695.94\n",
      "[907]\tvalid_0's rmse: 1695.85\n",
      "[908]\tvalid_0's rmse: 1695.78\n",
      "[909]\tvalid_0's rmse: 1695.73\n",
      "[910]\tvalid_0's rmse: 1695.69\n",
      "[911]\tvalid_0's rmse: 1695.67\n",
      "[912]\tvalid_0's rmse: 1695.61\n",
      "[913]\tvalid_0's rmse: 1695.56\n",
      "[914]\tvalid_0's rmse: 1695.51\n",
      "[915]\tvalid_0's rmse: 1695.44\n",
      "[916]\tvalid_0's rmse: 1695.4\n",
      "[917]\tvalid_0's rmse: 1695.34\n",
      "[918]\tvalid_0's rmse: 1695.27\n",
      "[919]\tvalid_0's rmse: 1695.24\n",
      "[920]\tvalid_0's rmse: 1695.16\n",
      "[921]\tvalid_0's rmse: 1695.08\n",
      "[922]\tvalid_0's rmse: 1695.05\n",
      "[923]\tvalid_0's rmse: 1695\n",
      "[924]\tvalid_0's rmse: 1694.94\n",
      "[925]\tvalid_0's rmse: 1694.87\n",
      "[926]\tvalid_0's rmse: 1694.83\n",
      "[927]\tvalid_0's rmse: 1694.77\n",
      "[928]\tvalid_0's rmse: 1694.68\n",
      "[929]\tvalid_0's rmse: 1694.63\n",
      "[930]\tvalid_0's rmse: 1694.62\n",
      "[931]\tvalid_0's rmse: 1694.55\n",
      "[932]\tvalid_0's rmse: 1694.48\n",
      "[933]\tvalid_0's rmse: 1694.44\n",
      "[934]\tvalid_0's rmse: 1694.38\n",
      "[935]\tvalid_0's rmse: 1694.35\n",
      "[936]\tvalid_0's rmse: 1694.3\n",
      "[937]\tvalid_0's rmse: 1694.23\n",
      "[938]\tvalid_0's rmse: 1694.21\n",
      "[939]\tvalid_0's rmse: 1694.16\n",
      "[940]\tvalid_0's rmse: 1694.11\n",
      "[941]\tvalid_0's rmse: 1694\n",
      "[942]\tvalid_0's rmse: 1693.96\n",
      "[943]\tvalid_0's rmse: 1693.91\n",
      "[944]\tvalid_0's rmse: 1693.84\n",
      "[945]\tvalid_0's rmse: 1693.8\n",
      "[946]\tvalid_0's rmse: 1693.74\n",
      "[947]\tvalid_0's rmse: 1693.71\n",
      "[948]\tvalid_0's rmse: 1693.64\n",
      "[949]\tvalid_0's rmse: 1693.6\n",
      "[950]\tvalid_0's rmse: 1693.58\n",
      "[951]\tvalid_0's rmse: 1693.51\n",
      "[952]\tvalid_0's rmse: 1693.45\n",
      "[953]\tvalid_0's rmse: 1693.37\n",
      "[954]\tvalid_0's rmse: 1693.34\n",
      "[955]\tvalid_0's rmse: 1693.32\n",
      "[956]\tvalid_0's rmse: 1693.3\n",
      "[957]\tvalid_0's rmse: 1693.26\n",
      "[958]\tvalid_0's rmse: 1693.15\n",
      "[959]\tvalid_0's rmse: 1693.11\n",
      "[960]\tvalid_0's rmse: 1693.05\n",
      "[961]\tvalid_0's rmse: 1692.98\n",
      "[962]\tvalid_0's rmse: 1692.97\n",
      "[963]\tvalid_0's rmse: 1692.9\n",
      "[964]\tvalid_0's rmse: 1692.85\n",
      "[965]\tvalid_0's rmse: 1692.81\n",
      "[966]\tvalid_0's rmse: 1692.73\n",
      "[967]\tvalid_0's rmse: 1692.67\n",
      "[968]\tvalid_0's rmse: 1692.59\n",
      "[969]\tvalid_0's rmse: 1692.55\n",
      "[970]\tvalid_0's rmse: 1692.51\n",
      "[971]\tvalid_0's rmse: 1692.44\n",
      "[972]\tvalid_0's rmse: 1692.36\n",
      "[973]\tvalid_0's rmse: 1692.34\n",
      "[974]\tvalid_0's rmse: 1692.29\n",
      "[975]\tvalid_0's rmse: 1692.26\n",
      "[976]\tvalid_0's rmse: 1692.21\n",
      "[977]\tvalid_0's rmse: 1692.15\n",
      "[978]\tvalid_0's rmse: 1692.1\n",
      "[979]\tvalid_0's rmse: 1692.05\n",
      "[980]\tvalid_0's rmse: 1692.02\n",
      "[981]\tvalid_0's rmse: 1692\n",
      "[982]\tvalid_0's rmse: 1691.96\n",
      "[983]\tvalid_0's rmse: 1691.85\n",
      "[984]\tvalid_0's rmse: 1691.76\n",
      "[985]\tvalid_0's rmse: 1691.72\n",
      "[986]\tvalid_0's rmse: 1691.66\n",
      "[987]\tvalid_0's rmse: 1691.64\n",
      "[988]\tvalid_0's rmse: 1691.6\n",
      "[989]\tvalid_0's rmse: 1691.5\n",
      "[990]\tvalid_0's rmse: 1691.42\n",
      "[991]\tvalid_0's rmse: 1691.4\n",
      "[992]\tvalid_0's rmse: 1691.31\n",
      "[993]\tvalid_0's rmse: 1691.3\n",
      "[994]\tvalid_0's rmse: 1691.29\n",
      "[995]\tvalid_0's rmse: 1691.2\n",
      "[996]\tvalid_0's rmse: 1691.19\n",
      "[997]\tvalid_0's rmse: 1691.12\n",
      "[998]\tvalid_0's rmse: 1691.05\n",
      "[999]\tvalid_0's rmse: 1690.99\n",
      "[1000]\tvalid_0's rmse: 1690.95\n",
      "[1001]\tvalid_0's rmse: 1690.86\n",
      "[1002]\tvalid_0's rmse: 1690.83\n",
      "[1003]\tvalid_0's rmse: 1690.76\n",
      "[1004]\tvalid_0's rmse: 1690.72\n",
      "[1005]\tvalid_0's rmse: 1690.69\n",
      "[1006]\tvalid_0's rmse: 1690.65\n",
      "[1007]\tvalid_0's rmse: 1690.63\n",
      "[1008]\tvalid_0's rmse: 1690.58\n",
      "[1009]\tvalid_0's rmse: 1690.53\n",
      "[1010]\tvalid_0's rmse: 1690.52\n",
      "[1011]\tvalid_0's rmse: 1690.45\n",
      "[1012]\tvalid_0's rmse: 1690.4\n",
      "[1013]\tvalid_0's rmse: 1690.38\n",
      "[1014]\tvalid_0's rmse: 1690.32\n",
      "[1015]\tvalid_0's rmse: 1690.26\n",
      "[1016]\tvalid_0's rmse: 1690.2\n",
      "[1017]\tvalid_0's rmse: 1690.12\n",
      "[1018]\tvalid_0's rmse: 1690.07\n",
      "[1019]\tvalid_0's rmse: 1690.07\n",
      "[1020]\tvalid_0's rmse: 1690.03\n",
      "[1021]\tvalid_0's rmse: 1689.98\n",
      "[1022]\tvalid_0's rmse: 1689.95\n",
      "[1023]\tvalid_0's rmse: 1689.91\n",
      "[1024]\tvalid_0's rmse: 1689.86\n",
      "[1025]\tvalid_0's rmse: 1689.83\n",
      "[1026]\tvalid_0's rmse: 1689.74\n",
      "[1027]\tvalid_0's rmse: 1689.66\n",
      "[1028]\tvalid_0's rmse: 1689.62\n",
      "[1029]\tvalid_0's rmse: 1689.58\n",
      "[1030]\tvalid_0's rmse: 1689.56\n",
      "[1031]\tvalid_0's rmse: 1689.51\n",
      "[1032]\tvalid_0's rmse: 1689.47\n",
      "[1033]\tvalid_0's rmse: 1689.45\n",
      "[1034]\tvalid_0's rmse: 1689.39\n",
      "[1035]\tvalid_0's rmse: 1689.33\n",
      "[1036]\tvalid_0's rmse: 1689.27\n",
      "[1037]\tvalid_0's rmse: 1689.23\n",
      "[1038]\tvalid_0's rmse: 1689.15\n",
      "[1039]\tvalid_0's rmse: 1689.13\n",
      "[1040]\tvalid_0's rmse: 1689.11\n",
      "[1041]\tvalid_0's rmse: 1689.04\n",
      "[1042]\tvalid_0's rmse: 1688.98\n",
      "[1043]\tvalid_0's rmse: 1688.98\n",
      "[1044]\tvalid_0's rmse: 1688.94\n",
      "[1045]\tvalid_0's rmse: 1688.9\n",
      "[1046]\tvalid_0's rmse: 1688.88\n",
      "[1047]\tvalid_0's rmse: 1688.86\n",
      "[1048]\tvalid_0's rmse: 1688.81\n",
      "[1049]\tvalid_0's rmse: 1688.8\n",
      "[1050]\tvalid_0's rmse: 1688.79\n",
      "[1051]\tvalid_0's rmse: 1688.74\n",
      "[1052]\tvalid_0's rmse: 1688.7\n",
      "[1053]\tvalid_0's rmse: 1688.66\n",
      "[1054]\tvalid_0's rmse: 1688.65\n",
      "[1055]\tvalid_0's rmse: 1688.6\n",
      "[1056]\tvalid_0's rmse: 1688.57\n",
      "[1057]\tvalid_0's rmse: 1688.52\n",
      "[1058]\tvalid_0's rmse: 1688.47\n",
      "[1059]\tvalid_0's rmse: 1688.46\n",
      "[1060]\tvalid_0's rmse: 1688.45\n",
      "[1061]\tvalid_0's rmse: 1688.42\n",
      "[1062]\tvalid_0's rmse: 1688.34\n",
      "[1063]\tvalid_0's rmse: 1688.33\n",
      "[1064]\tvalid_0's rmse: 1688.29\n",
      "[1065]\tvalid_0's rmse: 1688.26\n",
      "[1066]\tvalid_0's rmse: 1688.21\n",
      "[1067]\tvalid_0's rmse: 1688.18\n",
      "[1068]\tvalid_0's rmse: 1688.17\n",
      "[1069]\tvalid_0's rmse: 1688.11\n",
      "[1070]\tvalid_0's rmse: 1688.07\n",
      "[1071]\tvalid_0's rmse: 1688.04\n",
      "[1072]\tvalid_0's rmse: 1687.99\n",
      "[1073]\tvalid_0's rmse: 1687.94\n",
      "[1074]\tvalid_0's rmse: 1687.95\n",
      "[1075]\tvalid_0's rmse: 1687.94\n",
      "[1076]\tvalid_0's rmse: 1687.83\n",
      "[1077]\tvalid_0's rmse: 1687.82\n",
      "[1078]\tvalid_0's rmse: 1687.73\n",
      "[1079]\tvalid_0's rmse: 1687.67\n",
      "[1080]\tvalid_0's rmse: 1687.62\n",
      "[1081]\tvalid_0's rmse: 1687.6\n",
      "[1082]\tvalid_0's rmse: 1687.54\n",
      "[1083]\tvalid_0's rmse: 1687.5\n",
      "[1084]\tvalid_0's rmse: 1687.44\n",
      "[1085]\tvalid_0's rmse: 1687.35\n",
      "[1086]\tvalid_0's rmse: 1687.31\n",
      "[1087]\tvalid_0's rmse: 1687.28\n",
      "[1088]\tvalid_0's rmse: 1687.26\n",
      "[1089]\tvalid_0's rmse: 1687.22\n",
      "[1090]\tvalid_0's rmse: 1687.18\n",
      "[1091]\tvalid_0's rmse: 1687.11\n",
      "[1092]\tvalid_0's rmse: 1687.09\n",
      "[1093]\tvalid_0's rmse: 1687.08\n",
      "[1094]\tvalid_0's rmse: 1687.05\n",
      "[1095]\tvalid_0's rmse: 1687.01\n",
      "[1096]\tvalid_0's rmse: 1686.97\n",
      "[1097]\tvalid_0's rmse: 1686.94\n",
      "[1098]\tvalid_0's rmse: 1686.9\n",
      "[1099]\tvalid_0's rmse: 1686.82\n",
      "[1100]\tvalid_0's rmse: 1686.8\n",
      "[1101]\tvalid_0's rmse: 1686.79\n",
      "[1102]\tvalid_0's rmse: 1686.73\n",
      "[1103]\tvalid_0's rmse: 1686.68\n",
      "[1104]\tvalid_0's rmse: 1686.63\n",
      "[1105]\tvalid_0's rmse: 1686.62\n",
      "[1106]\tvalid_0's rmse: 1686.57\n",
      "[1107]\tvalid_0's rmse: 1686.53\n",
      "[1108]\tvalid_0's rmse: 1686.53\n",
      "[1109]\tvalid_0's rmse: 1686.38\n",
      "[1110]\tvalid_0's rmse: 1686.34\n",
      "[1111]\tvalid_0's rmse: 1686.31\n",
      "[1112]\tvalid_0's rmse: 1686.26\n",
      "[1113]\tvalid_0's rmse: 1686.22\n",
      "[1114]\tvalid_0's rmse: 1686.16\n",
      "[1115]\tvalid_0's rmse: 1686.13\n",
      "[1116]\tvalid_0's rmse: 1686.11\n",
      "[1117]\tvalid_0's rmse: 1686.01\n",
      "[1118]\tvalid_0's rmse: 1685.96\n",
      "[1119]\tvalid_0's rmse: 1685.94\n",
      "[1120]\tvalid_0's rmse: 1685.86\n",
      "[1121]\tvalid_0's rmse: 1685.87\n",
      "[1122]\tvalid_0's rmse: 1685.81\n",
      "[1123]\tvalid_0's rmse: 1685.81\n",
      "[1124]\tvalid_0's rmse: 1685.8\n",
      "[1125]\tvalid_0's rmse: 1685.67\n",
      "[1126]\tvalid_0's rmse: 1685.62\n",
      "[1127]\tvalid_0's rmse: 1685.6\n",
      "[1128]\tvalid_0's rmse: 1685.55\n",
      "[1129]\tvalid_0's rmse: 1685.54\n",
      "[1130]\tvalid_0's rmse: 1685.47\n",
      "[1131]\tvalid_0's rmse: 1685.36\n",
      "[1132]\tvalid_0's rmse: 1685.35\n",
      "[1133]\tvalid_0's rmse: 1685.28\n",
      "[1134]\tvalid_0's rmse: 1685.24\n",
      "[1135]\tvalid_0's rmse: 1685.21\n",
      "[1136]\tvalid_0's rmse: 1685.12\n",
      "[1137]\tvalid_0's rmse: 1685.09\n",
      "[1138]\tvalid_0's rmse: 1685.04\n",
      "[1139]\tvalid_0's rmse: 1684.95\n",
      "[1140]\tvalid_0's rmse: 1684.92\n",
      "[1141]\tvalid_0's rmse: 1684.89\n",
      "[1142]\tvalid_0's rmse: 1684.88\n",
      "[1143]\tvalid_0's rmse: 1684.84\n",
      "[1144]\tvalid_0's rmse: 1684.79\n",
      "[1145]\tvalid_0's rmse: 1684.74\n",
      "[1146]\tvalid_0's rmse: 1684.68\n",
      "[1147]\tvalid_0's rmse: 1684.67\n",
      "[1148]\tvalid_0's rmse: 1684.62\n",
      "[1149]\tvalid_0's rmse: 1684.6\n",
      "[1150]\tvalid_0's rmse: 1684.57\n",
      "[1151]\tvalid_0's rmse: 1684.56\n",
      "[1152]\tvalid_0's rmse: 1684.54\n",
      "[1153]\tvalid_0's rmse: 1684.44\n",
      "[1154]\tvalid_0's rmse: 1684.41\n",
      "[1155]\tvalid_0's rmse: 1684.37\n",
      "[1156]\tvalid_0's rmse: 1684.37\n",
      "[1157]\tvalid_0's rmse: 1684.33\n",
      "[1158]\tvalid_0's rmse: 1684.23\n",
      "[1159]\tvalid_0's rmse: 1684.1\n",
      "[1160]\tvalid_0's rmse: 1684.06\n",
      "[1161]\tvalid_0's rmse: 1684.01\n",
      "[1162]\tvalid_0's rmse: 1683.98\n",
      "[1163]\tvalid_0's rmse: 1683.96\n",
      "[1164]\tvalid_0's rmse: 1683.93\n",
      "[1165]\tvalid_0's rmse: 1683.91\n",
      "[1166]\tvalid_0's rmse: 1683.82\n",
      "[1167]\tvalid_0's rmse: 1683.77\n",
      "[1168]\tvalid_0's rmse: 1683.73\n",
      "[1169]\tvalid_0's rmse: 1683.65\n",
      "[1170]\tvalid_0's rmse: 1683.62\n",
      "[1171]\tvalid_0's rmse: 1683.57\n",
      "[1172]\tvalid_0's rmse: 1683.53\n",
      "[1173]\tvalid_0's rmse: 1683.5\n",
      "[1174]\tvalid_0's rmse: 1683.46\n",
      "[1175]\tvalid_0's rmse: 1683.43\n",
      "[1176]\tvalid_0's rmse: 1683.43\n",
      "[1177]\tvalid_0's rmse: 1683.34\n",
      "[1178]\tvalid_0's rmse: 1683.3\n",
      "[1179]\tvalid_0's rmse: 1683.27\n",
      "[1180]\tvalid_0's rmse: 1683.23\n",
      "[1181]\tvalid_0's rmse: 1683.21\n",
      "[1182]\tvalid_0's rmse: 1683.18\n",
      "[1183]\tvalid_0's rmse: 1683.15\n",
      "[1184]\tvalid_0's rmse: 1683.03\n",
      "[1185]\tvalid_0's rmse: 1682.98\n",
      "[1186]\tvalid_0's rmse: 1682.93\n",
      "[1187]\tvalid_0's rmse: 1682.91\n",
      "[1188]\tvalid_0's rmse: 1682.79\n",
      "[1189]\tvalid_0's rmse: 1682.76\n",
      "[1190]\tvalid_0's rmse: 1682.71\n",
      "[1191]\tvalid_0's rmse: 1682.69\n",
      "[1192]\tvalid_0's rmse: 1682.65\n",
      "[1193]\tvalid_0's rmse: 1682.6\n",
      "[1194]\tvalid_0's rmse: 1682.53\n",
      "[1195]\tvalid_0's rmse: 1682.5\n",
      "[1196]\tvalid_0's rmse: 1682.45\n",
      "[1197]\tvalid_0's rmse: 1682.42\n",
      "[1198]\tvalid_0's rmse: 1682.36\n",
      "[1199]\tvalid_0's rmse: 1682.31\n",
      "[1200]\tvalid_0's rmse: 1682.3\n",
      "[1201]\tvalid_0's rmse: 1682.2\n",
      "[1202]\tvalid_0's rmse: 1682.16\n",
      "[1203]\tvalid_0's rmse: 1682.11\n",
      "[1204]\tvalid_0's rmse: 1682.09\n",
      "[1205]\tvalid_0's rmse: 1682.08\n",
      "[1206]\tvalid_0's rmse: 1682.03\n",
      "[1207]\tvalid_0's rmse: 1682\n",
      "[1208]\tvalid_0's rmse: 1681.96\n",
      "[1209]\tvalid_0's rmse: 1681.95\n",
      "[1210]\tvalid_0's rmse: 1681.83\n",
      "[1211]\tvalid_0's rmse: 1681.71\n",
      "[1212]\tvalid_0's rmse: 1681.68\n",
      "[1213]\tvalid_0's rmse: 1681.65\n",
      "[1214]\tvalid_0's rmse: 1681.61\n",
      "[1215]\tvalid_0's rmse: 1681.57\n",
      "[1216]\tvalid_0's rmse: 1681.55\n",
      "[1217]\tvalid_0's rmse: 1681.54\n",
      "[1218]\tvalid_0's rmse: 1681.51\n",
      "[1219]\tvalid_0's rmse: 1681.49\n",
      "[1220]\tvalid_0's rmse: 1681.48\n",
      "[1221]\tvalid_0's rmse: 1681.46\n",
      "[1222]\tvalid_0's rmse: 1681.42\n",
      "[1223]\tvalid_0's rmse: 1681.32\n",
      "[1224]\tvalid_0's rmse: 1681.31\n",
      "[1225]\tvalid_0's rmse: 1681.27\n",
      "[1226]\tvalid_0's rmse: 1681.26\n",
      "[1227]\tvalid_0's rmse: 1681.26\n",
      "[1228]\tvalid_0's rmse: 1681.23\n",
      "[1229]\tvalid_0's rmse: 1681.2\n",
      "[1230]\tvalid_0's rmse: 1681.18\n",
      "[1231]\tvalid_0's rmse: 1681.12\n",
      "[1232]\tvalid_0's rmse: 1681.05\n",
      "[1233]\tvalid_0's rmse: 1681.01\n",
      "[1234]\tvalid_0's rmse: 1680.97\n",
      "[1235]\tvalid_0's rmse: 1680.88\n",
      "[1236]\tvalid_0's rmse: 1680.84\n",
      "[1237]\tvalid_0's rmse: 1680.75\n",
      "[1238]\tvalid_0's rmse: 1680.7\n",
      "[1239]\tvalid_0's rmse: 1680.69\n",
      "[1240]\tvalid_0's rmse: 1680.67\n",
      "[1241]\tvalid_0's rmse: 1680.67\n",
      "[1242]\tvalid_0's rmse: 1680.63\n",
      "[1243]\tvalid_0's rmse: 1680.58\n",
      "[1244]\tvalid_0's rmse: 1680.55\n",
      "[1245]\tvalid_0's rmse: 1680.45\n",
      "[1246]\tvalid_0's rmse: 1680.43\n",
      "[1247]\tvalid_0's rmse: 1680.39\n",
      "[1248]\tvalid_0's rmse: 1680.35\n",
      "[1249]\tvalid_0's rmse: 1680.31\n",
      "[1250]\tvalid_0's rmse: 1680.24\n",
      "[1251]\tvalid_0's rmse: 1680.19\n",
      "[1252]\tvalid_0's rmse: 1680.13\n",
      "[1253]\tvalid_0's rmse: 1680.08\n",
      "[1254]\tvalid_0's rmse: 1680.06\n",
      "[1255]\tvalid_0's rmse: 1680.05\n",
      "[1256]\tvalid_0's rmse: 1680.01\n",
      "[1257]\tvalid_0's rmse: 1680\n",
      "[1258]\tvalid_0's rmse: 1679.95\n",
      "[1259]\tvalid_0's rmse: 1679.88\n",
      "[1260]\tvalid_0's rmse: 1679.82\n",
      "[1261]\tvalid_0's rmse: 1679.81\n",
      "[1262]\tvalid_0's rmse: 1679.8\n",
      "[1263]\tvalid_0's rmse: 1679.71\n",
      "[1264]\tvalid_0's rmse: 1679.7\n",
      "[1265]\tvalid_0's rmse: 1679.65\n",
      "[1266]\tvalid_0's rmse: 1679.57\n",
      "[1267]\tvalid_0's rmse: 1679.48\n",
      "[1268]\tvalid_0's rmse: 1679.41\n",
      "[1269]\tvalid_0's rmse: 1679.38\n",
      "[1270]\tvalid_0's rmse: 1679.36\n",
      "[1271]\tvalid_0's rmse: 1679.35\n",
      "[1272]\tvalid_0's rmse: 1679.33\n",
      "[1273]\tvalid_0's rmse: 1679.24\n",
      "[1274]\tvalid_0's rmse: 1679.2\n",
      "[1275]\tvalid_0's rmse: 1679.19\n",
      "[1276]\tvalid_0's rmse: 1679.17\n",
      "[1277]\tvalid_0's rmse: 1679.13\n",
      "[1278]\tvalid_0's rmse: 1679.11\n",
      "[1279]\tvalid_0's rmse: 1679.06\n",
      "[1280]\tvalid_0's rmse: 1679.03\n",
      "[1281]\tvalid_0's rmse: 1678.99\n",
      "[1282]\tvalid_0's rmse: 1678.98\n",
      "[1283]\tvalid_0's rmse: 1678.96\n",
      "[1284]\tvalid_0's rmse: 1678.93\n",
      "[1285]\tvalid_0's rmse: 1678.92\n",
      "[1286]\tvalid_0's rmse: 1678.9\n",
      "[1287]\tvalid_0's rmse: 1678.86\n",
      "[1288]\tvalid_0's rmse: 1678.81\n",
      "[1289]\tvalid_0's rmse: 1678.72\n",
      "[1290]\tvalid_0's rmse: 1678.69\n",
      "[1291]\tvalid_0's rmse: 1678.65\n",
      "[1292]\tvalid_0's rmse: 1678.62\n",
      "[1293]\tvalid_0's rmse: 1678.62\n",
      "[1294]\tvalid_0's rmse: 1678.61\n",
      "[1295]\tvalid_0's rmse: 1678.52\n",
      "[1296]\tvalid_0's rmse: 1678.46\n",
      "[1297]\tvalid_0's rmse: 1678.44\n",
      "[1298]\tvalid_0's rmse: 1678.42\n",
      "[1299]\tvalid_0's rmse: 1678.39\n",
      "[1300]\tvalid_0's rmse: 1678.37\n",
      "[1301]\tvalid_0's rmse: 1678.36\n",
      "[1302]\tvalid_0's rmse: 1678.34\n",
      "[1303]\tvalid_0's rmse: 1678.31\n",
      "[1304]\tvalid_0's rmse: 1678.28\n",
      "[1305]\tvalid_0's rmse: 1678.27\n",
      "[1306]\tvalid_0's rmse: 1678.17\n",
      "[1307]\tvalid_0's rmse: 1678.15\n",
      "[1308]\tvalid_0's rmse: 1678.11\n",
      "[1309]\tvalid_0's rmse: 1678.05\n",
      "[1310]\tvalid_0's rmse: 1678.04\n",
      "[1311]\tvalid_0's rmse: 1678.02\n",
      "[1312]\tvalid_0's rmse: 1677.99\n",
      "[1313]\tvalid_0's rmse: 1677.98\n",
      "[1314]\tvalid_0's rmse: 1677.95\n",
      "[1315]\tvalid_0's rmse: 1677.91\n",
      "[1316]\tvalid_0's rmse: 1677.89\n",
      "[1317]\tvalid_0's rmse: 1677.87\n",
      "[1318]\tvalid_0's rmse: 1677.81\n",
      "[1319]\tvalid_0's rmse: 1677.78\n",
      "[1320]\tvalid_0's rmse: 1677.72\n",
      "[1321]\tvalid_0's rmse: 1677.7\n",
      "[1322]\tvalid_0's rmse: 1677.66\n",
      "[1323]\tvalid_0's rmse: 1677.61\n",
      "[1324]\tvalid_0's rmse: 1677.57\n",
      "[1325]\tvalid_0's rmse: 1677.57\n",
      "[1326]\tvalid_0's rmse: 1677.53\n",
      "[1327]\tvalid_0's rmse: 1677.52\n",
      "[1328]\tvalid_0's rmse: 1677.46\n",
      "[1329]\tvalid_0's rmse: 1677.43\n",
      "[1330]\tvalid_0's rmse: 1677.42\n",
      "[1331]\tvalid_0's rmse: 1677.38\n",
      "[1332]\tvalid_0's rmse: 1677.35\n",
      "[1333]\tvalid_0's rmse: 1677.3\n",
      "[1334]\tvalid_0's rmse: 1677.28\n",
      "[1335]\tvalid_0's rmse: 1677.25\n",
      "[1336]\tvalid_0's rmse: 1677.23\n",
      "[1337]\tvalid_0's rmse: 1677.23\n",
      "[1338]\tvalid_0's rmse: 1677.18\n",
      "[1339]\tvalid_0's rmse: 1677.18\n",
      "[1340]\tvalid_0's rmse: 1677.18\n",
      "[1341]\tvalid_0's rmse: 1677.15\n",
      "[1342]\tvalid_0's rmse: 1677.09\n",
      "[1343]\tvalid_0's rmse: 1677.03\n",
      "[1344]\tvalid_0's rmse: 1676.94\n",
      "[1345]\tvalid_0's rmse: 1676.9\n",
      "[1346]\tvalid_0's rmse: 1676.86\n",
      "[1347]\tvalid_0's rmse: 1676.85\n",
      "[1348]\tvalid_0's rmse: 1676.85\n",
      "[1349]\tvalid_0's rmse: 1676.83\n",
      "[1350]\tvalid_0's rmse: 1676.8\n",
      "[1351]\tvalid_0's rmse: 1676.8\n",
      "[1352]\tvalid_0's rmse: 1676.77\n",
      "[1353]\tvalid_0's rmse: 1676.74\n",
      "[1354]\tvalid_0's rmse: 1676.72\n",
      "[1355]\tvalid_0's rmse: 1676.66\n",
      "[1356]\tvalid_0's rmse: 1676.61\n",
      "[1357]\tvalid_0's rmse: 1676.6\n",
      "[1358]\tvalid_0's rmse: 1676.59\n",
      "[1359]\tvalid_0's rmse: 1676.58\n",
      "[1360]\tvalid_0's rmse: 1676.55\n",
      "[1361]\tvalid_0's rmse: 1676.51\n",
      "[1362]\tvalid_0's rmse: 1676.48\n",
      "[1363]\tvalid_0's rmse: 1676.47\n",
      "[1364]\tvalid_0's rmse: 1676.46\n",
      "[1365]\tvalid_0's rmse: 1676.42\n",
      "[1366]\tvalid_0's rmse: 1676.35\n",
      "[1367]\tvalid_0's rmse: 1676.34\n",
      "[1368]\tvalid_0's rmse: 1676.3\n",
      "[1369]\tvalid_0's rmse: 1676.28\n",
      "[1370]\tvalid_0's rmse: 1676.25\n",
      "[1371]\tvalid_0's rmse: 1676.25\n",
      "[1372]\tvalid_0's rmse: 1676.21\n",
      "[1373]\tvalid_0's rmse: 1676.19\n",
      "[1374]\tvalid_0's rmse: 1676.14\n",
      "[1375]\tvalid_0's rmse: 1676.07\n",
      "[1376]\tvalid_0's rmse: 1676.05\n",
      "[1377]\tvalid_0's rmse: 1676.02\n",
      "[1378]\tvalid_0's rmse: 1675.95\n",
      "[1379]\tvalid_0's rmse: 1675.86\n",
      "[1380]\tvalid_0's rmse: 1675.82\n",
      "[1381]\tvalid_0's rmse: 1675.81\n",
      "[1382]\tvalid_0's rmse: 1675.79\n",
      "[1383]\tvalid_0's rmse: 1675.78\n",
      "[1384]\tvalid_0's rmse: 1675.71\n",
      "[1385]\tvalid_0's rmse: 1675.67\n",
      "[1386]\tvalid_0's rmse: 1675.65\n",
      "[1387]\tvalid_0's rmse: 1675.58\n",
      "[1388]\tvalid_0's rmse: 1675.56\n",
      "[1389]\tvalid_0's rmse: 1675.55\n",
      "[1390]\tvalid_0's rmse: 1675.52\n",
      "[1391]\tvalid_0's rmse: 1675.5\n",
      "[1392]\tvalid_0's rmse: 1675.48\n",
      "[1393]\tvalid_0's rmse: 1675.43\n",
      "[1394]\tvalid_0's rmse: 1675.35\n",
      "[1395]\tvalid_0's rmse: 1675.28\n",
      "[1396]\tvalid_0's rmse: 1675.28\n",
      "[1397]\tvalid_0's rmse: 1675.21\n",
      "[1398]\tvalid_0's rmse: 1675.16\n",
      "[1399]\tvalid_0's rmse: 1675.1\n",
      "[1400]\tvalid_0's rmse: 1675.06\n",
      "[1401]\tvalid_0's rmse: 1675.04\n",
      "[1402]\tvalid_0's rmse: 1675.02\n",
      "[1403]\tvalid_0's rmse: 1675\n",
      "[1404]\tvalid_0's rmse: 1674.99\n",
      "[1405]\tvalid_0's rmse: 1674.96\n",
      "[1406]\tvalid_0's rmse: 1674.93\n",
      "[1407]\tvalid_0's rmse: 1674.94\n",
      "[1408]\tvalid_0's rmse: 1674.94\n",
      "[1409]\tvalid_0's rmse: 1674.93\n",
      "[1410]\tvalid_0's rmse: 1674.91\n",
      "[1411]\tvalid_0's rmse: 1674.9\n",
      "[1412]\tvalid_0's rmse: 1674.85\n",
      "[1413]\tvalid_0's rmse: 1674.84\n",
      "[1414]\tvalid_0's rmse: 1674.83\n",
      "[1415]\tvalid_0's rmse: 1674.83\n",
      "[1416]\tvalid_0's rmse: 1674.82\n",
      "[1417]\tvalid_0's rmse: 1674.8\n",
      "[1418]\tvalid_0's rmse: 1674.8\n",
      "[1419]\tvalid_0's rmse: 1674.78\n",
      "[1420]\tvalid_0's rmse: 1674.77\n",
      "[1421]\tvalid_0's rmse: 1674.75\n",
      "[1422]\tvalid_0's rmse: 1674.68\n",
      "[1423]\tvalid_0's rmse: 1674.66\n",
      "[1424]\tvalid_0's rmse: 1674.64\n",
      "[1425]\tvalid_0's rmse: 1674.63\n",
      "[1426]\tvalid_0's rmse: 1674.61\n",
      "[1427]\tvalid_0's rmse: 1674.54\n",
      "[1428]\tvalid_0's rmse: 1674.53\n",
      "[1429]\tvalid_0's rmse: 1674.5\n",
      "[1430]\tvalid_0's rmse: 1674.42\n",
      "[1431]\tvalid_0's rmse: 1674.4\n",
      "[1432]\tvalid_0's rmse: 1674.38\n",
      "[1433]\tvalid_0's rmse: 1674.37\n",
      "[1434]\tvalid_0's rmse: 1674.36\n",
      "[1435]\tvalid_0's rmse: 1674.29\n",
      "[1436]\tvalid_0's rmse: 1674.28\n",
      "[1437]\tvalid_0's rmse: 1674.26\n",
      "[1438]\tvalid_0's rmse: 1674.25\n",
      "[1439]\tvalid_0's rmse: 1674.23\n",
      "[1440]\tvalid_0's rmse: 1674.17\n",
      "[1441]\tvalid_0's rmse: 1674.17\n",
      "[1442]\tvalid_0's rmse: 1674.15\n",
      "[1443]\tvalid_0's rmse: 1674.14\n",
      "[1444]\tvalid_0's rmse: 1674.12\n",
      "[1445]\tvalid_0's rmse: 1674.1\n",
      "[1446]\tvalid_0's rmse: 1674.06\n",
      "[1447]\tvalid_0's rmse: 1674.04\n",
      "[1448]\tvalid_0's rmse: 1673.98\n",
      "[1449]\tvalid_0's rmse: 1673.98\n",
      "[1450]\tvalid_0's rmse: 1673.96\n",
      "[1451]\tvalid_0's rmse: 1673.96\n",
      "[1452]\tvalid_0's rmse: 1673.95\n",
      "[1453]\tvalid_0's rmse: 1673.93\n",
      "[1454]\tvalid_0's rmse: 1673.92\n",
      "[1455]\tvalid_0's rmse: 1673.91\n",
      "[1456]\tvalid_0's rmse: 1673.91\n",
      "[1457]\tvalid_0's rmse: 1673.83\n",
      "[1458]\tvalid_0's rmse: 1673.81\n",
      "[1459]\tvalid_0's rmse: 1673.78\n",
      "[1460]\tvalid_0's rmse: 1673.71\n",
      "[1461]\tvalid_0's rmse: 1673.64\n",
      "[1462]\tvalid_0's rmse: 1673.61\n",
      "[1463]\tvalid_0's rmse: 1673.6\n",
      "[1464]\tvalid_0's rmse: 1673.53\n",
      "[1465]\tvalid_0's rmse: 1673.52\n",
      "[1466]\tvalid_0's rmse: 1673.51\n",
      "[1467]\tvalid_0's rmse: 1673.51\n",
      "[1468]\tvalid_0's rmse: 1673.49\n",
      "[1469]\tvalid_0's rmse: 1673.42\n",
      "[1470]\tvalid_0's rmse: 1673.43\n",
      "[1471]\tvalid_0's rmse: 1673.34\n",
      "[1472]\tvalid_0's rmse: 1673.32\n",
      "[1473]\tvalid_0's rmse: 1673.32\n",
      "[1474]\tvalid_0's rmse: 1673.25\n",
      "[1475]\tvalid_0's rmse: 1673.23\n",
      "[1476]\tvalid_0's rmse: 1673.21\n",
      "[1477]\tvalid_0's rmse: 1673.18\n",
      "[1478]\tvalid_0's rmse: 1673.15\n",
      "[1479]\tvalid_0's rmse: 1673.12\n",
      "[1480]\tvalid_0's rmse: 1673.03\n",
      "[1481]\tvalid_0's rmse: 1673.02\n",
      "[1482]\tvalid_0's rmse: 1673\n",
      "[1483]\tvalid_0's rmse: 1672.93\n",
      "[1484]\tvalid_0's rmse: 1672.91\n",
      "[1485]\tvalid_0's rmse: 1672.91\n",
      "[1486]\tvalid_0's rmse: 1672.89\n",
      "[1487]\tvalid_0's rmse: 1672.87\n",
      "[1488]\tvalid_0's rmse: 1672.83\n",
      "[1489]\tvalid_0's rmse: 1672.81\n",
      "[1490]\tvalid_0's rmse: 1672.75\n",
      "[1491]\tvalid_0's rmse: 1672.72\n",
      "[1492]\tvalid_0's rmse: 1672.67\n",
      "[1493]\tvalid_0's rmse: 1672.67\n",
      "[1494]\tvalid_0's rmse: 1672.65\n",
      "[1495]\tvalid_0's rmse: 1672.65\n",
      "[1496]\tvalid_0's rmse: 1672.57\n",
      "[1497]\tvalid_0's rmse: 1672.55\n",
      "[1498]\tvalid_0's rmse: 1672.49\n",
      "[1499]\tvalid_0's rmse: 1672.47\n",
      "[1500]\tvalid_0's rmse: 1672.44\n",
      "1672.4399835433169\n",
      "CPU times: user 4min 19s, sys: 1.74 s, total: 4min 21s\n",
      "Wall time: 4min 25s\n"
     ]
    }
   ],
   "source": [
    "%%time\n",
    "start_time = time.time()\n",
    "model, results = boost(params, features_train, features_valid, target_train, target_valid, results, \"BoostNumIter1500LearningRate0.01\")"
   ]
  },
  {
   "cell_type": "markdown",
   "metadata": {},
   "source": [
    "Уменьшение learning rate практически не дало прироста качества, хотя использовало практически в 10 раз больше времени. Эту модель мы не берём."
   ]
  },
  {
   "cell_type": "markdown",
   "metadata": {},
   "source": [
    "#### Бустинг с увеличенным количеством листьев"
   ]
  },
  {
   "cell_type": "code",
   "execution_count": 44,
   "metadata": {},
   "outputs": [],
   "source": [
    "params = {\n",
    "    \"num_leaves\" : 100,\n",
    "    \"metric\" : \"rmse\",\n",
    "    \"learning_rate\" : .1,\n",
    "    \"seed\" : 12345,\n",
    "    \"verbose_eval\" : True\n",
    "}"
   ]
  },
  {
   "cell_type": "code",
   "execution_count": 45,
   "metadata": {
    "scrolled": true
   },
   "outputs": [
    {
     "name": "stdout",
     "output_type": "stream",
     "text": [
      "[1]\tvalid_0's rmse: 4146.99\n",
      "[2]\tvalid_0's rmse: 3837.74\n",
      "[3]\tvalid_0's rmse: 3566.98\n",
      "[4]\tvalid_0's rmse: 3327.24\n",
      "[5]\tvalid_0's rmse: 3114.77\n",
      "[6]\tvalid_0's rmse: 2931.22\n",
      "[7]\tvalid_0's rmse: 2770.01\n",
      "[8]\tvalid_0's rmse: 2628.61\n",
      "[9]\tvalid_0's rmse: 2505.94\n",
      "[10]\tvalid_0's rmse: 2396.83\n",
      "[11]\tvalid_0's rmse: 2302.68\n",
      "[12]\tvalid_0's rmse: 2222.12\n",
      "[13]\tvalid_0's rmse: 2152.95\n",
      "[14]\tvalid_0's rmse: 2091.5\n",
      "[15]\tvalid_0's rmse: 2039.25\n",
      "[16]\tvalid_0's rmse: 1993.88\n",
      "[17]\tvalid_0's rmse: 1954.36\n",
      "[18]\tvalid_0's rmse: 1920.31\n",
      "[19]\tvalid_0's rmse: 1890.12\n",
      "[20]\tvalid_0's rmse: 1864.02\n",
      "[21]\tvalid_0's rmse: 1841.41\n",
      "[22]\tvalid_0's rmse: 1821.68\n",
      "[23]\tvalid_0's rmse: 1804.8\n",
      "[24]\tvalid_0's rmse: 1789.68\n",
      "[25]\tvalid_0's rmse: 1776.88\n",
      "[26]\tvalid_0's rmse: 1765.99\n",
      "[27]\tvalid_0's rmse: 1755.51\n",
      "[28]\tvalid_0's rmse: 1746.03\n",
      "[29]\tvalid_0's rmse: 1738.33\n",
      "[30]\tvalid_0's rmse: 1731.22\n",
      "[31]\tvalid_0's rmse: 1725.04\n",
      "[32]\tvalid_0's rmse: 1718.41\n",
      "[33]\tvalid_0's rmse: 1713.12\n",
      "[34]\tvalid_0's rmse: 1707.86\n",
      "[35]\tvalid_0's rmse: 1703.69\n",
      "[36]\tvalid_0's rmse: 1699.58\n",
      "[37]\tvalid_0's rmse: 1696.11\n",
      "[38]\tvalid_0's rmse: 1693.16\n",
      "[39]\tvalid_0's rmse: 1690.19\n",
      "[40]\tvalid_0's rmse: 1687.91\n",
      "[41]\tvalid_0's rmse: 1685.63\n",
      "[42]\tvalid_0's rmse: 1683.39\n",
      "[43]\tvalid_0's rmse: 1681.45\n",
      "[44]\tvalid_0's rmse: 1679.88\n",
      "[45]\tvalid_0's rmse: 1678.4\n",
      "[46]\tvalid_0's rmse: 1676.45\n",
      "[47]\tvalid_0's rmse: 1674.4\n",
      "[48]\tvalid_0's rmse: 1673.59\n",
      "[49]\tvalid_0's rmse: 1672.21\n",
      "[50]\tvalid_0's rmse: 1671.47\n",
      "[51]\tvalid_0's rmse: 1669.72\n",
      "[52]\tvalid_0's rmse: 1668.75\n",
      "[53]\tvalid_0's rmse: 1667.59\n",
      "[54]\tvalid_0's rmse: 1666.9\n",
      "[55]\tvalid_0's rmse: 1666.04\n",
      "[56]\tvalid_0's rmse: 1665.77\n",
      "[57]\tvalid_0's rmse: 1664.65\n",
      "[58]\tvalid_0's rmse: 1663.8\n",
      "[59]\tvalid_0's rmse: 1663.26\n",
      "[60]\tvalid_0's rmse: 1661.82\n",
      "[61]\tvalid_0's rmse: 1661.41\n",
      "[62]\tvalid_0's rmse: 1660.48\n",
      "[63]\tvalid_0's rmse: 1659.8\n",
      "[64]\tvalid_0's rmse: 1659.17\n",
      "[65]\tvalid_0's rmse: 1658.4\n",
      "[66]\tvalid_0's rmse: 1657.64\n",
      "[67]\tvalid_0's rmse: 1656.58\n",
      "[68]\tvalid_0's rmse: 1656.08\n",
      "[69]\tvalid_0's rmse: 1655.25\n",
      "[70]\tvalid_0's rmse: 1654.67\n",
      "[71]\tvalid_0's rmse: 1654.21\n",
      "[72]\tvalid_0's rmse: 1653.58\n",
      "[73]\tvalid_0's rmse: 1652.89\n",
      "[74]\tvalid_0's rmse: 1652.38\n",
      "[75]\tvalid_0's rmse: 1651.45\n",
      "[76]\tvalid_0's rmse: 1650.53\n",
      "[77]\tvalid_0's rmse: 1649.82\n",
      "[78]\tvalid_0's rmse: 1649.26\n",
      "[79]\tvalid_0's rmse: 1649.01\n",
      "[80]\tvalid_0's rmse: 1648.48\n",
      "[81]\tvalid_0's rmse: 1648.18\n",
      "[82]\tvalid_0's rmse: 1647.73\n",
      "[83]\tvalid_0's rmse: 1647.16\n",
      "[84]\tvalid_0's rmse: 1646.76\n",
      "[85]\tvalid_0's rmse: 1646.3\n",
      "[86]\tvalid_0's rmse: 1645.65\n",
      "[87]\tvalid_0's rmse: 1645.63\n",
      "[88]\tvalid_0's rmse: 1645.4\n",
      "[89]\tvalid_0's rmse: 1645.29\n",
      "[90]\tvalid_0's rmse: 1644.55\n",
      "[91]\tvalid_0's rmse: 1643.83\n",
      "[92]\tvalid_0's rmse: 1643.62\n",
      "[93]\tvalid_0's rmse: 1643.45\n",
      "[94]\tvalid_0's rmse: 1643.33\n",
      "[95]\tvalid_0's rmse: 1643.21\n",
      "[96]\tvalid_0's rmse: 1642.62\n",
      "[97]\tvalid_0's rmse: 1642.42\n",
      "[98]\tvalid_0's rmse: 1642.26\n",
      "[99]\tvalid_0's rmse: 1641.85\n",
      "[100]\tvalid_0's rmse: 1641.16\n",
      "1641.15551625818\n",
      "CPU times: user 15.3 s, sys: 97.3 ms, total: 15.4 s\n",
      "Wall time: 15.6 s\n"
     ]
    }
   ],
   "source": [
    "%%time\n",
    "model, results = boost(params, features_train, features_valid, target_train, target_valid, results, \"BoostNum_leaves100\")"
   ]
  },
  {
   "cell_type": "markdown",
   "metadata": {},
   "source": [
    "Опять таки видим, что с learning rate всё в порядке. Оставим его в покое, однако увеличение количества листьев дало неплохой прирост, за незначительную прибавку ко времени. Пока это наш лидер."
   ]
  },
  {
   "cell_type": "markdown",
   "metadata": {},
   "source": [
    "#### Эксперементы с количеством листьев"
   ]
  },
  {
   "cell_type": "code",
   "execution_count": 46,
   "metadata": {},
   "outputs": [],
   "source": [
    "params = {\n",
    "    \"num_iterations\" : 150,\n",
    "    \"num_leaves\" : 100,\n",
    "    \"metric\" : \"rmse\",\n",
    "    \"learning_rate\" : .1,\n",
    "    \"seed\" : 12345,\n",
    "    \"verbose_eval\" : False\n",
    "}"
   ]
  },
  {
   "cell_type": "code",
   "execution_count": 47,
   "metadata": {
    "scrolled": true
   },
   "outputs": [
    {
     "name": "stderr",
     "output_type": "stream",
     "text": [
      "/opt/conda/lib/python3.7/site-packages/lightgbm/engine.py:148: UserWarning: Found `num_iterations` in params. Will use it instead of argument\n",
      "  warnings.warn(\"Found `{}` in params. Will use it instead of argument\".format(alias))\n"
     ]
    },
    {
     "name": "stdout",
     "output_type": "stream",
     "text": [
      "40\n",
      "1666.0989647250221\n"
     ]
    },
    {
     "name": "stderr",
     "output_type": "stream",
     "text": [
      "/opt/conda/lib/python3.7/site-packages/lightgbm/engine.py:148: UserWarning: Found `num_iterations` in params. Will use it instead of argument\n",
      "  warnings.warn(\"Found `{}` in params. Will use it instead of argument\".format(alias))\n"
     ]
    },
    {
     "name": "stdout",
     "output_type": "stream",
     "text": [
      "50\n",
      "1654.9692743002165\n"
     ]
    },
    {
     "name": "stderr",
     "output_type": "stream",
     "text": [
      "/opt/conda/lib/python3.7/site-packages/lightgbm/engine.py:148: UserWarning: Found `num_iterations` in params. Will use it instead of argument\n",
      "  warnings.warn(\"Found `{}` in params. Will use it instead of argument\".format(alias))\n"
     ]
    },
    {
     "name": "stdout",
     "output_type": "stream",
     "text": [
      "60\n",
      "1645.3808672766029\n"
     ]
    },
    {
     "name": "stderr",
     "output_type": "stream",
     "text": [
      "/opt/conda/lib/python3.7/site-packages/lightgbm/engine.py:148: UserWarning: Found `num_iterations` in params. Will use it instead of argument\n",
      "  warnings.warn(\"Found `{}` in params. Will use it instead of argument\".format(alias))\n"
     ]
    },
    {
     "name": "stdout",
     "output_type": "stream",
     "text": [
      "70\n",
      "1637.4971129012629\n"
     ]
    },
    {
     "name": "stderr",
     "output_type": "stream",
     "text": [
      "/opt/conda/lib/python3.7/site-packages/lightgbm/engine.py:148: UserWarning: Found `num_iterations` in params. Will use it instead of argument\n",
      "  warnings.warn(\"Found `{}` in params. Will use it instead of argument\".format(alias))\n"
     ]
    },
    {
     "name": "stdout",
     "output_type": "stream",
     "text": [
      "80\n",
      "1634.7751155716833\n"
     ]
    },
    {
     "name": "stderr",
     "output_type": "stream",
     "text": [
      "/opt/conda/lib/python3.7/site-packages/lightgbm/engine.py:148: UserWarning: Found `num_iterations` in params. Will use it instead of argument\n",
      "  warnings.warn(\"Found `{}` in params. Will use it instead of argument\".format(alias))\n"
     ]
    },
    {
     "name": "stdout",
     "output_type": "stream",
     "text": [
      "90\n",
      "1631.7104275440402\n"
     ]
    },
    {
     "name": "stderr",
     "output_type": "stream",
     "text": [
      "/opt/conda/lib/python3.7/site-packages/lightgbm/engine.py:148: UserWarning: Found `num_iterations` in params. Will use it instead of argument\n",
      "  warnings.warn(\"Found `{}` in params. Will use it instead of argument\".format(alias))\n"
     ]
    },
    {
     "name": "stdout",
     "output_type": "stream",
     "text": [
      "100\n",
      "1629.2796746289189\n"
     ]
    },
    {
     "name": "stderr",
     "output_type": "stream",
     "text": [
      "/opt/conda/lib/python3.7/site-packages/lightgbm/engine.py:148: UserWarning: Found `num_iterations` in params. Will use it instead of argument\n",
      "  warnings.warn(\"Found `{}` in params. Will use it instead of argument\".format(alias))\n"
     ]
    },
    {
     "name": "stdout",
     "output_type": "stream",
     "text": [
      "110\n",
      "1626.3581867745763\n"
     ]
    },
    {
     "name": "stderr",
     "output_type": "stream",
     "text": [
      "/opt/conda/lib/python3.7/site-packages/lightgbm/engine.py:148: UserWarning: Found `num_iterations` in params. Will use it instead of argument\n",
      "  warnings.warn(\"Found `{}` in params. Will use it instead of argument\".format(alias))\n"
     ]
    },
    {
     "name": "stdout",
     "output_type": "stream",
     "text": [
      "120\n",
      "1622.9163933079158\n"
     ]
    },
    {
     "name": "stderr",
     "output_type": "stream",
     "text": [
      "/opt/conda/lib/python3.7/site-packages/lightgbm/engine.py:148: UserWarning: Found `num_iterations` in params. Will use it instead of argument\n",
      "  warnings.warn(\"Found `{}` in params. Will use it instead of argument\".format(alias))\n"
     ]
    },
    {
     "name": "stdout",
     "output_type": "stream",
     "text": [
      "130\n",
      "1615.7809160185973\n"
     ]
    },
    {
     "name": "stderr",
     "output_type": "stream",
     "text": [
      "/opt/conda/lib/python3.7/site-packages/lightgbm/engine.py:148: UserWarning: Found `num_iterations` in params. Will use it instead of argument\n",
      "  warnings.warn(\"Found `{}` in params. Will use it instead of argument\".format(alias))\n"
     ]
    },
    {
     "name": "stdout",
     "output_type": "stream",
     "text": [
      "140\n",
      "1618.1388206677873\n"
     ]
    },
    {
     "name": "stderr",
     "output_type": "stream",
     "text": [
      "/opt/conda/lib/python3.7/site-packages/lightgbm/engine.py:148: UserWarning: Found `num_iterations` in params. Will use it instead of argument\n",
      "  warnings.warn(\"Found `{}` in params. Will use it instead of argument\".format(alias))\n"
     ]
    },
    {
     "name": "stdout",
     "output_type": "stream",
     "text": [
      "150\n",
      "1613.1491749698673\n"
     ]
    },
    {
     "name": "stderr",
     "output_type": "stream",
     "text": [
      "/opt/conda/lib/python3.7/site-packages/lightgbm/engine.py:148: UserWarning: Found `num_iterations` in params. Will use it instead of argument\n",
      "  warnings.warn(\"Found `{}` in params. Will use it instead of argument\".format(alias))\n"
     ]
    },
    {
     "name": "stdout",
     "output_type": "stream",
     "text": [
      "160\n",
      "1613.429779967278\n"
     ]
    },
    {
     "name": "stderr",
     "output_type": "stream",
     "text": [
      "/opt/conda/lib/python3.7/site-packages/lightgbm/engine.py:148: UserWarning: Found `num_iterations` in params. Will use it instead of argument\n",
      "  warnings.warn(\"Found `{}` in params. Will use it instead of argument\".format(alias))\n"
     ]
    },
    {
     "name": "stdout",
     "output_type": "stream",
     "text": [
      "170\n",
      "1609.3116684734741\n"
     ]
    },
    {
     "name": "stderr",
     "output_type": "stream",
     "text": [
      "/opt/conda/lib/python3.7/site-packages/lightgbm/engine.py:148: UserWarning: Found `num_iterations` in params. Will use it instead of argument\n",
      "  warnings.warn(\"Found `{}` in params. Will use it instead of argument\".format(alias))\n"
     ]
    },
    {
     "name": "stdout",
     "output_type": "stream",
     "text": [
      "180\n",
      "1609.7025605363647\n"
     ]
    },
    {
     "name": "stderr",
     "output_type": "stream",
     "text": [
      "/opt/conda/lib/python3.7/site-packages/lightgbm/engine.py:148: UserWarning: Found `num_iterations` in params. Will use it instead of argument\n",
      "  warnings.warn(\"Found `{}` in params. Will use it instead of argument\".format(alias))\n"
     ]
    },
    {
     "name": "stdout",
     "output_type": "stream",
     "text": [
      "190\n",
      "1607.3087001341296\n"
     ]
    },
    {
     "name": "stderr",
     "output_type": "stream",
     "text": [
      "/opt/conda/lib/python3.7/site-packages/lightgbm/engine.py:148: UserWarning: Found `num_iterations` in params. Will use it instead of argument\n",
      "  warnings.warn(\"Found `{}` in params. Will use it instead of argument\".format(alias))\n"
     ]
    },
    {
     "name": "stdout",
     "output_type": "stream",
     "text": [
      "200\n",
      "1603.1022990584095\n"
     ]
    }
   ],
   "source": [
    "train_data = lgbm.Dataset(features_train, target_train)\n",
    "valid_data = lgbm.Dataset(features_valid, target_valid)\n",
    "for leave in range(40, 210,10):\n",
    "    params[\"num_leaves\"] = leave\n",
    "    model = lgbm.train(params, train_data, valid_sets = valid_data, verbose_eval = params['verbose_eval'])\n",
    "    predicted_valid = model.predict(features_valid)\n",
    "    result = mean_squared_error(target_valid, y_pred = predicted_valid) ** 0.5\n",
    "    print(leave)\n",
    "    print(result)\n"
   ]
  },
  {
   "cell_type": "code",
   "execution_count": 48,
   "metadata": {},
   "outputs": [
    {
     "name": "stderr",
     "output_type": "stream",
     "text": [
      "/opt/conda/lib/python3.7/site-packages/lightgbm/engine.py:148: UserWarning: Found `num_iterations` in params. Will use it instead of argument\n",
      "  warnings.warn(\"Found `{}` in params. Will use it instead of argument\".format(alias))\n"
     ]
    },
    {
     "name": "stdout",
     "output_type": "stream",
     "text": [
      "1603.1022990584095\n",
      "CPU times: user 27.1 s, sys: 172 ms, total: 27.3 s\n",
      "Wall time: 27.7 s\n"
     ]
    }
   ],
   "source": [
    "%%time\n",
    "model, results = boost(params, features_train, features_valid, target_train, target_valid, results, \"NumIter150BestLeavesBoost\")"
   ]
  },
  {
   "cell_type": "markdown",
   "metadata": {},
   "source": [
    "Мы улучшили метрику на 2,5%, и потеряли во времени в два раза. Но это, и обучение, и предсказание, а модель мы обучаем не так часто, чтобы 35 секунд были критичными "
   ]
  },
  {
   "cell_type": "markdown",
   "metadata": {},
   "source": [
    "#### Пробуем ускорить обучение с использованием подвыборок"
   ]
  },
  {
   "cell_type": "code",
   "execution_count": 49,
   "metadata": {},
   "outputs": [],
   "source": [
    "params[\"bagging_freq\"] = 10\n",
    "params[\"bagging_fraction\"] = 0.25"
   ]
  },
  {
   "cell_type": "code",
   "execution_count": 50,
   "metadata": {
    "scrolled": true
   },
   "outputs": [
    {
     "name": "stderr",
     "output_type": "stream",
     "text": [
      "/opt/conda/lib/python3.7/site-packages/lightgbm/engine.py:148: UserWarning: Found `num_iterations` in params. Will use it instead of argument\n",
      "  warnings.warn(\"Found `{}` in params. Will use it instead of argument\".format(alias))\n"
     ]
    },
    {
     "name": "stdout",
     "output_type": "stream",
     "text": [
      "1664.4266933007368\n",
      "CPU times: user 26.3 s, sys: 216 ms, total: 26.5 s\n",
      "Wall time: 26.9 s\n"
     ]
    }
   ],
   "source": [
    "%%time\n",
    "model_fraq, results = boost(params, features_train, features_valid, target_train, target_valid, results, \"BoostBaggingfreq10BaggingFraction0.25\")"
   ]
  },
  {
   "cell_type": "markdown",
   "metadata": {},
   "source": [
    "Странные дела... мы проиграли и по скорости и по точности. Эти параметры не трогаем."
   ]
  },
  {
   "cell_type": "code",
   "execution_count": 51,
   "metadata": {},
   "outputs": [],
   "source": [
    "params[\"bagging_freq\"] = 0\n",
    "params[\"bagging_fraction\"] = 1"
   ]
  },
  {
   "cell_type": "markdown",
   "metadata": {},
   "source": [
    "<div class=\"alert alert-block alert-danger\">\n",
    "<b>Ошибка:</b> У моделей Catboost и lightGBM существуют внутренние механизмы обработки категориальных признаков. В данном случае нужно использовать их. Более подробную информацию можно найти в интернете.\n",
    "    <br> Подскажу с lightGBM: достаточно изменить тип колонок с категориальными признаками на соответствующий: .astype('category').\n",
    "</div>"
   ]
  },
  {
   "cell_type": "markdown",
   "metadata": {},
   "source": [
    "<div class=\"alert alert-block alert-success\">\n",
    "<b>Успех (ревью 2):</b> С бустингом все ОК, молодец!\n",
    "</div>"
   ]
  },
  {
   "cell_type": "markdown",
   "metadata": {},
   "source": [
    "## Анализ моделей"
   ]
  },
  {
   "cell_type": "code",
   "execution_count": 52,
   "metadata": {
    "scrolled": true
   },
   "outputs": [
    {
     "data": {
      "text/html": [
       "<div>\n",
       "<style scoped>\n",
       "    .dataframe tbody tr th:only-of-type {\n",
       "        vertical-align: middle;\n",
       "    }\n",
       "\n",
       "    .dataframe tbody tr th {\n",
       "        vertical-align: top;\n",
       "    }\n",
       "\n",
       "    .dataframe thead th {\n",
       "        text-align: right;\n",
       "    }\n",
       "</style>\n",
       "<table border=\"1\" class=\"dataframe\">\n",
       "  <thead>\n",
       "    <tr style=\"text-align: right;\">\n",
       "      <th></th>\n",
       "      <th>rmse</th>\n",
       "      <th>time</th>\n",
       "    </tr>\n",
       "  </thead>\n",
       "  <tbody>\n",
       "    <tr>\n",
       "      <td>RandForest</td>\n",
       "      <td>1761.0</td>\n",
       "      <td>9.495611</td>\n",
       "    </tr>\n",
       "    <tr>\n",
       "      <td>LinearReg</td>\n",
       "      <td>3080.0</td>\n",
       "      <td>0.259123</td>\n",
       "    </tr>\n",
       "    <tr>\n",
       "      <td>NoParamsBoost</td>\n",
       "      <td>1694.0</td>\n",
       "      <td>27.190871</td>\n",
       "    </tr>\n",
       "    <tr>\n",
       "      <td>BoostNumIter150</td>\n",
       "      <td>1675.0</td>\n",
       "      <td>54.897633</td>\n",
       "    </tr>\n",
       "    <tr>\n",
       "      <td>BoostNumIter1500LearningRate0.01</td>\n",
       "      <td>1672.0</td>\n",
       "      <td>265.636068</td>\n",
       "    </tr>\n",
       "    <tr>\n",
       "      <td>BoostNum_leaves100</td>\n",
       "      <td>1641.0</td>\n",
       "      <td>15.611468</td>\n",
       "    </tr>\n",
       "    <tr>\n",
       "      <td>NumIter150BestLeavesBoost</td>\n",
       "      <td>1603.0</td>\n",
       "      <td>27.714840</td>\n",
       "    </tr>\n",
       "    <tr>\n",
       "      <td>BoostBaggingfreq10BaggingFraction0.25</td>\n",
       "      <td>1664.0</td>\n",
       "      <td>26.791165</td>\n",
       "    </tr>\n",
       "  </tbody>\n",
       "</table>\n",
       "</div>"
      ],
      "text/plain": [
       "                                         rmse        time\n",
       "RandForest                             1761.0    9.495611\n",
       "LinearReg                              3080.0    0.259123\n",
       "NoParamsBoost                          1694.0   27.190871\n",
       "BoostNumIter150                        1675.0   54.897633\n",
       "BoostNumIter1500LearningRate0.01       1672.0  265.636068\n",
       "BoostNum_leaves100                     1641.0   15.611468\n",
       "NumIter150BestLeavesBoost              1603.0   27.714840\n",
       "BoostBaggingfreq10BaggingFraction0.25  1664.0   26.791165"
      ]
     },
     "execution_count": 52,
     "metadata": {},
     "output_type": "execute_result"
    }
   ],
   "source": [
    "results"
   ]
  },
  {
   "cell_type": "markdown",
   "metadata": {},
   "source": [
    "Проверим пока только самую лучшую нашу модель, если она предсказывает быстро(в пределах 2-3 секунд), то остальные модели нам не понадобятся."
   ]
  },
  {
   "cell_type": "code",
   "execution_count": 53,
   "metadata": {},
   "outputs": [],
   "source": [
    "train_data = lgbm.Dataset(features_train, target_train)\n",
    "valid_data = lgbm.Dataset(features_valid, target_valid)"
   ]
  },
  {
   "cell_type": "code",
   "execution_count": 54,
   "metadata": {},
   "outputs": [
    {
     "name": "stderr",
     "output_type": "stream",
     "text": [
      "/opt/conda/lib/python3.7/site-packages/lightgbm/engine.py:148: UserWarning: Found `num_iterations` in params. Will use it instead of argument\n",
      "  warnings.warn(\"Found `{}` in params. Will use it instead of argument\".format(alias))\n"
     ]
    },
    {
     "name": "stdout",
     "output_type": "stream",
     "text": [
      "CPU times: user 24.1 s, sys: 113 ms, total: 24.2 s\n",
      "Wall time: 24.6 s\n"
     ]
    }
   ],
   "source": [
    "%%time\n",
    "model = lgbm.train(params, train_data, valid_sets = valid_data, verbose_eval = params['verbose_eval'])"
   ]
  },
  {
   "cell_type": "code",
   "execution_count": 55,
   "metadata": {},
   "outputs": [
    {
     "name": "stdout",
     "output_type": "stream",
     "text": [
      "CPU times: user 1.54 s, sys: 7.59 ms, total: 1.55 s\n",
      "Wall time: 1.52 s\n"
     ]
    }
   ],
   "source": [
    "%%time\n",
    "predicted_test = model.predict(features_test)"
   ]
  },
  {
   "cell_type": "code",
   "execution_count": 56,
   "metadata": {},
   "outputs": [
    {
     "name": "stdout",
     "output_type": "stream",
     "text": [
      "1606.4619298860516\n"
     ]
    }
   ],
   "source": [
    "result = mean_squared_error(target_test, predicted_test) ** 0.5\n",
    "print(result)"
   ]
  },
  {
   "cell_type": "markdown",
   "metadata": {},
   "source": [
    "***Вывод***"
   ]
  },
  {
   "cell_type": "markdown",
   "metadata": {},
   "source": [
    "Наша модель предсказывает практически также хорошо на тестовых данных, как и на валидационных. Это говорит нам о том, что наша модель не переобучилась. Также тренировка модели укладывается в одну минуту. Это вполне нормальная скорость, так как даже если мы по каким-то причинам потеряем модель, то сможем за минуту её вернуть и пользователи скорее всего даже не поймут что случилось(всётаки ситуация с падением модели не такая уж и частая). Также модель делает предсказания меньше, чем за 2 секунды. Это также отличный результат, так как такое время человек способен удерживать внимание, что говорит нам о том, что клиент не уйдёт не дождавшись результата."
   ]
  },
  {
   "cell_type": "markdown",
   "metadata": {},
   "source": [
    "### Проверка модели на адекватность"
   ]
  },
  {
   "cell_type": "code",
   "execution_count": 57,
   "metadata": {},
   "outputs": [
    {
     "name": "stdout",
     "output_type": "stream",
     "text": [
      "4540.591897122182\n"
     ]
    }
   ],
   "source": [
    "dummy_regr = DummyRegressor(strategy=\"mean\")\n",
    "dummy_regr.fit(features_train_and_valid_ohe, target_train_and_valid_ohe)\n",
    "dummy_predict = dummy_regr.predict(features_test_ohe)\n",
    "dummy_result = mean_squared_error(target_test_ohe, dummy_predict) ** 0.5\n",
    "print(dummy_result)"
   ]
  },
  {
   "cell_type": "markdown",
   "metadata": {},
   "source": [
    "***Вывод***"
   ]
  },
  {
   "cell_type": "markdown",
   "metadata": {},
   "source": [
    "Сегодня дядя Вася на глазок не справится. Наша модель лучше, чем простая модель и работает за приемелемое время."
   ]
  }
 ],
 "metadata": {
  "ExecuteTimeLog": [
   {
    "duration": 781,
    "start_time": "2021-11-25T20:07:10.109Z"
   },
   {
    "duration": 1232,
    "start_time": "2021-11-25T20:07:11.477Z"
   },
   {
    "duration": 1168,
    "start_time": "2021-11-25T20:07:21.394Z"
   },
   {
    "duration": 155,
    "start_time": "2021-11-25T20:07:36.497Z"
   },
   {
    "duration": 116,
    "start_time": "2021-11-25T20:07:47.408Z"
   },
   {
    "duration": 27,
    "start_time": "2021-11-25T20:10:05.501Z"
   },
   {
    "duration": 334,
    "start_time": "2021-11-25T20:10:28.816Z"
   },
   {
    "duration": 261,
    "start_time": "2021-11-25T20:10:37.596Z"
   },
   {
    "duration": 309,
    "start_time": "2021-11-25T20:10:57.179Z"
   },
   {
    "duration": 45,
    "start_time": "2021-11-25T20:11:25.664Z"
   },
   {
    "duration": 62,
    "start_time": "2021-11-25T20:33:30.508Z"
   },
   {
    "duration": 68,
    "start_time": "2021-11-25T20:33:58.277Z"
   },
   {
    "duration": 162570,
    "start_time": "2021-11-25T20:34:52.608Z"
   },
   {
    "duration": 272,
    "start_time": "2021-11-25T20:37:38.046Z"
   },
   {
    "duration": 684,
    "start_time": "2021-11-25T20:37:54.309Z"
   },
   {
    "duration": 234105,
    "start_time": "2021-11-25T20:39:06.022Z"
   },
   {
    "duration": 673,
    "start_time": "2021-11-25T20:48:28.359Z"
   },
   {
    "duration": 290,
    "start_time": "2021-11-25T20:51:21.445Z"
   },
   {
    "duration": 106,
    "start_time": "2021-11-25T20:51:34.972Z"
   },
   {
    "duration": 107,
    "start_time": "2021-11-25T20:52:09.860Z"
   },
   {
    "duration": 211,
    "start_time": "2021-11-25T20:52:18.032Z"
   },
   {
    "duration": 277,
    "start_time": "2021-11-25T20:53:05.108Z"
   },
   {
    "duration": 212,
    "start_time": "2021-11-25T20:53:16.103Z"
   },
   {
    "duration": 796,
    "start_time": "2021-11-25T20:54:30.118Z"
   },
   {
    "duration": 6370,
    "start_time": "2021-11-25T20:54:54.641Z"
   },
   {
    "duration": 325,
    "start_time": "2021-11-25T20:55:06.650Z"
   },
   {
    "duration": 262,
    "start_time": "2021-11-25T20:55:20.795Z"
   },
   {
    "duration": 230,
    "start_time": "2021-11-25T20:55:34.595Z"
   },
   {
    "duration": 488,
    "start_time": "2021-11-25T20:57:46.236Z"
   },
   {
    "duration": 492,
    "start_time": "2021-11-25T20:58:05.459Z"
   },
   {
    "duration": 243,
    "start_time": "2021-11-25T20:59:44.005Z"
   },
   {
    "duration": 382,
    "start_time": "2021-11-25T21:00:34.377Z"
   },
   {
    "duration": 351,
    "start_time": "2021-11-25T21:00:49.382Z"
   },
   {
    "duration": 409,
    "start_time": "2021-11-25T21:01:39.025Z"
   },
   {
    "duration": 386,
    "start_time": "2021-11-25T21:01:53.156Z"
   },
   {
    "duration": 326,
    "start_time": "2021-11-25T21:02:14.931Z"
   },
   {
    "duration": 402,
    "start_time": "2021-11-25T21:02:56.088Z"
   },
   {
    "duration": 400,
    "start_time": "2021-11-25T21:03:07.453Z"
   },
   {
    "duration": 534,
    "start_time": "2021-11-25T21:03:18.326Z"
   },
   {
    "duration": 406,
    "start_time": "2021-11-25T21:03:24.777Z"
   },
   {
    "duration": 390,
    "start_time": "2021-11-25T21:03:27.846Z"
   },
   {
    "duration": 231,
    "start_time": "2021-11-25T21:03:45.347Z"
   },
   {
    "duration": 383,
    "start_time": "2021-11-25T21:03:47.364Z"
   },
   {
    "duration": 491,
    "start_time": "2021-11-25T21:05:18.521Z"
   },
   {
    "duration": 337,
    "start_time": "2021-11-25T21:05:50.377Z"
   },
   {
    "duration": 399,
    "start_time": "2021-11-25T21:05:55.277Z"
   },
   {
    "duration": 276,
    "start_time": "2021-11-25T21:06:08.758Z"
   },
   {
    "duration": 227,
    "start_time": "2021-11-25T21:06:12.594Z"
   },
   {
    "duration": 787,
    "start_time": "2021-11-25T21:06:35.494Z"
   },
   {
    "duration": 1255,
    "start_time": "2021-11-25T21:06:36.284Z"
   },
   {
    "duration": 175,
    "start_time": "2021-11-25T21:06:37.543Z"
   },
   {
    "duration": 139,
    "start_time": "2021-11-25T21:06:37.721Z"
   },
   {
    "duration": 85,
    "start_time": "2021-11-25T21:06:37.863Z"
   },
   {
    "duration": 49857,
    "start_time": "2021-11-25T21:06:37.951Z"
   },
   {
    "duration": 448,
    "start_time": "2021-11-25T21:07:27.811Z"
   },
   {
    "duration": 280,
    "start_time": "2021-11-25T21:07:28.263Z"
   },
   {
    "duration": 364,
    "start_time": "2021-11-25T21:07:28.546Z"
   },
   {
    "duration": 814,
    "start_time": "2021-11-25T21:07:31.263Z"
   },
   {
    "duration": 1176,
    "start_time": "2021-11-25T21:07:32.080Z"
   },
   {
    "duration": 165,
    "start_time": "2021-11-25T21:07:33.259Z"
   },
   {
    "duration": 133,
    "start_time": "2021-11-25T21:07:33.430Z"
   },
   {
    "duration": 90,
    "start_time": "2021-11-25T21:07:33.565Z"
   },
   {
    "duration": 3,
    "start_time": "2021-11-25T21:07:33.657Z"
   },
   {
    "duration": 528,
    "start_time": "2021-11-25T21:07:33.662Z"
   },
   {
    "duration": 256,
    "start_time": "2021-11-25T21:07:34.193Z"
   },
   {
    "duration": 357,
    "start_time": "2021-11-25T21:07:34.452Z"
   },
   {
    "duration": 420,
    "start_time": "2021-11-25T21:07:43.391Z"
   },
   {
    "duration": 315,
    "start_time": "2021-11-25T21:09:54.792Z"
   },
   {
    "duration": 85,
    "start_time": "2021-11-25T21:10:12.005Z"
   },
   {
    "duration": 619,
    "start_time": "2021-11-25T21:17:14.247Z"
   },
   {
    "duration": 700,
    "start_time": "2021-11-25T21:17:17.744Z"
   },
   {
    "duration": 319,
    "start_time": "2021-11-25T21:17:21.712Z"
   },
   {
    "duration": 268,
    "start_time": "2021-11-25T21:18:56.404Z"
   },
   {
    "duration": 267,
    "start_time": "2021-11-25T21:19:04.536Z"
   },
   {
    "duration": 293,
    "start_time": "2021-11-25T21:19:19.716Z"
   },
   {
    "duration": 361,
    "start_time": "2021-11-25T21:19:24.978Z"
   },
   {
    "duration": 13,
    "start_time": "2021-11-25T21:19:52.086Z"
   },
   {
    "duration": 155,
    "start_time": "2021-11-25T21:47:06.386Z"
   },
   {
    "duration": 4,
    "start_time": "2021-11-25T21:48:36.910Z"
   },
   {
    "duration": 50,
    "start_time": "2021-11-25T21:56:05.835Z"
   },
   {
    "duration": 42,
    "start_time": "2021-11-25T21:56:56.262Z"
   },
   {
    "duration": 283,
    "start_time": "2021-11-25T21:57:32.869Z"
   },
   {
    "duration": 50,
    "start_time": "2021-11-25T21:57:40.164Z"
   },
   {
    "duration": 344,
    "start_time": "2021-11-25T22:04:35.063Z"
   },
   {
    "duration": 329,
    "start_time": "2021-11-25T22:05:13.072Z"
   },
   {
    "duration": 371,
    "start_time": "2021-11-25T22:08:00.047Z"
   },
   {
    "duration": 212,
    "start_time": "2021-11-25T22:08:16.121Z"
   },
   {
    "duration": 44,
    "start_time": "2021-11-25T22:08:45.365Z"
   },
   {
    "duration": 20,
    "start_time": "2021-11-25T22:09:04.927Z"
   },
   {
    "duration": 284,
    "start_time": "2021-11-25T22:09:34.904Z"
   },
   {
    "duration": 24,
    "start_time": "2021-11-25T22:09:40.401Z"
   },
   {
    "duration": 759,
    "start_time": "2021-11-25T22:09:56.599Z"
   },
   {
    "duration": 1358,
    "start_time": "2021-11-25T22:09:57.361Z"
   },
   {
    "duration": 172,
    "start_time": "2021-11-25T22:09:58.722Z"
   },
   {
    "duration": 133,
    "start_time": "2021-11-25T22:09:58.896Z"
   },
   {
    "duration": 72,
    "start_time": "2021-11-25T22:09:59.031Z"
   },
   {
    "duration": 24,
    "start_time": "2021-11-25T22:09:59.106Z"
   },
   {
    "duration": 529,
    "start_time": "2021-11-25T22:09:59.133Z"
   },
   {
    "duration": 264,
    "start_time": "2021-11-25T22:09:59.667Z"
   },
   {
    "duration": 338,
    "start_time": "2021-11-25T22:09:59.934Z"
   },
   {
    "duration": 14,
    "start_time": "2021-11-25T22:10:00.275Z"
   },
   {
    "duration": 77,
    "start_time": "2021-11-25T22:10:00.291Z"
   },
   {
    "duration": 340,
    "start_time": "2021-11-25T22:10:00.371Z"
   },
   {
    "duration": 393,
    "start_time": "2021-11-25T22:10:00.715Z"
   },
   {
    "duration": 280,
    "start_time": "2021-11-25T22:10:10.669Z"
   },
   {
    "duration": 760,
    "start_time": "2021-11-25T22:11:26.603Z"
   },
   {
    "duration": 1215,
    "start_time": "2021-11-25T22:11:27.366Z"
   },
   {
    "duration": 273,
    "start_time": "2021-11-25T22:11:28.585Z"
   },
   {
    "duration": 175,
    "start_time": "2021-11-25T22:11:28.861Z"
   },
   {
    "duration": 127,
    "start_time": "2021-11-25T22:11:29.039Z"
   },
   {
    "duration": 4,
    "start_time": "2021-11-25T22:11:29.169Z"
   },
   {
    "duration": 757,
    "start_time": "2021-11-25T22:11:29.175Z"
   },
   {
    "duration": 256,
    "start_time": "2021-11-25T22:11:29.935Z"
   },
   {
    "duration": 331,
    "start_time": "2021-11-25T22:11:30.194Z"
   },
   {
    "duration": 12,
    "start_time": "2021-11-25T22:11:30.528Z"
   },
   {
    "duration": 83,
    "start_time": "2021-11-25T22:11:30.542Z"
   },
   {
    "duration": 255,
    "start_time": "2021-11-25T22:11:30.627Z"
   },
   {
    "duration": 370,
    "start_time": "2021-11-25T22:11:30.884Z"
   },
   {
    "duration": 764,
    "start_time": "2021-11-25T22:12:54.702Z"
   },
   {
    "duration": 1282,
    "start_time": "2021-11-25T22:12:55.469Z"
   },
   {
    "duration": 276,
    "start_time": "2021-11-25T22:12:56.755Z"
   },
   {
    "duration": 144,
    "start_time": "2021-11-25T22:12:57.034Z"
   },
   {
    "duration": 86,
    "start_time": "2021-11-25T22:12:57.180Z"
   },
   {
    "duration": 4,
    "start_time": "2021-11-25T22:12:57.268Z"
   },
   {
    "duration": 637,
    "start_time": "2021-11-25T22:12:57.274Z"
   },
   {
    "duration": 361,
    "start_time": "2021-11-25T22:12:57.916Z"
   },
   {
    "duration": 683,
    "start_time": "2021-11-25T22:12:58.280Z"
   },
   {
    "duration": 14,
    "start_time": "2021-11-25T22:12:58.966Z"
   },
   {
    "duration": 103,
    "start_time": "2021-11-25T22:12:58.983Z"
   },
   {
    "duration": 373,
    "start_time": "2021-11-25T22:12:59.089Z"
   },
   {
    "duration": 762,
    "start_time": "2021-11-25T22:14:24.538Z"
   },
   {
    "duration": 1144,
    "start_time": "2021-11-25T22:14:25.303Z"
   },
   {
    "duration": 168,
    "start_time": "2021-11-25T22:14:26.450Z"
   },
   {
    "duration": 133,
    "start_time": "2021-11-25T22:14:26.620Z"
   },
   {
    "duration": 89,
    "start_time": "2021-11-25T22:14:26.756Z"
   },
   {
    "duration": 3,
    "start_time": "2021-11-25T22:14:26.848Z"
   },
   {
    "duration": 523,
    "start_time": "2021-11-25T22:14:26.853Z"
   },
   {
    "duration": 252,
    "start_time": "2021-11-25T22:14:27.380Z"
   },
   {
    "duration": 473,
    "start_time": "2021-11-25T22:14:27.634Z"
   },
   {
    "duration": 20,
    "start_time": "2021-11-25T22:14:28.110Z"
   },
   {
    "duration": 51,
    "start_time": "2021-11-25T22:14:28.133Z"
   },
   {
    "duration": 263,
    "start_time": "2021-11-25T22:14:28.186Z"
   },
   {
    "duration": 331,
    "start_time": "2021-11-25T22:14:43.890Z"
   },
   {
    "duration": 592,
    "start_time": "2021-11-25T22:18:27.780Z"
   },
   {
    "duration": 751,
    "start_time": "2021-11-25T22:18:37.945Z"
   },
   {
    "duration": 1301,
    "start_time": "2021-11-25T22:18:38.700Z"
   },
   {
    "duration": 285,
    "start_time": "2021-11-25T22:18:40.005Z"
   },
   {
    "duration": 144,
    "start_time": "2021-11-25T22:18:40.294Z"
   },
   {
    "duration": 90,
    "start_time": "2021-11-25T22:18:40.441Z"
   },
   {
    "duration": 3,
    "start_time": "2021-11-25T22:18:40.533Z"
   },
   {
    "duration": 364,
    "start_time": "2021-11-25T22:18:40.538Z"
   },
   {
    "duration": 532,
    "start_time": "2021-11-25T22:18:40.907Z"
   },
   {
    "duration": 253,
    "start_time": "2021-11-25T22:18:41.442Z"
   },
   {
    "duration": 473,
    "start_time": "2021-11-25T22:18:41.698Z"
   },
   {
    "duration": 12,
    "start_time": "2021-11-25T22:18:42.174Z"
   },
   {
    "duration": 72,
    "start_time": "2021-11-25T22:18:42.189Z"
   },
   {
    "duration": 79,
    "start_time": "2021-11-25T22:22:23.514Z"
   },
   {
    "duration": 4,
    "start_time": "2021-11-25T22:23:09.051Z"
   },
   {
    "duration": 884,
    "start_time": "2021-11-25T22:23:13.378Z"
   },
   {
    "duration": 3,
    "start_time": "2021-11-25T22:23:14.265Z"
   },
   {
    "duration": 1356,
    "start_time": "2021-11-25T22:23:14.271Z"
   },
   {
    "duration": 168,
    "start_time": "2021-11-25T22:23:15.630Z"
   },
   {
    "duration": 139,
    "start_time": "2021-11-25T22:23:15.801Z"
   },
   {
    "duration": 86,
    "start_time": "2021-11-25T22:23:15.943Z"
   },
   {
    "duration": 3,
    "start_time": "2021-11-25T22:23:16.031Z"
   },
   {
    "duration": 551,
    "start_time": "2021-11-25T22:23:16.037Z"
   },
   {
    "duration": 642,
    "start_time": "2021-11-25T22:23:16.593Z"
   },
   {
    "duration": 264,
    "start_time": "2021-11-25T22:23:17.237Z"
   },
   {
    "duration": 460,
    "start_time": "2021-11-25T22:23:17.503Z"
   },
   {
    "duration": 15,
    "start_time": "2021-11-25T22:23:17.966Z"
   },
   {
    "duration": 120,
    "start_time": "2021-11-25T22:23:17.984Z"
   },
   {
    "duration": 15,
    "start_time": "2021-11-25T22:23:50.577Z"
   },
   {
    "duration": 248,
    "start_time": "2021-11-25T22:23:58.611Z"
   },
   {
    "duration": 11,
    "start_time": "2021-11-25T22:23:59.808Z"
   },
   {
    "duration": 376,
    "start_time": "2021-11-25T22:25:05.938Z"
   },
   {
    "duration": 11,
    "start_time": "2021-11-25T22:25:06.350Z"
   },
   {
    "duration": 138,
    "start_time": "2021-11-25T22:27:22.069Z"
   },
   {
    "duration": 20,
    "start_time": "2021-11-25T22:27:24.233Z"
   },
   {
    "duration": 767,
    "start_time": "2021-11-25T22:27:45.053Z"
   },
   {
    "duration": 6,
    "start_time": "2021-11-25T22:27:45.823Z"
   },
   {
    "duration": 1169,
    "start_time": "2021-11-25T22:27:45.836Z"
   },
   {
    "duration": 168,
    "start_time": "2021-11-25T22:27:47.007Z"
   },
   {
    "duration": 133,
    "start_time": "2021-11-25T22:27:47.177Z"
   },
   {
    "duration": 82,
    "start_time": "2021-11-25T22:27:47.313Z"
   },
   {
    "duration": 3,
    "start_time": "2021-11-25T22:27:47.398Z"
   },
   {
    "duration": 556,
    "start_time": "2021-11-25T22:27:47.406Z"
   },
   {
    "duration": 741,
    "start_time": "2021-11-25T22:27:47.966Z"
   },
   {
    "duration": 351,
    "start_time": "2021-11-25T22:27:48.709Z"
   },
   {
    "duration": 694,
    "start_time": "2021-11-25T22:27:49.063Z"
   },
   {
    "duration": 14,
    "start_time": "2021-11-25T22:27:49.760Z"
   },
   {
    "duration": 652,
    "start_time": "2021-11-25T22:27:49.777Z"
   },
   {
    "duration": 14,
    "start_time": "2021-11-25T22:27:50.432Z"
   },
   {
    "duration": 146,
    "start_time": "2021-11-25T22:28:26.882Z"
   },
   {
    "duration": 209,
    "start_time": "2021-11-27T16:18:50.485Z"
   },
   {
    "duration": 532,
    "start_time": "2021-11-27T16:18:56.634Z"
   },
   {
    "duration": 3,
    "start_time": "2021-11-27T16:18:57.169Z"
   },
   {
    "duration": 782,
    "start_time": "2021-11-27T16:18:57.174Z"
   },
   {
    "duration": 128,
    "start_time": "2021-11-27T16:18:57.959Z"
   },
   {
    "duration": 103,
    "start_time": "2021-11-27T16:18:58.092Z"
   },
   {
    "duration": 52,
    "start_time": "2021-11-27T16:18:58.197Z"
   },
   {
    "duration": 2,
    "start_time": "2021-11-27T16:18:58.251Z"
   },
   {
    "duration": 259,
    "start_time": "2021-11-27T16:18:58.254Z"
   },
   {
    "duration": 339,
    "start_time": "2021-11-27T16:18:58.515Z"
   },
   {
    "duration": 160,
    "start_time": "2021-11-27T16:18:58.856Z"
   },
   {
    "duration": 305,
    "start_time": "2021-11-27T16:18:59.018Z"
   },
   {
    "duration": 7,
    "start_time": "2021-11-27T16:18:59.325Z"
   },
   {
    "duration": 313,
    "start_time": "2021-11-27T16:18:59.334Z"
   },
   {
    "duration": 4631,
    "start_time": "2021-11-27T16:18:59.648Z"
   },
   {
    "duration": 4264,
    "start_time": "2021-11-27T16:19:21.298Z"
   },
   {
    "duration": 6,
    "start_time": "2021-11-27T16:19:28.147Z"
   },
   {
    "duration": 31,
    "start_time": "2021-11-27T16:19:39.507Z"
   },
   {
    "duration": 185,
    "start_time": "2021-11-27T16:25:22.014Z"
   },
   {
    "duration": 492,
    "start_time": "2021-11-27T16:26:29.167Z"
   },
   {
    "duration": 465,
    "start_time": "2021-11-27T16:26:39.618Z"
   },
   {
    "duration": 252,
    "start_time": "2021-11-27T16:26:50.546Z"
   },
   {
    "duration": 205,
    "start_time": "2021-11-27T16:26:54.169Z"
   },
   {
    "duration": 521,
    "start_time": "2021-11-27T16:27:07.533Z"
   },
   {
    "duration": 3,
    "start_time": "2021-11-27T16:27:08.056Z"
   },
   {
    "duration": 835,
    "start_time": "2021-11-27T16:27:08.061Z"
   },
   {
    "duration": 121,
    "start_time": "2021-11-27T16:27:08.898Z"
   },
   {
    "duration": 106,
    "start_time": "2021-11-27T16:27:09.021Z"
   },
   {
    "duration": 52,
    "start_time": "2021-11-27T16:27:09.129Z"
   },
   {
    "duration": 2,
    "start_time": "2021-11-27T16:27:09.191Z"
   },
   {
    "duration": 250,
    "start_time": "2021-11-27T16:27:09.194Z"
   },
   {
    "duration": 337,
    "start_time": "2021-11-27T16:27:09.447Z"
   },
   {
    "duration": 162,
    "start_time": "2021-11-27T16:27:09.786Z"
   },
   {
    "duration": 321,
    "start_time": "2021-11-27T16:27:09.949Z"
   },
   {
    "duration": 19,
    "start_time": "2021-11-27T16:27:10.272Z"
   },
   {
    "duration": 303,
    "start_time": "2021-11-27T16:27:10.293Z"
   },
   {
    "duration": 33,
    "start_time": "2021-11-27T16:27:10.598Z"
   },
   {
    "duration": 458,
    "start_time": "2021-11-27T16:27:10.633Z"
   },
   {
    "duration": 5119,
    "start_time": "2021-11-27T16:27:11.093Z"
   },
   {
    "duration": 400,
    "start_time": "2021-11-27T16:27:55.652Z"
   },
   {
    "duration": 339,
    "start_time": "2021-11-27T16:28:50.523Z"
   },
   {
    "duration": 393,
    "start_time": "2021-11-27T16:29:06.380Z"
   },
   {
    "duration": 356,
    "start_time": "2021-11-27T16:29:40.187Z"
   },
   {
    "duration": 178,
    "start_time": "2021-11-27T16:29:48.539Z"
   },
   {
    "duration": 222,
    "start_time": "2021-11-27T16:30:42.231Z"
   },
   {
    "duration": 572,
    "start_time": "2021-11-27T16:34:20.576Z"
   },
   {
    "duration": 3,
    "start_time": "2021-11-27T16:34:21.151Z"
   },
   {
    "duration": 791,
    "start_time": "2021-11-27T16:34:21.157Z"
   },
   {
    "duration": 124,
    "start_time": "2021-11-27T16:34:21.951Z"
   },
   {
    "duration": 107,
    "start_time": "2021-11-27T16:34:22.077Z"
   },
   {
    "duration": 259,
    "start_time": "2021-11-27T16:34:22.192Z"
   },
   {
    "duration": 351,
    "start_time": "2021-11-27T16:34:22.453Z"
   },
   {
    "duration": 168,
    "start_time": "2021-11-27T16:34:22.806Z"
   },
   {
    "duration": 314,
    "start_time": "2021-11-27T16:34:22.977Z"
   },
   {
    "duration": 9,
    "start_time": "2021-11-27T16:34:23.294Z"
   },
   {
    "duration": 321,
    "start_time": "2021-11-27T16:34:23.305Z"
   },
   {
    "duration": 33,
    "start_time": "2021-11-27T16:34:23.628Z"
   },
   {
    "duration": 476,
    "start_time": "2021-11-27T16:34:23.663Z"
   },
   {
    "duration": 56,
    "start_time": "2021-11-27T16:34:24.142Z"
   },
   {
    "duration": 3,
    "start_time": "2021-11-27T16:34:24.200Z"
   },
   {
    "duration": 119,
    "start_time": "2021-11-27T16:35:03.949Z"
   },
   {
    "duration": 1022,
    "start_time": "2021-11-27T16:36:36.819Z"
   },
   {
    "duration": 510,
    "start_time": "2021-11-27T16:37:20.668Z"
   },
   {
    "duration": 565,
    "start_time": "2021-11-27T16:38:19.092Z"
   },
   {
    "duration": 240,
    "start_time": "2021-11-27T16:39:05.176Z"
   },
   {
    "duration": 57,
    "start_time": "2021-11-27T16:39:21.164Z"
   },
   {
    "duration": 565,
    "start_time": "2021-11-27T16:39:56.686Z"
   },
   {
    "duration": 2,
    "start_time": "2021-11-27T16:39:57.253Z"
   },
   {
    "duration": 768,
    "start_time": "2021-11-27T16:39:57.257Z"
   },
   {
    "duration": 140,
    "start_time": "2021-11-27T16:39:58.027Z"
   },
   {
    "duration": 99,
    "start_time": "2021-11-27T16:39:58.169Z"
   },
   {
    "duration": 263,
    "start_time": "2021-11-27T16:39:58.269Z"
   },
   {
    "duration": 341,
    "start_time": "2021-11-27T16:39:58.533Z"
   },
   {
    "duration": 153,
    "start_time": "2021-11-27T16:39:58.876Z"
   },
   {
    "duration": 311,
    "start_time": "2021-11-27T16:39:59.031Z"
   },
   {
    "duration": 7,
    "start_time": "2021-11-27T16:39:59.344Z"
   },
   {
    "duration": 308,
    "start_time": "2021-11-27T16:39:59.352Z"
   },
   {
    "duration": 33,
    "start_time": "2021-11-27T16:39:59.661Z"
   },
   {
    "duration": 980,
    "start_time": "2021-11-27T16:39:59.696Z"
   },
   {
    "duration": 17,
    "start_time": "2021-11-27T16:40:00.677Z"
   },
   {
    "duration": 202,
    "start_time": "2021-11-27T16:40:00.696Z"
   },
   {
    "duration": 2,
    "start_time": "2021-11-27T16:40:00.899Z"
   },
   {
    "duration": 385,
    "start_time": "2021-11-27T16:40:21.410Z"
   },
   {
    "duration": 395,
    "start_time": "2021-11-27T16:41:05.854Z"
   },
   {
    "duration": 20,
    "start_time": "2021-11-27T16:41:09.115Z"
   },
   {
    "duration": 528,
    "start_time": "2021-11-27T16:41:17.834Z"
   },
   {
    "duration": 3,
    "start_time": "2021-11-27T16:41:18.364Z"
   },
   {
    "duration": 789,
    "start_time": "2021-11-27T16:41:18.369Z"
   },
   {
    "duration": 124,
    "start_time": "2021-11-27T16:41:19.159Z"
   },
   {
    "duration": 97,
    "start_time": "2021-11-27T16:41:19.285Z"
   },
   {
    "duration": 255,
    "start_time": "2021-11-27T16:41:19.391Z"
   },
   {
    "duration": 340,
    "start_time": "2021-11-27T16:41:19.648Z"
   },
   {
    "duration": 178,
    "start_time": "2021-11-27T16:41:19.991Z"
   },
   {
    "duration": 308,
    "start_time": "2021-11-27T16:41:20.171Z"
   },
   {
    "duration": 15,
    "start_time": "2021-11-27T16:41:20.481Z"
   },
   {
    "duration": 304,
    "start_time": "2021-11-27T16:41:20.497Z"
   },
   {
    "duration": 29,
    "start_time": "2021-11-27T16:41:20.803Z"
   },
   {
    "duration": 963,
    "start_time": "2021-11-27T16:41:20.833Z"
   },
   {
    "duration": 16,
    "start_time": "2021-11-27T16:41:21.798Z"
   },
   {
    "duration": 232,
    "start_time": "2021-11-27T16:41:21.816Z"
   },
   {
    "duration": 2,
    "start_time": "2021-11-27T16:41:22.050Z"
   },
   {
    "duration": 531,
    "start_time": "2021-11-27T16:43:11.135Z"
   },
   {
    "duration": 3,
    "start_time": "2021-11-27T16:43:11.668Z"
   },
   {
    "duration": 809,
    "start_time": "2021-11-27T16:43:11.673Z"
   },
   {
    "duration": 127,
    "start_time": "2021-11-27T16:43:12.484Z"
   },
   {
    "duration": 109,
    "start_time": "2021-11-27T16:43:12.613Z"
   },
   {
    "duration": 256,
    "start_time": "2021-11-27T16:43:12.723Z"
   },
   {
    "duration": 353,
    "start_time": "2021-11-27T16:43:12.980Z"
   },
   {
    "duration": 158,
    "start_time": "2021-11-27T16:43:13.335Z"
   },
   {
    "duration": 316,
    "start_time": "2021-11-27T16:43:13.496Z"
   },
   {
    "duration": 8,
    "start_time": "2021-11-27T16:43:13.813Z"
   },
   {
    "duration": 253,
    "start_time": "2021-11-27T16:43:13.823Z"
   },
   {
    "duration": -345,
    "start_time": "2021-11-27T16:43:14.423Z"
   },
   {
    "duration": -345,
    "start_time": "2021-11-27T16:43:14.424Z"
   },
   {
    "duration": -346,
    "start_time": "2021-11-27T16:43:14.425Z"
   },
   {
    "duration": -346,
    "start_time": "2021-11-27T16:43:14.426Z"
   },
   {
    "duration": -346,
    "start_time": "2021-11-27T16:43:14.427Z"
   },
   {
    "duration": 27,
    "start_time": "2021-11-27T16:43:26.382Z"
   },
   {
    "duration": 573,
    "start_time": "2021-11-27T16:43:53.800Z"
   },
   {
    "duration": 2,
    "start_time": "2021-11-27T16:43:54.375Z"
   },
   {
    "duration": 878,
    "start_time": "2021-11-27T16:43:54.379Z"
   },
   {
    "duration": 134,
    "start_time": "2021-11-27T16:43:55.259Z"
   },
   {
    "duration": 109,
    "start_time": "2021-11-27T16:43:55.395Z"
   },
   {
    "duration": 261,
    "start_time": "2021-11-27T16:43:55.506Z"
   },
   {
    "duration": 347,
    "start_time": "2021-11-27T16:43:55.768Z"
   },
   {
    "duration": 168,
    "start_time": "2021-11-27T16:43:56.116Z"
   },
   {
    "duration": 331,
    "start_time": "2021-11-27T16:43:56.286Z"
   },
   {
    "duration": 8,
    "start_time": "2021-11-27T16:43:56.618Z"
   },
   {
    "duration": 28,
    "start_time": "2021-11-27T16:43:56.628Z"
   },
   {
    "duration": 57,
    "start_time": "2021-11-27T16:43:56.657Z"
   },
   {
    "duration": 645,
    "start_time": "2021-11-27T16:43:56.716Z"
   },
   {
    "duration": 116,
    "start_time": "2021-11-27T16:43:57.362Z"
   },
   {
    "duration": 74,
    "start_time": "2021-11-27T16:43:57.479Z"
   },
   {
    "duration": 2,
    "start_time": "2021-11-27T16:43:57.555Z"
   },
   {
    "duration": 572,
    "start_time": "2021-11-27T16:44:57.389Z"
   },
   {
    "duration": 3,
    "start_time": "2021-11-27T16:44:57.963Z"
   },
   {
    "duration": 795,
    "start_time": "2021-11-27T16:44:57.969Z"
   },
   {
    "duration": 126,
    "start_time": "2021-11-27T16:44:58.766Z"
   },
   {
    "duration": 100,
    "start_time": "2021-11-27T16:44:58.893Z"
   },
   {
    "duration": 261,
    "start_time": "2021-11-27T16:44:58.995Z"
   },
   {
    "duration": 356,
    "start_time": "2021-11-27T16:44:59.258Z"
   },
   {
    "duration": 169,
    "start_time": "2021-11-27T16:44:59.617Z"
   },
   {
    "duration": 315,
    "start_time": "2021-11-27T16:44:59.791Z"
   },
   {
    "duration": 7,
    "start_time": "2021-11-27T16:45:00.108Z"
   },
   {
    "duration": 27,
    "start_time": "2021-11-27T16:45:00.117Z"
   },
   {
    "duration": 54,
    "start_time": "2021-11-27T16:45:00.146Z"
   },
   {
    "duration": 237,
    "start_time": "2021-11-27T16:45:00.202Z"
   },
   {
    "duration": 109,
    "start_time": "2021-11-27T16:45:00.441Z"
   },
   {
    "duration": 77,
    "start_time": "2021-11-27T16:45:00.551Z"
   },
   {
    "duration": 2,
    "start_time": "2021-11-27T16:45:00.630Z"
   },
   {
    "duration": 6,
    "start_time": "2021-11-27T16:50:37.497Z"
   },
   {
    "duration": 5,
    "start_time": "2021-11-27T16:50:55.331Z"
   },
   {
    "duration": 511,
    "start_time": "2021-11-27T16:51:38.235Z"
   },
   {
    "duration": 2,
    "start_time": "2021-11-27T16:51:38.748Z"
   },
   {
    "duration": 768,
    "start_time": "2021-11-27T16:51:38.754Z"
   },
   {
    "duration": 5,
    "start_time": "2021-11-27T16:51:39.524Z"
   },
   {
    "duration": 123,
    "start_time": "2021-11-27T16:51:39.530Z"
   },
   {
    "duration": 100,
    "start_time": "2021-11-27T16:51:39.655Z"
   },
   {
    "duration": 253,
    "start_time": "2021-11-27T16:51:39.757Z"
   },
   {
    "duration": 338,
    "start_time": "2021-11-27T16:51:40.012Z"
   },
   {
    "duration": 163,
    "start_time": "2021-11-27T16:51:40.352Z"
   },
   {
    "duration": 307,
    "start_time": "2021-11-27T16:51:40.516Z"
   },
   {
    "duration": 8,
    "start_time": "2021-11-27T16:51:40.825Z"
   },
   {
    "duration": 23,
    "start_time": "2021-11-27T16:51:40.835Z"
   },
   {
    "duration": 50,
    "start_time": "2021-11-27T16:51:40.860Z"
   },
   {
    "duration": 226,
    "start_time": "2021-11-27T16:51:40.912Z"
   },
   {
    "duration": 108,
    "start_time": "2021-11-27T16:51:41.139Z"
   },
   {
    "duration": 73,
    "start_time": "2021-11-27T16:51:41.249Z"
   },
   {
    "duration": 3,
    "start_time": "2021-11-27T16:51:41.323Z"
   },
   {
    "duration": 10,
    "start_time": "2021-11-27T16:51:41.327Z"
   },
   {
    "duration": 44,
    "start_time": "2021-11-27T16:53:59.342Z"
   },
   {
    "duration": 37,
    "start_time": "2021-11-27T16:54:15.502Z"
   },
   {
    "duration": 3,
    "start_time": "2021-11-27T16:56:45.365Z"
   },
   {
    "duration": 2,
    "start_time": "2021-11-27T16:56:45.392Z"
   },
   {
    "duration": 731,
    "start_time": "2021-11-27T16:56:45.396Z"
   },
   {
    "duration": 123,
    "start_time": "2021-11-27T16:56:46.129Z"
   },
   {
    "duration": 100,
    "start_time": "2021-11-27T16:56:46.254Z"
   },
   {
    "duration": 245,
    "start_time": "2021-11-27T16:56:46.357Z"
   },
   {
    "duration": 252,
    "start_time": "2021-11-27T16:56:46.604Z"
   },
   {
    "duration": 170,
    "start_time": "2021-11-27T16:56:46.858Z"
   },
   {
    "duration": 315,
    "start_time": "2021-11-27T16:56:47.030Z"
   },
   {
    "duration": 8,
    "start_time": "2021-11-27T16:56:47.346Z"
   },
   {
    "duration": 41,
    "start_time": "2021-11-27T16:56:47.356Z"
   },
   {
    "duration": 36,
    "start_time": "2021-11-27T16:56:47.399Z"
   },
   {
    "duration": 138,
    "start_time": "2021-11-27T16:56:47.438Z"
   },
   {
    "duration": 59,
    "start_time": "2021-11-27T16:56:47.578Z"
   },
   {
    "duration": 2,
    "start_time": "2021-11-27T16:56:47.639Z"
   },
   {
    "duration": 8,
    "start_time": "2021-11-27T16:56:47.643Z"
   },
   {
    "duration": 70,
    "start_time": "2021-11-27T16:56:47.653Z"
   },
   {
    "duration": 20,
    "start_time": "2021-11-27T17:06:10.572Z"
   },
   {
    "duration": 54,
    "start_time": "2021-11-27T17:06:27.474Z"
   },
   {
    "duration": 597,
    "start_time": "2021-11-27T17:07:19.662Z"
   },
   {
    "duration": 3,
    "start_time": "2021-11-27T17:07:20.261Z"
   },
   {
    "duration": 848,
    "start_time": "2021-11-27T17:07:20.269Z"
   },
   {
    "duration": 135,
    "start_time": "2021-11-27T17:07:21.119Z"
   },
   {
    "duration": 108,
    "start_time": "2021-11-27T17:07:21.255Z"
   },
   {
    "duration": 275,
    "start_time": "2021-11-27T17:07:21.364Z"
   },
   {
    "duration": 367,
    "start_time": "2021-11-27T17:07:21.641Z"
   },
   {
    "duration": 184,
    "start_time": "2021-11-27T17:07:22.011Z"
   },
   {
    "duration": 343,
    "start_time": "2021-11-27T17:07:22.197Z"
   },
   {
    "duration": 8,
    "start_time": "2021-11-27T17:07:22.542Z"
   },
   {
    "duration": 42,
    "start_time": "2021-11-27T17:07:22.552Z"
   },
   {
    "duration": 40,
    "start_time": "2021-11-27T17:07:22.596Z"
   },
   {
    "duration": 79,
    "start_time": "2021-11-27T17:07:22.638Z"
   },
   {
    "duration": 131,
    "start_time": "2021-11-27T17:07:22.719Z"
   },
   {
    "duration": 63,
    "start_time": "2021-11-27T17:07:22.852Z"
   },
   {
    "duration": 2,
    "start_time": "2021-11-27T17:07:22.918Z"
   },
   {
    "duration": 49,
    "start_time": "2021-11-27T17:07:22.923Z"
   },
   {
    "duration": 65,
    "start_time": "2021-11-27T17:07:22.974Z"
   },
   {
    "duration": 545,
    "start_time": "2021-11-27T17:12:22.756Z"
   },
   {
    "duration": 2,
    "start_time": "2021-11-27T17:12:23.303Z"
   },
   {
    "duration": 827,
    "start_time": "2021-11-27T17:12:23.307Z"
   },
   {
    "duration": 124,
    "start_time": "2021-11-27T17:12:24.135Z"
   },
   {
    "duration": 111,
    "start_time": "2021-11-27T17:12:24.261Z"
   },
   {
    "duration": 273,
    "start_time": "2021-11-27T17:12:24.373Z"
   },
   {
    "duration": 348,
    "start_time": "2021-11-27T17:12:24.647Z"
   },
   {
    "duration": 174,
    "start_time": "2021-11-27T17:12:24.998Z"
   },
   {
    "duration": 328,
    "start_time": "2021-11-27T17:12:25.174Z"
   },
   {
    "duration": 7,
    "start_time": "2021-11-27T17:12:25.504Z"
   },
   {
    "duration": 31,
    "start_time": "2021-11-27T17:12:25.513Z"
   },
   {
    "duration": 49,
    "start_time": "2021-11-27T17:12:25.545Z"
   },
   {
    "duration": 50,
    "start_time": "2021-11-27T17:12:25.597Z"
   },
   {
    "duration": 2,
    "start_time": "2021-11-27T17:12:25.649Z"
   },
   {
    "duration": 139,
    "start_time": "2021-11-27T17:12:25.652Z"
   },
   {
    "duration": 47,
    "start_time": "2021-11-27T17:12:25.793Z"
   },
   {
    "duration": 68,
    "start_time": "2021-11-27T17:12:25.842Z"
   },
   {
    "duration": 48,
    "start_time": "2021-11-27T17:12:25.912Z"
   },
   {
    "duration": 74,
    "start_time": "2021-11-27T17:14:25.541Z"
   },
   {
    "duration": 29,
    "start_time": "2021-11-27T17:14:54.567Z"
   },
   {
    "duration": 331,
    "start_time": "2021-11-27T17:15:04.175Z"
   },
   {
    "duration": 194,
    "start_time": "2021-11-27T17:15:09.661Z"
   },
   {
    "duration": 33,
    "start_time": "2021-11-27T17:15:32.840Z"
   },
   {
    "duration": 19,
    "start_time": "2021-11-27T17:22:01.495Z"
   },
   {
    "duration": 173,
    "start_time": "2021-11-27T17:22:13.176Z"
   },
   {
    "duration": 33,
    "start_time": "2021-11-27T17:22:21.478Z"
   },
   {
    "duration": 18,
    "start_time": "2021-11-27T17:24:48.579Z"
   },
   {
    "duration": 45,
    "start_time": "2021-11-27T17:25:47.631Z"
   },
   {
    "duration": 30,
    "start_time": "2021-11-27T17:26:07.418Z"
   },
   {
    "duration": 4356,
    "start_time": "2021-11-27T17:27:29.397Z"
   },
   {
    "duration": 32,
    "start_time": "2021-11-27T17:27:45.789Z"
   },
   {
    "duration": 203,
    "start_time": "2021-11-27T17:29:04.627Z"
   },
   {
    "duration": 56,
    "start_time": "2021-11-27T17:29:08.619Z"
   },
   {
    "duration": 60,
    "start_time": "2021-11-27T17:29:28.494Z"
   },
   {
    "duration": 86,
    "start_time": "2021-11-27T17:30:00.065Z"
   },
   {
    "duration": 48,
    "start_time": "2021-11-27T17:32:08.755Z"
   },
   {
    "duration": 21,
    "start_time": "2021-11-27T17:32:22.604Z"
   },
   {
    "duration": 528,
    "start_time": "2021-11-27T17:35:08.222Z"
   },
   {
    "duration": 3,
    "start_time": "2021-11-27T17:35:08.752Z"
   },
   {
    "duration": 821,
    "start_time": "2021-11-27T17:35:08.757Z"
   },
   {
    "duration": 122,
    "start_time": "2021-11-27T17:35:09.580Z"
   },
   {
    "duration": 104,
    "start_time": "2021-11-27T17:35:09.703Z"
   },
   {
    "duration": 261,
    "start_time": "2021-11-27T17:35:09.810Z"
   },
   {
    "duration": 343,
    "start_time": "2021-11-27T17:35:10.073Z"
   },
   {
    "duration": 161,
    "start_time": "2021-11-27T17:35:10.418Z"
   },
   {
    "duration": 317,
    "start_time": "2021-11-27T17:35:10.582Z"
   },
   {
    "duration": 8,
    "start_time": "2021-11-27T17:35:10.901Z"
   },
   {
    "duration": 42,
    "start_time": "2021-11-27T17:35:10.911Z"
   },
   {
    "duration": 37,
    "start_time": "2021-11-27T17:35:10.955Z"
   },
   {
    "duration": 53,
    "start_time": "2021-11-27T17:35:10.994Z"
   },
   {
    "duration": 31,
    "start_time": "2021-11-27T17:35:11.049Z"
   },
   {
    "duration": 32,
    "start_time": "2021-11-27T17:35:11.091Z"
   },
   {
    "duration": 26,
    "start_time": "2021-11-27T17:35:11.125Z"
   },
   {
    "duration": 111,
    "start_time": "2021-11-27T17:35:11.153Z"
   },
   {
    "duration": 28,
    "start_time": "2021-11-27T17:35:11.266Z"
   },
   {
    "duration": 8,
    "start_time": "2021-11-27T17:35:11.295Z"
   },
   {
    "duration": 116,
    "start_time": "2021-11-27T17:35:11.305Z"
   },
   {
    "duration": 45,
    "start_time": "2021-11-27T17:35:11.423Z"
   },
   {
    "duration": 22,
    "start_time": "2021-11-27T17:35:11.470Z"
   },
   {
    "duration": 52,
    "start_time": "2021-11-27T17:35:11.494Z"
   },
   {
    "duration": 5015,
    "start_time": "2021-11-27T17:39:26.943Z"
   },
   {
    "duration": 20,
    "start_time": "2021-11-27T17:39:35.958Z"
   },
   {
    "duration": 182,
    "start_time": "2021-11-27T17:43:17.253Z"
   },
   {
    "duration": 45,
    "start_time": "2021-11-27T17:44:34.769Z"
   },
   {
    "duration": 536,
    "start_time": "2021-11-27T17:44:42.610Z"
   },
   {
    "duration": 3,
    "start_time": "2021-11-27T17:44:43.148Z"
   },
   {
    "duration": 793,
    "start_time": "2021-11-27T17:44:43.153Z"
   },
   {
    "duration": 121,
    "start_time": "2021-11-27T17:44:43.948Z"
   },
   {
    "duration": 100,
    "start_time": "2021-11-27T17:44:44.070Z"
   },
   {
    "duration": 262,
    "start_time": "2021-11-27T17:44:44.172Z"
   },
   {
    "duration": 333,
    "start_time": "2021-11-27T17:44:44.436Z"
   },
   {
    "duration": 164,
    "start_time": "2021-11-27T17:44:44.770Z"
   },
   {
    "duration": 309,
    "start_time": "2021-11-27T17:44:44.936Z"
   },
   {
    "duration": 7,
    "start_time": "2021-11-27T17:44:45.246Z"
   },
   {
    "duration": 42,
    "start_time": "2021-11-27T17:44:45.255Z"
   },
   {
    "duration": 30,
    "start_time": "2021-11-27T17:44:45.299Z"
   },
   {
    "duration": 61,
    "start_time": "2021-11-27T17:44:45.330Z"
   },
   {
    "duration": 30,
    "start_time": "2021-11-27T17:44:45.393Z"
   },
   {
    "duration": 31,
    "start_time": "2021-11-27T17:44:45.425Z"
   },
   {
    "duration": 43,
    "start_time": "2021-11-27T17:44:45.458Z"
   },
   {
    "duration": 101,
    "start_time": "2021-11-27T17:44:45.503Z"
   },
   {
    "duration": 20,
    "start_time": "2021-11-27T17:44:45.605Z"
   },
   {
    "duration": 20,
    "start_time": "2021-11-27T17:44:45.626Z"
   },
   {
    "duration": 70,
    "start_time": "2021-11-27T17:44:45.648Z"
   },
   {
    "duration": 2,
    "start_time": "2021-11-27T17:44:45.720Z"
   },
   {
    "duration": 118,
    "start_time": "2021-11-27T17:44:45.724Z"
   },
   {
    "duration": 59,
    "start_time": "2021-11-27T17:44:45.844Z"
   },
   {
    "duration": 6,
    "start_time": "2021-11-27T17:44:45.906Z"
   },
   {
    "duration": 49,
    "start_time": "2021-11-27T17:44:45.914Z"
   },
   {
    "duration": 32,
    "start_time": "2021-11-27T17:46:03.249Z"
   },
   {
    "duration": 46,
    "start_time": "2021-11-27T17:58:59.673Z"
   },
   {
    "duration": 544,
    "start_time": "2021-11-27T17:59:21.418Z"
   },
   {
    "duration": 2,
    "start_time": "2021-11-27T17:59:21.964Z"
   },
   {
    "duration": 828,
    "start_time": "2021-11-27T17:59:21.970Z"
   },
   {
    "duration": 136,
    "start_time": "2021-11-27T17:59:22.800Z"
   },
   {
    "duration": 109,
    "start_time": "2021-11-27T17:59:22.938Z"
   },
   {
    "duration": 266,
    "start_time": "2021-11-27T17:59:23.049Z"
   },
   {
    "duration": 345,
    "start_time": "2021-11-27T17:59:23.316Z"
   },
   {
    "duration": 172,
    "start_time": "2021-11-27T17:59:23.663Z"
   },
   {
    "duration": 314,
    "start_time": "2021-11-27T17:59:23.837Z"
   },
   {
    "duration": 7,
    "start_time": "2021-11-27T17:59:24.153Z"
   },
   {
    "duration": 42,
    "start_time": "2021-11-27T17:59:24.162Z"
   },
   {
    "duration": 31,
    "start_time": "2021-11-27T17:59:24.205Z"
   },
   {
    "duration": 60,
    "start_time": "2021-11-27T17:59:24.237Z"
   },
   {
    "duration": 33,
    "start_time": "2021-11-27T17:59:24.299Z"
   },
   {
    "duration": 31,
    "start_time": "2021-11-27T17:59:24.334Z"
   },
   {
    "duration": 45,
    "start_time": "2021-11-27T17:59:24.366Z"
   },
   {
    "duration": 103,
    "start_time": "2021-11-27T17:59:24.413Z"
   },
   {
    "duration": 20,
    "start_time": "2021-11-27T17:59:24.518Z"
   },
   {
    "duration": 19,
    "start_time": "2021-11-27T17:59:24.539Z"
   },
   {
    "duration": 73,
    "start_time": "2021-11-27T17:59:24.560Z"
   },
   {
    "duration": 31,
    "start_time": "2021-11-27T17:59:24.635Z"
   },
   {
    "duration": 53,
    "start_time": "2021-11-27T17:59:24.668Z"
   },
   {
    "duration": 31,
    "start_time": "2021-11-27T17:59:24.722Z"
   },
   {
    "duration": 4,
    "start_time": "2021-11-27T17:59:24.755Z"
   },
   {
    "duration": 123,
    "start_time": "2021-11-27T17:59:24.760Z"
   },
   {
    "duration": 49,
    "start_time": "2021-11-27T17:59:24.886Z"
   },
   {
    "duration": 5,
    "start_time": "2021-11-27T17:59:24.937Z"
   },
   {
    "duration": 69,
    "start_time": "2021-11-27T17:59:24.943Z"
   },
   {
    "duration": 1191,
    "start_time": "2021-11-27T22:18:26.280Z"
   },
   {
    "duration": 1016,
    "start_time": "2021-11-27T22:20:06.224Z"
   },
   {
    "duration": 4,
    "start_time": "2021-11-27T22:20:07.242Z"
   },
   {
    "duration": 953,
    "start_time": "2021-11-27T22:20:07.248Z"
   },
   {
    "duration": 123,
    "start_time": "2021-11-27T22:20:08.203Z"
   },
   {
    "duration": 114,
    "start_time": "2021-11-27T22:20:08.328Z"
   },
   {
    "duration": 266,
    "start_time": "2021-11-27T22:20:08.444Z"
   },
   {
    "duration": 348,
    "start_time": "2021-11-27T22:20:08.712Z"
   },
   {
    "duration": 170,
    "start_time": "2021-11-27T22:20:09.062Z"
   },
   {
    "duration": 322,
    "start_time": "2021-11-27T22:20:09.234Z"
   },
   {
    "duration": 11,
    "start_time": "2021-11-27T22:20:09.558Z"
   },
   {
    "duration": 42,
    "start_time": "2021-11-27T22:20:09.570Z"
   },
   {
    "duration": 30,
    "start_time": "2021-11-27T22:20:09.614Z"
   },
   {
    "duration": 64,
    "start_time": "2021-11-27T22:20:09.646Z"
   },
   {
    "duration": 32,
    "start_time": "2021-11-27T22:20:09.711Z"
   },
   {
    "duration": 50,
    "start_time": "2021-11-27T22:20:09.745Z"
   },
   {
    "duration": 28,
    "start_time": "2021-11-27T22:20:09.797Z"
   },
   {
    "duration": 70,
    "start_time": "2021-11-27T22:20:09.827Z"
   },
   {
    "duration": 21,
    "start_time": "2021-11-27T22:20:09.898Z"
   },
   {
    "duration": 21,
    "start_time": "2021-11-27T22:20:09.920Z"
   },
   {
    "duration": 82,
    "start_time": "2021-11-27T22:20:09.942Z"
   },
   {
    "duration": 40,
    "start_time": "2021-11-27T22:20:10.027Z"
   },
   {
    "duration": 61,
    "start_time": "2021-11-27T22:20:10.069Z"
   },
   {
    "duration": 33,
    "start_time": "2021-11-27T22:20:10.134Z"
   },
   {
    "duration": 127,
    "start_time": "2021-11-27T22:20:10.169Z"
   },
   {
    "duration": 3,
    "start_time": "2021-11-27T22:20:10.298Z"
   },
   {
    "duration": 58,
    "start_time": "2021-11-27T22:20:10.303Z"
   },
   {
    "duration": 5,
    "start_time": "2021-11-27T22:20:10.363Z"
   },
   {
    "duration": 67,
    "start_time": "2021-11-27T22:20:10.370Z"
   },
   {
    "duration": 1193,
    "start_time": "2021-11-27T22:20:10.438Z"
   },
   {
    "duration": -213,
    "start_time": "2021-11-27T22:20:11.846Z"
   },
   {
    "duration": 1109,
    "start_time": "2021-11-27T22:20:43.094Z"
   },
   {
    "duration": 1128,
    "start_time": "2021-11-27T22:22:36.972Z"
   },
   {
    "duration": 188,
    "start_time": "2021-11-27T22:24:46.646Z"
   },
   {
    "duration": 104,
    "start_time": "2021-11-27T22:25:58.575Z"
   },
   {
    "duration": 179,
    "start_time": "2021-11-27T22:27:03.315Z"
   },
   {
    "duration": 71,
    "start_time": "2021-11-27T22:27:14.552Z"
   },
   {
    "duration": 89,
    "start_time": "2021-11-27T22:29:14.203Z"
   },
   {
    "duration": 190,
    "start_time": "2021-11-27T22:30:07.826Z"
   },
   {
    "duration": 1014,
    "start_time": "2021-11-27T22:31:04.013Z"
   },
   {
    "duration": 3,
    "start_time": "2021-11-27T22:31:05.029Z"
   },
   {
    "duration": 806,
    "start_time": "2021-11-27T22:31:05.034Z"
   },
   {
    "duration": 124,
    "start_time": "2021-11-27T22:31:05.842Z"
   },
   {
    "duration": 108,
    "start_time": "2021-11-27T22:31:05.969Z"
   },
   {
    "duration": 273,
    "start_time": "2021-11-27T22:31:06.079Z"
   },
   {
    "duration": 343,
    "start_time": "2021-11-27T22:31:06.354Z"
   },
   {
    "duration": 169,
    "start_time": "2021-11-27T22:31:06.699Z"
   },
   {
    "duration": 312,
    "start_time": "2021-11-27T22:31:06.871Z"
   },
   {
    "duration": 12,
    "start_time": "2021-11-27T22:31:07.185Z"
   },
   {
    "duration": 28,
    "start_time": "2021-11-27T22:31:07.198Z"
   },
   {
    "duration": 32,
    "start_time": "2021-11-27T22:31:07.228Z"
   },
   {
    "duration": 75,
    "start_time": "2021-11-27T22:31:07.261Z"
   },
   {
    "duration": 34,
    "start_time": "2021-11-27T22:31:07.338Z"
   },
   {
    "duration": 49,
    "start_time": "2021-11-27T22:31:07.373Z"
   },
   {
    "duration": 28,
    "start_time": "2021-11-27T22:31:07.423Z"
   },
   {
    "duration": 64,
    "start_time": "2021-11-27T22:31:07.453Z"
   },
   {
    "duration": 21,
    "start_time": "2021-11-27T22:31:07.519Z"
   },
   {
    "duration": 22,
    "start_time": "2021-11-27T22:31:07.542Z"
   },
   {
    "duration": 73,
    "start_time": "2021-11-27T22:31:07.565Z"
   },
   {
    "duration": 31,
    "start_time": "2021-11-27T22:31:07.640Z"
   },
   {
    "duration": 56,
    "start_time": "2021-11-27T22:31:07.673Z"
   },
   {
    "duration": 29,
    "start_time": "2021-11-27T22:31:07.731Z"
   },
   {
    "duration": 119,
    "start_time": "2021-11-27T22:31:07.762Z"
   },
   {
    "duration": 2,
    "start_time": "2021-11-27T22:31:07.884Z"
   },
   {
    "duration": 50,
    "start_time": "2021-11-27T22:31:07.887Z"
   },
   {
    "duration": 5,
    "start_time": "2021-11-27T22:31:07.940Z"
   },
   {
    "duration": 66,
    "start_time": "2021-11-27T22:31:07.947Z"
   },
   {
    "duration": 129,
    "start_time": "2021-11-27T22:31:08.015Z"
   },
   {
    "duration": 280,
    "start_time": "2021-11-27T22:31:08.146Z"
   },
   {
    "duration": 737,
    "start_time": "2021-11-27T22:31:08.428Z"
   },
   {
    "duration": 71,
    "start_time": "2021-11-27T22:31:09.167Z"
   },
   {
    "duration": 6,
    "start_time": "2021-11-27T22:31:09.240Z"
   },
   {
    "duration": 610,
    "start_time": "2021-11-27T22:31:36.105Z"
   },
   {
    "duration": 681,
    "start_time": "2021-11-27T22:31:39.737Z"
   },
   {
    "duration": 3,
    "start_time": "2021-11-27T22:46:11.627Z"
   },
   {
    "duration": 1219,
    "start_time": "2021-11-27T22:48:23.236Z"
   },
   {
    "duration": 274,
    "start_time": "2021-11-27T22:49:23.197Z"
   },
   {
    "duration": 225,
    "start_time": "2021-11-27T22:49:32.509Z"
   },
   {
    "duration": 1315,
    "start_time": "2021-11-27T22:51:49.198Z"
   },
   {
    "duration": 8,
    "start_time": "2021-11-27T22:52:24.006Z"
   },
   {
    "duration": 3997,
    "start_time": "2021-11-27T22:52:24.605Z"
   },
   {
    "duration": 117,
    "start_time": "2021-11-27T22:58:08.228Z"
   },
   {
    "duration": 5,
    "start_time": "2021-11-27T22:58:10.505Z"
   },
   {
    "duration": 4180,
    "start_time": "2021-11-27T22:58:11.385Z"
   },
   {
    "duration": 183,
    "start_time": "2021-11-27T22:59:09.061Z"
   },
   {
    "duration": 999,
    "start_time": "2021-11-27T22:59:30.028Z"
   },
   {
    "duration": 3,
    "start_time": "2021-11-27T22:59:31.029Z"
   },
   {
    "duration": 795,
    "start_time": "2021-11-27T22:59:31.034Z"
   },
   {
    "duration": 126,
    "start_time": "2021-11-27T22:59:31.831Z"
   },
   {
    "duration": 107,
    "start_time": "2021-11-27T22:59:31.959Z"
   },
   {
    "duration": 276,
    "start_time": "2021-11-27T22:59:32.068Z"
   },
   {
    "duration": 342,
    "start_time": "2021-11-27T22:59:32.345Z"
   },
   {
    "duration": 159,
    "start_time": "2021-11-27T22:59:32.689Z"
   },
   {
    "duration": 317,
    "start_time": "2021-11-27T22:59:32.851Z"
   },
   {
    "duration": 21,
    "start_time": "2021-11-27T22:59:33.170Z"
   },
   {
    "duration": 27,
    "start_time": "2021-11-27T22:59:33.193Z"
   },
   {
    "duration": 30,
    "start_time": "2021-11-27T22:59:33.222Z"
   },
   {
    "duration": 70,
    "start_time": "2021-11-27T22:59:33.253Z"
   },
   {
    "duration": 33,
    "start_time": "2021-11-27T22:59:33.325Z"
   },
   {
    "duration": 52,
    "start_time": "2021-11-27T22:59:33.359Z"
   },
   {
    "duration": 29,
    "start_time": "2021-11-27T22:59:33.412Z"
   },
   {
    "duration": 64,
    "start_time": "2021-11-27T22:59:33.442Z"
   },
   {
    "duration": 20,
    "start_time": "2021-11-27T22:59:33.507Z"
   },
   {
    "duration": 19,
    "start_time": "2021-11-27T22:59:33.529Z"
   },
   {
    "duration": 71,
    "start_time": "2021-11-27T22:59:33.550Z"
   },
   {
    "duration": 31,
    "start_time": "2021-11-27T22:59:33.624Z"
   },
   {
    "duration": 55,
    "start_time": "2021-11-27T22:59:33.656Z"
   },
   {
    "duration": 32,
    "start_time": "2021-11-27T22:59:33.713Z"
   },
   {
    "duration": 118,
    "start_time": "2021-11-27T22:59:33.746Z"
   },
   {
    "duration": 2,
    "start_time": "2021-11-27T22:59:33.866Z"
   },
   {
    "duration": 58,
    "start_time": "2021-11-27T22:59:33.870Z"
   },
   {
    "duration": 5,
    "start_time": "2021-11-27T22:59:33.931Z"
   },
   {
    "duration": 59,
    "start_time": "2021-11-27T22:59:33.938Z"
   },
   {
    "duration": 114,
    "start_time": "2021-11-27T22:59:33.999Z"
   },
   {
    "duration": 277,
    "start_time": "2021-11-27T22:59:34.115Z"
   },
   {
    "duration": 716,
    "start_time": "2021-11-27T22:59:34.394Z"
   },
   {
    "duration": 1201,
    "start_time": "2021-11-27T22:59:35.112Z"
   },
   {
    "duration": 232,
    "start_time": "2021-11-27T22:59:36.315Z"
   },
   {
    "duration": 246,
    "start_time": "2021-11-27T22:59:36.549Z"
   },
   {
    "duration": 5,
    "start_time": "2021-11-27T22:59:36.796Z"
   },
   {
    "duration": 4042,
    "start_time": "2021-11-27T22:59:36.803Z"
   },
   {
    "duration": 1050,
    "start_time": "2021-11-27T23:00:20.942Z"
   },
   {
    "duration": 3,
    "start_time": "2021-11-27T23:00:21.994Z"
   },
   {
    "duration": 824,
    "start_time": "2021-11-27T23:00:22.000Z"
   },
   {
    "duration": 132,
    "start_time": "2021-11-27T23:00:22.827Z"
   },
   {
    "duration": 114,
    "start_time": "2021-11-27T23:00:22.962Z"
   },
   {
    "duration": 276,
    "start_time": "2021-11-27T23:00:23.078Z"
   },
   {
    "duration": 358,
    "start_time": "2021-11-27T23:00:23.355Z"
   },
   {
    "duration": 181,
    "start_time": "2021-11-27T23:00:23.716Z"
   },
   {
    "duration": 337,
    "start_time": "2021-11-27T23:00:23.899Z"
   },
   {
    "duration": 8,
    "start_time": "2021-11-27T23:00:24.238Z"
   },
   {
    "duration": 45,
    "start_time": "2021-11-27T23:00:24.248Z"
   },
   {
    "duration": 33,
    "start_time": "2021-11-27T23:00:24.295Z"
   },
   {
    "duration": 71,
    "start_time": "2021-11-27T23:00:24.330Z"
   },
   {
    "duration": 34,
    "start_time": "2021-11-27T23:00:24.403Z"
   },
   {
    "duration": 33,
    "start_time": "2021-11-27T23:00:24.439Z"
   },
   {
    "duration": 46,
    "start_time": "2021-11-27T23:00:24.474Z"
   },
   {
    "duration": 53,
    "start_time": "2021-11-27T23:00:24.521Z"
   },
   {
    "duration": 35,
    "start_time": "2021-11-27T23:00:24.576Z"
   },
   {
    "duration": 21,
    "start_time": "2021-11-27T23:00:24.613Z"
   },
   {
    "duration": 91,
    "start_time": "2021-11-27T23:00:24.637Z"
   },
   {
    "duration": 32,
    "start_time": "2021-11-27T23:00:24.730Z"
   },
   {
    "duration": 58,
    "start_time": "2021-11-27T23:00:24.763Z"
   },
   {
    "duration": 31,
    "start_time": "2021-11-27T23:00:24.825Z"
   },
   {
    "duration": 130,
    "start_time": "2021-11-27T23:00:24.858Z"
   },
   {
    "duration": 3,
    "start_time": "2021-11-27T23:00:24.989Z"
   },
   {
    "duration": 51,
    "start_time": "2021-11-27T23:00:24.994Z"
   },
   {
    "duration": 6,
    "start_time": "2021-11-27T23:00:25.046Z"
   },
   {
    "duration": 71,
    "start_time": "2021-11-27T23:00:25.053Z"
   },
   {
    "duration": 115,
    "start_time": "2021-11-27T23:00:25.126Z"
   },
   {
    "duration": 296,
    "start_time": "2021-11-27T23:00:25.243Z"
   },
   {
    "duration": 848,
    "start_time": "2021-11-27T23:00:25.540Z"
   },
   {
    "duration": -201,
    "start_time": "2021-11-27T23:00:26.590Z"
   },
   {
    "duration": -202,
    "start_time": "2021-11-27T23:00:26.592Z"
   },
   {
    "duration": -204,
    "start_time": "2021-11-27T23:00:26.595Z"
   },
   {
    "duration": -204,
    "start_time": "2021-11-27T23:00:26.596Z"
   },
   {
    "duration": -204,
    "start_time": "2021-11-27T23:00:26.597Z"
   },
   {
    "duration": 62,
    "start_time": "2021-11-27T23:00:49.001Z"
   },
   {
    "duration": 642,
    "start_time": "2021-11-27T23:00:50.308Z"
   },
   {
    "duration": 1165,
    "start_time": "2021-11-27T23:00:52.079Z"
   },
   {
    "duration": 230,
    "start_time": "2021-11-27T23:00:54.212Z"
   },
   {
    "duration": 5,
    "start_time": "2021-11-27T23:00:55.756Z"
   },
   {
    "duration": 2585,
    "start_time": "2021-11-27T23:00:56.376Z"
   },
   {
    "duration": 82,
    "start_time": "2021-11-27T23:01:28.517Z"
   },
   {
    "duration": 60,
    "start_time": "2021-11-27T23:02:50.397Z"
   },
   {
    "duration": 7,
    "start_time": "2021-11-27T23:03:11.372Z"
   },
   {
    "duration": 1064,
    "start_time": "2021-11-27T23:06:01.579Z"
   },
   {
    "duration": 3,
    "start_time": "2021-11-27T23:06:02.646Z"
   },
   {
    "duration": 823,
    "start_time": "2021-11-27T23:06:02.651Z"
   },
   {
    "duration": 125,
    "start_time": "2021-11-27T23:06:03.476Z"
   },
   {
    "duration": 105,
    "start_time": "2021-11-27T23:06:03.603Z"
   },
   {
    "duration": 255,
    "start_time": "2021-11-27T23:06:03.710Z"
   },
   {
    "duration": 339,
    "start_time": "2021-11-27T23:06:03.967Z"
   },
   {
    "duration": 167,
    "start_time": "2021-11-27T23:06:04.308Z"
   },
   {
    "duration": 316,
    "start_time": "2021-11-27T23:06:04.478Z"
   },
   {
    "duration": 8,
    "start_time": "2021-11-27T23:06:04.796Z"
   },
   {
    "duration": 27,
    "start_time": "2021-11-27T23:06:04.805Z"
   },
   {
    "duration": 31,
    "start_time": "2021-11-27T23:06:04.834Z"
   },
   {
    "duration": 46,
    "start_time": "2021-11-27T23:06:04.892Z"
   },
   {
    "duration": 30,
    "start_time": "2021-11-27T23:06:04.940Z"
   },
   {
    "duration": 47,
    "start_time": "2021-11-27T23:06:04.972Z"
   },
   {
    "duration": 30,
    "start_time": "2021-11-27T23:06:05.020Z"
   },
   {
    "duration": 82,
    "start_time": "2021-11-27T23:06:05.052Z"
   },
   {
    "duration": 21,
    "start_time": "2021-11-27T23:06:05.136Z"
   },
   {
    "duration": 33,
    "start_time": "2021-11-27T23:06:05.159Z"
   },
   {
    "duration": 56,
    "start_time": "2021-11-27T23:06:05.193Z"
   },
   {
    "duration": 44,
    "start_time": "2021-11-27T23:06:05.251Z"
   },
   {
    "duration": 42,
    "start_time": "2021-11-27T23:06:05.296Z"
   },
   {
    "duration": 51,
    "start_time": "2021-11-27T23:06:05.340Z"
   },
   {
    "duration": 115,
    "start_time": "2021-11-27T23:06:05.393Z"
   },
   {
    "duration": 2,
    "start_time": "2021-11-27T23:06:05.510Z"
   },
   {
    "duration": 50,
    "start_time": "2021-11-27T23:06:05.514Z"
   },
   {
    "duration": 24,
    "start_time": "2021-11-27T23:06:05.567Z"
   },
   {
    "duration": 48,
    "start_time": "2021-11-27T23:06:05.593Z"
   },
   {
    "duration": 284,
    "start_time": "2021-11-27T23:06:05.643Z"
   },
   {
    "duration": 88,
    "start_time": "2021-11-27T23:06:05.929Z"
   },
   {
    "duration": 41,
    "start_time": "2021-11-27T23:06:06.019Z"
   },
   {
    "duration": 670,
    "start_time": "2021-11-27T23:06:06.061Z"
   },
   {
    "duration": 1175,
    "start_time": "2021-11-27T23:06:06.734Z"
   },
   {
    "duration": 235,
    "start_time": "2021-11-27T23:06:07.912Z"
   },
   {
    "duration": 6,
    "start_time": "2021-11-27T23:06:08.149Z"
   },
   {
    "duration": 6048,
    "start_time": "2021-11-27T23:06:08.156Z"
   },
   {
    "duration": 6,
    "start_time": "2021-11-27T23:06:52.247Z"
   },
   {
    "duration": 969,
    "start_time": "2021-11-27T23:07:21.343Z"
   },
   {
    "duration": 3,
    "start_time": "2021-11-27T23:07:22.315Z"
   },
   {
    "duration": 817,
    "start_time": "2021-11-27T23:07:22.320Z"
   },
   {
    "duration": 129,
    "start_time": "2021-11-27T23:07:23.139Z"
   },
   {
    "duration": 102,
    "start_time": "2021-11-27T23:07:23.269Z"
   },
   {
    "duration": 263,
    "start_time": "2021-11-27T23:07:23.373Z"
   },
   {
    "duration": 356,
    "start_time": "2021-11-27T23:07:23.639Z"
   },
   {
    "duration": 176,
    "start_time": "2021-11-27T23:07:23.998Z"
   },
   {
    "duration": 322,
    "start_time": "2021-11-27T23:07:24.176Z"
   },
   {
    "duration": 7,
    "start_time": "2021-11-27T23:07:24.500Z"
   },
   {
    "duration": 26,
    "start_time": "2021-11-27T23:07:24.509Z"
   },
   {
    "duration": 57,
    "start_time": "2021-11-27T23:07:24.537Z"
   },
   {
    "duration": 50,
    "start_time": "2021-11-27T23:07:24.595Z"
   },
   {
    "duration": 53,
    "start_time": "2021-11-27T23:07:24.646Z"
   },
   {
    "duration": 34,
    "start_time": "2021-11-27T23:07:24.700Z"
   },
   {
    "duration": 28,
    "start_time": "2021-11-27T23:07:24.736Z"
   },
   {
    "duration": 72,
    "start_time": "2021-11-27T23:07:24.765Z"
   },
   {
    "duration": 20,
    "start_time": "2021-11-27T23:07:24.838Z"
   },
   {
    "duration": 40,
    "start_time": "2021-11-27T23:07:24.860Z"
   },
   {
    "duration": 59,
    "start_time": "2021-11-27T23:07:24.901Z"
   },
   {
    "duration": 45,
    "start_time": "2021-11-27T23:07:24.962Z"
   },
   {
    "duration": 51,
    "start_time": "2021-11-27T23:07:25.008Z"
   },
   {
    "duration": 40,
    "start_time": "2021-11-27T23:07:25.062Z"
   },
   {
    "duration": 123,
    "start_time": "2021-11-27T23:07:25.103Z"
   },
   {
    "duration": 2,
    "start_time": "2021-11-27T23:07:25.228Z"
   },
   {
    "duration": 60,
    "start_time": "2021-11-27T23:07:25.232Z"
   },
   {
    "duration": 5,
    "start_time": "2021-11-27T23:07:25.294Z"
   },
   {
    "duration": 48,
    "start_time": "2021-11-27T23:07:25.301Z"
   },
   {
    "duration": 296,
    "start_time": "2021-11-27T23:07:25.351Z"
   },
   {
    "duration": 94,
    "start_time": "2021-11-27T23:07:25.649Z"
   },
   {
    "duration": 64,
    "start_time": "2021-11-27T23:07:25.744Z"
   },
   {
    "duration": -963,
    "start_time": "2021-11-27T23:07:26.773Z"
   },
   {
    "duration": -964,
    "start_time": "2021-11-27T23:07:26.775Z"
   },
   {
    "duration": -972,
    "start_time": "2021-11-27T23:07:26.784Z"
   },
   {
    "duration": -973,
    "start_time": "2021-11-27T23:07:26.786Z"
   },
   {
    "duration": -974,
    "start_time": "2021-11-27T23:07:26.788Z"
   },
   {
    "duration": -976,
    "start_time": "2021-11-27T23:07:26.791Z"
   },
   {
    "duration": 299,
    "start_time": "2021-11-27T23:07:34.195Z"
   },
   {
    "duration": 211,
    "start_time": "2021-11-27T23:07:50.888Z"
   },
   {
    "duration": 991,
    "start_time": "2021-11-27T23:07:58.433Z"
   },
   {
    "duration": 3,
    "start_time": "2021-11-27T23:07:59.426Z"
   },
   {
    "duration": 815,
    "start_time": "2021-11-27T23:07:59.433Z"
   },
   {
    "duration": 119,
    "start_time": "2021-11-27T23:08:00.250Z"
   },
   {
    "duration": 110,
    "start_time": "2021-11-27T23:08:00.371Z"
   },
   {
    "duration": 255,
    "start_time": "2021-11-27T23:08:00.492Z"
   },
   {
    "duration": 351,
    "start_time": "2021-11-27T23:08:00.749Z"
   },
   {
    "duration": 174,
    "start_time": "2021-11-27T23:08:01.102Z"
   },
   {
    "duration": 315,
    "start_time": "2021-11-27T23:08:01.278Z"
   },
   {
    "duration": 7,
    "start_time": "2021-11-27T23:08:01.595Z"
   },
   {
    "duration": 28,
    "start_time": "2021-11-27T23:08:01.604Z"
   },
   {
    "duration": 30,
    "start_time": "2021-11-27T23:08:01.634Z"
   },
   {
    "duration": 72,
    "start_time": "2021-11-27T23:08:01.666Z"
   },
   {
    "duration": 31,
    "start_time": "2021-11-27T23:08:01.740Z"
   },
   {
    "duration": 45,
    "start_time": "2021-11-27T23:08:01.773Z"
   },
   {
    "duration": 28,
    "start_time": "2021-11-27T23:08:01.820Z"
   },
   {
    "duration": 73,
    "start_time": "2021-11-27T23:08:01.850Z"
   },
   {
    "duration": 20,
    "start_time": "2021-11-27T23:08:01.925Z"
   },
   {
    "duration": 19,
    "start_time": "2021-11-27T23:08:01.946Z"
   },
   {
    "duration": 74,
    "start_time": "2021-11-27T23:08:01.967Z"
   },
   {
    "duration": 30,
    "start_time": "2021-11-27T23:08:02.043Z"
   },
   {
    "duration": 59,
    "start_time": "2021-11-27T23:08:02.076Z"
   },
   {
    "duration": 31,
    "start_time": "2021-11-27T23:08:02.137Z"
   },
   {
    "duration": 121,
    "start_time": "2021-11-27T23:08:02.170Z"
   },
   {
    "duration": 2,
    "start_time": "2021-11-27T23:08:02.293Z"
   },
   {
    "duration": 53,
    "start_time": "2021-11-27T23:08:02.297Z"
   },
   {
    "duration": 5,
    "start_time": "2021-11-27T23:08:02.352Z"
   },
   {
    "duration": 68,
    "start_time": "2021-11-27T23:08:02.358Z"
   },
   {
    "duration": 283,
    "start_time": "2021-11-27T23:08:02.428Z"
   },
   {
    "duration": 89,
    "start_time": "2021-11-27T23:08:02.713Z"
   },
   {
    "duration": 45,
    "start_time": "2021-11-27T23:08:02.804Z"
   },
   {
    "duration": 6,
    "start_time": "2021-11-27T23:08:02.851Z"
   },
   {
    "duration": 695,
    "start_time": "2021-11-27T23:08:02.858Z"
   },
   {
    "duration": 1184,
    "start_time": "2021-11-27T23:08:03.555Z"
   },
   {
    "duration": 225,
    "start_time": "2021-11-27T23:08:04.741Z"
   },
   {
    "duration": 5,
    "start_time": "2021-11-27T23:08:04.968Z"
   },
   {
    "duration": 6005,
    "start_time": "2021-11-27T23:08:04.974Z"
   },
   {
    "duration": 1046,
    "start_time": "2021-11-27T23:08:31.768Z"
   },
   {
    "duration": 3,
    "start_time": "2021-11-27T23:08:32.816Z"
   },
   {
    "duration": 810,
    "start_time": "2021-11-27T23:08:32.822Z"
   },
   {
    "duration": 124,
    "start_time": "2021-11-27T23:08:33.634Z"
   },
   {
    "duration": 107,
    "start_time": "2021-11-27T23:08:33.760Z"
   },
   {
    "duration": 258,
    "start_time": "2021-11-27T23:08:33.868Z"
   },
   {
    "duration": 339,
    "start_time": "2021-11-27T23:08:34.129Z"
   },
   {
    "duration": 169,
    "start_time": "2021-11-27T23:08:34.469Z"
   },
   {
    "duration": 309,
    "start_time": "2021-11-27T23:08:34.639Z"
   },
   {
    "duration": 7,
    "start_time": "2021-11-27T23:08:34.950Z"
   },
   {
    "duration": 66,
    "start_time": "2021-11-27T23:08:34.958Z"
   },
   {
    "duration": 34,
    "start_time": "2021-11-27T23:08:35.025Z"
   },
   {
    "duration": 105,
    "start_time": "2021-11-27T23:08:35.066Z"
   },
   {
    "duration": 36,
    "start_time": "2021-11-27T23:08:35.173Z"
   },
   {
    "duration": 32,
    "start_time": "2021-11-27T23:08:35.211Z"
   },
   {
    "duration": 49,
    "start_time": "2021-11-27T23:08:35.245Z"
   },
   {
    "duration": 49,
    "start_time": "2021-11-27T23:08:35.296Z"
   },
   {
    "duration": 21,
    "start_time": "2021-11-27T23:08:35.346Z"
   },
   {
    "duration": 39,
    "start_time": "2021-11-27T23:08:35.369Z"
   },
   {
    "duration": 63,
    "start_time": "2021-11-27T23:08:35.409Z"
   },
   {
    "duration": 35,
    "start_time": "2021-11-27T23:08:35.473Z"
   },
   {
    "duration": 46,
    "start_time": "2021-11-27T23:08:35.511Z"
   },
   {
    "duration": 40,
    "start_time": "2021-11-27T23:08:35.559Z"
   },
   {
    "duration": 117,
    "start_time": "2021-11-27T23:08:35.600Z"
   },
   {
    "duration": 2,
    "start_time": "2021-11-27T23:08:35.719Z"
   },
   {
    "duration": 59,
    "start_time": "2021-11-27T23:08:35.722Z"
   },
   {
    "duration": 9,
    "start_time": "2021-11-27T23:08:35.783Z"
   },
   {
    "duration": 49,
    "start_time": "2021-11-27T23:08:35.794Z"
   },
   {
    "duration": 293,
    "start_time": "2021-11-27T23:08:35.845Z"
   },
   {
    "duration": 94,
    "start_time": "2021-11-27T23:08:36.140Z"
   },
   {
    "duration": 57,
    "start_time": "2021-11-27T23:08:36.236Z"
   },
   {
    "duration": 6,
    "start_time": "2021-11-27T23:08:36.295Z"
   },
   {
    "duration": 658,
    "start_time": "2021-11-27T23:08:36.303Z"
   },
   {
    "duration": 1209,
    "start_time": "2021-11-27T23:08:36.962Z"
   },
   {
    "duration": 238,
    "start_time": "2021-11-27T23:08:38.173Z"
   },
   {
    "duration": 6,
    "start_time": "2021-11-27T23:08:38.413Z"
   },
   {
    "duration": 5863,
    "start_time": "2021-11-27T23:08:38.420Z"
   },
   {
    "duration": 1229,
    "start_time": "2021-11-27T23:09:00.450Z"
   },
   {
    "duration": 2,
    "start_time": "2021-11-27T23:09:01.681Z"
   },
   {
    "duration": 829,
    "start_time": "2021-11-27T23:09:01.691Z"
   },
   {
    "duration": 128,
    "start_time": "2021-11-27T23:09:02.522Z"
   },
   {
    "duration": 107,
    "start_time": "2021-11-27T23:09:02.652Z"
   },
   {
    "duration": 258,
    "start_time": "2021-11-27T23:09:02.761Z"
   },
   {
    "duration": 350,
    "start_time": "2021-11-27T23:09:03.021Z"
   },
   {
    "duration": 161,
    "start_time": "2021-11-27T23:09:03.374Z"
   },
   {
    "duration": 318,
    "start_time": "2021-11-27T23:09:03.537Z"
   },
   {
    "duration": 8,
    "start_time": "2021-11-27T23:09:03.856Z"
   },
   {
    "duration": 40,
    "start_time": "2021-11-27T23:09:03.865Z"
   },
   {
    "duration": 31,
    "start_time": "2021-11-27T23:09:03.907Z"
   },
   {
    "duration": 70,
    "start_time": "2021-11-27T23:09:03.939Z"
   },
   {
    "duration": 32,
    "start_time": "2021-11-27T23:09:04.011Z"
   },
   {
    "duration": 32,
    "start_time": "2021-11-27T23:09:04.044Z"
   },
   {
    "duration": 39,
    "start_time": "2021-11-27T23:09:04.078Z"
   },
   {
    "duration": 46,
    "start_time": "2021-11-27T23:09:04.119Z"
   },
   {
    "duration": 38,
    "start_time": "2021-11-27T23:09:04.167Z"
   },
   {
    "duration": 19,
    "start_time": "2021-11-27T23:09:04.207Z"
   },
   {
    "duration": 72,
    "start_time": "2021-11-27T23:09:04.228Z"
   },
   {
    "duration": 31,
    "start_time": "2021-11-27T23:09:04.302Z"
   },
   {
    "duration": 41,
    "start_time": "2021-11-27T23:09:04.335Z"
   },
   {
    "duration": 30,
    "start_time": "2021-11-27T23:09:04.391Z"
   },
   {
    "duration": 117,
    "start_time": "2021-11-27T23:09:04.423Z"
   },
   {
    "duration": 3,
    "start_time": "2021-11-27T23:09:04.541Z"
   },
   {
    "duration": 57,
    "start_time": "2021-11-27T23:09:04.545Z"
   },
   {
    "duration": 6,
    "start_time": "2021-11-27T23:09:04.603Z"
   },
   {
    "duration": 50,
    "start_time": "2021-11-27T23:09:04.611Z"
   },
   {
    "duration": 297,
    "start_time": "2021-11-27T23:09:04.663Z"
   },
   {
    "duration": 95,
    "start_time": "2021-11-27T23:09:04.962Z"
   },
   {
    "duration": 66,
    "start_time": "2021-11-27T23:09:05.060Z"
   },
   {
    "duration": 6,
    "start_time": "2021-11-27T23:09:05.128Z"
   },
   {
    "duration": 676,
    "start_time": "2021-11-27T23:09:05.136Z"
   },
   {
    "duration": 1183,
    "start_time": "2021-11-27T23:09:05.814Z"
   },
   {
    "duration": 242,
    "start_time": "2021-11-27T23:09:06.999Z"
   },
   {
    "duration": 5,
    "start_time": "2021-11-27T23:09:07.243Z"
   },
   {
    "duration": 6030,
    "start_time": "2021-11-27T23:09:07.249Z"
   },
   {
    "duration": 6,
    "start_time": "2021-11-27T23:13:53.552Z"
   },
   {
    "duration": 5969,
    "start_time": "2021-11-27T23:13:54.122Z"
   },
   {
    "duration": 6,
    "start_time": "2021-11-27T23:15:26.839Z"
   },
   {
    "duration": 6085,
    "start_time": "2021-11-27T23:15:27.244Z"
   },
   {
    "duration": 7,
    "start_time": "2021-11-27T23:16:42.644Z"
   },
   {
    "duration": 78358,
    "start_time": "2021-11-27T23:16:43.812Z"
   },
   {
    "duration": -224,
    "start_time": "2021-11-27T23:18:02.395Z"
   },
   {
    "duration": 285837,
    "start_time": "2021-11-27T23:18:04.714Z"
   },
   {
    "duration": 6,
    "start_time": "2021-11-27T23:29:50.326Z"
   },
   {
    "duration": 6,
    "start_time": "2021-11-27T23:30:07.285Z"
   },
   {
    "duration": 310293,
    "start_time": "2021-11-27T23:30:07.707Z"
   },
   {
    "duration": 16,
    "start_time": "2021-11-28T00:20:20.760Z"
   },
   {
    "duration": 9,
    "start_time": "2021-11-28T15:02:44.802Z"
   },
   {
    "duration": 450,
    "start_time": "2021-11-28T15:02:48.122Z"
   },
   {
    "duration": 1409,
    "start_time": "2021-11-28T15:02:56.927Z"
   },
   {
    "duration": 4,
    "start_time": "2021-11-28T15:02:58.339Z"
   },
   {
    "duration": 1171,
    "start_time": "2021-11-28T15:02:58.360Z"
   },
   {
    "duration": 165,
    "start_time": "2021-11-28T15:02:59.534Z"
   },
   {
    "duration": 140,
    "start_time": "2021-11-28T15:02:59.702Z"
   },
   {
    "duration": 394,
    "start_time": "2021-11-28T15:02:59.845Z"
   },
   {
    "duration": 525,
    "start_time": "2021-11-28T15:03:00.242Z"
   },
   {
    "duration": 284,
    "start_time": "2021-11-28T15:03:00.770Z"
   },
   {
    "duration": 551,
    "start_time": "2021-11-28T15:03:01.061Z"
   },
   {
    "duration": 14,
    "start_time": "2021-11-28T15:03:01.615Z"
   },
   {
    "duration": 57,
    "start_time": "2021-11-28T15:03:01.632Z"
   },
   {
    "duration": 69,
    "start_time": "2021-11-28T15:03:01.692Z"
   },
   {
    "duration": 74,
    "start_time": "2021-11-28T15:03:01.764Z"
   },
   {
    "duration": 60,
    "start_time": "2021-11-28T15:03:01.841Z"
   },
   {
    "duration": 70,
    "start_time": "2021-11-28T15:03:01.904Z"
   },
   {
    "duration": 42,
    "start_time": "2021-11-28T15:03:01.976Z"
   },
   {
    "duration": 98,
    "start_time": "2021-11-28T15:03:02.021Z"
   },
   {
    "duration": 42,
    "start_time": "2021-11-28T15:03:02.121Z"
   },
   {
    "duration": 28,
    "start_time": "2021-11-28T15:03:02.165Z"
   },
   {
    "duration": 111,
    "start_time": "2021-11-28T15:03:02.196Z"
   },
   {
    "duration": 52,
    "start_time": "2021-11-28T15:03:02.309Z"
   },
   {
    "duration": 71,
    "start_time": "2021-11-28T15:03:02.364Z"
   },
   {
    "duration": 55,
    "start_time": "2021-11-28T15:03:02.440Z"
   },
   {
    "duration": 162,
    "start_time": "2021-11-28T15:03:02.498Z"
   },
   {
    "duration": 3,
    "start_time": "2021-11-28T15:03:02.663Z"
   },
   {
    "duration": 76,
    "start_time": "2021-11-28T15:03:02.668Z"
   },
   {
    "duration": 15,
    "start_time": "2021-11-28T15:03:02.747Z"
   },
   {
    "duration": 97,
    "start_time": "2021-11-28T15:03:02.764Z"
   },
   {
    "duration": 442,
    "start_time": "2021-11-28T15:03:02.863Z"
   },
   {
    "duration": 126,
    "start_time": "2021-11-28T15:03:03.307Z"
   },
   {
    "duration": 83,
    "start_time": "2021-11-28T15:03:03.436Z"
   },
   {
    "duration": 1488,
    "start_time": "2021-11-28T15:03:03.521Z"
   },
   {
    "duration": 1655,
    "start_time": "2021-11-28T15:03:05.012Z"
   },
   {
    "duration": 327,
    "start_time": "2021-11-28T15:03:06.669Z"
   },
   {
    "duration": 8,
    "start_time": "2021-11-28T15:03:06.999Z"
   },
   {
    "duration": 398149,
    "start_time": "2021-11-28T15:03:07.009Z"
   },
   {
    "duration": 5,
    "start_time": "2021-11-28T15:09:45.162Z"
   },
   {
    "duration": 15402,
    "start_time": "2021-11-28T15:09:45.170Z"
   },
   {
    "duration": 1289,
    "start_time": "2021-11-28T15:11:21.612Z"
   },
   {
    "duration": 4,
    "start_time": "2021-11-28T15:11:22.903Z"
   },
   {
    "duration": 1089,
    "start_time": "2021-11-28T15:11:22.910Z"
   },
   {
    "duration": 167,
    "start_time": "2021-11-28T15:11:24.001Z"
   },
   {
    "duration": 131,
    "start_time": "2021-11-28T15:11:24.170Z"
   },
   {
    "duration": 345,
    "start_time": "2021-11-28T15:11:24.303Z"
   },
   {
    "duration": 509,
    "start_time": "2021-11-28T15:11:24.650Z"
   },
   {
    "duration": 258,
    "start_time": "2021-11-28T15:11:25.163Z"
   },
   {
    "duration": 455,
    "start_time": "2021-11-28T15:11:25.424Z"
   },
   {
    "duration": 12,
    "start_time": "2021-11-28T15:11:25.882Z"
   },
   {
    "duration": 39,
    "start_time": "2021-11-28T15:11:25.897Z"
   },
   {
    "duration": 44,
    "start_time": "2021-11-28T15:11:25.960Z"
   },
   {
    "duration": 93,
    "start_time": "2021-11-28T15:11:26.006Z"
   },
   {
    "duration": 45,
    "start_time": "2021-11-28T15:11:26.101Z"
   },
   {
    "duration": 50,
    "start_time": "2021-11-28T15:11:26.160Z"
   },
   {
    "duration": 57,
    "start_time": "2021-11-28T15:11:26.213Z"
   },
   {
    "duration": 72,
    "start_time": "2021-11-28T15:11:26.273Z"
   },
   {
    "duration": 33,
    "start_time": "2021-11-28T15:11:26.359Z"
   },
   {
    "duration": 29,
    "start_time": "2021-11-28T15:11:26.395Z"
   },
   {
    "duration": 115,
    "start_time": "2021-11-28T15:11:26.427Z"
   },
   {
    "duration": 47,
    "start_time": "2021-11-28T15:11:26.545Z"
   },
   {
    "duration": 75,
    "start_time": "2021-11-28T15:11:26.595Z"
   },
   {
    "duration": 41,
    "start_time": "2021-11-28T15:11:26.675Z"
   },
   {
    "duration": 169,
    "start_time": "2021-11-28T15:11:26.719Z"
   },
   {
    "duration": 3,
    "start_time": "2021-11-28T15:11:26.891Z"
   },
   {
    "duration": 76,
    "start_time": "2021-11-28T15:11:26.896Z"
   },
   {
    "duration": 7,
    "start_time": "2021-11-28T15:11:26.975Z"
   },
   {
    "duration": 94,
    "start_time": "2021-11-28T15:11:26.985Z"
   },
   {
    "duration": 416,
    "start_time": "2021-11-28T15:11:27.081Z"
   },
   {
    "duration": 115,
    "start_time": "2021-11-28T15:11:27.499Z"
   },
   {
    "duration": 78,
    "start_time": "2021-11-28T15:11:27.617Z"
   },
   {
    "duration": 997,
    "start_time": "2021-11-28T15:11:27.698Z"
   },
   {
    "duration": 1642,
    "start_time": "2021-11-28T15:11:28.697Z"
   },
   {
    "duration": 344,
    "start_time": "2021-11-28T15:11:30.342Z"
   },
   {
    "duration": 8,
    "start_time": "2021-11-28T15:11:30.688Z"
   },
   {
    "duration": 392770,
    "start_time": "2021-11-28T15:11:30.699Z"
   },
   {
    "duration": 15025,
    "start_time": "2021-11-28T15:18:03.560Z"
   },
   {
    "duration": 130,
    "start_time": "2021-11-28T15:26:09.801Z"
   },
   {
    "duration": 5,
    "start_time": "2021-11-28T15:26:18.404Z"
   },
   {
    "duration": 5,
    "start_time": "2021-11-28T15:29:04.167Z"
   },
   {
    "duration": 61,
    "start_time": "2021-11-29T19:43:14.309Z"
   },
   {
    "duration": 213,
    "start_time": "2021-11-29T19:43:14.631Z"
   },
   {
    "duration": 3,
    "start_time": "2021-11-29T19:43:21.669Z"
   },
   {
    "duration": 172,
    "start_time": "2021-11-29T19:43:23.116Z"
   },
   {
    "duration": 1010,
    "start_time": "2021-11-29T19:43:48.018Z"
   },
   {
    "duration": 3,
    "start_time": "2021-11-29T19:43:49.030Z"
   },
   {
    "duration": 816,
    "start_time": "2021-11-29T19:43:49.034Z"
   },
   {
    "duration": 122,
    "start_time": "2021-11-29T19:43:49.852Z"
   },
   {
    "duration": 117,
    "start_time": "2021-11-29T19:43:49.976Z"
   },
   {
    "duration": 336,
    "start_time": "2021-11-29T19:43:50.095Z"
   },
   {
    "duration": 349,
    "start_time": "2021-11-29T19:43:50.433Z"
   },
   {
    "duration": 155,
    "start_time": "2021-11-29T19:43:50.785Z"
   },
   {
    "duration": 313,
    "start_time": "2021-11-29T19:43:50.942Z"
   },
   {
    "duration": 8,
    "start_time": "2021-11-29T19:43:51.257Z"
   },
   {
    "duration": 48,
    "start_time": "2021-11-29T19:43:51.266Z"
   },
   {
    "duration": 30,
    "start_time": "2021-11-29T19:43:51.315Z"
   },
   {
    "duration": 67,
    "start_time": "2021-11-29T19:43:51.347Z"
   },
   {
    "duration": 32,
    "start_time": "2021-11-29T19:43:51.415Z"
   },
   {
    "duration": 48,
    "start_time": "2021-11-29T19:43:51.449Z"
   },
   {
    "duration": 28,
    "start_time": "2021-11-29T19:43:51.498Z"
   },
   {
    "duration": 64,
    "start_time": "2021-11-29T19:43:51.528Z"
   },
   {
    "duration": 21,
    "start_time": "2021-11-29T19:43:51.593Z"
   },
   {
    "duration": 20,
    "start_time": "2021-11-29T19:43:51.616Z"
   },
   {
    "duration": 74,
    "start_time": "2021-11-29T19:43:51.638Z"
   },
   {
    "duration": 31,
    "start_time": "2021-11-29T19:43:51.714Z"
   },
   {
    "duration": 55,
    "start_time": "2021-11-29T19:43:51.747Z"
   },
   {
    "duration": 31,
    "start_time": "2021-11-29T19:43:51.805Z"
   },
   {
    "duration": 120,
    "start_time": "2021-11-29T19:43:51.837Z"
   },
   {
    "duration": 3,
    "start_time": "2021-11-29T19:43:51.958Z"
   },
   {
    "duration": 62,
    "start_time": "2021-11-29T19:43:51.962Z"
   },
   {
    "duration": 6,
    "start_time": "2021-11-29T19:43:52.025Z"
   },
   {
    "duration": 60,
    "start_time": "2021-11-29T19:43:52.032Z"
   },
   {
    "duration": 277,
    "start_time": "2021-11-29T19:43:52.094Z"
   },
   {
    "duration": 91,
    "start_time": "2021-11-29T19:43:52.372Z"
   },
   {
    "duration": 50,
    "start_time": "2021-11-29T19:43:52.465Z"
   },
   {
    "duration": 641,
    "start_time": "2021-11-29T19:43:52.516Z"
   },
   {
    "duration": 1172,
    "start_time": "2021-11-29T19:43:53.159Z"
   },
   {
    "duration": 238,
    "start_time": "2021-11-29T19:43:54.333Z"
   },
   {
    "duration": 5,
    "start_time": "2021-11-29T19:43:54.573Z"
   },
   {
    "duration": 309319,
    "start_time": "2021-11-29T19:43:54.579Z"
   },
   {
    "duration": 408210,
    "start_time": "2021-11-29T19:49:03.901Z"
   },
   {
    "duration": 3,
    "start_time": "2021-11-29T19:55:52.113Z"
   },
   {
    "duration": 622298,
    "start_time": "2021-11-29T19:55:52.118Z"
   },
   {
    "duration": 79142,
    "start_time": "2021-11-29T20:10:09.604Z"
   },
   {
    "duration": 2,
    "start_time": "2021-11-29T20:11:33.413Z"
   },
   {
    "duration": 279999,
    "start_time": "2021-11-29T20:11:33.653Z"
   },
   {
    "duration": 3,
    "start_time": "2021-11-29T20:16:20.312Z"
   },
   {
    "duration": 667080,
    "start_time": "2021-11-29T20:16:20.720Z"
   },
   {
    "duration": 11435,
    "start_time": "2021-11-29T20:33:04.381Z"
   },
   {
    "duration": 3,
    "start_time": "2021-11-29T20:33:15.818Z"
   },
   {
    "duration": 986,
    "start_time": "2021-11-29T20:54:24.948Z"
   },
   {
    "duration": 3,
    "start_time": "2021-11-29T20:54:25.936Z"
   },
   {
    "duration": 847,
    "start_time": "2021-11-29T20:54:25.945Z"
   },
   {
    "duration": 127,
    "start_time": "2021-11-29T20:54:26.793Z"
   },
   {
    "duration": 110,
    "start_time": "2021-11-29T20:54:26.921Z"
   },
   {
    "duration": 259,
    "start_time": "2021-11-29T20:54:27.033Z"
   },
   {
    "duration": 346,
    "start_time": "2021-11-29T20:54:27.294Z"
   },
   {
    "duration": 165,
    "start_time": "2021-11-29T20:54:27.643Z"
   },
   {
    "duration": 315,
    "start_time": "2021-11-29T20:54:27.810Z"
   },
   {
    "duration": 8,
    "start_time": "2021-11-29T20:54:28.127Z"
   },
   {
    "duration": 27,
    "start_time": "2021-11-29T20:54:28.136Z"
   },
   {
    "duration": 44,
    "start_time": "2021-11-29T20:54:28.165Z"
   },
   {
    "duration": 51,
    "start_time": "2021-11-29T20:54:28.211Z"
   },
   {
    "duration": 41,
    "start_time": "2021-11-29T20:54:28.264Z"
   },
   {
    "duration": 30,
    "start_time": "2021-11-29T20:54:28.307Z"
   },
   {
    "duration": 27,
    "start_time": "2021-11-29T20:54:28.338Z"
   },
   {
    "duration": 64,
    "start_time": "2021-11-29T20:54:28.367Z"
   },
   {
    "duration": 19,
    "start_time": "2021-11-29T20:54:28.433Z"
   },
   {
    "duration": 19,
    "start_time": "2021-11-29T20:54:28.454Z"
   },
   {
    "duration": 74,
    "start_time": "2021-11-29T20:54:28.474Z"
   },
   {
    "duration": 44,
    "start_time": "2021-11-29T20:54:28.550Z"
   },
   {
    "duration": 43,
    "start_time": "2021-11-29T20:54:28.595Z"
   },
   {
    "duration": 31,
    "start_time": "2021-11-29T20:54:28.640Z"
   },
   {
    "duration": 120,
    "start_time": "2021-11-29T20:54:28.672Z"
   },
   {
    "duration": 2,
    "start_time": "2021-11-29T20:54:28.795Z"
   },
   {
    "duration": 46,
    "start_time": "2021-11-29T20:54:28.800Z"
   },
   {
    "duration": 5,
    "start_time": "2021-11-29T20:54:28.848Z"
   },
   {
    "duration": 74,
    "start_time": "2021-11-29T20:54:28.854Z"
   },
   {
    "duration": 269,
    "start_time": "2021-11-29T20:54:28.929Z"
   },
   {
    "duration": 98,
    "start_time": "2021-11-29T20:54:29.199Z"
   },
   {
    "duration": 46,
    "start_time": "2021-11-29T20:54:29.299Z"
   },
   {
    "duration": 664,
    "start_time": "2021-11-29T20:54:29.347Z"
   },
   {
    "duration": 1163,
    "start_time": "2021-11-29T20:54:30.013Z"
   },
   {
    "duration": 228,
    "start_time": "2021-11-29T20:54:31.178Z"
   },
   {
    "duration": 7,
    "start_time": "2021-11-29T20:54:31.408Z"
   },
   {
    "duration": 292978,
    "start_time": "2021-11-29T20:54:31.416Z"
   },
   {
    "duration": 10612,
    "start_time": "2021-11-29T20:59:24.397Z"
   },
   {
    "duration": 5,
    "start_time": "2021-11-29T20:59:35.093Z"
   },
   {
    "duration": 8,
    "start_time": "2021-11-29T20:59:35.100Z"
   },
   {
    "duration": 18002,
    "start_time": "2021-11-29T20:59:35.110Z"
   },
   {
    "duration": 2,
    "start_time": "2021-11-29T20:59:53.114Z"
   },
   {
    "duration": 41483,
    "start_time": "2021-11-29T20:59:53.118Z"
   },
   {
    "duration": 3,
    "start_time": "2021-11-29T21:00:34.603Z"
   },
   {
    "duration": 2200,
    "start_time": "2021-11-29T21:00:34.608Z"
   },
   {
    "duration": 2,
    "start_time": "2021-11-29T21:00:36.810Z"
   },
   {
    "duration": 54985,
    "start_time": "2021-11-29T21:00:36.813Z"
   },
   {
    "duration": 52,
    "start_time": "2021-11-29T21:01:31.800Z"
   },
   {
    "duration": 100,
    "start_time": "2021-11-29T21:01:31.754Z"
   },
   {
    "duration": 4,
    "start_time": "2021-11-29T21:02:57.457Z"
   },
   {
    "duration": 19891,
    "start_time": "2021-11-29T21:02:57.910Z"
   },
   {
    "duration": 3,
    "start_time": "2021-11-29T21:03:55.107Z"
   },
   {
    "duration": 49132,
    "start_time": "2021-11-29T21:03:55.566Z"
   },
   {
    "duration": 3,
    "start_time": "2021-11-29T21:05:06.941Z"
   },
   {
    "duration": 56566,
    "start_time": "2021-11-29T21:05:07.359Z"
   },
   {
    "duration": 3,
    "start_time": "2021-11-29T21:07:10.309Z"
   },
   {
    "duration": 21404,
    "start_time": "2021-11-29T21:07:10.683Z"
   },
   {
    "duration": 2,
    "start_time": "2021-11-29T21:07:32.089Z"
   },
   {
    "duration": 158721,
    "start_time": "2021-11-29T21:07:34.906Z"
   },
   {
    "duration": 2,
    "start_time": "2021-11-29T21:22:15.838Z"
   },
   {
    "duration": 162,
    "start_time": "2021-11-29T21:22:57.816Z"
   },
   {
    "duration": 373129,
    "start_time": "2021-11-29T21:23:02.095Z"
   },
   {
    "duration": 4,
    "start_time": "2021-11-29T21:29:15.225Z"
   },
   {
    "duration": 345,
    "start_time": "2021-11-29T21:29:38.372Z"
   },
   {
    "duration": 4,
    "start_time": "2021-11-29T21:30:44.366Z"
   },
   {
    "duration": 3,
    "start_time": "2021-11-29T21:30:54.367Z"
   },
   {
    "duration": 75353,
    "start_time": "2021-11-29T21:30:54.831Z"
   },
   {
    "duration": 104,
    "start_time": "2021-11-29T21:32:10.083Z"
   },
   {
    "duration": 3,
    "start_time": "2021-11-29T21:32:12.540Z"
   },
   {
    "duration": 462870,
    "start_time": "2021-11-29T21:32:12.824Z"
   },
   {
    "duration": 34425,
    "start_time": "2021-11-29T21:41:15.587Z"
   },
   {
    "duration": 2,
    "start_time": "2021-11-29T21:48:20.446Z"
   },
   {
    "duration": 37314,
    "start_time": "2021-11-29T21:48:21.299Z"
   },
   {
    "duration": 3,
    "start_time": "2021-11-29T21:49:15.569Z"
   },
   {
    "duration": 34585,
    "start_time": "2021-11-29T21:49:15.936Z"
   },
   {
    "duration": 3,
    "start_time": "2021-11-29T21:50:06.206Z"
   },
   {
    "duration": 35886,
    "start_time": "2021-11-29T21:50:06.529Z"
   },
   {
    "duration": 2,
    "start_time": "2021-11-29T21:51:49.649Z"
   },
   {
    "duration": 845,
    "start_time": "2021-11-29T21:51:52.224Z"
   },
   {
    "duration": 2,
    "start_time": "2021-11-29T21:51:58.005Z"
   },
   {
    "duration": 38274,
    "start_time": "2021-11-29T21:52:04.152Z"
   },
   {
    "duration": 34149,
    "start_time": "2021-11-29T21:54:28.261Z"
   },
   {
    "duration": 3,
    "start_time": "2021-11-29T21:59:42.238Z"
   },
   {
    "duration": 69399,
    "start_time": "2021-11-29T22:00:00.901Z"
   },
   {
    "duration": 34757,
    "start_time": "2021-11-29T22:01:21.935Z"
   },
   {
    "duration": 1816,
    "start_time": "2021-11-29T22:01:56.694Z"
   },
   {
    "duration": 4,
    "start_time": "2021-11-29T22:01:58.513Z"
   },
   {
    "duration": 4,
    "start_time": "2021-11-29T22:07:58.780Z"
   },
   {
    "duration": 5,
    "start_time": "2021-11-29T22:11:51.237Z"
   },
   {
    "duration": 6,
    "start_time": "2021-11-29T22:12:03.222Z"
   },
   {
    "duration": 979,
    "start_time": "2021-11-29T22:15:54.838Z"
   },
   {
    "duration": 3,
    "start_time": "2021-11-29T22:15:55.819Z"
   },
   {
    "duration": 806,
    "start_time": "2021-11-29T22:15:55.825Z"
   },
   {
    "duration": 114,
    "start_time": "2021-11-29T22:15:56.633Z"
   },
   {
    "duration": 106,
    "start_time": "2021-11-29T22:15:56.748Z"
   },
   {
    "duration": 269,
    "start_time": "2021-11-29T22:15:56.855Z"
   },
   {
    "duration": 343,
    "start_time": "2021-11-29T22:15:57.127Z"
   },
   {
    "duration": 162,
    "start_time": "2021-11-29T22:15:57.472Z"
   },
   {
    "duration": 299,
    "start_time": "2021-11-29T22:15:57.636Z"
   },
   {
    "duration": 6,
    "start_time": "2021-11-29T22:15:57.937Z"
   },
   {
    "duration": 27,
    "start_time": "2021-11-29T22:15:57.945Z"
   },
   {
    "duration": 40,
    "start_time": "2021-11-29T22:15:57.974Z"
   },
   {
    "duration": 47,
    "start_time": "2021-11-29T22:15:58.015Z"
   },
   {
    "duration": 49,
    "start_time": "2021-11-29T22:15:58.064Z"
   },
   {
    "duration": 31,
    "start_time": "2021-11-29T22:15:58.114Z"
   },
   {
    "duration": 44,
    "start_time": "2021-11-29T22:15:58.147Z"
   },
   {
    "duration": 47,
    "start_time": "2021-11-29T22:15:58.193Z"
   },
   {
    "duration": 19,
    "start_time": "2021-11-29T22:15:58.241Z"
   },
   {
    "duration": 35,
    "start_time": "2021-11-29T22:15:58.262Z"
   },
   {
    "duration": 58,
    "start_time": "2021-11-29T22:15:58.298Z"
   },
   {
    "duration": 41,
    "start_time": "2021-11-29T22:15:58.358Z"
   },
   {
    "duration": 42,
    "start_time": "2021-11-29T22:15:58.403Z"
   },
   {
    "duration": 28,
    "start_time": "2021-11-29T22:15:58.447Z"
   },
   {
    "duration": 110,
    "start_time": "2021-11-29T22:15:58.492Z"
   },
   {
    "duration": 2,
    "start_time": "2021-11-29T22:15:58.604Z"
   },
   {
    "duration": 47,
    "start_time": "2021-11-29T22:15:58.608Z"
   },
   {
    "duration": 5,
    "start_time": "2021-11-29T22:15:58.657Z"
   },
   {
    "duration": 68,
    "start_time": "2021-11-29T22:15:58.663Z"
   },
   {
    "duration": 264,
    "start_time": "2021-11-29T22:15:58.733Z"
   },
   {
    "duration": 92,
    "start_time": "2021-11-29T22:15:58.999Z"
   },
   {
    "duration": 44,
    "start_time": "2021-11-29T22:15:59.093Z"
   },
   {
    "duration": 646,
    "start_time": "2021-11-29T22:15:59.139Z"
   },
   {
    "duration": 1159,
    "start_time": "2021-11-29T22:15:59.787Z"
   },
   {
    "duration": 229,
    "start_time": "2021-11-29T22:16:00.948Z"
   },
   {
    "duration": 5,
    "start_time": "2021-11-29T22:16:01.178Z"
   },
   {
    "duration": 294711,
    "start_time": "2021-11-29T22:16:01.185Z"
   },
   {
    "duration": 9820,
    "start_time": "2021-11-29T22:20:55.899Z"
   },
   {
    "duration": 73,
    "start_time": "2021-11-29T22:21:05.721Z"
   },
   {
    "duration": 14,
    "start_time": "2021-11-29T22:21:05.796Z"
   },
   {
    "duration": 17588,
    "start_time": "2021-11-29T22:21:05.812Z"
   },
   {
    "duration": 3,
    "start_time": "2021-11-29T22:21:23.402Z"
   },
   {
    "duration": 156956,
    "start_time": "2021-11-29T22:21:23.407Z"
   },
   {
    "duration": 3,
    "start_time": "2021-11-29T22:24:00.364Z"
   },
   {
    "duration": 20348,
    "start_time": "2021-11-29T22:24:00.368Z"
   },
   {
    "duration": 2,
    "start_time": "2021-11-29T22:24:20.718Z"
   },
   {
    "duration": 450195,
    "start_time": "2021-11-29T22:24:20.721Z"
   },
   {
    "duration": 38309,
    "start_time": "2021-11-29T22:31:50.918Z"
   },
   {
    "duration": 2,
    "start_time": "2021-11-29T22:32:29.229Z"
   },
   {
    "duration": 33794,
    "start_time": "2021-11-29T22:32:29.233Z"
   },
   {
    "duration": 2,
    "start_time": "2021-11-29T22:33:03.029Z"
   },
   {
    "duration": 9,
    "start_time": "2021-11-29T22:33:03.033Z"
   },
   {
    "duration": 31856,
    "start_time": "2021-11-29T22:33:03.043Z"
   },
   {
    "duration": 1691,
    "start_time": "2021-11-29T22:33:34.900Z"
   },
   {
    "duration": 4,
    "start_time": "2021-11-29T22:33:36.593Z"
   },
   {
    "duration": 17,
    "start_time": "2021-11-29T22:33:36.599Z"
   },
   {
    "duration": 1064,
    "start_time": "2021-11-30T19:06:08.268Z"
   },
   {
    "duration": 2,
    "start_time": "2021-11-30T19:06:09.334Z"
   },
   {
    "duration": 916,
    "start_time": "2021-11-30T19:06:09.338Z"
   },
   {
    "duration": 114,
    "start_time": "2021-11-30T19:06:10.256Z"
   },
   {
    "duration": 97,
    "start_time": "2021-11-30T19:06:10.372Z"
   },
   {
    "duration": 258,
    "start_time": "2021-11-30T19:06:10.471Z"
   },
   {
    "duration": 319,
    "start_time": "2021-11-30T19:06:10.731Z"
   },
   {
    "duration": 163,
    "start_time": "2021-11-30T19:06:11.051Z"
   },
   {
    "duration": 300,
    "start_time": "2021-11-30T19:06:11.216Z"
   },
   {
    "duration": 7,
    "start_time": "2021-11-30T19:06:11.518Z"
   },
   {
    "duration": 23,
    "start_time": "2021-11-30T19:06:11.527Z"
   },
   {
    "duration": 49,
    "start_time": "2021-11-30T19:06:11.551Z"
   },
   {
    "duration": 49,
    "start_time": "2021-11-30T19:06:11.602Z"
   },
   {
    "duration": 42,
    "start_time": "2021-11-30T19:06:11.652Z"
   },
   {
    "duration": 32,
    "start_time": "2021-11-30T19:06:11.696Z"
   },
   {
    "duration": 29,
    "start_time": "2021-11-30T19:06:11.729Z"
   },
   {
    "duration": 64,
    "start_time": "2021-11-30T19:06:11.760Z"
   },
   {
    "duration": 20,
    "start_time": "2021-11-30T19:06:11.828Z"
   },
   {
    "duration": 23,
    "start_time": "2021-11-30T19:06:11.850Z"
   },
   {
    "duration": 70,
    "start_time": "2021-11-30T19:06:11.874Z"
   },
   {
    "duration": 30,
    "start_time": "2021-11-30T19:06:11.945Z"
   },
   {
    "duration": 45,
    "start_time": "2021-11-30T19:06:11.991Z"
   },
   {
    "duration": 30,
    "start_time": "2021-11-30T19:06:12.037Z"
   },
   {
    "duration": 125,
    "start_time": "2021-11-30T19:06:12.069Z"
   },
   {
    "duration": 2,
    "start_time": "2021-11-30T19:06:12.195Z"
   },
   {
    "duration": 93,
    "start_time": "2021-11-30T19:06:12.199Z"
   },
   {
    "duration": 12,
    "start_time": "2021-11-30T19:06:12.297Z"
   },
   {
    "duration": 116,
    "start_time": "2021-11-30T19:06:12.312Z"
   },
   {
    "duration": 264,
    "start_time": "2021-11-30T19:06:12.430Z"
   },
   {
    "duration": 84,
    "start_time": "2021-11-30T19:06:12.696Z"
   },
   {
    "duration": 50,
    "start_time": "2021-11-30T19:06:12.782Z"
   },
   {
    "duration": 61,
    "start_time": "2021-11-30T19:06:12.833Z"
   },
   {
    "duration": 310,
    "start_time": "2021-11-30T19:06:12.586Z"
   },
   {
    "duration": 299,
    "start_time": "2021-11-30T19:06:12.598Z"
   },
   {
    "duration": 296,
    "start_time": "2021-11-30T19:06:12.602Z"
   },
   {
    "duration": 292,
    "start_time": "2021-11-30T19:06:12.607Z"
   },
   {
    "duration": 291,
    "start_time": "2021-11-30T19:06:12.609Z"
   },
   {
    "duration": 289,
    "start_time": "2021-11-30T19:06:12.612Z"
   },
   {
    "duration": 287,
    "start_time": "2021-11-30T19:06:12.615Z"
   },
   {
    "duration": 285,
    "start_time": "2021-11-30T19:06:12.618Z"
   },
   {
    "duration": 283,
    "start_time": "2021-11-30T19:06:12.621Z"
   },
   {
    "duration": 282,
    "start_time": "2021-11-30T19:06:12.623Z"
   },
   {
    "duration": 281,
    "start_time": "2021-11-30T19:06:12.625Z"
   },
   {
    "duration": 280,
    "start_time": "2021-11-30T19:06:12.627Z"
   },
   {
    "duration": 273,
    "start_time": "2021-11-30T19:06:12.635Z"
   },
   {
    "duration": 264,
    "start_time": "2021-11-30T19:06:12.645Z"
   },
   {
    "duration": 263,
    "start_time": "2021-11-30T19:06:12.647Z"
   },
   {
    "duration": 262,
    "start_time": "2021-11-30T19:06:12.649Z"
   },
   {
    "duration": 253,
    "start_time": "2021-11-30T19:06:12.659Z"
   },
   {
    "duration": 251,
    "start_time": "2021-11-30T19:06:12.662Z"
   },
   {
    "duration": 250,
    "start_time": "2021-11-30T19:06:12.664Z"
   },
   {
    "duration": 247,
    "start_time": "2021-11-30T19:06:12.668Z"
   },
   {
    "duration": 239,
    "start_time": "2021-11-30T19:06:12.677Z"
   },
   {
    "duration": 237,
    "start_time": "2021-11-30T19:06:12.680Z"
   },
   {
    "duration": 235,
    "start_time": "2021-11-30T19:06:12.683Z"
   },
   {
    "duration": 908,
    "start_time": "2021-11-30T19:19:16.434Z"
   },
   {
    "duration": 4,
    "start_time": "2021-11-30T19:19:24.805Z"
   },
   {
    "duration": 803,
    "start_time": "2021-11-30T19:19:33.584Z"
   },
   {
    "duration": 1373,
    "start_time": "2021-11-30T19:19:40.618Z"
   },
   {
    "duration": 1325,
    "start_time": "2021-11-30T19:29:58.681Z"
   },
   {
    "duration": 1388,
    "start_time": "2021-11-30T19:30:17.776Z"
   },
   {
    "duration": 1345,
    "start_time": "2021-11-30T19:30:44.561Z"
   },
   {
    "duration": 1338,
    "start_time": "2021-11-30T19:30:56.890Z"
   },
   {
    "duration": 1527,
    "start_time": "2021-11-30T19:31:55.744Z"
   },
   {
    "duration": 1370,
    "start_time": "2021-11-30T19:31:57.272Z"
   },
   {
    "duration": 1175,
    "start_time": "2021-11-30T19:32:12.099Z"
   },
   {
    "duration": 174,
    "start_time": "2021-11-30T19:35:20.019Z"
   },
   {
    "duration": 268,
    "start_time": "2021-11-30T19:35:26.560Z"
   },
   {
    "duration": 227,
    "start_time": "2021-11-30T19:36:22.643Z"
   },
   {
    "duration": 202,
    "start_time": "2021-11-30T19:36:59.715Z"
   },
   {
    "duration": 398,
    "start_time": "2021-11-30T19:38:13.472Z"
   },
   {
    "duration": 251,
    "start_time": "2021-11-30T19:38:32.504Z"
   },
   {
    "duration": 239,
    "start_time": "2021-11-30T19:39:32.749Z"
   },
   {
    "duration": 1366,
    "start_time": "2021-11-30T19:39:51.561Z"
   },
   {
    "duration": 1413,
    "start_time": "2021-11-30T19:40:29.754Z"
   },
   {
    "duration": 245,
    "start_time": "2021-11-30T19:40:41.425Z"
   },
   {
    "duration": 257,
    "start_time": "2021-11-30T19:41:22.674Z"
   },
   {
    "duration": 1113,
    "start_time": "2021-11-30T19:57:19.130Z"
   },
   {
    "duration": 266,
    "start_time": "2021-11-30T19:57:25.641Z"
   },
   {
    "duration": 998,
    "start_time": "2021-11-30T19:58:57.227Z"
   },
   {
    "duration": 2,
    "start_time": "2021-11-30T19:58:58.227Z"
   },
   {
    "duration": 815,
    "start_time": "2021-11-30T19:58:58.231Z"
   },
   {
    "duration": 116,
    "start_time": "2021-11-30T19:58:59.047Z"
   },
   {
    "duration": 101,
    "start_time": "2021-11-30T19:58:59.164Z"
   },
   {
    "duration": 253,
    "start_time": "2021-11-30T19:58:59.266Z"
   },
   {
    "duration": 335,
    "start_time": "2021-11-30T19:58:59.521Z"
   },
   {
    "duration": 160,
    "start_time": "2021-11-30T19:58:59.858Z"
   },
   {
    "duration": 313,
    "start_time": "2021-11-30T19:59:00.021Z"
   },
   {
    "duration": 8,
    "start_time": "2021-11-30T19:59:00.336Z"
   },
   {
    "duration": 27,
    "start_time": "2021-11-30T19:59:00.345Z"
   },
   {
    "duration": 32,
    "start_time": "2021-11-30T19:59:00.392Z"
   },
   {
    "duration": 48,
    "start_time": "2021-11-30T19:59:00.426Z"
   },
   {
    "duration": 42,
    "start_time": "2021-11-30T19:59:00.476Z"
   },
   {
    "duration": 33,
    "start_time": "2021-11-30T19:59:00.520Z"
   },
   {
    "duration": 44,
    "start_time": "2021-11-30T19:59:00.555Z"
   },
   {
    "duration": 49,
    "start_time": "2021-11-30T19:59:00.600Z"
   },
   {
    "duration": 20,
    "start_time": "2021-11-30T19:59:00.651Z"
   },
   {
    "duration": 36,
    "start_time": "2021-11-30T19:59:00.672Z"
   },
   {
    "duration": 66,
    "start_time": "2021-11-30T19:59:00.709Z"
   },
   {
    "duration": 34,
    "start_time": "2021-11-30T19:59:00.777Z"
   },
   {
    "duration": 47,
    "start_time": "2021-11-30T19:59:00.812Z"
   },
   {
    "duration": 41,
    "start_time": "2021-11-30T19:59:00.862Z"
   },
   {
    "duration": 114,
    "start_time": "2021-11-30T19:59:00.905Z"
   },
   {
    "duration": 2,
    "start_time": "2021-11-30T19:59:01.021Z"
   },
   {
    "duration": 53,
    "start_time": "2021-11-30T19:59:01.024Z"
   },
   {
    "duration": 14,
    "start_time": "2021-11-30T19:59:01.079Z"
   },
   {
    "duration": 49,
    "start_time": "2021-11-30T19:59:01.095Z"
   },
   {
    "duration": 287,
    "start_time": "2021-11-30T19:59:01.145Z"
   },
   {
    "duration": 87,
    "start_time": "2021-11-30T19:59:01.433Z"
   },
   {
    "duration": 48,
    "start_time": "2021-11-30T19:59:01.521Z"
   },
   {
    "duration": 1407,
    "start_time": "2021-11-30T19:59:01.570Z"
   },
   {
    "duration": 934,
    "start_time": "2021-11-30T19:59:02.979Z"
   },
   {
    "duration": 263,
    "start_time": "2021-11-30T19:59:03.915Z"
   },
   {
    "duration": 326,
    "start_time": "2021-11-30T19:59:03.854Z"
   },
   {
    "duration": 312,
    "start_time": "2021-11-30T19:59:03.868Z"
   },
   {
    "duration": 309,
    "start_time": "2021-11-30T19:59:03.872Z"
   },
   {
    "duration": 306,
    "start_time": "2021-11-30T19:59:03.876Z"
   },
   {
    "duration": 305,
    "start_time": "2021-11-30T19:59:03.878Z"
   },
   {
    "duration": 304,
    "start_time": "2021-11-30T19:59:03.880Z"
   },
   {
    "duration": 303,
    "start_time": "2021-11-30T19:59:03.882Z"
   },
   {
    "duration": 301,
    "start_time": "2021-11-30T19:59:03.885Z"
   },
   {
    "duration": 300,
    "start_time": "2021-11-30T19:59:03.887Z"
   },
   {
    "duration": 298,
    "start_time": "2021-11-30T19:59:03.890Z"
   },
   {
    "duration": 296,
    "start_time": "2021-11-30T19:59:03.893Z"
   },
   {
    "duration": 293,
    "start_time": "2021-11-30T19:59:03.896Z"
   },
   {
    "duration": 292,
    "start_time": "2021-11-30T19:59:03.898Z"
   },
   {
    "duration": 291,
    "start_time": "2021-11-30T19:59:03.900Z"
   },
   {
    "duration": 290,
    "start_time": "2021-11-30T19:59:03.902Z"
   },
   {
    "duration": 282,
    "start_time": "2021-11-30T19:59:03.911Z"
   },
   {
    "duration": 281,
    "start_time": "2021-11-30T19:59:03.913Z"
   },
   {
    "duration": 280,
    "start_time": "2021-11-30T19:59:03.915Z"
   },
   {
    "duration": 278,
    "start_time": "2021-11-30T19:59:03.917Z"
   },
   {
    "duration": 277,
    "start_time": "2021-11-30T19:59:03.919Z"
   },
   {
    "duration": 276,
    "start_time": "2021-11-30T19:59:03.921Z"
   },
   {
    "duration": 274,
    "start_time": "2021-11-30T19:59:03.924Z"
   },
   {
    "duration": 1021,
    "start_time": "2021-11-30T19:59:50.580Z"
   },
   {
    "duration": 440,
    "start_time": "2021-11-30T20:00:00.113Z"
   },
   {
    "duration": 281,
    "start_time": "2021-11-30T20:00:13.788Z"
   },
   {
    "duration": 263,
    "start_time": "2021-11-30T20:02:17.794Z"
   },
   {
    "duration": 4,
    "start_time": "2021-11-30T20:10:12.285Z"
   },
   {
    "duration": 177,
    "start_time": "2021-11-30T20:12:44.713Z"
   },
   {
    "duration": 443,
    "start_time": "2021-11-30T20:13:47.579Z"
   },
   {
    "duration": 184,
    "start_time": "2021-11-30T20:14:32.240Z"
   },
   {
    "duration": 191,
    "start_time": "2021-11-30T20:14:51.634Z"
   },
   {
    "duration": 149586,
    "start_time": "2021-11-30T20:16:38.484Z"
   },
   {
    "duration": 229,
    "start_time": "2021-11-30T20:19:29.849Z"
   },
   {
    "duration": 996,
    "start_time": "2021-11-30T20:20:18.917Z"
   },
   {
    "duration": 2,
    "start_time": "2021-11-30T20:20:19.915Z"
   },
   {
    "duration": 902,
    "start_time": "2021-11-30T20:20:19.919Z"
   },
   {
    "duration": 119,
    "start_time": "2021-11-30T20:20:20.823Z"
   },
   {
    "duration": 103,
    "start_time": "2021-11-30T20:20:20.944Z"
   },
   {
    "duration": 263,
    "start_time": "2021-11-30T20:20:21.049Z"
   },
   {
    "duration": 343,
    "start_time": "2021-11-30T20:20:21.314Z"
   },
   {
    "duration": 168,
    "start_time": "2021-11-30T20:20:21.660Z"
   },
   {
    "duration": 325,
    "start_time": "2021-11-30T20:20:21.830Z"
   },
   {
    "duration": 7,
    "start_time": "2021-11-30T20:20:22.156Z"
   },
   {
    "duration": 38,
    "start_time": "2021-11-30T20:20:22.165Z"
   },
   {
    "duration": 31,
    "start_time": "2021-11-30T20:20:22.205Z"
   },
   {
    "duration": 64,
    "start_time": "2021-11-30T20:20:22.237Z"
   },
   {
    "duration": 32,
    "start_time": "2021-11-30T20:20:22.303Z"
   },
   {
    "duration": 33,
    "start_time": "2021-11-30T20:20:22.337Z"
   },
   {
    "duration": 45,
    "start_time": "2021-11-30T20:20:22.372Z"
   },
   {
    "duration": 51,
    "start_time": "2021-11-30T20:20:22.419Z"
   },
   {
    "duration": 39,
    "start_time": "2021-11-30T20:20:22.472Z"
   },
   {
    "duration": 21,
    "start_time": "2021-11-30T20:20:22.512Z"
   },
   {
    "duration": 77,
    "start_time": "2021-11-30T20:20:22.535Z"
   },
   {
    "duration": 31,
    "start_time": "2021-11-30T20:20:22.614Z"
   },
   {
    "duration": 57,
    "start_time": "2021-11-30T20:20:22.647Z"
   },
   {
    "duration": 31,
    "start_time": "2021-11-30T20:20:22.708Z"
   },
   {
    "duration": 123,
    "start_time": "2021-11-30T20:20:22.741Z"
   },
   {
    "duration": 3,
    "start_time": "2021-11-30T20:20:22.865Z"
   },
   {
    "duration": 55,
    "start_time": "2021-11-30T20:20:22.869Z"
   },
   {
    "duration": 5,
    "start_time": "2021-11-30T20:20:22.926Z"
   },
   {
    "duration": 60,
    "start_time": "2021-11-30T20:20:22.932Z"
   },
   {
    "duration": 288,
    "start_time": "2021-11-30T20:20:22.994Z"
   },
   {
    "duration": 85,
    "start_time": "2021-11-30T20:20:23.284Z"
   },
   {
    "duration": 59,
    "start_time": "2021-11-30T20:20:23.371Z"
   },
   {
    "duration": 1391,
    "start_time": "2021-11-30T20:20:23.432Z"
   },
   {
    "duration": 949,
    "start_time": "2021-11-30T20:20:24.824Z"
   },
   {
    "duration": 347,
    "start_time": "2021-11-30T20:20:25.775Z"
   },
   {
    "duration": 9378,
    "start_time": "2021-11-30T20:20:26.124Z"
   },
   {
    "duration": 319,
    "start_time": "2021-11-30T20:20:35.185Z"
   },
   {
    "duration": 316,
    "start_time": "2021-11-30T20:20:35.189Z"
   },
   {
    "duration": 316,
    "start_time": "2021-11-30T20:20:35.191Z"
   },
   {
    "duration": 315,
    "start_time": "2021-11-30T20:20:35.193Z"
   },
   {
    "duration": 314,
    "start_time": "2021-11-30T20:20:35.195Z"
   },
   {
    "duration": 308,
    "start_time": "2021-11-30T20:20:35.203Z"
   },
   {
    "duration": 306,
    "start_time": "2021-11-30T20:20:35.206Z"
   },
   {
    "duration": 304,
    "start_time": "2021-11-30T20:20:35.209Z"
   },
   {
    "duration": 304,
    "start_time": "2021-11-30T20:20:35.211Z"
   },
   {
    "duration": 303,
    "start_time": "2021-11-30T20:20:35.213Z"
   },
   {
    "duration": 301,
    "start_time": "2021-11-30T20:20:35.216Z"
   },
   {
    "duration": 301,
    "start_time": "2021-11-30T20:20:35.218Z"
   },
   {
    "duration": 299,
    "start_time": "2021-11-30T20:20:35.221Z"
   },
   {
    "duration": 298,
    "start_time": "2021-11-30T20:20:35.223Z"
   },
   {
    "duration": 298,
    "start_time": "2021-11-30T20:20:35.225Z"
   },
   {
    "duration": 297,
    "start_time": "2021-11-30T20:20:35.227Z"
   },
   {
    "duration": 296,
    "start_time": "2021-11-30T20:20:35.229Z"
   },
   {
    "duration": 296,
    "start_time": "2021-11-30T20:20:35.231Z"
   },
   {
    "duration": 295,
    "start_time": "2021-11-30T20:20:35.233Z"
   },
   {
    "duration": 294,
    "start_time": "2021-11-30T20:20:35.235Z"
   },
   {
    "duration": 9465,
    "start_time": "2021-11-30T20:22:02.409Z"
   },
   {
    "duration": 506776,
    "start_time": "2021-11-30T20:22:42.868Z"
   },
   {
    "duration": 2490,
    "start_time": "2021-11-30T20:33:31.403Z"
   },
   {
    "duration": 122,
    "start_time": "2021-11-30T20:35:09.465Z"
   },
   {
    "duration": 2377,
    "start_time": "2021-11-30T20:35:52.622Z"
   },
   {
    "duration": 174,
    "start_time": "2021-11-30T20:36:56.309Z"
   },
   {
    "duration": 173,
    "start_time": "2021-11-30T20:37:14.030Z"
   },
   {
    "duration": 180,
    "start_time": "2021-11-30T20:37:45.545Z"
   },
   {
    "duration": 173,
    "start_time": "2021-11-30T20:37:54.544Z"
   },
   {
    "duration": 6,
    "start_time": "2021-11-30T20:38:35.159Z"
   },
   {
    "duration": 174,
    "start_time": "2021-11-30T20:41:26.675Z"
   },
   {
    "duration": 172,
    "start_time": "2021-11-30T20:44:38.857Z"
   },
   {
    "duration": 2367,
    "start_time": "2021-11-30T20:44:58.627Z"
   },
   {
    "duration": 2598,
    "start_time": "2021-11-30T20:45:04.595Z"
   },
   {
    "duration": 2345,
    "start_time": "2021-11-30T20:46:18.948Z"
   },
   {
    "duration": 2325,
    "start_time": "2021-11-30T20:46:35.773Z"
   },
   {
    "duration": 55,
    "start_time": "2021-11-30T20:46:57.520Z"
   },
   {
    "duration": 2553,
    "start_time": "2021-11-30T20:47:00.761Z"
   },
   {
    "duration": 2258,
    "start_time": "2021-11-30T20:47:11.534Z"
   },
   {
    "duration": 2412,
    "start_time": "2021-11-30T20:47:45.180Z"
   },
   {
    "duration": 2421,
    "start_time": "2021-11-30T20:49:33.778Z"
   },
   {
    "duration": 3,
    "start_time": "2021-11-30T21:04:08.837Z"
   },
   {
    "duration": 3,
    "start_time": "2021-11-30T21:04:31.381Z"
   },
   {
    "duration": 3,
    "start_time": "2021-11-30T21:10:45.530Z"
   },
   {
    "duration": 2326,
    "start_time": "2021-11-30T21:12:02.074Z"
   },
   {
    "duration": 3,
    "start_time": "2021-11-30T21:14:49.239Z"
   },
   {
    "duration": 5,
    "start_time": "2021-11-30T21:18:53.885Z"
   },
   {
    "duration": 176,
    "start_time": "2021-11-30T21:25:20.978Z"
   },
   {
    "duration": 330542,
    "start_time": "2021-11-30T21:25:51.851Z"
   },
   {
    "duration": 229867,
    "start_time": "2021-11-30T21:31:27.624Z"
   },
   {
    "duration": 180,
    "start_time": "2021-11-30T21:35:17.493Z"
   },
   {
    "duration": 3181,
    "start_time": "2021-11-30T21:37:10.810Z"
   },
   {
    "duration": 791,
    "start_time": "2021-11-30T21:45:45.892Z"
   },
   {
    "duration": 13313,
    "start_time": "2021-11-30T21:45:48.084Z"
   },
   {
    "duration": 3,
    "start_time": "2021-11-30T21:46:16.650Z"
   },
   {
    "duration": 3,
    "start_time": "2021-11-30T21:46:18.327Z"
   },
   {
    "duration": 20460,
    "start_time": "2021-11-30T21:46:19.050Z"
   },
   {
    "duration": 63,
    "start_time": "2021-11-30T21:49:13.156Z"
   },
   {
    "duration": 829,
    "start_time": "2021-11-30T21:49:40.672Z"
   },
   {
    "duration": 51,
    "start_time": "2021-11-30T21:49:46.832Z"
   },
   {
    "duration": 789,
    "start_time": "2021-11-30T21:51:44.946Z"
   },
   {
    "duration": 13,
    "start_time": "2021-11-30T21:51:46.785Z"
   },
   {
    "duration": 13,
    "start_time": "2021-11-30T21:51:51.467Z"
   },
   {
    "duration": 13008,
    "start_time": "2021-11-30T21:51:52.500Z"
   },
   {
    "duration": 4,
    "start_time": "2021-11-30T21:52:06.848Z"
   },
   {
    "duration": 3,
    "start_time": "2021-11-30T21:52:07.782Z"
   },
   {
    "duration": 21563,
    "start_time": "2021-11-30T21:52:09.336Z"
   },
   {
    "duration": 1011,
    "start_time": "2021-11-30T21:57:19.586Z"
   },
   {
    "duration": 18,
    "start_time": "2021-11-30T21:57:23.117Z"
   },
   {
    "duration": 12649,
    "start_time": "2021-11-30T21:57:24.164Z"
   },
   {
    "duration": 4,
    "start_time": "2021-11-30T21:57:36.814Z"
   },
   {
    "duration": 6,
    "start_time": "2021-11-30T21:57:36.820Z"
   },
   {
    "duration": 19868,
    "start_time": "2021-11-30T21:57:36.828Z"
   },
   {
    "duration": 3,
    "start_time": "2021-11-30T21:57:56.698Z"
   },
   {
    "duration": 184613,
    "start_time": "2021-11-30T21:57:56.703Z"
   },
   {
    "duration": 3,
    "start_time": "2021-11-30T22:01:01.318Z"
   },
   {
    "duration": 23873,
    "start_time": "2021-11-30T22:01:01.323Z"
   },
   {
    "duration": 2,
    "start_time": "2021-11-30T22:01:25.198Z"
   },
   {
    "duration": 510728,
    "start_time": "2021-11-30T22:01:25.202Z"
   },
   {
    "duration": 38180,
    "start_time": "2021-11-30T22:09:55.932Z"
   },
   {
    "duration": 3,
    "start_time": "2021-11-30T22:10:34.114Z"
   },
   {
    "duration": 38075,
    "start_time": "2021-11-30T22:10:34.118Z"
   },
   {
    "duration": 2,
    "start_time": "2021-11-30T22:11:12.195Z"
   },
   {
    "duration": 6,
    "start_time": "2021-11-30T22:11:12.198Z"
   },
   {
    "duration": 36693,
    "start_time": "2021-11-30T22:11:12.205Z"
   },
   {
    "duration": 510,
    "start_time": "2021-11-30T22:11:48.899Z"
   },
   {
    "duration": 177,
    "start_time": "2021-11-30T22:11:49.410Z"
   },
   {
    "duration": 356,
    "start_time": "2021-11-30T22:11:49.233Z"
   },
   {
    "duration": 9,
    "start_time": "2021-11-30T22:14:56.592Z"
   },
   {
    "duration": 23,
    "start_time": "2021-11-30T22:15:22.056Z"
   },
   {
    "duration": 8,
    "start_time": "2021-11-30T22:15:28.818Z"
   },
   {
    "duration": 14,
    "start_time": "2021-11-30T22:15:36.645Z"
   },
   {
    "duration": 127,
    "start_time": "2021-11-30T22:15:55.169Z"
   },
   {
    "duration": 22,
    "start_time": "2021-11-30T22:17:51.024Z"
   },
   {
    "duration": 8,
    "start_time": "2021-11-30T22:18:06.326Z"
   },
   {
    "duration": 16,
    "start_time": "2021-11-30T22:18:16.547Z"
   },
   {
    "duration": 8,
    "start_time": "2021-11-30T22:19:03.850Z"
   },
   {
    "duration": 1103,
    "start_time": "2021-11-30T22:20:43.688Z"
   },
   {
    "duration": 11,
    "start_time": "2021-11-30T22:20:51.268Z"
   },
   {
    "duration": 24,
    "start_time": "2021-11-30T22:20:55.744Z"
   },
   {
    "duration": 8,
    "start_time": "2021-11-30T22:21:21.121Z"
   },
   {
    "duration": 15,
    "start_time": "2021-11-30T22:21:27.555Z"
   },
   {
    "duration": 361,
    "start_time": "2021-11-30T22:22:38.684Z"
   },
   {
    "duration": 16,
    "start_time": "2021-11-30T22:22:40.510Z"
   },
   {
    "duration": 1007,
    "start_time": "2021-11-30T22:23:38.011Z"
   },
   {
    "duration": 2,
    "start_time": "2021-11-30T22:23:39.020Z"
   },
   {
    "duration": 784,
    "start_time": "2021-11-30T22:23:39.025Z"
   },
   {
    "duration": 120,
    "start_time": "2021-11-30T22:23:39.811Z"
   },
   {
    "duration": 100,
    "start_time": "2021-11-30T22:23:39.933Z"
   },
   {
    "duration": 259,
    "start_time": "2021-11-30T22:23:40.035Z"
   },
   {
    "duration": 329,
    "start_time": "2021-11-30T22:23:40.296Z"
   },
   {
    "duration": 166,
    "start_time": "2021-11-30T22:23:40.627Z"
   },
   {
    "duration": 320,
    "start_time": "2021-11-30T22:23:40.795Z"
   },
   {
    "duration": 7,
    "start_time": "2021-11-30T22:23:41.117Z"
   },
   {
    "duration": 25,
    "start_time": "2021-11-30T22:23:41.125Z"
   },
   {
    "duration": 48,
    "start_time": "2021-11-30T22:23:41.152Z"
   },
   {
    "duration": 47,
    "start_time": "2021-11-30T22:23:41.202Z"
   },
   {
    "duration": 44,
    "start_time": "2021-11-30T22:23:41.250Z"
   },
   {
    "duration": 30,
    "start_time": "2021-11-30T22:23:41.296Z"
   },
   {
    "duration": 26,
    "start_time": "2021-11-30T22:23:41.328Z"
   },
   {
    "duration": 65,
    "start_time": "2021-11-30T22:23:41.355Z"
   },
   {
    "duration": 19,
    "start_time": "2021-11-30T22:23:41.421Z"
   },
   {
    "duration": 18,
    "start_time": "2021-11-30T22:23:41.442Z"
   },
   {
    "duration": 68,
    "start_time": "2021-11-30T22:23:41.462Z"
   },
   {
    "duration": 29,
    "start_time": "2021-11-30T22:23:41.532Z"
   },
   {
    "duration": 51,
    "start_time": "2021-11-30T22:23:41.562Z"
   },
   {
    "duration": 31,
    "start_time": "2021-11-30T22:23:41.614Z"
   },
   {
    "duration": 115,
    "start_time": "2021-11-30T22:23:41.647Z"
   },
   {
    "duration": 2,
    "start_time": "2021-11-30T22:23:41.764Z"
   },
   {
    "duration": 55,
    "start_time": "2021-11-30T22:23:41.770Z"
   },
   {
    "duration": 5,
    "start_time": "2021-11-30T22:23:41.827Z"
   },
   {
    "duration": 61,
    "start_time": "2021-11-30T22:23:41.833Z"
   },
   {
    "duration": 269,
    "start_time": "2021-11-30T22:23:41.895Z"
   },
   {
    "duration": 89,
    "start_time": "2021-11-30T22:23:42.166Z"
   },
   {
    "duration": 50,
    "start_time": "2021-11-30T22:23:42.257Z"
   },
   {
    "duration": 1424,
    "start_time": "2021-11-30T22:23:42.309Z"
   },
   {
    "duration": 936,
    "start_time": "2021-11-30T22:23:43.735Z"
   },
   {
    "duration": 287,
    "start_time": "2021-11-30T22:23:44.673Z"
   },
   {
    "duration": 4,
    "start_time": "2021-11-30T22:23:44.962Z"
   },
   {
    "duration": 226067,
    "start_time": "2021-11-30T22:23:44.968Z"
   },
   {
    "duration": 2960,
    "start_time": "2021-11-30T22:27:31.037Z"
   },
   {
    "duration": 550,
    "start_time": "2021-11-30T22:27:33.999Z"
   },
   {
    "duration": 13,
    "start_time": "2021-11-30T22:27:34.551Z"
   },
   {
    "duration": 259,
    "start_time": "2021-11-30T22:27:34.566Z"
   },
   {
    "duration": 3,
    "start_time": "2021-11-30T22:27:34.827Z"
   },
   {
    "duration": 6,
    "start_time": "2021-11-30T22:27:34.832Z"
   },
   {
    "duration": 347,
    "start_time": "2021-11-30T22:27:34.840Z"
   },
   {
    "duration": 3,
    "start_time": "2021-11-30T22:27:35.188Z"
   },
   {
    "duration": 435,
    "start_time": "2021-11-30T22:27:35.192Z"
   },
   {
    "duration": 3,
    "start_time": "2021-11-30T22:27:35.628Z"
   },
   {
    "duration": 318,
    "start_time": "2021-11-30T22:27:35.632Z"
   },
   {
    "duration": 2,
    "start_time": "2021-11-30T22:27:35.952Z"
   },
   {
    "duration": 376,
    "start_time": "2021-11-30T22:27:35.955Z"
   },
   {
    "duration": 380,
    "start_time": "2021-11-30T22:27:35.953Z"
   },
   {
    "duration": 378,
    "start_time": "2021-11-30T22:27:35.956Z"
   },
   {
    "duration": 376,
    "start_time": "2021-11-30T22:27:35.959Z"
   },
   {
    "duration": 375,
    "start_time": "2021-11-30T22:27:35.961Z"
   },
   {
    "duration": 374,
    "start_time": "2021-11-30T22:27:35.963Z"
   },
   {
    "duration": 372,
    "start_time": "2021-11-30T22:27:35.966Z"
   },
   {
    "duration": 371,
    "start_time": "2021-11-30T22:27:35.968Z"
   },
   {
    "duration": 370,
    "start_time": "2021-11-30T22:27:35.970Z"
   },
   {
    "duration": 369,
    "start_time": "2021-11-30T22:27:35.972Z"
   },
   {
    "duration": 21,
    "start_time": "2021-11-30T22:38:53.553Z"
   },
   {
    "duration": 1087,
    "start_time": "2021-12-27T20:45:01.695Z"
   },
   {
    "duration": 3,
    "start_time": "2021-12-27T20:45:02.784Z"
   },
   {
    "duration": 1122,
    "start_time": "2021-12-27T20:45:02.788Z"
   },
   {
    "duration": 125,
    "start_time": "2021-12-27T20:45:03.912Z"
   },
   {
    "duration": 105,
    "start_time": "2021-12-27T20:45:04.038Z"
   },
   {
    "duration": 267,
    "start_time": "2021-12-27T20:45:04.145Z"
   },
   {
    "duration": 360,
    "start_time": "2021-12-27T20:45:04.414Z"
   },
   {
    "duration": 181,
    "start_time": "2021-12-27T20:45:04.776Z"
   },
   {
    "duration": 321,
    "start_time": "2021-12-27T20:45:04.960Z"
   },
   {
    "duration": 9,
    "start_time": "2021-12-27T20:45:05.291Z"
   },
   {
    "duration": 43,
    "start_time": "2021-12-27T20:45:05.301Z"
   },
   {
    "duration": 33,
    "start_time": "2021-12-27T20:45:05.346Z"
   },
   {
    "duration": 61,
    "start_time": "2021-12-27T20:45:05.381Z"
   },
   {
    "duration": 30,
    "start_time": "2021-12-27T20:45:05.443Z"
   },
   {
    "duration": 45,
    "start_time": "2021-12-27T20:45:05.475Z"
   },
   {
    "duration": 28,
    "start_time": "2021-12-27T20:45:05.521Z"
   },
   {
    "duration": 64,
    "start_time": "2021-12-27T20:45:05.550Z"
   },
   {
    "duration": 20,
    "start_time": "2021-12-27T20:45:05.616Z"
   },
   {
    "duration": 23,
    "start_time": "2021-12-27T20:45:05.637Z"
   },
   {
    "duration": 70,
    "start_time": "2021-12-27T20:45:05.662Z"
   },
   {
    "duration": 33,
    "start_time": "2021-12-27T20:45:05.733Z"
   },
   {
    "duration": 54,
    "start_time": "2021-12-27T20:45:05.768Z"
   },
   {
    "duration": 31,
    "start_time": "2021-12-27T20:45:05.826Z"
   },
   {
    "duration": 124,
    "start_time": "2021-12-27T20:45:05.859Z"
   },
   {
    "duration": 6,
    "start_time": "2021-12-27T20:45:05.985Z"
   },
   {
    "duration": 45,
    "start_time": "2021-12-27T20:45:05.993Z"
   },
   {
    "duration": 4,
    "start_time": "2021-12-27T20:45:06.040Z"
   },
   {
    "duration": 70,
    "start_time": "2021-12-27T20:45:06.046Z"
   },
   {
    "duration": 277,
    "start_time": "2021-12-27T20:45:06.118Z"
   },
   {
    "duration": 94,
    "start_time": "2021-12-27T20:45:06.397Z"
   },
   {
    "duration": 46,
    "start_time": "2021-12-27T20:45:06.493Z"
   },
   {
    "duration": 1439,
    "start_time": "2021-12-27T20:45:06.541Z"
   },
   {
    "duration": 949,
    "start_time": "2021-12-27T20:45:07.981Z"
   },
   {
    "duration": 295,
    "start_time": "2021-12-27T20:45:08.931Z"
   },
   {
    "duration": 3,
    "start_time": "2021-12-27T20:45:09.228Z"
   },
   {
    "duration": 238297,
    "start_time": "2021-12-27T20:45:09.232Z"
   },
   {
    "duration": 3165,
    "start_time": "2021-12-27T20:49:07.531Z"
   },
   {
    "duration": 562,
    "start_time": "2021-12-27T20:49:10.699Z"
   },
   {
    "duration": 15,
    "start_time": "2021-12-27T20:49:11.262Z"
   },
   {
    "duration": 258,
    "start_time": "2021-12-27T20:49:11.278Z"
   },
   {
    "duration": 4,
    "start_time": "2021-12-27T20:49:11.537Z"
   },
   {
    "duration": 5,
    "start_time": "2021-12-27T20:49:11.542Z"
   },
   {
    "duration": 340,
    "start_time": "2021-12-27T20:49:11.549Z"
   },
   {
    "duration": 3,
    "start_time": "2021-12-27T20:49:11.892Z"
   },
   {
    "duration": 320,
    "start_time": "2021-12-27T20:49:11.897Z"
   },
   {
    "duration": 4,
    "start_time": "2021-12-27T20:49:12.219Z"
   },
   {
    "duration": 329,
    "start_time": "2021-12-27T20:49:12.225Z"
   },
   {
    "duration": 3,
    "start_time": "2021-12-27T20:49:12.556Z"
   },
   {
    "duration": 391,
    "start_time": "2021-12-27T20:49:12.561Z"
   },
   {
    "duration": -2020,
    "start_time": "2021-12-27T20:49:14.974Z"
   },
   {
    "duration": -2021,
    "start_time": "2021-12-27T20:49:14.977Z"
   },
   {
    "duration": -2022,
    "start_time": "2021-12-27T20:49:14.979Z"
   },
   {
    "duration": -2023,
    "start_time": "2021-12-27T20:49:14.981Z"
   },
   {
    "duration": -2025,
    "start_time": "2021-12-27T20:49:14.983Z"
   },
   {
    "duration": -2027,
    "start_time": "2021-12-27T20:49:14.986Z"
   },
   {
    "duration": -2030,
    "start_time": "2021-12-27T20:49:14.990Z"
   },
   {
    "duration": -2031,
    "start_time": "2021-12-27T20:49:14.993Z"
   },
   {
    "duration": -2034,
    "start_time": "2021-12-27T20:49:14.997Z"
   },
   {
    "duration": 15007,
    "start_time": "2021-12-27T20:55:45.913Z"
   },
   {
    "duration": 45322,
    "start_time": "2021-12-27T20:58:08.006Z"
   },
   {
    "duration": 384,
    "start_time": "2021-12-27T21:01:39.240Z"
   },
   {
    "duration": 185,
    "start_time": "2021-12-27T21:02:18.421Z"
   },
   {
    "duration": 176,
    "start_time": "2021-12-27T21:02:26.110Z"
   },
   {
    "duration": 179,
    "start_time": "2021-12-27T21:02:51.642Z"
   },
   {
    "duration": 4,
    "start_time": "2021-12-27T21:02:58.840Z"
   },
   {
    "duration": 4,
    "start_time": "2021-12-27T21:03:07.545Z"
   },
   {
    "duration": 176,
    "start_time": "2021-12-27T21:03:28.177Z"
   },
   {
    "duration": 45878,
    "start_time": "2021-12-27T21:03:39.903Z"
   },
   {
    "duration": 3,
    "start_time": "2021-12-27T21:05:55.374Z"
   },
   {
    "duration": 47308,
    "start_time": "2021-12-27T21:05:56.878Z"
   },
   {
    "duration": 34,
    "start_time": "2021-12-27T21:08:28.953Z"
   },
   {
    "duration": 13,
    "start_time": "2021-12-27T21:09:13.936Z"
   },
   {
    "duration": 18,
    "start_time": "2021-12-27T21:09:24.507Z"
   },
   {
    "duration": 152,
    "start_time": "2021-12-27T21:09:57.991Z"
   },
   {
    "duration": 152,
    "start_time": "2021-12-27T21:10:04.435Z"
   },
   {
    "duration": 26,
    "start_time": "2021-12-27T21:10:16.632Z"
   },
   {
    "duration": 12,
    "start_time": "2021-12-27T21:10:44.453Z"
   },
   {
    "duration": 88,
    "start_time": "2021-12-27T21:14:02.296Z"
   },
   {
    "duration": 254,
    "start_time": "2021-12-27T21:14:08.652Z"
   },
   {
    "duration": 255,
    "start_time": "2021-12-27T21:15:20.596Z"
   },
   {
    "duration": 366,
    "start_time": "2021-12-27T21:15:44.915Z"
   },
   {
    "duration": 377,
    "start_time": "2021-12-27T21:16:35.794Z"
   },
   {
    "duration": 15,
    "start_time": "2021-12-27T21:16:39.380Z"
   },
   {
    "duration": 186,
    "start_time": "2021-12-27T21:16:39.731Z"
   },
   {
    "duration": 8296,
    "start_time": "2021-12-27T21:16:47.707Z"
   },
   {
    "duration": 4,
    "start_time": "2021-12-27T21:16:56.005Z"
   },
   {
    "duration": 5,
    "start_time": "2021-12-27T21:16:56.011Z"
   },
   {
    "duration": 14774,
    "start_time": "2021-12-27T21:16:56.018Z"
   },
   {
    "duration": 3,
    "start_time": "2021-12-27T21:17:10.794Z"
   },
   {
    "duration": 181219,
    "start_time": "2021-12-27T21:17:10.798Z"
   },
   {
    "duration": 2,
    "start_time": "2021-12-27T21:20:12.019Z"
   },
   {
    "duration": 16975,
    "start_time": "2021-12-27T21:20:12.024Z"
   },
   {
    "duration": 3,
    "start_time": "2021-12-27T21:20:29.001Z"
   },
   {
    "duration": 393093,
    "start_time": "2021-12-27T21:20:29.006Z"
   },
   {
    "duration": 30120,
    "start_time": "2021-12-27T21:27:02.101Z"
   },
   {
    "duration": 3,
    "start_time": "2021-12-27T21:27:32.223Z"
   },
   {
    "duration": 27230,
    "start_time": "2021-12-27T21:27:32.292Z"
   },
   {
    "duration": 3,
    "start_time": "2021-12-27T21:27:59.524Z"
   },
   {
    "duration": 12,
    "start_time": "2021-12-27T21:27:59.593Z"
   },
   {
    "duration": 29494,
    "start_time": "2021-12-27T21:27:59.607Z"
   },
   {
    "duration": 1788,
    "start_time": "2021-12-27T21:28:29.103Z"
   },
   {
    "duration": 4,
    "start_time": "2021-12-27T21:28:30.894Z"
   },
   {
    "duration": 11,
    "start_time": "2021-12-27T21:28:30.900Z"
   },
   {
    "duration": 4,
    "start_time": "2021-12-27T21:55:16.440Z"
   },
   {
    "duration": 6,
    "start_time": "2021-12-27T21:59:15.639Z"
   },
   {
    "duration": 9,
    "start_time": "2021-12-27T21:59:21.588Z"
   },
   {
    "duration": 210,
    "start_time": "2021-12-27T22:03:30.000Z"
   },
   {
    "duration": 11,
    "start_time": "2021-12-27T22:03:54.915Z"
   },
   {
    "duration": 12,
    "start_time": "2021-12-27T22:05:08.649Z"
   },
   {
    "duration": 4,
    "start_time": "2021-12-27T22:10:24.388Z"
   },
   {
    "duration": 29551,
    "start_time": "2021-12-27T22:18:01.171Z"
   },
   {
    "duration": 128,
    "start_time": "2021-12-27T22:18:49.689Z"
   },
   {
    "duration": 125,
    "start_time": "2021-12-27T22:18:58.069Z"
   },
   {
    "duration": 122,
    "start_time": "2021-12-27T22:19:06.071Z"
   },
   {
    "duration": 123,
    "start_time": "2021-12-27T22:19:20.914Z"
   },
   {
    "duration": 1040,
    "start_time": "2021-12-27T22:21:11.701Z"
   },
   {
    "duration": 2,
    "start_time": "2021-12-27T22:21:12.743Z"
   },
   {
    "duration": 814,
    "start_time": "2021-12-27T22:21:12.747Z"
   },
   {
    "duration": 129,
    "start_time": "2021-12-27T22:21:13.562Z"
   },
   {
    "duration": 105,
    "start_time": "2021-12-27T22:21:13.693Z"
   },
   {
    "duration": 270,
    "start_time": "2021-12-27T22:21:13.800Z"
   },
   {
    "duration": 347,
    "start_time": "2021-12-27T22:21:14.072Z"
   },
   {
    "duration": 168,
    "start_time": "2021-12-27T22:21:14.421Z"
   },
   {
    "duration": 326,
    "start_time": "2021-12-27T22:21:14.592Z"
   },
   {
    "duration": 9,
    "start_time": "2021-12-27T22:21:14.920Z"
   },
   {
    "duration": 32,
    "start_time": "2021-12-27T22:21:14.931Z"
   },
   {
    "duration": 54,
    "start_time": "2021-12-27T22:21:14.965Z"
   },
   {
    "duration": 67,
    "start_time": "2021-12-27T22:21:15.021Z"
   },
   {
    "duration": 32,
    "start_time": "2021-12-27T22:21:15.090Z"
   },
   {
    "duration": 32,
    "start_time": "2021-12-27T22:21:15.124Z"
   },
   {
    "duration": 40,
    "start_time": "2021-12-27T22:21:15.158Z"
   },
   {
    "duration": 49,
    "start_time": "2021-12-27T22:21:15.200Z"
   },
   {
    "duration": 21,
    "start_time": "2021-12-27T22:21:15.251Z"
   },
   {
    "duration": 20,
    "start_time": "2021-12-27T22:21:15.292Z"
   },
   {
    "duration": 59,
    "start_time": "2021-12-27T22:21:15.313Z"
   },
   {
    "duration": 48,
    "start_time": "2021-12-27T22:21:15.373Z"
   },
   {
    "duration": 46,
    "start_time": "2021-12-27T22:21:15.423Z"
   },
   {
    "duration": 45,
    "start_time": "2021-12-27T22:21:15.471Z"
   },
   {
    "duration": 121,
    "start_time": "2021-12-27T22:21:15.518Z"
   },
   {
    "duration": 121916,
    "start_time": "2021-12-27T22:21:15.641Z"
   },
   {
    "duration": 62,
    "start_time": "2021-12-27T22:23:17.559Z"
   },
   {
    "duration": 5,
    "start_time": "2021-12-27T22:23:17.624Z"
   },
   {
    "duration": 61,
    "start_time": "2021-12-27T22:23:17.631Z"
   },
   {
    "duration": 278,
    "start_time": "2021-12-27T22:23:17.694Z"
   },
   {
    "duration": 88,
    "start_time": "2021-12-27T22:23:17.974Z"
   },
   {
    "duration": 47,
    "start_time": "2021-12-27T22:23:18.064Z"
   },
   {
    "duration": 1463,
    "start_time": "2021-12-27T22:23:18.112Z"
   },
   {
    "duration": 962,
    "start_time": "2021-12-27T22:23:19.577Z"
   },
   {
    "duration": 319,
    "start_time": "2021-12-27T22:23:20.540Z"
   },
   {
    "duration": 2,
    "start_time": "2021-12-27T22:23:20.861Z"
   },
   {
    "duration": 65,
    "start_time": "2021-12-27T22:23:20.865Z"
   },
   {
    "duration": -1978,
    "start_time": "2021-12-27T22:23:22.910Z"
   },
   {
    "duration": -1979,
    "start_time": "2021-12-27T22:23:22.912Z"
   },
   {
    "duration": -1981,
    "start_time": "2021-12-27T22:23:22.915Z"
   },
   {
    "duration": -1996,
    "start_time": "2021-12-27T22:23:22.930Z"
   },
   {
    "duration": -1999,
    "start_time": "2021-12-27T22:23:22.934Z"
   },
   {
    "duration": -2001,
    "start_time": "2021-12-27T22:23:22.937Z"
   },
   {
    "duration": -2002,
    "start_time": "2021-12-27T22:23:22.939Z"
   },
   {
    "duration": -2005,
    "start_time": "2021-12-27T22:23:22.943Z"
   },
   {
    "duration": -2008,
    "start_time": "2021-12-27T22:23:22.947Z"
   },
   {
    "duration": -2009,
    "start_time": "2021-12-27T22:23:22.949Z"
   },
   {
    "duration": -2011,
    "start_time": "2021-12-27T22:23:22.952Z"
   },
   {
    "duration": -2012,
    "start_time": "2021-12-27T22:23:22.954Z"
   },
   {
    "duration": -2014,
    "start_time": "2021-12-27T22:23:22.957Z"
   },
   {
    "duration": -2016,
    "start_time": "2021-12-27T22:23:22.960Z"
   },
   {
    "duration": -2018,
    "start_time": "2021-12-27T22:23:22.962Z"
   },
   {
    "duration": -2020,
    "start_time": "2021-12-27T22:23:22.965Z"
   },
   {
    "duration": -2021,
    "start_time": "2021-12-27T22:23:22.967Z"
   },
   {
    "duration": -2022,
    "start_time": "2021-12-27T22:23:22.969Z"
   },
   {
    "duration": -2024,
    "start_time": "2021-12-27T22:23:22.972Z"
   },
   {
    "duration": -2025,
    "start_time": "2021-12-27T22:23:22.974Z"
   },
   {
    "duration": -2027,
    "start_time": "2021-12-27T22:23:22.977Z"
   },
   {
    "duration": -2029,
    "start_time": "2021-12-27T22:23:22.979Z"
   },
   {
    "duration": -2031,
    "start_time": "2021-12-27T22:23:22.982Z"
   },
   {
    "duration": 45627,
    "start_time": "2021-12-27T22:24:42.503Z"
   },
   {
    "duration": 1560,
    "start_time": "2021-12-27T22:25:28.132Z"
   },
   {
    "duration": 458,
    "start_time": "2021-12-27T22:25:45.026Z"
   },
   {
    "duration": 16,
    "start_time": "2021-12-27T22:25:45.491Z"
   },
   {
    "duration": 8213,
    "start_time": "2021-12-27T22:29:03.393Z"
   },
   {
    "duration": 7,
    "start_time": "2021-12-27T22:29:58.860Z"
   },
   {
    "duration": 996,
    "start_time": "2021-12-27T22:38:41.243Z"
   },
   {
    "duration": 2,
    "start_time": "2021-12-27T22:38:42.241Z"
   },
   {
    "duration": 820,
    "start_time": "2021-12-27T22:38:42.245Z"
   },
   {
    "duration": 136,
    "start_time": "2021-12-27T22:38:43.067Z"
   },
   {
    "duration": 114,
    "start_time": "2021-12-27T22:38:43.205Z"
   },
   {
    "duration": 270,
    "start_time": "2021-12-27T22:38:43.321Z"
   },
   {
    "duration": 360,
    "start_time": "2021-12-27T22:38:43.593Z"
   },
   {
    "duration": 171,
    "start_time": "2021-12-27T22:38:43.955Z"
   },
   {
    "duration": 328,
    "start_time": "2021-12-27T22:38:44.129Z"
   },
   {
    "duration": 8,
    "start_time": "2021-12-27T22:38:44.459Z"
   },
   {
    "duration": 45,
    "start_time": "2021-12-27T22:38:44.469Z"
   },
   {
    "duration": 31,
    "start_time": "2021-12-27T22:38:44.516Z"
   },
   {
    "duration": 69,
    "start_time": "2021-12-27T22:38:44.549Z"
   },
   {
    "duration": 34,
    "start_time": "2021-12-27T22:38:44.620Z"
   },
   {
    "duration": 57,
    "start_time": "2021-12-27T22:38:44.655Z"
   },
   {
    "duration": 30,
    "start_time": "2021-12-27T22:38:44.714Z"
   },
   {
    "duration": 70,
    "start_time": "2021-12-27T22:38:44.745Z"
   },
   {
    "duration": 22,
    "start_time": "2021-12-27T22:38:44.817Z"
   },
   {
    "duration": 23,
    "start_time": "2021-12-27T22:38:44.841Z"
   },
   {
    "duration": 95,
    "start_time": "2021-12-27T22:38:44.867Z"
   },
   {
    "duration": 37,
    "start_time": "2021-12-27T22:38:44.964Z"
   },
   {
    "duration": 88,
    "start_time": "2021-12-27T22:38:45.003Z"
   },
   {
    "duration": 32,
    "start_time": "2021-12-27T22:38:45.101Z"
   },
   {
    "duration": 122,
    "start_time": "2021-12-27T22:38:45.136Z"
   },
   {
    "duration": 127319,
    "start_time": "2021-12-27T22:38:45.260Z"
   },
   {
    "duration": 55,
    "start_time": "2021-12-27T22:40:52.581Z"
   },
   {
    "duration": 5,
    "start_time": "2021-12-27T22:40:52.637Z"
   },
   {
    "duration": 74,
    "start_time": "2021-12-27T22:40:52.643Z"
   },
   {
    "duration": 278,
    "start_time": "2021-12-27T22:40:52.719Z"
   },
   {
    "duration": 91,
    "start_time": "2021-12-27T22:40:53.004Z"
   },
   {
    "duration": 41,
    "start_time": "2021-12-27T22:40:53.097Z"
   },
   {
    "duration": 1483,
    "start_time": "2021-12-27T22:40:53.140Z"
   },
   {
    "duration": 961,
    "start_time": "2021-12-27T22:40:54.624Z"
   },
   {
    "duration": 299,
    "start_time": "2021-12-27T22:40:55.591Z"
   },
   {
    "duration": 3,
    "start_time": "2021-12-27T22:40:55.892Z"
   },
   {
    "duration": 46428,
    "start_time": "2021-12-27T22:40:55.896Z"
   },
   {
    "duration": 1566,
    "start_time": "2021-12-27T22:41:42.326Z"
   },
   {
    "duration": 469,
    "start_time": "2021-12-27T22:41:43.894Z"
   },
   {
    "duration": 8244,
    "start_time": "2021-12-27T22:41:44.364Z"
   },
   {
    "duration": 5,
    "start_time": "2021-12-27T22:41:52.610Z"
   },
   {
    "duration": 5,
    "start_time": "2021-12-27T22:41:52.617Z"
   },
   {
    "duration": 14783,
    "start_time": "2021-12-27T22:41:52.624Z"
   },
   {
    "duration": 3,
    "start_time": "2021-12-27T22:42:07.408Z"
   },
   {
    "duration": 150893,
    "start_time": "2021-12-27T22:42:07.412Z"
   },
   {
    "duration": 3,
    "start_time": "2021-12-27T22:44:38.307Z"
   },
   {
    "duration": 16403,
    "start_time": "2021-12-27T22:44:38.311Z"
   },
   {
    "duration": 4,
    "start_time": "2021-12-27T22:44:54.716Z"
   },
   {
    "duration": 263,
    "start_time": "2021-12-27T22:44:54.721Z"
   },
   {
    "duration": -1978,
    "start_time": "2021-12-27T22:44:56.964Z"
   },
   {
    "duration": -1981,
    "start_time": "2021-12-27T22:44:56.968Z"
   },
   {
    "duration": -1983,
    "start_time": "2021-12-27T22:44:56.972Z"
   },
   {
    "duration": -1985,
    "start_time": "2021-12-27T22:44:56.975Z"
   },
   {
    "duration": -1986,
    "start_time": "2021-12-27T22:44:56.977Z"
   },
   {
    "duration": -1988,
    "start_time": "2021-12-27T22:44:56.979Z"
   },
   {
    "duration": -1989,
    "start_time": "2021-12-27T22:44:56.981Z"
   },
   {
    "duration": -1991,
    "start_time": "2021-12-27T22:44:56.984Z"
   },
   {
    "duration": -1992,
    "start_time": "2021-12-27T22:44:56.986Z"
   },
   {
    "duration": -1994,
    "start_time": "2021-12-27T22:44:56.989Z"
   },
   {
    "duration": 364535,
    "start_time": "2021-12-27T22:47:10.757Z"
   },
   {
    "duration": 27822,
    "start_time": "2021-12-27T22:53:15.294Z"
   },
   {
    "duration": 3,
    "start_time": "2021-12-27T22:53:43.119Z"
   },
   {
    "duration": 26631,
    "start_time": "2021-12-27T22:53:43.124Z"
   },
   {
    "duration": 2,
    "start_time": "2021-12-27T22:54:09.756Z"
   },
   {
    "duration": 33,
    "start_time": "2021-12-27T22:54:09.760Z"
   },
   {
    "duration": 27203,
    "start_time": "2021-12-27T22:54:09.795Z"
   },
   {
    "duration": 1791,
    "start_time": "2021-12-27T22:54:37.001Z"
   },
   {
    "duration": 5,
    "start_time": "2021-12-27T22:54:38.794Z"
   },
   {
    "duration": 7,
    "start_time": "2021-12-27T22:54:38.801Z"
   },
   {
    "duration": 9,
    "start_time": "2021-12-27T22:54:38.810Z"
   },
   {
    "duration": 7,
    "start_time": "2021-12-27T22:56:48.085Z"
   },
   {
    "duration": 27649,
    "start_time": "2021-12-27T22:58:06.379Z"
   },
   {
    "duration": 7,
    "start_time": "2021-12-27T22:58:34.030Z"
   },
   {
    "duration": 4,
    "start_time": "2021-12-27T22:59:21.582Z"
   },
   {
    "duration": 6229,
    "start_time": "2021-12-27T22:59:21.588Z"
   },
   {
    "duration": 5,
    "start_time": "2021-12-27T22:59:30.936Z"
   },
   {
    "duration": 3,
    "start_time": "2021-12-27T22:59:32.873Z"
   },
   {
    "duration": 7175,
    "start_time": "2021-12-27T22:59:33.599Z"
   },
   {
    "duration": 5,
    "start_time": "2021-12-27T22:59:49.298Z"
   },
   {
    "duration": 3,
    "start_time": "2021-12-27T22:59:51.120Z"
   },
   {
    "duration": 17026,
    "start_time": "2021-12-27T22:59:58.384Z"
   },
   {
    "duration": 8,
    "start_time": "2021-12-27T23:00:48.589Z"
   },
   {
    "duration": 1078,
    "start_time": "2021-12-27T23:01:49.836Z"
   },
   {
    "duration": 2,
    "start_time": "2021-12-27T23:01:50.916Z"
   },
   {
    "duration": 836,
    "start_time": "2021-12-27T23:01:50.920Z"
   },
   {
    "duration": 126,
    "start_time": "2021-12-27T23:01:51.758Z"
   },
   {
    "duration": 101,
    "start_time": "2021-12-27T23:01:51.891Z"
   },
   {
    "duration": 264,
    "start_time": "2021-12-27T23:01:51.994Z"
   },
   {
    "duration": 347,
    "start_time": "2021-12-27T23:01:52.260Z"
   },
   {
    "duration": 165,
    "start_time": "2021-12-27T23:01:52.610Z"
   },
   {
    "duration": 316,
    "start_time": "2021-12-27T23:01:52.777Z"
   },
   {
    "duration": 9,
    "start_time": "2021-12-27T23:01:53.095Z"
   },
   {
    "duration": 42,
    "start_time": "2021-12-27T23:01:53.106Z"
   },
   {
    "duration": 42,
    "start_time": "2021-12-27T23:01:53.150Z"
   },
   {
    "duration": 56,
    "start_time": "2021-12-27T23:01:53.194Z"
   },
   {
    "duration": 40,
    "start_time": "2021-12-27T23:01:53.252Z"
   },
   {
    "duration": 43,
    "start_time": "2021-12-27T23:01:53.294Z"
   },
   {
    "duration": 34,
    "start_time": "2021-12-27T23:01:53.339Z"
   },
   {
    "duration": 61,
    "start_time": "2021-12-27T23:01:53.375Z"
   },
   {
    "duration": 21,
    "start_time": "2021-12-27T23:01:53.438Z"
   },
   {
    "duration": 31,
    "start_time": "2021-12-27T23:01:53.461Z"
   },
   {
    "duration": 58,
    "start_time": "2021-12-27T23:01:53.494Z"
   },
   {
    "duration": 40,
    "start_time": "2021-12-27T23:01:53.554Z"
   },
   {
    "duration": 68,
    "start_time": "2021-12-27T23:01:53.596Z"
   },
   {
    "duration": 32,
    "start_time": "2021-12-27T23:01:53.669Z"
   },
   {
    "duration": 129,
    "start_time": "2021-12-27T23:01:53.704Z"
   },
   {
    "duration": 124871,
    "start_time": "2021-12-27T23:01:53.835Z"
   },
   {
    "duration": 52,
    "start_time": "2021-12-27T23:03:58.707Z"
   },
   {
    "duration": 31,
    "start_time": "2021-12-27T23:03:58.760Z"
   },
   {
    "duration": 49,
    "start_time": "2021-12-27T23:03:58.793Z"
   },
   {
    "duration": 292,
    "start_time": "2021-12-27T23:03:58.844Z"
   },
   {
    "duration": 94,
    "start_time": "2021-12-27T23:03:59.138Z"
   },
   {
    "duration": 39,
    "start_time": "2021-12-27T23:03:59.234Z"
   },
   {
    "duration": 1525,
    "start_time": "2021-12-27T23:03:59.275Z"
   },
   {
    "duration": 980,
    "start_time": "2021-12-27T23:04:00.801Z"
   },
   {
    "duration": 313,
    "start_time": "2021-12-27T23:04:01.783Z"
   },
   {
    "duration": 3,
    "start_time": "2021-12-27T23:04:02.097Z"
   },
   {
    "duration": 47839,
    "start_time": "2021-12-27T23:04:02.102Z"
   },
   {
    "duration": 1561,
    "start_time": "2021-12-27T23:04:49.943Z"
   },
   {
    "duration": 481,
    "start_time": "2021-12-27T23:04:51.591Z"
   },
   {
    "duration": 287743,
    "start_time": "2021-12-27T23:04:52.074Z"
   },
   {
    "duration": 74,
    "start_time": "2021-12-27T23:09:39.818Z"
   },
   {
    "duration": 3,
    "start_time": "2021-12-27T23:09:39.893Z"
   },
   {
    "duration": 26502,
    "start_time": "2021-12-27T23:09:39.898Z"
   },
   {
    "duration": 3,
    "start_time": "2021-12-27T23:10:06.401Z"
   },
   {
    "duration": 155733,
    "start_time": "2021-12-27T23:10:06.405Z"
   },
   {
    "duration": 2,
    "start_time": "2021-12-27T23:12:42.140Z"
   },
   {
    "duration": 16504,
    "start_time": "2021-12-27T23:12:42.192Z"
   },
   {
    "duration": 2,
    "start_time": "2021-12-27T23:12:58.698Z"
   },
   {
    "duration": 362821,
    "start_time": "2021-12-27T23:12:58.702Z"
   },
   {
    "duration": 28589,
    "start_time": "2021-12-27T23:19:01.525Z"
   },
   {
    "duration": 3,
    "start_time": "2021-12-27T23:19:30.115Z"
   },
   {
    "duration": 25492,
    "start_time": "2021-12-27T23:19:30.119Z"
   },
   {
    "duration": 2,
    "start_time": "2021-12-27T23:19:55.613Z"
   },
   {
    "duration": 6,
    "start_time": "2021-12-27T23:19:55.617Z"
   },
   {
    "duration": 28275,
    "start_time": "2021-12-27T23:19:55.625Z"
   },
   {
    "duration": 1797,
    "start_time": "2021-12-27T23:20:23.903Z"
   },
   {
    "duration": 5,
    "start_time": "2021-12-27T23:20:25.702Z"
   },
   {
    "duration": 6,
    "start_time": "2021-12-27T23:20:25.709Z"
   },
   {
    "duration": 9,
    "start_time": "2021-12-27T23:20:25.717Z"
   },
   {
    "duration": 9,
    "start_time": "2021-12-27T23:22:49.813Z"
   },
   {
    "duration": 8,
    "start_time": "2021-12-27T23:22:56.009Z"
   },
   {
    "duration": 8405,
    "start_time": "2021-12-27T23:25:26.309Z"
   },
   {
    "duration": 1057,
    "start_time": "2021-12-27T23:26:55.248Z"
   },
   {
    "duration": 3,
    "start_time": "2021-12-27T23:26:56.308Z"
   },
   {
    "duration": 835,
    "start_time": "2021-12-27T23:26:56.313Z"
   },
   {
    "duration": 127,
    "start_time": "2021-12-27T23:26:57.149Z"
   },
   {
    "duration": 114,
    "start_time": "2021-12-27T23:26:57.278Z"
   },
   {
    "duration": 268,
    "start_time": "2021-12-27T23:26:57.394Z"
   },
   {
    "duration": 352,
    "start_time": "2021-12-27T23:26:57.664Z"
   },
   {
    "duration": 186,
    "start_time": "2021-12-27T23:26:58.018Z"
   },
   {
    "duration": 337,
    "start_time": "2021-12-27T23:26:58.207Z"
   },
   {
    "duration": 8,
    "start_time": "2021-12-27T23:26:58.546Z"
   },
   {
    "duration": 43,
    "start_time": "2021-12-27T23:26:58.556Z"
   },
   {
    "duration": 31,
    "start_time": "2021-12-27T23:26:58.601Z"
   },
   {
    "duration": 67,
    "start_time": "2021-12-27T23:26:58.633Z"
   },
   {
    "duration": 33,
    "start_time": "2021-12-27T23:26:58.701Z"
   },
   {
    "duration": 33,
    "start_time": "2021-12-27T23:26:58.736Z"
   },
   {
    "duration": 45,
    "start_time": "2021-12-27T23:26:58.771Z"
   },
   {
    "duration": 51,
    "start_time": "2021-12-27T23:26:58.818Z"
   },
   {
    "duration": 42,
    "start_time": "2021-12-27T23:26:58.870Z"
   },
   {
    "duration": 19,
    "start_time": "2021-12-27T23:26:58.914Z"
   },
   {
    "duration": 76,
    "start_time": "2021-12-27T23:26:58.935Z"
   },
   {
    "duration": 31,
    "start_time": "2021-12-27T23:26:59.013Z"
   },
   {
    "duration": 61,
    "start_time": "2021-12-27T23:26:59.045Z"
   },
   {
    "duration": 33,
    "start_time": "2021-12-27T23:26:59.108Z"
   },
   {
    "duration": 126,
    "start_time": "2021-12-27T23:26:59.143Z"
   },
   {
    "duration": 122177,
    "start_time": "2021-12-27T23:26:59.272Z"
   },
   {
    "duration": 64,
    "start_time": "2021-12-27T23:29:01.451Z"
   },
   {
    "duration": 5,
    "start_time": "2021-12-27T23:29:01.518Z"
   },
   {
    "duration": 73,
    "start_time": "2021-12-27T23:29:01.525Z"
   },
   {
    "duration": 282,
    "start_time": "2021-12-27T23:29:01.600Z"
   },
   {
    "duration": 85,
    "start_time": "2021-12-27T23:29:01.884Z"
   },
   {
    "duration": 53,
    "start_time": "2021-12-27T23:29:01.970Z"
   },
   {
    "duration": 1463,
    "start_time": "2021-12-27T23:29:02.025Z"
   },
   {
    "duration": 935,
    "start_time": "2021-12-27T23:29:03.491Z"
   },
   {
    "duration": 290,
    "start_time": "2021-12-27T23:29:04.428Z"
   },
   {
    "duration": 3,
    "start_time": "2021-12-27T23:29:04.720Z"
   },
   {
    "duration": 44797,
    "start_time": "2021-12-27T23:29:04.724Z"
   },
   {
    "duration": 1469,
    "start_time": "2021-12-27T23:29:49.523Z"
   },
   {
    "duration": 478,
    "start_time": "2021-12-27T23:29:50.995Z"
   },
   {
    "duration": 8616,
    "start_time": "2021-12-27T23:29:51.476Z"
   },
   {
    "duration": 5,
    "start_time": "2021-12-27T23:30:00.094Z"
   },
   {
    "duration": 5,
    "start_time": "2021-12-27T23:30:00.101Z"
   },
   {
    "duration": 15803,
    "start_time": "2021-12-27T23:30:00.108Z"
   },
   {
    "duration": 4,
    "start_time": "2021-12-27T23:30:15.913Z"
   },
   {
    "duration": 145986,
    "start_time": "2021-12-27T23:30:15.918Z"
   },
   {
    "duration": 3,
    "start_time": "2021-12-27T23:32:41.906Z"
   },
   {
    "duration": 16410,
    "start_time": "2021-12-27T23:32:41.911Z"
   },
   {
    "duration": 4,
    "start_time": "2021-12-27T23:32:58.323Z"
   },
   {
    "duration": 377594,
    "start_time": "2021-12-27T23:32:58.328Z"
   },
   {
    "duration": 28178,
    "start_time": "2021-12-27T23:39:15.924Z"
   },
   {
    "duration": 2,
    "start_time": "2021-12-27T23:39:44.104Z"
   },
   {
    "duration": 28011,
    "start_time": "2021-12-27T23:39:44.108Z"
   },
   {
    "duration": 2,
    "start_time": "2021-12-27T23:40:12.121Z"
   },
   {
    "duration": 12,
    "start_time": "2021-12-27T23:40:12.125Z"
   },
   {
    "duration": 4,
    "start_time": "2021-12-27T23:40:12.139Z"
   },
   {
    "duration": 26106,
    "start_time": "2021-12-27T23:40:12.192Z"
   },
   {
    "duration": 1798,
    "start_time": "2021-12-27T23:40:38.299Z"
   },
   {
    "duration": 4,
    "start_time": "2021-12-27T23:40:40.099Z"
   },
   {
    "duration": 5,
    "start_time": "2021-12-27T23:40:40.105Z"
   },
   {
    "duration": 1047,
    "start_time": "2021-12-27T23:44:45.661Z"
   },
   {
    "duration": 3,
    "start_time": "2021-12-27T23:44:46.710Z"
   },
   {
    "duration": 790,
    "start_time": "2021-12-27T23:44:46.715Z"
   },
   {
    "duration": 129,
    "start_time": "2021-12-27T23:44:47.507Z"
   },
   {
    "duration": 104,
    "start_time": "2021-12-27T23:44:47.638Z"
   },
   {
    "duration": 260,
    "start_time": "2021-12-27T23:44:47.744Z"
   },
   {
    "duration": 340,
    "start_time": "2021-12-27T23:44:48.006Z"
   },
   {
    "duration": 167,
    "start_time": "2021-12-27T23:44:48.348Z"
   },
   {
    "duration": 316,
    "start_time": "2021-12-27T23:44:48.517Z"
   },
   {
    "duration": 8,
    "start_time": "2021-12-27T23:44:48.834Z"
   },
   {
    "duration": 25,
    "start_time": "2021-12-27T23:44:48.843Z"
   },
   {
    "duration": 49,
    "start_time": "2021-12-27T23:44:48.870Z"
   },
   {
    "duration": 49,
    "start_time": "2021-12-27T23:44:48.921Z"
   },
   {
    "duration": 42,
    "start_time": "2021-12-27T23:44:48.972Z"
   },
   {
    "duration": 30,
    "start_time": "2021-12-27T23:44:49.016Z"
   },
   {
    "duration": 48,
    "start_time": "2021-12-27T23:44:49.047Z"
   },
   {
    "duration": 48,
    "start_time": "2021-12-27T23:44:49.097Z"
   },
   {
    "duration": 20,
    "start_time": "2021-12-27T23:44:49.146Z"
   },
   {
    "duration": 32,
    "start_time": "2021-12-27T23:44:49.167Z"
   },
   {
    "duration": 58,
    "start_time": "2021-12-27T23:44:49.201Z"
   },
   {
    "duration": 42,
    "start_time": "2021-12-27T23:44:49.261Z"
   },
   {
    "duration": 50,
    "start_time": "2021-12-27T23:44:49.305Z"
   },
   {
    "duration": 37,
    "start_time": "2021-12-27T23:44:49.359Z"
   },
   {
    "duration": 118,
    "start_time": "2021-12-27T23:44:49.398Z"
   },
   {
    "duration": 122819,
    "start_time": "2021-12-27T23:44:49.517Z"
   },
   {
    "duration": 70,
    "start_time": "2021-12-27T23:46:52.338Z"
   },
   {
    "duration": 7,
    "start_time": "2021-12-27T23:46:52.409Z"
   },
   {
    "duration": 49,
    "start_time": "2021-12-27T23:46:52.417Z"
   },
   {
    "duration": 306,
    "start_time": "2021-12-27T23:46:52.468Z"
   },
   {
    "duration": 95,
    "start_time": "2021-12-27T23:46:52.776Z"
   },
   {
    "duration": 49,
    "start_time": "2021-12-27T23:46:52.872Z"
   },
   {
    "duration": 1436,
    "start_time": "2021-12-27T23:46:52.923Z"
   },
   {
    "duration": 941,
    "start_time": "2021-12-27T23:46:54.361Z"
   },
   {
    "duration": 293,
    "start_time": "2021-12-27T23:46:55.304Z"
   },
   {
    "duration": 2,
    "start_time": "2021-12-27T23:46:55.599Z"
   },
   {
    "duration": 45741,
    "start_time": "2021-12-27T23:46:55.603Z"
   },
   {
    "duration": 1347,
    "start_time": "2021-12-27T23:47:41.346Z"
   },
   {
    "duration": 459,
    "start_time": "2021-12-27T23:47:42.695Z"
   },
   {
    "duration": 8940,
    "start_time": "2021-12-27T23:47:43.156Z"
   },
   {
    "duration": 4,
    "start_time": "2021-12-27T23:47:52.098Z"
   },
   {
    "duration": 5,
    "start_time": "2021-12-27T23:47:52.104Z"
   },
   {
    "duration": 14490,
    "start_time": "2021-12-27T23:47:52.110Z"
   },
   {
    "duration": 2,
    "start_time": "2021-12-27T23:48:06.602Z"
   },
   {
    "duration": 149516,
    "start_time": "2021-12-27T23:48:06.606Z"
   },
   {
    "duration": 3,
    "start_time": "2021-12-27T23:50:36.123Z"
   },
   {
    "duration": 16487,
    "start_time": "2021-12-27T23:50:36.127Z"
   },
   {
    "duration": 3,
    "start_time": "2021-12-27T23:50:52.616Z"
   },
   {
    "duration": 362271,
    "start_time": "2021-12-27T23:50:52.621Z"
   },
   {
    "duration": 29100,
    "start_time": "2021-12-27T23:56:54.894Z"
   },
   {
    "duration": 2,
    "start_time": "2021-12-27T23:57:23.996Z"
   },
   {
    "duration": 25493,
    "start_time": "2021-12-27T23:57:24.000Z"
   },
   {
    "duration": 3,
    "start_time": "2021-12-27T23:57:49.494Z"
   },
   {
    "duration": 10,
    "start_time": "2021-12-27T23:57:49.498Z"
   },
   {
    "duration": 4,
    "start_time": "2021-12-27T23:57:49.510Z"
   },
   {
    "duration": 27484,
    "start_time": "2021-12-27T23:57:49.515Z"
   },
   {
    "duration": 1726,
    "start_time": "2021-12-27T23:58:17.001Z"
   },
   {
    "duration": 5,
    "start_time": "2021-12-27T23:58:18.729Z"
   },
   {
    "duration": 56,
    "start_time": "2021-12-27T23:58:18.736Z"
   },
   {
    "duration": 1030,
    "start_time": "2021-12-28T00:02:16.408Z"
   },
   {
    "duration": 3,
    "start_time": "2021-12-28T00:02:17.439Z"
   },
   {
    "duration": 792,
    "start_time": "2021-12-28T00:02:17.444Z"
   },
   {
    "duration": 125,
    "start_time": "2021-12-28T00:02:18.238Z"
   },
   {
    "duration": 102,
    "start_time": "2021-12-28T00:02:18.365Z"
   },
   {
    "duration": 269,
    "start_time": "2021-12-28T00:02:18.469Z"
   },
   {
    "duration": 340,
    "start_time": "2021-12-28T00:02:18.740Z"
   },
   {
    "duration": 162,
    "start_time": "2021-12-28T00:02:19.083Z"
   },
   {
    "duration": 315,
    "start_time": "2021-12-28T00:02:19.247Z"
   },
   {
    "duration": 8,
    "start_time": "2021-12-28T00:02:19.563Z"
   },
   {
    "duration": 39,
    "start_time": "2021-12-28T00:02:19.572Z"
   },
   {
    "duration": 32,
    "start_time": "2021-12-28T00:02:19.612Z"
   },
   {
    "duration": 67,
    "start_time": "2021-12-28T00:02:19.646Z"
   },
   {
    "duration": 33,
    "start_time": "2021-12-28T00:02:19.714Z"
   },
   {
    "duration": 46,
    "start_time": "2021-12-28T00:02:19.749Z"
   },
   {
    "duration": 30,
    "start_time": "2021-12-28T00:02:19.796Z"
   },
   {
    "duration": 63,
    "start_time": "2021-12-28T00:02:19.828Z"
   },
   {
    "duration": 20,
    "start_time": "2021-12-28T00:02:19.893Z"
   },
   {
    "duration": 20,
    "start_time": "2021-12-28T00:02:19.915Z"
   },
   {
    "duration": 72,
    "start_time": "2021-12-28T00:02:19.936Z"
   },
   {
    "duration": 34,
    "start_time": "2021-12-28T00:02:20.010Z"
   },
   {
    "duration": 58,
    "start_time": "2021-12-28T00:02:20.045Z"
   },
   {
    "duration": 31,
    "start_time": "2021-12-28T00:02:20.107Z"
   },
   {
    "duration": 118,
    "start_time": "2021-12-28T00:02:20.141Z"
   },
   {
    "duration": 123881,
    "start_time": "2021-12-28T00:02:20.260Z"
   },
   {
    "duration": 66,
    "start_time": "2021-12-28T00:04:24.143Z"
   },
   {
    "duration": 5,
    "start_time": "2021-12-28T00:04:24.210Z"
   },
   {
    "duration": 48,
    "start_time": "2021-12-28T00:04:24.217Z"
   },
   {
    "duration": 289,
    "start_time": "2021-12-28T00:04:24.266Z"
   },
   {
    "duration": 94,
    "start_time": "2021-12-28T00:04:24.557Z"
   },
   {
    "duration": 48,
    "start_time": "2021-12-28T00:04:24.653Z"
   },
   {
    "duration": 1421,
    "start_time": "2021-12-28T00:04:24.703Z"
   },
   {
    "duration": 964,
    "start_time": "2021-12-28T00:04:26.125Z"
   },
   {
    "duration": 301,
    "start_time": "2021-12-28T00:04:27.092Z"
   },
   {
    "duration": 3,
    "start_time": "2021-12-28T00:04:27.395Z"
   },
   {
    "duration": 45359,
    "start_time": "2021-12-28T00:04:27.400Z"
   },
   {
    "duration": 1540,
    "start_time": "2021-12-28T00:05:12.761Z"
   },
   {
    "duration": 539,
    "start_time": "2021-12-28T00:05:14.303Z"
   },
   {
    "duration": 8367,
    "start_time": "2021-12-28T00:05:14.844Z"
   },
   {
    "duration": 79,
    "start_time": "2021-12-28T00:05:23.213Z"
   },
   {
    "duration": 5,
    "start_time": "2021-12-28T00:05:23.294Z"
   },
   {
    "duration": 14811,
    "start_time": "2021-12-28T00:05:23.300Z"
   },
   {
    "duration": 3,
    "start_time": "2021-12-28T00:05:38.113Z"
   },
   {
    "duration": 165474,
    "start_time": "2021-12-28T00:05:38.118Z"
   },
   {
    "duration": 2,
    "start_time": "2021-12-28T00:08:23.594Z"
   },
   {
    "duration": 17117,
    "start_time": "2021-12-28T00:08:23.598Z"
   },
   {
    "duration": 3,
    "start_time": "2021-12-28T00:08:40.716Z"
   },
   {
    "duration": 382987,
    "start_time": "2021-12-28T00:08:40.720Z"
   },
   {
    "duration": 27703,
    "start_time": "2021-12-28T00:15:03.709Z"
   },
   {
    "duration": 2,
    "start_time": "2021-12-28T00:15:31.414Z"
   },
   {
    "duration": 25315,
    "start_time": "2021-12-28T00:15:31.418Z"
   },
   {
    "duration": 3,
    "start_time": "2021-12-28T00:15:56.734Z"
   },
   {
    "duration": 60,
    "start_time": "2021-12-28T00:15:56.738Z"
   },
   {
    "duration": 5,
    "start_time": "2021-12-28T00:15:56.800Z"
   },
   {
    "duration": 28394,
    "start_time": "2021-12-28T00:15:56.806Z"
   },
   {
    "duration": 1790,
    "start_time": "2021-12-28T00:16:25.202Z"
   },
   {
    "duration": 4,
    "start_time": "2021-12-28T00:16:26.994Z"
   },
   {
    "duration": 9,
    "start_time": "2021-12-28T00:16:27.000Z"
   },
   {
    "duration": 1067,
    "start_time": "2021-12-28T00:20:22.162Z"
   },
   {
    "duration": 3,
    "start_time": "2021-12-28T00:20:23.231Z"
   },
   {
    "duration": 815,
    "start_time": "2021-12-28T00:20:23.238Z"
   },
   {
    "duration": 127,
    "start_time": "2021-12-28T00:20:24.055Z"
   },
   {
    "duration": 101,
    "start_time": "2021-12-28T00:20:24.191Z"
   },
   {
    "duration": 256,
    "start_time": "2021-12-28T00:20:24.294Z"
   },
   {
    "duration": 339,
    "start_time": "2021-12-28T00:20:24.553Z"
   },
   {
    "duration": 167,
    "start_time": "2021-12-28T00:20:24.894Z"
   },
   {
    "duration": 318,
    "start_time": "2021-12-28T00:20:25.063Z"
   },
   {
    "duration": 12,
    "start_time": "2021-12-28T00:20:25.382Z"
   },
   {
    "duration": 26,
    "start_time": "2021-12-28T00:20:25.395Z"
   },
   {
    "duration": 30,
    "start_time": "2021-12-28T00:20:25.422Z"
   },
   {
    "duration": 68,
    "start_time": "2021-12-28T00:20:25.453Z"
   },
   {
    "duration": 34,
    "start_time": "2021-12-28T00:20:25.523Z"
   },
   {
    "duration": 48,
    "start_time": "2021-12-28T00:20:25.559Z"
   },
   {
    "duration": 28,
    "start_time": "2021-12-28T00:20:25.609Z"
   },
   {
    "duration": 63,
    "start_time": "2021-12-28T00:20:25.639Z"
   },
   {
    "duration": 21,
    "start_time": "2021-12-28T00:20:25.704Z"
   },
   {
    "duration": 20,
    "start_time": "2021-12-28T00:20:25.726Z"
   },
   {
    "duration": 74,
    "start_time": "2021-12-28T00:20:25.747Z"
   },
   {
    "duration": 31,
    "start_time": "2021-12-28T00:20:25.822Z"
   },
   {
    "duration": 58,
    "start_time": "2021-12-28T00:20:25.857Z"
   },
   {
    "duration": 29,
    "start_time": "2021-12-28T00:20:25.918Z"
   },
   {
    "duration": 116,
    "start_time": "2021-12-28T00:20:25.949Z"
   },
   {
    "duration": 121942,
    "start_time": "2021-12-28T00:20:26.066Z"
   },
   {
    "duration": 52,
    "start_time": "2021-12-28T00:22:28.010Z"
   },
   {
    "duration": 5,
    "start_time": "2021-12-28T00:22:28.064Z"
   },
   {
    "duration": 70,
    "start_time": "2021-12-28T00:22:28.070Z"
   },
   {
    "duration": 288,
    "start_time": "2021-12-28T00:22:28.142Z"
   },
   {
    "duration": 88,
    "start_time": "2021-12-28T00:22:28.432Z"
   },
   {
    "duration": 41,
    "start_time": "2021-12-28T00:22:28.522Z"
   },
   {
    "duration": 1525,
    "start_time": "2021-12-28T00:22:28.564Z"
   },
   {
    "duration": 1060,
    "start_time": "2021-12-28T00:22:30.091Z"
   },
   {
    "duration": 310,
    "start_time": "2021-12-28T00:22:31.153Z"
   },
   {
    "duration": 3,
    "start_time": "2021-12-28T00:22:31.465Z"
   },
   {
    "duration": 45512,
    "start_time": "2021-12-28T00:22:31.469Z"
   },
   {
    "duration": 1611,
    "start_time": "2021-12-28T00:23:16.983Z"
   },
   {
    "duration": 528,
    "start_time": "2021-12-28T00:23:18.596Z"
   },
   {
    "duration": 11173,
    "start_time": "2021-12-28T00:23:19.126Z"
   },
   {
    "duration": 4,
    "start_time": "2021-12-28T00:23:30.301Z"
   },
   {
    "duration": 7,
    "start_time": "2021-12-28T00:23:30.307Z"
   },
   {
    "duration": 23277,
    "start_time": "2021-12-28T00:23:30.316Z"
   },
   {
    "duration": 2,
    "start_time": "2021-12-28T00:23:53.595Z"
   },
   {
    "duration": 151329,
    "start_time": "2021-12-28T00:23:53.599Z"
   },
   {
    "duration": 4,
    "start_time": "2021-12-28T00:26:24.930Z"
   },
   {
    "duration": 16574,
    "start_time": "2021-12-28T00:26:24.935Z"
   },
   {
    "duration": 4,
    "start_time": "2021-12-28T00:26:41.510Z"
   },
   {
    "duration": 359695,
    "start_time": "2021-12-28T00:26:41.515Z"
   },
   {
    "duration": 28295,
    "start_time": "2021-12-28T00:32:41.212Z"
   },
   {
    "duration": 3,
    "start_time": "2021-12-28T00:33:09.509Z"
   },
   {
    "duration": 25927,
    "start_time": "2021-12-28T00:33:09.514Z"
   },
   {
    "duration": 49,
    "start_time": "2021-12-28T00:33:35.443Z"
   },
   {
    "duration": 11,
    "start_time": "2021-12-28T00:33:35.494Z"
   },
   {
    "duration": 4,
    "start_time": "2021-12-28T00:33:35.507Z"
   },
   {
    "duration": 25187,
    "start_time": "2021-12-28T00:33:35.512Z"
   },
   {
    "duration": 1806,
    "start_time": "2021-12-28T00:34:00.701Z"
   },
   {
    "duration": 4,
    "start_time": "2021-12-28T00:34:02.509Z"
   },
   {
    "duration": 9,
    "start_time": "2021-12-28T00:34:02.514Z"
   },
   {
    "duration": 321,
    "start_time": "2021-12-28T11:56:48.459Z"
   },
   {
    "duration": 1112,
    "start_time": "2021-12-28T11:57:21.577Z"
   },
   {
    "duration": 3,
    "start_time": "2021-12-28T11:57:22.691Z"
   },
   {
    "duration": 827,
    "start_time": "2021-12-28T11:57:22.696Z"
   },
   {
    "duration": 128,
    "start_time": "2021-12-28T11:57:23.525Z"
   },
   {
    "duration": 109,
    "start_time": "2021-12-28T11:57:23.655Z"
   },
   {
    "duration": 257,
    "start_time": "2021-12-28T11:57:23.766Z"
   },
   {
    "duration": 319,
    "start_time": "2021-12-28T11:57:24.024Z"
   },
   {
    "duration": 152,
    "start_time": "2021-12-28T11:57:24.345Z"
   },
   {
    "duration": 296,
    "start_time": "2021-12-28T11:57:24.499Z"
   },
   {
    "duration": 7,
    "start_time": "2021-12-28T11:57:24.797Z"
   },
   {
    "duration": 39,
    "start_time": "2021-12-28T11:57:24.805Z"
   },
   {
    "duration": 29,
    "start_time": "2021-12-28T11:57:24.846Z"
   },
   {
    "duration": 48,
    "start_time": "2021-12-28T11:57:24.876Z"
   },
   {
    "duration": 42,
    "start_time": "2021-12-28T11:57:24.926Z"
   },
   {
    "duration": 30,
    "start_time": "2021-12-28T11:57:24.970Z"
   },
   {
    "duration": 41,
    "start_time": "2021-12-28T11:57:25.002Z"
   },
   {
    "duration": 46,
    "start_time": "2021-12-28T11:57:25.045Z"
   },
   {
    "duration": 21,
    "start_time": "2021-12-28T11:57:25.093Z"
   },
   {
    "duration": 37,
    "start_time": "2021-12-28T11:57:25.116Z"
   },
   {
    "duration": 51,
    "start_time": "2021-12-28T11:57:25.154Z"
   },
   {
    "duration": 43,
    "start_time": "2021-12-28T11:57:25.207Z"
   },
   {
    "duration": 41,
    "start_time": "2021-12-28T11:57:25.252Z"
   },
   {
    "duration": 44,
    "start_time": "2021-12-28T11:57:25.297Z"
   },
   {
    "duration": 109,
    "start_time": "2021-12-28T11:57:25.343Z"
   },
   {
    "duration": 3,
    "start_time": "2021-12-28T11:57:25.453Z"
   },
   {
    "duration": 49,
    "start_time": "2021-12-28T11:57:25.457Z"
   },
   {
    "duration": 5,
    "start_time": "2021-12-28T11:57:25.508Z"
   },
   {
    "duration": 65,
    "start_time": "2021-12-28T11:57:25.514Z"
   },
   {
    "duration": 266,
    "start_time": "2021-12-28T11:57:25.581Z"
   },
   {
    "duration": 79,
    "start_time": "2021-12-28T11:57:25.849Z"
   },
   {
    "duration": 50,
    "start_time": "2021-12-28T11:57:25.930Z"
   },
   {
    "duration": 1559,
    "start_time": "2021-12-28T11:57:25.982Z"
   },
   {
    "duration": 16,
    "start_time": "2021-12-28T11:57:27.543Z"
   },
   {
    "duration": 99,
    "start_time": "2021-12-28T11:57:27.561Z"
   },
   {
    "duration": 181,
    "start_time": "2021-12-28T11:57:27.481Z"
   },
   {
    "duration": 171,
    "start_time": "2021-12-28T11:57:27.492Z"
   },
   {
    "duration": 168,
    "start_time": "2021-12-28T11:57:27.496Z"
   },
   {
    "duration": 164,
    "start_time": "2021-12-28T11:57:27.501Z"
   },
   {
    "duration": 153,
    "start_time": "2021-12-28T11:57:27.512Z"
   },
   {
    "duration": 148,
    "start_time": "2021-12-28T11:57:27.518Z"
   },
   {
    "duration": 140,
    "start_time": "2021-12-28T11:57:27.527Z"
   },
   {
    "duration": 137,
    "start_time": "2021-12-28T11:57:27.531Z"
   },
   {
    "duration": 127,
    "start_time": "2021-12-28T11:57:27.542Z"
   },
   {
    "duration": 124,
    "start_time": "2021-12-28T11:57:27.546Z"
   },
   {
    "duration": 112,
    "start_time": "2021-12-28T11:57:27.558Z"
   },
   {
    "duration": 110,
    "start_time": "2021-12-28T11:57:27.561Z"
   },
   {
    "duration": 107,
    "start_time": "2021-12-28T11:57:27.565Z"
   },
   {
    "duration": 89,
    "start_time": "2021-12-28T11:57:27.584Z"
   },
   {
    "duration": 80,
    "start_time": "2021-12-28T11:57:27.594Z"
   },
   {
    "duration": 78,
    "start_time": "2021-12-28T11:57:27.597Z"
   },
   {
    "duration": 67,
    "start_time": "2021-12-28T11:57:27.609Z"
   },
   {
    "duration": 65,
    "start_time": "2021-12-28T11:57:27.612Z"
   },
   {
    "duration": 62,
    "start_time": "2021-12-28T11:57:27.616Z"
   },
   {
    "duration": 59,
    "start_time": "2021-12-28T11:57:27.620Z"
   },
   {
    "duration": 57,
    "start_time": "2021-12-28T11:57:27.623Z"
   },
   {
    "duration": 55,
    "start_time": "2021-12-28T11:57:27.626Z"
   },
   {
    "duration": 54,
    "start_time": "2021-12-28T11:57:27.629Z"
   },
   {
    "duration": 51,
    "start_time": "2021-12-28T11:57:27.633Z"
   },
   {
    "duration": 49,
    "start_time": "2021-12-28T11:57:27.636Z"
   },
   {
    "duration": 47,
    "start_time": "2021-12-28T11:57:27.639Z"
   },
   {
    "duration": 20,
    "start_time": "2021-12-28T11:58:35.520Z"
   },
   {
    "duration": 78,
    "start_time": "2021-12-28T11:59:52.659Z"
   },
   {
    "duration": 65,
    "start_time": "2021-12-28T12:01:29.144Z"
   },
   {
    "duration": 19,
    "start_time": "2021-12-28T12:02:05.536Z"
   },
   {
    "duration": 1019,
    "start_time": "2021-12-28T12:03:57.932Z"
   },
   {
    "duration": 1351,
    "start_time": "2021-12-28T12:04:31.729Z"
   },
   {
    "duration": 1265,
    "start_time": "2021-12-28T12:05:38.925Z"
   },
   {
    "duration": 898,
    "start_time": "2021-12-28T12:06:18.597Z"
   },
   {
    "duration": 1004,
    "start_time": "2021-12-28T12:06:51.792Z"
   },
   {
    "duration": 898,
    "start_time": "2021-12-28T12:08:06.892Z"
   },
   {
    "duration": 1656,
    "start_time": "2021-12-28T12:08:43.540Z"
   },
   {
    "duration": 1040,
    "start_time": "2021-12-28T12:09:24.218Z"
   },
   {
    "duration": 22,
    "start_time": "2021-12-28T12:09:27.458Z"
   },
   {
    "duration": 85,
    "start_time": "2021-12-28T12:10:17.022Z"
   },
   {
    "duration": 943,
    "start_time": "2021-12-28T12:10:31.830Z"
   },
   {
    "duration": 484,
    "start_time": "2021-12-28T12:10:32.775Z"
   },
   {
    "duration": 3,
    "start_time": "2021-12-28T12:10:48.347Z"
   },
   {
    "duration": 49172,
    "start_time": "2021-12-28T12:10:52.748Z"
   },
   {
    "duration": 1522,
    "start_time": "2021-12-28T12:11:41.922Z"
   },
   {
    "duration": 3,
    "start_time": "2021-12-28T12:13:11.639Z"
   },
   {
    "duration": 45953,
    "start_time": "2021-12-28T12:13:11.946Z"
   },
   {
    "duration": 89,
    "start_time": "2021-12-28T12:18:24.437Z"
   },
   {
    "duration": 842,
    "start_time": "2021-12-28T12:18:46.686Z"
   },
   {
    "duration": 18,
    "start_time": "2021-12-28T12:18:52.867Z"
   },
   {
    "duration": 924,
    "start_time": "2021-12-28T12:18:54.154Z"
   },
   {
    "duration": 436,
    "start_time": "2021-12-28T12:18:55.080Z"
   },
   {
    "duration": 3,
    "start_time": "2021-12-28T12:18:57.596Z"
   },
   {
    "duration": 46133,
    "start_time": "2021-12-28T12:18:58.085Z"
   },
   {
    "duration": 1430,
    "start_time": "2021-12-28T12:19:44.220Z"
   },
   {
    "duration": 1602,
    "start_time": "2021-12-28T12:27:21.440Z"
   },
   {
    "duration": 85,
    "start_time": "2021-12-28T12:27:55.482Z"
   },
   {
    "duration": 494,
    "start_time": "2021-12-28T12:30:11.349Z"
   },
   {
    "duration": 20,
    "start_time": "2021-12-28T12:31:19.787Z"
   },
   {
    "duration": 83,
    "start_time": "2021-12-28T12:32:20.157Z"
   },
   {
    "duration": 887,
    "start_time": "2021-12-28T12:32:28.110Z"
   },
   {
    "duration": 436,
    "start_time": "2021-12-28T12:32:30.042Z"
   },
   {
    "duration": 3,
    "start_time": "2021-12-28T12:32:33.078Z"
   },
   {
    "duration": 26105,
    "start_time": "2021-12-28T12:32:33.373Z"
   },
   {
    "duration": 569,
    "start_time": "2021-12-28T12:32:59.479Z"
   },
   {
    "duration": 3,
    "start_time": "2021-12-28T12:34:29.225Z"
   },
   {
    "duration": 25482,
    "start_time": "2021-12-28T12:34:29.472Z"
   },
   {
    "duration": 586,
    "start_time": "2021-12-28T12:34:54.956Z"
   },
   {
    "duration": 125,
    "start_time": "2021-12-28T12:38:45.976Z"
   },
   {
    "duration": 81,
    "start_time": "2021-12-28T12:41:24.031Z"
   },
   {
    "duration": 1161,
    "start_time": "2021-12-28T12:41:56.429Z"
   },
   {
    "duration": 3,
    "start_time": "2021-12-28T12:41:57.594Z"
   },
   {
    "duration": 762,
    "start_time": "2021-12-28T12:41:57.599Z"
   },
   {
    "duration": 128,
    "start_time": "2021-12-28T12:41:58.363Z"
   },
   {
    "duration": 96,
    "start_time": "2021-12-28T12:41:58.493Z"
   },
   {
    "duration": 250,
    "start_time": "2021-12-28T12:41:58.591Z"
   },
   {
    "duration": 318,
    "start_time": "2021-12-28T12:41:58.844Z"
   },
   {
    "duration": 150,
    "start_time": "2021-12-28T12:41:59.164Z"
   },
   {
    "duration": 300,
    "start_time": "2021-12-28T12:41:59.315Z"
   },
   {
    "duration": 8,
    "start_time": "2021-12-28T12:41:59.617Z"
   },
   {
    "duration": 42,
    "start_time": "2021-12-28T12:41:59.627Z"
   },
   {
    "duration": 62,
    "start_time": "2021-12-28T12:41:59.671Z"
   },
   {
    "duration": 31,
    "start_time": "2021-12-28T12:41:59.735Z"
   },
   {
    "duration": 41,
    "start_time": "2021-12-28T12:41:59.768Z"
   },
   {
    "duration": 46,
    "start_time": "2021-12-28T12:41:59.811Z"
   },
   {
    "duration": 78,
    "start_time": "2021-12-28T12:41:59.859Z"
   },
   {
    "duration": 21,
    "start_time": "2021-12-28T12:41:59.939Z"
   },
   {
    "duration": 20,
    "start_time": "2021-12-28T12:41:59.962Z"
   },
   {
    "duration": 77,
    "start_time": "2021-12-28T12:41:59.984Z"
   },
   {
    "duration": 35,
    "start_time": "2021-12-28T12:42:00.063Z"
   },
   {
    "duration": 55,
    "start_time": "2021-12-28T12:42:00.100Z"
   },
   {
    "duration": 45,
    "start_time": "2021-12-28T12:42:00.159Z"
   },
   {
    "duration": 111,
    "start_time": "2021-12-28T12:42:00.215Z"
   },
   {
    "duration": 124099,
    "start_time": "2021-12-28T12:42:00.328Z"
   },
   {
    "duration": 57,
    "start_time": "2021-12-28T12:44:04.429Z"
   },
   {
    "duration": 10,
    "start_time": "2021-12-28T12:44:04.489Z"
   },
   {
    "duration": 78,
    "start_time": "2021-12-28T12:44:04.501Z"
   },
   {
    "duration": 280,
    "start_time": "2021-12-28T12:44:04.581Z"
   },
   {
    "duration": 90,
    "start_time": "2021-12-28T12:44:04.863Z"
   },
   {
    "duration": 39,
    "start_time": "2021-12-28T12:44:04.955Z"
   },
   {
    "duration": 1050,
    "start_time": "2021-12-28T12:44:04.996Z"
   },
   {
    "duration": 971,
    "start_time": "2021-12-28T12:44:06.048Z"
   },
   {
    "duration": 696,
    "start_time": "2021-12-28T12:44:07.021Z"
   },
   {
    "duration": 10,
    "start_time": "2021-12-28T12:44:07.723Z"
   },
   {
    "duration": 28523,
    "start_time": "2021-12-28T12:44:07.741Z"
   },
   {
    "duration": 785,
    "start_time": "2021-12-28T12:44:36.265Z"
   },
   {
    "duration": 419,
    "start_time": "2021-12-28T12:44:37.142Z"
   },
   {
    "duration": 27198,
    "start_time": "2021-12-28T12:44:37.563Z"
   },
   {
    "duration": 6,
    "start_time": "2021-12-28T12:45:04.763Z"
   },
   {
    "duration": 6,
    "start_time": "2021-12-28T12:45:04.770Z"
   },
   {
    "duration": 54906,
    "start_time": "2021-12-28T12:45:04.778Z"
   },
   {
    "duration": 3,
    "start_time": "2021-12-28T12:45:59.686Z"
   },
   {
    "duration": 265692,
    "start_time": "2021-12-28T12:45:59.690Z"
   },
   {
    "duration": 3,
    "start_time": "2021-12-28T12:50:25.384Z"
   },
   {
    "duration": 15670,
    "start_time": "2021-12-28T12:50:25.388Z"
   },
   {
    "duration": 4,
    "start_time": "2021-12-28T12:50:41.060Z"
   },
   {
    "duration": 394977,
    "start_time": "2021-12-28T12:50:41.065Z"
   },
   {
    "duration": 27721,
    "start_time": "2021-12-28T12:57:16.044Z"
   },
   {
    "duration": 3,
    "start_time": "2021-12-28T12:57:43.766Z"
   },
   {
    "duration": 26873,
    "start_time": "2021-12-28T12:57:43.770Z"
   },
   {
    "duration": 2,
    "start_time": "2021-12-28T12:58:10.645Z"
   },
   {
    "duration": 16,
    "start_time": "2021-12-28T12:58:10.649Z"
   },
   {
    "duration": 10,
    "start_time": "2021-12-28T12:58:10.667Z"
   },
   {
    "duration": 24572,
    "start_time": "2021-12-28T12:58:10.678Z"
   },
   {
    "duration": 1525,
    "start_time": "2021-12-28T12:58:35.251Z"
   },
   {
    "duration": 4,
    "start_time": "2021-12-28T12:58:36.841Z"
   },
   {
    "duration": 9,
    "start_time": "2021-12-28T12:58:36.847Z"
   }
  ],
  "kernelspec": {
   "display_name": "Python 3 (ipykernel)",
   "language": "python",
   "name": "python3"
  },
  "language_info": {
   "codemirror_mode": {
    "name": "ipython",
    "version": 3
   },
   "file_extension": ".py",
   "mimetype": "text/x-python",
   "name": "python",
   "nbconvert_exporter": "python",
   "pygments_lexer": "ipython3",
   "version": "3.9.7"
  },
  "toc": {
   "base_numbering": 1,
   "nav_menu": {},
   "number_sections": true,
   "sideBar": true,
   "skip_h1_title": true,
   "title_cell": "Table of Contents",
   "title_sidebar": "Contents",
   "toc_cell": false,
   "toc_position": {},
   "toc_section_display": true,
   "toc_window_display": false
  }
 },
 "nbformat": 4,
 "nbformat_minor": 4
}
