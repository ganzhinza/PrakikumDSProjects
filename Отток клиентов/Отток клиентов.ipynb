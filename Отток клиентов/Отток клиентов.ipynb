{
 "cells": [
  {
   "cell_type": "markdown",
   "metadata": {
    "toc": true
   },
   "source": [
    "<h1>Содержание<span class=\"tocSkip\"></span></h1>\n",
    "<div class=\"toc\"><ul class=\"toc-item\"><li><span><a href=\"#Подготовка-данных\" data-toc-modified-id=\"Подготовка-данных-1\"><span class=\"toc-item-num\">1&nbsp;&nbsp;</span>Подготовка данных</a></span><ul class=\"toc-item\"><li><span><a href=\"#Загрузка-данных-и-первичный-анализ\" data-toc-modified-id=\"Загрузка-данных-и-первичный-анализ-1.1\"><span class=\"toc-item-num\">1.1&nbsp;&nbsp;</span>Загрузка данных и первичный анализ</a></span></li><li><span><a href=\"#Предобработка-данных\" data-toc-modified-id=\"Предобработка-данных-1.2\"><span class=\"toc-item-num\">1.2&nbsp;&nbsp;</span>Предобработка данных</a></span><ul class=\"toc-item\"><li><span><a href=\"#Обработка-пропусков-и-преобразование-типов-данных\" data-toc-modified-id=\"Обработка-пропусков-и-преобразование-типов-данных-1.2.1\"><span class=\"toc-item-num\">1.2.1&nbsp;&nbsp;</span>Обработка пропусков и преобразование типов данных</a></span></li><li><span><a href=\"#Уничтожение-лишних-столбцов,-преведение-категориальных-признаков-к-числовому-типу.\" data-toc-modified-id=\"Уничтожение-лишних-столбцов,-преведение-категориальных-признаков-к-числовому-типу.-1.2.2\"><span class=\"toc-item-num\">1.2.2&nbsp;&nbsp;</span>Уничтожение лишних столбцов, преведение категориальных признаков к числовому типу.</a></span></li><li><span><a href=\"#Проверка-на-дублкаты\" data-toc-modified-id=\"Проверка-на-дублкаты-1.2.3\"><span class=\"toc-item-num\">1.2.3&nbsp;&nbsp;</span>Проверка на дублкаты</a></span></li></ul></li><li><span><a href=\"#Анализ-корреляций\" data-toc-modified-id=\"Анализ-корреляций-1.3\"><span class=\"toc-item-num\">1.3&nbsp;&nbsp;</span>Анализ корреляций</a></span></li></ul></li><li><span><a href=\"#Исследование-задачи\" data-toc-modified-id=\"Исследование-задачи-2\"><span class=\"toc-item-num\">2&nbsp;&nbsp;</span>Исследование задачи</a></span><ul class=\"toc-item\"><li><span><a href=\"#Исследование-баланса-классов\" data-toc-modified-id=\"Исследование-баланса-классов-2.1\"><span class=\"toc-item-num\">2.1&nbsp;&nbsp;</span>Исследование баланса классов</a></span></li><li><span><a href=\"#Разбиение-на-выборки\" data-toc-modified-id=\"Разбиение-на-выборки-2.2\"><span class=\"toc-item-num\">2.2&nbsp;&nbsp;</span>Разбиение на выборки</a></span></li><li><span><a href=\"#Масштабирование-признаков\" data-toc-modified-id=\"Масштабирование-признаков-2.3\"><span class=\"toc-item-num\">2.3&nbsp;&nbsp;</span>Масштабирование признаков</a></span></li><li><span><a href=\"#Исследование-моделей\" data-toc-modified-id=\"Исследование-моделей-2.4\"><span class=\"toc-item-num\">2.4&nbsp;&nbsp;</span>Исследование моделей</a></span></li><li><span><a href=\"#Модель-случайного-леса\" data-toc-modified-id=\"Модель-случайного-леса-2.5\"><span class=\"toc-item-num\">2.5&nbsp;&nbsp;</span>Модель случайного леса</a></span></li><li><span><a href=\"#Модель-логистической-регрессии\" data-toc-modified-id=\"Модель-логистической-регрессии-2.6\"><span class=\"toc-item-num\">2.6&nbsp;&nbsp;</span>Модель логистической регрессии</a></span></li><li><span><a href=\"#Модель-дерева-решений\" data-toc-modified-id=\"Модель-дерева-решений-2.7\"><span class=\"toc-item-num\">2.7&nbsp;&nbsp;</span>Модель дерева решений</a></span></li><li><span><a href=\"#Функция-для-проверки-всего-предыдущего-в-одну-строчку\" data-toc-modified-id=\"Функция-для-проверки-всего-предыдущего-в-одну-строчку-2.8\"><span class=\"toc-item-num\">2.8&nbsp;&nbsp;</span>Функция для проверки всего предыдущего в одну строчку</a></span></li></ul></li><li><span><a href=\"#Борьба-с-дисбалансом\" data-toc-modified-id=\"Борьба-с-дисбалансом-3\"><span class=\"toc-item-num\">3&nbsp;&nbsp;</span>Борьба с дисбалансом</a></span><ul class=\"toc-item\"><li><span><a href=\"#Взвешивание-классов\" data-toc-modified-id=\"Взвешивание-классов-3.1\"><span class=\"toc-item-num\">3.1&nbsp;&nbsp;</span>Взвешивание классов</a></span></li><li><span><a href=\"#Увеличение-выборки\" data-toc-modified-id=\"Увеличение-выборки-3.2\"><span class=\"toc-item-num\">3.2&nbsp;&nbsp;</span>Увеличение выборки</a></span></li><li><span><a href=\"#Уменьшение-выборки\" data-toc-modified-id=\"Уменьшение-выборки-3.3\"><span class=\"toc-item-num\">3.3&nbsp;&nbsp;</span>Уменьшение выборки</a></span></li><li><span><a href=\"#Изменение-порога\" data-toc-modified-id=\"Изменение-порога-3.4\"><span class=\"toc-item-num\">3.4&nbsp;&nbsp;</span>Изменение порога</a></span></li></ul></li><li><span><a href=\"#Тестирование-модели\" data-toc-modified-id=\"Тестирование-модели-4\"><span class=\"toc-item-num\">4&nbsp;&nbsp;</span>Тестирование модели</a></span></li><li><span><a href=\"#Чек-лист-готовности-проекта\" data-toc-modified-id=\"Чек-лист-готовности-проекта-5\"><span class=\"toc-item-num\">5&nbsp;&nbsp;</span>Чек-лист готовности проекта</a></span></li></ul></div>"
   ]
  },
  {
   "cell_type": "markdown",
   "metadata": {},
   "source": [
    "# Отток клиентов"
   ]
  },
  {
   "cell_type": "markdown",
   "metadata": {},
   "source": [
    "В «Бета-Банке» возникла проблемма с оттоком клиентов. По мнению банковских маркетологов сохранять клиентов дешевле, чем находить новых.\n",
    "\n",
    "Целью данного проекта является построение модели, которая сможет заранее предсказать собирается клиент уходить или нет по предоставленным данным. \n",
    "\n",
    "Источник данных: [https://www.kaggle.com/barelydedicated/bank-customer-churn-modeling](https://www.kaggle.com/barelydedicated/bank-customer-churn-modeling)"
   ]
  },
  {
   "cell_type": "markdown",
   "metadata": {},
   "source": [
    "## Подготовка данных"
   ]
  },
  {
   "cell_type": "markdown",
   "metadata": {},
   "source": [
    "### Загрузка данных и первичный анализ"
   ]
  },
  {
   "cell_type": "code",
   "execution_count": 1,
   "metadata": {},
   "outputs": [],
   "source": [
    "import pandas as pd\n",
    "import numpy as np\n",
    "from sklearn.preprocessing import StandardScaler\n",
    "from sklearn.model_selection import train_test_split\n",
    "from sklearn.metrics import mean_squared_error\n",
    "from sklearn.tree import DecisionTreeClassifier\n",
    "from sklearn.ensemble import RandomForestClassifier\n",
    "from sklearn.linear_model import LogisticRegression\n",
    "from sklearn.dummy import DummyClassifier\n",
    "from sklearn.metrics import f1_score\n",
    "from sklearn.utils import shuffle\n",
    "from sklearn.metrics import roc_auc_score\n",
    "from sklearn.metrics import roc_curve\n",
    "import matplotlib.pyplot as plt"
   ]
  },
  {
   "cell_type": "code",
   "execution_count": 2,
   "metadata": {},
   "outputs": [
    {
     "data": {
      "text/html": [
       "<div>\n",
       "<style scoped>\n",
       "    .dataframe tbody tr th:only-of-type {\n",
       "        vertical-align: middle;\n",
       "    }\n",
       "\n",
       "    .dataframe tbody tr th {\n",
       "        vertical-align: top;\n",
       "    }\n",
       "\n",
       "    .dataframe thead th {\n",
       "        text-align: right;\n",
       "    }\n",
       "</style>\n",
       "<table border=\"1\" class=\"dataframe\">\n",
       "  <thead>\n",
       "    <tr style=\"text-align: right;\">\n",
       "      <th></th>\n",
       "      <th>RowNumber</th>\n",
       "      <th>CustomerId</th>\n",
       "      <th>Surname</th>\n",
       "      <th>CreditScore</th>\n",
       "      <th>Geography</th>\n",
       "      <th>Gender</th>\n",
       "      <th>Age</th>\n",
       "      <th>Tenure</th>\n",
       "      <th>Balance</th>\n",
       "      <th>NumOfProducts</th>\n",
       "      <th>HasCrCard</th>\n",
       "      <th>IsActiveMember</th>\n",
       "      <th>EstimatedSalary</th>\n",
       "      <th>Exited</th>\n",
       "    </tr>\n",
       "  </thead>\n",
       "  <tbody>\n",
       "    <tr>\n",
       "      <td>0</td>\n",
       "      <td>1</td>\n",
       "      <td>15634602</td>\n",
       "      <td>Hargrave</td>\n",
       "      <td>619</td>\n",
       "      <td>France</td>\n",
       "      <td>Female</td>\n",
       "      <td>42</td>\n",
       "      <td>2.0</td>\n",
       "      <td>0.00</td>\n",
       "      <td>1</td>\n",
       "      <td>1</td>\n",
       "      <td>1</td>\n",
       "      <td>101348.88</td>\n",
       "      <td>1</td>\n",
       "    </tr>\n",
       "    <tr>\n",
       "      <td>1</td>\n",
       "      <td>2</td>\n",
       "      <td>15647311</td>\n",
       "      <td>Hill</td>\n",
       "      <td>608</td>\n",
       "      <td>Spain</td>\n",
       "      <td>Female</td>\n",
       "      <td>41</td>\n",
       "      <td>1.0</td>\n",
       "      <td>83807.86</td>\n",
       "      <td>1</td>\n",
       "      <td>0</td>\n",
       "      <td>1</td>\n",
       "      <td>112542.58</td>\n",
       "      <td>0</td>\n",
       "    </tr>\n",
       "    <tr>\n",
       "      <td>2</td>\n",
       "      <td>3</td>\n",
       "      <td>15619304</td>\n",
       "      <td>Onio</td>\n",
       "      <td>502</td>\n",
       "      <td>France</td>\n",
       "      <td>Female</td>\n",
       "      <td>42</td>\n",
       "      <td>8.0</td>\n",
       "      <td>159660.80</td>\n",
       "      <td>3</td>\n",
       "      <td>1</td>\n",
       "      <td>0</td>\n",
       "      <td>113931.57</td>\n",
       "      <td>1</td>\n",
       "    </tr>\n",
       "    <tr>\n",
       "      <td>3</td>\n",
       "      <td>4</td>\n",
       "      <td>15701354</td>\n",
       "      <td>Boni</td>\n",
       "      <td>699</td>\n",
       "      <td>France</td>\n",
       "      <td>Female</td>\n",
       "      <td>39</td>\n",
       "      <td>1.0</td>\n",
       "      <td>0.00</td>\n",
       "      <td>2</td>\n",
       "      <td>0</td>\n",
       "      <td>0</td>\n",
       "      <td>93826.63</td>\n",
       "      <td>0</td>\n",
       "    </tr>\n",
       "    <tr>\n",
       "      <td>4</td>\n",
       "      <td>5</td>\n",
       "      <td>15737888</td>\n",
       "      <td>Mitchell</td>\n",
       "      <td>850</td>\n",
       "      <td>Spain</td>\n",
       "      <td>Female</td>\n",
       "      <td>43</td>\n",
       "      <td>2.0</td>\n",
       "      <td>125510.82</td>\n",
       "      <td>1</td>\n",
       "      <td>1</td>\n",
       "      <td>1</td>\n",
       "      <td>79084.10</td>\n",
       "      <td>0</td>\n",
       "    </tr>\n",
       "    <tr>\n",
       "      <td>5</td>\n",
       "      <td>6</td>\n",
       "      <td>15574012</td>\n",
       "      <td>Chu</td>\n",
       "      <td>645</td>\n",
       "      <td>Spain</td>\n",
       "      <td>Male</td>\n",
       "      <td>44</td>\n",
       "      <td>8.0</td>\n",
       "      <td>113755.78</td>\n",
       "      <td>2</td>\n",
       "      <td>1</td>\n",
       "      <td>0</td>\n",
       "      <td>149756.71</td>\n",
       "      <td>1</td>\n",
       "    </tr>\n",
       "    <tr>\n",
       "      <td>6</td>\n",
       "      <td>7</td>\n",
       "      <td>15592531</td>\n",
       "      <td>Bartlett</td>\n",
       "      <td>822</td>\n",
       "      <td>France</td>\n",
       "      <td>Male</td>\n",
       "      <td>50</td>\n",
       "      <td>7.0</td>\n",
       "      <td>0.00</td>\n",
       "      <td>2</td>\n",
       "      <td>1</td>\n",
       "      <td>1</td>\n",
       "      <td>10062.80</td>\n",
       "      <td>0</td>\n",
       "    </tr>\n",
       "    <tr>\n",
       "      <td>7</td>\n",
       "      <td>8</td>\n",
       "      <td>15656148</td>\n",
       "      <td>Obinna</td>\n",
       "      <td>376</td>\n",
       "      <td>Germany</td>\n",
       "      <td>Female</td>\n",
       "      <td>29</td>\n",
       "      <td>4.0</td>\n",
       "      <td>115046.74</td>\n",
       "      <td>4</td>\n",
       "      <td>1</td>\n",
       "      <td>0</td>\n",
       "      <td>119346.88</td>\n",
       "      <td>1</td>\n",
       "    </tr>\n",
       "    <tr>\n",
       "      <td>8</td>\n",
       "      <td>9</td>\n",
       "      <td>15792365</td>\n",
       "      <td>He</td>\n",
       "      <td>501</td>\n",
       "      <td>France</td>\n",
       "      <td>Male</td>\n",
       "      <td>44</td>\n",
       "      <td>4.0</td>\n",
       "      <td>142051.07</td>\n",
       "      <td>2</td>\n",
       "      <td>0</td>\n",
       "      <td>1</td>\n",
       "      <td>74940.50</td>\n",
       "      <td>0</td>\n",
       "    </tr>\n",
       "    <tr>\n",
       "      <td>9</td>\n",
       "      <td>10</td>\n",
       "      <td>15592389</td>\n",
       "      <td>H?</td>\n",
       "      <td>684</td>\n",
       "      <td>France</td>\n",
       "      <td>Male</td>\n",
       "      <td>27</td>\n",
       "      <td>2.0</td>\n",
       "      <td>134603.88</td>\n",
       "      <td>1</td>\n",
       "      <td>1</td>\n",
       "      <td>1</td>\n",
       "      <td>71725.73</td>\n",
       "      <td>0</td>\n",
       "    </tr>\n",
       "  </tbody>\n",
       "</table>\n",
       "</div>"
      ],
      "text/plain": [
       "   RowNumber  CustomerId   Surname  CreditScore Geography  Gender  Age  \\\n",
       "0          1    15634602  Hargrave          619    France  Female   42   \n",
       "1          2    15647311      Hill          608     Spain  Female   41   \n",
       "2          3    15619304      Onio          502    France  Female   42   \n",
       "3          4    15701354      Boni          699    France  Female   39   \n",
       "4          5    15737888  Mitchell          850     Spain  Female   43   \n",
       "5          6    15574012       Chu          645     Spain    Male   44   \n",
       "6          7    15592531  Bartlett          822    France    Male   50   \n",
       "7          8    15656148    Obinna          376   Germany  Female   29   \n",
       "8          9    15792365        He          501    France    Male   44   \n",
       "9         10    15592389        H?          684    France    Male   27   \n",
       "\n",
       "   Tenure    Balance  NumOfProducts  HasCrCard  IsActiveMember  \\\n",
       "0     2.0       0.00              1          1               1   \n",
       "1     1.0   83807.86              1          0               1   \n",
       "2     8.0  159660.80              3          1               0   \n",
       "3     1.0       0.00              2          0               0   \n",
       "4     2.0  125510.82              1          1               1   \n",
       "5     8.0  113755.78              2          1               0   \n",
       "6     7.0       0.00              2          1               1   \n",
       "7     4.0  115046.74              4          1               0   \n",
       "8     4.0  142051.07              2          0               1   \n",
       "9     2.0  134603.88              1          1               1   \n",
       "\n",
       "   EstimatedSalary  Exited  \n",
       "0        101348.88       1  \n",
       "1        112542.58       0  \n",
       "2        113931.57       1  \n",
       "3         93826.63       0  \n",
       "4         79084.10       0  \n",
       "5        149756.71       1  \n",
       "6         10062.80       0  \n",
       "7        119346.88       1  \n",
       "8         74940.50       0  \n",
       "9         71725.73       0  "
      ]
     },
     "execution_count": 2,
     "metadata": {},
     "output_type": "execute_result"
    }
   ],
   "source": [
    "data = pd.read_csv('/datasets/Churn.csv')\n",
    "data.head(10)"
   ]
  },
  {
   "cell_type": "code",
   "execution_count": 3,
   "metadata": {},
   "outputs": [
    {
     "name": "stdout",
     "output_type": "stream",
     "text": [
      "<class 'pandas.core.frame.DataFrame'>\n",
      "RangeIndex: 10000 entries, 0 to 9999\n",
      "Data columns (total 14 columns):\n",
      "RowNumber          10000 non-null int64\n",
      "CustomerId         10000 non-null int64\n",
      "Surname            10000 non-null object\n",
      "CreditScore        10000 non-null int64\n",
      "Geography          10000 non-null object\n",
      "Gender             10000 non-null object\n",
      "Age                10000 non-null int64\n",
      "Tenure             9091 non-null float64\n",
      "Balance            10000 non-null float64\n",
      "NumOfProducts      10000 non-null int64\n",
      "HasCrCard          10000 non-null int64\n",
      "IsActiveMember     10000 non-null int64\n",
      "EstimatedSalary    10000 non-null float64\n",
      "Exited             10000 non-null int64\n",
      "dtypes: float64(3), int64(8), object(3)\n",
      "memory usage: 1.1+ MB\n"
     ]
    }
   ],
   "source": [
    "data.info()"
   ]
  },
  {
   "cell_type": "code",
   "execution_count": 4,
   "metadata": {},
   "outputs": [
    {
     "data": {
      "text/plain": [
       "2932"
      ]
     },
     "execution_count": 4,
     "metadata": {},
     "output_type": "execute_result"
    }
   ],
   "source": [
    "len(data['Surname'].unique())"
   ]
  },
  {
   "cell_type": "markdown",
   "metadata": {},
   "source": [
    "Сразу можно заметить, что столбецы \"RowNumber\", \"CustomerId\", \"Surname\" - лишние, так как являются по сути дополнительными индексами, можно было бы поспорить с тем лишнее ли значение фамилии, но у нас больше 2900 уникальных фамилий на 10000 значений. Также столбцы с страной проживания и полом имеют строковый тип, который надо будет перевести в числовой формат. Плюс есть пропуски в столбце \"Tenure\". Скорее всего это новые клиенты, для которых ещё не обновили данные. Плюсом к этому столбец \"Tenure\" имеет тип float64, хотя количество лет всегда целое: тоже надо поправить."
   ]
  },
  {
   "cell_type": "code",
   "execution_count": 5,
   "metadata": {},
   "outputs": [
    {
     "data": {
      "text/html": [
       "<div>\n",
       "<style scoped>\n",
       "    .dataframe tbody tr th:only-of-type {\n",
       "        vertical-align: middle;\n",
       "    }\n",
       "\n",
       "    .dataframe tbody tr th {\n",
       "        vertical-align: top;\n",
       "    }\n",
       "\n",
       "    .dataframe thead th {\n",
       "        text-align: right;\n",
       "    }\n",
       "</style>\n",
       "<table border=\"1\" class=\"dataframe\">\n",
       "  <thead>\n",
       "    <tr style=\"text-align: right;\">\n",
       "      <th></th>\n",
       "      <th>RowNumber</th>\n",
       "      <th>CustomerId</th>\n",
       "      <th>CreditScore</th>\n",
       "      <th>Age</th>\n",
       "      <th>Tenure</th>\n",
       "      <th>Balance</th>\n",
       "      <th>NumOfProducts</th>\n",
       "      <th>HasCrCard</th>\n",
       "      <th>IsActiveMember</th>\n",
       "      <th>EstimatedSalary</th>\n",
       "      <th>Exited</th>\n",
       "    </tr>\n",
       "  </thead>\n",
       "  <tbody>\n",
       "    <tr>\n",
       "      <td>count</td>\n",
       "      <td>10000.00000</td>\n",
       "      <td>1.000000e+04</td>\n",
       "      <td>10000.000000</td>\n",
       "      <td>10000.000000</td>\n",
       "      <td>9091.000000</td>\n",
       "      <td>10000.000000</td>\n",
       "      <td>10000.000000</td>\n",
       "      <td>10000.00000</td>\n",
       "      <td>10000.000000</td>\n",
       "      <td>10000.000000</td>\n",
       "      <td>10000.000000</td>\n",
       "    </tr>\n",
       "    <tr>\n",
       "      <td>mean</td>\n",
       "      <td>5000.50000</td>\n",
       "      <td>1.569094e+07</td>\n",
       "      <td>650.528800</td>\n",
       "      <td>38.921800</td>\n",
       "      <td>4.997690</td>\n",
       "      <td>76485.889288</td>\n",
       "      <td>1.530200</td>\n",
       "      <td>0.70550</td>\n",
       "      <td>0.515100</td>\n",
       "      <td>100090.239881</td>\n",
       "      <td>0.203700</td>\n",
       "    </tr>\n",
       "    <tr>\n",
       "      <td>std</td>\n",
       "      <td>2886.89568</td>\n",
       "      <td>7.193619e+04</td>\n",
       "      <td>96.653299</td>\n",
       "      <td>10.487806</td>\n",
       "      <td>2.894723</td>\n",
       "      <td>62397.405202</td>\n",
       "      <td>0.581654</td>\n",
       "      <td>0.45584</td>\n",
       "      <td>0.499797</td>\n",
       "      <td>57510.492818</td>\n",
       "      <td>0.402769</td>\n",
       "    </tr>\n",
       "    <tr>\n",
       "      <td>min</td>\n",
       "      <td>1.00000</td>\n",
       "      <td>1.556570e+07</td>\n",
       "      <td>350.000000</td>\n",
       "      <td>18.000000</td>\n",
       "      <td>0.000000</td>\n",
       "      <td>0.000000</td>\n",
       "      <td>1.000000</td>\n",
       "      <td>0.00000</td>\n",
       "      <td>0.000000</td>\n",
       "      <td>11.580000</td>\n",
       "      <td>0.000000</td>\n",
       "    </tr>\n",
       "    <tr>\n",
       "      <td>25%</td>\n",
       "      <td>2500.75000</td>\n",
       "      <td>1.562853e+07</td>\n",
       "      <td>584.000000</td>\n",
       "      <td>32.000000</td>\n",
       "      <td>2.000000</td>\n",
       "      <td>0.000000</td>\n",
       "      <td>1.000000</td>\n",
       "      <td>0.00000</td>\n",
       "      <td>0.000000</td>\n",
       "      <td>51002.110000</td>\n",
       "      <td>0.000000</td>\n",
       "    </tr>\n",
       "    <tr>\n",
       "      <td>50%</td>\n",
       "      <td>5000.50000</td>\n",
       "      <td>1.569074e+07</td>\n",
       "      <td>652.000000</td>\n",
       "      <td>37.000000</td>\n",
       "      <td>5.000000</td>\n",
       "      <td>97198.540000</td>\n",
       "      <td>1.000000</td>\n",
       "      <td>1.00000</td>\n",
       "      <td>1.000000</td>\n",
       "      <td>100193.915000</td>\n",
       "      <td>0.000000</td>\n",
       "    </tr>\n",
       "    <tr>\n",
       "      <td>75%</td>\n",
       "      <td>7500.25000</td>\n",
       "      <td>1.575323e+07</td>\n",
       "      <td>718.000000</td>\n",
       "      <td>44.000000</td>\n",
       "      <td>7.000000</td>\n",
       "      <td>127644.240000</td>\n",
       "      <td>2.000000</td>\n",
       "      <td>1.00000</td>\n",
       "      <td>1.000000</td>\n",
       "      <td>149388.247500</td>\n",
       "      <td>0.000000</td>\n",
       "    </tr>\n",
       "    <tr>\n",
       "      <td>max</td>\n",
       "      <td>10000.00000</td>\n",
       "      <td>1.581569e+07</td>\n",
       "      <td>850.000000</td>\n",
       "      <td>92.000000</td>\n",
       "      <td>10.000000</td>\n",
       "      <td>250898.090000</td>\n",
       "      <td>4.000000</td>\n",
       "      <td>1.00000</td>\n",
       "      <td>1.000000</td>\n",
       "      <td>199992.480000</td>\n",
       "      <td>1.000000</td>\n",
       "    </tr>\n",
       "  </tbody>\n",
       "</table>\n",
       "</div>"
      ],
      "text/plain": [
       "         RowNumber    CustomerId   CreditScore           Age       Tenure  \\\n",
       "count  10000.00000  1.000000e+04  10000.000000  10000.000000  9091.000000   \n",
       "mean    5000.50000  1.569094e+07    650.528800     38.921800     4.997690   \n",
       "std     2886.89568  7.193619e+04     96.653299     10.487806     2.894723   \n",
       "min        1.00000  1.556570e+07    350.000000     18.000000     0.000000   \n",
       "25%     2500.75000  1.562853e+07    584.000000     32.000000     2.000000   \n",
       "50%     5000.50000  1.569074e+07    652.000000     37.000000     5.000000   \n",
       "75%     7500.25000  1.575323e+07    718.000000     44.000000     7.000000   \n",
       "max    10000.00000  1.581569e+07    850.000000     92.000000    10.000000   \n",
       "\n",
       "             Balance  NumOfProducts    HasCrCard  IsActiveMember  \\\n",
       "count   10000.000000   10000.000000  10000.00000    10000.000000   \n",
       "mean    76485.889288       1.530200      0.70550        0.515100   \n",
       "std     62397.405202       0.581654      0.45584        0.499797   \n",
       "min         0.000000       1.000000      0.00000        0.000000   \n",
       "25%         0.000000       1.000000      0.00000        0.000000   \n",
       "50%     97198.540000       1.000000      1.00000        1.000000   \n",
       "75%    127644.240000       2.000000      1.00000        1.000000   \n",
       "max    250898.090000       4.000000      1.00000        1.000000   \n",
       "\n",
       "       EstimatedSalary        Exited  \n",
       "count     10000.000000  10000.000000  \n",
       "mean     100090.239881      0.203700  \n",
       "std       57510.492818      0.402769  \n",
       "min          11.580000      0.000000  \n",
       "25%       51002.110000      0.000000  \n",
       "50%      100193.915000      0.000000  \n",
       "75%      149388.247500      0.000000  \n",
       "max      199992.480000      1.000000  "
      ]
     },
     "execution_count": 5,
     "metadata": {},
     "output_type": "execute_result"
    }
   ],
   "source": [
    "data.describe()"
   ]
  },
  {
   "cell_type": "markdown",
   "metadata": {},
   "source": [
    "Практически все данные выглядят нормально за исключением баланса. Медианное значение в 97 тысяч евро выглядит очень подозрительным. Даже если это значение в центах, то всё-равно это тысяча евро на счету в среднем.Будем надеяться, что нам не подсунули странную выборку из людей, которые хранят все свои деньги на счету телефона, а просто в данных ошибка с порядками значений."
   ]
  },
  {
   "cell_type": "markdown",
   "metadata": {},
   "source": [
    "### Предобработка данных"
   ]
  },
  {
   "cell_type": "markdown",
   "metadata": {},
   "source": [
    "#### Обработка пропусков и преобразование типов данных"
   ]
  },
  {
   "cell_type": "code",
   "execution_count": 6,
   "metadata": {},
   "outputs": [
    {
     "name": "stdout",
     "output_type": "stream",
     "text": [
      "<class 'pandas.core.frame.DataFrame'>\n",
      "RangeIndex: 10000 entries, 0 to 9999\n",
      "Data columns (total 14 columns):\n",
      "RowNumber          10000 non-null int64\n",
      "CustomerId         10000 non-null int64\n",
      "Surname            10000 non-null object\n",
      "CreditScore        10000 non-null int64\n",
      "Geography          10000 non-null object\n",
      "Gender             10000 non-null object\n",
      "Age                10000 non-null int64\n",
      "Tenure             10000 non-null int64\n",
      "Balance            10000 non-null float64\n",
      "NumOfProducts      10000 non-null int64\n",
      "HasCrCard          10000 non-null int64\n",
      "IsActiveMember     10000 non-null int64\n",
      "EstimatedSalary    10000 non-null float64\n",
      "Exited             10000 non-null int64\n",
      "dtypes: float64(2), int64(9), object(3)\n",
      "memory usage: 1.1+ MB\n"
     ]
    }
   ],
   "source": [
    "data['Tenure'] = data['Tenure'].fillna(0)\n",
    "data['Tenure'] = data['Tenure'].astype(int)\n",
    "data.info()"
   ]
  },
  {
   "cell_type": "markdown",
   "metadata": {},
   "source": [
    "Поправили тип данных и пропуски в столбце \"Tenure\"."
   ]
  },
  {
   "cell_type": "markdown",
   "metadata": {},
   "source": [
    "#### Уничтожение лишних столбцов, преведение категориальных признаков к числовому типу."
   ]
  },
  {
   "cell_type": "code",
   "execution_count": 7,
   "metadata": {},
   "outputs": [
    {
     "data": {
      "text/html": [
       "<div>\n",
       "<style scoped>\n",
       "    .dataframe tbody tr th:only-of-type {\n",
       "        vertical-align: middle;\n",
       "    }\n",
       "\n",
       "    .dataframe tbody tr th {\n",
       "        vertical-align: top;\n",
       "    }\n",
       "\n",
       "    .dataframe thead th {\n",
       "        text-align: right;\n",
       "    }\n",
       "</style>\n",
       "<table border=\"1\" class=\"dataframe\">\n",
       "  <thead>\n",
       "    <tr style=\"text-align: right;\">\n",
       "      <th></th>\n",
       "      <th>CreditScore</th>\n",
       "      <th>Geography</th>\n",
       "      <th>Gender</th>\n",
       "      <th>Age</th>\n",
       "      <th>Tenure</th>\n",
       "      <th>Balance</th>\n",
       "      <th>NumOfProducts</th>\n",
       "      <th>HasCrCard</th>\n",
       "      <th>IsActiveMember</th>\n",
       "      <th>EstimatedSalary</th>\n",
       "      <th>Exited</th>\n",
       "    </tr>\n",
       "  </thead>\n",
       "  <tbody>\n",
       "    <tr>\n",
       "      <td>0</td>\n",
       "      <td>619</td>\n",
       "      <td>France</td>\n",
       "      <td>Female</td>\n",
       "      <td>42</td>\n",
       "      <td>2</td>\n",
       "      <td>0.00</td>\n",
       "      <td>1</td>\n",
       "      <td>1</td>\n",
       "      <td>1</td>\n",
       "      <td>101348.88</td>\n",
       "      <td>1</td>\n",
       "    </tr>\n",
       "    <tr>\n",
       "      <td>1</td>\n",
       "      <td>608</td>\n",
       "      <td>Spain</td>\n",
       "      <td>Female</td>\n",
       "      <td>41</td>\n",
       "      <td>1</td>\n",
       "      <td>83807.86</td>\n",
       "      <td>1</td>\n",
       "      <td>0</td>\n",
       "      <td>1</td>\n",
       "      <td>112542.58</td>\n",
       "      <td>0</td>\n",
       "    </tr>\n",
       "    <tr>\n",
       "      <td>2</td>\n",
       "      <td>502</td>\n",
       "      <td>France</td>\n",
       "      <td>Female</td>\n",
       "      <td>42</td>\n",
       "      <td>8</td>\n",
       "      <td>159660.80</td>\n",
       "      <td>3</td>\n",
       "      <td>1</td>\n",
       "      <td>0</td>\n",
       "      <td>113931.57</td>\n",
       "      <td>1</td>\n",
       "    </tr>\n",
       "    <tr>\n",
       "      <td>3</td>\n",
       "      <td>699</td>\n",
       "      <td>France</td>\n",
       "      <td>Female</td>\n",
       "      <td>39</td>\n",
       "      <td>1</td>\n",
       "      <td>0.00</td>\n",
       "      <td>2</td>\n",
       "      <td>0</td>\n",
       "      <td>0</td>\n",
       "      <td>93826.63</td>\n",
       "      <td>0</td>\n",
       "    </tr>\n",
       "    <tr>\n",
       "      <td>4</td>\n",
       "      <td>850</td>\n",
       "      <td>Spain</td>\n",
       "      <td>Female</td>\n",
       "      <td>43</td>\n",
       "      <td>2</td>\n",
       "      <td>125510.82</td>\n",
       "      <td>1</td>\n",
       "      <td>1</td>\n",
       "      <td>1</td>\n",
       "      <td>79084.10</td>\n",
       "      <td>0</td>\n",
       "    </tr>\n",
       "  </tbody>\n",
       "</table>\n",
       "</div>"
      ],
      "text/plain": [
       "   CreditScore Geography  Gender  Age  Tenure    Balance  NumOfProducts  \\\n",
       "0          619    France  Female   42       2       0.00              1   \n",
       "1          608     Spain  Female   41       1   83807.86              1   \n",
       "2          502    France  Female   42       8  159660.80              3   \n",
       "3          699    France  Female   39       1       0.00              2   \n",
       "4          850     Spain  Female   43       2  125510.82              1   \n",
       "\n",
       "   HasCrCard  IsActiveMember  EstimatedSalary  Exited  \n",
       "0          1               1        101348.88       1  \n",
       "1          0               1        112542.58       0  \n",
       "2          1               0        113931.57       1  \n",
       "3          0               0         93826.63       0  \n",
       "4          1               1         79084.10       0  "
      ]
     },
     "execution_count": 7,
     "metadata": {},
     "output_type": "execute_result"
    }
   ],
   "source": [
    "data = data.drop([\"RowNumber\", \"CustomerId\", \"Surname\"], axis = 1)\n",
    "data.head()"
   ]
  },
  {
   "cell_type": "code",
   "execution_count": 8,
   "metadata": {},
   "outputs": [
    {
     "data": {
      "text/html": [
       "<div>\n",
       "<style scoped>\n",
       "    .dataframe tbody tr th:only-of-type {\n",
       "        vertical-align: middle;\n",
       "    }\n",
       "\n",
       "    .dataframe tbody tr th {\n",
       "        vertical-align: top;\n",
       "    }\n",
       "\n",
       "    .dataframe thead th {\n",
       "        text-align: right;\n",
       "    }\n",
       "</style>\n",
       "<table border=\"1\" class=\"dataframe\">\n",
       "  <thead>\n",
       "    <tr style=\"text-align: right;\">\n",
       "      <th></th>\n",
       "      <th>CreditScore</th>\n",
       "      <th>Age</th>\n",
       "      <th>Tenure</th>\n",
       "      <th>Balance</th>\n",
       "      <th>NumOfProducts</th>\n",
       "      <th>HasCrCard</th>\n",
       "      <th>IsActiveMember</th>\n",
       "      <th>EstimatedSalary</th>\n",
       "      <th>Exited</th>\n",
       "      <th>Geography_Germany</th>\n",
       "      <th>Geography_Spain</th>\n",
       "      <th>Gender_Male</th>\n",
       "    </tr>\n",
       "  </thead>\n",
       "  <tbody>\n",
       "    <tr>\n",
       "      <td>0</td>\n",
       "      <td>619</td>\n",
       "      <td>42</td>\n",
       "      <td>2</td>\n",
       "      <td>0.00</td>\n",
       "      <td>1</td>\n",
       "      <td>1</td>\n",
       "      <td>1</td>\n",
       "      <td>101348.88</td>\n",
       "      <td>1</td>\n",
       "      <td>0</td>\n",
       "      <td>0</td>\n",
       "      <td>0</td>\n",
       "    </tr>\n",
       "    <tr>\n",
       "      <td>1</td>\n",
       "      <td>608</td>\n",
       "      <td>41</td>\n",
       "      <td>1</td>\n",
       "      <td>83807.86</td>\n",
       "      <td>1</td>\n",
       "      <td>0</td>\n",
       "      <td>1</td>\n",
       "      <td>112542.58</td>\n",
       "      <td>0</td>\n",
       "      <td>0</td>\n",
       "      <td>1</td>\n",
       "      <td>0</td>\n",
       "    </tr>\n",
       "    <tr>\n",
       "      <td>2</td>\n",
       "      <td>502</td>\n",
       "      <td>42</td>\n",
       "      <td>8</td>\n",
       "      <td>159660.80</td>\n",
       "      <td>3</td>\n",
       "      <td>1</td>\n",
       "      <td>0</td>\n",
       "      <td>113931.57</td>\n",
       "      <td>1</td>\n",
       "      <td>0</td>\n",
       "      <td>0</td>\n",
       "      <td>0</td>\n",
       "    </tr>\n",
       "    <tr>\n",
       "      <td>3</td>\n",
       "      <td>699</td>\n",
       "      <td>39</td>\n",
       "      <td>1</td>\n",
       "      <td>0.00</td>\n",
       "      <td>2</td>\n",
       "      <td>0</td>\n",
       "      <td>0</td>\n",
       "      <td>93826.63</td>\n",
       "      <td>0</td>\n",
       "      <td>0</td>\n",
       "      <td>0</td>\n",
       "      <td>0</td>\n",
       "    </tr>\n",
       "    <tr>\n",
       "      <td>4</td>\n",
       "      <td>850</td>\n",
       "      <td>43</td>\n",
       "      <td>2</td>\n",
       "      <td>125510.82</td>\n",
       "      <td>1</td>\n",
       "      <td>1</td>\n",
       "      <td>1</td>\n",
       "      <td>79084.10</td>\n",
       "      <td>0</td>\n",
       "      <td>0</td>\n",
       "      <td>1</td>\n",
       "      <td>0</td>\n",
       "    </tr>\n",
       "  </tbody>\n",
       "</table>\n",
       "</div>"
      ],
      "text/plain": [
       "   CreditScore  Age  Tenure    Balance  NumOfProducts  HasCrCard  \\\n",
       "0          619   42       2       0.00              1          1   \n",
       "1          608   41       1   83807.86              1          0   \n",
       "2          502   42       8  159660.80              3          1   \n",
       "3          699   39       1       0.00              2          0   \n",
       "4          850   43       2  125510.82              1          1   \n",
       "\n",
       "   IsActiveMember  EstimatedSalary  Exited  Geography_Germany  \\\n",
       "0               1        101348.88       1                  0   \n",
       "1               1        112542.58       0                  0   \n",
       "2               0        113931.57       1                  0   \n",
       "3               0         93826.63       0                  0   \n",
       "4               1         79084.10       0                  0   \n",
       "\n",
       "   Geography_Spain  Gender_Male  \n",
       "0                0            0  \n",
       "1                1            0  \n",
       "2                0            0  \n",
       "3                0            0  \n",
       "4                1            0  "
      ]
     },
     "execution_count": 8,
     "metadata": {},
     "output_type": "execute_result"
    }
   ],
   "source": [
    "data_ohe = pd.get_dummies(data, drop_first = True)\n",
    "data_ohe.head()"
   ]
  },
  {
   "cell_type": "markdown",
   "metadata": {},
   "source": [
    "#### Проверка на дублкаты"
   ]
  },
  {
   "cell_type": "code",
   "execution_count": 9,
   "metadata": {},
   "outputs": [
    {
     "data": {
      "text/plain": [
       "0"
      ]
     },
     "execution_count": 9,
     "metadata": {},
     "output_type": "execute_result"
    }
   ],
   "source": [
    "data_ohe.duplicated().sum()"
   ]
  },
  {
   "cell_type": "markdown",
   "metadata": {},
   "source": [
    "***Вывод***"
   ]
  },
  {
   "cell_type": "markdown",
   "metadata": {},
   "source": [
    "Дубликатов нет"
   ]
  },
  {
   "cell_type": "markdown",
   "metadata": {},
   "source": [
    "### Анализ корреляций"
   ]
  },
  {
   "cell_type": "code",
   "execution_count": 72,
   "metadata": {},
   "outputs": [
    {
     "data": {
      "image/png": "[encoded data removed]",
      "text/plain": [
       "<Figure size 648x648 with 36 Axes>"
      ]
     },
     "metadata": {
      "needs_background": "light"
     },
     "output_type": "display_data"
    }
   ],
   "source": [
    "pd.plotting.scatter_matrix(data_ohe[['CreditScore', 'Balance', 'Tenure', 'NumOfProducts', 'Exited', 'EstimatedSalary']], figsize = (9,9))\n",
    "\n",
    "pass"
   ]
  },
  {
   "cell_type": "code",
   "execution_count": 32,
   "metadata": {
    "scrolled": true
   },
   "outputs": [
    {
     "data": {
      "text/html": [
       "<div>\n",
       "<style scoped>\n",
       "    .dataframe tbody tr th:only-of-type {\n",
       "        vertical-align: middle;\n",
       "    }\n",
       "\n",
       "    .dataframe tbody tr th {\n",
       "        vertical-align: top;\n",
       "    }\n",
       "\n",
       "    .dataframe thead th {\n",
       "        text-align: right;\n",
       "    }\n",
       "</style>\n",
       "<table border=\"1\" class=\"dataframe\">\n",
       "  <thead>\n",
       "    <tr style=\"text-align: right;\">\n",
       "      <th></th>\n",
       "      <th>CreditScore</th>\n",
       "      <th>Age</th>\n",
       "      <th>Tenure</th>\n",
       "      <th>Balance</th>\n",
       "      <th>NumOfProducts</th>\n",
       "      <th>HasCrCard</th>\n",
       "      <th>IsActiveMember</th>\n",
       "      <th>EstimatedSalary</th>\n",
       "      <th>Exited</th>\n",
       "      <th>Geography_Germany</th>\n",
       "      <th>Geography_Spain</th>\n",
       "      <th>Gender_Male</th>\n",
       "    </tr>\n",
       "  </thead>\n",
       "  <tbody>\n",
       "    <tr>\n",
       "      <td>CreditScore</td>\n",
       "      <td>1.000000</td>\n",
       "      <td>-0.003965</td>\n",
       "      <td>0.003087</td>\n",
       "      <td>0.006268</td>\n",
       "      <td>0.012238</td>\n",
       "      <td>-0.005458</td>\n",
       "      <td>0.025651</td>\n",
       "      <td>-0.001384</td>\n",
       "      <td>-0.027094</td>\n",
       "      <td>0.005538</td>\n",
       "      <td>0.004780</td>\n",
       "      <td>-0.002857</td>\n",
       "    </tr>\n",
       "    <tr>\n",
       "      <td>Age</td>\n",
       "      <td>-0.003965</td>\n",
       "      <td>1.000000</td>\n",
       "      <td>-0.007368</td>\n",
       "      <td>0.028308</td>\n",
       "      <td>-0.030680</td>\n",
       "      <td>-0.011721</td>\n",
       "      <td>0.085472</td>\n",
       "      <td>-0.007201</td>\n",
       "      <td>0.285323</td>\n",
       "      <td>0.046897</td>\n",
       "      <td>-0.001685</td>\n",
       "      <td>-0.027544</td>\n",
       "    </tr>\n",
       "    <tr>\n",
       "      <td>Tenure</td>\n",
       "      <td>0.003087</td>\n",
       "      <td>-0.007368</td>\n",
       "      <td>1.000000</td>\n",
       "      <td>-0.005821</td>\n",
       "      <td>0.010106</td>\n",
       "      <td>0.021387</td>\n",
       "      <td>-0.025856</td>\n",
       "      <td>0.011225</td>\n",
       "      <td>-0.013319</td>\n",
       "      <td>0.001676</td>\n",
       "      <td>-0.000745</td>\n",
       "      <td>0.014889</td>\n",
       "    </tr>\n",
       "    <tr>\n",
       "      <td>Balance</td>\n",
       "      <td>0.006268</td>\n",
       "      <td>0.028308</td>\n",
       "      <td>-0.005821</td>\n",
       "      <td>1.000000</td>\n",
       "      <td>-0.304180</td>\n",
       "      <td>-0.014858</td>\n",
       "      <td>-0.010084</td>\n",
       "      <td>0.012797</td>\n",
       "      <td>0.118533</td>\n",
       "      <td>0.401110</td>\n",
       "      <td>-0.134892</td>\n",
       "      <td>0.012087</td>\n",
       "    </tr>\n",
       "    <tr>\n",
       "      <td>NumOfProducts</td>\n",
       "      <td>0.012238</td>\n",
       "      <td>-0.030680</td>\n",
       "      <td>0.010106</td>\n",
       "      <td>-0.304180</td>\n",
       "      <td>1.000000</td>\n",
       "      <td>0.003183</td>\n",
       "      <td>0.009612</td>\n",
       "      <td>0.014204</td>\n",
       "      <td>-0.047820</td>\n",
       "      <td>-0.010419</td>\n",
       "      <td>0.009039</td>\n",
       "      <td>-0.021859</td>\n",
       "    </tr>\n",
       "    <tr>\n",
       "      <td>HasCrCard</td>\n",
       "      <td>-0.005458</td>\n",
       "      <td>-0.011721</td>\n",
       "      <td>0.021387</td>\n",
       "      <td>-0.014858</td>\n",
       "      <td>0.003183</td>\n",
       "      <td>1.000000</td>\n",
       "      <td>-0.011866</td>\n",
       "      <td>-0.009933</td>\n",
       "      <td>-0.007138</td>\n",
       "      <td>0.010577</td>\n",
       "      <td>-0.013480</td>\n",
       "      <td>0.005766</td>\n",
       "    </tr>\n",
       "    <tr>\n",
       "      <td>IsActiveMember</td>\n",
       "      <td>0.025651</td>\n",
       "      <td>0.085472</td>\n",
       "      <td>-0.025856</td>\n",
       "      <td>-0.010084</td>\n",
       "      <td>0.009612</td>\n",
       "      <td>-0.011866</td>\n",
       "      <td>1.000000</td>\n",
       "      <td>-0.011421</td>\n",
       "      <td>-0.156128</td>\n",
       "      <td>-0.020486</td>\n",
       "      <td>0.016732</td>\n",
       "      <td>0.022544</td>\n",
       "    </tr>\n",
       "    <tr>\n",
       "      <td>EstimatedSalary</td>\n",
       "      <td>-0.001384</td>\n",
       "      <td>-0.007201</td>\n",
       "      <td>0.011225</td>\n",
       "      <td>0.012797</td>\n",
       "      <td>0.014204</td>\n",
       "      <td>-0.009933</td>\n",
       "      <td>-0.011421</td>\n",
       "      <td>1.000000</td>\n",
       "      <td>0.012097</td>\n",
       "      <td>0.010297</td>\n",
       "      <td>-0.006482</td>\n",
       "      <td>-0.008112</td>\n",
       "    </tr>\n",
       "    <tr>\n",
       "      <td>Exited</td>\n",
       "      <td>-0.027094</td>\n",
       "      <td>0.285323</td>\n",
       "      <td>-0.013319</td>\n",
       "      <td>0.118533</td>\n",
       "      <td>-0.047820</td>\n",
       "      <td>-0.007138</td>\n",
       "      <td>-0.156128</td>\n",
       "      <td>0.012097</td>\n",
       "      <td>1.000000</td>\n",
       "      <td>0.173488</td>\n",
       "      <td>-0.052667</td>\n",
       "      <td>-0.106512</td>\n",
       "    </tr>\n",
       "    <tr>\n",
       "      <td>Geography_Germany</td>\n",
       "      <td>0.005538</td>\n",
       "      <td>0.046897</td>\n",
       "      <td>0.001676</td>\n",
       "      <td>0.401110</td>\n",
       "      <td>-0.010419</td>\n",
       "      <td>0.010577</td>\n",
       "      <td>-0.020486</td>\n",
       "      <td>0.010297</td>\n",
       "      <td>0.173488</td>\n",
       "      <td>1.000000</td>\n",
       "      <td>-0.332084</td>\n",
       "      <td>-0.024628</td>\n",
       "    </tr>\n",
       "    <tr>\n",
       "      <td>Geography_Spain</td>\n",
       "      <td>0.004780</td>\n",
       "      <td>-0.001685</td>\n",
       "      <td>-0.000745</td>\n",
       "      <td>-0.134892</td>\n",
       "      <td>0.009039</td>\n",
       "      <td>-0.013480</td>\n",
       "      <td>0.016732</td>\n",
       "      <td>-0.006482</td>\n",
       "      <td>-0.052667</td>\n",
       "      <td>-0.332084</td>\n",
       "      <td>1.000000</td>\n",
       "      <td>0.016889</td>\n",
       "    </tr>\n",
       "    <tr>\n",
       "      <td>Gender_Male</td>\n",
       "      <td>-0.002857</td>\n",
       "      <td>-0.027544</td>\n",
       "      <td>0.014889</td>\n",
       "      <td>0.012087</td>\n",
       "      <td>-0.021859</td>\n",
       "      <td>0.005766</td>\n",
       "      <td>0.022544</td>\n",
       "      <td>-0.008112</td>\n",
       "      <td>-0.106512</td>\n",
       "      <td>-0.024628</td>\n",
       "      <td>0.016889</td>\n",
       "      <td>1.000000</td>\n",
       "    </tr>\n",
       "  </tbody>\n",
       "</table>\n",
       "</div>"
      ],
      "text/plain": [
       "                   CreditScore       Age    Tenure   Balance  NumOfProducts  \\\n",
       "CreditScore           1.000000 -0.003965  0.003087  0.006268       0.012238   \n",
       "Age                  -0.003965  1.000000 -0.007368  0.028308      -0.030680   \n",
       "Tenure                0.003087 -0.007368  1.000000 -0.005821       0.010106   \n",
       "Balance               0.006268  0.028308 -0.005821  1.000000      -0.304180   \n",
       "NumOfProducts         0.012238 -0.030680  0.010106 -0.304180       1.000000   \n",
       "HasCrCard            -0.005458 -0.011721  0.021387 -0.014858       0.003183   \n",
       "IsActiveMember        0.025651  0.085472 -0.025856 -0.010084       0.009612   \n",
       "EstimatedSalary      -0.001384 -0.007201  0.011225  0.012797       0.014204   \n",
       "Exited               -0.027094  0.285323 -0.013319  0.118533      -0.047820   \n",
       "Geography_Germany     0.005538  0.046897  0.001676  0.401110      -0.010419   \n",
       "Geography_Spain       0.004780 -0.001685 -0.000745 -0.134892       0.009039   \n",
       "Gender_Male          -0.002857 -0.027544  0.014889  0.012087      -0.021859   \n",
       "\n",
       "                   HasCrCard  IsActiveMember  EstimatedSalary    Exited  \\\n",
       "CreditScore        -0.005458        0.025651        -0.001384 -0.027094   \n",
       "Age                -0.011721        0.085472        -0.007201  0.285323   \n",
       "Tenure              0.021387       -0.025856         0.011225 -0.013319   \n",
       "Balance            -0.014858       -0.010084         0.012797  0.118533   \n",
       "NumOfProducts       0.003183        0.009612         0.014204 -0.047820   \n",
       "HasCrCard           1.000000       -0.011866        -0.009933 -0.007138   \n",
       "IsActiveMember     -0.011866        1.000000        -0.011421 -0.156128   \n",
       "EstimatedSalary    -0.009933       -0.011421         1.000000  0.012097   \n",
       "Exited             -0.007138       -0.156128         0.012097  1.000000   \n",
       "Geography_Germany   0.010577       -0.020486         0.010297  0.173488   \n",
       "Geography_Spain    -0.013480        0.016732        -0.006482 -0.052667   \n",
       "Gender_Male         0.005766        0.022544        -0.008112 -0.106512   \n",
       "\n",
       "                   Geography_Germany  Geography_Spain  Gender_Male  \n",
       "CreditScore                 0.005538         0.004780    -0.002857  \n",
       "Age                         0.046897        -0.001685    -0.027544  \n",
       "Tenure                      0.001676        -0.000745     0.014889  \n",
       "Balance                     0.401110        -0.134892     0.012087  \n",
       "NumOfProducts              -0.010419         0.009039    -0.021859  \n",
       "HasCrCard                   0.010577        -0.013480     0.005766  \n",
       "IsActiveMember             -0.020486         0.016732     0.022544  \n",
       "EstimatedSalary             0.010297        -0.006482    -0.008112  \n",
       "Exited                      0.173488        -0.052667    -0.106512  \n",
       "Geography_Germany           1.000000        -0.332084    -0.024628  \n",
       "Geography_Spain            -0.332084         1.000000     0.016889  \n",
       "Gender_Male                -0.024628         0.016889     1.000000  "
      ]
     },
     "execution_count": 32,
     "metadata": {},
     "output_type": "execute_result"
    }
   ],
   "source": [
    "data_ohe.corr()"
   ]
  },
  {
   "cell_type": "markdown",
   "metadata": {},
   "source": [
    "***Вывод***"
   ]
  },
  {
   "cell_type": "markdown",
   "metadata": {},
   "source": [
    "Среди признаков нету чёткой кореляции. Это говорит нам, что все признаки имеют разную природу и можно работать со всеми ими, не выкидывая остальные. Также самая высокая корреляция с целевым признаком прослеживается у возраста, активности клиента и балансом пользователя, а также с проживанием в Германии и полом человека."
   ]
  },
  {
   "attachments": {
    "image.png": {
     "image/png": "[encoded data removed]"
    }
   },
   "cell_type": "markdown",
   "metadata": {},
   "source": [
    "![image.png](attachment:image.png)"
   ]
  },
  {
   "cell_type": "code",
   "execution_count": null,
   "metadata": {},
   "outputs": [],
   "source": []
  },
  {
   "cell_type": "markdown",
   "metadata": {},
   "source": [
    "## Исследование задачи"
   ]
  },
  {
   "cell_type": "markdown",
   "metadata": {},
   "source": [
    "### Исследование баланса классов"
   ]
  },
  {
   "cell_type": "code",
   "execution_count": 33,
   "metadata": {},
   "outputs": [
    {
     "data": {
      "text/plain": [
       "0.2037"
      ]
     },
     "execution_count": 33,
     "metadata": {},
     "output_type": "execute_result"
    }
   ],
   "source": [
    "data_ohe['Exited'].mean()"
   ]
  },
  {
   "cell_type": "markdown",
   "metadata": {},
   "source": [
    "Мы можем наблюдать дисбаланс классов, так как на каждый случай ухода у нас 4 случая, когда человек остался. Посмотрим, что получится, если обучать наши модели без учёта этого фактора."
   ]
  },
  {
   "cell_type": "markdown",
   "metadata": {},
   "source": [
    "### Разбиение на выборки"
   ]
  },
  {
   "cell_type": "code",
   "execution_count": 34,
   "metadata": {},
   "outputs": [
    {
     "name": "stdout",
     "output_type": "stream",
     "text": [
      "Размеры обучающей выборки: 6000 6000\n",
      "Размеры валидной выборки: 2000 2000\n",
      "Размеры тестовой выборки: 2000 2000\n"
     ]
    }
   ],
   "source": [
    "target = data_ohe['Exited']\n",
    "features = data_ohe.drop('Exited', axis = 1)\n",
    "features_train, features_valid_and_test, target_train, target_valid_and_test = train_test_split(\n",
    "    features, target, test_size=0.4,  random_state=12345) \n",
    "features_test, features_valid,  target_test,target_valid  = train_test_split(\n",
    "    features_valid_and_test, target_valid_and_test, test_size=0.5,  random_state=12345) \n",
    "print(\"Размеры обучающей выборки:\", len(features_train), len(target_train))\n",
    "print(\"Размеры валидной выборки:\", len(features_valid), len(target_valid))\n",
    "print(\"Размеры тестовой выборки:\", len(features_test), len(target_test))\n",
    "features_train = features_train.reset_index(drop = True)\n",
    "target_train = target_train.reset_index(drop = True)\n",
    "features_valid = features_valid.reset_index(drop = True)\n",
    "target_calid = target_valid.reset_index(drop = True)\n",
    "features_test = features_test.reset_index(drop = True)\n",
    "target_test = target_test.reset_index(drop = True)"
   ]
  },
  {
   "cell_type": "markdown",
   "metadata": {},
   "source": [
    "### Масштабирование признаков"
   ]
  },
  {
   "cell_type": "code",
   "execution_count": 35,
   "metadata": {},
   "outputs": [],
   "source": [
    "numeric = ['CreditScore', 'Age', 'Tenure', 'Balance', 'NumOfProducts', 'HasCrCard', 'IsActiveMember', 'EstimatedSalary']\n",
    "\n",
    "scaler = StandardScaler()\n",
    "scaler.fit(features_train[numeric])\n",
    "\n",
    "features_train[numeric] = scaler.transform(features_train[numeric])\n",
    "features_valid[numeric] = scaler.transform(features_valid[numeric])\n",
    "features_test[numeric] = scaler.transform(features_test[numeric])"
   ]
  },
  {
   "cell_type": "code",
   "execution_count": 36,
   "metadata": {},
   "outputs": [
    {
     "name": "stdout",
     "output_type": "stream",
     "text": [
      "<class 'pandas.core.frame.DataFrame'>\n",
      "RangeIndex: 10000 entries, 0 to 9999\n",
      "Data columns (total 11 columns):\n",
      "CreditScore          10000 non-null int64\n",
      "Age                  10000 non-null int64\n",
      "Tenure               10000 non-null int64\n",
      "Balance              10000 non-null float64\n",
      "NumOfProducts        10000 non-null int64\n",
      "HasCrCard            10000 non-null int64\n",
      "IsActiveMember       10000 non-null int64\n",
      "EstimatedSalary      10000 non-null float64\n",
      "Geography_Germany    10000 non-null uint8\n",
      "Geography_Spain      10000 non-null uint8\n",
      "Gender_Male          10000 non-null uint8\n",
      "dtypes: float64(2), int64(6), uint8(3)\n",
      "memory usage: 654.4 KB\n"
     ]
    }
   ],
   "source": [
    "features.info()"
   ]
  },
  {
   "cell_type": "markdown",
   "metadata": {},
   "source": [
    "### Исследование моделей"
   ]
  },
  {
   "cell_type": "markdown",
   "metadata": {},
   "source": [
    "### Модель случайного леса\n",
    "Проверяем модели случайного леса, перебирая количество деревьев от 1 до 10."
   ]
  },
  {
   "cell_type": "code",
   "execution_count": 37,
   "metadata": {},
   "outputs": [
    {
     "name": "stdout",
     "output_type": "stream",
     "text": [
      "F1 мера наилучшей модели случайного леса на валидационной выборке: 0.5346820809248556\n"
     ]
    }
   ],
   "source": [
    "best_model = None\n",
    "best_result = 0\n",
    "best_forest_model = None\n",
    "best_forest_result = 0\n",
    "for est in range(1, 11):\n",
    "    model = RandomForestClassifier(random_state=12345, n_estimators=est) \n",
    "    model.fit(features_train, target_train)\n",
    "    predicted_valid = model.predict(features_valid)\n",
    "    result = f1_score(target_valid, predicted_valid)\n",
    "    if result > best_forest_result:\n",
    "        best_forest_model = model\n",
    "        best_forest_result = result\n",
    "if best_forest_result > best_result:\n",
    "        best_model = best_forest_model \n",
    "        best_result = best_forest_result\n",
    "print(\"F1 мера наилучшей модели случайного леса на валидационной выборке:\", best_forest_result)"
   ]
  },
  {
   "cell_type": "markdown",
   "metadata": {},
   "source": [
    "### Модель логистической регрессии"
   ]
  },
  {
   "cell_type": "code",
   "execution_count": 38,
   "metadata": {},
   "outputs": [
    {
     "name": "stdout",
     "output_type": "stream",
     "text": [
      "F1 мера модели логистической регрессии на валидационной выборке: 0.27478260869565213\n"
     ]
    }
   ],
   "source": [
    "model = LogisticRegression(solver = \"liblinear\", random_state = 12345)\n",
    "model.fit(features_train, target_train) \n",
    "predicted_valid = model.predict(features_valid)\n",
    "result = f1_score(target_valid, predicted_valid) \n",
    "if result > best_result:\n",
    "        best_model = model \n",
    "        best_result = result\n",
    "print(\"F1 мера модели логистической регрессии на валидационной выборке:\", result)"
   ]
  },
  {
   "cell_type": "markdown",
   "metadata": {},
   "source": [
    "### Модель дерева решений"
   ]
  },
  {
   "cell_type": "code",
   "execution_count": 39,
   "metadata": {},
   "outputs": [
    {
     "name": "stdout",
     "output_type": "stream",
     "text": [
      "F1 мера наилучшей модели древа решений на валидационной выборке: 0.5015772870662459\n"
     ]
    },
    {
     "name": "stderr",
     "output_type": "stream",
     "text": [
      "/opt/conda/lib/python3.7/site-packages/sklearn/metrics/classification.py:1437: UndefinedMetricWarning: F-score is ill-defined and being set to 0.0 due to no predicted samples.\n",
      "  'precision', 'predicted', average, warn_for)\n"
     ]
    }
   ],
   "source": [
    "best_tree_model = None\n",
    "best_tree_result = 0\n",
    "for depth in range(1,6):\n",
    "    model = DecisionTreeClassifier(max_depth = depth, random_state = 12345)\n",
    "    model.fit(features_train, target_train)\n",
    "    predicted_valid = model.predict(features_valid)\n",
    "    result = f1_score(target_valid, predicted_valid)\n",
    "    if result > best_tree_result:\n",
    "        best_tree_model = model\n",
    "        best_tree_result = result\n",
    "if best_tree_result > best_result:\n",
    "        best_model = best_tree_model \n",
    "        best_result = best_tree_result\n",
    "print(\"F1 мера наилучшей модели древа решений на валидационной выборке:\", best_tree_result)"
   ]
  },
  {
   "cell_type": "markdown",
   "metadata": {},
   "source": [
    "### Функция для проверки всего предыдущего в одну строчку"
   ]
  },
  {
   "cell_type": "code",
   "execution_count": 40,
   "metadata": {},
   "outputs": [],
   "source": [
    "def models_research(features_train, features_valid, target_train, target_valid, class_weight = None):\n",
    "    best_model = None\n",
    "    best_result = 0\n",
    "    best_forest_model = None\n",
    "    best_forest_result = 0\n",
    "    for est in range(1, 11):\n",
    "        model = RandomForestClassifier(random_state=12345, n_estimators=est, class_weight = class_weight) \n",
    "        model.fit(features_train, target_train)\n",
    "        predicted_valid = model.predict(features_valid)\n",
    "        result = f1_score(target_valid, predicted_valid)\n",
    "        if result > best_forest_result:\n",
    "            best_forest_model = model\n",
    "            best_forest_result = result\n",
    "    if best_forest_result > best_result:\n",
    "            best_model = best_forest_model \n",
    "            best_result = best_forest_result\n",
    "    print(\"F1 мера наилучшей модели случайного леса на валидационной выборке:\", best_forest_result)\n",
    "    model = LogisticRegression(solver = \"liblinear\", random_state = 12345, class_weight = class_weight)\n",
    "    model.fit(features_train, target_train) \n",
    "    predicted_valid = model.predict(features_valid)\n",
    "    result = f1_score(target_valid, predicted_valid)\n",
    "    if result > best_result:\n",
    "            best_model = model \n",
    "            best_result = result\n",
    "    print(\"F1 мера модели логистической регрессии на валидационной выборке:\", result)\n",
    "    best_tree_model = None\n",
    "    best_tree_result = 0\n",
    "    for depth in range(1,6):\n",
    "        model = DecisionTreeClassifier(max_depth = depth, random_state = 12345, class_weight = class_weight)\n",
    "        model.fit(features_train, target_train)\n",
    "        predicted_valid = model.predict(features_valid)\n",
    "        result = f1_score(target_valid, predicted_valid)\n",
    "        if result > best_tree_result:\n",
    "            best_tree_model = model\n",
    "            best_tree_result = result\n",
    "    if best_tree_result > best_result:\n",
    "            best_model = best_tree_model \n",
    "            best_result = best_tree_result\n",
    "    print(\"F1 мера наилучшей модели древа решений на валидационной выборке:\", best_tree_result)\n",
    "    print(\"F1 мера наилучшей модели на валидационной выборке:\", best_result)\n",
    "    return best_model;"
   ]
  },
  {
   "cell_type": "code",
   "execution_count": 41,
   "metadata": {},
   "outputs": [
    {
     "name": "stdout",
     "output_type": "stream",
     "text": [
      "F1 мера наилучшей модели случайного леса на валидационной выборке: 0.5346820809248556\n",
      "F1 мера модели логистической регрессии на валидационной выборке: 0.27478260869565213\n",
      "F1 мера наилучшей модели древа решений на валидационной выборке: 0.5015772870662459\n",
      "F1 мера наилучшей модели на валидационной выборке: 0.5346820809248556\n"
     ]
    },
    {
     "name": "stderr",
     "output_type": "stream",
     "text": [
      "/opt/conda/lib/python3.7/site-packages/sklearn/metrics/classification.py:1437: UndefinedMetricWarning: F-score is ill-defined and being set to 0.0 due to no predicted samples.\n",
      "  'precision', 'predicted', average, warn_for)\n"
     ]
    }
   ],
   "source": [
    "best_model = models_research(features_train, features_valid, target_train, target_valid)"
   ]
  },
  {
   "cell_type": "markdown",
   "metadata": {},
   "source": [
    "## Борьба с дисбалансом"
   ]
  },
  {
   "cell_type": "markdown",
   "metadata": {},
   "source": [
    "### Взвешивание классов"
   ]
  },
  {
   "cell_type": "code",
   "execution_count": 42,
   "metadata": {},
   "outputs": [
    {
     "name": "stdout",
     "output_type": "stream",
     "text": [
      "F1 мера наилучшей модели случайного леса на валидационной выборке: 0.5245901639344263\n",
      "F1 мера модели логистической регрессии на валидационной выборке: 0.4797238999137188\n",
      "F1 мера наилучшей модели древа решений на валидационной выборке: 0.5809128630705395\n",
      "F1 мера наилучшей модели на валидационной выборке: 0.5809128630705395\n"
     ]
    }
   ],
   "source": [
    "balanced_model = models_research(features_train, features_valid, target_train, target_valid, class_weight = 'balanced')"
   ]
  },
  {
   "cell_type": "markdown",
   "metadata": {},
   "source": [
    "***Вывод***"
   ]
  },
  {
   "cell_type": "markdown",
   "metadata": {},
   "source": [
    "F1 мера улучшилась по сравнению с обучением без взвешиванием классов, но пока недостаточно. Нам нужно значение F1 меры минимум в 0.59."
   ]
  },
  {
   "cell_type": "markdown",
   "metadata": {},
   "source": [
    "### Увеличение выборки"
   ]
  },
  {
   "cell_type": "markdown",
   "metadata": {},
   "source": [
    "Функция для увеличения выборки, автоматически перемешивающая новые выборки."
   ]
  },
  {
   "cell_type": "code",
   "execution_count": 43,
   "metadata": {},
   "outputs": [],
   "source": [
    "def upsample(features, target, repeat):\n",
    "    features_zeros = features[target == 0]\n",
    "    features_ones = features[target == 1]\n",
    "    target_zeros = target[target == 0]\n",
    "    target_ones = target[target == 1]\n",
    "\n",
    "    features_upsampled = pd.concat([features_zeros] + [features_ones] * repeat)\n",
    "    target_upsampled = pd.concat([target_zeros] + [target_ones] * repeat)\n",
    "    \n",
    "    features_upsampled, target_upsampled = shuffle(\n",
    "        features_upsampled, target_upsampled, random_state=12345)\n",
    "    \n",
    "    return features_upsampled, target_upsampled"
   ]
  },
  {
   "cell_type": "code",
   "execution_count": 44,
   "metadata": {},
   "outputs": [
    {
     "name": "stdout",
     "output_type": "stream",
     "text": [
      "F1 мера наилучшей модели случайного леса на валидационной выборке: 0.5534591194968553\n",
      "F1 мера модели логистической регрессии на валидационной выборке: 0.4779220779220779\n",
      "F1 мера наилучшей модели древа решений на валидационной выборке: 0.5809128630705395\n",
      "F1 мера наилучшей модели на валидационной выборке: 0.5809128630705395\n"
     ]
    }
   ],
   "source": [
    "features_upsampled, target_upsampled = upsample(features_train, target_train, 4)\n",
    "upsampled_model = models_research(features_upsampled, features_valid, target_upsampled, target_valid)"
   ]
  },
  {
   "cell_type": "markdown",
   "metadata": {},
   "source": [
    "### Уменьшение выборки"
   ]
  },
  {
   "cell_type": "code",
   "execution_count": 45,
   "metadata": {},
   "outputs": [],
   "source": [
    "def downsample(features, target, fraction):\n",
    "    features_zeros = features[target == 0]\n",
    "    features_ones = features[target == 1]\n",
    "    target_zeros = target[target == 0]\n",
    "    target_ones = target[target == 1]\n",
    "\n",
    "    features_downsampled = pd.concat(\n",
    "        [features_zeros.sample(frac=fraction, random_state=12345)] + [features_ones])\n",
    "    target_downsampled = pd.concat(\n",
    "        [target_zeros.sample(frac=fraction, random_state=12345)] + [target_ones])\n",
    "    \n",
    "    features_downsampled, target_downsampled = shuffle(\n",
    "        features_downsampled, target_downsampled, random_state=12345)\n",
    "    \n",
    "    return features_downsampled, target_downsampled"
   ]
  },
  {
   "cell_type": "code",
   "execution_count": 46,
   "metadata": {},
   "outputs": [
    {
     "name": "stdout",
     "output_type": "stream",
     "text": [
      "F1 мера наилучшей модели случайного леса на валидационной выборке: 0.5426497277676952\n",
      "F1 мера модели логистической регрессии на валидационной выборке: 0.48060836501901144\n",
      "F1 мера наилучшей модели древа решений на валидационной выборке: 0.5591397849462366\n",
      "F1 мера наилучшей модели на валидационной выборке: 0.5591397849462366\n"
     ]
    }
   ],
   "source": [
    "features_downsampled, target_downsampled = downsample(features_train, target_train, 0.2)\n",
    "downsampled_model = models_research(features_downsampled, features_valid, target_downsampled, target_valid)"
   ]
  },
  {
   "cell_type": "markdown",
   "metadata": {},
   "source": [
    "Уменьшение выборки даёт худший результат, чем увеличение, что логично, ведь данных стало меньше."
   ]
  },
  {
   "cell_type": "markdown",
   "metadata": {},
   "source": [
    "### Изменение порога"
   ]
  },
  {
   "cell_type": "code",
   "execution_count": 47,
   "metadata": {},
   "outputs": [
    {
     "name": "stdout",
     "output_type": "stream",
     "text": [
      "0.6004464285714286 0.58\n"
     ]
    }
   ],
   "source": [
    "probabilities_valid = balanced_model.predict_proba(features_valid)\n",
    "probabilities_one_valid = probabilities_valid[:, 1]\n",
    "best_threshold_result = 0 \n",
    "best_threshold = 0\n",
    "for threshold in np.arange(0, 1, 0.02):\n",
    "    predicted_valid =  probabilities_one_valid > threshold\n",
    "    result = f1_score(target_valid, predicted_valid)\n",
    "    if(result > best_threshold_result):\n",
    "        best_threshold_result = result\n",
    "        best_threshold = threshold\n",
    "print(best_threshold_result, best_threshold)"
   ]
  },
  {
   "cell_type": "markdown",
   "metadata": {},
   "source": [
    "Интересный факт, вероятность того, что элемент по предсказанию нашей модели имеет 50% шанс попасть в оба класса, то на самом деле он скорее в нулевом классе, чем в первом."
   ]
  },
  {
   "cell_type": "markdown",
   "metadata": {},
   "source": [
    "## Тестирование модели"
   ]
  },
  {
   "cell_type": "code",
   "execution_count": 48,
   "metadata": {},
   "outputs": [
    {
     "name": "stdout",
     "output_type": "stream",
     "text": [
      "F1 мера наилучшей модели на тестовой выборке: 0.5985090521831735\n"
     ]
    }
   ],
   "source": [
    "features_final_train = features_train.append(features_valid, ignore_index = True)\n",
    "target_final_train = target_train.append(target_valid, ignore_index = True)\n",
    "balanced_model.fit(features_final_train, target_final_train)\n",
    "\n",
    "probabilities_test = balanced_model.predict_proba(features_test)\n",
    "probabilities_one_test = probabilities_test[:, 1]\n",
    "predicted_test =  probabilities_one_test > best_threshold\n",
    "final_result = f1_score(target_test, predicted_test) \n",
    "print(\"F1 мера наилучшей модели на тестовой выборке:\", final_result)"
   ]
  },
  {
   "cell_type": "code",
   "execution_count": 49,
   "metadata": {},
   "outputs": [
    {
     "name": "stdout",
     "output_type": "stream",
     "text": [
      "0.8355347481752318\n"
     ]
    },
    {
     "data": {
      "image/png": "[encoded data removed]",
      "text/plain": [
       "<Figure size 432x288 with 1 Axes>"
      ]
     },
     "metadata": {
      "needs_background": "light"
     },
     "output_type": "display_data"
    }
   ],
   "source": [
    "auc_roc = roc_auc_score(target_valid, probabilities_one_valid)\n",
    "print(auc_roc)\n",
    "fpr, tpr, thresholds = roc_curve(target_test, probabilities_one_test)\n",
    "plt.figure()\n",
    "\n",
    "plt.plot([0, 1], [0, 1], linestyle='--')\n",
    "plt.plot(fpr, tpr)\n",
    "\n",
    "plt.xlim([0,1])\n",
    "plt.ylim([0,1])\n",
    "\n",
    "plt.xlabel(\"False Positive Rate\")\n",
    "plt.ylabel(\"True Positive Rate\")\n",
    "\n",
    "plt.title(\"ROC-кривая\")\n",
    "plt.show()"
   ]
  },
  {
   "cell_type": "markdown",
   "metadata": {},
   "source": [
    "***Вывод***"
   ]
  },
  {
   "cell_type": "markdown",
   "metadata": {},
   "source": [
    "Мы добились решения поставленной задачи используя методы борьбы с дисбалансом классов. Увеличение выборки на практике и в теории лучше уменьшения, так как мы не теряем какие-либо данные. Наша модель имеет нужное значение F1 меры, а также \"хороший\", выпуклый график ROC-кривой."
   ]
  },
  {
   "cell_type": "code",
   "execution_count": 65,
   "metadata": {},
   "outputs": [
    {
     "data": {
      "image/png": "[encoded data removed]",
      "text/plain": [
       "<Figure size 936x360 with 1 Axes>"
      ]
     },
     "metadata": {
      "needs_background": "light"
     },
     "output_type": "display_data"
    }
   ],
   "source": [
    "plt.figure(figsize = (13, 5))\n",
    "importances = balanced_model.feature_importances_ \n",
    "model_importances = pd.Series(importances, index = ['CreditScore', 'Age', 'Tenure', 'Balance', 'NumOfProducts', 'HasCrCard', 'IsActiveMember', 'EstimatedSalary', 'Geography_Germany', 'Geography_Spain', 'Gender_Male']\n",
    ")\n",
    "model_importances.plot.bar()\n",
    "plt.title(\"Важность признаков\")\n",
    "plt.show()"
   ]
  }
 ],
 "metadata": {
  "ExecuteTimeLog": [
   {
    "duration": 712,
    "start_time": "2021-10-15T10:25:02.098Z"
   },
   {
    "duration": 550,
    "start_time": "2021-10-15T10:25:47.994Z"
   },
   {
    "duration": 63,
    "start_time": "2021-10-15T10:25:55.345Z"
   },
   {
    "duration": 14,
    "start_time": "2021-10-15T10:27:11.461Z"
   },
   {
    "duration": 13,
    "start_time": "2021-10-15T10:30:57.079Z"
   },
   {
    "duration": 62,
    "start_time": "2021-10-15T10:31:31.620Z"
   },
   {
    "duration": 35820,
    "start_time": "2021-10-15T10:51:11.350Z"
   },
   {
    "duration": 25,
    "start_time": "2021-10-15T10:52:22.983Z"
   },
   {
    "duration": 12,
    "start_time": "2021-10-15T10:52:48.679Z"
   },
   {
    "duration": 25,
    "start_time": "2021-10-15T10:53:03.459Z"
   },
   {
    "duration": 284,
    "start_time": "2021-10-15T11:35:57.978Z"
   },
   {
    "duration": 308,
    "start_time": "2021-10-15T11:36:13.428Z"
   },
   {
    "duration": 256,
    "start_time": "2021-10-15T11:36:18.076Z"
   },
   {
    "duration": 264,
    "start_time": "2021-10-15T11:36:20.712Z"
   },
   {
    "duration": 314,
    "start_time": "2021-10-15T11:36:52.629Z"
   },
   {
    "duration": 484,
    "start_time": "2021-10-15T11:36:56.849Z"
   },
   {
    "duration": 433,
    "start_time": "2021-10-15T11:37:48.873Z"
   },
   {
    "duration": 33,
    "start_time": "2021-10-15T11:38:11.559Z"
   },
   {
    "duration": 30,
    "start_time": "2021-10-15T11:38:22.942Z"
   },
   {
    "duration": 305,
    "start_time": "2021-10-15T11:42:22.831Z"
   },
   {
    "duration": 279,
    "start_time": "2021-10-15T11:42:34.360Z"
   },
   {
    "duration": 294,
    "start_time": "2021-10-15T11:42:38.963Z"
   },
   {
    "duration": 7,
    "start_time": "2021-10-15T11:44:21.351Z"
   },
   {
    "duration": 295,
    "start_time": "2021-10-15T11:44:49.277Z"
   },
   {
    "duration": 277,
    "start_time": "2021-10-15T11:44:53.988Z"
   },
   {
    "duration": 6,
    "start_time": "2021-10-15T11:45:14.214Z"
   },
   {
    "duration": 22,
    "start_time": "2021-10-15T11:45:43.778Z"
   },
   {
    "duration": 289,
    "start_time": "2021-10-15T11:45:50.616Z"
   },
   {
    "duration": 281,
    "start_time": "2021-10-15T11:46:05.607Z"
   },
   {
    "duration": 6,
    "start_time": "2021-10-15T11:46:12.608Z"
   },
   {
    "duration": 6,
    "start_time": "2021-10-15T11:47:05.120Z"
   },
   {
    "duration": 495,
    "start_time": "2021-10-15T11:47:17.095Z"
   },
   {
    "duration": 34,
    "start_time": "2021-10-15T11:48:34.826Z"
   },
   {
    "duration": 18,
    "start_time": "2021-10-15T11:53:19.907Z"
   },
   {
    "duration": 14,
    "start_time": "2021-10-15T12:00:41.056Z"
   },
   {
    "duration": 329,
    "start_time": "2021-10-15T12:01:17.275Z"
   },
   {
    "duration": 6,
    "start_time": "2021-10-15T12:02:02.442Z"
   },
   {
    "duration": 20,
    "start_time": "2021-10-15T12:02:23.756Z"
   },
   {
    "duration": 13,
    "start_time": "2021-10-15T12:02:31.795Z"
   },
   {
    "duration": 26032,
    "start_time": "2021-10-15T12:06:00.077Z"
   },
   {
    "duration": 21,
    "start_time": "2021-10-15T12:06:26.111Z"
   },
   {
    "duration": -145,
    "start_time": "2021-10-15T12:07:50.494Z"
   },
   {
    "duration": 732,
    "start_time": "2021-10-15T12:08:06.202Z"
   },
   {
    "duration": 62,
    "start_time": "2021-10-15T12:08:06.936Z"
   },
   {
    "duration": 15,
    "start_time": "2021-10-15T12:08:07.002Z"
   },
   {
    "duration": 8,
    "start_time": "2021-10-15T12:08:07.021Z"
   },
   {
    "duration": 103,
    "start_time": "2021-10-15T12:08:07.032Z"
   },
   {
    "duration": 15,
    "start_time": "2021-10-15T12:08:07.138Z"
   },
   {
    "duration": 41,
    "start_time": "2021-10-15T12:08:07.157Z"
   },
   {
    "duration": 33,
    "start_time": "2021-10-15T12:08:07.203Z"
   },
   {
    "duration": 49,
    "start_time": "2021-10-15T12:08:07.239Z"
   },
   {
    "duration": 26814,
    "start_time": "2021-10-15T12:08:07.291Z"
   },
   {
    "duration": 21,
    "start_time": "2021-10-15T12:08:34.108Z"
   },
   {
    "duration": 1026,
    "start_time": "2021-10-15T12:10:47.830Z"
   },
   {
    "duration": 4,
    "start_time": "2021-10-15T12:10:55.486Z"
   },
   {
    "duration": 15,
    "start_time": "2021-10-15T12:11:27.383Z"
   },
   {
    "duration": 43154,
    "start_time": "2021-10-15T12:11:33.749Z"
   },
   {
    "duration": 26,
    "start_time": "2021-10-15T12:12:16.906Z"
   },
   {
    "duration": 7055,
    "start_time": "2021-10-15T12:16:44.581Z"
   },
   {
    "duration": 8456,
    "start_time": "2021-10-15T12:17:25.916Z"
   },
   {
    "duration": 9545,
    "start_time": "2021-10-15T12:18:09.596Z"
   },
   {
    "duration": 11867,
    "start_time": "2021-10-15T12:18:46.780Z"
   },
   {
    "duration": 306,
    "start_time": "2021-10-15T12:22:49.668Z"
   },
   {
    "duration": 16,
    "start_time": "2021-10-15T12:24:05.667Z"
   },
   {
    "duration": 19,
    "start_time": "2021-10-15T12:24:09.883Z"
   },
   {
    "duration": 305,
    "start_time": "2021-10-15T12:25:57.069Z"
   },
   {
    "duration": 515,
    "start_time": "2021-10-15T12:26:34.303Z"
   },
   {
    "duration": 19,
    "start_time": "2021-10-15T12:26:40.392Z"
   },
   {
    "duration": 11,
    "start_time": "2021-10-15T12:26:43.348Z"
   },
   {
    "duration": 13,
    "start_time": "2021-10-15T12:28:16.551Z"
   },
   {
    "duration": 289,
    "start_time": "2021-10-15T12:28:32.611Z"
   },
   {
    "duration": 283,
    "start_time": "2021-10-15T12:29:55.899Z"
   },
   {
    "duration": 279,
    "start_time": "2021-10-15T12:30:26.410Z"
   },
   {
    "duration": 279,
    "start_time": "2021-10-15T12:31:01.202Z"
   },
   {
    "duration": 4,
    "start_time": "2021-10-15T12:32:12.888Z"
   },
   {
    "duration": 6,
    "start_time": "2021-10-15T12:32:18.048Z"
   },
   {
    "duration": 6,
    "start_time": "2021-10-15T12:32:36.039Z"
   },
   {
    "duration": 4,
    "start_time": "2021-10-15T12:32:50.538Z"
   },
   {
    "duration": 8,
    "start_time": "2021-10-15T12:32:56.134Z"
   },
   {
    "duration": 267,
    "start_time": "2021-10-15T12:33:21.142Z"
   },
   {
    "duration": 299,
    "start_time": "2021-10-15T12:35:09.420Z"
   },
   {
    "duration": 10,
    "start_time": "2021-10-15T12:35:38.088Z"
   },
   {
    "duration": 279,
    "start_time": "2021-10-15T12:35:42.527Z"
   },
   {
    "duration": 244,
    "start_time": "2021-10-15T12:36:54.161Z"
   },
   {
    "duration": 307,
    "start_time": "2021-10-15T12:37:03.092Z"
   },
   {
    "duration": 10,
    "start_time": "2021-10-15T12:37:52.259Z"
   },
   {
    "duration": 294,
    "start_time": "2021-10-15T12:39:16.116Z"
   },
   {
    "duration": 10,
    "start_time": "2021-10-15T12:40:41.857Z"
   },
   {
    "duration": 317,
    "start_time": "2021-10-15T12:40:52.462Z"
   },
   {
    "duration": 305,
    "start_time": "2021-10-15T12:43:34.698Z"
   },
   {
    "duration": 304,
    "start_time": "2021-10-15T12:43:58.811Z"
   },
   {
    "duration": 293,
    "start_time": "2021-10-15T12:44:56.927Z"
   },
   {
    "duration": 8,
    "start_time": "2021-10-15T12:46:16.426Z"
   },
   {
    "duration": 8,
    "start_time": "2021-10-15T12:46:35.749Z"
   },
   {
    "duration": 285,
    "start_time": "2021-10-15T12:46:43.715Z"
   },
   {
    "duration": 9,
    "start_time": "2021-10-15T12:46:58.681Z"
   },
   {
    "duration": 7,
    "start_time": "2021-10-15T12:47:42.572Z"
   },
   {
    "duration": 429,
    "start_time": "2021-10-15T12:47:50.343Z"
   },
   {
    "duration": 7,
    "start_time": "2021-10-15T12:48:01.820Z"
   },
   {
    "duration": 7,
    "start_time": "2021-10-15T12:48:13.795Z"
   },
   {
    "duration": 268,
    "start_time": "2021-10-15T12:48:23.340Z"
   },
   {
    "duration": 8,
    "start_time": "2021-10-15T12:48:39.942Z"
   },
   {
    "duration": 272,
    "start_time": "2021-10-15T12:48:45.723Z"
   },
   {
    "duration": 100,
    "start_time": "2021-10-15T12:48:56.460Z"
   },
   {
    "duration": 9,
    "start_time": "2021-10-15T12:49:01.948Z"
   },
   {
    "duration": 307,
    "start_time": "2021-10-15T12:50:11.527Z"
   },
   {
    "duration": 313,
    "start_time": "2021-10-15T12:53:48.304Z"
   },
   {
    "duration": 336,
    "start_time": "2021-10-15T12:53:58.994Z"
   },
   {
    "duration": 435,
    "start_time": "2021-10-15T12:54:48.613Z"
   },
   {
    "duration": 249,
    "start_time": "2021-10-15T12:55:13.139Z"
   },
   {
    "duration": 310,
    "start_time": "2021-10-15T12:55:24.384Z"
   },
   {
    "duration": 251,
    "start_time": "2021-10-15T12:56:30.917Z"
   },
   {
    "duration": 7,
    "start_time": "2021-10-15T13:01:15.941Z"
   },
   {
    "duration": 265,
    "start_time": "2021-10-15T13:04:10.942Z"
   },
   {
    "duration": 50,
    "start_time": "2021-10-15T13:04:19.008Z"
   },
   {
    "duration": 884,
    "start_time": "2021-10-15T13:04:24.125Z"
   },
   {
    "duration": 561,
    "start_time": "2021-10-15T13:04:38.865Z"
   },
   {
    "duration": 26,
    "start_time": "2021-10-15T13:08:01.119Z"
   },
   {
    "duration": 63,
    "start_time": "2021-10-15T13:08:28.375Z"
   },
   {
    "duration": 5,
    "start_time": "2021-10-15T13:10:20.059Z"
   },
   {
    "duration": 7,
    "start_time": "2021-10-15T13:11:06.017Z"
   },
   {
    "duration": 10,
    "start_time": "2021-10-15T13:26:36.437Z"
   },
   {
    "duration": 10,
    "start_time": "2021-10-15T13:29:41.963Z"
   },
   {
    "duration": 7,
    "start_time": "2021-10-15T13:30:42.246Z"
   },
   {
    "duration": 10,
    "start_time": "2021-10-15T13:32:19.375Z"
   },
   {
    "duration": 6,
    "start_time": "2021-10-15T13:33:20.645Z"
   },
   {
    "duration": 6,
    "start_time": "2021-10-15T13:33:25.739Z"
   },
   {
    "duration": 1094,
    "start_time": "2021-10-16T09:38:26.751Z"
   },
   {
    "duration": 331,
    "start_time": "2021-10-16T09:41:10.540Z"
   },
   {
    "duration": 337,
    "start_time": "2021-10-16T09:41:23.117Z"
   },
   {
    "duration": 1048,
    "start_time": "2021-10-16T09:41:38.463Z"
   },
   {
    "duration": 47,
    "start_time": "2021-10-16T09:41:39.513Z"
   },
   {
    "duration": 8,
    "start_time": "2021-10-16T09:41:39.562Z"
   },
   {
    "duration": 5,
    "start_time": "2021-10-16T09:41:39.572Z"
   },
   {
    "duration": 42,
    "start_time": "2021-10-16T09:41:39.579Z"
   },
   {
    "duration": 11,
    "start_time": "2021-10-16T09:41:39.623Z"
   },
   {
    "duration": 33,
    "start_time": "2021-10-16T09:41:39.636Z"
   },
   {
    "duration": 20,
    "start_time": "2021-10-16T09:41:39.671Z"
   },
   {
    "duration": 8,
    "start_time": "2021-10-16T09:41:39.693Z"
   },
   {
    "duration": 6864,
    "start_time": "2021-10-16T09:41:39.702Z"
   },
   {
    "duration": 18,
    "start_time": "2021-10-16T09:41:46.568Z"
   },
   {
    "duration": 5,
    "start_time": "2021-10-16T09:41:46.587Z"
   },
   {
    "duration": 13,
    "start_time": "2021-10-16T09:41:46.593Z"
   },
   {
    "duration": 7,
    "start_time": "2021-10-16T09:41:46.607Z"
   },
   {
    "duration": 9,
    "start_time": "2021-10-16T09:41:46.616Z"
   },
   {
    "duration": 457,
    "start_time": "2021-10-16T09:41:46.627Z"
   },
   {
    "duration": 82,
    "start_time": "2021-10-16T09:41:47.085Z"
   },
   {
    "duration": 139,
    "start_time": "2021-10-16T09:41:47.169Z"
   },
   {
    "duration": 6,
    "start_time": "2021-10-16T09:41:47.310Z"
   },
   {
    "duration": 7,
    "start_time": "2021-10-16T09:41:47.318Z"
   },
   {
    "duration": 18,
    "start_time": "2021-10-16T09:42:38.637Z"
   },
   {
    "duration": 52,
    "start_time": "2021-10-16T09:42:47.306Z"
   },
   {
    "duration": 8,
    "start_time": "2021-10-16T09:47:13.625Z"
   },
   {
    "duration": 7,
    "start_time": "2021-10-16T09:48:11.136Z"
   },
   {
    "duration": 358,
    "start_time": "2021-10-16T09:49:10.377Z"
   },
   {
    "duration": 591,
    "start_time": "2021-10-16T09:49:16.907Z"
   },
   {
    "duration": 7,
    "start_time": "2021-10-16T09:49:24.373Z"
   },
   {
    "duration": 616,
    "start_time": "2021-10-16T09:49:26.780Z"
   },
   {
    "duration": 630,
    "start_time": "2021-10-16T09:50:36.778Z"
   },
   {
    "duration": 3,
    "start_time": "2021-10-16T09:56:02.379Z"
   },
   {
    "duration": 4,
    "start_time": "2021-10-16T09:57:42.482Z"
   },
   {
    "duration": 275,
    "start_time": "2021-10-16T10:00:52.523Z"
   },
   {
    "duration": 969,
    "start_time": "2021-10-16T10:01:28.906Z"
   },
   {
    "duration": 277,
    "start_time": "2021-10-16T10:02:22.251Z"
   },
   {
    "duration": 85,
    "start_time": "2021-10-16T10:02:30.165Z"
   },
   {
    "duration": 80,
    "start_time": "2021-10-16T10:03:13.430Z"
   },
   {
    "duration": 323,
    "start_time": "2021-10-16T10:04:32.540Z"
   },
   {
    "duration": 672,
    "start_time": "2021-10-16T10:04:43.442Z"
   },
   {
    "duration": 76,
    "start_time": "2021-10-16T10:05:30.644Z"
   },
   {
    "duration": 74,
    "start_time": "2021-10-16T10:06:02.895Z"
   },
   {
    "duration": 4,
    "start_time": "2021-10-16T10:10:32.834Z"
   },
   {
    "duration": 557,
    "start_time": "2021-10-16T10:10:38.236Z"
   },
   {
    "duration": 4,
    "start_time": "2021-10-16T10:11:16.210Z"
   },
   {
    "duration": 647,
    "start_time": "2021-10-16T10:11:22.539Z"
   },
   {
    "duration": 4,
    "start_time": "2021-10-16T10:11:38.806Z"
   },
   {
    "duration": 256,
    "start_time": "2021-10-16T10:11:40.455Z"
   },
   {
    "duration": 7,
    "start_time": "2021-10-16T10:11:49.935Z"
   },
   {
    "duration": 775,
    "start_time": "2021-10-16T10:11:54.852Z"
   },
   {
    "duration": 4,
    "start_time": "2021-10-16T10:14:34.514Z"
   },
   {
    "duration": 495,
    "start_time": "2021-10-16T10:15:25.699Z"
   },
   {
    "duration": 511,
    "start_time": "2021-10-16T10:16:18.843Z"
   },
   {
    "duration": 292,
    "start_time": "2021-10-16T10:23:46.765Z"
   },
   {
    "duration": 267,
    "start_time": "2021-10-16T10:26:13.322Z"
   },
   {
    "duration": 263,
    "start_time": "2021-10-16T10:27:42.460Z"
   },
   {
    "duration": 259,
    "start_time": "2021-10-16T10:28:10.096Z"
   },
   {
    "duration": 251,
    "start_time": "2021-10-16T10:28:33.923Z"
   },
   {
    "duration": 7,
    "start_time": "2021-10-16T10:28:44.358Z"
   },
   {
    "duration": 12,
    "start_time": "2021-10-16T10:29:02.685Z"
   },
   {
    "duration": 12,
    "start_time": "2021-10-16T10:30:18.455Z"
   },
   {
    "duration": 430,
    "start_time": "2021-10-16T10:30:24.359Z"
   },
   {
    "duration": 29,
    "start_time": "2021-10-16T10:30:28.249Z"
   },
   {
    "duration": 57,
    "start_time": "2021-10-16T10:30:29.219Z"
   },
   {
    "duration": 7,
    "start_time": "2021-10-16T10:30:30.225Z"
   },
   {
    "duration": 712,
    "start_time": "2021-10-16T10:30:30.801Z"
   },
   {
    "duration": 637,
    "start_time": "2021-10-16T10:30:32.279Z"
   },
   {
    "duration": 5,
    "start_time": "2021-10-16T10:30:36.363Z"
   },
   {
    "duration": 5,
    "start_time": "2021-10-16T10:30:54.457Z"
   },
   {
    "duration": 560,
    "start_time": "2021-10-16T10:30:55.272Z"
   },
   {
    "duration": 4,
    "start_time": "2021-10-16T10:31:52.033Z"
   },
   {
    "duration": 518,
    "start_time": "2021-10-16T10:31:52.736Z"
   },
   {
    "duration": 509,
    "start_time": "2021-10-16T10:33:35.383Z"
   },
   {
    "duration": 21,
    "start_time": "2021-10-16T10:34:16.237Z"
   },
   {
    "duration": 66,
    "start_time": "2021-10-16T10:35:16.838Z"
   },
   {
    "duration": 19,
    "start_time": "2021-10-16T10:35:31.715Z"
   },
   {
    "duration": 27,
    "start_time": "2021-10-16T10:37:49.267Z"
   },
   {
    "duration": 371,
    "start_time": "2021-10-16T10:38:26.473Z"
   },
   {
    "duration": 29,
    "start_time": "2021-10-16T10:38:43.002Z"
   },
   {
    "duration": 26,
    "start_time": "2021-10-16T10:38:54.521Z"
   },
   {
    "duration": 20,
    "start_time": "2021-10-16T10:40:39.204Z"
   },
   {
    "duration": 4,
    "start_time": "2021-10-16T10:40:57.390Z"
   },
   {
    "duration": 80,
    "start_time": "2021-10-16T10:40:57.886Z"
   },
   {
    "duration": 572,
    "start_time": "2021-10-16T10:41:01.291Z"
   },
   {
    "duration": 73,
    "start_time": "2021-10-16T10:41:39.407Z"
   },
   {
    "duration": 113,
    "start_time": "2021-10-16T10:41:52.305Z"
   },
   {
    "duration": 74,
    "start_time": "2021-10-16T10:42:27.377Z"
   },
   {
    "duration": 79,
    "start_time": "2021-10-16T10:43:00.766Z"
   },
   {
    "duration": 4,
    "start_time": "2021-10-16T10:45:12.099Z"
   },
   {
    "duration": 77,
    "start_time": "2021-10-16T10:45:14.920Z"
   },
   {
    "duration": 80,
    "start_time": "2021-10-16T10:45:51.734Z"
   },
   {
    "duration": 4,
    "start_time": "2021-10-16T10:46:13.036Z"
   },
   {
    "duration": 72,
    "start_time": "2021-10-16T10:46:13.924Z"
   },
   {
    "duration": 111,
    "start_time": "2021-10-16T10:46:18.474Z"
   },
   {
    "duration": 15,
    "start_time": "2021-10-16T10:47:26.979Z"
   },
   {
    "duration": 7,
    "start_time": "2021-10-16T10:47:29.862Z"
   },
   {
    "duration": 11,
    "start_time": "2021-10-16T10:47:30.175Z"
   },
   {
    "duration": 416,
    "start_time": "2021-10-16T10:47:31.095Z"
   },
   {
    "duration": 25,
    "start_time": "2021-10-16T10:47:31.640Z"
   },
   {
    "duration": 55,
    "start_time": "2021-10-16T10:47:32.318Z"
   },
   {
    "duration": 7,
    "start_time": "2021-10-16T10:47:32.942Z"
   },
   {
    "duration": 617,
    "start_time": "2021-10-16T10:47:33.290Z"
   },
   {
    "duration": 594,
    "start_time": "2021-10-16T10:47:35.518Z"
   },
   {
    "duration": 4,
    "start_time": "2021-10-16T10:47:38.448Z"
   },
   {
    "duration": 12,
    "start_time": "2021-10-16T10:47:39.207Z"
   },
   {
    "duration": 9,
    "start_time": "2021-10-16T10:47:50.415Z"
   },
   {
    "duration": 848,
    "start_time": "2021-10-16T10:47:57.477Z"
   },
   {
    "duration": 5,
    "start_time": "2021-10-16T10:48:43.454Z"
   },
   {
    "duration": 547,
    "start_time": "2021-10-16T10:48:43.841Z"
   },
   {
    "duration": 4,
    "start_time": "2021-10-16T10:55:09.585Z"
   },
   {
    "duration": 278,
    "start_time": "2021-10-16T10:58:15.455Z"
   },
   {
    "duration": 280,
    "start_time": "2021-10-16T10:58:44.584Z"
   },
   {
    "duration": 25,
    "start_time": "2021-10-16T10:59:20.151Z"
   },
   {
    "duration": 167,
    "start_time": "2021-10-16T11:11:21.900Z"
   },
   {
    "duration": 223,
    "start_time": "2021-10-16T11:11:33.354Z"
   },
   {
    "duration": 214,
    "start_time": "2021-10-16T11:11:42.479Z"
   },
   {
    "duration": 45,
    "start_time": "2021-10-16T11:12:34.644Z"
   },
   {
    "duration": 59,
    "start_time": "2021-10-16T11:12:43.459Z"
   },
   {
    "duration": 88,
    "start_time": "2021-10-16T11:12:53.222Z"
   },
   {
    "duration": 255,
    "start_time": "2021-10-16T11:14:43.159Z"
   },
   {
    "duration": 72,
    "start_time": "2021-10-16T11:14:59.947Z"
   },
   {
    "duration": 89,
    "start_time": "2021-10-16T11:15:39.443Z"
   },
   {
    "duration": 86,
    "start_time": "2021-10-16T11:16:00.509Z"
   },
   {
    "duration": 87,
    "start_time": "2021-10-16T11:16:20.207Z"
   },
   {
    "duration": 71,
    "start_time": "2021-10-16T11:16:28.848Z"
   },
   {
    "duration": 460,
    "start_time": "2021-10-16T11:19:50.512Z"
   },
   {
    "duration": 27,
    "start_time": "2021-10-16T11:20:18.674Z"
   },
   {
    "duration": 73,
    "start_time": "2021-10-16T11:21:29.325Z"
   },
   {
    "duration": 28,
    "start_time": "2021-10-16T11:21:33.244Z"
   },
   {
    "duration": 4,
    "start_time": "2021-10-16T15:28:56.625Z"
   },
   {
    "duration": 242,
    "start_time": "2021-10-16T15:30:18.847Z"
   },
   {
    "duration": 4,
    "start_time": "2021-10-16T15:30:46.476Z"
   },
   {
    "duration": 6,
    "start_time": "2021-10-16T15:30:59.491Z"
   },
   {
    "duration": 250,
    "start_time": "2021-10-16T15:33:21.989Z"
   },
   {
    "duration": 7,
    "start_time": "2021-10-16T15:34:19.714Z"
   },
   {
    "duration": 292,
    "start_time": "2021-10-16T15:36:12.384Z"
   },
   {
    "duration": 4,
    "start_time": "2021-10-16T15:36:26.860Z"
   },
   {
    "duration": 159,
    "start_time": "2021-10-16T15:36:37.303Z"
   },
   {
    "duration": 71,
    "start_time": "2021-10-16T15:47:45.656Z"
   },
   {
    "duration": 85,
    "start_time": "2021-10-16T15:48:17.119Z"
   },
   {
    "duration": 26,
    "start_time": "2021-10-16T15:48:40.503Z"
   },
   {
    "duration": 25,
    "start_time": "2021-10-16T15:48:46.088Z"
   },
   {
    "duration": 26,
    "start_time": "2021-10-16T15:48:58.014Z"
   },
   {
    "duration": 25,
    "start_time": "2021-10-16T15:49:06.028Z"
   },
   {
    "duration": 26,
    "start_time": "2021-10-16T15:55:01.469Z"
   },
   {
    "duration": 7,
    "start_time": "2021-10-16T16:11:55.833Z"
   },
   {
    "duration": 12,
    "start_time": "2021-10-16T16:13:54.546Z"
   },
   {
    "duration": 1206,
    "start_time": "2021-10-16T16:14:46.181Z"
   },
   {
    "duration": 44,
    "start_time": "2021-10-16T16:14:47.389Z"
   },
   {
    "duration": 9,
    "start_time": "2021-10-16T16:14:47.438Z"
   },
   {
    "duration": 15,
    "start_time": "2021-10-16T16:14:47.448Z"
   },
   {
    "duration": 39,
    "start_time": "2021-10-16T16:14:47.466Z"
   },
   {
    "duration": 11,
    "start_time": "2021-10-16T16:14:47.507Z"
   },
   {
    "duration": 12,
    "start_time": "2021-10-16T16:14:47.521Z"
   },
   {
    "duration": 22,
    "start_time": "2021-10-16T16:14:47.564Z"
   },
   {
    "duration": 9,
    "start_time": "2021-10-16T16:14:47.588Z"
   },
   {
    "duration": 7119,
    "start_time": "2021-10-16T16:14:47.598Z"
   },
   {
    "duration": 17,
    "start_time": "2021-10-16T16:14:54.719Z"
   },
   {
    "duration": 5,
    "start_time": "2021-10-16T16:14:54.738Z"
   },
   {
    "duration": 34,
    "start_time": "2021-10-16T16:14:54.744Z"
   },
   {
    "duration": 27,
    "start_time": "2021-10-16T16:14:54.780Z"
   },
   {
    "duration": 7,
    "start_time": "2021-10-16T16:14:54.809Z"
   },
   {
    "duration": 3,
    "start_time": "2021-10-16T16:14:54.817Z"
   },
   {
    "duration": 459,
    "start_time": "2021-10-16T16:14:54.821Z"
   },
   {
    "duration": 86,
    "start_time": "2021-10-16T16:14:55.281Z"
   },
   {
    "duration": 147,
    "start_time": "2021-10-16T16:14:55.370Z"
   },
   {
    "duration": 8,
    "start_time": "2021-10-16T16:14:55.518Z"
   },
   {
    "duration": 672,
    "start_time": "2021-10-16T16:14:55.527Z"
   },
   {
    "duration": 700,
    "start_time": "2021-10-16T16:14:56.202Z"
   },
   {
    "duration": 3,
    "start_time": "2021-10-16T16:14:56.904Z"
   },
   {
    "duration": 812,
    "start_time": "2021-10-16T16:14:56.909Z"
   },
   {
    "duration": 4,
    "start_time": "2021-10-16T16:14:57.722Z"
   },
   {
    "duration": 453,
    "start_time": "2021-10-16T16:14:57.728Z"
   },
   {
    "duration": 96,
    "start_time": "2021-10-16T16:14:58.183Z"
   },
   {
    "duration": 25,
    "start_time": "2021-10-16T16:14:58.281Z"
   },
   {
    "duration": 188,
    "start_time": "2021-10-16T16:14:58.308Z"
   },
   {
    "duration": 26,
    "start_time": "2021-10-16T16:16:38.475Z"
   },
   {
    "duration": 157,
    "start_time": "2021-10-16T16:16:39.346Z"
   },
   {
    "duration": 1165,
    "start_time": "2021-10-16T16:18:04.119Z"
   },
   {
    "duration": 46,
    "start_time": "2021-10-16T16:18:05.286Z"
   },
   {
    "duration": 10,
    "start_time": "2021-10-16T16:18:05.338Z"
   },
   {
    "duration": 19,
    "start_time": "2021-10-16T16:18:05.350Z"
   },
   {
    "duration": 38,
    "start_time": "2021-10-16T16:18:05.370Z"
   },
   {
    "duration": 11,
    "start_time": "2021-10-16T16:18:05.410Z"
   },
   {
    "duration": 11,
    "start_time": "2021-10-16T16:18:05.424Z"
   },
   {
    "duration": 43,
    "start_time": "2021-10-16T16:18:05.437Z"
   },
   {
    "duration": 9,
    "start_time": "2021-10-16T16:18:05.482Z"
   },
   {
    "duration": 8093,
    "start_time": "2021-10-16T16:18:05.493Z"
   },
   {
    "duration": 18,
    "start_time": "2021-10-16T16:18:13.588Z"
   },
   {
    "duration": 4,
    "start_time": "2021-10-16T16:18:13.608Z"
   },
   {
    "duration": 16,
    "start_time": "2021-10-16T16:18:13.614Z"
   },
   {
    "duration": 32,
    "start_time": "2021-10-16T16:18:13.631Z"
   },
   {
    "duration": 8,
    "start_time": "2021-10-16T16:18:13.665Z"
   },
   {
    "duration": 11,
    "start_time": "2021-10-16T16:18:13.675Z"
   },
   {
    "duration": 455,
    "start_time": "2021-10-16T16:18:13.688Z"
   },
   {
    "duration": 33,
    "start_time": "2021-10-16T16:18:14.146Z"
   },
   {
    "duration": 151,
    "start_time": "2021-10-16T16:18:14.265Z"
   },
   {
    "duration": 7,
    "start_time": "2021-10-16T16:18:14.418Z"
   },
   {
    "duration": 674,
    "start_time": "2021-10-16T16:18:14.427Z"
   },
   {
    "duration": 666,
    "start_time": "2021-10-16T16:18:15.103Z"
   },
   {
    "duration": 3,
    "start_time": "2021-10-16T16:18:15.772Z"
   },
   {
    "duration": 837,
    "start_time": "2021-10-16T16:18:15.777Z"
   },
   {
    "duration": 5,
    "start_time": "2021-10-16T16:18:16.616Z"
   },
   {
    "duration": 462,
    "start_time": "2021-10-16T16:18:16.623Z"
   },
   {
    "duration": 87,
    "start_time": "2021-10-16T16:18:17.086Z"
   },
   {
    "duration": 27,
    "start_time": "2021-10-16T16:18:17.175Z"
   },
   {
    "duration": 181,
    "start_time": "2021-10-16T16:18:17.203Z"
   },
   {
    "duration": 1195,
    "start_time": "2021-10-16T16:20:43.889Z"
   },
   {
    "duration": 44,
    "start_time": "2021-10-16T16:20:45.087Z"
   },
   {
    "duration": 8,
    "start_time": "2021-10-16T16:20:45.135Z"
   },
   {
    "duration": 5,
    "start_time": "2021-10-16T16:20:45.145Z"
   },
   {
    "duration": 37,
    "start_time": "2021-10-16T16:20:45.163Z"
   },
   {
    "duration": 10,
    "start_time": "2021-10-16T16:20:45.202Z"
   },
   {
    "duration": 15,
    "start_time": "2021-10-16T16:20:45.214Z"
   },
   {
    "duration": 44,
    "start_time": "2021-10-16T16:20:45.231Z"
   },
   {
    "duration": 8,
    "start_time": "2021-10-16T16:20:45.277Z"
   },
   {
    "duration": 7397,
    "start_time": "2021-10-16T16:20:45.287Z"
   },
   {
    "duration": 19,
    "start_time": "2021-10-16T16:20:52.687Z"
   },
   {
    "duration": 20,
    "start_time": "2021-10-16T16:20:52.709Z"
   },
   {
    "duration": 33,
    "start_time": "2021-10-16T16:20:52.731Z"
   },
   {
    "duration": 30,
    "start_time": "2021-10-16T16:20:52.765Z"
   },
   {
    "duration": 7,
    "start_time": "2021-10-16T16:20:52.797Z"
   },
   {
    "duration": 3,
    "start_time": "2021-10-16T16:20:52.806Z"
   },
   {
    "duration": 454,
    "start_time": "2021-10-16T16:20:52.811Z"
   },
   {
    "duration": 99,
    "start_time": "2021-10-16T16:20:53.268Z"
   },
   {
    "duration": 145,
    "start_time": "2021-10-16T16:20:53.370Z"
   },
   {
    "duration": 7,
    "start_time": "2021-10-16T16:20:53.517Z"
   },
   {
    "duration": 674,
    "start_time": "2021-10-16T16:20:53.526Z"
   },
   {
    "duration": 711,
    "start_time": "2021-10-16T16:20:54.203Z"
   },
   {
    "duration": 5,
    "start_time": "2021-10-16T16:20:54.916Z"
   },
   {
    "duration": 894,
    "start_time": "2021-10-16T16:20:54.922Z"
   },
   {
    "duration": 3,
    "start_time": "2021-10-16T16:20:55.818Z"
   },
   {
    "duration": 458,
    "start_time": "2021-10-16T16:20:55.823Z"
   },
   {
    "duration": 91,
    "start_time": "2021-10-16T16:20:56.282Z"
   },
   {
    "duration": 25,
    "start_time": "2021-10-16T16:20:56.375Z"
   },
   {
    "duration": 175,
    "start_time": "2021-10-16T16:20:56.402Z"
   },
   {
    "duration": 22,
    "start_time": "2021-10-16T16:21:57.792Z"
   },
   {
    "duration": 1135,
    "start_time": "2021-10-16T16:22:03.703Z"
   },
   {
    "duration": 44,
    "start_time": "2021-10-16T16:22:04.840Z"
   },
   {
    "duration": 8,
    "start_time": "2021-10-16T16:22:04.886Z"
   },
   {
    "duration": 6,
    "start_time": "2021-10-16T16:22:04.896Z"
   },
   {
    "duration": 38,
    "start_time": "2021-10-16T16:22:04.903Z"
   },
   {
    "duration": 28,
    "start_time": "2021-10-16T16:22:04.943Z"
   },
   {
    "duration": 12,
    "start_time": "2021-10-16T16:22:04.973Z"
   },
   {
    "duration": 22,
    "start_time": "2021-10-16T16:22:04.987Z"
   },
   {
    "duration": 8,
    "start_time": "2021-10-16T16:22:05.011Z"
   },
   {
    "duration": 6679,
    "start_time": "2021-10-16T16:22:05.021Z"
   },
   {
    "duration": 17,
    "start_time": "2021-10-16T16:22:11.701Z"
   },
   {
    "duration": 4,
    "start_time": "2021-10-16T16:22:11.720Z"
   },
   {
    "duration": 40,
    "start_time": "2021-10-16T16:22:11.725Z"
   },
   {
    "duration": 33,
    "start_time": "2021-10-16T16:22:11.767Z"
   },
   {
    "duration": 7,
    "start_time": "2021-10-16T16:22:11.801Z"
   },
   {
    "duration": 4,
    "start_time": "2021-10-16T16:22:11.809Z"
   },
   {
    "duration": 440,
    "start_time": "2021-10-16T16:22:11.814Z"
   },
   {
    "duration": 25,
    "start_time": "2021-10-16T16:22:12.256Z"
   },
   {
    "duration": 144,
    "start_time": "2021-10-16T16:22:12.365Z"
   },
   {
    "duration": 8,
    "start_time": "2021-10-16T16:22:12.510Z"
   },
   {
    "duration": 681,
    "start_time": "2021-10-16T16:22:12.519Z"
   },
   {
    "duration": 702,
    "start_time": "2021-10-16T16:22:13.202Z"
   },
   {
    "duration": 3,
    "start_time": "2021-10-16T16:22:13.907Z"
   },
   {
    "duration": 814,
    "start_time": "2021-10-16T16:22:13.912Z"
   },
   {
    "duration": 5,
    "start_time": "2021-10-16T16:22:14.729Z"
   },
   {
    "duration": 445,
    "start_time": "2021-10-16T16:22:14.736Z"
   },
   {
    "duration": 88,
    "start_time": "2021-10-16T16:22:15.183Z"
   },
   {
    "duration": 27,
    "start_time": "2021-10-16T16:22:15.273Z"
   },
   {
    "duration": 190,
    "start_time": "2021-10-16T16:22:15.302Z"
   },
   {
    "duration": 6778,
    "start_time": "2021-10-16T16:23:10.485Z"
   },
   {
    "duration": 1162,
    "start_time": "2021-10-16T16:26:27.147Z"
   },
   {
    "duration": 47,
    "start_time": "2021-10-16T16:26:28.311Z"
   },
   {
    "duration": 10,
    "start_time": "2021-10-16T16:26:28.361Z"
   },
   {
    "duration": 22,
    "start_time": "2021-10-16T16:26:28.373Z"
   },
   {
    "duration": 50,
    "start_time": "2021-10-16T16:26:28.397Z"
   },
   {
    "duration": 10,
    "start_time": "2021-10-16T16:26:28.449Z"
   },
   {
    "duration": 14,
    "start_time": "2021-10-16T16:26:28.463Z"
   },
   {
    "duration": 27,
    "start_time": "2021-10-16T16:26:28.480Z"
   },
   {
    "duration": 8,
    "start_time": "2021-10-16T16:26:28.509Z"
   },
   {
    "duration": 7431,
    "start_time": "2021-10-16T16:26:28.519Z"
   },
   {
    "duration": 20,
    "start_time": "2021-10-16T16:26:35.952Z"
   },
   {
    "duration": 6,
    "start_time": "2021-10-16T16:26:35.974Z"
   },
   {
    "duration": 17,
    "start_time": "2021-10-16T16:26:35.981Z"
   },
   {
    "duration": 72,
    "start_time": "2021-10-16T16:26:36.000Z"
   },
   {
    "duration": 7,
    "start_time": "2021-10-16T16:26:36.073Z"
   },
   {
    "duration": 423,
    "start_time": "2021-10-16T16:26:36.081Z"
   },
   {
    "duration": 17,
    "start_time": "2021-10-16T16:26:36.506Z"
   },
   {
    "duration": 143,
    "start_time": "2021-10-16T16:26:36.565Z"
   },
   {
    "duration": 8,
    "start_time": "2021-10-16T16:26:36.709Z"
   },
   {
    "duration": 681,
    "start_time": "2021-10-16T16:26:36.719Z"
   },
   {
    "duration": 674,
    "start_time": "2021-10-16T16:26:37.402Z"
   },
   {
    "duration": 3,
    "start_time": "2021-10-16T16:26:38.079Z"
   },
   {
    "duration": 833,
    "start_time": "2021-10-16T16:26:38.085Z"
   },
   {
    "duration": 4,
    "start_time": "2021-10-16T16:26:38.920Z"
   },
   {
    "duration": 455,
    "start_time": "2021-10-16T16:26:38.926Z"
   },
   {
    "duration": 84,
    "start_time": "2021-10-16T16:26:39.383Z"
   },
   {
    "duration": 27,
    "start_time": "2021-10-16T16:26:39.469Z"
   },
   {
    "duration": 178,
    "start_time": "2021-10-16T16:26:39.498Z"
   },
   {
    "duration": 1164,
    "start_time": "2021-10-17T05:04:35.019Z"
   },
   {
    "duration": 42,
    "start_time": "2021-10-17T05:04:36.185Z"
   },
   {
    "duration": 8,
    "start_time": "2021-10-17T05:05:28.831Z"
   },
   {
    "duration": 5,
    "start_time": "2021-10-17T05:05:34.921Z"
   },
   {
    "duration": 40,
    "start_time": "2021-10-17T05:05:35.583Z"
   },
   {
    "duration": 11,
    "start_time": "2021-10-17T05:06:49.868Z"
   },
   {
    "duration": 12,
    "start_time": "2021-10-17T05:08:02.464Z"
   },
   {
    "duration": 21,
    "start_time": "2021-10-17T05:08:44.335Z"
   },
   {
    "duration": 9,
    "start_time": "2021-10-17T05:09:17.111Z"
   },
   {
    "duration": 6554,
    "start_time": "2021-10-17T05:09:45.401Z"
   },
   {
    "duration": 18,
    "start_time": "2021-10-17T05:10:44.559Z"
   },
   {
    "duration": 5,
    "start_time": "2021-10-17T05:14:25.169Z"
   },
   {
    "duration": 16,
    "start_time": "2021-10-17T05:15:14.153Z"
   },
   {
    "duration": 34,
    "start_time": "2021-10-17T05:15:56.527Z"
   },
   {
    "duration": 7,
    "start_time": "2021-10-17T05:15:57.023Z"
   },
   {
    "duration": 409,
    "start_time": "2021-10-17T05:17:18.808Z"
   },
   {
    "duration": 22,
    "start_time": "2021-10-17T05:17:20.468Z"
   },
   {
    "duration": 55,
    "start_time": "2021-10-17T05:17:23.331Z"
   },
   {
    "duration": 7,
    "start_time": "2021-10-17T05:17:28.698Z"
   },
   {
    "duration": 599,
    "start_time": "2021-10-17T05:17:29.599Z"
   },
   {
    "duration": 661,
    "start_time": "2021-10-17T05:24:12.736Z"
   },
   {
    "duration": 4,
    "start_time": "2021-10-17T05:25:02.017Z"
   },
   {
    "duration": 392,
    "start_time": "2021-10-17T05:25:02.792Z"
   },
   {
    "duration": 70,
    "start_time": "2021-10-17T05:25:03.946Z"
   },
   {
    "duration": 26,
    "start_time": "2021-10-17T05:25:04.570Z"
   },
   {
    "duration": 165,
    "start_time": "2021-10-17T05:25:04.759Z"
   },
   {
    "duration": 27,
    "start_time": "2021-10-17T05:27:42.849Z"
   },
   {
    "duration": 169,
    "start_time": "2021-10-17T05:27:43.712Z"
   },
   {
    "duration": 1077,
    "start_time": "2021-10-22T11:16:28.300Z"
   },
   {
    "duration": 43,
    "start_time": "2021-10-22T11:16:29.379Z"
   },
   {
    "duration": 9,
    "start_time": "2021-10-22T11:16:30.402Z"
   },
   {
    "duration": 5,
    "start_time": "2021-10-22T11:16:30.834Z"
   },
   {
    "duration": 38,
    "start_time": "2021-10-22T11:16:31.738Z"
   },
   {
    "duration": 10,
    "start_time": "2021-10-22T11:16:32.689Z"
   },
   {
    "duration": 12,
    "start_time": "2021-10-22T11:16:33.302Z"
   },
   {
    "duration": 21,
    "start_time": "2021-10-22T11:16:33.997Z"
   },
   {
    "duration": 9,
    "start_time": "2021-10-22T11:16:34.698Z"
   },
   {
    "duration": 6359,
    "start_time": "2021-10-22T11:16:35.602Z"
   },
   {
    "duration": 29,
    "start_time": "2021-10-22T11:16:41.963Z"
   },
   {
    "duration": 4,
    "start_time": "2021-10-22T11:16:41.994Z"
   },
   {
    "duration": 15,
    "start_time": "2021-10-22T11:16:41.999Z"
   },
   {
    "duration": 30,
    "start_time": "2021-10-22T11:16:42.016Z"
   },
   {
    "duration": 6,
    "start_time": "2021-10-22T11:16:42.048Z"
   },
   {
    "duration": 15,
    "start_time": "2021-10-22T11:17:25.944Z"
   },
   {
    "duration": 7,
    "start_time": "2021-10-22T11:17:27.543Z"
   },
   {
    "duration": 393,
    "start_time": "2021-10-22T11:17:29.076Z"
   },
   {
    "duration": 23,
    "start_time": "2021-10-22T11:17:29.471Z"
   },
   {
    "duration": 54,
    "start_time": "2021-10-22T11:17:29.719Z"
   },
   {
    "duration": 7,
    "start_time": "2021-10-22T11:17:30.053Z"
   },
   {
    "duration": 565,
    "start_time": "2021-10-22T11:17:30.263Z"
   },
   {
    "duration": 581,
    "start_time": "2021-10-22T11:17:31.153Z"
   },
   {
    "duration": 4,
    "start_time": "2021-10-22T11:17:32.706Z"
   },
   {
    "duration": 749,
    "start_time": "2021-10-22T11:17:32.894Z"
   },
   {
    "duration": 4,
    "start_time": "2021-10-22T11:17:33.691Z"
   },
   {
    "duration": 399,
    "start_time": "2021-10-22T11:17:34.006Z"
   },
   {
    "duration": 71,
    "start_time": "2021-10-22T11:17:34.773Z"
   },
   {
    "duration": 24,
    "start_time": "2021-10-22T11:17:35.498Z"
   },
   {
    "duration": 168,
    "start_time": "2021-10-22T11:17:35.667Z"
   },
   {
    "duration": 6787,
    "start_time": "2021-10-22T11:18:03.713Z"
   },
   {
    "duration": 19,
    "start_time": "2021-10-22T11:18:10.502Z"
   },
   {
    "duration": 4,
    "start_time": "2021-10-22T11:18:10.522Z"
   },
   {
    "duration": 14,
    "start_time": "2021-10-22T11:18:10.527Z"
   },
   {
    "duration": 53,
    "start_time": "2021-10-22T11:18:10.543Z"
   },
   {
    "duration": 7,
    "start_time": "2021-10-22T11:18:10.598Z"
   },
   {
    "duration": 409,
    "start_time": "2021-10-22T11:18:10.607Z"
   },
   {
    "duration": 76,
    "start_time": "2021-10-22T11:18:11.018Z"
   },
   {
    "duration": 139,
    "start_time": "2021-10-22T11:18:11.097Z"
   },
   {
    "duration": 7,
    "start_time": "2021-10-22T11:18:11.237Z"
   },
   {
    "duration": 581,
    "start_time": "2021-10-22T11:18:11.245Z"
   },
   {
    "duration": 603,
    "start_time": "2021-10-22T11:18:11.828Z"
   },
   {
    "duration": 3,
    "start_time": "2021-10-22T11:18:12.433Z"
   },
   {
    "duration": 798,
    "start_time": "2021-10-22T11:18:12.438Z"
   },
   {
    "duration": 3,
    "start_time": "2021-10-22T11:18:13.239Z"
   },
   {
    "duration": 366,
    "start_time": "2021-10-22T11:18:13.244Z"
   },
   {
    "duration": 67,
    "start_time": "2021-10-22T11:18:13.810Z"
   },
   {
    "duration": 28,
    "start_time": "2021-10-22T11:18:14.592Z"
   },
   {
    "duration": 155,
    "start_time": "2021-10-22T11:18:15.080Z"
   },
   {
    "duration": 62,
    "start_time": "2021-10-22T11:18:49.203Z"
   },
   {
    "duration": 59,
    "start_time": "2021-10-22T11:19:08.145Z"
   },
   {
    "duration": 65,
    "start_time": "2021-10-22T11:19:23.209Z"
   },
   {
    "duration": 16,
    "start_time": "2021-10-22T11:28:16.130Z"
   },
   {
    "duration": 16,
    "start_time": "2021-10-22T11:28:25.028Z"
   },
   {
    "duration": 181,
    "start_time": "2021-10-22T11:29:57.082Z"
   },
   {
    "duration": 173,
    "start_time": "2021-10-22T11:31:26.130Z"
   },
   {
    "duration": 268,
    "start_time": "2021-10-22T11:31:42.843Z"
   },
   {
    "duration": 187,
    "start_time": "2021-10-22T11:32:37.569Z"
   },
   {
    "duration": 314,
    "start_time": "2021-10-22T11:32:43.956Z"
   },
   {
    "duration": 181,
    "start_time": "2021-10-22T11:32:51.958Z"
   },
   {
    "duration": 195,
    "start_time": "2021-10-22T11:32:57.202Z"
   },
   {
    "duration": 378,
    "start_time": "2021-10-22T11:33:25.798Z"
   },
   {
    "duration": 197,
    "start_time": "2021-10-22T11:34:58.905Z"
   },
   {
    "duration": 219,
    "start_time": "2021-10-22T11:35:09.423Z"
   },
   {
    "duration": 224,
    "start_time": "2021-10-22T11:35:21.272Z"
   },
   {
    "duration": 199,
    "start_time": "2021-10-22T11:45:26.719Z"
   },
   {
    "duration": 1743,
    "start_time": "2021-10-22T11:45:41.949Z"
   },
   {
    "duration": 4479,
    "start_time": "2021-10-22T12:06:51.685Z"
   },
   {
    "duration": 5283,
    "start_time": "2021-10-22T12:07:44.685Z"
   },
   {
    "duration": 4385,
    "start_time": "2021-10-22T12:08:49.334Z"
   },
   {
    "duration": 173,
    "start_time": "2021-10-22T12:10:14.464Z"
   },
   {
    "duration": 6579,
    "start_time": "2021-10-22T12:10:24.612Z"
   }
  ],
  "kernelspec": {
   "display_name": "Python 3 (ipykernel)",
   "language": "python",
   "name": "python3"
  },
  "language_info": {
   "codemirror_mode": {
    "name": "ipython",
    "version": 3
   },
   "file_extension": ".py",
   "mimetype": "text/x-python",
   "name": "python",
   "nbconvert_exporter": "python",
   "pygments_lexer": "ipython3",
   "version": "3.9.7"
  },
  "toc": {
   "base_numbering": 1,
   "nav_menu": {},
   "number_sections": true,
   "sideBar": true,
   "skip_h1_title": true,
   "title_cell": "Содержание",
   "title_sidebar": "Contents",
   "toc_cell": true,
   "toc_position": {},
   "toc_section_display": true,
   "toc_window_display": true
  }
 },
 "nbformat": 4,
 "nbformat_minor": 4
}
