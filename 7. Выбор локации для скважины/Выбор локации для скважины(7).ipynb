{
 "cells": [
  {
   "cell_type": "markdown",
   "metadata": {},
   "source": [
    "# Выбор локации для скважины"
   ]
  },
  {
   "cell_type": "markdown",
   "metadata": {},
   "source": [
    "Допустим, вы работаете в добывающей компании «ГлавРосГосНефть». Нужно решить, где бурить новую скважину.\n",
    "\n",
    "Вам предоставлены пробы нефти в трёх регионах: в каждом 10 000 месторождений, где измерили качество нефти и объём её запасов. Постройте модель машинного обучения, которая поможет определить регион, где добыча принесёт наибольшую прибыль. Проанализируйте возможную прибыль и риски техникой *Bootstrap.*\n",
    "\n",
    "Шаги для выбора локации:\n",
    "\n",
    "- В избранном регионе ищут месторождения, для каждого определяют значения признаков;\n",
    "- Строят модель и оценивают объём запасов;\n",
    "- Выбирают месторождения с самым высокими оценками значений. Количество месторождений зависит от бюджета компании и стоимости разработки одной скважины;\n",
    "- Прибыль равна суммарной прибыли отобранных месторождений."
   ]
  },
  {
   "cell_type": "markdown",
   "metadata": {},
   "source": [
    "## Загрузка и подготовка данных"
   ]
  },
  {
   "cell_type": "markdown",
   "metadata": {},
   "source": [
    "### Загрузка и первичный анализ"
   ]
  },
  {
   "cell_type": "code",
   "execution_count": 1,
   "metadata": {},
   "outputs": [],
   "source": [
    "import pandas as pd\n",
    "import numpy as np\n",
    "from sklearn.preprocessing import StandardScaler \n",
    "from sklearn.model_selection import train_test_split\n",
    "from sklearn.linear_model import LinearRegression\n",
    "from sklearn.metrics import mean_squared_error\n",
    "from sklearn.model_selection import cross_val_score\n",
    "from sklearn.linear_model import SGDRegressor\n",
    "from sklearn.preprocessing import PolynomialFeatures\n",
    "from scipy import stats as st\n",
    "import matplotlib.pyplot as plt"
   ]
  },
  {
   "cell_type": "code",
   "execution_count": 2,
   "metadata": {},
   "outputs": [],
   "source": [
    "data_reg = []\n",
    "data_reg.append(pd.read_csv(\"/datasets/geo_data_0.csv\"))\n",
    "data_reg.append(pd.read_csv(\"/datasets/geo_data_1.csv\"))\n",
    "data_reg.append(pd.read_csv(\"/datasets/geo_data_2.csv\"))"
   ]
  },
  {
   "cell_type": "code",
   "execution_count": 3,
   "metadata": {},
   "outputs": [
    {
     "name": "stdout",
     "output_type": "stream",
     "text": [
      "<class 'pandas.core.frame.DataFrame'>\n",
      "RangeIndex: 100000 entries, 0 to 99999\n",
      "Data columns (total 5 columns):\n",
      "id         100000 non-null object\n",
      "f0         100000 non-null float64\n",
      "f1         100000 non-null float64\n",
      "f2         100000 non-null float64\n",
      "product    100000 non-null float64\n",
      "dtypes: float64(4), object(1)\n",
      "memory usage: 3.8+ MB\n"
     ]
    }
   ],
   "source": [
    "data_reg[0].info()"
   ]
  },
  {
   "cell_type": "code",
   "execution_count": 4,
   "metadata": {},
   "outputs": [
    {
     "name": "stdout",
     "output_type": "stream",
     "text": [
      "<class 'pandas.core.frame.DataFrame'>\n",
      "RangeIndex: 100000 entries, 0 to 99999\n",
      "Data columns (total 5 columns):\n",
      "id         100000 non-null object\n",
      "f0         100000 non-null float64\n",
      "f1         100000 non-null float64\n",
      "f2         100000 non-null float64\n",
      "product    100000 non-null float64\n",
      "dtypes: float64(4), object(1)\n",
      "memory usage: 3.8+ MB\n"
     ]
    }
   ],
   "source": [
    "data_reg[1].info()"
   ]
  },
  {
   "cell_type": "code",
   "execution_count": 5,
   "metadata": {},
   "outputs": [
    {
     "name": "stdout",
     "output_type": "stream",
     "text": [
      "<class 'pandas.core.frame.DataFrame'>\n",
      "RangeIndex: 100000 entries, 0 to 99999\n",
      "Data columns (total 5 columns):\n",
      "id         100000 non-null object\n",
      "f0         100000 non-null float64\n",
      "f1         100000 non-null float64\n",
      "f2         100000 non-null float64\n",
      "product    100000 non-null float64\n",
      "dtypes: float64(4), object(1)\n",
      "memory usage: 3.8+ MB\n"
     ]
    }
   ],
   "source": [
    "data_reg[2].info()"
   ]
  },
  {
   "cell_type": "code",
   "execution_count": 6,
   "metadata": {},
   "outputs": [
    {
     "data": {
      "text/html": [
       "<div>\n",
       "<style scoped>\n",
       "    .dataframe tbody tr th:only-of-type {\n",
       "        vertical-align: middle;\n",
       "    }\n",
       "\n",
       "    .dataframe tbody tr th {\n",
       "        vertical-align: top;\n",
       "    }\n",
       "\n",
       "    .dataframe thead th {\n",
       "        text-align: right;\n",
       "    }\n",
       "</style>\n",
       "<table border=\"1\" class=\"dataframe\">\n",
       "  <thead>\n",
       "    <tr style=\"text-align: right;\">\n",
       "      <th></th>\n",
       "      <th>f0</th>\n",
       "      <th>f1</th>\n",
       "      <th>f2</th>\n",
       "      <th>product</th>\n",
       "    </tr>\n",
       "  </thead>\n",
       "  <tbody>\n",
       "    <tr>\n",
       "      <td>count</td>\n",
       "      <td>100000.000000</td>\n",
       "      <td>100000.000000</td>\n",
       "      <td>100000.000000</td>\n",
       "      <td>100000.000000</td>\n",
       "    </tr>\n",
       "    <tr>\n",
       "      <td>mean</td>\n",
       "      <td>0.500419</td>\n",
       "      <td>0.250143</td>\n",
       "      <td>2.502647</td>\n",
       "      <td>92.500000</td>\n",
       "    </tr>\n",
       "    <tr>\n",
       "      <td>std</td>\n",
       "      <td>0.871832</td>\n",
       "      <td>0.504433</td>\n",
       "      <td>3.248248</td>\n",
       "      <td>44.288691</td>\n",
       "    </tr>\n",
       "    <tr>\n",
       "      <td>min</td>\n",
       "      <td>-1.408605</td>\n",
       "      <td>-0.848218</td>\n",
       "      <td>-12.088328</td>\n",
       "      <td>0.000000</td>\n",
       "    </tr>\n",
       "    <tr>\n",
       "      <td>25%</td>\n",
       "      <td>-0.072580</td>\n",
       "      <td>-0.200881</td>\n",
       "      <td>0.287748</td>\n",
       "      <td>56.497507</td>\n",
       "    </tr>\n",
       "    <tr>\n",
       "      <td>50%</td>\n",
       "      <td>0.502360</td>\n",
       "      <td>0.250252</td>\n",
       "      <td>2.515969</td>\n",
       "      <td>91.849972</td>\n",
       "    </tr>\n",
       "    <tr>\n",
       "      <td>75%</td>\n",
       "      <td>1.073581</td>\n",
       "      <td>0.700646</td>\n",
       "      <td>4.715088</td>\n",
       "      <td>128.564089</td>\n",
       "    </tr>\n",
       "    <tr>\n",
       "      <td>max</td>\n",
       "      <td>2.362331</td>\n",
       "      <td>1.343769</td>\n",
       "      <td>16.003790</td>\n",
       "      <td>185.364347</td>\n",
       "    </tr>\n",
       "  </tbody>\n",
       "</table>\n",
       "</div>"
      ],
      "text/plain": [
       "                  f0             f1             f2        product\n",
       "count  100000.000000  100000.000000  100000.000000  100000.000000\n",
       "mean        0.500419       0.250143       2.502647      92.500000\n",
       "std         0.871832       0.504433       3.248248      44.288691\n",
       "min        -1.408605      -0.848218     -12.088328       0.000000\n",
       "25%        -0.072580      -0.200881       0.287748      56.497507\n",
       "50%         0.502360       0.250252       2.515969      91.849972\n",
       "75%         1.073581       0.700646       4.715088     128.564089\n",
       "max         2.362331       1.343769      16.003790     185.364347"
      ]
     },
     "execution_count": 6,
     "metadata": {},
     "output_type": "execute_result"
    }
   ],
   "source": [
    "data_reg[0].describe()"
   ]
  },
  {
   "cell_type": "code",
   "execution_count": 7,
   "metadata": {},
   "outputs": [
    {
     "data": {
      "text/html": [
       "<div>\n",
       "<style scoped>\n",
       "    .dataframe tbody tr th:only-of-type {\n",
       "        vertical-align: middle;\n",
       "    }\n",
       "\n",
       "    .dataframe tbody tr th {\n",
       "        vertical-align: top;\n",
       "    }\n",
       "\n",
       "    .dataframe thead th {\n",
       "        text-align: right;\n",
       "    }\n",
       "</style>\n",
       "<table border=\"1\" class=\"dataframe\">\n",
       "  <thead>\n",
       "    <tr style=\"text-align: right;\">\n",
       "      <th></th>\n",
       "      <th>f0</th>\n",
       "      <th>f1</th>\n",
       "      <th>f2</th>\n",
       "      <th>product</th>\n",
       "    </tr>\n",
       "  </thead>\n",
       "  <tbody>\n",
       "    <tr>\n",
       "      <td>count</td>\n",
       "      <td>100000.000000</td>\n",
       "      <td>100000.000000</td>\n",
       "      <td>100000.000000</td>\n",
       "      <td>100000.000000</td>\n",
       "    </tr>\n",
       "    <tr>\n",
       "      <td>mean</td>\n",
       "      <td>1.141296</td>\n",
       "      <td>-4.796579</td>\n",
       "      <td>2.494541</td>\n",
       "      <td>68.825000</td>\n",
       "    </tr>\n",
       "    <tr>\n",
       "      <td>std</td>\n",
       "      <td>8.965932</td>\n",
       "      <td>5.119872</td>\n",
       "      <td>1.703572</td>\n",
       "      <td>45.944423</td>\n",
       "    </tr>\n",
       "    <tr>\n",
       "      <td>min</td>\n",
       "      <td>-31.609576</td>\n",
       "      <td>-26.358598</td>\n",
       "      <td>-0.018144</td>\n",
       "      <td>0.000000</td>\n",
       "    </tr>\n",
       "    <tr>\n",
       "      <td>25%</td>\n",
       "      <td>-6.298551</td>\n",
       "      <td>-8.267985</td>\n",
       "      <td>1.000021</td>\n",
       "      <td>26.953261</td>\n",
       "    </tr>\n",
       "    <tr>\n",
       "      <td>50%</td>\n",
       "      <td>1.153055</td>\n",
       "      <td>-4.813172</td>\n",
       "      <td>2.011479</td>\n",
       "      <td>57.085625</td>\n",
       "    </tr>\n",
       "    <tr>\n",
       "      <td>75%</td>\n",
       "      <td>8.621015</td>\n",
       "      <td>-1.332816</td>\n",
       "      <td>3.999904</td>\n",
       "      <td>107.813044</td>\n",
       "    </tr>\n",
       "    <tr>\n",
       "      <td>max</td>\n",
       "      <td>29.421755</td>\n",
       "      <td>18.734063</td>\n",
       "      <td>5.019721</td>\n",
       "      <td>137.945408</td>\n",
       "    </tr>\n",
       "  </tbody>\n",
       "</table>\n",
       "</div>"
      ],
      "text/plain": [
       "                  f0             f1             f2        product\n",
       "count  100000.000000  100000.000000  100000.000000  100000.000000\n",
       "mean        1.141296      -4.796579       2.494541      68.825000\n",
       "std         8.965932       5.119872       1.703572      45.944423\n",
       "min       -31.609576     -26.358598      -0.018144       0.000000\n",
       "25%        -6.298551      -8.267985       1.000021      26.953261\n",
       "50%         1.153055      -4.813172       2.011479      57.085625\n",
       "75%         8.621015      -1.332816       3.999904     107.813044\n",
       "max        29.421755      18.734063       5.019721     137.945408"
      ]
     },
     "execution_count": 7,
     "metadata": {},
     "output_type": "execute_result"
    }
   ],
   "source": [
    "data_reg[1].describe()"
   ]
  },
  {
   "cell_type": "code",
   "execution_count": 8,
   "metadata": {},
   "outputs": [
    {
     "data": {
      "text/html": [
       "<div>\n",
       "<style scoped>\n",
       "    .dataframe tbody tr th:only-of-type {\n",
       "        vertical-align: middle;\n",
       "    }\n",
       "\n",
       "    .dataframe tbody tr th {\n",
       "        vertical-align: top;\n",
       "    }\n",
       "\n",
       "    .dataframe thead th {\n",
       "        text-align: right;\n",
       "    }\n",
       "</style>\n",
       "<table border=\"1\" class=\"dataframe\">\n",
       "  <thead>\n",
       "    <tr style=\"text-align: right;\">\n",
       "      <th></th>\n",
       "      <th>f0</th>\n",
       "      <th>f1</th>\n",
       "      <th>f2</th>\n",
       "      <th>product</th>\n",
       "    </tr>\n",
       "  </thead>\n",
       "  <tbody>\n",
       "    <tr>\n",
       "      <td>count</td>\n",
       "      <td>100000.000000</td>\n",
       "      <td>100000.000000</td>\n",
       "      <td>100000.000000</td>\n",
       "      <td>100000.000000</td>\n",
       "    </tr>\n",
       "    <tr>\n",
       "      <td>mean</td>\n",
       "      <td>0.002023</td>\n",
       "      <td>-0.002081</td>\n",
       "      <td>2.495128</td>\n",
       "      <td>95.000000</td>\n",
       "    </tr>\n",
       "    <tr>\n",
       "      <td>std</td>\n",
       "      <td>1.732045</td>\n",
       "      <td>1.730417</td>\n",
       "      <td>3.473445</td>\n",
       "      <td>44.749921</td>\n",
       "    </tr>\n",
       "    <tr>\n",
       "      <td>min</td>\n",
       "      <td>-8.760004</td>\n",
       "      <td>-7.084020</td>\n",
       "      <td>-11.970335</td>\n",
       "      <td>0.000000</td>\n",
       "    </tr>\n",
       "    <tr>\n",
       "      <td>25%</td>\n",
       "      <td>-1.162288</td>\n",
       "      <td>-1.174820</td>\n",
       "      <td>0.130359</td>\n",
       "      <td>59.450441</td>\n",
       "    </tr>\n",
       "    <tr>\n",
       "      <td>50%</td>\n",
       "      <td>0.009424</td>\n",
       "      <td>-0.009482</td>\n",
       "      <td>2.484236</td>\n",
       "      <td>94.925613</td>\n",
       "    </tr>\n",
       "    <tr>\n",
       "      <td>75%</td>\n",
       "      <td>1.158535</td>\n",
       "      <td>1.163678</td>\n",
       "      <td>4.858794</td>\n",
       "      <td>130.595027</td>\n",
       "    </tr>\n",
       "    <tr>\n",
       "      <td>max</td>\n",
       "      <td>7.238262</td>\n",
       "      <td>7.844801</td>\n",
       "      <td>16.739402</td>\n",
       "      <td>190.029838</td>\n",
       "    </tr>\n",
       "  </tbody>\n",
       "</table>\n",
       "</div>"
      ],
      "text/plain": [
       "                  f0             f1             f2        product\n",
       "count  100000.000000  100000.000000  100000.000000  100000.000000\n",
       "mean        0.002023      -0.002081       2.495128      95.000000\n",
       "std         1.732045       1.730417       3.473445      44.749921\n",
       "min        -8.760004      -7.084020     -11.970335       0.000000\n",
       "25%        -1.162288      -1.174820       0.130359      59.450441\n",
       "50%         0.009424      -0.009482       2.484236      94.925613\n",
       "75%         1.158535       1.163678       4.858794     130.595027\n",
       "max         7.238262       7.844801      16.739402     190.029838"
      ]
     },
     "execution_count": 8,
     "metadata": {},
     "output_type": "execute_result"
    }
   ],
   "source": [
    "data_reg[2].describe()"
   ]
  },
  {
   "cell_type": "markdown",
   "metadata": {},
   "source": [
    "Все столбцы с данными имеют тип float, поэтому мы легко можем посмотреть на корреляции между ними, плюс у нас есть лишний столбец 'id', так как индекс у нас есть свой."
   ]
  },
  {
   "cell_type": "markdown",
   "metadata": {},
   "source": [
    "### Предобработка данных"
   ]
  },
  {
   "cell_type": "code",
   "execution_count": 9,
   "metadata": {},
   "outputs": [],
   "source": [
    "for i in range(len(data_reg)):\n",
    "    data_reg[i] = data_reg[i].drop('id', axis = 1)"
   ]
  },
  {
   "cell_type": "markdown",
   "metadata": {},
   "source": [
    "Убрали лишний столбец идентификатора, чтобы модель не смогла \"запомнить\" правильные ответы по идентификатору."
   ]
  },
  {
   "cell_type": "code",
   "execution_count": 10,
   "metadata": {},
   "outputs": [
    {
     "name": "stdout",
     "output_type": "stream",
     "text": [
      "0\n",
      "0\n",
      "0\n"
     ]
    }
   ],
   "source": [
    "for i in range(len(data_reg)):\n",
    "    print(data_reg[i].duplicated().sum())"
   ]
  },
  {
   "cell_type": "markdown",
   "metadata": {},
   "source": [
    "Дубликатов нет. Отлично!"
   ]
  },
  {
   "cell_type": "code",
   "execution_count": 11,
   "metadata": {},
   "outputs": [
    {
     "name": "stdout",
     "output_type": "stream",
     "text": [
      "               f0        f1        f2   product\n",
      "f0       1.000000 -0.440723 -0.003153  0.143536\n",
      "f1      -0.440723  1.000000  0.001724 -0.192356\n",
      "f2      -0.003153  0.001724  1.000000  0.483663\n",
      "product  0.143536 -0.192356  0.483663  1.000000\n",
      "               f0        f1        f2   product\n",
      "f0       1.000000  0.182287 -0.001777 -0.030491\n",
      "f1       0.182287  1.000000 -0.002595 -0.010155\n",
      "f2      -0.001777 -0.002595  1.000000  0.999397\n",
      "product -0.030491 -0.010155  0.999397  1.000000\n",
      "               f0        f1        f2   product\n",
      "f0       1.000000  0.000528 -0.000448 -0.001987\n",
      "f1       0.000528  1.000000  0.000779 -0.001012\n",
      "f2      -0.000448  0.000779  1.000000  0.445871\n",
      "product -0.001987 -0.001012  0.445871  1.000000\n"
     ]
    },
    {
     "data": {
      "image/png": "[encoded data removed]",
      "text/plain": [
       "<Figure size 576x576 with 16 Axes>"
      ]
     },
     "metadata": {
      "needs_background": "light"
     },
     "output_type": "display_data"
    },
    {
     "data": {
      "image/png": "[encoded data removed]",
      "text/plain": [
       "<Figure size 576x576 with 16 Axes>"
      ]
     },
     "metadata": {
      "needs_background": "light"
     },
     "output_type": "display_data"
    },
    {
     "data": {
      "image/png": "[encoded data removed]",
      "text/plain": [
       "<Figure size 576x576 with 16 Axes>"
      ]
     },
     "metadata": {
      "needs_background": "light"
     },
     "output_type": "display_data"
    }
   ],
   "source": [
    "for reg in data_reg:\n",
    "    print(reg.corr())\n",
    "    pd.plotting.scatter_matrix(reg, figsize = (8,8))\n",
    "    pass"
   ]
  },
  {
   "cell_type": "markdown",
   "metadata": {},
   "source": [
    "Посмотрев на скаттерплоты из трёх регионов видим, что: в первом регионе есть нелинейная зависимость между f1 и f0, которая не определяется коэффициентом корреляции. Во втором регионе корреляция между f2 и количеством нефти практически равна 1, а это значит, что там f2 определяет колчесто нефти, что делает бессмысленным обучение, так как можно просто смотреть на данные f2 и делать выводы. В остальных регионах также прослеживается корреляция между f2 и product, однако не такая явная. "
   ]
  },
  {
   "cell_type": "markdown",
   "metadata": {},
   "source": [
    "### Фильтровка выбросов"
   ]
  },
  {
   "cell_type": "code",
   "execution_count": 12,
   "metadata": {},
   "outputs": [
    {
     "data": {
      "image/png": "[encoded data removed]",
      "text/plain": [
       "<Figure size 432x288 with 1 Axes>"
      ]
     },
     "metadata": {
      "needs_background": "light"
     },
     "output_type": "display_data"
    },
    {
     "data": {
      "image/png": "[encoded data removed]",
      "text/plain": [
       "<Figure size 432x288 with 1 Axes>"
      ]
     },
     "metadata": {
      "needs_background": "light"
     },
     "output_type": "display_data"
    },
    {
     "data": {
      "image/png": "[encoded data removed]",
      "text/plain": [
       "<Figure size 432x288 with 1 Axes>"
      ]
     },
     "metadata": {
      "needs_background": "light"
     },
     "output_type": "display_data"
    }
   ],
   "source": [
    "for i in range(len(data_reg)):\n",
    "    data_reg[i][['product']].boxplot()\n",
    "    plt.show()"
   ]
  },
  {
   "cell_type": "markdown",
   "metadata": {},
   "source": [
    "***Вывод***"
   ]
  },
  {
   "cell_type": "markdown",
   "metadata": {},
   "source": [
    "Выбросов нет."
   ]
  },
  {
   "cell_type": "markdown",
   "metadata": {},
   "source": [
    "### Разбиение на выборки"
   ]
  },
  {
   "cell_type": "code",
   "execution_count": 13,
   "metadata": {},
   "outputs": [
    {
     "name": "stdout",
     "output_type": "stream",
     "text": [
      "Размеры обучающей выборки 1-го региона: 75000 75000\n",
      "Размеры валидной выборки 1-го региона: 25000 25000\n",
      "Размеры обучающей выборки 2-го региона: 75000 75000\n",
      "Размеры валидной выборки 2-го региона: 25000 25000\n",
      "Размеры обучающей выборки 3-го региона: 75000 75000\n",
      "Размеры валидной выборки 3-го региона: 25000 25000\n"
     ]
    }
   ],
   "source": [
    "target = []\n",
    "features = []\n",
    "features_train_reg = []\n",
    "features_valid_reg = []\n",
    "target_train_reg = []\n",
    "target_valid_reg = []\n",
    "\n",
    "for i in range(len(data_reg)):\n",
    "    target.append(data_reg[i]['product'])\n",
    "    features.append(data_reg[i].drop('product', axis = 1))\n",
    "    features_train, features_valid, target_train, target_valid = train_test_split(features[i], target[i], test_size = .25, random_state = 12345)\n",
    "    \n",
    "    features_train = features_train.reset_index(drop = True)\n",
    "    target_train = target_train.reset_index(drop = True)\n",
    "    features_valid = features_valid.reset_index(drop = True)\n",
    "    target_valid = target_valid.reset_index(drop = True)\n",
    "    \n",
    "    features_train_reg.append(features_train)\n",
    "    features_valid_reg.append(features_valid)\n",
    "    target_train_reg.append(target_train)\n",
    "    target_valid_reg.append(target_valid)\n",
    "    \n",
    "    print(\"Размеры обучающей выборки\", str(i+1) +'-го региона:', len(features_train), len(target_train))\n",
    "    print(\"Размеры валидной выборки\", str(i+1) +'-го региона:', len(features_valid), len(target_valid))\n",
    "\n"
   ]
  },
  {
   "cell_type": "markdown",
   "metadata": {},
   "source": [
    "### Масштабирование признаков"
   ]
  },
  {
   "cell_type": "code",
   "execution_count": 14,
   "metadata": {},
   "outputs": [],
   "source": [
    "scaler = StandardScaler()\n",
    "\n",
    "\n",
    "for i in range(len(data_reg)):\n",
    "    scaler.fit(features_train_reg[i])\n",
    "    features_train_reg[i] = scaler.transform(features_train_reg[i])\n",
    "    features_valid_reg[i] = scaler.transform(features_valid_reg[i])"
   ]
  },
  {
   "cell_type": "markdown",
   "metadata": {},
   "source": [
    "## Обучение и проверка модели"
   ]
  },
  {
   "cell_type": "markdown",
   "metadata": {},
   "source": [
    "### Модель линейной регрессии"
   ]
  },
  {
   "cell_type": "code",
   "execution_count": 15,
   "metadata": {},
   "outputs": [
    {
     "name": "stdout",
     "output_type": "stream",
     "text": [
      "RMSE и средний предсказанный запас: 37.58 и 92.59\n",
      "RMSE и средний предсказанный запас: 0.89 и 68.73\n",
      "RMSE и средний предсказанный запас: 40.03 и 94.97\n"
     ]
    }
   ],
   "source": [
    "model = LinearRegression()\n",
    "models_reg = []\n",
    "for i in range(len(data_reg)):\n",
    "    model.fit(features_train_reg[i], target_train_reg[i])\n",
    "    models_reg.append(model)\n",
    "    predicted_valid = model.predict(features_valid_reg[i])\n",
    "    mse = mean_squared_error(target_valid_reg[i], predicted_valid)\n",
    "    print(\"RMSE и средний предсказанный запас:\", round(mse**0.5, 2),\"и\", round(predicted_valid.mean(), 2))"
   ]
  },
  {
   "cell_type": "markdown",
   "metadata": {},
   "source": [
    "### Модель линейной регрессии с использованием градиентного спуска"
   ]
  },
  {
   "cell_type": "code",
   "execution_count": 16,
   "metadata": {},
   "outputs": [
    {
     "name": "stdout",
     "output_type": "stream",
     "text": [
      "RMSE и средний предсказанный запас: 37.6 и 91.46\n",
      "RMSE и средний предсказанный запас: 0.89 и 68.74\n",
      "RMSE и средний предсказанный запас: 40.03 и 94.65\n"
     ]
    }
   ],
   "source": [
    "model = SGDRegressor()\n",
    "for i in range(len(data_reg)):\n",
    "    model.fit(features_train_reg[i], target_train_reg[i])\n",
    "    predicted_valid = model.predict(features_valid_reg[i])\n",
    "    mse = mean_squared_error(target_valid_reg[i], predicted_valid)\n",
    "    print(\"RMSE и средний предсказанный запас:\", round(mse**0.5, 2),\"и\", round(predicted_valid.mean(), 2))"
   ]
  },
  {
   "cell_type": "markdown",
   "metadata": {},
   "source": [
    "### Модель линейной регрессии с поиском зависимостей n-го порядка"
   ]
  },
  {
   "cell_type": "code",
   "execution_count": 17,
   "metadata": {},
   "outputs": [
    {
     "name": "stdout",
     "output_type": "stream",
     "text": [
      "RMSE и средний предсказанный запас для 1-ого региона 1-ой степени: 50.51 и 92.64\n",
      "RMSE и средний предсказанный запас для 2-ого региона 1-ой степени: 69.15 и 68.86\n",
      "RMSE и средний предсказанный запас для 3-ого региона 1-ой степени: 40.03 и 95.04\n",
      "RMSE и средний предсказанный запас для 1-ого региона 2-ой степени: 50.52 и 92.42\n",
      "RMSE и средний предсказанный запас для 2-ого региона 2-ой степени: 69.15 и 68.86\n",
      "RMSE и средний предсказанный запас для 3-ого региона 2-ой степени: 40.07 и 85.05\n",
      "RMSE и средний предсказанный запас для 1-ого региона 3-ой степени: 51.55 и 92.45\n",
      "RMSE и средний предсказанный запас для 2-ого региона 3-ой степени: 69.16 и 68.86\n",
      "RMSE и средний предсказанный запас для 3-ого региона 3-ой степени: 40.07 и 85.04\n",
      "RMSE и средний предсказанный запас для 1-ого региона 4-ой степени: 51.54 и 93.11\n",
      "RMSE и средний предсказанный запас для 2-ого региона 4-ой степени: 69.16 и 68.86\n",
      "RMSE и средний предсказанный запас для 3-ого региона 4-ой степени: 42.17 и 78.35\n",
      "RMSE и средний предсказанный запас для 1-ого региона 5-ой степени: 52.08 и 93.19\n",
      "RMSE и средний предсказанный запас для 2-ого региона 5-ой степени: 69.18 и 68.85\n",
      "RMSE и средний предсказанный запас для 3-ого региона 5-ой степени: 42.21 и 78.27\n"
     ]
    }
   ],
   "source": [
    "model = LinearRegression()\n",
    "for i in range(1, 6):\n",
    "    poly = PolynomialFeatures(i, include_bias=False)\n",
    "    for j in range(len(data_reg)):\n",
    "        \n",
    "        poly_features_train = poly.fit_transform(features_train_reg[j]) \n",
    "\n",
    "        poly_features_valid = poly.fit_transform(features_valid_reg[j]) \n",
    "        poly_features_valid = scaler.fit_transform(poly_features_valid)\n",
    "\n",
    "        model.fit(poly_features_train, target_train_reg[j])\n",
    "\n",
    "        predicted_valid = model.predict(poly_features_valid) \n",
    "        mse = mean_squared_error(target_valid, predicted_valid) \n",
    "        print(\"RMSE и средний предсказанный запас для\", str(j+1) +'-ого региона', str(i)+\"-ой степени:\", round(mse**0.5, 2),\"и\", round(predicted_valid.mean(), 2))"
   ]
  },
  {
   "cell_type": "markdown",
   "metadata": {},
   "source": [
    "***Вывод***"
   ]
  },
  {
   "cell_type": "markdown",
   "metadata": {},
   "source": [
    "При сравнении обычных моделей и моделей с использованием полиномиальных матриц видим, что полиномиальные матрицы не особо помогают в нашем случае, при их использовании также теряется очень точный прогноз для 2-го региона, полученный при использовании обычной линейной регрессии(RMSE < 1). Поэтому будем использовать обычную линейную регрессию."
   ]
  },
  {
   "cell_type": "markdown",
   "metadata": {},
   "source": [
    "## Подготовка к расчёту прибыли"
   ]
  },
  {
   "cell_type": "code",
   "execution_count": 18,
   "metadata": {},
   "outputs": [],
   "source": [
    "TOTAL_WELLS = 500   #количество разведываемых скважин\n",
    "WELLS_TO_USE = 200  #количество разрабатываемых скважин\n",
    "BUDGET = 10000      #бюджет в миллионах\n",
    "UNIT_PRICE = 0.45   #стоимость тысячи баррелей в миллионах"
   ]
  },
  {
   "cell_type": "markdown",
   "metadata": {},
   "source": [
    "Сохранили значения"
   ]
  },
  {
   "cell_type": "code",
   "execution_count": 19,
   "metadata": {},
   "outputs": [
    {
     "name": "stdout",
     "output_type": "stream",
     "text": [
      "Минимальный объём для безубыточности: 111.11111111111111\n",
      "Средний запас в первом, втором и третьем регионах: 92.5 68.83 95.0\n"
     ]
    }
   ],
   "source": [
    "min_volume = 10000 / 200 / 0.45\n",
    "print(\"Минимальный объём для безубыточности:\", min_volume)\n",
    "print(\"Средний запас в первом, втором и третьем регионах:\", round(data_reg[0]['product'].mean(), 2), round(data_reg[1]['product'].mean(), 2), round(data_reg[2]['product'].mean(), 2))"
   ]
  },
  {
   "cell_type": "markdown",
   "metadata": {},
   "source": [
    "***Вывод***"
   ]
  },
  {
   "cell_type": "markdown",
   "metadata": {},
   "source": [
    "Исходя из полученных данных в среднем, если бурить скважины наобум, то мы прогорим. Посмотрим, что нам даст модель."
   ]
  },
  {
   "cell_type": "markdown",
   "metadata": {},
   "source": [
    "### Функция расчёта прибыли и её проверка на обобщённых данных."
   ]
  },
  {
   "cell_type": "code",
   "execution_count": 20,
   "metadata": {},
   "outputs": [],
   "source": [
    "def expected_value(target, probabilities, count):\n",
    "    probs_sorted = probabilities.sort_values(ascending=False)\n",
    "    selected = target.reindex(probs_sorted.index)[:count]\n",
    "    return UNIT_PRICE * selected.sum() - 10000"
   ]
  },
  {
   "cell_type": "markdown",
   "metadata": {},
   "source": [
    "## Расчёт прибыли и рисков "
   ]
  },
  {
   "cell_type": "markdown",
   "metadata": {},
   "source": [
    "Используем бутсреп для модели, чтобы оценить среднюю выручку и 95%-ый доверительный интервал для каждого региона, а потом считаем вероятность убытков."
   ]
  },
  {
   "cell_type": "code",
   "execution_count": 21,
   "metadata": {},
   "outputs": [
    {
     "name": "stdout",
     "output_type": "stream",
     "text": [
      "Средняя выручка, 95%-ый доверительный интервал и вероятность убытков для 1, 2 и 3 регионов соответственно\n",
      "Средняя прибыль: 232.54114322893486\n",
      "95%-ый доверительный итервал: -284.03660763165436 715.7194087713489\n",
      "Вероятность убытков: 0.182 \n",
      "\n",
      "Средняя прибыль: 427.03616100280215\n",
      "95%-ый доверительный итервал: 15.292734099517475 821.6871359563802\n",
      "Вероятность убытков: 0.021 \n",
      "\n",
      "Средняя прибыль: 389.21707368557037\n",
      "95%-ый доверительный итервал: -115.60956577767396 906.5125901730092\n",
      "Вероятность убытков: 0.073 \n",
      "\n"
     ]
    }
   ],
   "source": [
    "state = np.random.RandomState(12345)\n",
    "print(\"Средняя выручка, 95%-ый доверительный интервал и вероятность убытков для 1, 2 и 3 регионов соответственно\")\n",
    "for j in range(len(data_reg)):\n",
    "    values = []\n",
    "    predictions_reg = pd.Series(models_reg[j].predict(features_valid_reg[j]))\n",
    "    for i in range(1000):\n",
    "        target_subsample = target_valid_reg[j].sample(n = TOTAL_WELLS, random_state = state)\n",
    "        predictions_reg_subsample = predictions_reg[target_subsample.index]\n",
    "        values.append(expected_value(target_subsample, predictions_reg_subsample, WELLS_TO_USE))\n",
    "    values = pd.Series(values)\n",
    "    print(\"Средняя прибыль:\", values.mean())\n",
    "    print(\"95%-ый доверительный итервал:\", values.quantile(.025), values.quantile(.975))\n",
    "    \n",
    "    print(\"Вероятность убытков:\", values[values.values < 0].count()/1000, \"\\n\")"
   ]
  },
  {
   "cell_type": "markdown",
   "metadata": {},
   "source": [
    "***Вывод***"
   ]
  },
  {
   "cell_type": "markdown",
   "metadata": {},
   "source": [
    "Наши модели дают на прибыль минимум в 80% случаев! Это явно больше, чем выбор наобум, так как мы посчитали, что в среднем мы прогораем. Выбор региона для бурения скорее всего стоит остановить на 2-ом регионе, так как там наименьший шанс убытков, и хоть максимальное значение доверительного интервала 3-его регона больше, чем 2-го. Среднее у 2-го всё-таки выше. И если мы хотим получать прибыль, то разрабатывая скважины 2-го региона мы в среднем будем получать больше. А это значит, что при разработке 2-го региона наименьшие риски и наибольшая прибыль. Поэтому скорее всего будет выгоднее разрабатывать скважины в регионе 2."
   ]
  }
 ],
 "metadata": {
  "ExecuteTimeLog": [
   {
    "duration": 539,
    "start_time": "2021-10-22T12:57:46.814Z"
   },
   {
    "duration": 119,
    "start_time": "2021-10-22T12:58:15.505Z"
   },
   {
    "duration": 128,
    "start_time": "2021-10-22T12:58:19.642Z"
   },
   {
    "duration": 239,
    "start_time": "2021-10-22T12:59:07.497Z"
   },
   {
    "duration": 346,
    "start_time": "2021-10-22T12:59:29.020Z"
   },
   {
    "duration": 389,
    "start_time": "2021-10-22T13:17:44.337Z"
   },
   {
    "duration": 389,
    "start_time": "2021-10-22T13:18:09.628Z"
   },
   {
    "duration": 400,
    "start_time": "2021-10-22T13:19:38.290Z"
   },
   {
    "duration": 20,
    "start_time": "2021-10-22T13:19:46.438Z"
   },
   {
    "duration": 65,
    "start_time": "2021-10-22T13:20:01.845Z"
   },
   {
    "duration": 298,
    "start_time": "2021-10-22T13:25:56.378Z"
   },
   {
    "duration": 178,
    "start_time": "2021-10-22T13:26:12.804Z"
   },
   {
    "duration": 196,
    "start_time": "2021-10-22T13:26:19.943Z"
   },
   {
    "duration": 8,
    "start_time": "2021-10-22T13:26:34.480Z"
   },
   {
    "duration": 186,
    "start_time": "2021-10-22T13:26:57.399Z"
   },
   {
    "duration": 87,
    "start_time": "2021-10-22T13:27:02.974Z"
   },
   {
    "duration": 43542,
    "start_time": "2021-10-22T13:27:56.561Z"
   },
   {
    "duration": 34,
    "start_time": "2021-10-22T13:30:04.428Z"
   },
   {
    "duration": 36,
    "start_time": "2021-10-22T13:30:15.180Z"
   },
   {
    "duration": 34,
    "start_time": "2021-10-22T13:30:30.065Z"
   },
   {
    "duration": 16282,
    "start_time": "2021-10-22T13:30:48.559Z"
   },
   {
    "duration": 16272,
    "start_time": "2021-10-22T13:31:04.843Z"
   },
   {
    "duration": 16118,
    "start_time": "2021-10-22T13:31:21.117Z"
   },
   {
    "duration": 12,
    "start_time": "2021-10-22T13:37:42.812Z"
   },
   {
    "duration": 12,
    "start_time": "2021-10-22T13:37:53.870Z"
   },
   {
    "duration": 10,
    "start_time": "2021-10-22T13:38:04.612Z"
   },
   {
    "duration": 16306,
    "start_time": "2021-10-22T13:51:59.216Z"
   },
   {
    "duration": 16071,
    "start_time": "2021-10-22T13:52:15.524Z"
   },
   {
    "duration": 16210,
    "start_time": "2021-10-22T13:52:47.775Z"
   },
   {
    "duration": 43822,
    "start_time": "2021-10-22T13:53:41.659Z"
   },
   {
    "duration": 396,
    "start_time": "2021-10-22T14:05:15.634Z"
   },
   {
    "duration": 34,
    "start_time": "2021-10-22T14:10:04.019Z"
   },
   {
    "duration": 281,
    "start_time": "2021-10-22T14:12:23.693Z"
   },
   {
    "duration": 17,
    "start_time": "2021-10-22T14:12:39.924Z"
   },
   {
    "duration": 15,
    "start_time": "2021-10-22T14:23:31.749Z"
   },
   {
    "duration": 15,
    "start_time": "2021-10-22T14:27:54.145Z"
   },
   {
    "duration": 30,
    "start_time": "2021-10-22T14:48:49.671Z"
   },
   {
    "duration": 3,
    "start_time": "2021-10-22T14:50:59.390Z"
   },
   {
    "duration": 22,
    "start_time": "2021-10-22T14:53:52.204Z"
   },
   {
    "duration": 21,
    "start_time": "2021-10-22T14:54:48.850Z"
   },
   {
    "duration": 21,
    "start_time": "2021-10-22T14:55:05.931Z"
   },
   {
    "duration": 184,
    "start_time": "2021-10-22T17:26:02.724Z"
   },
   {
    "duration": 190,
    "start_time": "2021-10-22T17:26:06.607Z"
   },
   {
    "duration": 140,
    "start_time": "2021-10-22T17:26:36.271Z"
   },
   {
    "duration": 132,
    "start_time": "2021-10-22T17:27:34.474Z"
   },
   {
    "duration": 226,
    "start_time": "2021-10-22T17:27:41.241Z"
   },
   {
    "duration": 147,
    "start_time": "2021-10-22T17:27:45.738Z"
   },
   {
    "duration": 148,
    "start_time": "2021-10-22T17:28:15.761Z"
   },
   {
    "duration": 3,
    "start_time": "2021-10-22T17:30:15.999Z"
   },
   {
    "duration": 3,
    "start_time": "2021-10-22T17:30:20.140Z"
   },
   {
    "duration": 574,
    "start_time": "2021-10-22T17:32:39.528Z"
   },
   {
    "duration": 606,
    "start_time": "2021-10-22T17:32:48.797Z"
   },
   {
    "duration": 25,
    "start_time": "2021-10-22T17:33:33.689Z"
   },
   {
    "duration": 20,
    "start_time": "2021-10-22T17:33:46.091Z"
   },
   {
    "duration": 4,
    "start_time": "2021-10-22T17:37:29.700Z"
   },
   {
    "duration": 242,
    "start_time": "2021-10-22T17:38:07.487Z"
   },
   {
    "duration": 3,
    "start_time": "2021-10-22T17:38:59.805Z"
   },
   {
    "duration": 401,
    "start_time": "2021-10-22T17:46:06.951Z"
   },
   {
    "duration": 450,
    "start_time": "2021-10-22T17:46:18.648Z"
   },
   {
    "duration": 403,
    "start_time": "2021-10-22T17:46:57.304Z"
   },
   {
    "duration": 1039,
    "start_time": "2021-10-22T17:56:09.302Z"
   },
   {
    "duration": 818,
    "start_time": "2021-10-22T17:56:38.982Z"
   },
   {
    "duration": 761,
    "start_time": "2021-10-22T17:56:50.989Z"
   },
   {
    "duration": 3,
    "start_time": "2021-10-22T17:57:16.732Z"
   },
   {
    "duration": 538,
    "start_time": "2021-10-22T17:57:26.755Z"
   },
   {
    "duration": 865,
    "start_time": "2021-10-22T17:58:48.528Z"
   },
   {
    "duration": 873,
    "start_time": "2021-10-22T18:00:30.619Z"
   },
   {
    "duration": 1376,
    "start_time": "2021-10-22T18:00:53.822Z"
   },
   {
    "duration": 3142,
    "start_time": "2021-10-22T18:01:01.255Z"
   },
   {
    "duration": 3348,
    "start_time": "2021-10-22T18:01:11.751Z"
   },
   {
    "duration": 11959,
    "start_time": "2021-10-22T18:01:24.935Z"
   },
   {
    "duration": 3654,
    "start_time": "2021-10-22T18:01:47.941Z"
   },
   {
    "duration": 2242,
    "start_time": "2021-10-22T18:01:59.852Z"
   },
   {
    "duration": 12801,
    "start_time": "2021-10-22T18:02:09.192Z"
   },
   {
    "duration": 3841,
    "start_time": "2021-10-22T18:02:26.751Z"
   },
   {
    "duration": 3921,
    "start_time": "2021-10-22T18:02:53.172Z"
   },
   {
    "duration": 3423,
    "start_time": "2021-10-22T18:03:51.180Z"
   },
   {
    "duration": 3440,
    "start_time": "2021-10-22T18:06:08.761Z"
   },
   {
    "duration": 5260,
    "start_time": "2021-10-22T18:06:29.134Z"
   },
   {
    "duration": 3517,
    "start_time": "2021-10-22T18:10:23.548Z"
   },
   {
    "duration": 3669,
    "start_time": "2021-10-22T18:10:49.183Z"
   },
   {
    "duration": 3214,
    "start_time": "2021-10-22T18:11:39.979Z"
   },
   {
    "duration": 3372,
    "start_time": "2021-10-22T18:11:49.425Z"
   },
   {
    "duration": 163,
    "start_time": "2021-10-22T18:12:05.969Z"
   },
   {
    "duration": 441,
    "start_time": "2021-10-22T18:12:41.476Z"
   },
   {
    "duration": 3271,
    "start_time": "2021-10-22T18:12:53.721Z"
   },
   {
    "duration": 57,
    "start_time": "2021-10-22T18:13:47.301Z"
   },
   {
    "duration": 1163,
    "start_time": "2021-10-22T18:13:51.028Z"
   },
   {
    "duration": 192,
    "start_time": "2021-10-22T18:14:06.145Z"
   },
   {
    "duration": 6190,
    "start_time": "2021-10-22T18:14:33.105Z"
   },
   {
    "duration": 3,
    "start_time": "2021-10-22T18:46:36.815Z"
   },
   {
    "duration": 3,
    "start_time": "2021-10-22T18:48:10.822Z"
   },
   {
    "duration": 3,
    "start_time": "2021-10-22T18:50:55.542Z"
   },
   {
    "duration": 4,
    "start_time": "2021-10-22T18:51:00.965Z"
   },
   {
    "duration": 55,
    "start_time": "2021-10-22T18:56:13.423Z"
   },
   {
    "duration": 6,
    "start_time": "2021-10-22T18:56:22.539Z"
   },
   {
    "duration": 7,
    "start_time": "2021-10-22T18:57:04.823Z"
   },
   {
    "duration": 3,
    "start_time": "2021-10-22T19:31:04.555Z"
   },
   {
    "duration": 1659,
    "start_time": "2021-10-23T14:11:16.012Z"
   },
   {
    "duration": 650,
    "start_time": "2021-10-23T14:11:17.674Z"
   },
   {
    "duration": 29,
    "start_time": "2021-10-23T14:11:18.327Z"
   },
   {
    "duration": 14,
    "start_time": "2021-10-23T14:11:18.358Z"
   },
   {
    "duration": 13,
    "start_time": "2021-10-23T14:11:18.375Z"
   },
   {
    "duration": 18,
    "start_time": "2021-10-23T14:11:18.424Z"
   },
   {
    "duration": 87,
    "start_time": "2021-10-23T14:11:18.445Z"
   },
   {
    "duration": 56,
    "start_time": "2021-10-23T14:11:18.537Z"
   },
   {
    "duration": 78,
    "start_time": "2021-10-23T14:11:18.596Z"
   },
   {
    "duration": 120,
    "start_time": "2021-10-23T14:11:18.677Z"
   },
   {
    "duration": 24,
    "start_time": "2021-10-23T14:11:18.799Z"
   },
   {
    "duration": 248,
    "start_time": "2021-10-23T14:11:18.827Z"
   },
   {
    "duration": 29533,
    "start_time": "2021-10-23T14:11:19.078Z"
   },
   {
    "duration": 28431,
    "start_time": "2021-10-23T14:11:48.614Z"
   },
   {
    "duration": 29579,
    "start_time": "2021-10-23T14:12:17.048Z"
   },
   {
    "duration": 84066,
    "start_time": "2021-10-23T14:12:46.629Z"
   },
   {
    "duration": 277,
    "start_time": "2021-10-23T14:14:10.698Z"
   },
   {
    "duration": 82,
    "start_time": "2021-10-23T14:14:10.981Z"
   },
   {
    "duration": 25,
    "start_time": "2021-10-23T14:14:11.066Z"
   },
   {
    "duration": 136,
    "start_time": "2021-10-23T14:14:11.094Z"
   },
   {
    "duration": 722,
    "start_time": "2021-10-23T14:14:11.233Z"
   },
   {
    "duration": 8462,
    "start_time": "2021-10-23T14:14:11.960Z"
   },
   {
    "duration": 5,
    "start_time": "2021-10-23T14:14:20.425Z"
   },
   {
    "duration": 10,
    "start_time": "2021-10-23T14:14:20.433Z"
   },
   {
    "duration": 4,
    "start_time": "2021-10-23T14:14:20.446Z"
   },
   {
    "duration": 5,
    "start_time": "2021-10-23T14:19:41.221Z"
   },
   {
    "duration": 639,
    "start_time": "2021-10-23T14:19:41.756Z"
   },
   {
    "duration": 44,
    "start_time": "2021-10-23T14:19:42.398Z"
   },
   {
    "duration": 21,
    "start_time": "2021-10-23T14:19:42.788Z"
   },
   {
    "duration": 16,
    "start_time": "2021-10-23T14:19:43.288Z"
   },
   {
    "duration": 16,
    "start_time": "2021-10-23T14:19:43.597Z"
   },
   {
    "duration": 52,
    "start_time": "2021-10-23T14:19:44.082Z"
   },
   {
    "duration": 69,
    "start_time": "2021-10-23T14:19:44.575Z"
   },
   {
    "duration": 54,
    "start_time": "2021-10-23T14:19:45.014Z"
   },
   {
    "duration": 94,
    "start_time": "2021-10-23T14:19:45.597Z"
   },
   {
    "duration": 18,
    "start_time": "2021-10-23T14:19:50.132Z"
   },
   {
    "duration": 322,
    "start_time": "2021-10-23T14:19:53.833Z"
   },
   {
    "duration": 83433,
    "start_time": "2021-10-23T14:20:32.778Z"
   },
   {
    "duration": 80473,
    "start_time": "2021-10-23T14:22:16.300Z"
   },
   {
    "duration": 92657,
    "start_time": "2021-10-23T14:23:46.558Z"
   },
   {
    "duration": 293,
    "start_time": "2021-10-23T14:25:19.218Z"
   },
   {
    "duration": 64,
    "start_time": "2021-10-23T14:25:19.514Z"
   },
   {
    "duration": 20,
    "start_time": "2021-10-23T14:25:19.581Z"
   },
   {
    "duration": 102,
    "start_time": "2021-10-23T14:25:19.624Z"
   },
   {
    "duration": 802,
    "start_time": "2021-10-23T14:25:19.730Z"
   },
   {
    "duration": 9101,
    "start_time": "2021-10-23T14:25:20.535Z"
   },
   {
    "duration": 7,
    "start_time": "2021-10-23T14:25:29.640Z"
   },
   {
    "duration": 78,
    "start_time": "2021-10-23T14:25:29.652Z"
   },
   {
    "duration": 6,
    "start_time": "2021-10-23T14:25:29.732Z"
   },
   {
    "duration": 1337,
    "start_time": "2021-10-23T14:30:00.054Z"
   },
   {
    "duration": 16,
    "start_time": "2021-10-23T14:30:36.225Z"
   },
   {
    "duration": 630,
    "start_time": "2021-10-23T14:31:54.453Z"
   },
   {
    "duration": 166,
    "start_time": "2021-10-23T14:33:01.571Z"
   },
   {
    "duration": 207,
    "start_time": "2021-10-23T14:37:46.434Z"
   },
   {
    "duration": 212,
    "start_time": "2021-10-23T14:37:54.911Z"
   },
   {
    "duration": 5,
    "start_time": "2021-10-23T14:38:30.543Z"
   },
   {
    "duration": 146,
    "start_time": "2021-10-23T14:38:30.904Z"
   },
   {
    "duration": 4,
    "start_time": "2021-10-23T14:41:16.812Z"
   },
   {
    "duration": 160,
    "start_time": "2021-10-23T14:41:16.963Z"
   },
   {
    "duration": 5,
    "start_time": "2021-10-23T14:45:11.810Z"
   },
   {
    "duration": 147,
    "start_time": "2021-10-23T14:45:11.977Z"
   },
   {
    "duration": 312,
    "start_time": "2021-10-23T15:00:30.424Z"
   },
   {
    "duration": 1286,
    "start_time": "2021-10-23T15:02:34.567Z"
   },
   {
    "duration": 895,
    "start_time": "2021-10-23T15:02:35.856Z"
   },
   {
    "duration": -1010,
    "start_time": "2021-10-23T15:02:37.768Z"
   },
   {
    "duration": -1010,
    "start_time": "2021-10-23T15:02:37.770Z"
   },
   {
    "duration": -1009,
    "start_time": "2021-10-23T15:02:37.771Z"
   },
   {
    "duration": -1010,
    "start_time": "2021-10-23T15:02:37.773Z"
   },
   {
    "duration": -1011,
    "start_time": "2021-10-23T15:02:37.775Z"
   },
   {
    "duration": -1012,
    "start_time": "2021-10-23T15:02:37.777Z"
   },
   {
    "duration": -1015,
    "start_time": "2021-10-23T15:02:37.782Z"
   },
   {
    "duration": -1015,
    "start_time": "2021-10-23T15:02:37.784Z"
   },
   {
    "duration": -1020,
    "start_time": "2021-10-23T15:02:37.790Z"
   },
   {
    "duration": -1021,
    "start_time": "2021-10-23T15:02:37.792Z"
   },
   {
    "duration": -1021,
    "start_time": "2021-10-23T15:02:37.794Z"
   },
   {
    "duration": -1023,
    "start_time": "2021-10-23T15:02:37.797Z"
   },
   {
    "duration": -1023,
    "start_time": "2021-10-23T15:02:37.799Z"
   },
   {
    "duration": -1023,
    "start_time": "2021-10-23T15:02:37.800Z"
   },
   {
    "duration": -1024,
    "start_time": "2021-10-23T15:02:37.802Z"
   },
   {
    "duration": -1025,
    "start_time": "2021-10-23T15:02:37.804Z"
   },
   {
    "duration": -1028,
    "start_time": "2021-10-23T15:02:37.809Z"
   },
   {
    "duration": -1042,
    "start_time": "2021-10-23T15:02:37.824Z"
   },
   {
    "duration": -1043,
    "start_time": "2021-10-23T15:02:37.826Z"
   },
   {
    "duration": -1047,
    "start_time": "2021-10-23T15:02:37.832Z"
   },
   {
    "duration": -1048,
    "start_time": "2021-10-23T15:02:37.834Z"
   },
   {
    "duration": -1049,
    "start_time": "2021-10-23T15:02:37.836Z"
   },
   {
    "duration": -1049,
    "start_time": "2021-10-23T15:02:37.837Z"
   },
   {
    "duration": 560,
    "start_time": "2021-10-23T15:05:01.497Z"
   },
   {
    "duration": 28,
    "start_time": "2021-10-23T15:05:02.738Z"
   },
   {
    "duration": 18,
    "start_time": "2021-10-23T15:05:02.874Z"
   },
   {
    "duration": 16,
    "start_time": "2021-10-23T15:05:02.995Z"
   },
   {
    "duration": 17,
    "start_time": "2021-10-23T15:05:03.083Z"
   },
   {
    "duration": 51,
    "start_time": "2021-10-23T15:05:03.206Z"
   },
   {
    "duration": 48,
    "start_time": "2021-10-23T15:05:03.301Z"
   },
   {
    "duration": 48,
    "start_time": "2021-10-23T15:05:03.421Z"
   },
   {
    "duration": 89,
    "start_time": "2021-10-23T15:05:03.532Z"
   },
   {
    "duration": 29,
    "start_time": "2021-10-23T15:05:03.834Z"
   },
   {
    "duration": 244,
    "start_time": "2021-10-23T15:05:04.416Z"
   },
   {
    "duration": 286,
    "start_time": "2021-10-23T15:05:04.663Z"
   },
   {
    "duration": -1001,
    "start_time": "2021-10-23T15:05:05.954Z"
   },
   {
    "duration": -1001,
    "start_time": "2021-10-23T15:05:05.956Z"
   },
   {
    "duration": -1005,
    "start_time": "2021-10-23T15:05:05.962Z"
   },
   {
    "duration": -1050,
    "start_time": "2021-10-23T15:05:06.009Z"
   },
   {
    "duration": -1050,
    "start_time": "2021-10-23T15:05:06.011Z"
   },
   {
    "duration": -1050,
    "start_time": "2021-10-23T15:05:06.013Z"
   },
   {
    "duration": -1048,
    "start_time": "2021-10-23T15:05:06.014Z"
   },
   {
    "duration": 3,
    "start_time": "2021-10-23T15:05:05.018Z"
   },
   {
    "duration": 258,
    "start_time": "2021-10-23T15:05:05.074Z"
   },
   {
    "duration": -1018,
    "start_time": "2021-10-23T15:05:06.352Z"
   },
   {
    "duration": -1018,
    "start_time": "2021-10-23T15:05:06.353Z"
   },
   {
    "duration": 338,
    "start_time": "2021-10-23T15:05:05.345Z"
   },
   {
    "duration": 10,
    "start_time": "2021-10-23T15:06:03.755Z"
   },
   {
    "duration": 1428,
    "start_time": "2021-10-23T15:06:52.638Z"
   },
   {
    "duration": 582,
    "start_time": "2021-10-23T15:06:54.070Z"
   },
   {
    "duration": 28,
    "start_time": "2021-10-23T15:06:54.656Z"
   },
   {
    "duration": 35,
    "start_time": "2021-10-23T15:06:54.687Z"
   },
   {
    "duration": 14,
    "start_time": "2021-10-23T15:06:54.725Z"
   },
   {
    "duration": 13,
    "start_time": "2021-10-23T15:06:54.742Z"
   },
   {
    "duration": 78,
    "start_time": "2021-10-23T15:06:54.758Z"
   },
   {
    "duration": 47,
    "start_time": "2021-10-23T15:06:54.838Z"
   },
   {
    "duration": 67,
    "start_time": "2021-10-23T15:06:54.889Z"
   },
   {
    "duration": 110,
    "start_time": "2021-10-23T15:06:54.959Z"
   },
   {
    "duration": 29,
    "start_time": "2021-10-23T15:06:55.072Z"
   },
   {
    "duration": 293,
    "start_time": "2021-10-23T15:06:55.104Z"
   },
   {
    "duration": 77913,
    "start_time": "2021-10-23T15:06:55.399Z"
   },
   {
    "duration": 71018,
    "start_time": "2021-10-23T15:08:13.315Z"
   },
   {
    "duration": 247,
    "start_time": "2021-10-23T15:09:24.335Z"
   },
   {
    "duration": 67,
    "start_time": "2021-10-23T15:09:24.584Z"
   },
   {
    "duration": 21,
    "start_time": "2021-10-23T15:09:24.653Z"
   },
   {
    "duration": 146,
    "start_time": "2021-10-23T15:09:24.676Z"
   },
   {
    "duration": 895,
    "start_time": "2021-10-23T15:09:24.826Z"
   },
   {
    "duration": 7509,
    "start_time": "2021-10-23T15:09:25.724Z"
   },
   {
    "duration": 87,
    "start_time": "2021-10-23T15:09:33.238Z"
   },
   {
    "duration": 10,
    "start_time": "2021-10-23T15:09:33.328Z"
   },
   {
    "duration": 4,
    "start_time": "2021-10-23T15:09:33.340Z"
   },
   {
    "duration": 191,
    "start_time": "2021-10-23T15:09:33.346Z"
   },
   {
    "duration": 793,
    "start_time": "2021-10-23T15:09:33.540Z"
   },
   {
    "duration": 899,
    "start_time": "2021-10-23T15:10:16.783Z"
   },
   {
    "duration": 6,
    "start_time": "2021-10-23T15:12:59.935Z"
   },
   {
    "duration": 6859,
    "start_time": "2021-10-23T15:16:55.922Z"
   },
   {
    "duration": 5,
    "start_time": "2021-10-23T15:18:22.456Z"
   },
   {
    "duration": 19736,
    "start_time": "2021-10-23T15:18:49.879Z"
   },
   {
    "duration": 20432,
    "start_time": "2021-10-23T15:21:47.703Z"
   },
   {
    "duration": 138,
    "start_time": "2021-10-23T15:24:46.588Z"
   },
   {
    "duration": 142,
    "start_time": "2021-10-23T15:24:58.491Z"
   },
   {
    "duration": 4,
    "start_time": "2021-10-23T15:25:17.527Z"
   },
   {
    "duration": 230,
    "start_time": "2021-10-23T15:25:17.792Z"
   },
   {
    "duration": 4,
    "start_time": "2021-10-23T15:26:19.307Z"
   },
   {
    "duration": 177,
    "start_time": "2021-10-23T15:26:19.651Z"
   },
   {
    "duration": 69,
    "start_time": "2021-10-23T15:28:03.464Z"
   },
   {
    "duration": 162,
    "start_time": "2021-10-23T15:28:20.663Z"
   },
   {
    "duration": 59,
    "start_time": "2021-10-23T15:28:58.071Z"
   },
   {
    "duration": 4,
    "start_time": "2021-10-23T15:29:05.818Z"
   },
   {
    "duration": 131,
    "start_time": "2021-10-23T15:29:06.097Z"
   },
   {
    "duration": 5,
    "start_time": "2021-10-23T15:29:10.973Z"
   },
   {
    "duration": 4,
    "start_time": "2021-10-23T15:29:48.465Z"
   },
   {
    "duration": 77,
    "start_time": "2021-10-23T15:29:49.055Z"
   },
   {
    "duration": 215,
    "start_time": "2021-10-23T15:29:54.809Z"
   },
   {
    "duration": 19686,
    "start_time": "2021-10-23T15:31:04.140Z"
   },
   {
    "duration": 179,
    "start_time": "2021-10-23T15:35:24.145Z"
   },
   {
    "duration": 10,
    "start_time": "2021-10-23T15:36:19.366Z"
   },
   {
    "duration": 10,
    "start_time": "2021-10-23T15:36:29.815Z"
   },
   {
    "duration": 6,
    "start_time": "2021-10-23T15:38:03.397Z"
   },
   {
    "duration": 170,
    "start_time": "2021-10-23T15:38:03.756Z"
   },
   {
    "duration": 19869,
    "start_time": "2021-10-23T15:38:06.624Z"
   },
   {
    "duration": 6810,
    "start_time": "2021-10-23T15:59:33.671Z"
   },
   {
    "duration": 23934,
    "start_time": "2021-10-23T16:00:24.779Z"
   },
   {
    "duration": 25236,
    "start_time": "2021-10-23T16:01:16.695Z"
   },
   {
    "duration": 59441,
    "start_time": "2021-10-23T16:01:44.271Z"
   },
   {
    "duration": 1295,
    "start_time": "2021-10-23T16:50:54.958Z"
   },
   {
    "duration": 531,
    "start_time": "2021-10-23T16:50:56.256Z"
   },
   {
    "duration": 37,
    "start_time": "2021-10-23T16:50:56.791Z"
   },
   {
    "duration": 16,
    "start_time": "2021-10-23T16:50:56.832Z"
   },
   {
    "duration": 23,
    "start_time": "2021-10-23T16:50:56.851Z"
   },
   {
    "duration": 53,
    "start_time": "2021-10-23T16:50:56.877Z"
   },
   {
    "duration": 53,
    "start_time": "2021-10-23T16:50:56.933Z"
   },
   {
    "duration": 62,
    "start_time": "2021-10-23T16:50:56.991Z"
   },
   {
    "duration": 68,
    "start_time": "2021-10-23T16:50:57.056Z"
   },
   {
    "duration": 98,
    "start_time": "2021-10-23T16:50:57.126Z"
   },
   {
    "duration": 29,
    "start_time": "2021-10-23T16:50:57.226Z"
   },
   {
    "duration": 255,
    "start_time": "2021-10-23T16:50:57.257Z"
   },
   {
    "duration": 79400,
    "start_time": "2021-10-23T16:50:57.515Z"
   },
   {
    "duration": 72929,
    "start_time": "2021-10-23T16:52:16.918Z"
   },
   {
    "duration": 252,
    "start_time": "2021-10-23T16:53:29.850Z"
   },
   {
    "duration": 63,
    "start_time": "2021-10-23T16:53:30.104Z"
   },
   {
    "duration": 25,
    "start_time": "2021-10-23T16:53:30.170Z"
   },
   {
    "duration": 129,
    "start_time": "2021-10-23T16:53:30.197Z"
   },
   {
    "duration": 592,
    "start_time": "2021-10-23T16:53:30.330Z"
   },
   {
    "duration": 7503,
    "start_time": "2021-10-23T16:53:30.926Z"
   },
   {
    "duration": 92,
    "start_time": "2021-10-23T16:53:38.432Z"
   },
   {
    "duration": 11,
    "start_time": "2021-10-23T16:53:38.526Z"
   },
   {
    "duration": 4,
    "start_time": "2021-10-23T16:53:38.541Z"
   },
   {
    "duration": 209,
    "start_time": "2021-10-23T16:53:38.623Z"
   },
   {
    "duration": 59307,
    "start_time": "2021-10-23T16:53:38.835Z"
   },
   {
    "duration": 231,
    "start_time": "2021-10-24T13:25:08.268Z"
   },
   {
    "duration": 998,
    "start_time": "2021-10-24T13:25:21.996Z"
   },
   {
    "duration": 355,
    "start_time": "2021-10-24T13:25:22.995Z"
   },
   {
    "duration": 11,
    "start_time": "2021-10-24T13:25:23.594Z"
   },
   {
    "duration": 10,
    "start_time": "2021-10-24T13:25:24.168Z"
   },
   {
    "duration": 15,
    "start_time": "2021-10-24T13:25:24.720Z"
   },
   {
    "duration": 42,
    "start_time": "2021-10-24T13:25:25.158Z"
   },
   {
    "duration": 34,
    "start_time": "2021-10-24T13:25:25.319Z"
   },
   {
    "duration": 33,
    "start_time": "2021-10-24T13:25:25.485Z"
   },
   {
    "duration": 247,
    "start_time": "2021-10-24T13:25:26.656Z"
   },
   {
    "duration": 178,
    "start_time": "2021-10-24T13:25:27.214Z"
   },
   {
    "duration": 48135,
    "start_time": "2021-10-24T13:25:28.004Z"
   },
   {
    "duration": 199,
    "start_time": "2021-10-24T13:26:16.140Z"
   },
   {
    "duration": -2696,
    "start_time": "2021-10-24T13:26:19.036Z"
   },
   {
    "duration": 172,
    "start_time": "2021-10-24T13:27:37.431Z"
   },
   {
    "duration": 317,
    "start_time": "2021-10-24T13:27:53.492Z"
   },
   {
    "duration": 436,
    "start_time": "2021-10-24T13:28:01.776Z"
   },
   {
    "duration": 3,
    "start_time": "2021-10-24T13:28:34.436Z"
   },
   {
    "duration": 218,
    "start_time": "2021-10-24T13:28:57.148Z"
   },
   {
    "duration": 54,
    "start_time": "2021-10-24T13:29:41.461Z"
   },
   {
    "duration": 372,
    "start_time": "2021-10-24T13:29:53.838Z"
   },
   {
    "duration": 206,
    "start_time": "2021-10-24T13:30:00.819Z"
   },
   {
    "duration": 197,
    "start_time": "2021-10-24T13:30:14.205Z"
   },
   {
    "duration": 41,
    "start_time": "2021-10-24T13:30:37.148Z"
   },
   {
    "duration": 18,
    "start_time": "2021-10-24T13:32:12.556Z"
   },
   {
    "duration": 266,
    "start_time": "2021-10-24T13:34:37.186Z"
   },
   {
    "duration": 95,
    "start_time": "2021-10-24T13:34:50.104Z"
   },
   {
    "duration": 565,
    "start_time": "2021-10-24T13:35:16.428Z"
   },
   {
    "duration": 196,
    "start_time": "2021-10-24T13:38:24.560Z"
   },
   {
    "duration": 1198,
    "start_time": "2021-10-24T13:38:40.356Z"
   },
   {
    "duration": 6802,
    "start_time": "2021-10-24T13:39:32.696Z"
   },
   {
    "duration": 3,
    "start_time": "2021-10-24T13:41:52.020Z"
   },
   {
    "duration": 6163,
    "start_time": "2021-10-24T13:42:49.627Z"
   },
   {
    "duration": 6293,
    "start_time": "2021-10-24T13:50:14.498Z"
   },
   {
    "duration": 5782,
    "start_time": "2021-10-24T13:50:28.713Z"
   },
   {
    "duration": 6066,
    "start_time": "2021-10-24T13:51:43.127Z"
   },
   {
    "duration": 6123,
    "start_time": "2021-10-24T13:52:00.769Z"
   },
   {
    "duration": 5944,
    "start_time": "2021-10-24T13:53:02.755Z"
   },
   {
    "duration": 6126,
    "start_time": "2021-10-24T13:53:21.572Z"
   },
   {
    "duration": 756,
    "start_time": "2021-10-24T13:57:54.131Z"
   },
   {
    "duration": 208,
    "start_time": "2021-10-24T13:58:04.990Z"
   },
   {
    "duration": 3,
    "start_time": "2021-10-24T13:58:26.926Z"
   },
   {
    "duration": 7,
    "start_time": "2021-10-24T13:58:31.460Z"
   },
   {
    "duration": 4,
    "start_time": "2021-10-24T13:58:44.116Z"
   },
   {
    "duration": 329,
    "start_time": "2021-10-24T13:58:45.451Z"
   },
   {
    "duration": 3,
    "start_time": "2021-10-24T13:59:05.465Z"
   },
   {
    "duration": 297,
    "start_time": "2021-10-24T13:59:10.609Z"
   },
   {
    "duration": 550,
    "start_time": "2021-10-24T13:59:21.217Z"
   },
   {
    "duration": 189,
    "start_time": "2021-10-24T14:07:23.360Z"
   },
   {
    "duration": 265,
    "start_time": "2021-10-24T14:07:46.990Z"
   },
   {
    "duration": 245,
    "start_time": "2021-10-24T14:08:02.712Z"
   },
   {
    "duration": 27576,
    "start_time": "2021-10-24T14:08:17.536Z"
   },
   {
    "duration": 7340,
    "start_time": "2021-10-24T14:09:28.531Z"
   },
   {
    "duration": 7302,
    "start_time": "2021-10-24T14:09:51.361Z"
   },
   {
    "duration": 7253,
    "start_time": "2021-10-24T14:10:10.714Z"
   },
   {
    "duration": 7257,
    "start_time": "2021-10-24T14:14:37.503Z"
   },
   {
    "duration": 1003,
    "start_time": "2021-10-24T14:30:37.260Z"
   },
   {
    "duration": 352,
    "start_time": "2021-10-24T14:30:38.265Z"
   },
   {
    "duration": 10,
    "start_time": "2021-10-24T14:30:38.619Z"
   },
   {
    "duration": 9,
    "start_time": "2021-10-24T14:30:38.631Z"
   },
   {
    "duration": 9,
    "start_time": "2021-10-24T14:30:38.642Z"
   },
   {
    "duration": 62,
    "start_time": "2021-10-24T14:30:38.652Z"
   },
   {
    "duration": 33,
    "start_time": "2021-10-24T14:30:38.715Z"
   },
   {
    "duration": 42,
    "start_time": "2021-10-24T14:30:38.750Z"
   },
   {
    "duration": 14,
    "start_time": "2021-10-24T14:30:38.794Z"
   },
   {
    "duration": 62,
    "start_time": "2021-10-24T14:30:38.810Z"
   },
   {
    "duration": 48259,
    "start_time": "2021-10-24T14:30:38.873Z"
   },
   {
    "duration": 548,
    "start_time": "2021-10-24T14:31:27.134Z"
   },
   {
    "duration": 48,
    "start_time": "2021-10-24T14:31:27.684Z"
   },
   {
    "duration": 19,
    "start_time": "2021-10-24T14:31:27.734Z"
   },
   {
    "duration": 138,
    "start_time": "2021-10-24T14:31:27.755Z"
   },
   {
    "duration": 700,
    "start_time": "2021-10-24T14:31:27.895Z"
   },
   {
    "duration": 6299,
    "start_time": "2021-10-24T14:31:28.597Z"
   },
   {
    "duration": 92,
    "start_time": "2021-10-24T14:31:34.898Z"
   },
   {
    "duration": 9,
    "start_time": "2021-10-24T14:31:34.994Z"
   },
   {
    "duration": 9,
    "start_time": "2021-10-24T14:31:35.092Z"
   },
   {
    "duration": 7346,
    "start_time": "2021-10-24T14:31:35.103Z"
   },
   {
    "duration": 1027,
    "start_time": "2021-10-24T14:33:41.542Z"
   },
   {
    "duration": 358,
    "start_time": "2021-10-24T14:33:42.571Z"
   },
   {
    "duration": 10,
    "start_time": "2021-10-24T14:33:42.933Z"
   },
   {
    "duration": 9,
    "start_time": "2021-10-24T14:33:42.945Z"
   },
   {
    "duration": 9,
    "start_time": "2021-10-24T14:33:42.955Z"
   },
   {
    "duration": 65,
    "start_time": "2021-10-24T14:33:42.965Z"
   },
   {
    "duration": 35,
    "start_time": "2021-10-24T14:33:43.032Z"
   },
   {
    "duration": 53,
    "start_time": "2021-10-24T14:33:43.069Z"
   },
   {
    "duration": 15,
    "start_time": "2021-10-24T14:33:43.124Z"
   },
   {
    "duration": 77,
    "start_time": "2021-10-24T14:33:43.140Z"
   },
   {
    "duration": 48236,
    "start_time": "2021-10-24T14:33:43.218Z"
   },
   {
    "duration": 520,
    "start_time": "2021-10-24T14:34:31.456Z"
   },
   {
    "duration": 49,
    "start_time": "2021-10-24T14:34:31.978Z"
   },
   {
    "duration": 18,
    "start_time": "2021-10-24T14:34:32.028Z"
   },
   {
    "duration": 145,
    "start_time": "2021-10-24T14:34:32.048Z"
   },
   {
    "duration": 710,
    "start_time": "2021-10-24T14:34:32.194Z"
   },
   {
    "duration": 6486,
    "start_time": "2021-10-24T14:34:32.906Z"
   },
   {
    "duration": 3,
    "start_time": "2021-10-24T14:34:39.394Z"
   },
   {
    "duration": 93,
    "start_time": "2021-10-24T14:34:39.400Z"
   },
   {
    "duration": 3,
    "start_time": "2021-10-24T14:34:39.494Z"
   },
   {
    "duration": 7297,
    "start_time": "2021-10-24T14:34:39.498Z"
   }
  ],
  "kernelspec": {
   "display_name": "Python 3 (ipykernel)",
   "language": "python",
   "name": "python3"
  },
  "language_info": {
   "codemirror_mode": {
    "name": "ipython",
    "version": 3
   },
   "file_extension": ".py",
   "mimetype": "text/x-python",
   "name": "python",
   "nbconvert_exporter": "python",
   "pygments_lexer": "ipython3",
   "version": "3.9.7"
  },
  "toc": {
   "base_numbering": 1,
   "nav_menu": {},
   "number_sections": true,
   "sideBar": true,
   "skip_h1_title": true,
   "title_cell": "Table of Contents",
   "title_sidebar": "Contents",
   "toc_cell": false,
   "toc_position": {},
   "toc_section_display": true,
   "toc_window_display": false
  }
 },
 "nbformat": 4,
 "nbformat_minor": 4
}
