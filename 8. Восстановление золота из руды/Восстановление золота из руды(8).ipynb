{
 "cells": [
  {
   "cell_type": "markdown",
   "metadata": {
    "toc": true
   },
   "source": [
    "<h1>Содержание<span class=\"tocSkip\"></span></h1>\n",
    "<div class=\"toc\"><ul class=\"toc-item\"><li><span><a href=\"#Подготовка-данных\" data-toc-modified-id=\"Подготовка-данных-1\"><span class=\"toc-item-num\">1&nbsp;&nbsp;</span>Подготовка данных</a></span><ul class=\"toc-item\"><li><span><a href=\"#Выгрузка-и-первичный-осмотр-данных\" data-toc-modified-id=\"Выгрузка-и-первичный-осмотр-данных-1.1\"><span class=\"toc-item-num\">1.1&nbsp;&nbsp;</span>Выгрузка и первичный осмотр данных</a></span></li><li><span><a href=\"#Проверка-правильности-расчёта-эффективности.\" data-toc-modified-id=\"Проверка-правильности-расчёта-эффективности.-1.2\"><span class=\"toc-item-num\">1.2&nbsp;&nbsp;</span>Проверка правильности расчёта эффективности.</a></span></li><li><span><a href=\"#Анализ-недоступных-признаков-и-выделение-целевых-для-тренировочной-выборки\" data-toc-modified-id=\"Анализ-недоступных-признаков-и-выделение-целевых-для-тренировочной-выборки-1.3\"><span class=\"toc-item-num\">1.3&nbsp;&nbsp;</span>Анализ недоступных признаков и выделение целевых для тренировочной выборки</a></span></li><li><span><a href=\"#Предобработка-данных\" data-toc-modified-id=\"Предобработка-данных-1.4\"><span class=\"toc-item-num\">1.4&nbsp;&nbsp;</span>Предобработка данных</a></span><ul class=\"toc-item\"><li><span><a href=\"#Дроп-столбцов,-к-которым-у-нас-не-будет-доступа-в-тестовой-выборке\" data-toc-modified-id=\"Дроп-столбцов,-к-которым-у-нас-не-будет-доступа-в-тестовой-выборке-1.4.1\"><span class=\"toc-item-num\">1.4.1&nbsp;&nbsp;</span>Дроп столбцов, к которым у нас не будет доступа в тестовой выборке</a></span></li><li><span><a href=\"#Проверка-данных-на-корреляции\" data-toc-modified-id=\"Проверка-данных-на-корреляции-1.4.2\"><span class=\"toc-item-num\">1.4.2&nbsp;&nbsp;</span>Проверка данных на корреляции</a></span></li><li><span><a href=\"#Заполнение-пропусков-и-удаление-строк\" data-toc-modified-id=\"Заполнение-пропусков-и-удаление-строк-1.4.3\"><span class=\"toc-item-num\">1.4.3&nbsp;&nbsp;</span>Заполнение пропусков и удаление строк</a></span></li><li><span><a href=\"#Выделение-целевых-признаков-для-тестовой-выборки\" data-toc-modified-id=\"Выделение-целевых-признаков-для-тестовой-выборки-1.4.4\"><span class=\"toc-item-num\">1.4.4&nbsp;&nbsp;</span>Выделение целевых признаков для тестовой выборки</a></span></li></ul></li></ul></li><li><span><a href=\"#Анализ-данных\" data-toc-modified-id=\"Анализ-данных-2\"><span class=\"toc-item-num\">2&nbsp;&nbsp;</span>Анализ данных</a></span><ul class=\"toc-item\"><li><span><a href=\"#Анализ-изменения-концентрации-металлов\" data-toc-modified-id=\"Анализ-изменения-концентрации-металлов-2.1\"><span class=\"toc-item-num\">2.1&nbsp;&nbsp;</span>Анализ изменения концентрации металлов</a></span></li><li><span><a href=\"#Сравнение-распределения-размера-гранул-в-тренировочной-и-тестовой-выборках.\" data-toc-modified-id=\"Сравнение-распределения-размера-гранул-в-тренировочной-и-тестовой-выборках.-2.2\"><span class=\"toc-item-num\">2.2&nbsp;&nbsp;</span>Сравнение распределения размера гранул в тренировочной и тестовой выборках.</a></span></li><li><span><a href=\"#Исследование-суммарной-концентрации-всех-веществ-на-разных-стадиях\" data-toc-modified-id=\"Исследование-суммарной-концентрации-всех-веществ-на-разных-стадиях-2.3\"><span class=\"toc-item-num\">2.3&nbsp;&nbsp;</span>Исследование суммарной концентрации всех веществ на разных стадиях</a></span></li><li><span><a href=\"#Дроп-даты,-как-дублирующего-индекса\" data-toc-modified-id=\"Дроп-даты,-как-дублирующего-индекса-2.4\"><span class=\"toc-item-num\">2.4&nbsp;&nbsp;</span>Дроп даты, как дублирующего индекса</a></span></li></ul></li><li><span><a href=\"#Модель\" data-toc-modified-id=\"Модель-3\"><span class=\"toc-item-num\">3&nbsp;&nbsp;</span>Модель</a></span><ul class=\"toc-item\"><li><span><a href=\"#Масштабирование-признаков\" data-toc-modified-id=\"Масштабирование-признаков-3.1\"><span class=\"toc-item-num\">3.1&nbsp;&nbsp;</span>Масштабирование признаков</a></span></li><li><span><a href=\"#Функция-для-подсчёта-sMAPE\" data-toc-modified-id=\"Функция-для-подсчёта-sMAPE-3.2\"><span class=\"toc-item-num\">3.2&nbsp;&nbsp;</span>Функция для подсчёта sMAPE</a></span></li><li><span><a href=\"#Модель-случайного-леса\" data-toc-modified-id=\"Модель-случайного-леса-3.3\"><span class=\"toc-item-num\">3.3&nbsp;&nbsp;</span>Модель случайного леса</a></span></li><li><span><a href=\"#Модель-дерева-решений\" data-toc-modified-id=\"Модель-дерева-решений-3.4\"><span class=\"toc-item-num\">3.4&nbsp;&nbsp;</span>Модель дерева решений</a></span></li><li><span><a href=\"#Модель-линейной-регрессии\" data-toc-modified-id=\"Модель-линейной-регрессии-3.5\"><span class=\"toc-item-num\">3.5&nbsp;&nbsp;</span>Модель линейной регрессии</a></span></li><li><span><a href=\"#Проверка-модели-на-тестовой-выборке\" data-toc-modified-id=\"Проверка-модели-на-тестовой-выборке-3.6\"><span class=\"toc-item-num\">3.6&nbsp;&nbsp;</span>Проверка модели на тестовой выборке</a></span></li><li><span><a href=\"#Сравнение-с-простой-моделью\" data-toc-modified-id=\"Сравнение-с-простой-моделью-3.7\"><span class=\"toc-item-num\">3.7&nbsp;&nbsp;</span>Сравнение с простой моделью</a></span></li></ul></li><li><span><a href=\"#Чек-лист-готовности-проекта\" data-toc-modified-id=\"Чек-лист-готовности-проекта-4\"><span class=\"toc-item-num\">4&nbsp;&nbsp;</span>Чек-лист готовности проекта</a></span></li></ul></div>"
   ]
  },
  {
   "cell_type": "markdown",
   "metadata": {},
   "source": [
    "# Восстановление золота из руды"
   ]
  },
  {
   "cell_type": "markdown",
   "metadata": {},
   "source": [
    "Подготовьте прототип модели машинного обучения для «Цифры». Компания разрабатывает решения для эффективной работы промышленных предприятий.\n",
    "\n",
    "Модель должна предсказать коэффициент восстановления золота из золотосодержащей руды. Используйте данные с параметрами добычи и очистки. \n",
    "\n",
    "Модель поможет оптимизировать производство, чтобы не запускать предприятие с убыточными характеристиками.\n",
    "\n",
    "Вам нужно:\n",
    "\n",
    "1. Подготовить данные;\n",
    "2. Провести исследовательский анализ данных;\n",
    "3. Построить и обучить модель.\n",
    "\n",
    "Чтобы выполнить проект, обращайтесь к библиотекам *pandas*, *matplotlib* и *sklearn.* Вам поможет их документация."
   ]
  },
  {
   "cell_type": "markdown",
   "metadata": {},
   "source": [
    "## Подготовка данных"
   ]
  },
  {
   "cell_type": "markdown",
   "metadata": {},
   "source": [
    "### Выгрузка и первичный осмотр данных"
   ]
  },
  {
   "cell_type": "code",
   "execution_count": 1,
   "metadata": {},
   "outputs": [],
   "source": [
    "import pandas as pd\n",
    "from sklearn.metrics import mean_absolute_error\n",
    "import matplotlib.pyplot as plt\n",
    "from sklearn.preprocessing import StandardScaler\n",
    "from sklearn.ensemble import RandomForestRegressor\n",
    "from sklearn.tree import DecisionTreeRegressor\n",
    "from sklearn.model_selection import cross_val_predict\n",
    "from sklearn.linear_model import LinearRegression\n",
    "from sklearn.dummy import DummyRegressor"
   ]
  },
  {
   "cell_type": "code",
   "execution_count": 2,
   "metadata": {},
   "outputs": [
    {
     "data": {
      "text/html": [
       "<div>\n",
       "<style scoped>\n",
       "    .dataframe tbody tr th:only-of-type {\n",
       "        vertical-align: middle;\n",
       "    }\n",
       "\n",
       "    .dataframe tbody tr th {\n",
       "        vertical-align: top;\n",
       "    }\n",
       "\n",
       "    .dataframe thead th {\n",
       "        text-align: right;\n",
       "    }\n",
       "</style>\n",
       "<table border=\"1\" class=\"dataframe\">\n",
       "  <thead>\n",
       "    <tr style=\"text-align: right;\">\n",
       "      <th></th>\n",
       "      <th>date</th>\n",
       "      <th>final.output.concentrate_ag</th>\n",
       "      <th>final.output.concentrate_pb</th>\n",
       "      <th>final.output.concentrate_sol</th>\n",
       "      <th>final.output.concentrate_au</th>\n",
       "      <th>final.output.recovery</th>\n",
       "      <th>final.output.tail_ag</th>\n",
       "      <th>final.output.tail_pb</th>\n",
       "      <th>final.output.tail_sol</th>\n",
       "      <th>final.output.tail_au</th>\n",
       "      <th>...</th>\n",
       "      <th>secondary_cleaner.state.floatbank4_a_air</th>\n",
       "      <th>secondary_cleaner.state.floatbank4_a_level</th>\n",
       "      <th>secondary_cleaner.state.floatbank4_b_air</th>\n",
       "      <th>secondary_cleaner.state.floatbank4_b_level</th>\n",
       "      <th>secondary_cleaner.state.floatbank5_a_air</th>\n",
       "      <th>secondary_cleaner.state.floatbank5_a_level</th>\n",
       "      <th>secondary_cleaner.state.floatbank5_b_air</th>\n",
       "      <th>secondary_cleaner.state.floatbank5_b_level</th>\n",
       "      <th>secondary_cleaner.state.floatbank6_a_air</th>\n",
       "      <th>secondary_cleaner.state.floatbank6_a_level</th>\n",
       "    </tr>\n",
       "  </thead>\n",
       "  <tbody>\n",
       "    <tr>\n",
       "      <td>0</td>\n",
       "      <td>2016-01-15 00:00:00</td>\n",
       "      <td>6.055403</td>\n",
       "      <td>9.889648</td>\n",
       "      <td>5.507324</td>\n",
       "      <td>42.192020</td>\n",
       "      <td>70.541216</td>\n",
       "      <td>10.411962</td>\n",
       "      <td>0.895447</td>\n",
       "      <td>16.904297</td>\n",
       "      <td>2.143149</td>\n",
       "      <td>...</td>\n",
       "      <td>14.016835</td>\n",
       "      <td>-502.488007</td>\n",
       "      <td>12.099931</td>\n",
       "      <td>-504.715942</td>\n",
       "      <td>9.925633</td>\n",
       "      <td>-498.310211</td>\n",
       "      <td>8.079666</td>\n",
       "      <td>-500.470978</td>\n",
       "      <td>14.151341</td>\n",
       "      <td>-605.841980</td>\n",
       "    </tr>\n",
       "    <tr>\n",
       "      <td>1</td>\n",
       "      <td>2016-01-15 01:00:00</td>\n",
       "      <td>6.029369</td>\n",
       "      <td>9.968944</td>\n",
       "      <td>5.257781</td>\n",
       "      <td>42.701629</td>\n",
       "      <td>69.266198</td>\n",
       "      <td>10.462676</td>\n",
       "      <td>0.927452</td>\n",
       "      <td>16.634514</td>\n",
       "      <td>2.224930</td>\n",
       "      <td>...</td>\n",
       "      <td>13.992281</td>\n",
       "      <td>-505.503262</td>\n",
       "      <td>11.950531</td>\n",
       "      <td>-501.331529</td>\n",
       "      <td>10.039245</td>\n",
       "      <td>-500.169983</td>\n",
       "      <td>7.984757</td>\n",
       "      <td>-500.582168</td>\n",
       "      <td>13.998353</td>\n",
       "      <td>-599.787184</td>\n",
       "    </tr>\n",
       "    <tr>\n",
       "      <td>2</td>\n",
       "      <td>2016-01-15 02:00:00</td>\n",
       "      <td>6.055926</td>\n",
       "      <td>10.213995</td>\n",
       "      <td>5.383759</td>\n",
       "      <td>42.657501</td>\n",
       "      <td>68.116445</td>\n",
       "      <td>10.507046</td>\n",
       "      <td>0.953716</td>\n",
       "      <td>16.208849</td>\n",
       "      <td>2.257889</td>\n",
       "      <td>...</td>\n",
       "      <td>14.015015</td>\n",
       "      <td>-502.520901</td>\n",
       "      <td>11.912783</td>\n",
       "      <td>-501.133383</td>\n",
       "      <td>10.070913</td>\n",
       "      <td>-500.129135</td>\n",
       "      <td>8.013877</td>\n",
       "      <td>-500.517572</td>\n",
       "      <td>14.028663</td>\n",
       "      <td>-601.427363</td>\n",
       "    </tr>\n",
       "    <tr>\n",
       "      <td>3</td>\n",
       "      <td>2016-01-15 03:00:00</td>\n",
       "      <td>6.047977</td>\n",
       "      <td>9.977019</td>\n",
       "      <td>4.858634</td>\n",
       "      <td>42.689819</td>\n",
       "      <td>68.347543</td>\n",
       "      <td>10.422762</td>\n",
       "      <td>0.883763</td>\n",
       "      <td>16.532835</td>\n",
       "      <td>2.146849</td>\n",
       "      <td>...</td>\n",
       "      <td>14.036510</td>\n",
       "      <td>-500.857308</td>\n",
       "      <td>11.999550</td>\n",
       "      <td>-501.193686</td>\n",
       "      <td>9.970366</td>\n",
       "      <td>-499.201640</td>\n",
       "      <td>7.977324</td>\n",
       "      <td>-500.255908</td>\n",
       "      <td>14.005551</td>\n",
       "      <td>-599.996129</td>\n",
       "    </tr>\n",
       "    <tr>\n",
       "      <td>4</td>\n",
       "      <td>2016-01-15 04:00:00</td>\n",
       "      <td>6.148599</td>\n",
       "      <td>10.142511</td>\n",
       "      <td>4.939416</td>\n",
       "      <td>42.774141</td>\n",
       "      <td>66.927016</td>\n",
       "      <td>10.360302</td>\n",
       "      <td>0.792826</td>\n",
       "      <td>16.525686</td>\n",
       "      <td>2.055292</td>\n",
       "      <td>...</td>\n",
       "      <td>14.027298</td>\n",
       "      <td>-499.838632</td>\n",
       "      <td>11.953070</td>\n",
       "      <td>-501.053894</td>\n",
       "      <td>9.925709</td>\n",
       "      <td>-501.686727</td>\n",
       "      <td>7.894242</td>\n",
       "      <td>-500.356035</td>\n",
       "      <td>13.996647</td>\n",
       "      <td>-601.496691</td>\n",
       "    </tr>\n",
       "  </tbody>\n",
       "</table>\n",
       "<p>5 rows × 87 columns</p>\n",
       "</div>"
      ],
      "text/plain": [
       "                  date  final.output.concentrate_ag  \\\n",
       "0  2016-01-15 00:00:00                     6.055403   \n",
       "1  2016-01-15 01:00:00                     6.029369   \n",
       "2  2016-01-15 02:00:00                     6.055926   \n",
       "3  2016-01-15 03:00:00                     6.047977   \n",
       "4  2016-01-15 04:00:00                     6.148599   \n",
       "\n",
       "   final.output.concentrate_pb  final.output.concentrate_sol  \\\n",
       "0                     9.889648                      5.507324   \n",
       "1                     9.968944                      5.257781   \n",
       "2                    10.213995                      5.383759   \n",
       "3                     9.977019                      4.858634   \n",
       "4                    10.142511                      4.939416   \n",
       "\n",
       "   final.output.concentrate_au  final.output.recovery  final.output.tail_ag  \\\n",
       "0                    42.192020              70.541216             10.411962   \n",
       "1                    42.701629              69.266198             10.462676   \n",
       "2                    42.657501              68.116445             10.507046   \n",
       "3                    42.689819              68.347543             10.422762   \n",
       "4                    42.774141              66.927016             10.360302   \n",
       "\n",
       "   final.output.tail_pb  final.output.tail_sol  final.output.tail_au  ...  \\\n",
       "0              0.895447              16.904297              2.143149  ...   \n",
       "1              0.927452              16.634514              2.224930  ...   \n",
       "2              0.953716              16.208849              2.257889  ...   \n",
       "3              0.883763              16.532835              2.146849  ...   \n",
       "4              0.792826              16.525686              2.055292  ...   \n",
       "\n",
       "   secondary_cleaner.state.floatbank4_a_air  \\\n",
       "0                                 14.016835   \n",
       "1                                 13.992281   \n",
       "2                                 14.015015   \n",
       "3                                 14.036510   \n",
       "4                                 14.027298   \n",
       "\n",
       "   secondary_cleaner.state.floatbank4_a_level  \\\n",
       "0                                 -502.488007   \n",
       "1                                 -505.503262   \n",
       "2                                 -502.520901   \n",
       "3                                 -500.857308   \n",
       "4                                 -499.838632   \n",
       "\n",
       "   secondary_cleaner.state.floatbank4_b_air  \\\n",
       "0                                 12.099931   \n",
       "1                                 11.950531   \n",
       "2                                 11.912783   \n",
       "3                                 11.999550   \n",
       "4                                 11.953070   \n",
       "\n",
       "   secondary_cleaner.state.floatbank4_b_level  \\\n",
       "0                                 -504.715942   \n",
       "1                                 -501.331529   \n",
       "2                                 -501.133383   \n",
       "3                                 -501.193686   \n",
       "4                                 -501.053894   \n",
       "\n",
       "   secondary_cleaner.state.floatbank5_a_air  \\\n",
       "0                                  9.925633   \n",
       "1                                 10.039245   \n",
       "2                                 10.070913   \n",
       "3                                  9.970366   \n",
       "4                                  9.925709   \n",
       "\n",
       "   secondary_cleaner.state.floatbank5_a_level  \\\n",
       "0                                 -498.310211   \n",
       "1                                 -500.169983   \n",
       "2                                 -500.129135   \n",
       "3                                 -499.201640   \n",
       "4                                 -501.686727   \n",
       "\n",
       "   secondary_cleaner.state.floatbank5_b_air  \\\n",
       "0                                  8.079666   \n",
       "1                                  7.984757   \n",
       "2                                  8.013877   \n",
       "3                                  7.977324   \n",
       "4                                  7.894242   \n",
       "\n",
       "   secondary_cleaner.state.floatbank5_b_level  \\\n",
       "0                                 -500.470978   \n",
       "1                                 -500.582168   \n",
       "2                                 -500.517572   \n",
       "3                                 -500.255908   \n",
       "4                                 -500.356035   \n",
       "\n",
       "   secondary_cleaner.state.floatbank6_a_air  \\\n",
       "0                                 14.151341   \n",
       "1                                 13.998353   \n",
       "2                                 14.028663   \n",
       "3                                 14.005551   \n",
       "4                                 13.996647   \n",
       "\n",
       "   secondary_cleaner.state.floatbank6_a_level  \n",
       "0                                 -605.841980  \n",
       "1                                 -599.787184  \n",
       "2                                 -601.427363  \n",
       "3                                 -599.996129  \n",
       "4                                 -601.496691  \n",
       "\n",
       "[5 rows x 87 columns]"
      ]
     },
     "execution_count": 2,
     "metadata": {},
     "output_type": "execute_result"
    }
   ],
   "source": [
    "data_train = pd.read_csv(\"/datasets/gold_recovery_train_new.csv\")\n",
    "data_test = pd.read_csv(\"/datasets/gold_recovery_test_new.csv\")\n",
    "data_full = pd.read_csv(\"/datasets/gold_recovery_full_new.csv\")\n",
    "data_train.head()"
   ]
  },
  {
   "cell_type": "code",
   "execution_count": 3,
   "metadata": {},
   "outputs": [
    {
     "name": "stdout",
     "output_type": "stream",
     "text": [
      "<class 'pandas.core.frame.DataFrame'>\n",
      "RangeIndex: 14149 entries, 0 to 14148\n",
      "Data columns (total 87 columns):\n",
      "date                                                  14149 non-null object\n",
      "final.output.concentrate_ag                           14148 non-null float64\n",
      "final.output.concentrate_pb                           14148 non-null float64\n",
      "final.output.concentrate_sol                          13938 non-null float64\n",
      "final.output.concentrate_au                           14149 non-null float64\n",
      "final.output.recovery                                 14149 non-null float64\n",
      "final.output.tail_ag                                  14149 non-null float64\n",
      "final.output.tail_pb                                  14049 non-null float64\n",
      "final.output.tail_sol                                 14144 non-null float64\n",
      "final.output.tail_au                                  14149 non-null float64\n",
      "primary_cleaner.input.sulfate                         14129 non-null float64\n",
      "primary_cleaner.input.depressant                      14117 non-null float64\n",
      "primary_cleaner.input.feed_size                       14149 non-null float64\n",
      "primary_cleaner.input.xanthate                        14049 non-null float64\n",
      "primary_cleaner.output.concentrate_ag                 14149 non-null float64\n",
      "primary_cleaner.output.concentrate_pb                 14063 non-null float64\n",
      "primary_cleaner.output.concentrate_sol                13863 non-null float64\n",
      "primary_cleaner.output.concentrate_au                 14149 non-null float64\n",
      "primary_cleaner.output.tail_ag                        14148 non-null float64\n",
      "primary_cleaner.output.tail_pb                        14134 non-null float64\n",
      "primary_cleaner.output.tail_sol                       14103 non-null float64\n",
      "primary_cleaner.output.tail_au                        14149 non-null float64\n",
      "primary_cleaner.state.floatbank8_a_air                14145 non-null float64\n",
      "primary_cleaner.state.floatbank8_a_level              14148 non-null float64\n",
      "primary_cleaner.state.floatbank8_b_air                14145 non-null float64\n",
      "primary_cleaner.state.floatbank8_b_level              14148 non-null float64\n",
      "primary_cleaner.state.floatbank8_c_air                14147 non-null float64\n",
      "primary_cleaner.state.floatbank8_c_level              14148 non-null float64\n",
      "primary_cleaner.state.floatbank8_d_air                14146 non-null float64\n",
      "primary_cleaner.state.floatbank8_d_level              14148 non-null float64\n",
      "rougher.calculation.sulfate_to_au_concentrate         14148 non-null float64\n",
      "rougher.calculation.floatbank10_sulfate_to_au_feed    14148 non-null float64\n",
      "rougher.calculation.floatbank11_sulfate_to_au_feed    14148 non-null float64\n",
      "rougher.calculation.au_pb_ratio                       14149 non-null float64\n",
      "rougher.input.feed_ag                                 14149 non-null float64\n",
      "rougher.input.feed_pb                                 14049 non-null float64\n",
      "rougher.input.feed_rate                               14141 non-null float64\n",
      "rougher.input.feed_size                               14005 non-null float64\n",
      "rougher.input.feed_sol                                14071 non-null float64\n",
      "rougher.input.feed_au                                 14149 non-null float64\n",
      "rougher.input.floatbank10_sulfate                     14120 non-null float64\n",
      "rougher.input.floatbank10_xanthate                    14141 non-null float64\n",
      "rougher.input.floatbank11_sulfate                     14113 non-null float64\n",
      "rougher.input.floatbank11_xanthate                    13721 non-null float64\n",
      "rougher.output.concentrate_ag                         14149 non-null float64\n",
      "rougher.output.concentrate_pb                         14149 non-null float64\n",
      "rougher.output.concentrate_sol                        14127 non-null float64\n",
      "rougher.output.concentrate_au                         14149 non-null float64\n",
      "rougher.output.recovery                               14149 non-null float64\n",
      "rougher.output.tail_ag                                14148 non-null float64\n",
      "rougher.output.tail_pb                                14149 non-null float64\n",
      "rougher.output.tail_sol                               14149 non-null float64\n",
      "rougher.output.tail_au                                14149 non-null float64\n",
      "rougher.state.floatbank10_a_air                       14148 non-null float64\n",
      "rougher.state.floatbank10_a_level                     14148 non-null float64\n",
      "rougher.state.floatbank10_b_air                       14148 non-null float64\n",
      "rougher.state.floatbank10_b_level                     14148 non-null float64\n",
      "rougher.state.floatbank10_c_air                       14148 non-null float64\n",
      "rougher.state.floatbank10_c_level                     14148 non-null float64\n",
      "rougher.state.floatbank10_d_air                       14149 non-null float64\n",
      "rougher.state.floatbank10_d_level                     14149 non-null float64\n",
      "rougher.state.floatbank10_e_air                       13713 non-null float64\n",
      "rougher.state.floatbank10_e_level                     14149 non-null float64\n",
      "rougher.state.floatbank10_f_air                       14149 non-null float64\n",
      "rougher.state.floatbank10_f_level                     14149 non-null float64\n",
      "secondary_cleaner.output.tail_ag                      14147 non-null float64\n",
      "secondary_cleaner.output.tail_pb                      14139 non-null float64\n",
      "secondary_cleaner.output.tail_sol                     12544 non-null float64\n",
      "secondary_cleaner.output.tail_au                      14149 non-null float64\n",
      "secondary_cleaner.state.floatbank2_a_air              13932 non-null float64\n",
      "secondary_cleaner.state.floatbank2_a_level            14148 non-null float64\n",
      "secondary_cleaner.state.floatbank2_b_air              14128 non-null float64\n",
      "secondary_cleaner.state.floatbank2_b_level            14148 non-null float64\n",
      "secondary_cleaner.state.floatbank3_a_air              14145 non-null float64\n",
      "secondary_cleaner.state.floatbank3_a_level            14148 non-null float64\n",
      "secondary_cleaner.state.floatbank3_b_air              14148 non-null float64\n",
      "secondary_cleaner.state.floatbank3_b_level            14148 non-null float64\n",
      "secondary_cleaner.state.floatbank4_a_air              14143 non-null float64\n",
      "secondary_cleaner.state.floatbank4_a_level            14148 non-null float64\n",
      "secondary_cleaner.state.floatbank4_b_air              14148 non-null float64\n",
      "secondary_cleaner.state.floatbank4_b_level            14148 non-null float64\n",
      "secondary_cleaner.state.floatbank5_a_air              14148 non-null float64\n",
      "secondary_cleaner.state.floatbank5_a_level            14148 non-null float64\n",
      "secondary_cleaner.state.floatbank5_b_air              14148 non-null float64\n",
      "secondary_cleaner.state.floatbank5_b_level            14148 non-null float64\n",
      "secondary_cleaner.state.floatbank6_a_air              14147 non-null float64\n",
      "secondary_cleaner.state.floatbank6_a_level            14148 non-null float64\n",
      "dtypes: float64(86), object(1)\n",
      "memory usage: 9.4+ MB\n"
     ]
    }
   ],
   "source": [
    "data_train.info()"
   ]
  },
  {
   "cell_type": "markdown",
   "metadata": {},
   "source": [
    "На этом этапе мы понимаем, что у нас огромное количество признаков, делать осознанные выводы по которым практически невозможно. Поэтому пока приведём данные в порядок самыми общими методами."
   ]
  },
  {
   "cell_type": "code",
   "execution_count": 4,
   "metadata": {},
   "outputs": [
    {
     "data": {
      "text/html": [
       "<div>\n",
       "<style scoped>\n",
       "    .dataframe tbody tr th:only-of-type {\n",
       "        vertical-align: middle;\n",
       "    }\n",
       "\n",
       "    .dataframe tbody tr th {\n",
       "        vertical-align: top;\n",
       "    }\n",
       "\n",
       "    .dataframe thead th {\n",
       "        text-align: right;\n",
       "    }\n",
       "</style>\n",
       "<table border=\"1\" class=\"dataframe\">\n",
       "  <thead>\n",
       "    <tr style=\"text-align: right;\">\n",
       "      <th></th>\n",
       "      <th>final.output.concentrate_ag</th>\n",
       "      <th>final.output.concentrate_pb</th>\n",
       "      <th>final.output.concentrate_sol</th>\n",
       "      <th>final.output.concentrate_au</th>\n",
       "      <th>final.output.recovery</th>\n",
       "      <th>final.output.tail_ag</th>\n",
       "      <th>final.output.tail_pb</th>\n",
       "      <th>final.output.tail_sol</th>\n",
       "      <th>final.output.tail_au</th>\n",
       "      <th>primary_cleaner.input.sulfate</th>\n",
       "      <th>...</th>\n",
       "      <th>secondary_cleaner.state.floatbank4_a_air</th>\n",
       "      <th>secondary_cleaner.state.floatbank4_a_level</th>\n",
       "      <th>secondary_cleaner.state.floatbank4_b_air</th>\n",
       "      <th>secondary_cleaner.state.floatbank4_b_level</th>\n",
       "      <th>secondary_cleaner.state.floatbank5_a_air</th>\n",
       "      <th>secondary_cleaner.state.floatbank5_a_level</th>\n",
       "      <th>secondary_cleaner.state.floatbank5_b_air</th>\n",
       "      <th>secondary_cleaner.state.floatbank5_b_level</th>\n",
       "      <th>secondary_cleaner.state.floatbank6_a_air</th>\n",
       "      <th>secondary_cleaner.state.floatbank6_a_level</th>\n",
       "    </tr>\n",
       "  </thead>\n",
       "  <tbody>\n",
       "    <tr>\n",
       "      <td>count</td>\n",
       "      <td>14148.000000</td>\n",
       "      <td>14148.000000</td>\n",
       "      <td>13938.000000</td>\n",
       "      <td>14149.000000</td>\n",
       "      <td>14149.000000</td>\n",
       "      <td>14149.000000</td>\n",
       "      <td>14049.000000</td>\n",
       "      <td>14144.000000</td>\n",
       "      <td>14149.000000</td>\n",
       "      <td>14129.000000</td>\n",
       "      <td>...</td>\n",
       "      <td>14143.000000</td>\n",
       "      <td>14148.000000</td>\n",
       "      <td>14148.000000</td>\n",
       "      <td>14148.000000</td>\n",
       "      <td>14148.000000</td>\n",
       "      <td>14148.000000</td>\n",
       "      <td>14148.000000</td>\n",
       "      <td>14148.000000</td>\n",
       "      <td>14147.000000</td>\n",
       "      <td>14148.000000</td>\n",
       "    </tr>\n",
       "    <tr>\n",
       "      <td>mean</td>\n",
       "      <td>5.142034</td>\n",
       "      <td>10.132960</td>\n",
       "      <td>9.202849</td>\n",
       "      <td>44.003792</td>\n",
       "      <td>66.518832</td>\n",
       "      <td>9.607035</td>\n",
       "      <td>2.597298</td>\n",
       "      <td>10.512122</td>\n",
       "      <td>2.918421</td>\n",
       "      <td>133.320659</td>\n",
       "      <td>...</td>\n",
       "      <td>19.985454</td>\n",
       "      <td>-478.696836</td>\n",
       "      <td>15.487065</td>\n",
       "      <td>-460.229416</td>\n",
       "      <td>16.775136</td>\n",
       "      <td>-483.956022</td>\n",
       "      <td>13.064590</td>\n",
       "      <td>-483.966564</td>\n",
       "      <td>19.577539</td>\n",
       "      <td>-506.798480</td>\n",
       "    </tr>\n",
       "    <tr>\n",
       "      <td>std</td>\n",
       "      <td>1.369586</td>\n",
       "      <td>1.654930</td>\n",
       "      <td>2.790516</td>\n",
       "      <td>4.905261</td>\n",
       "      <td>10.295402</td>\n",
       "      <td>2.319069</td>\n",
       "      <td>0.971843</td>\n",
       "      <td>3.003617</td>\n",
       "      <td>0.903712</td>\n",
       "      <td>39.431659</td>\n",
       "      <td>...</td>\n",
       "      <td>5.657723</td>\n",
       "      <td>50.736021</td>\n",
       "      <td>5.255655</td>\n",
       "      <td>58.843586</td>\n",
       "      <td>5.831906</td>\n",
       "      <td>37.892788</td>\n",
       "      <td>5.765617</td>\n",
       "      <td>39.207913</td>\n",
       "      <td>5.764417</td>\n",
       "      <td>37.079249</td>\n",
       "    </tr>\n",
       "    <tr>\n",
       "      <td>min</td>\n",
       "      <td>0.000000</td>\n",
       "      <td>0.000000</td>\n",
       "      <td>0.000000</td>\n",
       "      <td>0.000000</td>\n",
       "      <td>0.000000</td>\n",
       "      <td>0.000000</td>\n",
       "      <td>0.000000</td>\n",
       "      <td>0.000000</td>\n",
       "      <td>0.000000</td>\n",
       "      <td>0.003112</td>\n",
       "      <td>...</td>\n",
       "      <td>0.000000</td>\n",
       "      <td>-799.709069</td>\n",
       "      <td>0.000000</td>\n",
       "      <td>-799.889113</td>\n",
       "      <td>-0.372054</td>\n",
       "      <td>-797.142475</td>\n",
       "      <td>0.646208</td>\n",
       "      <td>-800.006180</td>\n",
       "      <td>0.195324</td>\n",
       "      <td>-809.398668</td>\n",
       "    </tr>\n",
       "    <tr>\n",
       "      <td>25%</td>\n",
       "      <td>4.211620</td>\n",
       "      <td>9.297355</td>\n",
       "      <td>7.484645</td>\n",
       "      <td>43.276111</td>\n",
       "      <td>62.545817</td>\n",
       "      <td>7.997429</td>\n",
       "      <td>1.905973</td>\n",
       "      <td>8.811324</td>\n",
       "      <td>2.368607</td>\n",
       "      <td>107.006651</td>\n",
       "      <td>...</td>\n",
       "      <td>14.990775</td>\n",
       "      <td>-500.628656</td>\n",
       "      <td>11.894558</td>\n",
       "      <td>-500.149000</td>\n",
       "      <td>11.083980</td>\n",
       "      <td>-500.363177</td>\n",
       "      <td>8.994405</td>\n",
       "      <td>-500.105994</td>\n",
       "      <td>14.989304</td>\n",
       "      <td>-500.745104</td>\n",
       "    </tr>\n",
       "    <tr>\n",
       "      <td>50%</td>\n",
       "      <td>4.994652</td>\n",
       "      <td>10.297144</td>\n",
       "      <td>8.845462</td>\n",
       "      <td>44.872436</td>\n",
       "      <td>67.432775</td>\n",
       "      <td>9.480270</td>\n",
       "      <td>2.592022</td>\n",
       "      <td>10.514621</td>\n",
       "      <td>2.851025</td>\n",
       "      <td>133.018328</td>\n",
       "      <td>...</td>\n",
       "      <td>20.001789</td>\n",
       "      <td>-499.681450</td>\n",
       "      <td>14.975536</td>\n",
       "      <td>-499.388738</td>\n",
       "      <td>17.932223</td>\n",
       "      <td>-499.702452</td>\n",
       "      <td>11.997547</td>\n",
       "      <td>-499.914556</td>\n",
       "      <td>19.984175</td>\n",
       "      <td>-500.061431</td>\n",
       "    </tr>\n",
       "    <tr>\n",
       "      <td>75%</td>\n",
       "      <td>5.859540</td>\n",
       "      <td>11.170603</td>\n",
       "      <td>10.487508</td>\n",
       "      <td>46.166425</td>\n",
       "      <td>72.346428</td>\n",
       "      <td>11.003707</td>\n",
       "      <td>3.241723</td>\n",
       "      <td>11.933009</td>\n",
       "      <td>3.434764</td>\n",
       "      <td>159.825396</td>\n",
       "      <td>...</td>\n",
       "      <td>24.990826</td>\n",
       "      <td>-477.472413</td>\n",
       "      <td>20.059375</td>\n",
       "      <td>-400.039008</td>\n",
       "      <td>21.346550</td>\n",
       "      <td>-487.712108</td>\n",
       "      <td>17.982903</td>\n",
       "      <td>-453.186936</td>\n",
       "      <td>24.991623</td>\n",
       "      <td>-499.536466</td>\n",
       "    </tr>\n",
       "    <tr>\n",
       "      <td>max</td>\n",
       "      <td>16.001945</td>\n",
       "      <td>17.031899</td>\n",
       "      <td>18.124851</td>\n",
       "      <td>52.756638</td>\n",
       "      <td>100.000000</td>\n",
       "      <td>19.552149</td>\n",
       "      <td>5.639565</td>\n",
       "      <td>22.317730</td>\n",
       "      <td>8.197408</td>\n",
       "      <td>250.127834</td>\n",
       "      <td>...</td>\n",
       "      <td>30.115735</td>\n",
       "      <td>-245.239184</td>\n",
       "      <td>24.007913</td>\n",
       "      <td>-145.071088</td>\n",
       "      <td>43.709931</td>\n",
       "      <td>-275.073125</td>\n",
       "      <td>27.926001</td>\n",
       "      <td>-157.396071</td>\n",
       "      <td>32.188906</td>\n",
       "      <td>-104.427459</td>\n",
       "    </tr>\n",
       "  </tbody>\n",
       "</table>\n",
       "<p>8 rows × 86 columns</p>\n",
       "</div>"
      ],
      "text/plain": [
       "       final.output.concentrate_ag  final.output.concentrate_pb  \\\n",
       "count                 14148.000000                 14148.000000   \n",
       "mean                      5.142034                    10.132960   \n",
       "std                       1.369586                     1.654930   \n",
       "min                       0.000000                     0.000000   \n",
       "25%                       4.211620                     9.297355   \n",
       "50%                       4.994652                    10.297144   \n",
       "75%                       5.859540                    11.170603   \n",
       "max                      16.001945                    17.031899   \n",
       "\n",
       "       final.output.concentrate_sol  final.output.concentrate_au  \\\n",
       "count                  13938.000000                 14149.000000   \n",
       "mean                       9.202849                    44.003792   \n",
       "std                        2.790516                     4.905261   \n",
       "min                        0.000000                     0.000000   \n",
       "25%                        7.484645                    43.276111   \n",
       "50%                        8.845462                    44.872436   \n",
       "75%                       10.487508                    46.166425   \n",
       "max                       18.124851                    52.756638   \n",
       "\n",
       "       final.output.recovery  final.output.tail_ag  final.output.tail_pb  \\\n",
       "count           14149.000000          14149.000000          14049.000000   \n",
       "mean               66.518832              9.607035              2.597298   \n",
       "std                10.295402              2.319069              0.971843   \n",
       "min                 0.000000              0.000000              0.000000   \n",
       "25%                62.545817              7.997429              1.905973   \n",
       "50%                67.432775              9.480270              2.592022   \n",
       "75%                72.346428             11.003707              3.241723   \n",
       "max               100.000000             19.552149              5.639565   \n",
       "\n",
       "       final.output.tail_sol  final.output.tail_au  \\\n",
       "count           14144.000000          14149.000000   \n",
       "mean               10.512122              2.918421   \n",
       "std                 3.003617              0.903712   \n",
       "min                 0.000000              0.000000   \n",
       "25%                 8.811324              2.368607   \n",
       "50%                10.514621              2.851025   \n",
       "75%                11.933009              3.434764   \n",
       "max                22.317730              8.197408   \n",
       "\n",
       "       primary_cleaner.input.sulfate  ...  \\\n",
       "count                   14129.000000  ...   \n",
       "mean                      133.320659  ...   \n",
       "std                        39.431659  ...   \n",
       "min                         0.003112  ...   \n",
       "25%                       107.006651  ...   \n",
       "50%                       133.018328  ...   \n",
       "75%                       159.825396  ...   \n",
       "max                       250.127834  ...   \n",
       "\n",
       "       secondary_cleaner.state.floatbank4_a_air  \\\n",
       "count                              14143.000000   \n",
       "mean                                  19.985454   \n",
       "std                                    5.657723   \n",
       "min                                    0.000000   \n",
       "25%                                   14.990775   \n",
       "50%                                   20.001789   \n",
       "75%                                   24.990826   \n",
       "max                                   30.115735   \n",
       "\n",
       "       secondary_cleaner.state.floatbank4_a_level  \\\n",
       "count                                14148.000000   \n",
       "mean                                  -478.696836   \n",
       "std                                     50.736021   \n",
       "min                                   -799.709069   \n",
       "25%                                   -500.628656   \n",
       "50%                                   -499.681450   \n",
       "75%                                   -477.472413   \n",
       "max                                   -245.239184   \n",
       "\n",
       "       secondary_cleaner.state.floatbank4_b_air  \\\n",
       "count                              14148.000000   \n",
       "mean                                  15.487065   \n",
       "std                                    5.255655   \n",
       "min                                    0.000000   \n",
       "25%                                   11.894558   \n",
       "50%                                   14.975536   \n",
       "75%                                   20.059375   \n",
       "max                                   24.007913   \n",
       "\n",
       "       secondary_cleaner.state.floatbank4_b_level  \\\n",
       "count                                14148.000000   \n",
       "mean                                  -460.229416   \n",
       "std                                     58.843586   \n",
       "min                                   -799.889113   \n",
       "25%                                   -500.149000   \n",
       "50%                                   -499.388738   \n",
       "75%                                   -400.039008   \n",
       "max                                   -145.071088   \n",
       "\n",
       "       secondary_cleaner.state.floatbank5_a_air  \\\n",
       "count                              14148.000000   \n",
       "mean                                  16.775136   \n",
       "std                                    5.831906   \n",
       "min                                   -0.372054   \n",
       "25%                                   11.083980   \n",
       "50%                                   17.932223   \n",
       "75%                                   21.346550   \n",
       "max                                   43.709931   \n",
       "\n",
       "       secondary_cleaner.state.floatbank5_a_level  \\\n",
       "count                                14148.000000   \n",
       "mean                                  -483.956022   \n",
       "std                                     37.892788   \n",
       "min                                   -797.142475   \n",
       "25%                                   -500.363177   \n",
       "50%                                   -499.702452   \n",
       "75%                                   -487.712108   \n",
       "max                                   -275.073125   \n",
       "\n",
       "       secondary_cleaner.state.floatbank5_b_air  \\\n",
       "count                              14148.000000   \n",
       "mean                                  13.064590   \n",
       "std                                    5.765617   \n",
       "min                                    0.646208   \n",
       "25%                                    8.994405   \n",
       "50%                                   11.997547   \n",
       "75%                                   17.982903   \n",
       "max                                   27.926001   \n",
       "\n",
       "       secondary_cleaner.state.floatbank5_b_level  \\\n",
       "count                                14148.000000   \n",
       "mean                                  -483.966564   \n",
       "std                                     39.207913   \n",
       "min                                   -800.006180   \n",
       "25%                                   -500.105994   \n",
       "50%                                   -499.914556   \n",
       "75%                                   -453.186936   \n",
       "max                                   -157.396071   \n",
       "\n",
       "       secondary_cleaner.state.floatbank6_a_air  \\\n",
       "count                              14147.000000   \n",
       "mean                                  19.577539   \n",
       "std                                    5.764417   \n",
       "min                                    0.195324   \n",
       "25%                                   14.989304   \n",
       "50%                                   19.984175   \n",
       "75%                                   24.991623   \n",
       "max                                   32.188906   \n",
       "\n",
       "       secondary_cleaner.state.floatbank6_a_level  \n",
       "count                                14148.000000  \n",
       "mean                                  -506.798480  \n",
       "std                                     37.079249  \n",
       "min                                   -809.398668  \n",
       "25%                                   -500.745104  \n",
       "50%                                   -500.061431  \n",
       "75%                                   -499.536466  \n",
       "max                                   -104.427459  \n",
       "\n",
       "[8 rows x 86 columns]"
      ]
     },
     "execution_count": 4,
     "metadata": {},
     "output_type": "execute_result"
    }
   ],
   "source": [
    "data_train.describe()"
   ]
  },
  {
   "cell_type": "markdown",
   "metadata": {},
   "source": [
    "Эта метрика тоже бесполезна, так как мы не видим большинства признаков. А просматривать 86 колонок по отдельности также практически бессмысленно. "
   ]
  },
  {
   "cell_type": "code",
   "execution_count": 5,
   "metadata": {},
   "outputs": [
    {
     "data": {
      "text/html": [
       "<div>\n",
       "<style scoped>\n",
       "    .dataframe tbody tr th:only-of-type {\n",
       "        vertical-align: middle;\n",
       "    }\n",
       "\n",
       "    .dataframe tbody tr th {\n",
       "        vertical-align: top;\n",
       "    }\n",
       "\n",
       "    .dataframe thead th {\n",
       "        text-align: right;\n",
       "    }\n",
       "</style>\n",
       "<table border=\"1\" class=\"dataframe\">\n",
       "  <thead>\n",
       "    <tr style=\"text-align: right;\">\n",
       "      <th></th>\n",
       "      <th>date</th>\n",
       "      <th>primary_cleaner.input.sulfate</th>\n",
       "      <th>primary_cleaner.input.depressant</th>\n",
       "      <th>primary_cleaner.input.feed_size</th>\n",
       "      <th>primary_cleaner.input.xanthate</th>\n",
       "      <th>primary_cleaner.state.floatbank8_a_air</th>\n",
       "      <th>primary_cleaner.state.floatbank8_a_level</th>\n",
       "      <th>primary_cleaner.state.floatbank8_b_air</th>\n",
       "      <th>primary_cleaner.state.floatbank8_b_level</th>\n",
       "      <th>primary_cleaner.state.floatbank8_c_air</th>\n",
       "      <th>...</th>\n",
       "      <th>secondary_cleaner.state.floatbank4_a_air</th>\n",
       "      <th>secondary_cleaner.state.floatbank4_a_level</th>\n",
       "      <th>secondary_cleaner.state.floatbank4_b_air</th>\n",
       "      <th>secondary_cleaner.state.floatbank4_b_level</th>\n",
       "      <th>secondary_cleaner.state.floatbank5_a_air</th>\n",
       "      <th>secondary_cleaner.state.floatbank5_a_level</th>\n",
       "      <th>secondary_cleaner.state.floatbank5_b_air</th>\n",
       "      <th>secondary_cleaner.state.floatbank5_b_level</th>\n",
       "      <th>secondary_cleaner.state.floatbank6_a_air</th>\n",
       "      <th>secondary_cleaner.state.floatbank6_a_level</th>\n",
       "    </tr>\n",
       "  </thead>\n",
       "  <tbody>\n",
       "    <tr>\n",
       "      <td>0</td>\n",
       "      <td>2016-09-01 00:59:59</td>\n",
       "      <td>210.800909</td>\n",
       "      <td>14.993118</td>\n",
       "      <td>8.080000</td>\n",
       "      <td>1.005021</td>\n",
       "      <td>1398.981301</td>\n",
       "      <td>-500.225577</td>\n",
       "      <td>1399.144926</td>\n",
       "      <td>-499.919735</td>\n",
       "      <td>1400.102998</td>\n",
       "      <td>...</td>\n",
       "      <td>12.023554</td>\n",
       "      <td>-497.795834</td>\n",
       "      <td>8.016656</td>\n",
       "      <td>-501.289139</td>\n",
       "      <td>7.946562</td>\n",
       "      <td>-432.317850</td>\n",
       "      <td>4.872511</td>\n",
       "      <td>-500.037437</td>\n",
       "      <td>26.705889</td>\n",
       "      <td>-499.709414</td>\n",
       "    </tr>\n",
       "    <tr>\n",
       "      <td>1</td>\n",
       "      <td>2016-09-01 01:59:59</td>\n",
       "      <td>215.392455</td>\n",
       "      <td>14.987471</td>\n",
       "      <td>8.080000</td>\n",
       "      <td>0.990469</td>\n",
       "      <td>1398.777912</td>\n",
       "      <td>-500.057435</td>\n",
       "      <td>1398.055362</td>\n",
       "      <td>-499.778182</td>\n",
       "      <td>1396.151033</td>\n",
       "      <td>...</td>\n",
       "      <td>12.058140</td>\n",
       "      <td>-498.695773</td>\n",
       "      <td>8.130979</td>\n",
       "      <td>-499.634209</td>\n",
       "      <td>7.958270</td>\n",
       "      <td>-525.839648</td>\n",
       "      <td>4.878850</td>\n",
       "      <td>-500.162375</td>\n",
       "      <td>25.019940</td>\n",
       "      <td>-499.819438</td>\n",
       "    </tr>\n",
       "    <tr>\n",
       "      <td>2</td>\n",
       "      <td>2016-09-01 02:59:59</td>\n",
       "      <td>215.259946</td>\n",
       "      <td>12.884934</td>\n",
       "      <td>7.786667</td>\n",
       "      <td>0.996043</td>\n",
       "      <td>1398.493666</td>\n",
       "      <td>-500.868360</td>\n",
       "      <td>1398.860436</td>\n",
       "      <td>-499.764529</td>\n",
       "      <td>1398.075709</td>\n",
       "      <td>...</td>\n",
       "      <td>11.962366</td>\n",
       "      <td>-498.767484</td>\n",
       "      <td>8.096893</td>\n",
       "      <td>-500.827423</td>\n",
       "      <td>8.071056</td>\n",
       "      <td>-500.801673</td>\n",
       "      <td>4.905125</td>\n",
       "      <td>-499.828510</td>\n",
       "      <td>24.994862</td>\n",
       "      <td>-500.622559</td>\n",
       "    </tr>\n",
       "    <tr>\n",
       "      <td>3</td>\n",
       "      <td>2016-09-01 03:59:59</td>\n",
       "      <td>215.336236</td>\n",
       "      <td>12.006805</td>\n",
       "      <td>7.640000</td>\n",
       "      <td>0.863514</td>\n",
       "      <td>1399.618111</td>\n",
       "      <td>-498.863574</td>\n",
       "      <td>1397.440120</td>\n",
       "      <td>-499.211024</td>\n",
       "      <td>1400.129303</td>\n",
       "      <td>...</td>\n",
       "      <td>12.033091</td>\n",
       "      <td>-498.350935</td>\n",
       "      <td>8.074946</td>\n",
       "      <td>-499.474407</td>\n",
       "      <td>7.897085</td>\n",
       "      <td>-500.868509</td>\n",
       "      <td>4.931400</td>\n",
       "      <td>-499.963623</td>\n",
       "      <td>24.948919</td>\n",
       "      <td>-498.709987</td>\n",
       "    </tr>\n",
       "    <tr>\n",
       "      <td>4</td>\n",
       "      <td>2016-09-01 04:59:59</td>\n",
       "      <td>199.099327</td>\n",
       "      <td>10.682530</td>\n",
       "      <td>7.530000</td>\n",
       "      <td>0.805575</td>\n",
       "      <td>1401.268123</td>\n",
       "      <td>-500.808305</td>\n",
       "      <td>1398.128818</td>\n",
       "      <td>-499.504543</td>\n",
       "      <td>1402.172226</td>\n",
       "      <td>...</td>\n",
       "      <td>12.025367</td>\n",
       "      <td>-500.786497</td>\n",
       "      <td>8.054678</td>\n",
       "      <td>-500.397500</td>\n",
       "      <td>8.107890</td>\n",
       "      <td>-509.526725</td>\n",
       "      <td>4.957674</td>\n",
       "      <td>-500.360026</td>\n",
       "      <td>25.003331</td>\n",
       "      <td>-500.856333</td>\n",
       "    </tr>\n",
       "  </tbody>\n",
       "</table>\n",
       "<p>5 rows × 53 columns</p>\n",
       "</div>"
      ],
      "text/plain": [
       "                  date  primary_cleaner.input.sulfate  \\\n",
       "0  2016-09-01 00:59:59                     210.800909   \n",
       "1  2016-09-01 01:59:59                     215.392455   \n",
       "2  2016-09-01 02:59:59                     215.259946   \n",
       "3  2016-09-01 03:59:59                     215.336236   \n",
       "4  2016-09-01 04:59:59                     199.099327   \n",
       "\n",
       "   primary_cleaner.input.depressant  primary_cleaner.input.feed_size  \\\n",
       "0                         14.993118                         8.080000   \n",
       "1                         14.987471                         8.080000   \n",
       "2                         12.884934                         7.786667   \n",
       "3                         12.006805                         7.640000   \n",
       "4                         10.682530                         7.530000   \n",
       "\n",
       "   primary_cleaner.input.xanthate  primary_cleaner.state.floatbank8_a_air  \\\n",
       "0                        1.005021                             1398.981301   \n",
       "1                        0.990469                             1398.777912   \n",
       "2                        0.996043                             1398.493666   \n",
       "3                        0.863514                             1399.618111   \n",
       "4                        0.805575                             1401.268123   \n",
       "\n",
       "   primary_cleaner.state.floatbank8_a_level  \\\n",
       "0                               -500.225577   \n",
       "1                               -500.057435   \n",
       "2                               -500.868360   \n",
       "3                               -498.863574   \n",
       "4                               -500.808305   \n",
       "\n",
       "   primary_cleaner.state.floatbank8_b_air  \\\n",
       "0                             1399.144926   \n",
       "1                             1398.055362   \n",
       "2                             1398.860436   \n",
       "3                             1397.440120   \n",
       "4                             1398.128818   \n",
       "\n",
       "   primary_cleaner.state.floatbank8_b_level  \\\n",
       "0                               -499.919735   \n",
       "1                               -499.778182   \n",
       "2                               -499.764529   \n",
       "3                               -499.211024   \n",
       "4                               -499.504543   \n",
       "\n",
       "   primary_cleaner.state.floatbank8_c_air  ...  \\\n",
       "0                             1400.102998  ...   \n",
       "1                             1396.151033  ...   \n",
       "2                             1398.075709  ...   \n",
       "3                             1400.129303  ...   \n",
       "4                             1402.172226  ...   \n",
       "\n",
       "   secondary_cleaner.state.floatbank4_a_air  \\\n",
       "0                                 12.023554   \n",
       "1                                 12.058140   \n",
       "2                                 11.962366   \n",
       "3                                 12.033091   \n",
       "4                                 12.025367   \n",
       "\n",
       "   secondary_cleaner.state.floatbank4_a_level  \\\n",
       "0                                 -497.795834   \n",
       "1                                 -498.695773   \n",
       "2                                 -498.767484   \n",
       "3                                 -498.350935   \n",
       "4                                 -500.786497   \n",
       "\n",
       "   secondary_cleaner.state.floatbank4_b_air  \\\n",
       "0                                  8.016656   \n",
       "1                                  8.130979   \n",
       "2                                  8.096893   \n",
       "3                                  8.074946   \n",
       "4                                  8.054678   \n",
       "\n",
       "   secondary_cleaner.state.floatbank4_b_level  \\\n",
       "0                                 -501.289139   \n",
       "1                                 -499.634209   \n",
       "2                                 -500.827423   \n",
       "3                                 -499.474407   \n",
       "4                                 -500.397500   \n",
       "\n",
       "   secondary_cleaner.state.floatbank5_a_air  \\\n",
       "0                                  7.946562   \n",
       "1                                  7.958270   \n",
       "2                                  8.071056   \n",
       "3                                  7.897085   \n",
       "4                                  8.107890   \n",
       "\n",
       "   secondary_cleaner.state.floatbank5_a_level  \\\n",
       "0                                 -432.317850   \n",
       "1                                 -525.839648   \n",
       "2                                 -500.801673   \n",
       "3                                 -500.868509   \n",
       "4                                 -509.526725   \n",
       "\n",
       "   secondary_cleaner.state.floatbank5_b_air  \\\n",
       "0                                  4.872511   \n",
       "1                                  4.878850   \n",
       "2                                  4.905125   \n",
       "3                                  4.931400   \n",
       "4                                  4.957674   \n",
       "\n",
       "   secondary_cleaner.state.floatbank5_b_level  \\\n",
       "0                                 -500.037437   \n",
       "1                                 -500.162375   \n",
       "2                                 -499.828510   \n",
       "3                                 -499.963623   \n",
       "4                                 -500.360026   \n",
       "\n",
       "   secondary_cleaner.state.floatbank6_a_air  \\\n",
       "0                                 26.705889   \n",
       "1                                 25.019940   \n",
       "2                                 24.994862   \n",
       "3                                 24.948919   \n",
       "4                                 25.003331   \n",
       "\n",
       "   secondary_cleaner.state.floatbank6_a_level  \n",
       "0                                 -499.709414  \n",
       "1                                 -499.819438  \n",
       "2                                 -500.622559  \n",
       "3                                 -498.709987  \n",
       "4                                 -500.856333  \n",
       "\n",
       "[5 rows x 53 columns]"
      ]
     },
     "execution_count": 5,
     "metadata": {},
     "output_type": "execute_result"
    }
   ],
   "source": [
    "data_test.head()"
   ]
  },
  {
   "cell_type": "code",
   "execution_count": 6,
   "metadata": {},
   "outputs": [
    {
     "name": "stdout",
     "output_type": "stream",
     "text": [
      "<class 'pandas.core.frame.DataFrame'>\n",
      "RangeIndex: 5290 entries, 0 to 5289\n",
      "Data columns (total 53 columns):\n",
      "date                                          5290 non-null object\n",
      "primary_cleaner.input.sulfate                 5286 non-null float64\n",
      "primary_cleaner.input.depressant              5285 non-null float64\n",
      "primary_cleaner.input.feed_size               5290 non-null float64\n",
      "primary_cleaner.input.xanthate                5286 non-null float64\n",
      "primary_cleaner.state.floatbank8_a_air        5290 non-null float64\n",
      "primary_cleaner.state.floatbank8_a_level      5290 non-null float64\n",
      "primary_cleaner.state.floatbank8_b_air        5290 non-null float64\n",
      "primary_cleaner.state.floatbank8_b_level      5290 non-null float64\n",
      "primary_cleaner.state.floatbank8_c_air        5290 non-null float64\n",
      "primary_cleaner.state.floatbank8_c_level      5290 non-null float64\n",
      "primary_cleaner.state.floatbank8_d_air        5290 non-null float64\n",
      "primary_cleaner.state.floatbank8_d_level      5290 non-null float64\n",
      "rougher.input.feed_ag                         5290 non-null float64\n",
      "rougher.input.feed_pb                         5290 non-null float64\n",
      "rougher.input.feed_rate                       5287 non-null float64\n",
      "rougher.input.feed_size                       5289 non-null float64\n",
      "rougher.input.feed_sol                        5269 non-null float64\n",
      "rougher.input.feed_au                         5290 non-null float64\n",
      "rougher.input.floatbank10_sulfate             5285 non-null float64\n",
      "rougher.input.floatbank10_xanthate            5290 non-null float64\n",
      "rougher.input.floatbank11_sulfate             5282 non-null float64\n",
      "rougher.input.floatbank11_xanthate            5265 non-null float64\n",
      "rougher.state.floatbank10_a_air               5290 non-null float64\n",
      "rougher.state.floatbank10_a_level             5290 non-null float64\n",
      "rougher.state.floatbank10_b_air               5290 non-null float64\n",
      "rougher.state.floatbank10_b_level             5290 non-null float64\n",
      "rougher.state.floatbank10_c_air               5290 non-null float64\n",
      "rougher.state.floatbank10_c_level             5290 non-null float64\n",
      "rougher.state.floatbank10_d_air               5290 non-null float64\n",
      "rougher.state.floatbank10_d_level             5290 non-null float64\n",
      "rougher.state.floatbank10_e_air               5290 non-null float64\n",
      "rougher.state.floatbank10_e_level             5290 non-null float64\n",
      "rougher.state.floatbank10_f_air               5290 non-null float64\n",
      "rougher.state.floatbank10_f_level             5290 non-null float64\n",
      "secondary_cleaner.state.floatbank2_a_air      5287 non-null float64\n",
      "secondary_cleaner.state.floatbank2_a_level    5290 non-null float64\n",
      "secondary_cleaner.state.floatbank2_b_air      5288 non-null float64\n",
      "secondary_cleaner.state.floatbank2_b_level    5290 non-null float64\n",
      "secondary_cleaner.state.floatbank3_a_air      5281 non-null float64\n",
      "secondary_cleaner.state.floatbank3_a_level    5290 non-null float64\n",
      "secondary_cleaner.state.floatbank3_b_air      5290 non-null float64\n",
      "secondary_cleaner.state.floatbank3_b_level    5290 non-null float64\n",
      "secondary_cleaner.state.floatbank4_a_air      5290 non-null float64\n",
      "secondary_cleaner.state.floatbank4_a_level    5290 non-null float64\n",
      "secondary_cleaner.state.floatbank4_b_air      5290 non-null float64\n",
      "secondary_cleaner.state.floatbank4_b_level    5290 non-null float64\n",
      "secondary_cleaner.state.floatbank5_a_air      5290 non-null float64\n",
      "secondary_cleaner.state.floatbank5_a_level    5290 non-null float64\n",
      "secondary_cleaner.state.floatbank5_b_air      5290 non-null float64\n",
      "secondary_cleaner.state.floatbank5_b_level    5290 non-null float64\n",
      "secondary_cleaner.state.floatbank6_a_air      5290 non-null float64\n",
      "secondary_cleaner.state.floatbank6_a_level    5290 non-null float64\n",
      "dtypes: float64(52), object(1)\n",
      "memory usage: 2.1+ MB\n"
     ]
    }
   ],
   "source": [
    "data_test.info()"
   ]
  },
  {
   "cell_type": "code",
   "execution_count": 7,
   "metadata": {},
   "outputs": [
    {
     "data": {
      "text/html": [
       "<div>\n",
       "<style scoped>\n",
       "    .dataframe tbody tr th:only-of-type {\n",
       "        vertical-align: middle;\n",
       "    }\n",
       "\n",
       "    .dataframe tbody tr th {\n",
       "        vertical-align: top;\n",
       "    }\n",
       "\n",
       "    .dataframe thead th {\n",
       "        text-align: right;\n",
       "    }\n",
       "</style>\n",
       "<table border=\"1\" class=\"dataframe\">\n",
       "  <thead>\n",
       "    <tr style=\"text-align: right;\">\n",
       "      <th></th>\n",
       "      <th>date</th>\n",
       "      <th>final.output.concentrate_ag</th>\n",
       "      <th>final.output.concentrate_pb</th>\n",
       "      <th>final.output.concentrate_sol</th>\n",
       "      <th>final.output.concentrate_au</th>\n",
       "      <th>final.output.recovery</th>\n",
       "      <th>final.output.tail_ag</th>\n",
       "      <th>final.output.tail_pb</th>\n",
       "      <th>final.output.tail_sol</th>\n",
       "      <th>final.output.tail_au</th>\n",
       "      <th>...</th>\n",
       "      <th>secondary_cleaner.state.floatbank4_a_air</th>\n",
       "      <th>secondary_cleaner.state.floatbank4_a_level</th>\n",
       "      <th>secondary_cleaner.state.floatbank4_b_air</th>\n",
       "      <th>secondary_cleaner.state.floatbank4_b_level</th>\n",
       "      <th>secondary_cleaner.state.floatbank5_a_air</th>\n",
       "      <th>secondary_cleaner.state.floatbank5_a_level</th>\n",
       "      <th>secondary_cleaner.state.floatbank5_b_air</th>\n",
       "      <th>secondary_cleaner.state.floatbank5_b_level</th>\n",
       "      <th>secondary_cleaner.state.floatbank6_a_air</th>\n",
       "      <th>secondary_cleaner.state.floatbank6_a_level</th>\n",
       "    </tr>\n",
       "  </thead>\n",
       "  <tbody>\n",
       "    <tr>\n",
       "      <td>0</td>\n",
       "      <td>2016-01-15 00:00:00</td>\n",
       "      <td>6.055403</td>\n",
       "      <td>9.889648</td>\n",
       "      <td>5.507324</td>\n",
       "      <td>42.192020</td>\n",
       "      <td>70.541216</td>\n",
       "      <td>10.411962</td>\n",
       "      <td>0.895447</td>\n",
       "      <td>16.904297</td>\n",
       "      <td>2.143149</td>\n",
       "      <td>...</td>\n",
       "      <td>14.016835</td>\n",
       "      <td>-502.488007</td>\n",
       "      <td>12.099931</td>\n",
       "      <td>-504.715942</td>\n",
       "      <td>9.925633</td>\n",
       "      <td>-498.310211</td>\n",
       "      <td>8.079666</td>\n",
       "      <td>-500.470978</td>\n",
       "      <td>14.151341</td>\n",
       "      <td>-605.841980</td>\n",
       "    </tr>\n",
       "    <tr>\n",
       "      <td>1</td>\n",
       "      <td>2016-01-15 01:00:00</td>\n",
       "      <td>6.029369</td>\n",
       "      <td>9.968944</td>\n",
       "      <td>5.257781</td>\n",
       "      <td>42.701629</td>\n",
       "      <td>69.266198</td>\n",
       "      <td>10.462676</td>\n",
       "      <td>0.927452</td>\n",
       "      <td>16.634514</td>\n",
       "      <td>2.224930</td>\n",
       "      <td>...</td>\n",
       "      <td>13.992281</td>\n",
       "      <td>-505.503262</td>\n",
       "      <td>11.950531</td>\n",
       "      <td>-501.331529</td>\n",
       "      <td>10.039245</td>\n",
       "      <td>-500.169983</td>\n",
       "      <td>7.984757</td>\n",
       "      <td>-500.582168</td>\n",
       "      <td>13.998353</td>\n",
       "      <td>-599.787184</td>\n",
       "    </tr>\n",
       "    <tr>\n",
       "      <td>2</td>\n",
       "      <td>2016-01-15 02:00:00</td>\n",
       "      <td>6.055926</td>\n",
       "      <td>10.213995</td>\n",
       "      <td>5.383759</td>\n",
       "      <td>42.657501</td>\n",
       "      <td>68.116445</td>\n",
       "      <td>10.507046</td>\n",
       "      <td>0.953716</td>\n",
       "      <td>16.208849</td>\n",
       "      <td>2.257889</td>\n",
       "      <td>...</td>\n",
       "      <td>14.015015</td>\n",
       "      <td>-502.520901</td>\n",
       "      <td>11.912783</td>\n",
       "      <td>-501.133383</td>\n",
       "      <td>10.070913</td>\n",
       "      <td>-500.129135</td>\n",
       "      <td>8.013877</td>\n",
       "      <td>-500.517572</td>\n",
       "      <td>14.028663</td>\n",
       "      <td>-601.427363</td>\n",
       "    </tr>\n",
       "    <tr>\n",
       "      <td>3</td>\n",
       "      <td>2016-01-15 03:00:00</td>\n",
       "      <td>6.047977</td>\n",
       "      <td>9.977019</td>\n",
       "      <td>4.858634</td>\n",
       "      <td>42.689819</td>\n",
       "      <td>68.347543</td>\n",
       "      <td>10.422762</td>\n",
       "      <td>0.883763</td>\n",
       "      <td>16.532835</td>\n",
       "      <td>2.146849</td>\n",
       "      <td>...</td>\n",
       "      <td>14.036510</td>\n",
       "      <td>-500.857308</td>\n",
       "      <td>11.999550</td>\n",
       "      <td>-501.193686</td>\n",
       "      <td>9.970366</td>\n",
       "      <td>-499.201640</td>\n",
       "      <td>7.977324</td>\n",
       "      <td>-500.255908</td>\n",
       "      <td>14.005551</td>\n",
       "      <td>-599.996129</td>\n",
       "    </tr>\n",
       "    <tr>\n",
       "      <td>4</td>\n",
       "      <td>2016-01-15 04:00:00</td>\n",
       "      <td>6.148599</td>\n",
       "      <td>10.142511</td>\n",
       "      <td>4.939416</td>\n",
       "      <td>42.774141</td>\n",
       "      <td>66.927016</td>\n",
       "      <td>10.360302</td>\n",
       "      <td>0.792826</td>\n",
       "      <td>16.525686</td>\n",
       "      <td>2.055292</td>\n",
       "      <td>...</td>\n",
       "      <td>14.027298</td>\n",
       "      <td>-499.838632</td>\n",
       "      <td>11.953070</td>\n",
       "      <td>-501.053894</td>\n",
       "      <td>9.925709</td>\n",
       "      <td>-501.686727</td>\n",
       "      <td>7.894242</td>\n",
       "      <td>-500.356035</td>\n",
       "      <td>13.996647</td>\n",
       "      <td>-601.496691</td>\n",
       "    </tr>\n",
       "  </tbody>\n",
       "</table>\n",
       "<p>5 rows × 87 columns</p>\n",
       "</div>"
      ],
      "text/plain": [
       "                  date  final.output.concentrate_ag  \\\n",
       "0  2016-01-15 00:00:00                     6.055403   \n",
       "1  2016-01-15 01:00:00                     6.029369   \n",
       "2  2016-01-15 02:00:00                     6.055926   \n",
       "3  2016-01-15 03:00:00                     6.047977   \n",
       "4  2016-01-15 04:00:00                     6.148599   \n",
       "\n",
       "   final.output.concentrate_pb  final.output.concentrate_sol  \\\n",
       "0                     9.889648                      5.507324   \n",
       "1                     9.968944                      5.257781   \n",
       "2                    10.213995                      5.383759   \n",
       "3                     9.977019                      4.858634   \n",
       "4                    10.142511                      4.939416   \n",
       "\n",
       "   final.output.concentrate_au  final.output.recovery  final.output.tail_ag  \\\n",
       "0                    42.192020              70.541216             10.411962   \n",
       "1                    42.701629              69.266198             10.462676   \n",
       "2                    42.657501              68.116445             10.507046   \n",
       "3                    42.689819              68.347543             10.422762   \n",
       "4                    42.774141              66.927016             10.360302   \n",
       "\n",
       "   final.output.tail_pb  final.output.tail_sol  final.output.tail_au  ...  \\\n",
       "0              0.895447              16.904297              2.143149  ...   \n",
       "1              0.927452              16.634514              2.224930  ...   \n",
       "2              0.953716              16.208849              2.257889  ...   \n",
       "3              0.883763              16.532835              2.146849  ...   \n",
       "4              0.792826              16.525686              2.055292  ...   \n",
       "\n",
       "   secondary_cleaner.state.floatbank4_a_air  \\\n",
       "0                                 14.016835   \n",
       "1                                 13.992281   \n",
       "2                                 14.015015   \n",
       "3                                 14.036510   \n",
       "4                                 14.027298   \n",
       "\n",
       "   secondary_cleaner.state.floatbank4_a_level  \\\n",
       "0                                 -502.488007   \n",
       "1                                 -505.503262   \n",
       "2                                 -502.520901   \n",
       "3                                 -500.857308   \n",
       "4                                 -499.838632   \n",
       "\n",
       "   secondary_cleaner.state.floatbank4_b_air  \\\n",
       "0                                 12.099931   \n",
       "1                                 11.950531   \n",
       "2                                 11.912783   \n",
       "3                                 11.999550   \n",
       "4                                 11.953070   \n",
       "\n",
       "   secondary_cleaner.state.floatbank4_b_level  \\\n",
       "0                                 -504.715942   \n",
       "1                                 -501.331529   \n",
       "2                                 -501.133383   \n",
       "3                                 -501.193686   \n",
       "4                                 -501.053894   \n",
       "\n",
       "   secondary_cleaner.state.floatbank5_a_air  \\\n",
       "0                                  9.925633   \n",
       "1                                 10.039245   \n",
       "2                                 10.070913   \n",
       "3                                  9.970366   \n",
       "4                                  9.925709   \n",
       "\n",
       "   secondary_cleaner.state.floatbank5_a_level  \\\n",
       "0                                 -498.310211   \n",
       "1                                 -500.169983   \n",
       "2                                 -500.129135   \n",
       "3                                 -499.201640   \n",
       "4                                 -501.686727   \n",
       "\n",
       "   secondary_cleaner.state.floatbank5_b_air  \\\n",
       "0                                  8.079666   \n",
       "1                                  7.984757   \n",
       "2                                  8.013877   \n",
       "3                                  7.977324   \n",
       "4                                  7.894242   \n",
       "\n",
       "   secondary_cleaner.state.floatbank5_b_level  \\\n",
       "0                                 -500.470978   \n",
       "1                                 -500.582168   \n",
       "2                                 -500.517572   \n",
       "3                                 -500.255908   \n",
       "4                                 -500.356035   \n",
       "\n",
       "   secondary_cleaner.state.floatbank6_a_air  \\\n",
       "0                                 14.151341   \n",
       "1                                 13.998353   \n",
       "2                                 14.028663   \n",
       "3                                 14.005551   \n",
       "4                                 13.996647   \n",
       "\n",
       "   secondary_cleaner.state.floatbank6_a_level  \n",
       "0                                 -605.841980  \n",
       "1                                 -599.787184  \n",
       "2                                 -601.427363  \n",
       "3                                 -599.996129  \n",
       "4                                 -601.496691  \n",
       "\n",
       "[5 rows x 87 columns]"
      ]
     },
     "execution_count": 7,
     "metadata": {},
     "output_type": "execute_result"
    }
   ],
   "source": [
    "data_full.head()"
   ]
  },
  {
   "cell_type": "code",
   "execution_count": 8,
   "metadata": {},
   "outputs": [
    {
     "name": "stdout",
     "output_type": "stream",
     "text": [
      "<class 'pandas.core.frame.DataFrame'>\n",
      "RangeIndex: 19439 entries, 0 to 19438\n",
      "Data columns (total 87 columns):\n",
      "date                                                  19439 non-null object\n",
      "final.output.concentrate_ag                           19438 non-null float64\n",
      "final.output.concentrate_pb                           19438 non-null float64\n",
      "final.output.concentrate_sol                          19228 non-null float64\n",
      "final.output.concentrate_au                           19439 non-null float64\n",
      "final.output.recovery                                 19439 non-null float64\n",
      "final.output.tail_ag                                  19438 non-null float64\n",
      "final.output.tail_pb                                  19338 non-null float64\n",
      "final.output.tail_sol                                 19433 non-null float64\n",
      "final.output.tail_au                                  19439 non-null float64\n",
      "primary_cleaner.input.sulfate                         19415 non-null float64\n",
      "primary_cleaner.input.depressant                      19402 non-null float64\n",
      "primary_cleaner.input.feed_size                       19439 non-null float64\n",
      "primary_cleaner.input.xanthate                        19335 non-null float64\n",
      "primary_cleaner.output.concentrate_ag                 19439 non-null float64\n",
      "primary_cleaner.output.concentrate_pb                 19323 non-null float64\n",
      "primary_cleaner.output.concentrate_sol                19069 non-null float64\n",
      "primary_cleaner.output.concentrate_au                 19439 non-null float64\n",
      "primary_cleaner.output.tail_ag                        19435 non-null float64\n",
      "primary_cleaner.output.tail_pb                        19418 non-null float64\n",
      "primary_cleaner.output.tail_sol                       19377 non-null float64\n",
      "primary_cleaner.output.tail_au                        19439 non-null float64\n",
      "primary_cleaner.state.floatbank8_a_air                19435 non-null float64\n",
      "primary_cleaner.state.floatbank8_a_level              19438 non-null float64\n",
      "primary_cleaner.state.floatbank8_b_air                19435 non-null float64\n",
      "primary_cleaner.state.floatbank8_b_level              19438 non-null float64\n",
      "primary_cleaner.state.floatbank8_c_air                19437 non-null float64\n",
      "primary_cleaner.state.floatbank8_c_level              19438 non-null float64\n",
      "primary_cleaner.state.floatbank8_d_air                19436 non-null float64\n",
      "primary_cleaner.state.floatbank8_d_level              19438 non-null float64\n",
      "rougher.calculation.sulfate_to_au_concentrate         19437 non-null float64\n",
      "rougher.calculation.floatbank10_sulfate_to_au_feed    19437 non-null float64\n",
      "rougher.calculation.floatbank11_sulfate_to_au_feed    19437 non-null float64\n",
      "rougher.calculation.au_pb_ratio                       19439 non-null float64\n",
      "rougher.input.feed_ag                                 19439 non-null float64\n",
      "rougher.input.feed_pb                                 19339 non-null float64\n",
      "rougher.input.feed_rate                               19428 non-null float64\n",
      "rougher.input.feed_size                               19294 non-null float64\n",
      "rougher.input.feed_sol                                19340 non-null float64\n",
      "rougher.input.feed_au                                 19439 non-null float64\n",
      "rougher.input.floatbank10_sulfate                     19405 non-null float64\n",
      "rougher.input.floatbank10_xanthate                    19431 non-null float64\n",
      "rougher.input.floatbank11_sulfate                     19395 non-null float64\n",
      "rougher.input.floatbank11_xanthate                    18986 non-null float64\n",
      "rougher.output.concentrate_ag                         19439 non-null float64\n",
      "rougher.output.concentrate_pb                         19439 non-null float64\n",
      "rougher.output.concentrate_sol                        19416 non-null float64\n",
      "rougher.output.concentrate_au                         19439 non-null float64\n",
      "rougher.output.recovery                               19439 non-null float64\n",
      "rougher.output.tail_ag                                19438 non-null float64\n",
      "rougher.output.tail_pb                                19439 non-null float64\n",
      "rougher.output.tail_sol                               19439 non-null float64\n",
      "rougher.output.tail_au                                19439 non-null float64\n",
      "rougher.state.floatbank10_a_air                       19438 non-null float64\n",
      "rougher.state.floatbank10_a_level                     19438 non-null float64\n",
      "rougher.state.floatbank10_b_air                       19438 non-null float64\n",
      "rougher.state.floatbank10_b_level                     19438 non-null float64\n",
      "rougher.state.floatbank10_c_air                       19438 non-null float64\n",
      "rougher.state.floatbank10_c_level                     19438 non-null float64\n",
      "rougher.state.floatbank10_d_air                       19439 non-null float64\n",
      "rougher.state.floatbank10_d_level                     19439 non-null float64\n",
      "rougher.state.floatbank10_e_air                       19003 non-null float64\n",
      "rougher.state.floatbank10_e_level                     19439 non-null float64\n",
      "rougher.state.floatbank10_f_air                       19439 non-null float64\n",
      "rougher.state.floatbank10_f_level                     19439 non-null float64\n",
      "secondary_cleaner.output.tail_ag                      19437 non-null float64\n",
      "secondary_cleaner.output.tail_pb                      19427 non-null float64\n",
      "secondary_cleaner.output.tail_sol                     17691 non-null float64\n",
      "secondary_cleaner.output.tail_au                      19439 non-null float64\n",
      "secondary_cleaner.state.floatbank2_a_air              19219 non-null float64\n",
      "secondary_cleaner.state.floatbank2_a_level            19438 non-null float64\n",
      "secondary_cleaner.state.floatbank2_b_air              19416 non-null float64\n",
      "secondary_cleaner.state.floatbank2_b_level            19438 non-null float64\n",
      "secondary_cleaner.state.floatbank3_a_air              19426 non-null float64\n",
      "secondary_cleaner.state.floatbank3_a_level            19438 non-null float64\n",
      "secondary_cleaner.state.floatbank3_b_air              19438 non-null float64\n",
      "secondary_cleaner.state.floatbank3_b_level            19438 non-null float64\n",
      "secondary_cleaner.state.floatbank4_a_air              19433 non-null float64\n",
      "secondary_cleaner.state.floatbank4_a_level            19438 non-null float64\n",
      "secondary_cleaner.state.floatbank4_b_air              19438 non-null float64\n",
      "secondary_cleaner.state.floatbank4_b_level            19438 non-null float64\n",
      "secondary_cleaner.state.floatbank5_a_air              19438 non-null float64\n",
      "secondary_cleaner.state.floatbank5_a_level            19438 non-null float64\n",
      "secondary_cleaner.state.floatbank5_b_air              19438 non-null float64\n",
      "secondary_cleaner.state.floatbank5_b_level            19438 non-null float64\n",
      "secondary_cleaner.state.floatbank6_a_air              19437 non-null float64\n",
      "secondary_cleaner.state.floatbank6_a_level            19438 non-null float64\n",
      "dtypes: float64(86), object(1)\n",
      "memory usage: 12.9+ MB\n"
     ]
    }
   ],
   "source": [
    "data_full.info()"
   ]
  },
  {
   "cell_type": "markdown",
   "metadata": {},
   "source": [
    "### Проверка правильности расчёта эффективности."
   ]
  },
  {
   "cell_type": "code",
   "execution_count": 9,
   "metadata": {},
   "outputs": [
    {
     "name": "stdout",
     "output_type": "stream",
     "text": [
      "9.682896147825551e-15\n"
     ]
    }
   ],
   "source": [
    "data_train['rougher.output.recovery_true'] = (data_train['rougher.output.concentrate_au'] \n",
    "                                              * (data_train['rougher.input.feed_au'] - data_train['rougher.output.tail_au'])) / (data_train['rougher.input.feed_au']\n",
    "                                               *(data_train['rougher.output.concentrate_au'] - data_train['rougher.output.tail_au'])) * 100\n",
    "print(mean_absolute_error(data_train['rougher.output.recovery_true'], data_train['rougher.output.recovery']))"
   ]
  },
  {
   "cell_type": "markdown",
   "metadata": {},
   "source": [
    "***Вывод***"
   ]
  },
  {
   "cell_type": "markdown",
   "metadata": {},
   "source": [
    "Эффективность подсчитана правильно как минимум в большинстве случаев, так как порядок ошибки -15 степень, а это на уровне погрешности подсчётов."
   ]
  },
  {
   "cell_type": "markdown",
   "metadata": {},
   "source": [
    "### Анализ недоступных признаков и выделение целевых для тренировочной выборки"
   ]
  },
  {
   "cell_type": "code",
   "execution_count": 10,
   "metadata": {},
   "outputs": [
    {
     "name": "stdout",
     "output_type": "stream",
     "text": [
      "<class 'pandas.core.frame.DataFrame'>\n",
      "RangeIndex: 14149 entries, 0 to 14148\n",
      "Data columns (total 35 columns):\n",
      "final.output.concentrate_ag                           14148 non-null float64\n",
      "final.output.concentrate_pb                           14148 non-null float64\n",
      "final.output.concentrate_sol                          13938 non-null float64\n",
      "final.output.concentrate_au                           14149 non-null float64\n",
      "final.output.recovery                                 14149 non-null float64\n",
      "final.output.tail_ag                                  14149 non-null float64\n",
      "final.output.tail_pb                                  14049 non-null float64\n",
      "final.output.tail_sol                                 14144 non-null float64\n",
      "final.output.tail_au                                  14149 non-null float64\n",
      "primary_cleaner.output.concentrate_ag                 14149 non-null float64\n",
      "primary_cleaner.output.concentrate_pb                 14063 non-null float64\n",
      "primary_cleaner.output.concentrate_sol                13863 non-null float64\n",
      "primary_cleaner.output.concentrate_au                 14149 non-null float64\n",
      "primary_cleaner.output.tail_ag                        14148 non-null float64\n",
      "primary_cleaner.output.tail_pb                        14134 non-null float64\n",
      "primary_cleaner.output.tail_sol                       14103 non-null float64\n",
      "primary_cleaner.output.tail_au                        14149 non-null float64\n",
      "rougher.calculation.sulfate_to_au_concentrate         14148 non-null float64\n",
      "rougher.calculation.floatbank10_sulfate_to_au_feed    14148 non-null float64\n",
      "rougher.calculation.floatbank11_sulfate_to_au_feed    14148 non-null float64\n",
      "rougher.calculation.au_pb_ratio                       14149 non-null float64\n",
      "rougher.output.concentrate_ag                         14149 non-null float64\n",
      "rougher.output.concentrate_pb                         14149 non-null float64\n",
      "rougher.output.concentrate_sol                        14127 non-null float64\n",
      "rougher.output.concentrate_au                         14149 non-null float64\n",
      "rougher.output.recovery                               14149 non-null float64\n",
      "rougher.output.tail_ag                                14148 non-null float64\n",
      "rougher.output.tail_pb                                14149 non-null float64\n",
      "rougher.output.tail_sol                               14149 non-null float64\n",
      "rougher.output.tail_au                                14149 non-null float64\n",
      "secondary_cleaner.output.tail_ag                      14147 non-null float64\n",
      "secondary_cleaner.output.tail_pb                      14139 non-null float64\n",
      "secondary_cleaner.output.tail_sol                     12544 non-null float64\n",
      "secondary_cleaner.output.tail_au                      14149 non-null float64\n",
      "rougher.output.recovery_true                          14149 non-null float64\n",
      "dtypes: float64(35)\n",
      "memory usage: 3.8 MB\n"
     ]
    }
   ],
   "source": [
    "data_unapproachable = data_train.drop(data_test.columns, axis = 1)\n",
    "data_train_target1 = data_train['final.output.recovery']\n",
    "data_train_target2 = data_train['rougher.output.recovery']\n",
    "data_unapproachable.info()"
   ]
  },
  {
   "cell_type": "markdown",
   "metadata": {},
   "source": [
    "***Вывод***"
   ]
  },
  {
   "cell_type": "markdown",
   "metadata": {},
   "source": [
    "Недоступные признаки в тестовой выборке - все признаки, которые имеют тип параметра 'output' или 'calculation'. Т.е. это признаки, о значении которых мы узнаем не раньше, чем закончим тот или инойй этоп обработки сырья."
   ]
  },
  {
   "cell_type": "markdown",
   "metadata": {},
   "source": [
    "### Предобработка данных"
   ]
  },
  {
   "cell_type": "markdown",
   "metadata": {},
   "source": [
    "#### Дроп столбцов, к которым у нас не будет доступа в тестовой выборке"
   ]
  },
  {
   "cell_type": "code",
   "execution_count": 11,
   "metadata": {},
   "outputs": [
    {
     "data": {
      "text/html": [
       "<div>\n",
       "<style scoped>\n",
       "    .dataframe tbody tr th:only-of-type {\n",
       "        vertical-align: middle;\n",
       "    }\n",
       "\n",
       "    .dataframe tbody tr th {\n",
       "        vertical-align: top;\n",
       "    }\n",
       "\n",
       "    .dataframe thead th {\n",
       "        text-align: right;\n",
       "    }\n",
       "</style>\n",
       "<table border=\"1\" class=\"dataframe\">\n",
       "  <thead>\n",
       "    <tr style=\"text-align: right;\">\n",
       "      <th></th>\n",
       "      <th>date</th>\n",
       "      <th>primary_cleaner.input.sulfate</th>\n",
       "      <th>primary_cleaner.input.depressant</th>\n",
       "      <th>primary_cleaner.input.feed_size</th>\n",
       "      <th>primary_cleaner.input.xanthate</th>\n",
       "      <th>primary_cleaner.state.floatbank8_a_air</th>\n",
       "      <th>primary_cleaner.state.floatbank8_a_level</th>\n",
       "      <th>primary_cleaner.state.floatbank8_b_air</th>\n",
       "      <th>primary_cleaner.state.floatbank8_b_level</th>\n",
       "      <th>primary_cleaner.state.floatbank8_c_air</th>\n",
       "      <th>...</th>\n",
       "      <th>secondary_cleaner.state.floatbank4_a_air</th>\n",
       "      <th>secondary_cleaner.state.floatbank4_a_level</th>\n",
       "      <th>secondary_cleaner.state.floatbank4_b_air</th>\n",
       "      <th>secondary_cleaner.state.floatbank4_b_level</th>\n",
       "      <th>secondary_cleaner.state.floatbank5_a_air</th>\n",
       "      <th>secondary_cleaner.state.floatbank5_a_level</th>\n",
       "      <th>secondary_cleaner.state.floatbank5_b_air</th>\n",
       "      <th>secondary_cleaner.state.floatbank5_b_level</th>\n",
       "      <th>secondary_cleaner.state.floatbank6_a_air</th>\n",
       "      <th>secondary_cleaner.state.floatbank6_a_level</th>\n",
       "    </tr>\n",
       "  </thead>\n",
       "  <tbody>\n",
       "    <tr>\n",
       "      <td>0</td>\n",
       "      <td>2016-01-15 00:00:00</td>\n",
       "      <td>127.092003</td>\n",
       "      <td>10.128295</td>\n",
       "      <td>7.25</td>\n",
       "      <td>0.988759</td>\n",
       "      <td>1549.775757</td>\n",
       "      <td>-498.912140</td>\n",
       "      <td>1551.434204</td>\n",
       "      <td>-516.403442</td>\n",
       "      <td>1549.873901</td>\n",
       "      <td>...</td>\n",
       "      <td>14.016835</td>\n",
       "      <td>-502.488007</td>\n",
       "      <td>12.099931</td>\n",
       "      <td>-504.715942</td>\n",
       "      <td>9.925633</td>\n",
       "      <td>-498.310211</td>\n",
       "      <td>8.079666</td>\n",
       "      <td>-500.470978</td>\n",
       "      <td>14.151341</td>\n",
       "      <td>-605.841980</td>\n",
       "    </tr>\n",
       "    <tr>\n",
       "      <td>1</td>\n",
       "      <td>2016-01-15 01:00:00</td>\n",
       "      <td>125.629232</td>\n",
       "      <td>10.296251</td>\n",
       "      <td>7.25</td>\n",
       "      <td>1.002663</td>\n",
       "      <td>1576.166671</td>\n",
       "      <td>-500.904965</td>\n",
       "      <td>1575.950626</td>\n",
       "      <td>-499.865889</td>\n",
       "      <td>1575.994189</td>\n",
       "      <td>...</td>\n",
       "      <td>13.992281</td>\n",
       "      <td>-505.503262</td>\n",
       "      <td>11.950531</td>\n",
       "      <td>-501.331529</td>\n",
       "      <td>10.039245</td>\n",
       "      <td>-500.169983</td>\n",
       "      <td>7.984757</td>\n",
       "      <td>-500.582168</td>\n",
       "      <td>13.998353</td>\n",
       "      <td>-599.787184</td>\n",
       "    </tr>\n",
       "    <tr>\n",
       "      <td>2</td>\n",
       "      <td>2016-01-15 02:00:00</td>\n",
       "      <td>123.819808</td>\n",
       "      <td>11.316280</td>\n",
       "      <td>7.25</td>\n",
       "      <td>0.991265</td>\n",
       "      <td>1601.556163</td>\n",
       "      <td>-499.997791</td>\n",
       "      <td>1600.386685</td>\n",
       "      <td>-500.607762</td>\n",
       "      <td>1602.003542</td>\n",
       "      <td>...</td>\n",
       "      <td>14.015015</td>\n",
       "      <td>-502.520901</td>\n",
       "      <td>11.912783</td>\n",
       "      <td>-501.133383</td>\n",
       "      <td>10.070913</td>\n",
       "      <td>-500.129135</td>\n",
       "      <td>8.013877</td>\n",
       "      <td>-500.517572</td>\n",
       "      <td>14.028663</td>\n",
       "      <td>-601.427363</td>\n",
       "    </tr>\n",
       "    <tr>\n",
       "      <td>3</td>\n",
       "      <td>2016-01-15 03:00:00</td>\n",
       "      <td>122.270188</td>\n",
       "      <td>11.322140</td>\n",
       "      <td>7.25</td>\n",
       "      <td>0.996739</td>\n",
       "      <td>1599.968720</td>\n",
       "      <td>-500.951778</td>\n",
       "      <td>1600.659236</td>\n",
       "      <td>-499.677094</td>\n",
       "      <td>1600.304144</td>\n",
       "      <td>...</td>\n",
       "      <td>14.036510</td>\n",
       "      <td>-500.857308</td>\n",
       "      <td>11.999550</td>\n",
       "      <td>-501.193686</td>\n",
       "      <td>9.970366</td>\n",
       "      <td>-499.201640</td>\n",
       "      <td>7.977324</td>\n",
       "      <td>-500.255908</td>\n",
       "      <td>14.005551</td>\n",
       "      <td>-599.996129</td>\n",
       "    </tr>\n",
       "    <tr>\n",
       "      <td>4</td>\n",
       "      <td>2016-01-15 04:00:00</td>\n",
       "      <td>117.988169</td>\n",
       "      <td>11.913613</td>\n",
       "      <td>7.25</td>\n",
       "      <td>1.009869</td>\n",
       "      <td>1601.339707</td>\n",
       "      <td>-498.975456</td>\n",
       "      <td>1601.437854</td>\n",
       "      <td>-500.323246</td>\n",
       "      <td>1599.581894</td>\n",
       "      <td>...</td>\n",
       "      <td>14.027298</td>\n",
       "      <td>-499.838632</td>\n",
       "      <td>11.953070</td>\n",
       "      <td>-501.053894</td>\n",
       "      <td>9.925709</td>\n",
       "      <td>-501.686727</td>\n",
       "      <td>7.894242</td>\n",
       "      <td>-500.356035</td>\n",
       "      <td>13.996647</td>\n",
       "      <td>-601.496691</td>\n",
       "    </tr>\n",
       "    <tr>\n",
       "      <td>...</td>\n",
       "      <td>...</td>\n",
       "      <td>...</td>\n",
       "      <td>...</td>\n",
       "      <td>...</td>\n",
       "      <td>...</td>\n",
       "      <td>...</td>\n",
       "      <td>...</td>\n",
       "      <td>...</td>\n",
       "      <td>...</td>\n",
       "      <td>...</td>\n",
       "      <td>...</td>\n",
       "      <td>...</td>\n",
       "      <td>...</td>\n",
       "      <td>...</td>\n",
       "      <td>...</td>\n",
       "      <td>...</td>\n",
       "      <td>...</td>\n",
       "      <td>...</td>\n",
       "      <td>...</td>\n",
       "      <td>...</td>\n",
       "      <td>...</td>\n",
       "    </tr>\n",
       "    <tr>\n",
       "      <td>14144</td>\n",
       "      <td>2018-08-18 06:59:59</td>\n",
       "      <td>123.381787</td>\n",
       "      <td>8.028927</td>\n",
       "      <td>6.50</td>\n",
       "      <td>1.304232</td>\n",
       "      <td>1648.421193</td>\n",
       "      <td>-400.382169</td>\n",
       "      <td>1648.742005</td>\n",
       "      <td>-400.359661</td>\n",
       "      <td>1648.578230</td>\n",
       "      <td>...</td>\n",
       "      <td>23.031497</td>\n",
       "      <td>-501.167942</td>\n",
       "      <td>20.007571</td>\n",
       "      <td>-499.740028</td>\n",
       "      <td>18.006038</td>\n",
       "      <td>-499.834374</td>\n",
       "      <td>13.001114</td>\n",
       "      <td>-500.155694</td>\n",
       "      <td>20.007840</td>\n",
       "      <td>-501.296428</td>\n",
       "    </tr>\n",
       "    <tr>\n",
       "      <td>14145</td>\n",
       "      <td>2018-08-18 07:59:59</td>\n",
       "      <td>120.878188</td>\n",
       "      <td>7.962636</td>\n",
       "      <td>6.50</td>\n",
       "      <td>1.302419</td>\n",
       "      <td>1649.820162</td>\n",
       "      <td>-399.930973</td>\n",
       "      <td>1649.357538</td>\n",
       "      <td>-399.721222</td>\n",
       "      <td>1648.656192</td>\n",
       "      <td>...</td>\n",
       "      <td>22.960095</td>\n",
       "      <td>-501.612783</td>\n",
       "      <td>20.035660</td>\n",
       "      <td>-500.251357</td>\n",
       "      <td>17.998535</td>\n",
       "      <td>-500.395178</td>\n",
       "      <td>12.954048</td>\n",
       "      <td>-499.895163</td>\n",
       "      <td>19.968498</td>\n",
       "      <td>-501.041608</td>\n",
       "    </tr>\n",
       "    <tr>\n",
       "      <td>14146</td>\n",
       "      <td>2018-08-18 08:59:59</td>\n",
       "      <td>105.666118</td>\n",
       "      <td>7.955111</td>\n",
       "      <td>6.50</td>\n",
       "      <td>1.315926</td>\n",
       "      <td>1649.166761</td>\n",
       "      <td>-399.888631</td>\n",
       "      <td>1649.196904</td>\n",
       "      <td>-399.677571</td>\n",
       "      <td>1647.896999</td>\n",
       "      <td>...</td>\n",
       "      <td>23.015718</td>\n",
       "      <td>-501.711599</td>\n",
       "      <td>19.951231</td>\n",
       "      <td>-499.857027</td>\n",
       "      <td>18.019543</td>\n",
       "      <td>-500.451156</td>\n",
       "      <td>13.023431</td>\n",
       "      <td>-499.914391</td>\n",
       "      <td>19.990885</td>\n",
       "      <td>-501.518452</td>\n",
       "    </tr>\n",
       "    <tr>\n",
       "      <td>14147</td>\n",
       "      <td>2018-08-18 09:59:59</td>\n",
       "      <td>98.880538</td>\n",
       "      <td>7.984164</td>\n",
       "      <td>6.50</td>\n",
       "      <td>1.241969</td>\n",
       "      <td>1646.547763</td>\n",
       "      <td>-398.977083</td>\n",
       "      <td>1648.212240</td>\n",
       "      <td>-400.383265</td>\n",
       "      <td>1648.917387</td>\n",
       "      <td>...</td>\n",
       "      <td>23.024963</td>\n",
       "      <td>-501.153409</td>\n",
       "      <td>20.054122</td>\n",
       "      <td>-500.314711</td>\n",
       "      <td>17.979515</td>\n",
       "      <td>-499.272871</td>\n",
       "      <td>12.992404</td>\n",
       "      <td>-499.976268</td>\n",
       "      <td>20.013986</td>\n",
       "      <td>-500.625471</td>\n",
       "    </tr>\n",
       "    <tr>\n",
       "      <td>14148</td>\n",
       "      <td>2018-08-18 10:59:59</td>\n",
       "      <td>95.248427</td>\n",
       "      <td>8.078957</td>\n",
       "      <td>6.50</td>\n",
       "      <td>1.283045</td>\n",
       "      <td>1648.759906</td>\n",
       "      <td>-399.862053</td>\n",
       "      <td>1650.135395</td>\n",
       "      <td>-399.957321</td>\n",
       "      <td>1648.831890</td>\n",
       "      <td>...</td>\n",
       "      <td>23.018622</td>\n",
       "      <td>-500.492702</td>\n",
       "      <td>20.020205</td>\n",
       "      <td>-500.220296</td>\n",
       "      <td>17.963512</td>\n",
       "      <td>-499.939490</td>\n",
       "      <td>12.990306</td>\n",
       "      <td>-500.080993</td>\n",
       "      <td>19.990336</td>\n",
       "      <td>-499.191575</td>\n",
       "    </tr>\n",
       "  </tbody>\n",
       "</table>\n",
       "<p>14149 rows × 53 columns</p>\n",
       "</div>"
      ],
      "text/plain": [
       "                      date  primary_cleaner.input.sulfate  \\\n",
       "0      2016-01-15 00:00:00                     127.092003   \n",
       "1      2016-01-15 01:00:00                     125.629232   \n",
       "2      2016-01-15 02:00:00                     123.819808   \n",
       "3      2016-01-15 03:00:00                     122.270188   \n",
       "4      2016-01-15 04:00:00                     117.988169   \n",
       "...                    ...                            ...   \n",
       "14144  2018-08-18 06:59:59                     123.381787   \n",
       "14145  2018-08-18 07:59:59                     120.878188   \n",
       "14146  2018-08-18 08:59:59                     105.666118   \n",
       "14147  2018-08-18 09:59:59                      98.880538   \n",
       "14148  2018-08-18 10:59:59                      95.248427   \n",
       "\n",
       "       primary_cleaner.input.depressant  primary_cleaner.input.feed_size  \\\n",
       "0                             10.128295                             7.25   \n",
       "1                             10.296251                             7.25   \n",
       "2                             11.316280                             7.25   \n",
       "3                             11.322140                             7.25   \n",
       "4                             11.913613                             7.25   \n",
       "...                                 ...                              ...   \n",
       "14144                          8.028927                             6.50   \n",
       "14145                          7.962636                             6.50   \n",
       "14146                          7.955111                             6.50   \n",
       "14147                          7.984164                             6.50   \n",
       "14148                          8.078957                             6.50   \n",
       "\n",
       "       primary_cleaner.input.xanthate  primary_cleaner.state.floatbank8_a_air  \\\n",
       "0                            0.988759                             1549.775757   \n",
       "1                            1.002663                             1576.166671   \n",
       "2                            0.991265                             1601.556163   \n",
       "3                            0.996739                             1599.968720   \n",
       "4                            1.009869                             1601.339707   \n",
       "...                               ...                                     ...   \n",
       "14144                        1.304232                             1648.421193   \n",
       "14145                        1.302419                             1649.820162   \n",
       "14146                        1.315926                             1649.166761   \n",
       "14147                        1.241969                             1646.547763   \n",
       "14148                        1.283045                             1648.759906   \n",
       "\n",
       "       primary_cleaner.state.floatbank8_a_level  \\\n",
       "0                                   -498.912140   \n",
       "1                                   -500.904965   \n",
       "2                                   -499.997791   \n",
       "3                                   -500.951778   \n",
       "4                                   -498.975456   \n",
       "...                                         ...   \n",
       "14144                               -400.382169   \n",
       "14145                               -399.930973   \n",
       "14146                               -399.888631   \n",
       "14147                               -398.977083   \n",
       "14148                               -399.862053   \n",
       "\n",
       "       primary_cleaner.state.floatbank8_b_air  \\\n",
       "0                                 1551.434204   \n",
       "1                                 1575.950626   \n",
       "2                                 1600.386685   \n",
       "3                                 1600.659236   \n",
       "4                                 1601.437854   \n",
       "...                                       ...   \n",
       "14144                             1648.742005   \n",
       "14145                             1649.357538   \n",
       "14146                             1649.196904   \n",
       "14147                             1648.212240   \n",
       "14148                             1650.135395   \n",
       "\n",
       "       primary_cleaner.state.floatbank8_b_level  \\\n",
       "0                                   -516.403442   \n",
       "1                                   -499.865889   \n",
       "2                                   -500.607762   \n",
       "3                                   -499.677094   \n",
       "4                                   -500.323246   \n",
       "...                                         ...   \n",
       "14144                               -400.359661   \n",
       "14145                               -399.721222   \n",
       "14146                               -399.677571   \n",
       "14147                               -400.383265   \n",
       "14148                               -399.957321   \n",
       "\n",
       "       primary_cleaner.state.floatbank8_c_air  ...  \\\n",
       "0                                 1549.873901  ...   \n",
       "1                                 1575.994189  ...   \n",
       "2                                 1602.003542  ...   \n",
       "3                                 1600.304144  ...   \n",
       "4                                 1599.581894  ...   \n",
       "...                                       ...  ...   \n",
       "14144                             1648.578230  ...   \n",
       "14145                             1648.656192  ...   \n",
       "14146                             1647.896999  ...   \n",
       "14147                             1648.917387  ...   \n",
       "14148                             1648.831890  ...   \n",
       "\n",
       "       secondary_cleaner.state.floatbank4_a_air  \\\n",
       "0                                     14.016835   \n",
       "1                                     13.992281   \n",
       "2                                     14.015015   \n",
       "3                                     14.036510   \n",
       "4                                     14.027298   \n",
       "...                                         ...   \n",
       "14144                                 23.031497   \n",
       "14145                                 22.960095   \n",
       "14146                                 23.015718   \n",
       "14147                                 23.024963   \n",
       "14148                                 23.018622   \n",
       "\n",
       "       secondary_cleaner.state.floatbank4_a_level  \\\n",
       "0                                     -502.488007   \n",
       "1                                     -505.503262   \n",
       "2                                     -502.520901   \n",
       "3                                     -500.857308   \n",
       "4                                     -499.838632   \n",
       "...                                           ...   \n",
       "14144                                 -501.167942   \n",
       "14145                                 -501.612783   \n",
       "14146                                 -501.711599   \n",
       "14147                                 -501.153409   \n",
       "14148                                 -500.492702   \n",
       "\n",
       "       secondary_cleaner.state.floatbank4_b_air  \\\n",
       "0                                     12.099931   \n",
       "1                                     11.950531   \n",
       "2                                     11.912783   \n",
       "3                                     11.999550   \n",
       "4                                     11.953070   \n",
       "...                                         ...   \n",
       "14144                                 20.007571   \n",
       "14145                                 20.035660   \n",
       "14146                                 19.951231   \n",
       "14147                                 20.054122   \n",
       "14148                                 20.020205   \n",
       "\n",
       "       secondary_cleaner.state.floatbank4_b_level  \\\n",
       "0                                     -504.715942   \n",
       "1                                     -501.331529   \n",
       "2                                     -501.133383   \n",
       "3                                     -501.193686   \n",
       "4                                     -501.053894   \n",
       "...                                           ...   \n",
       "14144                                 -499.740028   \n",
       "14145                                 -500.251357   \n",
       "14146                                 -499.857027   \n",
       "14147                                 -500.314711   \n",
       "14148                                 -500.220296   \n",
       "\n",
       "       secondary_cleaner.state.floatbank5_a_air  \\\n",
       "0                                      9.925633   \n",
       "1                                     10.039245   \n",
       "2                                     10.070913   \n",
       "3                                      9.970366   \n",
       "4                                      9.925709   \n",
       "...                                         ...   \n",
       "14144                                 18.006038   \n",
       "14145                                 17.998535   \n",
       "14146                                 18.019543   \n",
       "14147                                 17.979515   \n",
       "14148                                 17.963512   \n",
       "\n",
       "       secondary_cleaner.state.floatbank5_a_level  \\\n",
       "0                                     -498.310211   \n",
       "1                                     -500.169983   \n",
       "2                                     -500.129135   \n",
       "3                                     -499.201640   \n",
       "4                                     -501.686727   \n",
       "...                                           ...   \n",
       "14144                                 -499.834374   \n",
       "14145                                 -500.395178   \n",
       "14146                                 -500.451156   \n",
       "14147                                 -499.272871   \n",
       "14148                                 -499.939490   \n",
       "\n",
       "       secondary_cleaner.state.floatbank5_b_air  \\\n",
       "0                                      8.079666   \n",
       "1                                      7.984757   \n",
       "2                                      8.013877   \n",
       "3                                      7.977324   \n",
       "4                                      7.894242   \n",
       "...                                         ...   \n",
       "14144                                 13.001114   \n",
       "14145                                 12.954048   \n",
       "14146                                 13.023431   \n",
       "14147                                 12.992404   \n",
       "14148                                 12.990306   \n",
       "\n",
       "       secondary_cleaner.state.floatbank5_b_level  \\\n",
       "0                                     -500.470978   \n",
       "1                                     -500.582168   \n",
       "2                                     -500.517572   \n",
       "3                                     -500.255908   \n",
       "4                                     -500.356035   \n",
       "...                                           ...   \n",
       "14144                                 -500.155694   \n",
       "14145                                 -499.895163   \n",
       "14146                                 -499.914391   \n",
       "14147                                 -499.976268   \n",
       "14148                                 -500.080993   \n",
       "\n",
       "       secondary_cleaner.state.floatbank6_a_air  \\\n",
       "0                                     14.151341   \n",
       "1                                     13.998353   \n",
       "2                                     14.028663   \n",
       "3                                     14.005551   \n",
       "4                                     13.996647   \n",
       "...                                         ...   \n",
       "14144                                 20.007840   \n",
       "14145                                 19.968498   \n",
       "14146                                 19.990885   \n",
       "14147                                 20.013986   \n",
       "14148                                 19.990336   \n",
       "\n",
       "       secondary_cleaner.state.floatbank6_a_level  \n",
       "0                                     -605.841980  \n",
       "1                                     -599.787184  \n",
       "2                                     -601.427363  \n",
       "3                                     -599.996129  \n",
       "4                                     -601.496691  \n",
       "...                                           ...  \n",
       "14144                                 -501.296428  \n",
       "14145                                 -501.041608  \n",
       "14146                                 -501.518452  \n",
       "14147                                 -500.625471  \n",
       "14148                                 -499.191575  \n",
       "\n",
       "[14149 rows x 53 columns]"
      ]
     },
     "execution_count": 11,
     "metadata": {},
     "output_type": "execute_result"
    }
   ],
   "source": [
    "data_train = data_train.drop(data_unapproachable.columns, axis = 1)\n",
    "data_train"
   ]
  },
  {
   "cell_type": "markdown",
   "metadata": {},
   "source": [
    "Так как у нас не будет этих признаков, то и обучать по ним мы не будем."
   ]
  },
  {
   "cell_type": "markdown",
   "metadata": {},
   "source": [
    "#### Проверка данных на корреляции"
   ]
  },
  {
   "cell_type": "code",
   "execution_count": 12,
   "metadata": {},
   "outputs": [
    {
     "data": {
      "text/plain": [
       "{'primary_cleaner.state.floatbank8_a_air',\n",
       " 'primary_cleaner.state.floatbank8_a_level',\n",
       " 'primary_cleaner.state.floatbank8_b_air',\n",
       " 'primary_cleaner.state.floatbank8_b_level',\n",
       " 'rougher.input.feed_ag',\n",
       " 'rougher.input.floatbank10_sulfate',\n",
       " 'rougher.input.floatbank10_xanthate',\n",
       " 'rougher.state.floatbank10_b_air',\n",
       " 'rougher.state.floatbank10_b_level',\n",
       " 'rougher.state.floatbank10_c_air',\n",
       " 'rougher.state.floatbank10_c_level',\n",
       " 'rougher.state.floatbank10_d_air',\n",
       " 'rougher.state.floatbank10_d_level',\n",
       " 'rougher.state.floatbank10_e_air',\n",
       " 'rougher.state.floatbank10_e_level',\n",
       " 'secondary_cleaner.state.floatbank2_a_air',\n",
       " 'secondary_cleaner.state.floatbank2_a_level',\n",
       " 'secondary_cleaner.state.floatbank4_a_air',\n",
       " 'secondary_cleaner.state.floatbank4_b_air',\n",
       " 'secondary_cleaner.state.floatbank5_a_air',\n",
       " 'secondary_cleaner.state.floatbank5_a_level'}"
      ]
     },
     "execution_count": 12,
     "metadata": {},
     "output_type": "execute_result"
    }
   ],
   "source": [
    "data = data_train.corr()\n",
    "corr = set()\n",
    "for feature_col in data.columns:\n",
    "    for feature_ind in data.index:\n",
    "        if ((data.loc[feature_ind, feature_col] > 0.8) or (data.loc[feature_ind, feature_col] < -0.8)) and (feature_ind != feature_col):\n",
    "            if not((feature_ind) in corr):\n",
    "                corr.add(feature_col)\n",
    "corr"
   ]
  },
  {
   "cell_type": "code",
   "execution_count": 13,
   "metadata": {},
   "outputs": [
    {
     "name": "stdout",
     "output_type": "stream",
     "text": [
      "<class 'pandas.core.frame.DataFrame'>\n",
      "RangeIndex: 14149 entries, 0 to 14148\n",
      "Data columns (total 32 columns):\n",
      "date                                          14149 non-null object\n",
      "primary_cleaner.input.sulfate                 14129 non-null float64\n",
      "primary_cleaner.input.depressant              14117 non-null float64\n",
      "primary_cleaner.input.feed_size               14149 non-null float64\n",
      "primary_cleaner.input.xanthate                14049 non-null float64\n",
      "primary_cleaner.state.floatbank8_c_air        14147 non-null float64\n",
      "primary_cleaner.state.floatbank8_c_level      14148 non-null float64\n",
      "primary_cleaner.state.floatbank8_d_air        14146 non-null float64\n",
      "primary_cleaner.state.floatbank8_d_level      14148 non-null float64\n",
      "rougher.input.feed_pb                         14049 non-null float64\n",
      "rougher.input.feed_rate                       14141 non-null float64\n",
      "rougher.input.feed_size                       14005 non-null float64\n",
      "rougher.input.feed_sol                        14071 non-null float64\n",
      "rougher.input.feed_au                         14149 non-null float64\n",
      "rougher.input.floatbank11_sulfate             14113 non-null float64\n",
      "rougher.input.floatbank11_xanthate            13721 non-null float64\n",
      "rougher.state.floatbank10_a_air               14148 non-null float64\n",
      "rougher.state.floatbank10_a_level             14148 non-null float64\n",
      "rougher.state.floatbank10_f_air               14149 non-null float64\n",
      "rougher.state.floatbank10_f_level             14149 non-null float64\n",
      "secondary_cleaner.state.floatbank2_b_air      14128 non-null float64\n",
      "secondary_cleaner.state.floatbank2_b_level    14148 non-null float64\n",
      "secondary_cleaner.state.floatbank3_a_air      14145 non-null float64\n",
      "secondary_cleaner.state.floatbank3_a_level    14148 non-null float64\n",
      "secondary_cleaner.state.floatbank3_b_air      14148 non-null float64\n",
      "secondary_cleaner.state.floatbank3_b_level    14148 non-null float64\n",
      "secondary_cleaner.state.floatbank4_a_level    14148 non-null float64\n",
      "secondary_cleaner.state.floatbank4_b_level    14148 non-null float64\n",
      "secondary_cleaner.state.floatbank5_b_air      14148 non-null float64\n",
      "secondary_cleaner.state.floatbank5_b_level    14148 non-null float64\n",
      "secondary_cleaner.state.floatbank6_a_air      14147 non-null float64\n",
      "secondary_cleaner.state.floatbank6_a_level    14148 non-null float64\n",
      "dtypes: float64(31), object(1)\n",
      "memory usage: 3.5+ MB\n"
     ]
    }
   ],
   "source": [
    "data_train = data_train.drop(corr, axis = 1)\n",
    "data_test = data_test.drop(corr, axis = 1)\n",
    "\n",
    "data_train.info()"
   ]
  },
  {
   "cell_type": "markdown",
   "metadata": {},
   "source": [
    "Нашли столбцы, с сильной корреляцией между собой. И удалили их, чтобы не использовать зависимые данные. Также сделали и с тестовой выборкой, так как о ней мы \"ничего не знаем\", поэтому делаем выводы о корреляцях в тренировочной выборке."
   ]
  },
  {
   "cell_type": "markdown",
   "metadata": {},
   "source": [
    "#### Заполнение пропусков и удаление строк"
   ]
  },
  {
   "cell_type": "code",
   "execution_count": 14,
   "metadata": {},
   "outputs": [
    {
     "data": {
      "text/plain": [
       "count    13721.000000\n",
       "mean         5.894176\n",
       "std          1.124233\n",
       "min          0.000290\n",
       "25%          5.199168\n",
       "50%          5.998460\n",
       "75%          6.699006\n",
       "max          9.698407\n",
       "Name: rougher.input.floatbank11_xanthate, dtype: float64"
      ]
     },
     "execution_count": 14,
     "metadata": {},
     "output_type": "execute_result"
    }
   ],
   "source": [
    "data_train['rougher.input.floatbank11_xanthate'].describe()"
   ]
  },
  {
   "cell_type": "code",
   "execution_count": 15,
   "metadata": {},
   "outputs": [],
   "source": [
    "data_train['rougher.input.floatbank11_xanthate'] = data_train['rougher.input.floatbank11_xanthate'].fillna(data_train['rougher.input.floatbank11_xanthate'].mean())\n",
    "data_test['rougher.input.floatbank11_xanthate'] = data_test['rougher.input.floatbank11_xanthate'].fillna(data_train['rougher.input.floatbank11_xanthate'].mean())"
   ]
  },
  {
   "cell_type": "markdown",
   "metadata": {},
   "source": [
    "Заполнили пропуски в столбце 'rougher.input.floatbank11_xanthate' средним значением, так как отклонение не сильно велико, а пропусков в этом столбце максимальное количество. Терять большую часть выборки не хочется. Тем-же значением заполнили пропуски в тестовой выборке, так о ней мы можем судить только по тренировочной выборке."
   ]
  },
  {
   "cell_type": "code",
   "execution_count": 16,
   "metadata": {
    "scrolled": true
   },
   "outputs": [
    {
     "name": "stdout",
     "output_type": "stream",
     "text": [
      "<class 'pandas.core.frame.DataFrame'>\n",
      "Int64Index: 13680 entries, 0 to 14148\n",
      "Data columns (total 32 columns):\n",
      "date                                          13680 non-null object\n",
      "primary_cleaner.input.sulfate                 13680 non-null float64\n",
      "primary_cleaner.input.depressant              13680 non-null float64\n",
      "primary_cleaner.input.feed_size               13680 non-null float64\n",
      "primary_cleaner.input.xanthate                13680 non-null float64\n",
      "primary_cleaner.state.floatbank8_c_air        13680 non-null float64\n",
      "primary_cleaner.state.floatbank8_c_level      13680 non-null float64\n",
      "primary_cleaner.state.floatbank8_d_air        13680 non-null float64\n",
      "primary_cleaner.state.floatbank8_d_level      13680 non-null float64\n",
      "rougher.input.feed_pb                         13680 non-null float64\n",
      "rougher.input.feed_rate                       13680 non-null float64\n",
      "rougher.input.feed_size                       13680 non-null float64\n",
      "rougher.input.feed_sol                        13680 non-null float64\n",
      "rougher.input.feed_au                         13680 non-null float64\n",
      "rougher.input.floatbank11_sulfate             13680 non-null float64\n",
      "rougher.input.floatbank11_xanthate            13680 non-null float64\n",
      "rougher.state.floatbank10_a_air               13680 non-null float64\n",
      "rougher.state.floatbank10_a_level             13680 non-null float64\n",
      "rougher.state.floatbank10_f_air               13680 non-null float64\n",
      "rougher.state.floatbank10_f_level             13680 non-null float64\n",
      "secondary_cleaner.state.floatbank2_b_air      13680 non-null float64\n",
      "secondary_cleaner.state.floatbank2_b_level    13680 non-null float64\n",
      "secondary_cleaner.state.floatbank3_a_air      13680 non-null float64\n",
      "secondary_cleaner.state.floatbank3_a_level    13680 non-null float64\n",
      "secondary_cleaner.state.floatbank3_b_air      13680 non-null float64\n",
      "secondary_cleaner.state.floatbank3_b_level    13680 non-null float64\n",
      "secondary_cleaner.state.floatbank4_a_level    13680 non-null float64\n",
      "secondary_cleaner.state.floatbank4_b_level    13680 non-null float64\n",
      "secondary_cleaner.state.floatbank5_b_air      13680 non-null float64\n",
      "secondary_cleaner.state.floatbank5_b_level    13680 non-null float64\n",
      "secondary_cleaner.state.floatbank6_a_air      13680 non-null float64\n",
      "secondary_cleaner.state.floatbank6_a_level    13680 non-null float64\n",
      "dtypes: float64(31), object(1)\n",
      "memory usage: 3.4+ MB\n"
     ]
    }
   ],
   "source": [
    "data_train = data_train.dropna()\n",
    "data_test = data_test.dropna()\n",
    "data_train_target1 = data_train_target1[data_train.index]\n",
    "data_train_target2 = data_train_target2[data_train.index]\n",
    "data_train.info()"
   ]
  },
  {
   "cell_type": "code",
   "execution_count": 17,
   "metadata": {
    "scrolled": true
   },
   "outputs": [
    {
     "name": "stdout",
     "output_type": "stream",
     "text": [
      "<class 'pandas.core.frame.DataFrame'>\n",
      "Int64Index: 5246 entries, 0 to 5289\n",
      "Data columns (total 32 columns):\n",
      "date                                          5246 non-null object\n",
      "primary_cleaner.input.sulfate                 5246 non-null float64\n",
      "primary_cleaner.input.depressant              5246 non-null float64\n",
      "primary_cleaner.input.feed_size               5246 non-null float64\n",
      "primary_cleaner.input.xanthate                5246 non-null float64\n",
      "primary_cleaner.state.floatbank8_c_air        5246 non-null float64\n",
      "primary_cleaner.state.floatbank8_c_level      5246 non-null float64\n",
      "primary_cleaner.state.floatbank8_d_air        5246 non-null float64\n",
      "primary_cleaner.state.floatbank8_d_level      5246 non-null float64\n",
      "rougher.input.feed_pb                         5246 non-null float64\n",
      "rougher.input.feed_rate                       5246 non-null float64\n",
      "rougher.input.feed_size                       5246 non-null float64\n",
      "rougher.input.feed_sol                        5246 non-null float64\n",
      "rougher.input.feed_au                         5246 non-null float64\n",
      "rougher.input.floatbank11_sulfate             5246 non-null float64\n",
      "rougher.input.floatbank11_xanthate            5246 non-null float64\n",
      "rougher.state.floatbank10_a_air               5246 non-null float64\n",
      "rougher.state.floatbank10_a_level             5246 non-null float64\n",
      "rougher.state.floatbank10_f_air               5246 non-null float64\n",
      "rougher.state.floatbank10_f_level             5246 non-null float64\n",
      "secondary_cleaner.state.floatbank2_b_air      5246 non-null float64\n",
      "secondary_cleaner.state.floatbank2_b_level    5246 non-null float64\n",
      "secondary_cleaner.state.floatbank3_a_air      5246 non-null float64\n",
      "secondary_cleaner.state.floatbank3_a_level    5246 non-null float64\n",
      "secondary_cleaner.state.floatbank3_b_air      5246 non-null float64\n",
      "secondary_cleaner.state.floatbank3_b_level    5246 non-null float64\n",
      "secondary_cleaner.state.floatbank4_a_level    5246 non-null float64\n",
      "secondary_cleaner.state.floatbank4_b_level    5246 non-null float64\n",
      "secondary_cleaner.state.floatbank5_b_air      5246 non-null float64\n",
      "secondary_cleaner.state.floatbank5_b_level    5246 non-null float64\n",
      "secondary_cleaner.state.floatbank6_a_air      5246 non-null float64\n",
      "secondary_cleaner.state.floatbank6_a_level    5246 non-null float64\n",
      "dtypes: float64(31), object(1)\n",
      "memory usage: 1.3+ MB\n"
     ]
    }
   ],
   "source": [
    "data_test.info()"
   ]
  },
  {
   "cell_type": "markdown",
   "metadata": {},
   "source": [
    "Удалили остальные пропуски. Так как они все вместе составляют меньше 4% выборки, то мы почти не потеряем в качестве обучения."
   ]
  },
  {
   "cell_type": "markdown",
   "metadata": {},
   "source": [
    "#### Выделение целевых признаков для тестовой выборки"
   ]
  },
  {
   "cell_type": "code",
   "execution_count": 18,
   "metadata": {},
   "outputs": [
    {
     "data": {
      "text/plain": [
       "0    89.993421\n",
       "1    88.089657\n",
       "2    88.412756\n",
       "3    87.360133\n",
       "4    83.236367\n",
       "Name: rougher.output.recovery, dtype: float64"
      ]
     },
     "execution_count": 18,
     "metadata": {},
     "output_type": "execute_result"
    }
   ],
   "source": [
    "data_test_target1 = data_full[data_full['date'].isin(data_test['date'])]['final.output.recovery'].reset_index(drop = True)\n",
    "data_test_target2 = data_full[data_full['date'].isin(data_test['date'])]['rougher.output.recovery'].reset_index(drop = True)\n",
    "data_test_target2.head()"
   ]
  },
  {
   "cell_type": "code",
   "execution_count": 19,
   "metadata": {},
   "outputs": [
    {
     "data": {
      "text/plain": [
       "((13680, 32), (5246, 32))"
      ]
     },
     "execution_count": 19,
     "metadata": {},
     "output_type": "execute_result"
    }
   ],
   "source": [
    "data_train.shape, data_test.shape"
   ]
  },
  {
   "cell_type": "code",
   "execution_count": 20,
   "metadata": {},
   "outputs": [
    {
     "data": {
      "text/plain": [
       "0       70.273583\n",
       "1       68.910432\n",
       "2       68.143213\n",
       "3       67.776393\n",
       "4       61.467078\n",
       "          ...    \n",
       "5241    68.919891\n",
       "5242    68.440582\n",
       "5243    67.092759\n",
       "5244    68.061186\n",
       "5245    71.699976\n",
       "Name: final.output.recovery, Length: 5246, dtype: float64"
      ]
     },
     "execution_count": 20,
     "metadata": {},
     "output_type": "execute_result"
    }
   ],
   "source": [
    "data_test_target1"
   ]
  },
  {
   "cell_type": "code",
   "execution_count": 21,
   "metadata": {},
   "outputs": [
    {
     "data": {
      "text/plain": [
       "0       89.993421\n",
       "1       88.089657\n",
       "2       88.412756\n",
       "3       87.360133\n",
       "4       83.236367\n",
       "          ...    \n",
       "5241    95.172585\n",
       "5242    94.575036\n",
       "5243    93.018138\n",
       "5244    92.599042\n",
       "5245    91.177695\n",
       "Name: rougher.output.recovery, Length: 5246, dtype: float64"
      ]
     },
     "execution_count": 21,
     "metadata": {},
     "output_type": "execute_result"
    }
   ],
   "source": [
    "data_test_target2"
   ]
  },
  {
   "cell_type": "markdown",
   "metadata": {},
   "source": [
    "## Анализ данных"
   ]
  },
  {
   "cell_type": "markdown",
   "metadata": {},
   "source": [
    "### Анализ изменения концентрации металлов"
   ]
  },
  {
   "cell_type": "code",
   "execution_count": 22,
   "metadata": {
    "scrolled": true
   },
   "outputs": [
    {
     "name": "stdout",
     "output_type": "stream",
     "text": [
      "<class 'pandas.core.frame.DataFrame'>\n",
      "RangeIndex: 19439 entries, 0 to 19438\n",
      "Data columns (total 87 columns):\n",
      "date                                                  19439 non-null object\n",
      "final.output.concentrate_ag                           19438 non-null float64\n",
      "final.output.concentrate_pb                           19438 non-null float64\n",
      "final.output.concentrate_sol                          19228 non-null float64\n",
      "final.output.concentrate_au                           19439 non-null float64\n",
      "final.output.recovery                                 19439 non-null float64\n",
      "final.output.tail_ag                                  19438 non-null float64\n",
      "final.output.tail_pb                                  19338 non-null float64\n",
      "final.output.tail_sol                                 19433 non-null float64\n",
      "final.output.tail_au                                  19439 non-null float64\n",
      "primary_cleaner.input.sulfate                         19415 non-null float64\n",
      "primary_cleaner.input.depressant                      19402 non-null float64\n",
      "primary_cleaner.input.feed_size                       19439 non-null float64\n",
      "primary_cleaner.input.xanthate                        19335 non-null float64\n",
      "primary_cleaner.output.concentrate_ag                 19439 non-null float64\n",
      "primary_cleaner.output.concentrate_pb                 19323 non-null float64\n",
      "primary_cleaner.output.concentrate_sol                19069 non-null float64\n",
      "primary_cleaner.output.concentrate_au                 19439 non-null float64\n",
      "primary_cleaner.output.tail_ag                        19435 non-null float64\n",
      "primary_cleaner.output.tail_pb                        19418 non-null float64\n",
      "primary_cleaner.output.tail_sol                       19377 non-null float64\n",
      "primary_cleaner.output.tail_au                        19439 non-null float64\n",
      "primary_cleaner.state.floatbank8_a_air                19435 non-null float64\n",
      "primary_cleaner.state.floatbank8_a_level              19438 non-null float64\n",
      "primary_cleaner.state.floatbank8_b_air                19435 non-null float64\n",
      "primary_cleaner.state.floatbank8_b_level              19438 non-null float64\n",
      "primary_cleaner.state.floatbank8_c_air                19437 non-null float64\n",
      "primary_cleaner.state.floatbank8_c_level              19438 non-null float64\n",
      "primary_cleaner.state.floatbank8_d_air                19436 non-null float64\n",
      "primary_cleaner.state.floatbank8_d_level              19438 non-null float64\n",
      "rougher.calculation.sulfate_to_au_concentrate         19437 non-null float64\n",
      "rougher.calculation.floatbank10_sulfate_to_au_feed    19437 non-null float64\n",
      "rougher.calculation.floatbank11_sulfate_to_au_feed    19437 non-null float64\n",
      "rougher.calculation.au_pb_ratio                       19439 non-null float64\n",
      "rougher.input.feed_ag                                 19439 non-null float64\n",
      "rougher.input.feed_pb                                 19339 non-null float64\n",
      "rougher.input.feed_rate                               19428 non-null float64\n",
      "rougher.input.feed_size                               19294 non-null float64\n",
      "rougher.input.feed_sol                                19340 non-null float64\n",
      "rougher.input.feed_au                                 19439 non-null float64\n",
      "rougher.input.floatbank10_sulfate                     19405 non-null float64\n",
      "rougher.input.floatbank10_xanthate                    19431 non-null float64\n",
      "rougher.input.floatbank11_sulfate                     19395 non-null float64\n",
      "rougher.input.floatbank11_xanthate                    18986 non-null float64\n",
      "rougher.output.concentrate_ag                         19439 non-null float64\n",
      "rougher.output.concentrate_pb                         19439 non-null float64\n",
      "rougher.output.concentrate_sol                        19416 non-null float64\n",
      "rougher.output.concentrate_au                         19439 non-null float64\n",
      "rougher.output.recovery                               19439 non-null float64\n",
      "rougher.output.tail_ag                                19438 non-null float64\n",
      "rougher.output.tail_pb                                19439 non-null float64\n",
      "rougher.output.tail_sol                               19439 non-null float64\n",
      "rougher.output.tail_au                                19439 non-null float64\n",
      "rougher.state.floatbank10_a_air                       19438 non-null float64\n",
      "rougher.state.floatbank10_a_level                     19438 non-null float64\n",
      "rougher.state.floatbank10_b_air                       19438 non-null float64\n",
      "rougher.state.floatbank10_b_level                     19438 non-null float64\n",
      "rougher.state.floatbank10_c_air                       19438 non-null float64\n",
      "rougher.state.floatbank10_c_level                     19438 non-null float64\n",
      "rougher.state.floatbank10_d_air                       19439 non-null float64\n",
      "rougher.state.floatbank10_d_level                     19439 non-null float64\n",
      "rougher.state.floatbank10_e_air                       19003 non-null float64\n",
      "rougher.state.floatbank10_e_level                     19439 non-null float64\n",
      "rougher.state.floatbank10_f_air                       19439 non-null float64\n",
      "rougher.state.floatbank10_f_level                     19439 non-null float64\n",
      "secondary_cleaner.output.tail_ag                      19437 non-null float64\n",
      "secondary_cleaner.output.tail_pb                      19427 non-null float64\n",
      "secondary_cleaner.output.tail_sol                     17691 non-null float64\n",
      "secondary_cleaner.output.tail_au                      19439 non-null float64\n",
      "secondary_cleaner.state.floatbank2_a_air              19219 non-null float64\n",
      "secondary_cleaner.state.floatbank2_a_level            19438 non-null float64\n",
      "secondary_cleaner.state.floatbank2_b_air              19416 non-null float64\n",
      "secondary_cleaner.state.floatbank2_b_level            19438 non-null float64\n",
      "secondary_cleaner.state.floatbank3_a_air              19426 non-null float64\n",
      "secondary_cleaner.state.floatbank3_a_level            19438 non-null float64\n",
      "secondary_cleaner.state.floatbank3_b_air              19438 non-null float64\n",
      "secondary_cleaner.state.floatbank3_b_level            19438 non-null float64\n",
      "secondary_cleaner.state.floatbank4_a_air              19433 non-null float64\n",
      "secondary_cleaner.state.floatbank4_a_level            19438 non-null float64\n",
      "secondary_cleaner.state.floatbank4_b_air              19438 non-null float64\n",
      "secondary_cleaner.state.floatbank4_b_level            19438 non-null float64\n",
      "secondary_cleaner.state.floatbank5_a_air              19438 non-null float64\n",
      "secondary_cleaner.state.floatbank5_a_level            19438 non-null float64\n",
      "secondary_cleaner.state.floatbank5_b_air              19438 non-null float64\n",
      "secondary_cleaner.state.floatbank5_b_level            19438 non-null float64\n",
      "secondary_cleaner.state.floatbank6_a_air              19437 non-null float64\n",
      "secondary_cleaner.state.floatbank6_a_level            19438 non-null float64\n",
      "dtypes: float64(86), object(1)\n",
      "memory usage: 12.9+ MB\n"
     ]
    }
   ],
   "source": [
    "data_full.info()"
   ]
  },
  {
   "cell_type": "code",
   "execution_count": 23,
   "metadata": {},
   "outputs": [
    {
     "name": "stdout",
     "output_type": "stream",
     "text": [
      "Средние концентрации для серебра, свинца и золота соответственно:\n",
      "\tКонцентрация до флотации: 8.794927425814688\n",
      "\tКонцентрация после флотации и до первичной очистки; изменение в процентах: 11.99 36.4\n",
      "\tКонцентрация после первичной очитки и до вторичной очистки; изменение в процентах: 8.44 -29.6\n",
      "\tКонцентрация после вторичной очистки; изменение в процентах: 5.17 -38.8\n",
      "\n",
      "\tКонцентрация до флотации: 3.598084975395463\n",
      "\tКонцентрация после флотации и до первичной очистки; изменение в процентах: 7.61 111.4\n",
      "\tКонцентрация после первичной очитки и до вторичной очистки; изменение в процентах: 9.83 29.2\n",
      "\tКонцентрация после вторичной очистки; изменение в процентах: 9.98 1.5\n",
      "\n",
      "\tКонцентрация до флотации: 8.266097326589103\n",
      "\tКонцентрация после флотации и до первичной очистки; изменение в процентах: 19.77 139.2\n",
      "\tКонцентрация после первичной очитки и до вторичной очистки; изменение в процентах: 32.12 62.4\n",
      "\tКонцентрация после вторичной очистки; изменение в процентах: 44.08 37.2\n",
      "\n"
     ]
    }
   ],
   "source": [
    "metalls_input_rougher = ['rougher.input.feed_ag', 'rougher.input.feed_pb', 'rougher.input.feed_au']\n",
    "mettals_output_rougher = ['rougher.output.concentrate_ag', 'rougher.output.concentrate_pb', 'rougher.output.concentrate_au']\n",
    "\n",
    "mettals_output_primary = ['primary_cleaner.output.concentrate_ag', 'primary_cleaner.output.concentrate_pb', 'primary_cleaner.output.concentrate_au']\n",
    "\n",
    "mettals_output_final = ['final.output.concentrate_ag', 'final.output.concentrate_pb', 'final.output.concentrate_au']\n",
    "\n",
    "print(\"Средние концентрации для серебра, свинца и золота соответственно:\")\n",
    "for i in range(len(metalls_input_rougher)):\n",
    "    print(\"\\tКонцентрация до флотации:\", data_full[metalls_input_rougher[i]].mean())\n",
    "    print(\"\\tКонцентрация после флотации и до первичной очистки; изменение в процентах:\", round(data_full[mettals_output_rougher[i]].mean(), 2), round(data_full[mettals_output_rougher[i]].mean()/data_full[metalls_input_rougher[i]].mean() * 100 - 100, 1))\n",
    "    print(\"\\tКонцентрация после первичной очитки и до вторичной очистки; изменение в процентах:\", round(data_full[mettals_output_primary[i]].mean(),2), round(data_full[mettals_output_primary[i]].mean()/data_full[mettals_output_rougher[i]].mean() * 100 - 100, 1))\n",
    "    print(\"\\tКонцентрация после вторичной очистки; изменение в процентах:\", round(data_full[mettals_output_final[i]].mean(), 2), round(data_full[mettals_output_final[i]].mean()/data_full[mettals_output_primary[i]].mean() * 100 - 100, 1))\n",
    "    print()"
   ]
  },
  {
   "cell_type": "markdown",
   "metadata": {},
   "source": [
    "***Вывод***"
   ]
  },
  {
   "cell_type": "markdown",
   "metadata": {},
   "source": [
    "Флоатация увеличивает концентрацию всех металлов, в особенности золота. Дальнейшая очистка также даёт увеличение концентрации золота и свинца(золота в особенности), однако концентрация серебра уменьшается. Мы можем сказать, что количесвто примесей уменьшается, а также так как концентрация золота увеличивается быстрее всего, то его становится больше относительно всего остального, что нам и требуется. Однако увеличение концентрации свинца на всех этапах очистки говорит о том, что применяемый метод плохо отчищает сырьё от свинца. Это даёт возможность развития этой технологии, но можно ли это улучшить и как это сделать если можно - стоит анализировать уже не нам."
   ]
  },
  {
   "cell_type": "markdown",
   "metadata": {},
   "source": [
    "### Сравнение распределения размера гранул в тренировочной и тестовой выборках."
   ]
  },
  {
   "cell_type": "code",
   "execution_count": 24,
   "metadata": {},
   "outputs": [
    {
     "name": "stdout",
     "output_type": "stream",
     "text": [
      "count    5246.000000\n",
      "mean       55.961604\n",
      "std        19.015519\n",
      "min         0.046369\n",
      "25%        43.915006\n",
      "50%        50.846843\n",
      "75%        62.380198\n",
      "max       392.494040\n",
      "Name: rougher.input.feed_size, dtype: float64\n",
      "count    13680.000000\n",
      "mean        60.120238\n",
      "std         22.430916\n",
      "min          9.659576\n",
      "25%         48.990472\n",
      "50%         55.391451\n",
      "75%         65.971971\n",
      "max        484.967466\n",
      "Name: rougher.input.feed_size, dtype: float64\n"
     ]
    },
    {
     "data": {
      "image/png": "[encoded data removed]",
      "text/plain": [
       "<Figure size 432x288 with 1 Axes>"
      ]
     },
     "metadata": {
      "needs_background": "light"
     },
     "output_type": "display_data"
    }
   ],
   "source": [
    "plt.hist(data_train['rougher.input.feed_size'], bins = 100, alpha = 0.8)\n",
    "plt.hist(data_test['rougher.input.feed_size'], bins = 100, alpha = 0.8)\n",
    "plt.xlim((0,200))\n",
    "plt.xlabel(\"Size\")\n",
    "plt.xlabel(\"Count of measurements\")\n",
    "print(data_test['rougher.input.feed_size'].describe())\n",
    "print(data_train['rougher.input.feed_size'].describe())"
   ]
  },
  {
   "cell_type": "markdown",
   "metadata": {},
   "source": [
    "***Вывод***"
   ]
  },
  {
   "cell_type": "markdown",
   "metadata": {},
   "source": [
    "Распределения в тестовой и тренировочной выборках похожи, но со сдвигом на 5 влево. Работаем."
   ]
  },
  {
   "cell_type": "markdown",
   "metadata": {},
   "source": [
    "### Исследование суммарной концентрации всех веществ на разных стадиях"
   ]
  },
  {
   "cell_type": "code",
   "execution_count": 25,
   "metadata": {},
   "outputs": [],
   "source": [
    "def summ_concentrate(data):\n",
    "    summ = []\n",
    "    summ.append(data[metalls_input_rougher[0]])\n",
    "    summ.append(data[mettals_output_rougher[0]])\n",
    "    summ.append(data[mettals_output_primary[0]])\n",
    "    summ.append(data[mettals_output_final[0]])\n",
    "    for i in range(1, len(metalls_input_rougher)):\n",
    "        summ[0] += data[metalls_input_rougher[i]]\n",
    "        summ[1] += data[mettals_output_rougher[i]]\n",
    "        summ[2] += data[mettals_output_primary[i]]\n",
    "        summ[3] += data[mettals_output_final[i]]\n",
    "    summ[0] += data['rougher.input.feed_sol']\n",
    "    summ[1] += data['rougher.output.concentrate_sol']\n",
    "    summ[2] += data['primary_cleaner.output.concentrate_sol']\n",
    "    summ[3] += data['final.output.concentrate_ag']\n",
    "    return summ"
   ]
  },
  {
   "cell_type": "code",
   "execution_count": 26,
   "metadata": {},
   "outputs": [
    {
     "name": "stdout",
     "output_type": "stream",
     "text": [
      "count    19245.000000\n",
      "mean        57.407926\n",
      "std          7.165219\n",
      "min          0.040000\n",
      "25%         53.660745\n",
      "50%         57.647093\n",
      "75%         62.012223\n",
      "max         76.978947\n",
      "Name: rougher.input.feed_ag, dtype: float64\n",
      "count    19416.000000\n",
      "mean        68.188914\n",
      "std         12.478522\n",
      "min          0.000000\n",
      "25%         66.026048\n",
      "50%         70.186130\n",
      "75%         74.362878\n",
      "max         88.140119\n",
      "Name: rougher.output.concentrate_ag, dtype: float64\n",
      "count    19069.000000\n",
      "mean        60.949928\n",
      "std          9.953770\n",
      "min          0.000000\n",
      "25%         59.165854\n",
      "50%         62.615189\n",
      "75%         65.725507\n",
      "max         80.749343\n",
      "Name: primary_cleaner.output.concentrate_ag, dtype: float64\n",
      "count    19438.000000\n",
      "mean       118.449306\n",
      "std         12.187821\n",
      "min          0.000000\n",
      "25%        118.597347\n",
      "50%        120.614592\n",
      "75%        122.193381\n",
      "max        129.937762\n",
      "Name: final.output.concentrate_ag, dtype: float64\n"
     ]
    }
   ],
   "source": [
    "summ = summ_concentrate(data_full)\n",
    "\n",
    "\n",
    "for s in summ:\n",
    "    print(s.describe())"
   ]
  },
  {
   "cell_type": "markdown",
   "metadata": {},
   "source": [
    "***Вывод***"
   ]
  },
  {
   "cell_type": "markdown",
   "metadata": {},
   "source": [
    "Суммарная концентрация металлов растёт от этапа к этапу, что говорит об эффективности каждого из этапов. Однако есть измерения, где нулевая суммарная концентрация. Скорее всего это ошибочные данные и их надо убрать."
   ]
  },
  {
   "cell_type": "code",
   "execution_count": 27,
   "metadata": {},
   "outputs": [],
   "source": [
    "d = data_full[summ[3] == 0]['date']\n",
    "for s in summ:\n",
    "    data_train = data_train[~data_train.isin(data_full[s == 0]['date'])]\n",
    "    data_test = data_test[~data_test.isin(data_full[s == 0]['date'])]\n"
   ]
  },
  {
   "cell_type": "code",
   "execution_count": 28,
   "metadata": {},
   "outputs": [
    {
     "name": "stdout",
     "output_type": "stream",
     "text": [
      "0 0\n",
      "0 0\n",
      "0 0\n",
      "0 0\n"
     ]
    }
   ],
   "source": [
    "for s in summ:\n",
    "    print(data_train.isin(data_full[s == 0]['date'])['date'].sum(), data_test.isin(data_full[s == 0]['date'])['date'].sum())\n"
   ]
  },
  {
   "cell_type": "markdown",
   "metadata": {},
   "source": [
    "Убрали значения с нулевыми концентрациями."
   ]
  },
  {
   "cell_type": "markdown",
   "metadata": {},
   "source": [
    "### Дроп даты, как дублирующего индекса"
   ]
  },
  {
   "cell_type": "code",
   "execution_count": 29,
   "metadata": {},
   "outputs": [],
   "source": [
    "data_train = data_train.drop('date', axis = 1)\n",
    "data_test = data_test.drop('date', axis = 1)"
   ]
  },
  {
   "cell_type": "markdown",
   "metadata": {},
   "source": [
    "## Модель"
   ]
  },
  {
   "cell_type": "markdown",
   "metadata": {},
   "source": [
    "### Масштабирование признаков"
   ]
  },
  {
   "cell_type": "code",
   "execution_count": 30,
   "metadata": {},
   "outputs": [],
   "source": [
    "scaler = StandardScaler()\n",
    "scaler.fit(data_train)\n",
    "\n",
    "data_train = scaler.transform(data_train)"
   ]
  },
  {
   "cell_type": "markdown",
   "metadata": {},
   "source": [
    "### Функция для подсчёта sMAPE"
   ]
  },
  {
   "cell_type": "code",
   "execution_count": 31,
   "metadata": {},
   "outputs": [],
   "source": [
    "def sMAPE(predicted, target):\n",
    "    return ((predicted - target).abs() / (predicted.abs() + target.abs())).sum() * 2 / len(target)\n",
    "def final_sMAPE(predicted_r, predicted_f, target_r, target_f):\n",
    "    return sMAPE(predicted_r, target_r) * 0.25 + sMAPE(predicted_f, target_f) * 0.75"
   ]
  },
  {
   "cell_type": "markdown",
   "metadata": {},
   "source": [
    "### Модель случайного леса"
   ]
  },
  {
   "cell_type": "code",
   "execution_count": 32,
   "metadata": {},
   "outputs": [
    {
     "name": "stdout",
     "output_type": "stream",
     "text": [
      "0.19290253676276836\n",
      "0.1648781010856765\n",
      "0.14965413738442265\n",
      "0.14439508270524462\n",
      "0.1435387493053034\n"
     ]
    }
   ],
   "source": [
    "best_model = None\n",
    "best_result = 0\n",
    "best_forest_model = None\n",
    "best_forest_result = 0\n",
    "for est in range(1, 6):\n",
    "        model = RandomForestRegressor(random_state=12345, n_estimators=est) \n",
    "        predicted_r = cross_val_predict(model, data_train, data_train_target1, cv = 5)\n",
    "        predicted_f = cross_val_predict(model, data_train, data_train_target2, cv = 5)\n",
    "        result = final_sMAPE(pd.Series(predicted_r), pd.Series(predicted_f), data_train_target1, data_train_target2)\n",
    "        print(result)\n",
    "        if result > best_forest_result:\n",
    "            best_forest_model = model\n",
    "            best_forest_result = result\n",
    "if best_forest_result > best_result:\n",
    "    best_model = best_forest_model \n",
    "    best_result = best_forest_result"
   ]
  },
  {
   "cell_type": "markdown",
   "metadata": {},
   "source": [
    "### Модель дерева решений"
   ]
  },
  {
   "cell_type": "code",
   "execution_count": 33,
   "metadata": {},
   "outputs": [
    {
     "name": "stdout",
     "output_type": "stream",
     "text": [
      "0.11720301852756722\n",
      "0.12222758338091104\n",
      "0.11437713281530881\n",
      "0.11872342139761033\n",
      "0.12417444337682677\n",
      "0.13469242462963968\n",
      "0.1674714043296757\n",
      "0.17721081644213132\n",
      "0.18647086144302827\n",
      "0.182625027525895\n"
     ]
    }
   ],
   "source": [
    "best_tree_model = None\n",
    "best_tree_result = 0\n",
    "for depth in range(1,11):\n",
    "        model = DecisionTreeRegressor(max_depth = depth, random_state = 12345)\n",
    "        predicted_r = cross_val_predict(model, data_train, data_train_target1, cv = 5)\n",
    "        predicted_f = cross_val_predict(model, data_train, data_train_target2, cv = 5)\n",
    "        result = final_sMAPE(pd.Series(predicted_r), pd.Series(predicted_f), data_train_target1, data_train_target2)\n",
    "        print(result)\n",
    "        if result > best_tree_result:\n",
    "            best_tree_model = model\n",
    "            best_tree_result = result\n",
    "if best_tree_result > best_result:\n",
    "    best_model = best_tree_model \n",
    "    best_result = best_tree_result"
   ]
  },
  {
   "cell_type": "markdown",
   "metadata": {},
   "source": [
    "### Модель линейной регрессии"
   ]
  },
  {
   "cell_type": "code",
   "execution_count": 34,
   "metadata": {},
   "outputs": [
    {
     "name": "stdout",
     "output_type": "stream",
     "text": [
      "0.11916676819297839\n"
     ]
    }
   ],
   "source": [
    "model = LinearRegression()\n",
    "predicted_r = cross_val_predict(model, data_train, data_train_target1, cv = 5)\n",
    "predicted_f = cross_val_predict(model, data_train, data_train_target2, cv = 5)\n",
    "result = final_sMAPE(pd.Series(predicted_r), pd.Series(predicted_f), data_train_target1, data_train_target2)\n",
    "print(result)\n",
    "if result > best_result:\n",
    "    best_model = model \n",
    "    best_result = result"
   ]
  },
  {
   "cell_type": "markdown",
   "metadata": {},
   "source": [
    "***Вывод***"
   ]
  },
  {
   "cell_type": "markdown",
   "metadata": {},
   "source": [
    "Лучшая модель - модель дерева решений с глубиной 3. Случайного леса возможно в итоге получится лучше, но её обучение становится очень долгим. Также стоит присмотреться к модели линейной регрессии, так как она не намного хуже лучшей модели, однако обучается быстрей."
   ]
  },
  {
   "cell_type": "markdown",
   "metadata": {},
   "source": [
    "### Проверка модели на тестовой выборке"
   ]
  },
  {
   "cell_type": "code",
   "execution_count": 35,
   "metadata": {},
   "outputs": [
    {
     "name": "stdout",
     "output_type": "stream",
     "text": [
      "0.03829589177988262\n"
     ]
    }
   ],
   "source": [
    "best_model.fit(data_train, data_train_target1)\n",
    "predicted_r = best_model.predict(data_test)\n",
    "best_model.fit(data_train, data_train_target2)\n",
    "predicted_f = best_model.predict(data_test)\n",
    "result = final_sMAPE(pd.Series(predicted_r), pd.Series(predicted_f), data_train_target1, data_train_target2)\n",
    "print(result)"
   ]
  },
  {
   "cell_type": "markdown",
   "metadata": {},
   "source": [
    "### Сравнение с простой моделью"
   ]
  },
  {
   "cell_type": "code",
   "execution_count": 36,
   "metadata": {},
   "outputs": [
    {
     "name": "stdout",
     "output_type": "stream",
     "text": [
      "0.10111750632920682\n"
     ]
    }
   ],
   "source": [
    "best_model.fit(data_train, data_train_target1)\n",
    "predicted_r = best_model.predict(data_test)\n",
    "best_model.fit(data_train, data_train_target2)\n",
    "predicted_f = best_model.predict(data_test)\n",
    "result = final_sMAPE(pd.Series(predicted_r), pd.Series(predicted_f), data_test_target1, data_test_target2)\n",
    "print(result)"
   ]
  },
  {
   "cell_type": "code",
   "execution_count": 37,
   "metadata": {},
   "outputs": [
    {
     "name": "stdout",
     "output_type": "stream",
     "text": [
      "0.08615145874534011\n"
     ]
    }
   ],
   "source": [
    "dummy_regressor_rougher = DummyRegressor(strategy=\"median\")\n",
    "dummy_regressor_rougher.fit(data_train, data_train_target1)\n",
    "dummy_rougher_pred = dummy_regressor_rougher.predict(data_test)\n",
    "\n",
    "dummy_regressor_final = DummyRegressor(strategy=\"median\")\n",
    "dummy_regressor_final.fit(data_train, data_train_target2)\n",
    "dummy_final_pred = dummy_regressor_final.predict(data_test)\n",
    "\n",
    "result = final_sMAPE(pd.Series(dummy_rougher_pred), pd.Series(dummy_final_pred), data_test_target1, data_test_target2)\n",
    "print(result)"
   ]
  },
  {
   "cell_type": "markdown",
   "metadata": {},
   "source": [
    "***Вывод***"
   ]
  },
  {
   "cell_type": "markdown",
   "metadata": {},
   "source": [
    "Наша модель показала намного лучшие результаты на тестовой выборке, чем на тренировочой. Скорее всего это связано со спецификой этих выборок. Также наша лучшая модель не выдержала проверки на адекватность. Её метрика на 1,5% выше, чем у DummyRegressor. Это говорит нам о том, что целевой признак сосредоточен в очень узком корридоре, поэтому моделям сложно обучаться. Однако возможно опять таки всё из-за специфики выборок. Вон, у нас на тестовой выборке значения лучше, чем на тренировочной. Но не смотря ни на что в данной ситуации мы можем сказать, что методов машинного обучения, которые были применены в  данном проекте оказалось недостаточно. Результат можно интерпретировать двояко. Первый вариант - лучше нанять дядю Васю, который \"на глазок\" прикинет, чем использовать ML. Второй вариант - нам нужны большие вычислительные мощности или больше времени, чтобы обучить модель при помощи более продвинутых методов машинного обучения, которая даст нам нужный результат. "
   ]
  }
 ],
 "metadata": {
  "ExecuteTimeLog": [
   {
    "duration": 585,
    "start_time": "2021-10-31T18:15:49.619Z"
   },
   {
    "duration": 1921,
    "start_time": "2021-10-31T18:16:18.712Z"
   },
   {
    "duration": 1829,
    "start_time": "2021-10-31T18:16:25.875Z"
   },
   {
    "duration": 2006,
    "start_time": "2021-10-31T18:17:04.399Z"
   },
   {
    "duration": 297,
    "start_time": "2021-10-31T18:17:26.539Z"
   },
   {
    "duration": 780,
    "start_time": "2021-10-31T18:18:33.120Z"
   },
   {
    "duration": 817,
    "start_time": "2021-10-31T18:18:45.478Z"
   },
   {
    "duration": 745,
    "start_time": "2021-10-31T18:23:25.871Z"
   },
   {
    "duration": 27,
    "start_time": "2021-10-31T18:23:40.165Z"
   },
   {
    "duration": 20,
    "start_time": "2021-10-31T18:23:58.564Z"
   },
   {
    "duration": 220,
    "start_time": "2021-10-31T18:30:40.403Z"
   },
   {
    "duration": 18,
    "start_time": "2021-10-31T18:30:53.720Z"
   },
   {
    "duration": 22,
    "start_time": "2021-10-31T18:40:08.427Z"
   },
   {
    "duration": 807,
    "start_time": "2021-10-31T18:40:36.345Z"
   },
   {
    "duration": 16,
    "start_time": "2021-10-31T18:40:37.162Z"
   },
   {
    "duration": 218,
    "start_time": "2021-10-31T18:40:38.791Z"
   },
   {
    "duration": 21,
    "start_time": "2021-10-31T18:40:42.007Z"
   },
   {
    "duration": 313,
    "start_time": "2021-10-31T18:47:06.081Z"
   },
   {
    "duration": 84,
    "start_time": "2021-10-31T18:50:00.639Z"
   },
   {
    "duration": 197,
    "start_time": "2021-10-31T18:50:05.960Z"
   },
   {
    "duration": 435,
    "start_time": "2021-10-31T18:50:28.625Z"
   },
   {
    "duration": 200,
    "start_time": "2021-10-31T18:50:53.563Z"
   },
   {
    "duration": 198,
    "start_time": "2021-10-31T18:51:29.548Z"
   },
   {
    "duration": 188,
    "start_time": "2021-10-31T18:51:39.701Z"
   },
   {
    "duration": 208,
    "start_time": "2021-10-31T18:51:50.167Z"
   },
   {
    "duration": 433,
    "start_time": "2021-10-31T18:53:33.094Z"
   },
   {
    "duration": 602,
    "start_time": "2021-10-31T18:54:09.885Z"
   },
   {
    "duration": 403,
    "start_time": "2021-10-31T18:57:58.909Z"
   },
   {
    "duration": 217,
    "start_time": "2021-10-31T18:58:11.952Z"
   },
   {
    "duration": 237,
    "start_time": "2021-10-31T18:59:03.262Z"
   },
   {
    "duration": 226,
    "start_time": "2021-10-31T18:59:08.814Z"
   },
   {
    "duration": 274,
    "start_time": "2021-10-31T19:00:32.068Z"
   },
   {
    "duration": 264,
    "start_time": "2021-10-31T19:01:07.194Z"
   },
   {
    "duration": 269,
    "start_time": "2021-10-31T19:01:37.545Z"
   },
   {
    "duration": 263,
    "start_time": "2021-10-31T19:02:10.808Z"
   },
   {
    "duration": 113,
    "start_time": "2021-10-31T19:04:40.336Z"
   },
   {
    "duration": 456,
    "start_time": "2021-10-31T19:04:46.855Z"
   },
   {
    "duration": 254,
    "start_time": "2021-10-31T19:05:42.800Z"
   },
   {
    "duration": 265,
    "start_time": "2021-10-31T19:05:56.471Z"
   },
   {
    "duration": 267,
    "start_time": "2021-10-31T19:27:32.940Z"
   },
   {
    "duration": 463,
    "start_time": "2021-10-31T19:29:24.896Z"
   },
   {
    "duration": 261,
    "start_time": "2021-10-31T19:29:40.275Z"
   },
   {
    "duration": 645,
    "start_time": "2021-10-31T19:30:28.748Z"
   },
   {
    "duration": 292,
    "start_time": "2021-10-31T19:30:35.076Z"
   },
   {
    "duration": 31,
    "start_time": "2021-10-31T19:41:39.718Z"
   },
   {
    "duration": 32,
    "start_time": "2021-10-31T19:42:07.347Z"
   },
   {
    "duration": 20,
    "start_time": "2021-10-31T19:42:26.304Z"
   },
   {
    "duration": 11,
    "start_time": "2021-10-31T19:44:06.110Z"
   },
   {
    "duration": 18,
    "start_time": "2021-10-31T19:44:17.987Z"
   },
   {
    "duration": 2,
    "start_time": "2021-10-31T20:13:16.158Z"
   },
   {
    "duration": 6018,
    "start_time": "2021-10-31T20:20:05.081Z"
   },
   {
    "duration": 5,
    "start_time": "2021-10-31T20:20:54.466Z"
   },
   {
    "duration": 5,
    "start_time": "2021-10-31T20:22:08.888Z"
   },
   {
    "duration": 6,
    "start_time": "2021-10-31T20:44:39.921Z"
   },
   {
    "duration": 6044,
    "start_time": "2021-10-31T20:48:56.140Z"
   },
   {
    "duration": 5,
    "start_time": "2021-10-31T20:49:05.794Z"
   },
   {
    "duration": 5,
    "start_time": "2021-10-31T20:51:40.561Z"
   },
   {
    "duration": 1539,
    "start_time": "2021-10-31T20:51:59.953Z"
   },
   {
    "duration": 9,
    "start_time": "2021-10-31T20:53:03.206Z"
   },
   {
    "duration": 422,
    "start_time": "2021-10-31T20:56:05.852Z"
   },
   {
    "duration": 8,
    "start_time": "2021-10-31T20:57:35.050Z"
   },
   {
    "duration": 6,
    "start_time": "2021-10-31T20:58:09.509Z"
   },
   {
    "duration": 6,
    "start_time": "2021-10-31T20:58:16.495Z"
   },
   {
    "duration": 8,
    "start_time": "2021-10-31T20:58:33.900Z"
   },
   {
    "duration": 298,
    "start_time": "2021-10-31T21:07:02.922Z"
   },
   {
    "duration": 250,
    "start_time": "2021-10-31T21:07:12.636Z"
   },
   {
    "duration": 256,
    "start_time": "2021-10-31T21:07:29.221Z"
   },
   {
    "duration": 256,
    "start_time": "2021-10-31T21:07:46.920Z"
   },
   {
    "duration": 977,
    "start_time": "2021-10-31T21:07:57.014Z"
   },
   {
    "duration": 813,
    "start_time": "2021-10-31T21:07:57.993Z"
   },
   {
    "duration": 15,
    "start_time": "2021-10-31T21:07:58.810Z"
   },
   {
    "duration": 241,
    "start_time": "2021-10-31T21:07:58.827Z"
   },
   {
    "duration": 18,
    "start_time": "2021-10-31T21:07:59.070Z"
   },
   {
    "duration": 12,
    "start_time": "2021-10-31T21:07:59.089Z"
   },
   {
    "duration": 18,
    "start_time": "2021-10-31T21:07:59.104Z"
   },
   {
    "duration": 49,
    "start_time": "2021-10-31T21:07:59.123Z"
   },
   {
    "duration": 4,
    "start_time": "2021-10-31T21:07:59.173Z"
   },
   {
    "duration": 13,
    "start_time": "2021-10-31T21:07:59.178Z"
   },
   {
    "duration": 363,
    "start_time": "2021-10-31T21:07:59.193Z"
   },
   {
    "duration": 66,
    "start_time": "2021-10-31T21:07:59.492Z"
   },
   {
    "duration": 243,
    "start_time": "2021-10-31T21:08:12.532Z"
   },
   {
    "duration": 21,
    "start_time": "2021-10-31T21:08:15.101Z"
   },
   {
    "duration": 18,
    "start_time": "2021-10-31T21:09:28.288Z"
   },
   {
    "duration": 11,
    "start_time": "2021-10-31T21:09:43.287Z"
   },
   {
    "duration": 18,
    "start_time": "2021-10-31T21:11:54.821Z"
   },
   {
    "duration": 13,
    "start_time": "2021-10-31T21:12:20.364Z"
   },
   {
    "duration": 18,
    "start_time": "2021-10-31T21:12:39.133Z"
   },
   {
    "duration": 13,
    "start_time": "2021-10-31T21:14:37.632Z"
   },
   {
    "duration": 318,
    "start_time": "2021-11-01T12:43:39.884Z"
   },
   {
    "duration": 1244,
    "start_time": "2021-11-01T12:43:47.362Z"
   },
   {
    "duration": 879,
    "start_time": "2021-11-01T12:43:48.608Z"
   },
   {
    "duration": 22,
    "start_time": "2021-11-01T12:43:49.490Z"
   },
   {
    "duration": 350,
    "start_time": "2021-11-01T12:43:49.532Z"
   },
   {
    "duration": 29,
    "start_time": "2021-11-01T12:43:50.743Z"
   },
   {
    "duration": 16,
    "start_time": "2021-11-01T12:43:51.285Z"
   },
   {
    "duration": 31,
    "start_time": "2021-11-01T12:43:51.785Z"
   },
   {
    "duration": 27,
    "start_time": "2021-11-01T12:43:52.312Z"
   },
   {
    "duration": 4,
    "start_time": "2021-11-01T12:43:53.597Z"
   },
   {
    "duration": 13,
    "start_time": "2021-11-01T12:43:54.294Z"
   },
   {
    "duration": 27,
    "start_time": "2021-11-01T12:43:56.646Z"
   },
   {
    "duration": 307,
    "start_time": "2021-11-01T12:43:58.829Z"
   },
   {
    "duration": 44,
    "start_time": "2021-11-01T12:44:10.745Z"
   },
   {
    "duration": 195,
    "start_time": "2021-11-01T12:45:45.464Z"
   },
   {
    "duration": 65,
    "start_time": "2021-11-01T12:46:13.638Z"
   },
   {
    "duration": 44,
    "start_time": "2021-11-01T12:46:20.910Z"
   },
   {
    "duration": 3,
    "start_time": "2021-11-01T12:46:33.420Z"
   },
   {
    "duration": 883,
    "start_time": "2021-11-01T12:46:33.826Z"
   },
   {
    "duration": 35,
    "start_time": "2021-11-01T12:46:34.712Z"
   },
   {
    "duration": 347,
    "start_time": "2021-11-01T12:46:35.163Z"
   },
   {
    "duration": 31,
    "start_time": "2021-11-01T12:46:35.739Z"
   },
   {
    "duration": 17,
    "start_time": "2021-11-01T12:46:36.012Z"
   },
   {
    "duration": 32,
    "start_time": "2021-11-01T12:46:36.383Z"
   },
   {
    "duration": 25,
    "start_time": "2021-11-01T12:46:36.744Z"
   },
   {
    "duration": 4,
    "start_time": "2021-11-01T12:46:37.559Z"
   },
   {
    "duration": 10,
    "start_time": "2021-11-01T12:46:37.871Z"
   },
   {
    "duration": 25,
    "start_time": "2021-11-01T12:46:39.396Z"
   },
   {
    "duration": 45,
    "start_time": "2021-11-01T12:46:41.075Z"
   },
   {
    "duration": 156,
    "start_time": "2021-11-01T12:46:41.768Z"
   },
   {
    "duration": 45,
    "start_time": "2021-11-01T12:46:42.106Z"
   },
   {
    "duration": 257,
    "start_time": "2021-11-01T12:46:59.482Z"
   },
   {
    "duration": 1246,
    "start_time": "2021-11-01T12:47:18.659Z"
   },
   {
    "duration": 875,
    "start_time": "2021-11-01T12:47:19.908Z"
   },
   {
    "duration": 40,
    "start_time": "2021-11-01T12:47:20.789Z"
   },
   {
    "duration": 359,
    "start_time": "2021-11-01T12:47:20.832Z"
   },
   {
    "duration": 42,
    "start_time": "2021-11-01T12:47:21.194Z"
   },
   {
    "duration": 17,
    "start_time": "2021-11-01T12:47:21.238Z"
   },
   {
    "duration": 32,
    "start_time": "2021-11-01T12:47:21.259Z"
   },
   {
    "duration": 57,
    "start_time": "2021-11-01T12:47:21.293Z"
   },
   {
    "duration": 5,
    "start_time": "2021-11-01T12:47:21.352Z"
   },
   {
    "duration": 17,
    "start_time": "2021-11-01T12:47:21.359Z"
   },
   {
    "duration": 50,
    "start_time": "2021-11-01T12:47:21.379Z"
   },
   {
    "duration": 48,
    "start_time": "2021-11-01T12:47:21.431Z"
   },
   {
    "duration": 179,
    "start_time": "2021-11-01T12:47:21.482Z"
   },
   {
    "duration": 20,
    "start_time": "2021-11-01T12:47:21.663Z"
   },
   {
    "duration": 19,
    "start_time": "2021-11-01T12:48:36.556Z"
   },
   {
    "duration": 21,
    "start_time": "2021-11-01T12:48:43.138Z"
   },
   {
    "duration": 5823,
    "start_time": "2021-11-01T12:52:17.487Z"
   },
   {
    "duration": 7,
    "start_time": "2021-11-01T12:52:31.675Z"
   },
   {
    "duration": 11,
    "start_time": "2021-11-01T12:52:55.245Z"
   },
   {
    "duration": 6,
    "start_time": "2021-11-01T12:58:48.421Z"
   },
   {
    "duration": 18,
    "start_time": "2021-11-01T12:58:53.705Z"
   },
   {
    "duration": 1230,
    "start_time": "2021-11-01T12:59:07.084Z"
   },
   {
    "duration": 881,
    "start_time": "2021-11-01T12:59:08.316Z"
   },
   {
    "duration": 38,
    "start_time": "2021-11-01T12:59:09.203Z"
   },
   {
    "duration": 362,
    "start_time": "2021-11-01T12:59:09.244Z"
   },
   {
    "duration": 38,
    "start_time": "2021-11-01T12:59:09.609Z"
   },
   {
    "duration": 31,
    "start_time": "2021-11-01T12:59:09.649Z"
   },
   {
    "duration": 29,
    "start_time": "2021-11-01T12:59:09.682Z"
   },
   {
    "duration": 26,
    "start_time": "2021-11-01T12:59:09.730Z"
   },
   {
    "duration": 4,
    "start_time": "2021-11-01T12:59:09.759Z"
   },
   {
    "duration": 19,
    "start_time": "2021-11-01T12:59:09.765Z"
   },
   {
    "duration": 47,
    "start_time": "2021-11-01T12:59:09.787Z"
   },
   {
    "duration": 45,
    "start_time": "2021-11-01T12:59:09.837Z"
   },
   {
    "duration": 179,
    "start_time": "2021-11-01T12:59:09.884Z"
   },
   {
    "duration": 18,
    "start_time": "2021-11-01T12:59:10.066Z"
   },
   {
    "duration": 30,
    "start_time": "2021-11-01T12:59:10.086Z"
   },
   {
    "duration": 21,
    "start_time": "2021-11-01T12:59:10.118Z"
   },
   {
    "duration": 35,
    "start_time": "2021-11-01T12:59:10.141Z"
   },
   {
    "duration": 14,
    "start_time": "2021-11-01T13:22:22.524Z"
   },
   {
    "duration": 41,
    "start_time": "2021-11-01T13:23:09.805Z"
   },
   {
    "duration": 12,
    "start_time": "2021-11-01T13:23:24.173Z"
   },
   {
    "duration": 6,
    "start_time": "2021-11-01T13:24:06.237Z"
   },
   {
    "duration": 12,
    "start_time": "2021-11-01T13:24:07.069Z"
   },
   {
    "duration": 1262,
    "start_time": "2021-11-01T13:29:56.954Z"
   },
   {
    "duration": 886,
    "start_time": "2021-11-01T13:29:58.219Z"
   },
   {
    "duration": 35,
    "start_time": "2021-11-01T13:29:59.108Z"
   },
   {
    "duration": 352,
    "start_time": "2021-11-01T13:29:59.146Z"
   },
   {
    "duration": 38,
    "start_time": "2021-11-01T13:29:59.501Z"
   },
   {
    "duration": 19,
    "start_time": "2021-11-01T13:29:59.542Z"
   },
   {
    "duration": 30,
    "start_time": "2021-11-01T13:29:59.564Z"
   },
   {
    "duration": 58,
    "start_time": "2021-11-01T13:29:59.597Z"
   },
   {
    "duration": 12,
    "start_time": "2021-11-01T13:29:59.658Z"
   },
   {
    "duration": 24,
    "start_time": "2021-11-01T13:29:59.672Z"
   },
   {
    "duration": 70,
    "start_time": "2021-11-01T13:29:59.699Z"
   },
   {
    "duration": 172,
    "start_time": "2021-11-01T13:29:59.772Z"
   },
   {
    "duration": 19,
    "start_time": "2021-11-01T13:29:59.946Z"
   },
   {
    "duration": 10,
    "start_time": "2021-11-01T13:29:59.968Z"
   },
   {
    "duration": 6,
    "start_time": "2021-11-01T13:29:59.981Z"
   },
   {
    "duration": 60,
    "start_time": "2021-11-01T13:29:59.989Z"
   },
   {
    "duration": 12,
    "start_time": "2021-11-01T13:30:00.051Z"
   },
   {
    "duration": 42,
    "start_time": "2021-11-01T14:04:27.277Z"
   },
   {
    "duration": 20,
    "start_time": "2021-11-01T14:05:30.037Z"
   },
   {
    "duration": 8,
    "start_time": "2021-11-01T14:08:28.372Z"
   },
   {
    "duration": 370,
    "start_time": "2021-11-01T14:40:31.649Z"
   },
   {
    "duration": 16,
    "start_time": "2021-11-01T14:40:51.050Z"
   },
   {
    "duration": 17,
    "start_time": "2021-11-01T14:41:08.277Z"
   },
   {
    "duration": 24,
    "start_time": "2021-11-01T14:48:31.632Z"
   },
   {
    "duration": 26,
    "start_time": "2021-11-01T14:50:07.883Z"
   },
   {
    "duration": 24,
    "start_time": "2021-11-01T14:50:27.631Z"
   },
   {
    "duration": 29,
    "start_time": "2021-11-01T14:50:54.632Z"
   },
   {
    "duration": 112,
    "start_time": "2021-11-01T15:09:37.452Z"
   },
   {
    "duration": 497,
    "start_time": "2021-11-01T15:10:41.581Z"
   },
   {
    "duration": 545,
    "start_time": "2021-11-01T15:11:23.820Z"
   },
   {
    "duration": 286,
    "start_time": "2021-11-01T15:11:28.868Z"
   },
   {
    "duration": 386,
    "start_time": "2021-11-01T15:11:38.582Z"
   },
   {
    "duration": 526,
    "start_time": "2021-11-01T15:11:54.087Z"
   },
   {
    "duration": 895,
    "start_time": "2021-11-01T15:12:35.192Z"
   },
   {
    "duration": 536,
    "start_time": "2021-11-01T15:13:22.722Z"
   },
   {
    "duration": 539,
    "start_time": "2021-11-01T15:13:38.550Z"
   },
   {
    "duration": 902,
    "start_time": "2021-11-01T15:14:32.977Z"
   },
   {
    "duration": 1009,
    "start_time": "2021-11-01T15:15:24.864Z"
   },
   {
    "duration": 823,
    "start_time": "2021-11-01T15:15:38.363Z"
   },
   {
    "duration": 905,
    "start_time": "2021-11-01T19:21:04.934Z"
   },
   {
    "duration": 804,
    "start_time": "2021-11-01T19:23:28.049Z"
   },
   {
    "duration": 7,
    "start_time": "2021-11-01T19:30:19.187Z"
   },
   {
    "duration": 7,
    "start_time": "2021-11-01T19:31:01.151Z"
   },
   {
    "duration": 5761,
    "start_time": "2021-11-01T19:31:22.326Z"
   },
   {
    "duration": 6250,
    "start_time": "2021-11-01T19:31:55.150Z"
   },
   {
    "duration": 10,
    "start_time": "2021-11-01T19:32:31.632Z"
   },
   {
    "duration": 255,
    "start_time": "2021-11-01T19:39:47.794Z"
   },
   {
    "duration": 15,
    "start_time": "2021-11-01T19:39:54.013Z"
   },
   {
    "duration": 13,
    "start_time": "2021-11-01T19:40:00.267Z"
   },
   {
    "duration": 4,
    "start_time": "2021-11-01T20:45:29.989Z"
   },
   {
    "duration": 5,
    "start_time": "2021-11-01T20:55:59.217Z"
   },
   {
    "duration": 13,
    "start_time": "2021-11-01T21:00:14.044Z"
   },
   {
    "duration": 5,
    "start_time": "2021-11-01T21:04:35.384Z"
   },
   {
    "duration": 10,
    "start_time": "2021-11-01T21:04:39.745Z"
   },
   {
    "duration": 268,
    "start_time": "2021-11-01T21:04:50.792Z"
   },
   {
    "duration": 184,
    "start_time": "2021-11-01T21:05:02.962Z"
   },
   {
    "duration": 6,
    "start_time": "2021-11-01T21:05:13.103Z"
   },
   {
    "duration": 12,
    "start_time": "2021-11-01T21:05:13.997Z"
   },
   {
    "duration": 250,
    "start_time": "2021-11-01T21:05:14.560Z"
   },
   {
    "duration": 10,
    "start_time": "2021-11-01T21:05:15.063Z"
   },
   {
    "duration": 399,
    "start_time": "2021-11-01T21:07:30.087Z"
   },
   {
    "duration": 4,
    "start_time": "2021-11-01T21:07:41.504Z"
   },
   {
    "duration": 243,
    "start_time": "2021-11-01T21:07:54.691Z"
   },
   {
    "duration": 229,
    "start_time": "2021-11-01T21:08:03.485Z"
   },
   {
    "duration": 4,
    "start_time": "2021-11-01T21:08:24.003Z"
   },
   {
    "duration": 228,
    "start_time": "2021-11-01T21:08:29.082Z"
   },
   {
    "duration": 1476,
    "start_time": "2021-11-01T21:08:42.197Z"
   },
   {
    "duration": 904,
    "start_time": "2021-11-01T21:08:43.676Z"
   },
   {
    "duration": 23,
    "start_time": "2021-11-01T21:08:44.583Z"
   },
   {
    "duration": 471,
    "start_time": "2021-11-01T21:08:44.609Z"
   },
   {
    "duration": 47,
    "start_time": "2021-11-01T21:08:45.082Z"
   },
   {
    "duration": 15,
    "start_time": "2021-11-01T21:08:45.131Z"
   },
   {
    "duration": 31,
    "start_time": "2021-11-01T21:08:45.149Z"
   },
   {
    "duration": 58,
    "start_time": "2021-11-01T21:08:45.184Z"
   },
   {
    "duration": 13,
    "start_time": "2021-11-01T21:08:45.245Z"
   },
   {
    "duration": 28,
    "start_time": "2021-11-01T21:08:45.261Z"
   },
   {
    "duration": 73,
    "start_time": "2021-11-01T21:08:45.291Z"
   },
   {
    "duration": 170,
    "start_time": "2021-11-01T21:08:45.366Z"
   },
   {
    "duration": 20,
    "start_time": "2021-11-01T21:08:45.539Z"
   },
   {
    "duration": 10,
    "start_time": "2021-11-01T21:08:45.562Z"
   },
   {
    "duration": 7,
    "start_time": "2021-11-01T21:08:45.575Z"
   },
   {
    "duration": 58,
    "start_time": "2021-11-01T21:08:45.584Z"
   },
   {
    "duration": 12,
    "start_time": "2021-11-01T21:08:45.645Z"
   },
   {
    "duration": 21,
    "start_time": "2021-11-01T21:08:45.660Z"
   },
   {
    "duration": 60,
    "start_time": "2021-11-01T21:08:45.684Z"
   },
   {
    "duration": 824,
    "start_time": "2021-11-01T21:08:45.746Z"
   },
   {
    "duration": 13,
    "start_time": "2021-11-01T21:08:46.572Z"
   },
   {
    "duration": 4,
    "start_time": "2021-11-01T21:08:46.587Z"
   },
   {
    "duration": 386,
    "start_time": "2021-11-01T21:08:46.595Z"
   },
   {
    "duration": 43,
    "start_time": "2021-11-01T21:08:46.940Z"
   },
   {
    "duration": 28,
    "start_time": "2021-11-01T21:10:16.598Z"
   },
   {
    "duration": 279,
    "start_time": "2021-11-01T21:10:24.171Z"
   },
   {
    "duration": 1458,
    "start_time": "2021-11-01T21:14:10.414Z"
   },
   {
    "duration": 932,
    "start_time": "2021-11-01T21:14:11.875Z"
   },
   {
    "duration": 31,
    "start_time": "2021-11-01T21:14:12.810Z"
   },
   {
    "duration": 367,
    "start_time": "2021-11-01T21:14:12.844Z"
   },
   {
    "duration": 40,
    "start_time": "2021-11-01T21:14:13.214Z"
   },
   {
    "duration": 20,
    "start_time": "2021-11-01T21:14:13.256Z"
   },
   {
    "duration": 52,
    "start_time": "2021-11-01T21:14:13.278Z"
   },
   {
    "duration": 28,
    "start_time": "2021-11-01T21:14:13.334Z"
   },
   {
    "duration": 13,
    "start_time": "2021-11-01T21:14:13.364Z"
   },
   {
    "duration": 57,
    "start_time": "2021-11-01T21:14:13.379Z"
   },
   {
    "duration": 50,
    "start_time": "2021-11-01T21:14:13.438Z"
   },
   {
    "duration": 177,
    "start_time": "2021-11-01T21:14:13.491Z"
   },
   {
    "duration": 16,
    "start_time": "2021-11-01T21:14:13.670Z"
   },
   {
    "duration": 16,
    "start_time": "2021-11-01T21:14:13.689Z"
   },
   {
    "duration": 27,
    "start_time": "2021-11-01T21:14:13.707Z"
   },
   {
    "duration": 40,
    "start_time": "2021-11-01T21:14:13.736Z"
   },
   {
    "duration": 12,
    "start_time": "2021-11-01T21:14:13.778Z"
   },
   {
    "duration": 38,
    "start_time": "2021-11-01T21:14:13.792Z"
   },
   {
    "duration": 27,
    "start_time": "2021-11-01T21:14:13.832Z"
   },
   {
    "duration": 839,
    "start_time": "2021-11-01T21:14:13.862Z"
   },
   {
    "duration": 27,
    "start_time": "2021-11-01T21:14:14.703Z"
   },
   {
    "duration": 5,
    "start_time": "2021-11-01T21:14:14.732Z"
   },
   {
    "duration": 4215,
    "start_time": "2021-11-01T21:14:14.742Z"
   },
   {
    "duration": 46,
    "start_time": "2021-11-01T21:14:18.913Z"
   },
   {
    "duration": 4054,
    "start_time": "2021-11-01T21:14:48.081Z"
   },
   {
    "duration": 4042,
    "start_time": "2021-11-01T21:15:18.679Z"
   },
   {
    "duration": 668,
    "start_time": "2021-11-01T21:17:26.249Z"
   },
   {
    "duration": 671,
    "start_time": "2021-11-01T21:18:53.873Z"
   },
   {
    "duration": 5,
    "start_time": "2021-11-01T21:19:01.126Z"
   },
   {
    "duration": 3008,
    "start_time": "2021-11-01T21:19:01.612Z"
   },
   {
    "duration": 228,
    "start_time": "2021-11-01T21:23:05.021Z"
   },
   {
    "duration": 4,
    "start_time": "2021-11-01T21:23:12.501Z"
   },
   {
    "duration": 5,
    "start_time": "2021-11-01T21:23:21.417Z"
   },
   {
    "duration": 236,
    "start_time": "2021-11-01T21:23:21.760Z"
   },
   {
    "duration": 4523,
    "start_time": "2021-11-01T21:23:34.010Z"
   },
   {
    "duration": 5,
    "start_time": "2021-11-01T21:23:51.107Z"
   },
   {
    "duration": 4957,
    "start_time": "2021-11-01T21:23:51.518Z"
   },
   {
    "duration": 214087,
    "start_time": "2021-11-01T21:24:36.053Z"
   },
   {
    "duration": 4,
    "start_time": "2021-11-01T21:32:50.546Z"
   },
   {
    "duration": 6,
    "start_time": "2021-11-01T21:33:49.327Z"
   },
   {
    "duration": 731,
    "start_time": "2021-11-01T21:34:11.332Z"
   },
   {
    "duration": 6554,
    "start_time": "2021-11-01T21:34:39.044Z"
   },
   {
    "duration": 5,
    "start_time": "2021-11-01T21:36:01.487Z"
   },
   {
    "duration": 229,
    "start_time": "2021-11-01T21:38:25.937Z"
   },
   {
    "duration": 212,
    "start_time": "2021-11-01T21:38:36.526Z"
   },
   {
    "duration": 2216,
    "start_time": "2021-11-01T21:38:48.726Z"
   },
   {
    "duration": 21496,
    "start_time": "2021-11-01T21:39:17.315Z"
   },
   {
    "duration": 2278,
    "start_time": "2021-11-01T21:52:12.957Z"
   },
   {
    "duration": 2365,
    "start_time": "2021-11-01T21:52:20.564Z"
   },
   {
    "duration": 217455,
    "start_time": "2021-11-01T21:53:02.040Z"
   },
   {
    "duration": 5,
    "start_time": "2021-11-01T22:11:11.446Z"
   },
   {
    "duration": 15,
    "start_time": "2021-11-01T22:12:35.507Z"
   },
   {
    "duration": 5,
    "start_time": "2021-11-01T22:12:38.893Z"
   },
   {
    "duration": 1414,
    "start_time": "2021-11-01T22:13:00.579Z"
   },
   {
    "duration": 939,
    "start_time": "2021-11-01T22:13:01.996Z"
   },
   {
    "duration": 24,
    "start_time": "2021-11-01T22:13:02.938Z"
   },
   {
    "duration": 395,
    "start_time": "2021-11-01T22:13:02.965Z"
   },
   {
    "duration": 32,
    "start_time": "2021-11-01T22:13:03.362Z"
   },
   {
    "duration": 40,
    "start_time": "2021-11-01T22:13:03.396Z"
   },
   {
    "duration": 31,
    "start_time": "2021-11-01T22:13:03.439Z"
   },
   {
    "duration": 37,
    "start_time": "2021-11-01T22:13:03.472Z"
   },
   {
    "duration": 12,
    "start_time": "2021-11-01T22:13:03.531Z"
   },
   {
    "duration": 29,
    "start_time": "2021-11-01T22:13:03.546Z"
   },
   {
    "duration": 78,
    "start_time": "2021-11-01T22:13:03.578Z"
   },
   {
    "duration": 167,
    "start_time": "2021-11-01T22:13:03.659Z"
   },
   {
    "duration": 16,
    "start_time": "2021-11-01T22:13:03.828Z"
   },
   {
    "duration": 24,
    "start_time": "2021-11-01T22:13:03.847Z"
   },
   {
    "duration": 21,
    "start_time": "2021-11-01T22:13:03.873Z"
   },
   {
    "duration": 36,
    "start_time": "2021-11-01T22:13:03.896Z"
   },
   {
    "duration": 11,
    "start_time": "2021-11-01T22:13:03.934Z"
   },
   {
    "duration": 45,
    "start_time": "2021-11-01T22:13:03.947Z"
   },
   {
    "duration": 24,
    "start_time": "2021-11-01T22:13:03.995Z"
   },
   {
    "duration": 901,
    "start_time": "2021-11-01T22:13:04.030Z"
   },
   {
    "duration": 12,
    "start_time": "2021-11-01T22:13:04.933Z"
   },
   {
    "duration": 33,
    "start_time": "2021-11-01T22:13:04.947Z"
   },
   {
    "duration": 20,
    "start_time": "2021-11-01T22:13:04.982Z"
   },
   {
    "duration": 59514,
    "start_time": "2021-11-01T22:13:05.004Z"
   },
   {
    "duration": 22230,
    "start_time": "2021-11-01T22:14:04.520Z"
   },
   {
    "duration": 2986,
    "start_time": "2021-11-01T22:14:26.753Z"
   },
   {
    "duration": 6275,
    "start_time": "2021-11-01T22:26:44.444Z"
   },
   {
    "duration": 2023,
    "start_time": "2021-11-01T22:27:09.791Z"
   },
   {
    "duration": 942,
    "start_time": "2021-11-01T22:27:11.818Z"
   },
   {
    "duration": 25,
    "start_time": "2021-11-01T22:27:12.763Z"
   },
   {
    "duration": 379,
    "start_time": "2021-11-01T22:27:12.790Z"
   },
   {
    "duration": 31,
    "start_time": "2021-11-01T22:27:13.171Z"
   },
   {
    "duration": 36,
    "start_time": "2021-11-01T22:27:13.205Z"
   },
   {
    "duration": 32,
    "start_time": "2021-11-01T22:27:13.243Z"
   },
   {
    "duration": 71,
    "start_time": "2021-11-01T22:27:13.280Z"
   },
   {
    "duration": 16,
    "start_time": "2021-11-01T22:27:13.355Z"
   },
   {
    "duration": 33,
    "start_time": "2021-11-01T22:27:13.373Z"
   },
   {
    "duration": 5722,
    "start_time": "2021-11-01T22:27:13.429Z"
   },
   {
    "duration": 73,
    "start_time": "2021-11-01T22:27:19.082Z"
   },
   {
    "duration": 66,
    "start_time": "2021-11-01T22:27:19.091Z"
   },
   {
    "duration": 66,
    "start_time": "2021-11-01T22:27:19.093Z"
   },
   {
    "duration": 65,
    "start_time": "2021-11-01T22:27:19.096Z"
   },
   {
    "duration": 64,
    "start_time": "2021-11-01T22:27:19.098Z"
   },
   {
    "duration": 65,
    "start_time": "2021-11-01T22:27:19.100Z"
   },
   {
    "duration": 62,
    "start_time": "2021-11-01T22:27:19.105Z"
   },
   {
    "duration": 60,
    "start_time": "2021-11-01T22:27:19.108Z"
   },
   {
    "duration": 58,
    "start_time": "2021-11-01T22:27:19.112Z"
   },
   {
    "duration": 53,
    "start_time": "2021-11-01T22:27:19.119Z"
   },
   {
    "duration": 52,
    "start_time": "2021-11-01T22:27:19.122Z"
   },
   {
    "duration": 52,
    "start_time": "2021-11-01T22:27:19.123Z"
   },
   {
    "duration": 52,
    "start_time": "2021-11-01T22:27:19.125Z"
   },
   {
    "duration": 53,
    "start_time": "2021-11-01T22:27:19.126Z"
   },
   {
    "duration": 54,
    "start_time": "2021-11-01T22:27:19.127Z"
   },
   {
    "duration": 53,
    "start_time": "2021-11-01T22:27:19.129Z"
   },
   {
    "duration": 54,
    "start_time": "2021-11-01T22:27:19.130Z"
   },
   {
    "duration": 229,
    "start_time": "2021-11-01T22:27:34.164Z"
   },
   {
    "duration": 250,
    "start_time": "2021-11-01T22:29:57.632Z"
   },
   {
    "duration": 20,
    "start_time": "2021-11-01T22:35:14.322Z"
   },
   {
    "duration": 53,
    "start_time": "2021-11-01T22:35:22.453Z"
   },
   {
    "duration": 18,
    "start_time": "2021-11-01T22:37:40.844Z"
   },
   {
    "duration": 20,
    "start_time": "2021-11-01T22:38:13.906Z"
   },
   {
    "duration": 18,
    "start_time": "2021-11-01T22:38:19.906Z"
   },
   {
    "duration": 263,
    "start_time": "2021-11-01T22:38:26.711Z"
   },
   {
    "duration": 19,
    "start_time": "2021-11-01T22:38:32.054Z"
   },
   {
    "duration": 249,
    "start_time": "2021-11-01T22:38:52.717Z"
   },
   {
    "duration": 1604,
    "start_time": "2021-11-01T22:39:08.858Z"
   },
   {
    "duration": 933,
    "start_time": "2021-11-01T22:39:10.464Z"
   },
   {
    "duration": 36,
    "start_time": "2021-11-01T22:39:11.403Z"
   },
   {
    "duration": 361,
    "start_time": "2021-11-01T22:39:11.441Z"
   },
   {
    "duration": 41,
    "start_time": "2021-11-01T22:39:11.804Z"
   },
   {
    "duration": 15,
    "start_time": "2021-11-01T22:39:11.848Z"
   },
   {
    "duration": 37,
    "start_time": "2021-11-01T22:39:11.867Z"
   },
   {
    "duration": 42,
    "start_time": "2021-11-01T22:39:11.907Z"
   },
   {
    "duration": 12,
    "start_time": "2021-11-01T22:39:11.952Z"
   },
   {
    "duration": 38,
    "start_time": "2021-11-01T22:39:11.966Z"
   },
   {
    "duration": 41,
    "start_time": "2021-11-01T22:39:12.006Z"
   },
   {
    "duration": 49,
    "start_time": "2021-11-01T22:39:12.050Z"
   },
   {
    "duration": 182,
    "start_time": "2021-11-01T22:39:12.102Z"
   },
   {
    "duration": 16,
    "start_time": "2021-11-01T22:39:12.286Z"
   },
   {
    "duration": 27,
    "start_time": "2021-11-01T22:39:12.304Z"
   },
   {
    "duration": 7,
    "start_time": "2021-11-01T22:39:12.333Z"
   },
   {
    "duration": 29,
    "start_time": "2021-11-01T22:39:12.342Z"
   },
   {
    "duration": 11,
    "start_time": "2021-11-01T22:39:12.373Z"
   },
   {
    "duration": 58,
    "start_time": "2021-11-01T22:39:12.386Z"
   },
   {
    "duration": 24,
    "start_time": "2021-11-01T22:39:12.447Z"
   },
   {
    "duration": 841,
    "start_time": "2021-11-01T22:39:12.473Z"
   },
   {
    "duration": 20,
    "start_time": "2021-11-01T22:39:13.318Z"
   },
   {
    "duration": 16,
    "start_time": "2021-11-01T22:39:13.341Z"
   },
   {
    "duration": 5,
    "start_time": "2021-11-01T22:39:13.359Z"
   },
   {
    "duration": 59070,
    "start_time": "2021-11-01T22:39:13.366Z"
   },
   {
    "duration": 21846,
    "start_time": "2021-11-01T22:40:12.439Z"
   },
   {
    "duration": 2341,
    "start_time": "2021-11-01T22:40:34.287Z"
   },
   {
    "duration": 468,
    "start_time": "2021-11-01T22:40:36.632Z"
   },
   {
    "duration": 5662,
    "start_time": "2021-11-01T22:52:02.133Z"
   },
   {
    "duration": 1885,
    "start_time": "2021-11-01T22:52:18.729Z"
   },
   {
    "duration": 1391,
    "start_time": "2021-11-01T22:52:20.617Z"
   },
   {
    "duration": 48,
    "start_time": "2021-11-01T22:52:22.011Z"
   },
   {
    "duration": 544,
    "start_time": "2021-11-01T22:52:22.063Z"
   },
   {
    "duration": 53,
    "start_time": "2021-11-01T22:52:22.610Z"
   },
   {
    "duration": 22,
    "start_time": "2021-11-01T22:52:22.666Z"
   },
   {
    "duration": 71,
    "start_time": "2021-11-01T22:52:22.691Z"
   },
   {
    "duration": 27,
    "start_time": "2021-11-01T22:52:22.765Z"
   },
   {
    "duration": 41,
    "start_time": "2021-11-01T22:52:22.795Z"
   },
   {
    "duration": 28,
    "start_time": "2021-11-01T22:52:22.838Z"
   },
   {
    "duration": 77,
    "start_time": "2021-11-01T22:52:22.868Z"
   },
   {
    "duration": 169,
    "start_time": "2021-11-01T22:52:22.947Z"
   },
   {
    "duration": 26,
    "start_time": "2021-11-01T22:52:23.118Z"
   },
   {
    "duration": 11,
    "start_time": "2021-11-01T22:52:23.146Z"
   },
   {
    "duration": 6,
    "start_time": "2021-11-01T22:52:23.159Z"
   },
   {
    "duration": 62,
    "start_time": "2021-11-01T22:52:23.167Z"
   },
   {
    "duration": 12,
    "start_time": "2021-11-01T22:52:23.232Z"
   },
   {
    "duration": 20,
    "start_time": "2021-11-01T22:52:23.247Z"
   },
   {
    "duration": 21,
    "start_time": "2021-11-01T22:52:23.270Z"
   },
   {
    "duration": 27,
    "start_time": "2021-11-01T22:52:23.329Z"
   },
   {
    "duration": 850,
    "start_time": "2021-11-01T22:52:23.358Z"
   },
   {
    "duration": 18,
    "start_time": "2021-11-01T22:52:24.211Z"
   },
   {
    "duration": 432,
    "start_time": "2021-11-01T22:52:24.233Z"
   },
   {
    "duration": 64,
    "start_time": "2021-11-01T22:52:24.604Z"
   },
   {
    "duration": 63,
    "start_time": "2021-11-01T22:52:24.607Z"
   },
   {
    "duration": 61,
    "start_time": "2021-11-01T22:52:24.610Z"
   },
   {
    "duration": 61,
    "start_time": "2021-11-01T22:52:24.611Z"
   },
   {
    "duration": 61,
    "start_time": "2021-11-01T22:52:24.613Z"
   },
   {
    "duration": 1433,
    "start_time": "2021-11-01T22:54:11.629Z"
   },
   {
    "duration": 912,
    "start_time": "2021-11-01T22:54:13.065Z"
   },
   {
    "duration": 23,
    "start_time": "2021-11-01T22:54:13.979Z"
   },
   {
    "duration": 358,
    "start_time": "2021-11-01T22:54:14.005Z"
   },
   {
    "duration": 29,
    "start_time": "2021-11-01T22:54:14.366Z"
   },
   {
    "duration": 38,
    "start_time": "2021-11-01T22:54:14.397Z"
   },
   {
    "duration": 30,
    "start_time": "2021-11-01T22:54:14.437Z"
   },
   {
    "duration": 27,
    "start_time": "2021-11-01T22:54:14.471Z"
   },
   {
    "duration": 37,
    "start_time": "2021-11-01T22:54:14.500Z"
   },
   {
    "duration": 28,
    "start_time": "2021-11-01T22:54:14.539Z"
   },
   {
    "duration": 74,
    "start_time": "2021-11-01T22:54:14.569Z"
   },
   {
    "duration": 154,
    "start_time": "2021-11-01T22:54:14.645Z"
   },
   {
    "duration": 33,
    "start_time": "2021-11-01T22:54:14.802Z"
   },
   {
    "duration": 10,
    "start_time": "2021-11-01T22:54:14.837Z"
   },
   {
    "duration": 7,
    "start_time": "2021-11-01T22:54:14.849Z"
   },
   {
    "duration": 33,
    "start_time": "2021-11-01T22:54:14.858Z"
   },
   {
    "duration": 41,
    "start_time": "2021-11-01T22:54:14.893Z"
   },
   {
    "duration": 20,
    "start_time": "2021-11-01T22:54:14.936Z"
   },
   {
    "duration": 7,
    "start_time": "2021-11-01T22:54:14.958Z"
   },
   {
    "duration": 26,
    "start_time": "2021-11-01T22:54:14.967Z"
   },
   {
    "duration": 58,
    "start_time": "2021-11-01T22:54:14.995Z"
   },
   {
    "duration": 827,
    "start_time": "2021-11-01T22:54:15.055Z"
   },
   {
    "duration": 15,
    "start_time": "2021-11-01T22:54:15.888Z"
   },
   {
    "duration": 38,
    "start_time": "2021-11-01T22:54:15.906Z"
   },
   {
    "duration": 5,
    "start_time": "2021-11-01T22:54:15.946Z"
   },
   {
    "duration": 59498,
    "start_time": "2021-11-01T22:54:15.953Z"
   },
   {
    "duration": 21880,
    "start_time": "2021-11-01T22:55:15.454Z"
   },
   {
    "duration": 1996,
    "start_time": "2021-11-01T22:55:37.337Z"
   },
   {
    "duration": 1542,
    "start_time": "2021-11-01T22:55:39.336Z"
   },
   {
    "duration": 375,
    "start_time": "2021-11-01T22:56:47.215Z"
   },
   {
    "duration": 245,
    "start_time": "2021-11-01T22:57:01.153Z"
   },
   {
    "duration": 225,
    "start_time": "2021-11-01T22:57:10.707Z"
   },
   {
    "duration": 229,
    "start_time": "2021-11-01T22:58:48.907Z"
   },
   {
    "duration": 244,
    "start_time": "2021-11-01T22:59:18.064Z"
   },
   {
    "duration": 1008,
    "start_time": "2021-11-01T23:02:42.640Z"
   },
   {
    "duration": 1056,
    "start_time": "2021-11-01T23:07:05.837Z"
   },
   {
    "duration": 1462,
    "start_time": "2021-11-01T23:19:01.523Z"
   },
   {
    "duration": 933,
    "start_time": "2021-11-01T23:19:02.988Z"
   },
   {
    "duration": 25,
    "start_time": "2021-11-01T23:19:03.925Z"
   },
   {
    "duration": 368,
    "start_time": "2021-11-01T23:19:03.954Z"
   },
   {
    "duration": 32,
    "start_time": "2021-11-01T23:19:04.324Z"
   },
   {
    "duration": 17,
    "start_time": "2021-11-01T23:19:04.359Z"
   },
   {
    "duration": 68,
    "start_time": "2021-11-01T23:19:04.379Z"
   },
   {
    "duration": 28,
    "start_time": "2021-11-01T23:19:04.453Z"
   },
   {
    "duration": 13,
    "start_time": "2021-11-01T23:19:04.485Z"
   },
   {
    "duration": 29,
    "start_time": "2021-11-01T23:19:04.530Z"
   },
   {
    "duration": 76,
    "start_time": "2021-11-01T23:19:04.562Z"
   },
   {
    "duration": 172,
    "start_time": "2021-11-01T23:19:04.641Z"
   },
   {
    "duration": 25,
    "start_time": "2021-11-01T23:19:04.815Z"
   },
   {
    "duration": 11,
    "start_time": "2021-11-01T23:19:04.843Z"
   },
   {
    "duration": 7,
    "start_time": "2021-11-01T23:19:04.856Z"
   },
   {
    "duration": 66,
    "start_time": "2021-11-01T23:19:04.865Z"
   },
   {
    "duration": 14,
    "start_time": "2021-11-01T23:19:04.933Z"
   },
   {
    "duration": 21,
    "start_time": "2021-11-01T23:19:04.949Z"
   },
   {
    "duration": 8,
    "start_time": "2021-11-01T23:19:04.973Z"
   },
   {
    "duration": 54,
    "start_time": "2021-11-01T23:19:04.983Z"
   },
   {
    "duration": 26,
    "start_time": "2021-11-01T23:19:05.040Z"
   },
   {
    "duration": 831,
    "start_time": "2021-11-01T23:19:05.069Z"
   },
   {
    "duration": 29,
    "start_time": "2021-11-01T23:19:05.905Z"
   },
   {
    "duration": 14,
    "start_time": "2021-11-01T23:19:05.936Z"
   },
   {
    "duration": 5,
    "start_time": "2021-11-01T23:19:05.953Z"
   },
   {
    "duration": 59346,
    "start_time": "2021-11-01T23:19:05.960Z"
   },
   {
    "duration": 21602,
    "start_time": "2021-11-01T23:20:05.309Z"
   },
   {
    "duration": 2625,
    "start_time": "2021-11-01T23:20:26.913Z"
   },
   {
    "duration": 978,
    "start_time": "2021-11-01T23:20:29.540Z"
   },
   {
    "duration": 1436,
    "start_time": "2021-11-02T10:02:12.939Z"
   },
   {
    "duration": 954,
    "start_time": "2021-11-02T10:02:14.377Z"
   },
   {
    "duration": 26,
    "start_time": "2021-11-02T10:03:32.979Z"
   },
   {
    "duration": 359,
    "start_time": "2021-11-02T10:03:34.443Z"
   },
   {
    "duration": 31,
    "start_time": "2021-11-02T10:03:35.520Z"
   },
   {
    "duration": 16,
    "start_time": "2021-11-02T10:03:36.243Z"
   },
   {
    "duration": 32,
    "start_time": "2021-11-02T10:03:37.194Z"
   },
   {
    "duration": 27,
    "start_time": "2021-11-02T10:03:37.765Z"
   },
   {
    "duration": 16,
    "start_time": "2021-11-02T10:04:34.543Z"
   },
   {
    "duration": 29,
    "start_time": "2021-11-02T10:05:00.861Z"
   },
   {
    "duration": 47,
    "start_time": "2021-11-02T10:06:24.661Z"
   },
   {
    "duration": 158,
    "start_time": "2021-11-02T10:07:25.246Z"
   },
   {
    "duration": 19,
    "start_time": "2021-11-02T10:07:27.850Z"
   },
   {
    "duration": 12,
    "start_time": "2021-11-02T10:11:31.643Z"
   },
   {
    "duration": 7,
    "start_time": "2021-11-02T10:11:40.540Z"
   },
   {
    "duration": 23,
    "start_time": "2021-11-02T10:14:42.097Z"
   },
   {
    "duration": 27,
    "start_time": "2021-11-02T10:14:49.282Z"
   },
   {
    "duration": 14,
    "start_time": "2021-11-02T10:14:50.067Z"
   },
   {
    "duration": 23,
    "start_time": "2021-11-02T10:14:52.277Z"
   },
   {
    "duration": 9,
    "start_time": "2021-11-02T10:14:56.264Z"
   },
   {
    "duration": 28,
    "start_time": "2021-11-02T10:16:00.013Z"
   },
   {
    "duration": 822,
    "start_time": "2021-11-02T10:18:40.906Z"
   },
   {
    "duration": 12,
    "start_time": "2021-11-02T10:19:06.091Z"
   },
   {
    "duration": 16,
    "start_time": "2021-11-02T10:20:35.864Z"
   },
   {
    "duration": 5,
    "start_time": "2021-11-02T10:20:40.854Z"
   },
   {
    "duration": 61312,
    "start_time": "2021-11-02T10:21:58.345Z"
   },
   {
    "duration": 6,
    "start_time": "2021-11-02T10:25:13.809Z"
   },
   {
    "duration": 7,
    "start_time": "2021-11-02T10:25:32.344Z"
   },
   {
    "duration": 6,
    "start_time": "2021-11-02T10:25:40.512Z"
   },
   {
    "duration": 1005,
    "start_time": "2021-11-02T10:27:08.746Z"
   },
   {
    "duration": 284,
    "start_time": "2021-11-02T22:49:50.696Z"
   },
   {
    "duration": 243,
    "start_time": "2021-11-02T22:54:09.533Z"
   },
   {
    "duration": 241,
    "start_time": "2021-11-02T22:54:21.491Z"
   },
   {
    "duration": 1220,
    "start_time": "2021-11-02T22:54:37.470Z"
   },
   {
    "duration": 790,
    "start_time": "2021-11-02T22:54:38.692Z"
   },
   {
    "duration": 16,
    "start_time": "2021-11-02T22:54:39.484Z"
   },
   {
    "duration": 229,
    "start_time": "2021-11-02T22:54:39.502Z"
   },
   {
    "duration": 19,
    "start_time": "2021-11-02T22:54:39.732Z"
   },
   {
    "duration": 11,
    "start_time": "2021-11-02T22:54:39.763Z"
   },
   {
    "duration": 18,
    "start_time": "2021-11-02T22:54:39.776Z"
   },
   {
    "duration": 18,
    "start_time": "2021-11-02T22:54:39.797Z"
   },
   {
    "duration": 11,
    "start_time": "2021-11-02T22:54:39.817Z"
   },
   {
    "duration": 54,
    "start_time": "2021-11-02T22:54:39.830Z"
   },
   {
    "duration": 32,
    "start_time": "2021-11-02T22:54:39.885Z"
   },
   {
    "duration": 124,
    "start_time": "2021-11-02T22:54:39.919Z"
   },
   {
    "duration": 32,
    "start_time": "2021-11-02T22:54:40.045Z"
   },
   {
    "duration": 10,
    "start_time": "2021-11-02T22:54:40.079Z"
   },
   {
    "duration": 14,
    "start_time": "2021-11-02T22:54:40.091Z"
   },
   {
    "duration": 31,
    "start_time": "2021-11-02T22:54:40.107Z"
   },
   {
    "duration": 24,
    "start_time": "2021-11-02T22:54:40.140Z"
   },
   {
    "duration": 16,
    "start_time": "2021-11-02T22:54:40.166Z"
   },
   {
    "duration": 6,
    "start_time": "2021-11-02T22:54:40.184Z"
   },
   {
    "duration": 12,
    "start_time": "2021-11-02T22:54:40.191Z"
   },
   {
    "duration": 12,
    "start_time": "2021-11-02T22:54:40.205Z"
   },
   {
    "duration": 15,
    "start_time": "2021-11-02T22:54:40.219Z"
   },
   {
    "duration": 23,
    "start_time": "2021-11-02T22:54:40.237Z"
   },
   {
    "duration": 21,
    "start_time": "2021-11-02T22:54:40.262Z"
   },
   {
    "duration": 490,
    "start_time": "2021-11-02T22:54:40.285Z"
   },
   {
    "duration": 15,
    "start_time": "2021-11-02T22:54:40.777Z"
   },
   {
    "duration": 14,
    "start_time": "2021-11-02T22:54:40.794Z"
   },
   {
    "duration": 3,
    "start_time": "2021-11-02T22:54:40.810Z"
   },
   {
    "duration": 45799,
    "start_time": "2021-11-02T22:54:40.815Z"
   },
   {
    "duration": 17529,
    "start_time": "2021-11-02T22:55:26.616Z"
   },
   {
    "duration": 2417,
    "start_time": "2021-11-02T22:55:44.147Z"
   },
   {
    "duration": 956,
    "start_time": "2021-11-02T22:55:46.566Z"
   },
   {
    "duration": 79,
    "start_time": "2021-11-02T22:55:47.523Z"
   },
   {
    "duration": 10799641,
    "start_time": "2021-11-02T19:55:47.963Z"
   },
   {
    "duration": 25,
    "start_time": "2021-11-02T22:56:52.689Z"
   },
   {
    "duration": 333,
    "start_time": "2021-11-02T23:05:10.427Z"
   },
   {
    "duration": 244,
    "start_time": "2021-11-02T23:05:39.451Z"
   },
   {
    "duration": 5,
    "start_time": "2021-11-02T23:09:38.006Z"
   },
   {
    "duration": 6,
    "start_time": "2021-11-02T23:09:43.056Z"
   },
   {
    "duration": 10,
    "start_time": "2021-11-02T23:10:59.545Z"
   },
   {
    "duration": 8,
    "start_time": "2021-11-02T23:11:14.533Z"
   },
   {
    "duration": 7,
    "start_time": "2021-11-02T23:11:20.876Z"
   },
   {
    "duration": 249,
    "start_time": "2021-11-02T23:14:44.827Z"
   },
   {
    "duration": 274,
    "start_time": "2021-11-02T23:15:31.527Z"
   },
   {
    "duration": 260,
    "start_time": "2021-11-02T23:16:11.146Z"
   },
   {
    "duration": 241,
    "start_time": "2021-11-02T23:16:18.512Z"
   },
   {
    "duration": 1232,
    "start_time": "2021-11-02T23:17:35.134Z"
   },
   {
    "duration": 892,
    "start_time": "2021-11-02T23:17:36.368Z"
   },
   {
    "duration": 16,
    "start_time": "2021-11-02T23:17:37.264Z"
   },
   {
    "duration": 233,
    "start_time": "2021-11-02T23:17:37.282Z"
   },
   {
    "duration": 20,
    "start_time": "2021-11-02T23:17:37.517Z"
   },
   {
    "duration": 25,
    "start_time": "2021-11-02T23:17:37.539Z"
   },
   {
    "duration": 19,
    "start_time": "2021-11-02T23:17:37.567Z"
   },
   {
    "duration": 18,
    "start_time": "2021-11-02T23:17:37.589Z"
   },
   {
    "duration": 10,
    "start_time": "2021-11-02T23:17:37.609Z"
   },
   {
    "duration": 43,
    "start_time": "2021-11-02T23:17:37.621Z"
   },
   {
    "duration": 33,
    "start_time": "2021-11-02T23:17:37.666Z"
   },
   {
    "duration": 121,
    "start_time": "2021-11-02T23:17:37.701Z"
   },
   {
    "duration": 18,
    "start_time": "2021-11-02T23:17:37.824Z"
   },
   {
    "duration": 27,
    "start_time": "2021-11-02T23:17:37.844Z"
   },
   {
    "duration": 6,
    "start_time": "2021-11-02T23:17:37.873Z"
   },
   {
    "duration": 24,
    "start_time": "2021-11-02T23:17:37.881Z"
   },
   {
    "duration": 11,
    "start_time": "2021-11-02T23:17:37.907Z"
   },
   {
    "duration": 55,
    "start_time": "2021-11-02T23:17:37.920Z"
   },
   {
    "duration": 5,
    "start_time": "2021-11-02T23:17:37.977Z"
   },
   {
    "duration": 7,
    "start_time": "2021-11-02T23:17:37.984Z"
   },
   {
    "duration": 13,
    "start_time": "2021-11-02T23:17:37.993Z"
   },
   {
    "duration": 23,
    "start_time": "2021-11-02T23:17:38.008Z"
   },
   {
    "duration": 44,
    "start_time": "2021-11-02T23:17:38.035Z"
   },
   {
    "duration": 499,
    "start_time": "2021-11-02T23:17:38.082Z"
   },
   {
    "duration": 26,
    "start_time": "2021-11-02T23:17:38.583Z"
   },
   {
    "duration": 130,
    "start_time": "2021-11-02T23:17:38.612Z"
   },
   {
    "duration": 7,
    "start_time": "2021-11-02T23:17:38.744Z"
   },
   {
    "duration": 22,
    "start_time": "2021-11-02T23:17:38.753Z"
   },
   {
    "duration": 5,
    "start_time": "2021-11-02T23:17:38.777Z"
   },
   {
    "duration": 1196,
    "start_time": "2021-11-02T23:18:22.770Z"
   },
   {
    "duration": 795,
    "start_time": "2021-11-02T23:18:23.969Z"
   },
   {
    "duration": 15,
    "start_time": "2021-11-02T23:18:24.766Z"
   },
   {
    "duration": 234,
    "start_time": "2021-11-02T23:18:24.783Z"
   },
   {
    "duration": 20,
    "start_time": "2021-11-02T23:18:25.019Z"
   },
   {
    "duration": 28,
    "start_time": "2021-11-02T23:18:25.041Z"
   },
   {
    "duration": 20,
    "start_time": "2021-11-02T23:18:25.070Z"
   },
   {
    "duration": 25,
    "start_time": "2021-11-02T23:18:25.093Z"
   },
   {
    "duration": 11,
    "start_time": "2021-11-02T23:18:25.120Z"
   },
   {
    "duration": 47,
    "start_time": "2021-11-02T23:18:25.132Z"
   },
   {
    "duration": 30,
    "start_time": "2021-11-02T23:18:25.181Z"
   },
   {
    "duration": 120,
    "start_time": "2021-11-02T23:18:25.213Z"
   },
   {
    "duration": 15,
    "start_time": "2021-11-02T23:18:25.335Z"
   },
   {
    "duration": 8,
    "start_time": "2021-11-02T23:18:25.364Z"
   },
   {
    "duration": 5,
    "start_time": "2021-11-02T23:18:25.374Z"
   },
   {
    "duration": 21,
    "start_time": "2021-11-02T23:18:25.381Z"
   },
   {
    "duration": 9,
    "start_time": "2021-11-02T23:18:25.404Z"
   },
   {
    "duration": 49,
    "start_time": "2021-11-02T23:18:25.416Z"
   },
   {
    "duration": 4,
    "start_time": "2021-11-02T23:18:25.466Z"
   },
   {
    "duration": 10,
    "start_time": "2021-11-02T23:18:25.472Z"
   },
   {
    "duration": 11,
    "start_time": "2021-11-02T23:18:25.484Z"
   },
   {
    "duration": 18,
    "start_time": "2021-11-02T23:18:25.497Z"
   },
   {
    "duration": 45,
    "start_time": "2021-11-02T23:18:25.519Z"
   },
   {
    "duration": 483,
    "start_time": "2021-11-02T23:18:25.566Z"
   },
   {
    "duration": 28,
    "start_time": "2021-11-02T23:18:26.051Z"
   },
   {
    "duration": 137,
    "start_time": "2021-11-02T23:18:26.081Z"
   },
   {
    "duration": 6,
    "start_time": "2021-11-02T23:18:26.220Z"
   },
   {
    "duration": 21,
    "start_time": "2021-11-02T23:18:26.227Z"
   },
   {
    "duration": 3,
    "start_time": "2021-11-02T23:18:26.250Z"
   },
   {
    "duration": 47089,
    "start_time": "2021-11-02T23:18:26.263Z"
   },
   {
    "duration": 17450,
    "start_time": "2021-11-02T23:19:13.354Z"
   },
   {
    "duration": 1457,
    "start_time": "2021-11-02T23:19:30.807Z"
   },
   {
    "duration": 837,
    "start_time": "2021-11-02T23:19:32.267Z"
   },
   {
    "duration": 83,
    "start_time": "2021-11-02T23:19:33.106Z"
   },
   {
    "duration": 10799656,
    "start_time": "2021-11-02T20:19:33.535Z"
   },
   {
    "duration": 6,
    "start_time": "2021-11-02T23:20:59.431Z"
   },
   {
    "duration": 21,
    "start_time": "2021-11-02T23:21:04.868Z"
   },
   {
    "duration": 648,
    "start_time": "2021-11-02T23:21:35.528Z"
   },
   {
    "duration": 270,
    "start_time": "2021-11-02T23:22:02.674Z"
   },
   {
    "duration": 1221,
    "start_time": "2021-11-02T23:22:08.990Z"
   },
   {
    "duration": 881,
    "start_time": "2021-11-02T23:22:10.213Z"
   },
   {
    "duration": 17,
    "start_time": "2021-11-02T23:22:11.098Z"
   },
   {
    "duration": 240,
    "start_time": "2021-11-02T23:22:11.116Z"
   },
   {
    "duration": 21,
    "start_time": "2021-11-02T23:22:11.358Z"
   },
   {
    "duration": 18,
    "start_time": "2021-11-02T23:22:11.381Z"
   },
   {
    "duration": 21,
    "start_time": "2021-11-02T23:22:11.402Z"
   },
   {
    "duration": 40,
    "start_time": "2021-11-02T23:22:11.425Z"
   },
   {
    "duration": 8,
    "start_time": "2021-11-02T23:22:11.467Z"
   },
   {
    "duration": 33,
    "start_time": "2021-11-02T23:22:11.477Z"
   },
   {
    "duration": 35,
    "start_time": "2021-11-02T23:22:11.512Z"
   },
   {
    "duration": 109,
    "start_time": "2021-11-02T23:22:11.564Z"
   },
   {
    "duration": 15,
    "start_time": "2021-11-02T23:22:11.675Z"
   },
   {
    "duration": 9,
    "start_time": "2021-11-02T23:22:11.692Z"
   },
   {
    "duration": 5,
    "start_time": "2021-11-02T23:22:11.702Z"
   },
   {
    "duration": 23,
    "start_time": "2021-11-02T23:22:11.708Z"
   },
   {
    "duration": 39,
    "start_time": "2021-11-02T23:22:11.733Z"
   },
   {
    "duration": 17,
    "start_time": "2021-11-02T23:22:11.774Z"
   },
   {
    "duration": 4,
    "start_time": "2021-11-02T23:22:11.793Z"
   },
   {
    "duration": 9,
    "start_time": "2021-11-02T23:22:11.799Z"
   },
   {
    "duration": 7,
    "start_time": "2021-11-02T23:22:11.810Z"
   },
   {
    "duration": 53,
    "start_time": "2021-11-02T23:22:11.821Z"
   },
   {
    "duration": 18,
    "start_time": "2021-11-02T23:22:11.876Z"
   },
   {
    "duration": 495,
    "start_time": "2021-11-02T23:22:11.896Z"
   },
   {
    "duration": 5,
    "start_time": "2021-11-02T23:22:12.393Z"
   },
   {
    "duration": 26,
    "start_time": "2021-11-02T23:22:12.400Z"
   },
   {
    "duration": 150,
    "start_time": "2021-11-02T23:22:12.429Z"
   },
   {
    "duration": 7276,
    "start_time": "2021-11-02T23:22:12.581Z"
   },
   {
    "duration": 10799650,
    "start_time": "2021-11-02T20:22:20.209Z"
   },
   {
    "duration": 10799646,
    "start_time": "2021-11-02T20:22:20.214Z"
   },
   {
    "duration": 10799643,
    "start_time": "2021-11-02T20:22:20.218Z"
   },
   {
    "duration": 10799641,
    "start_time": "2021-11-02T20:22:20.221Z"
   },
   {
    "duration": 10799639,
    "start_time": "2021-11-02T20:22:20.224Z"
   },
   {
    "duration": 10799639,
    "start_time": "2021-11-02T20:22:20.225Z"
   },
   {
    "duration": 10799638,
    "start_time": "2021-11-02T20:22:20.227Z"
   },
   {
    "duration": 10799630,
    "start_time": "2021-11-02T20:22:20.236Z"
   },
   {
    "duration": 10799628,
    "start_time": "2021-11-02T20:22:20.239Z"
   },
   {
    "duration": 10799627,
    "start_time": "2021-11-02T20:22:20.241Z"
   },
   {
    "duration": 142,
    "start_time": "2021-11-02T23:24:24.948Z"
   },
   {
    "duration": 126,
    "start_time": "2021-11-02T23:25:04.613Z"
   },
   {
    "duration": 211,
    "start_time": "2021-11-02T23:27:30.828Z"
   },
   {
    "duration": 4,
    "start_time": "2021-11-02T23:28:58.579Z"
   },
   {
    "duration": 3,
    "start_time": "2021-11-02T23:29:01.785Z"
   },
   {
    "duration": 245,
    "start_time": "2021-11-02T23:31:19.069Z"
   },
   {
    "duration": 1250,
    "start_time": "2021-11-02T23:31:30.768Z"
   },
   {
    "duration": 813,
    "start_time": "2021-11-02T23:31:32.021Z"
   },
   {
    "duration": 17,
    "start_time": "2021-11-02T23:31:32.836Z"
   },
   {
    "duration": 247,
    "start_time": "2021-11-02T23:31:32.865Z"
   },
   {
    "duration": 21,
    "start_time": "2021-11-02T23:31:33.114Z"
   },
   {
    "duration": 29,
    "start_time": "2021-11-02T23:31:33.137Z"
   },
   {
    "duration": 19,
    "start_time": "2021-11-02T23:31:33.168Z"
   },
   {
    "duration": 21,
    "start_time": "2021-11-02T23:31:33.190Z"
   },
   {
    "duration": 12,
    "start_time": "2021-11-02T23:31:33.213Z"
   },
   {
    "duration": 46,
    "start_time": "2021-11-02T23:31:33.227Z"
   },
   {
    "duration": 34,
    "start_time": "2021-11-02T23:31:33.275Z"
   },
   {
    "duration": 124,
    "start_time": "2021-11-02T23:31:33.312Z"
   },
   {
    "duration": 26,
    "start_time": "2021-11-02T23:31:33.438Z"
   },
   {
    "duration": 9,
    "start_time": "2021-11-02T23:31:33.466Z"
   },
   {
    "duration": 6,
    "start_time": "2021-11-02T23:31:33.477Z"
   },
   {
    "duration": 24,
    "start_time": "2021-11-02T23:31:33.484Z"
   },
   {
    "duration": 10,
    "start_time": "2021-11-02T23:31:33.510Z"
   },
   {
    "duration": 55,
    "start_time": "2021-11-02T23:31:33.522Z"
   },
   {
    "duration": 4,
    "start_time": "2021-11-02T23:31:33.579Z"
   },
   {
    "duration": 9,
    "start_time": "2021-11-02T23:31:33.584Z"
   },
   {
    "duration": 8,
    "start_time": "2021-11-02T23:31:33.595Z"
   },
   {
    "duration": 18,
    "start_time": "2021-11-02T23:31:33.604Z"
   },
   {
    "duration": 47,
    "start_time": "2021-11-02T23:31:33.626Z"
   },
   {
    "duration": 507,
    "start_time": "2021-11-02T23:31:33.675Z"
   },
   {
    "duration": 5,
    "start_time": "2021-11-02T23:31:34.184Z"
   },
   {
    "duration": 25,
    "start_time": "2021-11-02T23:31:34.191Z"
   },
   {
    "duration": 208,
    "start_time": "2021-11-02T23:31:34.218Z"
   },
   {
    "duration": 176,
    "start_time": "2021-11-02T23:31:34.428Z"
   },
   {
    "duration": 6,
    "start_time": "2021-11-02T23:31:34.606Z"
   },
   {
    "duration": 18,
    "start_time": "2021-11-02T23:31:34.615Z"
   },
   {
    "duration": 5,
    "start_time": "2021-11-02T23:31:34.635Z"
   },
   {
    "duration": 46348,
    "start_time": "2021-11-02T23:31:34.642Z"
   },
   {
    "duration": 17530,
    "start_time": "2021-11-02T23:32:20.992Z"
   },
   {
    "duration": 2147,
    "start_time": "2021-11-02T23:32:38.524Z"
   },
   {
    "duration": 1005,
    "start_time": "2021-11-02T23:32:40.673Z"
   },
   {
    "duration": 108,
    "start_time": "2021-11-02T23:32:41.680Z"
   },
   {
    "duration": 10799564,
    "start_time": "2021-11-02T20:32:42.226Z"
   },
   {
    "duration": 10799563,
    "start_time": "2021-11-02T20:32:42.228Z"
   },
   {
    "duration": 764,
    "start_time": "2021-11-02T23:33:49.119Z"
   },
   {
    "duration": 342,
    "start_time": "2021-11-02T23:34:19.573Z"
   },
   {
    "duration": 267,
    "start_time": "2021-11-02T23:34:46.686Z"
   },
   {
    "duration": 248,
    "start_time": "2021-11-02T23:34:55.005Z"
   },
   {
    "duration": 420,
    "start_time": "2021-11-02T23:35:14.972Z"
   },
   {
    "duration": 9,
    "start_time": "2021-11-02T23:37:17.261Z"
   },
   {
    "duration": 8,
    "start_time": "2021-11-02T23:37:59.588Z"
   },
   {
    "duration": 12,
    "start_time": "2021-11-02T23:46:38.138Z"
   },
   {
    "duration": 9,
    "start_time": "2021-11-02T23:46:49.047Z"
   },
   {
    "duration": 1153,
    "start_time": "2021-11-03T00:06:09.698Z"
   },
   {
    "duration": 778,
    "start_time": "2021-11-03T00:06:10.853Z"
   },
   {
    "duration": 16,
    "start_time": "2021-11-03T00:06:11.633Z"
   },
   {
    "duration": 239,
    "start_time": "2021-11-03T00:06:11.651Z"
   },
   {
    "duration": 19,
    "start_time": "2021-11-03T00:06:11.893Z"
   },
   {
    "duration": 16,
    "start_time": "2021-11-03T00:06:11.914Z"
   },
   {
    "duration": 33,
    "start_time": "2021-11-03T00:06:11.932Z"
   },
   {
    "duration": 17,
    "start_time": "2021-11-03T00:06:11.968Z"
   },
   {
    "duration": 11,
    "start_time": "2021-11-03T00:06:11.987Z"
   },
   {
    "duration": 25,
    "start_time": "2021-11-03T00:06:12.000Z"
   },
   {
    "duration": 57,
    "start_time": "2021-11-03T00:06:12.027Z"
   },
   {
    "duration": 112,
    "start_time": "2021-11-03T00:06:12.086Z"
   },
   {
    "duration": 16,
    "start_time": "2021-11-03T00:06:12.200Z"
   },
   {
    "duration": 11,
    "start_time": "2021-11-03T00:06:12.218Z"
   },
   {
    "duration": 20,
    "start_time": "2021-11-03T00:06:12.230Z"
   },
   {
    "duration": 29,
    "start_time": "2021-11-03T00:06:12.252Z"
   },
   {
    "duration": 10,
    "start_time": "2021-11-03T00:06:12.283Z"
   },
   {
    "duration": 17,
    "start_time": "2021-11-03T00:06:12.295Z"
   },
   {
    "duration": 6,
    "start_time": "2021-11-03T00:06:12.314Z"
   },
   {
    "duration": 7,
    "start_time": "2021-11-03T00:06:12.322Z"
   },
   {
    "duration": 35,
    "start_time": "2021-11-03T00:06:12.330Z"
   },
   {
    "duration": 17,
    "start_time": "2021-11-03T00:06:12.367Z"
   },
   {
    "duration": 20,
    "start_time": "2021-11-03T00:06:12.387Z"
   },
   {
    "duration": 499,
    "start_time": "2021-11-03T00:06:12.410Z"
   },
   {
    "duration": 5,
    "start_time": "2021-11-03T00:06:12.911Z"
   },
   {
    "duration": 27,
    "start_time": "2021-11-03T00:06:12.917Z"
   },
   {
    "duration": 224,
    "start_time": "2021-11-03T00:06:12.945Z"
   },
   {
    "duration": 174,
    "start_time": "2021-11-03T00:06:13.170Z"
   },
   {
    "duration": 6,
    "start_time": "2021-11-03T00:06:13.346Z"
   },
   {
    "duration": 22,
    "start_time": "2021-11-03T00:06:13.354Z"
   },
   {
    "duration": 3,
    "start_time": "2021-11-03T00:06:13.378Z"
   },
   {
    "duration": 45480,
    "start_time": "2021-11-03T00:06:13.383Z"
   },
   {
    "duration": 17156,
    "start_time": "2021-11-03T00:06:58.865Z"
   },
   {
    "duration": 1945,
    "start_time": "2021-11-03T00:07:16.023Z"
   },
   {
    "duration": 848,
    "start_time": "2021-11-03T00:07:17.970Z"
   },
   {
    "duration": 770,
    "start_time": "2021-11-03T00:07:18.820Z"
   },
   {
    "duration": 9,
    "start_time": "2021-11-03T00:07:19.592Z"
   }
  ],
  "kernelspec": {
   "display_name": "Python 3 (ipykernel)",
   "language": "python",
   "name": "python3"
  },
  "language_info": {
   "codemirror_mode": {
    "name": "ipython",
    "version": 3
   },
   "file_extension": ".py",
   "mimetype": "text/x-python",
   "name": "python",
   "nbconvert_exporter": "python",
   "pygments_lexer": "ipython3",
   "version": "3.9.7"
  },
  "toc": {
   "base_numbering": 1,
   "nav_menu": {},
   "number_sections": true,
   "sideBar": true,
   "skip_h1_title": true,
   "title_cell": "Содержание",
   "title_sidebar": "Contents",
   "toc_cell": true,
   "toc_position": {
    "height": "calc(100% - 180px)",
    "left": "10px",
    "top": "150px",
    "width": "165px"
   },
   "toc_section_display": true,
   "toc_window_display": true
  }
 },
 "nbformat": 4,
 "nbformat_minor": 4
}
