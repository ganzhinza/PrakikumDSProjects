{
 "cells": [
  {
   "cell_type": "markdown",
   "metadata": {
    "toc": true
   },
   "source": [
    "<h1>Содержание<span class=\"tocSkip\"></span></h1>\n",
    "<div class=\"toc\"><ul class=\"toc-item\"><li><span><a href=\"#Изучение-данных-из-файла\" data-toc-modified-id=\"Изучение-данных-из-файла-1\"><span class=\"toc-item-num\">1&nbsp;&nbsp;</span>Изучение данных из файла</a></span></li><li><span><a href=\"#Предобработка-данных\" data-toc-modified-id=\"Предобработка-данных-2\"><span class=\"toc-item-num\">2&nbsp;&nbsp;</span>Предобработка данных</a></span><ul class=\"toc-item\"><li><span><a href=\"#Обработка-пропусков\" data-toc-modified-id=\"Обработка-пропусков-2.1\"><span class=\"toc-item-num\">2.1&nbsp;&nbsp;</span>Обработка пропусков</a></span></li><li><span><a href=\"#Обработка-дубликатов\" data-toc-modified-id=\"Обработка-дубликатов-2.2\"><span class=\"toc-item-num\">2.2&nbsp;&nbsp;</span>Обработка дубликатов</a></span></li><li><span><a href=\"#Замена-типа-данных\" data-toc-modified-id=\"Замена-типа-данных-2.3\"><span class=\"toc-item-num\">2.3&nbsp;&nbsp;</span>Замена типа данных</a></span></li></ul></li><li><span><a href=\"#Расчёты-и-добавление-результатов-в-таблицу\" data-toc-modified-id=\"Расчёты-и-добавление-результатов-в-таблицу-3\"><span class=\"toc-item-num\">3&nbsp;&nbsp;</span>Расчёты и добавление результатов в таблицу</a></span></li><li><span><a href=\"#Исследовательский-анализ-данных\" data-toc-modified-id=\"Исследовательский-анализ-данных-4\"><span class=\"toc-item-num\">4&nbsp;&nbsp;</span>Исследовательский анализ данных</a></span><ul class=\"toc-item\"><li><span><a href=\"#Исследование-цены,-площади-и-высоты-потолков\" data-toc-modified-id=\"Исследование-цены,-площади-и-высоты-потолков-4.1\"><span class=\"toc-item-num\">4.1&nbsp;&nbsp;</span>Исследование цены, площади и высоты потолков</a></span></li><li><span><a href=\"#Сколько-обычно-занимает-продажа?\" data-toc-modified-id=\"Сколько-обычно-занимает-продажа?-4.2\"><span class=\"toc-item-num\">4.2&nbsp;&nbsp;</span>Сколько обычно занимает продажа?</a></span></li><li><span><a href=\"#Удаление-редких-и-выбивающихся-значений.\" data-toc-modified-id=\"Удаление-редких-и-выбивающихся-значений.-4.3\"><span class=\"toc-item-num\">4.3&nbsp;&nbsp;</span>Удаление редких и выбивающихся значений.</a></span></li><li><span><a href=\"#Зависит-ли-цена-квартиры-от-площади,-числа-комнат,-этажа-(первого-или-последнего),-удалённости-от-центра,-даты-размещения?\" data-toc-modified-id=\"Зависит-ли-цена-квартиры-от-площади,-числа-комнат,-этажа-(первого-или-последнего),-удалённости-от-центра,-даты-размещения?-4.4\"><span class=\"toc-item-num\">4.4&nbsp;&nbsp;</span>Зависит ли цена квартиры от площади, числа комнат, этажа (первого или последнего), удалённости от центра, даты размещения?</a></span></li><li><span><a href=\"#Выберите-10-населённых-пунктов-с-наибольшим-числом-объявлений.-Посчитайте-среднюю-цену-квадратного-метра-в-этих-населённых-пунктах.-Выделите-населённые-пункты-с-самой-высокой-и-низкой-стоимостью-жилья.\" data-toc-modified-id=\"Выберите-10-населённых-пунктов-с-наибольшим-числом-объявлений.-Посчитайте-среднюю-цену-квадратного-метра-в-этих-населённых-пунктах.-Выделите-населённые-пункты-с-самой-высокой-и-низкой-стоимостью-жилья.-4.5\"><span class=\"toc-item-num\">4.5&nbsp;&nbsp;</span>Выберите 10 населённых пунктов с наибольшим числом объявлений. Посчитайте среднюю цену квадратного метра в этих населённых пунктах. Выделите населённые пункты с самой высокой и низкой стоимостью жилья.</a></span></li><li><span><a href=\"#Изучение-предложения-квартир-в-Санкт-Петербурге-от-расстояния-до-центра-города\" data-toc-modified-id=\"Изучение-предложения-квартир-в-Санкт-Петербурге-от-расстояния-до-центра-города-4.6\"><span class=\"toc-item-num\">4.6&nbsp;&nbsp;</span>Изучение предложения квартир в Санкт-Петербурге от расстояния до центра города</a></span></li><li><span><a href=\"#Квартиры-из-центра-Санкт-Петербугра-отличается-от-остальных-квартир-или-нет?\" data-toc-modified-id=\"Квартиры-из-центра-Санкт-Петербугра-отличается-от-остальных-квартир-или-нет?-4.7\"><span class=\"toc-item-num\">4.7&nbsp;&nbsp;</span>Квартиры из центра Санкт-Петербугра отличается от остальных квартир или нет?</a></span></li></ul></li><li><span><a href=\"#Общий-вывод\" data-toc-modified-id=\"Общий-вывод-5\"><span class=\"toc-item-num\">5&nbsp;&nbsp;</span>Общий вывод</a></span></li><li><span><a href=\"#Чек-лист-готовности-проекта\" data-toc-modified-id=\"Чек-лист-готовности-проекта-6\"><span class=\"toc-item-num\">6&nbsp;&nbsp;</span>Чек-лист готовности проекта</a></span></li></ul></div>"
   ]
  },
  {
   "cell_type": "markdown",
   "metadata": {},
   "source": [
    "# Исследование объявлений о продаже квартир\n",
    "\n",
    "В вашем распоряжении данные сервиса Яндекс.Недвижимость — архив объявлений о продаже квартир в Санкт-Петербурге и соседних населённых пунктах за несколько лет. Нужно научиться определять рыночную стоимость объектов недвижимости. Ваша задача — установить параметры. Это позволит построить автоматизированную систему: она отследит аномалии и мошенническую деятельность. \n",
    "\n",
    "По каждой квартире на продажу доступны два вида данных. Первые вписаны пользователем, вторые получены автоматически на основе картографических данных. Например, расстояние до центра, аэропорта, ближайшего парка и водоёма. "
   ]
  },
  {
   "cell_type": "markdown",
   "metadata": {},
   "source": [
    "## Изучение данных из файла"
   ]
  },
  {
   "cell_type": "code",
   "execution_count": 1,
   "metadata": {},
   "outputs": [
    {
     "data": {
      "text/html": [
       "<div>\n",
       "<style scoped>\n",
       "    .dataframe tbody tr th:only-of-type {\n",
       "        vertical-align: middle;\n",
       "    }\n",
       "\n",
       "    .dataframe tbody tr th {\n",
       "        vertical-align: top;\n",
       "    }\n",
       "\n",
       "    .dataframe thead th {\n",
       "        text-align: right;\n",
       "    }\n",
       "</style>\n",
       "<table border=\"1\" class=\"dataframe\">\n",
       "  <thead>\n",
       "    <tr style=\"text-align: right;\">\n",
       "      <th></th>\n",
       "      <th>total_images</th>\n",
       "      <th>last_price</th>\n",
       "      <th>total_area</th>\n",
       "      <th>first_day_exposition</th>\n",
       "      <th>rooms</th>\n",
       "      <th>ceiling_height</th>\n",
       "      <th>floors_total</th>\n",
       "      <th>living_area</th>\n",
       "      <th>floor</th>\n",
       "      <th>is_apartment</th>\n",
       "      <th>...</th>\n",
       "      <th>kitchen_area</th>\n",
       "      <th>balcony</th>\n",
       "      <th>locality_name</th>\n",
       "      <th>airports_nearest</th>\n",
       "      <th>cityCenters_nearest</th>\n",
       "      <th>parks_around3000</th>\n",
       "      <th>parks_nearest</th>\n",
       "      <th>ponds_around3000</th>\n",
       "      <th>ponds_nearest</th>\n",
       "      <th>days_exposition</th>\n",
       "    </tr>\n",
       "  </thead>\n",
       "  <tbody>\n",
       "    <tr>\n",
       "      <td>0</td>\n",
       "      <td>20</td>\n",
       "      <td>13000000.0</td>\n",
       "      <td>108.00</td>\n",
       "      <td>2019-03-07T00:00:00</td>\n",
       "      <td>3</td>\n",
       "      <td>2.70</td>\n",
       "      <td>16.0</td>\n",
       "      <td>51.00</td>\n",
       "      <td>8</td>\n",
       "      <td>NaN</td>\n",
       "      <td>...</td>\n",
       "      <td>25.00</td>\n",
       "      <td>NaN</td>\n",
       "      <td>Санкт-Петербург</td>\n",
       "      <td>18863.0</td>\n",
       "      <td>16028.0</td>\n",
       "      <td>1.0</td>\n",
       "      <td>482.0</td>\n",
       "      <td>2.0</td>\n",
       "      <td>755.0</td>\n",
       "      <td>NaN</td>\n",
       "    </tr>\n",
       "    <tr>\n",
       "      <td>1</td>\n",
       "      <td>7</td>\n",
       "      <td>3350000.0</td>\n",
       "      <td>40.40</td>\n",
       "      <td>2018-12-04T00:00:00</td>\n",
       "      <td>1</td>\n",
       "      <td>NaN</td>\n",
       "      <td>11.0</td>\n",
       "      <td>18.60</td>\n",
       "      <td>1</td>\n",
       "      <td>NaN</td>\n",
       "      <td>...</td>\n",
       "      <td>11.00</td>\n",
       "      <td>2.0</td>\n",
       "      <td>посёлок Шушары</td>\n",
       "      <td>12817.0</td>\n",
       "      <td>18603.0</td>\n",
       "      <td>0.0</td>\n",
       "      <td>NaN</td>\n",
       "      <td>0.0</td>\n",
       "      <td>NaN</td>\n",
       "      <td>81.0</td>\n",
       "    </tr>\n",
       "    <tr>\n",
       "      <td>2</td>\n",
       "      <td>10</td>\n",
       "      <td>5196000.0</td>\n",
       "      <td>56.00</td>\n",
       "      <td>2015-08-20T00:00:00</td>\n",
       "      <td>2</td>\n",
       "      <td>NaN</td>\n",
       "      <td>5.0</td>\n",
       "      <td>34.30</td>\n",
       "      <td>4</td>\n",
       "      <td>NaN</td>\n",
       "      <td>...</td>\n",
       "      <td>8.30</td>\n",
       "      <td>0.0</td>\n",
       "      <td>Санкт-Петербург</td>\n",
       "      <td>21741.0</td>\n",
       "      <td>13933.0</td>\n",
       "      <td>1.0</td>\n",
       "      <td>90.0</td>\n",
       "      <td>2.0</td>\n",
       "      <td>574.0</td>\n",
       "      <td>558.0</td>\n",
       "    </tr>\n",
       "    <tr>\n",
       "      <td>3</td>\n",
       "      <td>0</td>\n",
       "      <td>64900000.0</td>\n",
       "      <td>159.00</td>\n",
       "      <td>2015-07-24T00:00:00</td>\n",
       "      <td>3</td>\n",
       "      <td>NaN</td>\n",
       "      <td>14.0</td>\n",
       "      <td>NaN</td>\n",
       "      <td>9</td>\n",
       "      <td>NaN</td>\n",
       "      <td>...</td>\n",
       "      <td>NaN</td>\n",
       "      <td>0.0</td>\n",
       "      <td>Санкт-Петербург</td>\n",
       "      <td>28098.0</td>\n",
       "      <td>6800.0</td>\n",
       "      <td>2.0</td>\n",
       "      <td>84.0</td>\n",
       "      <td>3.0</td>\n",
       "      <td>234.0</td>\n",
       "      <td>424.0</td>\n",
       "    </tr>\n",
       "    <tr>\n",
       "      <td>4</td>\n",
       "      <td>2</td>\n",
       "      <td>10000000.0</td>\n",
       "      <td>100.00</td>\n",
       "      <td>2018-06-19T00:00:00</td>\n",
       "      <td>2</td>\n",
       "      <td>3.03</td>\n",
       "      <td>14.0</td>\n",
       "      <td>32.00</td>\n",
       "      <td>13</td>\n",
       "      <td>NaN</td>\n",
       "      <td>...</td>\n",
       "      <td>41.00</td>\n",
       "      <td>NaN</td>\n",
       "      <td>Санкт-Петербург</td>\n",
       "      <td>31856.0</td>\n",
       "      <td>8098.0</td>\n",
       "      <td>2.0</td>\n",
       "      <td>112.0</td>\n",
       "      <td>1.0</td>\n",
       "      <td>48.0</td>\n",
       "      <td>121.0</td>\n",
       "    </tr>\n",
       "    <tr>\n",
       "      <td>5</td>\n",
       "      <td>10</td>\n",
       "      <td>2890000.0</td>\n",
       "      <td>30.40</td>\n",
       "      <td>2018-09-10T00:00:00</td>\n",
       "      <td>1</td>\n",
       "      <td>NaN</td>\n",
       "      <td>12.0</td>\n",
       "      <td>14.40</td>\n",
       "      <td>5</td>\n",
       "      <td>NaN</td>\n",
       "      <td>...</td>\n",
       "      <td>9.10</td>\n",
       "      <td>NaN</td>\n",
       "      <td>городской посёлок Янино-1</td>\n",
       "      <td>NaN</td>\n",
       "      <td>NaN</td>\n",
       "      <td>NaN</td>\n",
       "      <td>NaN</td>\n",
       "      <td>NaN</td>\n",
       "      <td>NaN</td>\n",
       "      <td>55.0</td>\n",
       "    </tr>\n",
       "    <tr>\n",
       "      <td>6</td>\n",
       "      <td>6</td>\n",
       "      <td>3700000.0</td>\n",
       "      <td>37.30</td>\n",
       "      <td>2017-11-02T00:00:00</td>\n",
       "      <td>1</td>\n",
       "      <td>NaN</td>\n",
       "      <td>26.0</td>\n",
       "      <td>10.60</td>\n",
       "      <td>6</td>\n",
       "      <td>NaN</td>\n",
       "      <td>...</td>\n",
       "      <td>14.40</td>\n",
       "      <td>1.0</td>\n",
       "      <td>посёлок Парголово</td>\n",
       "      <td>52996.0</td>\n",
       "      <td>19143.0</td>\n",
       "      <td>0.0</td>\n",
       "      <td>NaN</td>\n",
       "      <td>0.0</td>\n",
       "      <td>NaN</td>\n",
       "      <td>155.0</td>\n",
       "    </tr>\n",
       "    <tr>\n",
       "      <td>7</td>\n",
       "      <td>5</td>\n",
       "      <td>7915000.0</td>\n",
       "      <td>71.60</td>\n",
       "      <td>2019-04-18T00:00:00</td>\n",
       "      <td>2</td>\n",
       "      <td>NaN</td>\n",
       "      <td>24.0</td>\n",
       "      <td>NaN</td>\n",
       "      <td>22</td>\n",
       "      <td>NaN</td>\n",
       "      <td>...</td>\n",
       "      <td>18.90</td>\n",
       "      <td>2.0</td>\n",
       "      <td>Санкт-Петербург</td>\n",
       "      <td>23982.0</td>\n",
       "      <td>11634.0</td>\n",
       "      <td>0.0</td>\n",
       "      <td>NaN</td>\n",
       "      <td>0.0</td>\n",
       "      <td>NaN</td>\n",
       "      <td>NaN</td>\n",
       "    </tr>\n",
       "    <tr>\n",
       "      <td>8</td>\n",
       "      <td>20</td>\n",
       "      <td>2900000.0</td>\n",
       "      <td>33.16</td>\n",
       "      <td>2018-05-23T00:00:00</td>\n",
       "      <td>1</td>\n",
       "      <td>NaN</td>\n",
       "      <td>27.0</td>\n",
       "      <td>15.43</td>\n",
       "      <td>26</td>\n",
       "      <td>NaN</td>\n",
       "      <td>...</td>\n",
       "      <td>8.81</td>\n",
       "      <td>NaN</td>\n",
       "      <td>посёлок Мурино</td>\n",
       "      <td>NaN</td>\n",
       "      <td>NaN</td>\n",
       "      <td>NaN</td>\n",
       "      <td>NaN</td>\n",
       "      <td>NaN</td>\n",
       "      <td>NaN</td>\n",
       "      <td>189.0</td>\n",
       "    </tr>\n",
       "    <tr>\n",
       "      <td>9</td>\n",
       "      <td>18</td>\n",
       "      <td>5400000.0</td>\n",
       "      <td>61.00</td>\n",
       "      <td>2017-02-26T00:00:00</td>\n",
       "      <td>3</td>\n",
       "      <td>2.50</td>\n",
       "      <td>9.0</td>\n",
       "      <td>43.60</td>\n",
       "      <td>7</td>\n",
       "      <td>NaN</td>\n",
       "      <td>...</td>\n",
       "      <td>6.50</td>\n",
       "      <td>2.0</td>\n",
       "      <td>Санкт-Петербург</td>\n",
       "      <td>50898.0</td>\n",
       "      <td>15008.0</td>\n",
       "      <td>0.0</td>\n",
       "      <td>NaN</td>\n",
       "      <td>0.0</td>\n",
       "      <td>NaN</td>\n",
       "      <td>289.0</td>\n",
       "    </tr>\n",
       "  </tbody>\n",
       "</table>\n",
       "<p>10 rows × 22 columns</p>\n",
       "</div>"
      ],
      "text/plain": [
       "   total_images  last_price  total_area first_day_exposition  rooms  \\\n",
       "0            20  13000000.0      108.00  2019-03-07T00:00:00      3   \n",
       "1             7   3350000.0       40.40  2018-12-04T00:00:00      1   \n",
       "2            10   5196000.0       56.00  2015-08-20T00:00:00      2   \n",
       "3             0  64900000.0      159.00  2015-07-24T00:00:00      3   \n",
       "4             2  10000000.0      100.00  2018-06-19T00:00:00      2   \n",
       "5            10   2890000.0       30.40  2018-09-10T00:00:00      1   \n",
       "6             6   3700000.0       37.30  2017-11-02T00:00:00      1   \n",
       "7             5   7915000.0       71.60  2019-04-18T00:00:00      2   \n",
       "8            20   2900000.0       33.16  2018-05-23T00:00:00      1   \n",
       "9            18   5400000.0       61.00  2017-02-26T00:00:00      3   \n",
       "\n",
       "   ceiling_height  floors_total  living_area  floor is_apartment  ...  \\\n",
       "0            2.70          16.0        51.00      8          NaN  ...   \n",
       "1             NaN          11.0        18.60      1          NaN  ...   \n",
       "2             NaN           5.0        34.30      4          NaN  ...   \n",
       "3             NaN          14.0          NaN      9          NaN  ...   \n",
       "4            3.03          14.0        32.00     13          NaN  ...   \n",
       "5             NaN          12.0        14.40      5          NaN  ...   \n",
       "6             NaN          26.0        10.60      6          NaN  ...   \n",
       "7             NaN          24.0          NaN     22          NaN  ...   \n",
       "8             NaN          27.0        15.43     26          NaN  ...   \n",
       "9            2.50           9.0        43.60      7          NaN  ...   \n",
       "\n",
       "   kitchen_area  balcony              locality_name  airports_nearest  \\\n",
       "0         25.00      NaN            Санкт-Петербург           18863.0   \n",
       "1         11.00      2.0             посёлок Шушары           12817.0   \n",
       "2          8.30      0.0            Санкт-Петербург           21741.0   \n",
       "3           NaN      0.0            Санкт-Петербург           28098.0   \n",
       "4         41.00      NaN            Санкт-Петербург           31856.0   \n",
       "5          9.10      NaN  городской посёлок Янино-1               NaN   \n",
       "6         14.40      1.0          посёлок Парголово           52996.0   \n",
       "7         18.90      2.0            Санкт-Петербург           23982.0   \n",
       "8          8.81      NaN             посёлок Мурино               NaN   \n",
       "9          6.50      2.0            Санкт-Петербург           50898.0   \n",
       "\n",
       "  cityCenters_nearest  parks_around3000  parks_nearest  ponds_around3000  \\\n",
       "0             16028.0               1.0          482.0               2.0   \n",
       "1             18603.0               0.0            NaN               0.0   \n",
       "2             13933.0               1.0           90.0               2.0   \n",
       "3              6800.0               2.0           84.0               3.0   \n",
       "4              8098.0               2.0          112.0               1.0   \n",
       "5                 NaN               NaN            NaN               NaN   \n",
       "6             19143.0               0.0            NaN               0.0   \n",
       "7             11634.0               0.0            NaN               0.0   \n",
       "8                 NaN               NaN            NaN               NaN   \n",
       "9             15008.0               0.0            NaN               0.0   \n",
       "\n",
       "   ponds_nearest  days_exposition  \n",
       "0          755.0              NaN  \n",
       "1            NaN             81.0  \n",
       "2          574.0            558.0  \n",
       "3          234.0            424.0  \n",
       "4           48.0            121.0  \n",
       "5            NaN             55.0  \n",
       "6            NaN            155.0  \n",
       "7            NaN              NaN  \n",
       "8            NaN            189.0  \n",
       "9            NaN            289.0  \n",
       "\n",
       "[10 rows x 22 columns]"
      ]
     },
     "execution_count": 1,
     "metadata": {},
     "output_type": "execute_result"
    }
   ],
   "source": [
    "import pandas as pd\n",
    "import matplotlib.pyplot as plt\n",
    "import numpy as np\n",
    "data = pd.read_csv(\"/datasets/real_estate_data.csv\", sep = \"\\t\")\n",
    "primal_data = data\n",
    "data.head(10)"
   ]
  },
  {
   "cell_type": "code",
   "execution_count": 2,
   "metadata": {},
   "outputs": [
    {
     "data": {
      "text/html": [
       "<div>\n",
       "<style scoped>\n",
       "    .dataframe tbody tr th:only-of-type {\n",
       "        vertical-align: middle;\n",
       "    }\n",
       "\n",
       "    .dataframe tbody tr th {\n",
       "        vertical-align: top;\n",
       "    }\n",
       "\n",
       "    .dataframe thead th {\n",
       "        text-align: right;\n",
       "    }\n",
       "</style>\n",
       "<table border=\"1\" class=\"dataframe\">\n",
       "  <thead>\n",
       "    <tr style=\"text-align: right;\">\n",
       "      <th></th>\n",
       "      <th>total_images</th>\n",
       "      <th>last_price</th>\n",
       "      <th>total_area</th>\n",
       "      <th>rooms</th>\n",
       "      <th>ceiling_height</th>\n",
       "      <th>floors_total</th>\n",
       "      <th>living_area</th>\n",
       "      <th>floor</th>\n",
       "      <th>kitchen_area</th>\n",
       "      <th>balcony</th>\n",
       "      <th>airports_nearest</th>\n",
       "      <th>cityCenters_nearest</th>\n",
       "      <th>parks_around3000</th>\n",
       "      <th>parks_nearest</th>\n",
       "      <th>ponds_around3000</th>\n",
       "      <th>ponds_nearest</th>\n",
       "      <th>days_exposition</th>\n",
       "    </tr>\n",
       "  </thead>\n",
       "  <tbody>\n",
       "    <tr>\n",
       "      <td>count</td>\n",
       "      <td>23699.000000</td>\n",
       "      <td>2.369900e+04</td>\n",
       "      <td>23699.000000</td>\n",
       "      <td>23699.000000</td>\n",
       "      <td>14504.000000</td>\n",
       "      <td>23613.000000</td>\n",
       "      <td>21796.000000</td>\n",
       "      <td>23699.000000</td>\n",
       "      <td>21421.000000</td>\n",
       "      <td>12180.000000</td>\n",
       "      <td>18157.000000</td>\n",
       "      <td>18180.000000</td>\n",
       "      <td>18181.000000</td>\n",
       "      <td>8079.000000</td>\n",
       "      <td>18181.000000</td>\n",
       "      <td>9110.000000</td>\n",
       "      <td>20518.000000</td>\n",
       "    </tr>\n",
       "    <tr>\n",
       "      <td>mean</td>\n",
       "      <td>9.858475</td>\n",
       "      <td>6.541549e+06</td>\n",
       "      <td>60.348651</td>\n",
       "      <td>2.070636</td>\n",
       "      <td>2.771499</td>\n",
       "      <td>10.673824</td>\n",
       "      <td>34.457852</td>\n",
       "      <td>5.892358</td>\n",
       "      <td>10.569807</td>\n",
       "      <td>1.150082</td>\n",
       "      <td>28793.672193</td>\n",
       "      <td>14191.277833</td>\n",
       "      <td>0.611408</td>\n",
       "      <td>490.804555</td>\n",
       "      <td>0.770255</td>\n",
       "      <td>517.980900</td>\n",
       "      <td>180.888634</td>\n",
       "    </tr>\n",
       "    <tr>\n",
       "      <td>std</td>\n",
       "      <td>5.682529</td>\n",
       "      <td>1.088701e+07</td>\n",
       "      <td>35.654083</td>\n",
       "      <td>1.078405</td>\n",
       "      <td>1.261056</td>\n",
       "      <td>6.597173</td>\n",
       "      <td>22.030445</td>\n",
       "      <td>4.885249</td>\n",
       "      <td>5.905438</td>\n",
       "      <td>1.071300</td>\n",
       "      <td>12630.880622</td>\n",
       "      <td>8608.386210</td>\n",
       "      <td>0.802074</td>\n",
       "      <td>342.317995</td>\n",
       "      <td>0.938346</td>\n",
       "      <td>277.720643</td>\n",
       "      <td>219.727988</td>\n",
       "    </tr>\n",
       "    <tr>\n",
       "      <td>min</td>\n",
       "      <td>0.000000</td>\n",
       "      <td>1.219000e+04</td>\n",
       "      <td>12.000000</td>\n",
       "      <td>0.000000</td>\n",
       "      <td>1.000000</td>\n",
       "      <td>1.000000</td>\n",
       "      <td>2.000000</td>\n",
       "      <td>1.000000</td>\n",
       "      <td>1.300000</td>\n",
       "      <td>0.000000</td>\n",
       "      <td>0.000000</td>\n",
       "      <td>181.000000</td>\n",
       "      <td>0.000000</td>\n",
       "      <td>1.000000</td>\n",
       "      <td>0.000000</td>\n",
       "      <td>13.000000</td>\n",
       "      <td>1.000000</td>\n",
       "    </tr>\n",
       "    <tr>\n",
       "      <td>25%</td>\n",
       "      <td>6.000000</td>\n",
       "      <td>3.400000e+06</td>\n",
       "      <td>40.000000</td>\n",
       "      <td>1.000000</td>\n",
       "      <td>2.520000</td>\n",
       "      <td>5.000000</td>\n",
       "      <td>18.600000</td>\n",
       "      <td>2.000000</td>\n",
       "      <td>7.000000</td>\n",
       "      <td>0.000000</td>\n",
       "      <td>18585.000000</td>\n",
       "      <td>9238.000000</td>\n",
       "      <td>0.000000</td>\n",
       "      <td>288.000000</td>\n",
       "      <td>0.000000</td>\n",
       "      <td>294.000000</td>\n",
       "      <td>45.000000</td>\n",
       "    </tr>\n",
       "    <tr>\n",
       "      <td>50%</td>\n",
       "      <td>9.000000</td>\n",
       "      <td>4.650000e+06</td>\n",
       "      <td>52.000000</td>\n",
       "      <td>2.000000</td>\n",
       "      <td>2.650000</td>\n",
       "      <td>9.000000</td>\n",
       "      <td>30.000000</td>\n",
       "      <td>4.000000</td>\n",
       "      <td>9.100000</td>\n",
       "      <td>1.000000</td>\n",
       "      <td>26726.000000</td>\n",
       "      <td>13098.500000</td>\n",
       "      <td>0.000000</td>\n",
       "      <td>455.000000</td>\n",
       "      <td>1.000000</td>\n",
       "      <td>502.000000</td>\n",
       "      <td>95.000000</td>\n",
       "    </tr>\n",
       "    <tr>\n",
       "      <td>75%</td>\n",
       "      <td>14.000000</td>\n",
       "      <td>6.800000e+06</td>\n",
       "      <td>69.900000</td>\n",
       "      <td>3.000000</td>\n",
       "      <td>2.800000</td>\n",
       "      <td>16.000000</td>\n",
       "      <td>42.300000</td>\n",
       "      <td>8.000000</td>\n",
       "      <td>12.000000</td>\n",
       "      <td>2.000000</td>\n",
       "      <td>37273.000000</td>\n",
       "      <td>16293.000000</td>\n",
       "      <td>1.000000</td>\n",
       "      <td>612.000000</td>\n",
       "      <td>1.000000</td>\n",
       "      <td>729.000000</td>\n",
       "      <td>232.000000</td>\n",
       "    </tr>\n",
       "    <tr>\n",
       "      <td>max</td>\n",
       "      <td>50.000000</td>\n",
       "      <td>7.630000e+08</td>\n",
       "      <td>900.000000</td>\n",
       "      <td>19.000000</td>\n",
       "      <td>100.000000</td>\n",
       "      <td>60.000000</td>\n",
       "      <td>409.700000</td>\n",
       "      <td>33.000000</td>\n",
       "      <td>112.000000</td>\n",
       "      <td>5.000000</td>\n",
       "      <td>84869.000000</td>\n",
       "      <td>65968.000000</td>\n",
       "      <td>3.000000</td>\n",
       "      <td>3190.000000</td>\n",
       "      <td>3.000000</td>\n",
       "      <td>1344.000000</td>\n",
       "      <td>1580.000000</td>\n",
       "    </tr>\n",
       "  </tbody>\n",
       "</table>\n",
       "</div>"
      ],
      "text/plain": [
       "       total_images    last_price    total_area         rooms  ceiling_height  \\\n",
       "count  23699.000000  2.369900e+04  23699.000000  23699.000000    14504.000000   \n",
       "mean       9.858475  6.541549e+06     60.348651      2.070636        2.771499   \n",
       "std        5.682529  1.088701e+07     35.654083      1.078405        1.261056   \n",
       "min        0.000000  1.219000e+04     12.000000      0.000000        1.000000   \n",
       "25%        6.000000  3.400000e+06     40.000000      1.000000        2.520000   \n",
       "50%        9.000000  4.650000e+06     52.000000      2.000000        2.650000   \n",
       "75%       14.000000  6.800000e+06     69.900000      3.000000        2.800000   \n",
       "max       50.000000  7.630000e+08    900.000000     19.000000      100.000000   \n",
       "\n",
       "       floors_total   living_area         floor  kitchen_area       balcony  \\\n",
       "count  23613.000000  21796.000000  23699.000000  21421.000000  12180.000000   \n",
       "mean      10.673824     34.457852      5.892358     10.569807      1.150082   \n",
       "std        6.597173     22.030445      4.885249      5.905438      1.071300   \n",
       "min        1.000000      2.000000      1.000000      1.300000      0.000000   \n",
       "25%        5.000000     18.600000      2.000000      7.000000      0.000000   \n",
       "50%        9.000000     30.000000      4.000000      9.100000      1.000000   \n",
       "75%       16.000000     42.300000      8.000000     12.000000      2.000000   \n",
       "max       60.000000    409.700000     33.000000    112.000000      5.000000   \n",
       "\n",
       "       airports_nearest  cityCenters_nearest  parks_around3000  parks_nearest  \\\n",
       "count      18157.000000         18180.000000      18181.000000    8079.000000   \n",
       "mean       28793.672193         14191.277833          0.611408     490.804555   \n",
       "std        12630.880622          8608.386210          0.802074     342.317995   \n",
       "min            0.000000           181.000000          0.000000       1.000000   \n",
       "25%        18585.000000          9238.000000          0.000000     288.000000   \n",
       "50%        26726.000000         13098.500000          0.000000     455.000000   \n",
       "75%        37273.000000         16293.000000          1.000000     612.000000   \n",
       "max        84869.000000         65968.000000          3.000000    3190.000000   \n",
       "\n",
       "       ponds_around3000  ponds_nearest  days_exposition  \n",
       "count      18181.000000    9110.000000     20518.000000  \n",
       "mean           0.770255     517.980900       180.888634  \n",
       "std            0.938346     277.720643       219.727988  \n",
       "min            0.000000      13.000000         1.000000  \n",
       "25%            0.000000     294.000000        45.000000  \n",
       "50%            1.000000     502.000000        95.000000  \n",
       "75%            1.000000     729.000000       232.000000  \n",
       "max            3.000000    1344.000000      1580.000000  "
      ]
     },
     "execution_count": 2,
     "metadata": {},
     "output_type": "execute_result"
    }
   ],
   "source": [
    "data.describe()"
   ]
  },
  {
   "cell_type": "code",
   "execution_count": 3,
   "metadata": {},
   "outputs": [
    {
     "name": "stdout",
     "output_type": "stream",
     "text": [
      "<class 'pandas.core.frame.DataFrame'>\n",
      "RangeIndex: 23699 entries, 0 to 23698\n",
      "Data columns (total 22 columns):\n",
      "total_images            23699 non-null int64\n",
      "last_price              23699 non-null float64\n",
      "total_area              23699 non-null float64\n",
      "first_day_exposition    23699 non-null object\n",
      "rooms                   23699 non-null int64\n",
      "ceiling_height          14504 non-null float64\n",
      "floors_total            23613 non-null float64\n",
      "living_area             21796 non-null float64\n",
      "floor                   23699 non-null int64\n",
      "is_apartment            2775 non-null object\n",
      "studio                  23699 non-null bool\n",
      "open_plan               23699 non-null bool\n",
      "kitchen_area            21421 non-null float64\n",
      "balcony                 12180 non-null float64\n",
      "locality_name           23650 non-null object\n",
      "airports_nearest        18157 non-null float64\n",
      "cityCenters_nearest     18180 non-null float64\n",
      "parks_around3000        18181 non-null float64\n",
      "parks_nearest           8079 non-null float64\n",
      "ponds_around3000        18181 non-null float64\n",
      "ponds_nearest           9110 non-null float64\n",
      "days_exposition         20518 non-null float64\n",
      "dtypes: bool(2), float64(14), int64(3), object(3)\n",
      "memory usage: 3.7+ MB\n"
     ]
    }
   ],
   "source": [
    "data.info()"
   ]
  },
  {
   "cell_type": "markdown",
   "metadata": {},
   "source": [
    "**Вывод**"
   ]
  },
  {
   "cell_type": "markdown",
   "metadata": {},
   "source": [
    "Суммарно у нас 23699 строк, пропуски есть в столбцах celling_height, floors_total, living_area_is_apartment, kitchen_area, balcony, locality_name,airports_nearest,cityCenters_nearest, parks_around3000, parks_nearest, ponds_around3000, ponds_nearest, days_exposition. Сейчас это большое количество пропусков, поэтому дальше будем обрабатывать столбцы отдельно, если не найдём законоерностей между некоторыми пропусками. Также сразу настораживают 100 метровые потолки, что явно выглядит не реалистично. Также по методу describe() можно судить, что заглушки в данных не ставились, кроме собственно NaN."
   ]
  },
  {
   "cell_type": "markdown",
   "metadata": {},
   "source": [
    "## Предобработка данных"
   ]
  },
  {
   "cell_type": "markdown",
   "metadata": {},
   "source": [
    "### Обработка пропусков"
   ]
  },
  {
   "cell_type": "code",
   "execution_count": 4,
   "metadata": {},
   "outputs": [
    {
     "name": "stdout",
     "output_type": "stream",
     "text": [
      "<class 'pandas.core.frame.DataFrame'>\n",
      "RangeIndex: 23565 entries, 0 to 23564\n",
      "Data columns (total 22 columns):\n",
      "total_images            23565 non-null int64\n",
      "last_price              23565 non-null float64\n",
      "total_area              23565 non-null float64\n",
      "first_day_exposition    23565 non-null object\n",
      "rooms                   23565 non-null int64\n",
      "ceiling_height          14481 non-null float64\n",
      "floors_total            23565 non-null float64\n",
      "living_area             21700 non-null float64\n",
      "floor                   23565 non-null int64\n",
      "is_apartment            2760 non-null object\n",
      "studio                  23565 non-null bool\n",
      "open_plan               23565 non-null bool\n",
      "kitchen_area            21343 non-null float64\n",
      "balcony                 12090 non-null float64\n",
      "locality_name           23565 non-null object\n",
      "airports_nearest        18041 non-null float64\n",
      "cityCenters_nearest     18064 non-null float64\n",
      "parks_around3000        18065 non-null float64\n",
      "parks_nearest           8030 non-null float64\n",
      "ponds_around3000        18065 non-null float64\n",
      "ponds_nearest           9036 non-null float64\n",
      "days_exposition         20394 non-null float64\n",
      "dtypes: bool(2), float64(14), int64(3), object(3)\n",
      "memory usage: 3.6+ MB\n"
     ]
    }
   ],
   "source": [
    "data = data.dropna(subset = ['floors_total', 'locality_name']).reset_index(drop = True)\n",
    "data.info()"
   ]
  },
  {
   "cell_type": "markdown",
   "metadata": {},
   "source": [
    "Удалили строки с пропусками в количестве этажей в доме и в названии населённого пункта, так как суммарно это всего 134 строки, что меньше одного процента, то это не должно сильно повлиять на метрики. Также эти пропуски не заполняются тривиальными значениями."
   ]
  },
  {
   "cell_type": "code",
   "execution_count": 5,
   "metadata": {},
   "outputs": [
    {
     "data": {
      "text/plain": [
       "11       False\n",
       "25       False\n",
       "29       False\n",
       "36       False\n",
       "41       False\n",
       "         ...  \n",
       "23531    False\n",
       "23533    False\n",
       "23537    False\n",
       "23544    False\n",
       "23548    False\n",
       "Name: is_apartment, Length: 2760, dtype: object"
      ]
     },
     "execution_count": 5,
     "metadata": {},
     "output_type": "execute_result"
    }
   ],
   "source": [
    "data['balcony'] = data['balcony'].fillna(0)\n",
    "data['kitchen_area'] = data['kitchen_area'].fillna(0)\n",
    "is_appartment = data[(data['is_apartment'].notnull())]['is_apartment']\n",
    "is_appartment"
   ]
  },
  {
   "cell_type": "code",
   "execution_count": 6,
   "metadata": {},
   "outputs": [
    {
     "data": {
      "text/plain": [
       "540     True\n",
       "912     True\n",
       "1104    True\n",
       "1603    True\n",
       "2748    True\n",
       "2962    True\n",
       "3053    True\n",
       "3800    True\n",
       "3933    True\n",
       "4318    True\n",
       "Name: is_apartment, dtype: object"
      ]
     },
     "execution_count": 6,
     "metadata": {},
     "output_type": "execute_result"
    }
   ],
   "source": [
    "is_appartment[is_appartment == True].head(10)"
   ]
  },
  {
   "cell_type": "markdown",
   "metadata": {},
   "source": [
    "Мы получили огромное количество пропусков в столбце, 'is_apartment', но так как есть значения False и True, то мы не можем сказать, что пропуск == какому-то значению, а так как данных очень мало, то оставим эти пропуски как есть. Также заполнили  пропущенное количество балконов на 0, из за того, что, если продавец не указал количество балконов, то скорее всего их нет, по анологии с балконами заполнимли площади кухни нулями. "
   ]
  },
  {
   "cell_type": "code",
   "execution_count": 7,
   "metadata": {},
   "outputs": [],
   "source": [
    "data['ceiling_height'] = data['ceiling_height'].fillna(data['ceiling_height'].median()) \n",
    "med_living_area = data.groupby('rooms')['living_area'].transform('median')\n",
    "data['living_area'] = data['living_area'].fillna(med_living_area)"
   ]
  },
  {
   "cell_type": "code",
   "execution_count": 8,
   "metadata": {},
   "outputs": [
    {
     "name": "stdout",
     "output_type": "stream",
     "text": [
      "0\n",
      "4\n"
     ]
    }
   ],
   "source": [
    "print(data[(data['ponds_around3000'] == 0) & (data['ponds_nearest'].notnull())]['ponds_nearest'].count())\n",
    "print(data[(data['parks_around3000'] == 0) & (data['parks_nearest'].notnull())]['parks_nearest'].count())"
   ]
  },
  {
   "cell_type": "code",
   "execution_count": 9,
   "metadata": {},
   "outputs": [],
   "source": [
    "data['ponds_around3000'] = data['ponds_around3000'].fillna(0)\n",
    "data['parks_around3000'] = data['parks_around3000'].fillna(0)\n",
    "data['ponds_nearest'] = data['ponds_nearest'].fillna(4000)\n",
    "data['parks_nearest'] = data['parks_nearest'].fillna(4000)"
   ]
  },
  {
   "cell_type": "code",
   "execution_count": 10,
   "metadata": {},
   "outputs": [
    {
     "name": "stdout",
     "output_type": "stream",
     "text": [
      "<class 'pandas.core.frame.DataFrame'>\n",
      "RangeIndex: 23565 entries, 0 to 23564\n",
      "Data columns (total 22 columns):\n",
      "total_images            23565 non-null int64\n",
      "last_price              23565 non-null float64\n",
      "total_area              23565 non-null float64\n",
      "first_day_exposition    23565 non-null object\n",
      "rooms                   23565 non-null int64\n",
      "ceiling_height          23565 non-null float64\n",
      "floors_total            23565 non-null float64\n",
      "living_area             23565 non-null float64\n",
      "floor                   23565 non-null int64\n",
      "is_apartment            2760 non-null object\n",
      "studio                  23565 non-null bool\n",
      "open_plan               23565 non-null bool\n",
      "kitchen_area            23565 non-null float64\n",
      "balcony                 23565 non-null float64\n",
      "locality_name           23565 non-null object\n",
      "airports_nearest        18041 non-null float64\n",
      "cityCenters_nearest     18064 non-null float64\n",
      "parks_around3000        23565 non-null float64\n",
      "parks_nearest           23565 non-null float64\n",
      "ponds_around3000        23565 non-null float64\n",
      "ponds_nearest           23565 non-null float64\n",
      "days_exposition         20394 non-null float64\n",
      "dtypes: bool(2), float64(14), int64(3), object(3)\n",
      "memory usage: 3.6+ MB\n"
     ]
    }
   ],
   "source": [
    "data.info()"
   ]
  },
  {
   "cell_type": "markdown",
   "metadata": {},
   "source": [
    "Заменили пропущенную высоту потолков на медианную, так как скорее всего, если высота потолков нестандартная, то об этом укажут. С парками обнаружили, что если нету ближайшего парка в радиусе 3 километров, то практически всегда стоит пропуск, поэтому заменили пропуски на 4 км(считаем это очень далёким парком), а если количество ближайших парков не указанно, то скорее всего их нет."
   ]
  },
  {
   "cell_type": "markdown",
   "metadata": {},
   "source": [
    "**Вывод**"
   ]
  },
  {
   "cell_type": "markdown",
   "metadata": {},
   "source": [
    "В данных имелилось много разных пропусков, но большую часть можно каким-то образом обосновать, и заполнить, что мы и сделали."
   ]
  },
  {
   "cell_type": "markdown",
   "metadata": {},
   "source": [
    "### Обработка дубликатов"
   ]
  },
  {
   "cell_type": "code",
   "execution_count": 11,
   "metadata": {},
   "outputs": [
    {
     "data": {
      "text/html": [
       "<div>\n",
       "<style scoped>\n",
       "    .dataframe tbody tr th:only-of-type {\n",
       "        vertical-align: middle;\n",
       "    }\n",
       "\n",
       "    .dataframe tbody tr th {\n",
       "        vertical-align: top;\n",
       "    }\n",
       "\n",
       "    .dataframe thead th {\n",
       "        text-align: right;\n",
       "    }\n",
       "</style>\n",
       "<table border=\"1\" class=\"dataframe\">\n",
       "  <thead>\n",
       "    <tr style=\"text-align: right;\">\n",
       "      <th></th>\n",
       "      <th>total_images</th>\n",
       "      <th>last_price</th>\n",
       "      <th>total_area</th>\n",
       "      <th>first_day_exposition</th>\n",
       "      <th>rooms</th>\n",
       "      <th>ceiling_height</th>\n",
       "      <th>floors_total</th>\n",
       "      <th>living_area</th>\n",
       "      <th>floor</th>\n",
       "      <th>is_apartment</th>\n",
       "      <th>...</th>\n",
       "      <th>kitchen_area</th>\n",
       "      <th>balcony</th>\n",
       "      <th>locality_name</th>\n",
       "      <th>airports_nearest</th>\n",
       "      <th>cityCenters_nearest</th>\n",
       "      <th>parks_around3000</th>\n",
       "      <th>parks_nearest</th>\n",
       "      <th>ponds_around3000</th>\n",
       "      <th>ponds_nearest</th>\n",
       "      <th>days_exposition</th>\n",
       "    </tr>\n",
       "  </thead>\n",
       "  <tbody>\n",
       "    <tr>\n",
       "      <td>0</td>\n",
       "      <td>20</td>\n",
       "      <td>13000000.0</td>\n",
       "      <td>108.00</td>\n",
       "      <td>2019-03-07T00:00:00</td>\n",
       "      <td>3</td>\n",
       "      <td>2.70</td>\n",
       "      <td>16.0</td>\n",
       "      <td>51.0</td>\n",
       "      <td>8</td>\n",
       "      <td>NaN</td>\n",
       "      <td>...</td>\n",
       "      <td>25.00</td>\n",
       "      <td>0.0</td>\n",
       "      <td>санкт-петербург</td>\n",
       "      <td>18863.0</td>\n",
       "      <td>16028.0</td>\n",
       "      <td>1.0</td>\n",
       "      <td>482.0</td>\n",
       "      <td>2.0</td>\n",
       "      <td>755.0</td>\n",
       "      <td>NaN</td>\n",
       "    </tr>\n",
       "    <tr>\n",
       "      <td>1</td>\n",
       "      <td>7</td>\n",
       "      <td>3350000.0</td>\n",
       "      <td>40.40</td>\n",
       "      <td>2018-12-04T00:00:00</td>\n",
       "      <td>1</td>\n",
       "      <td>2.65</td>\n",
       "      <td>11.0</td>\n",
       "      <td>18.6</td>\n",
       "      <td>1</td>\n",
       "      <td>NaN</td>\n",
       "      <td>...</td>\n",
       "      <td>11.00</td>\n",
       "      <td>2.0</td>\n",
       "      <td>посёлок шушары</td>\n",
       "      <td>12817.0</td>\n",
       "      <td>18603.0</td>\n",
       "      <td>0.0</td>\n",
       "      <td>4000.0</td>\n",
       "      <td>0.0</td>\n",
       "      <td>4000.0</td>\n",
       "      <td>81.0</td>\n",
       "    </tr>\n",
       "    <tr>\n",
       "      <td>2</td>\n",
       "      <td>10</td>\n",
       "      <td>5196000.0</td>\n",
       "      <td>56.00</td>\n",
       "      <td>2015-08-20T00:00:00</td>\n",
       "      <td>2</td>\n",
       "      <td>2.65</td>\n",
       "      <td>5.0</td>\n",
       "      <td>34.3</td>\n",
       "      <td>4</td>\n",
       "      <td>NaN</td>\n",
       "      <td>...</td>\n",
       "      <td>8.30</td>\n",
       "      <td>0.0</td>\n",
       "      <td>санкт-петербург</td>\n",
       "      <td>21741.0</td>\n",
       "      <td>13933.0</td>\n",
       "      <td>1.0</td>\n",
       "      <td>90.0</td>\n",
       "      <td>2.0</td>\n",
       "      <td>574.0</td>\n",
       "      <td>558.0</td>\n",
       "    </tr>\n",
       "    <tr>\n",
       "      <td>3</td>\n",
       "      <td>0</td>\n",
       "      <td>64900000.0</td>\n",
       "      <td>159.00</td>\n",
       "      <td>2015-07-24T00:00:00</td>\n",
       "      <td>3</td>\n",
       "      <td>2.65</td>\n",
       "      <td>14.0</td>\n",
       "      <td>45.0</td>\n",
       "      <td>9</td>\n",
       "      <td>NaN</td>\n",
       "      <td>...</td>\n",
       "      <td>0.00</td>\n",
       "      <td>0.0</td>\n",
       "      <td>санкт-петербург</td>\n",
       "      <td>28098.0</td>\n",
       "      <td>6800.0</td>\n",
       "      <td>2.0</td>\n",
       "      <td>84.0</td>\n",
       "      <td>3.0</td>\n",
       "      <td>234.0</td>\n",
       "      <td>424.0</td>\n",
       "    </tr>\n",
       "    <tr>\n",
       "      <td>4</td>\n",
       "      <td>2</td>\n",
       "      <td>10000000.0</td>\n",
       "      <td>100.00</td>\n",
       "      <td>2018-06-19T00:00:00</td>\n",
       "      <td>2</td>\n",
       "      <td>3.03</td>\n",
       "      <td>14.0</td>\n",
       "      <td>32.0</td>\n",
       "      <td>13</td>\n",
       "      <td>NaN</td>\n",
       "      <td>...</td>\n",
       "      <td>41.00</td>\n",
       "      <td>0.0</td>\n",
       "      <td>санкт-петербург</td>\n",
       "      <td>31856.0</td>\n",
       "      <td>8098.0</td>\n",
       "      <td>2.0</td>\n",
       "      <td>112.0</td>\n",
       "      <td>1.0</td>\n",
       "      <td>48.0</td>\n",
       "      <td>121.0</td>\n",
       "    </tr>\n",
       "    <tr>\n",
       "      <td>...</td>\n",
       "      <td>...</td>\n",
       "      <td>...</td>\n",
       "      <td>...</td>\n",
       "      <td>...</td>\n",
       "      <td>...</td>\n",
       "      <td>...</td>\n",
       "      <td>...</td>\n",
       "      <td>...</td>\n",
       "      <td>...</td>\n",
       "      <td>...</td>\n",
       "      <td>...</td>\n",
       "      <td>...</td>\n",
       "      <td>...</td>\n",
       "      <td>...</td>\n",
       "      <td>...</td>\n",
       "      <td>...</td>\n",
       "      <td>...</td>\n",
       "      <td>...</td>\n",
       "      <td>...</td>\n",
       "      <td>...</td>\n",
       "      <td>...</td>\n",
       "    </tr>\n",
       "    <tr>\n",
       "      <td>23560</td>\n",
       "      <td>9</td>\n",
       "      <td>9700000.0</td>\n",
       "      <td>133.81</td>\n",
       "      <td>2017-03-21T00:00:00</td>\n",
       "      <td>3</td>\n",
       "      <td>3.70</td>\n",
       "      <td>5.0</td>\n",
       "      <td>73.3</td>\n",
       "      <td>3</td>\n",
       "      <td>NaN</td>\n",
       "      <td>...</td>\n",
       "      <td>13.83</td>\n",
       "      <td>0.0</td>\n",
       "      <td>санкт-петербург</td>\n",
       "      <td>24665.0</td>\n",
       "      <td>4232.0</td>\n",
       "      <td>1.0</td>\n",
       "      <td>796.0</td>\n",
       "      <td>3.0</td>\n",
       "      <td>381.0</td>\n",
       "      <td>NaN</td>\n",
       "    </tr>\n",
       "    <tr>\n",
       "      <td>23561</td>\n",
       "      <td>14</td>\n",
       "      <td>3100000.0</td>\n",
       "      <td>59.00</td>\n",
       "      <td>2018-01-15T00:00:00</td>\n",
       "      <td>3</td>\n",
       "      <td>2.65</td>\n",
       "      <td>5.0</td>\n",
       "      <td>38.0</td>\n",
       "      <td>4</td>\n",
       "      <td>NaN</td>\n",
       "      <td>...</td>\n",
       "      <td>8.50</td>\n",
       "      <td>0.0</td>\n",
       "      <td>тосно</td>\n",
       "      <td>NaN</td>\n",
       "      <td>NaN</td>\n",
       "      <td>0.0</td>\n",
       "      <td>4000.0</td>\n",
       "      <td>0.0</td>\n",
       "      <td>4000.0</td>\n",
       "      <td>45.0</td>\n",
       "    </tr>\n",
       "    <tr>\n",
       "      <td>23562</td>\n",
       "      <td>18</td>\n",
       "      <td>2500000.0</td>\n",
       "      <td>56.70</td>\n",
       "      <td>2018-02-11T00:00:00</td>\n",
       "      <td>2</td>\n",
       "      <td>2.65</td>\n",
       "      <td>3.0</td>\n",
       "      <td>29.7</td>\n",
       "      <td>1</td>\n",
       "      <td>NaN</td>\n",
       "      <td>...</td>\n",
       "      <td>0.00</td>\n",
       "      <td>0.0</td>\n",
       "      <td>село рождествено</td>\n",
       "      <td>NaN</td>\n",
       "      <td>NaN</td>\n",
       "      <td>0.0</td>\n",
       "      <td>4000.0</td>\n",
       "      <td>0.0</td>\n",
       "      <td>4000.0</td>\n",
       "      <td>NaN</td>\n",
       "    </tr>\n",
       "    <tr>\n",
       "      <td>23563</td>\n",
       "      <td>13</td>\n",
       "      <td>11475000.0</td>\n",
       "      <td>76.75</td>\n",
       "      <td>2017-03-28T00:00:00</td>\n",
       "      <td>2</td>\n",
       "      <td>3.00</td>\n",
       "      <td>17.0</td>\n",
       "      <td>30.5</td>\n",
       "      <td>12</td>\n",
       "      <td>NaN</td>\n",
       "      <td>...</td>\n",
       "      <td>23.30</td>\n",
       "      <td>2.0</td>\n",
       "      <td>санкт-петербург</td>\n",
       "      <td>39140.0</td>\n",
       "      <td>10364.0</td>\n",
       "      <td>2.0</td>\n",
       "      <td>173.0</td>\n",
       "      <td>3.0</td>\n",
       "      <td>196.0</td>\n",
       "      <td>602.0</td>\n",
       "    </tr>\n",
       "    <tr>\n",
       "      <td>23564</td>\n",
       "      <td>4</td>\n",
       "      <td>1350000.0</td>\n",
       "      <td>32.30</td>\n",
       "      <td>2017-07-21T00:00:00</td>\n",
       "      <td>1</td>\n",
       "      <td>2.50</td>\n",
       "      <td>5.0</td>\n",
       "      <td>12.3</td>\n",
       "      <td>1</td>\n",
       "      <td>NaN</td>\n",
       "      <td>...</td>\n",
       "      <td>9.00</td>\n",
       "      <td>0.0</td>\n",
       "      <td>поселок новый учхоз</td>\n",
       "      <td>NaN</td>\n",
       "      <td>NaN</td>\n",
       "      <td>0.0</td>\n",
       "      <td>4000.0</td>\n",
       "      <td>0.0</td>\n",
       "      <td>4000.0</td>\n",
       "      <td>NaN</td>\n",
       "    </tr>\n",
       "  </tbody>\n",
       "</table>\n",
       "<p>23565 rows × 22 columns</p>\n",
       "</div>"
      ],
      "text/plain": [
       "       total_images  last_price  total_area first_day_exposition  rooms  \\\n",
       "0                20  13000000.0      108.00  2019-03-07T00:00:00      3   \n",
       "1                 7   3350000.0       40.40  2018-12-04T00:00:00      1   \n",
       "2                10   5196000.0       56.00  2015-08-20T00:00:00      2   \n",
       "3                 0  64900000.0      159.00  2015-07-24T00:00:00      3   \n",
       "4                 2  10000000.0      100.00  2018-06-19T00:00:00      2   \n",
       "...             ...         ...         ...                  ...    ...   \n",
       "23560             9   9700000.0      133.81  2017-03-21T00:00:00      3   \n",
       "23561            14   3100000.0       59.00  2018-01-15T00:00:00      3   \n",
       "23562            18   2500000.0       56.70  2018-02-11T00:00:00      2   \n",
       "23563            13  11475000.0       76.75  2017-03-28T00:00:00      2   \n",
       "23564             4   1350000.0       32.30  2017-07-21T00:00:00      1   \n",
       "\n",
       "       ceiling_height  floors_total  living_area  floor is_apartment  ...  \\\n",
       "0                2.70          16.0         51.0      8          NaN  ...   \n",
       "1                2.65          11.0         18.6      1          NaN  ...   \n",
       "2                2.65           5.0         34.3      4          NaN  ...   \n",
       "3                2.65          14.0         45.0      9          NaN  ...   \n",
       "4                3.03          14.0         32.0     13          NaN  ...   \n",
       "...               ...           ...          ...    ...          ...  ...   \n",
       "23560            3.70           5.0         73.3      3          NaN  ...   \n",
       "23561            2.65           5.0         38.0      4          NaN  ...   \n",
       "23562            2.65           3.0         29.7      1          NaN  ...   \n",
       "23563            3.00          17.0         30.5     12          NaN  ...   \n",
       "23564            2.50           5.0         12.3      1          NaN  ...   \n",
       "\n",
       "       kitchen_area  balcony        locality_name  airports_nearest  \\\n",
       "0             25.00      0.0      санкт-петербург           18863.0   \n",
       "1             11.00      2.0       посёлок шушары           12817.0   \n",
       "2              8.30      0.0      санкт-петербург           21741.0   \n",
       "3              0.00      0.0      санкт-петербург           28098.0   \n",
       "4             41.00      0.0      санкт-петербург           31856.0   \n",
       "...             ...      ...                  ...               ...   \n",
       "23560         13.83      0.0      санкт-петербург           24665.0   \n",
       "23561          8.50      0.0                тосно               NaN   \n",
       "23562          0.00      0.0     село рождествено               NaN   \n",
       "23563         23.30      2.0      санкт-петербург           39140.0   \n",
       "23564          9.00      0.0  поселок новый учхоз               NaN   \n",
       "\n",
       "      cityCenters_nearest  parks_around3000  parks_nearest  ponds_around3000  \\\n",
       "0                 16028.0               1.0          482.0               2.0   \n",
       "1                 18603.0               0.0         4000.0               0.0   \n",
       "2                 13933.0               1.0           90.0               2.0   \n",
       "3                  6800.0               2.0           84.0               3.0   \n",
       "4                  8098.0               2.0          112.0               1.0   \n",
       "...                   ...               ...            ...               ...   \n",
       "23560              4232.0               1.0          796.0               3.0   \n",
       "23561                 NaN               0.0         4000.0               0.0   \n",
       "23562                 NaN               0.0         4000.0               0.0   \n",
       "23563             10364.0               2.0          173.0               3.0   \n",
       "23564                 NaN               0.0         4000.0               0.0   \n",
       "\n",
       "       ponds_nearest  days_exposition  \n",
       "0              755.0              NaN  \n",
       "1             4000.0             81.0  \n",
       "2              574.0            558.0  \n",
       "3              234.0            424.0  \n",
       "4               48.0            121.0  \n",
       "...              ...              ...  \n",
       "23560          381.0              NaN  \n",
       "23561         4000.0             45.0  \n",
       "23562         4000.0              NaN  \n",
       "23563          196.0            602.0  \n",
       "23564         4000.0              NaN  \n",
       "\n",
       "[23565 rows x 22 columns]"
      ]
     },
     "execution_count": 11,
     "metadata": {},
     "output_type": "execute_result"
    }
   ],
   "source": [
    "data['locality_name'] = data['locality_name'].str.lower()\n",
    "data = data.drop_duplicates().reset_index(drop = True)\n",
    "data"
   ]
  },
  {
   "cell_type": "markdown",
   "metadata": {},
   "source": [
    "**Вывод**"
   ]
  },
  {
   "cell_type": "markdown",
   "metadata": {},
   "source": [
    "Как оказалось дубликатов на этот раз нет."
   ]
  },
  {
   "cell_type": "markdown",
   "metadata": {},
   "source": [
    "### Замена типа данных"
   ]
  },
  {
   "cell_type": "code",
   "execution_count": 12,
   "metadata": {},
   "outputs": [
    {
     "name": "stdout",
     "output_type": "stream",
     "text": [
      "<class 'pandas.core.frame.DataFrame'>\n",
      "RangeIndex: 23565 entries, 0 to 23564\n",
      "Data columns (total 22 columns):\n",
      "total_images            23565 non-null int64\n",
      "last_price              23565 non-null int64\n",
      "total_area              23565 non-null float64\n",
      "first_day_exposition    23565 non-null datetime64[ns]\n",
      "rooms                   23565 non-null int64\n",
      "ceiling_height          23565 non-null float64\n",
      "floors_total            23565 non-null int64\n",
      "living_area             23565 non-null float64\n",
      "floor                   23565 non-null int64\n",
      "is_apartment            2760 non-null object\n",
      "studio                  23565 non-null bool\n",
      "open_plan               23565 non-null bool\n",
      "kitchen_area            23565 non-null float64\n",
      "balcony                 23565 non-null float64\n",
      "locality_name           23565 non-null object\n",
      "airports_nearest        18041 non-null float64\n",
      "cityCenters_nearest     18064 non-null float64\n",
      "parks_around3000        23565 non-null int64\n",
      "parks_nearest           23565 non-null int64\n",
      "ponds_around3000        23565 non-null int64\n",
      "ponds_nearest           23565 non-null int64\n",
      "days_exposition         20394 non-null float64\n",
      "dtypes: bool(2), datetime64[ns](1), float64(8), int64(9), object(2)\n",
      "memory usage: 3.6+ MB\n"
     ]
    }
   ],
   "source": [
    "data['cityCenters_nearest'] = data['cityCenters_nearest'].fillna(1000000)\n",
    "data['airports_nearest'] = data['airports_nearest'].fillna(1000000)\n",
    "data['days_exposition'] = data['days_exposition'].fillna(1000000)\n",
    "\n",
    "data['last_price'] = data['last_price'].astype(int)\n",
    "data['floors_total'] = data['floors_total'].astype(int)\n",
    "data['airports_nearest'] = data['airports_nearest'].astype(int)\n",
    "data['cityCenters_nearest'] = data['cityCenters_nearest'].astype(int)\n",
    "data['parks_around3000'] = data['parks_around3000'].astype(int)\n",
    "data['parks_nearest'] = data['parks_nearest'].astype(int)\n",
    "data['ponds_around3000'] = data['ponds_around3000'].astype(int)\n",
    "data['ponds_nearest'] = data['ponds_nearest'].astype(int)\n",
    "data['days_exposition'] = data['days_exposition'].astype(int)\n",
    "data['first_day_exposition'] = pd.to_datetime(\n",
    "    data['first_day_exposition'], format='%Y-%m-%dT%H:%M:%S'\n",
    ")\n",
    "\n",
    "data.loc[data['airports_nearest'] == 1000000, 'airports_nearest'] = np.nan\n",
    "data.loc[data['cityCenters_nearest'] == 1000000, 'cityCenters_nearest'] = np.nan\n",
    "data.loc[data['days_exposition'] == 1000000, 'days_exposition'] = np.nan\n",
    "data.info()"
   ]
  },
  {
   "cell_type": "markdown",
   "metadata": {},
   "source": [
    "**Вывод**"
   ]
  },
  {
   "cell_type": "markdown",
   "metadata": {},
   "source": [
    "Заменили тип всех значений, которые не могут быть поделены на части, а также те значения, для которых дробная часть не имеет большого значения на int."
   ]
  },
  {
   "cell_type": "markdown",
   "metadata": {},
   "source": [
    "## Расчёты и добавление результатов в таблицу"
   ]
  },
  {
   "cell_type": "code",
   "execution_count": 13,
   "metadata": {},
   "outputs": [
    {
     "data": {
      "text/html": [
       "<div>\n",
       "<style scoped>\n",
       "    .dataframe tbody tr th:only-of-type {\n",
       "        vertical-align: middle;\n",
       "    }\n",
       "\n",
       "    .dataframe tbody tr th {\n",
       "        vertical-align: top;\n",
       "    }\n",
       "\n",
       "    .dataframe thead th {\n",
       "        text-align: right;\n",
       "    }\n",
       "</style>\n",
       "<table border=\"1\" class=\"dataframe\">\n",
       "  <thead>\n",
       "    <tr style=\"text-align: right;\">\n",
       "      <th></th>\n",
       "      <th>total_images</th>\n",
       "      <th>last_price</th>\n",
       "      <th>total_area</th>\n",
       "      <th>first_day_exposition</th>\n",
       "      <th>rooms</th>\n",
       "      <th>ceiling_height</th>\n",
       "      <th>floors_total</th>\n",
       "      <th>living_area</th>\n",
       "      <th>floor</th>\n",
       "      <th>is_apartment</th>\n",
       "      <th>...</th>\n",
       "      <th>ponds_around3000</th>\n",
       "      <th>ponds_nearest</th>\n",
       "      <th>days_exposition</th>\n",
       "      <th>square_meter</th>\n",
       "      <th>day_of_week</th>\n",
       "      <th>month_of_exposition</th>\n",
       "      <th>year_of_exposition</th>\n",
       "      <th>floor_category</th>\n",
       "      <th>living_area_part</th>\n",
       "      <th>kitchen_area_part</th>\n",
       "    </tr>\n",
       "  </thead>\n",
       "  <tbody>\n",
       "    <tr>\n",
       "      <td>0</td>\n",
       "      <td>20</td>\n",
       "      <td>13000000</td>\n",
       "      <td>108.00</td>\n",
       "      <td>2019-03-07</td>\n",
       "      <td>3</td>\n",
       "      <td>2.70</td>\n",
       "      <td>16</td>\n",
       "      <td>51.0</td>\n",
       "      <td>8</td>\n",
       "      <td>NaN</td>\n",
       "      <td>...</td>\n",
       "      <td>2</td>\n",
       "      <td>755</td>\n",
       "      <td>NaN</td>\n",
       "      <td>120370.370370</td>\n",
       "      <td>Thursday</td>\n",
       "      <td>3</td>\n",
       "      <td>2019</td>\n",
       "      <td>другой</td>\n",
       "      <td>0.472222</td>\n",
       "      <td>0.231481</td>\n",
       "    </tr>\n",
       "    <tr>\n",
       "      <td>1</td>\n",
       "      <td>7</td>\n",
       "      <td>3350000</td>\n",
       "      <td>40.40</td>\n",
       "      <td>2018-12-04</td>\n",
       "      <td>1</td>\n",
       "      <td>2.65</td>\n",
       "      <td>11</td>\n",
       "      <td>18.6</td>\n",
       "      <td>1</td>\n",
       "      <td>NaN</td>\n",
       "      <td>...</td>\n",
       "      <td>0</td>\n",
       "      <td>4000</td>\n",
       "      <td>81.0</td>\n",
       "      <td>82920.792079</td>\n",
       "      <td>Tuesday</td>\n",
       "      <td>12</td>\n",
       "      <td>2018</td>\n",
       "      <td>первый</td>\n",
       "      <td>0.460396</td>\n",
       "      <td>0.272277</td>\n",
       "    </tr>\n",
       "    <tr>\n",
       "      <td>2</td>\n",
       "      <td>10</td>\n",
       "      <td>5196000</td>\n",
       "      <td>56.00</td>\n",
       "      <td>2015-08-20</td>\n",
       "      <td>2</td>\n",
       "      <td>2.65</td>\n",
       "      <td>5</td>\n",
       "      <td>34.3</td>\n",
       "      <td>4</td>\n",
       "      <td>NaN</td>\n",
       "      <td>...</td>\n",
       "      <td>2</td>\n",
       "      <td>574</td>\n",
       "      <td>558.0</td>\n",
       "      <td>92785.714286</td>\n",
       "      <td>Thursday</td>\n",
       "      <td>8</td>\n",
       "      <td>2015</td>\n",
       "      <td>другой</td>\n",
       "      <td>0.612500</td>\n",
       "      <td>0.148214</td>\n",
       "    </tr>\n",
       "    <tr>\n",
       "      <td>3</td>\n",
       "      <td>0</td>\n",
       "      <td>64900000</td>\n",
       "      <td>159.00</td>\n",
       "      <td>2015-07-24</td>\n",
       "      <td>3</td>\n",
       "      <td>2.65</td>\n",
       "      <td>14</td>\n",
       "      <td>45.0</td>\n",
       "      <td>9</td>\n",
       "      <td>NaN</td>\n",
       "      <td>...</td>\n",
       "      <td>3</td>\n",
       "      <td>234</td>\n",
       "      <td>424.0</td>\n",
       "      <td>408176.100629</td>\n",
       "      <td>Friday</td>\n",
       "      <td>7</td>\n",
       "      <td>2015</td>\n",
       "      <td>другой</td>\n",
       "      <td>0.283019</td>\n",
       "      <td>0.000000</td>\n",
       "    </tr>\n",
       "    <tr>\n",
       "      <td>4</td>\n",
       "      <td>2</td>\n",
       "      <td>10000000</td>\n",
       "      <td>100.00</td>\n",
       "      <td>2018-06-19</td>\n",
       "      <td>2</td>\n",
       "      <td>3.03</td>\n",
       "      <td>14</td>\n",
       "      <td>32.0</td>\n",
       "      <td>13</td>\n",
       "      <td>NaN</td>\n",
       "      <td>...</td>\n",
       "      <td>1</td>\n",
       "      <td>48</td>\n",
       "      <td>121.0</td>\n",
       "      <td>100000.000000</td>\n",
       "      <td>Tuesday</td>\n",
       "      <td>6</td>\n",
       "      <td>2018</td>\n",
       "      <td>другой</td>\n",
       "      <td>0.320000</td>\n",
       "      <td>0.410000</td>\n",
       "    </tr>\n",
       "    <tr>\n",
       "      <td>...</td>\n",
       "      <td>...</td>\n",
       "      <td>...</td>\n",
       "      <td>...</td>\n",
       "      <td>...</td>\n",
       "      <td>...</td>\n",
       "      <td>...</td>\n",
       "      <td>...</td>\n",
       "      <td>...</td>\n",
       "      <td>...</td>\n",
       "      <td>...</td>\n",
       "      <td>...</td>\n",
       "      <td>...</td>\n",
       "      <td>...</td>\n",
       "      <td>...</td>\n",
       "      <td>...</td>\n",
       "      <td>...</td>\n",
       "      <td>...</td>\n",
       "      <td>...</td>\n",
       "      <td>...</td>\n",
       "      <td>...</td>\n",
       "      <td>...</td>\n",
       "    </tr>\n",
       "    <tr>\n",
       "      <td>23560</td>\n",
       "      <td>9</td>\n",
       "      <td>9700000</td>\n",
       "      <td>133.81</td>\n",
       "      <td>2017-03-21</td>\n",
       "      <td>3</td>\n",
       "      <td>3.70</td>\n",
       "      <td>5</td>\n",
       "      <td>73.3</td>\n",
       "      <td>3</td>\n",
       "      <td>NaN</td>\n",
       "      <td>...</td>\n",
       "      <td>3</td>\n",
       "      <td>381</td>\n",
       "      <td>NaN</td>\n",
       "      <td>72490.845228</td>\n",
       "      <td>Tuesday</td>\n",
       "      <td>3</td>\n",
       "      <td>2017</td>\n",
       "      <td>другой</td>\n",
       "      <td>0.547792</td>\n",
       "      <td>0.103356</td>\n",
       "    </tr>\n",
       "    <tr>\n",
       "      <td>23561</td>\n",
       "      <td>14</td>\n",
       "      <td>3100000</td>\n",
       "      <td>59.00</td>\n",
       "      <td>2018-01-15</td>\n",
       "      <td>3</td>\n",
       "      <td>2.65</td>\n",
       "      <td>5</td>\n",
       "      <td>38.0</td>\n",
       "      <td>4</td>\n",
       "      <td>NaN</td>\n",
       "      <td>...</td>\n",
       "      <td>0</td>\n",
       "      <td>4000</td>\n",
       "      <td>45.0</td>\n",
       "      <td>52542.372881</td>\n",
       "      <td>Monday</td>\n",
       "      <td>1</td>\n",
       "      <td>2018</td>\n",
       "      <td>другой</td>\n",
       "      <td>0.644068</td>\n",
       "      <td>0.144068</td>\n",
       "    </tr>\n",
       "    <tr>\n",
       "      <td>23562</td>\n",
       "      <td>18</td>\n",
       "      <td>2500000</td>\n",
       "      <td>56.70</td>\n",
       "      <td>2018-02-11</td>\n",
       "      <td>2</td>\n",
       "      <td>2.65</td>\n",
       "      <td>3</td>\n",
       "      <td>29.7</td>\n",
       "      <td>1</td>\n",
       "      <td>NaN</td>\n",
       "      <td>...</td>\n",
       "      <td>0</td>\n",
       "      <td>4000</td>\n",
       "      <td>NaN</td>\n",
       "      <td>44091.710758</td>\n",
       "      <td>Sunday</td>\n",
       "      <td>2</td>\n",
       "      <td>2018</td>\n",
       "      <td>первый</td>\n",
       "      <td>0.523810</td>\n",
       "      <td>0.000000</td>\n",
       "    </tr>\n",
       "    <tr>\n",
       "      <td>23563</td>\n",
       "      <td>13</td>\n",
       "      <td>11475000</td>\n",
       "      <td>76.75</td>\n",
       "      <td>2017-03-28</td>\n",
       "      <td>2</td>\n",
       "      <td>3.00</td>\n",
       "      <td>17</td>\n",
       "      <td>30.5</td>\n",
       "      <td>12</td>\n",
       "      <td>NaN</td>\n",
       "      <td>...</td>\n",
       "      <td>3</td>\n",
       "      <td>196</td>\n",
       "      <td>602.0</td>\n",
       "      <td>149511.400651</td>\n",
       "      <td>Tuesday</td>\n",
       "      <td>3</td>\n",
       "      <td>2017</td>\n",
       "      <td>другой</td>\n",
       "      <td>0.397394</td>\n",
       "      <td>0.303583</td>\n",
       "    </tr>\n",
       "    <tr>\n",
       "      <td>23564</td>\n",
       "      <td>4</td>\n",
       "      <td>1350000</td>\n",
       "      <td>32.30</td>\n",
       "      <td>2017-07-21</td>\n",
       "      <td>1</td>\n",
       "      <td>2.50</td>\n",
       "      <td>5</td>\n",
       "      <td>12.3</td>\n",
       "      <td>1</td>\n",
       "      <td>NaN</td>\n",
       "      <td>...</td>\n",
       "      <td>0</td>\n",
       "      <td>4000</td>\n",
       "      <td>NaN</td>\n",
       "      <td>41795.665635</td>\n",
       "      <td>Friday</td>\n",
       "      <td>7</td>\n",
       "      <td>2017</td>\n",
       "      <td>первый</td>\n",
       "      <td>0.380805</td>\n",
       "      <td>0.278638</td>\n",
       "    </tr>\n",
       "  </tbody>\n",
       "</table>\n",
       "<p>23565 rows × 29 columns</p>\n",
       "</div>"
      ],
      "text/plain": [
       "       total_images  last_price  total_area first_day_exposition  rooms  \\\n",
       "0                20    13000000      108.00           2019-03-07      3   \n",
       "1                 7     3350000       40.40           2018-12-04      1   \n",
       "2                10     5196000       56.00           2015-08-20      2   \n",
       "3                 0    64900000      159.00           2015-07-24      3   \n",
       "4                 2    10000000      100.00           2018-06-19      2   \n",
       "...             ...         ...         ...                  ...    ...   \n",
       "23560             9     9700000      133.81           2017-03-21      3   \n",
       "23561            14     3100000       59.00           2018-01-15      3   \n",
       "23562            18     2500000       56.70           2018-02-11      2   \n",
       "23563            13    11475000       76.75           2017-03-28      2   \n",
       "23564             4     1350000       32.30           2017-07-21      1   \n",
       "\n",
       "       ceiling_height  floors_total  living_area  floor is_apartment  ...  \\\n",
       "0                2.70            16         51.0      8          NaN  ...   \n",
       "1                2.65            11         18.6      1          NaN  ...   \n",
       "2                2.65             5         34.3      4          NaN  ...   \n",
       "3                2.65            14         45.0      9          NaN  ...   \n",
       "4                3.03            14         32.0     13          NaN  ...   \n",
       "...               ...           ...          ...    ...          ...  ...   \n",
       "23560            3.70             5         73.3      3          NaN  ...   \n",
       "23561            2.65             5         38.0      4          NaN  ...   \n",
       "23562            2.65             3         29.7      1          NaN  ...   \n",
       "23563            3.00            17         30.5     12          NaN  ...   \n",
       "23564            2.50             5         12.3      1          NaN  ...   \n",
       "\n",
       "       ponds_around3000  ponds_nearest  days_exposition   square_meter  \\\n",
       "0                     2            755              NaN  120370.370370   \n",
       "1                     0           4000             81.0   82920.792079   \n",
       "2                     2            574            558.0   92785.714286   \n",
       "3                     3            234            424.0  408176.100629   \n",
       "4                     1             48            121.0  100000.000000   \n",
       "...                 ...            ...              ...            ...   \n",
       "23560                 3            381              NaN   72490.845228   \n",
       "23561                 0           4000             45.0   52542.372881   \n",
       "23562                 0           4000              NaN   44091.710758   \n",
       "23563                 3            196            602.0  149511.400651   \n",
       "23564                 0           4000              NaN   41795.665635   \n",
       "\n",
       "      day_of_week  month_of_exposition  year_of_exposition  floor_category  \\\n",
       "0        Thursday                    3                2019          другой   \n",
       "1         Tuesday                   12                2018          первый   \n",
       "2        Thursday                    8                2015          другой   \n",
       "3          Friday                    7                2015          другой   \n",
       "4         Tuesday                    6                2018          другой   \n",
       "...           ...                  ...                 ...             ...   \n",
       "23560     Tuesday                    3                2017          другой   \n",
       "23561      Monday                    1                2018          другой   \n",
       "23562      Sunday                    2                2018          первый   \n",
       "23563     Tuesday                    3                2017          другой   \n",
       "23564      Friday                    7                2017          первый   \n",
       "\n",
       "       living_area_part  kitchen_area_part  \n",
       "0              0.472222           0.231481  \n",
       "1              0.460396           0.272277  \n",
       "2              0.612500           0.148214  \n",
       "3              0.283019           0.000000  \n",
       "4              0.320000           0.410000  \n",
       "...                 ...                ...  \n",
       "23560          0.547792           0.103356  \n",
       "23561          0.644068           0.144068  \n",
       "23562          0.523810           0.000000  \n",
       "23563          0.397394           0.303583  \n",
       "23564          0.380805           0.278638  \n",
       "\n",
       "[23565 rows x 29 columns]"
      ]
     },
     "execution_count": 13,
     "metadata": {},
     "output_type": "execute_result"
    }
   ],
   "source": [
    "data['square_meter'] = data['last_price'] / data['total_area']\n",
    "data['day_of_week'] = data['first_day_exposition'].dt.weekday_name\n",
    "data['month_of_exposition'] = data['first_day_exposition'].dt.month\n",
    "data['year_of_exposition'] = data['first_day_exposition'].dt.year\n",
    "data['floor_category'] = data['floor'].where(data['floor'] != 1, 'первый')\n",
    "data['floor_category'] = data['floor_category'].where(data['floor'] != data['floors_total'], 'последний')\n",
    "data['floor_category'] = data['floor_category'].where(~((data['floor_category'] != 'первый') & (data['floor_category'] != 'последний')), 'другой')\n",
    "data['living_area_part'] = data['living_area'] / data['total_area']\n",
    "data['kitchen_area_part'] = data['kitchen_area'] / data['total_area']\n",
    "data"
   ]
  },
  {
   "cell_type": "markdown",
   "metadata": {},
   "source": [
    "Подсчёт стоимости квадратного метра, отношение жилой площади к общей и кухни к общей - очевидно. Создание столбцов дня недели, месяца и года - взятие нужного атрибута из столбца 'days_exposition'. Категория этажа - через метод where, последовательно меняя номер этажа на нужное нам значение при помощи логического условия."
   ]
  },
  {
   "cell_type": "markdown",
   "metadata": {},
   "source": [
    "## Исследовательский анализ данных"
   ]
  },
  {
   "cell_type": "markdown",
   "metadata": {},
   "source": [
    "### Исследование цены, площади и высоты потолков"
   ]
  },
  {
   "cell_type": "code",
   "execution_count": 14,
   "metadata": {},
   "outputs": [],
   "source": [
    "def histsConstructor(dataFrame, titles, values, bins, ranges):\n",
    "    for i in range(len(titles)):\n",
    "        dataFrame.plot(title = titles[i], kind = 'hist', y = values[i], bins = bins[i], range = ranges[i])"
   ]
  },
  {
   "cell_type": "code",
   "execution_count": 15,
   "metadata": {},
   "outputs": [
    {
     "name": "stdout",
     "output_type": "stream",
     "text": [
      "Медианная площадь: 52.0\n",
      "Медианная цена квартры: 4646000.0\n",
      "Медианная высота потолков: 2.65\n"
     ]
    },
    {
     "data": {
      "text/plain": [
       "<matplotlib.axes._subplots.AxesSubplot at 0x7f31ca4c3c50>"
      ]
     },
     "execution_count": 15,
     "metadata": {},
     "output_type": "execute_result"
    },
    {
     "data": {
      "image/png": "[encoded data removed]",
      "text/plain": [
       "<Figure size 432x288 with 1 Axes>"
      ]
     },
     "metadata": {
      "needs_background": "light"
     },
     "output_type": "display_data"
    },
    {
     "data": {
      "image/png": "[encoded data removed]",
      "text/plain": [
       "<Figure size 432x288 with 1 Axes>"
      ]
     },
     "metadata": {
      "needs_background": "light"
     },
     "output_type": "display_data"
    },
    {
     "data": {
      "image/png": "[encoded data removed]",
      "text/plain": [
       "<Figure size 432x288 with 1 Axes>"
      ]
     },
     "metadata": {
      "needs_background": "light"
     },
     "output_type": "display_data"
    },
    {
     "data": {
      "image/png": "[encoded data removed]",
      "text/plain": [
       "<Figure size 432x288 with 1 Axes>"
      ]
     },
     "metadata": {
      "needs_background": "light"
     },
     "output_type": "display_data"
    }
   ],
   "source": [
    "print('Медианная площадь:', data['total_area'].median())\n",
    "print('Медианная цена квартры:', data['last_price'].median())\n",
    "print('Медианная высота потолков:',data['ceiling_height'].median())\n",
    "titles = ['Площади квартир', 'Цены на квартры на момент снятия с публикации', 'Высота потолков']\n",
    "hists_values = ['total_area', 'last_price', 'ceiling_height']\n",
    "bins = [150, 150, 20]\n",
    "ranges = [(0, 250), (0, 8*10**7), (1, 5)]\n",
    "histsConstructor(data, titles, hists_values, bins, ranges)\n",
    "primal_data.plot( title = 'Высота потолков', kind = 'hist', y = 'ceiling_height', bins = 20, range = (1, 5))"
   ]
  },
  {
   "cell_type": "markdown",
   "metadata": {},
   "source": [
    "**Вывод**"
   ]
  },
  {
   "cell_type": "markdown",
   "metadata": {},
   "source": [
    "Все графики имеют распределение Пусассона, что говорит нам о том, что данные по большей части верны. Логично, что квартир с маленькой площадью - больше, чем с большой; аналогично с ценой и высотой потолков. Также проверили как изменился график распределения высоты потолков после нашего \"грубого\" заполнения пропусков. График практически не изменился, что говорит нам о том, что наше заполнение не сильно исказило данные."
   ]
  },
  {
   "cell_type": "markdown",
   "metadata": {},
   "source": [
    "### Сколько обычно занимает продажа?"
   ]
  },
  {
   "cell_type": "code",
   "execution_count": 16,
   "metadata": {},
   "outputs": [
    {
     "name": "stdout",
     "output_type": "stream",
     "text": [
      "Среднее время продажи:  180.7413945278023\n",
      "Медианное время продажи 95.0\n"
     ]
    },
    {
     "data": {
      "image/png": "[encoded data removed]",
      "text/plain": [
       "<Figure size 432x288 with 1 Axes>"
      ]
     },
     "metadata": {
      "needs_background": "light"
     },
     "output_type": "display_data"
    }
   ],
   "source": [
    "data.plot(title = 'days_exposition', kind = 'hist', y = 'days_exposition', bins = 100, range = (0, 1500))\n",
    "print('Среднее время продажи: ',data['days_exposition'].mean())\n",
    "print('Медианное время продажи',data['days_exposition'].median())"
   ]
  },
  {
   "cell_type": "markdown",
   "metadata": {},
   "source": [
    "**Вывод**"
   ]
  },
  {
   "cell_type": "markdown",
   "metadata": {},
   "source": [
    "Обычно продажа квартиры занимает примерно 3 месяца, однако есть сильно выбивающиеся значения. Некоторые квартиры продаются и по 4 года, эти значения довольно сильно сместили значение среднего. Необычайно долгие продажи - более трёх лет. Они встреаются крайне редко и их частота практически сливаются с нулём."
   ]
  },
  {
   "cell_type": "markdown",
   "metadata": {},
   "source": [
    "### Удаление редких и выбивающихся значений."
   ]
  },
  {
   "cell_type": "code",
   "execution_count": 17,
   "metadata": {},
   "outputs": [
    {
     "data": {
      "text/html": [
       "<div>\n",
       "<style scoped>\n",
       "    .dataframe tbody tr th:only-of-type {\n",
       "        vertical-align: middle;\n",
       "    }\n",
       "\n",
       "    .dataframe tbody tr th {\n",
       "        vertical-align: top;\n",
       "    }\n",
       "\n",
       "    .dataframe thead th {\n",
       "        text-align: right;\n",
       "    }\n",
       "</style>\n",
       "<table border=\"1\" class=\"dataframe\">\n",
       "  <thead>\n",
       "    <tr style=\"text-align: right;\">\n",
       "      <th></th>\n",
       "      <th>total_images</th>\n",
       "      <th>last_price</th>\n",
       "      <th>total_area</th>\n",
       "      <th>rooms</th>\n",
       "      <th>ceiling_height</th>\n",
       "      <th>floors_total</th>\n",
       "      <th>living_area</th>\n",
       "      <th>floor</th>\n",
       "      <th>kitchen_area</th>\n",
       "      <th>balcony</th>\n",
       "      <th>...</th>\n",
       "      <th>parks_around3000</th>\n",
       "      <th>parks_nearest</th>\n",
       "      <th>ponds_around3000</th>\n",
       "      <th>ponds_nearest</th>\n",
       "      <th>days_exposition</th>\n",
       "      <th>square_meter</th>\n",
       "      <th>month_of_exposition</th>\n",
       "      <th>year_of_exposition</th>\n",
       "      <th>living_area_part</th>\n",
       "      <th>kitchen_area_part</th>\n",
       "    </tr>\n",
       "  </thead>\n",
       "  <tbody>\n",
       "    <tr>\n",
       "      <td>count</td>\n",
       "      <td>19851.000000</td>\n",
       "      <td>1.985100e+04</td>\n",
       "      <td>19851.000000</td>\n",
       "      <td>19851.000000</td>\n",
       "      <td>19851.000000</td>\n",
       "      <td>19851.000000</td>\n",
       "      <td>19851.000000</td>\n",
       "      <td>19851.000000</td>\n",
       "      <td>19851.000000</td>\n",
       "      <td>19851.000000</td>\n",
       "      <td>...</td>\n",
       "      <td>19851.000000</td>\n",
       "      <td>19851.000000</td>\n",
       "      <td>19851.000000</td>\n",
       "      <td>19851.000000</td>\n",
       "      <td>19851.000000</td>\n",
       "      <td>19851.000000</td>\n",
       "      <td>19851.000000</td>\n",
       "      <td>19851.000000</td>\n",
       "      <td>19851.000000</td>\n",
       "      <td>19851.000000</td>\n",
       "    </tr>\n",
       "    <tr>\n",
       "      <td>mean</td>\n",
       "      <td>9.623747</td>\n",
       "      <td>5.513013e+06</td>\n",
       "      <td>56.612473</td>\n",
       "      <td>1.989723</td>\n",
       "      <td>2.684394</td>\n",
       "      <td>10.908468</td>\n",
       "      <td>32.289764</td>\n",
       "      <td>5.987608</td>\n",
       "      <td>9.155211</td>\n",
       "      <td>0.597199</td>\n",
       "      <td>...</td>\n",
       "      <td>0.451715</td>\n",
       "      <td>2834.249559</td>\n",
       "      <td>0.571155</td>\n",
       "      <td>2689.851141</td>\n",
       "      <td>166.230467</td>\n",
       "      <td>95344.562174</td>\n",
       "      <td>6.584958</td>\n",
       "      <td>2017.254647</td>\n",
       "      <td>0.563063</td>\n",
       "      <td>0.170899</td>\n",
       "    </tr>\n",
       "    <tr>\n",
       "      <td>std</td>\n",
       "      <td>5.638438</td>\n",
       "      <td>3.814204e+06</td>\n",
       "      <td>25.672547</td>\n",
       "      <td>0.989922</td>\n",
       "      <td>0.190624</td>\n",
       "      <td>6.664930</td>\n",
       "      <td>17.035577</td>\n",
       "      <td>4.941721</td>\n",
       "      <td>5.497267</td>\n",
       "      <td>0.951446</td>\n",
       "      <td>...</td>\n",
       "      <td>0.731737</td>\n",
       "      <td>1664.208018</td>\n",
       "      <td>0.865232</td>\n",
       "      <td>1692.464874</td>\n",
       "      <td>186.713865</td>\n",
       "      <td>34011.999084</td>\n",
       "      <td>3.482692</td>\n",
       "      <td>0.929607</td>\n",
       "      <td>0.110036</td>\n",
       "      <td>0.088936</td>\n",
       "    </tr>\n",
       "    <tr>\n",
       "      <td>min</td>\n",
       "      <td>0.000000</td>\n",
       "      <td>1.219000e+04</td>\n",
       "      <td>12.000000</td>\n",
       "      <td>0.000000</td>\n",
       "      <td>2.200000</td>\n",
       "      <td>1.000000</td>\n",
       "      <td>2.000000</td>\n",
       "      <td>1.000000</td>\n",
       "      <td>0.000000</td>\n",
       "      <td>0.000000</td>\n",
       "      <td>...</td>\n",
       "      <td>0.000000</td>\n",
       "      <td>1.000000</td>\n",
       "      <td>0.000000</td>\n",
       "      <td>13.000000</td>\n",
       "      <td>1.000000</td>\n",
       "      <td>111.834862</td>\n",
       "      <td>1.000000</td>\n",
       "      <td>2014.000000</td>\n",
       "      <td>0.038462</td>\n",
       "      <td>0.000000</td>\n",
       "    </tr>\n",
       "    <tr>\n",
       "      <td>25%</td>\n",
       "      <td>6.000000</td>\n",
       "      <td>3.390000e+06</td>\n",
       "      <td>39.200000</td>\n",
       "      <td>1.000000</td>\n",
       "      <td>2.600000</td>\n",
       "      <td>5.000000</td>\n",
       "      <td>18.000000</td>\n",
       "      <td>2.000000</td>\n",
       "      <td>6.300000</td>\n",
       "      <td>0.000000</td>\n",
       "      <td>...</td>\n",
       "      <td>0.000000</td>\n",
       "      <td>618.000000</td>\n",
       "      <td>0.000000</td>\n",
       "      <td>652.000000</td>\n",
       "      <td>44.000000</td>\n",
       "      <td>76190.476190</td>\n",
       "      <td>3.000000</td>\n",
       "      <td>2017.000000</td>\n",
       "      <td>0.488889</td>\n",
       "      <td>0.122727</td>\n",
       "    </tr>\n",
       "    <tr>\n",
       "      <td>50%</td>\n",
       "      <td>9.000000</td>\n",
       "      <td>4.500000e+06</td>\n",
       "      <td>50.000000</td>\n",
       "      <td>2.000000</td>\n",
       "      <td>2.650000</td>\n",
       "      <td>9.000000</td>\n",
       "      <td>30.000000</td>\n",
       "      <td>4.000000</td>\n",
       "      <td>8.710000</td>\n",
       "      <td>0.000000</td>\n",
       "      <td>...</td>\n",
       "      <td>0.000000</td>\n",
       "      <td>4000.000000</td>\n",
       "      <td>0.000000</td>\n",
       "      <td>4000.000000</td>\n",
       "      <td>92.000000</td>\n",
       "      <td>93665.158371</td>\n",
       "      <td>7.000000</td>\n",
       "      <td>2017.000000</td>\n",
       "      <td>0.564544</td>\n",
       "      <td>0.164894</td>\n",
       "    </tr>\n",
       "    <tr>\n",
       "      <td>75%</td>\n",
       "      <td>14.000000</td>\n",
       "      <td>6.355068e+06</td>\n",
       "      <td>66.650000</td>\n",
       "      <td>3.000000</td>\n",
       "      <td>2.700000</td>\n",
       "      <td>16.000000</td>\n",
       "      <td>41.000000</td>\n",
       "      <td>8.000000</td>\n",
       "      <td>11.000000</td>\n",
       "      <td>1.000000</td>\n",
       "      <td>...</td>\n",
       "      <td>1.000000</td>\n",
       "      <td>4000.000000</td>\n",
       "      <td>1.000000</td>\n",
       "      <td>4000.000000</td>\n",
       "      <td>219.000000</td>\n",
       "      <td>111336.107069</td>\n",
       "      <td>10.000000</td>\n",
       "      <td>2018.000000</td>\n",
       "      <td>0.636364</td>\n",
       "      <td>0.226586</td>\n",
       "    </tr>\n",
       "    <tr>\n",
       "      <td>max</td>\n",
       "      <td>50.000000</td>\n",
       "      <td>3.497900e+07</td>\n",
       "      <td>249.000000</td>\n",
       "      <td>14.000000</td>\n",
       "      <td>4.200000</td>\n",
       "      <td>60.000000</td>\n",
       "      <td>180.000000</td>\n",
       "      <td>33.000000</td>\n",
       "      <td>70.000000</td>\n",
       "      <td>5.000000</td>\n",
       "      <td>...</td>\n",
       "      <td>3.000000</td>\n",
       "      <td>4000.000000</td>\n",
       "      <td>3.000000</td>\n",
       "      <td>4000.000000</td>\n",
       "      <td>999.000000</td>\n",
       "      <td>640422.350472</td>\n",
       "      <td>12.000000</td>\n",
       "      <td>2019.000000</td>\n",
       "      <td>1.515476</td>\n",
       "      <td>0.787879</td>\n",
       "    </tr>\n",
       "  </tbody>\n",
       "</table>\n",
       "<p>8 rows × 22 columns</p>\n",
       "</div>"
      ],
      "text/plain": [
       "       total_images    last_price    total_area         rooms  ceiling_height  \\\n",
       "count  19851.000000  1.985100e+04  19851.000000  19851.000000    19851.000000   \n",
       "mean       9.623747  5.513013e+06     56.612473      1.989723        2.684394   \n",
       "std        5.638438  3.814204e+06     25.672547      0.989922        0.190624   \n",
       "min        0.000000  1.219000e+04     12.000000      0.000000        2.200000   \n",
       "25%        6.000000  3.390000e+06     39.200000      1.000000        2.600000   \n",
       "50%        9.000000  4.500000e+06     50.000000      2.000000        2.650000   \n",
       "75%       14.000000  6.355068e+06     66.650000      3.000000        2.700000   \n",
       "max       50.000000  3.497900e+07    249.000000     14.000000        4.200000   \n",
       "\n",
       "       floors_total   living_area         floor  kitchen_area       balcony  \\\n",
       "count  19851.000000  19851.000000  19851.000000  19851.000000  19851.000000   \n",
       "mean      10.908468     32.289764      5.987608      9.155211      0.597199   \n",
       "std        6.664930     17.035577      4.941721      5.497267      0.951446   \n",
       "min        1.000000      2.000000      1.000000      0.000000      0.000000   \n",
       "25%        5.000000     18.000000      2.000000      6.300000      0.000000   \n",
       "50%        9.000000     30.000000      4.000000      8.710000      0.000000   \n",
       "75%       16.000000     41.000000      8.000000     11.000000      1.000000   \n",
       "max       60.000000    180.000000     33.000000     70.000000      5.000000   \n",
       "\n",
       "       ...  parks_around3000  parks_nearest  ponds_around3000  ponds_nearest  \\\n",
       "count  ...      19851.000000   19851.000000      19851.000000   19851.000000   \n",
       "mean   ...          0.451715    2834.249559          0.571155    2689.851141   \n",
       "std    ...          0.731737    1664.208018          0.865232    1692.464874   \n",
       "min    ...          0.000000       1.000000          0.000000      13.000000   \n",
       "25%    ...          0.000000     618.000000          0.000000     652.000000   \n",
       "50%    ...          0.000000    4000.000000          0.000000    4000.000000   \n",
       "75%    ...          1.000000    4000.000000          1.000000    4000.000000   \n",
       "max    ...          3.000000    4000.000000          3.000000    4000.000000   \n",
       "\n",
       "       days_exposition   square_meter  month_of_exposition  \\\n",
       "count     19851.000000   19851.000000         19851.000000   \n",
       "mean        166.230467   95344.562174             6.584958   \n",
       "std         186.713865   34011.999084             3.482692   \n",
       "min           1.000000     111.834862             1.000000   \n",
       "25%          44.000000   76190.476190             3.000000   \n",
       "50%          92.000000   93665.158371             7.000000   \n",
       "75%         219.000000  111336.107069            10.000000   \n",
       "max         999.000000  640422.350472            12.000000   \n",
       "\n",
       "       year_of_exposition  living_area_part  kitchen_area_part  \n",
       "count        19851.000000      19851.000000       19851.000000  \n",
       "mean          2017.254647          0.563063           0.170899  \n",
       "std              0.929607          0.110036           0.088936  \n",
       "min           2014.000000          0.038462           0.000000  \n",
       "25%           2017.000000          0.488889           0.122727  \n",
       "50%           2017.000000          0.564544           0.164894  \n",
       "75%           2018.000000          0.636364           0.226586  \n",
       "max           2019.000000          1.515476           0.787879  \n",
       "\n",
       "[8 rows x 22 columns]"
      ]
     },
     "execution_count": 17,
     "metadata": {},
     "output_type": "execute_result"
    }
   ],
   "source": [
    "data = data.query('total_area < 250')\n",
    "data = data.query('last_price < 3.5 * 10**7')\n",
    "data = data.query('2 < ceiling_height < 4.25 ')\n",
    "data = data.query('days_exposition < 1000')\n",
    "data.describe()"
   ]
  },
  {
   "cell_type": "markdown",
   "metadata": {},
   "source": [
    "Убрали выделяющиеся значения на основе построенных графиков. Также с заполнением столбцов про парки и водоёмы получилось так, что практически нигде их нет после заполнения. Скорее всего это не так, но мы не работаем с этими столбцами, поэтому пусть будет так. Очень странные значения высоты потолков в 1 и 100 метров были отброшены, также как и квартира с площадью 2 метра квадратных."
   ]
  },
  {
   "cell_type": "markdown",
   "metadata": {},
   "source": [
    "### Зависит ли цена квартиры от площади, числа комнат, этажа (первого или последнего), удалённости от центра, даты размещения?"
   ]
  },
  {
   "cell_type": "code",
   "execution_count": 18,
   "metadata": {},
   "outputs": [],
   "source": [
    "def last_price_scatters(data_frame, values):\n",
    "    for value in values:\n",
    "        data.plot(x = 'last_price', y = value, grid = True, kind = 'scatter', alpha = 0.03)"
   ]
  },
  {
   "cell_type": "code",
   "execution_count": 19,
   "metadata": {},
   "outputs": [
    {
     "name": "stdout",
     "output_type": "stream",
     "text": [
      "Средняя цена квартир на первом этаже 4355145.451464435\n",
      "Средняя цена квартир на последнем этаже 5310921.206946984\n",
      "\n",
      "Корреляция с днём продажи продажи:                last_price\n",
      "day_of_week              \n",
      "Friday       5.487981e+06\n",
      "Monday       5.460752e+06\n",
      "Saturday     5.353702e+06\n",
      "Sunday       5.271524e+06\n",
      "Thursday     5.680104e+06\n",
      "Tuesday      5.538154e+06\n",
      "Wednesday    5.556654e+06\n",
      "\n",
      "Корреляция с площадью: 0.7864464307752531\n",
      "Корреляция с количеством комнат: 0.511120625935567\n",
      "Корреляция с отдалённостью от центра: -0.3443502277057273\n",
      "Корреляция с годом продажи: -0.054767145252548236\n",
      "Корреляция с мясецем продажи: 0.001125928085965165\n"
     ]
    },
    {
     "data": {
      "image/png": "[encoded data removed]",
      "text/plain": [
       "<Figure size 432x288 with 1 Axes>"
      ]
     },
     "metadata": {
      "needs_background": "light"
     },
     "output_type": "display_data"
    },
    {
     "data": {
      "image/png": "[encoded data removed]",
      "text/plain": [
       "<Figure size 432x288 with 1 Axes>"
      ]
     },
     "metadata": {
      "needs_background": "light"
     },
     "output_type": "display_data"
    },
    {
     "data": {
      "image/png": "[encoded data removed]",
      "text/plain": [
       "<Figure size 432x288 with 1 Axes>"
      ]
     },
     "metadata": {
      "needs_background": "light"
     },
     "output_type": "display_data"
    }
   ],
   "source": [
    "print('Средняя цена квартир на первом этаже', data[data['floor_category'] == 'первый']['last_price'].mean())\n",
    "print('Средняя цена квартир на последнем этаже', data[data['floor_category'] == 'последний']['last_price'].mean())\n",
    "print()\n",
    "print('Корреляция с днём продажи продажи:', data.pivot_table(index='day_of_week', values='last_price'))\n",
    "print()\n",
    "print('Корреляция с площадью:', data['last_price'].corr(data['total_area']))\n",
    "print('Корреляция с количеством комнат:', data['last_price'].corr(data['rooms']))\n",
    "print('Корреляция с отдалённостью от центра:', data['last_price'].corr(data['cityCenters_nearest']))\n",
    "print('Корреляция с годом продажи:', data['last_price'].corr(data['year_of_exposition']))\n",
    "print('Корреляция с мясецем продажи:', data['last_price'].corr(data['month_of_exposition']))\n",
    "last_price_values = ['total_area', 'rooms', 'cityCenters_nearest']\n",
    "last_price_scatters(data, last_price_values)"
   ]
  },
  {
   "cell_type": "markdown",
   "metadata": {},
   "source": [
    "**Вывод**"
   ]
  },
  {
   "cell_type": "markdown",
   "metadata": {},
   "source": [
    "Как мы видим стоимость квартиры сильно зависит от её площади для маленьких квартир, а для больших квартир эта корреляция намного слабее, хотя этот фактор сильно влияет на стоимость квартир. Мы получили интересный факт, что квартиры на последнем этаже в среднем дороже почти на четверть, чем квартиры на первом. Количество комнат также влияет на стоимость жилья, если комнат не больше 6-ти. Расстояние до чентра города имеет наименьшую корреляцию с ценой, хотя дома с расстоянием в примерно 7 километров очень сильно выделяются по цене. Корреляции с днём продажи не замечено, как и с месяцем, с годом она также практически отсутствует."
   ]
  },
  {
   "cell_type": "markdown",
   "metadata": {},
   "source": [
    "### Выберите 10 населённых пунктов с наибольшим числом объявлений. Посчитайте среднюю цену квадратного метра в этих населённых пунктах. Выделите населённые пункты с самой высокой и низкой стоимостью жилья. "
   ]
  },
  {
   "cell_type": "code",
   "execution_count": 20,
   "metadata": {},
   "outputs": [
    {
     "name": "stdout",
     "output_type": "stream",
     "text": [
      "                   count\n",
      "locality_name           \n",
      "санкт-петербург    13128\n",
      "посёлок мурино       508\n",
      "посёлок шушары       403\n",
      "всеволожск           335\n",
      "колпино              305\n",
      "посёлок парголово    301\n",
      "пушкин               298\n",
      "деревня кудрово      294\n",
      "гатчина              267\n",
      "выборг               204\n",
      "\n",
      " {'санкт-петербург': 108701.73659486101, 'посёлок мурино': 85828.88587766615, 'посёлок шушары': 77798.01527903831, 'всеволожск': 68623.13948616425, 'колпино': 74700.7471166597, 'посёлок парголово': 89423.99385273771, 'пушкин': 102173.9887973322, 'деревня кудрово': 92421.52867093912, 'гатчина': 67938.48030733346, 'выборг': 57095.27960395737}\n"
     ]
    }
   ],
   "source": [
    "locality_rating = data.pivot_table(index = 'locality_name', values = 'last_price', aggfunc = ['count'])\n",
    "locality_rating.columns = ['count']\n",
    "locality_rating.sort_values(by = 'count', ascending = False, inplace = True)\n",
    "print(locality_rating.head(10))\n",
    "popular_regions = locality_rating.index[:10]\n",
    "popular_regions_prices = {}\n",
    "for region in popular_regions:\n",
    "    popular_regions_prices[region] = data[data['locality_name'] == region]['square_meter'].mean()\n",
    "print('\\n', popular_regions_prices)"
   ]
  },
  {
   "cell_type": "markdown",
   "metadata": {},
   "source": [
    "**Вывод**"
   ]
  },
  {
   "cell_type": "markdown",
   "metadata": {},
   "source": [
    "Итого получили, что самые дорогие квартиры в Санкт-Петербурге, а самые дешёвые в Выборге."
   ]
  },
  {
   "cell_type": "markdown",
   "metadata": {},
   "source": [
    "### Изучение предложения квартир в Санкт-Петербурге от расстояния до центра города"
   ]
  },
  {
   "cell_type": "code",
   "execution_count": 21,
   "metadata": {},
   "outputs": [
    {
     "data": {
      "text/html": [
       "<div>\n",
       "<style scoped>\n",
       "    .dataframe tbody tr th:only-of-type {\n",
       "        vertical-align: middle;\n",
       "    }\n",
       "\n",
       "    .dataframe tbody tr th {\n",
       "        vertical-align: top;\n",
       "    }\n",
       "\n",
       "    .dataframe thead th {\n",
       "        text-align: right;\n",
       "    }\n",
       "</style>\n",
       "<table border=\"1\" class=\"dataframe\">\n",
       "  <thead>\n",
       "    <tr style=\"text-align: right;\">\n",
       "      <th></th>\n",
       "      <th>index</th>\n",
       "      <th>total_images</th>\n",
       "      <th>last_price</th>\n",
       "      <th>total_area</th>\n",
       "      <th>first_day_exposition</th>\n",
       "      <th>rooms</th>\n",
       "      <th>ceiling_height</th>\n",
       "      <th>floors_total</th>\n",
       "      <th>living_area</th>\n",
       "      <th>floor</th>\n",
       "      <th>...</th>\n",
       "      <th>ponds_nearest</th>\n",
       "      <th>days_exposition</th>\n",
       "      <th>square_meter</th>\n",
       "      <th>day_of_week</th>\n",
       "      <th>month_of_exposition</th>\n",
       "      <th>year_of_exposition</th>\n",
       "      <th>floor_category</th>\n",
       "      <th>living_area_part</th>\n",
       "      <th>kitchen_area_part</th>\n",
       "      <th>kilometers</th>\n",
       "    </tr>\n",
       "  </thead>\n",
       "  <tbody>\n",
       "    <tr>\n",
       "      <td>0</td>\n",
       "      <td>2</td>\n",
       "      <td>10</td>\n",
       "      <td>5196000</td>\n",
       "      <td>56.00</td>\n",
       "      <td>2015-08-20</td>\n",
       "      <td>2</td>\n",
       "      <td>2.65</td>\n",
       "      <td>5</td>\n",
       "      <td>34.3</td>\n",
       "      <td>4</td>\n",
       "      <td>...</td>\n",
       "      <td>574</td>\n",
       "      <td>558.0</td>\n",
       "      <td>92785.714286</td>\n",
       "      <td>Thursday</td>\n",
       "      <td>8</td>\n",
       "      <td>2015</td>\n",
       "      <td>другой</td>\n",
       "      <td>0.612500</td>\n",
       "      <td>0.148214</td>\n",
       "      <td>14.0</td>\n",
       "    </tr>\n",
       "    <tr>\n",
       "      <td>1</td>\n",
       "      <td>4</td>\n",
       "      <td>2</td>\n",
       "      <td>10000000</td>\n",
       "      <td>100.00</td>\n",
       "      <td>2018-06-19</td>\n",
       "      <td>2</td>\n",
       "      <td>3.03</td>\n",
       "      <td>14</td>\n",
       "      <td>32.0</td>\n",
       "      <td>13</td>\n",
       "      <td>...</td>\n",
       "      <td>48</td>\n",
       "      <td>121.0</td>\n",
       "      <td>100000.000000</td>\n",
       "      <td>Tuesday</td>\n",
       "      <td>6</td>\n",
       "      <td>2018</td>\n",
       "      <td>другой</td>\n",
       "      <td>0.320000</td>\n",
       "      <td>0.410000</td>\n",
       "      <td>8.0</td>\n",
       "    </tr>\n",
       "    <tr>\n",
       "      <td>2</td>\n",
       "      <td>9</td>\n",
       "      <td>18</td>\n",
       "      <td>5400000</td>\n",
       "      <td>61.00</td>\n",
       "      <td>2017-02-26</td>\n",
       "      <td>3</td>\n",
       "      <td>2.50</td>\n",
       "      <td>9</td>\n",
       "      <td>43.6</td>\n",
       "      <td>7</td>\n",
       "      <td>...</td>\n",
       "      <td>4000</td>\n",
       "      <td>289.0</td>\n",
       "      <td>88524.590164</td>\n",
       "      <td>Sunday</td>\n",
       "      <td>2</td>\n",
       "      <td>2017</td>\n",
       "      <td>другой</td>\n",
       "      <td>0.714754</td>\n",
       "      <td>0.106557</td>\n",
       "      <td>15.0</td>\n",
       "    </tr>\n",
       "    <tr>\n",
       "      <td>3</td>\n",
       "      <td>10</td>\n",
       "      <td>5</td>\n",
       "      <td>5050000</td>\n",
       "      <td>39.60</td>\n",
       "      <td>2017-11-16</td>\n",
       "      <td>1</td>\n",
       "      <td>2.67</td>\n",
       "      <td>12</td>\n",
       "      <td>20.3</td>\n",
       "      <td>3</td>\n",
       "      <td>...</td>\n",
       "      <td>553</td>\n",
       "      <td>137.0</td>\n",
       "      <td>127525.252525</td>\n",
       "      <td>Thursday</td>\n",
       "      <td>11</td>\n",
       "      <td>2017</td>\n",
       "      <td>другой</td>\n",
       "      <td>0.512626</td>\n",
       "      <td>0.214646</td>\n",
       "      <td>14.0</td>\n",
       "    </tr>\n",
       "    <tr>\n",
       "      <td>4</td>\n",
       "      <td>15</td>\n",
       "      <td>16</td>\n",
       "      <td>4650000</td>\n",
       "      <td>39.00</td>\n",
       "      <td>2017-11-18</td>\n",
       "      <td>1</td>\n",
       "      <td>2.65</td>\n",
       "      <td>14</td>\n",
       "      <td>20.5</td>\n",
       "      <td>5</td>\n",
       "      <td>...</td>\n",
       "      <td>296</td>\n",
       "      <td>19.0</td>\n",
       "      <td>119230.769231</td>\n",
       "      <td>Saturday</td>\n",
       "      <td>11</td>\n",
       "      <td>2017</td>\n",
       "      <td>другой</td>\n",
       "      <td>0.525641</td>\n",
       "      <td>0.194872</td>\n",
       "      <td>14.0</td>\n",
       "    </tr>\n",
       "    <tr>\n",
       "      <td>...</td>\n",
       "      <td>...</td>\n",
       "      <td>...</td>\n",
       "      <td>...</td>\n",
       "      <td>...</td>\n",
       "      <td>...</td>\n",
       "      <td>...</td>\n",
       "      <td>...</td>\n",
       "      <td>...</td>\n",
       "      <td>...</td>\n",
       "      <td>...</td>\n",
       "      <td>...</td>\n",
       "      <td>...</td>\n",
       "      <td>...</td>\n",
       "      <td>...</td>\n",
       "      <td>...</td>\n",
       "      <td>...</td>\n",
       "      <td>...</td>\n",
       "      <td>...</td>\n",
       "      <td>...</td>\n",
       "      <td>...</td>\n",
       "      <td>...</td>\n",
       "    </tr>\n",
       "    <tr>\n",
       "      <td>13123</td>\n",
       "      <td>23554</td>\n",
       "      <td>19</td>\n",
       "      <td>9200000</td>\n",
       "      <td>101.00</td>\n",
       "      <td>2019-04-01</td>\n",
       "      <td>3</td>\n",
       "      <td>3.05</td>\n",
       "      <td>15</td>\n",
       "      <td>63.0</td>\n",
       "      <td>12</td>\n",
       "      <td>...</td>\n",
       "      <td>4000</td>\n",
       "      <td>23.0</td>\n",
       "      <td>91089.108911</td>\n",
       "      <td>Monday</td>\n",
       "      <td>4</td>\n",
       "      <td>2019</td>\n",
       "      <td>другой</td>\n",
       "      <td>0.623762</td>\n",
       "      <td>0.148515</td>\n",
       "      <td>14.0</td>\n",
       "    </tr>\n",
       "    <tr>\n",
       "      <td>13124</td>\n",
       "      <td>23555</td>\n",
       "      <td>13</td>\n",
       "      <td>3550000</td>\n",
       "      <td>35.30</td>\n",
       "      <td>2018-02-28</td>\n",
       "      <td>1</td>\n",
       "      <td>2.86</td>\n",
       "      <td>15</td>\n",
       "      <td>16.3</td>\n",
       "      <td>4</td>\n",
       "      <td>...</td>\n",
       "      <td>652</td>\n",
       "      <td>29.0</td>\n",
       "      <td>100566.572238</td>\n",
       "      <td>Wednesday</td>\n",
       "      <td>2</td>\n",
       "      <td>2018</td>\n",
       "      <td>другой</td>\n",
       "      <td>0.461756</td>\n",
       "      <td>0.257790</td>\n",
       "      <td>16.0</td>\n",
       "    </tr>\n",
       "    <tr>\n",
       "      <td>13125</td>\n",
       "      <td>23556</td>\n",
       "      <td>3</td>\n",
       "      <td>5500000</td>\n",
       "      <td>52.00</td>\n",
       "      <td>2018-07-19</td>\n",
       "      <td>2</td>\n",
       "      <td>2.65</td>\n",
       "      <td>5</td>\n",
       "      <td>31.0</td>\n",
       "      <td>2</td>\n",
       "      <td>...</td>\n",
       "      <td>4000</td>\n",
       "      <td>15.0</td>\n",
       "      <td>105769.230769</td>\n",
       "      <td>Thursday</td>\n",
       "      <td>7</td>\n",
       "      <td>2018</td>\n",
       "      <td>другой</td>\n",
       "      <td>0.596154</td>\n",
       "      <td>0.115385</td>\n",
       "      <td>6.0</td>\n",
       "    </tr>\n",
       "    <tr>\n",
       "      <td>13126</td>\n",
       "      <td>23557</td>\n",
       "      <td>11</td>\n",
       "      <td>9470000</td>\n",
       "      <td>72.90</td>\n",
       "      <td>2016-10-13</td>\n",
       "      <td>2</td>\n",
       "      <td>2.75</td>\n",
       "      <td>25</td>\n",
       "      <td>40.3</td>\n",
       "      <td>7</td>\n",
       "      <td>...</td>\n",
       "      <td>806</td>\n",
       "      <td>519.0</td>\n",
       "      <td>129903.978052</td>\n",
       "      <td>Thursday</td>\n",
       "      <td>10</td>\n",
       "      <td>2016</td>\n",
       "      <td>другой</td>\n",
       "      <td>0.552812</td>\n",
       "      <td>0.145405</td>\n",
       "      <td>4.0</td>\n",
       "    </tr>\n",
       "    <tr>\n",
       "      <td>13127</td>\n",
       "      <td>23563</td>\n",
       "      <td>13</td>\n",
       "      <td>11475000</td>\n",
       "      <td>76.75</td>\n",
       "      <td>2017-03-28</td>\n",
       "      <td>2</td>\n",
       "      <td>3.00</td>\n",
       "      <td>17</td>\n",
       "      <td>30.5</td>\n",
       "      <td>12</td>\n",
       "      <td>...</td>\n",
       "      <td>196</td>\n",
       "      <td>602.0</td>\n",
       "      <td>149511.400651</td>\n",
       "      <td>Tuesday</td>\n",
       "      <td>3</td>\n",
       "      <td>2017</td>\n",
       "      <td>другой</td>\n",
       "      <td>0.397394</td>\n",
       "      <td>0.303583</td>\n",
       "      <td>10.0</td>\n",
       "    </tr>\n",
       "  </tbody>\n",
       "</table>\n",
       "<p>13128 rows × 31 columns</p>\n",
       "</div>"
      ],
      "text/plain": [
       "       index  total_images  last_price  total_area first_day_exposition  \\\n",
       "0          2            10     5196000       56.00           2015-08-20   \n",
       "1          4             2    10000000      100.00           2018-06-19   \n",
       "2          9            18     5400000       61.00           2017-02-26   \n",
       "3         10             5     5050000       39.60           2017-11-16   \n",
       "4         15            16     4650000       39.00           2017-11-18   \n",
       "...      ...           ...         ...         ...                  ...   \n",
       "13123  23554            19     9200000      101.00           2019-04-01   \n",
       "13124  23555            13     3550000       35.30           2018-02-28   \n",
       "13125  23556             3     5500000       52.00           2018-07-19   \n",
       "13126  23557            11     9470000       72.90           2016-10-13   \n",
       "13127  23563            13    11475000       76.75           2017-03-28   \n",
       "\n",
       "       rooms  ceiling_height  floors_total  living_area  floor  ...  \\\n",
       "0          2            2.65             5         34.3      4  ...   \n",
       "1          2            3.03            14         32.0     13  ...   \n",
       "2          3            2.50             9         43.6      7  ...   \n",
       "3          1            2.67            12         20.3      3  ...   \n",
       "4          1            2.65            14         20.5      5  ...   \n",
       "...      ...             ...           ...          ...    ...  ...   \n",
       "13123      3            3.05            15         63.0     12  ...   \n",
       "13124      1            2.86            15         16.3      4  ...   \n",
       "13125      2            2.65             5         31.0      2  ...   \n",
       "13126      2            2.75            25         40.3      7  ...   \n",
       "13127      2            3.00            17         30.5     12  ...   \n",
       "\n",
       "      ponds_nearest  days_exposition   square_meter  day_of_week  \\\n",
       "0               574            558.0   92785.714286     Thursday   \n",
       "1                48            121.0  100000.000000      Tuesday   \n",
       "2              4000            289.0   88524.590164       Sunday   \n",
       "3               553            137.0  127525.252525     Thursday   \n",
       "4               296             19.0  119230.769231     Saturday   \n",
       "...             ...              ...            ...          ...   \n",
       "13123          4000             23.0   91089.108911       Monday   \n",
       "13124           652             29.0  100566.572238    Wednesday   \n",
       "13125          4000             15.0  105769.230769     Thursday   \n",
       "13126           806            519.0  129903.978052     Thursday   \n",
       "13127           196            602.0  149511.400651      Tuesday   \n",
       "\n",
       "       month_of_exposition year_of_exposition  floor_category  \\\n",
       "0                        8               2015          другой   \n",
       "1                        6               2018          другой   \n",
       "2                        2               2017          другой   \n",
       "3                       11               2017          другой   \n",
       "4                       11               2017          другой   \n",
       "...                    ...                ...             ...   \n",
       "13123                    4               2019          другой   \n",
       "13124                    2               2018          другой   \n",
       "13125                    7               2018          другой   \n",
       "13126                   10               2016          другой   \n",
       "13127                    3               2017          другой   \n",
       "\n",
       "       living_area_part  kitchen_area_part  kilometers  \n",
       "0              0.612500           0.148214        14.0  \n",
       "1              0.320000           0.410000         8.0  \n",
       "2              0.714754           0.106557        15.0  \n",
       "3              0.512626           0.214646        14.0  \n",
       "4              0.525641           0.194872        14.0  \n",
       "...                 ...                ...         ...  \n",
       "13123          0.623762           0.148515        14.0  \n",
       "13124          0.461756           0.257790        16.0  \n",
       "13125          0.596154           0.115385         6.0  \n",
       "13126          0.552812           0.145405         4.0  \n",
       "13127          0.397394           0.303583        10.0  \n",
       "\n",
       "[13128 rows x 31 columns]"
      ]
     },
     "execution_count": 21,
     "metadata": {},
     "output_type": "execute_result"
    }
   ],
   "source": [
    "Saint_Petersburg_data = data.query('locality_name == \"санкт-петербург\"').reset_index()\n",
    "\n",
    "Saint_Petersburg_data['cityCenters_nearest'] = Saint_Petersburg_data['cityCenters_nearest'].fillna(1000000)\n",
    "Saint_Petersburg_data['kilometers'] = (Saint_Petersburg_data['cityCenters_nearest'] / 1000).round().astype(int)\n",
    "data.loc[data['cityCenters_nearest'] == 1000000, 'cityCenters_nearest'] = np.nan\n",
    "Saint_Petersburg_data.loc[Saint_Petersburg_data['kilometers'] == 1000, 'kilometers'] = np.nan\n",
    "Saint_Petersburg_data"
   ]
  },
  {
   "cell_type": "code",
   "execution_count": 22,
   "metadata": {},
   "outputs": [
    {
     "data": {
      "text/html": [
       "<div>\n",
       "<style scoped>\n",
       "    .dataframe tbody tr th:only-of-type {\n",
       "        vertical-align: middle;\n",
       "    }\n",
       "\n",
       "    .dataframe tbody tr th {\n",
       "        vertical-align: top;\n",
       "    }\n",
       "\n",
       "    .dataframe thead th {\n",
       "        text-align: right;\n",
       "    }\n",
       "</style>\n",
       "<table border=\"1\" class=\"dataframe\">\n",
       "  <thead>\n",
       "    <tr style=\"text-align: right;\">\n",
       "      <th></th>\n",
       "      <th>square_meter</th>\n",
       "    </tr>\n",
       "    <tr>\n",
       "      <th>kilometers</th>\n",
       "      <th></th>\n",
       "    </tr>\n",
       "  </thead>\n",
       "  <tbody>\n",
       "    <tr>\n",
       "      <td>0.0</td>\n",
       "      <td>129890.306547</td>\n",
       "    </tr>\n",
       "    <tr>\n",
       "      <td>1.0</td>\n",
       "      <td>133988.436643</td>\n",
       "    </tr>\n",
       "    <tr>\n",
       "      <td>2.0</td>\n",
       "      <td>125221.518674</td>\n",
       "    </tr>\n",
       "    <tr>\n",
       "      <td>3.0</td>\n",
       "      <td>111527.643990</td>\n",
       "    </tr>\n",
       "    <tr>\n",
       "      <td>4.0</td>\n",
       "      <td>123447.830866</td>\n",
       "    </tr>\n",
       "    <tr>\n",
       "      <td>5.0</td>\n",
       "      <td>130893.836235</td>\n",
       "    </tr>\n",
       "    <tr>\n",
       "      <td>6.0</td>\n",
       "      <td>130511.761068</td>\n",
       "    </tr>\n",
       "    <tr>\n",
       "      <td>7.0</td>\n",
       "      <td>131287.283402</td>\n",
       "    </tr>\n",
       "    <tr>\n",
       "      <td>8.0</td>\n",
       "      <td>121359.183240</td>\n",
       "    </tr>\n",
       "    <tr>\n",
       "      <td>9.0</td>\n",
       "      <td>110304.378869</td>\n",
       "    </tr>\n",
       "    <tr>\n",
       "      <td>10.0</td>\n",
       "      <td>110794.645406</td>\n",
       "    </tr>\n",
       "    <tr>\n",
       "      <td>11.0</td>\n",
       "      <td>105440.022821</td>\n",
       "    </tr>\n",
       "    <tr>\n",
       "      <td>12.0</td>\n",
       "      <td>106104.136983</td>\n",
       "    </tr>\n",
       "    <tr>\n",
       "      <td>13.0</td>\n",
       "      <td>106506.041589</td>\n",
       "    </tr>\n",
       "    <tr>\n",
       "      <td>14.0</td>\n",
       "      <td>103015.308083</td>\n",
       "    </tr>\n",
       "    <tr>\n",
       "      <td>15.0</td>\n",
       "      <td>102089.387556</td>\n",
       "    </tr>\n",
       "    <tr>\n",
       "      <td>16.0</td>\n",
       "      <td>99035.187699</td>\n",
       "    </tr>\n",
       "    <tr>\n",
       "      <td>17.0</td>\n",
       "      <td>96294.510065</td>\n",
       "    </tr>\n",
       "    <tr>\n",
       "      <td>18.0</td>\n",
       "      <td>95123.304779</td>\n",
       "    </tr>\n",
       "    <tr>\n",
       "      <td>19.0</td>\n",
       "      <td>99062.501123</td>\n",
       "    </tr>\n",
       "    <tr>\n",
       "      <td>20.0</td>\n",
       "      <td>100889.230814</td>\n",
       "    </tr>\n",
       "    <tr>\n",
       "      <td>21.0</td>\n",
       "      <td>91469.526801</td>\n",
       "    </tr>\n",
       "    <tr>\n",
       "      <td>22.0</td>\n",
       "      <td>90260.341534</td>\n",
       "    </tr>\n",
       "    <tr>\n",
       "      <td>23.0</td>\n",
       "      <td>89830.244101</td>\n",
       "    </tr>\n",
       "    <tr>\n",
       "      <td>24.0</td>\n",
       "      <td>85736.904595</td>\n",
       "    </tr>\n",
       "    <tr>\n",
       "      <td>25.0</td>\n",
       "      <td>91531.371618</td>\n",
       "    </tr>\n",
       "    <tr>\n",
       "      <td>26.0</td>\n",
       "      <td>87832.108756</td>\n",
       "    </tr>\n",
       "    <tr>\n",
       "      <td>27.0</td>\n",
       "      <td>132115.709459</td>\n",
       "    </tr>\n",
       "    <tr>\n",
       "      <td>28.0</td>\n",
       "      <td>81161.915320</td>\n",
       "    </tr>\n",
       "    <tr>\n",
       "      <td>29.0</td>\n",
       "      <td>76238.677228</td>\n",
       "    </tr>\n",
       "  </tbody>\n",
       "</table>\n",
       "</div>"
      ],
      "text/plain": [
       "             square_meter\n",
       "kilometers               \n",
       "0.0         129890.306547\n",
       "1.0         133988.436643\n",
       "2.0         125221.518674\n",
       "3.0         111527.643990\n",
       "4.0         123447.830866\n",
       "5.0         130893.836235\n",
       "6.0         130511.761068\n",
       "7.0         131287.283402\n",
       "8.0         121359.183240\n",
       "9.0         110304.378869\n",
       "10.0        110794.645406\n",
       "11.0        105440.022821\n",
       "12.0        106104.136983\n",
       "13.0        106506.041589\n",
       "14.0        103015.308083\n",
       "15.0        102089.387556\n",
       "16.0         99035.187699\n",
       "17.0         96294.510065\n",
       "18.0         95123.304779\n",
       "19.0         99062.501123\n",
       "20.0        100889.230814\n",
       "21.0         91469.526801\n",
       "22.0         90260.341534\n",
       "23.0         89830.244101\n",
       "24.0         85736.904595\n",
       "25.0         91531.371618\n",
       "26.0         87832.108756\n",
       "27.0        132115.709459\n",
       "28.0         81161.915320\n",
       "29.0         76238.677228"
      ]
     },
     "execution_count": 22,
     "metadata": {},
     "output_type": "execute_result"
    }
   ],
   "source": [
    "cityCenter_finder = Saint_Petersburg_data.pivot_table(index = 'kilometers', values = 'square_meter')\n",
    "cityCenter_finder"
   ]
  },
  {
   "cell_type": "code",
   "execution_count": 23,
   "metadata": {},
   "outputs": [
    {
     "data": {
      "text/plain": [
       "<matplotlib.axes._subplots.AxesSubplot at 0x7f31c99f5790>"
      ]
     },
     "execution_count": 23,
     "metadata": {},
     "output_type": "execute_result"
    },
    {
     "data": {
      "image/png": "[encoded data removed]",
      "text/plain": [
       "<Figure size 432x288 with 1 Axes>"
      ]
     },
     "metadata": {
      "needs_background": "light"
     },
     "output_type": "display_data"
    }
   ],
   "source": [
    "cityCenter_finder['square_meter'].plot(kind = 'line')"
   ]
  },
  {
   "cell_type": "markdown",
   "metadata": {},
   "source": [
    "**Вывод**"
   ]
  },
  {
   "cell_type": "markdown",
   "metadata": {},
   "source": [
    "Будем считать, что центральная зоназаканчивается на расстоянии 7 километров от центра, так как там идёт быстрое падение цены. Отметку в три километра не считаю центральной, так как после неё идёт быстрый отскок цены, что может говорить о каких-то других причинах дешевизны квартр в этом районе."
   ]
  },
  {
   "cell_type": "markdown",
   "metadata": {},
   "source": [
    "### Квартиры из центра Санкт-Петербугра отличается от остальных квартир или нет?"
   ]
  },
  {
   "cell_type": "markdown",
   "metadata": {},
   "source": [
    "Этот код - ctr+c, ctr+v кода из пункта 4.1"
   ]
  },
  {
   "cell_type": "code",
   "execution_count": 24,
   "metadata": {},
   "outputs": [
    {
     "name": "stdout",
     "output_type": "stream",
     "text": [
      "Медианная площадь: 72.85\n",
      "Медианная цена квартры: 8400000.0\n",
      "Медианная высота потолков: 2.75\n"
     ]
    },
    {
     "data": {
      "image/png": "[encoded data removed]",
      "text/plain": [
       "<Figure size 432x288 with 1 Axes>"
      ]
     },
     "metadata": {
      "needs_background": "light"
     },
     "output_type": "display_data"
    },
    {
     "data": {
      "image/png": "[encoded data removed]",
      "text/plain": [
       "<Figure size 432x288 with 1 Axes>"
      ]
     },
     "metadata": {
      "needs_background": "light"
     },
     "output_type": "display_data"
    },
    {
     "data": {
      "image/png": "[encoded data removed]",
      "text/plain": [
       "<Figure size 432x288 with 1 Axes>"
      ]
     },
     "metadata": {
      "needs_background": "light"
     },
     "output_type": "display_data"
    }
   ],
   "source": [
    "Saint_Petersburg_center = Saint_Petersburg_data.query(\"kilometers <= 7\")\n",
    "\n",
    "print('Медианная площадь:', Saint_Petersburg_center['total_area'].median())\n",
    "print('Медианная цена квартры:', Saint_Petersburg_center['last_price'].median())\n",
    "print('Медианная высота потолков:',Saint_Petersburg_center['ceiling_height'].median())\n",
    "histsConstructor(Saint_Petersburg_center, titles, hists_values, bins, ranges)"
   ]
  },
  {
   "cell_type": "markdown",
   "metadata": {},
   "source": [
    "**Вывод 1**"
   ]
  },
  {
   "cell_type": "markdown",
   "metadata": {},
   "source": [
    "По сравнению с общими результатами в центре Питера площадь квартир больше(большая часть квартир находится в промежутке от 50 до 100 м^2, в то время как для всех данных большая часть квартир меньше 50 м^2), медианная цена квартиры выше аж в два раза и даже потолки выше на 10 сантиметров. Таким образом квартиры больше, с более высоким потолками, но и соответственно дороже, в среднем."
   ]
  },
  {
   "cell_type": "markdown",
   "metadata": {},
   "source": [
    "Этот код - ctr+c, ctr+v кода из пункта 4.4"
   ]
  },
  {
   "cell_type": "code",
   "execution_count": 25,
   "metadata": {},
   "outputs": [
    {
     "name": "stdout",
     "output_type": "stream",
     "text": [
      "Средняя цена квартир на первом этаже 7471860.287581699\n",
      "Средняя цена квартир на последнем этаже 9887317.156182213\n",
      "\n",
      "Корреляция с днём продажи продажи:                last_price\n",
      "day_of_week              \n",
      "Friday       1.010561e+07\n",
      "Monday       1.003019e+07\n",
      "Saturday     9.622064e+06\n",
      "Sunday       1.010389e+07\n",
      "Thursday     1.009393e+07\n",
      "Tuesday      9.837939e+06\n",
      "Wednesday    1.026270e+07\n",
      "\n",
      "Корреляция с площадью: 0.7283106521452836\n",
      "Корреляция с количеством комнат: 0.4710984006483581\n",
      "Корреляция с отдалённостью от центра: -0.07249145370660838\n",
      "Корреляция с годом продажи: -0.053831880579259306\n",
      "Корреляция с мясецем продажи: -0.03740535609444098\n"
     ]
    },
    {
     "data": {
      "image/png": "[encoded data removed]",
      "text/plain": [
       "<Figure size 432x288 with 1 Axes>"
      ]
     },
     "metadata": {
      "needs_background": "light"
     },
     "output_type": "display_data"
    },
    {
     "data": {
      "image/png": "[encoded data removed]",
      "text/plain": [
       "<Figure size 432x288 with 1 Axes>"
      ]
     },
     "metadata": {
      "needs_background": "light"
     },
     "output_type": "display_data"
    },
    {
     "data": {
      "image/png": "[encoded data removed]",
      "text/plain": [
       "<Figure size 432x288 with 1 Axes>"
      ]
     },
     "metadata": {
      "needs_background": "light"
     },
     "output_type": "display_data"
    }
   ],
   "source": [
    "print('Средняя цена квартир на первом этаже', Saint_Petersburg_center[Saint_Petersburg_center['floor_category'] == 'первый']['last_price'].mean())\n",
    "print('Средняя цена квартир на последнем этаже', Saint_Petersburg_center[Saint_Petersburg_center['floor_category'] == 'последний']['last_price'].mean())\n",
    "print()\n",
    "print('Корреляция с днём продажи продажи:', Saint_Petersburg_center.pivot_table(index='day_of_week', values='last_price'))\n",
    "print()\n",
    "print('Корреляция с площадью:', Saint_Petersburg_center['last_price'].corr(Saint_Petersburg_center['total_area']))\n",
    "print('Корреляция с количеством комнат:', Saint_Petersburg_center['last_price'].corr(Saint_Petersburg_center['rooms']))\n",
    "print('Корреляция с отдалённостью от центра:', Saint_Petersburg_center['last_price'].corr(Saint_Petersburg_center['cityCenters_nearest']))\n",
    "print('Корреляция с годом продажи:', Saint_Petersburg_center['last_price'].corr(Saint_Petersburg_center['year_of_exposition']))\n",
    "print('Корреляция с мясецем продажи:', Saint_Petersburg_center['last_price'].corr(Saint_Petersburg_center['month_of_exposition']))\n",
    "last_price_scatters(Saint_Petersburg_center, last_price_values)"
   ]
  },
  {
   "cell_type": "markdown",
   "metadata": {},
   "source": [
    "**Вывод 2**"
   ]
  },
  {
   "cell_type": "markdown",
   "metadata": {},
   "source": [
    "Делая аналогичное исследование по квартирам из центра Питера мы можем сказать, что зависимость от всех факторов кроме отдалённости от центра практически одинаковы с зависимостями в общем случае. Это подтверждает, что мы правильно выбрали центр города, ведь корреляция с отдалённостью от центра города практически отсутствует."
   ]
  },
  {
   "cell_type": "markdown",
   "metadata": {},
   "source": [
    "## Общий вывод"
   ]
  },
  {
   "cell_type": "markdown",
   "metadata": {},
   "source": [
    "Таким образом рыночную стоимость квартиры исходя из критериев, которые мы получили складывается из: площади квартиры, города, в котором квартира расположена, количества комнат, а также этажа на котором находится эта квартира. С удалённостью от центра города ситуация обстоит так, что она влияет на цену, вне центрального района, но не влияет внутри него. Зависимости от даты размещения обнаружено не было. Также мы показали, что общие данные согласуются и сцентральным городом выборки Санкт-Петербургом."
   ]
  }
 ],
 "metadata": {
  "ExecuteTimeLog": [
   {
    "duration": 906,
    "start_time": "2021-08-15T15:33:42.462Z"
   },
   {
    "duration": 121,
    "start_time": "2021-08-15T15:34:40.363Z"
   },
   {
    "duration": 79,
    "start_time": "2021-08-15T15:34:46.293Z"
   },
   {
    "duration": 88,
    "start_time": "2021-08-15T15:34:53.815Z"
   },
   {
    "duration": 75,
    "start_time": "2021-08-15T15:34:58.213Z"
   },
   {
    "duration": 80,
    "start_time": "2021-08-15T15:37:49.640Z"
   },
   {
    "duration": 832,
    "start_time": "2021-08-15T15:39:10.854Z"
   },
   {
    "duration": 118,
    "start_time": "2021-08-15T15:39:24.761Z"
   },
   {
    "duration": 101,
    "start_time": "2021-08-15T15:39:43.678Z"
   },
   {
    "duration": 16,
    "start_time": "2021-08-15T15:39:57.627Z"
   },
   {
    "duration": 13,
    "start_time": "2021-08-15T17:36:56.471Z"
   },
   {
    "duration": 26,
    "start_time": "2021-08-15T17:37:09.766Z"
   },
   {
    "duration": 383,
    "start_time": "2021-08-15T17:37:51.678Z"
   },
   {
    "duration": 237,
    "start_time": "2021-08-15T17:38:45.249Z"
   },
   {
    "duration": 25,
    "start_time": "2021-08-15T17:38:51.306Z"
   },
   {
    "duration": 126,
    "start_time": "2021-08-15T17:39:41.858Z"
   },
   {
    "duration": 26,
    "start_time": "2021-08-15T17:45:39.539Z"
   },
   {
    "duration": 6,
    "start_time": "2021-08-15T17:45:42.332Z"
   },
   {
    "duration": 71,
    "start_time": "2021-08-15T17:57:35.595Z"
   },
   {
    "duration": 269,
    "start_time": "2021-08-15T17:59:55.170Z"
   },
   {
    "duration": 66,
    "start_time": "2021-08-15T18:00:10.657Z"
   },
   {
    "duration": 54,
    "start_time": "2021-08-15T18:03:24.529Z"
   },
   {
    "duration": 14,
    "start_time": "2021-08-15T18:03:46.343Z"
   },
   {
    "duration": 6740,
    "start_time": "2021-08-15T18:05:30.003Z"
   },
   {
    "duration": 12,
    "start_time": "2021-08-15T18:05:48.344Z"
   },
   {
    "duration": 14,
    "start_time": "2021-08-15T18:06:55.508Z"
   },
   {
    "duration": 9,
    "start_time": "2021-08-15T18:12:55.273Z"
   },
   {
    "duration": 13,
    "start_time": "2021-08-15T18:13:03.638Z"
   },
   {
    "duration": 8,
    "start_time": "2021-08-15T18:13:31.726Z"
   },
   {
    "duration": 8,
    "start_time": "2021-08-15T18:14:32.891Z"
   },
   {
    "duration": 6,
    "start_time": "2021-08-15T18:30:09.002Z"
   },
   {
    "duration": 307,
    "start_time": "2021-08-15T18:30:36.878Z"
   },
   {
    "duration": 842,
    "start_time": "2021-08-15T18:32:48.410Z"
   },
   {
    "duration": 114,
    "start_time": "2021-08-15T18:32:49.255Z"
   },
   {
    "duration": 21,
    "start_time": "2021-08-15T18:32:49.372Z"
   },
   {
    "duration": 27,
    "start_time": "2021-08-15T18:32:49.396Z"
   },
   {
    "duration": 41,
    "start_time": "2021-08-15T18:32:49.425Z"
   },
   {
    "duration": 456,
    "start_time": "2021-08-15T18:32:49.469Z"
   },
   {
    "duration": 88,
    "start_time": "2021-08-15T18:32:49.839Z"
   },
   {
    "duration": 8,
    "start_time": "2021-08-15T18:33:05.473Z"
   },
   {
    "duration": 5,
    "start_time": "2021-08-15T18:33:07.835Z"
   },
   {
    "duration": 18,
    "start_time": "2021-08-15T18:33:14.745Z"
   },
   {
    "duration": 610,
    "start_time": "2021-08-16T14:13:55.795Z"
   },
   {
    "duration": 927,
    "start_time": "2021-08-16T14:14:26.700Z"
   },
   {
    "duration": 118,
    "start_time": "2021-08-16T14:14:27.630Z"
   },
   {
    "duration": 32,
    "start_time": "2021-08-16T14:14:27.755Z"
   },
   {
    "duration": 27,
    "start_time": "2021-08-16T14:14:27.789Z"
   },
   {
    "duration": 12,
    "start_time": "2021-08-16T14:14:27.819Z"
   },
   {
    "duration": 9,
    "start_time": "2021-08-16T14:14:27.833Z"
   },
   {
    "duration": 51,
    "start_time": "2021-08-16T14:14:27.844Z"
   },
   {
    "duration": 12,
    "start_time": "2021-08-16T14:14:27.899Z"
   },
   {
    "duration": 22,
    "start_time": "2021-08-16T14:18:33.750Z"
   },
   {
    "duration": 55,
    "start_time": "2021-08-16T14:22:56.299Z"
   },
   {
    "duration": 57,
    "start_time": "2021-08-16T14:24:30.664Z"
   },
   {
    "duration": 23,
    "start_time": "2021-08-16T14:24:52.158Z"
   },
   {
    "duration": 9,
    "start_time": "2021-08-16T14:26:31.723Z"
   },
   {
    "duration": 6,
    "start_time": "2021-08-16T14:26:42.808Z"
   },
   {
    "duration": 18,
    "start_time": "2021-08-16T14:30:46.705Z"
   },
   {
    "duration": 470,
    "start_time": "2021-08-16T14:33:07.334Z"
   },
   {
    "duration": 60,
    "start_time": "2021-08-16T14:33:15.667Z"
   },
   {
    "duration": 36,
    "start_time": "2021-08-16T14:35:16.231Z"
   },
   {
    "duration": 411,
    "start_time": "2021-08-16T17:55:55.391Z"
   },
   {
    "duration": 61,
    "start_time": "2021-08-16T17:55:58.499Z"
   },
   {
    "duration": 60,
    "start_time": "2021-08-16T17:57:43.234Z"
   },
   {
    "duration": 25,
    "start_time": "2021-08-16T17:57:51.171Z"
   },
   {
    "duration": 16,
    "start_time": "2021-08-16T17:59:44.434Z"
   },
   {
    "duration": 12,
    "start_time": "2021-08-16T18:00:25.439Z"
   },
   {
    "duration": 8,
    "start_time": "2021-08-16T18:02:00.408Z"
   },
   {
    "duration": 23,
    "start_time": "2021-08-16T18:02:08.686Z"
   },
   {
    "duration": 712,
    "start_time": "2021-08-16T18:10:40.352Z"
   },
   {
    "duration": 59,
    "start_time": "2021-08-16T18:10:50.815Z"
   },
   {
    "duration": 69,
    "start_time": "2021-08-16T18:11:36.864Z"
   },
   {
    "duration": 57,
    "start_time": "2021-08-16T18:11:43.749Z"
   },
   {
    "duration": 17,
    "start_time": "2021-08-16T18:13:09.120Z"
   },
   {
    "duration": 21,
    "start_time": "2021-08-16T18:13:41.456Z"
   },
   {
    "duration": 20,
    "start_time": "2021-08-16T18:14:03.193Z"
   },
   {
    "duration": 170,
    "start_time": "2021-08-16T18:14:25.411Z"
   },
   {
    "duration": 22,
    "start_time": "2021-08-16T18:15:00.785Z"
   },
   {
    "duration": 24,
    "start_time": "2021-08-16T18:16:08.472Z"
   },
   {
    "duration": 5,
    "start_time": "2021-08-16T18:18:07.487Z"
   },
   {
    "duration": 19,
    "start_time": "2021-08-16T18:29:02.017Z"
   },
   {
    "duration": 27,
    "start_time": "2021-08-16T18:29:14.902Z"
   },
   {
    "duration": 17,
    "start_time": "2021-08-16T18:29:20.629Z"
   },
   {
    "duration": 18,
    "start_time": "2021-08-16T18:29:36.111Z"
   },
   {
    "duration": 984,
    "start_time": "2021-08-16T18:30:06.660Z"
   },
   {
    "duration": 125,
    "start_time": "2021-08-16T18:30:07.647Z"
   },
   {
    "duration": 23,
    "start_time": "2021-08-16T18:30:07.776Z"
   },
   {
    "duration": 28,
    "start_time": "2021-08-16T18:30:07.802Z"
   },
   {
    "duration": 54,
    "start_time": "2021-08-16T18:30:07.833Z"
   },
   {
    "duration": 10,
    "start_time": "2021-08-16T18:30:07.890Z"
   },
   {
    "duration": 14,
    "start_time": "2021-08-16T18:30:07.903Z"
   },
   {
    "duration": 12,
    "start_time": "2021-08-16T18:30:07.920Z"
   },
   {
    "duration": 60,
    "start_time": "2021-08-16T18:30:07.936Z"
   },
   {
    "duration": 20,
    "start_time": "2021-08-16T18:30:07.999Z"
   },
   {
    "duration": 18,
    "start_time": "2021-08-16T18:30:43.176Z"
   },
   {
    "duration": 18,
    "start_time": "2021-08-16T18:30:51.234Z"
   },
   {
    "duration": 17,
    "start_time": "2021-08-16T18:31:34.484Z"
   },
   {
    "duration": 25,
    "start_time": "2021-08-16T18:33:13.346Z"
   },
   {
    "duration": 26,
    "start_time": "2021-08-16T18:33:52.158Z"
   },
   {
    "duration": 24,
    "start_time": "2021-08-16T18:34:03.581Z"
   },
   {
    "duration": 18,
    "start_time": "2021-08-16T18:35:48.776Z"
   },
   {
    "duration": 11,
    "start_time": "2021-08-16T18:37:44.012Z"
   },
   {
    "duration": 13,
    "start_time": "2021-08-16T18:38:34.333Z"
   },
   {
    "duration": 463,
    "start_time": "2021-08-16T18:39:46.920Z"
   },
   {
    "duration": 905,
    "start_time": "2021-08-16T18:43:05.783Z"
   },
   {
    "duration": 120,
    "start_time": "2021-08-16T18:43:06.690Z"
   },
   {
    "duration": 15,
    "start_time": "2021-08-16T18:43:06.813Z"
   },
   {
    "duration": 24,
    "start_time": "2021-08-16T18:43:06.831Z"
   },
   {
    "duration": 14,
    "start_time": "2021-08-16T18:43:06.885Z"
   },
   {
    "duration": 7,
    "start_time": "2021-08-16T18:43:06.902Z"
   },
   {
    "duration": 13,
    "start_time": "2021-08-16T18:43:06.912Z"
   },
   {
    "duration": 12,
    "start_time": "2021-08-16T18:43:06.928Z"
   },
   {
    "duration": 50,
    "start_time": "2021-08-16T18:43:06.943Z"
   },
   {
    "duration": 29,
    "start_time": "2021-08-16T18:43:06.996Z"
   },
   {
    "duration": 6,
    "start_time": "2021-08-16T18:53:25.468Z"
   },
   {
    "duration": 479,
    "start_time": "2021-08-16T18:54:10.876Z"
   },
   {
    "duration": 19,
    "start_time": "2021-08-16T18:55:15.422Z"
   },
   {
    "duration": 68,
    "start_time": "2021-08-16T18:55:31.363Z"
   },
   {
    "duration": 123,
    "start_time": "2021-08-16T18:55:35.768Z"
   },
   {
    "duration": 64,
    "start_time": "2021-08-16T18:58:37.760Z"
   },
   {
    "duration": 119,
    "start_time": "2021-08-16T18:59:07.596Z"
   },
   {
    "duration": 375,
    "start_time": "2021-08-16T19:07:53.099Z"
   },
   {
    "duration": 13,
    "start_time": "2021-08-16T19:09:43.207Z"
   },
   {
    "duration": 27,
    "start_time": "2021-08-16T19:10:09.626Z"
   },
   {
    "duration": 125,
    "start_time": "2021-08-16T19:17:38.450Z"
   },
   {
    "duration": 12,
    "start_time": "2021-08-16T19:17:44.147Z"
   },
   {
    "duration": 11,
    "start_time": "2021-08-16T19:18:26.401Z"
   },
   {
    "duration": 937,
    "start_time": "2021-08-16T19:18:39.090Z"
   },
   {
    "duration": 148,
    "start_time": "2021-08-16T19:18:40.031Z"
   },
   {
    "duration": 22,
    "start_time": "2021-08-16T19:18:40.183Z"
   },
   {
    "duration": 25,
    "start_time": "2021-08-16T19:18:40.208Z"
   },
   {
    "duration": 17,
    "start_time": "2021-08-16T19:18:40.235Z"
   },
   {
    "duration": 38,
    "start_time": "2021-08-16T19:18:40.254Z"
   },
   {
    "duration": 19,
    "start_time": "2021-08-16T19:18:40.294Z"
   },
   {
    "duration": 12,
    "start_time": "2021-08-16T19:18:40.316Z"
   },
   {
    "duration": 11,
    "start_time": "2021-08-16T19:18:40.331Z"
   },
   {
    "duration": 57,
    "start_time": "2021-08-16T19:18:40.345Z"
   },
   {
    "duration": 140,
    "start_time": "2021-08-16T19:18:40.405Z"
   },
   {
    "duration": 16,
    "start_time": "2021-08-16T19:18:40.547Z"
   },
   {
    "duration": 26,
    "start_time": "2021-08-16T19:18:50.276Z"
   },
   {
    "duration": 27,
    "start_time": "2021-08-16T19:20:43.104Z"
   },
   {
    "duration": 28,
    "start_time": "2021-08-16T19:20:53.161Z"
   },
   {
    "duration": 24,
    "start_time": "2021-08-16T19:20:59.517Z"
   },
   {
    "duration": 118,
    "start_time": "2021-08-16T19:23:10.740Z"
   },
   {
    "duration": 3,
    "start_time": "2021-08-16T19:24:44.175Z"
   },
   {
    "duration": 908,
    "start_time": "2021-08-16T19:30:02.370Z"
   },
   {
    "duration": 111,
    "start_time": "2021-08-16T19:30:03.285Z"
   },
   {
    "duration": 17,
    "start_time": "2021-08-16T19:30:03.399Z"
   },
   {
    "duration": 23,
    "start_time": "2021-08-16T19:30:03.419Z"
   },
   {
    "duration": 46,
    "start_time": "2021-08-16T19:30:03.445Z"
   },
   {
    "duration": 9,
    "start_time": "2021-08-16T19:30:03.494Z"
   },
   {
    "duration": 16,
    "start_time": "2021-08-16T19:30:03.506Z"
   },
   {
    "duration": 11,
    "start_time": "2021-08-16T19:30:03.524Z"
   },
   {
    "duration": 47,
    "start_time": "2021-08-16T19:30:03.539Z"
   },
   {
    "duration": 26,
    "start_time": "2021-08-16T19:30:03.589Z"
   },
   {
    "duration": 150,
    "start_time": "2021-08-16T19:30:03.617Z"
   },
   {
    "duration": 43,
    "start_time": "2021-08-16T19:30:03.769Z"
   },
   {
    "duration": 128,
    "start_time": "2021-08-16T19:39:31.756Z"
   },
   {
    "duration": 130,
    "start_time": "2021-08-16T19:40:41.197Z"
   },
   {
    "duration": 128,
    "start_time": "2021-08-16T19:40:52.321Z"
   },
   {
    "duration": 124,
    "start_time": "2021-08-16T19:41:47.070Z"
   },
   {
    "duration": 112,
    "start_time": "2021-08-16T19:42:17.359Z"
   },
   {
    "duration": 450,
    "start_time": "2021-08-16T19:43:54.437Z"
   },
   {
    "duration": 375,
    "start_time": "2021-08-16T19:44:29.459Z"
   },
   {
    "duration": 363,
    "start_time": "2021-08-16T19:46:02.448Z"
   },
   {
    "duration": 9,
    "start_time": "2021-08-16T19:46:37.936Z"
   },
   {
    "duration": 368,
    "start_time": "2021-08-16T19:49:45.584Z"
   },
   {
    "duration": 10,
    "start_time": "2021-08-16T20:03:33.647Z"
   },
   {
    "duration": 15,
    "start_time": "2021-08-16T20:06:35.651Z"
   },
   {
    "duration": 75,
    "start_time": "2021-08-16T20:06:44.887Z"
   },
   {
    "duration": 73,
    "start_time": "2021-08-16T20:07:20.070Z"
   },
   {
    "duration": 70,
    "start_time": "2021-08-16T20:07:33.913Z"
   },
   {
    "duration": 71,
    "start_time": "2021-08-16T20:08:06.980Z"
   },
   {
    "duration": 73,
    "start_time": "2021-08-16T20:09:04.397Z"
   },
   {
    "duration": 75,
    "start_time": "2021-08-16T20:11:20.631Z"
   },
   {
    "duration": 79,
    "start_time": "2021-08-16T20:11:39.029Z"
   },
   {
    "duration": 118,
    "start_time": "2021-08-16T20:12:18.835Z"
   },
   {
    "duration": 75,
    "start_time": "2021-08-16T20:13:06.625Z"
   },
   {
    "duration": 21,
    "start_time": "2021-08-16T20:15:22.240Z"
   },
   {
    "duration": 73,
    "start_time": "2021-08-16T20:15:27.871Z"
   },
   {
    "duration": 1033,
    "start_time": "2021-08-16T20:16:20.284Z"
   },
   {
    "duration": 108,
    "start_time": "2021-08-16T20:16:21.320Z"
   },
   {
    "duration": 15,
    "start_time": "2021-08-16T20:16:21.431Z"
   },
   {
    "duration": 46,
    "start_time": "2021-08-16T20:16:21.449Z"
   },
   {
    "duration": 15,
    "start_time": "2021-08-16T20:16:21.498Z"
   },
   {
    "duration": 8,
    "start_time": "2021-08-16T20:16:21.515Z"
   },
   {
    "duration": 14,
    "start_time": "2021-08-16T20:16:21.526Z"
   },
   {
    "duration": 44,
    "start_time": "2021-08-16T20:16:21.543Z"
   },
   {
    "duration": 9,
    "start_time": "2021-08-16T20:16:21.590Z"
   },
   {
    "duration": 26,
    "start_time": "2021-08-16T20:16:21.601Z"
   },
   {
    "duration": 158,
    "start_time": "2021-08-16T20:16:21.629Z"
   },
   {
    "duration": 31,
    "start_time": "2021-08-16T20:16:21.789Z"
   },
   {
    "duration": 104,
    "start_time": "2021-08-16T20:16:21.823Z"
   },
   {
    "duration": 362,
    "start_time": "2021-08-17T09:08:15.437Z"
   },
   {
    "duration": 814,
    "start_time": "2021-08-17T09:08:25.816Z"
   },
   {
    "duration": 109,
    "start_time": "2021-08-17T09:08:26.633Z"
   },
   {
    "duration": 27,
    "start_time": "2021-08-17T09:08:26.745Z"
   },
   {
    "duration": 25,
    "start_time": "2021-08-17T09:08:26.775Z"
   },
   {
    "duration": 13,
    "start_time": "2021-08-17T09:08:26.802Z"
   },
   {
    "duration": 8,
    "start_time": "2021-08-17T09:08:26.817Z"
   },
   {
    "duration": 47,
    "start_time": "2021-08-17T09:08:26.828Z"
   },
   {
    "duration": 13,
    "start_time": "2021-08-17T09:08:26.877Z"
   },
   {
    "duration": 7,
    "start_time": "2021-08-17T09:08:26.894Z"
   },
   {
    "duration": 25,
    "start_time": "2021-08-17T09:08:26.904Z"
   },
   {
    "duration": 133,
    "start_time": "2021-08-17T09:08:26.968Z"
   },
   {
    "duration": 29,
    "start_time": "2021-08-17T09:08:27.103Z"
   },
   {
    "duration": 443,
    "start_time": "2021-08-17T09:08:27.135Z"
   },
   {
    "duration": 527,
    "start_time": "2021-08-17T09:10:11.540Z"
   },
   {
    "duration": 266,
    "start_time": "2021-08-17T09:24:52.496Z"
   },
   {
    "duration": 1894,
    "start_time": "2021-08-17T09:25:01.264Z"
   },
   {
    "duration": 35,
    "start_time": "2021-08-17T09:25:51.001Z"
   },
   {
    "duration": 109,
    "start_time": "2021-08-17T09:25:59.471Z"
   },
   {
    "duration": 117,
    "start_time": "2021-08-17T09:40:49.756Z"
   },
   {
    "duration": 748,
    "start_time": "2021-08-17T09:41:24.455Z"
   },
   {
    "duration": 942,
    "start_time": "2021-08-17T09:42:01.044Z"
   },
   {
    "duration": 813,
    "start_time": "2021-08-17T09:43:01.449Z"
   },
   {
    "duration": 1591,
    "start_time": "2021-08-17T09:43:41.922Z"
   },
   {
    "duration": 1744,
    "start_time": "2021-08-17T09:43:52.315Z"
   },
   {
    "duration": 1586,
    "start_time": "2021-08-17T09:45:04.820Z"
   },
   {
    "duration": 1319,
    "start_time": "2021-08-17T09:45:23.295Z"
   },
   {
    "duration": 1785,
    "start_time": "2021-08-17T09:45:43.843Z"
   },
   {
    "duration": 2651,
    "start_time": "2021-08-17T09:45:56.702Z"
   },
   {
    "duration": 1694,
    "start_time": "2021-08-17T09:46:04.555Z"
   },
   {
    "duration": 1776,
    "start_time": "2021-08-17T09:47:09.364Z"
   },
   {
    "duration": 1634,
    "start_time": "2021-08-17T09:47:16.503Z"
   },
   {
    "duration": 2563,
    "start_time": "2021-08-17T09:48:00.074Z"
   },
   {
    "duration": 2365,
    "start_time": "2021-08-17T09:48:23.552Z"
   },
   {
    "duration": 2560,
    "start_time": "2021-08-17T09:48:31.684Z"
   },
   {
    "duration": 2741,
    "start_time": "2021-08-17T09:48:47.169Z"
   },
   {
    "duration": 2416,
    "start_time": "2021-08-17T09:50:01.141Z"
   },
   {
    "duration": 2604,
    "start_time": "2021-08-17T09:50:16.808Z"
   },
   {
    "duration": 2397,
    "start_time": "2021-08-17T09:50:28.213Z"
   },
   {
    "duration": 2289,
    "start_time": "2021-08-17T09:50:47.272Z"
   },
   {
    "duration": 2033,
    "start_time": "2021-08-17T09:51:02.401Z"
   },
   {
    "duration": 843,
    "start_time": "2021-08-17T09:53:24.517Z"
   },
   {
    "duration": 161,
    "start_time": "2021-08-17T09:53:25.363Z"
   },
   {
    "duration": 42,
    "start_time": "2021-08-17T09:53:25.533Z"
   },
   {
    "duration": 25,
    "start_time": "2021-08-17T09:53:25.577Z"
   },
   {
    "duration": 18,
    "start_time": "2021-08-17T09:53:25.605Z"
   },
   {
    "duration": 43,
    "start_time": "2021-08-17T09:53:25.626Z"
   },
   {
    "duration": 16,
    "start_time": "2021-08-17T09:53:25.671Z"
   },
   {
    "duration": 16,
    "start_time": "2021-08-17T09:53:25.691Z"
   },
   {
    "duration": 16,
    "start_time": "2021-08-17T09:53:25.710Z"
   },
   {
    "duration": 60,
    "start_time": "2021-08-17T09:53:25.728Z"
   },
   {
    "duration": 170,
    "start_time": "2021-08-17T09:53:25.790Z"
   },
   {
    "duration": 43,
    "start_time": "2021-08-17T09:53:25.962Z"
   },
   {
    "duration": 133,
    "start_time": "2021-08-17T09:53:26.007Z"
   },
   {
    "duration": 2178,
    "start_time": "2021-08-17T09:53:26.142Z"
   },
   {
    "duration": 4247,
    "start_time": "2021-08-17T09:53:47.693Z"
   },
   {
    "duration": 2389,
    "start_time": "2021-08-17T09:54:03.949Z"
   },
   {
    "duration": 6448,
    "start_time": "2021-08-17T10:05:30.599Z"
   },
   {
    "duration": 624,
    "start_time": "2021-08-17T10:06:52.364Z"
   },
   {
    "duration": 655,
    "start_time": "2021-08-17T10:07:05.095Z"
   },
   {
    "duration": 778,
    "start_time": "2021-08-17T10:07:10.489Z"
   },
   {
    "duration": 655,
    "start_time": "2021-08-17T10:09:08.715Z"
   },
   {
    "duration": 276,
    "start_time": "2021-08-17T16:23:34.566Z"
   },
   {
    "duration": 1821,
    "start_time": "2021-08-17T16:24:15.851Z"
   },
   {
    "duration": 244,
    "start_time": "2021-08-17T16:24:34.689Z"
   },
   {
    "duration": 258,
    "start_time": "2021-08-17T16:30:03.365Z"
   },
   {
    "duration": 179,
    "start_time": "2021-08-17T16:30:35.948Z"
   },
   {
    "duration": 798,
    "start_time": "2021-08-17T16:30:42.815Z"
   },
   {
    "duration": 109,
    "start_time": "2021-08-17T16:30:43.616Z"
   },
   {
    "duration": 15,
    "start_time": "2021-08-17T16:30:43.729Z"
   },
   {
    "duration": 42,
    "start_time": "2021-08-17T16:30:43.747Z"
   },
   {
    "duration": 14,
    "start_time": "2021-08-17T16:30:43.792Z"
   },
   {
    "duration": 9,
    "start_time": "2021-08-17T16:30:43.808Z"
   },
   {
    "duration": 50,
    "start_time": "2021-08-17T16:30:43.820Z"
   },
   {
    "duration": 18,
    "start_time": "2021-08-17T16:30:43.873Z"
   },
   {
    "duration": 10,
    "start_time": "2021-08-17T16:30:43.897Z"
   },
   {
    "duration": 78,
    "start_time": "2021-08-17T16:30:43.911Z"
   },
   {
    "duration": 213,
    "start_time": "2021-08-17T16:30:43.993Z"
   },
   {
    "duration": 78,
    "start_time": "2021-08-17T16:30:44.210Z"
   },
   {
    "duration": 178,
    "start_time": "2021-08-17T16:30:44.291Z"
   },
   {
    "duration": 2506,
    "start_time": "2021-08-17T16:30:44.472Z"
   },
   {
    "duration": 659,
    "start_time": "2021-08-17T16:30:46.981Z"
   },
   {
    "duration": 514,
    "start_time": "2021-08-17T16:30:47.642Z"
   },
   {
    "duration": 449,
    "start_time": "2021-08-17T16:33:12.928Z"
   },
   {
    "duration": 1162,
    "start_time": "2021-08-17T16:33:26.736Z"
   },
   {
    "duration": 165,
    "start_time": "2021-08-17T16:33:27.900Z"
   },
   {
    "duration": 23,
    "start_time": "2021-08-17T16:33:28.069Z"
   },
   {
    "duration": 37,
    "start_time": "2021-08-17T16:33:28.096Z"
   },
   {
    "duration": 48,
    "start_time": "2021-08-17T16:33:28.136Z"
   },
   {
    "duration": 11,
    "start_time": "2021-08-17T16:33:28.187Z"
   },
   {
    "duration": 17,
    "start_time": "2021-08-17T16:33:28.202Z"
   },
   {
    "duration": 51,
    "start_time": "2021-08-17T16:33:28.222Z"
   },
   {
    "duration": 15,
    "start_time": "2021-08-17T16:33:28.278Z"
   },
   {
    "duration": 25,
    "start_time": "2021-08-17T16:33:28.296Z"
   },
   {
    "duration": 196,
    "start_time": "2021-08-17T16:33:28.324Z"
   },
   {
    "duration": 64,
    "start_time": "2021-08-17T16:33:28.523Z"
   },
   {
    "duration": 127,
    "start_time": "2021-08-17T16:33:28.590Z"
   },
   {
    "duration": 2601,
    "start_time": "2021-08-17T16:33:28.719Z"
   },
   {
    "duration": 1094,
    "start_time": "2021-08-17T16:33:31.322Z"
   },
   {
    "duration": 371,
    "start_time": "2021-08-17T16:33:32.420Z"
   },
   {
    "duration": 200,
    "start_time": "2021-08-17T16:35:04.599Z"
   },
   {
    "duration": 625,
    "start_time": "2021-08-17T16:35:28.564Z"
   },
   {
    "duration": 1387,
    "start_time": "2021-08-17T16:36:57.910Z"
   },
   {
    "duration": 518,
    "start_time": "2021-08-17T16:37:19.121Z"
   },
   {
    "duration": 1456,
    "start_time": "2021-08-17T16:37:38.715Z"
   },
   {
    "duration": 1584,
    "start_time": "2021-08-17T16:37:47.457Z"
   },
   {
    "duration": 1456,
    "start_time": "2021-08-17T16:37:59.647Z"
   },
   {
    "duration": 2294,
    "start_time": "2021-08-17T16:38:14.597Z"
   },
   {
    "duration": 1350,
    "start_time": "2021-08-17T16:38:26.539Z"
   },
   {
    "duration": 12,
    "start_time": "2021-08-17T16:40:15.407Z"
   },
   {
    "duration": 325,
    "start_time": "2021-08-17T16:43:32.688Z"
   },
   {
    "duration": 290,
    "start_time": "2021-08-17T16:43:44.326Z"
   },
   {
    "duration": 344,
    "start_time": "2021-08-17T16:43:56.830Z"
   },
   {
    "duration": 32,
    "start_time": "2021-08-17T16:44:20.485Z"
   },
   {
    "duration": 153,
    "start_time": "2021-08-17T16:45:15.053Z"
   },
   {
    "duration": 166,
    "start_time": "2021-08-17T16:50:52.726Z"
   },
   {
    "duration": 233,
    "start_time": "2021-08-17T16:51:23.004Z"
   },
   {
    "duration": 185,
    "start_time": "2021-08-17T16:56:31.591Z"
   },
   {
    "duration": 151,
    "start_time": "2021-08-17T16:57:31.697Z"
   },
   {
    "duration": -749,
    "start_time": "2021-08-17T18:01:52.533Z"
   },
   {
    "duration": 696,
    "start_time": "2021-08-17T18:01:57.916Z"
   },
   {
    "duration": 865,
    "start_time": "2021-08-17T18:03:27.089Z"
   },
   {
    "duration": 708,
    "start_time": "2021-08-17T18:03:47.128Z"
   },
   {
    "duration": 697,
    "start_time": "2021-08-17T18:03:52.614Z"
   },
   {
    "duration": 719,
    "start_time": "2021-08-17T18:04:03.488Z"
   },
   {
    "duration": 1443,
    "start_time": "2021-08-17T18:04:29.172Z"
   },
   {
    "duration": 1419,
    "start_time": "2021-08-17T18:04:40.583Z"
   },
   {
    "duration": 2439,
    "start_time": "2021-08-17T18:06:42.254Z"
   },
   {
    "duration": 104,
    "start_time": "2021-08-17T18:07:06.268Z"
   },
   {
    "duration": 986,
    "start_time": "2021-08-17T18:07:15.329Z"
   },
   {
    "duration": 117,
    "start_time": "2021-08-17T18:07:16.318Z"
   },
   {
    "duration": 29,
    "start_time": "2021-08-17T18:07:16.438Z"
   },
   {
    "duration": 26,
    "start_time": "2021-08-17T18:07:16.470Z"
   },
   {
    "duration": 15,
    "start_time": "2021-08-17T18:07:16.499Z"
   },
   {
    "duration": 9,
    "start_time": "2021-08-17T18:07:16.516Z"
   },
   {
    "duration": 49,
    "start_time": "2021-08-17T18:07:16.527Z"
   },
   {
    "duration": 15,
    "start_time": "2021-08-17T18:07:16.579Z"
   },
   {
    "duration": 8,
    "start_time": "2021-08-17T18:07:16.597Z"
   },
   {
    "duration": 60,
    "start_time": "2021-08-17T18:07:16.608Z"
   },
   {
    "duration": 162,
    "start_time": "2021-08-17T18:07:16.671Z"
   },
   {
    "duration": 53,
    "start_time": "2021-08-17T18:07:16.836Z"
   },
   {
    "duration": 119,
    "start_time": "2021-08-17T18:07:16.892Z"
   },
   {
    "duration": 2480,
    "start_time": "2021-08-17T18:07:17.015Z"
   },
   {
    "duration": 665,
    "start_time": "2021-08-17T18:07:19.497Z"
   },
   {
    "duration": 440,
    "start_time": "2021-08-17T18:07:20.167Z"
   },
   {
    "duration": -726,
    "start_time": "2021-08-17T18:07:21.336Z"
   },
   {
    "duration": 150,
    "start_time": "2021-08-17T18:08:09.357Z"
   },
   {
    "duration": 992,
    "start_time": "2021-08-17T18:09:20.784Z"
   },
   {
    "duration": 120,
    "start_time": "2021-08-17T18:09:21.780Z"
   },
   {
    "duration": 16,
    "start_time": "2021-08-17T18:09:21.903Z"
   },
   {
    "duration": 49,
    "start_time": "2021-08-17T18:09:21.921Z"
   },
   {
    "duration": 14,
    "start_time": "2021-08-17T18:09:21.972Z"
   },
   {
    "duration": 8,
    "start_time": "2021-08-17T18:09:21.989Z"
   },
   {
    "duration": 15,
    "start_time": "2021-08-17T18:09:21.999Z"
   },
   {
    "duration": 11,
    "start_time": "2021-08-17T18:09:22.017Z"
   },
   {
    "duration": 41,
    "start_time": "2021-08-17T18:09:22.032Z"
   },
   {
    "duration": 29,
    "start_time": "2021-08-17T18:09:22.076Z"
   },
   {
    "duration": 168,
    "start_time": "2021-08-17T18:09:22.108Z"
   },
   {
    "duration": 39,
    "start_time": "2021-08-17T18:09:22.279Z"
   },
   {
    "duration": 130,
    "start_time": "2021-08-17T18:09:22.320Z"
   },
   {
    "duration": 2506,
    "start_time": "2021-08-17T18:09:22.453Z"
   },
   {
    "duration": 701,
    "start_time": "2021-08-17T18:09:24.966Z"
   },
   {
    "duration": 163,
    "start_time": "2021-08-17T18:09:25.669Z"
   },
   {
    "duration": 7596,
    "start_time": "2021-08-17T18:09:25.835Z"
   },
   {
    "duration": 2129,
    "start_time": "2021-08-17T18:09:53.744Z"
   },
   {
    "duration": 1703,
    "start_time": "2021-08-17T18:11:03.842Z"
   },
   {
    "duration": 1582,
    "start_time": "2021-08-17T18:13:01.280Z"
   },
   {
    "duration": 1388,
    "start_time": "2021-08-17T18:13:30.118Z"
   },
   {
    "duration": 1383,
    "start_time": "2021-08-17T18:14:19.233Z"
   },
   {
    "duration": 1463,
    "start_time": "2021-08-17T18:17:00.744Z"
   },
   {
    "duration": 946,
    "start_time": "2021-08-17T18:18:02.222Z"
   },
   {
    "duration": 116,
    "start_time": "2021-08-17T18:18:03.171Z"
   },
   {
    "duration": 15,
    "start_time": "2021-08-17T18:18:03.291Z"
   },
   {
    "duration": 28,
    "start_time": "2021-08-17T18:18:03.309Z"
   },
   {
    "duration": 39,
    "start_time": "2021-08-17T18:18:03.341Z"
   },
   {
    "duration": 7,
    "start_time": "2021-08-17T18:18:03.382Z"
   },
   {
    "duration": 14,
    "start_time": "2021-08-17T18:18:03.391Z"
   },
   {
    "duration": 13,
    "start_time": "2021-08-17T18:18:03.407Z"
   },
   {
    "duration": 47,
    "start_time": "2021-08-17T18:18:03.423Z"
   },
   {
    "duration": 28,
    "start_time": "2021-08-17T18:18:03.473Z"
   },
   {
    "duration": 152,
    "start_time": "2021-08-17T18:18:03.503Z"
   },
   {
    "duration": 44,
    "start_time": "2021-08-17T18:18:03.658Z"
   },
   {
    "duration": 124,
    "start_time": "2021-08-17T18:18:03.704Z"
   },
   {
    "duration": 2406,
    "start_time": "2021-08-17T18:18:03.830Z"
   },
   {
    "duration": 654,
    "start_time": "2021-08-17T18:18:06.238Z"
   },
   {
    "duration": 174,
    "start_time": "2021-08-17T18:18:06.895Z"
   },
   {
    "duration": 1425,
    "start_time": "2021-08-17T18:18:07.072Z"
   },
   {
    "duration": 1448,
    "start_time": "2021-08-17T18:18:18.142Z"
   },
   {
    "duration": 2104,
    "start_time": "2021-08-17T18:19:50.375Z"
   },
   {
    "duration": 363,
    "start_time": "2021-08-17T18:31:03.843Z"
   },
   {
    "duration": 2159,
    "start_time": "2021-08-17T18:31:21.221Z"
   },
   {
    "duration": 1005,
    "start_time": "2021-08-17T18:33:37.643Z"
   },
   {
    "duration": 111,
    "start_time": "2021-08-17T18:33:38.650Z"
   },
   {
    "duration": 14,
    "start_time": "2021-08-17T18:33:38.768Z"
   },
   {
    "duration": 24,
    "start_time": "2021-08-17T18:33:38.785Z"
   },
   {
    "duration": 12,
    "start_time": "2021-08-17T18:33:38.811Z"
   },
   {
    "duration": 43,
    "start_time": "2021-08-17T18:33:38.826Z"
   },
   {
    "duration": 12,
    "start_time": "2021-08-17T18:33:38.871Z"
   },
   {
    "duration": 11,
    "start_time": "2021-08-17T18:33:38.885Z"
   },
   {
    "duration": 7,
    "start_time": "2021-08-17T18:33:38.900Z"
   },
   {
    "duration": 57,
    "start_time": "2021-08-17T18:33:38.910Z"
   },
   {
    "duration": 144,
    "start_time": "2021-08-17T18:33:38.970Z"
   },
   {
    "duration": 350,
    "start_time": "2021-08-17T18:33:39.116Z"
   },
   {
    "duration": -619,
    "start_time": "2021-08-17T18:33:40.087Z"
   },
   {
    "duration": -657,
    "start_time": "2021-08-17T18:33:40.127Z"
   },
   {
    "duration": -660,
    "start_time": "2021-08-17T18:33:40.131Z"
   },
   {
    "duration": -659,
    "start_time": "2021-08-17T18:33:40.132Z"
   },
   {
    "duration": -659,
    "start_time": "2021-08-17T18:33:40.133Z"
   },
   {
    "duration": 41,
    "start_time": "2021-08-17T18:35:26.985Z"
   },
   {
    "duration": 30,
    "start_time": "2021-08-17T18:38:04.720Z"
   },
   {
    "duration": 64,
    "start_time": "2021-08-17T18:40:41.235Z"
   },
   {
    "duration": 104,
    "start_time": "2021-08-17T18:45:06.176Z"
   },
   {
    "duration": 31,
    "start_time": "2021-08-17T18:45:39.175Z"
   },
   {
    "duration": 285,
    "start_time": "2021-08-17T18:46:54.718Z"
   },
   {
    "duration": 35,
    "start_time": "2021-08-17T18:47:04.966Z"
   },
   {
    "duration": 371,
    "start_time": "2021-08-17T18:47:56.072Z"
   },
   {
    "duration": 35,
    "start_time": "2021-08-17T18:48:01.137Z"
   },
   {
    "duration": 36,
    "start_time": "2021-08-17T18:51:21.039Z"
   },
   {
    "duration": 239,
    "start_time": "2021-08-17T18:53:57.126Z"
   },
   {
    "duration": 29,
    "start_time": "2021-08-17T18:54:09.979Z"
   },
   {
    "duration": 32,
    "start_time": "2021-08-17T18:57:04.329Z"
   },
   {
    "duration": 289,
    "start_time": "2021-08-17T18:58:14.117Z"
   },
   {
    "duration": 266,
    "start_time": "2021-08-17T18:58:27.373Z"
   },
   {
    "duration": 273,
    "start_time": "2021-08-17T18:58:32.395Z"
   },
   {
    "duration": 243,
    "start_time": "2021-08-17T18:59:39.116Z"
   },
   {
    "duration": 264,
    "start_time": "2021-08-17T19:00:26.832Z"
   },
   {
    "duration": 217,
    "start_time": "2021-08-17T19:01:28.965Z"
   },
   {
    "duration": 988,
    "start_time": "2021-08-17T19:02:38.160Z"
   },
   {
    "duration": 118,
    "start_time": "2021-08-17T19:02:39.151Z"
   },
   {
    "duration": 15,
    "start_time": "2021-08-17T19:02:39.272Z"
   },
   {
    "duration": 25,
    "start_time": "2021-08-17T19:02:39.290Z"
   },
   {
    "duration": 14,
    "start_time": "2021-08-17T19:02:39.317Z"
   },
   {
    "duration": 8,
    "start_time": "2021-08-17T19:02:39.367Z"
   },
   {
    "duration": 14,
    "start_time": "2021-08-17T19:02:39.378Z"
   },
   {
    "duration": 11,
    "start_time": "2021-08-17T19:02:39.394Z"
   },
   {
    "duration": 8,
    "start_time": "2021-08-17T19:02:39.409Z"
   },
   {
    "duration": 52,
    "start_time": "2021-08-17T19:02:39.419Z"
   },
   {
    "duration": 134,
    "start_time": "2021-08-17T19:02:39.473Z"
   },
   {
    "duration": 5994,
    "start_time": "2021-08-17T19:02:39.609Z"
   },
   {
    "duration": -659,
    "start_time": "2021-08-17T19:02:46.265Z"
   },
   {
    "duration": -663,
    "start_time": "2021-08-17T19:02:46.270Z"
   },
   {
    "duration": -664,
    "start_time": "2021-08-17T19:02:46.272Z"
   },
   {
    "duration": -664,
    "start_time": "2021-08-17T19:02:46.274Z"
   },
   {
    "duration": -664,
    "start_time": "2021-08-17T19:02:46.275Z"
   },
   {
    "duration": 37,
    "start_time": "2021-08-17T19:03:00.762Z"
   },
   {
    "duration": 42,
    "start_time": "2021-08-17T19:06:21.484Z"
   },
   {
    "duration": 40,
    "start_time": "2021-08-17T19:09:24.913Z"
   },
   {
    "duration": 38,
    "start_time": "2021-08-17T19:10:27.452Z"
   },
   {
    "duration": 35,
    "start_time": "2021-08-17T19:10:58.627Z"
   },
   {
    "duration": 38,
    "start_time": "2021-08-17T19:11:14.017Z"
   },
   {
    "duration": 42,
    "start_time": "2021-08-17T19:12:17.345Z"
   },
   {
    "duration": 43,
    "start_time": "2021-08-17T19:12:45.251Z"
   },
   {
    "duration": 1537,
    "start_time": "2021-08-17T19:13:14.521Z"
   },
   {
    "duration": 115,
    "start_time": "2021-08-17T19:13:16.066Z"
   },
   {
    "duration": 17,
    "start_time": "2021-08-17T19:13:16.186Z"
   },
   {
    "duration": 27,
    "start_time": "2021-08-17T19:13:16.207Z"
   },
   {
    "duration": 15,
    "start_time": "2021-08-17T19:13:16.268Z"
   },
   {
    "duration": 9,
    "start_time": "2021-08-17T19:13:16.286Z"
   },
   {
    "duration": 14,
    "start_time": "2021-08-17T19:13:16.298Z"
   },
   {
    "duration": 54,
    "start_time": "2021-08-17T19:13:16.315Z"
   },
   {
    "duration": 9,
    "start_time": "2021-08-17T19:13:16.373Z"
   },
   {
    "duration": 14,
    "start_time": "2021-08-17T19:13:16.384Z"
   },
   {
    "duration": 155,
    "start_time": "2021-08-17T19:13:16.401Z"
   },
   {
    "duration": 60,
    "start_time": "2021-08-17T19:13:16.567Z"
   },
   {
    "duration": 131,
    "start_time": "2021-08-17T19:13:16.630Z"
   },
   {
    "duration": 2482,
    "start_time": "2021-08-17T19:13:16.767Z"
   },
   {
    "duration": 661,
    "start_time": "2021-08-17T19:13:19.252Z"
   },
   {
    "duration": 168,
    "start_time": "2021-08-17T19:13:19.916Z"
   },
   {
    "duration": 2101,
    "start_time": "2021-08-17T19:13:20.087Z"
   },
   {
    "duration": 2131,
    "start_time": "2021-08-17T19:20:31.023Z"
   },
   {
    "duration": 997,
    "start_time": "2021-08-17T19:22:02.557Z"
   },
   {
    "duration": 238,
    "start_time": "2021-08-17T19:27:50.775Z"
   },
   {
    "duration": 2047,
    "start_time": "2021-08-17T19:27:56.104Z"
   },
   {
    "duration": 101,
    "start_time": "2021-08-17T19:29:10.144Z"
   },
   {
    "duration": 2593,
    "start_time": "2021-08-17T19:29:18.057Z"
   },
   {
    "duration": 268,
    "start_time": "2021-08-17T19:45:11.927Z"
   },
   {
    "duration": 12,
    "start_time": "2021-08-17T19:45:21.244Z"
   },
   {
    "duration": 12,
    "start_time": "2021-08-17T19:45:43.029Z"
   },
   {
    "duration": 8,
    "start_time": "2021-08-17T19:50:19.892Z"
   },
   {
    "duration": 14,
    "start_time": "2021-08-17T19:50:34.145Z"
   },
   {
    "duration": 13,
    "start_time": "2021-08-17T19:50:52.905Z"
   },
   {
    "duration": 264,
    "start_time": "2021-08-17T19:51:04.006Z"
   },
   {
    "duration": 232,
    "start_time": "2021-08-17T19:51:09.582Z"
   },
   {
    "duration": 9,
    "start_time": "2021-08-17T19:51:52.060Z"
   },
   {
    "duration": 16,
    "start_time": "2021-08-17T19:52:49.763Z"
   },
   {
    "duration": 24,
    "start_time": "2021-08-17T19:52:54.629Z"
   },
   {
    "duration": 26,
    "start_time": "2021-08-17T19:53:17.141Z"
   },
   {
    "duration": 261,
    "start_time": "2021-08-17T19:54:48.864Z"
   },
   {
    "duration": 272,
    "start_time": "2021-08-17T19:54:54.581Z"
   },
   {
    "duration": 280,
    "start_time": "2021-08-17T19:55:01.970Z"
   },
   {
    "duration": 19,
    "start_time": "2021-08-17T19:55:39.044Z"
   },
   {
    "duration": 25,
    "start_time": "2021-08-17T19:55:53.812Z"
   },
   {
    "duration": 286,
    "start_time": "2021-08-17T19:56:30.908Z"
   },
   {
    "duration": 228,
    "start_time": "2021-08-17T19:56:42.040Z"
   },
   {
    "duration": 1053,
    "start_time": "2021-08-17T19:57:28.403Z"
   },
   {
    "duration": 17,
    "start_time": "2021-08-17T19:57:42.415Z"
   },
   {
    "duration": 24,
    "start_time": "2021-08-17T19:57:59.625Z"
   },
   {
    "duration": 28,
    "start_time": "2021-08-17T19:58:20.326Z"
   },
   {
    "duration": 258,
    "start_time": "2021-08-17T19:58:53.044Z"
   },
   {
    "duration": 25,
    "start_time": "2021-08-17T19:59:15.152Z"
   },
   {
    "duration": 21,
    "start_time": "2021-08-17T19:59:53.268Z"
   },
   {
    "duration": 24,
    "start_time": "2021-08-17T20:02:47.707Z"
   },
   {
    "duration": 21,
    "start_time": "2021-08-17T20:05:02.228Z"
   },
   {
    "duration": 25,
    "start_time": "2021-08-17T20:05:11.698Z"
   },
   {
    "duration": 57,
    "start_time": "2021-08-17T20:08:04.788Z"
   },
   {
    "duration": 53,
    "start_time": "2021-08-17T20:08:47.780Z"
   },
   {
    "duration": 309,
    "start_time": "2021-08-17T20:41:19.999Z"
   },
   {
    "duration": 12,
    "start_time": "2021-08-17T20:41:32.474Z"
   },
   {
    "duration": 249,
    "start_time": "2021-08-17T20:43:40.462Z"
   },
   {
    "duration": 13,
    "start_time": "2021-08-17T20:43:58.765Z"
   },
   {
    "duration": 14,
    "start_time": "2021-08-17T20:44:44.347Z"
   },
   {
    "duration": 12,
    "start_time": "2021-08-17T20:45:06.599Z"
   },
   {
    "duration": 15,
    "start_time": "2021-08-17T20:45:23.171Z"
   },
   {
    "duration": 70,
    "start_time": "2021-08-17T20:45:52.004Z"
   },
   {
    "duration": 15,
    "start_time": "2021-08-17T20:48:29.666Z"
   },
   {
    "duration": 18,
    "start_time": "2021-08-17T20:48:43.702Z"
   },
   {
    "duration": 16,
    "start_time": "2021-08-17T20:49:15.409Z"
   },
   {
    "duration": 71,
    "start_time": "2021-08-17T20:49:27.140Z"
   },
   {
    "duration": 300,
    "start_time": "2021-08-17T20:49:56.400Z"
   },
   {
    "duration": 79,
    "start_time": "2021-08-17T20:50:25.898Z"
   },
   {
    "duration": 73,
    "start_time": "2021-08-17T20:52:20.587Z"
   },
   {
    "duration": 939,
    "start_time": "2021-08-17T20:54:18.013Z"
   },
   {
    "duration": 115,
    "start_time": "2021-08-17T20:54:18.955Z"
   },
   {
    "duration": 18,
    "start_time": "2021-08-17T20:54:19.074Z"
   },
   {
    "duration": 26,
    "start_time": "2021-08-17T20:54:19.096Z"
   },
   {
    "duration": 48,
    "start_time": "2021-08-17T20:54:19.125Z"
   },
   {
    "duration": 9,
    "start_time": "2021-08-17T20:54:19.180Z"
   },
   {
    "duration": 12,
    "start_time": "2021-08-17T20:54:19.191Z"
   },
   {
    "duration": 12,
    "start_time": "2021-08-17T20:54:19.205Z"
   },
   {
    "duration": 11,
    "start_time": "2021-08-17T20:54:19.277Z"
   },
   {
    "duration": 76,
    "start_time": "2021-08-17T20:54:19.292Z"
   },
   {
    "duration": 233,
    "start_time": "2021-08-17T20:54:19.371Z"
   },
   {
    "duration": 182,
    "start_time": "2021-08-17T20:54:19.608Z"
   },
   {
    "duration": 213,
    "start_time": "2021-08-17T20:54:19.793Z"
   },
   {
    "duration": 2714,
    "start_time": "2021-08-17T20:54:20.008Z"
   },
   {
    "duration": 674,
    "start_time": "2021-08-17T20:54:22.724Z"
   },
   {
    "duration": 165,
    "start_time": "2021-08-17T20:54:23.400Z"
   },
   {
    "duration": 2153,
    "start_time": "2021-08-17T20:54:23.569Z"
   },
   {
    "duration": 70,
    "start_time": "2021-08-17T20:54:25.725Z"
   },
   {
    "duration": 88,
    "start_time": "2021-08-17T20:54:25.798Z"
   },
   {
    "duration": 73,
    "start_time": "2021-08-17T20:54:51.830Z"
   },
   {
    "duration": 393,
    "start_time": "2021-08-17T20:55:11.511Z"
   },
   {
    "duration": 75,
    "start_time": "2021-08-17T20:56:58.879Z"
   },
   {
    "duration": 20,
    "start_time": "2021-08-17T20:59:02.664Z"
   },
   {
    "duration": 301,
    "start_time": "2021-08-17T20:59:13.792Z"
   },
   {
    "duration": 323,
    "start_time": "2021-08-17T20:59:27.802Z"
   },
   {
    "duration": 356,
    "start_time": "2021-08-17T20:59:53.564Z"
   },
   {
    "duration": 6307,
    "start_time": "2021-08-17T21:02:21.577Z"
   },
   {
    "duration": 21,
    "start_time": "2021-08-17T21:03:11.933Z"
   },
   {
    "duration": 6154,
    "start_time": "2021-08-17T21:04:13.341Z"
   },
   {
    "duration": 6687,
    "start_time": "2021-08-17T21:04:39.439Z"
   },
   {
    "duration": 80,
    "start_time": "2021-08-17T21:04:51.675Z"
   },
   {
    "duration": 21,
    "start_time": "2021-08-17T21:04:55.479Z"
   },
   {
    "duration": 197,
    "start_time": "2021-08-17T21:08:44.343Z"
   },
   {
    "duration": 395,
    "start_time": "2021-08-17T21:09:10.779Z"
   },
   {
    "duration": 5746,
    "start_time": "2021-08-17T21:09:30.838Z"
   },
   {
    "duration": 5910,
    "start_time": "2021-08-17T21:09:36.948Z"
   },
   {
    "duration": 222,
    "start_time": "2021-08-17T21:10:06.099Z"
   },
   {
    "duration": 286,
    "start_time": "2021-08-17T21:11:20.694Z"
   },
   {
    "duration": 382,
    "start_time": "2021-08-17T21:12:31.576Z"
   },
   {
    "duration": 21,
    "start_time": "2021-08-17T21:14:34.128Z"
   },
   {
    "duration": 277,
    "start_time": "2021-08-17T21:14:41.647Z"
   },
   {
    "duration": 2374,
    "start_time": "2021-08-17T22:09:36.112Z"
   },
   {
    "duration": 2099,
    "start_time": "2021-08-17T22:09:48.627Z"
   },
   {
    "duration": 2359,
    "start_time": "2021-08-17T22:15:48.697Z"
   },
   {
    "duration": 2174,
    "start_time": "2021-08-17T22:16:30.230Z"
   },
   {
    "duration": 1998,
    "start_time": "2021-08-17T22:21:25.090Z"
   },
   {
    "duration": 233,
    "start_time": "2021-08-17T22:22:42.996Z"
   },
   {
    "duration": 279,
    "start_time": "2021-08-17T22:23:05.430Z"
   },
   {
    "duration": 1444,
    "start_time": "2021-08-17T22:23:30.524Z"
   },
   {
    "duration": 1613,
    "start_time": "2021-08-17T22:24:10.447Z"
   },
   {
    "duration": 773,
    "start_time": "2021-08-18T05:51:04.656Z"
   },
   {
    "duration": 66,
    "start_time": "2021-08-18T05:51:05.432Z"
   },
   {
    "duration": 12,
    "start_time": "2021-08-18T05:51:05.501Z"
   },
   {
    "duration": 46,
    "start_time": "2021-08-18T05:51:05.514Z"
   },
   {
    "duration": 26,
    "start_time": "2021-08-18T05:51:05.562Z"
   },
   {
    "duration": 30,
    "start_time": "2021-08-18T05:51:05.590Z"
   },
   {
    "duration": 33,
    "start_time": "2021-08-18T05:51:05.622Z"
   },
   {
    "duration": 27,
    "start_time": "2021-08-18T05:51:05.657Z"
   },
   {
    "duration": 41,
    "start_time": "2021-08-18T05:51:05.687Z"
   },
   {
    "duration": 39,
    "start_time": "2021-08-18T05:51:05.730Z"
   },
   {
    "duration": 99,
    "start_time": "2021-08-18T05:51:05.771Z"
   },
   {
    "duration": 41,
    "start_time": "2021-08-18T05:51:05.872Z"
   },
   {
    "duration": 125,
    "start_time": "2021-08-18T05:51:05.916Z"
   },
   {
    "duration": 1428,
    "start_time": "2021-08-18T05:51:06.043Z"
   },
   {
    "duration": 375,
    "start_time": "2021-08-18T05:51:07.473Z"
   },
   {
    "duration": 113,
    "start_time": "2021-08-18T05:51:07.850Z"
   },
   {
    "duration": 1458,
    "start_time": "2021-08-18T05:51:07.964Z"
   },
   {
    "duration": 41,
    "start_time": "2021-08-18T05:51:09.423Z"
   },
   {
    "duration": 53,
    "start_time": "2021-08-18T05:51:09.466Z"
   },
   {
    "duration": 29,
    "start_time": "2021-08-18T05:51:09.521Z"
   },
   {
    "duration": 178,
    "start_time": "2021-08-18T05:51:09.552Z"
   },
   {
    "duration": 1292,
    "start_time": "2021-08-18T05:51:09.731Z"
   },
   {
    "duration": 921,
    "start_time": "2021-08-18T05:51:11.024Z"
   },
   {
    "duration": 284,
    "start_time": "2021-08-18T17:56:41.719Z"
   },
   {
    "duration": 795,
    "start_time": "2021-08-18T18:03:44.480Z"
   },
   {
    "duration": 77,
    "start_time": "2021-08-18T18:03:45.277Z"
   },
   {
    "duration": 12,
    "start_time": "2021-08-18T18:03:45.357Z"
   },
   {
    "duration": 37,
    "start_time": "2021-08-18T18:03:45.371Z"
   },
   {
    "duration": 12,
    "start_time": "2021-08-18T18:03:45.410Z"
   },
   {
    "duration": 6,
    "start_time": "2021-08-18T18:03:45.424Z"
   },
   {
    "duration": 11,
    "start_time": "2021-08-18T18:03:45.432Z"
   },
   {
    "duration": 8,
    "start_time": "2021-08-18T18:03:45.446Z"
   },
   {
    "duration": 41,
    "start_time": "2021-08-18T18:03:45.456Z"
   },
   {
    "duration": 11,
    "start_time": "2021-08-18T18:03:45.499Z"
   },
   {
    "duration": 109,
    "start_time": "2021-08-18T18:03:45.512Z"
   },
   {
    "duration": 43,
    "start_time": "2021-08-18T18:03:45.622Z"
   },
   {
    "duration": 92,
    "start_time": "2021-08-18T18:03:45.666Z"
   },
   {
    "duration": 1819,
    "start_time": "2021-08-18T18:03:45.760Z"
   },
   {
    "duration": 397,
    "start_time": "2021-08-18T18:03:47.581Z"
   },
   {
    "duration": 116,
    "start_time": "2021-08-18T18:03:47.981Z"
   },
   {
    "duration": 1530,
    "start_time": "2021-08-18T18:03:48.099Z"
   },
   {
    "duration": 41,
    "start_time": "2021-08-18T18:03:49.630Z"
   },
   {
    "duration": 73,
    "start_time": "2021-08-18T18:03:49.673Z"
   },
   {
    "duration": 15,
    "start_time": "2021-08-18T18:03:49.748Z"
   },
   {
    "duration": 177,
    "start_time": "2021-08-18T18:03:49.764Z"
   },
   {
    "duration": 1304,
    "start_time": "2021-08-18T18:03:49.943Z"
   },
   {
    "duration": 1191,
    "start_time": "2021-08-18T18:03:51.250Z"
   },
   {
    "duration": 26,
    "start_time": "2021-08-18T18:04:52.171Z"
   },
   {
    "duration": 11,
    "start_time": "2021-08-18T18:04:55.547Z"
   },
   {
    "duration": 795,
    "start_time": "2021-08-18T18:05:17.800Z"
   },
   {
    "duration": 74,
    "start_time": "2021-08-18T18:05:18.597Z"
   },
   {
    "duration": 24,
    "start_time": "2021-08-18T18:05:18.673Z"
   },
   {
    "duration": 21,
    "start_time": "2021-08-18T18:05:18.699Z"
   },
   {
    "duration": 10,
    "start_time": "2021-08-18T18:05:18.722Z"
   },
   {
    "duration": 7,
    "start_time": "2021-08-18T18:05:18.734Z"
   },
   {
    "duration": 11,
    "start_time": "2021-08-18T18:05:18.742Z"
   },
   {
    "duration": 39,
    "start_time": "2021-08-18T18:05:18.755Z"
   },
   {
    "duration": 7,
    "start_time": "2021-08-18T18:05:18.797Z"
   },
   {
    "duration": 12,
    "start_time": "2021-08-18T18:05:18.806Z"
   },
   {
    "duration": 112,
    "start_time": "2021-08-18T18:05:18.820Z"
   },
   {
    "duration": 40,
    "start_time": "2021-08-18T18:05:18.935Z"
   },
   {
    "duration": 87,
    "start_time": "2021-08-18T18:05:18.978Z"
   },
   {
    "duration": 2045,
    "start_time": "2021-08-18T18:05:19.067Z"
   },
   {
    "duration": 397,
    "start_time": "2021-08-18T18:05:21.115Z"
   },
   {
    "duration": 123,
    "start_time": "2021-08-18T18:05:21.515Z"
   },
   {
    "duration": 1508,
    "start_time": "2021-08-18T18:05:21.640Z"
   },
   {
    "duration": 54,
    "start_time": "2021-08-18T18:05:23.150Z"
   },
   {
    "duration": 57,
    "start_time": "2021-08-18T18:05:23.205Z"
   },
   {
    "duration": 31,
    "start_time": "2021-08-18T18:05:23.264Z"
   },
   {
    "duration": 179,
    "start_time": "2021-08-18T18:05:23.297Z"
   },
   {
    "duration": 1336,
    "start_time": "2021-08-18T18:05:23.478Z"
   },
   {
    "duration": 985,
    "start_time": "2021-08-18T18:05:24.817Z"
   },
   {
    "duration": 1821,
    "start_time": "2021-08-18T18:08:17.558Z"
   },
   {
    "duration": 1563,
    "start_time": "2021-08-18T18:11:49.973Z"
   },
   {
    "duration": 1520,
    "start_time": "2021-08-18T18:12:03.418Z"
   },
   {
    "duration": 1785,
    "start_time": "2021-08-18T18:21:56.852Z"
   },
   {
    "duration": 4,
    "start_time": "2021-08-18T18:25:36.987Z"
   },
   {
    "duration": 3013,
    "start_time": "2021-08-18T18:29:31.870Z"
   },
   {
    "duration": 1571,
    "start_time": "2021-08-18T18:29:51.554Z"
   },
   {
    "duration": 1212,
    "start_time": "2021-08-18T18:31:14.955Z"
   },
   {
    "duration": 795,
    "start_time": "2021-08-18T18:33:08.068Z"
   },
   {
    "duration": 77,
    "start_time": "2021-08-18T18:33:08.865Z"
   },
   {
    "duration": 11,
    "start_time": "2021-08-18T18:33:08.944Z"
   },
   {
    "duration": 37,
    "start_time": "2021-08-18T18:33:08.957Z"
   },
   {
    "duration": 9,
    "start_time": "2021-08-18T18:33:08.996Z"
   },
   {
    "duration": 5,
    "start_time": "2021-08-18T18:33:09.007Z"
   },
   {
    "duration": 12,
    "start_time": "2021-08-18T18:33:09.014Z"
   },
   {
    "duration": 9,
    "start_time": "2021-08-18T18:33:09.028Z"
   },
   {
    "duration": 5,
    "start_time": "2021-08-18T18:33:09.039Z"
   },
   {
    "duration": 11,
    "start_time": "2021-08-18T18:33:09.046Z"
   },
   {
    "duration": 113,
    "start_time": "2021-08-18T18:33:09.059Z"
   },
   {
    "duration": 56,
    "start_time": "2021-08-18T18:33:09.173Z"
   },
   {
    "duration": 88,
    "start_time": "2021-08-18T18:33:09.231Z"
   },
   {
    "duration": 3,
    "start_time": "2021-08-18T18:33:09.321Z"
   },
   {
    "duration": 1675,
    "start_time": "2021-08-18T18:33:09.326Z"
   },
   {
    "duration": 452,
    "start_time": "2021-08-18T18:33:11.003Z"
   },
   {
    "duration": 115,
    "start_time": "2021-08-18T18:33:11.457Z"
   },
   {
    "duration": 1589,
    "start_time": "2021-08-18T18:33:11.574Z"
   },
   {
    "duration": 56,
    "start_time": "2021-08-18T18:33:13.165Z"
   },
   {
    "duration": 70,
    "start_time": "2021-08-18T18:33:13.223Z"
   },
   {
    "duration": 17,
    "start_time": "2021-08-18T18:33:13.295Z"
   },
   {
    "duration": 190,
    "start_time": "2021-08-18T18:33:13.313Z"
   },
   {
    "duration": 1352,
    "start_time": "2021-08-18T18:33:13.506Z"
   },
   {
    "duration": 999,
    "start_time": "2021-08-18T18:33:14.860Z"
   },
   {
    "duration": 3,
    "start_time": "2021-08-18T18:37:19.537Z"
   },
   {
    "duration": 351,
    "start_time": "2021-08-18T18:38:32.386Z"
   },
   {
    "duration": 3137,
    "start_time": "2021-08-18T18:38:50.146Z"
   },
   {
    "duration": 1769,
    "start_time": "2021-08-18T18:39:05.400Z"
   },
   {
    "duration": 1622,
    "start_time": "2021-08-18T18:39:57.028Z"
   },
   {
    "duration": 1491,
    "start_time": "2021-08-18T18:41:03.087Z"
   },
   {
    "duration": 1385,
    "start_time": "2021-08-18T18:41:13.090Z"
   },
   {
    "duration": 878,
    "start_time": "2021-08-18T18:41:32.878Z"
   },
   {
    "duration": 85,
    "start_time": "2021-08-18T18:41:33.758Z"
   },
   {
    "duration": 11,
    "start_time": "2021-08-18T18:41:33.845Z"
   },
   {
    "duration": 38,
    "start_time": "2021-08-18T18:41:33.859Z"
   },
   {
    "duration": 19,
    "start_time": "2021-08-18T18:41:33.900Z"
   },
   {
    "duration": 6,
    "start_time": "2021-08-18T18:41:33.921Z"
   },
   {
    "duration": 11,
    "start_time": "2021-08-18T18:41:33.929Z"
   },
   {
    "duration": 10,
    "start_time": "2021-08-18T18:41:33.943Z"
   },
   {
    "duration": 42,
    "start_time": "2021-08-18T18:41:33.956Z"
   },
   {
    "duration": 17,
    "start_time": "2021-08-18T18:41:34.001Z"
   },
   {
    "duration": 109,
    "start_time": "2021-08-18T18:41:34.020Z"
   },
   {
    "duration": 41,
    "start_time": "2021-08-18T18:41:34.131Z"
   },
   {
    "duration": 99,
    "start_time": "2021-08-18T18:41:34.174Z"
   },
   {
    "duration": 4,
    "start_time": "2021-08-18T18:41:34.275Z"
   },
   {
    "duration": 1686,
    "start_time": "2021-08-18T18:41:34.292Z"
   },
   {
    "duration": 435,
    "start_time": "2021-08-18T18:41:35.980Z"
   },
   {
    "duration": 118,
    "start_time": "2021-08-18T18:41:36.417Z"
   },
   {
    "duration": 3,
    "start_time": "2021-08-18T18:41:36.537Z"
   },
   {
    "duration": 1755,
    "start_time": "2021-08-18T18:41:36.541Z"
   },
   {
    "duration": 56,
    "start_time": "2021-08-18T18:41:38.298Z"
   },
   {
    "duration": 87,
    "start_time": "2021-08-18T18:41:38.356Z"
   },
   {
    "duration": 16,
    "start_time": "2021-08-18T18:41:38.445Z"
   },
   {
    "duration": 211,
    "start_time": "2021-08-18T18:41:38.464Z"
   },
   {
    "duration": 1516,
    "start_time": "2021-08-18T18:41:38.677Z"
   },
   {
    "duration": 1615,
    "start_time": "2021-08-18T18:41:40.195Z"
   },
   {
    "duration": 779,
    "start_time": "2021-08-18T18:49:42.122Z"
   },
   {
    "duration": 77,
    "start_time": "2021-08-18T18:49:42.904Z"
   },
   {
    "duration": 12,
    "start_time": "2021-08-18T18:49:42.991Z"
   },
   {
    "duration": 22,
    "start_time": "2021-08-18T18:49:43.005Z"
   },
   {
    "duration": 9,
    "start_time": "2021-08-18T18:49:43.029Z"
   },
   {
    "duration": 5,
    "start_time": "2021-08-18T18:49:43.040Z"
   },
   {
    "duration": 11,
    "start_time": "2021-08-18T18:49:43.047Z"
   },
   {
    "duration": 9,
    "start_time": "2021-08-18T18:49:43.091Z"
   },
   {
    "duration": 6,
    "start_time": "2021-08-18T18:49:43.103Z"
   },
   {
    "duration": 12,
    "start_time": "2021-08-18T18:49:43.111Z"
   },
   {
    "duration": 106,
    "start_time": "2021-08-18T18:49:43.125Z"
   },
   {
    "duration": 45,
    "start_time": "2021-08-18T18:49:43.233Z"
   },
   {
    "duration": 81,
    "start_time": "2021-08-18T18:49:43.291Z"
   },
   {
    "duration": 4,
    "start_time": "2021-08-18T18:49:43.374Z"
   },
   {
    "duration": 1537,
    "start_time": "2021-08-18T18:49:43.394Z"
   },
   {
    "duration": 414,
    "start_time": "2021-08-18T18:49:44.933Z"
   },
   {
    "duration": 118,
    "start_time": "2021-08-18T18:49:45.349Z"
   },
   {
    "duration": 3,
    "start_time": "2021-08-18T18:49:45.469Z"
   },
   {
    "duration": 1488,
    "start_time": "2021-08-18T18:49:45.474Z"
   },
   {
    "duration": 56,
    "start_time": "2021-08-18T18:49:46.964Z"
   },
   {
    "duration": 71,
    "start_time": "2021-08-18T18:49:47.022Z"
   },
   {
    "duration": 16,
    "start_time": "2021-08-18T18:49:47.095Z"
   },
   {
    "duration": 184,
    "start_time": "2021-08-18T18:49:47.113Z"
   },
   {
    "duration": 1314,
    "start_time": "2021-08-18T18:49:47.299Z"
   },
   {
    "duration": 1535,
    "start_time": "2021-08-18T18:49:48.615Z"
   }
  ],
  "kernelspec": {
   "display_name": "Python 3 (ipykernel)",
   "language": "python",
   "name": "python3"
  },
  "language_info": {
   "codemirror_mode": {
    "name": "ipython",
    "version": 3
   },
   "file_extension": ".py",
   "mimetype": "text/x-python",
   "name": "python",
   "nbconvert_exporter": "python",
   "pygments_lexer": "ipython3",
   "version": "3.9.7"
  },
  "toc": {
   "base_numbering": 1,
   "nav_menu": {},
   "number_sections": true,
   "sideBar": true,
   "skip_h1_title": true,
   "title_cell": "Содержание",
   "title_sidebar": "Contents",
   "toc_cell": true,
   "toc_position": {
    "height": "calc(100% - 180px)",
    "left": "10px",
    "top": "150px",
    "width": "165px"
   },
   "toc_section_display": true,
   "toc_window_display": true
  }
 },
 "nbformat": 4,
 "nbformat_minor": 4
}
