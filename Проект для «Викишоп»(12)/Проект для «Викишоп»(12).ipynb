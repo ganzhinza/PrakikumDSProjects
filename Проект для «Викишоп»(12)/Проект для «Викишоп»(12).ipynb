{
 "cells": [
  {
   "cell_type": "markdown",
   "metadata": {
    "toc": true
   },
   "source": [
    "<h1>Содержание<span class=\"tocSkip\"></span></h1>\n",
    "<div class=\"toc\"><ul class=\"toc-item\"><li><span><a href=\"#Подготовка\" data-toc-modified-id=\"Подготовка-1\"><span class=\"toc-item-num\">1&nbsp;&nbsp;</span>Подготовка</a></span><ul class=\"toc-item\"><li><span><a href=\"#Загрузка-данных-и-первичный-анализ\" data-toc-modified-id=\"Загрузка-данных-и-первичный-анализ-1.1\"><span class=\"toc-item-num\">1.1&nbsp;&nbsp;</span>Загрузка данных и первичный анализ</a></span></li><li><span><a href=\"#Лемматизация-текста\" data-toc-modified-id=\"Лемматизация-текста-1.2\"><span class=\"toc-item-num\">1.2&nbsp;&nbsp;</span>Лемматизация текста</a></span></li><li><span><a href=\"#Выделение-тестовой-выбрки\" data-toc-modified-id=\"Выделение-тестовой-выбрки-1.3\"><span class=\"toc-item-num\">1.3&nbsp;&nbsp;</span>Выделение тестовой выбрки</a></span></li><li><span><a href=\"#Вычисление-TF-IDF-и-удаление-стоп-слов\" data-toc-modified-id=\"Вычисление-TF-IDF-и-удаление-стоп-слов-1.4\"><span class=\"toc-item-num\">1.4&nbsp;&nbsp;</span>Вычисление TF-IDF и удаление стоп слов</a></span></li></ul></li><li><span><a href=\"#Обучение\" data-toc-modified-id=\"Обучение-2\"><span class=\"toc-item-num\">2&nbsp;&nbsp;</span>Обучение</a></span><ul class=\"toc-item\"><li><span><a href=\"#Модель-логистической-регрессии\" data-toc-modified-id=\"Модель-логистической-регрессии-2.1\"><span class=\"toc-item-num\">2.1&nbsp;&nbsp;</span>Модель логистической регрессии</a></span></li><li><span><a href=\"#Модель-дерева-решений\" data-toc-modified-id=\"Модель-дерева-решений-2.2\"><span class=\"toc-item-num\">2.2&nbsp;&nbsp;</span>Модель дерева решений</a></span></li><li><span><a href=\"#Модель-случайного-леса\" data-toc-modified-id=\"Модель-случайного-леса-2.3\"><span class=\"toc-item-num\">2.3&nbsp;&nbsp;</span>Модель случайного леса</a></span></li><li><span><a href=\"#Проверка-на-тестовой-выборке\" data-toc-modified-id=\"Проверка-на-тестовой-выборке-2.4\"><span class=\"toc-item-num\">2.4&nbsp;&nbsp;</span>Проверка на тестовой выборке</a></span></li></ul></li><li><span><a href=\"#Выводы\" data-toc-modified-id=\"Выводы-3\"><span class=\"toc-item-num\">3&nbsp;&nbsp;</span>Выводы</a></span></li><li><span><a href=\"#Чек-лист-проверки\" data-toc-modified-id=\"Чек-лист-проверки-4\"><span class=\"toc-item-num\">4&nbsp;&nbsp;</span>Чек-лист проверки</a></span></li></ul></div>"
   ]
  },
  {
   "cell_type": "markdown",
   "metadata": {},
   "source": [
    "# Проект для «Викишоп»"
   ]
  },
  {
   "cell_type": "markdown",
   "metadata": {},
   "source": [
    "Интернет-магазин «Викишоп» запускает новый сервис. Теперь пользователи могут редактировать и дополнять описания товаров, как в вики-сообществах. То есть клиенты предлагают свои правки и комментируют изменения других. Магазину нужен инструмент, который будет искать токсичные комментарии и отправлять их на модерацию. \n",
    "\n",
    "Обучите модель классифицировать комментарии на позитивные и негативные. В вашем распоряжении набор данных с разметкой о токсичности правок.\n",
    "\n",
    "Постройте модель со значением метрики качества *F1* не меньше 0.75. \n",
    "\n",
    "**Инструкция по выполнению проекта**\n",
    "\n",
    "1. Загрузите и подготовьте данные.\n",
    "2. Обучите разные модели. \n",
    "3. Сделайте выводы.\n",
    "\n",
    "Для выполнения проекта применять *BERT* необязательно, но вы можете попробовать.\n",
    "\n",
    "**Описание данных**\n",
    "\n",
    "Данные находятся в файле `toxic_comments.csv`. Столбец *text* в нём содержит текст комментария, а *toxic* — целевой признак."
   ]
  },
  {
   "cell_type": "markdown",
   "metadata": {},
   "source": [
    "## Подготовка"
   ]
  },
  {
   "cell_type": "code",
   "execution_count": 1,
   "metadata": {},
   "outputs": [],
   "source": [
    "import numpy as np\n",
    "import pandas as pd\n",
    "from pymystem3 import Mystem\n",
    "import re\n",
    "import nltk\n",
    "from nltk.corpus import stopwords as nltk_stopwords\n",
    "from sklearn.feature_extraction.text import TfidfVectorizer\n",
    "from sklearn.linear_model import LogisticRegression\n",
    "from sklearn.metrics import f1_score\n",
    "from sklearn.model_selection import cross_val_score\n",
    "from sklearn.metrics import make_scorer\n",
    "from sklearn.model_selection import train_test_split\n",
    "from sklearn.tree import DecisionTreeClassifier\n",
    "from sklearn.ensemble import RandomForestClassifier\n",
    "from sklearn.utils import shuffle\n",
    "import matplotlib.pyplot as plt\n",
    "from sklearn.metrics import roc_auc_score\n",
    "from sklearn.metrics import roc_curve\n",
    "from nltk.stem import WordNetLemmatizer \n",
    "from sklearn.pipeline import Pipeline"
   ]
  },
  {
   "cell_type": "markdown",
   "metadata": {},
   "source": [
    "### Загрузка данных и первичный анализ"
   ]
  },
  {
   "cell_type": "code",
   "execution_count": 2,
   "metadata": {},
   "outputs": [
    {
     "data": {
      "text/html": [
       "<div>\n",
       "<style scoped>\n",
       "    .dataframe tbody tr th:only-of-type {\n",
       "        vertical-align: middle;\n",
       "    }\n",
       "\n",
       "    .dataframe tbody tr th {\n",
       "        vertical-align: top;\n",
       "    }\n",
       "\n",
       "    .dataframe thead th {\n",
       "        text-align: right;\n",
       "    }\n",
       "</style>\n",
       "<table border=\"1\" class=\"dataframe\">\n",
       "  <thead>\n",
       "    <tr style=\"text-align: right;\">\n",
       "      <th></th>\n",
       "      <th>text</th>\n",
       "      <th>toxic</th>\n",
       "    </tr>\n",
       "  </thead>\n",
       "  <tbody>\n",
       "    <tr>\n",
       "      <td>0</td>\n",
       "      <td>Explanation\\nWhy the edits made under my usern...</td>\n",
       "      <td>0</td>\n",
       "    </tr>\n",
       "    <tr>\n",
       "      <td>1</td>\n",
       "      <td>D'aww! He matches this background colour I'm s...</td>\n",
       "      <td>0</td>\n",
       "    </tr>\n",
       "    <tr>\n",
       "      <td>2</td>\n",
       "      <td>Hey man, I'm really not trying to edit war. It...</td>\n",
       "      <td>0</td>\n",
       "    </tr>\n",
       "    <tr>\n",
       "      <td>3</td>\n",
       "      <td>\"\\nMore\\nI can't make any real suggestions on ...</td>\n",
       "      <td>0</td>\n",
       "    </tr>\n",
       "    <tr>\n",
       "      <td>4</td>\n",
       "      <td>You, sir, are my hero. Any chance you remember...</td>\n",
       "      <td>0</td>\n",
       "    </tr>\n",
       "  </tbody>\n",
       "</table>\n",
       "</div>"
      ],
      "text/plain": [
       "                                                text  toxic\n",
       "0  Explanation\\nWhy the edits made under my usern...      0\n",
       "1  D'aww! He matches this background colour I'm s...      0\n",
       "2  Hey man, I'm really not trying to edit war. It...      0\n",
       "3  \"\\nMore\\nI can't make any real suggestions on ...      0\n",
       "4  You, sir, are my hero. Any chance you remember...      0"
      ]
     },
     "execution_count": 2,
     "metadata": {},
     "output_type": "execute_result"
    }
   ],
   "source": [
    "data = pd.read_csv('/datasets/toxic_comments.csv')\n",
    "data.head()"
   ]
  },
  {
   "cell_type": "code",
   "execution_count": 3,
   "metadata": {},
   "outputs": [
    {
     "name": "stdout",
     "output_type": "stream",
     "text": [
      "<class 'pandas.core.frame.DataFrame'>\n",
      "RangeIndex: 159571 entries, 0 to 159570\n",
      "Data columns (total 2 columns):\n",
      "text     159571 non-null object\n",
      "toxic    159571 non-null int64\n",
      "dtypes: int64(1), object(1)\n",
      "memory usage: 2.4+ MB\n"
     ]
    }
   ],
   "source": [
    "data.info()"
   ]
  },
  {
   "cell_type": "code",
   "execution_count": 4,
   "metadata": {},
   "outputs": [
    {
     "data": {
      "text/html": [
       "<div>\n",
       "<style scoped>\n",
       "    .dataframe tbody tr th:only-of-type {\n",
       "        vertical-align: middle;\n",
       "    }\n",
       "\n",
       "    .dataframe tbody tr th {\n",
       "        vertical-align: top;\n",
       "    }\n",
       "\n",
       "    .dataframe thead th {\n",
       "        text-align: right;\n",
       "    }\n",
       "</style>\n",
       "<table border=\"1\" class=\"dataframe\">\n",
       "  <thead>\n",
       "    <tr style=\"text-align: right;\">\n",
       "      <th></th>\n",
       "      <th>toxic</th>\n",
       "    </tr>\n",
       "  </thead>\n",
       "  <tbody>\n",
       "    <tr>\n",
       "      <td>count</td>\n",
       "      <td>159571.000000</td>\n",
       "    </tr>\n",
       "    <tr>\n",
       "      <td>mean</td>\n",
       "      <td>0.101679</td>\n",
       "    </tr>\n",
       "    <tr>\n",
       "      <td>std</td>\n",
       "      <td>0.302226</td>\n",
       "    </tr>\n",
       "    <tr>\n",
       "      <td>min</td>\n",
       "      <td>0.000000</td>\n",
       "    </tr>\n",
       "    <tr>\n",
       "      <td>25%</td>\n",
       "      <td>0.000000</td>\n",
       "    </tr>\n",
       "    <tr>\n",
       "      <td>50%</td>\n",
       "      <td>0.000000</td>\n",
       "    </tr>\n",
       "    <tr>\n",
       "      <td>75%</td>\n",
       "      <td>0.000000</td>\n",
       "    </tr>\n",
       "    <tr>\n",
       "      <td>max</td>\n",
       "      <td>1.000000</td>\n",
       "    </tr>\n",
       "  </tbody>\n",
       "</table>\n",
       "</div>"
      ],
      "text/plain": [
       "               toxic\n",
       "count  159571.000000\n",
       "mean        0.101679\n",
       "std         0.302226\n",
       "min         0.000000\n",
       "25%         0.000000\n",
       "50%         0.000000\n",
       "75%         0.000000\n",
       "max         1.000000"
      ]
     },
     "execution_count": 4,
     "metadata": {},
     "output_type": "execute_result"
    }
   ],
   "source": [
    "data.describe()"
   ]
  },
  {
   "cell_type": "markdown",
   "metadata": {},
   "source": [
    "Данные выглядят нормально, однако есть дисбаланс классов(только каждый 10-ый комментарий токсичный). Будем с этим что-то делать."
   ]
  },
  {
   "cell_type": "markdown",
   "metadata": {},
   "source": [
    "### Лемматизация текста"
   ]
  },
  {
   "cell_type": "markdown",
   "metadata": {},
   "source": [
    "Функция для очистки текста от знаков препинания и лишних символов."
   ]
  },
  {
   "cell_type": "code",
   "execution_count": 5,
   "metadata": {},
   "outputs": [],
   "source": [
    "def clear_text(row):\n",
    "    sub_text = re.sub(r'[^a-zA-Z ]', ' ', row['text'])\n",
    "    split_text = sub_text.split()\n",
    "    return  \" \".join(split_text)"
   ]
  },
  {
   "cell_type": "markdown",
   "metadata": {},
   "source": [
    "Оч крутая штука, которую нашёл на просторах интернета, когда нужно было ускорить лемматизацию.(Одна итерация == 1 секунда) Склеивает тексты в большие тексты, после чего лемматизирует их, а потом обратно разделяет. Как я понял из статейки, то Mystem работает с внешней памятью, поэтому уменьшив количество таких обращений мы невероятно сильно ускорили лемматизацию.(Отрабатывает примерно за 3 минуты == 180 секунд, если считать итерацию за одну секунду, то 160*10^3/180 почти на три порядка буст.\n",
    "Статья про ускорение лемматизации, откуда взял эту функцию(изменил только одну строчку, чтобы происходила обратная склейка в строки, а не возвращался список списков слов):https://habr.com/ru/post/503420/"
   ]
  },
  {
   "cell_type": "code",
   "execution_count": 6,
   "metadata": {},
   "outputs": [],
   "source": [
    "def FWordNetLemmatizer(texts):\n",
    "    lol = lambda lst, sz: [lst[i:i+sz] for i in range(0, len(lst), sz)]\n",
    "    txtpart = lol(texts, 5000)\n",
    "    res = []\n",
    "    i = 0\n",
    "    for txtp in txtpart:\n",
    "        print(\"Iter\")\n",
    "        alltexts = ' '.join([txt + ' кот ' for txt in txtp])\n",
    "        alltexts = nltk.word_tokenize(alltexts)\n",
    "        words = [mystem.lemmatize(w) for w in alltexts]\n",
    "        doc = []\n",
    "        for txt in words:\n",
    "            if txt != '\\n' and txt.strip() != '':\n",
    "                if txt == 'кот':\n",
    "                    res.append(\" \".join(doc))\n",
    "                    doc = []\n",
    "                else:\n",
    "                    doc.append(txt)\n",
    "    return res"
   ]
  },
  {
   "cell_type": "markdown",
   "metadata": {},
   "source": [
    "Подчищаем комментарии."
   ]
  },
  {
   "cell_type": "code",
   "execution_count": 7,
   "metadata": {},
   "outputs": [],
   "source": [
    "data['clear_text'] = data.apply(clear_text, axis = 1)"
   ]
  },
  {
   "cell_type": "markdown",
   "metadata": {},
   "source": [
    "***Проверка на разделитель***"
   ]
  },
  {
   "cell_type": "code",
   "execution_count": 8,
   "metadata": {},
   "outputs": [],
   "source": [
    "string = data['clear_text'].str.cat(sep = ' ')"
   ]
  },
  {
   "cell_type": "code",
   "execution_count": 9,
   "metadata": {},
   "outputs": [
    {
     "data": {
      "text/plain": [
       "-1"
      ]
     },
     "execution_count": 9,
     "metadata": {},
     "output_type": "execute_result"
    }
   ],
   "source": [
    "string.find(' кот ')"
   ]
  },
  {
   "cell_type": "markdown",
   "metadata": {},
   "source": [
    "Отлично, мы удостоверились, что русского слова кот нет в комментариях(мы их заранее почистили), а также мы используем короткое слово, являющееся леммой, чтобы было меньше нагрузки и при лемматизации слово не пропало."
   ]
  },
  {
   "cell_type": "markdown",
   "metadata": {},
   "source": [
    "***Собственно лемматизация***"
   ]
  },
  {
   "cell_type": "code",
   "execution_count": 11,
   "metadata": {},
   "outputs": [],
   "source": [
    "texts = list(data['clear_text'])"
   ]
  },
  {
   "cell_type": "code",
   "execution_count": 12,
   "metadata": {
    "scrolled": true
   },
   "outputs": [
    {
     "data": {
      "text/plain": [
       "'Fair use rationale for Image Wonju jpg Thanks for uploading Image Wonju jpg I notice the image page specifies that the image is being used under fair use but there is no explanation or rationale as to why its use in Wikipedia articles constitutes fair use In addition to the boilerplate fair use template you must also write out on the image description page a specific explanation or rationale for why using this image in each article is consistent with fair use Please go to the image description page and edit it to include a fair use rationale If you have uploaded other fair use media consider checking that you have specified the fair use rationale on those pages too You can find a list of image pages you have edited by clicking on the my contributions link it is located at the very top of any Wikipedia page when you are logged in and then selecting Image from the dropdown box Note that any fair use images uploaded after May and lacking such an explanation will be deleted one week after they have been uploaded as described on criteria for speedy deletion If you have any questions please ask them at the Media copyright questions page Thank you talk contribs Unspecified source for Image Wonju jpg Thanks for uploading Image Wonju jpg I noticed that the file s description page currently doesn t specify who created the content so the copyright status is unclear If you did not create this file yourself then you will need to specify the owner of the copyright If you obtained it from a website then a link to the website from which it was taken together with a restatement of that website s terms of use of its content is usually sufficient information However if the copyright holder is different from the website s publisher then their copyright should also be acknowledged As well as adding the source please add a proper copyright licensing tag if the file doesn t have one already If you created took the picture audio or video then the tag can be used to release it under the GFDL If you believe the media meets the criteria at Wikipedia Fair use use a tag such as or one of the other tags listed at Wikipedia Image copyright tags Fair use See Wikipedia Image copyright tags for the full list of copyright tags that you can use If you have uploaded other files consider checking that you have specified their source and tagged them too You can find a list of files you have uploaded by following this link Unsourced and untagged images may be deleted one week after they have been tagged as described on criteria for speedy deletion If the image is copyrighted under a non free license per Wikipedia Fair use then the image will be deleted hours after If you have any questions please ask them at the Media copyright questions page Thank you talk contribs'"
      ]
     },
     "execution_count": 12,
     "metadata": {},
     "output_type": "execute_result"
    }
   ],
   "source": [
    "texts[10]"
   ]
  },
  {
   "cell_type": "code",
   "execution_count": 13,
   "metadata": {
    "scrolled": true
   },
   "outputs": [
    {
     "name": "stderr",
     "output_type": "stream",
     "text": [
      "[nltk_data] Downloading package wordnet to /home/jovyan/nltk_data...\n",
      "[nltk_data]   Package wordnet is already up-to-date!\n"
     ]
    },
    {
     "name": "stdout",
     "output_type": "stream",
     "text": [
      "Iter\n",
      "Iter\n",
      "Iter\n",
      "Iter\n",
      "Iter\n",
      "Iter\n",
      "Iter\n",
      "Iter\n",
      "Iter\n",
      "Iter\n",
      "Iter\n",
      "Iter\n",
      "Iter\n",
      "Iter\n",
      "Iter\n",
      "Iter\n",
      "Iter\n",
      "Iter\n",
      "Iter\n",
      "Iter\n",
      "Iter\n",
      "Iter\n",
      "Iter\n",
      "Iter\n",
      "Iter\n",
      "Iter\n",
      "Iter\n",
      "Iter\n",
      "Iter\n",
      "Iter\n",
      "Iter\n",
      "Iter\n"
     ]
    }
   ],
   "source": [
    "nltk.download('wordnet')\n",
    "mystem = WordNetLemmatizer()\n",
    "lemm_text = FWordNetLemmatizer(texts)"
   ]
  },
  {
   "cell_type": "code",
   "execution_count": 14,
   "metadata": {},
   "outputs": [
    {
     "data": {
      "text/plain": [
       "'Fair use rationale for Image Wonju jpg Thanks for uploading Image Wonju jpg I notice the image page specifies that the image is being used under fair use but there is no explanation or rationale a to why it use in Wikipedia article constitutes fair use In addition to the boilerplate fair use template you must also write out on the image description page a specific explanation or rationale for why using this image in each article is consistent with fair use Please go to the image description page and edit it to include a fair use rationale If you have uploaded other fair use medium consider checking that you have specified the fair use rationale on those page too You can find a list of image page you have edited by clicking on the my contribution link it is located at the very top of any Wikipedia page when you are logged in and then selecting Image from the dropdown box Note that any fair use image uploaded after May and lacking such an explanation will be deleted one week after they have been uploaded a described on criterion for speedy deletion If you have any question please ask them at the Media copyright question page Thank you talk contribs Unspecified source for Image Wonju jpg Thanks for uploading Image Wonju jpg I noticed that the file s description page currently doesn t specify who created the content so the copyright status is unclear If you did not create this file yourself then you will need to specify the owner of the copyright If you obtained it from a website then a link to the website from which it wa taken together with a restatement of that website s term of use of it content is usually sufficient information However if the copyright holder is different from the website s publisher then their copyright should also be acknowledged As well a adding the source please add a proper copyright licensing tag if the file doesn t have one already If you created took the picture audio or video then the tag can be used to release it under the GFDL If you believe the medium meet the criterion at Wikipedia Fair use use a tag such a or one of the other tag listed at Wikipedia Image copyright tag Fair use See Wikipedia Image copyright tag for the full list of copyright tag that you can use If you have uploaded other file consider checking that you have specified their source and tagged them too You can find a list of file you have uploaded by following this link Unsourced and untagged image may be deleted one week after they have been tagged a described on criterion for speedy deletion If the image is copyrighted under a non free license per Wikipedia Fair use then the image will be deleted hour after If you have any question please ask them at the Media copyright question page Thank you talk contribs'"
      ]
     },
     "execution_count": 14,
     "metadata": {},
     "output_type": "execute_result"
    }
   ],
   "source": [
    "lemm_text[10]"
   ]
  },
  {
   "cell_type": "markdown",
   "metadata": {},
   "source": [
    "### Выделение тестовой выбрки"
   ]
  },
  {
   "cell_type": "code",
   "execution_count": 15,
   "metadata": {},
   "outputs": [],
   "source": [
    "features_valid, features_test, target_valid, target_test = train_test_split(lemm_text, data['toxic'], test_size = 0.2, random_state = 12345)"
   ]
  },
  {
   "cell_type": "markdown",
   "metadata": {},
   "source": [
    "### Вычисление TF-IDF и удаление стоп слов"
   ]
  },
  {
   "cell_type": "code",
   "execution_count": 16,
   "metadata": {
    "scrolled": true
   },
   "outputs": [
    {
     "name": "stderr",
     "output_type": "stream",
     "text": [
      "[nltk_data] Downloading package stopwords to /home/jovyan/nltk_data...\n",
      "[nltk_data]   Package stopwords is already up-to-date!\n"
     ]
    }
   ],
   "source": [
    "nltk.download('stopwords')\n",
    "stopwords = set(nltk_stopwords.words('english'))\n",
    "\n",
    "count_tf_idf = TfidfVectorizer(stop_words=stopwords)\n",
    "count_tf_idf.fit(features_valid)\n",
    "features_valid = count_tf_idf.transform(features_valid)\n",
    "features_test = count_tf_idf.transform(features_test)"
   ]
  },
  {
   "cell_type": "markdown",
   "metadata": {},
   "source": [
    "Привели наши данные к виду, с которым уже можно работать."
   ]
  },
  {
   "cell_type": "markdown",
   "metadata": {},
   "source": [
    "## Обучение"
   ]
  },
  {
   "cell_type": "markdown",
   "metadata": {},
   "source": [
    "### Модель логистической регрессии"
   ]
  },
  {
   "cell_type": "code",
   "execution_count": 17,
   "metadata": {},
   "outputs": [],
   "source": [
    "score = make_scorer(f1_score, greater_is_better = True)"
   ]
  },
  {
   "cell_type": "code",
   "execution_count": 18,
   "metadata": {},
   "outputs": [
    {
     "name": "stderr",
     "output_type": "stream",
     "text": [
      "/opt/conda/lib/python3.7/site-packages/sklearn/linear_model/logistic.py:432: FutureWarning: Default solver will be changed to 'lbfgs' in 0.22. Specify a solver to silence this warning.\n",
      "  FutureWarning)\n"
     ]
    },
    {
     "name": "stdout",
     "output_type": "stream",
     "text": [
      "0.1 0.7029597798568061\n"
     ]
    },
    {
     "name": "stderr",
     "output_type": "stream",
     "text": [
      "/opt/conda/lib/python3.7/site-packages/sklearn/linear_model/logistic.py:432: FutureWarning: Default solver will be changed to 'lbfgs' in 0.22. Specify a solver to silence this warning.\n",
      "  FutureWarning)\n"
     ]
    },
    {
     "name": "stdout",
     "output_type": "stream",
     "text": [
      "0.12742749857031338 0.7076093722154151\n"
     ]
    },
    {
     "name": "stderr",
     "output_type": "stream",
     "text": [
      "/opt/conda/lib/python3.7/site-packages/sklearn/linear_model/logistic.py:432: FutureWarning: Default solver will be changed to 'lbfgs' in 0.22. Specify a solver to silence this warning.\n",
      "  FutureWarning)\n"
     ]
    },
    {
     "name": "stdout",
     "output_type": "stream",
     "text": [
      "0.16237767391887217 0.7133777240554359\n"
     ]
    },
    {
     "name": "stderr",
     "output_type": "stream",
     "text": [
      "/opt/conda/lib/python3.7/site-packages/sklearn/linear_model/logistic.py:432: FutureWarning: Default solver will be changed to 'lbfgs' in 0.22. Specify a solver to silence this warning.\n",
      "  FutureWarning)\n"
     ]
    },
    {
     "name": "stdout",
     "output_type": "stream",
     "text": [
      "0.20691380811147897 0.717897738362446\n"
     ]
    },
    {
     "name": "stderr",
     "output_type": "stream",
     "text": [
      "/opt/conda/lib/python3.7/site-packages/sklearn/linear_model/logistic.py:432: FutureWarning: Default solver will be changed to 'lbfgs' in 0.22. Specify a solver to silence this warning.\n",
      "  FutureWarning)\n"
     ]
    },
    {
     "name": "stdout",
     "output_type": "stream",
     "text": [
      "0.26366508987303583 0.7234307065370348\n"
     ]
    },
    {
     "name": "stderr",
     "output_type": "stream",
     "text": [
      "/opt/conda/lib/python3.7/site-packages/sklearn/linear_model/logistic.py:432: FutureWarning: Default solver will be changed to 'lbfgs' in 0.22. Specify a solver to silence this warning.\n",
      "  FutureWarning)\n"
     ]
    },
    {
     "name": "stdout",
     "output_type": "stream",
     "text": [
      "0.33598182862837817 0.7278028902668519\n"
     ]
    },
    {
     "name": "stderr",
     "output_type": "stream",
     "text": [
      "/opt/conda/lib/python3.7/site-packages/sklearn/linear_model/logistic.py:432: FutureWarning: Default solver will be changed to 'lbfgs' in 0.22. Specify a solver to silence this warning.\n",
      "  FutureWarning)\n"
     ]
    },
    {
     "name": "stdout",
     "output_type": "stream",
     "text": [
      "0.42813323987193935 0.7327539718517361\n"
     ]
    },
    {
     "name": "stderr",
     "output_type": "stream",
     "text": [
      "/opt/conda/lib/python3.7/site-packages/sklearn/linear_model/logistic.py:432: FutureWarning: Default solver will be changed to 'lbfgs' in 0.22. Specify a solver to silence this warning.\n",
      "  FutureWarning)\n"
     ]
    },
    {
     "name": "stdout",
     "output_type": "stream",
     "text": [
      "0.5455594781168519 0.7371053117787892\n"
     ]
    },
    {
     "name": "stderr",
     "output_type": "stream",
     "text": [
      "/opt/conda/lib/python3.7/site-packages/sklearn/linear_model/logistic.py:432: FutureWarning: Default solver will be changed to 'lbfgs' in 0.22. Specify a solver to silence this warning.\n",
      "  FutureWarning)\n"
     ]
    },
    {
     "name": "stdout",
     "output_type": "stream",
     "text": [
      "0.6951927961775606 0.7425189390029354\n"
     ]
    },
    {
     "name": "stderr",
     "output_type": "stream",
     "text": [
      "/opt/conda/lib/python3.7/site-packages/sklearn/linear_model/logistic.py:432: FutureWarning: Default solver will be changed to 'lbfgs' in 0.22. Specify a solver to silence this warning.\n",
      "  FutureWarning)\n"
     ]
    },
    {
     "name": "stdout",
     "output_type": "stream",
     "text": [
      "0.8858667904100825 0.7448209193377685\n"
     ]
    },
    {
     "name": "stderr",
     "output_type": "stream",
     "text": [
      "/opt/conda/lib/python3.7/site-packages/sklearn/linear_model/logistic.py:432: FutureWarning: Default solver will be changed to 'lbfgs' in 0.22. Specify a solver to silence this warning.\n",
      "  FutureWarning)\n"
     ]
    },
    {
     "name": "stdout",
     "output_type": "stream",
     "text": [
      "1.1288378916846888 0.7484151038214507\n"
     ]
    },
    {
     "name": "stderr",
     "output_type": "stream",
     "text": [
      "/opt/conda/lib/python3.7/site-packages/sklearn/linear_model/logistic.py:432: FutureWarning: Default solver will be changed to 'lbfgs' in 0.22. Specify a solver to silence this warning.\n",
      "  FutureWarning)\n"
     ]
    },
    {
     "name": "stdout",
     "output_type": "stream",
     "text": [
      "1.438449888287663 0.7521917809185098\n"
     ]
    },
    {
     "name": "stderr",
     "output_type": "stream",
     "text": [
      "/opt/conda/lib/python3.7/site-packages/sklearn/linear_model/logistic.py:432: FutureWarning: Default solver will be changed to 'lbfgs' in 0.22. Specify a solver to silence this warning.\n",
      "  FutureWarning)\n"
     ]
    },
    {
     "name": "stdout",
     "output_type": "stream",
     "text": [
      "1.8329807108324356 0.7560262865385323\n"
     ]
    },
    {
     "name": "stderr",
     "output_type": "stream",
     "text": [
      "/opt/conda/lib/python3.7/site-packages/sklearn/linear_model/logistic.py:432: FutureWarning: Default solver will be changed to 'lbfgs' in 0.22. Specify a solver to silence this warning.\n",
      "  FutureWarning)\n"
     ]
    },
    {
     "name": "stdout",
     "output_type": "stream",
     "text": [
      "2.3357214690901213 0.7574415289173473\n"
     ]
    },
    {
     "name": "stderr",
     "output_type": "stream",
     "text": [
      "/opt/conda/lib/python3.7/site-packages/sklearn/linear_model/logistic.py:432: FutureWarning: Default solver will be changed to 'lbfgs' in 0.22. Specify a solver to silence this warning.\n",
      "  FutureWarning)\n"
     ]
    },
    {
     "name": "stdout",
     "output_type": "stream",
     "text": [
      "2.9763514416313175 0.7594432678763149\n"
     ]
    },
    {
     "name": "stderr",
     "output_type": "stream",
     "text": [
      "/opt/conda/lib/python3.7/site-packages/sklearn/linear_model/logistic.py:432: FutureWarning: Default solver will be changed to 'lbfgs' in 0.22. Specify a solver to silence this warning.\n",
      "  FutureWarning)\n"
     ]
    },
    {
     "name": "stdout",
     "output_type": "stream",
     "text": [
      "3.79269019073225 0.7610433174375432\n"
     ]
    },
    {
     "name": "stderr",
     "output_type": "stream",
     "text": [
      "/opt/conda/lib/python3.7/site-packages/sklearn/linear_model/logistic.py:432: FutureWarning: Default solver will be changed to 'lbfgs' in 0.22. Specify a solver to silence this warning.\n",
      "  FutureWarning)\n"
     ]
    },
    {
     "name": "stdout",
     "output_type": "stream",
     "text": [
      "4.832930238571752 0.7625250912748714\n"
     ]
    },
    {
     "name": "stderr",
     "output_type": "stream",
     "text": [
      "/opt/conda/lib/python3.7/site-packages/sklearn/linear_model/logistic.py:432: FutureWarning: Default solver will be changed to 'lbfgs' in 0.22. Specify a solver to silence this warning.\n",
      "  FutureWarning)\n"
     ]
    },
    {
     "name": "stdout",
     "output_type": "stream",
     "text": [
      "6.158482110660261 0.7632114296771859\n"
     ]
    },
    {
     "name": "stderr",
     "output_type": "stream",
     "text": [
      "/opt/conda/lib/python3.7/site-packages/sklearn/linear_model/logistic.py:432: FutureWarning: Default solver will be changed to 'lbfgs' in 0.22. Specify a solver to silence this warning.\n",
      "  FutureWarning)\n"
     ]
    },
    {
     "name": "stdout",
     "output_type": "stream",
     "text": [
      "7.847599703514611 0.7631510736653674\n"
     ]
    },
    {
     "name": "stderr",
     "output_type": "stream",
     "text": [
      "/opt/conda/lib/python3.7/site-packages/sklearn/linear_model/logistic.py:432: FutureWarning: Default solver will be changed to 'lbfgs' in 0.22. Specify a solver to silence this warning.\n",
      "  FutureWarning)\n"
     ]
    },
    {
     "name": "stdout",
     "output_type": "stream",
     "text": [
      "10.0 0.7625360173532072\n",
      "CPU times: user 8min 27s, sys: 6min 24s, total: 14min 51s\n",
      "Wall time: 14min 55s\n"
     ]
    }
   ],
   "source": [
    "%%time\n",
    "best_score = 0\n",
    "\n",
    "for c in np.logspace(-1,1, 20):\n",
    "    model = LogisticRegression(C = c, class_weight = 'balanced', random_state=0)\n",
    "    scores = cross_val_score(model, features_valid, target_valid, scoring = score, cv = 3)\n",
    "    final_score = scores.mean()\n",
    "    print(c, final_score)\n",
    "    if final_score > best_score:\n",
    "        best_score = final_score\n",
    "        best_model = model\n"
   ]
  },
  {
   "cell_type": "markdown",
   "metadata": {},
   "source": [
    "***Вывод***"
   ]
  },
  {
   "cell_type": "markdown",
   "metadata": {},
   "source": [
    "Модель логистической регрессии уже даёт нам нужный результат, при использовании гиперпараметра class_weight = 'balanced', однако нужно протестировать и другие модели.(balanced помогает нам, так как у нас соотношение нетоксичных комментариев к токсичным 9 к 1). Также дефолтный коэффициент регуляризации нам не подходит, его также подобрали."
   ]
  },
  {
   "cell_type": "markdown",
   "metadata": {},
   "source": [
    "### Модель дерева решений"
   ]
  },
  {
   "cell_type": "code",
   "execution_count": 19,
   "metadata": {},
   "outputs": [
    {
     "name": "stdout",
     "output_type": "stream",
     "text": [
      "0.49327105863460513\n",
      "0.5064325958835081\n",
      "0.5322181003026537\n",
      "0.533350976033703\n",
      "0.3696974437024885\n",
      "0.5468992875794675\n",
      "0.47026159892171177\n",
      "0.38094131489625477\n",
      "0.47616035037031246\n",
      "0.4796424157079386\n",
      "0.5700960250557249\n",
      "0.5751789397847156\n",
      "0.5859711710919949\n",
      "0.593442741471319\n",
      "CPU times: user 12min 58s, sys: 0 ns, total: 12min 58s\n",
      "Wall time: 13min 9s\n"
     ]
    }
   ],
   "source": [
    "%%time\n",
    "for depth in range(6,20):\n",
    "    model = DecisionTreeClassifier(random_state=0, max_depth = depth, class_weight = 'balanced')\n",
    "    scores = cross_val_score(model, features_valid, target_valid, scoring = score, cv = 3)\n",
    "    final_score = scores.mean()\n",
    "    print(final_score)\n",
    "    if final_score > best_score:\n",
    "        best_score = final_score\n",
    "        best_model = model"
   ]
  },
  {
   "cell_type": "markdown",
   "metadata": {},
   "source": [
    "***Вывод***"
   ]
  },
  {
   "cell_type": "markdown",
   "metadata": {},
   "source": [
    "Увы, но модель дерева решений намного хуже, чем модель логистической регрессии. Возможно при очень большой глубине дерева мы получим что-то сравнимое с регрессией, но время оучения уже сейчас оставляет желать лучшего, а что будет дальше - сложно представить."
   ]
  },
  {
   "cell_type": "markdown",
   "metadata": {},
   "source": [
    "### Модель случайного леса"
   ]
  },
  {
   "cell_type": "code",
   "execution_count": 20,
   "metadata": {
    "scrolled": true
   },
   "outputs": [
    {
     "name": "stdout",
     "output_type": "stream",
     "text": [
      "0.6118872621262752\n",
      "0.5685085334669602\n",
      "0.6109065741826253\n",
      "0.5740142104177085\n",
      "0.6113743510136328\n",
      "CPU times: user 18min 18s, sys: 0 ns, total: 18min 18s\n",
      "Wall time: 18min 30s\n"
     ]
    }
   ],
   "source": [
    "%%time\n",
    "for est in range(7,12):\n",
    "    model = RandomForestClassifier(n_estimators = est, random_state=0, class_weight = 'balanced')\n",
    "    scores = cross_val_score(model, features_valid, target_valid, scoring = score, cv = 3)\n",
    "    final_score = scores.mean()\n",
    "    print(final_score)\n",
    "    if final_score > best_score:\n",
    "        best_score = final_score\n",
    "        best_model = model"
   ]
  },
  {
   "cell_type": "markdown",
   "metadata": {},
   "source": [
    "***Вывод***"
   ]
  },
  {
   "cell_type": "markdown",
   "metadata": {},
   "source": [
    "Моддель случайного леса немного лучше модели дерева решений, но обучается ещё дольше, а в сревнении с регрессией результаты совсем плохи."
   ]
  },
  {
   "cell_type": "markdown",
   "metadata": {},
   "source": [
    "### Проверка на тестовой выборке"
   ]
  },
  {
   "cell_type": "code",
   "execution_count": 21,
   "metadata": {},
   "outputs": [
    {
     "name": "stderr",
     "output_type": "stream",
     "text": [
      "/opt/conda/lib/python3.7/site-packages/sklearn/linear_model/logistic.py:432: FutureWarning: Default solver will be changed to 'lbfgs' in 0.22. Specify a solver to silence this warning.\n",
      "  FutureWarning)\n"
     ]
    },
    {
     "name": "stdout",
     "output_type": "stream",
     "text": [
      "0.7635125549723365\n"
     ]
    }
   ],
   "source": [
    "best_model.fit(features_valid, target_valid)\n",
    "predicted = best_model.predict(features_test)\n",
    "test_score = f1_score(predicted, target_test)\n",
    "print(test_score)"
   ]
  },
  {
   "cell_type": "markdown",
   "metadata": {},
   "source": [
    "***Вывод***"
   ]
  },
  {
   "cell_type": "markdown",
   "metadata": {},
   "source": [
    "На тестовой выборке наши результаты даже лучше, чем на кросс-валидации. Это может быть связанно с тем, что мы обучили модель на всей выборке, а так как мы использовали cv = 3, то по сути увеличили выборку на 50%."
   ]
  },
  {
   "cell_type": "markdown",
   "metadata": {},
   "source": [
    "## Выводы"
   ]
  },
  {
   "cell_type": "code",
   "execution_count": 22,
   "metadata": {},
   "outputs": [
    {
     "name": "stdout",
     "output_type": "stream",
     "text": [
      "0.9697902158495092\n"
     ]
    },
    {
     "data": {
      "image/png": "[encoded data removed]",
      "text/plain": [
       "<Figure size 432x288 with 1 Axes>"
      ]
     },
     "metadata": {
      "needs_background": "light"
     },
     "output_type": "display_data"
    }
   ],
   "source": [
    "probabilities_test = best_model.predict_proba(features_test)\n",
    "probabilities_one_test = probabilities_test[:, 1]\n",
    "\n",
    "auc_roc = roc_auc_score(target_test, probabilities_one_test)\n",
    "print(auc_roc)\n",
    "fpr, tpr, thresholds = roc_curve(target_test, probabilities_one_test)\n",
    "plt.figure()\n",
    "\n",
    "plt.plot([0, 1], [0, 1], linestyle='--')\n",
    "plt.plot(fpr, tpr)\n",
    "\n",
    "plt.xlim([0,1])\n",
    "plt.ylim([0,1])\n",
    "\n",
    "plt.xlabel(\"False Positive Rate\")\n",
    "plt.ylabel(\"True Positive Rate\")\n",
    "\n",
    "plt.title(\"ROC-кривая\")\n",
    "plt.show()"
   ]
  },
  {
   "cell_type": "markdown",
   "metadata": {},
   "source": [
    "***Вывод***"
   ]
  },
  {
   "cell_type": "markdown",
   "metadata": {},
   "source": [
    "Мы получили требуемое качество модели, хотя и использовали лишь простейшие модели, так как время обучения очень быстро растёт с усложнением модели. Также наша модель имеет \"хороший\", выпуклый график ROC-кривой. "
   ]
  },
  {
   "cell_type": "markdown",
   "metadata": {},
   "source": [
    "***P.S. Вот доказательство, что балансировка классов нам помогает***"
   ]
  },
  {
   "cell_type": "code",
   "execution_count": 23,
   "metadata": {},
   "outputs": [
    {
     "name": "stderr",
     "output_type": "stream",
     "text": [
      "/opt/conda/lib/python3.7/site-packages/sklearn/linear_model/logistic.py:432: FutureWarning: Default solver will be changed to 'lbfgs' in 0.22. Specify a solver to silence this warning.\n",
      "  FutureWarning)\n"
     ]
    },
    {
     "name": "stdout",
     "output_type": "stream",
     "text": [
      "0.7338799850913157\n"
     ]
    }
   ],
   "source": [
    "model = LogisticRegression(random_state=0)\n",
    "model.fit(features_valid, target_valid)\n",
    "predicted = model.predict(features_test)\n",
    "test_score = f1_score(predicted, target_test)\n",
    "print(test_score)"
   ]
  }
 ],
 "metadata": {
  "ExecuteTimeLog": [
   {
    "duration": 783,
    "start_time": "2022-01-12T15:21:30.707Z"
   },
   {
    "duration": 917,
    "start_time": "2022-01-12T15:21:57.773Z"
   },
   {
    "duration": 38,
    "start_time": "2022-01-12T15:27:59.763Z"
   },
   {
    "duration": 24,
    "start_time": "2022-01-12T15:28:16.289Z"
   },
   {
    "duration": 875,
    "start_time": "2022-01-12T15:33:56.056Z"
   },
   {
    "duration": 7703,
    "start_time": "2022-01-12T15:36:54.925Z"
   },
   {
    "duration": 11,
    "start_time": "2022-01-12T15:37:43.601Z"
   },
   {
    "duration": 2880,
    "start_time": "2022-01-12T15:43:59.906Z"
   },
   {
    "duration": 1713,
    "start_time": "2022-01-12T15:55:05.752Z"
   },
   {
    "duration": 879,
    "start_time": "2022-01-12T15:55:07.472Z"
   },
   {
    "duration": 42,
    "start_time": "2022-01-12T15:55:08.354Z"
   },
   {
    "duration": 24,
    "start_time": "2022-01-12T15:55:08.399Z"
   },
   {
    "duration": 6,
    "start_time": "2022-01-12T15:55:08.426Z"
   },
   {
    "duration": 3879,
    "start_time": "2022-01-12T15:55:08.434Z"
   },
   {
    "duration": 5,
    "start_time": "2022-01-12T15:57:10.097Z"
   },
   {
    "duration": 1926,
    "start_time": "2022-01-12T15:57:19.926Z"
   },
   {
    "duration": 870,
    "start_time": "2022-01-12T15:57:21.855Z"
   },
   {
    "duration": 44,
    "start_time": "2022-01-12T15:57:22.728Z"
   },
   {
    "duration": 25,
    "start_time": "2022-01-12T15:57:22.776Z"
   },
   {
    "duration": 7,
    "start_time": "2022-01-12T15:57:22.805Z"
   },
   {
    "duration": 3818,
    "start_time": "2022-01-12T15:57:22.815Z"
   },
   {
    "duration": 81,
    "start_time": "2022-01-12T15:58:46.054Z"
   },
   {
    "duration": 1716,
    "start_time": "2022-01-12T15:59:32.214Z"
   },
   {
    "duration": 841,
    "start_time": "2022-01-12T15:59:33.933Z"
   },
   {
    "duration": 36,
    "start_time": "2022-01-12T15:59:34.778Z"
   },
   {
    "duration": 55,
    "start_time": "2022-01-12T15:59:34.816Z"
   },
   {
    "duration": 6,
    "start_time": "2022-01-12T15:59:34.873Z"
   },
   {
    "duration": 3676,
    "start_time": "2022-01-12T15:59:34.883Z"
   },
   {
    "duration": 1646,
    "start_time": "2022-01-12T16:00:47.945Z"
   },
   {
    "duration": 7,
    "start_time": "2022-01-12T16:03:38.321Z"
   },
   {
    "duration": 1457,
    "start_time": "2022-01-12T16:03:44.700Z"
   },
   {
    "duration": 384,
    "start_time": "2022-01-12T16:04:15.259Z"
   },
   {
    "duration": 791,
    "start_time": "2022-01-12T16:05:45.839Z"
   },
   {
    "duration": 4,
    "start_time": "2022-01-12T16:07:11.610Z"
   },
   {
    "duration": 1838,
    "start_time": "2022-01-12T16:11:20.018Z"
   },
   {
    "duration": 907,
    "start_time": "2022-01-12T16:11:21.862Z"
   },
   {
    "duration": 44,
    "start_time": "2022-01-12T16:11:22.777Z"
   },
   {
    "duration": 65,
    "start_time": "2022-01-12T16:11:22.824Z"
   },
   {
    "duration": 4,
    "start_time": "2022-01-12T16:11:22.892Z"
   },
   {
    "duration": 283259,
    "start_time": "2022-01-12T16:11:22.899Z"
   },
   {
    "duration": 6,
    "start_time": "2022-01-12T16:16:07.538Z"
   },
   {
    "duration": 90077,
    "start_time": "2022-01-12T16:16:08.666Z"
   },
   {
    "duration": 4316,
    "start_time": "2022-01-12T16:18:16.842Z"
   },
   {
    "duration": 8968,
    "start_time": "2022-01-12T16:54:14.783Z"
   },
   {
    "duration": 1527,
    "start_time": "2022-01-12T16:55:55.113Z"
   },
   {
    "duration": 858,
    "start_time": "2022-01-12T16:55:56.643Z"
   },
   {
    "duration": 34,
    "start_time": "2022-01-12T16:55:57.504Z"
   },
   {
    "duration": 46,
    "start_time": "2022-01-12T16:55:57.541Z"
   },
   {
    "duration": 4,
    "start_time": "2022-01-12T16:56:00.499Z"
   },
   {
    "duration": 7,
    "start_time": "2022-01-12T16:56:01.184Z"
   },
   {
    "duration": 6742,
    "start_time": "2022-01-12T16:56:05.973Z"
   },
   {
    "duration": 54,
    "start_time": "2022-01-12T16:56:12.718Z"
   },
   {
    "duration": 196178,
    "start_time": "2022-01-12T16:56:12.775Z"
   },
   {
    "duration": 1030,
    "start_time": "2022-01-12T17:00:17.883Z"
   },
   {
    "duration": 5,
    "start_time": "2022-01-12T17:01:10.400Z"
   },
   {
    "duration": 7,
    "start_time": "2022-01-12T17:03:22.731Z"
   },
   {
    "duration": 6708,
    "start_time": "2022-01-12T17:03:23.077Z"
   },
   {
    "duration": 64,
    "start_time": "2022-01-12T17:03:29.874Z"
   },
   {
    "duration": 144144,
    "start_time": "2022-01-12T17:03:31.485Z"
   },
   {
    "duration": 7,
    "start_time": "2022-01-12T17:05:59.747Z"
   },
   {
    "duration": 72,
    "start_time": "2022-01-12T17:06:05.777Z"
   },
   {
    "duration": 67637,
    "start_time": "2022-01-12T17:06:07.454Z"
   },
   {
    "duration": 25,
    "start_time": "2022-01-12T17:07:29.821Z"
   },
   {
    "duration": 7720,
    "start_time": "2022-01-12T17:07:30.458Z"
   },
   {
    "duration": 42,
    "start_time": "2022-01-12T17:07:38.181Z"
   },
   {
    "duration": 205423,
    "start_time": "2022-01-12T17:07:38.227Z"
   },
   {
    "duration": 1536,
    "start_time": "2022-01-12T17:11:08.172Z"
   },
   {
    "duration": 175,
    "start_time": "2022-01-12T17:22:52.258Z"
   },
   {
    "duration": 5,
    "start_time": "2022-01-12T17:24:08.196Z"
   },
   {
    "duration": 6,
    "start_time": "2022-01-12T17:24:14.514Z"
   },
   {
    "duration": 8,
    "start_time": "2022-01-12T17:24:29.642Z"
   },
   {
    "duration": 5,
    "start_time": "2022-01-12T17:24:42.512Z"
   },
   {
    "duration": 8,
    "start_time": "2022-01-12T17:25:01.692Z"
   },
   {
    "duration": 8344,
    "start_time": "2022-01-12T17:25:04.130Z"
   },
   {
    "duration": 156,
    "start_time": "2022-01-12T17:25:12.477Z"
   },
   {
    "duration": 5,
    "start_time": "2022-01-12T17:25:12.636Z"
   },
   {
    "duration": 82,
    "start_time": "2022-01-12T17:25:12.643Z"
   },
   {
    "duration": 105,
    "start_time": "2022-01-12T17:25:30.427Z"
   },
   {
    "duration": 15,
    "start_time": "2022-01-12T17:25:39.843Z"
   },
   {
    "duration": 66460,
    "start_time": "2022-01-12T17:25:44.849Z"
   },
   {
    "duration": 803,
    "start_time": "2022-01-12T17:26:50.509Z"
   },
   {
    "duration": 802,
    "start_time": "2022-01-12T17:26:50.511Z"
   },
   {
    "duration": 7,
    "start_time": "2022-01-12T17:27:35.883Z"
   },
   {
    "duration": 286048,
    "start_time": "2022-01-12T17:27:39.836Z"
   },
   {
    "duration": 5,
    "start_time": "2022-01-12T17:32:39.920Z"
   },
   {
    "duration": 7,
    "start_time": "2022-01-12T17:33:49.690Z"
   },
   {
    "duration": 6752,
    "start_time": "2022-01-12T17:33:50.984Z"
   },
   {
    "duration": 171,
    "start_time": "2022-01-12T17:33:57.739Z"
   },
   {
    "duration": 6,
    "start_time": "2022-01-12T17:33:57.913Z"
   },
   {
    "duration": 42,
    "start_time": "2022-01-12T17:33:57.980Z"
   },
   {
    "duration": 313016,
    "start_time": "2022-01-12T17:34:00.938Z"
   },
   {
    "duration": 1362,
    "start_time": "2022-01-12T17:39:13.957Z"
   },
   {
    "duration": 334,
    "start_time": "2022-01-12T17:43:22.838Z"
   },
   {
    "duration": 8,
    "start_time": "2022-01-12T17:47:17.120Z"
   },
   {
    "duration": 7198,
    "start_time": "2022-01-12T17:47:19.632Z"
   },
   {
    "duration": 181,
    "start_time": "2022-01-12T17:47:26.833Z"
   },
   {
    "duration": 5,
    "start_time": "2022-01-12T17:47:27.017Z"
   },
   {
    "duration": 80,
    "start_time": "2022-01-12T17:47:27.025Z"
   },
   {
    "duration": 264098,
    "start_time": "2022-01-12T17:47:27.108Z"
   },
   {
    "duration": 811,
    "start_time": "2022-01-12T17:51:50.397Z"
   },
   {
    "duration": 1623,
    "start_time": "2022-01-12T17:52:38.212Z"
   },
   {
    "duration": 864,
    "start_time": "2022-01-12T17:52:39.838Z"
   },
   {
    "duration": 35,
    "start_time": "2022-01-12T17:52:40.705Z"
   },
   {
    "duration": 42,
    "start_time": "2022-01-12T17:52:40.743Z"
   },
   {
    "duration": 5,
    "start_time": "2022-01-12T17:52:40.789Z"
   },
   {
    "duration": 9,
    "start_time": "2022-01-12T17:52:40.797Z"
   },
   {
    "duration": 6933,
    "start_time": "2022-01-12T17:52:40.809Z"
   },
   {
    "duration": 145,
    "start_time": "2022-01-12T17:52:47.746Z"
   },
   {
    "duration": 5,
    "start_time": "2022-01-12T17:52:47.894Z"
   },
   {
    "duration": 57,
    "start_time": "2022-01-12T17:52:47.901Z"
   },
   {
    "duration": 230705,
    "start_time": "2022-01-12T17:52:47.960Z"
   },
   {
    "duration": 1417,
    "start_time": "2022-01-12T17:56:38.668Z"
   },
   {
    "duration": 690,
    "start_time": "2022-01-12T17:56:40.088Z"
   },
   {
    "duration": 1581,
    "start_time": "2022-01-12T17:58:19.738Z"
   },
   {
    "duration": 920,
    "start_time": "2022-01-12T17:58:21.322Z"
   },
   {
    "duration": 44,
    "start_time": "2022-01-12T17:58:22.245Z"
   },
   {
    "duration": 21,
    "start_time": "2022-01-12T17:58:22.292Z"
   },
   {
    "duration": 4,
    "start_time": "2022-01-12T17:58:22.316Z"
   },
   {
    "duration": 8,
    "start_time": "2022-01-12T17:58:22.322Z"
   },
   {
    "duration": 6760,
    "start_time": "2022-01-12T17:58:22.363Z"
   },
   {
    "duration": 190,
    "start_time": "2022-01-12T17:58:29.127Z"
   },
   {
    "duration": 6,
    "start_time": "2022-01-12T17:58:29.320Z"
   },
   {
    "duration": 66,
    "start_time": "2022-01-12T17:58:29.328Z"
   },
   {
    "duration": 6807,
    "start_time": "2022-01-12T17:58:29.397Z"
   },
   {
    "duration": 812,
    "start_time": "2022-01-12T17:58:35.395Z"
   },
   {
    "duration": 811,
    "start_time": "2022-01-12T17:58:35.397Z"
   },
   {
    "duration": 7,
    "start_time": "2022-01-12T17:59:09.631Z"
   },
   {
    "duration": 6623,
    "start_time": "2022-01-12T17:59:10.335Z"
   },
   {
    "duration": 155,
    "start_time": "2022-01-12T17:59:16.969Z"
   },
   {
    "duration": 5,
    "start_time": "2022-01-12T17:59:17.127Z"
   },
   {
    "duration": 67,
    "start_time": "2022-01-12T17:59:17.135Z"
   },
   {
    "duration": 208028,
    "start_time": "2022-01-12T17:59:17.205Z"
   },
   {
    "duration": 35,
    "start_time": "2022-01-12T18:02:45.236Z"
   },
   {
    "duration": 12300,
    "start_time": "2022-01-12T18:03:12.567Z"
   },
   {
    "duration": 6,
    "start_time": "2022-01-12T18:14:11.874Z"
   },
   {
    "duration": 5,
    "start_time": "2022-01-12T18:16:32.270Z"
   },
   {
    "duration": 10201,
    "start_time": "2022-01-12T18:18:58.061Z"
   },
   {
    "duration": 6,
    "start_time": "2022-01-12T18:24:33.273Z"
   },
   {
    "duration": 444,
    "start_time": "2022-01-12T18:25:21.590Z"
   },
   {
    "duration": 5,
    "start_time": "2022-01-12T18:25:43.424Z"
   },
   {
    "duration": 5,
    "start_time": "2022-01-12T18:26:07.612Z"
   },
   {
    "duration": 4,
    "start_time": "2022-01-12T18:26:12.973Z"
   },
   {
    "duration": 5,
    "start_time": "2022-01-12T18:26:20.647Z"
   },
   {
    "duration": 318,
    "start_time": "2022-01-12T18:30:46.567Z"
   },
   {
    "duration": 69,
    "start_time": "2022-01-12T18:30:54.683Z"
   },
   {
    "duration": 4,
    "start_time": "2022-01-12T18:30:59.277Z"
   },
   {
    "duration": 317,
    "start_time": "2022-01-12T18:32:46.009Z"
   },
   {
    "duration": 305,
    "start_time": "2022-01-12T18:32:51.779Z"
   },
   {
    "duration": 25116,
    "start_time": "2022-01-12T18:33:01.520Z"
   },
   {
    "duration": 4,
    "start_time": "2022-01-12T18:33:36.206Z"
   },
   {
    "duration": 24967,
    "start_time": "2022-01-12T18:33:36.369Z"
   },
   {
    "duration": 3,
    "start_time": "2022-01-12T18:34:06.887Z"
   },
   {
    "duration": 4,
    "start_time": "2022-01-12T18:34:38.827Z"
   },
   {
    "duration": 25108,
    "start_time": "2022-01-12T18:34:39.130Z"
   },
   {
    "duration": 26,
    "start_time": "2022-01-12T18:35:47.405Z"
   },
   {
    "duration": 28061,
    "start_time": "2022-01-12T18:38:46.331Z"
   },
   {
    "duration": 24491,
    "start_time": "2022-01-12T18:39:53.335Z"
   },
   {
    "duration": 316003,
    "start_time": "2022-01-12T18:40:17.829Z"
   },
   {
    "duration": 14,
    "start_time": "2022-01-12T18:45:33.835Z"
   },
   {
    "duration": 1168702,
    "start_time": "2022-01-12T18:46:30.481Z"
   },
   {
    "duration": 6,
    "start_time": "2022-01-12T19:05:59.186Z"
   },
   {
    "duration": 120,
    "start_time": "2022-01-12T19:05:59.207Z"
   },
   {
    "duration": 1636,
    "start_time": "2022-01-12T19:22:52.949Z"
   },
   {
    "duration": 833,
    "start_time": "2022-01-12T19:22:54.588Z"
   },
   {
    "duration": 44,
    "start_time": "2022-01-12T19:22:55.424Z"
   },
   {
    "duration": 22,
    "start_time": "2022-01-12T19:22:55.471Z"
   },
   {
    "duration": 4,
    "start_time": "2022-01-12T19:22:55.496Z"
   },
   {
    "duration": 7,
    "start_time": "2022-01-12T19:22:58.726Z"
   },
   {
    "duration": 6996,
    "start_time": "2022-01-12T19:23:01.697Z"
   },
   {
    "duration": 183,
    "start_time": "2022-01-12T19:23:08.696Z"
   },
   {
    "duration": 5,
    "start_time": "2022-01-12T19:23:08.882Z"
   },
   {
    "duration": 73,
    "start_time": "2022-01-12T19:23:08.889Z"
   },
   {
    "duration": 197268,
    "start_time": "2022-01-12T19:23:08.965Z"
   },
   {
    "duration": 46,
    "start_time": "2022-01-12T19:26:26.236Z"
   },
   {
    "duration": 11978,
    "start_time": "2022-01-12T19:26:26.285Z"
   },
   {
    "duration": 6,
    "start_time": "2022-01-12T19:26:38.269Z"
   },
   {
    "duration": 96,
    "start_time": "2022-01-12T19:26:38.278Z"
   },
   {
    "duration": 4,
    "start_time": "2022-01-12T19:26:38.377Z"
   },
   {
    "duration": 25259,
    "start_time": "2022-01-12T19:26:38.383Z"
   },
   {
    "duration": 161372,
    "start_time": "2022-01-12T19:27:03.645Z"
   },
   {
    "duration": 805705,
    "start_time": "2022-01-12T19:29:45.019Z"
   },
   {
    "duration": 7,
    "start_time": "2022-01-12T19:43:10.727Z"
   },
   {
    "duration": 1210,
    "start_time": "2022-01-12T19:43:10.737Z"
   },
   {
    "duration": 812,
    "start_time": "2022-01-12T19:43:11.138Z"
   },
   {
    "duration": 6,
    "start_time": "2022-01-12T19:48:17.643Z"
   },
   {
    "duration": 588,
    "start_time": "2022-01-12T19:48:18.368Z"
   },
   {
    "duration": 6,
    "start_time": "2022-01-12T19:48:35.058Z"
   },
   {
    "duration": 576,
    "start_time": "2022-01-12T19:48:42.956Z"
   },
   {
    "duration": 9,
    "start_time": "2022-01-12T19:50:45.831Z"
   },
   {
    "duration": 6,
    "start_time": "2022-01-12T19:51:04.343Z"
   },
   {
    "duration": 1027,
    "start_time": "2022-01-12T19:51:04.657Z"
   },
   {
    "duration": 402,
    "start_time": "2022-01-12T19:54:27.585Z"
   },
   {
    "duration": 292,
    "start_time": "2022-01-12T19:54:38.023Z"
   },
   {
    "duration": 11570,
    "start_time": "2022-01-12T19:55:00.283Z"
   },
   {
    "duration": 7,
    "start_time": "2022-01-12T19:55:35.267Z"
   },
   {
    "duration": 11211,
    "start_time": "2022-01-12T19:55:41.305Z"
   },
   {
    "duration": 510,
    "start_time": "2022-01-12T19:56:08.750Z"
   },
   {
    "duration": 21,
    "start_time": "2022-01-12T19:58:14.477Z"
   },
   {
    "duration": 5,
    "start_time": "2022-01-12T19:58:37.169Z"
   },
   {
    "duration": 6,
    "start_time": "2022-01-12T19:59:17.725Z"
   },
   {
    "duration": 5,
    "start_time": "2022-01-12T19:59:27.635Z"
   },
   {
    "duration": 803,
    "start_time": "2022-01-12T20:00:53.363Z"
   },
   {
    "duration": 286,
    "start_time": "2022-01-12T20:01:19.437Z"
   },
   {
    "duration": 9,
    "start_time": "2022-01-12T20:01:29.529Z"
   },
   {
    "duration": 5,
    "start_time": "2022-01-12T20:04:20.468Z"
   },
   {
    "duration": 5,
    "start_time": "2022-01-12T20:04:33.852Z"
   },
   {
    "duration": 6,
    "start_time": "2022-01-12T20:04:39.948Z"
   },
   {
    "duration": 504,
    "start_time": "2022-01-12T20:05:22.164Z"
   },
   {
    "duration": 26,
    "start_time": "2022-01-12T20:06:32.140Z"
   },
   {
    "duration": 5,
    "start_time": "2022-01-12T20:07:22.749Z"
   },
   {
    "duration": 9,
    "start_time": "2022-01-12T20:07:26.384Z"
   },
   {
    "duration": 1249,
    "start_time": "2022-01-12T20:07:54.772Z"
   },
   {
    "duration": 44,
    "start_time": "2022-01-12T20:08:14.782Z"
   },
   {
    "duration": 6,
    "start_time": "2022-01-12T20:08:43.885Z"
   },
   {
    "duration": 46,
    "start_time": "2022-01-12T20:08:49.768Z"
   },
   {
    "duration": 7,
    "start_time": "2022-01-12T20:08:56.261Z"
   },
   {
    "duration": 478,
    "start_time": "2022-01-12T20:10:42.899Z"
   },
   {
    "duration": 44,
    "start_time": "2022-01-12T20:10:46.734Z"
   },
   {
    "duration": 7,
    "start_time": "2022-01-12T20:11:08.270Z"
   },
   {
    "duration": 6,
    "start_time": "2022-01-12T20:11:16.619Z"
   },
   {
    "duration": 303,
    "start_time": "2022-01-12T20:11:50.797Z"
   },
   {
    "duration": 9,
    "start_time": "2022-01-12T20:14:58.277Z"
   },
   {
    "duration": 6,
    "start_time": "2022-01-12T20:15:19.510Z"
   },
   {
    "duration": 404,
    "start_time": "2022-01-12T20:16:00.666Z"
   },
   {
    "duration": 81,
    "start_time": "2022-01-12T20:16:17.226Z"
   },
   {
    "duration": 6,
    "start_time": "2022-01-12T20:16:46.108Z"
   },
   {
    "duration": 719,
    "start_time": "2022-01-12T20:16:46.982Z"
   },
   {
    "duration": 6,
    "start_time": "2022-01-12T20:17:17.585Z"
   },
   {
    "duration": 849,
    "start_time": "2022-01-12T20:17:18.251Z"
   },
   {
    "duration": 28,
    "start_time": "2022-01-12T20:18:55.632Z"
   },
   {
    "duration": 6,
    "start_time": "2022-01-12T20:21:53.916Z"
   },
   {
    "duration": 10508,
    "start_time": "2022-01-12T20:21:54.434Z"
   },
   {
    "duration": 99,
    "start_time": "2022-01-12T20:22:32.028Z"
   },
   {
    "duration": 6,
    "start_time": "2022-01-12T20:22:36.109Z"
   },
   {
    "duration": 830,
    "start_time": "2022-01-12T20:22:36.298Z"
   },
   {
    "duration": 5,
    "start_time": "2022-01-12T20:24:26.898Z"
   },
   {
    "duration": 807,
    "start_time": "2022-01-12T20:24:27.237Z"
   },
   {
    "duration": 138,
    "start_time": "2022-01-12T20:24:50.364Z"
   },
   {
    "duration": 6,
    "start_time": "2022-01-12T20:24:57.213Z"
   },
   {
    "duration": 1161,
    "start_time": "2022-01-12T20:24:58.010Z"
   },
   {
    "duration": 6,
    "start_time": "2022-01-12T20:25:57.981Z"
   },
   {
    "duration": 608,
    "start_time": "2022-01-12T20:25:58.373Z"
   },
   {
    "duration": 6,
    "start_time": "2022-01-12T20:28:30.562Z"
   },
   {
    "duration": 37,
    "start_time": "2022-01-12T20:28:31.356Z"
   },
   {
    "duration": 6,
    "start_time": "2022-01-12T20:28:55.646Z"
   },
   {
    "duration": 6,
    "start_time": "2022-01-12T20:29:18.264Z"
   },
   {
    "duration": 34,
    "start_time": "2022-01-12T20:29:18.765Z"
   },
   {
    "duration": 7,
    "start_time": "2022-01-12T20:29:19.131Z"
   },
   {
    "duration": 6,
    "start_time": "2022-01-12T20:29:24.508Z"
   },
   {
    "duration": 33,
    "start_time": "2022-01-12T20:29:26.225Z"
   },
   {
    "duration": 5,
    "start_time": "2022-01-12T20:29:26.968Z"
   },
   {
    "duration": 6,
    "start_time": "2022-01-12T20:35:01.910Z"
   },
   {
    "duration": 762,
    "start_time": "2022-01-12T20:35:02.257Z"
   },
   {
    "duration": 44,
    "start_time": "2022-01-12T20:35:03.022Z"
   },
   {
    "duration": 36,
    "start_time": "2022-01-12T20:35:03.069Z"
   },
   {
    "duration": 4,
    "start_time": "2022-01-12T20:35:03.151Z"
   },
   {
    "duration": 7,
    "start_time": "2022-01-12T20:35:03.699Z"
   },
   {
    "duration": 6315,
    "start_time": "2022-01-12T20:35:04.243Z"
   },
   {
    "duration": 152,
    "start_time": "2022-01-12T20:35:10.562Z"
   },
   {
    "duration": 6,
    "start_time": "2022-01-12T20:35:10.716Z"
   },
   {
    "duration": 85,
    "start_time": "2022-01-12T20:35:55.423Z"
   },
   {
    "duration": 6,
    "start_time": "2022-01-12T20:37:37.021Z"
   },
   {
    "duration": 615,
    "start_time": "2022-01-12T20:37:45.327Z"
   },
   {
    "duration": 21,
    "start_time": "2022-01-12T20:38:03.209Z"
   },
   {
    "duration": 569,
    "start_time": "2022-01-12T20:38:05.301Z"
   },
   {
    "duration": 7,
    "start_time": "2022-01-12T20:39:29.398Z"
   },
   {
    "duration": 8,
    "start_time": "2022-01-12T20:39:50.125Z"
   },
   {
    "duration": 6,
    "start_time": "2022-01-12T20:40:13.237Z"
   },
   {
    "duration": 609,
    "start_time": "2022-01-12T20:40:13.467Z"
   },
   {
    "duration": 29,
    "start_time": "2022-01-12T20:41:00.741Z"
   },
   {
    "duration": 11672,
    "start_time": "2022-01-12T20:41:11.741Z"
   },
   {
    "duration": 460,
    "start_time": "2022-01-12T20:43:15.781Z"
   },
   {
    "duration": 1831,
    "start_time": "2022-01-12T20:43:22.939Z"
   },
   {
    "duration": 808,
    "start_time": "2022-01-12T20:43:24.774Z"
   },
   {
    "duration": 33,
    "start_time": "2022-01-12T20:43:25.585Z"
   },
   {
    "duration": 46,
    "start_time": "2022-01-12T20:43:25.621Z"
   },
   {
    "duration": 4,
    "start_time": "2022-01-12T20:43:25.670Z"
   },
   {
    "duration": 8,
    "start_time": "2022-01-12T20:43:31.074Z"
   },
   {
    "duration": 6273,
    "start_time": "2022-01-12T20:43:32.333Z"
   },
   {
    "duration": 162,
    "start_time": "2022-01-12T20:43:38.609Z"
   },
   {
    "duration": 6,
    "start_time": "2022-01-12T20:43:38.774Z"
   },
   {
    "duration": 40,
    "start_time": "2022-01-12T20:43:38.783Z"
   },
   {
    "duration": 197700,
    "start_time": "2022-01-12T20:43:38.825Z"
   },
   {
    "duration": 30,
    "start_time": "2022-01-12T20:47:05.628Z"
   },
   {
    "duration": 2695,
    "start_time": "2022-01-12T20:47:18.557Z"
   },
   {
    "duration": 1594,
    "start_time": "2022-01-12T20:48:41.797Z"
   },
   {
    "duration": 871,
    "start_time": "2022-01-12T20:48:44.480Z"
   },
   {
    "duration": 45,
    "start_time": "2022-01-12T20:48:45.354Z"
   },
   {
    "duration": 21,
    "start_time": "2022-01-12T20:48:45.402Z"
   },
   {
    "duration": 4,
    "start_time": "2022-01-12T20:48:45.534Z"
   },
   {
    "duration": 8,
    "start_time": "2022-01-12T20:48:45.821Z"
   },
   {
    "duration": 6935,
    "start_time": "2022-01-12T20:48:46.234Z"
   },
   {
    "duration": 159,
    "start_time": "2022-01-12T20:48:53.173Z"
   },
   {
    "duration": 4,
    "start_time": "2022-01-12T20:48:53.335Z"
   },
   {
    "duration": 64,
    "start_time": "2022-01-12T20:48:53.342Z"
   },
   {
    "duration": 203888,
    "start_time": "2022-01-12T20:48:53.408Z"
   },
   {
    "duration": 100,
    "start_time": "2022-01-12T20:52:17.299Z"
   },
   {
    "duration": 368,
    "start_time": "2022-01-12T21:10:58.884Z"
   },
   {
    "duration": 4,
    "start_time": "2022-01-12T21:11:09.747Z"
   },
   {
    "duration": 360,
    "start_time": "2022-01-12T21:11:10.748Z"
   },
   {
    "duration": 5,
    "start_time": "2022-01-12T21:11:30.390Z"
   },
   {
    "duration": 839,
    "start_time": "2022-01-12T21:11:30.728Z"
   },
   {
    "duration": 38,
    "start_time": "2022-01-12T21:11:31.570Z"
   },
   {
    "duration": 56,
    "start_time": "2022-01-12T21:11:31.612Z"
   },
   {
    "duration": 6,
    "start_time": "2022-01-12T21:11:34.321Z"
   },
   {
    "duration": 7,
    "start_time": "2022-01-12T21:11:36.604Z"
   },
   {
    "duration": 6387,
    "start_time": "2022-01-12T21:11:37.800Z"
   },
   {
    "duration": 190,
    "start_time": "2022-01-12T21:11:44.190Z"
   },
   {
    "duration": 7,
    "start_time": "2022-01-12T21:11:44.383Z"
   },
   {
    "duration": 46,
    "start_time": "2022-01-12T21:11:44.393Z"
   },
   {
    "duration": 202212,
    "start_time": "2022-01-12T21:11:46.561Z"
   },
   {
    "duration": 11148,
    "start_time": "2022-01-12T21:15:20.248Z"
   },
   {
    "duration": 97,
    "start_time": "2022-01-12T21:15:31.399Z"
   },
   {
    "duration": 5,
    "start_time": "2022-01-12T21:15:31.500Z"
   },
   {
    "duration": 33838,
    "start_time": "2022-01-12T21:15:31.508Z"
   },
   {
    "duration": 35318,
    "start_time": "2022-01-12T21:16:22.567Z"
   },
   {
    "duration": 51075,
    "start_time": "2022-01-12T21:16:57.889Z"
   },
   {
    "duration": 13763,
    "start_time": "2022-01-12T21:17:48.971Z"
   },
   {
    "duration": 158627,
    "start_time": "2022-01-12T21:18:14.514Z"
   },
   {
    "duration": 628539,
    "start_time": "2022-01-12T21:20:53.143Z"
   },
   {
    "duration": 14439,
    "start_time": "2022-01-12T21:37:15.700Z"
   },
   {
    "duration": 14060,
    "start_time": "2022-01-12T21:40:51.912Z"
   },
   {
    "duration": 1574,
    "start_time": "2022-01-12T21:42:13.009Z"
   },
   {
    "duration": 802,
    "start_time": "2022-01-12T21:42:14.586Z"
   },
   {
    "duration": 34,
    "start_time": "2022-01-12T21:42:15.391Z"
   },
   {
    "duration": 46,
    "start_time": "2022-01-12T21:42:15.428Z"
   },
   {
    "duration": 5,
    "start_time": "2022-01-12T21:42:15.476Z"
   },
   {
    "duration": 8,
    "start_time": "2022-01-12T21:42:15.483Z"
   },
   {
    "duration": 6239,
    "start_time": "2022-01-12T21:42:15.493Z"
   },
   {
    "duration": 166,
    "start_time": "2022-01-12T21:42:21.734Z"
   },
   {
    "duration": 5,
    "start_time": "2022-01-12T21:42:21.904Z"
   },
   {
    "duration": 57,
    "start_time": "2022-01-12T21:42:21.911Z"
   },
   {
    "duration": 195129,
    "start_time": "2022-01-12T21:42:21.970Z"
   },
   {
    "duration": 12286,
    "start_time": "2022-01-12T21:45:37.103Z"
   },
   {
    "duration": 94,
    "start_time": "2022-01-12T21:45:49.392Z"
   },
   {
    "duration": 5,
    "start_time": "2022-01-12T21:45:49.489Z"
   },
   {
    "duration": 34034,
    "start_time": "2022-01-12T21:45:49.496Z"
   },
   {
    "duration": 729695,
    "start_time": "2022-01-12T21:46:23.533Z"
   },
   {
    "duration": 1142095,
    "start_time": "2022-01-12T21:58:33.231Z"
   },
   {
    "duration": 14223,
    "start_time": "2022-01-12T22:17:35.330Z"
   },
   {
    "duration": 125,
    "start_time": "2022-01-12T22:34:43.071Z"
   },
   {
    "duration": 482,
    "start_time": "2022-01-12T22:37:37.126Z"
   },
   {
    "duration": 6,
    "start_time": "2022-01-12T22:37:58.874Z"
   },
   {
    "duration": 301,
    "start_time": "2022-01-12T22:38:02.628Z"
   },
   {
    "duration": 7766,
    "start_time": "2022-01-12T22:45:15.086Z"
   },
   {
    "duration": 6,
    "start_time": "2022-01-13T10:47:15.856Z"
   },
   {
    "duration": 740,
    "start_time": "2022-01-13T10:47:16.446Z"
   },
   {
    "duration": 34,
    "start_time": "2022-01-13T10:47:17.188Z"
   },
   {
    "duration": 41,
    "start_time": "2022-01-13T10:47:17.224Z"
   },
   {
    "duration": 4,
    "start_time": "2022-01-13T10:47:19.135Z"
   },
   {
    "duration": 8,
    "start_time": "2022-01-13T10:47:25.573Z"
   },
   {
    "duration": 6481,
    "start_time": "2022-01-13T10:47:27.167Z"
   },
   {
    "duration": 158,
    "start_time": "2022-01-13T10:47:33.651Z"
   },
   {
    "duration": 5,
    "start_time": "2022-01-13T10:47:33.812Z"
   },
   {
    "duration": 61,
    "start_time": "2022-01-13T10:47:33.820Z"
   },
   {
    "duration": 898061,
    "start_time": "2022-01-13T10:47:33.883Z"
   },
   {
    "duration": 7,
    "start_time": "2022-01-13T11:02:41.418Z"
   },
   {
    "duration": 6342,
    "start_time": "2022-01-13T11:02:41.909Z"
   },
   {
    "duration": 141,
    "start_time": "2022-01-13T11:02:48.254Z"
   },
   {
    "duration": 5,
    "start_time": "2022-01-13T11:02:48.398Z"
   },
   {
    "duration": 58,
    "start_time": "2022-01-13T11:02:48.405Z"
   },
   {
    "duration": 196403,
    "start_time": "2022-01-13T11:02:48.466Z"
   },
   {
    "duration": 190404,
    "start_time": "2022-01-13T11:06:35.403Z"
   },
   {
    "duration": 200048,
    "start_time": "2022-01-13T11:09:51.821Z"
   },
   {
    "duration": 7,
    "start_time": "2022-01-13T11:13:56.672Z"
   },
   {
    "duration": 6556,
    "start_time": "2022-01-13T11:13:58.334Z"
   },
   {
    "duration": 167,
    "start_time": "2022-01-13T11:14:04.893Z"
   },
   {
    "duration": 7,
    "start_time": "2022-01-13T11:14:05.064Z"
   },
   {
    "duration": 60,
    "start_time": "2022-01-13T11:14:05.074Z"
   },
   {
    "duration": 185859,
    "start_time": "2022-01-13T11:14:05.137Z"
   },
   {
    "duration": 6,
    "start_time": "2022-01-13T11:19:52.590Z"
   },
   {
    "duration": 5,
    "start_time": "2022-01-13T11:20:04.415Z"
   },
   {
    "duration": 1797,
    "start_time": "2022-01-13T11:20:53.248Z"
   },
   {
    "duration": 820,
    "start_time": "2022-01-13T11:20:55.048Z"
   },
   {
    "duration": 35,
    "start_time": "2022-01-13T11:20:55.871Z"
   },
   {
    "duration": 21,
    "start_time": "2022-01-13T11:20:55.909Z"
   },
   {
    "duration": 4,
    "start_time": "2022-01-13T11:20:59.583Z"
   },
   {
    "duration": 8,
    "start_time": "2022-01-13T11:21:01.678Z"
   },
   {
    "duration": 6735,
    "start_time": "2022-01-13T11:21:02.381Z"
   },
   {
    "duration": 215,
    "start_time": "2022-01-13T11:21:09.118Z"
   },
   {
    "duration": 5,
    "start_time": "2022-01-13T11:21:09.338Z"
   },
   {
    "duration": 65,
    "start_time": "2022-01-13T11:21:09.347Z"
   },
   {
    "duration": 11,
    "start_time": "2022-01-13T11:21:09.415Z"
   },
   {
    "duration": 178669,
    "start_time": "2022-01-13T11:21:09.429Z"
   },
   {
    "duration": 5,
    "start_time": "2022-01-13T11:24:08.101Z"
   },
   {
    "duration": 6,
    "start_time": "2022-01-13T11:25:22.092Z"
   },
   {
    "duration": 5,
    "start_time": "2022-01-13T11:25:30.868Z"
   },
   {
    "duration": 5,
    "start_time": "2022-01-13T11:25:55.458Z"
   },
   {
    "duration": 7,
    "start_time": "2022-01-13T11:40:02.912Z"
   },
   {
    "duration": 7,
    "start_time": "2022-01-13T11:40:13.236Z"
   },
   {
    "duration": 832,
    "start_time": "2022-01-13T11:40:14.098Z"
   },
   {
    "duration": 40,
    "start_time": "2022-01-13T11:40:14.933Z"
   },
   {
    "duration": 20,
    "start_time": "2022-01-13T11:40:14.976Z"
   },
   {
    "duration": 4,
    "start_time": "2022-01-13T11:40:15.758Z"
   },
   {
    "duration": 8,
    "start_time": "2022-01-13T11:40:17.347Z"
   },
   {
    "duration": 7,
    "start_time": "2022-01-13T11:40:27.098Z"
   },
   {
    "duration": 7144,
    "start_time": "2022-01-13T11:40:27.108Z"
   },
   {
    "duration": 178,
    "start_time": "2022-01-13T11:40:34.255Z"
   },
   {
    "duration": 6,
    "start_time": "2022-01-13T11:40:34.436Z"
   },
   {
    "duration": 58,
    "start_time": "2022-01-13T11:40:34.447Z"
   },
   {
    "duration": 21018,
    "start_time": "2022-01-13T11:40:34.509Z"
   },
   {
    "duration": 622,
    "start_time": "2022-01-13T11:41:16.713Z"
   },
   {
    "duration": 2612,
    "start_time": "2022-01-13T11:41:56.831Z"
   },
   {
    "duration": 112,
    "start_time": "2022-01-13T11:42:57.412Z"
   },
   {
    "duration": 8,
    "start_time": "2022-01-13T11:43:15.336Z"
   },
   {
    "duration": 6459,
    "start_time": "2022-01-13T11:43:18.278Z"
   },
   {
    "duration": 187,
    "start_time": "2022-01-13T11:43:24.740Z"
   },
   {
    "duration": 7,
    "start_time": "2022-01-13T11:43:24.930Z"
   },
   {
    "duration": 62,
    "start_time": "2022-01-13T11:43:24.940Z"
   },
   {
    "duration": 98924,
    "start_time": "2022-01-13T11:43:25.005Z"
   },
   {
    "duration": 1111,
    "start_time": "2022-01-13T11:45:02.820Z"
   },
   {
    "duration": 1109,
    "start_time": "2022-01-13T11:45:02.824Z"
   },
   {
    "duration": 48,
    "start_time": "2022-01-13T11:45:08.024Z"
   },
   {
    "duration": 6749,
    "start_time": "2022-01-13T11:45:08.505Z"
   },
   {
    "duration": 175,
    "start_time": "2022-01-13T11:45:15.257Z"
   },
   {
    "duration": 5,
    "start_time": "2022-01-13T11:45:15.436Z"
   },
   {
    "duration": 64,
    "start_time": "2022-01-13T11:45:15.443Z"
   },
   {
    "duration": 137365,
    "start_time": "2022-01-13T11:45:15.510Z"
   },
   {
    "duration": 6,
    "start_time": "2022-01-13T11:47:51.584Z"
   },
   {
    "duration": 5,
    "start_time": "2022-01-13T11:48:00.254Z"
   },
   {
    "duration": 7,
    "start_time": "2022-01-13T11:56:06.140Z"
   },
   {
    "duration": 753,
    "start_time": "2022-01-13T11:56:07.224Z"
   },
   {
    "duration": 39,
    "start_time": "2022-01-13T11:56:08.556Z"
   },
   {
    "duration": 25,
    "start_time": "2022-01-13T11:56:09.591Z"
   },
   {
    "duration": 6,
    "start_time": "2022-01-13T11:56:19.127Z"
   },
   {
    "duration": 10,
    "start_time": "2022-01-13T11:56:42.440Z"
   },
   {
    "duration": 6577,
    "start_time": "2022-01-13T11:56:43.645Z"
   },
   {
    "duration": 158,
    "start_time": "2022-01-13T11:56:50.225Z"
   },
   {
    "duration": 5,
    "start_time": "2022-01-13T11:56:50.386Z"
   },
   {
    "duration": 37,
    "start_time": "2022-01-13T11:56:50.394Z"
   },
   {
    "duration": 46,
    "start_time": "2022-01-13T11:56:53.372Z"
   },
   {
    "duration": 129700,
    "start_time": "2022-01-13T11:57:18.489Z"
   },
   {
    "duration": 6,
    "start_time": "2022-01-13T12:00:00.468Z"
   },
   {
    "duration": 6,
    "start_time": "2022-01-13T12:09:18.595Z"
   },
   {
    "duration": 7,
    "start_time": "2022-01-13T12:09:26.135Z"
   },
   {
    "duration": 110,
    "start_time": "2022-01-13T12:19:09.812Z"
   },
   {
    "duration": 19999,
    "start_time": "2022-01-13T12:20:37.029Z"
   },
   {
    "duration": 4,
    "start_time": "2022-01-13T12:22:34.768Z"
   },
   {
    "duration": 163,
    "start_time": "2022-01-13T12:29:02.930Z"
   },
   {
    "duration": 341410,
    "start_time": "2022-01-13T12:29:13.439Z"
   },
   {
    "duration": 638811,
    "start_time": "2022-01-13T12:35:23.063Z"
   },
   {
    "duration": 21728,
    "start_time": "2022-01-13T12:46:20.761Z"
   },
   {
    "duration": 41767,
    "start_time": "2022-01-13T12:47:19.821Z"
   },
   {
    "duration": 58514,
    "start_time": "2022-01-13T12:48:30.153Z"
   },
   {
    "duration": 5,
    "start_time": "2022-01-13T12:50:30.811Z"
   },
   {
    "duration": 1064003,
    "start_time": "2022-01-13T12:50:31.171Z"
   },
   {
    "duration": 31162,
    "start_time": "2022-01-13T13:11:10.160Z"
   },
   {
    "duration": 7,
    "start_time": "2022-01-13T13:23:41.843Z"
   },
   {
    "duration": 8,
    "start_time": "2022-01-13T13:23:50.803Z"
   },
   {
    "duration": 4,
    "start_time": "2022-01-13T13:31:41.624Z"
   },
   {
    "duration": 337,
    "start_time": "2022-01-13T13:33:36.951Z"
   },
   {
    "duration": 8,
    "start_time": "2022-01-13T13:36:38.503Z"
   },
   {
    "duration": 1070,
    "start_time": "2022-01-13T13:36:39.865Z"
   },
   {
    "duration": 46,
    "start_time": "2022-01-13T13:36:40.938Z"
   },
   {
    "duration": 25,
    "start_time": "2022-01-13T13:36:40.987Z"
   },
   {
    "duration": 6,
    "start_time": "2022-01-13T13:36:42.414Z"
   },
   {
    "duration": 10,
    "start_time": "2022-01-13T13:36:46.484Z"
   },
   {
    "duration": 9559,
    "start_time": "2022-01-13T13:36:47.307Z"
   },
   {
    "duration": 204,
    "start_time": "2022-01-13T13:36:56.869Z"
   },
   {
    "duration": 6,
    "start_time": "2022-01-13T13:36:57.077Z"
   },
   {
    "duration": 6,
    "start_time": "2022-01-13T13:36:57.087Z"
   },
   {
    "duration": 77,
    "start_time": "2022-01-13T13:36:57.095Z"
   },
   {
    "duration": 134792,
    "start_time": "2022-01-13T13:36:57.174Z"
   },
   {
    "duration": 7,
    "start_time": "2022-01-13T13:39:11.969Z"
   },
   {
    "duration": 111,
    "start_time": "2022-01-13T13:39:11.980Z"
   },
   {
    "duration": 9871,
    "start_time": "2022-01-13T13:39:27.128Z"
   },
   {
    "duration": 1857,
    "start_time": "2022-01-13T13:53:13.482Z"
   },
   {
    "duration": 829,
    "start_time": "2022-01-13T13:53:15.342Z"
   },
   {
    "duration": 34,
    "start_time": "2022-01-13T13:53:16.174Z"
   },
   {
    "duration": 52,
    "start_time": "2022-01-13T13:53:16.211Z"
   },
   {
    "duration": 4,
    "start_time": "2022-01-13T13:53:16.266Z"
   },
   {
    "duration": 10,
    "start_time": "2022-01-13T13:53:16.273Z"
   },
   {
    "duration": 6612,
    "start_time": "2022-01-13T13:53:16.286Z"
   },
   {
    "duration": 185,
    "start_time": "2022-01-13T13:53:22.901Z"
   },
   {
    "duration": 6,
    "start_time": "2022-01-13T13:53:23.090Z"
   },
   {
    "duration": 578,
    "start_time": "2022-01-13T13:53:23.099Z"
   },
   {
    "duration": 1151,
    "start_time": "2022-01-13T13:53:22.529Z"
   },
   {
    "duration": 1148,
    "start_time": "2022-01-13T13:53:22.534Z"
   },
   {
    "duration": 1145,
    "start_time": "2022-01-13T13:53:22.539Z"
   },
   {
    "duration": 1146,
    "start_time": "2022-01-13T13:53:22.541Z"
   },
   {
    "duration": 1146,
    "start_time": "2022-01-13T13:53:22.543Z"
   },
   {
    "duration": 1142,
    "start_time": "2022-01-13T13:53:22.549Z"
   },
   {
    "duration": 1141,
    "start_time": "2022-01-13T13:53:22.552Z"
   },
   {
    "duration": 1139,
    "start_time": "2022-01-13T13:53:22.556Z"
   },
   {
    "duration": 1139,
    "start_time": "2022-01-13T13:53:22.559Z"
   },
   {
    "duration": 1139,
    "start_time": "2022-01-13T13:53:22.561Z"
   },
   {
    "duration": 1136,
    "start_time": "2022-01-13T13:53:22.565Z"
   },
   {
    "duration": 1136,
    "start_time": "2022-01-13T13:53:22.568Z"
   },
   {
    "duration": 43,
    "start_time": "2022-01-13T13:55:16.883Z"
   },
   {
    "duration": 6,
    "start_time": "2022-01-13T13:55:17.374Z"
   },
   {
    "duration": 135648,
    "start_time": "2022-01-13T13:55:17.402Z"
   },
   {
    "duration": 10,
    "start_time": "2022-01-13T13:57:33.053Z"
   },
   {
    "duration": 100,
    "start_time": "2022-01-13T13:57:33.066Z"
   },
   {
    "duration": 19630,
    "start_time": "2022-01-13T13:57:33.169Z"
   },
   {
    "duration": 3,
    "start_time": "2022-01-13T13:57:52.802Z"
   },
   {
    "duration": 895529,
    "start_time": "2022-01-13T13:57:52.808Z"
   },
   {
    "duration": 789808,
    "start_time": "2022-01-13T14:12:48.340Z"
   },
   {
    "duration": 1110456,
    "start_time": "2022-01-13T14:25:58.152Z"
   },
   {
    "duration": 24335,
    "start_time": "2022-01-13T14:44:28.611Z"
   },
   {
    "duration": 314,
    "start_time": "2022-01-13T14:44:52.949Z"
   },
   {
    "duration": 9718,
    "start_time": "2022-01-13T14:44:53.266Z"
   }
  ],
  "kernelspec": {
   "display_name": "Python 3 (ipykernel)",
   "language": "python",
   "name": "python3"
  },
  "language_info": {
   "codemirror_mode": {
    "name": "ipython",
    "version": 3
   },
   "file_extension": ".py",
   "mimetype": "text/x-python",
   "name": "python",
   "nbconvert_exporter": "python",
   "pygments_lexer": "ipython3",
   "version": "3.9.7"
  },
  "toc": {
   "base_numbering": 1,
   "nav_menu": {},
   "number_sections": true,
   "sideBar": true,
   "skip_h1_title": true,
   "title_cell": "Содержание",
   "title_sidebar": "Contents",
   "toc_cell": true,
   "toc_position": {
    "height": "calc(100% - 180px)",
    "left": "10px",
    "top": "150px",
    "width": "302.391px"
   },
   "toc_section_display": true,
   "toc_window_display": false
  }
 },
 "nbformat": 4,
 "nbformat_minor": 4
}
